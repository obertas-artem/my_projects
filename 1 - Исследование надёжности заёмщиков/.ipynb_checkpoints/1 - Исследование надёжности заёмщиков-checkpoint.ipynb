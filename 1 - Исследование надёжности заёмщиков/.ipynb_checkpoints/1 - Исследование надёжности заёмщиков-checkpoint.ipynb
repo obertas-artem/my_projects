{
 "cells": [
  {
   "cell_type": "markdown",
   "id": "3e98c9b6",
   "metadata": {},
   "source": [
    "# Исследование надёжности заёмщиков"
   ]
  },
  {
   "cell_type": "markdown",
   "id": "8e526254",
   "metadata": {},
   "source": [
    "Заказчик - кредитный отдел банка. Банк предоставил данные - статистика о платежеспособности клиентов, на основании которых нужно выяснить, влияет ли семейное положение и количество детей клиента на факт погашения кредита в срок. Результаты исследования будут учтены при построении модели кредитного скоринга — специальной системы, которая оценивает способность потенциального заёмщика вернуть кредит банку. Таким образом: \n",
    "\n",
    "**Цель исследования** - Выяснить, влияет ли семейное положение и количество детей клиента на факт погашения кредита в срок.\n",
    "\n",
    "Для удобства исследования выдвинем **гипотезы:**\n",
    "\n",
    "1. Между количеством детей у заемщика и возвратом кредита в срок есть зависимость.(Есть ли зависимость между количеством детей и возвратом кредита в срок?)\n",
    "2. Между семейным положением заемщика и возвратом кредита в срок есть зависимость.(Есть ли зависимость между семейным положением и возвратом кредита в срок?)\n",
    "3. Между уровнем дохода заемщика и возвратом кредита в срок есть зависимость.(Есть ли зависимость между уровнем дохода и возвратом кредита в срок?)\n",
    "4. Разные цели кредита влияют на его возврат в срок.(Как разные цели кредита влияют на его возврат в срок?)\n",
    "\n",
    "**Ход исследования**\n",
    "\n",
    "Данные, которые предоставил банк находятся в файле `data.csv`. Известно, что в данных есть пропущенные значения и аномалии, но насколько данные грязные неясно, поэтому первым этапом исследования будет обзор данных. Далее на этапе предобработки данных нужно будет исправить самые явные ошибки. Таким образом, исследование пройдет в три этапа: \n",
    " 1. Обзор данных.\n",
    " 2. Предобработка данных.\n",
    " 3. Проверка гипотез. "
   ]
  },
  {
   "cell_type": "markdown",
   "id": "34b32149",
   "metadata": {},
   "source": [
    "# Описание данных\n",
    "\n",
    "* `children` — количество детей в семье\n",
    "* `days_employed` — общий трудовой стаж в днях\n",
    "* `dob_years` — возраст клиента в годах\n",
    "* `education` — уровень образования клиента\n",
    "* `education_id` — идентификатор уровня образования\n",
    "* `family_status` — семейное положение\n",
    "* `family_status_id` — идентификатор семейного положения\n",
    "* `gender` — пол клиента\n",
    "* `income_type` — тип занятости\n",
    "* `debt` — имел ли задолженность по возврату кредитов\n",
    "* `total_income` — ежемесячный доход\n",
    "* `purpose` — цель получения кредита"
   ]
  },
  {
   "cell_type": "markdown",
   "id": "93027f00",
   "metadata": {
    "tags": []
   },
   "source": [
    "## 1 Обзор данных"
   ]
  },
  {
   "cell_type": "code",
   "execution_count": 5,
   "id": "7477a770",
   "metadata": {},
   "outputs": [],
   "source": [
    "import pandas as pd\n",
    "import os\n",
    "import numpy as np\n",
    "pd.set_option('float_format', '{:f}'.format)"
   ]
  },
  {
   "cell_type": "code",
   "execution_count": 6,
   "id": "56e4bc87",
   "metadata": {},
   "outputs": [],
   "source": [
    "try:\n",
    "    os.path.exists('/datasets/data.csv')\n",
    "    df_raw = pd.read_csv('/datasets/data.csv')\n",
    "except:\n",
    "    df_raw = pd.read_csv('data.csv')\n",
    "df = df_raw.copy()"
   ]
  },
  {
   "cell_type": "code",
   "execution_count": 7,
   "id": "827f8534",
   "metadata": {},
   "outputs": [
    {
     "data": {
      "text/html": [
       "<div>\n",
       "<style scoped>\n",
       "    .dataframe tbody tr th:only-of-type {\n",
       "        vertical-align: middle;\n",
       "    }\n",
       "\n",
       "    .dataframe tbody tr th {\n",
       "        vertical-align: top;\n",
       "    }\n",
       "\n",
       "    .dataframe thead th {\n",
       "        text-align: right;\n",
       "    }\n",
       "</style>\n",
       "<table border=\"1\" class=\"dataframe\">\n",
       "  <thead>\n",
       "    <tr style=\"text-align: right;\">\n",
       "      <th></th>\n",
       "      <th>children</th>\n",
       "      <th>days_employed</th>\n",
       "      <th>dob_years</th>\n",
       "      <th>education</th>\n",
       "      <th>education_id</th>\n",
       "      <th>family_status</th>\n",
       "      <th>family_status_id</th>\n",
       "      <th>gender</th>\n",
       "      <th>income_type</th>\n",
       "      <th>debt</th>\n",
       "      <th>total_income</th>\n",
       "      <th>purpose</th>\n",
       "    </tr>\n",
       "  </thead>\n",
       "  <tbody>\n",
       "    <tr>\n",
       "      <th>3977</th>\n",
       "      <td>0</td>\n",
       "      <td>363122.181989</td>\n",
       "      <td>66</td>\n",
       "      <td>среднее</td>\n",
       "      <td>1</td>\n",
       "      <td>женат / замужем</td>\n",
       "      <td>0</td>\n",
       "      <td>M</td>\n",
       "      <td>пенсионер</td>\n",
       "      <td>0</td>\n",
       "      <td>52469.440120</td>\n",
       "      <td>покупка недвижимости</td>\n",
       "    </tr>\n",
       "    <tr>\n",
       "      <th>60</th>\n",
       "      <td>1</td>\n",
       "      <td>-2534.462390</td>\n",
       "      <td>48</td>\n",
       "      <td>среднее</td>\n",
       "      <td>1</td>\n",
       "      <td>женат / замужем</td>\n",
       "      <td>0</td>\n",
       "      <td>M</td>\n",
       "      <td>сотрудник</td>\n",
       "      <td>0</td>\n",
       "      <td>129902.283735</td>\n",
       "      <td>заняться образованием</td>\n",
       "    </tr>\n",
       "    <tr>\n",
       "      <th>5681</th>\n",
       "      <td>0</td>\n",
       "      <td>NaN</td>\n",
       "      <td>42</td>\n",
       "      <td>среднее</td>\n",
       "      <td>1</td>\n",
       "      <td>женат / замужем</td>\n",
       "      <td>0</td>\n",
       "      <td>F</td>\n",
       "      <td>сотрудник</td>\n",
       "      <td>0</td>\n",
       "      <td>NaN</td>\n",
       "      <td>автомобиль</td>\n",
       "    </tr>\n",
       "    <tr>\n",
       "      <th>16871</th>\n",
       "      <td>0</td>\n",
       "      <td>-220.923972</td>\n",
       "      <td>50</td>\n",
       "      <td>среднее</td>\n",
       "      <td>1</td>\n",
       "      <td>женат / замужем</td>\n",
       "      <td>0</td>\n",
       "      <td>M</td>\n",
       "      <td>сотрудник</td>\n",
       "      <td>0</td>\n",
       "      <td>86890.747766</td>\n",
       "      <td>покупка жилья</td>\n",
       "    </tr>\n",
       "    <tr>\n",
       "      <th>16987</th>\n",
       "      <td>0</td>\n",
       "      <td>338538.066449</td>\n",
       "      <td>54</td>\n",
       "      <td>среднее</td>\n",
       "      <td>1</td>\n",
       "      <td>гражданский брак</td>\n",
       "      <td>1</td>\n",
       "      <td>F</td>\n",
       "      <td>пенсионер</td>\n",
       "      <td>0</td>\n",
       "      <td>66703.634771</td>\n",
       "      <td>свадьба</td>\n",
       "    </tr>\n",
       "    <tr>\n",
       "      <th>19746</th>\n",
       "      <td>0</td>\n",
       "      <td>NaN</td>\n",
       "      <td>57</td>\n",
       "      <td>среднее</td>\n",
       "      <td>1</td>\n",
       "      <td>женат / замужем</td>\n",
       "      <td>0</td>\n",
       "      <td>F</td>\n",
       "      <td>компаньон</td>\n",
       "      <td>0</td>\n",
       "      <td>NaN</td>\n",
       "      <td>получение образования</td>\n",
       "    </tr>\n",
       "    <tr>\n",
       "      <th>17858</th>\n",
       "      <td>0</td>\n",
       "      <td>349331.304149</td>\n",
       "      <td>53</td>\n",
       "      <td>среднее</td>\n",
       "      <td>1</td>\n",
       "      <td>вдовец / вдова</td>\n",
       "      <td>2</td>\n",
       "      <td>F</td>\n",
       "      <td>пенсионер</td>\n",
       "      <td>0</td>\n",
       "      <td>116136.260674</td>\n",
       "      <td>жилье</td>\n",
       "    </tr>\n",
       "    <tr>\n",
       "      <th>11871</th>\n",
       "      <td>0</td>\n",
       "      <td>-221.044147</td>\n",
       "      <td>54</td>\n",
       "      <td>среднее</td>\n",
       "      <td>1</td>\n",
       "      <td>женат / замужем</td>\n",
       "      <td>0</td>\n",
       "      <td>F</td>\n",
       "      <td>компаньон</td>\n",
       "      <td>0</td>\n",
       "      <td>148638.570112</td>\n",
       "      <td>операции с недвижимостью</td>\n",
       "    </tr>\n",
       "    <tr>\n",
       "      <th>20730</th>\n",
       "      <td>0</td>\n",
       "      <td>-3758.464824</td>\n",
       "      <td>56</td>\n",
       "      <td>среднее</td>\n",
       "      <td>1</td>\n",
       "      <td>женат / замужем</td>\n",
       "      <td>0</td>\n",
       "      <td>F</td>\n",
       "      <td>компаньон</td>\n",
       "      <td>0</td>\n",
       "      <td>116081.565706</td>\n",
       "      <td>образование</td>\n",
       "    </tr>\n",
       "    <tr>\n",
       "      <th>15854</th>\n",
       "      <td>1</td>\n",
       "      <td>-340.850341</td>\n",
       "      <td>26</td>\n",
       "      <td>высшее</td>\n",
       "      <td>0</td>\n",
       "      <td>Не женат / не замужем</td>\n",
       "      <td>4</td>\n",
       "      <td>M</td>\n",
       "      <td>компаньон</td>\n",
       "      <td>0</td>\n",
       "      <td>238277.990736</td>\n",
       "      <td>операции с недвижимостью</td>\n",
       "    </tr>\n",
       "  </tbody>\n",
       "</table>\n",
       "</div>"
      ],
      "text/plain": [
       "       children  days_employed  dob_years education  education_id  \\\n",
       "3977          0  363122.181989         66   среднее             1   \n",
       "60            1   -2534.462390         48   среднее             1   \n",
       "5681          0            NaN         42   среднее             1   \n",
       "16871         0    -220.923972         50   среднее             1   \n",
       "16987         0  338538.066449         54   среднее             1   \n",
       "19746         0            NaN         57   среднее             1   \n",
       "17858         0  349331.304149         53   среднее             1   \n",
       "11871         0    -221.044147         54   среднее             1   \n",
       "20730         0   -3758.464824         56   среднее             1   \n",
       "15854         1    -340.850341         26    высшее             0   \n",
       "\n",
       "               family_status  family_status_id gender income_type  debt  \\\n",
       "3977         женат / замужем                 0      M   пенсионер     0   \n",
       "60           женат / замужем                 0      M   сотрудник     0   \n",
       "5681         женат / замужем                 0      F   сотрудник     0   \n",
       "16871        женат / замужем                 0      M   сотрудник     0   \n",
       "16987       гражданский брак                 1      F   пенсионер     0   \n",
       "19746        женат / замужем                 0      F   компаньон     0   \n",
       "17858         вдовец / вдова                 2      F   пенсионер     0   \n",
       "11871        женат / замужем                 0      F   компаньон     0   \n",
       "20730        женат / замужем                 0      F   компаньон     0   \n",
       "15854  Не женат / не замужем                 4      M   компаньон     0   \n",
       "\n",
       "       total_income                   purpose  \n",
       "3977   52469.440120      покупка недвижимости  \n",
       "60    129902.283735     заняться образованием  \n",
       "5681            NaN                автомобиль  \n",
       "16871  86890.747766             покупка жилья  \n",
       "16987  66703.634771                   свадьба  \n",
       "19746           NaN     получение образования  \n",
       "17858 116136.260674                     жилье  \n",
       "11871 148638.570112  операции с недвижимостью  \n",
       "20730 116081.565706               образование  \n",
       "15854 238277.990736  операции с недвижимостью  "
      ]
     },
     "execution_count": 7,
     "metadata": {},
     "output_type": "execute_result"
    }
   ],
   "source": [
    "#получаем случайные 10 строк таблицы df \n",
    "df.sample(10, random_state=150)"
   ]
  },
  {
   "cell_type": "code",
   "execution_count": 8,
   "id": "ab45af82",
   "metadata": {},
   "outputs": [
    {
     "name": "stdout",
     "output_type": "stream",
     "text": [
      "<class 'pandas.core.frame.DataFrame'>\n",
      "RangeIndex: 21525 entries, 0 to 21524\n",
      "Data columns (total 12 columns):\n",
      " #   Column            Non-Null Count  Dtype  \n",
      "---  ------            --------------  -----  \n",
      " 0   children          21525 non-null  int64  \n",
      " 1   days_employed     19351 non-null  float64\n",
      " 2   dob_years         21525 non-null  int64  \n",
      " 3   education         21525 non-null  object \n",
      " 4   education_id      21525 non-null  int64  \n",
      " 5   family_status     21525 non-null  object \n",
      " 6   family_status_id  21525 non-null  int64  \n",
      " 7   gender            21525 non-null  object \n",
      " 8   income_type       21525 non-null  object \n",
      " 9   debt              21525 non-null  int64  \n",
      " 10  total_income      19351 non-null  float64\n",
      " 11  purpose           21525 non-null  object \n",
      "dtypes: float64(2), int64(5), object(5)\n",
      "memory usage: 2.0+ MB\n"
     ]
    }
   ],
   "source": [
    "#получение общей информации о данных в таблице df\n",
    "df.info()"
   ]
  },
  {
   "cell_type": "markdown",
   "id": "1b470f09",
   "metadata": {},
   "source": [
    "В таблице 12 столбцов, в таблице присутствует два столбца с типом данных - `float64`, пять - `int64` и еще пять - `object`.\n",
    "Согласно документации к данным:\n",
    "* `children` — количество детей в семье\n",
    "* `days_employed` — общий трудовой стаж в днях\n",
    "* `dob_years` — возраст клиента в годах\n",
    "* `education` — уровень образования клиента\n",
    "* `education_id` — идентификатор уровня образования\n",
    "* `family_status` — семейное положение\n",
    "* `family_status_id` — идентификатор семейного положения\n",
    "* `gender` — пол клиента\n",
    "* `income_type` — тип занятости\n",
    "* `debt` — имел ли задолженность по возврату кредитов\n",
    "* `total_income` — ежемесячный доход\n",
    "* `purpose` — цель получения кредита\n",
    "\n",
    "В столбцах `days_employed` и `total_income` есть пропуски, узнаем сколько:"
   ]
  },
  {
   "cell_type": "code",
   "execution_count": 9,
   "id": "cd362c18",
   "metadata": {},
   "outputs": [
    {
     "data": {
      "text/plain": [
       "children           0.000000\n",
       "days_employed      0.100999\n",
       "dob_years          0.000000\n",
       "education          0.000000\n",
       "education_id       0.000000\n",
       "family_status      0.000000\n",
       "family_status_id   0.000000\n",
       "gender             0.000000\n",
       "income_type        0.000000\n",
       "debt               0.000000\n",
       "total_income       0.100999\n",
       "purpose            0.000000\n",
       "dtype: float64"
      ]
     },
     "execution_count": 9,
     "metadata": {},
     "output_type": "execute_result"
    }
   ],
   "source": [
    "#df.isna().sum()/len(df)\n",
    "df.isna().mean()"
   ]
  },
  {
   "cell_type": "markdown",
   "id": "a24d0ffa",
   "metadata": {},
   "source": [
    "В столбце `days_employed` 10.1% данных отсутствует\n",
    "\n",
    "В столбце `total_income` 10.1% данных отсутствует"
   ]
  },
  {
   "cell_type": "code",
   "execution_count": 10,
   "id": "e40aa278",
   "metadata": {},
   "outputs": [
    {
     "data": {
      "text/plain": [
       "children            2174\n",
       "days_employed          0\n",
       "dob_years           2174\n",
       "education           2174\n",
       "education_id        2174\n",
       "family_status       2174\n",
       "family_status_id    2174\n",
       "gender              2174\n",
       "income_type         2174\n",
       "debt                2174\n",
       "total_income           0\n",
       "purpose             2174\n",
       "dtype: int64"
      ]
     },
     "execution_count": 10,
     "metadata": {},
     "output_type": "execute_result"
    }
   ],
   "source": [
    "#Проверим, что строки с пропусками в двух столбцах совпадают:\n",
    "df.loc[(df['days_employed'].isna()) & (df['total_income'].isna())].count()"
   ]
  },
  {
   "cell_type": "code",
   "execution_count": 11,
   "id": "ad100bdf",
   "metadata": {},
   "outputs": [],
   "source": [
    "#Возможно между пропусками есть какая-то связь, напишем функцию:\n",
    "try:\n",
    "    def nan_reason(nan_column,reason_column):\n",
    "        a = df.loc[df[nan_column].isnull()][reason_column].value_counts()\n",
    "        return(a)\n",
    "except:\n",
    "    print('Что-то пошло не так')"
   ]
  },
  {
   "cell_type": "code",
   "execution_count": null,
   "id": "9816de11",
   "metadata": {},
   "outputs": [],
   "source": [
    "#Возможно, есть связь с типо занятости:\n",
    "nan_reason('days_employed', 'income_type')"
   ]
  },
  {
   "cell_type": "code",
   "execution_count": null,
   "id": "afb6e107",
   "metadata": {},
   "outputs": [],
   "source": [
    "#Возможно, есть связь с задолжностями:\n",
    "nan_reason('days_employed', 'debt')"
   ]
  },
  {
   "cell_type": "code",
   "execution_count": null,
   "id": "253afa2f",
   "metadata": {},
   "outputs": [],
   "source": [
    "#Возможно, есть связь с уровнем образования: \n",
    "nan_reason('days_employed', 'education')"
   ]
  },
  {
   "cell_type": "code",
   "execution_count": null,
   "id": "8bef3b40",
   "metadata": {},
   "outputs": [],
   "source": [
    "#Связь с целью кредита:\n",
    "nan_reason('days_employed', 'purpose')"
   ]
  },
  {
   "cell_type": "code",
   "execution_count": null,
   "id": "e635ec6c",
   "metadata": {},
   "outputs": [],
   "source": [
    "#Связь с количеством детей:\n",
    "nan_reason('days_employed','children')"
   ]
  },
  {
   "cell_type": "code",
   "execution_count": null,
   "id": "ae71c9c4",
   "metadata": {},
   "outputs": [],
   "source": [
    "#Связь с возрастом:\n",
    "nan_reason('days_employed', 'dob_years')"
   ]
  },
  {
   "cell_type": "code",
   "execution_count": null,
   "id": "4290cb5d",
   "metadata": {},
   "outputs": [],
   "source": [
    "#Связь с полом:\n",
    "nan_reason('days_employed','gender')"
   ]
  },
  {
   "cell_type": "markdown",
   "id": "5e675a74",
   "metadata": {},
   "source": [
    "Установить связь пропусков в `total_income` и `days_employed` c другими столбцами не удалось. Единственное, что удалось выяснить, что строки с пропусками в `total_income` совпадают с пропусками в `days_employed`."
   ]
  },
  {
   "cell_type": "markdown",
   "id": "06379725",
   "metadata": {},
   "source": [
    " ## 2 Предобработка данных\n"
   ]
  },
  {
   "cell_type": "markdown",
   "id": "967d944e",
   "metadata": {},
   "source": [
    "### 2.1 Пропуски в `total_income`"
   ]
  },
  {
   "cell_type": "markdown",
   "id": "cf10fbe6",
   "metadata": {},
   "source": [
    "В таблице есть два столбца с пропущенными значениями: `days_employed` и `total_income`, пропущенные значения заполнены `NaN`, тип данных `float`. Так как установить связь в пропущенных значениях с другими столбцами не удалось, а единственное, что известно, это, что строки с пропусками в `total_income` совпадают с пропусками в `days_employed`, будем считать, что пропуски не случайные, возможно, заемщики не захотели раскрывать свои доходы. Процентное соотношение данных к таблице в этих стобцах равно `10.1%`. Заполнять будем медианой, так как медиана в отличии от среднего устойчивее к выбросам в данных. Сначала заполним `total_income`, но попробуем предварительно посчитать медиану `total_income` по каждому `income_type`:"
   ]
  },
  {
   "cell_type": "code",
   "execution_count": 15,
   "id": "4f2425bc",
   "metadata": {},
   "outputs": [
    {
     "data": {
      "text/plain": [
       "145017.93753253992"
      ]
     },
     "execution_count": 15,
     "metadata": {},
     "output_type": "execute_result"
    }
   ],
   "source": [
    "#Посмотрим какая медиана по `total_income` до преобразований:\n",
    "df['total_income'].median()"
   ]
  },
  {
   "cell_type": "code",
   "execution_count": 16,
   "id": "3ce9f06f",
   "metadata": {},
   "outputs": [
    {
     "data": {
      "text/plain": [
       "income_type\n",
       "безработный       131339.751676\n",
       "в декрете          53829.130729\n",
       "госслужащий       150447.935283\n",
       "компаньон         172357.950966\n",
       "пенсионер         118514.486412\n",
       "предприниматель   499163.144947\n",
       "сотрудник         142594.396847\n",
       "студент            98201.625314\n",
       "Name: total_income, dtype: float64"
      ]
     },
     "execution_count": 16,
     "metadata": {},
     "output_type": "execute_result"
    }
   ],
   "source": [
    "#Медиана по каждому 'income_type':\n",
    "median_by_income_type = df.groupby('income_type')['total_income'].median()\n",
    "median_by_income_type"
   ]
  },
  {
   "cell_type": "code",
   "execution_count": 17,
   "id": "31af698a",
   "metadata": {},
   "outputs": [
    {
     "data": {
      "text/plain": [
       "сотрудник          11119\n",
       "компаньон           5085\n",
       "пенсионер           3856\n",
       "госслужащий         1459\n",
       "безработный            2\n",
       "предприниматель        2\n",
       "студент                1\n",
       "в декрете              1\n",
       "Name: income_type, dtype: int64"
      ]
     },
     "execution_count": 17,
     "metadata": {},
     "output_type": "execute_result"
    }
   ],
   "source": [
    "df['income_type'].value_counts()"
   ]
  },
  {
   "cell_type": "markdown",
   "id": "b037b402",
   "metadata": {},
   "source": [
    "Мы видим, что все медианные значения по `income_type` выглядят реальными и их можно объяснить. Также видим, что из всего списка заемщиков всего 2 предринимателя, 2 безработных, 1 студент и 1 в декрете, так как на цели исследования это никак не влияет, не будет обращать на это внимание. \n",
    "\n",
    "Приступаем к заполнению `total_income`:\n"
   ]
  },
  {
   "cell_type": "code",
   "execution_count": null,
   "id": "5ac44def",
   "metadata": {},
   "outputs": [],
   "source": [
    "#Для проверки создадим `series` с пропусками в столбце 'total_income' в переменную `total_income_nan_check`:\n",
    "total_income_nan_check = df.loc[df['total_income'].isna()]['total_income']\n",
    "total_income_nan_check"
   ]
  },
  {
   "cell_type": "code",
   "execution_count": 19,
   "id": "1d110498",
   "metadata": {},
   "outputs": [],
   "source": [
    "#Заполняет `total_income`:\n",
    "df['total_income'] = df['total_income'].fillna(df.groupby('income_type')['total_income'].transform('median'))"
   ]
  },
  {
   "cell_type": "code",
   "execution_count": 20,
   "id": "64decde2",
   "metadata": {},
   "outputs": [
    {
     "data": {
      "text/plain": [
       "children               0\n",
       "days_employed       2174\n",
       "dob_years              0\n",
       "education              0\n",
       "education_id           0\n",
       "family_status          0\n",
       "family_status_id       0\n",
       "gender                 0\n",
       "income_type            0\n",
       "debt                   0\n",
       "total_income           0\n",
       "purpose                0\n",
       "dtype: int64"
      ]
     },
     "execution_count": 20,
     "metadata": {},
     "output_type": "execute_result"
    }
   ],
   "source": [
    "#Проверяем, заполнились ли пропуски:\n",
    "df.isna().sum()"
   ]
  },
  {
   "cell_type": "code",
   "execution_count": null,
   "id": "f9bbc68c",
   "metadata": {},
   "outputs": [],
   "source": [
    "#Посмотрим, как заполнились пропуски:\n",
    "qwer = []\n",
    "for ind in total_income_nan_check.index:\n",
    "    qwer.append(df.loc[ind])\n",
    "qwer\n",
    "#красиво не получилось вывести "
   ]
  },
  {
   "cell_type": "code",
   "execution_count": 22,
   "id": "5a3e89b5",
   "metadata": {},
   "outputs": [
    {
     "data": {
      "text/plain": [
       "142594.39684740017"
      ]
     },
     "execution_count": 22,
     "metadata": {},
     "output_type": "execute_result"
    }
   ],
   "source": [
    "#Посмотрим какая медиана по `total_income` после преобразований:\n",
    "df['total_income'].median()"
   ]
  },
  {
   "cell_type": "markdown",
   "id": "b91d6cc3",
   "metadata": {},
   "source": [
    "Пропуски в `total_income` заполнены медианой по группам."
   ]
  },
  {
   "cell_type": "markdown",
   "id": "58fa3b92",
   "metadata": {},
   "source": [
    "### 2.2 Обработка аномалий и заполнение пропусков в `df` и `days_emploed`"
   ]
  },
  {
   "cell_type": "code",
   "execution_count": null,
   "id": "890ed8a5",
   "metadata": {},
   "outputs": [],
   "source": [
    "#начнем с обработки значений в столбцах, для это выведем уникальные значения в каждом столбце:\n",
    "for column in df:\n",
    "    display(df[column].value_counts())\n",
    "    "
   ]
  },
  {
   "cell_type": "markdown",
   "id": "54baadf8",
   "metadata": {},
   "source": [
    "Что нужно обработать: \n",
    "1) В столбце `children` данные распределены между от -1 до 20, часть данных выглядит нереалистично, показатель -1 и 20 выбивается из общего ряда. Так как данный показатель важен для цели исследования, посмотрим какую долю от общего количества данных и какую долю от общего количества детей занимают аномалии.\n",
    "\n",
    "2) В столбце `dob_years` есть показатель с 0, возможно это опечатка с 20 или с 30.\n",
    "\n",
    "3) В `gender` есть одна строка с показателем `XNA`, просто удалим ее.\n",
    "\n",
    "4) В столбце `days_employed` присутствуют отрицательные данные, пропуски, а также есть выбросы, нужно посмотреть поближе, чтобы сказать почему могли возникнуть аномалии. Привести к целочисленному значению.\n",
    "\n",
    "\n",
    "Потом:\n",
    "\n",
    "* В `total_income` привести к целочисленному значению.\n",
    "\n",
    "* Удалить строки дубликаты\n",
    "\n",
    "* В `family_status` данные не дублируются, но нарушен нижний регистр.\n",
    "\n",
    "* В столбце `education` нарушен регистр.\n",
    "\n",
    "* В `family_status` данные не дублируются, но нарушен нижний регистр.\n",
    "\n",
    "* В `purpose` в данных очень много неявных дубликатов."
   ]
  },
  {
   "cell_type": "markdown",
   "id": "da52b16d",
   "metadata": {},
   "source": [
    "#### Обработка `children`"
   ]
  },
  {
   "cell_type": "code",
   "execution_count": 24,
   "id": "9fe7bbf7",
   "metadata": {},
   "outputs": [
    {
     "data": {
      "text/plain": [
       " 0     14149\n",
       " 1      4818\n",
       " 2      2055\n",
       " 3       330\n",
       " 20       76\n",
       "-1        47\n",
       " 4        41\n",
       " 5         9\n",
       "Name: children, dtype: int64"
      ]
     },
     "execution_count": 24,
     "metadata": {},
     "output_type": "execute_result"
    }
   ],
   "source": [
    "df['children'].value_counts()"
   ]
  },
  {
   "cell_type": "code",
   "execution_count": 25,
   "id": "33b4ddad",
   "metadata": {},
   "outputs": [
    {
     "data": {
      "text/plain": [
       "123"
      ]
     },
     "execution_count": 25,
     "metadata": {},
     "output_type": "execute_result"
    }
   ],
   "source": [
    "# Посчитаем количество аномальных данных в столбце `children`:\n",
    "anomaly_children = df.loc[(df['children'] == -1) | (df['children'] == 20)]['children'].count()\n",
    "anomaly_children"
   ]
  },
  {
   "cell_type": "code",
   "execution_count": 26,
   "id": "cba731d5",
   "metadata": {},
   "outputs": [
    {
     "data": {
      "text/plain": [
       "7253"
      ]
     },
     "execution_count": 26,
     "metadata": {},
     "output_type": "execute_result"
    }
   ],
   "source": [
    "# Посчитаем количество правдивых данных с детьми в столбце `children`:\n",
    "not_anomaly_choldren = df.loc[df['children'] != 0]['children'].count() - anomaly_children\n",
    "not_anomaly_choldren"
   ]
  },
  {
   "cell_type": "code",
   "execution_count": 27,
   "id": "9fdf47be",
   "metadata": {},
   "outputs": [
    {
     "name": "stdout",
     "output_type": "stream",
     "text": [
      "Отношение аномалий в `children` ко всем заемщикам равно 0.6%\n",
      "Отношение аномалий в `children` ко всем заемщикам с детьми равно 1.7%\n"
     ]
    }
   ],
   "source": [
    "print('Отношение аномалий в `children` ко всем заемщикам равно {:.1%}'.format(anomaly_children/len(df['children'])))\n",
    "print('Отношение аномалий в `children` ко всем заемщикам с детьми равно {:.1%}'.format(anomaly_children/not_anomaly_choldren))"
   ]
  },
  {
   "cell_type": "markdown",
   "id": "7e3e8d71",
   "metadata": {},
   "source": [
    "Показатель важен, будем считать, что это опечатка, тогда обработаем аномалии по принципу: \n",
    "\n",
    "* -1 это опечатка от 1\n",
    "* 20 это опечатка от 2, так как предыдущий максимальный показатель 5 и между 5 и 20 нет никаких данных. "
   ]
  },
  {
   "cell_type": "code",
   "execution_count": 28,
   "id": "d556dc4b",
   "metadata": {},
   "outputs": [
    {
     "data": {
      "text/plain": [
       "0    14149\n",
       "1     4865\n",
       "2     2131\n",
       "3      330\n",
       "4       41\n",
       "5        9\n",
       "Name: children, dtype: int64"
      ]
     },
     "execution_count": 28,
     "metadata": {},
     "output_type": "execute_result"
    }
   ],
   "source": [
    "# Заменяем значения:\n",
    "df['children'] = df['children'].replace(-1, 1)\n",
    "df['children'] = df['children'].replace(20, 2)\n",
    "#Проверяем:\n",
    "df['children'].value_counts()"
   ]
  },
  {
   "cell_type": "markdown",
   "id": "a8d101e4",
   "metadata": {},
   "source": [
    "#### Обработка `dob_years`"
   ]
  },
  {
   "cell_type": "code",
   "execution_count": 29,
   "id": "f801c066",
   "metadata": {},
   "outputs": [
    {
     "data": {
      "text/plain": [
       "101"
      ]
     },
     "execution_count": 29,
     "metadata": {},
     "output_type": "execute_result"
    }
   ],
   "source": [
    "#Смотрим сколько данных с значением 0:\n",
    "df.loc[df['dob_years'] == 0]['dob_years'].count()"
   ]
  },
  {
   "cell_type": "code",
   "execution_count": 30,
   "id": "d25d75e8",
   "metadata": {},
   "outputs": [
    {
     "name": "stdout",
     "output_type": "stream",
     "text": [
      "Процентное соотношение данных с 0 ко всей таблице равно 0.5%\n"
     ]
    }
   ],
   "source": [
    "print('''Процентное соотношение данных с 0 ко всей таблице равно {:.1%}'''\n",
    "      .format(df.loc[df['dob_years'] == 0]['dob_years'].count()/len(df['dob_years'])))"
   ]
  },
  {
   "cell_type": "markdown",
   "id": "9f3e3bdd",
   "metadata": {},
   "source": [
    "Данные незначительны, к тому же, трудно восстановить такие данные, это может быть опечатка от 20, 30 и тд. Просто удалим данные строчки:"
   ]
  },
  {
   "cell_type": "code",
   "execution_count": 31,
   "id": "d7aa92d2",
   "metadata": {},
   "outputs": [
    {
     "data": {
      "text/plain": [
       "0"
      ]
     },
     "execution_count": 31,
     "metadata": {},
     "output_type": "execute_result"
    }
   ],
   "source": [
    "# Удаляем строчки с `dob_years` = 0:\n",
    "df = df.loc[df['dob_years'] != 0]\n",
    "# Проверяем:\n",
    "df.loc[df['dob_years'] == 0]['dob_years'].count()"
   ]
  },
  {
   "cell_type": "markdown",
   "id": "efc6167d",
   "metadata": {},
   "source": [
    "#### Обработка `gender`"
   ]
  },
  {
   "cell_type": "code",
   "execution_count": 32,
   "id": "09c56f1b",
   "metadata": {},
   "outputs": [
    {
     "data": {
      "text/plain": [
       "F      14164\n",
       "M       7259\n",
       "XNA        1\n",
       "Name: gender, dtype: int64"
      ]
     },
     "execution_count": 32,
     "metadata": {},
     "output_type": "execute_result"
    }
   ],
   "source": [
    "df['gender'].value_counts()"
   ]
  },
  {
   "cell_type": "code",
   "execution_count": 33,
   "id": "c1d9179e",
   "metadata": {},
   "outputs": [],
   "source": [
    "# В данных присутствует один неизвестный пол, просто удалим строчку:\n",
    "df = df.loc[df['gender'] != 'XNA']"
   ]
  },
  {
   "cell_type": "code",
   "execution_count": 34,
   "id": "742c76b3",
   "metadata": {
    "scrolled": true
   },
   "outputs": [
    {
     "data": {
      "text/plain": [
       "F    14164\n",
       "M     7259\n",
       "Name: gender, dtype: int64"
      ]
     },
     "execution_count": 34,
     "metadata": {},
     "output_type": "execute_result"
    }
   ],
   "source": [
    "# Провеярем:\n",
    "df['gender'].value_counts()"
   ]
  },
  {
   "cell_type": "markdown",
   "id": "887b309b",
   "metadata": {},
   "source": [
    "#### Обработка `days_employed`"
   ]
  },
  {
   "cell_type": "markdown",
   "id": "5ec731f0",
   "metadata": {},
   "source": [
    "Будем считать, что отрицательные данные в `days_employed` возникли из за опечатки. Возведем отрицательные значения в абсолютные. Также оценим сколько выбросов в данных. "
   ]
  },
  {
   "cell_type": "code",
   "execution_count": 35,
   "id": "2aef81d0",
   "metadata": {
    "scrolled": true
   },
   "outputs": [
    {
     "data": {
      "text/plain": [
       "children               0\n",
       "days_employed       2164\n",
       "dob_years              0\n",
       "education              0\n",
       "education_id           0\n",
       "family_status          0\n",
       "family_status_id       0\n",
       "gender                 0\n",
       "income_type            0\n",
       "debt                   0\n",
       "total_income           0\n",
       "purpose                0\n",
       "dtype: int64"
      ]
     },
     "execution_count": 35,
     "metadata": {},
     "output_type": "execute_result"
    }
   ],
   "source": [
    "# Узнаем, удалились ли пустые строчки в `days_employed`:\n",
    "df.isna().sum()"
   ]
  },
  {
   "cell_type": "code",
   "execution_count": 36,
   "id": "f077be15",
   "metadata": {},
   "outputs": [
    {
     "name": "stdout",
     "output_type": "stream",
     "text": [
      "Отрицательный процент данных в `days_employed` равен 73.9% \n"
     ]
    }
   ],
   "source": [
    "#Посмотрим какой % данных в столбце 'days_employed' отрицательный:\n",
    "print('Отрицательный процент данных в `days_employed` равен {:.1%} '\n",
    "      .format(df.loc[df['days_employed'] < 0]['days_employed'].count() / len(df['days_employed'])))"
   ]
  },
  {
   "cell_type": "code",
   "execution_count": 37,
   "id": "cd8e198d",
   "metadata": {},
   "outputs": [
    {
     "data": {
      "text/plain": [
       "count    19259.000000\n",
       "mean     66905.789237\n",
       "std     139025.028132\n",
       "min         24.141633\n",
       "25%        926.823974\n",
       "50%       2197.320350\n",
       "75%       5540.399763\n",
       "max     401755.400475\n",
       "Name: days_employed, dtype: float64"
      ]
     },
     "execution_count": 37,
     "metadata": {},
     "output_type": "execute_result"
    }
   ],
   "source": [
    "#Приведем данные к абсолютному значению:\n",
    "df['days_employed'] = abs(df['days_employed'])\n",
    "#Проверим:\n",
    "df['days_employed'].describe()"
   ]
  },
  {
   "cell_type": "markdown",
   "id": "71fb41f0",
   "metadata": {},
   "source": [
    "В данных наблюдаются аномалии по количеству рабочих дней в трудовом стаже. Предположим, что каждый заемщик начал трудовую деятельность в 16 лет, тогда посчитаем, у какого количества заемщиков данные неправдивы:"
   ]
  },
  {
   "cell_type": "code",
   "execution_count": 38,
   "id": "783c50ac",
   "metadata": {},
   "outputs": [
    {
     "data": {
      "text/plain": [
       "3517"
      ]
     },
     "execution_count": 38,
     "metadata": {},
     "output_type": "execute_result"
    }
   ],
   "source": [
    "df.loc[df['days_employed'] > (df['dob_years']-16)*365]['days_employed'].count()"
   ]
  },
  {
   "cell_type": "code",
   "execution_count": 39,
   "id": "a8571a6b",
   "metadata": {},
   "outputs": [
    {
     "name": "stdout",
     "output_type": "stream",
     "text": [
      "Процент выбросов в `days_employed` равен 16.0% \n"
     ]
    }
   ],
   "source": [
    "# Посмотрим процентное соотношение выбросов при условии, что человека с рождения начал трудовую деятельность:\n",
    "print('''Процент выбросов в `days_employed` равен {:.1%} '''\n",
    "      .format(df.loc[df['days_employed'] > (df['dob_years'])*365]['days_employed'].count() / len(df['days_employed'])))"
   ]
  },
  {
   "cell_type": "code",
   "execution_count": 40,
   "id": "26cc122c",
   "metadata": {},
   "outputs": [
    {
     "name": "stdout",
     "output_type": "stream",
     "text": [
      "Процент выбросов в `days_employed` равен 16.4% \n"
     ]
    }
   ],
   "source": [
    "# Процентное отношение выбросов, при условии, что человек начал трудовую деятельность с 16 лет:\n",
    "print('''Процент выбросов в `days_employed` равен {:.1%} '''\n",
    "      .format(df.loc[df['days_employed'] > (df['dob_years']-16)*365]['days_employed'].count() / len(df['days_employed'])))"
   ]
  },
  {
   "cell_type": "code",
   "execution_count": 41,
   "id": "c900a0b9",
   "metadata": {
    "scrolled": true
   },
   "outputs": [
    {
     "data": {
      "text/plain": [
       "children               0\n",
       "days_employed       5681\n",
       "dob_years              0\n",
       "education              0\n",
       "education_id           0\n",
       "family_status          0\n",
       "family_status_id       0\n",
       "gender                 0\n",
       "income_type            0\n",
       "debt                   0\n",
       "total_income           0\n",
       "purpose                0\n",
       "dtype: int64"
      ]
     },
     "execution_count": 41,
     "metadata": {},
     "output_type": "execute_result"
    }
   ],
   "source": [
    "# Пройдемся по столбцу `days_employed` и поменяем все выбросы на `NaN`:\n",
    "for ind in df.index:\n",
    "    if df.loc[ind,'days_employed'] > (df.loc[ind, 'dob_years'] - 16)*365:\n",
    "        df.loc[ind, 'days_employed'] = np.nan\n",
    "# Проверим себя, ранее мы увидили, что после удаления 101 строки с нулевым значением в `dob_years` и 1 строки в `gender`\n",
    "# уменьшилось количество пропусков в `days_employed` и стало равно 2164, а также мы знаем что аномалий \n",
    "# в `days_employed`3835 => после замены аномалий на `NaN` количество пропусков будет равно 2164+3517 = 5681:\n",
    "df.isna().sum()"
   ]
  },
  {
   "cell_type": "markdown",
   "id": "d6222c7f",
   "metadata": {},
   "source": [
    "На данном этапе нужно заполнить пропуски в столбце `days_employed`, попробуем это сделать 3 разными способами, разными по точности: \n",
    "1) Создадим столбец `days_employed_v1`, где пропуски заполним просто медианным значением по всему столбцу.\n",
    "\n",
    "2) Создадим столбец `days_employed_v2`, где пропуски будем заполнять медианным значением по каждому возрасту.\n",
    "\n",
    "3) Создадим столбец `avg_days_employed_on_dob_years`, в котором мы посчитатем сколько каждый человек в среднем работал за год трудовой деятельности, затем возьмем медиану от этого столбца и заполним пропуски путем умножения полученного показателя на количество лет трудовой деятельности. Результат в `days_employed_v3`"
   ]
  },
  {
   "cell_type": "code",
   "execution_count": 42,
   "id": "03bd70ee",
   "metadata": {},
   "outputs": [],
   "source": [
    "df['days_employed_v1'] = df['days_employed'].fillna(df['days_employed'].median())"
   ]
  },
  {
   "cell_type": "code",
   "execution_count": 43,
   "id": "c3c483a5",
   "metadata": {},
   "outputs": [],
   "source": [
    "df['days_employed_v2'] = df['days_employed'].fillna(df.groupby('dob_years')['days_employed'].transform('median'))"
   ]
  },
  {
   "cell_type": "code",
   "execution_count": 44,
   "id": "5651b122",
   "metadata": {},
   "outputs": [],
   "source": [
    "df['avg_days_employed_on_dob_years'] = df['days_employed'] / (df['dob_years']-16)\n",
    "df['days_employed_v3'] = df['days_employed'].fillna(df['avg_days_employed_on_dob_years'].median()*(df['dob_years']-16))"
   ]
  },
  {
   "cell_type": "code",
   "execution_count": 45,
   "id": "c4ffdf74",
   "metadata": {},
   "outputs": [],
   "source": [
    "df = df.drop(columns=['avg_days_employed_on_dob_years'], axis = 1)"
   ]
  },
  {
   "cell_type": "code",
   "execution_count": 46,
   "id": "498e3be0",
   "metadata": {},
   "outputs": [
    {
     "data": {
      "text/html": [
       "<div>\n",
       "<style scoped>\n",
       "    .dataframe tbody tr th:only-of-type {\n",
       "        vertical-align: middle;\n",
       "    }\n",
       "\n",
       "    .dataframe tbody tr th {\n",
       "        vertical-align: top;\n",
       "    }\n",
       "\n",
       "    .dataframe thead th {\n",
       "        text-align: right;\n",
       "    }\n",
       "</style>\n",
       "<table border=\"1\" class=\"dataframe\">\n",
       "  <thead>\n",
       "    <tr style=\"text-align: right;\">\n",
       "      <th></th>\n",
       "      <th>children</th>\n",
       "      <th>days_employed</th>\n",
       "      <th>dob_years</th>\n",
       "      <th>education_id</th>\n",
       "      <th>family_status_id</th>\n",
       "      <th>debt</th>\n",
       "      <th>total_income</th>\n",
       "      <th>days_employed_v1</th>\n",
       "      <th>days_employed_v2</th>\n",
       "      <th>days_employed_v3</th>\n",
       "    </tr>\n",
       "  </thead>\n",
       "  <tbody>\n",
       "    <tr>\n",
       "      <th>count</th>\n",
       "      <td>21423.000000</td>\n",
       "      <td>15742.000000</td>\n",
       "      <td>21423.000000</td>\n",
       "      <td>21423.000000</td>\n",
       "      <td>21423.000000</td>\n",
       "      <td>21423.000000</td>\n",
       "      <td>21423.000000</td>\n",
       "      <td>21423.000000</td>\n",
       "      <td>21423.000000</td>\n",
       "      <td>21423.000000</td>\n",
       "    </tr>\n",
       "    <tr>\n",
       "      <th>mean</th>\n",
       "      <td>0.479671</td>\n",
       "      <td>2315.566043</td>\n",
       "      <td>43.498390</td>\n",
       "      <td>0.817859</td>\n",
       "      <td>0.971293</td>\n",
       "      <td>0.080894</td>\n",
       "      <td>165263.932208</td>\n",
       "      <td>2130.790283</td>\n",
       "      <td>2307.711100</td>\n",
       "      <td>2482.115175</td>\n",
       "    </tr>\n",
       "    <tr>\n",
       "      <th>std</th>\n",
       "      <td>0.755304</td>\n",
       "      <td>2235.452068</td>\n",
       "      <td>12.246495</td>\n",
       "      <td>0.548178</td>\n",
       "      <td>1.419770</td>\n",
       "      <td>0.272679</td>\n",
       "      <td>98154.893805</td>\n",
       "      <td>1940.776862</td>\n",
       "      <td>1954.506535</td>\n",
       "      <td>1996.366886</td>\n",
       "    </tr>\n",
       "    <tr>\n",
       "      <th>min</th>\n",
       "      <td>0.000000</td>\n",
       "      <td>24.141633</td>\n",
       "      <td>19.000000</td>\n",
       "      <td>0.000000</td>\n",
       "      <td>0.000000</td>\n",
       "      <td>0.000000</td>\n",
       "      <td>20667.263793</td>\n",
       "      <td>24.141633</td>\n",
       "      <td>24.141633</td>\n",
       "      <td>24.141633</td>\n",
       "    </tr>\n",
       "    <tr>\n",
       "      <th>25%</th>\n",
       "      <td>0.000000</td>\n",
       "      <td>751.731878</td>\n",
       "      <td>33.000000</td>\n",
       "      <td>1.000000</td>\n",
       "      <td>0.000000</td>\n",
       "      <td>0.000000</td>\n",
       "      <td>107822.087173</td>\n",
       "      <td>1025.636694</td>\n",
       "      <td>1005.572367</td>\n",
       "      <td>975.890080</td>\n",
       "    </tr>\n",
       "    <tr>\n",
       "      <th>50%</th>\n",
       "      <td>0.000000</td>\n",
       "      <td>1618.778311</td>\n",
       "      <td>43.000000</td>\n",
       "      <td>1.000000</td>\n",
       "      <td>0.000000</td>\n",
       "      <td>0.000000</td>\n",
       "      <td>142594.396847</td>\n",
       "      <td>1618.778311</td>\n",
       "      <td>1974.658141</td>\n",
       "      <td>2138.099890</td>\n",
       "    </tr>\n",
       "    <tr>\n",
       "      <th>75%</th>\n",
       "      <td>1.000000</td>\n",
       "      <td>3123.510043</td>\n",
       "      <td>53.000000</td>\n",
       "      <td>1.000000</td>\n",
       "      <td>1.000000</td>\n",
       "      <td>0.000000</td>\n",
       "      <td>195514.663363</td>\n",
       "      <td>2481.888048</td>\n",
       "      <td>2830.361431</td>\n",
       "      <td>3461.093267</td>\n",
       "    </tr>\n",
       "    <tr>\n",
       "      <th>max</th>\n",
       "      <td>5.000000</td>\n",
       "      <td>16119.687737</td>\n",
       "      <td>75.000000</td>\n",
       "      <td>4.000000</td>\n",
       "      <td>4.000000</td>\n",
       "      <td>1.000000</td>\n",
       "      <td>2265604.028723</td>\n",
       "      <td>16119.687737</td>\n",
       "      <td>16119.687737</td>\n",
       "      <td>16119.687737</td>\n",
       "    </tr>\n",
       "  </tbody>\n",
       "</table>\n",
       "</div>"
      ],
      "text/plain": [
       "          children  days_employed    dob_years  education_id  \\\n",
       "count 21423.000000   15742.000000 21423.000000  21423.000000   \n",
       "mean      0.479671    2315.566043    43.498390      0.817859   \n",
       "std       0.755304    2235.452068    12.246495      0.548178   \n",
       "min       0.000000      24.141633    19.000000      0.000000   \n",
       "25%       0.000000     751.731878    33.000000      1.000000   \n",
       "50%       0.000000    1618.778311    43.000000      1.000000   \n",
       "75%       1.000000    3123.510043    53.000000      1.000000   \n",
       "max       5.000000   16119.687737    75.000000      4.000000   \n",
       "\n",
       "       family_status_id         debt   total_income  days_employed_v1  \\\n",
       "count      21423.000000 21423.000000   21423.000000      21423.000000   \n",
       "mean           0.971293     0.080894  165263.932208       2130.790283   \n",
       "std            1.419770     0.272679   98154.893805       1940.776862   \n",
       "min            0.000000     0.000000   20667.263793         24.141633   \n",
       "25%            0.000000     0.000000  107822.087173       1025.636694   \n",
       "50%            0.000000     0.000000  142594.396847       1618.778311   \n",
       "75%            1.000000     0.000000  195514.663363       2481.888048   \n",
       "max            4.000000     1.000000 2265604.028723      16119.687737   \n",
       "\n",
       "       days_employed_v2  days_employed_v3  \n",
       "count      21423.000000      21423.000000  \n",
       "mean        2307.711100       2482.115175  \n",
       "std         1954.506535       1996.366886  \n",
       "min           24.141633         24.141633  \n",
       "25%         1005.572367        975.890080  \n",
       "50%         1974.658141       2138.099890  \n",
       "75%         2830.361431       3461.093267  \n",
       "max        16119.687737      16119.687737  "
      ]
     },
     "execution_count": 46,
     "metadata": {},
     "output_type": "execute_result"
    }
   ],
   "source": [
    "df.describe()"
   ]
  },
  {
   "cell_type": "code",
   "execution_count": 47,
   "id": "0ac5447b",
   "metadata": {},
   "outputs": [
    {
     "data": {
      "text/plain": [
       "1618.778311069244"
      ]
     },
     "execution_count": 47,
     "metadata": {},
     "output_type": "execute_result"
    }
   ],
   "source": [
    "# Медиана первым способом:\n",
    "df['days_employed_v1'].median()"
   ]
  },
  {
   "cell_type": "code",
   "execution_count": 48,
   "id": "a9574b8e",
   "metadata": {},
   "outputs": [
    {
     "data": {
      "text/plain": [
       "1974.6581408064328"
      ]
     },
     "execution_count": 48,
     "metadata": {},
     "output_type": "execute_result"
    }
   ],
   "source": [
    "# Медиана вторым способом:\n",
    "df['days_employed_v2'].median()"
   ]
  },
  {
   "cell_type": "code",
   "execution_count": 49,
   "id": "709bd5d7",
   "metadata": {},
   "outputs": [
    {
     "data": {
      "text/plain": [
       "2138.099889779742"
      ]
     },
     "execution_count": 49,
     "metadata": {},
     "output_type": "execute_result"
    }
   ],
   "source": [
    "# Медиана третьим способом: \n",
    "df['days_employed_v3'].median()"
   ]
  },
  {
   "cell_type": "markdown",
   "id": "56dbf92b",
   "metadata": {},
   "source": [
    "Оценив данные, мне кажется, что самым приближенным показателем является медиана, посчитанная 3им способом. Заполним пропущенные значения в `days_employed` медианой из 3го способа и удалим лишние столбцы."
   ]
  },
  {
   "cell_type": "code",
   "execution_count": 50,
   "id": "ff362f58",
   "metadata": {},
   "outputs": [
    {
     "data": {
      "text/plain": [
       "3405.122047    290\n",
       "3484.310931    283\n",
       "3642.688701    273\n",
       "3246.744277    269\n",
       "3325.933162    264\n",
       "              ... \n",
       "445.286433       1\n",
       "1133.987382      1\n",
       "5730.178239      1\n",
       "429.448441       1\n",
       "1984.507589      1\n",
       "Name: days_employed_v3, Length: 15798, dtype: int64"
      ]
     },
     "execution_count": 50,
     "metadata": {},
     "output_type": "execute_result"
    }
   ],
   "source": [
    "# посмотрим чем будем заполнять:\n",
    "df['days_employed_v3'].value_counts()\n"
   ]
  },
  {
   "cell_type": "code",
   "execution_count": 51,
   "id": "51669117",
   "metadata": {},
   "outputs": [],
   "source": [
    "# Меняем:\n",
    "df['days_employed'] = df['days_employed_v3']\n"
   ]
  },
  {
   "cell_type": "code",
   "execution_count": 52,
   "id": "a45c7b15",
   "metadata": {},
   "outputs": [
    {
     "data": {
      "text/html": [
       "<div>\n",
       "<style scoped>\n",
       "    .dataframe tbody tr th:only-of-type {\n",
       "        vertical-align: middle;\n",
       "    }\n",
       "\n",
       "    .dataframe tbody tr th {\n",
       "        vertical-align: top;\n",
       "    }\n",
       "\n",
       "    .dataframe thead th {\n",
       "        text-align: right;\n",
       "    }\n",
       "</style>\n",
       "<table border=\"1\" class=\"dataframe\">\n",
       "  <thead>\n",
       "    <tr style=\"text-align: right;\">\n",
       "      <th></th>\n",
       "      <th>children</th>\n",
       "      <th>days_employed</th>\n",
       "      <th>dob_years</th>\n",
       "      <th>education_id</th>\n",
       "      <th>family_status_id</th>\n",
       "      <th>debt</th>\n",
       "      <th>total_income</th>\n",
       "      <th>days_employed_v1</th>\n",
       "      <th>days_employed_v2</th>\n",
       "      <th>days_employed_v3</th>\n",
       "    </tr>\n",
       "  </thead>\n",
       "  <tbody>\n",
       "    <tr>\n",
       "      <th>count</th>\n",
       "      <td>21423.000000</td>\n",
       "      <td>21423.000000</td>\n",
       "      <td>21423.000000</td>\n",
       "      <td>21423.000000</td>\n",
       "      <td>21423.000000</td>\n",
       "      <td>21423.000000</td>\n",
       "      <td>21423.000000</td>\n",
       "      <td>21423.000000</td>\n",
       "      <td>21423.000000</td>\n",
       "      <td>21423.000000</td>\n",
       "    </tr>\n",
       "    <tr>\n",
       "      <th>mean</th>\n",
       "      <td>0.479671</td>\n",
       "      <td>2482.115175</td>\n",
       "      <td>43.498390</td>\n",
       "      <td>0.817859</td>\n",
       "      <td>0.971293</td>\n",
       "      <td>0.080894</td>\n",
       "      <td>165263.932208</td>\n",
       "      <td>2130.790283</td>\n",
       "      <td>2307.711100</td>\n",
       "      <td>2482.115175</td>\n",
       "    </tr>\n",
       "    <tr>\n",
       "      <th>std</th>\n",
       "      <td>0.755304</td>\n",
       "      <td>1996.366886</td>\n",
       "      <td>12.246495</td>\n",
       "      <td>0.548178</td>\n",
       "      <td>1.419770</td>\n",
       "      <td>0.272679</td>\n",
       "      <td>98154.893805</td>\n",
       "      <td>1940.776862</td>\n",
       "      <td>1954.506535</td>\n",
       "      <td>1996.366886</td>\n",
       "    </tr>\n",
       "    <tr>\n",
       "      <th>min</th>\n",
       "      <td>0.000000</td>\n",
       "      <td>24.141633</td>\n",
       "      <td>19.000000</td>\n",
       "      <td>0.000000</td>\n",
       "      <td>0.000000</td>\n",
       "      <td>0.000000</td>\n",
       "      <td>20667.263793</td>\n",
       "      <td>24.141633</td>\n",
       "      <td>24.141633</td>\n",
       "      <td>24.141633</td>\n",
       "    </tr>\n",
       "    <tr>\n",
       "      <th>25%</th>\n",
       "      <td>0.000000</td>\n",
       "      <td>975.890080</td>\n",
       "      <td>33.000000</td>\n",
       "      <td>1.000000</td>\n",
       "      <td>0.000000</td>\n",
       "      <td>0.000000</td>\n",
       "      <td>107822.087173</td>\n",
       "      <td>1025.636694</td>\n",
       "      <td>1005.572367</td>\n",
       "      <td>975.890080</td>\n",
       "    </tr>\n",
       "    <tr>\n",
       "      <th>50%</th>\n",
       "      <td>0.000000</td>\n",
       "      <td>2138.099890</td>\n",
       "      <td>43.000000</td>\n",
       "      <td>1.000000</td>\n",
       "      <td>0.000000</td>\n",
       "      <td>0.000000</td>\n",
       "      <td>142594.396847</td>\n",
       "      <td>1618.778311</td>\n",
       "      <td>1974.658141</td>\n",
       "      <td>2138.099890</td>\n",
       "    </tr>\n",
       "    <tr>\n",
       "      <th>75%</th>\n",
       "      <td>1.000000</td>\n",
       "      <td>3461.093267</td>\n",
       "      <td>53.000000</td>\n",
       "      <td>1.000000</td>\n",
       "      <td>1.000000</td>\n",
       "      <td>0.000000</td>\n",
       "      <td>195514.663363</td>\n",
       "      <td>2481.888048</td>\n",
       "      <td>2830.361431</td>\n",
       "      <td>3461.093267</td>\n",
       "    </tr>\n",
       "    <tr>\n",
       "      <th>max</th>\n",
       "      <td>5.000000</td>\n",
       "      <td>16119.687737</td>\n",
       "      <td>75.000000</td>\n",
       "      <td>4.000000</td>\n",
       "      <td>4.000000</td>\n",
       "      <td>1.000000</td>\n",
       "      <td>2265604.028723</td>\n",
       "      <td>16119.687737</td>\n",
       "      <td>16119.687737</td>\n",
       "      <td>16119.687737</td>\n",
       "    </tr>\n",
       "  </tbody>\n",
       "</table>\n",
       "</div>"
      ],
      "text/plain": [
       "          children  days_employed    dob_years  education_id  \\\n",
       "count 21423.000000   21423.000000 21423.000000  21423.000000   \n",
       "mean      0.479671    2482.115175    43.498390      0.817859   \n",
       "std       0.755304    1996.366886    12.246495      0.548178   \n",
       "min       0.000000      24.141633    19.000000      0.000000   \n",
       "25%       0.000000     975.890080    33.000000      1.000000   \n",
       "50%       0.000000    2138.099890    43.000000      1.000000   \n",
       "75%       1.000000    3461.093267    53.000000      1.000000   \n",
       "max       5.000000   16119.687737    75.000000      4.000000   \n",
       "\n",
       "       family_status_id         debt   total_income  days_employed_v1  \\\n",
       "count      21423.000000 21423.000000   21423.000000      21423.000000   \n",
       "mean           0.971293     0.080894  165263.932208       2130.790283   \n",
       "std            1.419770     0.272679   98154.893805       1940.776862   \n",
       "min            0.000000     0.000000   20667.263793         24.141633   \n",
       "25%            0.000000     0.000000  107822.087173       1025.636694   \n",
       "50%            0.000000     0.000000  142594.396847       1618.778311   \n",
       "75%            1.000000     0.000000  195514.663363       2481.888048   \n",
       "max            4.000000     1.000000 2265604.028723      16119.687737   \n",
       "\n",
       "       days_employed_v2  days_employed_v3  \n",
       "count      21423.000000      21423.000000  \n",
       "mean        2307.711100       2482.115175  \n",
       "std         1954.506535       1996.366886  \n",
       "min           24.141633         24.141633  \n",
       "25%         1005.572367        975.890080  \n",
       "50%         1974.658141       2138.099890  \n",
       "75%         2830.361431       3461.093267  \n",
       "max        16119.687737      16119.687737  "
      ]
     },
     "execution_count": 52,
     "metadata": {},
     "output_type": "execute_result"
    }
   ],
   "source": [
    "# Проверяем:\n",
    "df.describe()"
   ]
  },
  {
   "cell_type": "code",
   "execution_count": 53,
   "id": "f036db34",
   "metadata": {},
   "outputs": [],
   "source": [
    "# Удаляем:\n",
    "df = df.drop(columns=['days_employed_v1','days_employed_v2','days_employed_v3'], axis = 1)"
   ]
  },
  {
   "cell_type": "code",
   "execution_count": 54,
   "id": "2210a787",
   "metadata": {},
   "outputs": [
    {
     "data": {
      "text/html": [
       "<div>\n",
       "<style scoped>\n",
       "    .dataframe tbody tr th:only-of-type {\n",
       "        vertical-align: middle;\n",
       "    }\n",
       "\n",
       "    .dataframe tbody tr th {\n",
       "        vertical-align: top;\n",
       "    }\n",
       "\n",
       "    .dataframe thead th {\n",
       "        text-align: right;\n",
       "    }\n",
       "</style>\n",
       "<table border=\"1\" class=\"dataframe\">\n",
       "  <thead>\n",
       "    <tr style=\"text-align: right;\">\n",
       "      <th></th>\n",
       "      <th>children</th>\n",
       "      <th>days_employed</th>\n",
       "      <th>dob_years</th>\n",
       "      <th>education</th>\n",
       "      <th>education_id</th>\n",
       "      <th>family_status</th>\n",
       "      <th>family_status_id</th>\n",
       "      <th>gender</th>\n",
       "      <th>income_type</th>\n",
       "      <th>debt</th>\n",
       "      <th>total_income</th>\n",
       "      <th>purpose</th>\n",
       "    </tr>\n",
       "  </thead>\n",
       "  <tbody>\n",
       "    <tr>\n",
       "      <th>0</th>\n",
       "      <td>1</td>\n",
       "      <td>8437.673028</td>\n",
       "      <td>42</td>\n",
       "      <td>высшее</td>\n",
       "      <td>0</td>\n",
       "      <td>женат / замужем</td>\n",
       "      <td>0</td>\n",
       "      <td>F</td>\n",
       "      <td>сотрудник</td>\n",
       "      <td>0</td>\n",
       "      <td>253875.639453</td>\n",
       "      <td>покупка жилья</td>\n",
       "    </tr>\n",
       "    <tr>\n",
       "      <th>1</th>\n",
       "      <td>1</td>\n",
       "      <td>4024.803754</td>\n",
       "      <td>36</td>\n",
       "      <td>среднее</td>\n",
       "      <td>1</td>\n",
       "      <td>женат / замужем</td>\n",
       "      <td>0</td>\n",
       "      <td>F</td>\n",
       "      <td>сотрудник</td>\n",
       "      <td>0</td>\n",
       "      <td>112080.014102</td>\n",
       "      <td>приобретение автомобиля</td>\n",
       "    </tr>\n",
       "    <tr>\n",
       "      <th>2</th>\n",
       "      <td>0</td>\n",
       "      <td>5623.422610</td>\n",
       "      <td>33</td>\n",
       "      <td>Среднее</td>\n",
       "      <td>1</td>\n",
       "      <td>женат / замужем</td>\n",
       "      <td>0</td>\n",
       "      <td>M</td>\n",
       "      <td>сотрудник</td>\n",
       "      <td>0</td>\n",
       "      <td>145885.952297</td>\n",
       "      <td>покупка жилья</td>\n",
       "    </tr>\n",
       "    <tr>\n",
       "      <th>3</th>\n",
       "      <td>3</td>\n",
       "      <td>4124.747207</td>\n",
       "      <td>32</td>\n",
       "      <td>среднее</td>\n",
       "      <td>1</td>\n",
       "      <td>женат / замужем</td>\n",
       "      <td>0</td>\n",
       "      <td>M</td>\n",
       "      <td>сотрудник</td>\n",
       "      <td>0</td>\n",
       "      <td>267628.550329</td>\n",
       "      <td>дополнительное образование</td>\n",
       "    </tr>\n",
       "    <tr>\n",
       "      <th>4</th>\n",
       "      <td>0</td>\n",
       "      <td>2929.988738</td>\n",
       "      <td>53</td>\n",
       "      <td>среднее</td>\n",
       "      <td>1</td>\n",
       "      <td>гражданский брак</td>\n",
       "      <td>1</td>\n",
       "      <td>F</td>\n",
       "      <td>пенсионер</td>\n",
       "      <td>0</td>\n",
       "      <td>158616.077870</td>\n",
       "      <td>сыграть свадьбу</td>\n",
       "    </tr>\n",
       "  </tbody>\n",
       "</table>\n",
       "</div>"
      ],
      "text/plain": [
       "   children  days_employed  dob_years education  education_id  \\\n",
       "0         1    8437.673028         42    высшее             0   \n",
       "1         1    4024.803754         36   среднее             1   \n",
       "2         0    5623.422610         33   Среднее             1   \n",
       "3         3    4124.747207         32   среднее             1   \n",
       "4         0    2929.988738         53   среднее             1   \n",
       "\n",
       "      family_status  family_status_id gender income_type  debt  total_income  \\\n",
       "0   женат / замужем                 0      F   сотрудник     0 253875.639453   \n",
       "1   женат / замужем                 0      F   сотрудник     0 112080.014102   \n",
       "2   женат / замужем                 0      M   сотрудник     0 145885.952297   \n",
       "3   женат / замужем                 0      M   сотрудник     0 267628.550329   \n",
       "4  гражданский брак                 1      F   пенсионер     0 158616.077870   \n",
       "\n",
       "                      purpose  \n",
       "0               покупка жилья  \n",
       "1     приобретение автомобиля  \n",
       "2               покупка жилья  \n",
       "3  дополнительное образование  \n",
       "4             сыграть свадьбу  "
      ]
     },
     "execution_count": 54,
     "metadata": {},
     "output_type": "execute_result"
    }
   ],
   "source": [
    "# Смотрим и проверяем:\n",
    "df.head()"
   ]
  },
  {
   "cell_type": "code",
   "execution_count": 55,
   "id": "4a36b3f4",
   "metadata": {},
   "outputs": [
    {
     "data": {
      "text/plain": [
       "children            0\n",
       "days_employed       0\n",
       "dob_years           0\n",
       "education           0\n",
       "education_id        0\n",
       "family_status       0\n",
       "family_status_id    0\n",
       "gender              0\n",
       "income_type         0\n",
       "debt                0\n",
       "total_income        0\n",
       "purpose             0\n",
       "dtype: int64"
      ]
     },
     "execution_count": 55,
     "metadata": {},
     "output_type": "execute_result"
    }
   ],
   "source": [
    "# Еще раз:\n",
    "df.isna().sum()"
   ]
  },
  {
   "cell_type": "markdown",
   "id": "55857dcc",
   "metadata": {},
   "source": [
    "### 2.3 Замена типа данных в `total_income`"
   ]
  },
  {
   "cell_type": "code",
   "execution_count": 56,
   "id": "bb5bd8a9",
   "metadata": {},
   "outputs": [],
   "source": [
    "# Приводим к целочисленным значениям:\n",
    "df['total_income'] = df['total_income'].astype('int')"
   ]
  },
  {
   "cell_type": "code",
   "execution_count": 57,
   "id": "36147824",
   "metadata": {},
   "outputs": [
    {
     "data": {
      "text/plain": [
       "0"
      ]
     },
     "execution_count": 57,
     "metadata": {},
     "output_type": "execute_result"
    }
   ],
   "source": [
    "# Проверяем:\n",
    "df.loc[df['total_income'] < 0]['total_income'].count()"
   ]
  },
  {
   "cell_type": "markdown",
   "id": "35a71d82",
   "metadata": {},
   "source": [
    "### 2.4 Обработка  на дубликаты:"
   ]
  },
  {
   "cell_type": "markdown",
   "id": "f16d9d02",
   "metadata": {},
   "source": [
    "#### 2.4.1 Обработка неявных дубликатов"
   ]
  },
  {
   "cell_type": "code",
   "execution_count": 58,
   "id": "701024b3",
   "metadata": {},
   "outputs": [
    {
     "data": {
      "text/plain": [
       "54"
      ]
     },
     "execution_count": 58,
     "metadata": {},
     "output_type": "execute_result"
    }
   ],
   "source": [
    "# Проверим, какое количество дубликатов дошло до этого этапа:\n",
    "df.duplicated().sum()"
   ]
  },
  {
   "cell_type": "code",
   "execution_count": 59,
   "id": "74e1ae0f",
   "metadata": {
    "scrolled": true
   },
   "outputs": [
    {
     "data": {
      "text/plain": [
       "среднее                13691\n",
       "высшее                  4686\n",
       "СРЕДНЕЕ                  770\n",
       "Среднее                  708\n",
       "неоконченное высшее      665\n",
       "ВЫСШЕЕ                   273\n",
       "Высшее                   266\n",
       "начальное                250\n",
       "Неоконченное высшее       47\n",
       "НЕОКОНЧЕННОЕ ВЫСШЕЕ       29\n",
       "НАЧАЛЬНОЕ                 17\n",
       "Начальное                 15\n",
       "ученая степень             4\n",
       "Ученая степень             1\n",
       "УЧЕНАЯ СТЕПЕНЬ             1\n",
       "Name: education, dtype: int64"
      ]
     },
     "execution_count": 59,
     "metadata": {},
     "output_type": "execute_result"
    }
   ],
   "source": [
    "df['education'].value_counts()"
   ]
  },
  {
   "cell_type": "code",
   "execution_count": 60,
   "id": "b31ff62f",
   "metadata": {},
   "outputs": [],
   "source": [
    "# Приводим к нижнему регистру:\n",
    "df['education'] = df['education'].str.lower()"
   ]
  },
  {
   "cell_type": "code",
   "execution_count": 61,
   "id": "fecec60e",
   "metadata": {},
   "outputs": [
    {
     "data": {
      "text/plain": [
       "среднее                15169\n",
       "высшее                  5225\n",
       "неоконченное высшее      741\n",
       "начальное                282\n",
       "ученая степень             6\n",
       "Name: education, dtype: int64"
      ]
     },
     "execution_count": 61,
     "metadata": {},
     "output_type": "execute_result"
    }
   ],
   "source": [
    "# Проверям: \n",
    "df['education'].value_counts()"
   ]
  },
  {
   "cell_type": "code",
   "execution_count": 62,
   "id": "afaa43f8",
   "metadata": {
    "scrolled": true
   },
   "outputs": [
    {
     "data": {
      "text/plain": [
       "71"
      ]
     },
     "execution_count": 62,
     "metadata": {},
     "output_type": "execute_result"
    }
   ],
   "source": [
    "# Посмотрим, сколько дубликатов стало после обработки столбца `education`:\n",
    "df.duplicated().sum()"
   ]
  },
  {
   "cell_type": "markdown",
   "id": "101c667f",
   "metadata": {},
   "source": [
    "Заодно приведем `family_status` к нижнему регистру."
   ]
  },
  {
   "cell_type": "code",
   "execution_count": 63,
   "id": "46ad84cc",
   "metadata": {
    "scrolled": true
   },
   "outputs": [
    {
     "data": {
      "text/plain": [
       "женат / замужем          12331\n",
       "гражданский брак          4155\n",
       "Не женат / не замужем     2797\n",
       "в разводе                 1185\n",
       "вдовец / вдова             955\n",
       "Name: family_status, dtype: int64"
      ]
     },
     "execution_count": 63,
     "metadata": {},
     "output_type": "execute_result"
    }
   ],
   "source": [
    "df['family_status'].value_counts()"
   ]
  },
  {
   "cell_type": "code",
   "execution_count": 64,
   "id": "51ac1469",
   "metadata": {},
   "outputs": [],
   "source": [
    "df['family_status'] = df['family_status'].str.lower()"
   ]
  },
  {
   "cell_type": "code",
   "execution_count": 65,
   "id": "b5c512cc",
   "metadata": {},
   "outputs": [
    {
     "data": {
      "text/plain": [
       "женат / замужем          12331\n",
       "гражданский брак          4155\n",
       "не женат / не замужем     2797\n",
       "в разводе                 1185\n",
       "вдовец / вдова             955\n",
       "Name: family_status, dtype: int64"
      ]
     },
     "execution_count": 65,
     "metadata": {},
     "output_type": "execute_result"
    }
   ],
   "source": [
    "df['family_status'].value_counts()"
   ]
  },
  {
   "cell_type": "markdown",
   "id": "efc5d5d7",
   "metadata": {},
   "source": [
    "#### 2.4.2Удаление строк-дубликатов"
   ]
  },
  {
   "cell_type": "code",
   "execution_count": 66,
   "id": "b8901ccf",
   "metadata": {},
   "outputs": [
    {
     "data": {
      "text/plain": [
       "54"
      ]
     },
     "execution_count": 66,
     "metadata": {},
     "output_type": "execute_result"
    }
   ],
   "source": [
    "# Посмотрим сколько дубликатов было в сырых данных:\n",
    "df_raw.duplicated().sum()"
   ]
  },
  {
   "cell_type": "code",
   "execution_count": 67,
   "id": "d44bc168",
   "metadata": {
    "scrolled": true
   },
   "outputs": [
    {
     "data": {
      "text/html": [
       "<div>\n",
       "<style scoped>\n",
       "    .dataframe tbody tr th:only-of-type {\n",
       "        vertical-align: middle;\n",
       "    }\n",
       "\n",
       "    .dataframe tbody tr th {\n",
       "        vertical-align: top;\n",
       "    }\n",
       "\n",
       "    .dataframe thead th {\n",
       "        text-align: right;\n",
       "    }\n",
       "</style>\n",
       "<table border=\"1\" class=\"dataframe\">\n",
       "  <thead>\n",
       "    <tr style=\"text-align: right;\">\n",
       "      <th></th>\n",
       "      <th>children</th>\n",
       "      <th>days_employed</th>\n",
       "      <th>dob_years</th>\n",
       "      <th>education</th>\n",
       "      <th>education_id</th>\n",
       "      <th>family_status</th>\n",
       "      <th>family_status_id</th>\n",
       "      <th>gender</th>\n",
       "      <th>income_type</th>\n",
       "      <th>debt</th>\n",
       "      <th>total_income</th>\n",
       "      <th>purpose</th>\n",
       "    </tr>\n",
       "  </thead>\n",
       "  <tbody>\n",
       "    <tr>\n",
       "      <th>2849</th>\n",
       "      <td>0</td>\n",
       "      <td>1979.722120</td>\n",
       "      <td>41</td>\n",
       "      <td>среднее</td>\n",
       "      <td>1</td>\n",
       "      <td>женат / замужем</td>\n",
       "      <td>0</td>\n",
       "      <td>F</td>\n",
       "      <td>сотрудник</td>\n",
       "      <td>0</td>\n",
       "      <td>142594</td>\n",
       "      <td>покупка жилья для семьи</td>\n",
       "    </tr>\n",
       "    <tr>\n",
       "      <th>3290</th>\n",
       "      <td>0</td>\n",
       "      <td>3325.933162</td>\n",
       "      <td>58</td>\n",
       "      <td>среднее</td>\n",
       "      <td>1</td>\n",
       "      <td>гражданский брак</td>\n",
       "      <td>1</td>\n",
       "      <td>F</td>\n",
       "      <td>пенсионер</td>\n",
       "      <td>0</td>\n",
       "      <td>118514</td>\n",
       "      <td>сыграть свадьбу</td>\n",
       "    </tr>\n",
       "    <tr>\n",
       "      <th>4182</th>\n",
       "      <td>1</td>\n",
       "      <td>1425.399927</td>\n",
       "      <td>34</td>\n",
       "      <td>высшее</td>\n",
       "      <td>0</td>\n",
       "      <td>гражданский брак</td>\n",
       "      <td>1</td>\n",
       "      <td>F</td>\n",
       "      <td>сотрудник</td>\n",
       "      <td>0</td>\n",
       "      <td>142594</td>\n",
       "      <td>свадьба</td>\n",
       "    </tr>\n",
       "    <tr>\n",
       "      <th>4851</th>\n",
       "      <td>0</td>\n",
       "      <td>3484.310931</td>\n",
       "      <td>60</td>\n",
       "      <td>среднее</td>\n",
       "      <td>1</td>\n",
       "      <td>гражданский брак</td>\n",
       "      <td>1</td>\n",
       "      <td>F</td>\n",
       "      <td>пенсионер</td>\n",
       "      <td>0</td>\n",
       "      <td>118514</td>\n",
       "      <td>свадьба</td>\n",
       "    </tr>\n",
       "    <tr>\n",
       "      <th>5557</th>\n",
       "      <td>0</td>\n",
       "      <td>3325.933162</td>\n",
       "      <td>58</td>\n",
       "      <td>среднее</td>\n",
       "      <td>1</td>\n",
       "      <td>гражданский брак</td>\n",
       "      <td>1</td>\n",
       "      <td>F</td>\n",
       "      <td>пенсионер</td>\n",
       "      <td>0</td>\n",
       "      <td>118514</td>\n",
       "      <td>сыграть свадьбу</td>\n",
       "    </tr>\n",
       "    <tr>\n",
       "      <th>...</th>\n",
       "      <td>...</td>\n",
       "      <td>...</td>\n",
       "      <td>...</td>\n",
       "      <td>...</td>\n",
       "      <td>...</td>\n",
       "      <td>...</td>\n",
       "      <td>...</td>\n",
       "      <td>...</td>\n",
       "      <td>...</td>\n",
       "      <td>...</td>\n",
       "      <td>...</td>\n",
       "      <td>...</td>\n",
       "    </tr>\n",
       "    <tr>\n",
       "      <th>20702</th>\n",
       "      <td>0</td>\n",
       "      <td>3801.066471</td>\n",
       "      <td>64</td>\n",
       "      <td>среднее</td>\n",
       "      <td>1</td>\n",
       "      <td>женат / замужем</td>\n",
       "      <td>0</td>\n",
       "      <td>F</td>\n",
       "      <td>пенсионер</td>\n",
       "      <td>0</td>\n",
       "      <td>118514</td>\n",
       "      <td>дополнительное образование</td>\n",
       "    </tr>\n",
       "    <tr>\n",
       "      <th>21032</th>\n",
       "      <td>0</td>\n",
       "      <td>3484.310931</td>\n",
       "      <td>60</td>\n",
       "      <td>среднее</td>\n",
       "      <td>1</td>\n",
       "      <td>женат / замужем</td>\n",
       "      <td>0</td>\n",
       "      <td>F</td>\n",
       "      <td>пенсионер</td>\n",
       "      <td>0</td>\n",
       "      <td>118514</td>\n",
       "      <td>заняться образованием</td>\n",
       "    </tr>\n",
       "    <tr>\n",
       "      <th>21132</th>\n",
       "      <td>0</td>\n",
       "      <td>2454.855429</td>\n",
       "      <td>47</td>\n",
       "      <td>среднее</td>\n",
       "      <td>1</td>\n",
       "      <td>женат / замужем</td>\n",
       "      <td>0</td>\n",
       "      <td>F</td>\n",
       "      <td>сотрудник</td>\n",
       "      <td>0</td>\n",
       "      <td>142594</td>\n",
       "      <td>ремонт жилью</td>\n",
       "    </tr>\n",
       "    <tr>\n",
       "      <th>21281</th>\n",
       "      <td>1</td>\n",
       "      <td>1108.644387</td>\n",
       "      <td>30</td>\n",
       "      <td>высшее</td>\n",
       "      <td>0</td>\n",
       "      <td>женат / замужем</td>\n",
       "      <td>0</td>\n",
       "      <td>F</td>\n",
       "      <td>сотрудник</td>\n",
       "      <td>0</td>\n",
       "      <td>142594</td>\n",
       "      <td>покупка коммерческой недвижимости</td>\n",
       "    </tr>\n",
       "    <tr>\n",
       "      <th>21415</th>\n",
       "      <td>0</td>\n",
       "      <td>3009.177623</td>\n",
       "      <td>54</td>\n",
       "      <td>среднее</td>\n",
       "      <td>1</td>\n",
       "      <td>женат / замужем</td>\n",
       "      <td>0</td>\n",
       "      <td>F</td>\n",
       "      <td>пенсионер</td>\n",
       "      <td>0</td>\n",
       "      <td>118514</td>\n",
       "      <td>операции с жильем</td>\n",
       "    </tr>\n",
       "  </tbody>\n",
       "</table>\n",
       "<p>71 rows × 12 columns</p>\n",
       "</div>"
      ],
      "text/plain": [
       "       children  days_employed  dob_years education  education_id  \\\n",
       "2849          0    1979.722120         41   среднее             1   \n",
       "3290          0    3325.933162         58   среднее             1   \n",
       "4182          1    1425.399927         34    высшее             0   \n",
       "4851          0    3484.310931         60   среднее             1   \n",
       "5557          0    3325.933162         58   среднее             1   \n",
       "...         ...            ...        ...       ...           ...   \n",
       "20702         0    3801.066471         64   среднее             1   \n",
       "21032         0    3484.310931         60   среднее             1   \n",
       "21132         0    2454.855429         47   среднее             1   \n",
       "21281         1    1108.644387         30    высшее             0   \n",
       "21415         0    3009.177623         54   среднее             1   \n",
       "\n",
       "          family_status  family_status_id gender income_type  debt  \\\n",
       "2849    женат / замужем                 0      F   сотрудник     0   \n",
       "3290   гражданский брак                 1      F   пенсионер     0   \n",
       "4182   гражданский брак                 1      F   сотрудник     0   \n",
       "4851   гражданский брак                 1      F   пенсионер     0   \n",
       "5557   гражданский брак                 1      F   пенсионер     0   \n",
       "...                 ...               ...    ...         ...   ...   \n",
       "20702   женат / замужем                 0      F   пенсионер     0   \n",
       "21032   женат / замужем                 0      F   пенсионер     0   \n",
       "21132   женат / замужем                 0      F   сотрудник     0   \n",
       "21281   женат / замужем                 0      F   сотрудник     0   \n",
       "21415   женат / замужем                 0      F   пенсионер     0   \n",
       "\n",
       "       total_income                            purpose  \n",
       "2849         142594            покупка жилья для семьи  \n",
       "3290         118514                    сыграть свадьбу  \n",
       "4182         142594                            свадьба  \n",
       "4851         118514                            свадьба  \n",
       "5557         118514                    сыграть свадьбу  \n",
       "...             ...                                ...  \n",
       "20702        118514         дополнительное образование  \n",
       "21032        118514              заняться образованием  \n",
       "21132        142594                       ремонт жилью  \n",
       "21281        142594  покупка коммерческой недвижимости  \n",
       "21415        118514                  операции с жильем  \n",
       "\n",
       "[71 rows x 12 columns]"
      ]
     },
     "execution_count": 67,
     "metadata": {},
     "output_type": "execute_result"
    }
   ],
   "source": [
    "# Посмотрим на эти дубликаты:\n",
    "df.loc[df.duplicated() == True]"
   ]
  },
  {
   "cell_type": "code",
   "execution_count": null,
   "id": "9cf16bd9",
   "metadata": {},
   "outputs": [],
   "source": [
    "# Посмотрим на дубликаты в сырых данных:\n",
    "df_raw.loc[df_raw.duplicated() == True]"
   ]
  },
  {
   "cell_type": "markdown",
   "id": "7201ea5b",
   "metadata": {},
   "source": [
    "В сырых данных дубликаты были из за наличия `NaN` в столбцах `days_employed` и `total_income`, в обработанных данных, хоть мы и обрабатывали количественные столбцы разными способами, дубликатов перенеслись. Это видно, если посмотреть, на строчку `4851`, в этой строке показатели в столбцах `days_employed` и `total_income` идентичны тем, что мы вставляли, когда заполняли пропуски. Также после обработки столбца`education` вылезли новые дубликаты.  До обработки столбца`education` дубликатов было 54. Стало 71.\n"
   ]
  },
  {
   "cell_type": "code",
   "execution_count": 69,
   "id": "1d76ea17",
   "metadata": {},
   "outputs": [],
   "source": [
    "# Удалим дубликаты: \n",
    "df = df.drop_duplicates().reset_index(drop=True)"
   ]
  },
  {
   "cell_type": "code",
   "execution_count": 70,
   "id": "1eb8668d",
   "metadata": {},
   "outputs": [
    {
     "data": {
      "text/plain": [
       "0"
      ]
     },
     "execution_count": 70,
     "metadata": {},
     "output_type": "execute_result"
    }
   ],
   "source": [
    "# Проверим: \n",
    "df.duplicated().sum()"
   ]
  },
  {
   "cell_type": "code",
   "execution_count": null,
   "id": "22cccffc",
   "metadata": {
    "scrolled": true
   },
   "outputs": [],
   "source": [
    "df['purpose'].value_counts()"
   ]
  },
  {
   "cell_type": "markdown",
   "id": "5bbf325b",
   "metadata": {},
   "source": [
    "### 2.5 Создание \"словарей\""
   ]
  },
  {
   "cell_type": "markdown",
   "id": "0bca9fb1",
   "metadata": {},
   "source": [
    "Создадим два новых датафрейма: \n",
    "* `df_education_id`, в котором каждому уникальному значению из `education` соответствует уникальное значение `education_id`\n",
    "\n",
    "* `df_family_status_id` в котором каждому уникальному значению из `family_status` соответствует уникальное значение `family_status_id`\n",
    "\n",
    "Затем удалим из `df` столбцы `education` и `family_status`:"
   ]
  },
  {
   "cell_type": "code",
   "execution_count": 72,
   "id": "993acea2",
   "metadata": {},
   "outputs": [],
   "source": [
    "# Создаем:\n",
    "df_education_id = df[['education_id', 'education']]\n",
    "df_family_status_id = df[['family_status_id','family_status']]\n",
    "# Удаляем:\n",
    "df = df.drop(columns=['family_status', 'education'], axis = 1)"
   ]
  },
  {
   "cell_type": "code",
   "execution_count": 73,
   "id": "2daaef2a",
   "metadata": {},
   "outputs": [
    {
     "data": {
      "text/html": [
       "<div>\n",
       "<style scoped>\n",
       "    .dataframe tbody tr th:only-of-type {\n",
       "        vertical-align: middle;\n",
       "    }\n",
       "\n",
       "    .dataframe tbody tr th {\n",
       "        vertical-align: top;\n",
       "    }\n",
       "\n",
       "    .dataframe thead th {\n",
       "        text-align: right;\n",
       "    }\n",
       "</style>\n",
       "<table border=\"1\" class=\"dataframe\">\n",
       "  <thead>\n",
       "    <tr style=\"text-align: right;\">\n",
       "      <th></th>\n",
       "      <th>children</th>\n",
       "      <th>days_employed</th>\n",
       "      <th>dob_years</th>\n",
       "      <th>education_id</th>\n",
       "      <th>family_status_id</th>\n",
       "      <th>gender</th>\n",
       "      <th>income_type</th>\n",
       "      <th>debt</th>\n",
       "      <th>total_income</th>\n",
       "      <th>purpose</th>\n",
       "    </tr>\n",
       "  </thead>\n",
       "  <tbody>\n",
       "    <tr>\n",
       "      <th>0</th>\n",
       "      <td>1</td>\n",
       "      <td>8437.673028</td>\n",
       "      <td>42</td>\n",
       "      <td>0</td>\n",
       "      <td>0</td>\n",
       "      <td>F</td>\n",
       "      <td>сотрудник</td>\n",
       "      <td>0</td>\n",
       "      <td>253875</td>\n",
       "      <td>покупка жилья</td>\n",
       "    </tr>\n",
       "    <tr>\n",
       "      <th>1</th>\n",
       "      <td>1</td>\n",
       "      <td>4024.803754</td>\n",
       "      <td>36</td>\n",
       "      <td>1</td>\n",
       "      <td>0</td>\n",
       "      <td>F</td>\n",
       "      <td>сотрудник</td>\n",
       "      <td>0</td>\n",
       "      <td>112080</td>\n",
       "      <td>приобретение автомобиля</td>\n",
       "    </tr>\n",
       "    <tr>\n",
       "      <th>2</th>\n",
       "      <td>0</td>\n",
       "      <td>5623.422610</td>\n",
       "      <td>33</td>\n",
       "      <td>1</td>\n",
       "      <td>0</td>\n",
       "      <td>M</td>\n",
       "      <td>сотрудник</td>\n",
       "      <td>0</td>\n",
       "      <td>145885</td>\n",
       "      <td>покупка жилья</td>\n",
       "    </tr>\n",
       "    <tr>\n",
       "      <th>3</th>\n",
       "      <td>3</td>\n",
       "      <td>4124.747207</td>\n",
       "      <td>32</td>\n",
       "      <td>1</td>\n",
       "      <td>0</td>\n",
       "      <td>M</td>\n",
       "      <td>сотрудник</td>\n",
       "      <td>0</td>\n",
       "      <td>267628</td>\n",
       "      <td>дополнительное образование</td>\n",
       "    </tr>\n",
       "    <tr>\n",
       "      <th>4</th>\n",
       "      <td>0</td>\n",
       "      <td>2929.988738</td>\n",
       "      <td>53</td>\n",
       "      <td>1</td>\n",
       "      <td>1</td>\n",
       "      <td>F</td>\n",
       "      <td>пенсионер</td>\n",
       "      <td>0</td>\n",
       "      <td>158616</td>\n",
       "      <td>сыграть свадьбу</td>\n",
       "    </tr>\n",
       "  </tbody>\n",
       "</table>\n",
       "</div>"
      ],
      "text/plain": [
       "   children  days_employed  dob_years  education_id  family_status_id gender  \\\n",
       "0         1    8437.673028         42             0                 0      F   \n",
       "1         1    4024.803754         36             1                 0      F   \n",
       "2         0    5623.422610         33             1                 0      M   \n",
       "3         3    4124.747207         32             1                 0      M   \n",
       "4         0    2929.988738         53             1                 1      F   \n",
       "\n",
       "  income_type  debt  total_income                     purpose  \n",
       "0   сотрудник     0        253875               покупка жилья  \n",
       "1   сотрудник     0        112080     приобретение автомобиля  \n",
       "2   сотрудник     0        145885               покупка жилья  \n",
       "3   сотрудник     0        267628  дополнительное образование  \n",
       "4   пенсионер     0        158616             сыграть свадьбу  "
      ]
     },
     "execution_count": 73,
     "metadata": {},
     "output_type": "execute_result"
    }
   ],
   "source": [
    "# Проверяем:\n",
    "df.head()"
   ]
  },
  {
   "cell_type": "code",
   "execution_count": 74,
   "id": "50a01440",
   "metadata": {},
   "outputs": [],
   "source": [
    "# Удаляем дубликаты:\n",
    "df_education_id = df_education_id.drop_duplicates().reset_index(drop=True)"
   ]
  },
  {
   "cell_type": "code",
   "execution_count": 75,
   "id": "4fdddfb8",
   "metadata": {},
   "outputs": [],
   "source": [
    "# Удаляем дубликаты:\n",
    "df_family_status_id = df_family_status_id.drop_duplicates().reset_index(drop=True)"
   ]
  },
  {
   "cell_type": "markdown",
   "id": "3730803e",
   "metadata": {},
   "source": [
    "### 2.6 Создание категории `total_income_category`"
   ]
  },
  {
   "cell_type": "markdown",
   "id": "f86025b1",
   "metadata": {},
   "source": [
    "На основании диапазонов, указанных ниже, создадим столбец total_income_category с категориями:\n",
    "\n",
    "`0–30000 — 'E'`;\n",
    "\n",
    "`30001–50000 — 'D'`;\n",
    "\n",
    "`50001–200000 — 'C'`;\n",
    "\n",
    "`200001–1000000 — 'B'`;\n",
    "\n",
    "`1000001 и выше — 'A'`.\n",
    "\n",
    "Например, кредитополучателю с доходом 25000 нужно назначить категорию 'E', а клиенту, получающему 235000, — 'B'.\n",
    "Чтобы разбить на категории, напишем функцию: "
   ]
  },
  {
   "cell_type": "code",
   "execution_count": 76,
   "id": "176b7396",
   "metadata": {},
   "outputs": [],
   "source": [
    "def income_categories(income):\n",
    "    if 0 < income < 30000:\n",
    "        return 'E'\n",
    "    elif 30001 < income < 50000:\n",
    "        return 'D'\n",
    "    elif 50001 < income < 200000:\n",
    "        return 'C'\n",
    "    elif 200001 < income < 1000000:\n",
    "        return 'B'\n",
    "    elif income > 1000001: \n",
    "        return 'A'"
   ]
  },
  {
   "cell_type": "markdown",
   "id": "0dca26af",
   "metadata": {},
   "source": [
    "Создадим столбец `total_income_category` и с помощью метода `apply()` перенесем результаты функции `income_categories`, метод `apply()` будем вызывать к столбцу `total_income`:"
   ]
  },
  {
   "cell_type": "code",
   "execution_count": 77,
   "id": "fbb43f3f",
   "metadata": {},
   "outputs": [
    {
     "data": {
      "text/html": [
       "<div>\n",
       "<style scoped>\n",
       "    .dataframe tbody tr th:only-of-type {\n",
       "        vertical-align: middle;\n",
       "    }\n",
       "\n",
       "    .dataframe tbody tr th {\n",
       "        vertical-align: top;\n",
       "    }\n",
       "\n",
       "    .dataframe thead th {\n",
       "        text-align: right;\n",
       "    }\n",
       "</style>\n",
       "<table border=\"1\" class=\"dataframe\">\n",
       "  <thead>\n",
       "    <tr style=\"text-align: right;\">\n",
       "      <th></th>\n",
       "      <th>children</th>\n",
       "      <th>days_employed</th>\n",
       "      <th>dob_years</th>\n",
       "      <th>education_id</th>\n",
       "      <th>family_status_id</th>\n",
       "      <th>gender</th>\n",
       "      <th>income_type</th>\n",
       "      <th>debt</th>\n",
       "      <th>total_income</th>\n",
       "      <th>purpose</th>\n",
       "      <th>total_income_category</th>\n",
       "    </tr>\n",
       "  </thead>\n",
       "  <tbody>\n",
       "    <tr>\n",
       "      <th>0</th>\n",
       "      <td>1</td>\n",
       "      <td>8437.673028</td>\n",
       "      <td>42</td>\n",
       "      <td>0</td>\n",
       "      <td>0</td>\n",
       "      <td>F</td>\n",
       "      <td>сотрудник</td>\n",
       "      <td>0</td>\n",
       "      <td>253875</td>\n",
       "      <td>покупка жилья</td>\n",
       "      <td>B</td>\n",
       "    </tr>\n",
       "    <tr>\n",
       "      <th>1</th>\n",
       "      <td>1</td>\n",
       "      <td>4024.803754</td>\n",
       "      <td>36</td>\n",
       "      <td>1</td>\n",
       "      <td>0</td>\n",
       "      <td>F</td>\n",
       "      <td>сотрудник</td>\n",
       "      <td>0</td>\n",
       "      <td>112080</td>\n",
       "      <td>приобретение автомобиля</td>\n",
       "      <td>C</td>\n",
       "    </tr>\n",
       "    <tr>\n",
       "      <th>2</th>\n",
       "      <td>0</td>\n",
       "      <td>5623.422610</td>\n",
       "      <td>33</td>\n",
       "      <td>1</td>\n",
       "      <td>0</td>\n",
       "      <td>M</td>\n",
       "      <td>сотрудник</td>\n",
       "      <td>0</td>\n",
       "      <td>145885</td>\n",
       "      <td>покупка жилья</td>\n",
       "      <td>C</td>\n",
       "    </tr>\n",
       "    <tr>\n",
       "      <th>3</th>\n",
       "      <td>3</td>\n",
       "      <td>4124.747207</td>\n",
       "      <td>32</td>\n",
       "      <td>1</td>\n",
       "      <td>0</td>\n",
       "      <td>M</td>\n",
       "      <td>сотрудник</td>\n",
       "      <td>0</td>\n",
       "      <td>267628</td>\n",
       "      <td>дополнительное образование</td>\n",
       "      <td>B</td>\n",
       "    </tr>\n",
       "    <tr>\n",
       "      <th>4</th>\n",
       "      <td>0</td>\n",
       "      <td>2929.988738</td>\n",
       "      <td>53</td>\n",
       "      <td>1</td>\n",
       "      <td>1</td>\n",
       "      <td>F</td>\n",
       "      <td>пенсионер</td>\n",
       "      <td>0</td>\n",
       "      <td>158616</td>\n",
       "      <td>сыграть свадьбу</td>\n",
       "      <td>C</td>\n",
       "    </tr>\n",
       "  </tbody>\n",
       "</table>\n",
       "</div>"
      ],
      "text/plain": [
       "   children  days_employed  dob_years  education_id  family_status_id gender  \\\n",
       "0         1    8437.673028         42             0                 0      F   \n",
       "1         1    4024.803754         36             1                 0      F   \n",
       "2         0    5623.422610         33             1                 0      M   \n",
       "3         3    4124.747207         32             1                 0      M   \n",
       "4         0    2929.988738         53             1                 1      F   \n",
       "\n",
       "  income_type  debt  total_income                     purpose  \\\n",
       "0   сотрудник     0        253875               покупка жилья   \n",
       "1   сотрудник     0        112080     приобретение автомобиля   \n",
       "2   сотрудник     0        145885               покупка жилья   \n",
       "3   сотрудник     0        267628  дополнительное образование   \n",
       "4   пенсионер     0        158616             сыграть свадьбу   \n",
       "\n",
       "  total_income_category  \n",
       "0                     B  \n",
       "1                     C  \n",
       "2                     C  \n",
       "3                     B  \n",
       "4                     C  "
      ]
     },
     "execution_count": 77,
     "metadata": {},
     "output_type": "execute_result"
    }
   ],
   "source": [
    "df['total_income_category'] = df['total_income'].apply(income_categories)\n",
    "df.head()"
   ]
  },
  {
   "cell_type": "markdown",
   "id": "05af6779",
   "metadata": {},
   "source": [
    "### 2.7 Создание категории `purpose_category`"
   ]
  },
  {
   "cell_type": "markdown",
   "id": "4ddb3600",
   "metadata": {},
   "source": [
    "Создадим функцию, которая на основании данных из столбца purpose сформирует новый столбец purpose_category, в который войдут следующие категории:\n",
    "\n",
    "`операции с автомобилем`,\n",
    "\n",
    "`операции с недвижимостью`,\n",
    "\n",
    "`проведение свадьбы`,\n",
    "\n",
    "`получение образования`.\n"
   ]
  },
  {
   "cell_type": "code",
   "execution_count": 78,
   "id": "eed98da1",
   "metadata": {},
   "outputs": [
    {
     "data": {
      "text/plain": [
       "свадьба                                   786\n",
       "на проведение свадьбы                     764\n",
       "сыграть свадьбу                           760\n",
       "операции с недвижимостью                  672\n",
       "покупка коммерческой недвижимости         658\n",
       "покупка жилья для сдачи                   649\n",
       "операции с коммерческой недвижимостью     648\n",
       "операции с жильем                         646\n",
       "покупка жилья                             640\n",
       "жилье                                     640\n",
       "покупка жилья для семьи                   637\n",
       "строительство собственной недвижимости    633\n",
       "недвижимость                              629\n",
       "операции со своей недвижимостью           627\n",
       "строительство жилой недвижимости          621\n",
       "строительство недвижимости                619\n",
       "покупка своего жилья                      619\n",
       "покупка недвижимости                      617\n",
       "ремонт жилью                              605\n",
       "покупка жилой недвижимости                603\n",
       "на покупку своего автомобиля              502\n",
       "заняться высшим образованием              493\n",
       "автомобиль                                490\n",
       "сделка с подержанным автомобилем          484\n",
       "на покупку подержанного автомобиля        478\n",
       "автомобили                                476\n",
       "свой автомобиль                           475\n",
       "на покупку автомобиля                     466\n",
       "приобретение автомобиля                   459\n",
       "дополнительное образование                458\n",
       "сделка с автомобилем                      454\n",
       "высшее образование                        449\n",
       "образование                               444\n",
       "получение дополнительного образования     444\n",
       "получение образования                     441\n",
       "профильное образование                    435\n",
       "получение высшего образования             424\n",
       "заняться образованием                     407\n",
       "Name: purpose, dtype: int64"
      ]
     },
     "execution_count": 78,
     "metadata": {},
     "output_type": "execute_result"
    }
   ],
   "source": [
    "# Посмотрим на возможные категории:\n",
    "df['purpose'].value_counts()"
   ]
  },
  {
   "cell_type": "code",
   "execution_count": 79,
   "id": "eb1989fc",
   "metadata": {},
   "outputs": [],
   "source": [
    "def purpose_categories(row):\n",
    "    if 'свадьб' in row:\n",
    "        return 'проведение свадьбы'\n",
    "    \n",
    "    elif 'недвижимост' in row:\n",
    "        return 'операции с недвижимостью'\n",
    "    \n",
    "    elif 'автомобил' in row:\n",
    "        return 'операции с автомобилем'\n",
    "    \n",
    "    elif 'образовани' in row:\n",
    "        return 'получение образования'\n",
    "        \n",
    "    elif 'жил' in row:\n",
    "        return 'операции с недвижимостью'\n",
    "    else:\n",
    "        return 'другое'\n"
   ]
  },
  {
   "cell_type": "code",
   "execution_count": 80,
   "id": "5b55ed48",
   "metadata": {},
   "outputs": [],
   "source": [
    "df['purpose_category'] = df['purpose'].apply(purpose_categories)"
   ]
  },
  {
   "cell_type": "code",
   "execution_count": 81,
   "id": "da422bab",
   "metadata": {},
   "outputs": [
    {
     "data": {
      "text/plain": [
       "операции с недвижимостью    10763\n",
       "операции с автомобилем       4284\n",
       "получение образования        3995\n",
       "проведение свадьбы           2310\n",
       "Name: purpose_category, dtype: int64"
      ]
     },
     "execution_count": 81,
     "metadata": {},
     "output_type": "execute_result"
    }
   ],
   "source": [
    "#Проверяем:\n",
    "df['purpose_category'].value_counts()"
   ]
  },
  {
   "cell_type": "code",
   "execution_count": 82,
   "id": "593c9258",
   "metadata": {},
   "outputs": [
    {
     "name": "stdout",
     "output_type": "stream",
     "text": [
      "<class 'pandas.core.frame.DataFrame'>\n",
      "RangeIndex: 21352 entries, 0 to 21351\n",
      "Data columns (total 12 columns):\n",
      " #   Column                 Non-Null Count  Dtype  \n",
      "---  ------                 --------------  -----  \n",
      " 0   children               21352 non-null  int64  \n",
      " 1   days_employed          21352 non-null  float64\n",
      " 2   dob_years              21352 non-null  int64  \n",
      " 3   education_id           21352 non-null  int64  \n",
      " 4   family_status_id       21352 non-null  int64  \n",
      " 5   gender                 21352 non-null  object \n",
      " 6   income_type            21352 non-null  object \n",
      " 7   debt                   21352 non-null  int64  \n",
      " 8   total_income           21352 non-null  int32  \n",
      " 9   purpose                21352 non-null  object \n",
      " 10  total_income_category  21351 non-null  object \n",
      " 11  purpose_category       21352 non-null  object \n",
      "dtypes: float64(1), int32(1), int64(5), object(5)\n",
      "memory usage: 1.9+ MB\n"
     ]
    }
   ],
   "source": [
    "df.info()"
   ]
  },
  {
   "cell_type": "markdown",
   "id": "a36e0952",
   "metadata": {},
   "source": [
    "## 3 Проверка гипотез"
   ]
  },
  {
   "cell_type": "markdown",
   "id": "70348cb5",
   "metadata": {},
   "source": [
    "### 3.1 Между количеством детей у заемщика и возвратом кредита в срок есть зависимость."
   ]
  },
  {
   "cell_type": "code",
   "execution_count": 83,
   "id": "6253c4e6",
   "metadata": {},
   "outputs": [
    {
     "data": {
      "text/plain": [
       "8.116335706257024"
      ]
     },
     "execution_count": 83,
     "metadata": {},
     "output_type": "execute_result"
    }
   ],
   "source": [
    "#Посмотрим, какой % кредитов не выплачивался в вовремя:\n",
    "df.loc[df['debt'] == 1]['debt'].count()/len(df)*100"
   ]
  },
  {
   "cell_type": "code",
   "execution_count": 84,
   "id": "4704f0ac",
   "metadata": {},
   "outputs": [
    {
     "data": {
      "text/plain": [
       "3.1612963656800304"
      ]
     },
     "execution_count": 84,
     "metadata": {},
     "output_type": "execute_result"
    }
   ],
   "source": [
    "#Посмотрим, какой % кредитов не выплачивался в вовремя, при наличии детей, но вне зависимости от их количества,по \n",
    "#отношению ко всем заемщикам:\n",
    "df.loc[(df['debt'] == 1) & (df['children'] != 0)]['debt'].count()/len(df)*100"
   ]
  },
  {
   "cell_type": "code",
   "execution_count": 85,
   "id": "161ff3d4",
   "metadata": {},
   "outputs": [
    {
     "data": {
      "text/plain": [
       "9.207475105715455"
      ]
     },
     "execution_count": 85,
     "metadata": {},
     "output_type": "execute_result"
    }
   ],
   "source": [
    "#Посмотрим, какой % кредитов не выплачивался в вовремя, при наличии детей, но вне зависимости от их количества,по \n",
    "#отношению к заемщикам с детьми:\n",
    "df.loc[(df['debt'] == 1) & (df['children'] != 0)]['debt'].count() / df.loc[df['children'] != 0]['debt'].count()*100"
   ]
  },
  {
   "cell_type": "markdown",
   "id": "3d87ef31",
   "metadata": {},
   "source": [
    "Построим сводную таблицу задолженность / дети:"
   ]
  },
  {
   "cell_type": "code",
   "execution_count": 86,
   "id": "28bcd3a3",
   "metadata": {},
   "outputs": [],
   "source": [
    "pivot_table_check_children = df.pivot_table(index=['debt'], columns='children', values='gender', aggfunc='count')"
   ]
  },
  {
   "cell_type": "code",
   "execution_count": 87,
   "id": "4d3272ff",
   "metadata": {},
   "outputs": [
    {
     "data": {
      "text/html": [
       "<div>\n",
       "<style scoped>\n",
       "    .dataframe tbody tr th:only-of-type {\n",
       "        vertical-align: middle;\n",
       "    }\n",
       "\n",
       "    .dataframe tbody tr th {\n",
       "        vertical-align: top;\n",
       "    }\n",
       "\n",
       "    .dataframe thead th {\n",
       "        text-align: right;\n",
       "    }\n",
       "</style>\n",
       "<table border=\"1\" class=\"dataframe\">\n",
       "  <thead>\n",
       "    <tr style=\"text-align: right;\">\n",
       "      <th>children</th>\n",
       "      <th>0</th>\n",
       "      <th>1</th>\n",
       "      <th>2</th>\n",
       "      <th>3</th>\n",
       "      <th>4</th>\n",
       "      <th>5</th>\n",
       "    </tr>\n",
       "    <tr>\n",
       "      <th>debt</th>\n",
       "      <th></th>\n",
       "      <th></th>\n",
       "      <th></th>\n",
       "      <th></th>\n",
       "      <th></th>\n",
       "      <th></th>\n",
       "    </tr>\n",
       "  </thead>\n",
       "  <tbody>\n",
       "    <tr>\n",
       "      <th>0</th>\n",
       "      <td>12963.000000</td>\n",
       "      <td>4397.000000</td>\n",
       "      <td>1912.000000</td>\n",
       "      <td>301.000000</td>\n",
       "      <td>37.000000</td>\n",
       "      <td>9.000000</td>\n",
       "    </tr>\n",
       "    <tr>\n",
       "      <th>1</th>\n",
       "      <td>1058.000000</td>\n",
       "      <td>442.000000</td>\n",
       "      <td>202.000000</td>\n",
       "      <td>27.000000</td>\n",
       "      <td>4.000000</td>\n",
       "      <td>NaN</td>\n",
       "    </tr>\n",
       "  </tbody>\n",
       "</table>\n",
       "</div>"
      ],
      "text/plain": [
       "children            0           1           2          3         4        5\n",
       "debt                                                                       \n",
       "0        12963.000000 4397.000000 1912.000000 301.000000 37.000000 9.000000\n",
       "1         1058.000000  442.000000  202.000000  27.000000  4.000000      NaN"
      ]
     },
     "execution_count": 87,
     "metadata": {},
     "output_type": "execute_result"
    }
   ],
   "source": [
    "pivot_table_check_children"
   ]
  },
  {
   "cell_type": "code",
   "execution_count": 88,
   "id": "1547da62",
   "metadata": {},
   "outputs": [
    {
     "name": "stdout",
     "output_type": "stream",
     "text": [
      "7.55% кредитов не выплачивалось вовремя, среди заемщиков без детей\n",
      "9.13% кредитов не выплачивалось вовремя, среди заемщиков с 1 ребенком\n",
      "9.56% кредитов не выплачивалось вовремя, среди заемщиков с 2 детьми\n",
      "8.23% кредитов не выплачивалось вовремя, среди заемщиков с 3 детьми\n",
      "9.76% кредитов не выплачивалось вовремя, среди заемщиков с 4 детьми\n"
     ]
    }
   ],
   "source": [
    "children0 = pivot_table_check_children[0][1] / (pivot_table_check_children[0][0] + pivot_table_check_children[0][1])\n",
    "children1 = pivot_table_check_children[1][1] / (pivot_table_check_children[1][0] + pivot_table_check_children[1][1])\n",
    "children2 = pivot_table_check_children[2][1] / (pivot_table_check_children[2][0] + pivot_table_check_children[2][1])\n",
    "children3 = pivot_table_check_children[3][1] / (pivot_table_check_children[3][0] + pivot_table_check_children[3][1])\n",
    "children4 = pivot_table_check_children[4][1] / (pivot_table_check_children[4][0] + pivot_table_check_children[4][1])\n",
    "\n",
    "print(\"{0:.2f}% кредитов не выплачивалось вовремя, среди заемщиков без детей\".format(children0*100))\n",
    "print(\"{0:.2f}% кредитов не выплачивалось вовремя, среди заемщиков с 1 ребенком\".format(children1*100))\n",
    "print(\"{0:.2f}% кредитов не выплачивалось вовремя, среди заемщиков с 2 детьми\".format(children2*100))\n",
    "print(\"{0:.2f}% кредитов не выплачивалось вовремя, среди заемщиков с 3 детьми\".format(children3*100))\n",
    "print(\"{0:.2f}% кредитов не выплачивалось вовремя, среди заемщиков с 4 детьми\".format(children4*100))"
   ]
  },
  {
   "cell_type": "markdown",
   "id": "35d72a90",
   "metadata": {},
   "source": [
    "Можно сделать вывод, что заемщики без детей реже просрочивают выплаты по кредиту. "
   ]
  },
  {
   "cell_type": "markdown",
   "id": "ba14e0dd",
   "metadata": {},
   "source": [
    "### 3.2 Между семейным положением заемщика и возвратом кредита в срок есть зависимость."
   ]
  },
  {
   "cell_type": "code",
   "execution_count": 89,
   "id": "ec7d66b7",
   "metadata": {},
   "outputs": [],
   "source": [
    "# Сводная таблица задолженность / семейный статус:\n",
    "pivot_table_check_family = df.pivot_table(index=['debt'], columns='family_status_id' , values='gender', aggfunc='count')"
   ]
  },
  {
   "cell_type": "code",
   "execution_count": 90,
   "id": "f0549471",
   "metadata": {},
   "outputs": [
    {
     "data": {
      "text/html": [
       "<div>\n",
       "<style scoped>\n",
       "    .dataframe tbody tr th:only-of-type {\n",
       "        vertical-align: middle;\n",
       "    }\n",
       "\n",
       "    .dataframe tbody tr th {\n",
       "        vertical-align: top;\n",
       "    }\n",
       "\n",
       "    .dataframe thead th {\n",
       "        text-align: right;\n",
       "    }\n",
       "</style>\n",
       "<table border=\"1\" class=\"dataframe\">\n",
       "  <thead>\n",
       "    <tr style=\"text-align: right;\">\n",
       "      <th>family_status_id</th>\n",
       "      <th>0</th>\n",
       "      <th>1</th>\n",
       "      <th>2</th>\n",
       "      <th>3</th>\n",
       "      <th>4</th>\n",
       "    </tr>\n",
       "    <tr>\n",
       "      <th>debt</th>\n",
       "      <th></th>\n",
       "      <th></th>\n",
       "      <th></th>\n",
       "      <th></th>\n",
       "      <th></th>\n",
       "    </tr>\n",
       "  </thead>\n",
       "  <tbody>\n",
       "    <tr>\n",
       "      <th>0</th>\n",
       "      <td>11363</td>\n",
       "      <td>3743</td>\n",
       "      <td>892</td>\n",
       "      <td>1100</td>\n",
       "      <td>2521</td>\n",
       "    </tr>\n",
       "    <tr>\n",
       "      <th>1</th>\n",
       "      <td>927</td>\n",
       "      <td>386</td>\n",
       "      <td>62</td>\n",
       "      <td>85</td>\n",
       "      <td>273</td>\n",
       "    </tr>\n",
       "  </tbody>\n",
       "</table>\n",
       "</div>"
      ],
      "text/plain": [
       "family_status_id      0     1    2     3     4\n",
       "debt                                          \n",
       "0                 11363  3743  892  1100  2521\n",
       "1                   927   386   62    85   273"
      ]
     },
     "execution_count": 90,
     "metadata": {},
     "output_type": "execute_result"
    }
   ],
   "source": [
    "pivot_table_check_family"
   ]
  },
  {
   "cell_type": "code",
   "execution_count": 91,
   "id": "103d85e0",
   "metadata": {},
   "outputs": [
    {
     "data": {
      "text/html": [
       "<div>\n",
       "<style scoped>\n",
       "    .dataframe tbody tr th:only-of-type {\n",
       "        vertical-align: middle;\n",
       "    }\n",
       "\n",
       "    .dataframe tbody tr th {\n",
       "        vertical-align: top;\n",
       "    }\n",
       "\n",
       "    .dataframe thead th {\n",
       "        text-align: right;\n",
       "    }\n",
       "</style>\n",
       "<table border=\"1\" class=\"dataframe\">\n",
       "  <thead>\n",
       "    <tr style=\"text-align: right;\">\n",
       "      <th>family_status_id</th>\n",
       "      <th>0</th>\n",
       "      <th>1</th>\n",
       "      <th>2</th>\n",
       "      <th>3</th>\n",
       "      <th>4</th>\n",
       "    </tr>\n",
       "    <tr>\n",
       "      <th>debt</th>\n",
       "      <th></th>\n",
       "      <th></th>\n",
       "      <th></th>\n",
       "      <th></th>\n",
       "      <th></th>\n",
       "    </tr>\n",
       "  </thead>\n",
       "  <tbody>\n",
       "    <tr>\n",
       "      <th>0</th>\n",
       "      <td>92.457282</td>\n",
       "      <td>90.651489</td>\n",
       "      <td>93.501048</td>\n",
       "      <td>92.827004</td>\n",
       "      <td>90.229062</td>\n",
       "    </tr>\n",
       "    <tr>\n",
       "      <th>1</th>\n",
       "      <td>7.542718</td>\n",
       "      <td>9.348511</td>\n",
       "      <td>6.498952</td>\n",
       "      <td>7.172996</td>\n",
       "      <td>9.770938</td>\n",
       "    </tr>\n",
       "  </tbody>\n",
       "</table>\n",
       "</div>"
      ],
      "text/plain": [
       "family_status_id         0         1         2         3         4\n",
       "debt                                                              \n",
       "0                92.457282 90.651489 93.501048 92.827004 90.229062\n",
       "1                 7.542718  9.348511  6.498952  7.172996  9.770938"
      ]
     },
     "execution_count": 91,
     "metadata": {},
     "output_type": "execute_result"
    }
   ],
   "source": [
    "#что нашел:\n",
    "pivot_table_check_family.apply(lambda x:100 * x / float(x.sum()))"
   ]
  },
  {
   "cell_type": "code",
   "execution_count": 92,
   "id": "8002d8dd",
   "metadata": {},
   "outputs": [
    {
     "name": "stdout",
     "output_type": "stream",
     "text": [
      "7.54% кредитов не выплачивалось вовремя, среди женатых/замужних заемщиков\n",
      "9.35% кредитов не выплачивалось вовремя, среди заемщиков в гражданском браке \n",
      "6.50% кредитов не выплачивалось вовремя, среди заемщиков вдовцов/вдов\n",
      "7.17% кредитов не выплачивалось вовремя, среди заемщиков в разводе \n",
      "9.77% кредитов не выплачивалось вовремя, среди не женатых/не замужних заемщиков \n"
     ]
    }
   ],
   "source": [
    "# Проверим, что метод выше не врет:\n",
    "family_id_0 = pivot_table_check_family[0][1] / (pivot_table_check_family[0][0] + pivot_table_check_family[0][1])\n",
    "family_id_1 = pivot_table_check_family[1][1] / (pivot_table_check_family[1][0] + pivot_table_check_family[1][1])\n",
    "family_id_2 = pivot_table_check_family[2][1] / (pivot_table_check_family[2][0] + pivot_table_check_family[2][1])\n",
    "family_id_3 = pivot_table_check_family[3][1] / (pivot_table_check_family[3][0] + pivot_table_check_family[3][1])\n",
    "family_id_4 = pivot_table_check_family[4][1] / (pivot_table_check_family[4][0] + pivot_table_check_family[4][1])\n",
    "\n",
    "print(\"{0:.2f}% кредитов не выплачивалось вовремя, среди женатых/замужних заемщиков\".format(family_id_0*100))\n",
    "print(\"{0:.2f}% кредитов не выплачивалось вовремя, среди заемщиков в гражданском браке \".format(family_id_1*100))\n",
    "print(\"{0:.2f}% кредитов не выплачивалось вовремя, среди заемщиков вдовцов/вдов\".format(family_id_2*100))\n",
    "print(\"{0:.2f}% кредитов не выплачивалось вовремя, среди заемщиков в разводе \".format(family_id_3*100))\n",
    "print(\"{0:.2f}% кредитов не выплачивалось вовремя, среди не женатых/не замужних заемщиков \".format(family_id_4*100))\n"
   ]
  },
  {
   "cell_type": "markdown",
   "id": "dada9098",
   "metadata": {},
   "source": [
    "Можно сделать вывод, что заемщики, имевшие штамп в паспорте(вдовцы, разведенные, женатые)  реже просрочивают кредит, в сравнении, с заемщиками, которые не были отягощены узами брака(гражданский брак, не женатые)."
   ]
  },
  {
   "cell_type": "markdown",
   "id": "29338687",
   "metadata": {},
   "source": [
    "### 3.3 Между уровнем дохода заемщика и возвратом кредита в срок есть зависимость."
   ]
  },
  {
   "cell_type": "code",
   "execution_count": 93,
   "id": "f3e05fbb",
   "metadata": {},
   "outputs": [],
   "source": [
    "# Сводная таблица задолженность / категория дохода:\n",
    "pivot_table_check_salary = df.pivot_table(index=['debt'], columns='total_income_category', values='gender', aggfunc='count')"
   ]
  },
  {
   "cell_type": "code",
   "execution_count": 94,
   "id": "21e85ea0",
   "metadata": {},
   "outputs": [
    {
     "data": {
      "text/html": [
       "<div>\n",
       "<style scoped>\n",
       "    .dataframe tbody tr th:only-of-type {\n",
       "        vertical-align: middle;\n",
       "    }\n",
       "\n",
       "    .dataframe tbody tr th {\n",
       "        vertical-align: top;\n",
       "    }\n",
       "\n",
       "    .dataframe thead th {\n",
       "        text-align: right;\n",
       "    }\n",
       "</style>\n",
       "<table border=\"1\" class=\"dataframe\">\n",
       "  <thead>\n",
       "    <tr style=\"text-align: right;\">\n",
       "      <th>total_income_category</th>\n",
       "      <th>A</th>\n",
       "      <th>B</th>\n",
       "      <th>C</th>\n",
       "      <th>D</th>\n",
       "      <th>E</th>\n",
       "    </tr>\n",
       "    <tr>\n",
       "      <th>debt</th>\n",
       "      <th></th>\n",
       "      <th></th>\n",
       "      <th></th>\n",
       "      <th></th>\n",
       "      <th></th>\n",
       "    </tr>\n",
       "  </thead>\n",
       "  <tbody>\n",
       "    <tr>\n",
       "      <th>0</th>\n",
       "      <td>92.000000</td>\n",
       "      <td>92.919824</td>\n",
       "      <td>91.512985</td>\n",
       "      <td>93.965517</td>\n",
       "      <td>90.909091</td>\n",
       "    </tr>\n",
       "    <tr>\n",
       "      <th>1</th>\n",
       "      <td>8.000000</td>\n",
       "      <td>7.080176</td>\n",
       "      <td>8.487015</td>\n",
       "      <td>6.034483</td>\n",
       "      <td>9.090909</td>\n",
       "    </tr>\n",
       "  </tbody>\n",
       "</table>\n",
       "</div>"
      ],
      "text/plain": [
       "total_income_category         A         B         C         D         E\n",
       "debt                                                                   \n",
       "0                     92.000000 92.919824 91.512985 93.965517 90.909091\n",
       "1                      8.000000  7.080176  8.487015  6.034483  9.090909"
      ]
     },
     "execution_count": 94,
     "metadata": {},
     "output_type": "execute_result"
    }
   ],
   "source": [
    "pivot_table_check_salary.apply(lambda x:100 * x / float(x.sum()))"
   ]
  },
  {
   "cell_type": "markdown",
   "id": "5bd8a894",
   "metadata": {},
   "source": [
    "Зависимости между уровнем дохода и возвратом кредита в срок нет."
   ]
  },
  {
   "cell_type": "markdown",
   "id": "d0aa1719",
   "metadata": {},
   "source": [
    "### 3.4 Разные цели кредита влияют на его возврат в срок."
   ]
  },
  {
   "cell_type": "code",
   "execution_count": 95,
   "id": "7e1b9473",
   "metadata": {},
   "outputs": [],
   "source": [
    "# Сводная таблица задолженность / цели кредита:\n",
    "pivot_table_check_goal = df.pivot_table(index=['debt'], columns='purpose_category', values='gender', aggfunc='count')"
   ]
  },
  {
   "cell_type": "code",
   "execution_count": 96,
   "id": "c871ef75",
   "metadata": {},
   "outputs": [
    {
     "data": {
      "text/html": [
       "<div>\n",
       "<style scoped>\n",
       "    .dataframe tbody tr th:only-of-type {\n",
       "        vertical-align: middle;\n",
       "    }\n",
       "\n",
       "    .dataframe tbody tr th {\n",
       "        vertical-align: top;\n",
       "    }\n",
       "\n",
       "    .dataframe thead th {\n",
       "        text-align: right;\n",
       "    }\n",
       "</style>\n",
       "<table border=\"1\" class=\"dataframe\">\n",
       "  <thead>\n",
       "    <tr style=\"text-align: right;\">\n",
       "      <th>purpose_category</th>\n",
       "      <th>операции с автомобилем</th>\n",
       "      <th>операции с недвижимостью</th>\n",
       "      <th>получение образования</th>\n",
       "      <th>проведение свадьбы</th>\n",
       "    </tr>\n",
       "    <tr>\n",
       "      <th>debt</th>\n",
       "      <th></th>\n",
       "      <th></th>\n",
       "      <th></th>\n",
       "      <th></th>\n",
       "    </tr>\n",
       "  </thead>\n",
       "  <tbody>\n",
       "    <tr>\n",
       "      <th>0</th>\n",
       "      <td>90.662932</td>\n",
       "      <td>92.762241</td>\n",
       "      <td>90.738423</td>\n",
       "      <td>92.034632</td>\n",
       "    </tr>\n",
       "    <tr>\n",
       "      <th>1</th>\n",
       "      <td>9.337068</td>\n",
       "      <td>7.237759</td>\n",
       "      <td>9.261577</td>\n",
       "      <td>7.965368</td>\n",
       "    </tr>\n",
       "  </tbody>\n",
       "</table>\n",
       "</div>"
      ],
      "text/plain": [
       "purpose_category  операции с автомобилем  операции с недвижимостью  \\\n",
       "debt                                                                 \n",
       "0                              90.662932                 92.762241   \n",
       "1                               9.337068                  7.237759   \n",
       "\n",
       "purpose_category  получение образования  проведение свадьбы  \n",
       "debt                                                         \n",
       "0                             90.738423           92.034632  \n",
       "1                              9.261577            7.965368  "
      ]
     },
     "execution_count": 96,
     "metadata": {},
     "output_type": "execute_result"
    }
   ],
   "source": [
    "pivot_table_check_goal.apply(lambda x:100 * x / float(x.sum()))"
   ]
  },
  {
   "cell_type": "markdown",
   "id": "48800784",
   "metadata": {},
   "source": [
    "Заемщики, с целью кредита операции с недвижимостью и проведение свадьбы чаще возвращают кредит в срок, чем заемщики, цель кредита которых операции с автомобилем и получение образования. "
   ]
  },
  {
   "cell_type": "markdown",
   "id": "f748cbba",
   "metadata": {},
   "source": [
    "## 4 Итоги исследования"
   ]
  },
  {
   "cell_type": "markdown",
   "id": "072ea732",
   "metadata": {},
   "source": [
    "Мы проверили обработали данные на пропуски и аномалии, подготовили их к анализу и проверили 4 гипотезы:\n",
    "1. Заемщики без детей реже просрочивают выплаты по кредиту, между количеством детей и количеством просроченных кредитов есть зависимость.\n",
    "\n",
    "2. Между семейным положением и выплатой кредитов в срок тоже есть зависимость, причем, интересен тот факт, что заемщики, у которых был или есть официальный брак реже просрочивают выплаты.\n",
    "\n",
    "3. Между уровнем дохода и выплатами кредита в срок нет прямой зависимости. Возможно на результат проверки данной гипотезы повлияли пропуски в `total_income`, или способ, которым мы заполняли пропуски. \n",
    "\n",
    "4. Цель  кредита влияет на его возврат в срок, так, мы можем утверждать, что заемщики, с целями кредита `операции с недвижимостью` и `проведение свадьбы` относятся более ответственно к погашению кредита в срок. "
   ]
  }
 ],
 "metadata": {
  "ExecuteTimeLog": [
   {
    "duration": 605,
    "start_time": "2022-05-05T13:24:27.995Z"
   },
   {
    "duration": 73,
    "start_time": "2022-05-05T13:24:28.602Z"
   },
   {
    "duration": 34,
    "start_time": "2022-05-05T13:24:28.677Z"
   },
   {
    "duration": 21,
    "start_time": "2022-05-05T13:24:28.713Z"
   },
   {
    "duration": 45,
    "start_time": "2022-05-05T13:24:28.736Z"
   },
   {
    "duration": 12,
    "start_time": "2022-05-05T13:24:28.784Z"
   },
   {
    "duration": 4,
    "start_time": "2022-05-05T13:24:28.798Z"
   },
   {
    "duration": 14,
    "start_time": "2022-05-05T13:24:28.804Z"
   },
   {
    "duration": 8,
    "start_time": "2022-05-05T13:24:28.820Z"
   },
   {
    "duration": 53,
    "start_time": "2022-05-05T13:24:28.830Z"
   },
   {
    "duration": 11,
    "start_time": "2022-05-05T13:24:28.886Z"
   },
   {
    "duration": 10,
    "start_time": "2022-05-05T13:24:28.900Z"
   },
   {
    "duration": 11,
    "start_time": "2022-05-05T13:24:28.912Z"
   },
   {
    "duration": 56,
    "start_time": "2022-05-05T13:24:28.925Z"
   },
   {
    "duration": 7,
    "start_time": "2022-05-05T13:24:28.984Z"
   },
   {
    "duration": 14,
    "start_time": "2022-05-05T13:24:28.993Z"
   },
   {
    "duration": 9,
    "start_time": "2022-05-05T13:24:29.010Z"
   },
   {
    "duration": 13,
    "start_time": "2022-05-05T13:24:29.021Z"
   },
   {
    "duration": 46,
    "start_time": "2022-05-05T13:24:29.036Z"
   },
   {
    "duration": 14,
    "start_time": "2022-05-05T13:24:29.084Z"
   },
   {
    "duration": 1306,
    "start_time": "2022-05-05T13:24:29.100Z"
   },
   {
    "duration": 7,
    "start_time": "2022-05-05T13:24:30.409Z"
   },
   {
    "duration": 110,
    "start_time": "2022-05-05T13:24:30.418Z"
   },
   {
    "duration": 8,
    "start_time": "2022-05-05T13:24:30.530Z"
   },
   {
    "duration": 47,
    "start_time": "2022-05-05T13:24:30.540Z"
   },
   {
    "duration": 14,
    "start_time": "2022-05-05T13:24:30.589Z"
   },
   {
    "duration": 14,
    "start_time": "2022-05-05T13:24:30.605Z"
   },
   {
    "duration": 35,
    "start_time": "2022-05-05T13:24:30.621Z"
   },
   {
    "duration": 14,
    "start_time": "2022-05-05T13:24:30.659Z"
   },
   {
    "duration": 30,
    "start_time": "2022-05-05T13:24:30.682Z"
   },
   {
    "duration": 22,
    "start_time": "2022-05-05T13:24:30.715Z"
   },
   {
    "duration": 16,
    "start_time": "2022-05-05T13:24:30.739Z"
   },
   {
    "duration": 34,
    "start_time": "2022-05-05T13:24:30.758Z"
   },
   {
    "duration": 14,
    "start_time": "2022-05-05T13:24:30.795Z"
   },
   {
    "duration": 19,
    "start_time": "2022-05-05T13:24:30.811Z"
   },
   {
    "duration": 10,
    "start_time": "2022-05-05T13:24:30.843Z"
   },
   {
    "duration": 40,
    "start_time": "2022-05-05T13:24:30.856Z"
   },
   {
    "duration": 24,
    "start_time": "2022-05-05T13:24:30.899Z"
   },
   {
    "duration": 22,
    "start_time": "2022-05-05T13:24:30.925Z"
   },
   {
    "duration": 43,
    "start_time": "2022-05-05T13:24:30.949Z"
   },
   {
    "duration": 3297,
    "start_time": "2022-05-05T13:24:30.994Z"
   },
   {
    "duration": 8,
    "start_time": "2022-05-05T13:24:34.293Z"
   },
   {
    "duration": 11,
    "start_time": "2022-05-05T13:24:34.303Z"
   },
   {
    "duration": 12,
    "start_time": "2022-05-05T13:24:34.316Z"
   },
   {
    "duration": 10,
    "start_time": "2022-05-05T13:24:34.330Z"
   },
   {
    "duration": 102,
    "start_time": "2022-05-05T13:24:34.342Z"
   },
   {
    "duration": 7,
    "start_time": "2022-05-05T13:24:34.447Z"
   },
   {
    "duration": 30,
    "start_time": "2022-05-05T13:24:34.457Z"
   },
   {
    "duration": 10,
    "start_time": "2022-05-05T13:24:34.490Z"
   },
   {
    "duration": 9,
    "start_time": "2022-05-05T13:24:34.503Z"
   },
   {
    "duration": 7,
    "start_time": "2022-05-05T13:24:34.514Z"
   },
   {
    "duration": 83,
    "start_time": "2022-05-05T13:24:34.523Z"
   },
   {
    "duration": 6,
    "start_time": "2022-05-05T13:24:34.608Z"
   },
   {
    "duration": 20,
    "start_time": "2022-05-05T13:24:34.617Z"
   },
   {
    "duration": 15,
    "start_time": "2022-05-05T13:24:34.639Z"
   },
   {
    "duration": 5,
    "start_time": "2022-05-05T13:24:34.682Z"
   },
   {
    "duration": 11,
    "start_time": "2022-05-05T13:24:34.689Z"
   },
   {
    "duration": 25,
    "start_time": "2022-05-05T13:24:34.702Z"
   },
   {
    "duration": 9,
    "start_time": "2022-05-05T13:24:34.730Z"
   },
   {
    "duration": 53,
    "start_time": "2022-05-05T13:24:34.741Z"
   },
   {
    "duration": 11,
    "start_time": "2022-05-05T13:24:34.796Z"
   },
   {
    "duration": 28,
    "start_time": "2022-05-05T13:24:34.809Z"
   },
   {
    "duration": 9,
    "start_time": "2022-05-05T13:24:34.839Z"
   },
   {
    "duration": 44,
    "start_time": "2022-05-05T13:24:34.850Z"
   },
   {
    "duration": 11,
    "start_time": "2022-05-05T13:24:34.896Z"
   },
   {
    "duration": 28,
    "start_time": "2022-05-05T13:24:34.909Z"
   },
   {
    "duration": 78,
    "start_time": "2022-05-05T13:24:34.939Z"
   },
   {
    "duration": 73,
    "start_time": "2022-05-05T13:24:35.019Z"
   },
   {
    "duration": 28,
    "start_time": "2022-05-05T13:24:35.094Z"
   },
   {
    "duration": 26,
    "start_time": "2022-05-05T13:24:35.125Z"
   },
   {
    "duration": 10,
    "start_time": "2022-05-05T13:24:35.181Z"
   },
   {
    "duration": 15,
    "start_time": "2022-05-05T13:24:35.193Z"
   },
   {
    "duration": 14,
    "start_time": "2022-05-05T13:24:35.210Z"
   },
   {
    "duration": 10,
    "start_time": "2022-05-05T13:24:35.226Z"
   },
   {
    "duration": 46,
    "start_time": "2022-05-05T13:24:35.238Z"
   },
   {
    "duration": 5,
    "start_time": "2022-05-05T13:24:35.286Z"
   },
   {
    "duration": 29,
    "start_time": "2022-05-05T13:24:35.293Z"
   },
   {
    "duration": 13,
    "start_time": "2022-05-05T13:24:35.324Z"
   },
   {
    "duration": 43,
    "start_time": "2022-05-05T13:24:35.339Z"
   },
   {
    "duration": 27,
    "start_time": "2022-05-05T13:24:35.384Z"
   },
   {
    "duration": 8,
    "start_time": "2022-05-05T13:24:35.414Z"
   },
   {
    "duration": 23,
    "start_time": "2022-05-05T13:24:35.424Z"
   },
   {
    "duration": 9,
    "start_time": "2022-05-05T13:24:35.449Z"
   },
   {
    "duration": 29,
    "start_time": "2022-05-05T13:24:35.460Z"
   },
   {
    "duration": 24,
    "start_time": "2022-05-05T13:24:35.491Z"
   },
   {
    "duration": 27,
    "start_time": "2022-05-05T13:24:35.517Z"
   },
   {
    "duration": 11,
    "start_time": "2022-05-05T13:24:35.546Z"
   },
   {
    "duration": 10,
    "start_time": "2022-05-05T13:24:35.581Z"
   },
   {
    "duration": 27,
    "start_time": "2022-05-05T13:24:35.593Z"
   },
   {
    "duration": 10,
    "start_time": "2022-05-05T13:24:35.622Z"
   },
   {
    "duration": 51,
    "start_time": "2022-05-05T13:24:35.634Z"
   },
   {
    "duration": 10,
    "start_time": "2022-05-05T13:24:35.687Z"
   },
   {
    "duration": 25,
    "start_time": "2022-05-05T13:24:35.699Z"
   },
   {
    "duration": 15,
    "start_time": "2022-05-05T13:24:35.727Z"
   },
   {
    "duration": 52,
    "start_time": "2022-05-05T13:24:35.744Z"
   },
   {
    "duration": 14,
    "start_time": "2022-05-05T13:24:35.798Z"
   },
   {
    "duration": 39,
    "start_time": "2022-05-05T13:34:10.179Z"
   },
   {
    "duration": 15,
    "start_time": "2022-05-05T13:36:03.167Z"
   },
   {
    "duration": 52,
    "start_time": "2022-05-05T21:05:17.579Z"
   },
   {
    "duration": 398,
    "start_time": "2022-05-05T21:05:21.960Z"
   },
   {
    "duration": 63,
    "start_time": "2022-05-05T21:05:22.361Z"
   },
   {
    "duration": 41,
    "start_time": "2022-05-05T21:05:22.639Z"
   },
   {
    "duration": 627,
    "start_time": "2022-05-06T12:52:27.401Z"
   },
   {
    "duration": 97,
    "start_time": "2022-05-06T12:52:28.030Z"
   },
   {
    "duration": 18,
    "start_time": "2022-05-06T12:52:53.005Z"
   },
   {
    "duration": 441,
    "start_time": "2022-05-06T13:04:27.753Z"
   },
   {
    "duration": 83,
    "start_time": "2022-05-06T13:04:28.196Z"
   },
   {
    "duration": 21,
    "start_time": "2022-05-06T13:04:28.280Z"
   },
   {
    "duration": 33,
    "start_time": "2022-05-06T13:04:28.303Z"
   },
   {
    "duration": 19,
    "start_time": "2022-05-06T13:04:28.339Z"
   },
   {
    "duration": 10,
    "start_time": "2022-05-06T13:04:28.360Z"
   },
   {
    "duration": 3,
    "start_time": "2022-05-06T13:04:28.372Z"
   },
   {
    "duration": 8,
    "start_time": "2022-05-06T13:04:28.377Z"
   },
   {
    "duration": 41,
    "start_time": "2022-05-06T13:04:28.387Z"
   },
   {
    "duration": 9,
    "start_time": "2022-05-06T13:04:28.435Z"
   },
   {
    "duration": 10,
    "start_time": "2022-05-06T13:04:28.446Z"
   },
   {
    "duration": 11,
    "start_time": "2022-05-06T13:04:28.458Z"
   },
   {
    "duration": 8,
    "start_time": "2022-05-06T13:04:28.471Z"
   },
   {
    "duration": 43,
    "start_time": "2022-05-06T13:04:28.481Z"
   },
   {
    "duration": 6,
    "start_time": "2022-05-06T13:04:28.526Z"
   },
   {
    "duration": 11,
    "start_time": "2022-05-06T13:04:28.536Z"
   },
   {
    "duration": 8,
    "start_time": "2022-05-06T13:04:28.549Z"
   },
   {
    "duration": 8,
    "start_time": "2022-05-06T13:04:28.559Z"
   },
   {
    "duration": 9,
    "start_time": "2022-05-06T13:04:28.569Z"
   },
   {
    "duration": 45,
    "start_time": "2022-05-06T13:04:28.580Z"
   },
   {
    "duration": 844,
    "start_time": "2022-05-06T13:04:28.627Z"
   },
   {
    "duration": 6,
    "start_time": "2022-05-06T13:04:29.474Z"
   },
   {
    "duration": 88,
    "start_time": "2022-05-06T13:04:29.482Z"
   },
   {
    "duration": 7,
    "start_time": "2022-05-06T13:04:29.573Z"
   },
   {
    "duration": 48,
    "start_time": "2022-05-06T13:04:29.583Z"
   },
   {
    "duration": 12,
    "start_time": "2022-05-06T13:04:29.635Z"
   },
   {
    "duration": 4,
    "start_time": "2022-05-06T13:04:29.649Z"
   },
   {
    "duration": 19,
    "start_time": "2022-05-06T13:04:29.658Z"
   },
   {
    "duration": 16,
    "start_time": "2022-05-06T13:04:29.679Z"
   },
   {
    "duration": 10,
    "start_time": "2022-05-06T13:04:29.696Z"
   },
   {
    "duration": 27,
    "start_time": "2022-05-06T13:04:29.708Z"
   },
   {
    "duration": 9,
    "start_time": "2022-05-06T13:04:29.739Z"
   },
   {
    "duration": 9,
    "start_time": "2022-05-06T13:04:29.749Z"
   },
   {
    "duration": 16,
    "start_time": "2022-05-06T13:04:29.759Z"
   },
   {
    "duration": 12,
    "start_time": "2022-05-06T13:04:29.777Z"
   },
   {
    "duration": 8,
    "start_time": "2022-05-06T13:04:29.791Z"
   },
   {
    "duration": 35,
    "start_time": "2022-05-06T13:04:29.801Z"
   },
   {
    "duration": 9,
    "start_time": "2022-05-06T13:04:29.839Z"
   },
   {
    "duration": 9,
    "start_time": "2022-05-06T13:04:29.850Z"
   },
   {
    "duration": 14,
    "start_time": "2022-05-06T13:04:29.861Z"
   },
   {
    "duration": 1427,
    "start_time": "2022-05-06T13:04:29.877Z"
   },
   {
    "duration": 5,
    "start_time": "2022-05-06T13:04:31.306Z"
   },
   {
    "duration": 24,
    "start_time": "2022-05-06T13:04:31.313Z"
   },
   {
    "duration": 17,
    "start_time": "2022-05-06T13:04:31.339Z"
   },
   {
    "duration": 9,
    "start_time": "2022-05-06T13:04:31.358Z"
   },
   {
    "duration": 68,
    "start_time": "2022-05-06T13:04:31.369Z"
   },
   {
    "duration": 7,
    "start_time": "2022-05-06T13:04:31.443Z"
   },
   {
    "duration": 6,
    "start_time": "2022-05-06T13:04:31.452Z"
   },
   {
    "duration": 7,
    "start_time": "2022-05-06T13:04:31.460Z"
   },
   {
    "duration": 9,
    "start_time": "2022-05-06T13:04:31.469Z"
   },
   {
    "duration": 3,
    "start_time": "2022-05-06T13:04:31.480Z"
   },
   {
    "duration": 73,
    "start_time": "2022-05-06T13:04:31.485Z"
   },
   {
    "duration": 5,
    "start_time": "2022-05-06T13:04:31.561Z"
   },
   {
    "duration": 16,
    "start_time": "2022-05-06T13:04:31.568Z"
   },
   {
    "duration": 39,
    "start_time": "2022-05-06T13:04:31.586Z"
   },
   {
    "duration": 6,
    "start_time": "2022-05-06T13:04:31.629Z"
   },
   {
    "duration": 7,
    "start_time": "2022-05-06T13:04:31.637Z"
   },
   {
    "duration": 20,
    "start_time": "2022-05-06T13:04:31.646Z"
   },
   {
    "duration": 8,
    "start_time": "2022-05-06T13:04:31.669Z"
   },
   {
    "duration": 51,
    "start_time": "2022-05-06T13:04:31.679Z"
   },
   {
    "duration": 11,
    "start_time": "2022-05-06T13:04:31.732Z"
   },
   {
    "duration": 22,
    "start_time": "2022-05-06T13:04:31.745Z"
   },
   {
    "duration": 8,
    "start_time": "2022-05-06T13:04:31.769Z"
   },
   {
    "duration": 13,
    "start_time": "2022-05-06T13:04:31.779Z"
   },
   {
    "duration": 34,
    "start_time": "2022-05-06T13:04:31.794Z"
   },
   {
    "duration": 24,
    "start_time": "2022-05-06T13:04:31.829Z"
   },
   {
    "duration": 30,
    "start_time": "2022-05-06T13:04:31.855Z"
   },
   {
    "duration": 59,
    "start_time": "2022-05-06T13:04:31.887Z"
   },
   {
    "duration": 20,
    "start_time": "2022-05-06T13:04:31.948Z"
   },
   {
    "duration": 20,
    "start_time": "2022-05-06T13:04:31.970Z"
   },
   {
    "duration": 32,
    "start_time": "2022-05-06T13:04:31.992Z"
   },
   {
    "duration": 12,
    "start_time": "2022-05-06T13:04:32.031Z"
   },
   {
    "duration": 10,
    "start_time": "2022-05-06T13:04:32.045Z"
   },
   {
    "duration": 13,
    "start_time": "2022-05-06T13:04:32.057Z"
   },
   {
    "duration": 8,
    "start_time": "2022-05-06T13:04:32.072Z"
   },
   {
    "duration": 8,
    "start_time": "2022-05-06T13:04:32.082Z"
   },
   {
    "duration": 41,
    "start_time": "2022-05-06T13:04:32.091Z"
   },
   {
    "duration": 12,
    "start_time": "2022-05-06T13:04:32.134Z"
   },
   {
    "duration": 3,
    "start_time": "2022-05-06T13:04:32.148Z"
   },
   {
    "duration": 15,
    "start_time": "2022-05-06T13:04:32.153Z"
   },
   {
    "duration": 23,
    "start_time": "2022-05-06T13:04:32.170Z"
   },
   {
    "duration": 34,
    "start_time": "2022-05-06T13:04:32.200Z"
   },
   {
    "duration": 9,
    "start_time": "2022-05-06T13:04:32.239Z"
   },
   {
    "duration": 8,
    "start_time": "2022-05-06T13:04:32.250Z"
   },
   {
    "duration": 19,
    "start_time": "2022-05-06T13:04:32.260Z"
   },
   {
    "duration": 19,
    "start_time": "2022-05-06T13:04:32.281Z"
   },
   {
    "duration": 31,
    "start_time": "2022-05-06T13:04:32.302Z"
   },
   {
    "duration": 14,
    "start_time": "2022-05-06T13:04:32.335Z"
   },
   {
    "duration": 22,
    "start_time": "2022-05-06T13:04:32.350Z"
   },
   {
    "duration": 9,
    "start_time": "2022-05-06T13:04:32.374Z"
   },
   {
    "duration": 14,
    "start_time": "2022-05-06T13:04:32.384Z"
   },
   {
    "duration": 7,
    "start_time": "2022-05-06T13:04:32.400Z"
   },
   {
    "duration": 36,
    "start_time": "2022-05-06T13:04:32.409Z"
   },
   {
    "duration": 10,
    "start_time": "2022-05-06T13:04:32.447Z"
   },
   {
    "duration": 21,
    "start_time": "2022-05-06T13:04:32.459Z"
   },
   {
    "duration": 10,
    "start_time": "2022-05-06T13:04:32.482Z"
   }
  ],
  "kernelspec": {
   "display_name": "Python 3 (ipykernel)",
   "language": "python",
   "name": "python3"
  },
  "language_info": {
   "codemirror_mode": {
    "name": "ipython",
    "version": 3
   },
   "file_extension": ".py",
   "mimetype": "text/x-python",
   "name": "python",
   "nbconvert_exporter": "python",
   "pygments_lexer": "ipython3",
   "version": "3.11.5"
  },
  "latex_envs": {
   "LaTeX_envs_menu_present": true,
   "autoclose": false,
   "autocomplete": true,
   "bibliofile": "biblio.bib",
   "cite_by": "apalike",
   "current_citInitial": 1,
   "eqLabelWithNumbers": true,
   "eqNumInitial": 1,
   "hotkeys": {
    "equation": "Ctrl-E",
    "itemize": "Ctrl-I"
   },
   "labels_anchors": false,
   "latex_user_defs": false,
   "report_style_numbering": false,
   "user_envs_cfg": false
  },
  "toc": {
   "base_numbering": 1,
   "nav_menu": {},
   "number_sections": true,
   "sideBar": true,
   "skip_h1_title": true,
   "title_cell": "Table of Contents",
   "title_sidebar": "Contents",
   "toc_cell": true,
   "toc_position": {
    "height": "calc(100% - 180px)",
    "left": "10px",
    "top": "150px",
    "width": "603.438px"
   },
   "toc_section_display": true,
   "toc_window_display": false
  },
  "toc-autonumbering": false,
  "toc-showcode": false,
  "toc-showmarkdowntxt": false,
  "toc-showtags": true
 },
 "nbformat": 4,
 "nbformat_minor": 5
}
