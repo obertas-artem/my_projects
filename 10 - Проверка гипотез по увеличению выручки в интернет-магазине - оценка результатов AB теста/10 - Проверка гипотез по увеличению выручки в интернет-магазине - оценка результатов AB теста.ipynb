{
 "cells": [
  {
   "cell_type": "markdown",
   "metadata": {},
   "source": [
    "## **Анализ результатов A/B теста**\n"
   ]
  },
  {
   "cell_type": "markdown",
   "metadata": {},
   "source": [
    "#### **Описание проекта**\n",
    "Вы — аналитик крупного интернет-магазина. Вместе с отделом маркетинга вы подготовили список гипотез для увеличения выручки.\n",
    "Приоритизируйте гипотезы, запустите A/B-тест и проанализируйте результаты. "
   ]
  },
  {
   "cell_type": "markdown",
   "metadata": {},
   "source": [
    "#### **Описание данных**\n",
    "\n",
    "Данные для первой части:\n",
    "\n",
    "Файл `/datasets/hypothesis.csv`\n",
    "\n",
    "* `Hypothesis` — краткое описание гипотезы;\n",
    "* `Reach` — охват пользователей по 10-балльной шкале;\n",
    "* `Impact` — влияние на пользователей по 10-балльной шкале;\n",
    "* `Confidence` — уверенность в гипотезе по 10-балльной шкале;\n",
    "* `Efforts` — затраты ресурсов на проверку гипотезы по 10-балльной шкале. Чем больше значение `Efforts`, тем дороже проверка гипотезы.\n",
    "\n",
    "\n",
    "Данные для второй части:\n",
    "\n",
    "Файл `/datasets/orders.csv`\n",
    "\n",
    "* `transactionId` — идентификатор заказа;\n",
    "* `visitorId` — идентификатор пользователя, совершившего заказ;\n",
    "* `date` — дата, когда был совершён заказ;\n",
    "* `revenue` — выручка заказа;\n",
    "* `group` — группа A/B-теста, в которую попал заказ.\n",
    "\n",
    "\n",
    "Файл `/datasets/visitors.csv`\n",
    "\n",
    "* `date` — дата;\n",
    "* `group` — группа A/B-теста;\n",
    "* `visitors` — количество пользователей в указанную дату в указанной группе A/B-теста\n"
   ]
  },
  {
   "cell_type": "markdown",
   "metadata": {},
   "source": [
    "### **Импорт библиотек и настроек**"
   ]
  },
  {
   "cell_type": "code",
   "execution_count": 1,
   "metadata": {},
   "outputs": [],
   "source": [
    "# Импорт бибилиотек\n",
    "import pandas as pd\n",
    "import os\n",
    "import numpy as np\n",
    "import matplotlib.pyplot as plt\n",
    "import datetime as dt\n",
    "import numpy as np\n",
    "from pandas.plotting import register_matplotlib_converters\n",
    "import warnings\n",
    "import matplotlib.ticker as ticker\n",
    "from scipy import stats as st\n",
    "import numpy as np\n",
    "import math as mth\n",
    "\n",
    "\n",
    "# настройка на большой принт\n",
    "pd.set_option(\"display.max_rows\", None)\n",
    "\n",
    "\n",
    "from pylab import rcParams\n",
    "rcParams['figure.figsize'] = 8, 4\n"
   ]
  },
  {
   "cell_type": "markdown",
   "metadata": {},
   "source": [
    "### **Чтение файлов с данными**"
   ]
  },
  {
   "cell_type": "code",
   "execution_count": 2,
   "metadata": {},
   "outputs": [],
   "source": [
    "try: \n",
    "    os.path.exists('/datasets/hypothesis.csv')\n",
    "    os.path.exists('/datasets/orders.csv')\n",
    "    os.path.exists('/datasets/visitors.csv')\n",
    "\n",
    "    hypothesis_raw = pd.read_csv('/datasets/hypothesis.csv')\n",
    "    orders_raw = pd.read_csv('/datasets/orders.csv')\n",
    "    visitors_raw = pd.read_csv('/datasets/visitors.csv')\n",
    "except:\n",
    "    hypothesis_raw = pd.read_csv('datasets/hypothesis.csv')\n",
    "    orders_raw = pd.read_csv('datasets/orders.csv')\n",
    "    visitors_raw = pd.read_csv('datasets/visitors.csv')\n",
    "\n",
    "hypothesis = hypothesis_raw.copy()\n",
    "orders = orders_raw.copy()\n",
    "visitors = visitors_raw.copy()"
   ]
  },
  {
   "cell_type": "markdown",
   "metadata": {},
   "source": [
    "### **Предобработка данных**"
   ]
  },
  {
   "cell_type": "markdown",
   "metadata": {},
   "source": [
    "#### **1. Файл `/datasets/hypothesis.csv`***"
   ]
  },
  {
   "cell_type": "code",
   "execution_count": 3,
   "metadata": {},
   "outputs": [
    {
     "name": "stdout",
     "output_type": "stream",
     "text": [
      "<class 'pandas.core.frame.DataFrame'>\n",
      "RangeIndex: 9 entries, 0 to 8\n",
      "Data columns (total 5 columns):\n",
      " #   Column      Non-Null Count  Dtype \n",
      "---  ------      --------------  ----- \n",
      " 0   Hypothesis  9 non-null      object\n",
      " 1   Reach       9 non-null      int64 \n",
      " 2   Impact      9 non-null      int64 \n",
      " 3   Confidence  9 non-null      int64 \n",
      " 4   Efforts     9 non-null      int64 \n",
      "dtypes: int64(4), object(1)\n",
      "memory usage: 488.0+ bytes\n"
     ]
    }
   ],
   "source": [
    "hypothesis.info()"
   ]
  },
  {
   "cell_type": "code",
   "execution_count": 4,
   "metadata": {},
   "outputs": [
    {
     "data": {
      "text/html": [
       "<div>\n",
       "<style scoped>\n",
       "    .dataframe tbody tr th:only-of-type {\n",
       "        vertical-align: middle;\n",
       "    }\n",
       "\n",
       "    .dataframe tbody tr th {\n",
       "        vertical-align: top;\n",
       "    }\n",
       "\n",
       "    .dataframe thead th {\n",
       "        text-align: right;\n",
       "    }\n",
       "</style>\n",
       "<table border=\"1\" class=\"dataframe\">\n",
       "  <thead>\n",
       "    <tr style=\"text-align: right;\">\n",
       "      <th></th>\n",
       "      <th>Hypothesis</th>\n",
       "      <th>Reach</th>\n",
       "      <th>Impact</th>\n",
       "      <th>Confidence</th>\n",
       "      <th>Efforts</th>\n",
       "    </tr>\n",
       "  </thead>\n",
       "  <tbody>\n",
       "    <tr>\n",
       "      <th>0</th>\n",
       "      <td>Добавить два новых канала привлечения трафика,...</td>\n",
       "      <td>3</td>\n",
       "      <td>10</td>\n",
       "      <td>8</td>\n",
       "      <td>6</td>\n",
       "    </tr>\n",
       "    <tr>\n",
       "      <th>1</th>\n",
       "      <td>Запустить собственную службу доставки, что сок...</td>\n",
       "      <td>2</td>\n",
       "      <td>5</td>\n",
       "      <td>4</td>\n",
       "      <td>10</td>\n",
       "    </tr>\n",
       "    <tr>\n",
       "      <th>2</th>\n",
       "      <td>Добавить блоки рекомендаций товаров на сайт ин...</td>\n",
       "      <td>8</td>\n",
       "      <td>3</td>\n",
       "      <td>7</td>\n",
       "      <td>3</td>\n",
       "    </tr>\n",
       "    <tr>\n",
       "      <th>3</th>\n",
       "      <td>Изменить структура категорий, что увеличит кон...</td>\n",
       "      <td>8</td>\n",
       "      <td>3</td>\n",
       "      <td>3</td>\n",
       "      <td>8</td>\n",
       "    </tr>\n",
       "    <tr>\n",
       "      <th>4</th>\n",
       "      <td>Изменить цвет фона главной страницы, чтобы уве...</td>\n",
       "      <td>3</td>\n",
       "      <td>1</td>\n",
       "      <td>1</td>\n",
       "      <td>1</td>\n",
       "    </tr>\n",
       "    <tr>\n",
       "      <th>5</th>\n",
       "      <td>Добавить страницу отзывов клиентов о магазине,...</td>\n",
       "      <td>3</td>\n",
       "      <td>2</td>\n",
       "      <td>2</td>\n",
       "      <td>3</td>\n",
       "    </tr>\n",
       "    <tr>\n",
       "      <th>6</th>\n",
       "      <td>Показать на главной странице баннеры с актуаль...</td>\n",
       "      <td>5</td>\n",
       "      <td>3</td>\n",
       "      <td>8</td>\n",
       "      <td>3</td>\n",
       "    </tr>\n",
       "    <tr>\n",
       "      <th>7</th>\n",
       "      <td>Добавить форму подписки на все основные страни...</td>\n",
       "      <td>10</td>\n",
       "      <td>7</td>\n",
       "      <td>8</td>\n",
       "      <td>5</td>\n",
       "    </tr>\n",
       "    <tr>\n",
       "      <th>8</th>\n",
       "      <td>Запустить акцию, дающую скидку на товар в день...</td>\n",
       "      <td>1</td>\n",
       "      <td>9</td>\n",
       "      <td>9</td>\n",
       "      <td>5</td>\n",
       "    </tr>\n",
       "  </tbody>\n",
       "</table>\n",
       "</div>"
      ],
      "text/plain": [
       "                                          Hypothesis  Reach  Impact  \\\n",
       "0  Добавить два новых канала привлечения трафика,...      3      10   \n",
       "1  Запустить собственную службу доставки, что сок...      2       5   \n",
       "2  Добавить блоки рекомендаций товаров на сайт ин...      8       3   \n",
       "3  Изменить структура категорий, что увеличит кон...      8       3   \n",
       "4  Изменить цвет фона главной страницы, чтобы уве...      3       1   \n",
       "5  Добавить страницу отзывов клиентов о магазине,...      3       2   \n",
       "6  Показать на главной странице баннеры с актуаль...      5       3   \n",
       "7  Добавить форму подписки на все основные страни...     10       7   \n",
       "8  Запустить акцию, дающую скидку на товар в день...      1       9   \n",
       "\n",
       "   Confidence  Efforts  \n",
       "0           8        6  \n",
       "1           4       10  \n",
       "2           7        3  \n",
       "3           3        8  \n",
       "4           1        1  \n",
       "5           2        3  \n",
       "6           8        3  \n",
       "7           8        5  \n",
       "8           9        5  "
      ]
     },
     "execution_count": 4,
     "metadata": {},
     "output_type": "execute_result"
    }
   ],
   "source": [
    "hypothesis.head(10)"
   ]
  },
  {
   "cell_type": "markdown",
   "metadata": {},
   "source": [
    "#### **2. Файл `/datasets/orders.csv`**"
   ]
  },
  {
   "cell_type": "code",
   "execution_count": 5,
   "metadata": {},
   "outputs": [],
   "source": [
    "def df_first_glance(df):\n",
    "    print('Пять рандомных строк:')\n",
    "    display(df.sample(5))\n",
    "    print('\\n\\n\\n')\n",
    "    print('Информация по датафрейму: \\n')\n",
    "    display(df.info())\n",
    "    print('\\n\\n\\n')\n",
    "    print('Подсчет пропусков:')\n",
    "    display(df.isna().sum())\n",
    "    print('\\n\\n\\n')\n",
    "    print('Подсчет дубликатов:')\n",
    "    display('Колличество очевидных дубликатов равно {:}'.format(df.duplicated().sum()))\n"
   ]
  },
  {
   "cell_type": "code",
   "execution_count": 6,
   "metadata": {},
   "outputs": [
    {
     "name": "stdout",
     "output_type": "stream",
     "text": [
      "Пять рандомных строк:\n"
     ]
    },
    {
     "data": {
      "text/html": [
       "<div>\n",
       "<style scoped>\n",
       "    .dataframe tbody tr th:only-of-type {\n",
       "        vertical-align: middle;\n",
       "    }\n",
       "\n",
       "    .dataframe tbody tr th {\n",
       "        vertical-align: top;\n",
       "    }\n",
       "\n",
       "    .dataframe thead th {\n",
       "        text-align: right;\n",
       "    }\n",
       "</style>\n",
       "<table border=\"1\" class=\"dataframe\">\n",
       "  <thead>\n",
       "    <tr style=\"text-align: right;\">\n",
       "      <th></th>\n",
       "      <th>transactionId</th>\n",
       "      <th>visitorId</th>\n",
       "      <th>date</th>\n",
       "      <th>revenue</th>\n",
       "      <th>group</th>\n",
       "    </tr>\n",
       "  </thead>\n",
       "  <tbody>\n",
       "    <tr>\n",
       "      <th>856</th>\n",
       "      <td>2318242783</td>\n",
       "      <td>1634934899</td>\n",
       "      <td>2019-08-27</td>\n",
       "      <td>770</td>\n",
       "      <td>B</td>\n",
       "    </tr>\n",
       "    <tr>\n",
       "      <th>633</th>\n",
       "      <td>4077952433</td>\n",
       "      <td>178249104</td>\n",
       "      <td>2019-08-20</td>\n",
       "      <td>16950</td>\n",
       "      <td>A</td>\n",
       "    </tr>\n",
       "    <tr>\n",
       "      <th>822</th>\n",
       "      <td>3900298739</td>\n",
       "      <td>1539796403</td>\n",
       "      <td>2019-08-27</td>\n",
       "      <td>2355</td>\n",
       "      <td>A</td>\n",
       "    </tr>\n",
       "    <tr>\n",
       "      <th>1039</th>\n",
       "      <td>1853671858</td>\n",
       "      <td>1859207151</td>\n",
       "      <td>2019-08-10</td>\n",
       "      <td>6645</td>\n",
       "      <td>A</td>\n",
       "    </tr>\n",
       "    <tr>\n",
       "      <th>434</th>\n",
       "      <td>1215410543</td>\n",
       "      <td>3994425631</td>\n",
       "      <td>2019-08-25</td>\n",
       "      <td>1575</td>\n",
       "      <td>B</td>\n",
       "    </tr>\n",
       "  </tbody>\n",
       "</table>\n",
       "</div>"
      ],
      "text/plain": [
       "      transactionId   visitorId        date  revenue group\n",
       "856      2318242783  1634934899  2019-08-27      770     B\n",
       "633      4077952433   178249104  2019-08-20    16950     A\n",
       "822      3900298739  1539796403  2019-08-27     2355     A\n",
       "1039     1853671858  1859207151  2019-08-10     6645     A\n",
       "434      1215410543  3994425631  2019-08-25     1575     B"
      ]
     },
     "metadata": {},
     "output_type": "display_data"
    },
    {
     "name": "stdout",
     "output_type": "stream",
     "text": [
      "\n",
      "\n",
      "\n",
      "\n",
      "Информация по датафрейму: \n",
      "\n",
      "<class 'pandas.core.frame.DataFrame'>\n",
      "RangeIndex: 1197 entries, 0 to 1196\n",
      "Data columns (total 5 columns):\n",
      " #   Column         Non-Null Count  Dtype \n",
      "---  ------         --------------  ----- \n",
      " 0   transactionId  1197 non-null   int64 \n",
      " 1   visitorId      1197 non-null   int64 \n",
      " 2   date           1197 non-null   object\n",
      " 3   revenue        1197 non-null   int64 \n",
      " 4   group          1197 non-null   object\n",
      "dtypes: int64(3), object(2)\n",
      "memory usage: 46.9+ KB\n"
     ]
    },
    {
     "data": {
      "text/plain": [
       "None"
      ]
     },
     "metadata": {},
     "output_type": "display_data"
    },
    {
     "name": "stdout",
     "output_type": "stream",
     "text": [
      "\n",
      "\n",
      "\n",
      "\n",
      "Подсчет пропусков:\n"
     ]
    },
    {
     "data": {
      "text/plain": [
       "transactionId    0\n",
       "visitorId        0\n",
       "date             0\n",
       "revenue          0\n",
       "group            0\n",
       "dtype: int64"
      ]
     },
     "metadata": {},
     "output_type": "display_data"
    },
    {
     "name": "stdout",
     "output_type": "stream",
     "text": [
      "\n",
      "\n",
      "\n",
      "\n",
      "Подсчет дубликатов:\n"
     ]
    },
    {
     "data": {
      "text/plain": [
       "'Колличество очевидных дубликатов равно 0'"
      ]
     },
     "metadata": {},
     "output_type": "display_data"
    }
   ],
   "source": [
    "df_first_glance(orders)"
   ]
  },
  {
   "cell_type": "code",
   "execution_count": 7,
   "metadata": {},
   "outputs": [],
   "source": [
    "# Поменяем тип данных в `date`\n",
    "orders['date'] = orders['date'].map(\n",
    "    lambda x: dt.datetime.strptime(x, '%Y-%m-%d')\n",
    ")"
   ]
  },
  {
   "cell_type": "markdown",
   "metadata": {},
   "source": [
    "Посмотрим, есть ли пользователи, которые участвовали и в А и В группах:"
   ]
  },
  {
   "cell_type": "code",
   "execution_count": 8,
   "metadata": {},
   "outputs": [
    {
     "data": {
      "text/plain": [
       "1197"
      ]
     },
     "execution_count": 8,
     "metadata": {},
     "output_type": "execute_result"
    }
   ],
   "source": [
    "# всего строчек заказов\n",
    "\n",
    "len(orders[orders['group'] == 'A']) + len(orders[orders['group'] == 'B'])\n"
   ]
  },
  {
   "cell_type": "code",
   "execution_count": 9,
   "metadata": {},
   "outputs": [
    {
     "data": {
      "text/plain": [
       "58"
      ]
     },
     "execution_count": 9,
     "metadata": {},
     "output_type": "execute_result"
    }
   ],
   "source": [
    "# Посмотрим, есть ли пересечение А и В\n",
    "pd.Series(orders[orders['group'] == 'A']['visitorId'].unique()).isin(pd.Series(orders[orders['group'] == 'B']['visitorId'].unique())).sum()"
   ]
  },
  {
   "cell_type": "code",
   "execution_count": 10,
   "metadata": {},
   "outputs": [
    {
     "data": {
      "text/plain": [
       "58"
      ]
     },
     "execution_count": 10,
     "metadata": {},
     "output_type": "execute_result"
    }
   ],
   "source": [
    "# вычленим visitorId, которые пересекаются:\n",
    "AinB_and_BinA = set(orders[orders['group'] == 'A']['visitorId']).intersection(set(orders[orders['group'] == 'B']['visitorId']))\n",
    "len(AinB_and_BinA)"
   ]
  },
  {
   "cell_type": "code",
   "execution_count": 11,
   "metadata": {},
   "outputs": [
    {
     "data": {
      "text/plain": [
       "1016"
      ]
     },
     "execution_count": 11,
     "metadata": {},
     "output_type": "execute_result"
    }
   ],
   "source": [
    "# обновим orders\n",
    "orders = orders[orders['visitorId'].isin(AinB_and_BinA) == False]\n",
    "orders.reset_index(drop=True, inplace=True)\n",
    "len(orders)"
   ]
  },
  {
   "cell_type": "code",
   "execution_count": 12,
   "metadata": {},
   "outputs": [
    {
     "name": "stdout",
     "output_type": "stream",
     "text": [
      "Всего строк из датафрейма удалено: 181\n",
      "В процентах строк из датафрейма удалено: 15.12%\n"
     ]
    }
   ],
   "source": [
    "# Посчитаем сколько строк удалили: \n",
    "print('Всего строк из датафрейма удалено:', len(orders_raw) - len(orders))\n",
    "print(f'В процентах строк из датафрейма удалено: {((len(orders_raw) - len(orders)) / len(orders_raw)*100):.2f}%')"
   ]
  },
  {
   "cell_type": "markdown",
   "metadata": {},
   "source": [
    "Мы удалили строки с заказами  от пользователей, которые попали в группу A и B, но есть еще датафрейм с посещениями, мы можем сказать, что, пользователи, совершившие покупки как минимум совершали одно посещение, а для более глубокого анализа не хватает данных, поэтому посчитаем, сколько посещений было по дням:  "
   ]
  },
  {
   "cell_type": "code",
   "execution_count": 13,
   "metadata": {},
   "outputs": [],
   "source": [
    "wrong_orders = orders_raw[orders_raw['visitorId'].isin(AinB_and_BinA) == True]\n",
    "wrong_orders.reset_index(drop=True, inplace=True)\n",
    "A_visits_deleted = wrong_orders[wrong_orders['group'] == 'A'].groupby('date')['transactionId'].count().sort_values(ascending=False).reset_index()\n",
    "B_visits_deleted = wrong_orders[wrong_orders['group'] == 'B'].groupby('date')['transactionId'].count().sort_values(ascending=False).reset_index()\n"
   ]
  },
  {
   "cell_type": "code",
   "execution_count": 14,
   "metadata": {},
   "outputs": [],
   "source": [
    "df_deleted_visits = A_visits_deleted.merge(B_visits_deleted, on = 'date', how='outer')\n",
    "df_deleted_visits.columns = ['date', 'group_A', 'group_B']"
   ]
  },
  {
   "cell_type": "markdown",
   "metadata": {},
   "source": [
    "Соберем все в одну таблицу и посмотрим долю посещений по дням:"
   ]
  },
  {
   "cell_type": "code",
   "execution_count": 15,
   "metadata": {},
   "outputs": [
    {
     "data": {
      "text/html": [
       "<div>\n",
       "<style scoped>\n",
       "    .dataframe tbody tr th:only-of-type {\n",
       "        vertical-align: middle;\n",
       "    }\n",
       "\n",
       "    .dataframe tbody tr th {\n",
       "        vertical-align: top;\n",
       "    }\n",
       "\n",
       "    .dataframe thead th {\n",
       "        text-align: right;\n",
       "    }\n",
       "</style>\n",
       "<table border=\"1\" class=\"dataframe\">\n",
       "  <thead>\n",
       "    <tr style=\"text-align: right;\">\n",
       "      <th></th>\n",
       "      <th>date</th>\n",
       "      <th>group_A</th>\n",
       "      <th>group_B</th>\n",
       "      <th>visitors_A</th>\n",
       "      <th>visitors_B</th>\n",
       "      <th>proportion_A</th>\n",
       "      <th>proportion_B</th>\n",
       "    </tr>\n",
       "  </thead>\n",
       "  <tbody>\n",
       "    <tr>\n",
       "      <th>0</th>\n",
       "      <td>2019-08-14</td>\n",
       "      <td>7.0</td>\n",
       "      <td>9.0</td>\n",
       "      <td>735</td>\n",
       "      <td>746</td>\n",
       "      <td>0.95</td>\n",
       "      <td>1.21</td>\n",
       "    </tr>\n",
       "    <tr>\n",
       "      <th>1</th>\n",
       "      <td>2019-08-22</td>\n",
       "      <td>6.0</td>\n",
       "      <td>4.0</td>\n",
       "      <td>609</td>\n",
       "      <td>650</td>\n",
       "      <td>0.99</td>\n",
       "      <td>0.62</td>\n",
       "    </tr>\n",
       "    <tr>\n",
       "      <th>2</th>\n",
       "      <td>2019-08-04</td>\n",
       "      <td>5.0</td>\n",
       "      <td>3.0</td>\n",
       "      <td>717</td>\n",
       "      <td>770</td>\n",
       "      <td>0.70</td>\n",
       "      <td>0.39</td>\n",
       "    </tr>\n",
       "    <tr>\n",
       "      <th>3</th>\n",
       "      <td>2019-08-29</td>\n",
       "      <td>5.0</td>\n",
       "      <td>5.0</td>\n",
       "      <td>577</td>\n",
       "      <td>531</td>\n",
       "      <td>0.87</td>\n",
       "      <td>0.94</td>\n",
       "    </tr>\n",
       "    <tr>\n",
       "      <th>4</th>\n",
       "      <td>2019-08-27</td>\n",
       "      <td>5.0</td>\n",
       "      <td>5.0</td>\n",
       "      <td>711</td>\n",
       "      <td>720</td>\n",
       "      <td>0.70</td>\n",
       "      <td>0.69</td>\n",
       "    </tr>\n",
       "    <tr>\n",
       "      <th>5</th>\n",
       "      <td>2019-08-23</td>\n",
       "      <td>5.0</td>\n",
       "      <td>2.0</td>\n",
       "      <td>468</td>\n",
       "      <td>546</td>\n",
       "      <td>1.07</td>\n",
       "      <td>0.37</td>\n",
       "    </tr>\n",
       "    <tr>\n",
       "      <th>6</th>\n",
       "      <td>2019-08-09</td>\n",
       "      <td>5.0</td>\n",
       "      <td>6.0</td>\n",
       "      <td>617</td>\n",
       "      <td>610</td>\n",
       "      <td>0.81</td>\n",
       "      <td>0.98</td>\n",
       "    </tr>\n",
       "    <tr>\n",
       "      <th>7</th>\n",
       "      <td>2019-08-15</td>\n",
       "      <td>5.0</td>\n",
       "      <td>5.0</td>\n",
       "      <td>628</td>\n",
       "      <td>544</td>\n",
       "      <td>0.80</td>\n",
       "      <td>0.92</td>\n",
       "    </tr>\n",
       "    <tr>\n",
       "      <th>8</th>\n",
       "      <td>2019-08-12</td>\n",
       "      <td>5.0</td>\n",
       "      <td>4.0</td>\n",
       "      <td>595</td>\n",
       "      <td>543</td>\n",
       "      <td>0.84</td>\n",
       "      <td>0.74</td>\n",
       "    </tr>\n",
       "    <tr>\n",
       "      <th>9</th>\n",
       "      <td>2019-08-17</td>\n",
       "      <td>4.0</td>\n",
       "      <td>1.0</td>\n",
       "      <td>412</td>\n",
       "      <td>421</td>\n",
       "      <td>0.97</td>\n",
       "      <td>0.24</td>\n",
       "    </tr>\n",
       "    <tr>\n",
       "      <th>10</th>\n",
       "      <td>2019-08-18</td>\n",
       "      <td>4.0</td>\n",
       "      <td>2.0</td>\n",
       "      <td>668</td>\n",
       "      <td>737</td>\n",
       "      <td>0.60</td>\n",
       "      <td>0.27</td>\n",
       "    </tr>\n",
       "    <tr>\n",
       "      <th>11</th>\n",
       "      <td>2019-08-31</td>\n",
       "      <td>4.0</td>\n",
       "      <td>3.0</td>\n",
       "      <td>699</td>\n",
       "      <td>718</td>\n",
       "      <td>0.57</td>\n",
       "      <td>0.42</td>\n",
       "    </tr>\n",
       "    <tr>\n",
       "      <th>12</th>\n",
       "      <td>2019-08-21</td>\n",
       "      <td>3.0</td>\n",
       "      <td>2.0</td>\n",
       "      <td>646</td>\n",
       "      <td>656</td>\n",
       "      <td>0.46</td>\n",
       "      <td>0.30</td>\n",
       "    </tr>\n",
       "    <tr>\n",
       "      <th>13</th>\n",
       "      <td>2019-08-06</td>\n",
       "      <td>3.0</td>\n",
       "      <td>5.0</td>\n",
       "      <td>667</td>\n",
       "      <td>655</td>\n",
       "      <td>0.45</td>\n",
       "      <td>0.76</td>\n",
       "    </tr>\n",
       "    <tr>\n",
       "      <th>14</th>\n",
       "      <td>2019-08-05</td>\n",
       "      <td>3.0</td>\n",
       "      <td>2.0</td>\n",
       "      <td>756</td>\n",
       "      <td>707</td>\n",
       "      <td>0.40</td>\n",
       "      <td>0.28</td>\n",
       "    </tr>\n",
       "    <tr>\n",
       "      <th>15</th>\n",
       "      <td>2019-08-11</td>\n",
       "      <td>2.0</td>\n",
       "      <td>1.0</td>\n",
       "      <td>718</td>\n",
       "      <td>721</td>\n",
       "      <td>0.28</td>\n",
       "      <td>0.14</td>\n",
       "    </tr>\n",
       "    <tr>\n",
       "      <th>16</th>\n",
       "      <td>2019-08-20</td>\n",
       "      <td>2.0</td>\n",
       "      <td>NaN</td>\n",
       "      <td>575</td>\n",
       "      <td>560</td>\n",
       "      <td>0.35</td>\n",
       "      <td>NaN</td>\n",
       "    </tr>\n",
       "    <tr>\n",
       "      <th>17</th>\n",
       "      <td>2019-08-08</td>\n",
       "      <td>2.0</td>\n",
       "      <td>5.0</td>\n",
       "      <td>610</td>\n",
       "      <td>654</td>\n",
       "      <td>0.33</td>\n",
       "      <td>0.76</td>\n",
       "    </tr>\n",
       "    <tr>\n",
       "      <th>18</th>\n",
       "      <td>2019-08-07</td>\n",
       "      <td>2.0</td>\n",
       "      <td>1.0</td>\n",
       "      <td>644</td>\n",
       "      <td>709</td>\n",
       "      <td>0.31</td>\n",
       "      <td>0.14</td>\n",
       "    </tr>\n",
       "    <tr>\n",
       "      <th>19</th>\n",
       "      <td>2019-08-24</td>\n",
       "      <td>2.0</td>\n",
       "      <td>2.0</td>\n",
       "      <td>395</td>\n",
       "      <td>378</td>\n",
       "      <td>0.51</td>\n",
       "      <td>0.53</td>\n",
       "    </tr>\n",
       "    <tr>\n",
       "      <th>20</th>\n",
       "      <td>2019-08-25</td>\n",
       "      <td>2.0</td>\n",
       "      <td>2.0</td>\n",
       "      <td>621</td>\n",
       "      <td>679</td>\n",
       "      <td>0.32</td>\n",
       "      <td>0.29</td>\n",
       "    </tr>\n",
       "    <tr>\n",
       "      <th>21</th>\n",
       "      <td>2019-08-28</td>\n",
       "      <td>2.0</td>\n",
       "      <td>6.0</td>\n",
       "      <td>594</td>\n",
       "      <td>654</td>\n",
       "      <td>0.34</td>\n",
       "      <td>0.92</td>\n",
       "    </tr>\n",
       "    <tr>\n",
       "      <th>22</th>\n",
       "      <td>2019-08-30</td>\n",
       "      <td>2.0</td>\n",
       "      <td>3.0</td>\n",
       "      <td>490</td>\n",
       "      <td>490</td>\n",
       "      <td>0.41</td>\n",
       "      <td>0.61</td>\n",
       "    </tr>\n",
       "    <tr>\n",
       "      <th>23</th>\n",
       "      <td>2019-08-02</td>\n",
       "      <td>1.0</td>\n",
       "      <td>1.0</td>\n",
       "      <td>619</td>\n",
       "      <td>581</td>\n",
       "      <td>0.16</td>\n",
       "      <td>0.17</td>\n",
       "    </tr>\n",
       "    <tr>\n",
       "      <th>24</th>\n",
       "      <td>2019-08-10</td>\n",
       "      <td>1.0</td>\n",
       "      <td>1.0</td>\n",
       "      <td>406</td>\n",
       "      <td>369</td>\n",
       "      <td>0.25</td>\n",
       "      <td>0.27</td>\n",
       "    </tr>\n",
       "    <tr>\n",
       "      <th>25</th>\n",
       "      <td>2019-08-19</td>\n",
       "      <td>1.0</td>\n",
       "      <td>NaN</td>\n",
       "      <td>502</td>\n",
       "      <td>487</td>\n",
       "      <td>0.20</td>\n",
       "      <td>NaN</td>\n",
       "    </tr>\n",
       "    <tr>\n",
       "      <th>26</th>\n",
       "      <td>2019-08-01</td>\n",
       "      <td>1.0</td>\n",
       "      <td>4.0</td>\n",
       "      <td>719</td>\n",
       "      <td>713</td>\n",
       "      <td>0.14</td>\n",
       "      <td>0.56</td>\n",
       "    </tr>\n",
       "    <tr>\n",
       "      <th>27</th>\n",
       "      <td>2019-08-26</td>\n",
       "      <td>NaN</td>\n",
       "      <td>3.0</td>\n",
       "      <td>722</td>\n",
       "      <td>676</td>\n",
       "      <td>NaN</td>\n",
       "      <td>0.44</td>\n",
       "    </tr>\n",
       "    <tr>\n",
       "      <th>28</th>\n",
       "      <td>2019-08-03</td>\n",
       "      <td>NaN</td>\n",
       "      <td>2.0</td>\n",
       "      <td>507</td>\n",
       "      <td>509</td>\n",
       "      <td>NaN</td>\n",
       "      <td>0.39</td>\n",
       "    </tr>\n",
       "    <tr>\n",
       "      <th>29</th>\n",
       "      <td>2019-08-16</td>\n",
       "      <td>NaN</td>\n",
       "      <td>2.0</td>\n",
       "      <td>361</td>\n",
       "      <td>413</td>\n",
       "      <td>NaN</td>\n",
       "      <td>0.48</td>\n",
       "    </tr>\n",
       "    <tr>\n",
       "      <th>30</th>\n",
       "      <td>2019-08-13</td>\n",
       "      <td>NaN</td>\n",
       "      <td>1.0</td>\n",
       "      <td>748</td>\n",
       "      <td>769</td>\n",
       "      <td>NaN</td>\n",
       "      <td>0.13</td>\n",
       "    </tr>\n",
       "  </tbody>\n",
       "</table>\n",
       "</div>"
      ],
      "text/plain": [
       "          date  group_A  group_B  visitors_A  visitors_B  proportion_A  \\\n",
       "0   2019-08-14      7.0      9.0         735         746          0.95   \n",
       "1   2019-08-22      6.0      4.0         609         650          0.99   \n",
       "2   2019-08-04      5.0      3.0         717         770          0.70   \n",
       "3   2019-08-29      5.0      5.0         577         531          0.87   \n",
       "4   2019-08-27      5.0      5.0         711         720          0.70   \n",
       "5   2019-08-23      5.0      2.0         468         546          1.07   \n",
       "6   2019-08-09      5.0      6.0         617         610          0.81   \n",
       "7   2019-08-15      5.0      5.0         628         544          0.80   \n",
       "8   2019-08-12      5.0      4.0         595         543          0.84   \n",
       "9   2019-08-17      4.0      1.0         412         421          0.97   \n",
       "10  2019-08-18      4.0      2.0         668         737          0.60   \n",
       "11  2019-08-31      4.0      3.0         699         718          0.57   \n",
       "12  2019-08-21      3.0      2.0         646         656          0.46   \n",
       "13  2019-08-06      3.0      5.0         667         655          0.45   \n",
       "14  2019-08-05      3.0      2.0         756         707          0.40   \n",
       "15  2019-08-11      2.0      1.0         718         721          0.28   \n",
       "16  2019-08-20      2.0      NaN         575         560          0.35   \n",
       "17  2019-08-08      2.0      5.0         610         654          0.33   \n",
       "18  2019-08-07      2.0      1.0         644         709          0.31   \n",
       "19  2019-08-24      2.0      2.0         395         378          0.51   \n",
       "20  2019-08-25      2.0      2.0         621         679          0.32   \n",
       "21  2019-08-28      2.0      6.0         594         654          0.34   \n",
       "22  2019-08-30      2.0      3.0         490         490          0.41   \n",
       "23  2019-08-02      1.0      1.0         619         581          0.16   \n",
       "24  2019-08-10      1.0      1.0         406         369          0.25   \n",
       "25  2019-08-19      1.0      NaN         502         487          0.20   \n",
       "26  2019-08-01      1.0      4.0         719         713          0.14   \n",
       "27  2019-08-26      NaN      3.0         722         676           NaN   \n",
       "28  2019-08-03      NaN      2.0         507         509           NaN   \n",
       "29  2019-08-16      NaN      2.0         361         413           NaN   \n",
       "30  2019-08-13      NaN      1.0         748         769           NaN   \n",
       "\n",
       "    proportion_B  \n",
       "0           1.21  \n",
       "1           0.62  \n",
       "2           0.39  \n",
       "3           0.94  \n",
       "4           0.69  \n",
       "5           0.37  \n",
       "6           0.98  \n",
       "7           0.92  \n",
       "8           0.74  \n",
       "9           0.24  \n",
       "10          0.27  \n",
       "11          0.42  \n",
       "12          0.30  \n",
       "13          0.76  \n",
       "14          0.28  \n",
       "15          0.14  \n",
       "16           NaN  \n",
       "17          0.76  \n",
       "18          0.14  \n",
       "19          0.53  \n",
       "20          0.29  \n",
       "21          0.92  \n",
       "22          0.61  \n",
       "23          0.17  \n",
       "24          0.27  \n",
       "25           NaN  \n",
       "26          0.56  \n",
       "27          0.44  \n",
       "28          0.39  \n",
       "29          0.48  \n",
       "30          0.13  "
      ]
     },
     "execution_count": 15,
     "metadata": {},
     "output_type": "execute_result"
    }
   ],
   "source": [
    "v_test_a = visitors[visitors['group'] == 'A'].groupby(['date']).agg(visitors_A=('visitors', 'sum')).reset_index()\n",
    "v_test_b = visitors[visitors['group'] == 'B'].groupby(['date']).agg(visitors_B=('visitors', 'sum')).reset_index()\n",
    "df_deleted_visits = df_deleted_visits.merge(v_test_a, on = 'date')\n",
    "df_deleted_visits = df_deleted_visits.merge(v_test_b, on = 'date')\n",
    "df_deleted_visits['proportion_A'] = round((df_deleted_visits['group_A'] / df_deleted_visits['visitors_A'])*100, 2)\n",
    "df_deleted_visits['proportion_B'] = round((df_deleted_visits['group_B'] / df_deleted_visits['visitors_B'])*100, 2)\n",
    "df_deleted_visits"
   ]
  },
  {
   "cell_type": "markdown",
   "metadata": {},
   "source": [
    "Теперь можно сделать вывод, что, в данной ситуации, не имея знаний о том, сколько пользователи, попавшие в группы А и B совершили посещений, мы можем игнорировать их посещения в датафрейме `visitors`, так как их доля посещений по дням меньше или около `1%`. Принимаем решение оставить внесенные изменения в датафрейм `orders` и не вносить изменения в датафрейм `visitors`."
   ]
  },
  {
   "cell_type": "markdown",
   "metadata": {},
   "source": [
    "#### **3. Файл `/datasets/visitors.csv`**"
   ]
  },
  {
   "cell_type": "code",
   "execution_count": 16,
   "metadata": {},
   "outputs": [
    {
     "name": "stdout",
     "output_type": "stream",
     "text": [
      "Пять рандомных строк:\n"
     ]
    },
    {
     "data": {
      "text/html": [
       "<div>\n",
       "<style scoped>\n",
       "    .dataframe tbody tr th:only-of-type {\n",
       "        vertical-align: middle;\n",
       "    }\n",
       "\n",
       "    .dataframe tbody tr th {\n",
       "        vertical-align: top;\n",
       "    }\n",
       "\n",
       "    .dataframe thead th {\n",
       "        text-align: right;\n",
       "    }\n",
       "</style>\n",
       "<table border=\"1\" class=\"dataframe\">\n",
       "  <thead>\n",
       "    <tr style=\"text-align: right;\">\n",
       "      <th></th>\n",
       "      <th>date</th>\n",
       "      <th>group</th>\n",
       "      <th>visitors</th>\n",
       "    </tr>\n",
       "  </thead>\n",
       "  <tbody>\n",
       "    <tr>\n",
       "      <th>26</th>\n",
       "      <td>2019-08-27</td>\n",
       "      <td>A</td>\n",
       "      <td>711</td>\n",
       "    </tr>\n",
       "    <tr>\n",
       "      <th>41</th>\n",
       "      <td>2019-08-11</td>\n",
       "      <td>B</td>\n",
       "      <td>721</td>\n",
       "    </tr>\n",
       "    <tr>\n",
       "      <th>40</th>\n",
       "      <td>2019-08-10</td>\n",
       "      <td>B</td>\n",
       "      <td>369</td>\n",
       "    </tr>\n",
       "    <tr>\n",
       "      <th>5</th>\n",
       "      <td>2019-08-06</td>\n",
       "      <td>A</td>\n",
       "      <td>667</td>\n",
       "    </tr>\n",
       "    <tr>\n",
       "      <th>29</th>\n",
       "      <td>2019-08-30</td>\n",
       "      <td>A</td>\n",
       "      <td>490</td>\n",
       "    </tr>\n",
       "  </tbody>\n",
       "</table>\n",
       "</div>"
      ],
      "text/plain": [
       "          date group  visitors\n",
       "26  2019-08-27     A       711\n",
       "41  2019-08-11     B       721\n",
       "40  2019-08-10     B       369\n",
       "5   2019-08-06     A       667\n",
       "29  2019-08-30     A       490"
      ]
     },
     "metadata": {},
     "output_type": "display_data"
    },
    {
     "name": "stdout",
     "output_type": "stream",
     "text": [
      "\n",
      "\n",
      "\n",
      "\n",
      "Информация по датафрейму: \n",
      "\n",
      "<class 'pandas.core.frame.DataFrame'>\n",
      "RangeIndex: 62 entries, 0 to 61\n",
      "Data columns (total 3 columns):\n",
      " #   Column    Non-Null Count  Dtype \n",
      "---  ------    --------------  ----- \n",
      " 0   date      62 non-null     object\n",
      " 1   group     62 non-null     object\n",
      " 2   visitors  62 non-null     int64 \n",
      "dtypes: int64(1), object(2)\n",
      "memory usage: 1.6+ KB\n"
     ]
    },
    {
     "data": {
      "text/plain": [
       "None"
      ]
     },
     "metadata": {},
     "output_type": "display_data"
    },
    {
     "name": "stdout",
     "output_type": "stream",
     "text": [
      "\n",
      "\n",
      "\n",
      "\n",
      "Подсчет пропусков:\n"
     ]
    },
    {
     "data": {
      "text/plain": [
       "date        0\n",
       "group       0\n",
       "visitors    0\n",
       "dtype: int64"
      ]
     },
     "metadata": {},
     "output_type": "display_data"
    },
    {
     "name": "stdout",
     "output_type": "stream",
     "text": [
      "\n",
      "\n",
      "\n",
      "\n",
      "Подсчет дубликатов:\n"
     ]
    },
    {
     "data": {
      "text/plain": [
       "'Колличество очевидных дубликатов равно 0'"
      ]
     },
     "metadata": {},
     "output_type": "display_data"
    }
   ],
   "source": [
    "df_first_glance(visitors)"
   ]
  },
  {
   "cell_type": "code",
   "execution_count": 17,
   "metadata": {},
   "outputs": [],
   "source": [
    "#Поменяем тип данных в `date`\n",
    "visitors['date'] = visitors['date'].map(\n",
    "    lambda x: dt.datetime.strptime(x, '%Y-%m-%d')\n",
    ")"
   ]
  },
  {
   "cell_type": "markdown",
   "metadata": {},
   "source": [
    "### **Часть 1. Приоритизация гипотез.**\n",
    "\n",
    "В файле `/datasets/hypothesis.csv` 9 гипотез по увеличению выручки интернет-магазина с указанными параметрами `Reach`, `Impact`, `Confidence`, `Effort`.\n",
    "\n",
    "\n",
    "Задача:\n",
    "\n",
    "* Примените фреймворк `ICE` для приоритизации гипотез. Отсортируйте их по убыванию приоритета.\n",
    "* Примените фреймворк `RICE` для приоритизации гипотез. Отсортируйте их по убыванию приоритета.\n",
    "* Укажите, как изменилась приоритизация гипотез при применении `RICE` вместо `ICE`. Объясните, почему так произошло.\n",
    "\n",
    "Гипотезы: \n",
    "\n",
    "0. Добавить два новых канала привлечения трафика, что позволит привлекать на 30% больше пользователей\n",
    "1. Запустить собственную службу доставки, что сократит срок доставки заказов\n",
    "2. Добавить блоки рекомендаций товаров на сайт интернет магазина, чтобы повысить конверсию и средний чек заказа\n",
    "3. Изменить структура категорий, что увеличит конверсию, т.к. пользователи быстрее найдут нужный товар\n",
    "4. Изменить цвет фона главной страницы, чтобы увеличить вовлеченность пользователей\n",
    "5. Добавить страницу отзывов клиентов о магазине, что позволит увеличить количество заказов\n",
    "6. Показать на главной странице баннеры с актуальными акциями и распродажами, чтобы увеличить конверсию\n",
    "7. Добавить форму подписки на все основные страницы, чтобы собрать базу клиентов для email-рассылок\n",
    "8. Запустить акцию, дающую скидку на товар в день рождения\n"
   ]
  },
  {
   "cell_type": "code",
   "execution_count": 19,
   "metadata": {},
   "outputs": [
    {
     "data": {
      "text/html": [
       "<div>\n",
       "<style scoped>\n",
       "    .dataframe tbody tr th:only-of-type {\n",
       "        vertical-align: middle;\n",
       "    }\n",
       "\n",
       "    .dataframe tbody tr th {\n",
       "        vertical-align: top;\n",
       "    }\n",
       "\n",
       "    .dataframe thead th {\n",
       "        text-align: right;\n",
       "    }\n",
       "</style>\n",
       "<table border=\"1\" class=\"dataframe\">\n",
       "  <thead>\n",
       "    <tr style=\"text-align: right;\">\n",
       "      <th></th>\n",
       "      <th>Hypothesis</th>\n",
       "      <th>Reach</th>\n",
       "      <th>Impact</th>\n",
       "      <th>Confidence</th>\n",
       "      <th>Efforts</th>\n",
       "      <th>ICE</th>\n",
       "    </tr>\n",
       "  </thead>\n",
       "  <tbody>\n",
       "    <tr>\n",
       "      <th>8</th>\n",
       "      <td>Запустить акцию, дающую скидку на товар в день рождения</td>\n",
       "      <td>1</td>\n",
       "      <td>9</td>\n",
       "      <td>9</td>\n",
       "      <td>5</td>\n",
       "      <td>16.2</td>\n",
       "    </tr>\n",
       "    <tr>\n",
       "      <th>0</th>\n",
       "      <td>Добавить два новых канала привлечения трафика, что позволит привлекать на 30% больше пользователей</td>\n",
       "      <td>3</td>\n",
       "      <td>10</td>\n",
       "      <td>8</td>\n",
       "      <td>6</td>\n",
       "      <td>13.3</td>\n",
       "    </tr>\n",
       "    <tr>\n",
       "      <th>7</th>\n",
       "      <td>Добавить форму подписки на все основные страницы, чтобы собрать базу клиентов для email-рассылок</td>\n",
       "      <td>10</td>\n",
       "      <td>7</td>\n",
       "      <td>8</td>\n",
       "      <td>5</td>\n",
       "      <td>11.2</td>\n",
       "    </tr>\n",
       "    <tr>\n",
       "      <th>6</th>\n",
       "      <td>Показать на главной странице баннеры с актуальными акциями и распродажами, чтобы увеличить конверсию</td>\n",
       "      <td>5</td>\n",
       "      <td>3</td>\n",
       "      <td>8</td>\n",
       "      <td>3</td>\n",
       "      <td>8.0</td>\n",
       "    </tr>\n",
       "    <tr>\n",
       "      <th>2</th>\n",
       "      <td>Добавить блоки рекомендаций товаров на сайт интернет магазина, чтобы повысить конверсию и средний чек заказа</td>\n",
       "      <td>8</td>\n",
       "      <td>3</td>\n",
       "      <td>7</td>\n",
       "      <td>3</td>\n",
       "      <td>7.0</td>\n",
       "    </tr>\n",
       "    <tr>\n",
       "      <th>1</th>\n",
       "      <td>Запустить собственную службу доставки, что сократит срок доставки заказов</td>\n",
       "      <td>2</td>\n",
       "      <td>5</td>\n",
       "      <td>4</td>\n",
       "      <td>10</td>\n",
       "      <td>2.0</td>\n",
       "    </tr>\n",
       "    <tr>\n",
       "      <th>5</th>\n",
       "      <td>Добавить страницу отзывов клиентов о магазине, что позволит увеличить количество заказов</td>\n",
       "      <td>3</td>\n",
       "      <td>2</td>\n",
       "      <td>2</td>\n",
       "      <td>3</td>\n",
       "      <td>1.3</td>\n",
       "    </tr>\n",
       "    <tr>\n",
       "      <th>3</th>\n",
       "      <td>Изменить структура категорий, что увеличит конверсию, т.к. пользователи быстрее найдут нужный товар</td>\n",
       "      <td>8</td>\n",
       "      <td>3</td>\n",
       "      <td>3</td>\n",
       "      <td>8</td>\n",
       "      <td>1.1</td>\n",
       "    </tr>\n",
       "    <tr>\n",
       "      <th>4</th>\n",
       "      <td>Изменить цвет фона главной страницы, чтобы увеличить вовлеченность пользователей</td>\n",
       "      <td>3</td>\n",
       "      <td>1</td>\n",
       "      <td>1</td>\n",
       "      <td>1</td>\n",
       "      <td>1.0</td>\n",
       "    </tr>\n",
       "  </tbody>\n",
       "</table>\n",
       "</div>"
      ],
      "text/plain": [
       "                                                                                                     Hypothesis  \\\n",
       "8  Запустить акцию, дающую скидку на товар в день рождения                                                        \n",
       "0  Добавить два новых канала привлечения трафика, что позволит привлекать на 30% больше пользователей             \n",
       "7  Добавить форму подписки на все основные страницы, чтобы собрать базу клиентов для email-рассылок               \n",
       "6  Показать на главной странице баннеры с актуальными акциями и распродажами, чтобы увеличить конверсию           \n",
       "2  Добавить блоки рекомендаций товаров на сайт интернет магазина, чтобы повысить конверсию и средний чек заказа   \n",
       "1  Запустить собственную службу доставки, что сократит срок доставки заказов                                      \n",
       "5  Добавить страницу отзывов клиентов о магазине, что позволит увеличить количество заказов                       \n",
       "3  Изменить структура категорий, что увеличит конверсию, т.к. пользователи быстрее найдут нужный товар            \n",
       "4  Изменить цвет фона главной страницы, чтобы увеличить вовлеченность пользователей                               \n",
       "\n",
       "   Reach  Impact  Confidence  Efforts   ICE  \n",
       "8  1      9       9           5        16.2  \n",
       "0  3      10      8           6        13.3  \n",
       "7  10     7       8           5        11.2  \n",
       "6  5      3       8           3        8.0   \n",
       "2  8      3       7           3        7.0   \n",
       "1  2      5       4           10       2.0   \n",
       "5  3      2       2           3        1.3   \n",
       "3  8      3       3           8        1.1   \n",
       "4  3      1       1           1        1.0   "
      ]
     },
     "execution_count": 19,
     "metadata": {},
     "output_type": "execute_result"
    }
   ],
   "source": [
    "pd.set_option('display.max_colwidth', 0)\n",
    "hypothesis['ICE'] = round(hypothesis['Impact'] * hypothesis['Confidence'] / hypothesis['Efforts'], 1)\n",
    "hypothesis.sort_values('ICE', ascending=False)"
   ]
  },
  {
   "cell_type": "code",
   "execution_count": 20,
   "metadata": {},
   "outputs": [
    {
     "data": {
      "text/html": [
       "<div>\n",
       "<style scoped>\n",
       "    .dataframe tbody tr th:only-of-type {\n",
       "        vertical-align: middle;\n",
       "    }\n",
       "\n",
       "    .dataframe tbody tr th {\n",
       "        vertical-align: top;\n",
       "    }\n",
       "\n",
       "    .dataframe thead th {\n",
       "        text-align: right;\n",
       "    }\n",
       "</style>\n",
       "<table border=\"1\" class=\"dataframe\">\n",
       "  <thead>\n",
       "    <tr style=\"text-align: right;\">\n",
       "      <th></th>\n",
       "      <th>Hypothesis</th>\n",
       "      <th>Reach</th>\n",
       "      <th>Impact</th>\n",
       "      <th>Confidence</th>\n",
       "      <th>Efforts</th>\n",
       "      <th>ICE</th>\n",
       "      <th>RICE</th>\n",
       "    </tr>\n",
       "  </thead>\n",
       "  <tbody>\n",
       "    <tr>\n",
       "      <th>7</th>\n",
       "      <td>Добавить форму подписки на все основные страницы, чтобы собрать базу клиентов для email-рассылок</td>\n",
       "      <td>10</td>\n",
       "      <td>7</td>\n",
       "      <td>8</td>\n",
       "      <td>5</td>\n",
       "      <td>11.2</td>\n",
       "      <td>112.0</td>\n",
       "    </tr>\n",
       "    <tr>\n",
       "      <th>2</th>\n",
       "      <td>Добавить блоки рекомендаций товаров на сайт интернет магазина, чтобы повысить конверсию и средний чек заказа</td>\n",
       "      <td>8</td>\n",
       "      <td>3</td>\n",
       "      <td>7</td>\n",
       "      <td>3</td>\n",
       "      <td>7.0</td>\n",
       "      <td>56.0</td>\n",
       "    </tr>\n",
       "    <tr>\n",
       "      <th>0</th>\n",
       "      <td>Добавить два новых канала привлечения трафика, что позволит привлекать на 30% больше пользователей</td>\n",
       "      <td>3</td>\n",
       "      <td>10</td>\n",
       "      <td>8</td>\n",
       "      <td>6</td>\n",
       "      <td>13.3</td>\n",
       "      <td>40.0</td>\n",
       "    </tr>\n",
       "    <tr>\n",
       "      <th>6</th>\n",
       "      <td>Показать на главной странице баннеры с актуальными акциями и распродажами, чтобы увеличить конверсию</td>\n",
       "      <td>5</td>\n",
       "      <td>3</td>\n",
       "      <td>8</td>\n",
       "      <td>3</td>\n",
       "      <td>8.0</td>\n",
       "      <td>40.0</td>\n",
       "    </tr>\n",
       "    <tr>\n",
       "      <th>8</th>\n",
       "      <td>Запустить акцию, дающую скидку на товар в день рождения</td>\n",
       "      <td>1</td>\n",
       "      <td>9</td>\n",
       "      <td>9</td>\n",
       "      <td>5</td>\n",
       "      <td>16.2</td>\n",
       "      <td>16.2</td>\n",
       "    </tr>\n",
       "    <tr>\n",
       "      <th>3</th>\n",
       "      <td>Изменить структура категорий, что увеличит конверсию, т.к. пользователи быстрее найдут нужный товар</td>\n",
       "      <td>8</td>\n",
       "      <td>3</td>\n",
       "      <td>3</td>\n",
       "      <td>8</td>\n",
       "      <td>1.1</td>\n",
       "      <td>9.0</td>\n",
       "    </tr>\n",
       "    <tr>\n",
       "      <th>1</th>\n",
       "      <td>Запустить собственную службу доставки, что сократит срок доставки заказов</td>\n",
       "      <td>2</td>\n",
       "      <td>5</td>\n",
       "      <td>4</td>\n",
       "      <td>10</td>\n",
       "      <td>2.0</td>\n",
       "      <td>4.0</td>\n",
       "    </tr>\n",
       "    <tr>\n",
       "      <th>5</th>\n",
       "      <td>Добавить страницу отзывов клиентов о магазине, что позволит увеличить количество заказов</td>\n",
       "      <td>3</td>\n",
       "      <td>2</td>\n",
       "      <td>2</td>\n",
       "      <td>3</td>\n",
       "      <td>1.3</td>\n",
       "      <td>4.0</td>\n",
       "    </tr>\n",
       "    <tr>\n",
       "      <th>4</th>\n",
       "      <td>Изменить цвет фона главной страницы, чтобы увеличить вовлеченность пользователей</td>\n",
       "      <td>3</td>\n",
       "      <td>1</td>\n",
       "      <td>1</td>\n",
       "      <td>1</td>\n",
       "      <td>1.0</td>\n",
       "      <td>3.0</td>\n",
       "    </tr>\n",
       "  </tbody>\n",
       "</table>\n",
       "</div>"
      ],
      "text/plain": [
       "                                                                                                     Hypothesis  \\\n",
       "7  Добавить форму подписки на все основные страницы, чтобы собрать базу клиентов для email-рассылок               \n",
       "2  Добавить блоки рекомендаций товаров на сайт интернет магазина, чтобы повысить конверсию и средний чек заказа   \n",
       "0  Добавить два новых канала привлечения трафика, что позволит привлекать на 30% больше пользователей             \n",
       "6  Показать на главной странице баннеры с актуальными акциями и распродажами, чтобы увеличить конверсию           \n",
       "8  Запустить акцию, дающую скидку на товар в день рождения                                                        \n",
       "3  Изменить структура категорий, что увеличит конверсию, т.к. пользователи быстрее найдут нужный товар            \n",
       "1  Запустить собственную службу доставки, что сократит срок доставки заказов                                      \n",
       "5  Добавить страницу отзывов клиентов о магазине, что позволит увеличить количество заказов                       \n",
       "4  Изменить цвет фона главной страницы, чтобы увеличить вовлеченность пользователей                               \n",
       "\n",
       "   Reach  Impact  Confidence  Efforts   ICE   RICE  \n",
       "7  10     7       8           5        11.2  112.0  \n",
       "2  8      3       7           3        7.0   56.0   \n",
       "0  3      10      8           6        13.3  40.0   \n",
       "6  5      3       8           3        8.0   40.0   \n",
       "8  1      9       9           5        16.2  16.2   \n",
       "3  8      3       3           8        1.1   9.0    \n",
       "1  2      5       4           10       2.0   4.0    \n",
       "5  3      2       2           3        1.3   4.0    \n",
       "4  3      1       1           1        1.0   3.0    "
      ]
     },
     "execution_count": 20,
     "metadata": {},
     "output_type": "execute_result"
    }
   ],
   "source": [
    "hypothesis['RICE'] = hypothesis['Reach'] * hypothesis['Impact'] * hypothesis['Confidence'] / hypothesis['Efforts']\n",
    "hypothesis.sort_values('RICE', ascending=False)"
   ]
  },
  {
   "cell_type": "markdown",
   "metadata": {},
   "source": [
    "#### Вывод\n",
    "По методу `ICE` топ-3 гипотезы под номерами `8`, `0`, `7`, а по методу `RICE` топ-3 гипотезы под номерами `7`, `2`, `0`. \n",
    "Так получилось потому что в числителе появился новый параметр `Reach`, который больше единицы, и он пересортировал приоритизацию. "
   ]
  },
  {
   "cell_type": "markdown",
   "metadata": {},
   "source": [
    "### **Часть 2. Анализ A/B-теста**\n",
    "\n",
    "Вы провели A/B-тест и получили результаты, которые описаны в файлах `/datasets/orders.csv` и `/datasets/visitors.csv`."
   ]
  },
  {
   "cell_type": "markdown",
   "metadata": {},
   "source": [
    "#### **1.Постройте график кумулятивной выручки по группам. Сделайте выводы и предположения.**"
   ]
  },
  {
   "cell_type": "code",
   "execution_count": 24,
   "metadata": {},
   "outputs": [],
   "source": [
    "# создаем массив уникальных пар значений дат и групп теста\n",
    "datesGroups = orders[['date', 'group']].drop_duplicates()"
   ]
  },
  {
   "cell_type": "code",
   "execution_count": 25,
   "metadata": {},
   "outputs": [],
   "source": [
    "# Агрегируем значения\n",
    "ordersAggregated = datesGroups.apply(\n",
    "    lambda x: orders[\n",
    "        np.logical_and(\n",
    "            orders['date'] <= x['date'], orders['group'] == x['group']\n",
    "        )\n",
    "    ].agg(\n",
    "        {\n",
    "            'date': 'max',\n",
    "            'group': 'max',\n",
    "            'transactionId': 'nunique',\n",
    "            'visitorId': 'nunique',\n",
    "            'revenue': 'sum',\n",
    "        }\n",
    "    ),\n",
    "    axis=1,\n",
    ").sort_values(by=['date', 'group'])\n",
    "\n",
    "\n",
    "visitorsAggregated = datesGroups.apply(\n",
    "    lambda x: visitors[\n",
    "        np.logical_and(\n",
    "            visitors['date'] <= x['date'], visitors['group'] == x['group']\n",
    "        )\n",
    "    ].agg({'date': 'max', \n",
    "           'group': 'max', \n",
    "           'visitors': 'sum'}),\n",
    "    axis=1,\n",
    ").sort_values(by=['date', 'group'])"
   ]
  },
  {
   "cell_type": "code",
   "execution_count": 26,
   "metadata": {},
   "outputs": [],
   "source": [
    "# объединяем кумулятивные данные в одной таблице и присваиваем ее столбцам понятные названия\n",
    "cumulativeData = ordersAggregated.merge(\n",
    "    visitorsAggregated, left_on=['date', 'group'], right_on=['date', 'group']\n",
    ")\n",
    "cumulativeData.columns = [\n",
    "    'date',\n",
    "    'group',\n",
    "    'orders',\n",
    "    'buyers',\n",
    "    'revenue',\n",
    "    'visitors',\n",
    "]"
   ]
  },
  {
   "cell_type": "code",
   "execution_count": 27,
   "metadata": {},
   "outputs": [
    {
     "data": {
      "image/png": "[encoded data removed]",
      "text/plain": [
       "<Figure size 576x288 with 1 Axes>"
      ]
     },
     "metadata": {
      "needs_background": "light"
     },
     "output_type": "display_data"
    }
   ],
   "source": [
    "# датафрейм с кумулятивным количеством заказов и кумулятивной выручкой по дням в группе А\n",
    "cumulativeRevenueA = cumulativeData[cumulativeData['group'] == 'A'][['date', 'revenue', 'orders']]\n",
    "\n",
    "# датафрейм с кумулятивным количеством заказов и кумулятивной выручкой по дням в группе B\n",
    "cumulativeRevenueB = cumulativeData[cumulativeData['group'] == 'B'][['date', 'revenue', 'orders']]\n",
    "\n",
    "# Строим график выручки группы А\n",
    "plt.plot(cumulativeRevenueA['date'], cumulativeRevenueA['revenue'], label='A')\n",
    "\n",
    "# Строим график выручки группы B\n",
    "plt.plot(cumulativeRevenueB['date'], cumulativeRevenueB['revenue'], label='B')\n",
    "plt.xticks(rotation=45)\n",
    "plt.ylabel('Выручка')\n",
    "plt.xlabel('Дата')\n",
    "plt.title('График кумулятивной выручки по группам')\n",
    "plt.legend();"
   ]
  },
  {
   "cell_type": "markdown",
   "metadata": {},
   "source": [
    "##### Вывод \n",
    "В первую неделю теста у группы А и группы В показатели кумулятивной выручки были почти одинаковыми, потом немного начала лидировать группа В, а ко второй неделе показатели примерно сравнялись. Но примерно на 2.5 неделю произошел резкий скачок показателя кумулятивной выручки группы В, который обеспечил лидирующие показатели группы В до конца теста. Возможно, данный скачок связан с какими-то аномально большими заказами или с аномально большим количеством заказов."
   ]
  },
  {
   "cell_type": "markdown",
   "metadata": {},
   "source": [
    "#### **2. Постройте график кумулятивного среднего чека по группам. Сделайте выводы и предположения.**"
   ]
  },
  {
   "cell_type": "code",
   "execution_count": 28,
   "metadata": {},
   "outputs": [
    {
     "data": {
      "image/png": "[encoded data removed]",
      "text/plain": [
       "<Figure size 576x288 with 1 Axes>"
      ]
     },
     "metadata": {
      "needs_background": "light"
     },
     "output_type": "display_data"
    }
   ],
   "source": [
    "plt.plot(cumulativeRevenueA['date'], cumulativeRevenueA['revenue']/cumulativeRevenueA['orders'], label='A')\n",
    "plt.plot(cumulativeRevenueB['date'], cumulativeRevenueB['revenue']/cumulativeRevenueB['orders'], label='B')\n",
    "plt.xticks(rotation=45)\n",
    "plt.ylabel('Ср. чек')\n",
    "plt.xlabel('Дата')\n",
    "plt.title('График кумулятивного среднего чека по группам')\n",
    "plt.legend();"
   ]
  },
  {
   "cell_type": "markdown",
   "metadata": {},
   "source": [
    "##### Вывод\n",
    "\n",
    "Графики кумулятивной выручки и кумулятивного среднего чека могут быть связанными, при условии, что нет выброса по количеству заказов. В данном случае мы можем наблюдать, что поведение кривых на графике кумулятивной выручки и кумулятивного среднего чека на протяжении всего теста похоже друг на друга, но самым интересным моментом является скачок группы В, который происходит в тот же промежуток времени, что и скачок на графике кумулятивной  выручки. \n",
    "\n",
    "Исходя из этого, можем сделать вывод, что скачок на графике кумулятивного среднего чека это следствие скачка на графике кумулятивной выручки. Так как в выводе выше мы предположили, что, возможно, скачок на графике кумулятивной выручки может быть:\n",
    "\n",
    "    1) из-за аномально больших заказов\n",
    "    2) из-за аномального количества заказов\n",
    "    \n",
    "А, так как график кумулятивного среднего чека выросла, то мы можем утверждать, что причина именно в аномально больших заказах, а не в их количестве. "
   ]
  },
  {
   "cell_type": "markdown",
   "metadata": {},
   "source": [
    "#### **3. Постройте график относительного изменения кумулятивного среднего чека группы B к группе A. Сделайте выводы и предположения.**"
   ]
  },
  {
   "cell_type": "code",
   "execution_count": 29,
   "metadata": {},
   "outputs": [
    {
     "data": {
      "image/png": "[encoded data removed]",
      "text/plain": [
       "<Figure size 576x288 with 1 Axes>"
      ]
     },
     "metadata": {
      "needs_background": "light"
     },
     "output_type": "display_data"
    }
   ],
   "source": [
    "# собираем данные в одном датафрейме\n",
    "mergedCumulativeRevenue = cumulativeRevenueA.merge(cumulativeRevenueB, left_on='date', right_on='date', how='left', suffixes=['A', 'B'])\n",
    "\n",
    "# cтроим отношение средних чеков\n",
    "plt.plot(mergedCumulativeRevenue['date'], (mergedCumulativeRevenue['revenueB']/mergedCumulativeRevenue['ordersB'])/(mergedCumulativeRevenue['revenueA']/mergedCumulativeRevenue['ordersA'])-1)\n",
    "\n",
    "# добавляем ось X\n",
    "plt.axhline(y=0, color='black', linestyle='--')\n",
    "plt.xlabel('Дата')\n",
    "plt.title('График относительного изменения кумулятивного среднего чека группы B к группе A')\n",
    "plt.xticks(rotation=45);"
   ]
  },
  {
   "cell_type": "markdown",
   "metadata": {},
   "source": [
    "##### Вывод\n",
    "На графике относительного кумулятивного значения видно в какие даты совершались аномальные покупки"
   ]
  },
  {
   "cell_type": "markdown",
   "metadata": {},
   "source": [
    "####  **4. Постройте график кумулятивного среднего количества заказов на посетителя по группам. Сделайте выводы и предположения.**"
   ]
  },
  {
   "cell_type": "code",
   "execution_count": 30,
   "metadata": {},
   "outputs": [
    {
     "data": {
      "text/plain": [
       "<matplotlib.legend.Legend at 0x7fa4fa04a8b0>"
      ]
     },
     "execution_count": 30,
     "metadata": {},
     "output_type": "execute_result"
    },
    {
     "data": {
      "image/png": "[encoded data removed]",
      "text/plain": [
       "<Figure size 576x288 with 1 Axes>"
      ]
     },
     "metadata": {
      "needs_background": "light"
     },
     "output_type": "display_data"
    }
   ],
   "source": [
    "plt.plot(cumulativeData[cumulativeData['group'] == 'A']['date'], cumulativeData[cumulativeData['group'] == 'A']['orders'] / cumulativeData[cumulativeData['group'] == 'A']['visitors'], label='A')\n",
    "plt.plot(cumulativeData[cumulativeData['group'] == 'B']['date'], cumulativeData[cumulativeData['group'] == 'B']['orders'] / cumulativeData[cumulativeData['group'] == 'B']['visitors'], label='B')\n",
    "plt.xticks(rotation=45)\n",
    "plt.xlabel('Дата')\n",
    "plt.ylabel('Заказов на 1 посететиля')\n",
    "plt.title('График кумулятивного среднего количества заказов на посетителя по группам')\n",
    "plt.legend() "
   ]
  },
  {
   "cell_type": "markdown",
   "metadata": {},
   "source": [
    "##### Вывод\n",
    "В начале теста в группе A был резкий скачок в заказах, на каждые `100 просмотров` было `~ 3.6 заказа`, и это, скорее всего аномалия, дальше и до конца теста показатель только падал. В группе B тоже был резкий скачок, но к концу теста показатель  стабилизовался и держался примерно на показателе `~ 3 заказа` на каждые `100 просмотров`."
   ]
  },
  {
   "cell_type": "markdown",
   "metadata": {},
   "source": [
    "#### **5. Постройте график относительного изменения кумулятивного среднего количества заказов на посетителя группы B к группе A. Сделайте выводы и предположения.**"
   ]
  },
  {
   "cell_type": "code",
   "execution_count": 31,
   "metadata": {},
   "outputs": [],
   "source": [
    "cumulativeData['conversion'] = (\n",
    "    cumulativeData['orders'] / cumulativeData['visitors']\n",
    ")\n",
    "\n",
    "cumulativeDataA = cumulativeData[cumulativeData['group'] == 'A']\n",
    "cumulativeDataB = cumulativeData[cumulativeData['group'] == 'B']\n",
    "\n",
    "mergedCumulativeConversions = cumulativeDataA[['date','conversion']].merge(cumulativeDataB[['date','conversion']], left_on='date', right_on='date', how='left', suffixes=['A', 'B'])"
   ]
  },
  {
   "cell_type": "code",
   "execution_count": 32,
   "metadata": {},
   "outputs": [
    {
     "name": "stderr",
     "output_type": "stream",
     "text": [
      "No handles with labels found to put in legend.\n"
     ]
    },
    {
     "data": {
      "image/png": "[encoded data removed]",
      "text/plain": [
       "<Figure size 576x288 with 1 Axes>"
      ]
     },
     "metadata": {
      "needs_background": "light"
     },
     "output_type": "display_data"
    }
   ],
   "source": [
    "plt.plot(mergedCumulativeConversions['date'], mergedCumulativeConversions['conversionB']/mergedCumulativeConversions['conversionA']-1)\n",
    "plt.legend()\n",
    "plt.xlabel('Дата')\n",
    "\n",
    "plt.title('График относительного изменения кумулятивного среднего количества заказов на посетителя группы B к группе A')\n",
    "plt.axhline(y=0, color='black', linestyle='--')\n",
    "plt.xticks(rotation=45);\n"
   ]
  },
  {
   "cell_type": "markdown",
   "metadata": {},
   "source": [
    "##### Вывод\n",
    "По графику относительного изменения кумулятивного среднего количества заказов на посетителя группы B к группе A видно, что ко второй неделе теста в группе B покупки совершались на `~15%` чаще, чем в группе A."
   ]
  },
  {
   "cell_type": "markdown",
   "metadata": {},
   "source": [
    "#### **6. Постройте точечный график количества заказов по пользователям. Сделайте выводы и предположения.**"
   ]
  },
  {
   "cell_type": "code",
   "execution_count": 33,
   "metadata": {},
   "outputs": [
    {
     "data": {
      "text/html": [
       "<div>\n",
       "<style scoped>\n",
       "    .dataframe tbody tr th:only-of-type {\n",
       "        vertical-align: middle;\n",
       "    }\n",
       "\n",
       "    .dataframe tbody tr th {\n",
       "        vertical-align: top;\n",
       "    }\n",
       "\n",
       "    .dataframe thead th {\n",
       "        text-align: right;\n",
       "    }\n",
       "</style>\n",
       "<table border=\"1\" class=\"dataframe\">\n",
       "  <thead>\n",
       "    <tr style=\"text-align: right;\">\n",
       "      <th></th>\n",
       "      <th>transactionId</th>\n",
       "      <th>visitorId</th>\n",
       "      <th>date</th>\n",
       "      <th>revenue</th>\n",
       "      <th>group</th>\n",
       "    </tr>\n",
       "  </thead>\n",
       "  <tbody>\n",
       "    <tr>\n",
       "      <th>0</th>\n",
       "      <td>3667963787</td>\n",
       "      <td>3312258926</td>\n",
       "      <td>2019-08-15</td>\n",
       "      <td>1650</td>\n",
       "      <td>B</td>\n",
       "    </tr>\n",
       "    <tr>\n",
       "      <th>1</th>\n",
       "      <td>2804400009</td>\n",
       "      <td>3642806036</td>\n",
       "      <td>2019-08-15</td>\n",
       "      <td>730</td>\n",
       "      <td>B</td>\n",
       "    </tr>\n",
       "    <tr>\n",
       "      <th>2</th>\n",
       "      <td>3797467345</td>\n",
       "      <td>1196621759</td>\n",
       "      <td>2019-08-15</td>\n",
       "      <td>9759</td>\n",
       "      <td>B</td>\n",
       "    </tr>\n",
       "    <tr>\n",
       "      <th>3</th>\n",
       "      <td>2282983706</td>\n",
       "      <td>2322279887</td>\n",
       "      <td>2019-08-15</td>\n",
       "      <td>2308</td>\n",
       "      <td>B</td>\n",
       "    </tr>\n",
       "    <tr>\n",
       "      <th>4</th>\n",
       "      <td>182168103</td>\n",
       "      <td>935554773</td>\n",
       "      <td>2019-08-15</td>\n",
       "      <td>2210</td>\n",
       "      <td>B</td>\n",
       "    </tr>\n",
       "  </tbody>\n",
       "</table>\n",
       "</div>"
      ],
      "text/plain": [
       "   transactionId   visitorId       date  revenue group\n",
       "0  3667963787     3312258926 2019-08-15  1650     B   \n",
       "1  2804400009     3642806036 2019-08-15  730      B   \n",
       "2  3797467345     1196621759 2019-08-15  9759     B   \n",
       "3  2282983706     2322279887 2019-08-15  2308     B   \n",
       "4  182168103      935554773  2019-08-15  2210     B   "
      ]
     },
     "execution_count": 33,
     "metadata": {},
     "output_type": "execute_result"
    }
   ],
   "source": [
    "orders.head()"
   ]
  },
  {
   "cell_type": "code",
   "execution_count": 34,
   "metadata": {},
   "outputs": [
    {
     "data": {
      "image/png": "[encoded data removed]",
      "text/plain": [
       "<Figure size 576x288 with 1 Axes>"
      ]
     },
     "metadata": {
      "needs_background": "light"
     },
     "output_type": "display_data"
    }
   ],
   "source": [
    "ordersByUsers = (\n",
    "    orders.groupby('visitorId', as_index=False)\n",
    "    .agg({'transactionId': 'nunique'})\n",
    ")\n",
    "ordersByUsers.columns = ['visitorId', 'orders']\n",
    "\n",
    "ordersByUsers['orders'].sort_values()\n",
    "# серия из чисел от 0 до количества наблюдений в ordersByUsers\n",
    "x_values = pd.Series(range(0, len(ordersByUsers)))\n",
    "\n",
    "\n",
    "plt.ylabel('Заказов на 1 пользователя')\n",
    "plt.title('Точечный график количества заказов по пользователям')\n",
    "plt.scatter(x_values, ordersByUsers['orders']);"
   ]
  },
  {
   "cell_type": "code",
   "execution_count": 35,
   "metadata": {},
   "outputs": [
    {
     "data": {
      "text/html": [
       "<div>\n",
       "<style scoped>\n",
       "    .dataframe tbody tr th:only-of-type {\n",
       "        vertical-align: middle;\n",
       "    }\n",
       "\n",
       "    .dataframe tbody tr th {\n",
       "        vertical-align: top;\n",
       "    }\n",
       "\n",
       "    .dataframe thead th {\n",
       "        text-align: right;\n",
       "    }\n",
       "</style>\n",
       "<table border=\"1\" class=\"dataframe\">\n",
       "  <thead>\n",
       "    <tr style=\"text-align: right;\">\n",
       "      <th></th>\n",
       "      <th>orders</th>\n",
       "      <th>visitorId</th>\n",
       "      <th>percent</th>\n",
       "    </tr>\n",
       "  </thead>\n",
       "  <tbody>\n",
       "    <tr>\n",
       "      <th>0</th>\n",
       "      <td>1</td>\n",
       "      <td>937</td>\n",
       "      <td>96.30</td>\n",
       "    </tr>\n",
       "    <tr>\n",
       "      <th>1</th>\n",
       "      <td>2</td>\n",
       "      <td>29</td>\n",
       "      <td>2.98</td>\n",
       "    </tr>\n",
       "    <tr>\n",
       "      <th>2</th>\n",
       "      <td>3</td>\n",
       "      <td>7</td>\n",
       "      <td>0.72</td>\n",
       "    </tr>\n",
       "  </tbody>\n",
       "</table>\n",
       "</div>"
      ],
      "text/plain": [
       "   orders  visitorId  percent\n",
       "0  1       937        96.30  \n",
       "1  2       29         2.98   \n",
       "2  3       7          0.72   "
      ]
     },
     "execution_count": 35,
     "metadata": {},
     "output_type": "execute_result"
    }
   ],
   "source": [
    "ordersByUsers_stat = ordersByUsers.groupby('orders').count().reset_index()\n",
    "ordersByUsers_stat['percent'] = round(ordersByUsers_stat['visitorId'] / sum(ordersByUsers_stat['visitorId']) * 100, 2)\n",
    "ordersByUsers_stat"
   ]
  },
  {
   "cell_type": "markdown",
   "metadata": {},
   "source": [
    "##### Вывод\n",
    "По графику видно, что пользователей совершивших больше `3` покупок нет, при этом пользователей совершивших `2` и более покупок очень мало, абсолютное большинство за пользователями, совершивших всего `1` покупку. "
   ]
  },
  {
   "cell_type": "markdown",
   "metadata": {},
   "source": [
    "#### **7. Посчитайте 95-й и 99-й перцентили количества заказов на пользователя. Выберите границу для определения аномальных пользователей.**"
   ]
  },
  {
   "cell_type": "code",
   "execution_count": 36,
   "metadata": {},
   "outputs": [
    {
     "name": "stdout",
     "output_type": "stream",
     "text": [
      "[1. 1. 2.]\n"
     ]
    }
   ],
   "source": [
    "print(np.percentile(ordersByUsers['orders'], [90, 95, 99]))"
   ]
  },
  {
   "cell_type": "markdown",
   "metadata": {},
   "source": [
    "##### Вывод\n",
    "Границу для определения аномальных пользователей выберем `99 перцентиль`. Не более `1%` пользователей совершает больше двух заказов."
   ]
  },
  {
   "cell_type": "markdown",
   "metadata": {},
   "source": [
    "#### **8. Постройте точечный график стоимостей заказов. Сделайте выводы и предположения.**"
   ]
  },
  {
   "cell_type": "code",
   "execution_count": 37,
   "metadata": {},
   "outputs": [
    {
     "data": {
      "text/plain": [
       "Text(0.5, 1.0, 'Точечный график стоимостей заказов')"
      ]
     },
     "execution_count": 37,
     "metadata": {},
     "output_type": "execute_result"
    },
    {
     "data": {
      "image/png": "[encoded data removed]",
      "text/plain": [
       "<Figure size 576x288 with 1 Axes>"
      ]
     },
     "metadata": {
      "needs_background": "light"
     },
     "output_type": "display_data"
    }
   ],
   "source": [
    "\n",
    "x_values = pd.Series(range(0, len(orders['revenue'])))\n",
    "plt.gca().get_yaxis().set_major_formatter(ticker.FuncFormatter(lambda x, _: '{:.0f}'.format(x * 1)))\n",
    "plt.scatter(x_values, orders['revenue'])\n",
    "plt.ylabel('Стоимость')\n",
    "plt.title('Точечный график стоимостей заказов')\n",
    "\n",
    "\n"
   ]
  },
  {
   "cell_type": "code",
   "execution_count": 38,
   "metadata": {},
   "outputs": [
    {
     "data": {
      "text/plain": [
       "Text(0.5, 1.0, 'Точечный график стоимостей заказов')"
      ]
     },
     "execution_count": 38,
     "metadata": {},
     "output_type": "execute_result"
    },
    {
     "data": {
      "image/png": "[encoded data removed]",
      "text/plain": [
       "<Figure size 576x288 with 1 Axes>"
      ]
     },
     "metadata": {
      "needs_background": "light"
     },
     "output_type": "display_data"
    }
   ],
   "source": [
    "# посмотрим поближе\n",
    "plt.gca().get_yaxis().set_major_formatter(ticker.FuncFormatter(lambda x, _: '{:.0f}'.format(x * 1)))\n",
    "plt.scatter(x_values, orders['revenue'])\n",
    "plt.ylim(0, 250000)\n",
    "plt.ylabel('Стоимость')\n",
    "plt.title('Точечный график стоимостей заказов')"
   ]
  },
  {
   "cell_type": "markdown",
   "metadata": {},
   "source": [
    "##### Вывод\n",
    "Заказы стоимостью больше `1.2 миллиона руб`. и на `200 тыс. руб`.  выглядят странно, можно предположить, что все заказы, дороже `75 тыс. руб.` - аномалия "
   ]
  },
  {
   "cell_type": "markdown",
   "metadata": {},
   "source": [
    "#### **9. Посчитайте 95-й и 99-й перцентили стоимости заказов. Выберите границу для определения аномальных заказов.**"
   ]
  },
  {
   "cell_type": "code",
   "execution_count": 39,
   "metadata": {},
   "outputs": [
    {
     "name": "stdout",
     "output_type": "stream",
     "text": [
      "[17990. 26785. 53904.]\n"
     ]
    }
   ],
   "source": [
    "print(np.percentile(orders['revenue'], [90, 95, 99]))"
   ]
  },
  {
   "cell_type": "markdown",
   "metadata": {},
   "source": [
    "##### Вывод\n",
    "Не более `1%` покупателей совершает покупки на сумму больше `53904 руб`. Мне кажется оптимальная граница."
   ]
  },
  {
   "cell_type": "markdown",
   "metadata": {},
   "source": [
    "#### **10. Посчитайте статистическую значимость различий в среднем количестве заказов на посетителя между группами по «сырым» данным. Сделайте выводы и предположения.**\n",
    "\n",
    "Сформулируем гипотезы. Нулевая: различий в среднем количестве заказов между группами нет. Альтернативная: различия в среднем между группами есть.\n",
    "\n",
    "Будем считать, что критический уровень статистической значимости(alpha) равен `0.05`"
   ]
  },
  {
   "cell_type": "code",
   "execution_count": 41,
   "metadata": {},
   "outputs": [],
   "source": [
    "ordersByUsersA = (\n",
    "    orders[orders['group'] == 'A']\n",
    "    .groupby('visitorId', as_index=False)\n",
    "    .agg({'transactionId': pd.Series.nunique})\n",
    ")\n",
    "ordersByUsersA.columns = ['visitorId', 'orders']\n",
    "\n",
    "ordersByUsersB = (\n",
    "    orders[orders['group'] == 'B']\n",
    "    .groupby('visitorId', as_index=False)\n",
    "    .agg({'transactionId': pd.Series.nunique})\n",
    ")\n",
    "ordersByUsersB.columns = ['visitorId', 'orders']\n",
    "\n",
    "sampleA = pd.concat(\n",
    "    [\n",
    "        ordersByUsersA['orders'],\n",
    "        pd.Series(\n",
    "            0,\n",
    "            index=np.arange(\n",
    "                data['visitorsPerDateA'].sum() - len(ordersByUsersA['orders'])\n",
    "            ),\n",
    "            name='orders',\n",
    "        ),\n",
    "    ],\n",
    "    axis=0,\n",
    ")\n",
    "\n",
    "sampleB = pd.concat(\n",
    "    [\n",
    "        ordersByUsersB['orders'],\n",
    "        pd.Series(\n",
    "            0,\n",
    "            index=np.arange(\n",
    "                data['visitorsPerDateB'].sum() - len(ordersByUsersB['orders'])\n",
    "            ),\n",
    "            name='orders',\n",
    "        ),\n",
    "    ],\n",
    "    axis=0,\n",
    ")\n"
   ]
  },
  {
   "cell_type": "code",
   "execution_count": 42,
   "metadata": {},
   "outputs": [
    {
     "name": "stdout",
     "output_type": "stream",
     "text": [
      "0.01102\n",
      "0.160\n"
     ]
    }
   ],
   "source": [
    "print(\"{0:.5f}\".format(st.mannwhitneyu(sampleA, sampleB)[1]))\n",
    "\n",
    "print(\"{0:.3f}\".format(sampleB.mean() / sampleA.mean() - 1))"
   ]
  },
  {
   "cell_type": "markdown",
   "metadata": {},
   "source": [
    "##### Вывод \n",
    "По сырым данных: p-value = `0.01102` меньше `0.05`. Значит, нулевую гипотезу о том, что статистически значимых различий в среднем числе заказов между группами нет, отвергаем. Относительный прирост среднего группы B к среднему группы A - `16%`"
   ]
  },
  {
   "cell_type": "markdown",
   "metadata": {},
   "source": [
    "#### **11. Посчитайте статистическую значимость различий в среднем чеке заказа между группами по «сырым» данным. Сделайте выводы и предположения.**\n",
    "\n",
    " Нулевая гипотеза: различий в среднем чеке между группами нет. Альтернативная гипотеза: различия в среднем чеке между группами есть. "
   ]
  },
  {
   "cell_type": "code",
   "execution_count": 43,
   "metadata": {},
   "outputs": [
    {
     "name": "stdout",
     "output_type": "stream",
     "text": [
      "0.829\n",
      "0.287\n"
     ]
    }
   ],
   "source": [
    "print('{0:.3f}'.format(st.mannwhitneyu(orders[orders['group']=='A']['revenue'], orders[orders['group']=='B']['revenue'])[1]))\n",
    "print('{0:.3f}'.format(orders[orders['group']=='B']['revenue'].mean()/orders[orders['group']=='A']['revenue'].mean()-1))"
   ]
  },
  {
   "cell_type": "markdown",
   "metadata": {},
   "source": [
    "##### Вывод \n",
    "p-value больше `0.05`, значит статистически значимых отличий в среднем чеке между группами нет. Нулевую гипотезу не отвергаем. При этом относительное различие среднего чека между сегментами `28.7%`, что довольно значимо."
   ]
  },
  {
   "cell_type": "markdown",
   "metadata": {},
   "source": [
    "#### **12. Посчитайте статистическую значимость различий в среднем количестве заказов на посетителя между группами по «очищенным» данным. Сделайте выводы и предположения.**\n",
    "\n",
    "Нулевая гипотеза: различий в среднем количестве заказов между группами нет. Альтернативная: различия в среднем между группами есть."
   ]
  },
  {
   "cell_type": "code",
   "execution_count": 44,
   "metadata": {},
   "outputs": [
    {
     "data": {
      "text/html": [
       "<div>\n",
       "<style scoped>\n",
       "    .dataframe tbody tr th:only-of-type {\n",
       "        vertical-align: middle;\n",
       "    }\n",
       "\n",
       "    .dataframe tbody tr th {\n",
       "        vertical-align: top;\n",
       "    }\n",
       "\n",
       "    .dataframe thead th {\n",
       "        text-align: right;\n",
       "    }\n",
       "</style>\n",
       "<table border=\"1\" class=\"dataframe\">\n",
       "  <thead>\n",
       "    <tr style=\"text-align: right;\">\n",
       "      <th></th>\n",
       "      <th>transactionId</th>\n",
       "      <th>visitorId</th>\n",
       "      <th>date</th>\n",
       "      <th>revenue</th>\n",
       "      <th>group</th>\n",
       "    </tr>\n",
       "  </thead>\n",
       "  <tbody>\n",
       "    <tr>\n",
       "      <th>0</th>\n",
       "      <td>3667963787</td>\n",
       "      <td>3312258926</td>\n",
       "      <td>2019-08-15</td>\n",
       "      <td>1650</td>\n",
       "      <td>B</td>\n",
       "    </tr>\n",
       "    <tr>\n",
       "      <th>1</th>\n",
       "      <td>2804400009</td>\n",
       "      <td>3642806036</td>\n",
       "      <td>2019-08-15</td>\n",
       "      <td>730</td>\n",
       "      <td>B</td>\n",
       "    </tr>\n",
       "    <tr>\n",
       "      <th>2</th>\n",
       "      <td>3797467345</td>\n",
       "      <td>1196621759</td>\n",
       "      <td>2019-08-15</td>\n",
       "      <td>9759</td>\n",
       "      <td>B</td>\n",
       "    </tr>\n",
       "    <tr>\n",
       "      <th>3</th>\n",
       "      <td>2282983706</td>\n",
       "      <td>2322279887</td>\n",
       "      <td>2019-08-15</td>\n",
       "      <td>2308</td>\n",
       "      <td>B</td>\n",
       "    </tr>\n",
       "    <tr>\n",
       "      <th>4</th>\n",
       "      <td>182168103</td>\n",
       "      <td>935554773</td>\n",
       "      <td>2019-08-15</td>\n",
       "      <td>2210</td>\n",
       "      <td>B</td>\n",
       "    </tr>\n",
       "  </tbody>\n",
       "</table>\n",
       "</div>"
      ],
      "text/plain": [
       "   transactionId   visitorId       date  revenue group\n",
       "0  3667963787     3312258926 2019-08-15  1650     B   \n",
       "1  2804400009     3642806036 2019-08-15  730      B   \n",
       "2  3797467345     1196621759 2019-08-15  9759     B   \n",
       "3  2282983706     2322279887 2019-08-15  2308     B   \n",
       "4  182168103      935554773  2019-08-15  2210     B   "
      ]
     },
     "execution_count": 44,
     "metadata": {},
     "output_type": "execute_result"
    }
   ],
   "source": [
    "orders.head()"
   ]
  },
  {
   "cell_type": "code",
   "execution_count": 45,
   "metadata": {},
   "outputs": [],
   "source": [
    "usersWithManyOrders = pd.concat(\n",
    "    [\n",
    "        ordersByUsersA[ordersByUsersA['orders'] > 2]['visitorId'],\n",
    "        ordersByUsersB[ordersByUsersB['orders'] > 2]['visitorId'],\n",
    "    ],\n",
    "    axis=0,\n",
    ")\n",
    "usersWithExpensiveOrders = orders[orders['revenue'] > 53904]['visitorId'] #53904\n",
    "abnormalUsers = (\n",
    "    pd.concat([usersWithManyOrders, usersWithExpensiveOrders], axis=0)\n",
    "    .drop_duplicates()\n",
    "    .sort_values()\n",
    ")\n",
    "\n",
    "sampleAFiltered = pd.concat(\n",
    "    [\n",
    "        ordersByUsersA[\n",
    "            np.logical_not(ordersByUsersA['visitorId'].isin(abnormalUsers))\n",
    "        ]['orders'],\n",
    "        pd.Series(\n",
    "            0,\n",
    "            index=np.arange(\n",
    "                data['visitorsPerDateA'].sum() - len(ordersByUsersA['orders'])\n",
    "            ),\n",
    "            name='orders',\n",
    "        ),\n",
    "    ],\n",
    "    axis=0,\n",
    ")\n",
    "\n",
    "sampleBFiltered = pd.concat(\n",
    "    [\n",
    "        ordersByUsersB[\n",
    "            np.logical_not(ordersByUsersB['visitorId'].isin(abnormalUsers))\n",
    "        ]['orders'],\n",
    "        pd.Series(\n",
    "            0,\n",
    "            index=np.arange(\n",
    "                data['visitorsPerDateB'].sum() - len(ordersByUsersB['orders'])\n",
    "            ),\n",
    "            name='orders',\n",
    "        ),\n",
    "    ],\n",
    "    axis=0,\n",
    ")"
   ]
  },
  {
   "cell_type": "code",
   "execution_count": 46,
   "metadata": {},
   "outputs": [
    {
     "name": "stdout",
     "output_type": "stream",
     "text": [
      "0.00702\n",
      "0.189\n"
     ]
    }
   ],
   "source": [
    "print('{0:.5f}'.format(st.mannwhitneyu(sampleAFiltered, sampleBFiltered)[1]))\n",
    "print('{0:.3f}'.format(sampleBFiltered.mean()/sampleAFiltered.mean()-1))"
   ]
  },
  {
   "cell_type": "markdown",
   "metadata": {},
   "source": [
    "##### Вывод\n",
    "По не очищенным данным:\n",
    "\n",
    "* p-value = `0.01102`\n",
    "* относительный прирост среднего группы B к среднему группы A = `0.160`\n",
    "\n",
    "По очищенным данным:\n",
    "\n",
    "* p-value = `0.00702`\n",
    "* относительный прирост среднего группы B к среднему группы A = `0.189`\n",
    "\n",
    "По очищенным данным статистическая значимость различий в среднем количестве заказов на посетителя стала еще меньше `0.05`, следовательно, разница статистически значима. Разрыв  между группами вырос с `0.16` до `0.189`\n",
    " "
   ]
  },
  {
   "cell_type": "markdown",
   "metadata": {},
   "source": [
    "#### **13. Посчитайте статистическую значимость различий в среднем чеке заказа между группами по «очищенным» данным. Сделайте выводы и предположения.**\n",
    "\n",
    " Нулевая гипотеза: различий в среднем чеке между группами нет. Альтернативная гипотеза: различия в среднем чеке между группами есть. "
   ]
  },
  {
   "cell_type": "code",
   "execution_count": 47,
   "metadata": {},
   "outputs": [
    {
     "data": {
      "text/html": [
       "<div>\n",
       "<style scoped>\n",
       "    .dataframe tbody tr th:only-of-type {\n",
       "        vertical-align: middle;\n",
       "    }\n",
       "\n",
       "    .dataframe tbody tr th {\n",
       "        vertical-align: top;\n",
       "    }\n",
       "\n",
       "    .dataframe thead th {\n",
       "        text-align: right;\n",
       "    }\n",
       "</style>\n",
       "<table border=\"1\" class=\"dataframe\">\n",
       "  <thead>\n",
       "    <tr style=\"text-align: right;\">\n",
       "      <th></th>\n",
       "      <th>transactionId</th>\n",
       "      <th>visitorId</th>\n",
       "      <th>date</th>\n",
       "      <th>revenue</th>\n",
       "      <th>group</th>\n",
       "    </tr>\n",
       "  </thead>\n",
       "  <tbody>\n",
       "    <tr>\n",
       "      <th>0</th>\n",
       "      <td>3667963787</td>\n",
       "      <td>3312258926</td>\n",
       "      <td>2019-08-15</td>\n",
       "      <td>1650</td>\n",
       "      <td>B</td>\n",
       "    </tr>\n",
       "    <tr>\n",
       "      <th>1</th>\n",
       "      <td>2804400009</td>\n",
       "      <td>3642806036</td>\n",
       "      <td>2019-08-15</td>\n",
       "      <td>730</td>\n",
       "      <td>B</td>\n",
       "    </tr>\n",
       "    <tr>\n",
       "      <th>2</th>\n",
       "      <td>3797467345</td>\n",
       "      <td>1196621759</td>\n",
       "      <td>2019-08-15</td>\n",
       "      <td>9759</td>\n",
       "      <td>B</td>\n",
       "    </tr>\n",
       "    <tr>\n",
       "      <th>3</th>\n",
       "      <td>2282983706</td>\n",
       "      <td>2322279887</td>\n",
       "      <td>2019-08-15</td>\n",
       "      <td>2308</td>\n",
       "      <td>B</td>\n",
       "    </tr>\n",
       "    <tr>\n",
       "      <th>4</th>\n",
       "      <td>182168103</td>\n",
       "      <td>935554773</td>\n",
       "      <td>2019-08-15</td>\n",
       "      <td>2210</td>\n",
       "      <td>B</td>\n",
       "    </tr>\n",
       "  </tbody>\n",
       "</table>\n",
       "</div>"
      ],
      "text/plain": [
       "   transactionId   visitorId       date  revenue group\n",
       "0  3667963787     3312258926 2019-08-15  1650     B   \n",
       "1  2804400009     3642806036 2019-08-15  730      B   \n",
       "2  3797467345     1196621759 2019-08-15  9759     B   \n",
       "3  2282983706     2322279887 2019-08-15  2308     B   \n",
       "4  182168103      935554773  2019-08-15  2210     B   "
      ]
     },
     "execution_count": 47,
     "metadata": {},
     "output_type": "execute_result"
    }
   ],
   "source": [
    "orders.head()"
   ]
  },
  {
   "cell_type": "code",
   "execution_count": 48,
   "metadata": {},
   "outputs": [
    {
     "name": "stdout",
     "output_type": "stream",
     "text": [
      "0.788\n",
      "-0.032\n"
     ]
    }
   ],
   "source": [
    "print(\n",
    "    '{0:.3f}'.format(\n",
    "        st.mannwhitneyu(\n",
    "            orders[\n",
    "                np.logical_and(\n",
    "                    orders['group'] == 'A',\n",
    "                    np.logical_not(orders['visitorId'].isin(abnormalUsers)),\n",
    "                )\n",
    "            ]['revenue'],\n",
    "            orders[\n",
    "                np.logical_and(\n",
    "                    orders['group'] == 'B',\n",
    "                    np.logical_not(orders['visitorId'].isin(abnormalUsers)),\n",
    "                )\n",
    "            ]['revenue'],\n",
    "        )[1]\n",
    "    )\n",
    ")\n",
    "\n",
    "print(\n",
    "    \"{0:.3f}\".format(\n",
    "        orders[\n",
    "            np.logical_and(\n",
    "                orders['group'] == 'B',\n",
    "                np.logical_not(orders['visitorId'].isin(abnormalUsers)),\n",
    "            )\n",
    "        ]['revenue'].mean()\n",
    "        / orders[\n",
    "            np.logical_and(\n",
    "                orders['group'] == 'A',\n",
    "                np.logical_not(orders['visitorId'].isin(abnormalUsers)),\n",
    "            )\n",
    "        ]['revenue'].mean()\n",
    "        - 1\n",
    "    )\n",
    ") "
   ]
  },
  {
   "cell_type": "markdown",
   "metadata": {},
   "source": [
    "##### Вывод\n",
    "\n",
    "По не очищенным данным:\n",
    "\n",
    "* p-value = `0.829`\n",
    "* относительное различие среднего чека между группой B к группе A = `0.287`\n",
    "\n",
    "По очищенным данным:\n",
    "\n",
    "* p-value = `0.788`\n",
    "* относительное различие среднего чека между группой B к группе A = `-0.032`\n",
    "\n",
    "По очищенным данным статистическая значимость различий в среднем чеке заказов между группами немного уменьшилась, но, по прежнему больше `0.05`, следовательно, разница статистически не значима. При этом, относительное различие среднего чека между группой B и группой А стал равен `-0.032`, что говорит о том, что, неожиданно, средний чек группы А чуть-чуть выше среднего чека группы В, но, можно считать, что они почти равны.\n",
    "\n"
   ]
  },
  {
   "cell_type": "markdown",
   "metadata": {},
   "source": [
    "#### **14. Примите решение по результатам теста и объясните его.**\n",
    "\n",
    "Варианты решений:\n",
    "\n",
    "1. Остановить тест, зафиксировать победу одной из групп.\n",
    "2. Остановить тест, зафиксировать отсутствие различий между группами.\n",
    "3. Продолжить тест. "
   ]
  },
  {
   "cell_type": "markdown",
   "metadata": {},
   "source": [
    "По итогам A/B теста имеем:\n",
    "* Присутствуют статистически значимые различия по среднему количеству заказов между группами, как по сырым данным, так и по чистым. А также разрыв в количестве заказов между группами преобладает в группе В. По сырым данным это `16%`, по очищенным `18.9%`\n",
    "* Нет статистически значимого различия по среднему чеку между группами, как по сырым данным, так и по чистым. При этом, на сырых данных был сильный разрыв относительного различия среднего чека между сегментами, равный `28.7%` в пользу группы В.  На очищенных данных разрыв относительного различия среднего чека между сегментами уменьшился до `-3.2%` в пользу группы А.\n",
    "\n",
    "Если закрыть глаза на то, что в данных группы А и В перемешались при проведении теста и исходить из выше перечисленных фактов принимаем решение остановить тест, зафиксировать победу группы В. Но, если учитывать, что группы перемешались, то я бы признал тест неудачным. "
   ]
  }
 ],
 "metadata": {
  "ExecuteTimeLog": [
   {
    "duration": 1094,
    "start_time": "2023-05-21T17:19:58.180Z"
   },
   {
    "duration": 102,
    "start_time": "2023-05-21T17:19:59.276Z"
   },
   {
    "duration": 11,
    "start_time": "2023-05-21T17:19:59.380Z"
   },
   {
    "duration": 22,
    "start_time": "2023-05-21T17:19:59.394Z"
   },
   {
    "duration": 20,
    "start_time": "2023-05-21T17:19:59.428Z"
   },
   {
    "duration": 34,
    "start_time": "2023-05-21T17:19:59.451Z"
   },
   {
    "duration": 13,
    "start_time": "2023-05-21T17:19:59.487Z"
   },
   {
    "duration": 50,
    "start_time": "2023-05-21T17:19:59.502Z"
   },
   {
    "duration": 8,
    "start_time": "2023-05-21T17:19:59.554Z"
   },
   {
    "duration": 10,
    "start_time": "2023-05-21T17:19:59.565Z"
   },
   {
    "duration": 11,
    "start_time": "2023-05-21T17:19:59.577Z"
   },
   {
    "duration": 3,
    "start_time": "2023-05-21T17:19:59.590Z"
   },
   {
    "duration": 12,
    "start_time": "2023-05-21T17:19:59.595Z"
   },
   {
    "duration": 6,
    "start_time": "2023-05-21T17:19:59.608Z"
   },
   {
    "duration": 78,
    "start_time": "2023-05-21T17:19:59.616Z"
   },
   {
    "duration": 21,
    "start_time": "2023-05-21T17:19:59.696Z"
   },
   {
    "duration": 12,
    "start_time": "2023-05-21T17:19:59.727Z"
   },
   {
    "duration": 28,
    "start_time": "2023-05-21T17:19:59.741Z"
   },
   {
    "duration": 15,
    "start_time": "2023-05-21T17:19:59.771Z"
   },
   {
    "duration": 12,
    "start_time": "2023-05-21T17:19:59.788Z"
   },
   {
    "duration": 10,
    "start_time": "2023-05-21T17:19:59.802Z"
   },
   {
    "duration": 18,
    "start_time": "2023-05-21T17:19:59.813Z"
   },
   {
    "duration": 33,
    "start_time": "2023-05-21T17:19:59.832Z"
   },
   {
    "duration": 324,
    "start_time": "2023-05-21T17:19:59.866Z"
   },
   {
    "duration": 10,
    "start_time": "2023-05-21T17:20:00.192Z"
   },
   {
    "duration": 374,
    "start_time": "2023-05-21T17:20:00.204Z"
   },
   {
    "duration": 225,
    "start_time": "2023-05-21T17:20:00.579Z"
   },
   {
    "duration": 368,
    "start_time": "2023-05-21T17:20:00.807Z"
   },
   {
    "duration": 275,
    "start_time": "2023-05-21T17:20:01.177Z"
   },
   {
    "duration": 11,
    "start_time": "2023-05-21T17:20:01.455Z"
   },
   {
    "duration": 325,
    "start_time": "2023-05-21T17:20:01.468Z"
   },
   {
    "duration": 12,
    "start_time": "2023-05-21T17:20:01.795Z"
   },
   {
    "duration": 228,
    "start_time": "2023-05-21T17:20:01.809Z"
   },
   {
    "duration": 17,
    "start_time": "2023-05-21T17:20:02.038Z"
   },
   {
    "duration": 28,
    "start_time": "2023-05-21T17:20:02.057Z"
   },
   {
    "duration": 216,
    "start_time": "2023-05-21T17:20:02.086Z"
   },
   {
    "duration": 153,
    "start_time": "2023-05-21T17:20:02.304Z"
   },
   {
    "duration": 10,
    "start_time": "2023-05-21T17:20:02.459Z"
   },
   {
    "duration": 437,
    "start_time": "2023-05-21T17:20:02.471Z"
   },
   {
    "duration": 35,
    "start_time": "2023-05-21T17:20:02.909Z"
   },
   {
    "duration": 23,
    "start_time": "2023-05-21T17:20:02.950Z"
   },
   {
    "duration": 14,
    "start_time": "2023-05-21T17:20:02.974Z"
   },
   {
    "duration": 46,
    "start_time": "2023-05-21T17:20:02.989Z"
   },
   {
    "duration": 35,
    "start_time": "2023-05-21T17:20:03.048Z"
   },
   {
    "duration": 9,
    "start_time": "2023-05-21T17:20:03.085Z"
   },
   {
    "duration": 18,
    "start_time": "2023-05-21T17:20:03.095Z"
   },
   {
    "duration": 48,
    "start_time": "2023-05-21T18:34:43.707Z"
   },
   {
    "duration": 1235,
    "start_time": "2023-05-21T18:34:56.772Z"
   },
   {
    "duration": 186,
    "start_time": "2023-05-21T18:34:58.009Z"
   },
   {
    "duration": 15,
    "start_time": "2023-05-21T18:34:58.197Z"
   },
   {
    "duration": 15,
    "start_time": "2023-05-21T18:34:58.214Z"
   },
   {
    "duration": 4,
    "start_time": "2023-05-21T18:34:58.232Z"
   },
   {
    "duration": 26,
    "start_time": "2023-05-21T18:34:58.238Z"
   },
   {
    "duration": 13,
    "start_time": "2023-05-21T18:34:58.266Z"
   },
   {
    "duration": 8,
    "start_time": "2023-05-21T18:34:58.281Z"
   },
   {
    "duration": 8,
    "start_time": "2023-05-21T18:34:58.291Z"
   },
   {
    "duration": 8,
    "start_time": "2023-05-21T18:34:58.300Z"
   },
   {
    "duration": 43,
    "start_time": "2023-05-21T18:34:58.310Z"
   },
   {
    "duration": 3,
    "start_time": "2023-05-21T18:34:58.354Z"
   },
   {
    "duration": 10,
    "start_time": "2023-05-21T18:34:58.359Z"
   },
   {
    "duration": 6,
    "start_time": "2023-05-21T18:34:58.373Z"
   },
   {
    "duration": 37,
    "start_time": "2023-05-21T18:34:58.381Z"
   },
   {
    "duration": 51,
    "start_time": "2023-05-21T18:34:58.420Z"
   },
   {
    "duration": 5,
    "start_time": "2023-05-21T18:34:58.472Z"
   },
   {
    "duration": 15,
    "start_time": "2023-05-21T18:34:58.478Z"
   },
   {
    "duration": 14,
    "start_time": "2023-05-21T18:34:58.495Z"
   },
   {
    "duration": 47,
    "start_time": "2023-05-21T18:34:58.511Z"
   },
   {
    "duration": 11,
    "start_time": "2023-05-21T18:34:58.560Z"
   },
   {
    "duration": 7,
    "start_time": "2023-05-21T18:34:58.573Z"
   },
   {
    "duration": 10,
    "start_time": "2023-05-21T18:34:58.581Z"
   },
   {
    "duration": 6,
    "start_time": "2023-05-21T18:34:58.593Z"
   },
   {
    "duration": 303,
    "start_time": "2023-05-21T18:34:58.600Z"
   },
   {
    "duration": 6,
    "start_time": "2023-05-21T18:34:58.904Z"
   },
   {
    "duration": 274,
    "start_time": "2023-05-21T18:34:58.912Z"
   },
   {
    "duration": 201,
    "start_time": "2023-05-21T18:34:59.188Z"
   },
   {
    "duration": 335,
    "start_time": "2023-05-21T18:34:59.390Z"
   },
   {
    "duration": 204,
    "start_time": "2023-05-21T18:34:59.727Z"
   },
   {
    "duration": 17,
    "start_time": "2023-05-21T18:34:59.933Z"
   },
   {
    "duration": 303,
    "start_time": "2023-05-21T18:34:59.952Z"
   },
   {
    "duration": 8,
    "start_time": "2023-05-21T18:35:00.256Z"
   },
   {
    "duration": 150,
    "start_time": "2023-05-21T18:35:00.266Z"
   },
   {
    "duration": 11,
    "start_time": "2023-05-21T18:35:00.417Z"
   },
   {
    "duration": 28,
    "start_time": "2023-05-21T18:35:00.429Z"
   },
   {
    "duration": 149,
    "start_time": "2023-05-21T18:35:00.459Z"
   },
   {
    "duration": 217,
    "start_time": "2023-05-21T18:35:00.610Z"
   },
   {
    "duration": 5,
    "start_time": "2023-05-21T18:35:00.829Z"
   },
   {
    "duration": 340,
    "start_time": "2023-05-21T18:35:00.835Z"
   },
   {
    "duration": 21,
    "start_time": "2023-05-21T18:35:01.178Z"
   },
   {
    "duration": 27,
    "start_time": "2023-05-21T18:35:01.200Z"
   },
   {
    "duration": 53,
    "start_time": "2023-05-21T18:35:01.228Z"
   },
   {
    "duration": 48,
    "start_time": "2023-05-21T18:35:01.282Z"
   },
   {
    "duration": 83,
    "start_time": "2023-05-21T18:35:01.332Z"
   },
   {
    "duration": 27,
    "start_time": "2023-05-21T18:35:01.417Z"
   },
   {
    "duration": 71,
    "start_time": "2023-05-21T18:35:01.446Z"
   },
   {
    "duration": 13,
    "start_time": "2023-05-21T18:35:46.031Z"
   },
   {
    "duration": 13,
    "start_time": "2023-05-21T18:37:18.058Z"
   },
   {
    "duration": 12,
    "start_time": "2023-05-21T18:38:50.399Z"
   },
   {
    "duration": 7,
    "start_time": "2023-05-21T19:10:45.083Z"
   },
   {
    "duration": 89,
    "start_time": "2023-05-21T19:11:37.540Z"
   },
   {
    "duration": 6,
    "start_time": "2023-05-21T19:11:46.878Z"
   },
   {
    "duration": 10,
    "start_time": "2023-05-21T19:12:19.046Z"
   },
   {
    "duration": 9,
    "start_time": "2023-05-21T19:12:41.158Z"
   },
   {
    "duration": 145,
    "start_time": "2023-05-21T19:12:55.550Z"
   },
   {
    "duration": 10,
    "start_time": "2023-05-21T19:14:27.449Z"
   },
   {
    "duration": 12,
    "start_time": "2023-05-21T19:14:34.101Z"
   },
   {
    "duration": 10,
    "start_time": "2023-05-21T19:14:54.461Z"
   },
   {
    "duration": 8,
    "start_time": "2023-05-21T19:15:32.670Z"
   },
   {
    "duration": 10,
    "start_time": "2023-05-21T19:16:51.749Z"
   },
   {
    "duration": 10,
    "start_time": "2023-05-21T19:17:22.625Z"
   },
   {
    "duration": 5,
    "start_time": "2023-05-21T19:17:27.740Z"
   },
   {
    "duration": 8,
    "start_time": "2023-05-21T19:17:45.901Z"
   },
   {
    "duration": 8,
    "start_time": "2023-05-21T19:22:46.588Z"
   },
   {
    "duration": 27,
    "start_time": "2023-05-21T19:22:52.040Z"
   },
   {
    "duration": 8,
    "start_time": "2023-05-21T19:23:27.692Z"
   },
   {
    "duration": 29,
    "start_time": "2023-05-21T19:23:39.540Z"
   },
   {
    "duration": 47,
    "start_time": "2023-05-21T19:24:00.449Z"
   },
   {
    "duration": 5,
    "start_time": "2023-05-21T19:24:13.388Z"
   },
   {
    "duration": 34,
    "start_time": "2023-05-21T19:24:21.664Z"
   },
   {
    "duration": 26,
    "start_time": "2023-05-21T19:25:47.492Z"
   },
   {
    "duration": 33,
    "start_time": "2023-05-21T19:25:54.452Z"
   },
   {
    "duration": 22,
    "start_time": "2023-05-21T19:27:07.555Z"
   },
   {
    "duration": 30,
    "start_time": "2023-05-21T19:27:23.463Z"
   },
   {
    "duration": 27,
    "start_time": "2023-05-21T19:27:32.395Z"
   },
   {
    "duration": 25,
    "start_time": "2023-05-21T19:28:12.500Z"
   },
   {
    "duration": 37,
    "start_time": "2023-05-21T19:28:39.511Z"
   },
   {
    "duration": 16,
    "start_time": "2023-05-21T19:28:49.523Z"
   },
   {
    "duration": 34,
    "start_time": "2023-05-21T19:29:05.851Z"
   },
   {
    "duration": 4,
    "start_time": "2023-05-21T19:29:24.711Z"
   },
   {
    "duration": 20,
    "start_time": "2023-05-21T19:29:50.360Z"
   },
   {
    "duration": 12,
    "start_time": "2023-05-21T19:30:28.911Z"
   },
   {
    "duration": 30,
    "start_time": "2023-05-21T19:30:35.951Z"
   },
   {
    "duration": 17,
    "start_time": "2023-05-21T19:30:41.239Z"
   },
   {
    "duration": 18,
    "start_time": "2023-05-21T19:30:59.236Z"
   },
   {
    "duration": 15,
    "start_time": "2023-05-21T19:31:45.703Z"
   },
   {
    "duration": 9,
    "start_time": "2023-05-21T19:32:28.060Z"
   },
   {
    "duration": 9,
    "start_time": "2023-05-21T19:32:53.407Z"
   },
   {
    "duration": 98,
    "start_time": "2023-05-21T19:33:09.191Z"
   },
   {
    "duration": 6,
    "start_time": "2023-05-21T19:33:25.171Z"
   },
   {
    "duration": 4,
    "start_time": "2023-05-21T19:33:34.823Z"
   },
   {
    "duration": 3,
    "start_time": "2023-05-21T19:33:39.819Z"
   },
   {
    "duration": 106,
    "start_time": "2023-05-21T19:38:54.051Z"
   },
   {
    "duration": 11,
    "start_time": "2023-05-21T19:41:52.689Z"
   },
   {
    "duration": 5,
    "start_time": "2023-05-21T19:42:01.350Z"
   },
   {
    "duration": 88,
    "start_time": "2023-05-21T19:42:28.046Z"
   },
   {
    "duration": 47,
    "start_time": "2023-05-21T19:42:50.225Z"
   },
   {
    "duration": 8,
    "start_time": "2023-05-21T19:43:08.854Z"
   },
   {
    "duration": 6,
    "start_time": "2023-05-21T19:43:19.389Z"
   },
   {
    "duration": 1206,
    "start_time": "2023-05-21T19:43:28.981Z"
   },
   {
    "duration": 1245,
    "start_time": "2023-05-21T19:43:44.043Z"
   },
   {
    "duration": 1153,
    "start_time": "2023-05-21T19:43:46.973Z"
   },
   {
    "duration": 1271,
    "start_time": "2023-05-21T19:43:51.249Z"
   },
   {
    "duration": 7,
    "start_time": "2023-05-21T19:43:57.949Z"
   },
   {
    "duration": 4,
    "start_time": "2023-05-21T19:44:16.165Z"
   },
   {
    "duration": 9,
    "start_time": "2023-05-21T19:44:25.977Z"
   },
   {
    "duration": 46,
    "start_time": "2023-05-21T19:44:30.346Z"
   },
   {
    "duration": 8,
    "start_time": "2023-05-21T19:44:42.406Z"
   },
   {
    "duration": 11,
    "start_time": "2023-05-21T19:44:46.392Z"
   },
   {
    "duration": 6,
    "start_time": "2023-05-21T19:45:03.865Z"
   },
   {
    "duration": 4,
    "start_time": "2023-05-21T19:45:57.925Z"
   },
   {
    "duration": 7,
    "start_time": "2023-05-21T19:46:04.149Z"
   },
   {
    "duration": 20,
    "start_time": "2023-05-21T19:48:05.108Z"
   },
   {
    "duration": 130,
    "start_time": "2023-05-21T19:49:50.212Z"
   },
   {
    "duration": 20,
    "start_time": "2023-05-21T19:49:59.800Z"
   },
   {
    "duration": 1106,
    "start_time": "2023-05-21T19:54:02.393Z"
   },
   {
    "duration": 73,
    "start_time": "2023-05-21T19:54:03.501Z"
   },
   {
    "duration": 12,
    "start_time": "2023-05-21T19:54:03.576Z"
   },
   {
    "duration": 13,
    "start_time": "2023-05-21T19:54:03.591Z"
   },
   {
    "duration": 4,
    "start_time": "2023-05-21T19:54:03.606Z"
   },
   {
    "duration": 44,
    "start_time": "2023-05-21T19:54:03.612Z"
   },
   {
    "duration": 13,
    "start_time": "2023-05-21T19:54:03.657Z"
   },
   {
    "duration": 8,
    "start_time": "2023-05-21T19:54:03.671Z"
   },
   {
    "duration": 8,
    "start_time": "2023-05-21T19:54:03.681Z"
   },
   {
    "duration": 6,
    "start_time": "2023-05-21T19:54:03.691Z"
   },
   {
    "duration": 7,
    "start_time": "2023-05-21T19:54:03.699Z"
   },
   {
    "duration": 43,
    "start_time": "2023-05-21T19:54:03.708Z"
   },
   {
    "duration": 14,
    "start_time": "2023-05-21T19:54:03.752Z"
   },
   {
    "duration": 9,
    "start_time": "2023-05-21T19:54:03.768Z"
   },
   {
    "duration": 40,
    "start_time": "2023-05-21T19:54:03.778Z"
   },
   {
    "duration": 40,
    "start_time": "2023-05-21T19:54:03.820Z"
   },
   {
    "duration": 4,
    "start_time": "2023-05-21T19:54:03.862Z"
   },
   {
    "duration": 15,
    "start_time": "2023-05-21T19:54:03.867Z"
   },
   {
    "duration": 11,
    "start_time": "2023-05-21T19:54:03.883Z"
   },
   {
    "duration": 13,
    "start_time": "2023-05-21T19:54:03.895Z"
   },
   {
    "duration": 40,
    "start_time": "2023-05-21T19:54:03.910Z"
   },
   {
    "duration": 8,
    "start_time": "2023-05-21T19:54:03.952Z"
   },
   {
    "duration": 11,
    "start_time": "2023-05-21T19:54:03.962Z"
   },
   {
    "duration": 14,
    "start_time": "2023-05-21T19:54:03.975Z"
   },
   {
    "duration": 368,
    "start_time": "2023-05-21T19:54:03.991Z"
   },
   {
    "duration": 7,
    "start_time": "2023-05-21T19:54:04.360Z"
   },
   {
    "duration": 291,
    "start_time": "2023-05-21T19:54:04.369Z"
   },
   {
    "duration": 197,
    "start_time": "2023-05-21T19:54:04.663Z"
   },
   {
    "duration": 278,
    "start_time": "2023-05-21T19:54:04.862Z"
   },
   {
    "duration": 226,
    "start_time": "2023-05-21T19:54:05.142Z"
   },
   {
    "duration": 11,
    "start_time": "2023-05-21T19:54:05.370Z"
   },
   {
    "duration": 289,
    "start_time": "2023-05-21T19:54:05.382Z"
   },
   {
    "duration": 8,
    "start_time": "2023-05-21T19:54:05.672Z"
   },
   {
    "duration": 153,
    "start_time": "2023-05-21T19:54:05.682Z"
   },
   {
    "duration": 19,
    "start_time": "2023-05-21T19:54:05.836Z"
   },
   {
    "duration": 6,
    "start_time": "2023-05-21T19:54:05.857Z"
   },
   {
    "duration": 141,
    "start_time": "2023-05-21T19:54:05.864Z"
   },
   {
    "duration": 137,
    "start_time": "2023-05-21T19:54:06.007Z"
   },
   {
    "duration": 5,
    "start_time": "2023-05-21T19:54:06.151Z"
   },
   {
    "duration": 437,
    "start_time": "2023-05-21T19:54:06.158Z"
   },
   {
    "duration": 138,
    "start_time": "2023-05-21T19:54:06.597Z"
   },
   {
    "duration": 31,
    "start_time": "2023-05-21T19:54:06.737Z"
   },
   {
    "duration": 9,
    "start_time": "2023-05-21T19:54:06.770Z"
   },
   {
    "duration": 15,
    "start_time": "2023-05-21T19:54:06.781Z"
   },
   {
    "duration": 15,
    "start_time": "2023-05-21T19:54:06.798Z"
   },
   {
    "duration": 43,
    "start_time": "2023-05-21T19:54:06.815Z"
   },
   {
    "duration": 9,
    "start_time": "2023-05-21T19:54:06.859Z"
   },
   {
    "duration": 19,
    "start_time": "2023-05-21T19:54:06.869Z"
   }
  ],
  "kernelspec": {
   "display_name": "Python 3 (ipykernel)",
   "language": "python",
   "name": "python3"
  },
  "language_info": {
   "codemirror_mode": {
    "name": "ipython",
    "version": 3
   },
   "file_extension": ".py",
   "mimetype": "text/x-python",
   "name": "python",
   "nbconvert_exporter": "python",
   "pygments_lexer": "ipython3",
   "version": "3.9.5"
  },
  "toc": {
   "base_numbering": 1,
   "nav_menu": {},
   "number_sections": true,
   "sideBar": true,
   "skip_h1_title": true,
   "title_cell": "Table of Contents",
   "title_sidebar": "Contents",
   "toc_cell": false,
   "toc_position": {},
   "toc_section_display": true,
   "toc_window_display": true
  }
 },
 "nbformat": 4,
 "nbformat_minor": 2
}
