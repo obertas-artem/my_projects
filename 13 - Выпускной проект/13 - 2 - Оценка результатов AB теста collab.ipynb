{
  "cells": [
    {
      "cell_type": "markdown",
      "metadata": {
        "id": "1ocpfyIx83pe"
      },
      "source": [
        "# Проект по А/B-тестированию"
      ]
    },
    {
      "cell_type": "markdown",
      "metadata": {
        "id": "mcAcpxuf83pg"
      },
      "source": [
        "## Постановка задачи\n",
        "Ваша задача — провести оценку результатов A/B-теста. В вашем распоряжении есть датасет с действиями пользователей, техническое задание и несколько вспомогательных датасетов.\n",
        "\n",
        "Оцените корректность проведения теста и проанализируйте его результаты. Чтобы оценить корректность проведения теста:\n",
        "* удостоверьтесь, что нет пересечений с конкурирующим тестом и нет пользователей, участвующих в двух группах теста одновременно;\n",
        "* проверьте равномерность распределения пользователей по тестовым группам и правильность их формирования.\n",
        "\n",
        "\n",
        "Подробнее об этом мы рассказываем в разделе «Как выполнить задание» в конце урока."
      ]
    },
    {
      "cell_type": "markdown",
      "metadata": {
        "id": "yIy3uioT83pg"
      },
      "source": [
        "## Техническое задание\n",
        "* Название теста: `recommender_system_test` ;\n",
        "* Группы: `А (контрольная)`, `B (новая платёжная воронка)`;\n",
        "* Дата запуска: `2020-12-07`;\n",
        "* Дата остановки набора новых пользователей: `2020-12-21`;\n",
        "* Дата остановки: `2021-01-04`;\n",
        "* Ожидаемое количество участников теста: `15% `новых пользователей из региона `EU`;\n",
        "* Назначение теста: тестирование изменений, связанных с внедрением улучшенной рекомендательной системы;\n",
        "* Ожидаемый эффект: за `14 дней` с момента регистрации в системе пользователи покажут улучшение каждой метрики не менее, чем на `5 процентных пунктов`:\n",
        "    * конверсии в просмотр карточек товаров — событие `product_page`\n",
        "    * просмотры корзины — `product_cart`\n",
        "    * покупки — `purchase`."
      ]
    },
    {
      "cell_type": "markdown",
      "metadata": {
        "id": "NOcoZfh583ph"
      },
      "source": [
        "## Описание данных\n",
        "\n",
        "`/datasets/ab_project_marketing_events.csv` — календарь маркетинговых событий на 2020 год; Структура файла:\n",
        "* `name` — название маркетингового события;\n",
        "* `regions` — регионы, в которых будет проводиться рекламная кампания;\n",
        "* `start_dt` — дата начала кампании;\n",
        "* `finish_dt` — дата завершения кампании.\n",
        "\n",
        "\n",
        "`/datasets/final_ab_new_users.csv` — все пользователи, зарегистрировавшиеся в интернет-магазине в период с 7 по 21 декабря 2020 года; Структура файла:\n",
        "- `user_id` — идентификатор пользователя;\n",
        "- `first_date` — дата регистрации;\n",
        "- `region` — регион пользователя;\n",
        "- `device` — устройство, с которого происходила регистрация.\n",
        "\n",
        "\n",
        "`/datasets/final_ab_events.csv` — все события новых пользователей в период с 7 декабря 2020 по 4 января 2021 года; Структура файла:\n",
        "- `user_id` — идентификатор пользователя;\n",
        "- `event_dt` — дата и время события;\n",
        "- `event_name` — тип события;\n",
        "- `details` — дополнительные данные о событии. Например, для покупок, purchase , в этом поле хранится стоимость покупки в долларах.\n",
        "\n",
        "`/datasets/final_ab_participants.csv` — таблица участников тестов. Структура файла:\n",
        "- `user_id` — идентификатор пользователя;\n",
        "- `ab_test` — название теста;\n",
        "- `group` — группа пользователя."
      ]
    },
    {
      "cell_type": "markdown",
      "metadata": {
        "id": "YFrnw5hY83ph"
      },
      "source": [
        "## Декомпозиция\n",
        "\n",
        "Цели исследования - провести оценку результатов A/B-теста. Чтобы оценить корректность проведения теста:\n",
        "\n",
        "- удостоверьтесь, что нет пересечений с конкурирующим тестом и нет пользователей, участвующих в двух группах теста одновременно;\n",
        "- проверьте равномерность распределения пользователей по тестовым группам и правильность их формирования.\n",
        "\n",
        "1) Загрузка и знакомство с данными\n",
        "\n",
        "2. Предобработка данных\n",
        "* 1) Преобразование типов данных\n",
        "* 2) Пропуски\n",
        "\n",
        "\n",
        "3) Оцените корректность проведения теста\n",
        "* 1) Проверка на соответствие данных требованиям технического задания.\n",
        "* 2) Проверка времени проведения теста. (Убедитесь, что оно не совпадает с маркетинговыми и другими активностями.)\n",
        "* 3) Проверка на аудиторию теста (Удостоверьтесь, что нет пересечений с конкурирующим тестом и нет пользователей, участвующих в двух группах теста одновременно. Проверьте равномерность распределения по тестовым группам и правильность их формирования.)\n",
        "\n",
        "4) Исследовательский анализ данных\n",
        "- 1) Количество событий на пользователя одинаково распределены в выборках?\n",
        "- 2) Как число событий в выборках распределено по дням?\n",
        "- 3) Как меняется конверсия в воронке в выборках на разных этапах?\n",
        "\n",
        "\n",
        "\n",
        "5) Оцените результаты A/B-тестирования\n",
        "- 1) Что можно сказать про результаты A/В-тестирования?\n",
        "- 2) Проверьте статистическую разницу долей z-критерием.\n",
        "\n",
        "\n",
        "6) Опишите выводы по этапу исследовательского анализа данных и по проведённой оценке результатов A/B-тестирования. Сделайте общее заключение о корректности проведения теста."
      ]
    },
    {
      "cell_type": "markdown",
      "metadata": {
        "id": "Hc0uzlKb83pi"
      },
      "source": [
        "## Импорт библиотек и настроек"
      ]
    },
    {
      "cell_type": "code",
      "execution_count": 1,
      "metadata": {
        "id": "IBjP7oNx83pi"
      },
      "outputs": [],
      "source": [
        "import warnings\n",
        "warnings.simplefilter('ignore')\n",
        "\n",
        "\n",
        "import pandas as pd\n",
        "import matplotlib.pyplot as plt\n",
        "import seaborn as sns\n",
        "import plotly.express as px\n",
        "import plotly.graph_objects as go\n",
        "from pylab import rcParams\n",
        "import math as mth\n",
        "import scipy.stats as st\n",
        "\n",
        "\n",
        "%config InlineBackend.figure_format = 'svg'\n",
        "sns.set_theme(style='whitegrid')\n",
        "\n",
        "\n",
        "pd.set_option(\"display.max_rows\", None)\n",
        "pd.set_option('display.max_colwidth', 0)\n",
        "pd.options.display.float_format = '{:.2f}'.format\n",
        "\n",
        "\n",
        "%matplotlib inline\n",
        "rcParams['figure.figsize'] =10, 5"
      ]
    },
    {
      "cell_type": "markdown",
      "metadata": {
        "id": "4TRsnhqI83pj"
      },
      "source": [
        "## Шаг 1. Загрузка и знакомство с данными"
      ]
    },
    {
      "cell_type": "code",
      "execution_count": 2,
      "metadata": {
        "id": "bHgVAN4x83pj"
      },
      "outputs": [],
      "source": [
        "df_marketing_events = pd.read_csv('https://code.s3.yandex.net/datasets/ab_project_marketing_events.csv')\n",
        "df_new_users = pd.read_csv('https://code.s3.yandex.net/datasets/final_ab_new_users.csv')\n",
        "df_events = pd.read_csv('https://code.s3.yandex.net/datasets/final_ab_events.csv')\n",
        "df_participants = pd.read_csv('https://code.s3.yandex.net/datasets/final_ab_participants.csv')"
      ]
    },
    {
      "cell_type": "code",
      "execution_count": 3,
      "metadata": {
        "id": "d8xkkj4a83pj"
      },
      "outputs": [],
      "source": [
        "#Напишем функцию, чтобы быстро познакомиться с данными:\n",
        "def df_first_glance(df):\n",
        "    print('Пять рандомных строк:')\n",
        "    display(df.sample(5))\n",
        "    print('\\n')\n",
        "    print('Информация по датафрейму:')\n",
        "    display(df.info())\n",
        "    display('Колличество очевидных дубликатов равно: {:}'.format(df.duplicated().sum()))\n",
        "    print('\\n')\n",
        "    display('Таблица с пропусками:')\n",
        "    display(\n",
        "    pd.concat(\n",
        "    [df.isna().sum().to_frame().rename(columns = {0:'Количество пропусков'}),\n",
        "    round((df.isna().mean().to_frame()*100).rename(columns = {0:'Процент пропусков'}), 2),\n",
        "    df.dtypes.to_frame().rename(columns = {0:'Тип данных'})], axis=1))"
      ]
    },
    {
      "cell_type": "code",
      "execution_count": 4,
      "metadata": {
        "id": "iDpB3oIm83pk",
        "outputId": "ca0639dc-5f98-4922-b7de-cf52a1d50c89",
        "colab": {
          "base_uri": "https://localhost:8080/",
          "height": 712
        }
      },
      "outputs": [
        {
          "output_type": "stream",
          "name": "stdout",
          "text": [
            "Пять рандомных строк:\n"
          ]
        },
        {
          "output_type": "display_data",
          "data": {
            "text/plain": [
              "                               name        regions    start_dt   finish_dt\n",
              "13  Chinese Moon Festival            APAC           2020-10-01  2020-10-07\n",
              "6   Chinese New Year Promo           APAC           2020-01-25  2020-02-07\n",
              "0   Christmas&New Year Promo         EU, N.America  2020-12-25  2021-01-03\n",
              "9   Victory Day CIS (May 9th) Event  CIS            2020-05-09  2020-05-11\n",
              "12  Single's Day Gift Promo          APAC           2020-11-11  2020-11-12"
            ],
            "text/html": [
              "\n",
              "  <div id=\"df-31466dde-4eb4-43e0-a3ca-8d9904218a10\" class=\"colab-df-container\">\n",
              "    <div>\n",
              "<style scoped>\n",
              "    .dataframe tbody tr th:only-of-type {\n",
              "        vertical-align: middle;\n",
              "    }\n",
              "\n",
              "    .dataframe tbody tr th {\n",
              "        vertical-align: top;\n",
              "    }\n",
              "\n",
              "    .dataframe thead th {\n",
              "        text-align: right;\n",
              "    }\n",
              "</style>\n",
              "<table border=\"1\" class=\"dataframe\">\n",
              "  <thead>\n",
              "    <tr style=\"text-align: right;\">\n",
              "      <th></th>\n",
              "      <th>name</th>\n",
              "      <th>regions</th>\n",
              "      <th>start_dt</th>\n",
              "      <th>finish_dt</th>\n",
              "    </tr>\n",
              "  </thead>\n",
              "  <tbody>\n",
              "    <tr>\n",
              "      <th>13</th>\n",
              "      <td>Chinese Moon Festival</td>\n",
              "      <td>APAC</td>\n",
              "      <td>2020-10-01</td>\n",
              "      <td>2020-10-07</td>\n",
              "    </tr>\n",
              "    <tr>\n",
              "      <th>6</th>\n",
              "      <td>Chinese New Year Promo</td>\n",
              "      <td>APAC</td>\n",
              "      <td>2020-01-25</td>\n",
              "      <td>2020-02-07</td>\n",
              "    </tr>\n",
              "    <tr>\n",
              "      <th>0</th>\n",
              "      <td>Christmas&amp;New Year Promo</td>\n",
              "      <td>EU, N.America</td>\n",
              "      <td>2020-12-25</td>\n",
              "      <td>2021-01-03</td>\n",
              "    </tr>\n",
              "    <tr>\n",
              "      <th>9</th>\n",
              "      <td>Victory Day CIS (May 9th) Event</td>\n",
              "      <td>CIS</td>\n",
              "      <td>2020-05-09</td>\n",
              "      <td>2020-05-11</td>\n",
              "    </tr>\n",
              "    <tr>\n",
              "      <th>12</th>\n",
              "      <td>Single's Day Gift Promo</td>\n",
              "      <td>APAC</td>\n",
              "      <td>2020-11-11</td>\n",
              "      <td>2020-11-12</td>\n",
              "    </tr>\n",
              "  </tbody>\n",
              "</table>\n",
              "</div>\n",
              "    <div class=\"colab-df-buttons\">\n",
              "\n",
              "  <div class=\"colab-df-container\">\n",
              "    <button class=\"colab-df-convert\" onclick=\"convertToInteractive('df-31466dde-4eb4-43e0-a3ca-8d9904218a10')\"\n",
              "            title=\"Convert this dataframe to an interactive table.\"\n",
              "            style=\"display:none;\">\n",
              "\n",
              "  <svg xmlns=\"http://www.w3.org/2000/svg\" height=\"24px\" viewBox=\"0 -960 960 960\">\n",
              "    <path d=\"M120-120v-720h720v720H120Zm60-500h600v-160H180v160Zm220 220h160v-160H400v160Zm0 220h160v-160H400v160ZM180-400h160v-160H180v160Zm440 0h160v-160H620v160ZM180-180h160v-160H180v160Zm440 0h160v-160H620v160Z\"/>\n",
              "  </svg>\n",
              "    </button>\n",
              "\n",
              "  <style>\n",
              "    .colab-df-container {\n",
              "      display:flex;\n",
              "      gap: 12px;\n",
              "    }\n",
              "\n",
              "    .colab-df-convert {\n",
              "      background-color: #E8F0FE;\n",
              "      border: none;\n",
              "      border-radius: 50%;\n",
              "      cursor: pointer;\n",
              "      display: none;\n",
              "      fill: #1967D2;\n",
              "      height: 32px;\n",
              "      padding: 0 0 0 0;\n",
              "      width: 32px;\n",
              "    }\n",
              "\n",
              "    .colab-df-convert:hover {\n",
              "      background-color: #E2EBFA;\n",
              "      box-shadow: 0px 1px 2px rgba(60, 64, 67, 0.3), 0px 1px 3px 1px rgba(60, 64, 67, 0.15);\n",
              "      fill: #174EA6;\n",
              "    }\n",
              "\n",
              "    .colab-df-buttons div {\n",
              "      margin-bottom: 4px;\n",
              "    }\n",
              "\n",
              "    [theme=dark] .colab-df-convert {\n",
              "      background-color: #3B4455;\n",
              "      fill: #D2E3FC;\n",
              "    }\n",
              "\n",
              "    [theme=dark] .colab-df-convert:hover {\n",
              "      background-color: #434B5C;\n",
              "      box-shadow: 0px 1px 3px 1px rgba(0, 0, 0, 0.15);\n",
              "      filter: drop-shadow(0px 1px 2px rgba(0, 0, 0, 0.3));\n",
              "      fill: #FFFFFF;\n",
              "    }\n",
              "  </style>\n",
              "\n",
              "    <script>\n",
              "      const buttonEl =\n",
              "        document.querySelector('#df-31466dde-4eb4-43e0-a3ca-8d9904218a10 button.colab-df-convert');\n",
              "      buttonEl.style.display =\n",
              "        google.colab.kernel.accessAllowed ? 'block' : 'none';\n",
              "\n",
              "      async function convertToInteractive(key) {\n",
              "        const element = document.querySelector('#df-31466dde-4eb4-43e0-a3ca-8d9904218a10');\n",
              "        const dataTable =\n",
              "          await google.colab.kernel.invokeFunction('convertToInteractive',\n",
              "                                                    [key], {});\n",
              "        if (!dataTable) return;\n",
              "\n",
              "        const docLinkHtml = 'Like what you see? Visit the ' +\n",
              "          '<a target=\"_blank\" href=https://colab.research.google.com/notebooks/data_table.ipynb>data table notebook</a>'\n",
              "          + ' to learn more about interactive tables.';\n",
              "        element.innerHTML = '';\n",
              "        dataTable['output_type'] = 'display_data';\n",
              "        await google.colab.output.renderOutput(dataTable, element);\n",
              "        const docLink = document.createElement('div');\n",
              "        docLink.innerHTML = docLinkHtml;\n",
              "        element.appendChild(docLink);\n",
              "      }\n",
              "    </script>\n",
              "  </div>\n",
              "\n",
              "\n",
              "<div id=\"df-39181e21-6983-40f0-86cf-624ef2242a16\">\n",
              "  <button class=\"colab-df-quickchart\" onclick=\"quickchart('df-39181e21-6983-40f0-86cf-624ef2242a16')\"\n",
              "            title=\"Suggest charts\"\n",
              "            style=\"display:none;\">\n",
              "\n",
              "<svg xmlns=\"http://www.w3.org/2000/svg\" height=\"24px\"viewBox=\"0 0 24 24\"\n",
              "     width=\"24px\">\n",
              "    <g>\n",
              "        <path d=\"M19 3H5c-1.1 0-2 .9-2 2v14c0 1.1.9 2 2 2h14c1.1 0 2-.9 2-2V5c0-1.1-.9-2-2-2zM9 17H7v-7h2v7zm4 0h-2V7h2v10zm4 0h-2v-4h2v4z\"/>\n",
              "    </g>\n",
              "</svg>\n",
              "  </button>\n",
              "\n",
              "<style>\n",
              "  .colab-df-quickchart {\n",
              "      --bg-color: #E8F0FE;\n",
              "      --fill-color: #1967D2;\n",
              "      --hover-bg-color: #E2EBFA;\n",
              "      --hover-fill-color: #174EA6;\n",
              "      --disabled-fill-color: #AAA;\n",
              "      --disabled-bg-color: #DDD;\n",
              "  }\n",
              "\n",
              "  [theme=dark] .colab-df-quickchart {\n",
              "      --bg-color: #3B4455;\n",
              "      --fill-color: #D2E3FC;\n",
              "      --hover-bg-color: #434B5C;\n",
              "      --hover-fill-color: #FFFFFF;\n",
              "      --disabled-bg-color: #3B4455;\n",
              "      --disabled-fill-color: #666;\n",
              "  }\n",
              "\n",
              "  .colab-df-quickchart {\n",
              "    background-color: var(--bg-color);\n",
              "    border: none;\n",
              "    border-radius: 50%;\n",
              "    cursor: pointer;\n",
              "    display: none;\n",
              "    fill: var(--fill-color);\n",
              "    height: 32px;\n",
              "    padding: 0;\n",
              "    width: 32px;\n",
              "  }\n",
              "\n",
              "  .colab-df-quickchart:hover {\n",
              "    background-color: var(--hover-bg-color);\n",
              "    box-shadow: 0 1px 2px rgba(60, 64, 67, 0.3), 0 1px 3px 1px rgba(60, 64, 67, 0.15);\n",
              "    fill: var(--button-hover-fill-color);\n",
              "  }\n",
              "\n",
              "  .colab-df-quickchart-complete:disabled,\n",
              "  .colab-df-quickchart-complete:disabled:hover {\n",
              "    background-color: var(--disabled-bg-color);\n",
              "    fill: var(--disabled-fill-color);\n",
              "    box-shadow: none;\n",
              "  }\n",
              "\n",
              "  .colab-df-spinner {\n",
              "    border: 2px solid var(--fill-color);\n",
              "    border-color: transparent;\n",
              "    border-bottom-color: var(--fill-color);\n",
              "    animation:\n",
              "      spin 1s steps(1) infinite;\n",
              "  }\n",
              "\n",
              "  @keyframes spin {\n",
              "    0% {\n",
              "      border-color: transparent;\n",
              "      border-bottom-color: var(--fill-color);\n",
              "      border-left-color: var(--fill-color);\n",
              "    }\n",
              "    20% {\n",
              "      border-color: transparent;\n",
              "      border-left-color: var(--fill-color);\n",
              "      border-top-color: var(--fill-color);\n",
              "    }\n",
              "    30% {\n",
              "      border-color: transparent;\n",
              "      border-left-color: var(--fill-color);\n",
              "      border-top-color: var(--fill-color);\n",
              "      border-right-color: var(--fill-color);\n",
              "    }\n",
              "    40% {\n",
              "      border-color: transparent;\n",
              "      border-right-color: var(--fill-color);\n",
              "      border-top-color: var(--fill-color);\n",
              "    }\n",
              "    60% {\n",
              "      border-color: transparent;\n",
              "      border-right-color: var(--fill-color);\n",
              "    }\n",
              "    80% {\n",
              "      border-color: transparent;\n",
              "      border-right-color: var(--fill-color);\n",
              "      border-bottom-color: var(--fill-color);\n",
              "    }\n",
              "    90% {\n",
              "      border-color: transparent;\n",
              "      border-bottom-color: var(--fill-color);\n",
              "    }\n",
              "  }\n",
              "</style>\n",
              "\n",
              "  <script>\n",
              "    async function quickchart(key) {\n",
              "      const quickchartButtonEl =\n",
              "        document.querySelector('#' + key + ' button');\n",
              "      quickchartButtonEl.disabled = true;  // To prevent multiple clicks.\n",
              "      quickchartButtonEl.classList.add('colab-df-spinner');\n",
              "      try {\n",
              "        const charts = await google.colab.kernel.invokeFunction(\n",
              "            'suggestCharts', [key], {});\n",
              "      } catch (error) {\n",
              "        console.error('Error during call to suggestCharts:', error);\n",
              "      }\n",
              "      quickchartButtonEl.classList.remove('colab-df-spinner');\n",
              "      quickchartButtonEl.classList.add('colab-df-quickchart-complete');\n",
              "    }\n",
              "    (() => {\n",
              "      let quickchartButtonEl =\n",
              "        document.querySelector('#df-39181e21-6983-40f0-86cf-624ef2242a16 button');\n",
              "      quickchartButtonEl.style.display =\n",
              "        google.colab.kernel.accessAllowed ? 'block' : 'none';\n",
              "    })();\n",
              "  </script>\n",
              "</div>\n",
              "    </div>\n",
              "  </div>\n"
            ],
            "application/vnd.google.colaboratory.intrinsic+json": {
              "type": "dataframe",
              "summary": "{\n  \"name\": \"df_first_glance(df_marketing_events)\",\n  \"rows\": 5,\n  \"fields\": [\n    {\n      \"column\": \"name\",\n      \"properties\": {\n        \"dtype\": \"string\",\n        \"num_unique_values\": 5,\n        \"samples\": [\n          \"Chinese New Year Promo\",\n          \"Single's Day Gift Promo\",\n          \"Christmas&New Year Promo\"\n        ],\n        \"semantic_type\": \"\",\n        \"description\": \"\"\n      }\n    },\n    {\n      \"column\": \"regions\",\n      \"properties\": {\n        \"dtype\": \"string\",\n        \"num_unique_values\": 3,\n        \"samples\": [\n          \"APAC\",\n          \"EU, N.America\",\n          \"CIS\"\n        ],\n        \"semantic_type\": \"\",\n        \"description\": \"\"\n      }\n    },\n    {\n      \"column\": \"start_dt\",\n      \"properties\": {\n        \"dtype\": \"object\",\n        \"num_unique_values\": 5,\n        \"samples\": [\n          \"2020-01-25\",\n          \"2020-11-11\",\n          \"2020-12-25\"\n        ],\n        \"semantic_type\": \"\",\n        \"description\": \"\"\n      }\n    },\n    {\n      \"column\": \"finish_dt\",\n      \"properties\": {\n        \"dtype\": \"object\",\n        \"num_unique_values\": 5,\n        \"samples\": [\n          \"2020-02-07\",\n          \"2020-11-12\",\n          \"2021-01-03\"\n        ],\n        \"semantic_type\": \"\",\n        \"description\": \"\"\n      }\n    }\n  ]\n}"
            }
          },
          "metadata": {}
        },
        {
          "output_type": "stream",
          "name": "stdout",
          "text": [
            "\n",
            "\n",
            "Информация по датафрейму:\n",
            "<class 'pandas.core.frame.DataFrame'>\n",
            "RangeIndex: 14 entries, 0 to 13\n",
            "Data columns (total 4 columns):\n",
            " #   Column     Non-Null Count  Dtype \n",
            "---  ------     --------------  ----- \n",
            " 0   name       14 non-null     object\n",
            " 1   regions    14 non-null     object\n",
            " 2   start_dt   14 non-null     object\n",
            " 3   finish_dt  14 non-null     object\n",
            "dtypes: object(4)\n",
            "memory usage: 576.0+ bytes\n"
          ]
        },
        {
          "output_type": "display_data",
          "data": {
            "text/plain": [
              "None"
            ]
          },
          "metadata": {}
        },
        {
          "output_type": "display_data",
          "data": {
            "text/plain": [
              "'Колличество очевидных дубликатов равно: 0'"
            ],
            "application/vnd.google.colaboratory.intrinsic+json": {
              "type": "string"
            }
          },
          "metadata": {}
        },
        {
          "output_type": "stream",
          "name": "stdout",
          "text": [
            "\n",
            "\n"
          ]
        },
        {
          "output_type": "display_data",
          "data": {
            "text/plain": [
              "'Таблица с пропусками:'"
            ],
            "application/vnd.google.colaboratory.intrinsic+json": {
              "type": "string"
            }
          },
          "metadata": {}
        },
        {
          "output_type": "display_data",
          "data": {
            "text/plain": [
              "           Количество пропусков  Процент пропусков Тип данных\n",
              "name       0                    0.00                object   \n",
              "regions    0                    0.00                object   \n",
              "start_dt   0                    0.00                object   \n",
              "finish_dt  0                    0.00                object   "
            ],
            "text/html": [
              "\n",
              "  <div id=\"df-fd55a712-c8ad-4d4c-aad3-f656df7bfa83\" class=\"colab-df-container\">\n",
              "    <div>\n",
              "<style scoped>\n",
              "    .dataframe tbody tr th:only-of-type {\n",
              "        vertical-align: middle;\n",
              "    }\n",
              "\n",
              "    .dataframe tbody tr th {\n",
              "        vertical-align: top;\n",
              "    }\n",
              "\n",
              "    .dataframe thead th {\n",
              "        text-align: right;\n",
              "    }\n",
              "</style>\n",
              "<table border=\"1\" class=\"dataframe\">\n",
              "  <thead>\n",
              "    <tr style=\"text-align: right;\">\n",
              "      <th></th>\n",
              "      <th>Количество пропусков</th>\n",
              "      <th>Процент пропусков</th>\n",
              "      <th>Тип данных</th>\n",
              "    </tr>\n",
              "  </thead>\n",
              "  <tbody>\n",
              "    <tr>\n",
              "      <th>name</th>\n",
              "      <td>0</td>\n",
              "      <td>0.00</td>\n",
              "      <td>object</td>\n",
              "    </tr>\n",
              "    <tr>\n",
              "      <th>regions</th>\n",
              "      <td>0</td>\n",
              "      <td>0.00</td>\n",
              "      <td>object</td>\n",
              "    </tr>\n",
              "    <tr>\n",
              "      <th>start_dt</th>\n",
              "      <td>0</td>\n",
              "      <td>0.00</td>\n",
              "      <td>object</td>\n",
              "    </tr>\n",
              "    <tr>\n",
              "      <th>finish_dt</th>\n",
              "      <td>0</td>\n",
              "      <td>0.00</td>\n",
              "      <td>object</td>\n",
              "    </tr>\n",
              "  </tbody>\n",
              "</table>\n",
              "</div>\n",
              "    <div class=\"colab-df-buttons\">\n",
              "\n",
              "  <div class=\"colab-df-container\">\n",
              "    <button class=\"colab-df-convert\" onclick=\"convertToInteractive('df-fd55a712-c8ad-4d4c-aad3-f656df7bfa83')\"\n",
              "            title=\"Convert this dataframe to an interactive table.\"\n",
              "            style=\"display:none;\">\n",
              "\n",
              "  <svg xmlns=\"http://www.w3.org/2000/svg\" height=\"24px\" viewBox=\"0 -960 960 960\">\n",
              "    <path d=\"M120-120v-720h720v720H120Zm60-500h600v-160H180v160Zm220 220h160v-160H400v160Zm0 220h160v-160H400v160ZM180-400h160v-160H180v160Zm440 0h160v-160H620v160ZM180-180h160v-160H180v160Zm440 0h160v-160H620v160Z\"/>\n",
              "  </svg>\n",
              "    </button>\n",
              "\n",
              "  <style>\n",
              "    .colab-df-container {\n",
              "      display:flex;\n",
              "      gap: 12px;\n",
              "    }\n",
              "\n",
              "    .colab-df-convert {\n",
              "      background-color: #E8F0FE;\n",
              "      border: none;\n",
              "      border-radius: 50%;\n",
              "      cursor: pointer;\n",
              "      display: none;\n",
              "      fill: #1967D2;\n",
              "      height: 32px;\n",
              "      padding: 0 0 0 0;\n",
              "      width: 32px;\n",
              "    }\n",
              "\n",
              "    .colab-df-convert:hover {\n",
              "      background-color: #E2EBFA;\n",
              "      box-shadow: 0px 1px 2px rgba(60, 64, 67, 0.3), 0px 1px 3px 1px rgba(60, 64, 67, 0.15);\n",
              "      fill: #174EA6;\n",
              "    }\n",
              "\n",
              "    .colab-df-buttons div {\n",
              "      margin-bottom: 4px;\n",
              "    }\n",
              "\n",
              "    [theme=dark] .colab-df-convert {\n",
              "      background-color: #3B4455;\n",
              "      fill: #D2E3FC;\n",
              "    }\n",
              "\n",
              "    [theme=dark] .colab-df-convert:hover {\n",
              "      background-color: #434B5C;\n",
              "      box-shadow: 0px 1px 3px 1px rgba(0, 0, 0, 0.15);\n",
              "      filter: drop-shadow(0px 1px 2px rgba(0, 0, 0, 0.3));\n",
              "      fill: #FFFFFF;\n",
              "    }\n",
              "  </style>\n",
              "\n",
              "    <script>\n",
              "      const buttonEl =\n",
              "        document.querySelector('#df-fd55a712-c8ad-4d4c-aad3-f656df7bfa83 button.colab-df-convert');\n",
              "      buttonEl.style.display =\n",
              "        google.colab.kernel.accessAllowed ? 'block' : 'none';\n",
              "\n",
              "      async function convertToInteractive(key) {\n",
              "        const element = document.querySelector('#df-fd55a712-c8ad-4d4c-aad3-f656df7bfa83');\n",
              "        const dataTable =\n",
              "          await google.colab.kernel.invokeFunction('convertToInteractive',\n",
              "                                                    [key], {});\n",
              "        if (!dataTable) return;\n",
              "\n",
              "        const docLinkHtml = 'Like what you see? Visit the ' +\n",
              "          '<a target=\"_blank\" href=https://colab.research.google.com/notebooks/data_table.ipynb>data table notebook</a>'\n",
              "          + ' to learn more about interactive tables.';\n",
              "        element.innerHTML = '';\n",
              "        dataTable['output_type'] = 'display_data';\n",
              "        await google.colab.output.renderOutput(dataTable, element);\n",
              "        const docLink = document.createElement('div');\n",
              "        docLink.innerHTML = docLinkHtml;\n",
              "        element.appendChild(docLink);\n",
              "      }\n",
              "    </script>\n",
              "  </div>\n",
              "\n",
              "\n",
              "<div id=\"df-f5ac1fd4-d66c-486c-b377-be63dff9d2de\">\n",
              "  <button class=\"colab-df-quickchart\" onclick=\"quickchart('df-f5ac1fd4-d66c-486c-b377-be63dff9d2de')\"\n",
              "            title=\"Suggest charts\"\n",
              "            style=\"display:none;\">\n",
              "\n",
              "<svg xmlns=\"http://www.w3.org/2000/svg\" height=\"24px\"viewBox=\"0 0 24 24\"\n",
              "     width=\"24px\">\n",
              "    <g>\n",
              "        <path d=\"M19 3H5c-1.1 0-2 .9-2 2v14c0 1.1.9 2 2 2h14c1.1 0 2-.9 2-2V5c0-1.1-.9-2-2-2zM9 17H7v-7h2v7zm4 0h-2V7h2v10zm4 0h-2v-4h2v4z\"/>\n",
              "    </g>\n",
              "</svg>\n",
              "  </button>\n",
              "\n",
              "<style>\n",
              "  .colab-df-quickchart {\n",
              "      --bg-color: #E8F0FE;\n",
              "      --fill-color: #1967D2;\n",
              "      --hover-bg-color: #E2EBFA;\n",
              "      --hover-fill-color: #174EA6;\n",
              "      --disabled-fill-color: #AAA;\n",
              "      --disabled-bg-color: #DDD;\n",
              "  }\n",
              "\n",
              "  [theme=dark] .colab-df-quickchart {\n",
              "      --bg-color: #3B4455;\n",
              "      --fill-color: #D2E3FC;\n",
              "      --hover-bg-color: #434B5C;\n",
              "      --hover-fill-color: #FFFFFF;\n",
              "      --disabled-bg-color: #3B4455;\n",
              "      --disabled-fill-color: #666;\n",
              "  }\n",
              "\n",
              "  .colab-df-quickchart {\n",
              "    background-color: var(--bg-color);\n",
              "    border: none;\n",
              "    border-radius: 50%;\n",
              "    cursor: pointer;\n",
              "    display: none;\n",
              "    fill: var(--fill-color);\n",
              "    height: 32px;\n",
              "    padding: 0;\n",
              "    width: 32px;\n",
              "  }\n",
              "\n",
              "  .colab-df-quickchart:hover {\n",
              "    background-color: var(--hover-bg-color);\n",
              "    box-shadow: 0 1px 2px rgba(60, 64, 67, 0.3), 0 1px 3px 1px rgba(60, 64, 67, 0.15);\n",
              "    fill: var(--button-hover-fill-color);\n",
              "  }\n",
              "\n",
              "  .colab-df-quickchart-complete:disabled,\n",
              "  .colab-df-quickchart-complete:disabled:hover {\n",
              "    background-color: var(--disabled-bg-color);\n",
              "    fill: var(--disabled-fill-color);\n",
              "    box-shadow: none;\n",
              "  }\n",
              "\n",
              "  .colab-df-spinner {\n",
              "    border: 2px solid var(--fill-color);\n",
              "    border-color: transparent;\n",
              "    border-bottom-color: var(--fill-color);\n",
              "    animation:\n",
              "      spin 1s steps(1) infinite;\n",
              "  }\n",
              "\n",
              "  @keyframes spin {\n",
              "    0% {\n",
              "      border-color: transparent;\n",
              "      border-bottom-color: var(--fill-color);\n",
              "      border-left-color: var(--fill-color);\n",
              "    }\n",
              "    20% {\n",
              "      border-color: transparent;\n",
              "      border-left-color: var(--fill-color);\n",
              "      border-top-color: var(--fill-color);\n",
              "    }\n",
              "    30% {\n",
              "      border-color: transparent;\n",
              "      border-left-color: var(--fill-color);\n",
              "      border-top-color: var(--fill-color);\n",
              "      border-right-color: var(--fill-color);\n",
              "    }\n",
              "    40% {\n",
              "      border-color: transparent;\n",
              "      border-right-color: var(--fill-color);\n",
              "      border-top-color: var(--fill-color);\n",
              "    }\n",
              "    60% {\n",
              "      border-color: transparent;\n",
              "      border-right-color: var(--fill-color);\n",
              "    }\n",
              "    80% {\n",
              "      border-color: transparent;\n",
              "      border-right-color: var(--fill-color);\n",
              "      border-bottom-color: var(--fill-color);\n",
              "    }\n",
              "    90% {\n",
              "      border-color: transparent;\n",
              "      border-bottom-color: var(--fill-color);\n",
              "    }\n",
              "  }\n",
              "</style>\n",
              "\n",
              "  <script>\n",
              "    async function quickchart(key) {\n",
              "      const quickchartButtonEl =\n",
              "        document.querySelector('#' + key + ' button');\n",
              "      quickchartButtonEl.disabled = true;  // To prevent multiple clicks.\n",
              "      quickchartButtonEl.classList.add('colab-df-spinner');\n",
              "      try {\n",
              "        const charts = await google.colab.kernel.invokeFunction(\n",
              "            'suggestCharts', [key], {});\n",
              "      } catch (error) {\n",
              "        console.error('Error during call to suggestCharts:', error);\n",
              "      }\n",
              "      quickchartButtonEl.classList.remove('colab-df-spinner');\n",
              "      quickchartButtonEl.classList.add('colab-df-quickchart-complete');\n",
              "    }\n",
              "    (() => {\n",
              "      let quickchartButtonEl =\n",
              "        document.querySelector('#df-f5ac1fd4-d66c-486c-b377-be63dff9d2de button');\n",
              "      quickchartButtonEl.style.display =\n",
              "        google.colab.kernel.accessAllowed ? 'block' : 'none';\n",
              "    })();\n",
              "  </script>\n",
              "</div>\n",
              "    </div>\n",
              "  </div>\n"
            ],
            "application/vnd.google.colaboratory.intrinsic+json": {
              "type": "dataframe",
              "summary": "{\n  \"name\": \"df_first_glance(df_marketing_events)\",\n  \"rows\": 4,\n  \"fields\": [\n    {\n      \"column\": \"\\u041a\\u043e\\u043b\\u0438\\u0447\\u0435\\u0441\\u0442\\u0432\\u043e \\u043f\\u0440\\u043e\\u043f\\u0443\\u0441\\u043a\\u043e\\u0432\",\n      \"properties\": {\n        \"dtype\": \"number\",\n        \"std\": 0,\n        \"min\": 0,\n        \"max\": 0,\n        \"num_unique_values\": 1,\n        \"samples\": [\n          0\n        ],\n        \"semantic_type\": \"\",\n        \"description\": \"\"\n      }\n    },\n    {\n      \"column\": \"\\u041f\\u0440\\u043e\\u0446\\u0435\\u043d\\u0442 \\u043f\\u0440\\u043e\\u043f\\u0443\\u0441\\u043a\\u043e\\u0432\",\n      \"properties\": {\n        \"dtype\": \"number\",\n        \"std\": 0.0,\n        \"min\": 0.0,\n        \"max\": 0.0,\n        \"num_unique_values\": 1,\n        \"samples\": [\n          0.0\n        ],\n        \"semantic_type\": \"\",\n        \"description\": \"\"\n      }\n    },\n    {\n      \"column\": \"\\u0422\\u0438\\u043f \\u0434\\u0430\\u043d\\u043d\\u044b\\u0445\",\n      \"properties\": {\n        \"dtype\": \"category\",\n        \"num_unique_values\": 1,\n        \"samples\": [\n          \"object\"\n        ],\n        \"semantic_type\": \"\",\n        \"description\": \"\"\n      }\n    }\n  ]\n}"
            }
          },
          "metadata": {}
        }
      ],
      "source": [
        "#первый датафрейм\n",
        "df_first_glance(df_marketing_events)"
      ]
    },
    {
      "cell_type": "code",
      "execution_count": 5,
      "metadata": {
        "id": "ueQY0Iqe83pk",
        "outputId": "4c86972c-e750-4d81-87e5-63b99e347ed0",
        "colab": {
          "base_uri": "https://localhost:8080/",
          "height": 712
        }
      },
      "outputs": [
        {
          "output_type": "stream",
          "name": "stdout",
          "text": [
            "Пять рандомных строк:\n"
          ]
        },
        {
          "output_type": "display_data",
          "data": {
            "text/plain": [
              "                user_id  first_date region   device\n",
              "21026  C8AB3127DBB15583  2020-12-15  EU     iPhone \n",
              "59699  4C30B83191F4E868  2020-12-20  EU     Android\n",
              "18018  68D32376816B143E  2020-12-08  EU     Android\n",
              "21018  E5B569BC80B8B5B9  2020-12-15  EU     Mac    \n",
              "52602  CD2F411B14D3111F  2020-12-19  EU     PC     "
            ],
            "text/html": [
              "\n",
              "  <div id=\"df-3cdb4ae9-82c0-4912-af78-54fa799b1630\" class=\"colab-df-container\">\n",
              "    <div>\n",
              "<style scoped>\n",
              "    .dataframe tbody tr th:only-of-type {\n",
              "        vertical-align: middle;\n",
              "    }\n",
              "\n",
              "    .dataframe tbody tr th {\n",
              "        vertical-align: top;\n",
              "    }\n",
              "\n",
              "    .dataframe thead th {\n",
              "        text-align: right;\n",
              "    }\n",
              "</style>\n",
              "<table border=\"1\" class=\"dataframe\">\n",
              "  <thead>\n",
              "    <tr style=\"text-align: right;\">\n",
              "      <th></th>\n",
              "      <th>user_id</th>\n",
              "      <th>first_date</th>\n",
              "      <th>region</th>\n",
              "      <th>device</th>\n",
              "    </tr>\n",
              "  </thead>\n",
              "  <tbody>\n",
              "    <tr>\n",
              "      <th>21026</th>\n",
              "      <td>C8AB3127DBB15583</td>\n",
              "      <td>2020-12-15</td>\n",
              "      <td>EU</td>\n",
              "      <td>iPhone</td>\n",
              "    </tr>\n",
              "    <tr>\n",
              "      <th>59699</th>\n",
              "      <td>4C30B83191F4E868</td>\n",
              "      <td>2020-12-20</td>\n",
              "      <td>EU</td>\n",
              "      <td>Android</td>\n",
              "    </tr>\n",
              "    <tr>\n",
              "      <th>18018</th>\n",
              "      <td>68D32376816B143E</td>\n",
              "      <td>2020-12-08</td>\n",
              "      <td>EU</td>\n",
              "      <td>Android</td>\n",
              "    </tr>\n",
              "    <tr>\n",
              "      <th>21018</th>\n",
              "      <td>E5B569BC80B8B5B9</td>\n",
              "      <td>2020-12-15</td>\n",
              "      <td>EU</td>\n",
              "      <td>Mac</td>\n",
              "    </tr>\n",
              "    <tr>\n",
              "      <th>52602</th>\n",
              "      <td>CD2F411B14D3111F</td>\n",
              "      <td>2020-12-19</td>\n",
              "      <td>EU</td>\n",
              "      <td>PC</td>\n",
              "    </tr>\n",
              "  </tbody>\n",
              "</table>\n",
              "</div>\n",
              "    <div class=\"colab-df-buttons\">\n",
              "\n",
              "  <div class=\"colab-df-container\">\n",
              "    <button class=\"colab-df-convert\" onclick=\"convertToInteractive('df-3cdb4ae9-82c0-4912-af78-54fa799b1630')\"\n",
              "            title=\"Convert this dataframe to an interactive table.\"\n",
              "            style=\"display:none;\">\n",
              "\n",
              "  <svg xmlns=\"http://www.w3.org/2000/svg\" height=\"24px\" viewBox=\"0 -960 960 960\">\n",
              "    <path d=\"M120-120v-720h720v720H120Zm60-500h600v-160H180v160Zm220 220h160v-160H400v160Zm0 220h160v-160H400v160ZM180-400h160v-160H180v160Zm440 0h160v-160H620v160ZM180-180h160v-160H180v160Zm440 0h160v-160H620v160Z\"/>\n",
              "  </svg>\n",
              "    </button>\n",
              "\n",
              "  <style>\n",
              "    .colab-df-container {\n",
              "      display:flex;\n",
              "      gap: 12px;\n",
              "    }\n",
              "\n",
              "    .colab-df-convert {\n",
              "      background-color: #E8F0FE;\n",
              "      border: none;\n",
              "      border-radius: 50%;\n",
              "      cursor: pointer;\n",
              "      display: none;\n",
              "      fill: #1967D2;\n",
              "      height: 32px;\n",
              "      padding: 0 0 0 0;\n",
              "      width: 32px;\n",
              "    }\n",
              "\n",
              "    .colab-df-convert:hover {\n",
              "      background-color: #E2EBFA;\n",
              "      box-shadow: 0px 1px 2px rgba(60, 64, 67, 0.3), 0px 1px 3px 1px rgba(60, 64, 67, 0.15);\n",
              "      fill: #174EA6;\n",
              "    }\n",
              "\n",
              "    .colab-df-buttons div {\n",
              "      margin-bottom: 4px;\n",
              "    }\n",
              "\n",
              "    [theme=dark] .colab-df-convert {\n",
              "      background-color: #3B4455;\n",
              "      fill: #D2E3FC;\n",
              "    }\n",
              "\n",
              "    [theme=dark] .colab-df-convert:hover {\n",
              "      background-color: #434B5C;\n",
              "      box-shadow: 0px 1px 3px 1px rgba(0, 0, 0, 0.15);\n",
              "      filter: drop-shadow(0px 1px 2px rgba(0, 0, 0, 0.3));\n",
              "      fill: #FFFFFF;\n",
              "    }\n",
              "  </style>\n",
              "\n",
              "    <script>\n",
              "      const buttonEl =\n",
              "        document.querySelector('#df-3cdb4ae9-82c0-4912-af78-54fa799b1630 button.colab-df-convert');\n",
              "      buttonEl.style.display =\n",
              "        google.colab.kernel.accessAllowed ? 'block' : 'none';\n",
              "\n",
              "      async function convertToInteractive(key) {\n",
              "        const element = document.querySelector('#df-3cdb4ae9-82c0-4912-af78-54fa799b1630');\n",
              "        const dataTable =\n",
              "          await google.colab.kernel.invokeFunction('convertToInteractive',\n",
              "                                                    [key], {});\n",
              "        if (!dataTable) return;\n",
              "\n",
              "        const docLinkHtml = 'Like what you see? Visit the ' +\n",
              "          '<a target=\"_blank\" href=https://colab.research.google.com/notebooks/data_table.ipynb>data table notebook</a>'\n",
              "          + ' to learn more about interactive tables.';\n",
              "        element.innerHTML = '';\n",
              "        dataTable['output_type'] = 'display_data';\n",
              "        await google.colab.output.renderOutput(dataTable, element);\n",
              "        const docLink = document.createElement('div');\n",
              "        docLink.innerHTML = docLinkHtml;\n",
              "        element.appendChild(docLink);\n",
              "      }\n",
              "    </script>\n",
              "  </div>\n",
              "\n",
              "\n",
              "<div id=\"df-bcbb5217-5b1c-4604-ab9f-cc9d0f015f44\">\n",
              "  <button class=\"colab-df-quickchart\" onclick=\"quickchart('df-bcbb5217-5b1c-4604-ab9f-cc9d0f015f44')\"\n",
              "            title=\"Suggest charts\"\n",
              "            style=\"display:none;\">\n",
              "\n",
              "<svg xmlns=\"http://www.w3.org/2000/svg\" height=\"24px\"viewBox=\"0 0 24 24\"\n",
              "     width=\"24px\">\n",
              "    <g>\n",
              "        <path d=\"M19 3H5c-1.1 0-2 .9-2 2v14c0 1.1.9 2 2 2h14c1.1 0 2-.9 2-2V5c0-1.1-.9-2-2-2zM9 17H7v-7h2v7zm4 0h-2V7h2v10zm4 0h-2v-4h2v4z\"/>\n",
              "    </g>\n",
              "</svg>\n",
              "  </button>\n",
              "\n",
              "<style>\n",
              "  .colab-df-quickchart {\n",
              "      --bg-color: #E8F0FE;\n",
              "      --fill-color: #1967D2;\n",
              "      --hover-bg-color: #E2EBFA;\n",
              "      --hover-fill-color: #174EA6;\n",
              "      --disabled-fill-color: #AAA;\n",
              "      --disabled-bg-color: #DDD;\n",
              "  }\n",
              "\n",
              "  [theme=dark] .colab-df-quickchart {\n",
              "      --bg-color: #3B4455;\n",
              "      --fill-color: #D2E3FC;\n",
              "      --hover-bg-color: #434B5C;\n",
              "      --hover-fill-color: #FFFFFF;\n",
              "      --disabled-bg-color: #3B4455;\n",
              "      --disabled-fill-color: #666;\n",
              "  }\n",
              "\n",
              "  .colab-df-quickchart {\n",
              "    background-color: var(--bg-color);\n",
              "    border: none;\n",
              "    border-radius: 50%;\n",
              "    cursor: pointer;\n",
              "    display: none;\n",
              "    fill: var(--fill-color);\n",
              "    height: 32px;\n",
              "    padding: 0;\n",
              "    width: 32px;\n",
              "  }\n",
              "\n",
              "  .colab-df-quickchart:hover {\n",
              "    background-color: var(--hover-bg-color);\n",
              "    box-shadow: 0 1px 2px rgba(60, 64, 67, 0.3), 0 1px 3px 1px rgba(60, 64, 67, 0.15);\n",
              "    fill: var(--button-hover-fill-color);\n",
              "  }\n",
              "\n",
              "  .colab-df-quickchart-complete:disabled,\n",
              "  .colab-df-quickchart-complete:disabled:hover {\n",
              "    background-color: var(--disabled-bg-color);\n",
              "    fill: var(--disabled-fill-color);\n",
              "    box-shadow: none;\n",
              "  }\n",
              "\n",
              "  .colab-df-spinner {\n",
              "    border: 2px solid var(--fill-color);\n",
              "    border-color: transparent;\n",
              "    border-bottom-color: var(--fill-color);\n",
              "    animation:\n",
              "      spin 1s steps(1) infinite;\n",
              "  }\n",
              "\n",
              "  @keyframes spin {\n",
              "    0% {\n",
              "      border-color: transparent;\n",
              "      border-bottom-color: var(--fill-color);\n",
              "      border-left-color: var(--fill-color);\n",
              "    }\n",
              "    20% {\n",
              "      border-color: transparent;\n",
              "      border-left-color: var(--fill-color);\n",
              "      border-top-color: var(--fill-color);\n",
              "    }\n",
              "    30% {\n",
              "      border-color: transparent;\n",
              "      border-left-color: var(--fill-color);\n",
              "      border-top-color: var(--fill-color);\n",
              "      border-right-color: var(--fill-color);\n",
              "    }\n",
              "    40% {\n",
              "      border-color: transparent;\n",
              "      border-right-color: var(--fill-color);\n",
              "      border-top-color: var(--fill-color);\n",
              "    }\n",
              "    60% {\n",
              "      border-color: transparent;\n",
              "      border-right-color: var(--fill-color);\n",
              "    }\n",
              "    80% {\n",
              "      border-color: transparent;\n",
              "      border-right-color: var(--fill-color);\n",
              "      border-bottom-color: var(--fill-color);\n",
              "    }\n",
              "    90% {\n",
              "      border-color: transparent;\n",
              "      border-bottom-color: var(--fill-color);\n",
              "    }\n",
              "  }\n",
              "</style>\n",
              "\n",
              "  <script>\n",
              "    async function quickchart(key) {\n",
              "      const quickchartButtonEl =\n",
              "        document.querySelector('#' + key + ' button');\n",
              "      quickchartButtonEl.disabled = true;  // To prevent multiple clicks.\n",
              "      quickchartButtonEl.classList.add('colab-df-spinner');\n",
              "      try {\n",
              "        const charts = await google.colab.kernel.invokeFunction(\n",
              "            'suggestCharts', [key], {});\n",
              "      } catch (error) {\n",
              "        console.error('Error during call to suggestCharts:', error);\n",
              "      }\n",
              "      quickchartButtonEl.classList.remove('colab-df-spinner');\n",
              "      quickchartButtonEl.classList.add('colab-df-quickchart-complete');\n",
              "    }\n",
              "    (() => {\n",
              "      let quickchartButtonEl =\n",
              "        document.querySelector('#df-bcbb5217-5b1c-4604-ab9f-cc9d0f015f44 button');\n",
              "      quickchartButtonEl.style.display =\n",
              "        google.colab.kernel.accessAllowed ? 'block' : 'none';\n",
              "    })();\n",
              "  </script>\n",
              "</div>\n",
              "    </div>\n",
              "  </div>\n"
            ],
            "application/vnd.google.colaboratory.intrinsic+json": {
              "type": "dataframe",
              "repr_error": "0"
            }
          },
          "metadata": {}
        },
        {
          "output_type": "stream",
          "name": "stdout",
          "text": [
            "\n",
            "\n",
            "Информация по датафрейму:\n",
            "<class 'pandas.core.frame.DataFrame'>\n",
            "RangeIndex: 61733 entries, 0 to 61732\n",
            "Data columns (total 4 columns):\n",
            " #   Column      Non-Null Count  Dtype \n",
            "---  ------      --------------  ----- \n",
            " 0   user_id     61733 non-null  object\n",
            " 1   first_date  61733 non-null  object\n",
            " 2   region      61733 non-null  object\n",
            " 3   device      61733 non-null  object\n",
            "dtypes: object(4)\n",
            "memory usage: 1.9+ MB\n"
          ]
        },
        {
          "output_type": "display_data",
          "data": {
            "text/plain": [
              "None"
            ]
          },
          "metadata": {}
        },
        {
          "output_type": "display_data",
          "data": {
            "text/plain": [
              "'Колличество очевидных дубликатов равно: 0'"
            ],
            "application/vnd.google.colaboratory.intrinsic+json": {
              "type": "string"
            }
          },
          "metadata": {}
        },
        {
          "output_type": "stream",
          "name": "stdout",
          "text": [
            "\n",
            "\n"
          ]
        },
        {
          "output_type": "display_data",
          "data": {
            "text/plain": [
              "'Таблица с пропусками:'"
            ],
            "application/vnd.google.colaboratory.intrinsic+json": {
              "type": "string"
            }
          },
          "metadata": {}
        },
        {
          "output_type": "display_data",
          "data": {
            "text/plain": [
              "            Количество пропусков  Процент пропусков Тип данных\n",
              "user_id     0                    0.00                object   \n",
              "first_date  0                    0.00                object   \n",
              "region      0                    0.00                object   \n",
              "device      0                    0.00                object   "
            ],
            "text/html": [
              "\n",
              "  <div id=\"df-478b09e4-1730-4de2-8e47-ece065e5fbae\" class=\"colab-df-container\">\n",
              "    <div>\n",
              "<style scoped>\n",
              "    .dataframe tbody tr th:only-of-type {\n",
              "        vertical-align: middle;\n",
              "    }\n",
              "\n",
              "    .dataframe tbody tr th {\n",
              "        vertical-align: top;\n",
              "    }\n",
              "\n",
              "    .dataframe thead th {\n",
              "        text-align: right;\n",
              "    }\n",
              "</style>\n",
              "<table border=\"1\" class=\"dataframe\">\n",
              "  <thead>\n",
              "    <tr style=\"text-align: right;\">\n",
              "      <th></th>\n",
              "      <th>Количество пропусков</th>\n",
              "      <th>Процент пропусков</th>\n",
              "      <th>Тип данных</th>\n",
              "    </tr>\n",
              "  </thead>\n",
              "  <tbody>\n",
              "    <tr>\n",
              "      <th>user_id</th>\n",
              "      <td>0</td>\n",
              "      <td>0.00</td>\n",
              "      <td>object</td>\n",
              "    </tr>\n",
              "    <tr>\n",
              "      <th>first_date</th>\n",
              "      <td>0</td>\n",
              "      <td>0.00</td>\n",
              "      <td>object</td>\n",
              "    </tr>\n",
              "    <tr>\n",
              "      <th>region</th>\n",
              "      <td>0</td>\n",
              "      <td>0.00</td>\n",
              "      <td>object</td>\n",
              "    </tr>\n",
              "    <tr>\n",
              "      <th>device</th>\n",
              "      <td>0</td>\n",
              "      <td>0.00</td>\n",
              "      <td>object</td>\n",
              "    </tr>\n",
              "  </tbody>\n",
              "</table>\n",
              "</div>\n",
              "    <div class=\"colab-df-buttons\">\n",
              "\n",
              "  <div class=\"colab-df-container\">\n",
              "    <button class=\"colab-df-convert\" onclick=\"convertToInteractive('df-478b09e4-1730-4de2-8e47-ece065e5fbae')\"\n",
              "            title=\"Convert this dataframe to an interactive table.\"\n",
              "            style=\"display:none;\">\n",
              "\n",
              "  <svg xmlns=\"http://www.w3.org/2000/svg\" height=\"24px\" viewBox=\"0 -960 960 960\">\n",
              "    <path d=\"M120-120v-720h720v720H120Zm60-500h600v-160H180v160Zm220 220h160v-160H400v160Zm0 220h160v-160H400v160ZM180-400h160v-160H180v160Zm440 0h160v-160H620v160ZM180-180h160v-160H180v160Zm440 0h160v-160H620v160Z\"/>\n",
              "  </svg>\n",
              "    </button>\n",
              "\n",
              "  <style>\n",
              "    .colab-df-container {\n",
              "      display:flex;\n",
              "      gap: 12px;\n",
              "    }\n",
              "\n",
              "    .colab-df-convert {\n",
              "      background-color: #E8F0FE;\n",
              "      border: none;\n",
              "      border-radius: 50%;\n",
              "      cursor: pointer;\n",
              "      display: none;\n",
              "      fill: #1967D2;\n",
              "      height: 32px;\n",
              "      padding: 0 0 0 0;\n",
              "      width: 32px;\n",
              "    }\n",
              "\n",
              "    .colab-df-convert:hover {\n",
              "      background-color: #E2EBFA;\n",
              "      box-shadow: 0px 1px 2px rgba(60, 64, 67, 0.3), 0px 1px 3px 1px rgba(60, 64, 67, 0.15);\n",
              "      fill: #174EA6;\n",
              "    }\n",
              "\n",
              "    .colab-df-buttons div {\n",
              "      margin-bottom: 4px;\n",
              "    }\n",
              "\n",
              "    [theme=dark] .colab-df-convert {\n",
              "      background-color: #3B4455;\n",
              "      fill: #D2E3FC;\n",
              "    }\n",
              "\n",
              "    [theme=dark] .colab-df-convert:hover {\n",
              "      background-color: #434B5C;\n",
              "      box-shadow: 0px 1px 3px 1px rgba(0, 0, 0, 0.15);\n",
              "      filter: drop-shadow(0px 1px 2px rgba(0, 0, 0, 0.3));\n",
              "      fill: #FFFFFF;\n",
              "    }\n",
              "  </style>\n",
              "\n",
              "    <script>\n",
              "      const buttonEl =\n",
              "        document.querySelector('#df-478b09e4-1730-4de2-8e47-ece065e5fbae button.colab-df-convert');\n",
              "      buttonEl.style.display =\n",
              "        google.colab.kernel.accessAllowed ? 'block' : 'none';\n",
              "\n",
              "      async function convertToInteractive(key) {\n",
              "        const element = document.querySelector('#df-478b09e4-1730-4de2-8e47-ece065e5fbae');\n",
              "        const dataTable =\n",
              "          await google.colab.kernel.invokeFunction('convertToInteractive',\n",
              "                                                    [key], {});\n",
              "        if (!dataTable) return;\n",
              "\n",
              "        const docLinkHtml = 'Like what you see? Visit the ' +\n",
              "          '<a target=\"_blank\" href=https://colab.research.google.com/notebooks/data_table.ipynb>data table notebook</a>'\n",
              "          + ' to learn more about interactive tables.';\n",
              "        element.innerHTML = '';\n",
              "        dataTable['output_type'] = 'display_data';\n",
              "        await google.colab.output.renderOutput(dataTable, element);\n",
              "        const docLink = document.createElement('div');\n",
              "        docLink.innerHTML = docLinkHtml;\n",
              "        element.appendChild(docLink);\n",
              "      }\n",
              "    </script>\n",
              "  </div>\n",
              "\n",
              "\n",
              "<div id=\"df-e6866798-04c2-4621-aadc-baaad2a47aad\">\n",
              "  <button class=\"colab-df-quickchart\" onclick=\"quickchart('df-e6866798-04c2-4621-aadc-baaad2a47aad')\"\n",
              "            title=\"Suggest charts\"\n",
              "            style=\"display:none;\">\n",
              "\n",
              "<svg xmlns=\"http://www.w3.org/2000/svg\" height=\"24px\"viewBox=\"0 0 24 24\"\n",
              "     width=\"24px\">\n",
              "    <g>\n",
              "        <path d=\"M19 3H5c-1.1 0-2 .9-2 2v14c0 1.1.9 2 2 2h14c1.1 0 2-.9 2-2V5c0-1.1-.9-2-2-2zM9 17H7v-7h2v7zm4 0h-2V7h2v10zm4 0h-2v-4h2v4z\"/>\n",
              "    </g>\n",
              "</svg>\n",
              "  </button>\n",
              "\n",
              "<style>\n",
              "  .colab-df-quickchart {\n",
              "      --bg-color: #E8F0FE;\n",
              "      --fill-color: #1967D2;\n",
              "      --hover-bg-color: #E2EBFA;\n",
              "      --hover-fill-color: #174EA6;\n",
              "      --disabled-fill-color: #AAA;\n",
              "      --disabled-bg-color: #DDD;\n",
              "  }\n",
              "\n",
              "  [theme=dark] .colab-df-quickchart {\n",
              "      --bg-color: #3B4455;\n",
              "      --fill-color: #D2E3FC;\n",
              "      --hover-bg-color: #434B5C;\n",
              "      --hover-fill-color: #FFFFFF;\n",
              "      --disabled-bg-color: #3B4455;\n",
              "      --disabled-fill-color: #666;\n",
              "  }\n",
              "\n",
              "  .colab-df-quickchart {\n",
              "    background-color: var(--bg-color);\n",
              "    border: none;\n",
              "    border-radius: 50%;\n",
              "    cursor: pointer;\n",
              "    display: none;\n",
              "    fill: var(--fill-color);\n",
              "    height: 32px;\n",
              "    padding: 0;\n",
              "    width: 32px;\n",
              "  }\n",
              "\n",
              "  .colab-df-quickchart:hover {\n",
              "    background-color: var(--hover-bg-color);\n",
              "    box-shadow: 0 1px 2px rgba(60, 64, 67, 0.3), 0 1px 3px 1px rgba(60, 64, 67, 0.15);\n",
              "    fill: var(--button-hover-fill-color);\n",
              "  }\n",
              "\n",
              "  .colab-df-quickchart-complete:disabled,\n",
              "  .colab-df-quickchart-complete:disabled:hover {\n",
              "    background-color: var(--disabled-bg-color);\n",
              "    fill: var(--disabled-fill-color);\n",
              "    box-shadow: none;\n",
              "  }\n",
              "\n",
              "  .colab-df-spinner {\n",
              "    border: 2px solid var(--fill-color);\n",
              "    border-color: transparent;\n",
              "    border-bottom-color: var(--fill-color);\n",
              "    animation:\n",
              "      spin 1s steps(1) infinite;\n",
              "  }\n",
              "\n",
              "  @keyframes spin {\n",
              "    0% {\n",
              "      border-color: transparent;\n",
              "      border-bottom-color: var(--fill-color);\n",
              "      border-left-color: var(--fill-color);\n",
              "    }\n",
              "    20% {\n",
              "      border-color: transparent;\n",
              "      border-left-color: var(--fill-color);\n",
              "      border-top-color: var(--fill-color);\n",
              "    }\n",
              "    30% {\n",
              "      border-color: transparent;\n",
              "      border-left-color: var(--fill-color);\n",
              "      border-top-color: var(--fill-color);\n",
              "      border-right-color: var(--fill-color);\n",
              "    }\n",
              "    40% {\n",
              "      border-color: transparent;\n",
              "      border-right-color: var(--fill-color);\n",
              "      border-top-color: var(--fill-color);\n",
              "    }\n",
              "    60% {\n",
              "      border-color: transparent;\n",
              "      border-right-color: var(--fill-color);\n",
              "    }\n",
              "    80% {\n",
              "      border-color: transparent;\n",
              "      border-right-color: var(--fill-color);\n",
              "      border-bottom-color: var(--fill-color);\n",
              "    }\n",
              "    90% {\n",
              "      border-color: transparent;\n",
              "      border-bottom-color: var(--fill-color);\n",
              "    }\n",
              "  }\n",
              "</style>\n",
              "\n",
              "  <script>\n",
              "    async function quickchart(key) {\n",
              "      const quickchartButtonEl =\n",
              "        document.querySelector('#' + key + ' button');\n",
              "      quickchartButtonEl.disabled = true;  // To prevent multiple clicks.\n",
              "      quickchartButtonEl.classList.add('colab-df-spinner');\n",
              "      try {\n",
              "        const charts = await google.colab.kernel.invokeFunction(\n",
              "            'suggestCharts', [key], {});\n",
              "      } catch (error) {\n",
              "        console.error('Error during call to suggestCharts:', error);\n",
              "      }\n",
              "      quickchartButtonEl.classList.remove('colab-df-spinner');\n",
              "      quickchartButtonEl.classList.add('colab-df-quickchart-complete');\n",
              "    }\n",
              "    (() => {\n",
              "      let quickchartButtonEl =\n",
              "        document.querySelector('#df-e6866798-04c2-4621-aadc-baaad2a47aad button');\n",
              "      quickchartButtonEl.style.display =\n",
              "        google.colab.kernel.accessAllowed ? 'block' : 'none';\n",
              "    })();\n",
              "  </script>\n",
              "</div>\n",
              "    </div>\n",
              "  </div>\n"
            ],
            "application/vnd.google.colaboratory.intrinsic+json": {
              "type": "dataframe",
              "summary": "{\n  \"name\": \"df_first_glance(df_new_users)\",\n  \"rows\": 4,\n  \"fields\": [\n    {\n      \"column\": \"\\u041a\\u043e\\u043b\\u0438\\u0447\\u0435\\u0441\\u0442\\u0432\\u043e \\u043f\\u0440\\u043e\\u043f\\u0443\\u0441\\u043a\\u043e\\u0432\",\n      \"properties\": {\n        \"dtype\": \"number\",\n        \"std\": 0,\n        \"min\": 0,\n        \"max\": 0,\n        \"num_unique_values\": 1,\n        \"samples\": [\n          0\n        ],\n        \"semantic_type\": \"\",\n        \"description\": \"\"\n      }\n    },\n    {\n      \"column\": \"\\u041f\\u0440\\u043e\\u0446\\u0435\\u043d\\u0442 \\u043f\\u0440\\u043e\\u043f\\u0443\\u0441\\u043a\\u043e\\u0432\",\n      \"properties\": {\n        \"dtype\": \"number\",\n        \"std\": 0.0,\n        \"min\": 0.0,\n        \"max\": 0.0,\n        \"num_unique_values\": 1,\n        \"samples\": [\n          0.0\n        ],\n        \"semantic_type\": \"\",\n        \"description\": \"\"\n      }\n    },\n    {\n      \"column\": \"\\u0422\\u0438\\u043f \\u0434\\u0430\\u043d\\u043d\\u044b\\u0445\",\n      \"properties\": {\n        \"dtype\": \"category\",\n        \"num_unique_values\": 1,\n        \"samples\": [\n          \"object\"\n        ],\n        \"semantic_type\": \"\",\n        \"description\": \"\"\n      }\n    }\n  ]\n}"
            }
          },
          "metadata": {}
        }
      ],
      "source": [
        "# второй датафрейм\n",
        "df_first_glance(df_new_users)"
      ]
    },
    {
      "cell_type": "code",
      "execution_count": 6,
      "metadata": {
        "id": "m0rP-T4k83pl",
        "outputId": "d5a73eb8-fa54-41a3-b1e0-55a61d84d9ef",
        "colab": {
          "base_uri": "https://localhost:8080/",
          "height": 712
        }
      },
      "outputs": [
        {
          "output_type": "stream",
          "name": "stdout",
          "text": [
            "Пять рандомных строк:\n"
          ]
        },
        {
          "output_type": "display_data",
          "data": {
            "text/plain": [
              "                 user_id             event_dt    event_name  details\n",
              "358750  E32BB820CBFB4C4D  2020-12-20 01:19:49  login        NaN     \n",
              "413517  EA30541444D07760  2020-12-25 06:19:53  login        NaN     \n",
              "108478  D1D4A321039BB74F  2020-12-22 21:20:58  product_cart NaN     \n",
              "407109  27136573178F4855  2020-12-24 12:15:55  login        NaN     \n",
              "217350  0FF2E84D7B845C26  2020-12-22 23:59:19  product_page NaN     "
            ],
            "text/html": [
              "\n",
              "  <div id=\"df-6208d6a6-ff7a-4c00-bbe1-5582fafc3e0f\" class=\"colab-df-container\">\n",
              "    <div>\n",
              "<style scoped>\n",
              "    .dataframe tbody tr th:only-of-type {\n",
              "        vertical-align: middle;\n",
              "    }\n",
              "\n",
              "    .dataframe tbody tr th {\n",
              "        vertical-align: top;\n",
              "    }\n",
              "\n",
              "    .dataframe thead th {\n",
              "        text-align: right;\n",
              "    }\n",
              "</style>\n",
              "<table border=\"1\" class=\"dataframe\">\n",
              "  <thead>\n",
              "    <tr style=\"text-align: right;\">\n",
              "      <th></th>\n",
              "      <th>user_id</th>\n",
              "      <th>event_dt</th>\n",
              "      <th>event_name</th>\n",
              "      <th>details</th>\n",
              "    </tr>\n",
              "  </thead>\n",
              "  <tbody>\n",
              "    <tr>\n",
              "      <th>358750</th>\n",
              "      <td>E32BB820CBFB4C4D</td>\n",
              "      <td>2020-12-20 01:19:49</td>\n",
              "      <td>login</td>\n",
              "      <td>NaN</td>\n",
              "    </tr>\n",
              "    <tr>\n",
              "      <th>413517</th>\n",
              "      <td>EA30541444D07760</td>\n",
              "      <td>2020-12-25 06:19:53</td>\n",
              "      <td>login</td>\n",
              "      <td>NaN</td>\n",
              "    </tr>\n",
              "    <tr>\n",
              "      <th>108478</th>\n",
              "      <td>D1D4A321039BB74F</td>\n",
              "      <td>2020-12-22 21:20:58</td>\n",
              "      <td>product_cart</td>\n",
              "      <td>NaN</td>\n",
              "    </tr>\n",
              "    <tr>\n",
              "      <th>407109</th>\n",
              "      <td>27136573178F4855</td>\n",
              "      <td>2020-12-24 12:15:55</td>\n",
              "      <td>login</td>\n",
              "      <td>NaN</td>\n",
              "    </tr>\n",
              "    <tr>\n",
              "      <th>217350</th>\n",
              "      <td>0FF2E84D7B845C26</td>\n",
              "      <td>2020-12-22 23:59:19</td>\n",
              "      <td>product_page</td>\n",
              "      <td>NaN</td>\n",
              "    </tr>\n",
              "  </tbody>\n",
              "</table>\n",
              "</div>\n",
              "    <div class=\"colab-df-buttons\">\n",
              "\n",
              "  <div class=\"colab-df-container\">\n",
              "    <button class=\"colab-df-convert\" onclick=\"convertToInteractive('df-6208d6a6-ff7a-4c00-bbe1-5582fafc3e0f')\"\n",
              "            title=\"Convert this dataframe to an interactive table.\"\n",
              "            style=\"display:none;\">\n",
              "\n",
              "  <svg xmlns=\"http://www.w3.org/2000/svg\" height=\"24px\" viewBox=\"0 -960 960 960\">\n",
              "    <path d=\"M120-120v-720h720v720H120Zm60-500h600v-160H180v160Zm220 220h160v-160H400v160Zm0 220h160v-160H400v160ZM180-400h160v-160H180v160Zm440 0h160v-160H620v160ZM180-180h160v-160H180v160Zm440 0h160v-160H620v160Z\"/>\n",
              "  </svg>\n",
              "    </button>\n",
              "\n",
              "  <style>\n",
              "    .colab-df-container {\n",
              "      display:flex;\n",
              "      gap: 12px;\n",
              "    }\n",
              "\n",
              "    .colab-df-convert {\n",
              "      background-color: #E8F0FE;\n",
              "      border: none;\n",
              "      border-radius: 50%;\n",
              "      cursor: pointer;\n",
              "      display: none;\n",
              "      fill: #1967D2;\n",
              "      height: 32px;\n",
              "      padding: 0 0 0 0;\n",
              "      width: 32px;\n",
              "    }\n",
              "\n",
              "    .colab-df-convert:hover {\n",
              "      background-color: #E2EBFA;\n",
              "      box-shadow: 0px 1px 2px rgba(60, 64, 67, 0.3), 0px 1px 3px 1px rgba(60, 64, 67, 0.15);\n",
              "      fill: #174EA6;\n",
              "    }\n",
              "\n",
              "    .colab-df-buttons div {\n",
              "      margin-bottom: 4px;\n",
              "    }\n",
              "\n",
              "    [theme=dark] .colab-df-convert {\n",
              "      background-color: #3B4455;\n",
              "      fill: #D2E3FC;\n",
              "    }\n",
              "\n",
              "    [theme=dark] .colab-df-convert:hover {\n",
              "      background-color: #434B5C;\n",
              "      box-shadow: 0px 1px 3px 1px rgba(0, 0, 0, 0.15);\n",
              "      filter: drop-shadow(0px 1px 2px rgba(0, 0, 0, 0.3));\n",
              "      fill: #FFFFFF;\n",
              "    }\n",
              "  </style>\n",
              "\n",
              "    <script>\n",
              "      const buttonEl =\n",
              "        document.querySelector('#df-6208d6a6-ff7a-4c00-bbe1-5582fafc3e0f button.colab-df-convert');\n",
              "      buttonEl.style.display =\n",
              "        google.colab.kernel.accessAllowed ? 'block' : 'none';\n",
              "\n",
              "      async function convertToInteractive(key) {\n",
              "        const element = document.querySelector('#df-6208d6a6-ff7a-4c00-bbe1-5582fafc3e0f');\n",
              "        const dataTable =\n",
              "          await google.colab.kernel.invokeFunction('convertToInteractive',\n",
              "                                                    [key], {});\n",
              "        if (!dataTable) return;\n",
              "\n",
              "        const docLinkHtml = 'Like what you see? Visit the ' +\n",
              "          '<a target=\"_blank\" href=https://colab.research.google.com/notebooks/data_table.ipynb>data table notebook</a>'\n",
              "          + ' to learn more about interactive tables.';\n",
              "        element.innerHTML = '';\n",
              "        dataTable['output_type'] = 'display_data';\n",
              "        await google.colab.output.renderOutput(dataTable, element);\n",
              "        const docLink = document.createElement('div');\n",
              "        docLink.innerHTML = docLinkHtml;\n",
              "        element.appendChild(docLink);\n",
              "      }\n",
              "    </script>\n",
              "  </div>\n",
              "\n",
              "\n",
              "<div id=\"df-9c3f6b16-0361-4ac3-a75a-3d804201921d\">\n",
              "  <button class=\"colab-df-quickchart\" onclick=\"quickchart('df-9c3f6b16-0361-4ac3-a75a-3d804201921d')\"\n",
              "            title=\"Suggest charts\"\n",
              "            style=\"display:none;\">\n",
              "\n",
              "<svg xmlns=\"http://www.w3.org/2000/svg\" height=\"24px\"viewBox=\"0 0 24 24\"\n",
              "     width=\"24px\">\n",
              "    <g>\n",
              "        <path d=\"M19 3H5c-1.1 0-2 .9-2 2v14c0 1.1.9 2 2 2h14c1.1 0 2-.9 2-2V5c0-1.1-.9-2-2-2zM9 17H7v-7h2v7zm4 0h-2V7h2v10zm4 0h-2v-4h2v4z\"/>\n",
              "    </g>\n",
              "</svg>\n",
              "  </button>\n",
              "\n",
              "<style>\n",
              "  .colab-df-quickchart {\n",
              "      --bg-color: #E8F0FE;\n",
              "      --fill-color: #1967D2;\n",
              "      --hover-bg-color: #E2EBFA;\n",
              "      --hover-fill-color: #174EA6;\n",
              "      --disabled-fill-color: #AAA;\n",
              "      --disabled-bg-color: #DDD;\n",
              "  }\n",
              "\n",
              "  [theme=dark] .colab-df-quickchart {\n",
              "      --bg-color: #3B4455;\n",
              "      --fill-color: #D2E3FC;\n",
              "      --hover-bg-color: #434B5C;\n",
              "      --hover-fill-color: #FFFFFF;\n",
              "      --disabled-bg-color: #3B4455;\n",
              "      --disabled-fill-color: #666;\n",
              "  }\n",
              "\n",
              "  .colab-df-quickchart {\n",
              "    background-color: var(--bg-color);\n",
              "    border: none;\n",
              "    border-radius: 50%;\n",
              "    cursor: pointer;\n",
              "    display: none;\n",
              "    fill: var(--fill-color);\n",
              "    height: 32px;\n",
              "    padding: 0;\n",
              "    width: 32px;\n",
              "  }\n",
              "\n",
              "  .colab-df-quickchart:hover {\n",
              "    background-color: var(--hover-bg-color);\n",
              "    box-shadow: 0 1px 2px rgba(60, 64, 67, 0.3), 0 1px 3px 1px rgba(60, 64, 67, 0.15);\n",
              "    fill: var(--button-hover-fill-color);\n",
              "  }\n",
              "\n",
              "  .colab-df-quickchart-complete:disabled,\n",
              "  .colab-df-quickchart-complete:disabled:hover {\n",
              "    background-color: var(--disabled-bg-color);\n",
              "    fill: var(--disabled-fill-color);\n",
              "    box-shadow: none;\n",
              "  }\n",
              "\n",
              "  .colab-df-spinner {\n",
              "    border: 2px solid var(--fill-color);\n",
              "    border-color: transparent;\n",
              "    border-bottom-color: var(--fill-color);\n",
              "    animation:\n",
              "      spin 1s steps(1) infinite;\n",
              "  }\n",
              "\n",
              "  @keyframes spin {\n",
              "    0% {\n",
              "      border-color: transparent;\n",
              "      border-bottom-color: var(--fill-color);\n",
              "      border-left-color: var(--fill-color);\n",
              "    }\n",
              "    20% {\n",
              "      border-color: transparent;\n",
              "      border-left-color: var(--fill-color);\n",
              "      border-top-color: var(--fill-color);\n",
              "    }\n",
              "    30% {\n",
              "      border-color: transparent;\n",
              "      border-left-color: var(--fill-color);\n",
              "      border-top-color: var(--fill-color);\n",
              "      border-right-color: var(--fill-color);\n",
              "    }\n",
              "    40% {\n",
              "      border-color: transparent;\n",
              "      border-right-color: var(--fill-color);\n",
              "      border-top-color: var(--fill-color);\n",
              "    }\n",
              "    60% {\n",
              "      border-color: transparent;\n",
              "      border-right-color: var(--fill-color);\n",
              "    }\n",
              "    80% {\n",
              "      border-color: transparent;\n",
              "      border-right-color: var(--fill-color);\n",
              "      border-bottom-color: var(--fill-color);\n",
              "    }\n",
              "    90% {\n",
              "      border-color: transparent;\n",
              "      border-bottom-color: var(--fill-color);\n",
              "    }\n",
              "  }\n",
              "</style>\n",
              "\n",
              "  <script>\n",
              "    async function quickchart(key) {\n",
              "      const quickchartButtonEl =\n",
              "        document.querySelector('#' + key + ' button');\n",
              "      quickchartButtonEl.disabled = true;  // To prevent multiple clicks.\n",
              "      quickchartButtonEl.classList.add('colab-df-spinner');\n",
              "      try {\n",
              "        const charts = await google.colab.kernel.invokeFunction(\n",
              "            'suggestCharts', [key], {});\n",
              "      } catch (error) {\n",
              "        console.error('Error during call to suggestCharts:', error);\n",
              "      }\n",
              "      quickchartButtonEl.classList.remove('colab-df-spinner');\n",
              "      quickchartButtonEl.classList.add('colab-df-quickchart-complete');\n",
              "    }\n",
              "    (() => {\n",
              "      let quickchartButtonEl =\n",
              "        document.querySelector('#df-9c3f6b16-0361-4ac3-a75a-3d804201921d button');\n",
              "      quickchartButtonEl.style.display =\n",
              "        google.colab.kernel.accessAllowed ? 'block' : 'none';\n",
              "    })();\n",
              "  </script>\n",
              "</div>\n",
              "    </div>\n",
              "  </div>\n"
            ],
            "application/vnd.google.colaboratory.intrinsic+json": {
              "type": "dataframe",
              "repr_error": "0"
            }
          },
          "metadata": {}
        },
        {
          "output_type": "stream",
          "name": "stdout",
          "text": [
            "\n",
            "\n",
            "Информация по датафрейму:\n",
            "<class 'pandas.core.frame.DataFrame'>\n",
            "RangeIndex: 440317 entries, 0 to 440316\n",
            "Data columns (total 4 columns):\n",
            " #   Column      Non-Null Count   Dtype  \n",
            "---  ------      --------------   -----  \n",
            " 0   user_id     440317 non-null  object \n",
            " 1   event_dt    440317 non-null  object \n",
            " 2   event_name  440317 non-null  object \n",
            " 3   details     62740 non-null   float64\n",
            "dtypes: float64(1), object(3)\n",
            "memory usage: 13.4+ MB\n"
          ]
        },
        {
          "output_type": "display_data",
          "data": {
            "text/plain": [
              "None"
            ]
          },
          "metadata": {}
        },
        {
          "output_type": "display_data",
          "data": {
            "text/plain": [
              "'Колличество очевидных дубликатов равно: 0'"
            ],
            "application/vnd.google.colaboratory.intrinsic+json": {
              "type": "string"
            }
          },
          "metadata": {}
        },
        {
          "output_type": "stream",
          "name": "stdout",
          "text": [
            "\n",
            "\n"
          ]
        },
        {
          "output_type": "display_data",
          "data": {
            "text/plain": [
              "'Таблица с пропусками:'"
            ],
            "application/vnd.google.colaboratory.intrinsic+json": {
              "type": "string"
            }
          },
          "metadata": {}
        },
        {
          "output_type": "display_data",
          "data": {
            "text/plain": [
              "            Количество пропусков  Процент пропусков Тип данных\n",
              "user_id     0                    0.00                object   \n",
              "event_dt    0                    0.00                object   \n",
              "event_name  0                    0.00                object   \n",
              "details     377577               85.75               float64  "
            ],
            "text/html": [
              "\n",
              "  <div id=\"df-8db59f4a-8224-4a94-960f-dde5db1c09f0\" class=\"colab-df-container\">\n",
              "    <div>\n",
              "<style scoped>\n",
              "    .dataframe tbody tr th:only-of-type {\n",
              "        vertical-align: middle;\n",
              "    }\n",
              "\n",
              "    .dataframe tbody tr th {\n",
              "        vertical-align: top;\n",
              "    }\n",
              "\n",
              "    .dataframe thead th {\n",
              "        text-align: right;\n",
              "    }\n",
              "</style>\n",
              "<table border=\"1\" class=\"dataframe\">\n",
              "  <thead>\n",
              "    <tr style=\"text-align: right;\">\n",
              "      <th></th>\n",
              "      <th>Количество пропусков</th>\n",
              "      <th>Процент пропусков</th>\n",
              "      <th>Тип данных</th>\n",
              "    </tr>\n",
              "  </thead>\n",
              "  <tbody>\n",
              "    <tr>\n",
              "      <th>user_id</th>\n",
              "      <td>0</td>\n",
              "      <td>0.00</td>\n",
              "      <td>object</td>\n",
              "    </tr>\n",
              "    <tr>\n",
              "      <th>event_dt</th>\n",
              "      <td>0</td>\n",
              "      <td>0.00</td>\n",
              "      <td>object</td>\n",
              "    </tr>\n",
              "    <tr>\n",
              "      <th>event_name</th>\n",
              "      <td>0</td>\n",
              "      <td>0.00</td>\n",
              "      <td>object</td>\n",
              "    </tr>\n",
              "    <tr>\n",
              "      <th>details</th>\n",
              "      <td>377577</td>\n",
              "      <td>85.75</td>\n",
              "      <td>float64</td>\n",
              "    </tr>\n",
              "  </tbody>\n",
              "</table>\n",
              "</div>\n",
              "    <div class=\"colab-df-buttons\">\n",
              "\n",
              "  <div class=\"colab-df-container\">\n",
              "    <button class=\"colab-df-convert\" onclick=\"convertToInteractive('df-8db59f4a-8224-4a94-960f-dde5db1c09f0')\"\n",
              "            title=\"Convert this dataframe to an interactive table.\"\n",
              "            style=\"display:none;\">\n",
              "\n",
              "  <svg xmlns=\"http://www.w3.org/2000/svg\" height=\"24px\" viewBox=\"0 -960 960 960\">\n",
              "    <path d=\"M120-120v-720h720v720H120Zm60-500h600v-160H180v160Zm220 220h160v-160H400v160Zm0 220h160v-160H400v160ZM180-400h160v-160H180v160Zm440 0h160v-160H620v160ZM180-180h160v-160H180v160Zm440 0h160v-160H620v160Z\"/>\n",
              "  </svg>\n",
              "    </button>\n",
              "\n",
              "  <style>\n",
              "    .colab-df-container {\n",
              "      display:flex;\n",
              "      gap: 12px;\n",
              "    }\n",
              "\n",
              "    .colab-df-convert {\n",
              "      background-color: #E8F0FE;\n",
              "      border: none;\n",
              "      border-radius: 50%;\n",
              "      cursor: pointer;\n",
              "      display: none;\n",
              "      fill: #1967D2;\n",
              "      height: 32px;\n",
              "      padding: 0 0 0 0;\n",
              "      width: 32px;\n",
              "    }\n",
              "\n",
              "    .colab-df-convert:hover {\n",
              "      background-color: #E2EBFA;\n",
              "      box-shadow: 0px 1px 2px rgba(60, 64, 67, 0.3), 0px 1px 3px 1px rgba(60, 64, 67, 0.15);\n",
              "      fill: #174EA6;\n",
              "    }\n",
              "\n",
              "    .colab-df-buttons div {\n",
              "      margin-bottom: 4px;\n",
              "    }\n",
              "\n",
              "    [theme=dark] .colab-df-convert {\n",
              "      background-color: #3B4455;\n",
              "      fill: #D2E3FC;\n",
              "    }\n",
              "\n",
              "    [theme=dark] .colab-df-convert:hover {\n",
              "      background-color: #434B5C;\n",
              "      box-shadow: 0px 1px 3px 1px rgba(0, 0, 0, 0.15);\n",
              "      filter: drop-shadow(0px 1px 2px rgba(0, 0, 0, 0.3));\n",
              "      fill: #FFFFFF;\n",
              "    }\n",
              "  </style>\n",
              "\n",
              "    <script>\n",
              "      const buttonEl =\n",
              "        document.querySelector('#df-8db59f4a-8224-4a94-960f-dde5db1c09f0 button.colab-df-convert');\n",
              "      buttonEl.style.display =\n",
              "        google.colab.kernel.accessAllowed ? 'block' : 'none';\n",
              "\n",
              "      async function convertToInteractive(key) {\n",
              "        const element = document.querySelector('#df-8db59f4a-8224-4a94-960f-dde5db1c09f0');\n",
              "        const dataTable =\n",
              "          await google.colab.kernel.invokeFunction('convertToInteractive',\n",
              "                                                    [key], {});\n",
              "        if (!dataTable) return;\n",
              "\n",
              "        const docLinkHtml = 'Like what you see? Visit the ' +\n",
              "          '<a target=\"_blank\" href=https://colab.research.google.com/notebooks/data_table.ipynb>data table notebook</a>'\n",
              "          + ' to learn more about interactive tables.';\n",
              "        element.innerHTML = '';\n",
              "        dataTable['output_type'] = 'display_data';\n",
              "        await google.colab.output.renderOutput(dataTable, element);\n",
              "        const docLink = document.createElement('div');\n",
              "        docLink.innerHTML = docLinkHtml;\n",
              "        element.appendChild(docLink);\n",
              "      }\n",
              "    </script>\n",
              "  </div>\n",
              "\n",
              "\n",
              "<div id=\"df-c6bce231-10b4-46f2-9e0f-1d30c05280ea\">\n",
              "  <button class=\"colab-df-quickchart\" onclick=\"quickchart('df-c6bce231-10b4-46f2-9e0f-1d30c05280ea')\"\n",
              "            title=\"Suggest charts\"\n",
              "            style=\"display:none;\">\n",
              "\n",
              "<svg xmlns=\"http://www.w3.org/2000/svg\" height=\"24px\"viewBox=\"0 0 24 24\"\n",
              "     width=\"24px\">\n",
              "    <g>\n",
              "        <path d=\"M19 3H5c-1.1 0-2 .9-2 2v14c0 1.1.9 2 2 2h14c1.1 0 2-.9 2-2V5c0-1.1-.9-2-2-2zM9 17H7v-7h2v7zm4 0h-2V7h2v10zm4 0h-2v-4h2v4z\"/>\n",
              "    </g>\n",
              "</svg>\n",
              "  </button>\n",
              "\n",
              "<style>\n",
              "  .colab-df-quickchart {\n",
              "      --bg-color: #E8F0FE;\n",
              "      --fill-color: #1967D2;\n",
              "      --hover-bg-color: #E2EBFA;\n",
              "      --hover-fill-color: #174EA6;\n",
              "      --disabled-fill-color: #AAA;\n",
              "      --disabled-bg-color: #DDD;\n",
              "  }\n",
              "\n",
              "  [theme=dark] .colab-df-quickchart {\n",
              "      --bg-color: #3B4455;\n",
              "      --fill-color: #D2E3FC;\n",
              "      --hover-bg-color: #434B5C;\n",
              "      --hover-fill-color: #FFFFFF;\n",
              "      --disabled-bg-color: #3B4455;\n",
              "      --disabled-fill-color: #666;\n",
              "  }\n",
              "\n",
              "  .colab-df-quickchart {\n",
              "    background-color: var(--bg-color);\n",
              "    border: none;\n",
              "    border-radius: 50%;\n",
              "    cursor: pointer;\n",
              "    display: none;\n",
              "    fill: var(--fill-color);\n",
              "    height: 32px;\n",
              "    padding: 0;\n",
              "    width: 32px;\n",
              "  }\n",
              "\n",
              "  .colab-df-quickchart:hover {\n",
              "    background-color: var(--hover-bg-color);\n",
              "    box-shadow: 0 1px 2px rgba(60, 64, 67, 0.3), 0 1px 3px 1px rgba(60, 64, 67, 0.15);\n",
              "    fill: var(--button-hover-fill-color);\n",
              "  }\n",
              "\n",
              "  .colab-df-quickchart-complete:disabled,\n",
              "  .colab-df-quickchart-complete:disabled:hover {\n",
              "    background-color: var(--disabled-bg-color);\n",
              "    fill: var(--disabled-fill-color);\n",
              "    box-shadow: none;\n",
              "  }\n",
              "\n",
              "  .colab-df-spinner {\n",
              "    border: 2px solid var(--fill-color);\n",
              "    border-color: transparent;\n",
              "    border-bottom-color: var(--fill-color);\n",
              "    animation:\n",
              "      spin 1s steps(1) infinite;\n",
              "  }\n",
              "\n",
              "  @keyframes spin {\n",
              "    0% {\n",
              "      border-color: transparent;\n",
              "      border-bottom-color: var(--fill-color);\n",
              "      border-left-color: var(--fill-color);\n",
              "    }\n",
              "    20% {\n",
              "      border-color: transparent;\n",
              "      border-left-color: var(--fill-color);\n",
              "      border-top-color: var(--fill-color);\n",
              "    }\n",
              "    30% {\n",
              "      border-color: transparent;\n",
              "      border-left-color: var(--fill-color);\n",
              "      border-top-color: var(--fill-color);\n",
              "      border-right-color: var(--fill-color);\n",
              "    }\n",
              "    40% {\n",
              "      border-color: transparent;\n",
              "      border-right-color: var(--fill-color);\n",
              "      border-top-color: var(--fill-color);\n",
              "    }\n",
              "    60% {\n",
              "      border-color: transparent;\n",
              "      border-right-color: var(--fill-color);\n",
              "    }\n",
              "    80% {\n",
              "      border-color: transparent;\n",
              "      border-right-color: var(--fill-color);\n",
              "      border-bottom-color: var(--fill-color);\n",
              "    }\n",
              "    90% {\n",
              "      border-color: transparent;\n",
              "      border-bottom-color: var(--fill-color);\n",
              "    }\n",
              "  }\n",
              "</style>\n",
              "\n",
              "  <script>\n",
              "    async function quickchart(key) {\n",
              "      const quickchartButtonEl =\n",
              "        document.querySelector('#' + key + ' button');\n",
              "      quickchartButtonEl.disabled = true;  // To prevent multiple clicks.\n",
              "      quickchartButtonEl.classList.add('colab-df-spinner');\n",
              "      try {\n",
              "        const charts = await google.colab.kernel.invokeFunction(\n",
              "            'suggestCharts', [key], {});\n",
              "      } catch (error) {\n",
              "        console.error('Error during call to suggestCharts:', error);\n",
              "      }\n",
              "      quickchartButtonEl.classList.remove('colab-df-spinner');\n",
              "      quickchartButtonEl.classList.add('colab-df-quickchart-complete');\n",
              "    }\n",
              "    (() => {\n",
              "      let quickchartButtonEl =\n",
              "        document.querySelector('#df-c6bce231-10b4-46f2-9e0f-1d30c05280ea button');\n",
              "      quickchartButtonEl.style.display =\n",
              "        google.colab.kernel.accessAllowed ? 'block' : 'none';\n",
              "    })();\n",
              "  </script>\n",
              "</div>\n",
              "    </div>\n",
              "  </div>\n"
            ],
            "application/vnd.google.colaboratory.intrinsic+json": {
              "type": "dataframe",
              "summary": "{\n  \"name\": \"df_first_glance(df_events)\",\n  \"rows\": 4,\n  \"fields\": [\n    {\n      \"column\": \"\\u041a\\u043e\\u043b\\u0438\\u0447\\u0435\\u0441\\u0442\\u0432\\u043e \\u043f\\u0440\\u043e\\u043f\\u0443\\u0441\\u043a\\u043e\\u0432\",\n      \"properties\": {\n        \"dtype\": \"number\",\n        \"std\": 188788,\n        \"min\": 0,\n        \"max\": 377577,\n        \"num_unique_values\": 2,\n        \"samples\": [\n          377577,\n          0\n        ],\n        \"semantic_type\": \"\",\n        \"description\": \"\"\n      }\n    },\n    {\n      \"column\": \"\\u041f\\u0440\\u043e\\u0446\\u0435\\u043d\\u0442 \\u043f\\u0440\\u043e\\u043f\\u0443\\u0441\\u043a\\u043e\\u0432\",\n      \"properties\": {\n        \"dtype\": \"number\",\n        \"std\": 42.875,\n        \"min\": 0.0,\n        \"max\": 85.75,\n        \"num_unique_values\": 2,\n        \"samples\": [\n          85.75,\n          0.0\n        ],\n        \"semantic_type\": \"\",\n        \"description\": \"\"\n      }\n    },\n    {\n      \"column\": \"\\u0422\\u0438\\u043f \\u0434\\u0430\\u043d\\u043d\\u044b\\u0445\",\n      \"properties\": {\n        \"dtype\": \"string\",\n        \"num_unique_values\": 2,\n        \"samples\": [\n          \"float64\",\n          \"object\"\n        ],\n        \"semantic_type\": \"\",\n        \"description\": \"\"\n      }\n    }\n  ]\n}"
            }
          },
          "metadata": {}
        }
      ],
      "source": [
        "# третий датафрейм\n",
        "df_first_glance(df_events)"
      ]
    },
    {
      "cell_type": "code",
      "execution_count": 7,
      "metadata": {
        "id": "sNyToVM083pn",
        "outputId": "45e5a022-e69e-4f86-b88c-96273dc9238f",
        "colab": {
          "base_uri": "https://localhost:8080/",
          "height": 663
        }
      },
      "outputs": [
        {
          "output_type": "stream",
          "name": "stdout",
          "text": [
            "Пять рандомных строк:\n"
          ]
        },
        {
          "output_type": "display_data",
          "data": {
            "text/plain": [
              "                user_id group                  ab_test\n",
              "16084  07CA10B1D60661B5  B     interface_eu_test      \n",
              "4531   542DD6DB81108686  A     recommender_system_test\n",
              "7804   571B20781EF5D222  A     interface_eu_test      \n",
              "11770  350C593C343B5AE1  B     interface_eu_test      \n",
              "2966   8D9F0EC55F4BA526  A     recommender_system_test"
            ],
            "text/html": [
              "\n",
              "  <div id=\"df-965e3035-b5ff-4843-baa3-459361a2eb10\" class=\"colab-df-container\">\n",
              "    <div>\n",
              "<style scoped>\n",
              "    .dataframe tbody tr th:only-of-type {\n",
              "        vertical-align: middle;\n",
              "    }\n",
              "\n",
              "    .dataframe tbody tr th {\n",
              "        vertical-align: top;\n",
              "    }\n",
              "\n",
              "    .dataframe thead th {\n",
              "        text-align: right;\n",
              "    }\n",
              "</style>\n",
              "<table border=\"1\" class=\"dataframe\">\n",
              "  <thead>\n",
              "    <tr style=\"text-align: right;\">\n",
              "      <th></th>\n",
              "      <th>user_id</th>\n",
              "      <th>group</th>\n",
              "      <th>ab_test</th>\n",
              "    </tr>\n",
              "  </thead>\n",
              "  <tbody>\n",
              "    <tr>\n",
              "      <th>16084</th>\n",
              "      <td>07CA10B1D60661B5</td>\n",
              "      <td>B</td>\n",
              "      <td>interface_eu_test</td>\n",
              "    </tr>\n",
              "    <tr>\n",
              "      <th>4531</th>\n",
              "      <td>542DD6DB81108686</td>\n",
              "      <td>A</td>\n",
              "      <td>recommender_system_test</td>\n",
              "    </tr>\n",
              "    <tr>\n",
              "      <th>7804</th>\n",
              "      <td>571B20781EF5D222</td>\n",
              "      <td>A</td>\n",
              "      <td>interface_eu_test</td>\n",
              "    </tr>\n",
              "    <tr>\n",
              "      <th>11770</th>\n",
              "      <td>350C593C343B5AE1</td>\n",
              "      <td>B</td>\n",
              "      <td>interface_eu_test</td>\n",
              "    </tr>\n",
              "    <tr>\n",
              "      <th>2966</th>\n",
              "      <td>8D9F0EC55F4BA526</td>\n",
              "      <td>A</td>\n",
              "      <td>recommender_system_test</td>\n",
              "    </tr>\n",
              "  </tbody>\n",
              "</table>\n",
              "</div>\n",
              "    <div class=\"colab-df-buttons\">\n",
              "\n",
              "  <div class=\"colab-df-container\">\n",
              "    <button class=\"colab-df-convert\" onclick=\"convertToInteractive('df-965e3035-b5ff-4843-baa3-459361a2eb10')\"\n",
              "            title=\"Convert this dataframe to an interactive table.\"\n",
              "            style=\"display:none;\">\n",
              "\n",
              "  <svg xmlns=\"http://www.w3.org/2000/svg\" height=\"24px\" viewBox=\"0 -960 960 960\">\n",
              "    <path d=\"M120-120v-720h720v720H120Zm60-500h600v-160H180v160Zm220 220h160v-160H400v160Zm0 220h160v-160H400v160ZM180-400h160v-160H180v160Zm440 0h160v-160H620v160ZM180-180h160v-160H180v160Zm440 0h160v-160H620v160Z\"/>\n",
              "  </svg>\n",
              "    </button>\n",
              "\n",
              "  <style>\n",
              "    .colab-df-container {\n",
              "      display:flex;\n",
              "      gap: 12px;\n",
              "    }\n",
              "\n",
              "    .colab-df-convert {\n",
              "      background-color: #E8F0FE;\n",
              "      border: none;\n",
              "      border-radius: 50%;\n",
              "      cursor: pointer;\n",
              "      display: none;\n",
              "      fill: #1967D2;\n",
              "      height: 32px;\n",
              "      padding: 0 0 0 0;\n",
              "      width: 32px;\n",
              "    }\n",
              "\n",
              "    .colab-df-convert:hover {\n",
              "      background-color: #E2EBFA;\n",
              "      box-shadow: 0px 1px 2px rgba(60, 64, 67, 0.3), 0px 1px 3px 1px rgba(60, 64, 67, 0.15);\n",
              "      fill: #174EA6;\n",
              "    }\n",
              "\n",
              "    .colab-df-buttons div {\n",
              "      margin-bottom: 4px;\n",
              "    }\n",
              "\n",
              "    [theme=dark] .colab-df-convert {\n",
              "      background-color: #3B4455;\n",
              "      fill: #D2E3FC;\n",
              "    }\n",
              "\n",
              "    [theme=dark] .colab-df-convert:hover {\n",
              "      background-color: #434B5C;\n",
              "      box-shadow: 0px 1px 3px 1px rgba(0, 0, 0, 0.15);\n",
              "      filter: drop-shadow(0px 1px 2px rgba(0, 0, 0, 0.3));\n",
              "      fill: #FFFFFF;\n",
              "    }\n",
              "  </style>\n",
              "\n",
              "    <script>\n",
              "      const buttonEl =\n",
              "        document.querySelector('#df-965e3035-b5ff-4843-baa3-459361a2eb10 button.colab-df-convert');\n",
              "      buttonEl.style.display =\n",
              "        google.colab.kernel.accessAllowed ? 'block' : 'none';\n",
              "\n",
              "      async function convertToInteractive(key) {\n",
              "        const element = document.querySelector('#df-965e3035-b5ff-4843-baa3-459361a2eb10');\n",
              "        const dataTable =\n",
              "          await google.colab.kernel.invokeFunction('convertToInteractive',\n",
              "                                                    [key], {});\n",
              "        if (!dataTable) return;\n",
              "\n",
              "        const docLinkHtml = 'Like what you see? Visit the ' +\n",
              "          '<a target=\"_blank\" href=https://colab.research.google.com/notebooks/data_table.ipynb>data table notebook</a>'\n",
              "          + ' to learn more about interactive tables.';\n",
              "        element.innerHTML = '';\n",
              "        dataTable['output_type'] = 'display_data';\n",
              "        await google.colab.output.renderOutput(dataTable, element);\n",
              "        const docLink = document.createElement('div');\n",
              "        docLink.innerHTML = docLinkHtml;\n",
              "        element.appendChild(docLink);\n",
              "      }\n",
              "    </script>\n",
              "  </div>\n",
              "\n",
              "\n",
              "<div id=\"df-21b7667d-9f21-46a0-b839-01441ffa916d\">\n",
              "  <button class=\"colab-df-quickchart\" onclick=\"quickchart('df-21b7667d-9f21-46a0-b839-01441ffa916d')\"\n",
              "            title=\"Suggest charts\"\n",
              "            style=\"display:none;\">\n",
              "\n",
              "<svg xmlns=\"http://www.w3.org/2000/svg\" height=\"24px\"viewBox=\"0 0 24 24\"\n",
              "     width=\"24px\">\n",
              "    <g>\n",
              "        <path d=\"M19 3H5c-1.1 0-2 .9-2 2v14c0 1.1.9 2 2 2h14c1.1 0 2-.9 2-2V5c0-1.1-.9-2-2-2zM9 17H7v-7h2v7zm4 0h-2V7h2v10zm4 0h-2v-4h2v4z\"/>\n",
              "    </g>\n",
              "</svg>\n",
              "  </button>\n",
              "\n",
              "<style>\n",
              "  .colab-df-quickchart {\n",
              "      --bg-color: #E8F0FE;\n",
              "      --fill-color: #1967D2;\n",
              "      --hover-bg-color: #E2EBFA;\n",
              "      --hover-fill-color: #174EA6;\n",
              "      --disabled-fill-color: #AAA;\n",
              "      --disabled-bg-color: #DDD;\n",
              "  }\n",
              "\n",
              "  [theme=dark] .colab-df-quickchart {\n",
              "      --bg-color: #3B4455;\n",
              "      --fill-color: #D2E3FC;\n",
              "      --hover-bg-color: #434B5C;\n",
              "      --hover-fill-color: #FFFFFF;\n",
              "      --disabled-bg-color: #3B4455;\n",
              "      --disabled-fill-color: #666;\n",
              "  }\n",
              "\n",
              "  .colab-df-quickchart {\n",
              "    background-color: var(--bg-color);\n",
              "    border: none;\n",
              "    border-radius: 50%;\n",
              "    cursor: pointer;\n",
              "    display: none;\n",
              "    fill: var(--fill-color);\n",
              "    height: 32px;\n",
              "    padding: 0;\n",
              "    width: 32px;\n",
              "  }\n",
              "\n",
              "  .colab-df-quickchart:hover {\n",
              "    background-color: var(--hover-bg-color);\n",
              "    box-shadow: 0 1px 2px rgba(60, 64, 67, 0.3), 0 1px 3px 1px rgba(60, 64, 67, 0.15);\n",
              "    fill: var(--button-hover-fill-color);\n",
              "  }\n",
              "\n",
              "  .colab-df-quickchart-complete:disabled,\n",
              "  .colab-df-quickchart-complete:disabled:hover {\n",
              "    background-color: var(--disabled-bg-color);\n",
              "    fill: var(--disabled-fill-color);\n",
              "    box-shadow: none;\n",
              "  }\n",
              "\n",
              "  .colab-df-spinner {\n",
              "    border: 2px solid var(--fill-color);\n",
              "    border-color: transparent;\n",
              "    border-bottom-color: var(--fill-color);\n",
              "    animation:\n",
              "      spin 1s steps(1) infinite;\n",
              "  }\n",
              "\n",
              "  @keyframes spin {\n",
              "    0% {\n",
              "      border-color: transparent;\n",
              "      border-bottom-color: var(--fill-color);\n",
              "      border-left-color: var(--fill-color);\n",
              "    }\n",
              "    20% {\n",
              "      border-color: transparent;\n",
              "      border-left-color: var(--fill-color);\n",
              "      border-top-color: var(--fill-color);\n",
              "    }\n",
              "    30% {\n",
              "      border-color: transparent;\n",
              "      border-left-color: var(--fill-color);\n",
              "      border-top-color: var(--fill-color);\n",
              "      border-right-color: var(--fill-color);\n",
              "    }\n",
              "    40% {\n",
              "      border-color: transparent;\n",
              "      border-right-color: var(--fill-color);\n",
              "      border-top-color: var(--fill-color);\n",
              "    }\n",
              "    60% {\n",
              "      border-color: transparent;\n",
              "      border-right-color: var(--fill-color);\n",
              "    }\n",
              "    80% {\n",
              "      border-color: transparent;\n",
              "      border-right-color: var(--fill-color);\n",
              "      border-bottom-color: var(--fill-color);\n",
              "    }\n",
              "    90% {\n",
              "      border-color: transparent;\n",
              "      border-bottom-color: var(--fill-color);\n",
              "    }\n",
              "  }\n",
              "</style>\n",
              "\n",
              "  <script>\n",
              "    async function quickchart(key) {\n",
              "      const quickchartButtonEl =\n",
              "        document.querySelector('#' + key + ' button');\n",
              "      quickchartButtonEl.disabled = true;  // To prevent multiple clicks.\n",
              "      quickchartButtonEl.classList.add('colab-df-spinner');\n",
              "      try {\n",
              "        const charts = await google.colab.kernel.invokeFunction(\n",
              "            'suggestCharts', [key], {});\n",
              "      } catch (error) {\n",
              "        console.error('Error during call to suggestCharts:', error);\n",
              "      }\n",
              "      quickchartButtonEl.classList.remove('colab-df-spinner');\n",
              "      quickchartButtonEl.classList.add('colab-df-quickchart-complete');\n",
              "    }\n",
              "    (() => {\n",
              "      let quickchartButtonEl =\n",
              "        document.querySelector('#df-21b7667d-9f21-46a0-b839-01441ffa916d button');\n",
              "      quickchartButtonEl.style.display =\n",
              "        google.colab.kernel.accessAllowed ? 'block' : 'none';\n",
              "    })();\n",
              "  </script>\n",
              "</div>\n",
              "    </div>\n",
              "  </div>\n"
            ],
            "application/vnd.google.colaboratory.intrinsic+json": {
              "type": "dataframe",
              "summary": "{\n  \"name\": \"df_first_glance(df_participants)\",\n  \"rows\": 5,\n  \"fields\": [\n    {\n      \"column\": \"user_id\",\n      \"properties\": {\n        \"dtype\": \"string\",\n        \"num_unique_values\": 5,\n        \"samples\": [\n          \"542DD6DB81108686\",\n          \"8D9F0EC55F4BA526\",\n          \"571B20781EF5D222\"\n        ],\n        \"semantic_type\": \"\",\n        \"description\": \"\"\n      }\n    },\n    {\n      \"column\": \"group\",\n      \"properties\": {\n        \"dtype\": \"category\",\n        \"num_unique_values\": 2,\n        \"samples\": [\n          \"A\",\n          \"B\"\n        ],\n        \"semantic_type\": \"\",\n        \"description\": \"\"\n      }\n    },\n    {\n      \"column\": \"ab_test\",\n      \"properties\": {\n        \"dtype\": \"category\",\n        \"num_unique_values\": 2,\n        \"samples\": [\n          \"recommender_system_test\",\n          \"interface_eu_test\"\n        ],\n        \"semantic_type\": \"\",\n        \"description\": \"\"\n      }\n    }\n  ]\n}"
            }
          },
          "metadata": {}
        },
        {
          "output_type": "stream",
          "name": "stdout",
          "text": [
            "\n",
            "\n",
            "Информация по датафрейму:\n",
            "<class 'pandas.core.frame.DataFrame'>\n",
            "RangeIndex: 18268 entries, 0 to 18267\n",
            "Data columns (total 3 columns):\n",
            " #   Column   Non-Null Count  Dtype \n",
            "---  ------   --------------  ----- \n",
            " 0   user_id  18268 non-null  object\n",
            " 1   group    18268 non-null  object\n",
            " 2   ab_test  18268 non-null  object\n",
            "dtypes: object(3)\n",
            "memory usage: 428.3+ KB\n"
          ]
        },
        {
          "output_type": "display_data",
          "data": {
            "text/plain": [
              "None"
            ]
          },
          "metadata": {}
        },
        {
          "output_type": "display_data",
          "data": {
            "text/plain": [
              "'Колличество очевидных дубликатов равно: 0'"
            ],
            "application/vnd.google.colaboratory.intrinsic+json": {
              "type": "string"
            }
          },
          "metadata": {}
        },
        {
          "output_type": "stream",
          "name": "stdout",
          "text": [
            "\n",
            "\n"
          ]
        },
        {
          "output_type": "display_data",
          "data": {
            "text/plain": [
              "'Таблица с пропусками:'"
            ],
            "application/vnd.google.colaboratory.intrinsic+json": {
              "type": "string"
            }
          },
          "metadata": {}
        },
        {
          "output_type": "display_data",
          "data": {
            "text/plain": [
              "         Количество пропусков  Процент пропусков Тип данных\n",
              "user_id  0                    0.00                object   \n",
              "group    0                    0.00                object   \n",
              "ab_test  0                    0.00                object   "
            ],
            "text/html": [
              "\n",
              "  <div id=\"df-f902854f-c840-4273-b62f-8bba68fc5caa\" class=\"colab-df-container\">\n",
              "    <div>\n",
              "<style scoped>\n",
              "    .dataframe tbody tr th:only-of-type {\n",
              "        vertical-align: middle;\n",
              "    }\n",
              "\n",
              "    .dataframe tbody tr th {\n",
              "        vertical-align: top;\n",
              "    }\n",
              "\n",
              "    .dataframe thead th {\n",
              "        text-align: right;\n",
              "    }\n",
              "</style>\n",
              "<table border=\"1\" class=\"dataframe\">\n",
              "  <thead>\n",
              "    <tr style=\"text-align: right;\">\n",
              "      <th></th>\n",
              "      <th>Количество пропусков</th>\n",
              "      <th>Процент пропусков</th>\n",
              "      <th>Тип данных</th>\n",
              "    </tr>\n",
              "  </thead>\n",
              "  <tbody>\n",
              "    <tr>\n",
              "      <th>user_id</th>\n",
              "      <td>0</td>\n",
              "      <td>0.00</td>\n",
              "      <td>object</td>\n",
              "    </tr>\n",
              "    <tr>\n",
              "      <th>group</th>\n",
              "      <td>0</td>\n",
              "      <td>0.00</td>\n",
              "      <td>object</td>\n",
              "    </tr>\n",
              "    <tr>\n",
              "      <th>ab_test</th>\n",
              "      <td>0</td>\n",
              "      <td>0.00</td>\n",
              "      <td>object</td>\n",
              "    </tr>\n",
              "  </tbody>\n",
              "</table>\n",
              "</div>\n",
              "    <div class=\"colab-df-buttons\">\n",
              "\n",
              "  <div class=\"colab-df-container\">\n",
              "    <button class=\"colab-df-convert\" onclick=\"convertToInteractive('df-f902854f-c840-4273-b62f-8bba68fc5caa')\"\n",
              "            title=\"Convert this dataframe to an interactive table.\"\n",
              "            style=\"display:none;\">\n",
              "\n",
              "  <svg xmlns=\"http://www.w3.org/2000/svg\" height=\"24px\" viewBox=\"0 -960 960 960\">\n",
              "    <path d=\"M120-120v-720h720v720H120Zm60-500h600v-160H180v160Zm220 220h160v-160H400v160Zm0 220h160v-160H400v160ZM180-400h160v-160H180v160Zm440 0h160v-160H620v160ZM180-180h160v-160H180v160Zm440 0h160v-160H620v160Z\"/>\n",
              "  </svg>\n",
              "    </button>\n",
              "\n",
              "  <style>\n",
              "    .colab-df-container {\n",
              "      display:flex;\n",
              "      gap: 12px;\n",
              "    }\n",
              "\n",
              "    .colab-df-convert {\n",
              "      background-color: #E8F0FE;\n",
              "      border: none;\n",
              "      border-radius: 50%;\n",
              "      cursor: pointer;\n",
              "      display: none;\n",
              "      fill: #1967D2;\n",
              "      height: 32px;\n",
              "      padding: 0 0 0 0;\n",
              "      width: 32px;\n",
              "    }\n",
              "\n",
              "    .colab-df-convert:hover {\n",
              "      background-color: #E2EBFA;\n",
              "      box-shadow: 0px 1px 2px rgba(60, 64, 67, 0.3), 0px 1px 3px 1px rgba(60, 64, 67, 0.15);\n",
              "      fill: #174EA6;\n",
              "    }\n",
              "\n",
              "    .colab-df-buttons div {\n",
              "      margin-bottom: 4px;\n",
              "    }\n",
              "\n",
              "    [theme=dark] .colab-df-convert {\n",
              "      background-color: #3B4455;\n",
              "      fill: #D2E3FC;\n",
              "    }\n",
              "\n",
              "    [theme=dark] .colab-df-convert:hover {\n",
              "      background-color: #434B5C;\n",
              "      box-shadow: 0px 1px 3px 1px rgba(0, 0, 0, 0.15);\n",
              "      filter: drop-shadow(0px 1px 2px rgba(0, 0, 0, 0.3));\n",
              "      fill: #FFFFFF;\n",
              "    }\n",
              "  </style>\n",
              "\n",
              "    <script>\n",
              "      const buttonEl =\n",
              "        document.querySelector('#df-f902854f-c840-4273-b62f-8bba68fc5caa button.colab-df-convert');\n",
              "      buttonEl.style.display =\n",
              "        google.colab.kernel.accessAllowed ? 'block' : 'none';\n",
              "\n",
              "      async function convertToInteractive(key) {\n",
              "        const element = document.querySelector('#df-f902854f-c840-4273-b62f-8bba68fc5caa');\n",
              "        const dataTable =\n",
              "          await google.colab.kernel.invokeFunction('convertToInteractive',\n",
              "                                                    [key], {});\n",
              "        if (!dataTable) return;\n",
              "\n",
              "        const docLinkHtml = 'Like what you see? Visit the ' +\n",
              "          '<a target=\"_blank\" href=https://colab.research.google.com/notebooks/data_table.ipynb>data table notebook</a>'\n",
              "          + ' to learn more about interactive tables.';\n",
              "        element.innerHTML = '';\n",
              "        dataTable['output_type'] = 'display_data';\n",
              "        await google.colab.output.renderOutput(dataTable, element);\n",
              "        const docLink = document.createElement('div');\n",
              "        docLink.innerHTML = docLinkHtml;\n",
              "        element.appendChild(docLink);\n",
              "      }\n",
              "    </script>\n",
              "  </div>\n",
              "\n",
              "\n",
              "<div id=\"df-ace4a997-914a-4e16-b8d1-822923449500\">\n",
              "  <button class=\"colab-df-quickchart\" onclick=\"quickchart('df-ace4a997-914a-4e16-b8d1-822923449500')\"\n",
              "            title=\"Suggest charts\"\n",
              "            style=\"display:none;\">\n",
              "\n",
              "<svg xmlns=\"http://www.w3.org/2000/svg\" height=\"24px\"viewBox=\"0 0 24 24\"\n",
              "     width=\"24px\">\n",
              "    <g>\n",
              "        <path d=\"M19 3H5c-1.1 0-2 .9-2 2v14c0 1.1.9 2 2 2h14c1.1 0 2-.9 2-2V5c0-1.1-.9-2-2-2zM9 17H7v-7h2v7zm4 0h-2V7h2v10zm4 0h-2v-4h2v4z\"/>\n",
              "    </g>\n",
              "</svg>\n",
              "  </button>\n",
              "\n",
              "<style>\n",
              "  .colab-df-quickchart {\n",
              "      --bg-color: #E8F0FE;\n",
              "      --fill-color: #1967D2;\n",
              "      --hover-bg-color: #E2EBFA;\n",
              "      --hover-fill-color: #174EA6;\n",
              "      --disabled-fill-color: #AAA;\n",
              "      --disabled-bg-color: #DDD;\n",
              "  }\n",
              "\n",
              "  [theme=dark] .colab-df-quickchart {\n",
              "      --bg-color: #3B4455;\n",
              "      --fill-color: #D2E3FC;\n",
              "      --hover-bg-color: #434B5C;\n",
              "      --hover-fill-color: #FFFFFF;\n",
              "      --disabled-bg-color: #3B4455;\n",
              "      --disabled-fill-color: #666;\n",
              "  }\n",
              "\n",
              "  .colab-df-quickchart {\n",
              "    background-color: var(--bg-color);\n",
              "    border: none;\n",
              "    border-radius: 50%;\n",
              "    cursor: pointer;\n",
              "    display: none;\n",
              "    fill: var(--fill-color);\n",
              "    height: 32px;\n",
              "    padding: 0;\n",
              "    width: 32px;\n",
              "  }\n",
              "\n",
              "  .colab-df-quickchart:hover {\n",
              "    background-color: var(--hover-bg-color);\n",
              "    box-shadow: 0 1px 2px rgba(60, 64, 67, 0.3), 0 1px 3px 1px rgba(60, 64, 67, 0.15);\n",
              "    fill: var(--button-hover-fill-color);\n",
              "  }\n",
              "\n",
              "  .colab-df-quickchart-complete:disabled,\n",
              "  .colab-df-quickchart-complete:disabled:hover {\n",
              "    background-color: var(--disabled-bg-color);\n",
              "    fill: var(--disabled-fill-color);\n",
              "    box-shadow: none;\n",
              "  }\n",
              "\n",
              "  .colab-df-spinner {\n",
              "    border: 2px solid var(--fill-color);\n",
              "    border-color: transparent;\n",
              "    border-bottom-color: var(--fill-color);\n",
              "    animation:\n",
              "      spin 1s steps(1) infinite;\n",
              "  }\n",
              "\n",
              "  @keyframes spin {\n",
              "    0% {\n",
              "      border-color: transparent;\n",
              "      border-bottom-color: var(--fill-color);\n",
              "      border-left-color: var(--fill-color);\n",
              "    }\n",
              "    20% {\n",
              "      border-color: transparent;\n",
              "      border-left-color: var(--fill-color);\n",
              "      border-top-color: var(--fill-color);\n",
              "    }\n",
              "    30% {\n",
              "      border-color: transparent;\n",
              "      border-left-color: var(--fill-color);\n",
              "      border-top-color: var(--fill-color);\n",
              "      border-right-color: var(--fill-color);\n",
              "    }\n",
              "    40% {\n",
              "      border-color: transparent;\n",
              "      border-right-color: var(--fill-color);\n",
              "      border-top-color: var(--fill-color);\n",
              "    }\n",
              "    60% {\n",
              "      border-color: transparent;\n",
              "      border-right-color: var(--fill-color);\n",
              "    }\n",
              "    80% {\n",
              "      border-color: transparent;\n",
              "      border-right-color: var(--fill-color);\n",
              "      border-bottom-color: var(--fill-color);\n",
              "    }\n",
              "    90% {\n",
              "      border-color: transparent;\n",
              "      border-bottom-color: var(--fill-color);\n",
              "    }\n",
              "  }\n",
              "</style>\n",
              "\n",
              "  <script>\n",
              "    async function quickchart(key) {\n",
              "      const quickchartButtonEl =\n",
              "        document.querySelector('#' + key + ' button');\n",
              "      quickchartButtonEl.disabled = true;  // To prevent multiple clicks.\n",
              "      quickchartButtonEl.classList.add('colab-df-spinner');\n",
              "      try {\n",
              "        const charts = await google.colab.kernel.invokeFunction(\n",
              "            'suggestCharts', [key], {});\n",
              "      } catch (error) {\n",
              "        console.error('Error during call to suggestCharts:', error);\n",
              "      }\n",
              "      quickchartButtonEl.classList.remove('colab-df-spinner');\n",
              "      quickchartButtonEl.classList.add('colab-df-quickchart-complete');\n",
              "    }\n",
              "    (() => {\n",
              "      let quickchartButtonEl =\n",
              "        document.querySelector('#df-ace4a997-914a-4e16-b8d1-822923449500 button');\n",
              "      quickchartButtonEl.style.display =\n",
              "        google.colab.kernel.accessAllowed ? 'block' : 'none';\n",
              "    })();\n",
              "  </script>\n",
              "</div>\n",
              "    </div>\n",
              "  </div>\n"
            ],
            "application/vnd.google.colaboratory.intrinsic+json": {
              "type": "dataframe",
              "summary": "{\n  \"name\": \"df_first_glance(df_participants)\",\n  \"rows\": 3,\n  \"fields\": [\n    {\n      \"column\": \"\\u041a\\u043e\\u043b\\u0438\\u0447\\u0435\\u0441\\u0442\\u0432\\u043e \\u043f\\u0440\\u043e\\u043f\\u0443\\u0441\\u043a\\u043e\\u0432\",\n      \"properties\": {\n        \"dtype\": \"number\",\n        \"std\": 0,\n        \"min\": 0,\n        \"max\": 0,\n        \"num_unique_values\": 1,\n        \"samples\": [\n          0\n        ],\n        \"semantic_type\": \"\",\n        \"description\": \"\"\n      }\n    },\n    {\n      \"column\": \"\\u041f\\u0440\\u043e\\u0446\\u0435\\u043d\\u0442 \\u043f\\u0440\\u043e\\u043f\\u0443\\u0441\\u043a\\u043e\\u0432\",\n      \"properties\": {\n        \"dtype\": \"number\",\n        \"std\": 0.0,\n        \"min\": 0.0,\n        \"max\": 0.0,\n        \"num_unique_values\": 1,\n        \"samples\": [\n          0.0\n        ],\n        \"semantic_type\": \"\",\n        \"description\": \"\"\n      }\n    },\n    {\n      \"column\": \"\\u0422\\u0438\\u043f \\u0434\\u0430\\u043d\\u043d\\u044b\\u0445\",\n      \"properties\": {\n        \"dtype\": \"category\",\n        \"num_unique_values\": 1,\n        \"samples\": [\n          \"object\"\n        ],\n        \"semantic_type\": \"\",\n        \"description\": \"\"\n      }\n    }\n  ]\n}"
            }
          },
          "metadata": {}
        }
      ],
      "source": [
        "# четвертый датафрейм\n",
        "\n",
        "df_first_glance(df_participants)"
      ]
    },
    {
      "cell_type": "markdown",
      "metadata": {
        "id": "a9sSn5n283pn"
      },
      "source": [
        "### Резюмируем\n",
        "* Во всех датафреймах нужно поменять тип данных в столбцах, отвечающих за время\n",
        "* Ни в одном датафрейме нет явных дубликатов\n",
        "* В датафрейме `df_events` большая доля пропусков - `85.75%`"
      ]
    },
    {
      "cell_type": "markdown",
      "metadata": {
        "id": "8WAgckZY83pn"
      },
      "source": [
        "## Шаг 2. Предобработка данных"
      ]
    },
    {
      "cell_type": "markdown",
      "metadata": {
        "id": "pF8rOP1A83pn"
      },
      "source": [
        "### 2.1 Преобразование типов данных"
      ]
    },
    {
      "cell_type": "code",
      "execution_count": 8,
      "metadata": {
        "id": "woeH4sJN83po"
      },
      "outputs": [],
      "source": [
        "# поменяем тип данных, отвечающих за время\n",
        "df_events['event_dt'] = pd.to_datetime(df_events['event_dt'], format='%Y-%m-%d %H:%M:%S')\n",
        "df_new_users['first_date'] = pd.to_datetime(df_new_users['first_date'], format='%Y-%m-%d')\n",
        "df_marketing_events['start_dt'] = pd.to_datetime(df_marketing_events['start_dt'], format='%Y-%m-%d')\n",
        "df_marketing_events['finish_dt'] = pd.to_datetime(df_marketing_events['finish_dt'], format='%Y-%m-%d')\n"
      ]
    },
    {
      "cell_type": "markdown",
      "metadata": {
        "id": "cVorBVfT83po"
      },
      "source": [
        "### 2.2 Изучение пропусков в датафрейме `final_ab_events`"
      ]
    },
    {
      "cell_type": "code",
      "execution_count": 9,
      "metadata": {
        "id": "wq4fslcP83po",
        "outputId": "45631969-0d0f-43ea-d640-f546e7d0097c",
        "colab": {
          "base_uri": "https://localhost:8080/"
        }
      },
      "outputs": [
        {
          "output_type": "execute_result",
          "data": {
            "text/plain": [
              "purchase    62740\n",
              "Name: event_name, dtype: int64"
            ]
          },
          "metadata": {},
          "execution_count": 9
        }
      ],
      "source": [
        "#согласно Тех Заданию, в столбце `details` хранятся дополнительыне сведения о событиях, например, покупки, посмотрим поближе на события\n",
        "#в которых в `details` нет пропусков\n",
        "df_events[df_events['details'].isna() == False]['event_name'].value_counts()\n"
      ]
    },
    {
      "cell_type": "code",
      "execution_count": 10,
      "metadata": {
        "id": "HcOjlITN83po",
        "outputId": "22b915f0-1fca-4a07-ed66-77625e44fd5b",
        "colab": {
          "base_uri": "https://localhost:8080/"
        }
      },
      "outputs": [
        {
          "output_type": "execute_result",
          "data": {
            "text/plain": [
              "login           189552\n",
              "product_page    125563\n",
              "product_cart    62462 \n",
              "Name: event_name, dtype: int64"
            ]
          },
          "metadata": {},
          "execution_count": 10
        }
      ],
      "source": [
        "# а теперь наоборот\n",
        "df_events[df_events['details'].isna() == True]['event_name'].value_counts()"
      ]
    },
    {
      "cell_type": "markdown",
      "metadata": {
        "id": "cN57BOuf83po"
      },
      "source": [
        "### Вывод\n",
        "Теперь можно сделать вывод, что пропуски `df_events['details']` не критичны для дальнейшего анализа, все события, где есть информации в столбце `details` отвечают за стоимость покупки, такого же события с пропуском в датафрейме нет"
      ]
    },
    {
      "cell_type": "markdown",
      "metadata": {
        "id": "nb8d1mEU83po"
      },
      "source": [
        "## Шаг 3. Оценика корректности проведения теста"
      ]
    },
    {
      "cell_type": "markdown",
      "metadata": {
        "id": "ZstQumyc83po"
      },
      "source": [
        "### 3.1 Проверка на тех задание\n",
        "#### 3.1.1 Проверка дат\n",
        "Согласно ТЗ даты запуска теста:\n",
        "* Дата запуска: `2020-12-07`;\n",
        "* Дата остановки набора новых пользователей: `2020-12-21`;\n",
        "* Дата остановки: `2021-01-04`;\n",
        "\n",
        "Поэтому\n",
        "* проверим, что в датафрейме(`df_new_users`) новых пользователей лежат пользователи, с даты запуска: `2020-12-07` по дату остановки набора новых пользователей: `2020-12-21`\n",
        "* проверим, что в датафрейме(`df_events`) событий лежат данные с даты запуска теста: `2020-12-07` по дату остановки теста: `2021-01-04`\n",
        "* посмотрим, не проводились ли какие-то маркетинговые события параллельно с нашим\n",
        "\n"
      ]
    },
    {
      "cell_type": "code",
      "execution_count": 11,
      "metadata": {
        "id": "WE2mNTfL83pq",
        "outputId": "7f79d86a-0f88-4f15-e769-f80e559164bf",
        "colab": {
          "base_uri": "https://localhost:8080/"
        }
      },
      "outputs": [
        {
          "output_type": "stream",
          "name": "stdout",
          "text": [
            "Самая ранняя дата в df_new_users: 2020-12-07 00:00:00\n",
            "Самая поздняя дата в df_new_users: 2020-12-23 00:00:00\n"
          ]
        }
      ],
      "source": [
        "print('Самая ранняя дата в df_new_users:', df_new_users['first_date'].min())\n",
        "print('Самая поздняя дата в df_new_users:', df_new_users['first_date'].max())"
      ]
    },
    {
      "cell_type": "code",
      "execution_count": 12,
      "metadata": {
        "id": "FOfOsCmU83pq",
        "outputId": "b69626b8-7bfa-4694-9970-e611b091052a",
        "colab": {
          "base_uri": "https://localhost:8080/"
        }
      },
      "outputs": [
        {
          "output_type": "stream",
          "name": "stdout",
          "text": [
            "Размер датасета до изменений: 61733\n",
            "Размер датасета после изменений: 56470\n"
          ]
        }
      ],
      "source": [
        "#так как в датафрейме есть строки, выходящие за сроки набора новых пользователей, то обрежем датафрейм\n",
        "print('Размер датасета до изменений:', df_new_users.shape[0])\n",
        "df_new_users = df_new_users[df_new_users['first_date'] <= '2020-12-21']\n",
        "print('Размер датасета после изменений:', df_new_users.shape[0])"
      ]
    },
    {
      "cell_type": "code",
      "execution_count": 13,
      "metadata": {
        "id": "g5D0-lCW83pq",
        "outputId": "56a87d88-132b-4b99-b0f1-3d32f2d4a932",
        "colab": {
          "base_uri": "https://localhost:8080/"
        }
      },
      "outputs": [
        {
          "output_type": "stream",
          "name": "stdout",
          "text": [
            "Самая ранняя дата в df_events: 2020-12-07 00:00:33\n",
            "Самая поздняя дата в df_events: 2020-12-30 23:36:33\n"
          ]
        }
      ],
      "source": [
        "#Сделаем тоже самое для датафрейма событий\n",
        "print('Самая ранняя дата в df_events:', df_events['event_dt'].min())\n",
        "print('Самая поздняя дата в df_events:', df_events['event_dt'].max())"
      ]
    },
    {
      "cell_type": "markdown",
      "metadata": {
        "id": "h0XHXgp083pr"
      },
      "source": [
        "##### Вывод\n",
        "Данные по датафрейму новых пользователей привели к требованиям ТЗ, данные по датафрейму событий привести к данным ТЗ нет возможности, так как данные не полные."
      ]
    },
    {
      "cell_type": "markdown",
      "metadata": {
        "id": "oRYK59ww83pr"
      },
      "source": [
        "#### 3.1.2 Проверка на маркетинговые события"
      ]
    },
    {
      "cell_type": "code",
      "execution_count": 14,
      "metadata": {
        "id": "G2FKhqJa83pr",
        "outputId": "9e967a58-b68b-4f46-865e-c5338fcdfe23",
        "colab": {
          "base_uri": "https://localhost:8080/",
          "height": 112
        }
      },
      "outputs": [
        {
          "output_type": "execute_result",
          "data": {
            "text/plain": [
              "                         name        regions   start_dt  finish_dt\n",
              "0   Christmas&New Year Promo   EU, N.America 2020-12-25 2021-01-03\n",
              "10  CIS New Year Gift Lottery  CIS           2020-12-30 2021-01-07"
            ],
            "text/html": [
              "\n",
              "  <div id=\"df-684f01a7-21e9-43b7-aca5-77c39af35d91\" class=\"colab-df-container\">\n",
              "    <div>\n",
              "<style scoped>\n",
              "    .dataframe tbody tr th:only-of-type {\n",
              "        vertical-align: middle;\n",
              "    }\n",
              "\n",
              "    .dataframe tbody tr th {\n",
              "        vertical-align: top;\n",
              "    }\n",
              "\n",
              "    .dataframe thead th {\n",
              "        text-align: right;\n",
              "    }\n",
              "</style>\n",
              "<table border=\"1\" class=\"dataframe\">\n",
              "  <thead>\n",
              "    <tr style=\"text-align: right;\">\n",
              "      <th></th>\n",
              "      <th>name</th>\n",
              "      <th>regions</th>\n",
              "      <th>start_dt</th>\n",
              "      <th>finish_dt</th>\n",
              "    </tr>\n",
              "  </thead>\n",
              "  <tbody>\n",
              "    <tr>\n",
              "      <th>0</th>\n",
              "      <td>Christmas&amp;New Year Promo</td>\n",
              "      <td>EU, N.America</td>\n",
              "      <td>2020-12-25</td>\n",
              "      <td>2021-01-03</td>\n",
              "    </tr>\n",
              "    <tr>\n",
              "      <th>10</th>\n",
              "      <td>CIS New Year Gift Lottery</td>\n",
              "      <td>CIS</td>\n",
              "      <td>2020-12-30</td>\n",
              "      <td>2021-01-07</td>\n",
              "    </tr>\n",
              "  </tbody>\n",
              "</table>\n",
              "</div>\n",
              "    <div class=\"colab-df-buttons\">\n",
              "\n",
              "  <div class=\"colab-df-container\">\n",
              "    <button class=\"colab-df-convert\" onclick=\"convertToInteractive('df-684f01a7-21e9-43b7-aca5-77c39af35d91')\"\n",
              "            title=\"Convert this dataframe to an interactive table.\"\n",
              "            style=\"display:none;\">\n",
              "\n",
              "  <svg xmlns=\"http://www.w3.org/2000/svg\" height=\"24px\" viewBox=\"0 -960 960 960\">\n",
              "    <path d=\"M120-120v-720h720v720H120Zm60-500h600v-160H180v160Zm220 220h160v-160H400v160Zm0 220h160v-160H400v160ZM180-400h160v-160H180v160Zm440 0h160v-160H620v160ZM180-180h160v-160H180v160Zm440 0h160v-160H620v160Z\"/>\n",
              "  </svg>\n",
              "    </button>\n",
              "\n",
              "  <style>\n",
              "    .colab-df-container {\n",
              "      display:flex;\n",
              "      gap: 12px;\n",
              "    }\n",
              "\n",
              "    .colab-df-convert {\n",
              "      background-color: #E8F0FE;\n",
              "      border: none;\n",
              "      border-radius: 50%;\n",
              "      cursor: pointer;\n",
              "      display: none;\n",
              "      fill: #1967D2;\n",
              "      height: 32px;\n",
              "      padding: 0 0 0 0;\n",
              "      width: 32px;\n",
              "    }\n",
              "\n",
              "    .colab-df-convert:hover {\n",
              "      background-color: #E2EBFA;\n",
              "      box-shadow: 0px 1px 2px rgba(60, 64, 67, 0.3), 0px 1px 3px 1px rgba(60, 64, 67, 0.15);\n",
              "      fill: #174EA6;\n",
              "    }\n",
              "\n",
              "    .colab-df-buttons div {\n",
              "      margin-bottom: 4px;\n",
              "    }\n",
              "\n",
              "    [theme=dark] .colab-df-convert {\n",
              "      background-color: #3B4455;\n",
              "      fill: #D2E3FC;\n",
              "    }\n",
              "\n",
              "    [theme=dark] .colab-df-convert:hover {\n",
              "      background-color: #434B5C;\n",
              "      box-shadow: 0px 1px 3px 1px rgba(0, 0, 0, 0.15);\n",
              "      filter: drop-shadow(0px 1px 2px rgba(0, 0, 0, 0.3));\n",
              "      fill: #FFFFFF;\n",
              "    }\n",
              "  </style>\n",
              "\n",
              "    <script>\n",
              "      const buttonEl =\n",
              "        document.querySelector('#df-684f01a7-21e9-43b7-aca5-77c39af35d91 button.colab-df-convert');\n",
              "      buttonEl.style.display =\n",
              "        google.colab.kernel.accessAllowed ? 'block' : 'none';\n",
              "\n",
              "      async function convertToInteractive(key) {\n",
              "        const element = document.querySelector('#df-684f01a7-21e9-43b7-aca5-77c39af35d91');\n",
              "        const dataTable =\n",
              "          await google.colab.kernel.invokeFunction('convertToInteractive',\n",
              "                                                    [key], {});\n",
              "        if (!dataTable) return;\n",
              "\n",
              "        const docLinkHtml = 'Like what you see? Visit the ' +\n",
              "          '<a target=\"_blank\" href=https://colab.research.google.com/notebooks/data_table.ipynb>data table notebook</a>'\n",
              "          + ' to learn more about interactive tables.';\n",
              "        element.innerHTML = '';\n",
              "        dataTable['output_type'] = 'display_data';\n",
              "        await google.colab.output.renderOutput(dataTable, element);\n",
              "        const docLink = document.createElement('div');\n",
              "        docLink.innerHTML = docLinkHtml;\n",
              "        element.appendChild(docLink);\n",
              "      }\n",
              "    </script>\n",
              "  </div>\n",
              "\n",
              "\n",
              "<div id=\"df-be54a05b-df99-4496-8d47-6ff279c1b9a4\">\n",
              "  <button class=\"colab-df-quickchart\" onclick=\"quickchart('df-be54a05b-df99-4496-8d47-6ff279c1b9a4')\"\n",
              "            title=\"Suggest charts\"\n",
              "            style=\"display:none;\">\n",
              "\n",
              "<svg xmlns=\"http://www.w3.org/2000/svg\" height=\"24px\"viewBox=\"0 0 24 24\"\n",
              "     width=\"24px\">\n",
              "    <g>\n",
              "        <path d=\"M19 3H5c-1.1 0-2 .9-2 2v14c0 1.1.9 2 2 2h14c1.1 0 2-.9 2-2V5c0-1.1-.9-2-2-2zM9 17H7v-7h2v7zm4 0h-2V7h2v10zm4 0h-2v-4h2v4z\"/>\n",
              "    </g>\n",
              "</svg>\n",
              "  </button>\n",
              "\n",
              "<style>\n",
              "  .colab-df-quickchart {\n",
              "      --bg-color: #E8F0FE;\n",
              "      --fill-color: #1967D2;\n",
              "      --hover-bg-color: #E2EBFA;\n",
              "      --hover-fill-color: #174EA6;\n",
              "      --disabled-fill-color: #AAA;\n",
              "      --disabled-bg-color: #DDD;\n",
              "  }\n",
              "\n",
              "  [theme=dark] .colab-df-quickchart {\n",
              "      --bg-color: #3B4455;\n",
              "      --fill-color: #D2E3FC;\n",
              "      --hover-bg-color: #434B5C;\n",
              "      --hover-fill-color: #FFFFFF;\n",
              "      --disabled-bg-color: #3B4455;\n",
              "      --disabled-fill-color: #666;\n",
              "  }\n",
              "\n",
              "  .colab-df-quickchart {\n",
              "    background-color: var(--bg-color);\n",
              "    border: none;\n",
              "    border-radius: 50%;\n",
              "    cursor: pointer;\n",
              "    display: none;\n",
              "    fill: var(--fill-color);\n",
              "    height: 32px;\n",
              "    padding: 0;\n",
              "    width: 32px;\n",
              "  }\n",
              "\n",
              "  .colab-df-quickchart:hover {\n",
              "    background-color: var(--hover-bg-color);\n",
              "    box-shadow: 0 1px 2px rgba(60, 64, 67, 0.3), 0 1px 3px 1px rgba(60, 64, 67, 0.15);\n",
              "    fill: var(--button-hover-fill-color);\n",
              "  }\n",
              "\n",
              "  .colab-df-quickchart-complete:disabled,\n",
              "  .colab-df-quickchart-complete:disabled:hover {\n",
              "    background-color: var(--disabled-bg-color);\n",
              "    fill: var(--disabled-fill-color);\n",
              "    box-shadow: none;\n",
              "  }\n",
              "\n",
              "  .colab-df-spinner {\n",
              "    border: 2px solid var(--fill-color);\n",
              "    border-color: transparent;\n",
              "    border-bottom-color: var(--fill-color);\n",
              "    animation:\n",
              "      spin 1s steps(1) infinite;\n",
              "  }\n",
              "\n",
              "  @keyframes spin {\n",
              "    0% {\n",
              "      border-color: transparent;\n",
              "      border-bottom-color: var(--fill-color);\n",
              "      border-left-color: var(--fill-color);\n",
              "    }\n",
              "    20% {\n",
              "      border-color: transparent;\n",
              "      border-left-color: var(--fill-color);\n",
              "      border-top-color: var(--fill-color);\n",
              "    }\n",
              "    30% {\n",
              "      border-color: transparent;\n",
              "      border-left-color: var(--fill-color);\n",
              "      border-top-color: var(--fill-color);\n",
              "      border-right-color: var(--fill-color);\n",
              "    }\n",
              "    40% {\n",
              "      border-color: transparent;\n",
              "      border-right-color: var(--fill-color);\n",
              "      border-top-color: var(--fill-color);\n",
              "    }\n",
              "    60% {\n",
              "      border-color: transparent;\n",
              "      border-right-color: var(--fill-color);\n",
              "    }\n",
              "    80% {\n",
              "      border-color: transparent;\n",
              "      border-right-color: var(--fill-color);\n",
              "      border-bottom-color: var(--fill-color);\n",
              "    }\n",
              "    90% {\n",
              "      border-color: transparent;\n",
              "      border-bottom-color: var(--fill-color);\n",
              "    }\n",
              "  }\n",
              "</style>\n",
              "\n",
              "  <script>\n",
              "    async function quickchart(key) {\n",
              "      const quickchartButtonEl =\n",
              "        document.querySelector('#' + key + ' button');\n",
              "      quickchartButtonEl.disabled = true;  // To prevent multiple clicks.\n",
              "      quickchartButtonEl.classList.add('colab-df-spinner');\n",
              "      try {\n",
              "        const charts = await google.colab.kernel.invokeFunction(\n",
              "            'suggestCharts', [key], {});\n",
              "      } catch (error) {\n",
              "        console.error('Error during call to suggestCharts:', error);\n",
              "      }\n",
              "      quickchartButtonEl.classList.remove('colab-df-spinner');\n",
              "      quickchartButtonEl.classList.add('colab-df-quickchart-complete');\n",
              "    }\n",
              "    (() => {\n",
              "      let quickchartButtonEl =\n",
              "        document.querySelector('#df-be54a05b-df99-4496-8d47-6ff279c1b9a4 button');\n",
              "      quickchartButtonEl.style.display =\n",
              "        google.colab.kernel.accessAllowed ? 'block' : 'none';\n",
              "    })();\n",
              "  </script>\n",
              "</div>\n",
              "    </div>\n",
              "  </div>\n"
            ],
            "application/vnd.google.colaboratory.intrinsic+json": {
              "type": "dataframe",
              "summary": "{\n  \"name\": \"df_marketing_events[((df_marketing_events['start_dt']<='2021-01-04') & (df_marketing_events['finish_dt']>='2020-12-07'))]\",\n  \"rows\": 2,\n  \"fields\": [\n    {\n      \"column\": \"name\",\n      \"properties\": {\n        \"dtype\": \"string\",\n        \"num_unique_values\": 2,\n        \"samples\": [\n          \"CIS New Year Gift Lottery\",\n          \"Christmas&New Year Promo\"\n        ],\n        \"semantic_type\": \"\",\n        \"description\": \"\"\n      }\n    },\n    {\n      \"column\": \"regions\",\n      \"properties\": {\n        \"dtype\": \"string\",\n        \"num_unique_values\": 2,\n        \"samples\": [\n          \"CIS\",\n          \"EU, N.America\"\n        ],\n        \"semantic_type\": \"\",\n        \"description\": \"\"\n      }\n    },\n    {\n      \"column\": \"start_dt\",\n      \"properties\": {\n        \"dtype\": \"date\",\n        \"min\": \"2020-12-25 00:00:00\",\n        \"max\": \"2020-12-30 00:00:00\",\n        \"num_unique_values\": 2,\n        \"samples\": [\n          \"2020-12-30 00:00:00\",\n          \"2020-12-25 00:00:00\"\n        ],\n        \"semantic_type\": \"\",\n        \"description\": \"\"\n      }\n    },\n    {\n      \"column\": \"finish_dt\",\n      \"properties\": {\n        \"dtype\": \"date\",\n        \"min\": \"2021-01-03 00:00:00\",\n        \"max\": \"2021-01-07 00:00:00\",\n        \"num_unique_values\": 2,\n        \"samples\": [\n          \"2021-01-07 00:00:00\",\n          \"2021-01-03 00:00:00\"\n        ],\n        \"semantic_type\": \"\",\n        \"description\": \"\"\n      }\n    }\n  ]\n}"
            }
          },
          "metadata": {},
          "execution_count": 14
        }
      ],
      "source": [
        "#посмотрим на маркетинговые события, дата старта `2020-12-07`, дата финиша `2021-01-04`\n",
        "df_marketing_events[((df_marketing_events['start_dt']<='2021-01-04') & (df_marketing_events['finish_dt']>='2020-12-07'))]"
      ]
    },
    {
      "cell_type": "code",
      "execution_count": 15,
      "metadata": {
        "id": "vlMeumm783pr",
        "outputId": "21f37700-959e-49e3-e390-26561b938262",
        "colab": {
          "base_uri": "https://localhost:8080/",
          "height": 80
        }
      },
      "outputs": [
        {
          "output_type": "execute_result",
          "data": {
            "text/plain": [
              "                       name        regions   start_dt  finish_dt\n",
              "0  Christmas&New Year Promo  EU, N.America 2020-12-25 2021-01-03"
            ],
            "text/html": [
              "\n",
              "  <div id=\"df-a54d1f65-009b-4f26-9f20-2fe788d36540\" class=\"colab-df-container\">\n",
              "    <div>\n",
              "<style scoped>\n",
              "    .dataframe tbody tr th:only-of-type {\n",
              "        vertical-align: middle;\n",
              "    }\n",
              "\n",
              "    .dataframe tbody tr th {\n",
              "        vertical-align: top;\n",
              "    }\n",
              "\n",
              "    .dataframe thead th {\n",
              "        text-align: right;\n",
              "    }\n",
              "</style>\n",
              "<table border=\"1\" class=\"dataframe\">\n",
              "  <thead>\n",
              "    <tr style=\"text-align: right;\">\n",
              "      <th></th>\n",
              "      <th>name</th>\n",
              "      <th>regions</th>\n",
              "      <th>start_dt</th>\n",
              "      <th>finish_dt</th>\n",
              "    </tr>\n",
              "  </thead>\n",
              "  <tbody>\n",
              "    <tr>\n",
              "      <th>0</th>\n",
              "      <td>Christmas&amp;New Year Promo</td>\n",
              "      <td>EU, N.America</td>\n",
              "      <td>2020-12-25</td>\n",
              "      <td>2021-01-03</td>\n",
              "    </tr>\n",
              "  </tbody>\n",
              "</table>\n",
              "</div>\n",
              "    <div class=\"colab-df-buttons\">\n",
              "\n",
              "  <div class=\"colab-df-container\">\n",
              "    <button class=\"colab-df-convert\" onclick=\"convertToInteractive('df-a54d1f65-009b-4f26-9f20-2fe788d36540')\"\n",
              "            title=\"Convert this dataframe to an interactive table.\"\n",
              "            style=\"display:none;\">\n",
              "\n",
              "  <svg xmlns=\"http://www.w3.org/2000/svg\" height=\"24px\" viewBox=\"0 -960 960 960\">\n",
              "    <path d=\"M120-120v-720h720v720H120Zm60-500h600v-160H180v160Zm220 220h160v-160H400v160Zm0 220h160v-160H400v160ZM180-400h160v-160H180v160Zm440 0h160v-160H620v160ZM180-180h160v-160H180v160Zm440 0h160v-160H620v160Z\"/>\n",
              "  </svg>\n",
              "    </button>\n",
              "\n",
              "  <style>\n",
              "    .colab-df-container {\n",
              "      display:flex;\n",
              "      gap: 12px;\n",
              "    }\n",
              "\n",
              "    .colab-df-convert {\n",
              "      background-color: #E8F0FE;\n",
              "      border: none;\n",
              "      border-radius: 50%;\n",
              "      cursor: pointer;\n",
              "      display: none;\n",
              "      fill: #1967D2;\n",
              "      height: 32px;\n",
              "      padding: 0 0 0 0;\n",
              "      width: 32px;\n",
              "    }\n",
              "\n",
              "    .colab-df-convert:hover {\n",
              "      background-color: #E2EBFA;\n",
              "      box-shadow: 0px 1px 2px rgba(60, 64, 67, 0.3), 0px 1px 3px 1px rgba(60, 64, 67, 0.15);\n",
              "      fill: #174EA6;\n",
              "    }\n",
              "\n",
              "    .colab-df-buttons div {\n",
              "      margin-bottom: 4px;\n",
              "    }\n",
              "\n",
              "    [theme=dark] .colab-df-convert {\n",
              "      background-color: #3B4455;\n",
              "      fill: #D2E3FC;\n",
              "    }\n",
              "\n",
              "    [theme=dark] .colab-df-convert:hover {\n",
              "      background-color: #434B5C;\n",
              "      box-shadow: 0px 1px 3px 1px rgba(0, 0, 0, 0.15);\n",
              "      filter: drop-shadow(0px 1px 2px rgba(0, 0, 0, 0.3));\n",
              "      fill: #FFFFFF;\n",
              "    }\n",
              "  </style>\n",
              "\n",
              "    <script>\n",
              "      const buttonEl =\n",
              "        document.querySelector('#df-a54d1f65-009b-4f26-9f20-2fe788d36540 button.colab-df-convert');\n",
              "      buttonEl.style.display =\n",
              "        google.colab.kernel.accessAllowed ? 'block' : 'none';\n",
              "\n",
              "      async function convertToInteractive(key) {\n",
              "        const element = document.querySelector('#df-a54d1f65-009b-4f26-9f20-2fe788d36540');\n",
              "        const dataTable =\n",
              "          await google.colab.kernel.invokeFunction('convertToInteractive',\n",
              "                                                    [key], {});\n",
              "        if (!dataTable) return;\n",
              "\n",
              "        const docLinkHtml = 'Like what you see? Visit the ' +\n",
              "          '<a target=\"_blank\" href=https://colab.research.google.com/notebooks/data_table.ipynb>data table notebook</a>'\n",
              "          + ' to learn more about interactive tables.';\n",
              "        element.innerHTML = '';\n",
              "        dataTable['output_type'] = 'display_data';\n",
              "        await google.colab.output.renderOutput(dataTable, element);\n",
              "        const docLink = document.createElement('div');\n",
              "        docLink.innerHTML = docLinkHtml;\n",
              "        element.appendChild(docLink);\n",
              "      }\n",
              "    </script>\n",
              "  </div>\n",
              "\n",
              "    </div>\n",
              "  </div>\n"
            ],
            "application/vnd.google.colaboratory.intrinsic+json": {
              "type": "dataframe",
              "summary": "{\n  \"name\": \"df_marketing_events[((df_marketing_events['start_dt']<='2021-01-04') & (df_marketing_events['finish_dt']>='2020-12-07') & (df_marketing_events['regions']\",\n  \"rows\": 1,\n  \"fields\": [\n    {\n      \"column\": \"name\",\n      \"properties\": {\n        \"dtype\": \"string\",\n        \"num_unique_values\": 1,\n        \"samples\": [\n          \"Christmas&New Year Promo\"\n        ],\n        \"semantic_type\": \"\",\n        \"description\": \"\"\n      }\n    },\n    {\n      \"column\": \"regions\",\n      \"properties\": {\n        \"dtype\": \"string\",\n        \"num_unique_values\": 1,\n        \"samples\": [\n          \"EU, N.America\"\n        ],\n        \"semantic_type\": \"\",\n        \"description\": \"\"\n      }\n    },\n    {\n      \"column\": \"start_dt\",\n      \"properties\": {\n        \"dtype\": \"date\",\n        \"min\": \"2020-12-25 00:00:00\",\n        \"max\": \"2020-12-25 00:00:00\",\n        \"num_unique_values\": 1,\n        \"samples\": [\n          \"2020-12-25 00:00:00\"\n        ],\n        \"semantic_type\": \"\",\n        \"description\": \"\"\n      }\n    },\n    {\n      \"column\": \"finish_dt\",\n      \"properties\": {\n        \"dtype\": \"date\",\n        \"min\": \"2021-01-03 00:00:00\",\n        \"max\": \"2021-01-03 00:00:00\",\n        \"num_unique_values\": 1,\n        \"samples\": [\n          \"2021-01-03 00:00:00\"\n        ],\n        \"semantic_type\": \"\",\n        \"description\": \"\"\n      }\n    }\n  ]\n}"
            }
          },
          "metadata": {},
          "execution_count": 15
        }
      ],
      "source": [
        "df_marketing_events[((df_marketing_events['start_dt']<='2021-01-04') & (df_marketing_events['finish_dt']>='2020-12-07') & (df_marketing_events['regions'].str.find('EU') != -1))]"
      ]
    },
    {
      "cell_type": "markdown",
      "metadata": {
        "id": "KbIOVN9D83pr"
      },
      "source": [
        "##### Вывод\n",
        "Во время проведения теста проходило маркетинговое событие `\tChristmas&New Year Promo`, его влияние оценим чуть позже"
      ]
    },
    {
      "cell_type": "markdown",
      "metadata": {
        "id": "Vv9uk4T-83pr"
      },
      "source": [
        "#### 3.1.3 Проверка на наличие нужного теста `recommender_system_test`"
      ]
    },
    {
      "cell_type": "code",
      "execution_count": 16,
      "metadata": {
        "id": "uc8VmDhp83ps",
        "outputId": "7fa94e5b-ade2-46ab-d23a-63e0afe67c6a",
        "colab": {
          "base_uri": "https://localhost:8080/",
          "height": 206
        }
      },
      "outputs": [
        {
          "output_type": "execute_result",
          "data": {
            "text/plain": [
              "                               user_id\n",
              "ab_test                 group         \n",
              "interface_eu_test       A      5831   \n",
              "                        B      5736   \n",
              "recommender_system_test A      3824   \n",
              "                        B      2877   "
            ],
            "text/html": [
              "\n",
              "  <div id=\"df-73071ca7-29f7-417f-ba62-517b23dd1f23\" class=\"colab-df-container\">\n",
              "    <div>\n",
              "<style scoped>\n",
              "    .dataframe tbody tr th:only-of-type {\n",
              "        vertical-align: middle;\n",
              "    }\n",
              "\n",
              "    .dataframe tbody tr th {\n",
              "        vertical-align: top;\n",
              "    }\n",
              "\n",
              "    .dataframe thead th {\n",
              "        text-align: right;\n",
              "    }\n",
              "</style>\n",
              "<table border=\"1\" class=\"dataframe\">\n",
              "  <thead>\n",
              "    <tr style=\"text-align: right;\">\n",
              "      <th></th>\n",
              "      <th></th>\n",
              "      <th>user_id</th>\n",
              "    </tr>\n",
              "    <tr>\n",
              "      <th>ab_test</th>\n",
              "      <th>group</th>\n",
              "      <th></th>\n",
              "    </tr>\n",
              "  </thead>\n",
              "  <tbody>\n",
              "    <tr>\n",
              "      <th rowspan=\"2\" valign=\"top\">interface_eu_test</th>\n",
              "      <th>A</th>\n",
              "      <td>5831</td>\n",
              "    </tr>\n",
              "    <tr>\n",
              "      <th>B</th>\n",
              "      <td>5736</td>\n",
              "    </tr>\n",
              "    <tr>\n",
              "      <th rowspan=\"2\" valign=\"top\">recommender_system_test</th>\n",
              "      <th>A</th>\n",
              "      <td>3824</td>\n",
              "    </tr>\n",
              "    <tr>\n",
              "      <th>B</th>\n",
              "      <td>2877</td>\n",
              "    </tr>\n",
              "  </tbody>\n",
              "</table>\n",
              "</div>\n",
              "    <div class=\"colab-df-buttons\">\n",
              "\n",
              "  <div class=\"colab-df-container\">\n",
              "    <button class=\"colab-df-convert\" onclick=\"convertToInteractive('df-73071ca7-29f7-417f-ba62-517b23dd1f23')\"\n",
              "            title=\"Convert this dataframe to an interactive table.\"\n",
              "            style=\"display:none;\">\n",
              "\n",
              "  <svg xmlns=\"http://www.w3.org/2000/svg\" height=\"24px\" viewBox=\"0 -960 960 960\">\n",
              "    <path d=\"M120-120v-720h720v720H120Zm60-500h600v-160H180v160Zm220 220h160v-160H400v160Zm0 220h160v-160H400v160ZM180-400h160v-160H180v160Zm440 0h160v-160H620v160ZM180-180h160v-160H180v160Zm440 0h160v-160H620v160Z\"/>\n",
              "  </svg>\n",
              "    </button>\n",
              "\n",
              "  <style>\n",
              "    .colab-df-container {\n",
              "      display:flex;\n",
              "      gap: 12px;\n",
              "    }\n",
              "\n",
              "    .colab-df-convert {\n",
              "      background-color: #E8F0FE;\n",
              "      border: none;\n",
              "      border-radius: 50%;\n",
              "      cursor: pointer;\n",
              "      display: none;\n",
              "      fill: #1967D2;\n",
              "      height: 32px;\n",
              "      padding: 0 0 0 0;\n",
              "      width: 32px;\n",
              "    }\n",
              "\n",
              "    .colab-df-convert:hover {\n",
              "      background-color: #E2EBFA;\n",
              "      box-shadow: 0px 1px 2px rgba(60, 64, 67, 0.3), 0px 1px 3px 1px rgba(60, 64, 67, 0.15);\n",
              "      fill: #174EA6;\n",
              "    }\n",
              "\n",
              "    .colab-df-buttons div {\n",
              "      margin-bottom: 4px;\n",
              "    }\n",
              "\n",
              "    [theme=dark] .colab-df-convert {\n",
              "      background-color: #3B4455;\n",
              "      fill: #D2E3FC;\n",
              "    }\n",
              "\n",
              "    [theme=dark] .colab-df-convert:hover {\n",
              "      background-color: #434B5C;\n",
              "      box-shadow: 0px 1px 3px 1px rgba(0, 0, 0, 0.15);\n",
              "      filter: drop-shadow(0px 1px 2px rgba(0, 0, 0, 0.3));\n",
              "      fill: #FFFFFF;\n",
              "    }\n",
              "  </style>\n",
              "\n",
              "    <script>\n",
              "      const buttonEl =\n",
              "        document.querySelector('#df-73071ca7-29f7-417f-ba62-517b23dd1f23 button.colab-df-convert');\n",
              "      buttonEl.style.display =\n",
              "        google.colab.kernel.accessAllowed ? 'block' : 'none';\n",
              "\n",
              "      async function convertToInteractive(key) {\n",
              "        const element = document.querySelector('#df-73071ca7-29f7-417f-ba62-517b23dd1f23');\n",
              "        const dataTable =\n",
              "          await google.colab.kernel.invokeFunction('convertToInteractive',\n",
              "                                                    [key], {});\n",
              "        if (!dataTable) return;\n",
              "\n",
              "        const docLinkHtml = 'Like what you see? Visit the ' +\n",
              "          '<a target=\"_blank\" href=https://colab.research.google.com/notebooks/data_table.ipynb>data table notebook</a>'\n",
              "          + ' to learn more about interactive tables.';\n",
              "        element.innerHTML = '';\n",
              "        dataTable['output_type'] = 'display_data';\n",
              "        await google.colab.output.renderOutput(dataTable, element);\n",
              "        const docLink = document.createElement('div');\n",
              "        docLink.innerHTML = docLinkHtml;\n",
              "        element.appendChild(docLink);\n",
              "      }\n",
              "    </script>\n",
              "  </div>\n",
              "\n",
              "\n",
              "<div id=\"df-255a86fa-e90e-40ff-859a-c839a9c6e12b\">\n",
              "  <button class=\"colab-df-quickchart\" onclick=\"quickchart('df-255a86fa-e90e-40ff-859a-c839a9c6e12b')\"\n",
              "            title=\"Suggest charts\"\n",
              "            style=\"display:none;\">\n",
              "\n",
              "<svg xmlns=\"http://www.w3.org/2000/svg\" height=\"24px\"viewBox=\"0 0 24 24\"\n",
              "     width=\"24px\">\n",
              "    <g>\n",
              "        <path d=\"M19 3H5c-1.1 0-2 .9-2 2v14c0 1.1.9 2 2 2h14c1.1 0 2-.9 2-2V5c0-1.1-.9-2-2-2zM9 17H7v-7h2v7zm4 0h-2V7h2v10zm4 0h-2v-4h2v4z\"/>\n",
              "    </g>\n",
              "</svg>\n",
              "  </button>\n",
              "\n",
              "<style>\n",
              "  .colab-df-quickchart {\n",
              "      --bg-color: #E8F0FE;\n",
              "      --fill-color: #1967D2;\n",
              "      --hover-bg-color: #E2EBFA;\n",
              "      --hover-fill-color: #174EA6;\n",
              "      --disabled-fill-color: #AAA;\n",
              "      --disabled-bg-color: #DDD;\n",
              "  }\n",
              "\n",
              "  [theme=dark] .colab-df-quickchart {\n",
              "      --bg-color: #3B4455;\n",
              "      --fill-color: #D2E3FC;\n",
              "      --hover-bg-color: #434B5C;\n",
              "      --hover-fill-color: #FFFFFF;\n",
              "      --disabled-bg-color: #3B4455;\n",
              "      --disabled-fill-color: #666;\n",
              "  }\n",
              "\n",
              "  .colab-df-quickchart {\n",
              "    background-color: var(--bg-color);\n",
              "    border: none;\n",
              "    border-radius: 50%;\n",
              "    cursor: pointer;\n",
              "    display: none;\n",
              "    fill: var(--fill-color);\n",
              "    height: 32px;\n",
              "    padding: 0;\n",
              "    width: 32px;\n",
              "  }\n",
              "\n",
              "  .colab-df-quickchart:hover {\n",
              "    background-color: var(--hover-bg-color);\n",
              "    box-shadow: 0 1px 2px rgba(60, 64, 67, 0.3), 0 1px 3px 1px rgba(60, 64, 67, 0.15);\n",
              "    fill: var(--button-hover-fill-color);\n",
              "  }\n",
              "\n",
              "  .colab-df-quickchart-complete:disabled,\n",
              "  .colab-df-quickchart-complete:disabled:hover {\n",
              "    background-color: var(--disabled-bg-color);\n",
              "    fill: var(--disabled-fill-color);\n",
              "    box-shadow: none;\n",
              "  }\n",
              "\n",
              "  .colab-df-spinner {\n",
              "    border: 2px solid var(--fill-color);\n",
              "    border-color: transparent;\n",
              "    border-bottom-color: var(--fill-color);\n",
              "    animation:\n",
              "      spin 1s steps(1) infinite;\n",
              "  }\n",
              "\n",
              "  @keyframes spin {\n",
              "    0% {\n",
              "      border-color: transparent;\n",
              "      border-bottom-color: var(--fill-color);\n",
              "      border-left-color: var(--fill-color);\n",
              "    }\n",
              "    20% {\n",
              "      border-color: transparent;\n",
              "      border-left-color: var(--fill-color);\n",
              "      border-top-color: var(--fill-color);\n",
              "    }\n",
              "    30% {\n",
              "      border-color: transparent;\n",
              "      border-left-color: var(--fill-color);\n",
              "      border-top-color: var(--fill-color);\n",
              "      border-right-color: var(--fill-color);\n",
              "    }\n",
              "    40% {\n",
              "      border-color: transparent;\n",
              "      border-right-color: var(--fill-color);\n",
              "      border-top-color: var(--fill-color);\n",
              "    }\n",
              "    60% {\n",
              "      border-color: transparent;\n",
              "      border-right-color: var(--fill-color);\n",
              "    }\n",
              "    80% {\n",
              "      border-color: transparent;\n",
              "      border-right-color: var(--fill-color);\n",
              "      border-bottom-color: var(--fill-color);\n",
              "    }\n",
              "    90% {\n",
              "      border-color: transparent;\n",
              "      border-bottom-color: var(--fill-color);\n",
              "    }\n",
              "  }\n",
              "</style>\n",
              "\n",
              "  <script>\n",
              "    async function quickchart(key) {\n",
              "      const quickchartButtonEl =\n",
              "        document.querySelector('#' + key + ' button');\n",
              "      quickchartButtonEl.disabled = true;  // To prevent multiple clicks.\n",
              "      quickchartButtonEl.classList.add('colab-df-spinner');\n",
              "      try {\n",
              "        const charts = await google.colab.kernel.invokeFunction(\n",
              "            'suggestCharts', [key], {});\n",
              "      } catch (error) {\n",
              "        console.error('Error during call to suggestCharts:', error);\n",
              "      }\n",
              "      quickchartButtonEl.classList.remove('colab-df-spinner');\n",
              "      quickchartButtonEl.classList.add('colab-df-quickchart-complete');\n",
              "    }\n",
              "    (() => {\n",
              "      let quickchartButtonEl =\n",
              "        document.querySelector('#df-255a86fa-e90e-40ff-859a-c839a9c6e12b button');\n",
              "      quickchartButtonEl.style.display =\n",
              "        google.colab.kernel.accessAllowed ? 'block' : 'none';\n",
              "    })();\n",
              "  </script>\n",
              "</div>\n",
              "    </div>\n",
              "  </div>\n"
            ],
            "application/vnd.google.colaboratory.intrinsic+json": {
              "type": "dataframe",
              "summary": "{\n  \"name\": \"df_participants\",\n  \"rows\": 4,\n  \"fields\": [\n    {\n      \"column\": \"user_id\",\n      \"properties\": {\n        \"dtype\": \"number\",\n        \"std\": 1457,\n        \"min\": 2877,\n        \"max\": 5831,\n        \"num_unique_values\": 4,\n        \"samples\": [\n          5736,\n          2877,\n          5831\n        ],\n        \"semantic_type\": \"\",\n        \"description\": \"\"\n      }\n    }\n  ]\n}"
            }
          },
          "metadata": {},
          "execution_count": 16
        }
      ],
      "source": [
        "df_participants.groupby(['ab_test', 'group']).count()"
      ]
    },
    {
      "cell_type": "markdown",
      "metadata": {
        "id": "NnaCou5_83ps"
      },
      "source": [
        "##### Вывод\n",
        "В данных есть информация о нужном нам  `recommender_system_test` тесте, также в датафрейме есть данные о другом тесте `interface_eu_test`, в обоих тестах есть две группы, `A`- контрольная, `B` - экспериментальная. Название нужного нам теста соответствует назначению теста - тестирование изменений, связанных с внедрением улучшенной рекомендательной системы"
      ]
    },
    {
      "cell_type": "markdown",
      "metadata": {
        "id": "lY8OjVSz83ps"
      },
      "source": [
        "### 3.2 Проверка доли участников из EU региона\n",
        "\n",
        "Ожидаемое количество участников теста: 15% новых пользователей из\n",
        "региона EU;"
      ]
    },
    {
      "cell_type": "code",
      "execution_count": 17,
      "metadata": {
        "id": "wN8TbDwc83ps",
        "outputId": "1d7e9d80-aef0-450b-d64b-bebb4748e0d2",
        "colab": {
          "base_uri": "https://localhost:8080/"
        }
      },
      "outputs": [
        {
          "output_type": "stream",
          "name": "stdout",
          "text": [
            "Строк до изменений: 56470\n",
            "Строк после изменений: 42340\n"
          ]
        }
      ],
      "source": [
        "# оставляем только регион европа\n",
        "print('Строк до изменений:',df_new_users.shape[0])\n",
        "df_new_users = df_new_users[df_new_users['region'] == 'EU']\n",
        "print('Строк после изменений:',df_new_users.shape[0])"
      ]
    },
    {
      "cell_type": "code",
      "execution_count": 18,
      "metadata": {
        "id": "Fe9T2RrY83ps",
        "outputId": "4c897bfe-341b-4451-ae38-f07a99c41329",
        "colab": {
          "base_uri": "https://localhost:8080/"
        }
      },
      "outputs": [
        {
          "output_type": "execute_result",
          "data": {
            "text/plain": [
              "6701"
            ]
          },
          "metadata": {},
          "execution_count": 18
        }
      ],
      "source": [
        "# выделим юзер айди пользователей теста 'recommender_system_test'\n",
        "user_list = df_participants[df_participants['ab_test'] == 'recommender_system_test']['user_id']\n",
        "# посмотрим, сколько всего пользователей, попало в тест recommender_system_test\n",
        "user_list.shape[0]"
      ]
    },
    {
      "cell_type": "code",
      "execution_count": 19,
      "metadata": {
        "id": "YJHRf4ek83ps",
        "outputId": "6a3cc98c-f6e2-4d6b-e33e-35a6604a4c6f",
        "colab": {
          "base_uri": "https://localhost:8080/"
        }
      },
      "outputs": [
        {
          "output_type": "stream",
          "name": "stdout",
          "text": [
            "<class 'pandas.core.frame.DataFrame'>\n",
            "RangeIndex: 18268 entries, 0 to 18267\n",
            "Data columns (total 3 columns):\n",
            " #   Column   Non-Null Count  Dtype \n",
            "---  ------   --------------  ----- \n",
            " 0   user_id  18268 non-null  object\n",
            " 1   group    18268 non-null  object\n",
            " 2   ab_test  18268 non-null  object\n",
            "dtypes: object(3)\n",
            "memory usage: 428.3+ KB\n"
          ]
        }
      ],
      "source": [
        "df_participants.info()\n"
      ]
    },
    {
      "cell_type": "code",
      "execution_count": 20,
      "metadata": {
        "id": "Xp906zBt83pw",
        "outputId": "7a00c43a-1b9f-449c-8793-95dca6011562",
        "colab": {
          "base_uri": "https://localhost:8080/"
        }
      },
      "outputs": [
        {
          "output_type": "stream",
          "name": "stdout",
          "text": [
            "<class 'pandas.core.frame.DataFrame'>\n",
            "Int64Index: 6351 entries, 0 to 61715\n",
            "Data columns (total 4 columns):\n",
            " #   Column      Non-Null Count  Dtype         \n",
            "---  ------      --------------  -----         \n",
            " 0   user_id     6351 non-null   object        \n",
            " 1   first_date  6351 non-null   datetime64[ns]\n",
            " 2   region      6351 non-null   object        \n",
            " 3   device      6351 non-null   object        \n",
            "dtypes: datetime64[ns](1), object(3)\n",
            "memory usage: 248.1+ KB\n"
          ]
        }
      ],
      "source": [
        "#посмотрим на этих пользователей в датафрейме новых пользотвалей\n",
        "df_new_users[df_new_users['user_id'].isin(user_list)].info()"
      ]
    },
    {
      "cell_type": "code",
      "execution_count": 21,
      "metadata": {
        "id": "knA_wqfK83px",
        "outputId": "9fba47be-e654-41c5-cacf-b5c56a4f70b3",
        "colab": {
          "base_uri": "https://localhost:8080/"
        }
      },
      "outputs": [
        {
          "output_type": "execute_result",
          "data": {
            "text/plain": [
              "350"
            ]
          },
          "metadata": {},
          "execution_count": 21
        }
      ],
      "source": [
        "#что-то не сходится, посмотрим, сколько пользователей, попавших в тест не попадает в датафрейм новых пользователей:\n",
        "list_id = set(user_list) - set(df_new_users[df_new_users['user_id'].isin(user_list)]['user_id'])\n",
        "len(list_id)"
      ]
    },
    {
      "cell_type": "markdown",
      "metadata": {
        "id": "SSq6eEoL83px"
      },
      "source": [
        "Похоже, что 350 старых пользователей попали в тест, чтобы правильно посчитать долю участников теста из EU региона, и, чтобы вытащить из теста старых пользователей, то объединим датафреймы методом left, к `df_new_users` будем добавлять `df_participants`"
      ]
    },
    {
      "cell_type": "code",
      "execution_count": 22,
      "metadata": {
        "id": "d4e5-nSR83px",
        "outputId": "6ff4986f-e432-4391-8897-1f22cdf2b305",
        "colab": {
          "base_uri": "https://localhost:8080/",
          "height": 206
        }
      },
      "outputs": [
        {
          "output_type": "execute_result",
          "data": {
            "text/plain": [
              "            user_id first_date region   device group                  ab_test\n",
              "0  D72A72121175D8BE 2020-12-07  EU     PC       A     recommender_system_test\n",
              "1  2E1BF1D4C37EA01F 2020-12-07  EU     PC       A     interface_eu_test      \n",
              "2  50734A22C0C63768 2020-12-07  EU     iPhone   B     interface_eu_test      \n",
              "3  8942E64218C9A1ED 2020-12-07  EU     PC       NaN   NaN                    \n",
              "4  FFCEA1179C253104 2020-12-07  EU     Android  NaN   NaN                    "
            ],
            "text/html": [
              "\n",
              "  <div id=\"df-82c38d91-70c4-47ed-b8a7-818b414414ba\" class=\"colab-df-container\">\n",
              "    <div>\n",
              "<style scoped>\n",
              "    .dataframe tbody tr th:only-of-type {\n",
              "        vertical-align: middle;\n",
              "    }\n",
              "\n",
              "    .dataframe tbody tr th {\n",
              "        vertical-align: top;\n",
              "    }\n",
              "\n",
              "    .dataframe thead th {\n",
              "        text-align: right;\n",
              "    }\n",
              "</style>\n",
              "<table border=\"1\" class=\"dataframe\">\n",
              "  <thead>\n",
              "    <tr style=\"text-align: right;\">\n",
              "      <th></th>\n",
              "      <th>user_id</th>\n",
              "      <th>first_date</th>\n",
              "      <th>region</th>\n",
              "      <th>device</th>\n",
              "      <th>group</th>\n",
              "      <th>ab_test</th>\n",
              "    </tr>\n",
              "  </thead>\n",
              "  <tbody>\n",
              "    <tr>\n",
              "      <th>0</th>\n",
              "      <td>D72A72121175D8BE</td>\n",
              "      <td>2020-12-07</td>\n",
              "      <td>EU</td>\n",
              "      <td>PC</td>\n",
              "      <td>A</td>\n",
              "      <td>recommender_system_test</td>\n",
              "    </tr>\n",
              "    <tr>\n",
              "      <th>1</th>\n",
              "      <td>2E1BF1D4C37EA01F</td>\n",
              "      <td>2020-12-07</td>\n",
              "      <td>EU</td>\n",
              "      <td>PC</td>\n",
              "      <td>A</td>\n",
              "      <td>interface_eu_test</td>\n",
              "    </tr>\n",
              "    <tr>\n",
              "      <th>2</th>\n",
              "      <td>50734A22C0C63768</td>\n",
              "      <td>2020-12-07</td>\n",
              "      <td>EU</td>\n",
              "      <td>iPhone</td>\n",
              "      <td>B</td>\n",
              "      <td>interface_eu_test</td>\n",
              "    </tr>\n",
              "    <tr>\n",
              "      <th>3</th>\n",
              "      <td>8942E64218C9A1ED</td>\n",
              "      <td>2020-12-07</td>\n",
              "      <td>EU</td>\n",
              "      <td>PC</td>\n",
              "      <td>NaN</td>\n",
              "      <td>NaN</td>\n",
              "    </tr>\n",
              "    <tr>\n",
              "      <th>4</th>\n",
              "      <td>FFCEA1179C253104</td>\n",
              "      <td>2020-12-07</td>\n",
              "      <td>EU</td>\n",
              "      <td>Android</td>\n",
              "      <td>NaN</td>\n",
              "      <td>NaN</td>\n",
              "    </tr>\n",
              "  </tbody>\n",
              "</table>\n",
              "</div>\n",
              "    <div class=\"colab-df-buttons\">\n",
              "\n",
              "  <div class=\"colab-df-container\">\n",
              "    <button class=\"colab-df-convert\" onclick=\"convertToInteractive('df-82c38d91-70c4-47ed-b8a7-818b414414ba')\"\n",
              "            title=\"Convert this dataframe to an interactive table.\"\n",
              "            style=\"display:none;\">\n",
              "\n",
              "  <svg xmlns=\"http://www.w3.org/2000/svg\" height=\"24px\" viewBox=\"0 -960 960 960\">\n",
              "    <path d=\"M120-120v-720h720v720H120Zm60-500h600v-160H180v160Zm220 220h160v-160H400v160Zm0 220h160v-160H400v160ZM180-400h160v-160H180v160Zm440 0h160v-160H620v160ZM180-180h160v-160H180v160Zm440 0h160v-160H620v160Z\"/>\n",
              "  </svg>\n",
              "    </button>\n",
              "\n",
              "  <style>\n",
              "    .colab-df-container {\n",
              "      display:flex;\n",
              "      gap: 12px;\n",
              "    }\n",
              "\n",
              "    .colab-df-convert {\n",
              "      background-color: #E8F0FE;\n",
              "      border: none;\n",
              "      border-radius: 50%;\n",
              "      cursor: pointer;\n",
              "      display: none;\n",
              "      fill: #1967D2;\n",
              "      height: 32px;\n",
              "      padding: 0 0 0 0;\n",
              "      width: 32px;\n",
              "    }\n",
              "\n",
              "    .colab-df-convert:hover {\n",
              "      background-color: #E2EBFA;\n",
              "      box-shadow: 0px 1px 2px rgba(60, 64, 67, 0.3), 0px 1px 3px 1px rgba(60, 64, 67, 0.15);\n",
              "      fill: #174EA6;\n",
              "    }\n",
              "\n",
              "    .colab-df-buttons div {\n",
              "      margin-bottom: 4px;\n",
              "    }\n",
              "\n",
              "    [theme=dark] .colab-df-convert {\n",
              "      background-color: #3B4455;\n",
              "      fill: #D2E3FC;\n",
              "    }\n",
              "\n",
              "    [theme=dark] .colab-df-convert:hover {\n",
              "      background-color: #434B5C;\n",
              "      box-shadow: 0px 1px 3px 1px rgba(0, 0, 0, 0.15);\n",
              "      filter: drop-shadow(0px 1px 2px rgba(0, 0, 0, 0.3));\n",
              "      fill: #FFFFFF;\n",
              "    }\n",
              "  </style>\n",
              "\n",
              "    <script>\n",
              "      const buttonEl =\n",
              "        document.querySelector('#df-82c38d91-70c4-47ed-b8a7-818b414414ba button.colab-df-convert');\n",
              "      buttonEl.style.display =\n",
              "        google.colab.kernel.accessAllowed ? 'block' : 'none';\n",
              "\n",
              "      async function convertToInteractive(key) {\n",
              "        const element = document.querySelector('#df-82c38d91-70c4-47ed-b8a7-818b414414ba');\n",
              "        const dataTable =\n",
              "          await google.colab.kernel.invokeFunction('convertToInteractive',\n",
              "                                                    [key], {});\n",
              "        if (!dataTable) return;\n",
              "\n",
              "        const docLinkHtml = 'Like what you see? Visit the ' +\n",
              "          '<a target=\"_blank\" href=https://colab.research.google.com/notebooks/data_table.ipynb>data table notebook</a>'\n",
              "          + ' to learn more about interactive tables.';\n",
              "        element.innerHTML = '';\n",
              "        dataTable['output_type'] = 'display_data';\n",
              "        await google.colab.output.renderOutput(dataTable, element);\n",
              "        const docLink = document.createElement('div');\n",
              "        docLink.innerHTML = docLinkHtml;\n",
              "        element.appendChild(docLink);\n",
              "      }\n",
              "    </script>\n",
              "  </div>\n",
              "\n",
              "\n",
              "<div id=\"df-ed5e6152-c76a-424b-bf4e-e18786358a3f\">\n",
              "  <button class=\"colab-df-quickchart\" onclick=\"quickchart('df-ed5e6152-c76a-424b-bf4e-e18786358a3f')\"\n",
              "            title=\"Suggest charts\"\n",
              "            style=\"display:none;\">\n",
              "\n",
              "<svg xmlns=\"http://www.w3.org/2000/svg\" height=\"24px\"viewBox=\"0 0 24 24\"\n",
              "     width=\"24px\">\n",
              "    <g>\n",
              "        <path d=\"M19 3H5c-1.1 0-2 .9-2 2v14c0 1.1.9 2 2 2h14c1.1 0 2-.9 2-2V5c0-1.1-.9-2-2-2zM9 17H7v-7h2v7zm4 0h-2V7h2v10zm4 0h-2v-4h2v4z\"/>\n",
              "    </g>\n",
              "</svg>\n",
              "  </button>\n",
              "\n",
              "<style>\n",
              "  .colab-df-quickchart {\n",
              "      --bg-color: #E8F0FE;\n",
              "      --fill-color: #1967D2;\n",
              "      --hover-bg-color: #E2EBFA;\n",
              "      --hover-fill-color: #174EA6;\n",
              "      --disabled-fill-color: #AAA;\n",
              "      --disabled-bg-color: #DDD;\n",
              "  }\n",
              "\n",
              "  [theme=dark] .colab-df-quickchart {\n",
              "      --bg-color: #3B4455;\n",
              "      --fill-color: #D2E3FC;\n",
              "      --hover-bg-color: #434B5C;\n",
              "      --hover-fill-color: #FFFFFF;\n",
              "      --disabled-bg-color: #3B4455;\n",
              "      --disabled-fill-color: #666;\n",
              "  }\n",
              "\n",
              "  .colab-df-quickchart {\n",
              "    background-color: var(--bg-color);\n",
              "    border: none;\n",
              "    border-radius: 50%;\n",
              "    cursor: pointer;\n",
              "    display: none;\n",
              "    fill: var(--fill-color);\n",
              "    height: 32px;\n",
              "    padding: 0;\n",
              "    width: 32px;\n",
              "  }\n",
              "\n",
              "  .colab-df-quickchart:hover {\n",
              "    background-color: var(--hover-bg-color);\n",
              "    box-shadow: 0 1px 2px rgba(60, 64, 67, 0.3), 0 1px 3px 1px rgba(60, 64, 67, 0.15);\n",
              "    fill: var(--button-hover-fill-color);\n",
              "  }\n",
              "\n",
              "  .colab-df-quickchart-complete:disabled,\n",
              "  .colab-df-quickchart-complete:disabled:hover {\n",
              "    background-color: var(--disabled-bg-color);\n",
              "    fill: var(--disabled-fill-color);\n",
              "    box-shadow: none;\n",
              "  }\n",
              "\n",
              "  .colab-df-spinner {\n",
              "    border: 2px solid var(--fill-color);\n",
              "    border-color: transparent;\n",
              "    border-bottom-color: var(--fill-color);\n",
              "    animation:\n",
              "      spin 1s steps(1) infinite;\n",
              "  }\n",
              "\n",
              "  @keyframes spin {\n",
              "    0% {\n",
              "      border-color: transparent;\n",
              "      border-bottom-color: var(--fill-color);\n",
              "      border-left-color: var(--fill-color);\n",
              "    }\n",
              "    20% {\n",
              "      border-color: transparent;\n",
              "      border-left-color: var(--fill-color);\n",
              "      border-top-color: var(--fill-color);\n",
              "    }\n",
              "    30% {\n",
              "      border-color: transparent;\n",
              "      border-left-color: var(--fill-color);\n",
              "      border-top-color: var(--fill-color);\n",
              "      border-right-color: var(--fill-color);\n",
              "    }\n",
              "    40% {\n",
              "      border-color: transparent;\n",
              "      border-right-color: var(--fill-color);\n",
              "      border-top-color: var(--fill-color);\n",
              "    }\n",
              "    60% {\n",
              "      border-color: transparent;\n",
              "      border-right-color: var(--fill-color);\n",
              "    }\n",
              "    80% {\n",
              "      border-color: transparent;\n",
              "      border-right-color: var(--fill-color);\n",
              "      border-bottom-color: var(--fill-color);\n",
              "    }\n",
              "    90% {\n",
              "      border-color: transparent;\n",
              "      border-bottom-color: var(--fill-color);\n",
              "    }\n",
              "  }\n",
              "</style>\n",
              "\n",
              "  <script>\n",
              "    async function quickchart(key) {\n",
              "      const quickchartButtonEl =\n",
              "        document.querySelector('#' + key + ' button');\n",
              "      quickchartButtonEl.disabled = true;  // To prevent multiple clicks.\n",
              "      quickchartButtonEl.classList.add('colab-df-spinner');\n",
              "      try {\n",
              "        const charts = await google.colab.kernel.invokeFunction(\n",
              "            'suggestCharts', [key], {});\n",
              "      } catch (error) {\n",
              "        console.error('Error during call to suggestCharts:', error);\n",
              "      }\n",
              "      quickchartButtonEl.classList.remove('colab-df-spinner');\n",
              "      quickchartButtonEl.classList.add('colab-df-quickchart-complete');\n",
              "    }\n",
              "    (() => {\n",
              "      let quickchartButtonEl =\n",
              "        document.querySelector('#df-ed5e6152-c76a-424b-bf4e-e18786358a3f button');\n",
              "      quickchartButtonEl.style.display =\n",
              "        google.colab.kernel.accessAllowed ? 'block' : 'none';\n",
              "    })();\n",
              "  </script>\n",
              "</div>\n",
              "    </div>\n",
              "  </div>\n"
            ],
            "application/vnd.google.colaboratory.intrinsic+json": {
              "type": "dataframe",
              "variable_name": "temp_df",
              "summary": "{\n  \"name\": \"temp_df\",\n  \"rows\": 43942,\n  \"fields\": [\n    {\n      \"column\": \"user_id\",\n      \"properties\": {\n        \"dtype\": \"string\",\n        \"num_unique_values\": 42340,\n        \"samples\": [\n          \"28AE46DE7AB7A858\",\n          \"0C949CC1E75754DA\",\n          \"1FA5D0D83E5619A8\"\n        ],\n        \"semantic_type\": \"\",\n        \"description\": \"\"\n      }\n    },\n    {\n      \"column\": \"first_date\",\n      \"properties\": {\n        \"dtype\": \"date\",\n        \"min\": \"2020-12-07 00:00:00\",\n        \"max\": \"2020-12-21 00:00:00\",\n        \"num_unique_values\": 15,\n        \"samples\": [\n          \"2020-12-11 00:00:00\",\n          \"2020-12-12 00:00:00\",\n          \"2020-12-07 00:00:00\"\n        ],\n        \"semantic_type\": \"\",\n        \"description\": \"\"\n      }\n    },\n    {\n      \"column\": \"region\",\n      \"properties\": {\n        \"dtype\": \"category\",\n        \"num_unique_values\": 1,\n        \"samples\": [\n          \"EU\"\n        ],\n        \"semantic_type\": \"\",\n        \"description\": \"\"\n      }\n    },\n    {\n      \"column\": \"device\",\n      \"properties\": {\n        \"dtype\": \"category\",\n        \"num_unique_values\": 4,\n        \"samples\": [\n          \"iPhone\"\n        ],\n        \"semantic_type\": \"\",\n        \"description\": \"\"\n      }\n    },\n    {\n      \"column\": \"group\",\n      \"properties\": {\n        \"dtype\": \"category\",\n        \"num_unique_values\": 2,\n        \"samples\": [\n          \"B\"\n        ],\n        \"semantic_type\": \"\",\n        \"description\": \"\"\n      }\n    },\n    {\n      \"column\": \"ab_test\",\n      \"properties\": {\n        \"dtype\": \"category\",\n        \"num_unique_values\": 2,\n        \"samples\": [\n          \"interface_eu_test\"\n        ],\n        \"semantic_type\": \"\",\n        \"description\": \"\"\n      }\n    }\n  ]\n}"
            }
          },
          "metadata": {},
          "execution_count": 22
        }
      ],
      "source": [
        "temp_df = df_new_users.merge(df_participants, on='user_id', how='left')\n",
        "temp_df.head()"
      ]
    },
    {
      "cell_type": "code",
      "execution_count": 23,
      "metadata": {
        "id": "t0MfKjG983px",
        "outputId": "e6e4e521-b52b-4e97-c3cb-ef8452c8da54",
        "colab": {
          "base_uri": "https://localhost:8080/"
        }
      },
      "outputs": [
        {
          "output_type": "stream",
          "name": "stdout",
          "text": [
            "Доля пользователей из EU региона: 15.00%\n"
          ]
        }
      ],
      "source": [
        "# посчитаем долю ЕУ\n",
        "print('Доля пользователей из EU региона: {:.2f}%'.format(\n",
        "    temp_df[temp_df['ab_test'] == 'recommender_system_test'].shape[0] / temp_df['user_id'].unique().shape[0]*100))"
      ]
    },
    {
      "cell_type": "code",
      "execution_count": 24,
      "metadata": {
        "id": "x_Z3HEYb83py",
        "outputId": "1cc332dd-0d93-4d3e-b7b0-bad309e1110f",
        "colab": {
          "base_uri": "https://localhost:8080/"
        }
      },
      "outputs": [
        {
          "output_type": "stream",
          "name": "stdout",
          "text": [
            "<class 'pandas.core.frame.DataFrame'>\n",
            "Int64Index: 43942 entries, 0 to 43941\n",
            "Data columns (total 6 columns):\n",
            " #   Column      Non-Null Count  Dtype         \n",
            "---  ------      --------------  -----         \n",
            " 0   user_id     43942 non-null  object        \n",
            " 1   first_date  43942 non-null  datetime64[ns]\n",
            " 2   region      43942 non-null  object        \n",
            " 3   device      43942 non-null  object        \n",
            " 4   group       16916 non-null  object        \n",
            " 5   ab_test     16916 non-null  object        \n",
            "dtypes: datetime64[ns](1), object(5)\n",
            "memory usage: 2.3+ MB\n"
          ]
        }
      ],
      "source": [
        "temp_df.info()"
      ]
    },
    {
      "cell_type": "code",
      "execution_count": 25,
      "metadata": {
        "id": "Rmj4rBTq83py",
        "outputId": "e548c038-282f-4a95-e887-c304c4f42050",
        "colab": {
          "base_uri": "https://localhost:8080/",
          "height": 362
        }
      },
      "outputs": [
        {
          "output_type": "execute_result",
          "data": {
            "text/plain": [
              "              user_id first_date region   device group  \\\n",
              "7    E6DE857AFBDC6102 2020-12-07  EU     PC       B      \n",
              "8    E6DE857AFBDC6102 2020-12-07  EU     PC       B      \n",
              "14   DD4352CDCF8C3D57 2020-12-07  EU     Android  B      \n",
              "15   DD4352CDCF8C3D57 2020-12-07  EU     Android  A      \n",
              "150  7779596AE52635A8 2020-12-07  EU     iPhone   B      \n",
              "151  7779596AE52635A8 2020-12-07  EU     iPhone   A      \n",
              "159  6A581C74EF4D5F44 2020-12-07  EU     iPhone   B      \n",
              "160  6A581C74EF4D5F44 2020-12-07  EU     iPhone   A      \n",
              "168  2B06EB547B7AAD08 2020-12-07  EU     PC       A      \n",
              "169  2B06EB547B7AAD08 2020-12-07  EU     PC       A      \n",
              "\n",
              "                     ab_test  \n",
              "7    recommender_system_test  \n",
              "8    interface_eu_test        \n",
              "14   recommender_system_test  \n",
              "15   interface_eu_test        \n",
              "150  recommender_system_test  \n",
              "151  interface_eu_test        \n",
              "159  recommender_system_test  \n",
              "160  interface_eu_test        \n",
              "168  recommender_system_test  \n",
              "169  interface_eu_test        "
            ],
            "text/html": [
              "\n",
              "  <div id=\"df-36d0ec4d-f6a0-44bd-ace4-eda300d0a567\" class=\"colab-df-container\">\n",
              "    <div>\n",
              "<style scoped>\n",
              "    .dataframe tbody tr th:only-of-type {\n",
              "        vertical-align: middle;\n",
              "    }\n",
              "\n",
              "    .dataframe tbody tr th {\n",
              "        vertical-align: top;\n",
              "    }\n",
              "\n",
              "    .dataframe thead th {\n",
              "        text-align: right;\n",
              "    }\n",
              "</style>\n",
              "<table border=\"1\" class=\"dataframe\">\n",
              "  <thead>\n",
              "    <tr style=\"text-align: right;\">\n",
              "      <th></th>\n",
              "      <th>user_id</th>\n",
              "      <th>first_date</th>\n",
              "      <th>region</th>\n",
              "      <th>device</th>\n",
              "      <th>group</th>\n",
              "      <th>ab_test</th>\n",
              "    </tr>\n",
              "  </thead>\n",
              "  <tbody>\n",
              "    <tr>\n",
              "      <th>7</th>\n",
              "      <td>E6DE857AFBDC6102</td>\n",
              "      <td>2020-12-07</td>\n",
              "      <td>EU</td>\n",
              "      <td>PC</td>\n",
              "      <td>B</td>\n",
              "      <td>recommender_system_test</td>\n",
              "    </tr>\n",
              "    <tr>\n",
              "      <th>8</th>\n",
              "      <td>E6DE857AFBDC6102</td>\n",
              "      <td>2020-12-07</td>\n",
              "      <td>EU</td>\n",
              "      <td>PC</td>\n",
              "      <td>B</td>\n",
              "      <td>interface_eu_test</td>\n",
              "    </tr>\n",
              "    <tr>\n",
              "      <th>14</th>\n",
              "      <td>DD4352CDCF8C3D57</td>\n",
              "      <td>2020-12-07</td>\n",
              "      <td>EU</td>\n",
              "      <td>Android</td>\n",
              "      <td>B</td>\n",
              "      <td>recommender_system_test</td>\n",
              "    </tr>\n",
              "    <tr>\n",
              "      <th>15</th>\n",
              "      <td>DD4352CDCF8C3D57</td>\n",
              "      <td>2020-12-07</td>\n",
              "      <td>EU</td>\n",
              "      <td>Android</td>\n",
              "      <td>A</td>\n",
              "      <td>interface_eu_test</td>\n",
              "    </tr>\n",
              "    <tr>\n",
              "      <th>150</th>\n",
              "      <td>7779596AE52635A8</td>\n",
              "      <td>2020-12-07</td>\n",
              "      <td>EU</td>\n",
              "      <td>iPhone</td>\n",
              "      <td>B</td>\n",
              "      <td>recommender_system_test</td>\n",
              "    </tr>\n",
              "    <tr>\n",
              "      <th>151</th>\n",
              "      <td>7779596AE52635A8</td>\n",
              "      <td>2020-12-07</td>\n",
              "      <td>EU</td>\n",
              "      <td>iPhone</td>\n",
              "      <td>A</td>\n",
              "      <td>interface_eu_test</td>\n",
              "    </tr>\n",
              "    <tr>\n",
              "      <th>159</th>\n",
              "      <td>6A581C74EF4D5F44</td>\n",
              "      <td>2020-12-07</td>\n",
              "      <td>EU</td>\n",
              "      <td>iPhone</td>\n",
              "      <td>B</td>\n",
              "      <td>recommender_system_test</td>\n",
              "    </tr>\n",
              "    <tr>\n",
              "      <th>160</th>\n",
              "      <td>6A581C74EF4D5F44</td>\n",
              "      <td>2020-12-07</td>\n",
              "      <td>EU</td>\n",
              "      <td>iPhone</td>\n",
              "      <td>A</td>\n",
              "      <td>interface_eu_test</td>\n",
              "    </tr>\n",
              "    <tr>\n",
              "      <th>168</th>\n",
              "      <td>2B06EB547B7AAD08</td>\n",
              "      <td>2020-12-07</td>\n",
              "      <td>EU</td>\n",
              "      <td>PC</td>\n",
              "      <td>A</td>\n",
              "      <td>recommender_system_test</td>\n",
              "    </tr>\n",
              "    <tr>\n",
              "      <th>169</th>\n",
              "      <td>2B06EB547B7AAD08</td>\n",
              "      <td>2020-12-07</td>\n",
              "      <td>EU</td>\n",
              "      <td>PC</td>\n",
              "      <td>A</td>\n",
              "      <td>interface_eu_test</td>\n",
              "    </tr>\n",
              "  </tbody>\n",
              "</table>\n",
              "</div>\n",
              "    <div class=\"colab-df-buttons\">\n",
              "\n",
              "  <div class=\"colab-df-container\">\n",
              "    <button class=\"colab-df-convert\" onclick=\"convertToInteractive('df-36d0ec4d-f6a0-44bd-ace4-eda300d0a567')\"\n",
              "            title=\"Convert this dataframe to an interactive table.\"\n",
              "            style=\"display:none;\">\n",
              "\n",
              "  <svg xmlns=\"http://www.w3.org/2000/svg\" height=\"24px\" viewBox=\"0 -960 960 960\">\n",
              "    <path d=\"M120-120v-720h720v720H120Zm60-500h600v-160H180v160Zm220 220h160v-160H400v160Zm0 220h160v-160H400v160ZM180-400h160v-160H180v160Zm440 0h160v-160H620v160ZM180-180h160v-160H180v160Zm440 0h160v-160H620v160Z\"/>\n",
              "  </svg>\n",
              "    </button>\n",
              "\n",
              "  <style>\n",
              "    .colab-df-container {\n",
              "      display:flex;\n",
              "      gap: 12px;\n",
              "    }\n",
              "\n",
              "    .colab-df-convert {\n",
              "      background-color: #E8F0FE;\n",
              "      border: none;\n",
              "      border-radius: 50%;\n",
              "      cursor: pointer;\n",
              "      display: none;\n",
              "      fill: #1967D2;\n",
              "      height: 32px;\n",
              "      padding: 0 0 0 0;\n",
              "      width: 32px;\n",
              "    }\n",
              "\n",
              "    .colab-df-convert:hover {\n",
              "      background-color: #E2EBFA;\n",
              "      box-shadow: 0px 1px 2px rgba(60, 64, 67, 0.3), 0px 1px 3px 1px rgba(60, 64, 67, 0.15);\n",
              "      fill: #174EA6;\n",
              "    }\n",
              "\n",
              "    .colab-df-buttons div {\n",
              "      margin-bottom: 4px;\n",
              "    }\n",
              "\n",
              "    [theme=dark] .colab-df-convert {\n",
              "      background-color: #3B4455;\n",
              "      fill: #D2E3FC;\n",
              "    }\n",
              "\n",
              "    [theme=dark] .colab-df-convert:hover {\n",
              "      background-color: #434B5C;\n",
              "      box-shadow: 0px 1px 3px 1px rgba(0, 0, 0, 0.15);\n",
              "      filter: drop-shadow(0px 1px 2px rgba(0, 0, 0, 0.3));\n",
              "      fill: #FFFFFF;\n",
              "    }\n",
              "  </style>\n",
              "\n",
              "    <script>\n",
              "      const buttonEl =\n",
              "        document.querySelector('#df-36d0ec4d-f6a0-44bd-ace4-eda300d0a567 button.colab-df-convert');\n",
              "      buttonEl.style.display =\n",
              "        google.colab.kernel.accessAllowed ? 'block' : 'none';\n",
              "\n",
              "      async function convertToInteractive(key) {\n",
              "        const element = document.querySelector('#df-36d0ec4d-f6a0-44bd-ace4-eda300d0a567');\n",
              "        const dataTable =\n",
              "          await google.colab.kernel.invokeFunction('convertToInteractive',\n",
              "                                                    [key], {});\n",
              "        if (!dataTable) return;\n",
              "\n",
              "        const docLinkHtml = 'Like what you see? Visit the ' +\n",
              "          '<a target=\"_blank\" href=https://colab.research.google.com/notebooks/data_table.ipynb>data table notebook</a>'\n",
              "          + ' to learn more about interactive tables.';\n",
              "        element.innerHTML = '';\n",
              "        dataTable['output_type'] = 'display_data';\n",
              "        await google.colab.output.renderOutput(dataTable, element);\n",
              "        const docLink = document.createElement('div');\n",
              "        docLink.innerHTML = docLinkHtml;\n",
              "        element.appendChild(docLink);\n",
              "      }\n",
              "    </script>\n",
              "  </div>\n",
              "\n",
              "\n",
              "<div id=\"df-efb629aa-2e78-49ee-9eb1-8b946d91e261\">\n",
              "  <button class=\"colab-df-quickchart\" onclick=\"quickchart('df-efb629aa-2e78-49ee-9eb1-8b946d91e261')\"\n",
              "            title=\"Suggest charts\"\n",
              "            style=\"display:none;\">\n",
              "\n",
              "<svg xmlns=\"http://www.w3.org/2000/svg\" height=\"24px\"viewBox=\"0 0 24 24\"\n",
              "     width=\"24px\">\n",
              "    <g>\n",
              "        <path d=\"M19 3H5c-1.1 0-2 .9-2 2v14c0 1.1.9 2 2 2h14c1.1 0 2-.9 2-2V5c0-1.1-.9-2-2-2zM9 17H7v-7h2v7zm4 0h-2V7h2v10zm4 0h-2v-4h2v4z\"/>\n",
              "    </g>\n",
              "</svg>\n",
              "  </button>\n",
              "\n",
              "<style>\n",
              "  .colab-df-quickchart {\n",
              "      --bg-color: #E8F0FE;\n",
              "      --fill-color: #1967D2;\n",
              "      --hover-bg-color: #E2EBFA;\n",
              "      --hover-fill-color: #174EA6;\n",
              "      --disabled-fill-color: #AAA;\n",
              "      --disabled-bg-color: #DDD;\n",
              "  }\n",
              "\n",
              "  [theme=dark] .colab-df-quickchart {\n",
              "      --bg-color: #3B4455;\n",
              "      --fill-color: #D2E3FC;\n",
              "      --hover-bg-color: #434B5C;\n",
              "      --hover-fill-color: #FFFFFF;\n",
              "      --disabled-bg-color: #3B4455;\n",
              "      --disabled-fill-color: #666;\n",
              "  }\n",
              "\n",
              "  .colab-df-quickchart {\n",
              "    background-color: var(--bg-color);\n",
              "    border: none;\n",
              "    border-radius: 50%;\n",
              "    cursor: pointer;\n",
              "    display: none;\n",
              "    fill: var(--fill-color);\n",
              "    height: 32px;\n",
              "    padding: 0;\n",
              "    width: 32px;\n",
              "  }\n",
              "\n",
              "  .colab-df-quickchart:hover {\n",
              "    background-color: var(--hover-bg-color);\n",
              "    box-shadow: 0 1px 2px rgba(60, 64, 67, 0.3), 0 1px 3px 1px rgba(60, 64, 67, 0.15);\n",
              "    fill: var(--button-hover-fill-color);\n",
              "  }\n",
              "\n",
              "  .colab-df-quickchart-complete:disabled,\n",
              "  .colab-df-quickchart-complete:disabled:hover {\n",
              "    background-color: var(--disabled-bg-color);\n",
              "    fill: var(--disabled-fill-color);\n",
              "    box-shadow: none;\n",
              "  }\n",
              "\n",
              "  .colab-df-spinner {\n",
              "    border: 2px solid var(--fill-color);\n",
              "    border-color: transparent;\n",
              "    border-bottom-color: var(--fill-color);\n",
              "    animation:\n",
              "      spin 1s steps(1) infinite;\n",
              "  }\n",
              "\n",
              "  @keyframes spin {\n",
              "    0% {\n",
              "      border-color: transparent;\n",
              "      border-bottom-color: var(--fill-color);\n",
              "      border-left-color: var(--fill-color);\n",
              "    }\n",
              "    20% {\n",
              "      border-color: transparent;\n",
              "      border-left-color: var(--fill-color);\n",
              "      border-top-color: var(--fill-color);\n",
              "    }\n",
              "    30% {\n",
              "      border-color: transparent;\n",
              "      border-left-color: var(--fill-color);\n",
              "      border-top-color: var(--fill-color);\n",
              "      border-right-color: var(--fill-color);\n",
              "    }\n",
              "    40% {\n",
              "      border-color: transparent;\n",
              "      border-right-color: var(--fill-color);\n",
              "      border-top-color: var(--fill-color);\n",
              "    }\n",
              "    60% {\n",
              "      border-color: transparent;\n",
              "      border-right-color: var(--fill-color);\n",
              "    }\n",
              "    80% {\n",
              "      border-color: transparent;\n",
              "      border-right-color: var(--fill-color);\n",
              "      border-bottom-color: var(--fill-color);\n",
              "    }\n",
              "    90% {\n",
              "      border-color: transparent;\n",
              "      border-bottom-color: var(--fill-color);\n",
              "    }\n",
              "  }\n",
              "</style>\n",
              "\n",
              "  <script>\n",
              "    async function quickchart(key) {\n",
              "      const quickchartButtonEl =\n",
              "        document.querySelector('#' + key + ' button');\n",
              "      quickchartButtonEl.disabled = true;  // To prevent multiple clicks.\n",
              "      quickchartButtonEl.classList.add('colab-df-spinner');\n",
              "      try {\n",
              "        const charts = await google.colab.kernel.invokeFunction(\n",
              "            'suggestCharts', [key], {});\n",
              "      } catch (error) {\n",
              "        console.error('Error during call to suggestCharts:', error);\n",
              "      }\n",
              "      quickchartButtonEl.classList.remove('colab-df-spinner');\n",
              "      quickchartButtonEl.classList.add('colab-df-quickchart-complete');\n",
              "    }\n",
              "    (() => {\n",
              "      let quickchartButtonEl =\n",
              "        document.querySelector('#df-efb629aa-2e78-49ee-9eb1-8b946d91e261 button');\n",
              "      quickchartButtonEl.style.display =\n",
              "        google.colab.kernel.accessAllowed ? 'block' : 'none';\n",
              "    })();\n",
              "  </script>\n",
              "</div>\n",
              "    </div>\n",
              "  </div>\n"
            ],
            "application/vnd.google.colaboratory.intrinsic+json": {
              "type": "dataframe",
              "summary": "{\n  \"name\": \"temp_df[temp_df\",\n  \"rows\": 10,\n  \"fields\": [\n    {\n      \"column\": \"user_id\",\n      \"properties\": {\n        \"dtype\": \"string\",\n        \"num_unique_values\": 5,\n        \"samples\": [\n          \"DD4352CDCF8C3D57\",\n          \"2B06EB547B7AAD08\",\n          \"7779596AE52635A8\"\n        ],\n        \"semantic_type\": \"\",\n        \"description\": \"\"\n      }\n    },\n    {\n      \"column\": \"first_date\",\n      \"properties\": {\n        \"dtype\": \"date\",\n        \"min\": \"2020-12-07 00:00:00\",\n        \"max\": \"2020-12-07 00:00:00\",\n        \"num_unique_values\": 1,\n        \"samples\": [\n          \"2020-12-07 00:00:00\"\n        ],\n        \"semantic_type\": \"\",\n        \"description\": \"\"\n      }\n    },\n    {\n      \"column\": \"region\",\n      \"properties\": {\n        \"dtype\": \"category\",\n        \"num_unique_values\": 1,\n        \"samples\": [\n          \"EU\"\n        ],\n        \"semantic_type\": \"\",\n        \"description\": \"\"\n      }\n    },\n    {\n      \"column\": \"device\",\n      \"properties\": {\n        \"dtype\": \"category\",\n        \"num_unique_values\": 3,\n        \"samples\": [\n          \"PC\"\n        ],\n        \"semantic_type\": \"\",\n        \"description\": \"\"\n      }\n    },\n    {\n      \"column\": \"group\",\n      \"properties\": {\n        \"dtype\": \"category\",\n        \"num_unique_values\": 2,\n        \"samples\": [\n          \"A\"\n        ],\n        \"semantic_type\": \"\",\n        \"description\": \"\"\n      }\n    },\n    {\n      \"column\": \"ab_test\",\n      \"properties\": {\n        \"dtype\": \"category\",\n        \"num_unique_values\": 2,\n        \"samples\": [\n          \"interface_eu_test\"\n        ],\n        \"semantic_type\": \"\",\n        \"description\": \"\"\n      }\n    }\n  ]\n}"
            }
          },
          "metadata": {},
          "execution_count": 25
        }
      ],
      "source": [
        "# похоже, что в объединенный датафрем попало больше чем ожидалось, появились дубликаты, посмотрим на них\n",
        "temp_df[temp_df.duplicated(subset='user_id', keep=False) == True].head(10)"
      ]
    },
    {
      "cell_type": "markdown",
      "metadata": {
        "id": "i1yZJtzu83py"
      },
      "source": [
        "#### Вывод\n",
        "Убедились, что доля пользователей, попавших в тест, согласно ТЗ, равна `15%` среди новых пользователей из `EU`, исключили старых пользователей, которые могли попасть в тест и выяснили, что некоторые пользователи попали в несколько тестов одновременно"
      ]
    },
    {
      "cell_type": "markdown",
      "metadata": {
        "id": "KSptNrXh83py"
      },
      "source": [
        "### 3.3 Проверка на пересечение пользователей в двух тестах\n",
        "Для начала отбросим всех пользователей, которые вообще не попали в тесты:"
      ]
    },
    {
      "cell_type": "code",
      "execution_count": 26,
      "metadata": {
        "id": "vgHZXTQJ83py",
        "outputId": "5a59b22c-ad67-4964-e9f7-a464940d9566",
        "colab": {
          "base_uri": "https://localhost:8080/"
        }
      },
      "outputs": [
        {
          "output_type": "stream",
          "name": "stdout",
          "text": [
            "Датафрейм до преобразований: 43942\n",
            "Датафрейм после преобразований: 16916\n"
          ]
        }
      ],
      "source": [
        "print('Датафрейм до преобразований:', temp_df.shape[0])\n",
        "temp_df = temp_df[temp_df['ab_test'].isna()==False]\n",
        "print('Датафрейм после преобразований:', temp_df.shape[0])"
      ]
    },
    {
      "cell_type": "code",
      "execution_count": 27,
      "metadata": {
        "id": "l1mq6sGJ83py",
        "outputId": "c2629d34-c5cb-42c6-edfc-042cd2fc3888",
        "colab": {
          "base_uri": "https://localhost:8080/",
          "height": 112
        }
      },
      "outputs": [
        {
          "output_type": "execute_result",
          "data": {
            "text/plain": [
              "                   ab_test  user_count  user_both_test  ratio\n",
              "0  interface_eu_test        10565       1602           15.16 \n",
              "1  recommender_system_test  6351        1602           25.22 "
            ],
            "text/html": [
              "\n",
              "  <div id=\"df-fcf7e74b-5035-4b1e-b2f6-9c27e2bedb03\" class=\"colab-df-container\">\n",
              "    <div>\n",
              "<style scoped>\n",
              "    .dataframe tbody tr th:only-of-type {\n",
              "        vertical-align: middle;\n",
              "    }\n",
              "\n",
              "    .dataframe tbody tr th {\n",
              "        vertical-align: top;\n",
              "    }\n",
              "\n",
              "    .dataframe thead th {\n",
              "        text-align: right;\n",
              "    }\n",
              "</style>\n",
              "<table border=\"1\" class=\"dataframe\">\n",
              "  <thead>\n",
              "    <tr style=\"text-align: right;\">\n",
              "      <th></th>\n",
              "      <th>ab_test</th>\n",
              "      <th>user_count</th>\n",
              "      <th>user_both_test</th>\n",
              "      <th>ratio</th>\n",
              "    </tr>\n",
              "  </thead>\n",
              "  <tbody>\n",
              "    <tr>\n",
              "      <th>0</th>\n",
              "      <td>interface_eu_test</td>\n",
              "      <td>10565</td>\n",
              "      <td>1602</td>\n",
              "      <td>15.16</td>\n",
              "    </tr>\n",
              "    <tr>\n",
              "      <th>1</th>\n",
              "      <td>recommender_system_test</td>\n",
              "      <td>6351</td>\n",
              "      <td>1602</td>\n",
              "      <td>25.22</td>\n",
              "    </tr>\n",
              "  </tbody>\n",
              "</table>\n",
              "</div>\n",
              "    <div class=\"colab-df-buttons\">\n",
              "\n",
              "  <div class=\"colab-df-container\">\n",
              "    <button class=\"colab-df-convert\" onclick=\"convertToInteractive('df-fcf7e74b-5035-4b1e-b2f6-9c27e2bedb03')\"\n",
              "            title=\"Convert this dataframe to an interactive table.\"\n",
              "            style=\"display:none;\">\n",
              "\n",
              "  <svg xmlns=\"http://www.w3.org/2000/svg\" height=\"24px\" viewBox=\"0 -960 960 960\">\n",
              "    <path d=\"M120-120v-720h720v720H120Zm60-500h600v-160H180v160Zm220 220h160v-160H400v160Zm0 220h160v-160H400v160ZM180-400h160v-160H180v160Zm440 0h160v-160H620v160ZM180-180h160v-160H180v160Zm440 0h160v-160H620v160Z\"/>\n",
              "  </svg>\n",
              "    </button>\n",
              "\n",
              "  <style>\n",
              "    .colab-df-container {\n",
              "      display:flex;\n",
              "      gap: 12px;\n",
              "    }\n",
              "\n",
              "    .colab-df-convert {\n",
              "      background-color: #E8F0FE;\n",
              "      border: none;\n",
              "      border-radius: 50%;\n",
              "      cursor: pointer;\n",
              "      display: none;\n",
              "      fill: #1967D2;\n",
              "      height: 32px;\n",
              "      padding: 0 0 0 0;\n",
              "      width: 32px;\n",
              "    }\n",
              "\n",
              "    .colab-df-convert:hover {\n",
              "      background-color: #E2EBFA;\n",
              "      box-shadow: 0px 1px 2px rgba(60, 64, 67, 0.3), 0px 1px 3px 1px rgba(60, 64, 67, 0.15);\n",
              "      fill: #174EA6;\n",
              "    }\n",
              "\n",
              "    .colab-df-buttons div {\n",
              "      margin-bottom: 4px;\n",
              "    }\n",
              "\n",
              "    [theme=dark] .colab-df-convert {\n",
              "      background-color: #3B4455;\n",
              "      fill: #D2E3FC;\n",
              "    }\n",
              "\n",
              "    [theme=dark] .colab-df-convert:hover {\n",
              "      background-color: #434B5C;\n",
              "      box-shadow: 0px 1px 3px 1px rgba(0, 0, 0, 0.15);\n",
              "      filter: drop-shadow(0px 1px 2px rgba(0, 0, 0, 0.3));\n",
              "      fill: #FFFFFF;\n",
              "    }\n",
              "  </style>\n",
              "\n",
              "    <script>\n",
              "      const buttonEl =\n",
              "        document.querySelector('#df-fcf7e74b-5035-4b1e-b2f6-9c27e2bedb03 button.colab-df-convert');\n",
              "      buttonEl.style.display =\n",
              "        google.colab.kernel.accessAllowed ? 'block' : 'none';\n",
              "\n",
              "      async function convertToInteractive(key) {\n",
              "        const element = document.querySelector('#df-fcf7e74b-5035-4b1e-b2f6-9c27e2bedb03');\n",
              "        const dataTable =\n",
              "          await google.colab.kernel.invokeFunction('convertToInteractive',\n",
              "                                                    [key], {});\n",
              "        if (!dataTable) return;\n",
              "\n",
              "        const docLinkHtml = 'Like what you see? Visit the ' +\n",
              "          '<a target=\"_blank\" href=https://colab.research.google.com/notebooks/data_table.ipynb>data table notebook</a>'\n",
              "          + ' to learn more about interactive tables.';\n",
              "        element.innerHTML = '';\n",
              "        dataTable['output_type'] = 'display_data';\n",
              "        await google.colab.output.renderOutput(dataTable, element);\n",
              "        const docLink = document.createElement('div');\n",
              "        docLink.innerHTML = docLinkHtml;\n",
              "        element.appendChild(docLink);\n",
              "      }\n",
              "    </script>\n",
              "  </div>\n",
              "\n",
              "\n",
              "<div id=\"df-e503087b-91ae-45dc-80d4-1d370553670d\">\n",
              "  <button class=\"colab-df-quickchart\" onclick=\"quickchart('df-e503087b-91ae-45dc-80d4-1d370553670d')\"\n",
              "            title=\"Suggest charts\"\n",
              "            style=\"display:none;\">\n",
              "\n",
              "<svg xmlns=\"http://www.w3.org/2000/svg\" height=\"24px\"viewBox=\"0 0 24 24\"\n",
              "     width=\"24px\">\n",
              "    <g>\n",
              "        <path d=\"M19 3H5c-1.1 0-2 .9-2 2v14c0 1.1.9 2 2 2h14c1.1 0 2-.9 2-2V5c0-1.1-.9-2-2-2zM9 17H7v-7h2v7zm4 0h-2V7h2v10zm4 0h-2v-4h2v4z\"/>\n",
              "    </g>\n",
              "</svg>\n",
              "  </button>\n",
              "\n",
              "<style>\n",
              "  .colab-df-quickchart {\n",
              "      --bg-color: #E8F0FE;\n",
              "      --fill-color: #1967D2;\n",
              "      --hover-bg-color: #E2EBFA;\n",
              "      --hover-fill-color: #174EA6;\n",
              "      --disabled-fill-color: #AAA;\n",
              "      --disabled-bg-color: #DDD;\n",
              "  }\n",
              "\n",
              "  [theme=dark] .colab-df-quickchart {\n",
              "      --bg-color: #3B4455;\n",
              "      --fill-color: #D2E3FC;\n",
              "      --hover-bg-color: #434B5C;\n",
              "      --hover-fill-color: #FFFFFF;\n",
              "      --disabled-bg-color: #3B4455;\n",
              "      --disabled-fill-color: #666;\n",
              "  }\n",
              "\n",
              "  .colab-df-quickchart {\n",
              "    background-color: var(--bg-color);\n",
              "    border: none;\n",
              "    border-radius: 50%;\n",
              "    cursor: pointer;\n",
              "    display: none;\n",
              "    fill: var(--fill-color);\n",
              "    height: 32px;\n",
              "    padding: 0;\n",
              "    width: 32px;\n",
              "  }\n",
              "\n",
              "  .colab-df-quickchart:hover {\n",
              "    background-color: var(--hover-bg-color);\n",
              "    box-shadow: 0 1px 2px rgba(60, 64, 67, 0.3), 0 1px 3px 1px rgba(60, 64, 67, 0.15);\n",
              "    fill: var(--button-hover-fill-color);\n",
              "  }\n",
              "\n",
              "  .colab-df-quickchart-complete:disabled,\n",
              "  .colab-df-quickchart-complete:disabled:hover {\n",
              "    background-color: var(--disabled-bg-color);\n",
              "    fill: var(--disabled-fill-color);\n",
              "    box-shadow: none;\n",
              "  }\n",
              "\n",
              "  .colab-df-spinner {\n",
              "    border: 2px solid var(--fill-color);\n",
              "    border-color: transparent;\n",
              "    border-bottom-color: var(--fill-color);\n",
              "    animation:\n",
              "      spin 1s steps(1) infinite;\n",
              "  }\n",
              "\n",
              "  @keyframes spin {\n",
              "    0% {\n",
              "      border-color: transparent;\n",
              "      border-bottom-color: var(--fill-color);\n",
              "      border-left-color: var(--fill-color);\n",
              "    }\n",
              "    20% {\n",
              "      border-color: transparent;\n",
              "      border-left-color: var(--fill-color);\n",
              "      border-top-color: var(--fill-color);\n",
              "    }\n",
              "    30% {\n",
              "      border-color: transparent;\n",
              "      border-left-color: var(--fill-color);\n",
              "      border-top-color: var(--fill-color);\n",
              "      border-right-color: var(--fill-color);\n",
              "    }\n",
              "    40% {\n",
              "      border-color: transparent;\n",
              "      border-right-color: var(--fill-color);\n",
              "      border-top-color: var(--fill-color);\n",
              "    }\n",
              "    60% {\n",
              "      border-color: transparent;\n",
              "      border-right-color: var(--fill-color);\n",
              "    }\n",
              "    80% {\n",
              "      border-color: transparent;\n",
              "      border-right-color: var(--fill-color);\n",
              "      border-bottom-color: var(--fill-color);\n",
              "    }\n",
              "    90% {\n",
              "      border-color: transparent;\n",
              "      border-bottom-color: var(--fill-color);\n",
              "    }\n",
              "  }\n",
              "</style>\n",
              "\n",
              "  <script>\n",
              "    async function quickchart(key) {\n",
              "      const quickchartButtonEl =\n",
              "        document.querySelector('#' + key + ' button');\n",
              "      quickchartButtonEl.disabled = true;  // To prevent multiple clicks.\n",
              "      quickchartButtonEl.classList.add('colab-df-spinner');\n",
              "      try {\n",
              "        const charts = await google.colab.kernel.invokeFunction(\n",
              "            'suggestCharts', [key], {});\n",
              "      } catch (error) {\n",
              "        console.error('Error during call to suggestCharts:', error);\n",
              "      }\n",
              "      quickchartButtonEl.classList.remove('colab-df-spinner');\n",
              "      quickchartButtonEl.classList.add('colab-df-quickchart-complete');\n",
              "    }\n",
              "    (() => {\n",
              "      let quickchartButtonEl =\n",
              "        document.querySelector('#df-e503087b-91ae-45dc-80d4-1d370553670d button');\n",
              "      quickchartButtonEl.style.display =\n",
              "        google.colab.kernel.accessAllowed ? 'block' : 'none';\n",
              "    })();\n",
              "  </script>\n",
              "</div>\n",
              "    </div>\n",
              "  </div>\n"
            ],
            "application/vnd.google.colaboratory.intrinsic+json": {
              "type": "dataframe",
              "variable_name": "both_test",
              "summary": "{\n  \"name\": \"both_test\",\n  \"rows\": 2,\n  \"fields\": [\n    {\n      \"column\": \"ab_test\",\n      \"properties\": {\n        \"dtype\": \"string\",\n        \"num_unique_values\": 2,\n        \"samples\": [\n          \"recommender_system_test\",\n          \"interface_eu_test\"\n        ],\n        \"semantic_type\": \"\",\n        \"description\": \"\"\n      }\n    },\n    {\n      \"column\": \"user_count\",\n      \"properties\": {\n        \"dtype\": \"number\",\n        \"std\": 2979,\n        \"min\": 6351,\n        \"max\": 10565,\n        \"num_unique_values\": 2,\n        \"samples\": [\n          6351,\n          10565\n        ],\n        \"semantic_type\": \"\",\n        \"description\": \"\"\n      }\n    },\n    {\n      \"column\": \"user_both_test\",\n      \"properties\": {\n        \"dtype\": \"number\",\n        \"std\": 0,\n        \"min\": 1602,\n        \"max\": 1602,\n        \"num_unique_values\": 1,\n        \"samples\": [\n          1602\n        ],\n        \"semantic_type\": \"\",\n        \"description\": \"\"\n      }\n    },\n    {\n      \"column\": \"ratio\",\n      \"properties\": {\n        \"dtype\": \"number\",\n        \"std\": 7.113494218736667,\n        \"min\": 15.16,\n        \"max\": 25.22,\n        \"num_unique_values\": 2,\n        \"samples\": [\n          25.22\n        ],\n        \"semantic_type\": \"\",\n        \"description\": \"\"\n      }\n    }\n  ]\n}"
            }
          },
          "metadata": {},
          "execution_count": 27
        }
      ],
      "source": [
        " #посмотрим  сколько  пользователей попали в оба теста\n",
        "both_test_user_list = set(temp_df[temp_df['ab_test']=='interface_eu_test']['user_id']) & set(temp_df[temp_df['ab_test']=='recommender_system_test']['user_id'])\n",
        "\n",
        "both_test = temp_df.groupby(['ab_test'])['user_id'].count().reset_index().rename(columns={'user_id': 'user_count'}).merge(\n",
        "    temp_df[temp_df['user_id'].isin(both_test_user_list)].groupby(['ab_test'])['user_id'].count().reset_index(), on='ab_test').rename(columns={'user_id':'user_both_test'})\n",
        "\n",
        "both_test['ratio'] = round(both_test['user_both_test'] / both_test['user_count'] * 100, 2)\n",
        "both_test"
      ]
    },
    {
      "cell_type": "markdown",
      "metadata": {
        "id": "Bmz9CMxK83pz"
      },
      "source": [
        "Чуть больше 25% участников теста `recommender_system_test` попали в тест `interface_eu_test`, доля очень весомая и просто так удалить их мы не можем. Зная, что контрольная группа не видит изменений, то попробуем сохранить пользователей, которые из теста `recommender_system_test` попали в группу `A` теста `interface_eu_test`:"
      ]
    },
    {
      "cell_type": "code",
      "execution_count": 28,
      "metadata": {
        "id": "bjMUEhQL83pz",
        "outputId": "1520d73a-e208-47e4-bc69-49660d1e71e7",
        "colab": {
          "base_uri": "https://localhost:8080/",
          "height": 174
        }
      },
      "outputs": [
        {
          "output_type": "execute_result",
          "data": {
            "text/plain": [
              "                   ab_test group  user_id\n",
              "0  interface_eu_test        A     5342   \n",
              "1  interface_eu_test        B     5223   \n",
              "2  recommender_system_test  A     3634   \n",
              "3  recommender_system_test  B     2717   "
            ],
            "text/html": [
              "\n",
              "  <div id=\"df-76702c86-9d9e-4ccc-8566-158031748c40\" class=\"colab-df-container\">\n",
              "    <div>\n",
              "<style scoped>\n",
              "    .dataframe tbody tr th:only-of-type {\n",
              "        vertical-align: middle;\n",
              "    }\n",
              "\n",
              "    .dataframe tbody tr th {\n",
              "        vertical-align: top;\n",
              "    }\n",
              "\n",
              "    .dataframe thead th {\n",
              "        text-align: right;\n",
              "    }\n",
              "</style>\n",
              "<table border=\"1\" class=\"dataframe\">\n",
              "  <thead>\n",
              "    <tr style=\"text-align: right;\">\n",
              "      <th></th>\n",
              "      <th>ab_test</th>\n",
              "      <th>group</th>\n",
              "      <th>user_id</th>\n",
              "    </tr>\n",
              "  </thead>\n",
              "  <tbody>\n",
              "    <tr>\n",
              "      <th>0</th>\n",
              "      <td>interface_eu_test</td>\n",
              "      <td>A</td>\n",
              "      <td>5342</td>\n",
              "    </tr>\n",
              "    <tr>\n",
              "      <th>1</th>\n",
              "      <td>interface_eu_test</td>\n",
              "      <td>B</td>\n",
              "      <td>5223</td>\n",
              "    </tr>\n",
              "    <tr>\n",
              "      <th>2</th>\n",
              "      <td>recommender_system_test</td>\n",
              "      <td>A</td>\n",
              "      <td>3634</td>\n",
              "    </tr>\n",
              "    <tr>\n",
              "      <th>3</th>\n",
              "      <td>recommender_system_test</td>\n",
              "      <td>B</td>\n",
              "      <td>2717</td>\n",
              "    </tr>\n",
              "  </tbody>\n",
              "</table>\n",
              "</div>\n",
              "    <div class=\"colab-df-buttons\">\n",
              "\n",
              "  <div class=\"colab-df-container\">\n",
              "    <button class=\"colab-df-convert\" onclick=\"convertToInteractive('df-76702c86-9d9e-4ccc-8566-158031748c40')\"\n",
              "            title=\"Convert this dataframe to an interactive table.\"\n",
              "            style=\"display:none;\">\n",
              "\n",
              "  <svg xmlns=\"http://www.w3.org/2000/svg\" height=\"24px\" viewBox=\"0 -960 960 960\">\n",
              "    <path d=\"M120-120v-720h720v720H120Zm60-500h600v-160H180v160Zm220 220h160v-160H400v160Zm0 220h160v-160H400v160ZM180-400h160v-160H180v160Zm440 0h160v-160H620v160ZM180-180h160v-160H180v160Zm440 0h160v-160H620v160Z\"/>\n",
              "  </svg>\n",
              "    </button>\n",
              "\n",
              "  <style>\n",
              "    .colab-df-container {\n",
              "      display:flex;\n",
              "      gap: 12px;\n",
              "    }\n",
              "\n",
              "    .colab-df-convert {\n",
              "      background-color: #E8F0FE;\n",
              "      border: none;\n",
              "      border-radius: 50%;\n",
              "      cursor: pointer;\n",
              "      display: none;\n",
              "      fill: #1967D2;\n",
              "      height: 32px;\n",
              "      padding: 0 0 0 0;\n",
              "      width: 32px;\n",
              "    }\n",
              "\n",
              "    .colab-df-convert:hover {\n",
              "      background-color: #E2EBFA;\n",
              "      box-shadow: 0px 1px 2px rgba(60, 64, 67, 0.3), 0px 1px 3px 1px rgba(60, 64, 67, 0.15);\n",
              "      fill: #174EA6;\n",
              "    }\n",
              "\n",
              "    .colab-df-buttons div {\n",
              "      margin-bottom: 4px;\n",
              "    }\n",
              "\n",
              "    [theme=dark] .colab-df-convert {\n",
              "      background-color: #3B4455;\n",
              "      fill: #D2E3FC;\n",
              "    }\n",
              "\n",
              "    [theme=dark] .colab-df-convert:hover {\n",
              "      background-color: #434B5C;\n",
              "      box-shadow: 0px 1px 3px 1px rgba(0, 0, 0, 0.15);\n",
              "      filter: drop-shadow(0px 1px 2px rgba(0, 0, 0, 0.3));\n",
              "      fill: #FFFFFF;\n",
              "    }\n",
              "  </style>\n",
              "\n",
              "    <script>\n",
              "      const buttonEl =\n",
              "        document.querySelector('#df-76702c86-9d9e-4ccc-8566-158031748c40 button.colab-df-convert');\n",
              "      buttonEl.style.display =\n",
              "        google.colab.kernel.accessAllowed ? 'block' : 'none';\n",
              "\n",
              "      async function convertToInteractive(key) {\n",
              "        const element = document.querySelector('#df-76702c86-9d9e-4ccc-8566-158031748c40');\n",
              "        const dataTable =\n",
              "          await google.colab.kernel.invokeFunction('convertToInteractive',\n",
              "                                                    [key], {});\n",
              "        if (!dataTable) return;\n",
              "\n",
              "        const docLinkHtml = 'Like what you see? Visit the ' +\n",
              "          '<a target=\"_blank\" href=https://colab.research.google.com/notebooks/data_table.ipynb>data table notebook</a>'\n",
              "          + ' to learn more about interactive tables.';\n",
              "        element.innerHTML = '';\n",
              "        dataTable['output_type'] = 'display_data';\n",
              "        await google.colab.output.renderOutput(dataTable, element);\n",
              "        const docLink = document.createElement('div');\n",
              "        docLink.innerHTML = docLinkHtml;\n",
              "        element.appendChild(docLink);\n",
              "      }\n",
              "    </script>\n",
              "  </div>\n",
              "\n",
              "\n",
              "<div id=\"df-45e9a59d-2fb0-44be-9b6b-6bebfd26d62a\">\n",
              "  <button class=\"colab-df-quickchart\" onclick=\"quickchart('df-45e9a59d-2fb0-44be-9b6b-6bebfd26d62a')\"\n",
              "            title=\"Suggest charts\"\n",
              "            style=\"display:none;\">\n",
              "\n",
              "<svg xmlns=\"http://www.w3.org/2000/svg\" height=\"24px\"viewBox=\"0 0 24 24\"\n",
              "     width=\"24px\">\n",
              "    <g>\n",
              "        <path d=\"M19 3H5c-1.1 0-2 .9-2 2v14c0 1.1.9 2 2 2h14c1.1 0 2-.9 2-2V5c0-1.1-.9-2-2-2zM9 17H7v-7h2v7zm4 0h-2V7h2v10zm4 0h-2v-4h2v4z\"/>\n",
              "    </g>\n",
              "</svg>\n",
              "  </button>\n",
              "\n",
              "<style>\n",
              "  .colab-df-quickchart {\n",
              "      --bg-color: #E8F0FE;\n",
              "      --fill-color: #1967D2;\n",
              "      --hover-bg-color: #E2EBFA;\n",
              "      --hover-fill-color: #174EA6;\n",
              "      --disabled-fill-color: #AAA;\n",
              "      --disabled-bg-color: #DDD;\n",
              "  }\n",
              "\n",
              "  [theme=dark] .colab-df-quickchart {\n",
              "      --bg-color: #3B4455;\n",
              "      --fill-color: #D2E3FC;\n",
              "      --hover-bg-color: #434B5C;\n",
              "      --hover-fill-color: #FFFFFF;\n",
              "      --disabled-bg-color: #3B4455;\n",
              "      --disabled-fill-color: #666;\n",
              "  }\n",
              "\n",
              "  .colab-df-quickchart {\n",
              "    background-color: var(--bg-color);\n",
              "    border: none;\n",
              "    border-radius: 50%;\n",
              "    cursor: pointer;\n",
              "    display: none;\n",
              "    fill: var(--fill-color);\n",
              "    height: 32px;\n",
              "    padding: 0;\n",
              "    width: 32px;\n",
              "  }\n",
              "\n",
              "  .colab-df-quickchart:hover {\n",
              "    background-color: var(--hover-bg-color);\n",
              "    box-shadow: 0 1px 2px rgba(60, 64, 67, 0.3), 0 1px 3px 1px rgba(60, 64, 67, 0.15);\n",
              "    fill: var(--button-hover-fill-color);\n",
              "  }\n",
              "\n",
              "  .colab-df-quickchart-complete:disabled,\n",
              "  .colab-df-quickchart-complete:disabled:hover {\n",
              "    background-color: var(--disabled-bg-color);\n",
              "    fill: var(--disabled-fill-color);\n",
              "    box-shadow: none;\n",
              "  }\n",
              "\n",
              "  .colab-df-spinner {\n",
              "    border: 2px solid var(--fill-color);\n",
              "    border-color: transparent;\n",
              "    border-bottom-color: var(--fill-color);\n",
              "    animation:\n",
              "      spin 1s steps(1) infinite;\n",
              "  }\n",
              "\n",
              "  @keyframes spin {\n",
              "    0% {\n",
              "      border-color: transparent;\n",
              "      border-bottom-color: var(--fill-color);\n",
              "      border-left-color: var(--fill-color);\n",
              "    }\n",
              "    20% {\n",
              "      border-color: transparent;\n",
              "      border-left-color: var(--fill-color);\n",
              "      border-top-color: var(--fill-color);\n",
              "    }\n",
              "    30% {\n",
              "      border-color: transparent;\n",
              "      border-left-color: var(--fill-color);\n",
              "      border-top-color: var(--fill-color);\n",
              "      border-right-color: var(--fill-color);\n",
              "    }\n",
              "    40% {\n",
              "      border-color: transparent;\n",
              "      border-right-color: var(--fill-color);\n",
              "      border-top-color: var(--fill-color);\n",
              "    }\n",
              "    60% {\n",
              "      border-color: transparent;\n",
              "      border-right-color: var(--fill-color);\n",
              "    }\n",
              "    80% {\n",
              "      border-color: transparent;\n",
              "      border-right-color: var(--fill-color);\n",
              "      border-bottom-color: var(--fill-color);\n",
              "    }\n",
              "    90% {\n",
              "      border-color: transparent;\n",
              "      border-bottom-color: var(--fill-color);\n",
              "    }\n",
              "  }\n",
              "</style>\n",
              "\n",
              "  <script>\n",
              "    async function quickchart(key) {\n",
              "      const quickchartButtonEl =\n",
              "        document.querySelector('#' + key + ' button');\n",
              "      quickchartButtonEl.disabled = true;  // To prevent multiple clicks.\n",
              "      quickchartButtonEl.classList.add('colab-df-spinner');\n",
              "      try {\n",
              "        const charts = await google.colab.kernel.invokeFunction(\n",
              "            'suggestCharts', [key], {});\n",
              "      } catch (error) {\n",
              "        console.error('Error during call to suggestCharts:', error);\n",
              "      }\n",
              "      quickchartButtonEl.classList.remove('colab-df-spinner');\n",
              "      quickchartButtonEl.classList.add('colab-df-quickchart-complete');\n",
              "    }\n",
              "    (() => {\n",
              "      let quickchartButtonEl =\n",
              "        document.querySelector('#df-45e9a59d-2fb0-44be-9b6b-6bebfd26d62a button');\n",
              "      quickchartButtonEl.style.display =\n",
              "        google.colab.kernel.accessAllowed ? 'block' : 'none';\n",
              "    })();\n",
              "  </script>\n",
              "</div>\n",
              "    </div>\n",
              "  </div>\n"
            ],
            "application/vnd.google.colaboratory.intrinsic+json": {
              "type": "dataframe",
              "summary": "{\n  \"name\": \"temp_df\",\n  \"rows\": 4,\n  \"fields\": [\n    {\n      \"column\": \"ab_test\",\n      \"properties\": {\n        \"dtype\": \"string\",\n        \"num_unique_values\": 2,\n        \"samples\": [\n          \"recommender_system_test\",\n          \"interface_eu_test\"\n        ],\n        \"semantic_type\": \"\",\n        \"description\": \"\"\n      }\n    },\n    {\n      \"column\": \"group\",\n      \"properties\": {\n        \"dtype\": \"string\",\n        \"num_unique_values\": 2,\n        \"samples\": [\n          \"B\",\n          \"A\"\n        ],\n        \"semantic_type\": \"\",\n        \"description\": \"\"\n      }\n    },\n    {\n      \"column\": \"user_id\",\n      \"properties\": {\n        \"dtype\": \"number\",\n        \"std\": 1273,\n        \"min\": 2717,\n        \"max\": 5342,\n        \"num_unique_values\": 4,\n        \"samples\": [\n          5223,\n          2717\n        ],\n        \"semantic_type\": \"\",\n        \"description\": \"\"\n      }\n    }\n  ]\n}"
            }
          },
          "metadata": {},
          "execution_count": 28
        }
      ],
      "source": [
        "#помсотрим как пользователи распределились по тестам и группам\n",
        "temp_df.groupby(['ab_test', 'group'])['user_id'].count().reset_index()"
      ]
    },
    {
      "cell_type": "code",
      "execution_count": 29,
      "metadata": {
        "id": "yxkoLQiG83pz",
        "outputId": "5c389d33-e6b0-4913-d5aa-cca3f1b61043",
        "colab": {
          "base_uri": "https://localhost:8080/",
          "height": 174
        }
      },
      "outputs": [
        {
          "output_type": "execute_result",
          "data": {
            "text/plain": [
              "                   ab_test group  user_id\n",
              "0  interface_eu_test        A     819    \n",
              "1  interface_eu_test        B     783    \n",
              "2  recommender_system_test  A     921    \n",
              "3  recommender_system_test  B     681    "
            ],
            "text/html": [
              "\n",
              "  <div id=\"df-5644e098-68a9-4e4b-9652-913780d026b2\" class=\"colab-df-container\">\n",
              "    <div>\n",
              "<style scoped>\n",
              "    .dataframe tbody tr th:only-of-type {\n",
              "        vertical-align: middle;\n",
              "    }\n",
              "\n",
              "    .dataframe tbody tr th {\n",
              "        vertical-align: top;\n",
              "    }\n",
              "\n",
              "    .dataframe thead th {\n",
              "        text-align: right;\n",
              "    }\n",
              "</style>\n",
              "<table border=\"1\" class=\"dataframe\">\n",
              "  <thead>\n",
              "    <tr style=\"text-align: right;\">\n",
              "      <th></th>\n",
              "      <th>ab_test</th>\n",
              "      <th>group</th>\n",
              "      <th>user_id</th>\n",
              "    </tr>\n",
              "  </thead>\n",
              "  <tbody>\n",
              "    <tr>\n",
              "      <th>0</th>\n",
              "      <td>interface_eu_test</td>\n",
              "      <td>A</td>\n",
              "      <td>819</td>\n",
              "    </tr>\n",
              "    <tr>\n",
              "      <th>1</th>\n",
              "      <td>interface_eu_test</td>\n",
              "      <td>B</td>\n",
              "      <td>783</td>\n",
              "    </tr>\n",
              "    <tr>\n",
              "      <th>2</th>\n",
              "      <td>recommender_system_test</td>\n",
              "      <td>A</td>\n",
              "      <td>921</td>\n",
              "    </tr>\n",
              "    <tr>\n",
              "      <th>3</th>\n",
              "      <td>recommender_system_test</td>\n",
              "      <td>B</td>\n",
              "      <td>681</td>\n",
              "    </tr>\n",
              "  </tbody>\n",
              "</table>\n",
              "</div>\n",
              "    <div class=\"colab-df-buttons\">\n",
              "\n",
              "  <div class=\"colab-df-container\">\n",
              "    <button class=\"colab-df-convert\" onclick=\"convertToInteractive('df-5644e098-68a9-4e4b-9652-913780d026b2')\"\n",
              "            title=\"Convert this dataframe to an interactive table.\"\n",
              "            style=\"display:none;\">\n",
              "\n",
              "  <svg xmlns=\"http://www.w3.org/2000/svg\" height=\"24px\" viewBox=\"0 -960 960 960\">\n",
              "    <path d=\"M120-120v-720h720v720H120Zm60-500h600v-160H180v160Zm220 220h160v-160H400v160Zm0 220h160v-160H400v160ZM180-400h160v-160H180v160Zm440 0h160v-160H620v160ZM180-180h160v-160H180v160Zm440 0h160v-160H620v160Z\"/>\n",
              "  </svg>\n",
              "    </button>\n",
              "\n",
              "  <style>\n",
              "    .colab-df-container {\n",
              "      display:flex;\n",
              "      gap: 12px;\n",
              "    }\n",
              "\n",
              "    .colab-df-convert {\n",
              "      background-color: #E8F0FE;\n",
              "      border: none;\n",
              "      border-radius: 50%;\n",
              "      cursor: pointer;\n",
              "      display: none;\n",
              "      fill: #1967D2;\n",
              "      height: 32px;\n",
              "      padding: 0 0 0 0;\n",
              "      width: 32px;\n",
              "    }\n",
              "\n",
              "    .colab-df-convert:hover {\n",
              "      background-color: #E2EBFA;\n",
              "      box-shadow: 0px 1px 2px rgba(60, 64, 67, 0.3), 0px 1px 3px 1px rgba(60, 64, 67, 0.15);\n",
              "      fill: #174EA6;\n",
              "    }\n",
              "\n",
              "    .colab-df-buttons div {\n",
              "      margin-bottom: 4px;\n",
              "    }\n",
              "\n",
              "    [theme=dark] .colab-df-convert {\n",
              "      background-color: #3B4455;\n",
              "      fill: #D2E3FC;\n",
              "    }\n",
              "\n",
              "    [theme=dark] .colab-df-convert:hover {\n",
              "      background-color: #434B5C;\n",
              "      box-shadow: 0px 1px 3px 1px rgba(0, 0, 0, 0.15);\n",
              "      filter: drop-shadow(0px 1px 2px rgba(0, 0, 0, 0.3));\n",
              "      fill: #FFFFFF;\n",
              "    }\n",
              "  </style>\n",
              "\n",
              "    <script>\n",
              "      const buttonEl =\n",
              "        document.querySelector('#df-5644e098-68a9-4e4b-9652-913780d026b2 button.colab-df-convert');\n",
              "      buttonEl.style.display =\n",
              "        google.colab.kernel.accessAllowed ? 'block' : 'none';\n",
              "\n",
              "      async function convertToInteractive(key) {\n",
              "        const element = document.querySelector('#df-5644e098-68a9-4e4b-9652-913780d026b2');\n",
              "        const dataTable =\n",
              "          await google.colab.kernel.invokeFunction('convertToInteractive',\n",
              "                                                    [key], {});\n",
              "        if (!dataTable) return;\n",
              "\n",
              "        const docLinkHtml = 'Like what you see? Visit the ' +\n",
              "          '<a target=\"_blank\" href=https://colab.research.google.com/notebooks/data_table.ipynb>data table notebook</a>'\n",
              "          + ' to learn more about interactive tables.';\n",
              "        element.innerHTML = '';\n",
              "        dataTable['output_type'] = 'display_data';\n",
              "        await google.colab.output.renderOutput(dataTable, element);\n",
              "        const docLink = document.createElement('div');\n",
              "        docLink.innerHTML = docLinkHtml;\n",
              "        element.appendChild(docLink);\n",
              "      }\n",
              "    </script>\n",
              "  </div>\n",
              "\n",
              "\n",
              "<div id=\"df-3283ba02-f4ec-4d01-b995-01c5b5a8152a\">\n",
              "  <button class=\"colab-df-quickchart\" onclick=\"quickchart('df-3283ba02-f4ec-4d01-b995-01c5b5a8152a')\"\n",
              "            title=\"Suggest charts\"\n",
              "            style=\"display:none;\">\n",
              "\n",
              "<svg xmlns=\"http://www.w3.org/2000/svg\" height=\"24px\"viewBox=\"0 0 24 24\"\n",
              "     width=\"24px\">\n",
              "    <g>\n",
              "        <path d=\"M19 3H5c-1.1 0-2 .9-2 2v14c0 1.1.9 2 2 2h14c1.1 0 2-.9 2-2V5c0-1.1-.9-2-2-2zM9 17H7v-7h2v7zm4 0h-2V7h2v10zm4 0h-2v-4h2v4z\"/>\n",
              "    </g>\n",
              "</svg>\n",
              "  </button>\n",
              "\n",
              "<style>\n",
              "  .colab-df-quickchart {\n",
              "      --bg-color: #E8F0FE;\n",
              "      --fill-color: #1967D2;\n",
              "      --hover-bg-color: #E2EBFA;\n",
              "      --hover-fill-color: #174EA6;\n",
              "      --disabled-fill-color: #AAA;\n",
              "      --disabled-bg-color: #DDD;\n",
              "  }\n",
              "\n",
              "  [theme=dark] .colab-df-quickchart {\n",
              "      --bg-color: #3B4455;\n",
              "      --fill-color: #D2E3FC;\n",
              "      --hover-bg-color: #434B5C;\n",
              "      --hover-fill-color: #FFFFFF;\n",
              "      --disabled-bg-color: #3B4455;\n",
              "      --disabled-fill-color: #666;\n",
              "  }\n",
              "\n",
              "  .colab-df-quickchart {\n",
              "    background-color: var(--bg-color);\n",
              "    border: none;\n",
              "    border-radius: 50%;\n",
              "    cursor: pointer;\n",
              "    display: none;\n",
              "    fill: var(--fill-color);\n",
              "    height: 32px;\n",
              "    padding: 0;\n",
              "    width: 32px;\n",
              "  }\n",
              "\n",
              "  .colab-df-quickchart:hover {\n",
              "    background-color: var(--hover-bg-color);\n",
              "    box-shadow: 0 1px 2px rgba(60, 64, 67, 0.3), 0 1px 3px 1px rgba(60, 64, 67, 0.15);\n",
              "    fill: var(--button-hover-fill-color);\n",
              "  }\n",
              "\n",
              "  .colab-df-quickchart-complete:disabled,\n",
              "  .colab-df-quickchart-complete:disabled:hover {\n",
              "    background-color: var(--disabled-bg-color);\n",
              "    fill: var(--disabled-fill-color);\n",
              "    box-shadow: none;\n",
              "  }\n",
              "\n",
              "  .colab-df-spinner {\n",
              "    border: 2px solid var(--fill-color);\n",
              "    border-color: transparent;\n",
              "    border-bottom-color: var(--fill-color);\n",
              "    animation:\n",
              "      spin 1s steps(1) infinite;\n",
              "  }\n",
              "\n",
              "  @keyframes spin {\n",
              "    0% {\n",
              "      border-color: transparent;\n",
              "      border-bottom-color: var(--fill-color);\n",
              "      border-left-color: var(--fill-color);\n",
              "    }\n",
              "    20% {\n",
              "      border-color: transparent;\n",
              "      border-left-color: var(--fill-color);\n",
              "      border-top-color: var(--fill-color);\n",
              "    }\n",
              "    30% {\n",
              "      border-color: transparent;\n",
              "      border-left-color: var(--fill-color);\n",
              "      border-top-color: var(--fill-color);\n",
              "      border-right-color: var(--fill-color);\n",
              "    }\n",
              "    40% {\n",
              "      border-color: transparent;\n",
              "      border-right-color: var(--fill-color);\n",
              "      border-top-color: var(--fill-color);\n",
              "    }\n",
              "    60% {\n",
              "      border-color: transparent;\n",
              "      border-right-color: var(--fill-color);\n",
              "    }\n",
              "    80% {\n",
              "      border-color: transparent;\n",
              "      border-right-color: var(--fill-color);\n",
              "      border-bottom-color: var(--fill-color);\n",
              "    }\n",
              "    90% {\n",
              "      border-color: transparent;\n",
              "      border-bottom-color: var(--fill-color);\n",
              "    }\n",
              "  }\n",
              "</style>\n",
              "\n",
              "  <script>\n",
              "    async function quickchart(key) {\n",
              "      const quickchartButtonEl =\n",
              "        document.querySelector('#' + key + ' button');\n",
              "      quickchartButtonEl.disabled = true;  // To prevent multiple clicks.\n",
              "      quickchartButtonEl.classList.add('colab-df-spinner');\n",
              "      try {\n",
              "        const charts = await google.colab.kernel.invokeFunction(\n",
              "            'suggestCharts', [key], {});\n",
              "      } catch (error) {\n",
              "        console.error('Error during call to suggestCharts:', error);\n",
              "      }\n",
              "      quickchartButtonEl.classList.remove('colab-df-spinner');\n",
              "      quickchartButtonEl.classList.add('colab-df-quickchart-complete');\n",
              "    }\n",
              "    (() => {\n",
              "      let quickchartButtonEl =\n",
              "        document.querySelector('#df-3283ba02-f4ec-4d01-b995-01c5b5a8152a button');\n",
              "      quickchartButtonEl.style.display =\n",
              "        google.colab.kernel.accessAllowed ? 'block' : 'none';\n",
              "    })();\n",
              "  </script>\n",
              "</div>\n",
              "    </div>\n",
              "  </div>\n"
            ],
            "application/vnd.google.colaboratory.intrinsic+json": {
              "type": "dataframe",
              "summary": "{\n  \"name\": \"temp_df[temp_df['user_id']\",\n  \"rows\": 4,\n  \"fields\": [\n    {\n      \"column\": \"ab_test\",\n      \"properties\": {\n        \"dtype\": \"string\",\n        \"num_unique_values\": 2,\n        \"samples\": [\n          \"recommender_system_test\",\n          \"interface_eu_test\"\n        ],\n        \"semantic_type\": \"\",\n        \"description\": \"\"\n      }\n    },\n    {\n      \"column\": \"group\",\n      \"properties\": {\n        \"dtype\": \"string\",\n        \"num_unique_values\": 2,\n        \"samples\": [\n          \"B\",\n          \"A\"\n        ],\n        \"semantic_type\": \"\",\n        \"description\": \"\"\n      }\n    },\n    {\n      \"column\": \"user_id\",\n      \"properties\": {\n        \"dtype\": \"number\",\n        \"std\": 99,\n        \"min\": 681,\n        \"max\": 921,\n        \"num_unique_values\": 4,\n        \"samples\": [\n          783,\n          681\n        ],\n        \"semantic_type\": \"\",\n        \"description\": \"\"\n      }\n    }\n  ]\n}"
            }
          },
          "metadata": {},
          "execution_count": 29
        }
      ],
      "source": [
        "#посмотрим  сколько  пользователей попали в оба теста\n",
        "both_test_user_list = set(temp_df[temp_df['ab_test']=='interface_eu_test']['user_id']) & set(temp_df[temp_df['ab_test']=='recommender_system_test']['user_id'])\n",
        "temp_df[temp_df['user_id'].isin(both_test_user_list)].groupby(['ab_test', 'group'])['user_id'].count().reset_index()\n"
      ]
    },
    {
      "cell_type": "markdown",
      "metadata": {
        "id": "HcifsXWy83pz"
      },
      "source": [
        "Выделим пользователей, которые из теста `recommender_system_test` попали в группу `A` теста `interface_eu_test`:"
      ]
    },
    {
      "cell_type": "code",
      "execution_count": 30,
      "metadata": {
        "id": "v75gDSOi83pz",
        "outputId": "907a55e3-4706-4ea4-fb3b-5a3e3bffd0cd",
        "colab": {
          "base_uri": "https://localhost:8080/"
        }
      },
      "outputs": [
        {
          "output_type": "execute_result",
          "data": {
            "text/plain": [
              "819"
            ]
          },
          "metadata": {},
          "execution_count": 30
        }
      ],
      "source": [
        "important_users = set(temp_df[temp_df['ab_test']=='recommender_system_test']['user_id'])  & set(temp_df[(temp_df['ab_test']=='interface_eu_test') & (temp_df['group']=='A')]['user_id'])\n",
        "len(important_users)"
      ]
    },
    {
      "cell_type": "markdown",
      "metadata": {
        "id": "5uUWPiSx83pz"
      },
      "source": [
        "Теперь мы можем удалить пользователей, которые попали в оба теста, оставив только тех, кто попал в оба теста, но в конкурирующем тесте был в группе А"
      ]
    },
    {
      "cell_type": "code",
      "execution_count": 31,
      "metadata": {
        "id": "-PQZyCr883p0",
        "outputId": "e2519f1c-c419-4240-fe7b-44874e8531d4",
        "colab": {
          "base_uri": "https://localhost:8080/"
        }
      },
      "outputs": [
        {
          "output_type": "stream",
          "name": "stdout",
          "text": [
            "Датафрейм до преобразований: 16916\n",
            "Промежуточный итог: 15350\n",
            "Датафрейм после преобразований: 5568\n"
          ]
        }
      ],
      "source": [
        "print('Датафрейм до преобразований:', temp_df.shape[0])\n",
        "#удалаем тех кто попал и туда и туда\n",
        "temp_df = temp_df[~temp_df['user_id'].isin(both_test_user_list - important_users)]\n",
        "print('Промежуточный итог:', temp_df.shape[0])\n",
        "#оставляем только участников нашего теста `recommender_system_test`\n",
        "temp_df = temp_df[temp_df['ab_test'] == 'recommender_system_test']\n",
        "print('Датафрейм после преобразований:', temp_df.shape[0])"
      ]
    },
    {
      "cell_type": "code",
      "execution_count": 32,
      "metadata": {
        "id": "PA_CP8KW83p0",
        "outputId": "69d295d7-eb42-4706-ed5e-a96b02bca4cd",
        "colab": {
          "base_uri": "https://localhost:8080/",
          "height": 112
        }
      },
      "outputs": [
        {
          "output_type": "execute_result",
          "data": {
            "text/plain": [
              "                   ab_test group  user_id\n",
              "0  recommender_system_test  A     3195   \n",
              "1  recommender_system_test  B     2373   "
            ],
            "text/html": [
              "\n",
              "  <div id=\"df-5dd61bb2-a166-4255-8268-a202d5685230\" class=\"colab-df-container\">\n",
              "    <div>\n",
              "<style scoped>\n",
              "    .dataframe tbody tr th:only-of-type {\n",
              "        vertical-align: middle;\n",
              "    }\n",
              "\n",
              "    .dataframe tbody tr th {\n",
              "        vertical-align: top;\n",
              "    }\n",
              "\n",
              "    .dataframe thead th {\n",
              "        text-align: right;\n",
              "    }\n",
              "</style>\n",
              "<table border=\"1\" class=\"dataframe\">\n",
              "  <thead>\n",
              "    <tr style=\"text-align: right;\">\n",
              "      <th></th>\n",
              "      <th>ab_test</th>\n",
              "      <th>group</th>\n",
              "      <th>user_id</th>\n",
              "    </tr>\n",
              "  </thead>\n",
              "  <tbody>\n",
              "    <tr>\n",
              "      <th>0</th>\n",
              "      <td>recommender_system_test</td>\n",
              "      <td>A</td>\n",
              "      <td>3195</td>\n",
              "    </tr>\n",
              "    <tr>\n",
              "      <th>1</th>\n",
              "      <td>recommender_system_test</td>\n",
              "      <td>B</td>\n",
              "      <td>2373</td>\n",
              "    </tr>\n",
              "  </tbody>\n",
              "</table>\n",
              "</div>\n",
              "    <div class=\"colab-df-buttons\">\n",
              "\n",
              "  <div class=\"colab-df-container\">\n",
              "    <button class=\"colab-df-convert\" onclick=\"convertToInteractive('df-5dd61bb2-a166-4255-8268-a202d5685230')\"\n",
              "            title=\"Convert this dataframe to an interactive table.\"\n",
              "            style=\"display:none;\">\n",
              "\n",
              "  <svg xmlns=\"http://www.w3.org/2000/svg\" height=\"24px\" viewBox=\"0 -960 960 960\">\n",
              "    <path d=\"M120-120v-720h720v720H120Zm60-500h600v-160H180v160Zm220 220h160v-160H400v160Zm0 220h160v-160H400v160ZM180-400h160v-160H180v160Zm440 0h160v-160H620v160ZM180-180h160v-160H180v160Zm440 0h160v-160H620v160Z\"/>\n",
              "  </svg>\n",
              "    </button>\n",
              "\n",
              "  <style>\n",
              "    .colab-df-container {\n",
              "      display:flex;\n",
              "      gap: 12px;\n",
              "    }\n",
              "\n",
              "    .colab-df-convert {\n",
              "      background-color: #E8F0FE;\n",
              "      border: none;\n",
              "      border-radius: 50%;\n",
              "      cursor: pointer;\n",
              "      display: none;\n",
              "      fill: #1967D2;\n",
              "      height: 32px;\n",
              "      padding: 0 0 0 0;\n",
              "      width: 32px;\n",
              "    }\n",
              "\n",
              "    .colab-df-convert:hover {\n",
              "      background-color: #E2EBFA;\n",
              "      box-shadow: 0px 1px 2px rgba(60, 64, 67, 0.3), 0px 1px 3px 1px rgba(60, 64, 67, 0.15);\n",
              "      fill: #174EA6;\n",
              "    }\n",
              "\n",
              "    .colab-df-buttons div {\n",
              "      margin-bottom: 4px;\n",
              "    }\n",
              "\n",
              "    [theme=dark] .colab-df-convert {\n",
              "      background-color: #3B4455;\n",
              "      fill: #D2E3FC;\n",
              "    }\n",
              "\n",
              "    [theme=dark] .colab-df-convert:hover {\n",
              "      background-color: #434B5C;\n",
              "      box-shadow: 0px 1px 3px 1px rgba(0, 0, 0, 0.15);\n",
              "      filter: drop-shadow(0px 1px 2px rgba(0, 0, 0, 0.3));\n",
              "      fill: #FFFFFF;\n",
              "    }\n",
              "  </style>\n",
              "\n",
              "    <script>\n",
              "      const buttonEl =\n",
              "        document.querySelector('#df-5dd61bb2-a166-4255-8268-a202d5685230 button.colab-df-convert');\n",
              "      buttonEl.style.display =\n",
              "        google.colab.kernel.accessAllowed ? 'block' : 'none';\n",
              "\n",
              "      async function convertToInteractive(key) {\n",
              "        const element = document.querySelector('#df-5dd61bb2-a166-4255-8268-a202d5685230');\n",
              "        const dataTable =\n",
              "          await google.colab.kernel.invokeFunction('convertToInteractive',\n",
              "                                                    [key], {});\n",
              "        if (!dataTable) return;\n",
              "\n",
              "        const docLinkHtml = 'Like what you see? Visit the ' +\n",
              "          '<a target=\"_blank\" href=https://colab.research.google.com/notebooks/data_table.ipynb>data table notebook</a>'\n",
              "          + ' to learn more about interactive tables.';\n",
              "        element.innerHTML = '';\n",
              "        dataTable['output_type'] = 'display_data';\n",
              "        await google.colab.output.renderOutput(dataTable, element);\n",
              "        const docLink = document.createElement('div');\n",
              "        docLink.innerHTML = docLinkHtml;\n",
              "        element.appendChild(docLink);\n",
              "      }\n",
              "    </script>\n",
              "  </div>\n",
              "\n",
              "\n",
              "<div id=\"df-095f4387-be5f-4017-89a1-51d862eed9de\">\n",
              "  <button class=\"colab-df-quickchart\" onclick=\"quickchart('df-095f4387-be5f-4017-89a1-51d862eed9de')\"\n",
              "            title=\"Suggest charts\"\n",
              "            style=\"display:none;\">\n",
              "\n",
              "<svg xmlns=\"http://www.w3.org/2000/svg\" height=\"24px\"viewBox=\"0 0 24 24\"\n",
              "     width=\"24px\">\n",
              "    <g>\n",
              "        <path d=\"M19 3H5c-1.1 0-2 .9-2 2v14c0 1.1.9 2 2 2h14c1.1 0 2-.9 2-2V5c0-1.1-.9-2-2-2zM9 17H7v-7h2v7zm4 0h-2V7h2v10zm4 0h-2v-4h2v4z\"/>\n",
              "    </g>\n",
              "</svg>\n",
              "  </button>\n",
              "\n",
              "<style>\n",
              "  .colab-df-quickchart {\n",
              "      --bg-color: #E8F0FE;\n",
              "      --fill-color: #1967D2;\n",
              "      --hover-bg-color: #E2EBFA;\n",
              "      --hover-fill-color: #174EA6;\n",
              "      --disabled-fill-color: #AAA;\n",
              "      --disabled-bg-color: #DDD;\n",
              "  }\n",
              "\n",
              "  [theme=dark] .colab-df-quickchart {\n",
              "      --bg-color: #3B4455;\n",
              "      --fill-color: #D2E3FC;\n",
              "      --hover-bg-color: #434B5C;\n",
              "      --hover-fill-color: #FFFFFF;\n",
              "      --disabled-bg-color: #3B4455;\n",
              "      --disabled-fill-color: #666;\n",
              "  }\n",
              "\n",
              "  .colab-df-quickchart {\n",
              "    background-color: var(--bg-color);\n",
              "    border: none;\n",
              "    border-radius: 50%;\n",
              "    cursor: pointer;\n",
              "    display: none;\n",
              "    fill: var(--fill-color);\n",
              "    height: 32px;\n",
              "    padding: 0;\n",
              "    width: 32px;\n",
              "  }\n",
              "\n",
              "  .colab-df-quickchart:hover {\n",
              "    background-color: var(--hover-bg-color);\n",
              "    box-shadow: 0 1px 2px rgba(60, 64, 67, 0.3), 0 1px 3px 1px rgba(60, 64, 67, 0.15);\n",
              "    fill: var(--button-hover-fill-color);\n",
              "  }\n",
              "\n",
              "  .colab-df-quickchart-complete:disabled,\n",
              "  .colab-df-quickchart-complete:disabled:hover {\n",
              "    background-color: var(--disabled-bg-color);\n",
              "    fill: var(--disabled-fill-color);\n",
              "    box-shadow: none;\n",
              "  }\n",
              "\n",
              "  .colab-df-spinner {\n",
              "    border: 2px solid var(--fill-color);\n",
              "    border-color: transparent;\n",
              "    border-bottom-color: var(--fill-color);\n",
              "    animation:\n",
              "      spin 1s steps(1) infinite;\n",
              "  }\n",
              "\n",
              "  @keyframes spin {\n",
              "    0% {\n",
              "      border-color: transparent;\n",
              "      border-bottom-color: var(--fill-color);\n",
              "      border-left-color: var(--fill-color);\n",
              "    }\n",
              "    20% {\n",
              "      border-color: transparent;\n",
              "      border-left-color: var(--fill-color);\n",
              "      border-top-color: var(--fill-color);\n",
              "    }\n",
              "    30% {\n",
              "      border-color: transparent;\n",
              "      border-left-color: var(--fill-color);\n",
              "      border-top-color: var(--fill-color);\n",
              "      border-right-color: var(--fill-color);\n",
              "    }\n",
              "    40% {\n",
              "      border-color: transparent;\n",
              "      border-right-color: var(--fill-color);\n",
              "      border-top-color: var(--fill-color);\n",
              "    }\n",
              "    60% {\n",
              "      border-color: transparent;\n",
              "      border-right-color: var(--fill-color);\n",
              "    }\n",
              "    80% {\n",
              "      border-color: transparent;\n",
              "      border-right-color: var(--fill-color);\n",
              "      border-bottom-color: var(--fill-color);\n",
              "    }\n",
              "    90% {\n",
              "      border-color: transparent;\n",
              "      border-bottom-color: var(--fill-color);\n",
              "    }\n",
              "  }\n",
              "</style>\n",
              "\n",
              "  <script>\n",
              "    async function quickchart(key) {\n",
              "      const quickchartButtonEl =\n",
              "        document.querySelector('#' + key + ' button');\n",
              "      quickchartButtonEl.disabled = true;  // To prevent multiple clicks.\n",
              "      quickchartButtonEl.classList.add('colab-df-spinner');\n",
              "      try {\n",
              "        const charts = await google.colab.kernel.invokeFunction(\n",
              "            'suggestCharts', [key], {});\n",
              "      } catch (error) {\n",
              "        console.error('Error during call to suggestCharts:', error);\n",
              "      }\n",
              "      quickchartButtonEl.classList.remove('colab-df-spinner');\n",
              "      quickchartButtonEl.classList.add('colab-df-quickchart-complete');\n",
              "    }\n",
              "    (() => {\n",
              "      let quickchartButtonEl =\n",
              "        document.querySelector('#df-095f4387-be5f-4017-89a1-51d862eed9de button');\n",
              "      quickchartButtonEl.style.display =\n",
              "        google.colab.kernel.accessAllowed ? 'block' : 'none';\n",
              "    })();\n",
              "  </script>\n",
              "</div>\n",
              "    </div>\n",
              "  </div>\n"
            ],
            "application/vnd.google.colaboratory.intrinsic+json": {
              "type": "dataframe",
              "summary": "{\n  \"name\": \"temp_df\",\n  \"rows\": 2,\n  \"fields\": [\n    {\n      \"column\": \"ab_test\",\n      \"properties\": {\n        \"dtype\": \"string\",\n        \"num_unique_values\": 1,\n        \"samples\": [\n          \"recommender_system_test\"\n        ],\n        \"semantic_type\": \"\",\n        \"description\": \"\"\n      }\n    },\n    {\n      \"column\": \"group\",\n      \"properties\": {\n        \"dtype\": \"string\",\n        \"num_unique_values\": 2,\n        \"samples\": [\n          \"B\"\n        ],\n        \"semantic_type\": \"\",\n        \"description\": \"\"\n      }\n    },\n    {\n      \"column\": \"user_id\",\n      \"properties\": {\n        \"dtype\": \"number\",\n        \"std\": 581,\n        \"min\": 2373,\n        \"max\": 3195,\n        \"num_unique_values\": 2,\n        \"samples\": [\n          2373\n        ],\n        \"semantic_type\": \"\",\n        \"description\": \"\"\n      }\n    }\n  ]\n}"
            }
          },
          "metadata": {},
          "execution_count": 32
        }
      ],
      "source": [
        "#Что вышло?\n",
        "temp_df.groupby(['ab_test', 'group'])['user_id'].count().reset_index()"
      ]
    },
    {
      "cell_type": "markdown",
      "metadata": {
        "id": "OnOOpGtD83p0"
      },
      "source": [
        "#### Вывод\n",
        "Группы распределились не очень равномерно, посмотрим, нет ли пересечения в рамках нашего теста между двух групп"
      ]
    },
    {
      "cell_type": "markdown",
      "metadata": {
        "id": "tSreZcdg83p0"
      },
      "source": [
        "### 3.4 Проверка на пересечение пользователей в рамках одного теста между двух групп\n"
      ]
    },
    {
      "cell_type": "code",
      "execution_count": 33,
      "metadata": {
        "id": "nFO3rlDJ83p0",
        "outputId": "074c9c32-0038-4ee8-db23-f891c6273b2d",
        "colab": {
          "base_uri": "https://localhost:8080/",
          "height": 206
        }
      },
      "outputs": [
        {
          "output_type": "execute_result",
          "data": {
            "text/plain": [
              "               user_id  group\n",
              "0     000ABE35EE11412F  1    \n",
              "3709  AA5A1803D3FA76B4  1    \n",
              "3717  AAB4D11666ADB943  1    \n",
              "3716  AAAD427C944878B9  1    \n",
              "3715  AAA7DF27B5BD4FBA  1    "
            ],
            "text/html": [
              "\n",
              "  <div id=\"df-d5da7ca3-f285-4e74-b75a-1e72ef6cc010\" class=\"colab-df-container\">\n",
              "    <div>\n",
              "<style scoped>\n",
              "    .dataframe tbody tr th:only-of-type {\n",
              "        vertical-align: middle;\n",
              "    }\n",
              "\n",
              "    .dataframe tbody tr th {\n",
              "        vertical-align: top;\n",
              "    }\n",
              "\n",
              "    .dataframe thead th {\n",
              "        text-align: right;\n",
              "    }\n",
              "</style>\n",
              "<table border=\"1\" class=\"dataframe\">\n",
              "  <thead>\n",
              "    <tr style=\"text-align: right;\">\n",
              "      <th></th>\n",
              "      <th>user_id</th>\n",
              "      <th>group</th>\n",
              "    </tr>\n",
              "  </thead>\n",
              "  <tbody>\n",
              "    <tr>\n",
              "      <th>0</th>\n",
              "      <td>000ABE35EE11412F</td>\n",
              "      <td>1</td>\n",
              "    </tr>\n",
              "    <tr>\n",
              "      <th>3709</th>\n",
              "      <td>AA5A1803D3FA76B4</td>\n",
              "      <td>1</td>\n",
              "    </tr>\n",
              "    <tr>\n",
              "      <th>3717</th>\n",
              "      <td>AAB4D11666ADB943</td>\n",
              "      <td>1</td>\n",
              "    </tr>\n",
              "    <tr>\n",
              "      <th>3716</th>\n",
              "      <td>AAAD427C944878B9</td>\n",
              "      <td>1</td>\n",
              "    </tr>\n",
              "    <tr>\n",
              "      <th>3715</th>\n",
              "      <td>AAA7DF27B5BD4FBA</td>\n",
              "      <td>1</td>\n",
              "    </tr>\n",
              "  </tbody>\n",
              "</table>\n",
              "</div>\n",
              "    <div class=\"colab-df-buttons\">\n",
              "\n",
              "  <div class=\"colab-df-container\">\n",
              "    <button class=\"colab-df-convert\" onclick=\"convertToInteractive('df-d5da7ca3-f285-4e74-b75a-1e72ef6cc010')\"\n",
              "            title=\"Convert this dataframe to an interactive table.\"\n",
              "            style=\"display:none;\">\n",
              "\n",
              "  <svg xmlns=\"http://www.w3.org/2000/svg\" height=\"24px\" viewBox=\"0 -960 960 960\">\n",
              "    <path d=\"M120-120v-720h720v720H120Zm60-500h600v-160H180v160Zm220 220h160v-160H400v160Zm0 220h160v-160H400v160ZM180-400h160v-160H180v160Zm440 0h160v-160H620v160ZM180-180h160v-160H180v160Zm440 0h160v-160H620v160Z\"/>\n",
              "  </svg>\n",
              "    </button>\n",
              "\n",
              "  <style>\n",
              "    .colab-df-container {\n",
              "      display:flex;\n",
              "      gap: 12px;\n",
              "    }\n",
              "\n",
              "    .colab-df-convert {\n",
              "      background-color: #E8F0FE;\n",
              "      border: none;\n",
              "      border-radius: 50%;\n",
              "      cursor: pointer;\n",
              "      display: none;\n",
              "      fill: #1967D2;\n",
              "      height: 32px;\n",
              "      padding: 0 0 0 0;\n",
              "      width: 32px;\n",
              "    }\n",
              "\n",
              "    .colab-df-convert:hover {\n",
              "      background-color: #E2EBFA;\n",
              "      box-shadow: 0px 1px 2px rgba(60, 64, 67, 0.3), 0px 1px 3px 1px rgba(60, 64, 67, 0.15);\n",
              "      fill: #174EA6;\n",
              "    }\n",
              "\n",
              "    .colab-df-buttons div {\n",
              "      margin-bottom: 4px;\n",
              "    }\n",
              "\n",
              "    [theme=dark] .colab-df-convert {\n",
              "      background-color: #3B4455;\n",
              "      fill: #D2E3FC;\n",
              "    }\n",
              "\n",
              "    [theme=dark] .colab-df-convert:hover {\n",
              "      background-color: #434B5C;\n",
              "      box-shadow: 0px 1px 3px 1px rgba(0, 0, 0, 0.15);\n",
              "      filter: drop-shadow(0px 1px 2px rgba(0, 0, 0, 0.3));\n",
              "      fill: #FFFFFF;\n",
              "    }\n",
              "  </style>\n",
              "\n",
              "    <script>\n",
              "      const buttonEl =\n",
              "        document.querySelector('#df-d5da7ca3-f285-4e74-b75a-1e72ef6cc010 button.colab-df-convert');\n",
              "      buttonEl.style.display =\n",
              "        google.colab.kernel.accessAllowed ? 'block' : 'none';\n",
              "\n",
              "      async function convertToInteractive(key) {\n",
              "        const element = document.querySelector('#df-d5da7ca3-f285-4e74-b75a-1e72ef6cc010');\n",
              "        const dataTable =\n",
              "          await google.colab.kernel.invokeFunction('convertToInteractive',\n",
              "                                                    [key], {});\n",
              "        if (!dataTable) return;\n",
              "\n",
              "        const docLinkHtml = 'Like what you see? Visit the ' +\n",
              "          '<a target=\"_blank\" href=https://colab.research.google.com/notebooks/data_table.ipynb>data table notebook</a>'\n",
              "          + ' to learn more about interactive tables.';\n",
              "        element.innerHTML = '';\n",
              "        dataTable['output_type'] = 'display_data';\n",
              "        await google.colab.output.renderOutput(dataTable, element);\n",
              "        const docLink = document.createElement('div');\n",
              "        docLink.innerHTML = docLinkHtml;\n",
              "        element.appendChild(docLink);\n",
              "      }\n",
              "    </script>\n",
              "  </div>\n",
              "\n",
              "\n",
              "<div id=\"df-8f84a731-c75f-40dc-b89f-5d3e52e53215\">\n",
              "  <button class=\"colab-df-quickchart\" onclick=\"quickchart('df-8f84a731-c75f-40dc-b89f-5d3e52e53215')\"\n",
              "            title=\"Suggest charts\"\n",
              "            style=\"display:none;\">\n",
              "\n",
              "<svg xmlns=\"http://www.w3.org/2000/svg\" height=\"24px\"viewBox=\"0 0 24 24\"\n",
              "     width=\"24px\">\n",
              "    <g>\n",
              "        <path d=\"M19 3H5c-1.1 0-2 .9-2 2v14c0 1.1.9 2 2 2h14c1.1 0 2-.9 2-2V5c0-1.1-.9-2-2-2zM9 17H7v-7h2v7zm4 0h-2V7h2v10zm4 0h-2v-4h2v4z\"/>\n",
              "    </g>\n",
              "</svg>\n",
              "  </button>\n",
              "\n",
              "<style>\n",
              "  .colab-df-quickchart {\n",
              "      --bg-color: #E8F0FE;\n",
              "      --fill-color: #1967D2;\n",
              "      --hover-bg-color: #E2EBFA;\n",
              "      --hover-fill-color: #174EA6;\n",
              "      --disabled-fill-color: #AAA;\n",
              "      --disabled-bg-color: #DDD;\n",
              "  }\n",
              "\n",
              "  [theme=dark] .colab-df-quickchart {\n",
              "      --bg-color: #3B4455;\n",
              "      --fill-color: #D2E3FC;\n",
              "      --hover-bg-color: #434B5C;\n",
              "      --hover-fill-color: #FFFFFF;\n",
              "      --disabled-bg-color: #3B4455;\n",
              "      --disabled-fill-color: #666;\n",
              "  }\n",
              "\n",
              "  .colab-df-quickchart {\n",
              "    background-color: var(--bg-color);\n",
              "    border: none;\n",
              "    border-radius: 50%;\n",
              "    cursor: pointer;\n",
              "    display: none;\n",
              "    fill: var(--fill-color);\n",
              "    height: 32px;\n",
              "    padding: 0;\n",
              "    width: 32px;\n",
              "  }\n",
              "\n",
              "  .colab-df-quickchart:hover {\n",
              "    background-color: var(--hover-bg-color);\n",
              "    box-shadow: 0 1px 2px rgba(60, 64, 67, 0.3), 0 1px 3px 1px rgba(60, 64, 67, 0.15);\n",
              "    fill: var(--button-hover-fill-color);\n",
              "  }\n",
              "\n",
              "  .colab-df-quickchart-complete:disabled,\n",
              "  .colab-df-quickchart-complete:disabled:hover {\n",
              "    background-color: var(--disabled-bg-color);\n",
              "    fill: var(--disabled-fill-color);\n",
              "    box-shadow: none;\n",
              "  }\n",
              "\n",
              "  .colab-df-spinner {\n",
              "    border: 2px solid var(--fill-color);\n",
              "    border-color: transparent;\n",
              "    border-bottom-color: var(--fill-color);\n",
              "    animation:\n",
              "      spin 1s steps(1) infinite;\n",
              "  }\n",
              "\n",
              "  @keyframes spin {\n",
              "    0% {\n",
              "      border-color: transparent;\n",
              "      border-bottom-color: var(--fill-color);\n",
              "      border-left-color: var(--fill-color);\n",
              "    }\n",
              "    20% {\n",
              "      border-color: transparent;\n",
              "      border-left-color: var(--fill-color);\n",
              "      border-top-color: var(--fill-color);\n",
              "    }\n",
              "    30% {\n",
              "      border-color: transparent;\n",
              "      border-left-color: var(--fill-color);\n",
              "      border-top-color: var(--fill-color);\n",
              "      border-right-color: var(--fill-color);\n",
              "    }\n",
              "    40% {\n",
              "      border-color: transparent;\n",
              "      border-right-color: var(--fill-color);\n",
              "      border-top-color: var(--fill-color);\n",
              "    }\n",
              "    60% {\n",
              "      border-color: transparent;\n",
              "      border-right-color: var(--fill-color);\n",
              "    }\n",
              "    80% {\n",
              "      border-color: transparent;\n",
              "      border-right-color: var(--fill-color);\n",
              "      border-bottom-color: var(--fill-color);\n",
              "    }\n",
              "    90% {\n",
              "      border-color: transparent;\n",
              "      border-bottom-color: var(--fill-color);\n",
              "    }\n",
              "  }\n",
              "</style>\n",
              "\n",
              "  <script>\n",
              "    async function quickchart(key) {\n",
              "      const quickchartButtonEl =\n",
              "        document.querySelector('#' + key + ' button');\n",
              "      quickchartButtonEl.disabled = true;  // To prevent multiple clicks.\n",
              "      quickchartButtonEl.classList.add('colab-df-spinner');\n",
              "      try {\n",
              "        const charts = await google.colab.kernel.invokeFunction(\n",
              "            'suggestCharts', [key], {});\n",
              "      } catch (error) {\n",
              "        console.error('Error during call to suggestCharts:', error);\n",
              "      }\n",
              "      quickchartButtonEl.classList.remove('colab-df-spinner');\n",
              "      quickchartButtonEl.classList.add('colab-df-quickchart-complete');\n",
              "    }\n",
              "    (() => {\n",
              "      let quickchartButtonEl =\n",
              "        document.querySelector('#df-8f84a731-c75f-40dc-b89f-5d3e52e53215 button');\n",
              "      quickchartButtonEl.style.display =\n",
              "        google.colab.kernel.accessAllowed ? 'block' : 'none';\n",
              "    })();\n",
              "  </script>\n",
              "</div>\n",
              "    </div>\n",
              "  </div>\n"
            ],
            "application/vnd.google.colaboratory.intrinsic+json": {
              "type": "dataframe",
              "summary": "{\n  \"name\": \"temp_df\",\n  \"rows\": 5,\n  \"fields\": [\n    {\n      \"column\": \"user_id\",\n      \"properties\": {\n        \"dtype\": \"string\",\n        \"num_unique_values\": 5,\n        \"samples\": [\n          \"AA5A1803D3FA76B4\",\n          \"AAA7DF27B5BD4FBA\",\n          \"AAB4D11666ADB943\"\n        ],\n        \"semantic_type\": \"\",\n        \"description\": \"\"\n      }\n    },\n    {\n      \"column\": \"group\",\n      \"properties\": {\n        \"dtype\": \"number\",\n        \"std\": 0,\n        \"min\": 1,\n        \"max\": 1,\n        \"num_unique_values\": 1,\n        \"samples\": [\n          1\n        ],\n        \"semantic_type\": \"\",\n        \"description\": \"\"\n      }\n    }\n  ]\n}"
            }
          },
          "metadata": {},
          "execution_count": 33
        }
      ],
      "source": [
        "temp_df.groupby('user_id')['group'].count().reset_index().sort_values(by='group', ascending=False).head()"
      ]
    },
    {
      "cell_type": "markdown",
      "metadata": {
        "id": "j3jJls7583p0"
      },
      "source": [
        "#### Вывод\n",
        "В нашем датафрейме не осталось пользователей с пересечением, можно считать, что данные чистые и готовы к дальнейшему анализу"
      ]
    },
    {
      "cell_type": "markdown",
      "metadata": {
        "id": "tiKaNYqU83p1"
      },
      "source": [
        "### 3.5 Подготовка данных\n",
        "Объединим датафреймы в один общий датафрейм, для удобства работы, присоединять будем левым способом, так как левый датафрейм предварительно очищен, а также мы исключаем возможность случайно потерять информацию по пользователям, у которых не было событий"
      ]
    },
    {
      "cell_type": "code",
      "execution_count": 34,
      "metadata": {
        "id": "WIrRZXai83p1",
        "outputId": "32a720c0-6718-4fc9-9b9e-4800f3c7e2ef",
        "colab": {
          "base_uri": "https://localhost:8080/"
        }
      },
      "outputs": [
        {
          "output_type": "stream",
          "name": "stdout",
          "text": [
            "<class 'pandas.core.frame.DataFrame'>\n",
            "Int64Index: 23082 entries, 0 to 23081\n",
            "Data columns (total 9 columns):\n",
            " #   Column      Non-Null Count  Dtype         \n",
            "---  ------      --------------  -----         \n",
            " 0   user_id     23082 non-null  object        \n",
            " 1   first_date  23082 non-null  datetime64[ns]\n",
            " 2   region      23082 non-null  object        \n",
            " 3   device      23082 non-null  object        \n",
            " 4   group       23082 non-null  object        \n",
            " 5   ab_test     23082 non-null  object        \n",
            " 6   event_dt    20564 non-null  datetime64[ns]\n",
            " 7   event_name  20564 non-null  object        \n",
            " 8   details     2804 non-null   float64       \n",
            "dtypes: datetime64[ns](2), float64(1), object(6)\n",
            "memory usage: 1.8+ MB\n"
          ]
        }
      ],
      "source": [
        "df = temp_df.merge(df_events, on='user_id', how='left')\n",
        "df.info()"
      ]
    },
    {
      "cell_type": "code",
      "execution_count": 35,
      "metadata": {
        "id": "igo7yK_R83p5",
        "outputId": "453f269d-335c-461c-a542-b8c06d1360b3",
        "colab": {
          "base_uri": "https://localhost:8080/",
          "height": 206
        }
      },
      "outputs": [
        {
          "output_type": "execute_result",
          "data": {
            "text/plain": [
              "            user_id first_date region   device group                  ab_test  \\\n",
              "0  D72A72121175D8BE 2020-12-07  EU     PC       A     recommender_system_test   \n",
              "1  D72A72121175D8BE 2020-12-07  EU     PC       A     recommender_system_test   \n",
              "2  DD4352CDCF8C3D57 2020-12-07  EU     Android  B     recommender_system_test   \n",
              "3  DD4352CDCF8C3D57 2020-12-07  EU     Android  B     recommender_system_test   \n",
              "4  DD4352CDCF8C3D57 2020-12-07  EU     Android  B     recommender_system_test   \n",
              "\n",
              "             event_dt    event_name  details  \n",
              "0 2020-12-07 21:52:10  product_page NaN       \n",
              "1 2020-12-07 21:52:07  login        NaN       \n",
              "2 2020-12-07 15:32:54  product_page NaN       \n",
              "3 2020-12-08 08:29:31  product_page NaN       \n",
              "4 2020-12-10 18:18:27  product_page NaN       "
            ],
            "text/html": [
              "\n",
              "  <div id=\"df-eecc5793-5d6e-427f-ac16-e7bfb130d83f\" class=\"colab-df-container\">\n",
              "    <div>\n",
              "<style scoped>\n",
              "    .dataframe tbody tr th:only-of-type {\n",
              "        vertical-align: middle;\n",
              "    }\n",
              "\n",
              "    .dataframe tbody tr th {\n",
              "        vertical-align: top;\n",
              "    }\n",
              "\n",
              "    .dataframe thead th {\n",
              "        text-align: right;\n",
              "    }\n",
              "</style>\n",
              "<table border=\"1\" class=\"dataframe\">\n",
              "  <thead>\n",
              "    <tr style=\"text-align: right;\">\n",
              "      <th></th>\n",
              "      <th>user_id</th>\n",
              "      <th>first_date</th>\n",
              "      <th>region</th>\n",
              "      <th>device</th>\n",
              "      <th>group</th>\n",
              "      <th>ab_test</th>\n",
              "      <th>event_dt</th>\n",
              "      <th>event_name</th>\n",
              "      <th>details</th>\n",
              "    </tr>\n",
              "  </thead>\n",
              "  <tbody>\n",
              "    <tr>\n",
              "      <th>0</th>\n",
              "      <td>D72A72121175D8BE</td>\n",
              "      <td>2020-12-07</td>\n",
              "      <td>EU</td>\n",
              "      <td>PC</td>\n",
              "      <td>A</td>\n",
              "      <td>recommender_system_test</td>\n",
              "      <td>2020-12-07 21:52:10</td>\n",
              "      <td>product_page</td>\n",
              "      <td>NaN</td>\n",
              "    </tr>\n",
              "    <tr>\n",
              "      <th>1</th>\n",
              "      <td>D72A72121175D8BE</td>\n",
              "      <td>2020-12-07</td>\n",
              "      <td>EU</td>\n",
              "      <td>PC</td>\n",
              "      <td>A</td>\n",
              "      <td>recommender_system_test</td>\n",
              "      <td>2020-12-07 21:52:07</td>\n",
              "      <td>login</td>\n",
              "      <td>NaN</td>\n",
              "    </tr>\n",
              "    <tr>\n",
              "      <th>2</th>\n",
              "      <td>DD4352CDCF8C3D57</td>\n",
              "      <td>2020-12-07</td>\n",
              "      <td>EU</td>\n",
              "      <td>Android</td>\n",
              "      <td>B</td>\n",
              "      <td>recommender_system_test</td>\n",
              "      <td>2020-12-07 15:32:54</td>\n",
              "      <td>product_page</td>\n",
              "      <td>NaN</td>\n",
              "    </tr>\n",
              "    <tr>\n",
              "      <th>3</th>\n",
              "      <td>DD4352CDCF8C3D57</td>\n",
              "      <td>2020-12-07</td>\n",
              "      <td>EU</td>\n",
              "      <td>Android</td>\n",
              "      <td>B</td>\n",
              "      <td>recommender_system_test</td>\n",
              "      <td>2020-12-08 08:29:31</td>\n",
              "      <td>product_page</td>\n",
              "      <td>NaN</td>\n",
              "    </tr>\n",
              "    <tr>\n",
              "      <th>4</th>\n",
              "      <td>DD4352CDCF8C3D57</td>\n",
              "      <td>2020-12-07</td>\n",
              "      <td>EU</td>\n",
              "      <td>Android</td>\n",
              "      <td>B</td>\n",
              "      <td>recommender_system_test</td>\n",
              "      <td>2020-12-10 18:18:27</td>\n",
              "      <td>product_page</td>\n",
              "      <td>NaN</td>\n",
              "    </tr>\n",
              "  </tbody>\n",
              "</table>\n",
              "</div>\n",
              "    <div class=\"colab-df-buttons\">\n",
              "\n",
              "  <div class=\"colab-df-container\">\n",
              "    <button class=\"colab-df-convert\" onclick=\"convertToInteractive('df-eecc5793-5d6e-427f-ac16-e7bfb130d83f')\"\n",
              "            title=\"Convert this dataframe to an interactive table.\"\n",
              "            style=\"display:none;\">\n",
              "\n",
              "  <svg xmlns=\"http://www.w3.org/2000/svg\" height=\"24px\" viewBox=\"0 -960 960 960\">\n",
              "    <path d=\"M120-120v-720h720v720H120Zm60-500h600v-160H180v160Zm220 220h160v-160H400v160Zm0 220h160v-160H400v160ZM180-400h160v-160H180v160Zm440 0h160v-160H620v160ZM180-180h160v-160H180v160Zm440 0h160v-160H620v160Z\"/>\n",
              "  </svg>\n",
              "    </button>\n",
              "\n",
              "  <style>\n",
              "    .colab-df-container {\n",
              "      display:flex;\n",
              "      gap: 12px;\n",
              "    }\n",
              "\n",
              "    .colab-df-convert {\n",
              "      background-color: #E8F0FE;\n",
              "      border: none;\n",
              "      border-radius: 50%;\n",
              "      cursor: pointer;\n",
              "      display: none;\n",
              "      fill: #1967D2;\n",
              "      height: 32px;\n",
              "      padding: 0 0 0 0;\n",
              "      width: 32px;\n",
              "    }\n",
              "\n",
              "    .colab-df-convert:hover {\n",
              "      background-color: #E2EBFA;\n",
              "      box-shadow: 0px 1px 2px rgba(60, 64, 67, 0.3), 0px 1px 3px 1px rgba(60, 64, 67, 0.15);\n",
              "      fill: #174EA6;\n",
              "    }\n",
              "\n",
              "    .colab-df-buttons div {\n",
              "      margin-bottom: 4px;\n",
              "    }\n",
              "\n",
              "    [theme=dark] .colab-df-convert {\n",
              "      background-color: #3B4455;\n",
              "      fill: #D2E3FC;\n",
              "    }\n",
              "\n",
              "    [theme=dark] .colab-df-convert:hover {\n",
              "      background-color: #434B5C;\n",
              "      box-shadow: 0px 1px 3px 1px rgba(0, 0, 0, 0.15);\n",
              "      filter: drop-shadow(0px 1px 2px rgba(0, 0, 0, 0.3));\n",
              "      fill: #FFFFFF;\n",
              "    }\n",
              "  </style>\n",
              "\n",
              "    <script>\n",
              "      const buttonEl =\n",
              "        document.querySelector('#df-eecc5793-5d6e-427f-ac16-e7bfb130d83f button.colab-df-convert');\n",
              "      buttonEl.style.display =\n",
              "        google.colab.kernel.accessAllowed ? 'block' : 'none';\n",
              "\n",
              "      async function convertToInteractive(key) {\n",
              "        const element = document.querySelector('#df-eecc5793-5d6e-427f-ac16-e7bfb130d83f');\n",
              "        const dataTable =\n",
              "          await google.colab.kernel.invokeFunction('convertToInteractive',\n",
              "                                                    [key], {});\n",
              "        if (!dataTable) return;\n",
              "\n",
              "        const docLinkHtml = 'Like what you see? Visit the ' +\n",
              "          '<a target=\"_blank\" href=https://colab.research.google.com/notebooks/data_table.ipynb>data table notebook</a>'\n",
              "          + ' to learn more about interactive tables.';\n",
              "        element.innerHTML = '';\n",
              "        dataTable['output_type'] = 'display_data';\n",
              "        await google.colab.output.renderOutput(dataTable, element);\n",
              "        const docLink = document.createElement('div');\n",
              "        docLink.innerHTML = docLinkHtml;\n",
              "        element.appendChild(docLink);\n",
              "      }\n",
              "    </script>\n",
              "  </div>\n",
              "\n",
              "\n",
              "<div id=\"df-24425b70-5766-4d2c-b3e5-93e007a5d2d9\">\n",
              "  <button class=\"colab-df-quickchart\" onclick=\"quickchart('df-24425b70-5766-4d2c-b3e5-93e007a5d2d9')\"\n",
              "            title=\"Suggest charts\"\n",
              "            style=\"display:none;\">\n",
              "\n",
              "<svg xmlns=\"http://www.w3.org/2000/svg\" height=\"24px\"viewBox=\"0 0 24 24\"\n",
              "     width=\"24px\">\n",
              "    <g>\n",
              "        <path d=\"M19 3H5c-1.1 0-2 .9-2 2v14c0 1.1.9 2 2 2h14c1.1 0 2-.9 2-2V5c0-1.1-.9-2-2-2zM9 17H7v-7h2v7zm4 0h-2V7h2v10zm4 0h-2v-4h2v4z\"/>\n",
              "    </g>\n",
              "</svg>\n",
              "  </button>\n",
              "\n",
              "<style>\n",
              "  .colab-df-quickchart {\n",
              "      --bg-color: #E8F0FE;\n",
              "      --fill-color: #1967D2;\n",
              "      --hover-bg-color: #E2EBFA;\n",
              "      --hover-fill-color: #174EA6;\n",
              "      --disabled-fill-color: #AAA;\n",
              "      --disabled-bg-color: #DDD;\n",
              "  }\n",
              "\n",
              "  [theme=dark] .colab-df-quickchart {\n",
              "      --bg-color: #3B4455;\n",
              "      --fill-color: #D2E3FC;\n",
              "      --hover-bg-color: #434B5C;\n",
              "      --hover-fill-color: #FFFFFF;\n",
              "      --disabled-bg-color: #3B4455;\n",
              "      --disabled-fill-color: #666;\n",
              "  }\n",
              "\n",
              "  .colab-df-quickchart {\n",
              "    background-color: var(--bg-color);\n",
              "    border: none;\n",
              "    border-radius: 50%;\n",
              "    cursor: pointer;\n",
              "    display: none;\n",
              "    fill: var(--fill-color);\n",
              "    height: 32px;\n",
              "    padding: 0;\n",
              "    width: 32px;\n",
              "  }\n",
              "\n",
              "  .colab-df-quickchart:hover {\n",
              "    background-color: var(--hover-bg-color);\n",
              "    box-shadow: 0 1px 2px rgba(60, 64, 67, 0.3), 0 1px 3px 1px rgba(60, 64, 67, 0.15);\n",
              "    fill: var(--button-hover-fill-color);\n",
              "  }\n",
              "\n",
              "  .colab-df-quickchart-complete:disabled,\n",
              "  .colab-df-quickchart-complete:disabled:hover {\n",
              "    background-color: var(--disabled-bg-color);\n",
              "    fill: var(--disabled-fill-color);\n",
              "    box-shadow: none;\n",
              "  }\n",
              "\n",
              "  .colab-df-spinner {\n",
              "    border: 2px solid var(--fill-color);\n",
              "    border-color: transparent;\n",
              "    border-bottom-color: var(--fill-color);\n",
              "    animation:\n",
              "      spin 1s steps(1) infinite;\n",
              "  }\n",
              "\n",
              "  @keyframes spin {\n",
              "    0% {\n",
              "      border-color: transparent;\n",
              "      border-bottom-color: var(--fill-color);\n",
              "      border-left-color: var(--fill-color);\n",
              "    }\n",
              "    20% {\n",
              "      border-color: transparent;\n",
              "      border-left-color: var(--fill-color);\n",
              "      border-top-color: var(--fill-color);\n",
              "    }\n",
              "    30% {\n",
              "      border-color: transparent;\n",
              "      border-left-color: var(--fill-color);\n",
              "      border-top-color: var(--fill-color);\n",
              "      border-right-color: var(--fill-color);\n",
              "    }\n",
              "    40% {\n",
              "      border-color: transparent;\n",
              "      border-right-color: var(--fill-color);\n",
              "      border-top-color: var(--fill-color);\n",
              "    }\n",
              "    60% {\n",
              "      border-color: transparent;\n",
              "      border-right-color: var(--fill-color);\n",
              "    }\n",
              "    80% {\n",
              "      border-color: transparent;\n",
              "      border-right-color: var(--fill-color);\n",
              "      border-bottom-color: var(--fill-color);\n",
              "    }\n",
              "    90% {\n",
              "      border-color: transparent;\n",
              "      border-bottom-color: var(--fill-color);\n",
              "    }\n",
              "  }\n",
              "</style>\n",
              "\n",
              "  <script>\n",
              "    async function quickchart(key) {\n",
              "      const quickchartButtonEl =\n",
              "        document.querySelector('#' + key + ' button');\n",
              "      quickchartButtonEl.disabled = true;  // To prevent multiple clicks.\n",
              "      quickchartButtonEl.classList.add('colab-df-spinner');\n",
              "      try {\n",
              "        const charts = await google.colab.kernel.invokeFunction(\n",
              "            'suggestCharts', [key], {});\n",
              "      } catch (error) {\n",
              "        console.error('Error during call to suggestCharts:', error);\n",
              "      }\n",
              "      quickchartButtonEl.classList.remove('colab-df-spinner');\n",
              "      quickchartButtonEl.classList.add('colab-df-quickchart-complete');\n",
              "    }\n",
              "    (() => {\n",
              "      let quickchartButtonEl =\n",
              "        document.querySelector('#df-24425b70-5766-4d2c-b3e5-93e007a5d2d9 button');\n",
              "      quickchartButtonEl.style.display =\n",
              "        google.colab.kernel.accessAllowed ? 'block' : 'none';\n",
              "    })();\n",
              "  </script>\n",
              "</div>\n",
              "    </div>\n",
              "  </div>\n"
            ],
            "application/vnd.google.colaboratory.intrinsic+json": {
              "type": "dataframe",
              "variable_name": "df",
              "summary": "{\n  \"name\": \"df\",\n  \"rows\": 23082,\n  \"fields\": [\n    {\n      \"column\": \"user_id\",\n      \"properties\": {\n        \"dtype\": \"category\",\n        \"num_unique_values\": 5568,\n        \"samples\": [\n          \"B7DFE4D1FAC0C217\",\n          \"5FA37F734866C8AB\",\n          \"773ECB64E45DEBAB\"\n        ],\n        \"semantic_type\": \"\",\n        \"description\": \"\"\n      }\n    },\n    {\n      \"column\": \"first_date\",\n      \"properties\": {\n        \"dtype\": \"date\",\n        \"min\": \"2020-12-07 00:00:00\",\n        \"max\": \"2020-12-21 00:00:00\",\n        \"num_unique_values\": 15,\n        \"samples\": [\n          \"2020-12-11 00:00:00\",\n          \"2020-12-12 00:00:00\",\n          \"2020-12-07 00:00:00\"\n        ],\n        \"semantic_type\": \"\",\n        \"description\": \"\"\n      }\n    },\n    {\n      \"column\": \"region\",\n      \"properties\": {\n        \"dtype\": \"category\",\n        \"num_unique_values\": 1,\n        \"samples\": [\n          \"EU\"\n        ],\n        \"semantic_type\": \"\",\n        \"description\": \"\"\n      }\n    },\n    {\n      \"column\": \"device\",\n      \"properties\": {\n        \"dtype\": \"category\",\n        \"num_unique_values\": 4,\n        \"samples\": [\n          \"Android\"\n        ],\n        \"semantic_type\": \"\",\n        \"description\": \"\"\n      }\n    },\n    {\n      \"column\": \"group\",\n      \"properties\": {\n        \"dtype\": \"category\",\n        \"num_unique_values\": 2,\n        \"samples\": [\n          \"B\"\n        ],\n        \"semantic_type\": \"\",\n        \"description\": \"\"\n      }\n    },\n    {\n      \"column\": \"ab_test\",\n      \"properties\": {\n        \"dtype\": \"category\",\n        \"num_unique_values\": 1,\n        \"samples\": [\n          \"recommender_system_test\"\n        ],\n        \"semantic_type\": \"\",\n        \"description\": \"\"\n      }\n    },\n    {\n      \"column\": \"event_dt\",\n      \"properties\": {\n        \"dtype\": \"date\",\n        \"min\": \"2020-12-07 00:05:57\",\n        \"max\": \"2020-12-30 12:42:57\",\n        \"num_unique_values\": 13722,\n        \"samples\": [\n          \"2020-12-21 10:04:37\"\n        ],\n        \"semantic_type\": \"\",\n        \"description\": \"\"\n      }\n    },\n    {\n      \"column\": \"event_name\",\n      \"properties\": {\n        \"dtype\": \"category\",\n        \"num_unique_values\": 4,\n        \"samples\": [\n          \"login\"\n        ],\n        \"semantic_type\": \"\",\n        \"description\": \"\"\n      }\n    },\n    {\n      \"column\": \"details\",\n      \"properties\": {\n        \"dtype\": \"number\",\n        \"std\": 69.59574544198776,\n        \"min\": 4.99,\n        \"max\": 499.99,\n        \"num_unique_values\": 4,\n        \"samples\": [\n          99.99\n        ],\n        \"semantic_type\": \"\",\n        \"description\": \"\"\n      }\n    }\n  ]\n}"
            }
          },
          "metadata": {},
          "execution_count": 35
        }
      ],
      "source": [
        "df.head()"
      ]
    },
    {
      "cell_type": "markdown",
      "metadata": {
        "id": "kFahs8xK83p6"
      },
      "source": [
        "#### 3.5.1 Анализ пользователей без действий"
      ]
    },
    {
      "cell_type": "code",
      "execution_count": 36,
      "metadata": {
        "id": "7ff_9dIf83p6",
        "outputId": "c9dba090-f98f-451b-b773-a4488f7e864a",
        "colab": {
          "base_uri": "https://localhost:8080/",
          "height": 112
        }
      },
      "outputs": [
        {
          "output_type": "execute_result",
          "data": {
            "text/plain": [
              "  group  total_users  users_no_action  ratio\n",
              "0  A     3195         916             0.29  \n",
              "1  B     2373         1602            0.68  "
            ],
            "text/html": [
              "\n",
              "  <div id=\"df-cf42d547-44d2-45cc-88e2-75228683b52e\" class=\"colab-df-container\">\n",
              "    <div>\n",
              "<style scoped>\n",
              "    .dataframe tbody tr th:only-of-type {\n",
              "        vertical-align: middle;\n",
              "    }\n",
              "\n",
              "    .dataframe tbody tr th {\n",
              "        vertical-align: top;\n",
              "    }\n",
              "\n",
              "    .dataframe thead th {\n",
              "        text-align: right;\n",
              "    }\n",
              "</style>\n",
              "<table border=\"1\" class=\"dataframe\">\n",
              "  <thead>\n",
              "    <tr style=\"text-align: right;\">\n",
              "      <th></th>\n",
              "      <th>group</th>\n",
              "      <th>total_users</th>\n",
              "      <th>users_no_action</th>\n",
              "      <th>ratio</th>\n",
              "    </tr>\n",
              "  </thead>\n",
              "  <tbody>\n",
              "    <tr>\n",
              "      <th>0</th>\n",
              "      <td>A</td>\n",
              "      <td>3195</td>\n",
              "      <td>916</td>\n",
              "      <td>0.29</td>\n",
              "    </tr>\n",
              "    <tr>\n",
              "      <th>1</th>\n",
              "      <td>B</td>\n",
              "      <td>2373</td>\n",
              "      <td>1602</td>\n",
              "      <td>0.68</td>\n",
              "    </tr>\n",
              "  </tbody>\n",
              "</table>\n",
              "</div>\n",
              "    <div class=\"colab-df-buttons\">\n",
              "\n",
              "  <div class=\"colab-df-container\">\n",
              "    <button class=\"colab-df-convert\" onclick=\"convertToInteractive('df-cf42d547-44d2-45cc-88e2-75228683b52e')\"\n",
              "            title=\"Convert this dataframe to an interactive table.\"\n",
              "            style=\"display:none;\">\n",
              "\n",
              "  <svg xmlns=\"http://www.w3.org/2000/svg\" height=\"24px\" viewBox=\"0 -960 960 960\">\n",
              "    <path d=\"M120-120v-720h720v720H120Zm60-500h600v-160H180v160Zm220 220h160v-160H400v160Zm0 220h160v-160H400v160ZM180-400h160v-160H180v160Zm440 0h160v-160H620v160ZM180-180h160v-160H180v160Zm440 0h160v-160H620v160Z\"/>\n",
              "  </svg>\n",
              "    </button>\n",
              "\n",
              "  <style>\n",
              "    .colab-df-container {\n",
              "      display:flex;\n",
              "      gap: 12px;\n",
              "    }\n",
              "\n",
              "    .colab-df-convert {\n",
              "      background-color: #E8F0FE;\n",
              "      border: none;\n",
              "      border-radius: 50%;\n",
              "      cursor: pointer;\n",
              "      display: none;\n",
              "      fill: #1967D2;\n",
              "      height: 32px;\n",
              "      padding: 0 0 0 0;\n",
              "      width: 32px;\n",
              "    }\n",
              "\n",
              "    .colab-df-convert:hover {\n",
              "      background-color: #E2EBFA;\n",
              "      box-shadow: 0px 1px 2px rgba(60, 64, 67, 0.3), 0px 1px 3px 1px rgba(60, 64, 67, 0.15);\n",
              "      fill: #174EA6;\n",
              "    }\n",
              "\n",
              "    .colab-df-buttons div {\n",
              "      margin-bottom: 4px;\n",
              "    }\n",
              "\n",
              "    [theme=dark] .colab-df-convert {\n",
              "      background-color: #3B4455;\n",
              "      fill: #D2E3FC;\n",
              "    }\n",
              "\n",
              "    [theme=dark] .colab-df-convert:hover {\n",
              "      background-color: #434B5C;\n",
              "      box-shadow: 0px 1px 3px 1px rgba(0, 0, 0, 0.15);\n",
              "      filter: drop-shadow(0px 1px 2px rgba(0, 0, 0, 0.3));\n",
              "      fill: #FFFFFF;\n",
              "    }\n",
              "  </style>\n",
              "\n",
              "    <script>\n",
              "      const buttonEl =\n",
              "        document.querySelector('#df-cf42d547-44d2-45cc-88e2-75228683b52e button.colab-df-convert');\n",
              "      buttonEl.style.display =\n",
              "        google.colab.kernel.accessAllowed ? 'block' : 'none';\n",
              "\n",
              "      async function convertToInteractive(key) {\n",
              "        const element = document.querySelector('#df-cf42d547-44d2-45cc-88e2-75228683b52e');\n",
              "        const dataTable =\n",
              "          await google.colab.kernel.invokeFunction('convertToInteractive',\n",
              "                                                    [key], {});\n",
              "        if (!dataTable) return;\n",
              "\n",
              "        const docLinkHtml = 'Like what you see? Visit the ' +\n",
              "          '<a target=\"_blank\" href=https://colab.research.google.com/notebooks/data_table.ipynb>data table notebook</a>'\n",
              "          + ' to learn more about interactive tables.';\n",
              "        element.innerHTML = '';\n",
              "        dataTable['output_type'] = 'display_data';\n",
              "        await google.colab.output.renderOutput(dataTable, element);\n",
              "        const docLink = document.createElement('div');\n",
              "        docLink.innerHTML = docLinkHtml;\n",
              "        element.appendChild(docLink);\n",
              "      }\n",
              "    </script>\n",
              "  </div>\n",
              "\n",
              "\n",
              "<div id=\"df-71ce5a36-0a33-4d38-8338-52ea40358721\">\n",
              "  <button class=\"colab-df-quickchart\" onclick=\"quickchart('df-71ce5a36-0a33-4d38-8338-52ea40358721')\"\n",
              "            title=\"Suggest charts\"\n",
              "            style=\"display:none;\">\n",
              "\n",
              "<svg xmlns=\"http://www.w3.org/2000/svg\" height=\"24px\"viewBox=\"0 0 24 24\"\n",
              "     width=\"24px\">\n",
              "    <g>\n",
              "        <path d=\"M19 3H5c-1.1 0-2 .9-2 2v14c0 1.1.9 2 2 2h14c1.1 0 2-.9 2-2V5c0-1.1-.9-2-2-2zM9 17H7v-7h2v7zm4 0h-2V7h2v10zm4 0h-2v-4h2v4z\"/>\n",
              "    </g>\n",
              "</svg>\n",
              "  </button>\n",
              "\n",
              "<style>\n",
              "  .colab-df-quickchart {\n",
              "      --bg-color: #E8F0FE;\n",
              "      --fill-color: #1967D2;\n",
              "      --hover-bg-color: #E2EBFA;\n",
              "      --hover-fill-color: #174EA6;\n",
              "      --disabled-fill-color: #AAA;\n",
              "      --disabled-bg-color: #DDD;\n",
              "  }\n",
              "\n",
              "  [theme=dark] .colab-df-quickchart {\n",
              "      --bg-color: #3B4455;\n",
              "      --fill-color: #D2E3FC;\n",
              "      --hover-bg-color: #434B5C;\n",
              "      --hover-fill-color: #FFFFFF;\n",
              "      --disabled-bg-color: #3B4455;\n",
              "      --disabled-fill-color: #666;\n",
              "  }\n",
              "\n",
              "  .colab-df-quickchart {\n",
              "    background-color: var(--bg-color);\n",
              "    border: none;\n",
              "    border-radius: 50%;\n",
              "    cursor: pointer;\n",
              "    display: none;\n",
              "    fill: var(--fill-color);\n",
              "    height: 32px;\n",
              "    padding: 0;\n",
              "    width: 32px;\n",
              "  }\n",
              "\n",
              "  .colab-df-quickchart:hover {\n",
              "    background-color: var(--hover-bg-color);\n",
              "    box-shadow: 0 1px 2px rgba(60, 64, 67, 0.3), 0 1px 3px 1px rgba(60, 64, 67, 0.15);\n",
              "    fill: var(--button-hover-fill-color);\n",
              "  }\n",
              "\n",
              "  .colab-df-quickchart-complete:disabled,\n",
              "  .colab-df-quickchart-complete:disabled:hover {\n",
              "    background-color: var(--disabled-bg-color);\n",
              "    fill: var(--disabled-fill-color);\n",
              "    box-shadow: none;\n",
              "  }\n",
              "\n",
              "  .colab-df-spinner {\n",
              "    border: 2px solid var(--fill-color);\n",
              "    border-color: transparent;\n",
              "    border-bottom-color: var(--fill-color);\n",
              "    animation:\n",
              "      spin 1s steps(1) infinite;\n",
              "  }\n",
              "\n",
              "  @keyframes spin {\n",
              "    0% {\n",
              "      border-color: transparent;\n",
              "      border-bottom-color: var(--fill-color);\n",
              "      border-left-color: var(--fill-color);\n",
              "    }\n",
              "    20% {\n",
              "      border-color: transparent;\n",
              "      border-left-color: var(--fill-color);\n",
              "      border-top-color: var(--fill-color);\n",
              "    }\n",
              "    30% {\n",
              "      border-color: transparent;\n",
              "      border-left-color: var(--fill-color);\n",
              "      border-top-color: var(--fill-color);\n",
              "      border-right-color: var(--fill-color);\n",
              "    }\n",
              "    40% {\n",
              "      border-color: transparent;\n",
              "      border-right-color: var(--fill-color);\n",
              "      border-top-color: var(--fill-color);\n",
              "    }\n",
              "    60% {\n",
              "      border-color: transparent;\n",
              "      border-right-color: var(--fill-color);\n",
              "    }\n",
              "    80% {\n",
              "      border-color: transparent;\n",
              "      border-right-color: var(--fill-color);\n",
              "      border-bottom-color: var(--fill-color);\n",
              "    }\n",
              "    90% {\n",
              "      border-color: transparent;\n",
              "      border-bottom-color: var(--fill-color);\n",
              "    }\n",
              "  }\n",
              "</style>\n",
              "\n",
              "  <script>\n",
              "    async function quickchart(key) {\n",
              "      const quickchartButtonEl =\n",
              "        document.querySelector('#' + key + ' button');\n",
              "      quickchartButtonEl.disabled = true;  // To prevent multiple clicks.\n",
              "      quickchartButtonEl.classList.add('colab-df-spinner');\n",
              "      try {\n",
              "        const charts = await google.colab.kernel.invokeFunction(\n",
              "            'suggestCharts', [key], {});\n",
              "      } catch (error) {\n",
              "        console.error('Error during call to suggestCharts:', error);\n",
              "      }\n",
              "      quickchartButtonEl.classList.remove('colab-df-spinner');\n",
              "      quickchartButtonEl.classList.add('colab-df-quickchart-complete');\n",
              "    }\n",
              "    (() => {\n",
              "      let quickchartButtonEl =\n",
              "        document.querySelector('#df-71ce5a36-0a33-4d38-8338-52ea40358721 button');\n",
              "      quickchartButtonEl.style.display =\n",
              "        google.colab.kernel.accessAllowed ? 'block' : 'none';\n",
              "    })();\n",
              "  </script>\n",
              "</div>\n",
              "    </div>\n",
              "  </div>\n"
            ],
            "application/vnd.google.colaboratory.intrinsic+json": {
              "type": "dataframe",
              "variable_name": "temp_table",
              "summary": "{\n  \"name\": \"temp_table\",\n  \"rows\": 2,\n  \"fields\": [\n    {\n      \"column\": \"group\",\n      \"properties\": {\n        \"dtype\": \"string\",\n        \"num_unique_values\": 2,\n        \"samples\": [\n          \"B\",\n          \"A\"\n        ],\n        \"semantic_type\": \"\",\n        \"description\": \"\"\n      }\n    },\n    {\n      \"column\": \"total_users\",\n      \"properties\": {\n        \"dtype\": \"number\",\n        \"std\": 581,\n        \"min\": 2373,\n        \"max\": 3195,\n        \"num_unique_values\": 2,\n        \"samples\": [\n          2373,\n          3195\n        ],\n        \"semantic_type\": \"\",\n        \"description\": \"\"\n      }\n    },\n    {\n      \"column\": \"users_no_action\",\n      \"properties\": {\n        \"dtype\": \"number\",\n        \"std\": 485,\n        \"min\": 916,\n        \"max\": 1602,\n        \"num_unique_values\": 2,\n        \"samples\": [\n          1602,\n          916\n        ],\n        \"semantic_type\": \"\",\n        \"description\": \"\"\n      }\n    },\n    {\n      \"column\": \"ratio\",\n      \"properties\": {\n        \"dtype\": \"number\",\n        \"std\": 0.2757716446627536,\n        \"min\": 0.29,\n        \"max\": 0.68,\n        \"num_unique_values\": 2,\n        \"samples\": [\n          0.68,\n          0.29\n        ],\n        \"semantic_type\": \"\",\n        \"description\": \"\"\n      }\n    }\n  ]\n}"
            }
          },
          "metadata": {},
          "execution_count": 36
        }
      ],
      "source": [
        "temp_table = df.groupby('group').agg({'user_id':'nunique'}).reset_index().rename(columns={'user_id':'total_users'}).merge(\n",
        "    df[df['event_name'].isna()].groupby('group').agg({'user_id':'nunique'}).reset_index().rename(columns={'user_id': 'users_no_action'}), on='group'\n",
        ")\n",
        "\n",
        "temp_table['ratio'] = round(temp_table['users_no_action'] / temp_table['total_users'], 2)\n",
        "temp_table"
      ]
    },
    {
      "cell_type": "code",
      "execution_count": 37,
      "metadata": {
        "id": "Y2C4eWE583p6",
        "outputId": "640629b0-35b8-4682-88f9-de3f4fa35ec4",
        "colab": {
          "base_uri": "https://localhost:8080/",
          "height": 717
        }
      },
      "outputs": [
        {
          "output_type": "display_data",
          "data": {
            "text/html": [
              "<html>\n",
              "<head><meta charset=\"utf-8\" /></head>\n",
              "<body>\n",
              "    <div>            <script src=\"https://cdnjs.cloudflare.com/ajax/libs/mathjax/2.7.5/MathJax.js?config=TeX-AMS-MML_SVG\"></script><script type=\"text/javascript\">if (window.MathJax && window.MathJax.Hub && window.MathJax.Hub.Config) {window.MathJax.Hub.Config({SVG: {font: \"STIX-Web\"}});}</script>                <script type=\"text/javascript\">window.PlotlyConfig = {MathJaxConfig: 'local'};</script>\n",
              "        <script charset=\"utf-8\" src=\"https://cdn.plot.ly/plotly-2.24.1.min.js\"></script>                <div id=\"fcb5c687-9670-4953-bca1-fdcff286ad6c\" class=\"plotly-graph-div\" style=\"height:700px; width:950px;\"></div>            <script type=\"text/javascript\">                                    window.PLOTLYENV=window.PLOTLYENV || {};                                    if (document.getElementById(\"fcb5c687-9670-4953-bca1-fdcff286ad6c\")) {                    Plotly.newPlot(                        \"fcb5c687-9670-4953-bca1-fdcff286ad6c\",                        [{\"name\":\"\\u0412\\u0441\\u0435\\u0433\\u043e \\u043f\\u043e\\u043b\\u044c\\u0437\\u043e\\u0432\\u0430\\u0442\\u0435\\u043b\\u0435\\u0439 \\u0432 \\u0433\\u0440\\u0443\\u043f\\u043f\\u0435\",\"x\":[\"A\",\"B\"],\"y\":[3195,2373],\"type\":\"bar\"},{\"name\":\"\\u041f\\u043e\\u043b\\u044c\\u0437\\u043e\\u0432\\u0430\\u0442\\u0435\\u043b\\u0435\\u0439 \\u0431\\u0435\\u0437 \\u0434\\u0435\\u0439\\u0441\\u0442\\u0432\\u0438\\u0439\",\"x\":[\"A\",\"B\"],\"y\":[916,1602],\"type\":\"bar\"}],                        {\"template\":{\"data\":{\"histogram2dcontour\":[{\"type\":\"histogram2dcontour\",\"colorbar\":{\"outlinewidth\":0,\"ticks\":\"\"},\"colorscale\":[[0.0,\"#0d0887\"],[0.1111111111111111,\"#46039f\"],[0.2222222222222222,\"#7201a8\"],[0.3333333333333333,\"#9c179e\"],[0.4444444444444444,\"#bd3786\"],[0.5555555555555556,\"#d8576b\"],[0.6666666666666666,\"#ed7953\"],[0.7777777777777778,\"#fb9f3a\"],[0.8888888888888888,\"#fdca26\"],[1.0,\"#f0f921\"]]}],\"choropleth\":[{\"type\":\"choropleth\",\"colorbar\":{\"outlinewidth\":0,\"ticks\":\"\"}}],\"histogram2d\":[{\"type\":\"histogram2d\",\"colorbar\":{\"outlinewidth\":0,\"ticks\":\"\"},\"colorscale\":[[0.0,\"#0d0887\"],[0.1111111111111111,\"#46039f\"],[0.2222222222222222,\"#7201a8\"],[0.3333333333333333,\"#9c179e\"],[0.4444444444444444,\"#bd3786\"],[0.5555555555555556,\"#d8576b\"],[0.6666666666666666,\"#ed7953\"],[0.7777777777777778,\"#fb9f3a\"],[0.8888888888888888,\"#fdca26\"],[1.0,\"#f0f921\"]]}],\"heatmap\":[{\"type\":\"heatmap\",\"colorbar\":{\"outlinewidth\":0,\"ticks\":\"\"},\"colorscale\":[[0.0,\"#0d0887\"],[0.1111111111111111,\"#46039f\"],[0.2222222222222222,\"#7201a8\"],[0.3333333333333333,\"#9c179e\"],[0.4444444444444444,\"#bd3786\"],[0.5555555555555556,\"#d8576b\"],[0.6666666666666666,\"#ed7953\"],[0.7777777777777778,\"#fb9f3a\"],[0.8888888888888888,\"#fdca26\"],[1.0,\"#f0f921\"]]}],\"heatmapgl\":[{\"type\":\"heatmapgl\",\"colorbar\":{\"outlinewidth\":0,\"ticks\":\"\"},\"colorscale\":[[0.0,\"#0d0887\"],[0.1111111111111111,\"#46039f\"],[0.2222222222222222,\"#7201a8\"],[0.3333333333333333,\"#9c179e\"],[0.4444444444444444,\"#bd3786\"],[0.5555555555555556,\"#d8576b\"],[0.6666666666666666,\"#ed7953\"],[0.7777777777777778,\"#fb9f3a\"],[0.8888888888888888,\"#fdca26\"],[1.0,\"#f0f921\"]]}],\"contourcarpet\":[{\"type\":\"contourcarpet\",\"colorbar\":{\"outlinewidth\":0,\"ticks\":\"\"}}],\"contour\":[{\"type\":\"contour\",\"colorbar\":{\"outlinewidth\":0,\"ticks\":\"\"},\"colorscale\":[[0.0,\"#0d0887\"],[0.1111111111111111,\"#46039f\"],[0.2222222222222222,\"#7201a8\"],[0.3333333333333333,\"#9c179e\"],[0.4444444444444444,\"#bd3786\"],[0.5555555555555556,\"#d8576b\"],[0.6666666666666666,\"#ed7953\"],[0.7777777777777778,\"#fb9f3a\"],[0.8888888888888888,\"#fdca26\"],[1.0,\"#f0f921\"]]}],\"surface\":[{\"type\":\"surface\",\"colorbar\":{\"outlinewidth\":0,\"ticks\":\"\"},\"colorscale\":[[0.0,\"#0d0887\"],[0.1111111111111111,\"#46039f\"],[0.2222222222222222,\"#7201a8\"],[0.3333333333333333,\"#9c179e\"],[0.4444444444444444,\"#bd3786\"],[0.5555555555555556,\"#d8576b\"],[0.6666666666666666,\"#ed7953\"],[0.7777777777777778,\"#fb9f3a\"],[0.8888888888888888,\"#fdca26\"],[1.0,\"#f0f921\"]]}],\"mesh3d\":[{\"type\":\"mesh3d\",\"colorbar\":{\"outlinewidth\":0,\"ticks\":\"\"}}],\"scatter\":[{\"fillpattern\":{\"fillmode\":\"overlay\",\"size\":10,\"solidity\":0.2},\"type\":\"scatter\"}],\"parcoords\":[{\"type\":\"parcoords\",\"line\":{\"colorbar\":{\"outlinewidth\":0,\"ticks\":\"\"}}}],\"scatterpolargl\":[{\"type\":\"scatterpolargl\",\"marker\":{\"colorbar\":{\"outlinewidth\":0,\"ticks\":\"\"}}}],\"bar\":[{\"error_x\":{\"color\":\"#2a3f5f\"},\"error_y\":{\"color\":\"#2a3f5f\"},\"marker\":{\"line\":{\"color\":\"#E5ECF6\",\"width\":0.5},\"pattern\":{\"fillmode\":\"overlay\",\"size\":10,\"solidity\":0.2}},\"type\":\"bar\"}],\"scattergeo\":[{\"type\":\"scattergeo\",\"marker\":{\"colorbar\":{\"outlinewidth\":0,\"ticks\":\"\"}}}],\"scatterpolar\":[{\"type\":\"scatterpolar\",\"marker\":{\"colorbar\":{\"outlinewidth\":0,\"ticks\":\"\"}}}],\"histogram\":[{\"marker\":{\"pattern\":{\"fillmode\":\"overlay\",\"size\":10,\"solidity\":0.2}},\"type\":\"histogram\"}],\"scattergl\":[{\"type\":\"scattergl\",\"marker\":{\"colorbar\":{\"outlinewidth\":0,\"ticks\":\"\"}}}],\"scatter3d\":[{\"type\":\"scatter3d\",\"line\":{\"colorbar\":{\"outlinewidth\":0,\"ticks\":\"\"}},\"marker\":{\"colorbar\":{\"outlinewidth\":0,\"ticks\":\"\"}}}],\"scattermapbox\":[{\"type\":\"scattermapbox\",\"marker\":{\"colorbar\":{\"outlinewidth\":0,\"ticks\":\"\"}}}],\"scatterternary\":[{\"type\":\"scatterternary\",\"marker\":{\"colorbar\":{\"outlinewidth\":0,\"ticks\":\"\"}}}],\"scattercarpet\":[{\"type\":\"scattercarpet\",\"marker\":{\"colorbar\":{\"outlinewidth\":0,\"ticks\":\"\"}}}],\"carpet\":[{\"aaxis\":{\"endlinecolor\":\"#2a3f5f\",\"gridcolor\":\"white\",\"linecolor\":\"white\",\"minorgridcolor\":\"white\",\"startlinecolor\":\"#2a3f5f\"},\"baxis\":{\"endlinecolor\":\"#2a3f5f\",\"gridcolor\":\"white\",\"linecolor\":\"white\",\"minorgridcolor\":\"white\",\"startlinecolor\":\"#2a3f5f\"},\"type\":\"carpet\"}],\"table\":[{\"cells\":{\"fill\":{\"color\":\"#EBF0F8\"},\"line\":{\"color\":\"white\"}},\"header\":{\"fill\":{\"color\":\"#C8D4E3\"},\"line\":{\"color\":\"white\"}},\"type\":\"table\"}],\"barpolar\":[{\"marker\":{\"line\":{\"color\":\"#E5ECF6\",\"width\":0.5},\"pattern\":{\"fillmode\":\"overlay\",\"size\":10,\"solidity\":0.2}},\"type\":\"barpolar\"}],\"pie\":[{\"automargin\":true,\"type\":\"pie\"}]},\"layout\":{\"autotypenumbers\":\"strict\",\"colorway\":[\"#636efa\",\"#EF553B\",\"#00cc96\",\"#ab63fa\",\"#FFA15A\",\"#19d3f3\",\"#FF6692\",\"#B6E880\",\"#FF97FF\",\"#FECB52\"],\"font\":{\"color\":\"#2a3f5f\"},\"hovermode\":\"closest\",\"hoverlabel\":{\"align\":\"left\"},\"paper_bgcolor\":\"white\",\"plot_bgcolor\":\"#E5ECF6\",\"polar\":{\"bgcolor\":\"#E5ECF6\",\"angularaxis\":{\"gridcolor\":\"white\",\"linecolor\":\"white\",\"ticks\":\"\"},\"radialaxis\":{\"gridcolor\":\"white\",\"linecolor\":\"white\",\"ticks\":\"\"}},\"ternary\":{\"bgcolor\":\"#E5ECF6\",\"aaxis\":{\"gridcolor\":\"white\",\"linecolor\":\"white\",\"ticks\":\"\"},\"baxis\":{\"gridcolor\":\"white\",\"linecolor\":\"white\",\"ticks\":\"\"},\"caxis\":{\"gridcolor\":\"white\",\"linecolor\":\"white\",\"ticks\":\"\"}},\"coloraxis\":{\"colorbar\":{\"outlinewidth\":0,\"ticks\":\"\"}},\"colorscale\":{\"sequential\":[[0.0,\"#0d0887\"],[0.1111111111111111,\"#46039f\"],[0.2222222222222222,\"#7201a8\"],[0.3333333333333333,\"#9c179e\"],[0.4444444444444444,\"#bd3786\"],[0.5555555555555556,\"#d8576b\"],[0.6666666666666666,\"#ed7953\"],[0.7777777777777778,\"#fb9f3a\"],[0.8888888888888888,\"#fdca26\"],[1.0,\"#f0f921\"]],\"sequentialminus\":[[0.0,\"#0d0887\"],[0.1111111111111111,\"#46039f\"],[0.2222222222222222,\"#7201a8\"],[0.3333333333333333,\"#9c179e\"],[0.4444444444444444,\"#bd3786\"],[0.5555555555555556,\"#d8576b\"],[0.6666666666666666,\"#ed7953\"],[0.7777777777777778,\"#fb9f3a\"],[0.8888888888888888,\"#fdca26\"],[1.0,\"#f0f921\"]],\"diverging\":[[0,\"#8e0152\"],[0.1,\"#c51b7d\"],[0.2,\"#de77ae\"],[0.3,\"#f1b6da\"],[0.4,\"#fde0ef\"],[0.5,\"#f7f7f7\"],[0.6,\"#e6f5d0\"],[0.7,\"#b8e186\"],[0.8,\"#7fbc41\"],[0.9,\"#4d9221\"],[1,\"#276419\"]]},\"xaxis\":{\"gridcolor\":\"white\",\"linecolor\":\"white\",\"ticks\":\"\",\"title\":{\"standoff\":15},\"zerolinecolor\":\"white\",\"automargin\":true,\"zerolinewidth\":2},\"yaxis\":{\"gridcolor\":\"white\",\"linecolor\":\"white\",\"ticks\":\"\",\"title\":{\"standoff\":15},\"zerolinecolor\":\"white\",\"automargin\":true,\"zerolinewidth\":2},\"scene\":{\"xaxis\":{\"backgroundcolor\":\"#E5ECF6\",\"gridcolor\":\"white\",\"linecolor\":\"white\",\"showbackground\":true,\"ticks\":\"\",\"zerolinecolor\":\"white\",\"gridwidth\":2},\"yaxis\":{\"backgroundcolor\":\"#E5ECF6\",\"gridcolor\":\"white\",\"linecolor\":\"white\",\"showbackground\":true,\"ticks\":\"\",\"zerolinecolor\":\"white\",\"gridwidth\":2},\"zaxis\":{\"backgroundcolor\":\"#E5ECF6\",\"gridcolor\":\"white\",\"linecolor\":\"white\",\"showbackground\":true,\"ticks\":\"\",\"zerolinecolor\":\"white\",\"gridwidth\":2}},\"shapedefaults\":{\"line\":{\"color\":\"#2a3f5f\"}},\"annotationdefaults\":{\"arrowcolor\":\"#2a3f5f\",\"arrowhead\":0,\"arrowwidth\":1},\"geo\":{\"bgcolor\":\"white\",\"landcolor\":\"#E5ECF6\",\"subunitcolor\":\"white\",\"showland\":true,\"showlakes\":true,\"lakecolor\":\"white\"},\"title\":{\"x\":0.05},\"mapbox\":{\"style\":\"light\"}}},\"barmode\":\"group\",\"title\":{\"text\":\"\\u041e\\u0442\\u043d\\u043e\\u0448\\u0435\\u043d\\u0438\\u0435 \\u0432\\u0441\\u0435\\u0445 \\u043f\\u043e\\u043b\\u044c\\u0437\\u043e\\u0432\\u0430\\u0442\\u0435\\u043b\\u0435\\u0439 \\u0438 \\u043f\\u043e\\u043b\\u044c\\u0437\\u043e\\u0432\\u0430\\u0442\\u0435\\u043b\\u0435\\u0439 \\u0431\\u0435\\u0437 \\u0434\\u0435\\u0439\\u0441\\u0442\\u0432\\u0438\\u0439 \\u043f\\u043e \\u0433\\u0440\\u0443\\u043f\\u043f\\u0430\\u043c\"},\"width\":950,\"height\":700,\"xaxis\":{\"title\":{\"text\":\"\\u0413\\u0440\\u0443\\u043f\\u043f\\u0430\"}},\"yaxis\":{\"title\":{\"text\":\"\\u041a\\u043e\\u043b\\u0438\\u0447\\u0435\\u0441\\u0442\\u0432\\u043e \\u043f\\u043e\\u043b\\u044c\\u0437\\u043e\\u0432\\u0430\\u0442\\u0435\\u043b\\u0435\\u0439\"}}},                        {\"responsive\": true}                    ).then(function(){\n",
              "                            \n",
              "var gd = document.getElementById('fcb5c687-9670-4953-bca1-fdcff286ad6c');\n",
              "var x = new MutationObserver(function (mutations, observer) {{\n",
              "        var display = window.getComputedStyle(gd).display;\n",
              "        if (!display || display === 'none') {{\n",
              "            console.log([gd, 'removed!']);\n",
              "            Plotly.purge(gd);\n",
              "            observer.disconnect();\n",
              "        }}\n",
              "}});\n",
              "\n",
              "// Listen for the removal of the full notebook cells\n",
              "var notebookContainer = gd.closest('#notebook-container');\n",
              "if (notebookContainer) {{\n",
              "    x.observe(notebookContainer, {childList: true});\n",
              "}}\n",
              "\n",
              "// Listen for the clearing of the current output cell\n",
              "var outputEl = gd.closest('.output');\n",
              "if (outputEl) {{\n",
              "    x.observe(outputEl, {childList: true});\n",
              "}}\n",
              "\n",
              "                        })                };                            </script>        </div>\n",
              "</body>\n",
              "</html>"
            ]
          },
          "metadata": {}
        }
      ],
      "source": [
        "fig = go.Figure(data=[\n",
        "    go.Bar(name='Всего пользователей в группе', x=temp_table['group'], y=temp_table['total_users']),\n",
        "    go.Bar(name='Пользователей без действий', x=temp_table['group'], y=temp_table['users_no_action'])\n",
        "])\n",
        "fig.update_layout(barmode='group',\n",
        "                  title='Отношение всех пользователей и пользователей без действий по группам',\n",
        "                  width=950,\n",
        "                  height=700,\n",
        "                  xaxis_title='Группа',\n",
        "                  yaxis_title='Количество пользователей')\n",
        "fig.show()"
      ]
    },
    {
      "cell_type": "markdown",
      "metadata": {
        "id": "mjo8foST83p6"
      },
      "source": [
        "`68%` пользователей от группы `B` не совершали действий и `29%` пользователей от группы `A` не совершали действий, доли очень большие, посмотрим, как распределены пользователи по датам регистрации:"
      ]
    },
    {
      "cell_type": "code",
      "execution_count": 38,
      "metadata": {
        "id": "sajhc_ug83p6",
        "outputId": "237e83e8-0762-4cf7-ea30-7ba76f2d58b4",
        "colab": {
          "base_uri": "https://localhost:8080/",
          "height": 519
        }
      },
      "outputs": [
        {
          "output_type": "execute_result",
          "data": {
            "text/plain": [
              "   first_date  count_user\n",
              "0  2020-12-07  245       \n",
              "1  2020-12-08  171       \n",
              "2  2020-12-09  75        \n",
              "3  2020-12-10  242       \n",
              "4  2020-12-11  139       \n",
              "5  2020-12-12  314       \n",
              "6  2020-12-13  434       \n",
              "7  2020-12-14  169       \n",
              "8  2020-12-15  95        \n",
              "9  2020-12-16  16        \n",
              "10 2020-12-17  89        \n",
              "11 2020-12-18  105       \n",
              "12 2020-12-19  120       \n",
              "13 2020-12-20  129       \n",
              "14 2020-12-21  175       "
            ],
            "text/html": [
              "\n",
              "  <div id=\"df-8cd1c758-e0a5-4cbd-a88e-a0f0ab573176\" class=\"colab-df-container\">\n",
              "    <div>\n",
              "<style scoped>\n",
              "    .dataframe tbody tr th:only-of-type {\n",
              "        vertical-align: middle;\n",
              "    }\n",
              "\n",
              "    .dataframe tbody tr th {\n",
              "        vertical-align: top;\n",
              "    }\n",
              "\n",
              "    .dataframe thead th {\n",
              "        text-align: right;\n",
              "    }\n",
              "</style>\n",
              "<table border=\"1\" class=\"dataframe\">\n",
              "  <thead>\n",
              "    <tr style=\"text-align: right;\">\n",
              "      <th></th>\n",
              "      <th>first_date</th>\n",
              "      <th>count_user</th>\n",
              "    </tr>\n",
              "  </thead>\n",
              "  <tbody>\n",
              "    <tr>\n",
              "      <th>0</th>\n",
              "      <td>2020-12-07</td>\n",
              "      <td>245</td>\n",
              "    </tr>\n",
              "    <tr>\n",
              "      <th>1</th>\n",
              "      <td>2020-12-08</td>\n",
              "      <td>171</td>\n",
              "    </tr>\n",
              "    <tr>\n",
              "      <th>2</th>\n",
              "      <td>2020-12-09</td>\n",
              "      <td>75</td>\n",
              "    </tr>\n",
              "    <tr>\n",
              "      <th>3</th>\n",
              "      <td>2020-12-10</td>\n",
              "      <td>242</td>\n",
              "    </tr>\n",
              "    <tr>\n",
              "      <th>4</th>\n",
              "      <td>2020-12-11</td>\n",
              "      <td>139</td>\n",
              "    </tr>\n",
              "    <tr>\n",
              "      <th>5</th>\n",
              "      <td>2020-12-12</td>\n",
              "      <td>314</td>\n",
              "    </tr>\n",
              "    <tr>\n",
              "      <th>6</th>\n",
              "      <td>2020-12-13</td>\n",
              "      <td>434</td>\n",
              "    </tr>\n",
              "    <tr>\n",
              "      <th>7</th>\n",
              "      <td>2020-12-14</td>\n",
              "      <td>169</td>\n",
              "    </tr>\n",
              "    <tr>\n",
              "      <th>8</th>\n",
              "      <td>2020-12-15</td>\n",
              "      <td>95</td>\n",
              "    </tr>\n",
              "    <tr>\n",
              "      <th>9</th>\n",
              "      <td>2020-12-16</td>\n",
              "      <td>16</td>\n",
              "    </tr>\n",
              "    <tr>\n",
              "      <th>10</th>\n",
              "      <td>2020-12-17</td>\n",
              "      <td>89</td>\n",
              "    </tr>\n",
              "    <tr>\n",
              "      <th>11</th>\n",
              "      <td>2020-12-18</td>\n",
              "      <td>105</td>\n",
              "    </tr>\n",
              "    <tr>\n",
              "      <th>12</th>\n",
              "      <td>2020-12-19</td>\n",
              "      <td>120</td>\n",
              "    </tr>\n",
              "    <tr>\n",
              "      <th>13</th>\n",
              "      <td>2020-12-20</td>\n",
              "      <td>129</td>\n",
              "    </tr>\n",
              "    <tr>\n",
              "      <th>14</th>\n",
              "      <td>2020-12-21</td>\n",
              "      <td>175</td>\n",
              "    </tr>\n",
              "  </tbody>\n",
              "</table>\n",
              "</div>\n",
              "    <div class=\"colab-df-buttons\">\n",
              "\n",
              "  <div class=\"colab-df-container\">\n",
              "    <button class=\"colab-df-convert\" onclick=\"convertToInteractive('df-8cd1c758-e0a5-4cbd-a88e-a0f0ab573176')\"\n",
              "            title=\"Convert this dataframe to an interactive table.\"\n",
              "            style=\"display:none;\">\n",
              "\n",
              "  <svg xmlns=\"http://www.w3.org/2000/svg\" height=\"24px\" viewBox=\"0 -960 960 960\">\n",
              "    <path d=\"M120-120v-720h720v720H120Zm60-500h600v-160H180v160Zm220 220h160v-160H400v160Zm0 220h160v-160H400v160ZM180-400h160v-160H180v160Zm440 0h160v-160H620v160ZM180-180h160v-160H180v160Zm440 0h160v-160H620v160Z\"/>\n",
              "  </svg>\n",
              "    </button>\n",
              "\n",
              "  <style>\n",
              "    .colab-df-container {\n",
              "      display:flex;\n",
              "      gap: 12px;\n",
              "    }\n",
              "\n",
              "    .colab-df-convert {\n",
              "      background-color: #E8F0FE;\n",
              "      border: none;\n",
              "      border-radius: 50%;\n",
              "      cursor: pointer;\n",
              "      display: none;\n",
              "      fill: #1967D2;\n",
              "      height: 32px;\n",
              "      padding: 0 0 0 0;\n",
              "      width: 32px;\n",
              "    }\n",
              "\n",
              "    .colab-df-convert:hover {\n",
              "      background-color: #E2EBFA;\n",
              "      box-shadow: 0px 1px 2px rgba(60, 64, 67, 0.3), 0px 1px 3px 1px rgba(60, 64, 67, 0.15);\n",
              "      fill: #174EA6;\n",
              "    }\n",
              "\n",
              "    .colab-df-buttons div {\n",
              "      margin-bottom: 4px;\n",
              "    }\n",
              "\n",
              "    [theme=dark] .colab-df-convert {\n",
              "      background-color: #3B4455;\n",
              "      fill: #D2E3FC;\n",
              "    }\n",
              "\n",
              "    [theme=dark] .colab-df-convert:hover {\n",
              "      background-color: #434B5C;\n",
              "      box-shadow: 0px 1px 3px 1px rgba(0, 0, 0, 0.15);\n",
              "      filter: drop-shadow(0px 1px 2px rgba(0, 0, 0, 0.3));\n",
              "      fill: #FFFFFF;\n",
              "    }\n",
              "  </style>\n",
              "\n",
              "    <script>\n",
              "      const buttonEl =\n",
              "        document.querySelector('#df-8cd1c758-e0a5-4cbd-a88e-a0f0ab573176 button.colab-df-convert');\n",
              "      buttonEl.style.display =\n",
              "        google.colab.kernel.accessAllowed ? 'block' : 'none';\n",
              "\n",
              "      async function convertToInteractive(key) {\n",
              "        const element = document.querySelector('#df-8cd1c758-e0a5-4cbd-a88e-a0f0ab573176');\n",
              "        const dataTable =\n",
              "          await google.colab.kernel.invokeFunction('convertToInteractive',\n",
              "                                                    [key], {});\n",
              "        if (!dataTable) return;\n",
              "\n",
              "        const docLinkHtml = 'Like what you see? Visit the ' +\n",
              "          '<a target=\"_blank\" href=https://colab.research.google.com/notebooks/data_table.ipynb>data table notebook</a>'\n",
              "          + ' to learn more about interactive tables.';\n",
              "        element.innerHTML = '';\n",
              "        dataTable['output_type'] = 'display_data';\n",
              "        await google.colab.output.renderOutput(dataTable, element);\n",
              "        const docLink = document.createElement('div');\n",
              "        docLink.innerHTML = docLinkHtml;\n",
              "        element.appendChild(docLink);\n",
              "      }\n",
              "    </script>\n",
              "  </div>\n",
              "\n",
              "\n",
              "<div id=\"df-0d66d5aa-2f43-4a19-a81a-0e6b63ed72a9\">\n",
              "  <button class=\"colab-df-quickchart\" onclick=\"quickchart('df-0d66d5aa-2f43-4a19-a81a-0e6b63ed72a9')\"\n",
              "            title=\"Suggest charts\"\n",
              "            style=\"display:none;\">\n",
              "\n",
              "<svg xmlns=\"http://www.w3.org/2000/svg\" height=\"24px\"viewBox=\"0 0 24 24\"\n",
              "     width=\"24px\">\n",
              "    <g>\n",
              "        <path d=\"M19 3H5c-1.1 0-2 .9-2 2v14c0 1.1.9 2 2 2h14c1.1 0 2-.9 2-2V5c0-1.1-.9-2-2-2zM9 17H7v-7h2v7zm4 0h-2V7h2v10zm4 0h-2v-4h2v4z\"/>\n",
              "    </g>\n",
              "</svg>\n",
              "  </button>\n",
              "\n",
              "<style>\n",
              "  .colab-df-quickchart {\n",
              "      --bg-color: #E8F0FE;\n",
              "      --fill-color: #1967D2;\n",
              "      --hover-bg-color: #E2EBFA;\n",
              "      --hover-fill-color: #174EA6;\n",
              "      --disabled-fill-color: #AAA;\n",
              "      --disabled-bg-color: #DDD;\n",
              "  }\n",
              "\n",
              "  [theme=dark] .colab-df-quickchart {\n",
              "      --bg-color: #3B4455;\n",
              "      --fill-color: #D2E3FC;\n",
              "      --hover-bg-color: #434B5C;\n",
              "      --hover-fill-color: #FFFFFF;\n",
              "      --disabled-bg-color: #3B4455;\n",
              "      --disabled-fill-color: #666;\n",
              "  }\n",
              "\n",
              "  .colab-df-quickchart {\n",
              "    background-color: var(--bg-color);\n",
              "    border: none;\n",
              "    border-radius: 50%;\n",
              "    cursor: pointer;\n",
              "    display: none;\n",
              "    fill: var(--fill-color);\n",
              "    height: 32px;\n",
              "    padding: 0;\n",
              "    width: 32px;\n",
              "  }\n",
              "\n",
              "  .colab-df-quickchart:hover {\n",
              "    background-color: var(--hover-bg-color);\n",
              "    box-shadow: 0 1px 2px rgba(60, 64, 67, 0.3), 0 1px 3px 1px rgba(60, 64, 67, 0.15);\n",
              "    fill: var(--button-hover-fill-color);\n",
              "  }\n",
              "\n",
              "  .colab-df-quickchart-complete:disabled,\n",
              "  .colab-df-quickchart-complete:disabled:hover {\n",
              "    background-color: var(--disabled-bg-color);\n",
              "    fill: var(--disabled-fill-color);\n",
              "    box-shadow: none;\n",
              "  }\n",
              "\n",
              "  .colab-df-spinner {\n",
              "    border: 2px solid var(--fill-color);\n",
              "    border-color: transparent;\n",
              "    border-bottom-color: var(--fill-color);\n",
              "    animation:\n",
              "      spin 1s steps(1) infinite;\n",
              "  }\n",
              "\n",
              "  @keyframes spin {\n",
              "    0% {\n",
              "      border-color: transparent;\n",
              "      border-bottom-color: var(--fill-color);\n",
              "      border-left-color: var(--fill-color);\n",
              "    }\n",
              "    20% {\n",
              "      border-color: transparent;\n",
              "      border-left-color: var(--fill-color);\n",
              "      border-top-color: var(--fill-color);\n",
              "    }\n",
              "    30% {\n",
              "      border-color: transparent;\n",
              "      border-left-color: var(--fill-color);\n",
              "      border-top-color: var(--fill-color);\n",
              "      border-right-color: var(--fill-color);\n",
              "    }\n",
              "    40% {\n",
              "      border-color: transparent;\n",
              "      border-right-color: var(--fill-color);\n",
              "      border-top-color: var(--fill-color);\n",
              "    }\n",
              "    60% {\n",
              "      border-color: transparent;\n",
              "      border-right-color: var(--fill-color);\n",
              "    }\n",
              "    80% {\n",
              "      border-color: transparent;\n",
              "      border-right-color: var(--fill-color);\n",
              "      border-bottom-color: var(--fill-color);\n",
              "    }\n",
              "    90% {\n",
              "      border-color: transparent;\n",
              "      border-bottom-color: var(--fill-color);\n",
              "    }\n",
              "  }\n",
              "</style>\n",
              "\n",
              "  <script>\n",
              "    async function quickchart(key) {\n",
              "      const quickchartButtonEl =\n",
              "        document.querySelector('#' + key + ' button');\n",
              "      quickchartButtonEl.disabled = true;  // To prevent multiple clicks.\n",
              "      quickchartButtonEl.classList.add('colab-df-spinner');\n",
              "      try {\n",
              "        const charts = await google.colab.kernel.invokeFunction(\n",
              "            'suggestCharts', [key], {});\n",
              "      } catch (error) {\n",
              "        console.error('Error during call to suggestCharts:', error);\n",
              "      }\n",
              "      quickchartButtonEl.classList.remove('colab-df-spinner');\n",
              "      quickchartButtonEl.classList.add('colab-df-quickchart-complete');\n",
              "    }\n",
              "    (() => {\n",
              "      let quickchartButtonEl =\n",
              "        document.querySelector('#df-0d66d5aa-2f43-4a19-a81a-0e6b63ed72a9 button');\n",
              "      quickchartButtonEl.style.display =\n",
              "        google.colab.kernel.accessAllowed ? 'block' : 'none';\n",
              "    })();\n",
              "  </script>\n",
              "</div>\n",
              "    </div>\n",
              "  </div>\n"
            ],
            "application/vnd.google.colaboratory.intrinsic+json": {
              "type": "dataframe",
              "variable_name": "temp_table",
              "summary": "{\n  \"name\": \"temp_table\",\n  \"rows\": 15,\n  \"fields\": [\n    {\n      \"column\": \"first_date\",\n      \"properties\": {\n        \"dtype\": \"date\",\n        \"min\": \"2020-12-07 00:00:00\",\n        \"max\": \"2020-12-21 00:00:00\",\n        \"num_unique_values\": 15,\n        \"samples\": [\n          \"2020-12-16 00:00:00\",\n          \"2020-12-18 00:00:00\",\n          \"2020-12-07 00:00:00\"\n        ],\n        \"semantic_type\": \"\",\n        \"description\": \"\"\n      }\n    },\n    {\n      \"column\": \"count_user\",\n      \"properties\": {\n        \"dtype\": \"number\",\n        \"std\": 105,\n        \"min\": 16,\n        \"max\": 434,\n        \"num_unique_values\": 15,\n        \"samples\": [\n          16,\n          105,\n          245\n        ],\n        \"semantic_type\": \"\",\n        \"description\": \"\"\n      }\n    }\n  ]\n}"
            }
          },
          "metadata": {},
          "execution_count": 38
        }
      ],
      "source": [
        "temp_table = df[df['event_name'].isna()].groupby(['first_date'])['user_id'].agg('count').reset_index().rename(columns={'user_id': 'count_user'})\n",
        "temp_table"
      ]
    },
    {
      "cell_type": "code",
      "execution_count": 39,
      "metadata": {
        "id": "9l6lFow483p6",
        "outputId": "817242e9-da54-4fbc-d2c5-31369f6f82e6",
        "colab": {
          "base_uri": "https://localhost:8080/",
          "height": 717
        }
      },
      "outputs": [
        {
          "output_type": "display_data",
          "data": {
            "text/html": [
              "<html>\n",
              "<head><meta charset=\"utf-8\" /></head>\n",
              "<body>\n",
              "    <div>            <script src=\"https://cdnjs.cloudflare.com/ajax/libs/mathjax/2.7.5/MathJax.js?config=TeX-AMS-MML_SVG\"></script><script type=\"text/javascript\">if (window.MathJax && window.MathJax.Hub && window.MathJax.Hub.Config) {window.MathJax.Hub.Config({SVG: {font: \"STIX-Web\"}});}</script>                <script type=\"text/javascript\">window.PlotlyConfig = {MathJaxConfig: 'local'};</script>\n",
              "        <script charset=\"utf-8\" src=\"https://cdn.plot.ly/plotly-2.24.1.min.js\"></script>                <div id=\"c75464fa-0d8f-457d-a145-e99b3307cb44\" class=\"plotly-graph-div\" style=\"height:700px; width:950px;\"></div>            <script type=\"text/javascript\">                                    window.PLOTLYENV=window.PLOTLYENV || {};                                    if (document.getElementById(\"c75464fa-0d8f-457d-a145-e99b3307cb44\")) {                    Plotly.newPlot(                        \"c75464fa-0d8f-457d-a145-e99b3307cb44\",                        [{\"alignmentgroup\":\"True\",\"hovertemplate\":\"first_date=%{x}\\u003cbr\\u003e\\u041a\\u043e\\u043b\\u0438\\u0447\\u0435\\u0441\\u0442\\u0432\\u043e \\u043f\\u043e\\u043b\\u044c\\u0437\\u043e\\u0432\\u0430\\u0442\\u0435\\u043b\\u0435\\u0439=%{y}\\u003cextra\\u003e\\u003c\\u002fextra\\u003e\",\"legendgroup\":\"\",\"marker\":{\"color\":\"#636efa\",\"pattern\":{\"shape\":\"\"}},\"name\":\"\",\"offsetgroup\":\"\",\"orientation\":\"v\",\"showlegend\":false,\"textposition\":\"outside\",\"x\":[\"2020-12-07T00:00:00\",\"2020-12-08T00:00:00\",\"2020-12-09T00:00:00\",\"2020-12-10T00:00:00\",\"2020-12-11T00:00:00\",\"2020-12-12T00:00:00\",\"2020-12-13T00:00:00\",\"2020-12-14T00:00:00\",\"2020-12-15T00:00:00\",\"2020-12-16T00:00:00\",\"2020-12-17T00:00:00\",\"2020-12-18T00:00:00\",\"2020-12-19T00:00:00\",\"2020-12-20T00:00:00\",\"2020-12-21T00:00:00\"],\"xaxis\":\"x\",\"y\":[245,171,75,242,139,314,434,169,95,16,89,105,120,129,175],\"yaxis\":\"y\",\"type\":\"bar\",\"textfont\":{\"size\":14},\"cliponaxis\":false,\"textangle\":0}],                        {\"template\":{\"data\":{\"histogram2dcontour\":[{\"type\":\"histogram2dcontour\",\"colorbar\":{\"outlinewidth\":0,\"ticks\":\"\"},\"colorscale\":[[0.0,\"#0d0887\"],[0.1111111111111111,\"#46039f\"],[0.2222222222222222,\"#7201a8\"],[0.3333333333333333,\"#9c179e\"],[0.4444444444444444,\"#bd3786\"],[0.5555555555555556,\"#d8576b\"],[0.6666666666666666,\"#ed7953\"],[0.7777777777777778,\"#fb9f3a\"],[0.8888888888888888,\"#fdca26\"],[1.0,\"#f0f921\"]]}],\"choropleth\":[{\"type\":\"choropleth\",\"colorbar\":{\"outlinewidth\":0,\"ticks\":\"\"}}],\"histogram2d\":[{\"type\":\"histogram2d\",\"colorbar\":{\"outlinewidth\":0,\"ticks\":\"\"},\"colorscale\":[[0.0,\"#0d0887\"],[0.1111111111111111,\"#46039f\"],[0.2222222222222222,\"#7201a8\"],[0.3333333333333333,\"#9c179e\"],[0.4444444444444444,\"#bd3786\"],[0.5555555555555556,\"#d8576b\"],[0.6666666666666666,\"#ed7953\"],[0.7777777777777778,\"#fb9f3a\"],[0.8888888888888888,\"#fdca26\"],[1.0,\"#f0f921\"]]}],\"heatmap\":[{\"type\":\"heatmap\",\"colorbar\":{\"outlinewidth\":0,\"ticks\":\"\"},\"colorscale\":[[0.0,\"#0d0887\"],[0.1111111111111111,\"#46039f\"],[0.2222222222222222,\"#7201a8\"],[0.3333333333333333,\"#9c179e\"],[0.4444444444444444,\"#bd3786\"],[0.5555555555555556,\"#d8576b\"],[0.6666666666666666,\"#ed7953\"],[0.7777777777777778,\"#fb9f3a\"],[0.8888888888888888,\"#fdca26\"],[1.0,\"#f0f921\"]]}],\"heatmapgl\":[{\"type\":\"heatmapgl\",\"colorbar\":{\"outlinewidth\":0,\"ticks\":\"\"},\"colorscale\":[[0.0,\"#0d0887\"],[0.1111111111111111,\"#46039f\"],[0.2222222222222222,\"#7201a8\"],[0.3333333333333333,\"#9c179e\"],[0.4444444444444444,\"#bd3786\"],[0.5555555555555556,\"#d8576b\"],[0.6666666666666666,\"#ed7953\"],[0.7777777777777778,\"#fb9f3a\"],[0.8888888888888888,\"#fdca26\"],[1.0,\"#f0f921\"]]}],\"contourcarpet\":[{\"type\":\"contourcarpet\",\"colorbar\":{\"outlinewidth\":0,\"ticks\":\"\"}}],\"contour\":[{\"type\":\"contour\",\"colorbar\":{\"outlinewidth\":0,\"ticks\":\"\"},\"colorscale\":[[0.0,\"#0d0887\"],[0.1111111111111111,\"#46039f\"],[0.2222222222222222,\"#7201a8\"],[0.3333333333333333,\"#9c179e\"],[0.4444444444444444,\"#bd3786\"],[0.5555555555555556,\"#d8576b\"],[0.6666666666666666,\"#ed7953\"],[0.7777777777777778,\"#fb9f3a\"],[0.8888888888888888,\"#fdca26\"],[1.0,\"#f0f921\"]]}],\"surface\":[{\"type\":\"surface\",\"colorbar\":{\"outlinewidth\":0,\"ticks\":\"\"},\"colorscale\":[[0.0,\"#0d0887\"],[0.1111111111111111,\"#46039f\"],[0.2222222222222222,\"#7201a8\"],[0.3333333333333333,\"#9c179e\"],[0.4444444444444444,\"#bd3786\"],[0.5555555555555556,\"#d8576b\"],[0.6666666666666666,\"#ed7953\"],[0.7777777777777778,\"#fb9f3a\"],[0.8888888888888888,\"#fdca26\"],[1.0,\"#f0f921\"]]}],\"mesh3d\":[{\"type\":\"mesh3d\",\"colorbar\":{\"outlinewidth\":0,\"ticks\":\"\"}}],\"scatter\":[{\"fillpattern\":{\"fillmode\":\"overlay\",\"size\":10,\"solidity\":0.2},\"type\":\"scatter\"}],\"parcoords\":[{\"type\":\"parcoords\",\"line\":{\"colorbar\":{\"outlinewidth\":0,\"ticks\":\"\"}}}],\"scatterpolargl\":[{\"type\":\"scatterpolargl\",\"marker\":{\"colorbar\":{\"outlinewidth\":0,\"ticks\":\"\"}}}],\"bar\":[{\"error_x\":{\"color\":\"#2a3f5f\"},\"error_y\":{\"color\":\"#2a3f5f\"},\"marker\":{\"line\":{\"color\":\"#E5ECF6\",\"width\":0.5},\"pattern\":{\"fillmode\":\"overlay\",\"size\":10,\"solidity\":0.2}},\"type\":\"bar\"}],\"scattergeo\":[{\"type\":\"scattergeo\",\"marker\":{\"colorbar\":{\"outlinewidth\":0,\"ticks\":\"\"}}}],\"scatterpolar\":[{\"type\":\"scatterpolar\",\"marker\":{\"colorbar\":{\"outlinewidth\":0,\"ticks\":\"\"}}}],\"histogram\":[{\"marker\":{\"pattern\":{\"fillmode\":\"overlay\",\"size\":10,\"solidity\":0.2}},\"type\":\"histogram\"}],\"scattergl\":[{\"type\":\"scattergl\",\"marker\":{\"colorbar\":{\"outlinewidth\":0,\"ticks\":\"\"}}}],\"scatter3d\":[{\"type\":\"scatter3d\",\"line\":{\"colorbar\":{\"outlinewidth\":0,\"ticks\":\"\"}},\"marker\":{\"colorbar\":{\"outlinewidth\":0,\"ticks\":\"\"}}}],\"scattermapbox\":[{\"type\":\"scattermapbox\",\"marker\":{\"colorbar\":{\"outlinewidth\":0,\"ticks\":\"\"}}}],\"scatterternary\":[{\"type\":\"scatterternary\",\"marker\":{\"colorbar\":{\"outlinewidth\":0,\"ticks\":\"\"}}}],\"scattercarpet\":[{\"type\":\"scattercarpet\",\"marker\":{\"colorbar\":{\"outlinewidth\":0,\"ticks\":\"\"}}}],\"carpet\":[{\"aaxis\":{\"endlinecolor\":\"#2a3f5f\",\"gridcolor\":\"white\",\"linecolor\":\"white\",\"minorgridcolor\":\"white\",\"startlinecolor\":\"#2a3f5f\"},\"baxis\":{\"endlinecolor\":\"#2a3f5f\",\"gridcolor\":\"white\",\"linecolor\":\"white\",\"minorgridcolor\":\"white\",\"startlinecolor\":\"#2a3f5f\"},\"type\":\"carpet\"}],\"table\":[{\"cells\":{\"fill\":{\"color\":\"#EBF0F8\"},\"line\":{\"color\":\"white\"}},\"header\":{\"fill\":{\"color\":\"#C8D4E3\"},\"line\":{\"color\":\"white\"}},\"type\":\"table\"}],\"barpolar\":[{\"marker\":{\"line\":{\"color\":\"#E5ECF6\",\"width\":0.5},\"pattern\":{\"fillmode\":\"overlay\",\"size\":10,\"solidity\":0.2}},\"type\":\"barpolar\"}],\"pie\":[{\"automargin\":true,\"type\":\"pie\"}]},\"layout\":{\"autotypenumbers\":\"strict\",\"colorway\":[\"#636efa\",\"#EF553B\",\"#00cc96\",\"#ab63fa\",\"#FFA15A\",\"#19d3f3\",\"#FF6692\",\"#B6E880\",\"#FF97FF\",\"#FECB52\"],\"font\":{\"color\":\"#2a3f5f\"},\"hovermode\":\"closest\",\"hoverlabel\":{\"align\":\"left\"},\"paper_bgcolor\":\"white\",\"plot_bgcolor\":\"#E5ECF6\",\"polar\":{\"bgcolor\":\"#E5ECF6\",\"angularaxis\":{\"gridcolor\":\"white\",\"linecolor\":\"white\",\"ticks\":\"\"},\"radialaxis\":{\"gridcolor\":\"white\",\"linecolor\":\"white\",\"ticks\":\"\"}},\"ternary\":{\"bgcolor\":\"#E5ECF6\",\"aaxis\":{\"gridcolor\":\"white\",\"linecolor\":\"white\",\"ticks\":\"\"},\"baxis\":{\"gridcolor\":\"white\",\"linecolor\":\"white\",\"ticks\":\"\"},\"caxis\":{\"gridcolor\":\"white\",\"linecolor\":\"white\",\"ticks\":\"\"}},\"coloraxis\":{\"colorbar\":{\"outlinewidth\":0,\"ticks\":\"\"}},\"colorscale\":{\"sequential\":[[0.0,\"#0d0887\"],[0.1111111111111111,\"#46039f\"],[0.2222222222222222,\"#7201a8\"],[0.3333333333333333,\"#9c179e\"],[0.4444444444444444,\"#bd3786\"],[0.5555555555555556,\"#d8576b\"],[0.6666666666666666,\"#ed7953\"],[0.7777777777777778,\"#fb9f3a\"],[0.8888888888888888,\"#fdca26\"],[1.0,\"#f0f921\"]],\"sequentialminus\":[[0.0,\"#0d0887\"],[0.1111111111111111,\"#46039f\"],[0.2222222222222222,\"#7201a8\"],[0.3333333333333333,\"#9c179e\"],[0.4444444444444444,\"#bd3786\"],[0.5555555555555556,\"#d8576b\"],[0.6666666666666666,\"#ed7953\"],[0.7777777777777778,\"#fb9f3a\"],[0.8888888888888888,\"#fdca26\"],[1.0,\"#f0f921\"]],\"diverging\":[[0,\"#8e0152\"],[0.1,\"#c51b7d\"],[0.2,\"#de77ae\"],[0.3,\"#f1b6da\"],[0.4,\"#fde0ef\"],[0.5,\"#f7f7f7\"],[0.6,\"#e6f5d0\"],[0.7,\"#b8e186\"],[0.8,\"#7fbc41\"],[0.9,\"#4d9221\"],[1,\"#276419\"]]},\"xaxis\":{\"gridcolor\":\"white\",\"linecolor\":\"white\",\"ticks\":\"\",\"title\":{\"standoff\":15},\"zerolinecolor\":\"white\",\"automargin\":true,\"zerolinewidth\":2},\"yaxis\":{\"gridcolor\":\"white\",\"linecolor\":\"white\",\"ticks\":\"\",\"title\":{\"standoff\":15},\"zerolinecolor\":\"white\",\"automargin\":true,\"zerolinewidth\":2},\"scene\":{\"xaxis\":{\"backgroundcolor\":\"#E5ECF6\",\"gridcolor\":\"white\",\"linecolor\":\"white\",\"showbackground\":true,\"ticks\":\"\",\"zerolinecolor\":\"white\",\"gridwidth\":2},\"yaxis\":{\"backgroundcolor\":\"#E5ECF6\",\"gridcolor\":\"white\",\"linecolor\":\"white\",\"showbackground\":true,\"ticks\":\"\",\"zerolinecolor\":\"white\",\"gridwidth\":2},\"zaxis\":{\"backgroundcolor\":\"#E5ECF6\",\"gridcolor\":\"white\",\"linecolor\":\"white\",\"showbackground\":true,\"ticks\":\"\",\"zerolinecolor\":\"white\",\"gridwidth\":2}},\"shapedefaults\":{\"line\":{\"color\":\"#2a3f5f\"}},\"annotationdefaults\":{\"arrowcolor\":\"#2a3f5f\",\"arrowhead\":0,\"arrowwidth\":1},\"geo\":{\"bgcolor\":\"white\",\"landcolor\":\"#E5ECF6\",\"subunitcolor\":\"white\",\"showland\":true,\"showlakes\":true,\"lakecolor\":\"white\"},\"title\":{\"x\":0.05},\"mapbox\":{\"style\":\"light\"}}},\"xaxis\":{\"anchor\":\"y\",\"domain\":[0.0,1.0],\"title\":{\"text\":\"first_date\"}},\"yaxis\":{\"anchor\":\"x\",\"domain\":[0.0,1.0],\"title\":{\"text\":\"\\u041a\\u043e\\u043b\\u0438\\u0447\\u0435\\u0441\\u0442\\u0432\\u043e \\u043f\\u043e\\u043b\\u044c\\u0437\\u043e\\u0432\\u0430\\u0442\\u0435\\u043b\\u0435\\u0439\"}},\"legend\":{\"tracegroupgap\":0,\"font\":{\"size\":15}},\"title\":{\"text\":\"\\u0420\\u0430\\u0441\\u043f\\u0440\\u0435\\u0434\\u0435\\u043b\\u0435\\u043d\\u0438\\u0435 \\u0440\\u0435\\u0433\\u0438\\u0441\\u0442\\u0440\\u0430\\u0446\\u0438\\u0439 \\u043f\\u043e\\u043b\\u044c\\u0437\\u043e\\u0432\\u0430\\u0442\\u0435\\u043b\\u0435\\u0439 \\u0431\\u0435\\u0437 \\u0434\\u0435\\u0439\\u0441\\u0442\\u0432\\u0438\\u0439 \\u043f\\u043e \\u0434\\u043d\\u044f\\u043c\",\"font\":{\"size\":20},\"x\":0.5},\"barmode\":\"relative\",\"height\":700,\"width\":950,\"font\":{\"size\":15}},                        {\"responsive\": true}                    ).then(function(){\n",
              "                            \n",
              "var gd = document.getElementById('c75464fa-0d8f-457d-a145-e99b3307cb44');\n",
              "var x = new MutationObserver(function (mutations, observer) {{\n",
              "        var display = window.getComputedStyle(gd).display;\n",
              "        if (!display || display === 'none') {{\n",
              "            console.log([gd, 'removed!']);\n",
              "            Plotly.purge(gd);\n",
              "            observer.disconnect();\n",
              "        }}\n",
              "}});\n",
              "\n",
              "// Listen for the removal of the full notebook cells\n",
              "var notebookContainer = gd.closest('#notebook-container');\n",
              "if (notebookContainer) {{\n",
              "    x.observe(notebookContainer, {childList: true});\n",
              "}}\n",
              "\n",
              "// Listen for the clearing of the current output cell\n",
              "var outputEl = gd.closest('.output');\n",
              "if (outputEl) {{\n",
              "    x.observe(outputEl, {childList: true});\n",
              "}}\n",
              "\n",
              "                        })                };                            </script>        </div>\n",
              "</body>\n",
              "</html>"
            ]
          },
          "metadata": {}
        }
      ],
      "source": [
        "fig = px.bar(temp_table, x=\"first_date\", y=\"count_user\",\n",
        "             title=\"Распределение регистраций пользователей без действий по дням\",\n",
        "             labels={\n",
        "                     'count_user': 'Количество пользователей',\n",
        "                     'dt': 'Дата'},\n",
        "             width= 950, height=700)\n",
        "fig.update_traces(textfont_size=14, textangle=0, textposition=\"outside\", cliponaxis=False)\n",
        "fig.update_layout(title_x=0.5, title=dict(font=dict(size=20)),\n",
        "                               legend=dict(font=dict(size=15)),\n",
        "                               font=dict(size=15))\n",
        "fig.show()"
      ]
    },
    {
      "cell_type": "code",
      "execution_count": 40,
      "metadata": {
        "id": "n6QBc08B83p7",
        "outputId": "70ecaf55-1e85-4191-ef16-811705d262dd",
        "colab": {
          "base_uri": "https://localhost:8080/",
          "height": 519
        }
      },
      "outputs": [
        {
          "output_type": "execute_result",
          "data": {
            "text/plain": [
              "   first_date  count_user_a  count_user_b\n",
              "0  2020-12-07 175.00         70          \n",
              "1  2020-12-08 83.00          88          \n",
              "2  2020-12-09 53.00          22          \n",
              "3  2020-12-10 110.00         132         \n",
              "4  2020-12-11 60.00          79          \n",
              "5  2020-12-12 187.00         127         \n",
              "6  2020-12-13 248.00         186         \n",
              "7  2020-12-14 NaN            169         \n",
              "8  2020-12-15 NaN            95          \n",
              "9  2020-12-16 NaN            16          \n",
              "10 2020-12-17 NaN            89          \n",
              "11 2020-12-18 NaN            105         \n",
              "12 2020-12-19 NaN            120         \n",
              "13 2020-12-20 NaN            129         \n",
              "14 2020-12-21 NaN            175         "
            ],
            "text/html": [
              "\n",
              "  <div id=\"df-99678761-dabb-4f84-bad3-c79acb65968e\" class=\"colab-df-container\">\n",
              "    <div>\n",
              "<style scoped>\n",
              "    .dataframe tbody tr th:only-of-type {\n",
              "        vertical-align: middle;\n",
              "    }\n",
              "\n",
              "    .dataframe tbody tr th {\n",
              "        vertical-align: top;\n",
              "    }\n",
              "\n",
              "    .dataframe thead th {\n",
              "        text-align: right;\n",
              "    }\n",
              "</style>\n",
              "<table border=\"1\" class=\"dataframe\">\n",
              "  <thead>\n",
              "    <tr style=\"text-align: right;\">\n",
              "      <th></th>\n",
              "      <th>first_date</th>\n",
              "      <th>count_user_a</th>\n",
              "      <th>count_user_b</th>\n",
              "    </tr>\n",
              "  </thead>\n",
              "  <tbody>\n",
              "    <tr>\n",
              "      <th>0</th>\n",
              "      <td>2020-12-07</td>\n",
              "      <td>175.00</td>\n",
              "      <td>70</td>\n",
              "    </tr>\n",
              "    <tr>\n",
              "      <th>1</th>\n",
              "      <td>2020-12-08</td>\n",
              "      <td>83.00</td>\n",
              "      <td>88</td>\n",
              "    </tr>\n",
              "    <tr>\n",
              "      <th>2</th>\n",
              "      <td>2020-12-09</td>\n",
              "      <td>53.00</td>\n",
              "      <td>22</td>\n",
              "    </tr>\n",
              "    <tr>\n",
              "      <th>3</th>\n",
              "      <td>2020-12-10</td>\n",
              "      <td>110.00</td>\n",
              "      <td>132</td>\n",
              "    </tr>\n",
              "    <tr>\n",
              "      <th>4</th>\n",
              "      <td>2020-12-11</td>\n",
              "      <td>60.00</td>\n",
              "      <td>79</td>\n",
              "    </tr>\n",
              "    <tr>\n",
              "      <th>5</th>\n",
              "      <td>2020-12-12</td>\n",
              "      <td>187.00</td>\n",
              "      <td>127</td>\n",
              "    </tr>\n",
              "    <tr>\n",
              "      <th>6</th>\n",
              "      <td>2020-12-13</td>\n",
              "      <td>248.00</td>\n",
              "      <td>186</td>\n",
              "    </tr>\n",
              "    <tr>\n",
              "      <th>7</th>\n",
              "      <td>2020-12-14</td>\n",
              "      <td>NaN</td>\n",
              "      <td>169</td>\n",
              "    </tr>\n",
              "    <tr>\n",
              "      <th>8</th>\n",
              "      <td>2020-12-15</td>\n",
              "      <td>NaN</td>\n",
              "      <td>95</td>\n",
              "    </tr>\n",
              "    <tr>\n",
              "      <th>9</th>\n",
              "      <td>2020-12-16</td>\n",
              "      <td>NaN</td>\n",
              "      <td>16</td>\n",
              "    </tr>\n",
              "    <tr>\n",
              "      <th>10</th>\n",
              "      <td>2020-12-17</td>\n",
              "      <td>NaN</td>\n",
              "      <td>89</td>\n",
              "    </tr>\n",
              "    <tr>\n",
              "      <th>11</th>\n",
              "      <td>2020-12-18</td>\n",
              "      <td>NaN</td>\n",
              "      <td>105</td>\n",
              "    </tr>\n",
              "    <tr>\n",
              "      <th>12</th>\n",
              "      <td>2020-12-19</td>\n",
              "      <td>NaN</td>\n",
              "      <td>120</td>\n",
              "    </tr>\n",
              "    <tr>\n",
              "      <th>13</th>\n",
              "      <td>2020-12-20</td>\n",
              "      <td>NaN</td>\n",
              "      <td>129</td>\n",
              "    </tr>\n",
              "    <tr>\n",
              "      <th>14</th>\n",
              "      <td>2020-12-21</td>\n",
              "      <td>NaN</td>\n",
              "      <td>175</td>\n",
              "    </tr>\n",
              "  </tbody>\n",
              "</table>\n",
              "</div>\n",
              "    <div class=\"colab-df-buttons\">\n",
              "\n",
              "  <div class=\"colab-df-container\">\n",
              "    <button class=\"colab-df-convert\" onclick=\"convertToInteractive('df-99678761-dabb-4f84-bad3-c79acb65968e')\"\n",
              "            title=\"Convert this dataframe to an interactive table.\"\n",
              "            style=\"display:none;\">\n",
              "\n",
              "  <svg xmlns=\"http://www.w3.org/2000/svg\" height=\"24px\" viewBox=\"0 -960 960 960\">\n",
              "    <path d=\"M120-120v-720h720v720H120Zm60-500h600v-160H180v160Zm220 220h160v-160H400v160Zm0 220h160v-160H400v160ZM180-400h160v-160H180v160Zm440 0h160v-160H620v160ZM180-180h160v-160H180v160Zm440 0h160v-160H620v160Z\"/>\n",
              "  </svg>\n",
              "    </button>\n",
              "\n",
              "  <style>\n",
              "    .colab-df-container {\n",
              "      display:flex;\n",
              "      gap: 12px;\n",
              "    }\n",
              "\n",
              "    .colab-df-convert {\n",
              "      background-color: #E8F0FE;\n",
              "      border: none;\n",
              "      border-radius: 50%;\n",
              "      cursor: pointer;\n",
              "      display: none;\n",
              "      fill: #1967D2;\n",
              "      height: 32px;\n",
              "      padding: 0 0 0 0;\n",
              "      width: 32px;\n",
              "    }\n",
              "\n",
              "    .colab-df-convert:hover {\n",
              "      background-color: #E2EBFA;\n",
              "      box-shadow: 0px 1px 2px rgba(60, 64, 67, 0.3), 0px 1px 3px 1px rgba(60, 64, 67, 0.15);\n",
              "      fill: #174EA6;\n",
              "    }\n",
              "\n",
              "    .colab-df-buttons div {\n",
              "      margin-bottom: 4px;\n",
              "    }\n",
              "\n",
              "    [theme=dark] .colab-df-convert {\n",
              "      background-color: #3B4455;\n",
              "      fill: #D2E3FC;\n",
              "    }\n",
              "\n",
              "    [theme=dark] .colab-df-convert:hover {\n",
              "      background-color: #434B5C;\n",
              "      box-shadow: 0px 1px 3px 1px rgba(0, 0, 0, 0.15);\n",
              "      filter: drop-shadow(0px 1px 2px rgba(0, 0, 0, 0.3));\n",
              "      fill: #FFFFFF;\n",
              "    }\n",
              "  </style>\n",
              "\n",
              "    <script>\n",
              "      const buttonEl =\n",
              "        document.querySelector('#df-99678761-dabb-4f84-bad3-c79acb65968e button.colab-df-convert');\n",
              "      buttonEl.style.display =\n",
              "        google.colab.kernel.accessAllowed ? 'block' : 'none';\n",
              "\n",
              "      async function convertToInteractive(key) {\n",
              "        const element = document.querySelector('#df-99678761-dabb-4f84-bad3-c79acb65968e');\n",
              "        const dataTable =\n",
              "          await google.colab.kernel.invokeFunction('convertToInteractive',\n",
              "                                                    [key], {});\n",
              "        if (!dataTable) return;\n",
              "\n",
              "        const docLinkHtml = 'Like what you see? Visit the ' +\n",
              "          '<a target=\"_blank\" href=https://colab.research.google.com/notebooks/data_table.ipynb>data table notebook</a>'\n",
              "          + ' to learn more about interactive tables.';\n",
              "        element.innerHTML = '';\n",
              "        dataTable['output_type'] = 'display_data';\n",
              "        await google.colab.output.renderOutput(dataTable, element);\n",
              "        const docLink = document.createElement('div');\n",
              "        docLink.innerHTML = docLinkHtml;\n",
              "        element.appendChild(docLink);\n",
              "      }\n",
              "    </script>\n",
              "  </div>\n",
              "\n",
              "\n",
              "<div id=\"df-196c697b-4b6a-45cd-9ccb-bc9f60ccb4f1\">\n",
              "  <button class=\"colab-df-quickchart\" onclick=\"quickchart('df-196c697b-4b6a-45cd-9ccb-bc9f60ccb4f1')\"\n",
              "            title=\"Suggest charts\"\n",
              "            style=\"display:none;\">\n",
              "\n",
              "<svg xmlns=\"http://www.w3.org/2000/svg\" height=\"24px\"viewBox=\"0 0 24 24\"\n",
              "     width=\"24px\">\n",
              "    <g>\n",
              "        <path d=\"M19 3H5c-1.1 0-2 .9-2 2v14c0 1.1.9 2 2 2h14c1.1 0 2-.9 2-2V5c0-1.1-.9-2-2-2zM9 17H7v-7h2v7zm4 0h-2V7h2v10zm4 0h-2v-4h2v4z\"/>\n",
              "    </g>\n",
              "</svg>\n",
              "  </button>\n",
              "\n",
              "<style>\n",
              "  .colab-df-quickchart {\n",
              "      --bg-color: #E8F0FE;\n",
              "      --fill-color: #1967D2;\n",
              "      --hover-bg-color: #E2EBFA;\n",
              "      --hover-fill-color: #174EA6;\n",
              "      --disabled-fill-color: #AAA;\n",
              "      --disabled-bg-color: #DDD;\n",
              "  }\n",
              "\n",
              "  [theme=dark] .colab-df-quickchart {\n",
              "      --bg-color: #3B4455;\n",
              "      --fill-color: #D2E3FC;\n",
              "      --hover-bg-color: #434B5C;\n",
              "      --hover-fill-color: #FFFFFF;\n",
              "      --disabled-bg-color: #3B4455;\n",
              "      --disabled-fill-color: #666;\n",
              "  }\n",
              "\n",
              "  .colab-df-quickchart {\n",
              "    background-color: var(--bg-color);\n",
              "    border: none;\n",
              "    border-radius: 50%;\n",
              "    cursor: pointer;\n",
              "    display: none;\n",
              "    fill: var(--fill-color);\n",
              "    height: 32px;\n",
              "    padding: 0;\n",
              "    width: 32px;\n",
              "  }\n",
              "\n",
              "  .colab-df-quickchart:hover {\n",
              "    background-color: var(--hover-bg-color);\n",
              "    box-shadow: 0 1px 2px rgba(60, 64, 67, 0.3), 0 1px 3px 1px rgba(60, 64, 67, 0.15);\n",
              "    fill: var(--button-hover-fill-color);\n",
              "  }\n",
              "\n",
              "  .colab-df-quickchart-complete:disabled,\n",
              "  .colab-df-quickchart-complete:disabled:hover {\n",
              "    background-color: var(--disabled-bg-color);\n",
              "    fill: var(--disabled-fill-color);\n",
              "    box-shadow: none;\n",
              "  }\n",
              "\n",
              "  .colab-df-spinner {\n",
              "    border: 2px solid var(--fill-color);\n",
              "    border-color: transparent;\n",
              "    border-bottom-color: var(--fill-color);\n",
              "    animation:\n",
              "      spin 1s steps(1) infinite;\n",
              "  }\n",
              "\n",
              "  @keyframes spin {\n",
              "    0% {\n",
              "      border-color: transparent;\n",
              "      border-bottom-color: var(--fill-color);\n",
              "      border-left-color: var(--fill-color);\n",
              "    }\n",
              "    20% {\n",
              "      border-color: transparent;\n",
              "      border-left-color: var(--fill-color);\n",
              "      border-top-color: var(--fill-color);\n",
              "    }\n",
              "    30% {\n",
              "      border-color: transparent;\n",
              "      border-left-color: var(--fill-color);\n",
              "      border-top-color: var(--fill-color);\n",
              "      border-right-color: var(--fill-color);\n",
              "    }\n",
              "    40% {\n",
              "      border-color: transparent;\n",
              "      border-right-color: var(--fill-color);\n",
              "      border-top-color: var(--fill-color);\n",
              "    }\n",
              "    60% {\n",
              "      border-color: transparent;\n",
              "      border-right-color: var(--fill-color);\n",
              "    }\n",
              "    80% {\n",
              "      border-color: transparent;\n",
              "      border-right-color: var(--fill-color);\n",
              "      border-bottom-color: var(--fill-color);\n",
              "    }\n",
              "    90% {\n",
              "      border-color: transparent;\n",
              "      border-bottom-color: var(--fill-color);\n",
              "    }\n",
              "  }\n",
              "</style>\n",
              "\n",
              "  <script>\n",
              "    async function quickchart(key) {\n",
              "      const quickchartButtonEl =\n",
              "        document.querySelector('#' + key + ' button');\n",
              "      quickchartButtonEl.disabled = true;  // To prevent multiple clicks.\n",
              "      quickchartButtonEl.classList.add('colab-df-spinner');\n",
              "      try {\n",
              "        const charts = await google.colab.kernel.invokeFunction(\n",
              "            'suggestCharts', [key], {});\n",
              "      } catch (error) {\n",
              "        console.error('Error during call to suggestCharts:', error);\n",
              "      }\n",
              "      quickchartButtonEl.classList.remove('colab-df-spinner');\n",
              "      quickchartButtonEl.classList.add('colab-df-quickchart-complete');\n",
              "    }\n",
              "    (() => {\n",
              "      let quickchartButtonEl =\n",
              "        document.querySelector('#df-196c697b-4b6a-45cd-9ccb-bc9f60ccb4f1 button');\n",
              "      quickchartButtonEl.style.display =\n",
              "        google.colab.kernel.accessAllowed ? 'block' : 'none';\n",
              "    })();\n",
              "  </script>\n",
              "</div>\n",
              "    </div>\n",
              "  </div>\n"
            ],
            "application/vnd.google.colaboratory.intrinsic+json": {
              "type": "dataframe",
              "variable_name": "temp_table",
              "summary": "{\n  \"name\": \"temp_table\",\n  \"rows\": 15,\n  \"fields\": [\n    {\n      \"column\": \"first_date\",\n      \"properties\": {\n        \"dtype\": \"date\",\n        \"min\": \"2020-12-07 00:00:00\",\n        \"max\": \"2020-12-21 00:00:00\",\n        \"num_unique_values\": 15,\n        \"samples\": [\n          \"2020-12-16 00:00:00\",\n          \"2020-12-18 00:00:00\",\n          \"2020-12-07 00:00:00\"\n        ],\n        \"semantic_type\": \"\",\n        \"description\": \"\"\n      }\n    },\n    {\n      \"column\": \"count_user_a\",\n      \"properties\": {\n        \"dtype\": \"number\",\n        \"std\": 73.74602491305,\n        \"min\": 53.0,\n        \"max\": 248.0,\n        \"num_unique_values\": 7,\n        \"samples\": [\n          175.0,\n          83.0,\n          187.0\n        ],\n        \"semantic_type\": \"\",\n        \"description\": \"\"\n      }\n    },\n    {\n      \"column\": \"count_user_b\",\n      \"properties\": {\n        \"dtype\": \"number\",\n        \"std\": 49,\n        \"min\": 16,\n        \"max\": 186,\n        \"num_unique_values\": 15,\n        \"samples\": [\n          16,\n          105,\n          70\n        ],\n        \"semantic_type\": \"\",\n        \"description\": \"\"\n      }\n    }\n  ]\n}"
            }
          },
          "metadata": {},
          "execution_count": 40
        }
      ],
      "source": [
        "# разобьем на группы\n",
        "temp_table_a = df[(df['event_name'].isna()) & (df['group'] == 'A')].groupby(['first_date'])['user_id'].agg('count').reset_index().rename(columns={'user_id': 'count_user_a'})\n",
        "temp_table_b = df[(df['event_name'].isna()) & (df['group'] == 'B')].groupby(['first_date'])['user_id'].agg('count').reset_index().rename(columns={'user_id': 'count_user_b'})\n",
        "temp_table = temp_table_a.merge(temp_table_b, on='first_date', how='outer')\n",
        "temp_table"
      ]
    },
    {
      "cell_type": "code",
      "execution_count": 41,
      "metadata": {
        "id": "4X1QqIng83p7",
        "outputId": "54a67664-71f9-4824-c9d9-565ddac928af",
        "colab": {
          "base_uri": "https://localhost:8080/",
          "height": 717
        }
      },
      "outputs": [
        {
          "output_type": "display_data",
          "data": {
            "text/html": [
              "<html>\n",
              "<head><meta charset=\"utf-8\" /></head>\n",
              "<body>\n",
              "    <div>            <script src=\"https://cdnjs.cloudflare.com/ajax/libs/mathjax/2.7.5/MathJax.js?config=TeX-AMS-MML_SVG\"></script><script type=\"text/javascript\">if (window.MathJax && window.MathJax.Hub && window.MathJax.Hub.Config) {window.MathJax.Hub.Config({SVG: {font: \"STIX-Web\"}});}</script>                <script type=\"text/javascript\">window.PlotlyConfig = {MathJaxConfig: 'local'};</script>\n",
              "        <script charset=\"utf-8\" src=\"https://cdn.plot.ly/plotly-2.24.1.min.js\"></script>                <div id=\"2d6df24a-4051-4142-ba4f-3ca248574b44\" class=\"plotly-graph-div\" style=\"height:700px; width:950px;\"></div>            <script type=\"text/javascript\">                                    window.PLOTLYENV=window.PLOTLYENV || {};                                    if (document.getElementById(\"2d6df24a-4051-4142-ba4f-3ca248574b44\")) {                    Plotly.newPlot(                        \"2d6df24a-4051-4142-ba4f-3ca248574b44\",                        [{\"name\":\"\\u0413\\u0440\\u0443\\u043f\\u043f\\u0430 A\",\"x\":[\"2020-12-07T00:00:00\",\"2020-12-08T00:00:00\",\"2020-12-09T00:00:00\",\"2020-12-10T00:00:00\",\"2020-12-11T00:00:00\",\"2020-12-12T00:00:00\",\"2020-12-13T00:00:00\",\"2020-12-14T00:00:00\",\"2020-12-15T00:00:00\",\"2020-12-16T00:00:00\",\"2020-12-17T00:00:00\",\"2020-12-18T00:00:00\",\"2020-12-19T00:00:00\",\"2020-12-20T00:00:00\",\"2020-12-21T00:00:00\"],\"y\":[175.0,83.0,53.0,110.0,60.0,187.0,248.0,null,null,null,null,null,null,null,null],\"type\":\"bar\"},{\"name\":\"\\u0413\\u0440\\u0443\\u043f\\u043f\\u0430 B\",\"x\":[\"2020-12-07T00:00:00\",\"2020-12-08T00:00:00\",\"2020-12-09T00:00:00\",\"2020-12-10T00:00:00\",\"2020-12-11T00:00:00\",\"2020-12-12T00:00:00\",\"2020-12-13T00:00:00\",\"2020-12-14T00:00:00\",\"2020-12-15T00:00:00\",\"2020-12-16T00:00:00\",\"2020-12-17T00:00:00\",\"2020-12-18T00:00:00\",\"2020-12-19T00:00:00\",\"2020-12-20T00:00:00\",\"2020-12-21T00:00:00\"],\"y\":[70,88,22,132,79,127,186,169,95,16,89,105,120,129,175],\"type\":\"bar\"}],                        {\"template\":{\"data\":{\"histogram2dcontour\":[{\"type\":\"histogram2dcontour\",\"colorbar\":{\"outlinewidth\":0,\"ticks\":\"\"},\"colorscale\":[[0.0,\"#0d0887\"],[0.1111111111111111,\"#46039f\"],[0.2222222222222222,\"#7201a8\"],[0.3333333333333333,\"#9c179e\"],[0.4444444444444444,\"#bd3786\"],[0.5555555555555556,\"#d8576b\"],[0.6666666666666666,\"#ed7953\"],[0.7777777777777778,\"#fb9f3a\"],[0.8888888888888888,\"#fdca26\"],[1.0,\"#f0f921\"]]}],\"choropleth\":[{\"type\":\"choropleth\",\"colorbar\":{\"outlinewidth\":0,\"ticks\":\"\"}}],\"histogram2d\":[{\"type\":\"histogram2d\",\"colorbar\":{\"outlinewidth\":0,\"ticks\":\"\"},\"colorscale\":[[0.0,\"#0d0887\"],[0.1111111111111111,\"#46039f\"],[0.2222222222222222,\"#7201a8\"],[0.3333333333333333,\"#9c179e\"],[0.4444444444444444,\"#bd3786\"],[0.5555555555555556,\"#d8576b\"],[0.6666666666666666,\"#ed7953\"],[0.7777777777777778,\"#fb9f3a\"],[0.8888888888888888,\"#fdca26\"],[1.0,\"#f0f921\"]]}],\"heatmap\":[{\"type\":\"heatmap\",\"colorbar\":{\"outlinewidth\":0,\"ticks\":\"\"},\"colorscale\":[[0.0,\"#0d0887\"],[0.1111111111111111,\"#46039f\"],[0.2222222222222222,\"#7201a8\"],[0.3333333333333333,\"#9c179e\"],[0.4444444444444444,\"#bd3786\"],[0.5555555555555556,\"#d8576b\"],[0.6666666666666666,\"#ed7953\"],[0.7777777777777778,\"#fb9f3a\"],[0.8888888888888888,\"#fdca26\"],[1.0,\"#f0f921\"]]}],\"heatmapgl\":[{\"type\":\"heatmapgl\",\"colorbar\":{\"outlinewidth\":0,\"ticks\":\"\"},\"colorscale\":[[0.0,\"#0d0887\"],[0.1111111111111111,\"#46039f\"],[0.2222222222222222,\"#7201a8\"],[0.3333333333333333,\"#9c179e\"],[0.4444444444444444,\"#bd3786\"],[0.5555555555555556,\"#d8576b\"],[0.6666666666666666,\"#ed7953\"],[0.7777777777777778,\"#fb9f3a\"],[0.8888888888888888,\"#fdca26\"],[1.0,\"#f0f921\"]]}],\"contourcarpet\":[{\"type\":\"contourcarpet\",\"colorbar\":{\"outlinewidth\":0,\"ticks\":\"\"}}],\"contour\":[{\"type\":\"contour\",\"colorbar\":{\"outlinewidth\":0,\"ticks\":\"\"},\"colorscale\":[[0.0,\"#0d0887\"],[0.1111111111111111,\"#46039f\"],[0.2222222222222222,\"#7201a8\"],[0.3333333333333333,\"#9c179e\"],[0.4444444444444444,\"#bd3786\"],[0.5555555555555556,\"#d8576b\"],[0.6666666666666666,\"#ed7953\"],[0.7777777777777778,\"#fb9f3a\"],[0.8888888888888888,\"#fdca26\"],[1.0,\"#f0f921\"]]}],\"surface\":[{\"type\":\"surface\",\"colorbar\":{\"outlinewidth\":0,\"ticks\":\"\"},\"colorscale\":[[0.0,\"#0d0887\"],[0.1111111111111111,\"#46039f\"],[0.2222222222222222,\"#7201a8\"],[0.3333333333333333,\"#9c179e\"],[0.4444444444444444,\"#bd3786\"],[0.5555555555555556,\"#d8576b\"],[0.6666666666666666,\"#ed7953\"],[0.7777777777777778,\"#fb9f3a\"],[0.8888888888888888,\"#fdca26\"],[1.0,\"#f0f921\"]]}],\"mesh3d\":[{\"type\":\"mesh3d\",\"colorbar\":{\"outlinewidth\":0,\"ticks\":\"\"}}],\"scatter\":[{\"fillpattern\":{\"fillmode\":\"overlay\",\"size\":10,\"solidity\":0.2},\"type\":\"scatter\"}],\"parcoords\":[{\"type\":\"parcoords\",\"line\":{\"colorbar\":{\"outlinewidth\":0,\"ticks\":\"\"}}}],\"scatterpolargl\":[{\"type\":\"scatterpolargl\",\"marker\":{\"colorbar\":{\"outlinewidth\":0,\"ticks\":\"\"}}}],\"bar\":[{\"error_x\":{\"color\":\"#2a3f5f\"},\"error_y\":{\"color\":\"#2a3f5f\"},\"marker\":{\"line\":{\"color\":\"#E5ECF6\",\"width\":0.5},\"pattern\":{\"fillmode\":\"overlay\",\"size\":10,\"solidity\":0.2}},\"type\":\"bar\"}],\"scattergeo\":[{\"type\":\"scattergeo\",\"marker\":{\"colorbar\":{\"outlinewidth\":0,\"ticks\":\"\"}}}],\"scatterpolar\":[{\"type\":\"scatterpolar\",\"marker\":{\"colorbar\":{\"outlinewidth\":0,\"ticks\":\"\"}}}],\"histogram\":[{\"marker\":{\"pattern\":{\"fillmode\":\"overlay\",\"size\":10,\"solidity\":0.2}},\"type\":\"histogram\"}],\"scattergl\":[{\"type\":\"scattergl\",\"marker\":{\"colorbar\":{\"outlinewidth\":0,\"ticks\":\"\"}}}],\"scatter3d\":[{\"type\":\"scatter3d\",\"line\":{\"colorbar\":{\"outlinewidth\":0,\"ticks\":\"\"}},\"marker\":{\"colorbar\":{\"outlinewidth\":0,\"ticks\":\"\"}}}],\"scattermapbox\":[{\"type\":\"scattermapbox\",\"marker\":{\"colorbar\":{\"outlinewidth\":0,\"ticks\":\"\"}}}],\"scatterternary\":[{\"type\":\"scatterternary\",\"marker\":{\"colorbar\":{\"outlinewidth\":0,\"ticks\":\"\"}}}],\"scattercarpet\":[{\"type\":\"scattercarpet\",\"marker\":{\"colorbar\":{\"outlinewidth\":0,\"ticks\":\"\"}}}],\"carpet\":[{\"aaxis\":{\"endlinecolor\":\"#2a3f5f\",\"gridcolor\":\"white\",\"linecolor\":\"white\",\"minorgridcolor\":\"white\",\"startlinecolor\":\"#2a3f5f\"},\"baxis\":{\"endlinecolor\":\"#2a3f5f\",\"gridcolor\":\"white\",\"linecolor\":\"white\",\"minorgridcolor\":\"white\",\"startlinecolor\":\"#2a3f5f\"},\"type\":\"carpet\"}],\"table\":[{\"cells\":{\"fill\":{\"color\":\"#EBF0F8\"},\"line\":{\"color\":\"white\"}},\"header\":{\"fill\":{\"color\":\"#C8D4E3\"},\"line\":{\"color\":\"white\"}},\"type\":\"table\"}],\"barpolar\":[{\"marker\":{\"line\":{\"color\":\"#E5ECF6\",\"width\":0.5},\"pattern\":{\"fillmode\":\"overlay\",\"size\":10,\"solidity\":0.2}},\"type\":\"barpolar\"}],\"pie\":[{\"automargin\":true,\"type\":\"pie\"}]},\"layout\":{\"autotypenumbers\":\"strict\",\"colorway\":[\"#636efa\",\"#EF553B\",\"#00cc96\",\"#ab63fa\",\"#FFA15A\",\"#19d3f3\",\"#FF6692\",\"#B6E880\",\"#FF97FF\",\"#FECB52\"],\"font\":{\"color\":\"#2a3f5f\"},\"hovermode\":\"closest\",\"hoverlabel\":{\"align\":\"left\"},\"paper_bgcolor\":\"white\",\"plot_bgcolor\":\"#E5ECF6\",\"polar\":{\"bgcolor\":\"#E5ECF6\",\"angularaxis\":{\"gridcolor\":\"white\",\"linecolor\":\"white\",\"ticks\":\"\"},\"radialaxis\":{\"gridcolor\":\"white\",\"linecolor\":\"white\",\"ticks\":\"\"}},\"ternary\":{\"bgcolor\":\"#E5ECF6\",\"aaxis\":{\"gridcolor\":\"white\",\"linecolor\":\"white\",\"ticks\":\"\"},\"baxis\":{\"gridcolor\":\"white\",\"linecolor\":\"white\",\"ticks\":\"\"},\"caxis\":{\"gridcolor\":\"white\",\"linecolor\":\"white\",\"ticks\":\"\"}},\"coloraxis\":{\"colorbar\":{\"outlinewidth\":0,\"ticks\":\"\"}},\"colorscale\":{\"sequential\":[[0.0,\"#0d0887\"],[0.1111111111111111,\"#46039f\"],[0.2222222222222222,\"#7201a8\"],[0.3333333333333333,\"#9c179e\"],[0.4444444444444444,\"#bd3786\"],[0.5555555555555556,\"#d8576b\"],[0.6666666666666666,\"#ed7953\"],[0.7777777777777778,\"#fb9f3a\"],[0.8888888888888888,\"#fdca26\"],[1.0,\"#f0f921\"]],\"sequentialminus\":[[0.0,\"#0d0887\"],[0.1111111111111111,\"#46039f\"],[0.2222222222222222,\"#7201a8\"],[0.3333333333333333,\"#9c179e\"],[0.4444444444444444,\"#bd3786\"],[0.5555555555555556,\"#d8576b\"],[0.6666666666666666,\"#ed7953\"],[0.7777777777777778,\"#fb9f3a\"],[0.8888888888888888,\"#fdca26\"],[1.0,\"#f0f921\"]],\"diverging\":[[0,\"#8e0152\"],[0.1,\"#c51b7d\"],[0.2,\"#de77ae\"],[0.3,\"#f1b6da\"],[0.4,\"#fde0ef\"],[0.5,\"#f7f7f7\"],[0.6,\"#e6f5d0\"],[0.7,\"#b8e186\"],[0.8,\"#7fbc41\"],[0.9,\"#4d9221\"],[1,\"#276419\"]]},\"xaxis\":{\"gridcolor\":\"white\",\"linecolor\":\"white\",\"ticks\":\"\",\"title\":{\"standoff\":15},\"zerolinecolor\":\"white\",\"automargin\":true,\"zerolinewidth\":2},\"yaxis\":{\"gridcolor\":\"white\",\"linecolor\":\"white\",\"ticks\":\"\",\"title\":{\"standoff\":15},\"zerolinecolor\":\"white\",\"automargin\":true,\"zerolinewidth\":2},\"scene\":{\"xaxis\":{\"backgroundcolor\":\"#E5ECF6\",\"gridcolor\":\"white\",\"linecolor\":\"white\",\"showbackground\":true,\"ticks\":\"\",\"zerolinecolor\":\"white\",\"gridwidth\":2},\"yaxis\":{\"backgroundcolor\":\"#E5ECF6\",\"gridcolor\":\"white\",\"linecolor\":\"white\",\"showbackground\":true,\"ticks\":\"\",\"zerolinecolor\":\"white\",\"gridwidth\":2},\"zaxis\":{\"backgroundcolor\":\"#E5ECF6\",\"gridcolor\":\"white\",\"linecolor\":\"white\",\"showbackground\":true,\"ticks\":\"\",\"zerolinecolor\":\"white\",\"gridwidth\":2}},\"shapedefaults\":{\"line\":{\"color\":\"#2a3f5f\"}},\"annotationdefaults\":{\"arrowcolor\":\"#2a3f5f\",\"arrowhead\":0,\"arrowwidth\":1},\"geo\":{\"bgcolor\":\"white\",\"landcolor\":\"#E5ECF6\",\"subunitcolor\":\"white\",\"showland\":true,\"showlakes\":true,\"lakecolor\":\"white\"},\"title\":{\"x\":0.05},\"mapbox\":{\"style\":\"light\"}}},\"barmode\":\"group\",\"title\":{\"text\":\"\\u0420\\u0430\\u0441\\u043f\\u0440\\u0435\\u0434\\u0435\\u043b\\u0435\\u043d\\u0438\\u0435 \\u0440\\u0435\\u0433\\u0438\\u0441\\u0442\\u0440\\u0430\\u0446\\u0438\\u0439 \\u043f\\u043e\\u043b\\u044c\\u0437\\u043e\\u0432\\u0430\\u0442\\u0435\\u043b\\u0435\\u0439 \\u0431\\u0435\\u0437 \\u0434\\u0435\\u0439\\u0441\\u0442\\u0432\\u0438\\u0439 \\u043f\\u043e \\u0434\\u043d\\u044f\\u043c \\u043f\\u043e \\u0433\\u0440\\u0443\\u043f\\u043f\\u0430\\u043c\"},\"width\":950,\"height\":700,\"xaxis\":{\"title\":{\"text\":\"\\u0414\\u0430\\u0442\\u0430\"}},\"yaxis\":{\"title\":{\"text\":\"\\u041a\\u043e\\u043b\\u0438\\u0447\\u0435\\u0441\\u0442\\u0432\\u043e \\u043f\\u043e\\u043b\\u044c\\u0437\\u043e\\u0432\\u0430\\u0442\\u0435\\u043b\\u0435\\u0439\"}}},                        {\"responsive\": true}                    ).then(function(){\n",
              "                            \n",
              "var gd = document.getElementById('2d6df24a-4051-4142-ba4f-3ca248574b44');\n",
              "var x = new MutationObserver(function (mutations, observer) {{\n",
              "        var display = window.getComputedStyle(gd).display;\n",
              "        if (!display || display === 'none') {{\n",
              "            console.log([gd, 'removed!']);\n",
              "            Plotly.purge(gd);\n",
              "            observer.disconnect();\n",
              "        }}\n",
              "}});\n",
              "\n",
              "// Listen for the removal of the full notebook cells\n",
              "var notebookContainer = gd.closest('#notebook-container');\n",
              "if (notebookContainer) {{\n",
              "    x.observe(notebookContainer, {childList: true});\n",
              "}}\n",
              "\n",
              "// Listen for the clearing of the current output cell\n",
              "var outputEl = gd.closest('.output');\n",
              "if (outputEl) {{\n",
              "    x.observe(outputEl, {childList: true});\n",
              "}}\n",
              "\n",
              "                        })                };                            </script>        </div>\n",
              "</body>\n",
              "</html>"
            ]
          },
          "metadata": {}
        }
      ],
      "source": [
        "fig = go.Figure(data=[\n",
        "    go.Bar(name='Группа A', x=temp_table['first_date'], y=temp_table['count_user_a']),\n",
        "    go.Bar(name='Группа B', x=temp_table['first_date'], y=temp_table['count_user_b'])\n",
        "])\n",
        "fig.update_layout(barmode='group',\n",
        "                  title='Распределение регистраций пользователей без действий по дням по группам',\n",
        "                  width=950,\n",
        "                  height=700,\n",
        "                  xaxis_title='Дата',\n",
        "                  yaxis_title='Количество пользователей')\n",
        "fig.show()"
      ]
    },
    {
      "cell_type": "markdown",
      "metadata": {
        "id": "azhUYoQ283p7"
      },
      "source": [
        "##### Вывод\n",
        "Пользователей, которые не совершали действия в группе А набирали с `2020-12-07` до `2020-12-13`, а пользователей, которые не совершали действий в группе B набирали с `2020-12-07` до `2020-12-21`. Пока не знаю как интерпретировать данные, возможно, какой-то инсайт откроется на исследовательском анализе данных. Пока удалим этих пользователей\n",
        "\n",
        "\n",
        "\n"
      ]
    },
    {
      "cell_type": "code",
      "execution_count": 42,
      "metadata": {
        "id": "NkOqylHu83p7",
        "outputId": "bf18c1f8-2af2-4656-ccf1-1b9a496242bd",
        "colab": {
          "base_uri": "https://localhost:8080/"
        }
      },
      "outputs": [
        {
          "output_type": "stream",
          "name": "stdout",
          "text": [
            "Датафрейм до преобразований: 23082\n",
            "Датафрейм после преобразований: 20564\n"
          ]
        }
      ],
      "source": [
        "print('Датафрейм до преобразований:', df.shape[0])\n",
        "df = df[df['event_dt'].isna()==False]\n",
        "print('Датафрейм после преобразований:', df.shape[0])"
      ]
    },
    {
      "cell_type": "markdown",
      "metadata": {
        "id": "LCMSI2Z483p7"
      },
      "source": [
        "#### 3.5.2 Проставляем лайфтайм и удаляем лишнее, согласно ТЗ"
      ]
    },
    {
      "cell_type": "code",
      "execution_count": 43,
      "metadata": {
        "id": "ZkdTQckT83p7",
        "outputId": "285becfe-0fbb-49a0-91a6-f21a7835928a",
        "colab": {
          "base_uri": "https://localhost:8080/"
        }
      },
      "outputs": [
        {
          "output_type": "stream",
          "name": "stdout",
          "text": [
            "Датафрейм до преобразований: 20564\n",
            "Датафрейм после преобразований: 20034\n"
          ]
        }
      ],
      "source": [
        "#Теперь, согласно требованию в тз, нам нужно отказаться от событий, которые старше 14 дней, для этого рассчитаем лайфтайм:\n",
        "df['lifetime'] = df['event_dt'] - df['first_date']\n",
        "#df['lifetime'] = pd.to_datetime(df['lifetime'])\n",
        "df['lifetime'] = df['lifetime'].dt.days\n",
        "print('Датафрейм до преобразований:', df.shape[0])\n",
        "df = df[df['lifetime']<=14]\n",
        "print('Датафрейм после преобразований:', df.shape[0])"
      ]
    },
    {
      "cell_type": "code",
      "execution_count": 44,
      "metadata": {
        "id": "dhWRWBb683p8",
        "outputId": "cc6fb8db-73f3-4617-fc60-c51c9fb565f9",
        "colab": {
          "base_uri": "https://localhost:8080/"
        }
      },
      "outputs": [
        {
          "output_type": "stream",
          "name": "stdout",
          "text": [
            "Датафрейм после преобразований: 20034\n"
          ]
        }
      ],
      "source": [
        "print('Датафрейм после преобразований:', df.shape[0])"
      ]
    },
    {
      "cell_type": "code",
      "execution_count": 45,
      "metadata": {
        "id": "6aOFDcN_83p8",
        "outputId": "7a6b2b35-6ed2-4b0b-e2c0-8630c5ec2ae6",
        "colab": {
          "base_uri": "https://localhost:8080/",
          "height": 206
        }
      },
      "outputs": [
        {
          "output_type": "execute_result",
          "data": {
            "text/plain": [
              "            user_id first_date region   device group                  ab_test  \\\n",
              "0  D72A72121175D8BE 2020-12-07  EU     PC       A     recommender_system_test   \n",
              "1  D72A72121175D8BE 2020-12-07  EU     PC       A     recommender_system_test   \n",
              "2  DD4352CDCF8C3D57 2020-12-07  EU     Android  B     recommender_system_test   \n",
              "3  DD4352CDCF8C3D57 2020-12-07  EU     Android  B     recommender_system_test   \n",
              "4  DD4352CDCF8C3D57 2020-12-07  EU     Android  B     recommender_system_test   \n",
              "\n",
              "             event_dt    event_name  details  lifetime  \n",
              "0 2020-12-07 21:52:10  product_page NaN       0         \n",
              "1 2020-12-07 21:52:07  login        NaN       0         \n",
              "2 2020-12-07 15:32:54  product_page NaN       0         \n",
              "3 2020-12-08 08:29:31  product_page NaN       1         \n",
              "4 2020-12-10 18:18:27  product_page NaN       3         "
            ],
            "text/html": [
              "\n",
              "  <div id=\"df-06b8d60f-ec1e-43a3-b162-8db8c63c0a46\" class=\"colab-df-container\">\n",
              "    <div>\n",
              "<style scoped>\n",
              "    .dataframe tbody tr th:only-of-type {\n",
              "        vertical-align: middle;\n",
              "    }\n",
              "\n",
              "    .dataframe tbody tr th {\n",
              "        vertical-align: top;\n",
              "    }\n",
              "\n",
              "    .dataframe thead th {\n",
              "        text-align: right;\n",
              "    }\n",
              "</style>\n",
              "<table border=\"1\" class=\"dataframe\">\n",
              "  <thead>\n",
              "    <tr style=\"text-align: right;\">\n",
              "      <th></th>\n",
              "      <th>user_id</th>\n",
              "      <th>first_date</th>\n",
              "      <th>region</th>\n",
              "      <th>device</th>\n",
              "      <th>group</th>\n",
              "      <th>ab_test</th>\n",
              "      <th>event_dt</th>\n",
              "      <th>event_name</th>\n",
              "      <th>details</th>\n",
              "      <th>lifetime</th>\n",
              "    </tr>\n",
              "  </thead>\n",
              "  <tbody>\n",
              "    <tr>\n",
              "      <th>0</th>\n",
              "      <td>D72A72121175D8BE</td>\n",
              "      <td>2020-12-07</td>\n",
              "      <td>EU</td>\n",
              "      <td>PC</td>\n",
              "      <td>A</td>\n",
              "      <td>recommender_system_test</td>\n",
              "      <td>2020-12-07 21:52:10</td>\n",
              "      <td>product_page</td>\n",
              "      <td>NaN</td>\n",
              "      <td>0</td>\n",
              "    </tr>\n",
              "    <tr>\n",
              "      <th>1</th>\n",
              "      <td>D72A72121175D8BE</td>\n",
              "      <td>2020-12-07</td>\n",
              "      <td>EU</td>\n",
              "      <td>PC</td>\n",
              "      <td>A</td>\n",
              "      <td>recommender_system_test</td>\n",
              "      <td>2020-12-07 21:52:07</td>\n",
              "      <td>login</td>\n",
              "      <td>NaN</td>\n",
              "      <td>0</td>\n",
              "    </tr>\n",
              "    <tr>\n",
              "      <th>2</th>\n",
              "      <td>DD4352CDCF8C3D57</td>\n",
              "      <td>2020-12-07</td>\n",
              "      <td>EU</td>\n",
              "      <td>Android</td>\n",
              "      <td>B</td>\n",
              "      <td>recommender_system_test</td>\n",
              "      <td>2020-12-07 15:32:54</td>\n",
              "      <td>product_page</td>\n",
              "      <td>NaN</td>\n",
              "      <td>0</td>\n",
              "    </tr>\n",
              "    <tr>\n",
              "      <th>3</th>\n",
              "      <td>DD4352CDCF8C3D57</td>\n",
              "      <td>2020-12-07</td>\n",
              "      <td>EU</td>\n",
              "      <td>Android</td>\n",
              "      <td>B</td>\n",
              "      <td>recommender_system_test</td>\n",
              "      <td>2020-12-08 08:29:31</td>\n",
              "      <td>product_page</td>\n",
              "      <td>NaN</td>\n",
              "      <td>1</td>\n",
              "    </tr>\n",
              "    <tr>\n",
              "      <th>4</th>\n",
              "      <td>DD4352CDCF8C3D57</td>\n",
              "      <td>2020-12-07</td>\n",
              "      <td>EU</td>\n",
              "      <td>Android</td>\n",
              "      <td>B</td>\n",
              "      <td>recommender_system_test</td>\n",
              "      <td>2020-12-10 18:18:27</td>\n",
              "      <td>product_page</td>\n",
              "      <td>NaN</td>\n",
              "      <td>3</td>\n",
              "    </tr>\n",
              "  </tbody>\n",
              "</table>\n",
              "</div>\n",
              "    <div class=\"colab-df-buttons\">\n",
              "\n",
              "  <div class=\"colab-df-container\">\n",
              "    <button class=\"colab-df-convert\" onclick=\"convertToInteractive('df-06b8d60f-ec1e-43a3-b162-8db8c63c0a46')\"\n",
              "            title=\"Convert this dataframe to an interactive table.\"\n",
              "            style=\"display:none;\">\n",
              "\n",
              "  <svg xmlns=\"http://www.w3.org/2000/svg\" height=\"24px\" viewBox=\"0 -960 960 960\">\n",
              "    <path d=\"M120-120v-720h720v720H120Zm60-500h600v-160H180v160Zm220 220h160v-160H400v160Zm0 220h160v-160H400v160ZM180-400h160v-160H180v160Zm440 0h160v-160H620v160ZM180-180h160v-160H180v160Zm440 0h160v-160H620v160Z\"/>\n",
              "  </svg>\n",
              "    </button>\n",
              "\n",
              "  <style>\n",
              "    .colab-df-container {\n",
              "      display:flex;\n",
              "      gap: 12px;\n",
              "    }\n",
              "\n",
              "    .colab-df-convert {\n",
              "      background-color: #E8F0FE;\n",
              "      border: none;\n",
              "      border-radius: 50%;\n",
              "      cursor: pointer;\n",
              "      display: none;\n",
              "      fill: #1967D2;\n",
              "      height: 32px;\n",
              "      padding: 0 0 0 0;\n",
              "      width: 32px;\n",
              "    }\n",
              "\n",
              "    .colab-df-convert:hover {\n",
              "      background-color: #E2EBFA;\n",
              "      box-shadow: 0px 1px 2px rgba(60, 64, 67, 0.3), 0px 1px 3px 1px rgba(60, 64, 67, 0.15);\n",
              "      fill: #174EA6;\n",
              "    }\n",
              "\n",
              "    .colab-df-buttons div {\n",
              "      margin-bottom: 4px;\n",
              "    }\n",
              "\n",
              "    [theme=dark] .colab-df-convert {\n",
              "      background-color: #3B4455;\n",
              "      fill: #D2E3FC;\n",
              "    }\n",
              "\n",
              "    [theme=dark] .colab-df-convert:hover {\n",
              "      background-color: #434B5C;\n",
              "      box-shadow: 0px 1px 3px 1px rgba(0, 0, 0, 0.15);\n",
              "      filter: drop-shadow(0px 1px 2px rgba(0, 0, 0, 0.3));\n",
              "      fill: #FFFFFF;\n",
              "    }\n",
              "  </style>\n",
              "\n",
              "    <script>\n",
              "      const buttonEl =\n",
              "        document.querySelector('#df-06b8d60f-ec1e-43a3-b162-8db8c63c0a46 button.colab-df-convert');\n",
              "      buttonEl.style.display =\n",
              "        google.colab.kernel.accessAllowed ? 'block' : 'none';\n",
              "\n",
              "      async function convertToInteractive(key) {\n",
              "        const element = document.querySelector('#df-06b8d60f-ec1e-43a3-b162-8db8c63c0a46');\n",
              "        const dataTable =\n",
              "          await google.colab.kernel.invokeFunction('convertToInteractive',\n",
              "                                                    [key], {});\n",
              "        if (!dataTable) return;\n",
              "\n",
              "        const docLinkHtml = 'Like what you see? Visit the ' +\n",
              "          '<a target=\"_blank\" href=https://colab.research.google.com/notebooks/data_table.ipynb>data table notebook</a>'\n",
              "          + ' to learn more about interactive tables.';\n",
              "        element.innerHTML = '';\n",
              "        dataTable['output_type'] = 'display_data';\n",
              "        await google.colab.output.renderOutput(dataTable, element);\n",
              "        const docLink = document.createElement('div');\n",
              "        docLink.innerHTML = docLinkHtml;\n",
              "        element.appendChild(docLink);\n",
              "      }\n",
              "    </script>\n",
              "  </div>\n",
              "\n",
              "\n",
              "<div id=\"df-247563da-418b-4719-aedf-00aac322f8ab\">\n",
              "  <button class=\"colab-df-quickchart\" onclick=\"quickchart('df-247563da-418b-4719-aedf-00aac322f8ab')\"\n",
              "            title=\"Suggest charts\"\n",
              "            style=\"display:none;\">\n",
              "\n",
              "<svg xmlns=\"http://www.w3.org/2000/svg\" height=\"24px\"viewBox=\"0 0 24 24\"\n",
              "     width=\"24px\">\n",
              "    <g>\n",
              "        <path d=\"M19 3H5c-1.1 0-2 .9-2 2v14c0 1.1.9 2 2 2h14c1.1 0 2-.9 2-2V5c0-1.1-.9-2-2-2zM9 17H7v-7h2v7zm4 0h-2V7h2v10zm4 0h-2v-4h2v4z\"/>\n",
              "    </g>\n",
              "</svg>\n",
              "  </button>\n",
              "\n",
              "<style>\n",
              "  .colab-df-quickchart {\n",
              "      --bg-color: #E8F0FE;\n",
              "      --fill-color: #1967D2;\n",
              "      --hover-bg-color: #E2EBFA;\n",
              "      --hover-fill-color: #174EA6;\n",
              "      --disabled-fill-color: #AAA;\n",
              "      --disabled-bg-color: #DDD;\n",
              "  }\n",
              "\n",
              "  [theme=dark] .colab-df-quickchart {\n",
              "      --bg-color: #3B4455;\n",
              "      --fill-color: #D2E3FC;\n",
              "      --hover-bg-color: #434B5C;\n",
              "      --hover-fill-color: #FFFFFF;\n",
              "      --disabled-bg-color: #3B4455;\n",
              "      --disabled-fill-color: #666;\n",
              "  }\n",
              "\n",
              "  .colab-df-quickchart {\n",
              "    background-color: var(--bg-color);\n",
              "    border: none;\n",
              "    border-radius: 50%;\n",
              "    cursor: pointer;\n",
              "    display: none;\n",
              "    fill: var(--fill-color);\n",
              "    height: 32px;\n",
              "    padding: 0;\n",
              "    width: 32px;\n",
              "  }\n",
              "\n",
              "  .colab-df-quickchart:hover {\n",
              "    background-color: var(--hover-bg-color);\n",
              "    box-shadow: 0 1px 2px rgba(60, 64, 67, 0.3), 0 1px 3px 1px rgba(60, 64, 67, 0.15);\n",
              "    fill: var(--button-hover-fill-color);\n",
              "  }\n",
              "\n",
              "  .colab-df-quickchart-complete:disabled,\n",
              "  .colab-df-quickchart-complete:disabled:hover {\n",
              "    background-color: var(--disabled-bg-color);\n",
              "    fill: var(--disabled-fill-color);\n",
              "    box-shadow: none;\n",
              "  }\n",
              "\n",
              "  .colab-df-spinner {\n",
              "    border: 2px solid var(--fill-color);\n",
              "    border-color: transparent;\n",
              "    border-bottom-color: var(--fill-color);\n",
              "    animation:\n",
              "      spin 1s steps(1) infinite;\n",
              "  }\n",
              "\n",
              "  @keyframes spin {\n",
              "    0% {\n",
              "      border-color: transparent;\n",
              "      border-bottom-color: var(--fill-color);\n",
              "      border-left-color: var(--fill-color);\n",
              "    }\n",
              "    20% {\n",
              "      border-color: transparent;\n",
              "      border-left-color: var(--fill-color);\n",
              "      border-top-color: var(--fill-color);\n",
              "    }\n",
              "    30% {\n",
              "      border-color: transparent;\n",
              "      border-left-color: var(--fill-color);\n",
              "      border-top-color: var(--fill-color);\n",
              "      border-right-color: var(--fill-color);\n",
              "    }\n",
              "    40% {\n",
              "      border-color: transparent;\n",
              "      border-right-color: var(--fill-color);\n",
              "      border-top-color: var(--fill-color);\n",
              "    }\n",
              "    60% {\n",
              "      border-color: transparent;\n",
              "      border-right-color: var(--fill-color);\n",
              "    }\n",
              "    80% {\n",
              "      border-color: transparent;\n",
              "      border-right-color: var(--fill-color);\n",
              "      border-bottom-color: var(--fill-color);\n",
              "    }\n",
              "    90% {\n",
              "      border-color: transparent;\n",
              "      border-bottom-color: var(--fill-color);\n",
              "    }\n",
              "  }\n",
              "</style>\n",
              "\n",
              "  <script>\n",
              "    async function quickchart(key) {\n",
              "      const quickchartButtonEl =\n",
              "        document.querySelector('#' + key + ' button');\n",
              "      quickchartButtonEl.disabled = true;  // To prevent multiple clicks.\n",
              "      quickchartButtonEl.classList.add('colab-df-spinner');\n",
              "      try {\n",
              "        const charts = await google.colab.kernel.invokeFunction(\n",
              "            'suggestCharts', [key], {});\n",
              "      } catch (error) {\n",
              "        console.error('Error during call to suggestCharts:', error);\n",
              "      }\n",
              "      quickchartButtonEl.classList.remove('colab-df-spinner');\n",
              "      quickchartButtonEl.classList.add('colab-df-quickchart-complete');\n",
              "    }\n",
              "    (() => {\n",
              "      let quickchartButtonEl =\n",
              "        document.querySelector('#df-247563da-418b-4719-aedf-00aac322f8ab button');\n",
              "      quickchartButtonEl.style.display =\n",
              "        google.colab.kernel.accessAllowed ? 'block' : 'none';\n",
              "    })();\n",
              "  </script>\n",
              "</div>\n",
              "    </div>\n",
              "  </div>\n"
            ],
            "application/vnd.google.colaboratory.intrinsic+json": {
              "type": "dataframe",
              "variable_name": "df",
              "summary": "{\n  \"name\": \"df\",\n  \"rows\": 20034,\n  \"fields\": [\n    {\n      \"column\": \"user_id\",\n      \"properties\": {\n        \"dtype\": \"category\",\n        \"num_unique_values\": 3050,\n        \"samples\": [\n          \"5CCC6E85E7245565\",\n          \"427C5593BE58CA0A\",\n          \"903B7FB3C9AB7B72\"\n        ],\n        \"semantic_type\": \"\",\n        \"description\": \"\"\n      }\n    },\n    {\n      \"column\": \"first_date\",\n      \"properties\": {\n        \"dtype\": \"date\",\n        \"min\": \"2020-12-07 00:00:00\",\n        \"max\": \"2020-12-21 00:00:00\",\n        \"num_unique_values\": 15,\n        \"samples\": [\n          \"2020-12-11 00:00:00\",\n          \"2020-12-12 00:00:00\",\n          \"2020-12-07 00:00:00\"\n        ],\n        \"semantic_type\": \"\",\n        \"description\": \"\"\n      }\n    },\n    {\n      \"column\": \"region\",\n      \"properties\": {\n        \"dtype\": \"category\",\n        \"num_unique_values\": 1,\n        \"samples\": [\n          \"EU\"\n        ],\n        \"semantic_type\": \"\",\n        \"description\": \"\"\n      }\n    },\n    {\n      \"column\": \"device\",\n      \"properties\": {\n        \"dtype\": \"category\",\n        \"num_unique_values\": 4,\n        \"samples\": [\n          \"Android\"\n        ],\n        \"semantic_type\": \"\",\n        \"description\": \"\"\n      }\n    },\n    {\n      \"column\": \"group\",\n      \"properties\": {\n        \"dtype\": \"category\",\n        \"num_unique_values\": 2,\n        \"samples\": [\n          \"B\"\n        ],\n        \"semantic_type\": \"\",\n        \"description\": \"\"\n      }\n    },\n    {\n      \"column\": \"ab_test\",\n      \"properties\": {\n        \"dtype\": \"category\",\n        \"num_unique_values\": 1,\n        \"samples\": [\n          \"recommender_system_test\"\n        ],\n        \"semantic_type\": \"\",\n        \"description\": \"\"\n      }\n    },\n    {\n      \"column\": \"event_dt\",\n      \"properties\": {\n        \"dtype\": \"date\",\n        \"min\": \"2020-12-07 00:05:57\",\n        \"max\": \"2020-12-29 23:38:29\",\n        \"num_unique_values\": 13373,\n        \"samples\": [\n          \"2020-12-18 08:17:47\"\n        ],\n        \"semantic_type\": \"\",\n        \"description\": \"\"\n      }\n    },\n    {\n      \"column\": \"event_name\",\n      \"properties\": {\n        \"dtype\": \"category\",\n        \"num_unique_values\": 4,\n        \"samples\": [\n          \"login\"\n        ],\n        \"semantic_type\": \"\",\n        \"description\": \"\"\n      }\n    },\n    {\n      \"column\": \"details\",\n      \"properties\": {\n        \"dtype\": \"number\",\n        \"std\": 69.70593581035678,\n        \"min\": 4.99,\n        \"max\": 499.99,\n        \"num_unique_values\": 4,\n        \"samples\": [\n          99.99\n        ],\n        \"semantic_type\": \"\",\n        \"description\": \"\"\n      }\n    },\n    {\n      \"column\": \"lifetime\",\n      \"properties\": {\n        \"dtype\": \"number\",\n        \"std\": 3,\n        \"min\": 0,\n        \"max\": 14,\n        \"num_unique_values\": 15,\n        \"samples\": [\n          10\n        ],\n        \"semantic_type\": \"\",\n        \"description\": \"\"\n      }\n    }\n  ]\n}"
            }
          },
          "metadata": {},
          "execution_count": 45
        }
      ],
      "source": [
        "df.head()"
      ]
    },
    {
      "cell_type": "code",
      "execution_count": 46,
      "metadata": {
        "id": "3xCGqMHs83p8",
        "outputId": "2ff81eac-354d-4251-cd13-8bdbbd13beca",
        "colab": {
          "base_uri": "https://localhost:8080/",
          "height": 519
        }
      },
      "outputs": [
        {
          "output_type": "execute_result",
          "data": {
            "text/plain": [
              "    lifetime  count_event\n",
              "0   0         6769       \n",
              "1   1         3162       \n",
              "2   2         2138       \n",
              "3   3         1520       \n",
              "4   4         1239       \n",
              "5   5         992        \n",
              "6   6         865        \n",
              "7   7         813        \n",
              "8   8         634        \n",
              "9   9         516        \n",
              "10  10        431        \n",
              "11  11        275        \n",
              "12  12        283        \n",
              "13  13        212        \n",
              "14  14        185        "
            ],
            "text/html": [
              "\n",
              "  <div id=\"df-a1bbd2ee-a677-496c-8f4c-f71951a03316\" class=\"colab-df-container\">\n",
              "    <div>\n",
              "<style scoped>\n",
              "    .dataframe tbody tr th:only-of-type {\n",
              "        vertical-align: middle;\n",
              "    }\n",
              "\n",
              "    .dataframe tbody tr th {\n",
              "        vertical-align: top;\n",
              "    }\n",
              "\n",
              "    .dataframe thead th {\n",
              "        text-align: right;\n",
              "    }\n",
              "</style>\n",
              "<table border=\"1\" class=\"dataframe\">\n",
              "  <thead>\n",
              "    <tr style=\"text-align: right;\">\n",
              "      <th></th>\n",
              "      <th>lifetime</th>\n",
              "      <th>count_event</th>\n",
              "    </tr>\n",
              "  </thead>\n",
              "  <tbody>\n",
              "    <tr>\n",
              "      <th>0</th>\n",
              "      <td>0</td>\n",
              "      <td>6769</td>\n",
              "    </tr>\n",
              "    <tr>\n",
              "      <th>1</th>\n",
              "      <td>1</td>\n",
              "      <td>3162</td>\n",
              "    </tr>\n",
              "    <tr>\n",
              "      <th>2</th>\n",
              "      <td>2</td>\n",
              "      <td>2138</td>\n",
              "    </tr>\n",
              "    <tr>\n",
              "      <th>3</th>\n",
              "      <td>3</td>\n",
              "      <td>1520</td>\n",
              "    </tr>\n",
              "    <tr>\n",
              "      <th>4</th>\n",
              "      <td>4</td>\n",
              "      <td>1239</td>\n",
              "    </tr>\n",
              "    <tr>\n",
              "      <th>5</th>\n",
              "      <td>5</td>\n",
              "      <td>992</td>\n",
              "    </tr>\n",
              "    <tr>\n",
              "      <th>6</th>\n",
              "      <td>6</td>\n",
              "      <td>865</td>\n",
              "    </tr>\n",
              "    <tr>\n",
              "      <th>7</th>\n",
              "      <td>7</td>\n",
              "      <td>813</td>\n",
              "    </tr>\n",
              "    <tr>\n",
              "      <th>8</th>\n",
              "      <td>8</td>\n",
              "      <td>634</td>\n",
              "    </tr>\n",
              "    <tr>\n",
              "      <th>9</th>\n",
              "      <td>9</td>\n",
              "      <td>516</td>\n",
              "    </tr>\n",
              "    <tr>\n",
              "      <th>10</th>\n",
              "      <td>10</td>\n",
              "      <td>431</td>\n",
              "    </tr>\n",
              "    <tr>\n",
              "      <th>11</th>\n",
              "      <td>11</td>\n",
              "      <td>275</td>\n",
              "    </tr>\n",
              "    <tr>\n",
              "      <th>12</th>\n",
              "      <td>12</td>\n",
              "      <td>283</td>\n",
              "    </tr>\n",
              "    <tr>\n",
              "      <th>13</th>\n",
              "      <td>13</td>\n",
              "      <td>212</td>\n",
              "    </tr>\n",
              "    <tr>\n",
              "      <th>14</th>\n",
              "      <td>14</td>\n",
              "      <td>185</td>\n",
              "    </tr>\n",
              "  </tbody>\n",
              "</table>\n",
              "</div>\n",
              "    <div class=\"colab-df-buttons\">\n",
              "\n",
              "  <div class=\"colab-df-container\">\n",
              "    <button class=\"colab-df-convert\" onclick=\"convertToInteractive('df-a1bbd2ee-a677-496c-8f4c-f71951a03316')\"\n",
              "            title=\"Convert this dataframe to an interactive table.\"\n",
              "            style=\"display:none;\">\n",
              "\n",
              "  <svg xmlns=\"http://www.w3.org/2000/svg\" height=\"24px\" viewBox=\"0 -960 960 960\">\n",
              "    <path d=\"M120-120v-720h720v720H120Zm60-500h600v-160H180v160Zm220 220h160v-160H400v160Zm0 220h160v-160H400v160ZM180-400h160v-160H180v160Zm440 0h160v-160H620v160ZM180-180h160v-160H180v160Zm440 0h160v-160H620v160Z\"/>\n",
              "  </svg>\n",
              "    </button>\n",
              "\n",
              "  <style>\n",
              "    .colab-df-container {\n",
              "      display:flex;\n",
              "      gap: 12px;\n",
              "    }\n",
              "\n",
              "    .colab-df-convert {\n",
              "      background-color: #E8F0FE;\n",
              "      border: none;\n",
              "      border-radius: 50%;\n",
              "      cursor: pointer;\n",
              "      display: none;\n",
              "      fill: #1967D2;\n",
              "      height: 32px;\n",
              "      padding: 0 0 0 0;\n",
              "      width: 32px;\n",
              "    }\n",
              "\n",
              "    .colab-df-convert:hover {\n",
              "      background-color: #E2EBFA;\n",
              "      box-shadow: 0px 1px 2px rgba(60, 64, 67, 0.3), 0px 1px 3px 1px rgba(60, 64, 67, 0.15);\n",
              "      fill: #174EA6;\n",
              "    }\n",
              "\n",
              "    .colab-df-buttons div {\n",
              "      margin-bottom: 4px;\n",
              "    }\n",
              "\n",
              "    [theme=dark] .colab-df-convert {\n",
              "      background-color: #3B4455;\n",
              "      fill: #D2E3FC;\n",
              "    }\n",
              "\n",
              "    [theme=dark] .colab-df-convert:hover {\n",
              "      background-color: #434B5C;\n",
              "      box-shadow: 0px 1px 3px 1px rgba(0, 0, 0, 0.15);\n",
              "      filter: drop-shadow(0px 1px 2px rgba(0, 0, 0, 0.3));\n",
              "      fill: #FFFFFF;\n",
              "    }\n",
              "  </style>\n",
              "\n",
              "    <script>\n",
              "      const buttonEl =\n",
              "        document.querySelector('#df-a1bbd2ee-a677-496c-8f4c-f71951a03316 button.colab-df-convert');\n",
              "      buttonEl.style.display =\n",
              "        google.colab.kernel.accessAllowed ? 'block' : 'none';\n",
              "\n",
              "      async function convertToInteractive(key) {\n",
              "        const element = document.querySelector('#df-a1bbd2ee-a677-496c-8f4c-f71951a03316');\n",
              "        const dataTable =\n",
              "          await google.colab.kernel.invokeFunction('convertToInteractive',\n",
              "                                                    [key], {});\n",
              "        if (!dataTable) return;\n",
              "\n",
              "        const docLinkHtml = 'Like what you see? Visit the ' +\n",
              "          '<a target=\"_blank\" href=https://colab.research.google.com/notebooks/data_table.ipynb>data table notebook</a>'\n",
              "          + ' to learn more about interactive tables.';\n",
              "        element.innerHTML = '';\n",
              "        dataTable['output_type'] = 'display_data';\n",
              "        await google.colab.output.renderOutput(dataTable, element);\n",
              "        const docLink = document.createElement('div');\n",
              "        docLink.innerHTML = docLinkHtml;\n",
              "        element.appendChild(docLink);\n",
              "      }\n",
              "    </script>\n",
              "  </div>\n",
              "\n",
              "\n",
              "<div id=\"df-6be2a7a4-b739-4a09-aa3d-145aa0e8a6e1\">\n",
              "  <button class=\"colab-df-quickchart\" onclick=\"quickchart('df-6be2a7a4-b739-4a09-aa3d-145aa0e8a6e1')\"\n",
              "            title=\"Suggest charts\"\n",
              "            style=\"display:none;\">\n",
              "\n",
              "<svg xmlns=\"http://www.w3.org/2000/svg\" height=\"24px\"viewBox=\"0 0 24 24\"\n",
              "     width=\"24px\">\n",
              "    <g>\n",
              "        <path d=\"M19 3H5c-1.1 0-2 .9-2 2v14c0 1.1.9 2 2 2h14c1.1 0 2-.9 2-2V5c0-1.1-.9-2-2-2zM9 17H7v-7h2v7zm4 0h-2V7h2v10zm4 0h-2v-4h2v4z\"/>\n",
              "    </g>\n",
              "</svg>\n",
              "  </button>\n",
              "\n",
              "<style>\n",
              "  .colab-df-quickchart {\n",
              "      --bg-color: #E8F0FE;\n",
              "      --fill-color: #1967D2;\n",
              "      --hover-bg-color: #E2EBFA;\n",
              "      --hover-fill-color: #174EA6;\n",
              "      --disabled-fill-color: #AAA;\n",
              "      --disabled-bg-color: #DDD;\n",
              "  }\n",
              "\n",
              "  [theme=dark] .colab-df-quickchart {\n",
              "      --bg-color: #3B4455;\n",
              "      --fill-color: #D2E3FC;\n",
              "      --hover-bg-color: #434B5C;\n",
              "      --hover-fill-color: #FFFFFF;\n",
              "      --disabled-bg-color: #3B4455;\n",
              "      --disabled-fill-color: #666;\n",
              "  }\n",
              "\n",
              "  .colab-df-quickchart {\n",
              "    background-color: var(--bg-color);\n",
              "    border: none;\n",
              "    border-radius: 50%;\n",
              "    cursor: pointer;\n",
              "    display: none;\n",
              "    fill: var(--fill-color);\n",
              "    height: 32px;\n",
              "    padding: 0;\n",
              "    width: 32px;\n",
              "  }\n",
              "\n",
              "  .colab-df-quickchart:hover {\n",
              "    background-color: var(--hover-bg-color);\n",
              "    box-shadow: 0 1px 2px rgba(60, 64, 67, 0.3), 0 1px 3px 1px rgba(60, 64, 67, 0.15);\n",
              "    fill: var(--button-hover-fill-color);\n",
              "  }\n",
              "\n",
              "  .colab-df-quickchart-complete:disabled,\n",
              "  .colab-df-quickchart-complete:disabled:hover {\n",
              "    background-color: var(--disabled-bg-color);\n",
              "    fill: var(--disabled-fill-color);\n",
              "    box-shadow: none;\n",
              "  }\n",
              "\n",
              "  .colab-df-spinner {\n",
              "    border: 2px solid var(--fill-color);\n",
              "    border-color: transparent;\n",
              "    border-bottom-color: var(--fill-color);\n",
              "    animation:\n",
              "      spin 1s steps(1) infinite;\n",
              "  }\n",
              "\n",
              "  @keyframes spin {\n",
              "    0% {\n",
              "      border-color: transparent;\n",
              "      border-bottom-color: var(--fill-color);\n",
              "      border-left-color: var(--fill-color);\n",
              "    }\n",
              "    20% {\n",
              "      border-color: transparent;\n",
              "      border-left-color: var(--fill-color);\n",
              "      border-top-color: var(--fill-color);\n",
              "    }\n",
              "    30% {\n",
              "      border-color: transparent;\n",
              "      border-left-color: var(--fill-color);\n",
              "      border-top-color: var(--fill-color);\n",
              "      border-right-color: var(--fill-color);\n",
              "    }\n",
              "    40% {\n",
              "      border-color: transparent;\n",
              "      border-right-color: var(--fill-color);\n",
              "      border-top-color: var(--fill-color);\n",
              "    }\n",
              "    60% {\n",
              "      border-color: transparent;\n",
              "      border-right-color: var(--fill-color);\n",
              "    }\n",
              "    80% {\n",
              "      border-color: transparent;\n",
              "      border-right-color: var(--fill-color);\n",
              "      border-bottom-color: var(--fill-color);\n",
              "    }\n",
              "    90% {\n",
              "      border-color: transparent;\n",
              "      border-bottom-color: var(--fill-color);\n",
              "    }\n",
              "  }\n",
              "</style>\n",
              "\n",
              "  <script>\n",
              "    async function quickchart(key) {\n",
              "      const quickchartButtonEl =\n",
              "        document.querySelector('#' + key + ' button');\n",
              "      quickchartButtonEl.disabled = true;  // To prevent multiple clicks.\n",
              "      quickchartButtonEl.classList.add('colab-df-spinner');\n",
              "      try {\n",
              "        const charts = await google.colab.kernel.invokeFunction(\n",
              "            'suggestCharts', [key], {});\n",
              "      } catch (error) {\n",
              "        console.error('Error during call to suggestCharts:', error);\n",
              "      }\n",
              "      quickchartButtonEl.classList.remove('colab-df-spinner');\n",
              "      quickchartButtonEl.classList.add('colab-df-quickchart-complete');\n",
              "    }\n",
              "    (() => {\n",
              "      let quickchartButtonEl =\n",
              "        document.querySelector('#df-6be2a7a4-b739-4a09-aa3d-145aa0e8a6e1 button');\n",
              "      quickchartButtonEl.style.display =\n",
              "        google.colab.kernel.accessAllowed ? 'block' : 'none';\n",
              "    })();\n",
              "  </script>\n",
              "</div>\n",
              "    </div>\n",
              "  </div>\n"
            ],
            "application/vnd.google.colaboratory.intrinsic+json": {
              "type": "dataframe",
              "variable_name": "temp_table",
              "summary": "{\n  \"name\": \"temp_table\",\n  \"rows\": 15,\n  \"fields\": [\n    {\n      \"column\": \"lifetime\",\n      \"properties\": {\n        \"dtype\": \"number\",\n        \"std\": 4,\n        \"min\": 0,\n        \"max\": 14,\n        \"num_unique_values\": 15,\n        \"samples\": [\n          9,\n          11,\n          0\n        ],\n        \"semantic_type\": \"\",\n        \"description\": \"\"\n      }\n    },\n    {\n      \"column\": \"count_event\",\n      \"properties\": {\n        \"dtype\": \"number\",\n        \"std\": 1710,\n        \"min\": 185,\n        \"max\": 6769,\n        \"num_unique_values\": 15,\n        \"samples\": [\n          516,\n          275,\n          6769\n        ],\n        \"semantic_type\": \"\",\n        \"description\": \"\"\n      }\n    }\n  ]\n}"
            }
          },
          "metadata": {},
          "execution_count": 46
        }
      ],
      "source": [
        "#Построим график распределения возраста событий\n",
        "temp_table = df.groupby(['lifetime'])['event_dt'].agg('count').reset_index().rename(columns={'event_dt': 'count_event'})\n",
        "temp_table\n",
        "\n"
      ]
    },
    {
      "cell_type": "code",
      "execution_count": 47,
      "metadata": {
        "id": "b4LuGmxq83p8",
        "outputId": "6eebc175-48a7-4ff7-b36a-704a07b1c069",
        "colab": {
          "base_uri": "https://localhost:8080/",
          "height": 717
        }
      },
      "outputs": [
        {
          "output_type": "display_data",
          "data": {
            "text/html": [
              "<html>\n",
              "<head><meta charset=\"utf-8\" /></head>\n",
              "<body>\n",
              "    <div>            <script src=\"https://cdnjs.cloudflare.com/ajax/libs/mathjax/2.7.5/MathJax.js?config=TeX-AMS-MML_SVG\"></script><script type=\"text/javascript\">if (window.MathJax && window.MathJax.Hub && window.MathJax.Hub.Config) {window.MathJax.Hub.Config({SVG: {font: \"STIX-Web\"}});}</script>                <script type=\"text/javascript\">window.PlotlyConfig = {MathJaxConfig: 'local'};</script>\n",
              "        <script charset=\"utf-8\" src=\"https://cdn.plot.ly/plotly-2.24.1.min.js\"></script>                <div id=\"170a5cde-c32f-424c-a1ee-0a1eb2bd25a1\" class=\"plotly-graph-div\" style=\"height:700px; width:950px;\"></div>            <script type=\"text/javascript\">                                    window.PLOTLYENV=window.PLOTLYENV || {};                                    if (document.getElementById(\"170a5cde-c32f-424c-a1ee-0a1eb2bd25a1\")) {                    Plotly.newPlot(                        \"170a5cde-c32f-424c-a1ee-0a1eb2bd25a1\",                        [{\"alignmentgroup\":\"True\",\"hovertemplate\":\"\\u041b\\u0430\\u0439\\u0444\\u0442\\u0430\\u0439\\u043c \\u0441\\u043e\\u0431\\u044b\\u0442\\u0438\\u0439=%{x}\\u003cbr\\u003e\\u041a\\u043e\\u043b\\u0438\\u0447\\u0435\\u0441\\u0442\\u0432\\u043e \\u0441\\u043e\\u0431\\u044b\\u0442\\u0438\\u0439 \\u0432 \\u0434\\u0435\\u043d\\u044c=%{y}\\u003cextra\\u003e\\u003c\\u002fextra\\u003e\",\"legendgroup\":\"\",\"marker\":{\"color\":\"#636efa\",\"pattern\":{\"shape\":\"\"}},\"name\":\"\",\"offsetgroup\":\"\",\"orientation\":\"v\",\"showlegend\":false,\"textposition\":\"outside\",\"x\":[0,1,2,3,4,5,6,7,8,9,10,11,12,13,14],\"xaxis\":\"x\",\"y\":[6769,3162,2138,1520,1239,992,865,813,634,516,431,275,283,212,185],\"yaxis\":\"y\",\"type\":\"bar\",\"textfont\":{\"size\":14},\"cliponaxis\":false,\"textangle\":0}],                        {\"template\":{\"data\":{\"histogram2dcontour\":[{\"type\":\"histogram2dcontour\",\"colorbar\":{\"outlinewidth\":0,\"ticks\":\"\"},\"colorscale\":[[0.0,\"#0d0887\"],[0.1111111111111111,\"#46039f\"],[0.2222222222222222,\"#7201a8\"],[0.3333333333333333,\"#9c179e\"],[0.4444444444444444,\"#bd3786\"],[0.5555555555555556,\"#d8576b\"],[0.6666666666666666,\"#ed7953\"],[0.7777777777777778,\"#fb9f3a\"],[0.8888888888888888,\"#fdca26\"],[1.0,\"#f0f921\"]]}],\"choropleth\":[{\"type\":\"choropleth\",\"colorbar\":{\"outlinewidth\":0,\"ticks\":\"\"}}],\"histogram2d\":[{\"type\":\"histogram2d\",\"colorbar\":{\"outlinewidth\":0,\"ticks\":\"\"},\"colorscale\":[[0.0,\"#0d0887\"],[0.1111111111111111,\"#46039f\"],[0.2222222222222222,\"#7201a8\"],[0.3333333333333333,\"#9c179e\"],[0.4444444444444444,\"#bd3786\"],[0.5555555555555556,\"#d8576b\"],[0.6666666666666666,\"#ed7953\"],[0.7777777777777778,\"#fb9f3a\"],[0.8888888888888888,\"#fdca26\"],[1.0,\"#f0f921\"]]}],\"heatmap\":[{\"type\":\"heatmap\",\"colorbar\":{\"outlinewidth\":0,\"ticks\":\"\"},\"colorscale\":[[0.0,\"#0d0887\"],[0.1111111111111111,\"#46039f\"],[0.2222222222222222,\"#7201a8\"],[0.3333333333333333,\"#9c179e\"],[0.4444444444444444,\"#bd3786\"],[0.5555555555555556,\"#d8576b\"],[0.6666666666666666,\"#ed7953\"],[0.7777777777777778,\"#fb9f3a\"],[0.8888888888888888,\"#fdca26\"],[1.0,\"#f0f921\"]]}],\"heatmapgl\":[{\"type\":\"heatmapgl\",\"colorbar\":{\"outlinewidth\":0,\"ticks\":\"\"},\"colorscale\":[[0.0,\"#0d0887\"],[0.1111111111111111,\"#46039f\"],[0.2222222222222222,\"#7201a8\"],[0.3333333333333333,\"#9c179e\"],[0.4444444444444444,\"#bd3786\"],[0.5555555555555556,\"#d8576b\"],[0.6666666666666666,\"#ed7953\"],[0.7777777777777778,\"#fb9f3a\"],[0.8888888888888888,\"#fdca26\"],[1.0,\"#f0f921\"]]}],\"contourcarpet\":[{\"type\":\"contourcarpet\",\"colorbar\":{\"outlinewidth\":0,\"ticks\":\"\"}}],\"contour\":[{\"type\":\"contour\",\"colorbar\":{\"outlinewidth\":0,\"ticks\":\"\"},\"colorscale\":[[0.0,\"#0d0887\"],[0.1111111111111111,\"#46039f\"],[0.2222222222222222,\"#7201a8\"],[0.3333333333333333,\"#9c179e\"],[0.4444444444444444,\"#bd3786\"],[0.5555555555555556,\"#d8576b\"],[0.6666666666666666,\"#ed7953\"],[0.7777777777777778,\"#fb9f3a\"],[0.8888888888888888,\"#fdca26\"],[1.0,\"#f0f921\"]]}],\"surface\":[{\"type\":\"surface\",\"colorbar\":{\"outlinewidth\":0,\"ticks\":\"\"},\"colorscale\":[[0.0,\"#0d0887\"],[0.1111111111111111,\"#46039f\"],[0.2222222222222222,\"#7201a8\"],[0.3333333333333333,\"#9c179e\"],[0.4444444444444444,\"#bd3786\"],[0.5555555555555556,\"#d8576b\"],[0.6666666666666666,\"#ed7953\"],[0.7777777777777778,\"#fb9f3a\"],[0.8888888888888888,\"#fdca26\"],[1.0,\"#f0f921\"]]}],\"mesh3d\":[{\"type\":\"mesh3d\",\"colorbar\":{\"outlinewidth\":0,\"ticks\":\"\"}}],\"scatter\":[{\"fillpattern\":{\"fillmode\":\"overlay\",\"size\":10,\"solidity\":0.2},\"type\":\"scatter\"}],\"parcoords\":[{\"type\":\"parcoords\",\"line\":{\"colorbar\":{\"outlinewidth\":0,\"ticks\":\"\"}}}],\"scatterpolargl\":[{\"type\":\"scatterpolargl\",\"marker\":{\"colorbar\":{\"outlinewidth\":0,\"ticks\":\"\"}}}],\"bar\":[{\"error_x\":{\"color\":\"#2a3f5f\"},\"error_y\":{\"color\":\"#2a3f5f\"},\"marker\":{\"line\":{\"color\":\"#E5ECF6\",\"width\":0.5},\"pattern\":{\"fillmode\":\"overlay\",\"size\":10,\"solidity\":0.2}},\"type\":\"bar\"}],\"scattergeo\":[{\"type\":\"scattergeo\",\"marker\":{\"colorbar\":{\"outlinewidth\":0,\"ticks\":\"\"}}}],\"scatterpolar\":[{\"type\":\"scatterpolar\",\"marker\":{\"colorbar\":{\"outlinewidth\":0,\"ticks\":\"\"}}}],\"histogram\":[{\"marker\":{\"pattern\":{\"fillmode\":\"overlay\",\"size\":10,\"solidity\":0.2}},\"type\":\"histogram\"}],\"scattergl\":[{\"type\":\"scattergl\",\"marker\":{\"colorbar\":{\"outlinewidth\":0,\"ticks\":\"\"}}}],\"scatter3d\":[{\"type\":\"scatter3d\",\"line\":{\"colorbar\":{\"outlinewidth\":0,\"ticks\":\"\"}},\"marker\":{\"colorbar\":{\"outlinewidth\":0,\"ticks\":\"\"}}}],\"scattermapbox\":[{\"type\":\"scattermapbox\",\"marker\":{\"colorbar\":{\"outlinewidth\":0,\"ticks\":\"\"}}}],\"scatterternary\":[{\"type\":\"scatterternary\",\"marker\":{\"colorbar\":{\"outlinewidth\":0,\"ticks\":\"\"}}}],\"scattercarpet\":[{\"type\":\"scattercarpet\",\"marker\":{\"colorbar\":{\"outlinewidth\":0,\"ticks\":\"\"}}}],\"carpet\":[{\"aaxis\":{\"endlinecolor\":\"#2a3f5f\",\"gridcolor\":\"white\",\"linecolor\":\"white\",\"minorgridcolor\":\"white\",\"startlinecolor\":\"#2a3f5f\"},\"baxis\":{\"endlinecolor\":\"#2a3f5f\",\"gridcolor\":\"white\",\"linecolor\":\"white\",\"minorgridcolor\":\"white\",\"startlinecolor\":\"#2a3f5f\"},\"type\":\"carpet\"}],\"table\":[{\"cells\":{\"fill\":{\"color\":\"#EBF0F8\"},\"line\":{\"color\":\"white\"}},\"header\":{\"fill\":{\"color\":\"#C8D4E3\"},\"line\":{\"color\":\"white\"}},\"type\":\"table\"}],\"barpolar\":[{\"marker\":{\"line\":{\"color\":\"#E5ECF6\",\"width\":0.5},\"pattern\":{\"fillmode\":\"overlay\",\"size\":10,\"solidity\":0.2}},\"type\":\"barpolar\"}],\"pie\":[{\"automargin\":true,\"type\":\"pie\"}]},\"layout\":{\"autotypenumbers\":\"strict\",\"colorway\":[\"#636efa\",\"#EF553B\",\"#00cc96\",\"#ab63fa\",\"#FFA15A\",\"#19d3f3\",\"#FF6692\",\"#B6E880\",\"#FF97FF\",\"#FECB52\"],\"font\":{\"color\":\"#2a3f5f\"},\"hovermode\":\"closest\",\"hoverlabel\":{\"align\":\"left\"},\"paper_bgcolor\":\"white\",\"plot_bgcolor\":\"#E5ECF6\",\"polar\":{\"bgcolor\":\"#E5ECF6\",\"angularaxis\":{\"gridcolor\":\"white\",\"linecolor\":\"white\",\"ticks\":\"\"},\"radialaxis\":{\"gridcolor\":\"white\",\"linecolor\":\"white\",\"ticks\":\"\"}},\"ternary\":{\"bgcolor\":\"#E5ECF6\",\"aaxis\":{\"gridcolor\":\"white\",\"linecolor\":\"white\",\"ticks\":\"\"},\"baxis\":{\"gridcolor\":\"white\",\"linecolor\":\"white\",\"ticks\":\"\"},\"caxis\":{\"gridcolor\":\"white\",\"linecolor\":\"white\",\"ticks\":\"\"}},\"coloraxis\":{\"colorbar\":{\"outlinewidth\":0,\"ticks\":\"\"}},\"colorscale\":{\"sequential\":[[0.0,\"#0d0887\"],[0.1111111111111111,\"#46039f\"],[0.2222222222222222,\"#7201a8\"],[0.3333333333333333,\"#9c179e\"],[0.4444444444444444,\"#bd3786\"],[0.5555555555555556,\"#d8576b\"],[0.6666666666666666,\"#ed7953\"],[0.7777777777777778,\"#fb9f3a\"],[0.8888888888888888,\"#fdca26\"],[1.0,\"#f0f921\"]],\"sequentialminus\":[[0.0,\"#0d0887\"],[0.1111111111111111,\"#46039f\"],[0.2222222222222222,\"#7201a8\"],[0.3333333333333333,\"#9c179e\"],[0.4444444444444444,\"#bd3786\"],[0.5555555555555556,\"#d8576b\"],[0.6666666666666666,\"#ed7953\"],[0.7777777777777778,\"#fb9f3a\"],[0.8888888888888888,\"#fdca26\"],[1.0,\"#f0f921\"]],\"diverging\":[[0,\"#8e0152\"],[0.1,\"#c51b7d\"],[0.2,\"#de77ae\"],[0.3,\"#f1b6da\"],[0.4,\"#fde0ef\"],[0.5,\"#f7f7f7\"],[0.6,\"#e6f5d0\"],[0.7,\"#b8e186\"],[0.8,\"#7fbc41\"],[0.9,\"#4d9221\"],[1,\"#276419\"]]},\"xaxis\":{\"gridcolor\":\"white\",\"linecolor\":\"white\",\"ticks\":\"\",\"title\":{\"standoff\":15},\"zerolinecolor\":\"white\",\"automargin\":true,\"zerolinewidth\":2},\"yaxis\":{\"gridcolor\":\"white\",\"linecolor\":\"white\",\"ticks\":\"\",\"title\":{\"standoff\":15},\"zerolinecolor\":\"white\",\"automargin\":true,\"zerolinewidth\":2},\"scene\":{\"xaxis\":{\"backgroundcolor\":\"#E5ECF6\",\"gridcolor\":\"white\",\"linecolor\":\"white\",\"showbackground\":true,\"ticks\":\"\",\"zerolinecolor\":\"white\",\"gridwidth\":2},\"yaxis\":{\"backgroundcolor\":\"#E5ECF6\",\"gridcolor\":\"white\",\"linecolor\":\"white\",\"showbackground\":true,\"ticks\":\"\",\"zerolinecolor\":\"white\",\"gridwidth\":2},\"zaxis\":{\"backgroundcolor\":\"#E5ECF6\",\"gridcolor\":\"white\",\"linecolor\":\"white\",\"showbackground\":true,\"ticks\":\"\",\"zerolinecolor\":\"white\",\"gridwidth\":2}},\"shapedefaults\":{\"line\":{\"color\":\"#2a3f5f\"}},\"annotationdefaults\":{\"arrowcolor\":\"#2a3f5f\",\"arrowhead\":0,\"arrowwidth\":1},\"geo\":{\"bgcolor\":\"white\",\"landcolor\":\"#E5ECF6\",\"subunitcolor\":\"white\",\"showland\":true,\"showlakes\":true,\"lakecolor\":\"white\"},\"title\":{\"x\":0.05},\"mapbox\":{\"style\":\"light\"}}},\"xaxis\":{\"anchor\":\"y\",\"domain\":[0.0,1.0],\"title\":{\"text\":\"\\u041b\\u0430\\u0439\\u0444\\u0442\\u0430\\u0439\\u043c \\u0441\\u043e\\u0431\\u044b\\u0442\\u0438\\u0439\"}},\"yaxis\":{\"anchor\":\"x\",\"domain\":[0.0,1.0],\"title\":{\"text\":\"\\u041a\\u043e\\u043b\\u0438\\u0447\\u0435\\u0441\\u0442\\u0432\\u043e \\u0441\\u043e\\u0431\\u044b\\u0442\\u0438\\u0439 \\u0432 \\u0434\\u0435\\u043d\\u044c\"}},\"legend\":{\"tracegroupgap\":0,\"font\":{\"size\":15}},\"title\":{\"text\":\"\\u0420\\u0430\\u0441\\u043f\\u0440\\u0435\\u0434\\u0435\\u043b\\u0435\\u043d\\u0438\\u0435 \\u0432\\u043e\\u0437\\u0440\\u0430\\u0441\\u0442\\u0430 \\u0441\\u043e\\u0431\\u044b\\u0442\\u0438\\u0439 \\u043f\\u043e \\u0434\\u043d\\u044f\\u043c\",\"font\":{\"size\":20},\"x\":0.5},\"barmode\":\"relative\",\"height\":700,\"width\":950,\"font\":{\"size\":15}},                        {\"responsive\": true}                    ).then(function(){\n",
              "                            \n",
              "var gd = document.getElementById('170a5cde-c32f-424c-a1ee-0a1eb2bd25a1');\n",
              "var x = new MutationObserver(function (mutations, observer) {{\n",
              "        var display = window.getComputedStyle(gd).display;\n",
              "        if (!display || display === 'none') {{\n",
              "            console.log([gd, 'removed!']);\n",
              "            Plotly.purge(gd);\n",
              "            observer.disconnect();\n",
              "        }}\n",
              "}});\n",
              "\n",
              "// Listen for the removal of the full notebook cells\n",
              "var notebookContainer = gd.closest('#notebook-container');\n",
              "if (notebookContainer) {{\n",
              "    x.observe(notebookContainer, {childList: true});\n",
              "}}\n",
              "\n",
              "// Listen for the clearing of the current output cell\n",
              "var outputEl = gd.closest('.output');\n",
              "if (outputEl) {{\n",
              "    x.observe(outputEl, {childList: true});\n",
              "}}\n",
              "\n",
              "                        })                };                            </script>        </div>\n",
              "</body>\n",
              "</html>"
            ]
          },
          "metadata": {}
        }
      ],
      "source": [
        "fig = px.bar(temp_table, x=\"lifetime\", y=\"count_event\",\n",
        "             title=\"Распределение возраста событий по дням\",\n",
        "             labels={\n",
        "                     'count_event': 'Количество событий в день',\n",
        "                     'lifetime': 'Лайфтайм событий'},\n",
        "             width= 950, height=700)\n",
        "fig.update_traces(textfont_size=14, textangle=0, textposition=\"outside\", cliponaxis=False)\n",
        "fig.update_layout(title_x=0.5, title=dict(font=dict(size=20)),\n",
        "                               legend=dict(font=dict(size=15)),\n",
        "                               font=dict(size=15))\n",
        "fig.show()"
      ]
    },
    {
      "cell_type": "code",
      "execution_count": 48,
      "metadata": {
        "id": "icU78dID83p9",
        "outputId": "c9a3c5ee-4ce1-43bc-a94b-c882b097d3f6",
        "colab": {
          "base_uri": "https://localhost:8080/",
          "height": 491
        }
      },
      "outputs": [
        {
          "output_type": "display_data",
          "data": {
            "text/plain": [
              "<Figure size 1000x500 with 1 Axes>"
            ],
            "image/svg+xml": "<?xml version=\"1.0\" encoding=\"utf-8\" standalone=\"no\"?>\n<!DOCTYPE svg PUBLIC \"-//W3C//DTD SVG 1.1//EN\"\n  \"http://www.w3.org/Graphics/SVG/1.1/DTD/svg11.dtd\">\n<svg xmlns:xlink=\"http://www.w3.org/1999/xlink\" width=\"572.4pt\" height=\"352.056094pt\" viewBox=\"0 0 572.4 352.056094\" xmlns=\"http://www.w3.org/2000/svg\" version=\"1.1\">\n <metadata>\n  <rdf:RDF xmlns:dc=\"http://purl.org/dc/elements/1.1/\" xmlns:cc=\"http://creativecommons.org/ns#\" xmlns:rdf=\"http://www.w3.org/1999/02/22-rdf-syntax-ns#\">\n   <cc:Work>\n    <dc:type rdf:resource=\"http://purl.org/dc/dcmitype/StillImage\"/>\n    <dc:date>2024-03-22T16:30:43.957895</dc:date>\n    <dc:format>image/svg+xml</dc:format>\n    <dc:creator>\n     <cc:Agent>\n      <dc:title>Matplotlib v3.7.1, https://matplotlib.org/</dc:title>\n     </cc:Agent>\n    </dc:creator>\n   </cc:Work>\n  </rdf:RDF>\n </metadata>\n <defs>\n  <style type=\"text/css\">*{stroke-linejoin: round; stroke-linecap: butt}</style>\n </defs>\n <g id=\"figure_1\">\n  <g id=\"patch_1\">\n   <path d=\"M 0 352.056094 \nL 572.4 352.056094 \nL 572.4 0 \nL 0 0 \nz\n\" style=\"fill: #ffffff\"/>\n  </g>\n  <g id=\"axes_1\">\n   <g id=\"patch_2\">\n    <path d=\"M 7.2 305.9375 \nL 565.2 305.9375 \nL 565.2 28.7375 \nL 7.2 28.7375 \nz\n\" style=\"fill: #ffffff\"/>\n   </g>\n   <g id=\"matplotlib.axis_1\">\n    <g id=\"xtick_1\">\n     <g id=\"line2d_1\">\n      <path d=\"M 32.563636 305.9375 \nL 32.563636 28.7375 \n\" clip-path=\"url(#pc767710f1a)\" style=\"fill: none; stroke: #cccccc; stroke-linecap: round\"/>\n     </g>\n     <g id=\"text_1\">\n      <!-- 0 -->\n      <g style=\"fill: #262626\" transform=\"translate(29.064261 323.795781) scale(0.11 -0.11)\">\n       <defs>\n        <path id=\"DejaVuSans-30\" d=\"M 2034 4250 \nQ 1547 4250 1301 3770 \nQ 1056 3291 1056 2328 \nQ 1056 1369 1301 889 \nQ 1547 409 2034 409 \nQ 2525 409 2770 889 \nQ 3016 1369 3016 2328 \nQ 3016 3291 2770 3770 \nQ 2525 4250 2034 4250 \nz\nM 2034 4750 \nQ 2819 4750 3233 4129 \nQ 3647 3509 3647 2328 \nQ 3647 1150 3233 529 \nQ 2819 -91 2034 -91 \nQ 1250 -91 836 529 \nQ 422 1150 422 2328 \nQ 422 3509 836 4129 \nQ 1250 4750 2034 4750 \nz\n\" transform=\"scale(0.015625)\"/>\n       </defs>\n       <use xlink:href=\"#DejaVuSans-30\"/>\n      </g>\n     </g>\n    </g>\n    <g id=\"xtick_2\">\n     <g id=\"line2d_2\">\n      <path d=\"M 105.031169 305.9375 \nL 105.031169 28.7375 \n\" clip-path=\"url(#pc767710f1a)\" style=\"fill: none; stroke: #cccccc; stroke-linecap: round\"/>\n     </g>\n     <g id=\"text_2\">\n      <!-- 2 -->\n      <g style=\"fill: #262626\" transform=\"translate(101.531794 323.795781) scale(0.11 -0.11)\">\n       <defs>\n        <path id=\"DejaVuSans-32\" d=\"M 1228 531 \nL 3431 531 \nL 3431 0 \nL 469 0 \nL 469 531 \nQ 828 903 1448 1529 \nQ 2069 2156 2228 2338 \nQ 2531 2678 2651 2914 \nQ 2772 3150 2772 3378 \nQ 2772 3750 2511 3984 \nQ 2250 4219 1831 4219 \nQ 1534 4219 1204 4116 \nQ 875 4013 500 3803 \nL 500 4441 \nQ 881 4594 1212 4672 \nQ 1544 4750 1819 4750 \nQ 2544 4750 2975 4387 \nQ 3406 4025 3406 3419 \nQ 3406 3131 3298 2873 \nQ 3191 2616 2906 2266 \nQ 2828 2175 2409 1742 \nQ 1991 1309 1228 531 \nz\n\" transform=\"scale(0.015625)\"/>\n       </defs>\n       <use xlink:href=\"#DejaVuSans-32\"/>\n      </g>\n     </g>\n    </g>\n    <g id=\"xtick_3\">\n     <g id=\"line2d_3\">\n      <path d=\"M 177.498701 305.9375 \nL 177.498701 28.7375 \n\" clip-path=\"url(#pc767710f1a)\" style=\"fill: none; stroke: #cccccc; stroke-linecap: round\"/>\n     </g>\n     <g id=\"text_3\">\n      <!-- 4 -->\n      <g style=\"fill: #262626\" transform=\"translate(173.999326 323.795781) scale(0.11 -0.11)\">\n       <defs>\n        <path id=\"DejaVuSans-34\" d=\"M 2419 4116 \nL 825 1625 \nL 2419 1625 \nL 2419 4116 \nz\nM 2253 4666 \nL 3047 4666 \nL 3047 1625 \nL 3713 1625 \nL 3713 1100 \nL 3047 1100 \nL 3047 0 \nL 2419 0 \nL 2419 1100 \nL 313 1100 \nL 313 1709 \nL 2253 4666 \nz\n\" transform=\"scale(0.015625)\"/>\n       </defs>\n       <use xlink:href=\"#DejaVuSans-34\"/>\n      </g>\n     </g>\n    </g>\n    <g id=\"xtick_4\">\n     <g id=\"line2d_4\">\n      <path d=\"M 249.966234 305.9375 \nL 249.966234 28.7375 \n\" clip-path=\"url(#pc767710f1a)\" style=\"fill: none; stroke: #cccccc; stroke-linecap: round\"/>\n     </g>\n     <g id=\"text_4\">\n      <!-- 6 -->\n      <g style=\"fill: #262626\" transform=\"translate(246.466859 323.795781) scale(0.11 -0.11)\">\n       <defs>\n        <path id=\"DejaVuSans-36\" d=\"M 2113 2584 \nQ 1688 2584 1439 2293 \nQ 1191 2003 1191 1497 \nQ 1191 994 1439 701 \nQ 1688 409 2113 409 \nQ 2538 409 2786 701 \nQ 3034 994 3034 1497 \nQ 3034 2003 2786 2293 \nQ 2538 2584 2113 2584 \nz\nM 3366 4563 \nL 3366 3988 \nQ 3128 4100 2886 4159 \nQ 2644 4219 2406 4219 \nQ 1781 4219 1451 3797 \nQ 1122 3375 1075 2522 \nQ 1259 2794 1537 2939 \nQ 1816 3084 2150 3084 \nQ 2853 3084 3261 2657 \nQ 3669 2231 3669 1497 \nQ 3669 778 3244 343 \nQ 2819 -91 2113 -91 \nQ 1303 -91 875 529 \nQ 447 1150 447 2328 \nQ 447 3434 972 4092 \nQ 1497 4750 2381 4750 \nQ 2619 4750 2861 4703 \nQ 3103 4656 3366 4563 \nz\n\" transform=\"scale(0.015625)\"/>\n       </defs>\n       <use xlink:href=\"#DejaVuSans-36\"/>\n      </g>\n     </g>\n    </g>\n    <g id=\"xtick_5\">\n     <g id=\"line2d_5\">\n      <path d=\"M 322.433766 305.9375 \nL 322.433766 28.7375 \n\" clip-path=\"url(#pc767710f1a)\" style=\"fill: none; stroke: #cccccc; stroke-linecap: round\"/>\n     </g>\n     <g id=\"text_5\">\n      <!-- 8 -->\n      <g style=\"fill: #262626\" transform=\"translate(318.934391 323.795781) scale(0.11 -0.11)\">\n       <defs>\n        <path id=\"DejaVuSans-38\" d=\"M 2034 2216 \nQ 1584 2216 1326 1975 \nQ 1069 1734 1069 1313 \nQ 1069 891 1326 650 \nQ 1584 409 2034 409 \nQ 2484 409 2743 651 \nQ 3003 894 3003 1313 \nQ 3003 1734 2745 1975 \nQ 2488 2216 2034 2216 \nz\nM 1403 2484 \nQ 997 2584 770 2862 \nQ 544 3141 544 3541 \nQ 544 4100 942 4425 \nQ 1341 4750 2034 4750 \nQ 2731 4750 3128 4425 \nQ 3525 4100 3525 3541 \nQ 3525 3141 3298 2862 \nQ 3072 2584 2669 2484 \nQ 3125 2378 3379 2068 \nQ 3634 1759 3634 1313 \nQ 3634 634 3220 271 \nQ 2806 -91 2034 -91 \nQ 1263 -91 848 271 \nQ 434 634 434 1313 \nQ 434 1759 690 2068 \nQ 947 2378 1403 2484 \nz\nM 1172 3481 \nQ 1172 3119 1398 2916 \nQ 1625 2713 2034 2713 \nQ 2441 2713 2670 2916 \nQ 2900 3119 2900 3481 \nQ 2900 3844 2670 4047 \nQ 2441 4250 2034 4250 \nQ 1625 4250 1398 4047 \nQ 1172 3844 1172 3481 \nz\n\" transform=\"scale(0.015625)\"/>\n       </defs>\n       <use xlink:href=\"#DejaVuSans-38\"/>\n      </g>\n     </g>\n    </g>\n    <g id=\"xtick_6\">\n     <g id=\"line2d_6\">\n      <path d=\"M 394.901299 305.9375 \nL 394.901299 28.7375 \n\" clip-path=\"url(#pc767710f1a)\" style=\"fill: none; stroke: #cccccc; stroke-linecap: round\"/>\n     </g>\n     <g id=\"text_6\">\n      <!-- 10 -->\n      <g style=\"fill: #262626\" transform=\"translate(387.902549 323.795781) scale(0.11 -0.11)\">\n       <defs>\n        <path id=\"DejaVuSans-31\" d=\"M 794 531 \nL 1825 531 \nL 1825 4091 \nL 703 3866 \nL 703 4441 \nL 1819 4666 \nL 2450 4666 \nL 2450 531 \nL 3481 531 \nL 3481 0 \nL 794 0 \nL 794 531 \nz\n\" transform=\"scale(0.015625)\"/>\n       </defs>\n       <use xlink:href=\"#DejaVuSans-31\"/>\n       <use xlink:href=\"#DejaVuSans-30\" x=\"63.623047\"/>\n      </g>\n     </g>\n    </g>\n    <g id=\"xtick_7\">\n     <g id=\"line2d_7\">\n      <path d=\"M 467.368831 305.9375 \nL 467.368831 28.7375 \n\" clip-path=\"url(#pc767710f1a)\" style=\"fill: none; stroke: #cccccc; stroke-linecap: round\"/>\n     </g>\n     <g id=\"text_7\">\n      <!-- 12 -->\n      <g style=\"fill: #262626\" transform=\"translate(460.370081 323.795781) scale(0.11 -0.11)\">\n       <use xlink:href=\"#DejaVuSans-31\"/>\n       <use xlink:href=\"#DejaVuSans-32\" x=\"63.623047\"/>\n      </g>\n     </g>\n    </g>\n    <g id=\"xtick_8\">\n     <g id=\"line2d_8\">\n      <path d=\"M 539.836364 305.9375 \nL 539.836364 28.7375 \n\" clip-path=\"url(#pc767710f1a)\" style=\"fill: none; stroke: #cccccc; stroke-linecap: round\"/>\n     </g>\n     <g id=\"text_8\">\n      <!-- 14 -->\n      <g style=\"fill: #262626\" transform=\"translate(532.837614 323.795781) scale(0.11 -0.11)\">\n       <use xlink:href=\"#DejaVuSans-31\"/>\n       <use xlink:href=\"#DejaVuSans-34\" x=\"63.623047\"/>\n      </g>\n     </g>\n    </g>\n    <g id=\"text_9\">\n     <!-- Лайфтайм событий -->\n     <g style=\"fill: #262626\" transform=\"translate(209.421094 341.736563) scale(0.15 -0.15)\">\n      <defs>\n       <path id=\"DejaVuSans-41b\" d=\"M 263 0 \nL 263 531 \nQ 941 678 1134 1191 \nQ 1406 1997 1406 3872 \nL 1406 4666 \nL 4181 4666 \nL 4181 0 \nL 3550 0 \nL 3550 4134 \nL 2034 4134 \nL 2034 3559 \nQ 2034 1791 1716 966 \nQ 1409 175 263 0 \nz\n\" transform=\"scale(0.015625)\"/>\n       <path id=\"DejaVuSans-430\" d=\"M 2194 1759 \nQ 1497 1759 1228 1600 \nQ 959 1441 959 1056 \nQ 959 750 1161 570 \nQ 1363 391 1709 391 \nQ 2188 391 2477 730 \nQ 2766 1069 2766 1631 \nL 2766 1759 \nL 2194 1759 \nz\nM 3341 1997 \nL 3341 0 \nL 2766 0 \nL 2766 531 \nQ 2569 213 2275 61 \nQ 1981 -91 1556 -91 \nQ 1019 -91 701 211 \nQ 384 513 384 1019 \nQ 384 1609 779 1909 \nQ 1175 2209 1959 2209 \nL 2766 2209 \nL 2766 2266 \nQ 2766 2663 2505 2880 \nQ 2244 3097 1772 3097 \nQ 1472 3097 1187 3025 \nQ 903 2953 641 2809 \nL 641 3341 \nQ 956 3463 1253 3523 \nQ 1550 3584 1831 3584 \nQ 2591 3584 2966 3190 \nQ 3341 2797 3341 1997 \nz\n\" transform=\"scale(0.015625)\"/>\n       <path id=\"DejaVuSans-439\" d=\"M 3578 3500 \nL 3578 0 \nL 3006 0 \nL 3006 2809 \nL 1319 0 \nL 581 0 \nL 581 3500 \nL 1153 3500 \nL 1153 697 \nL 2838 3500 \nL 3578 3500 \nz\nM 1102 4833 \nL 1471 4833 \nQ 1505 4599 1656 4481 \nQ 1808 4364 2080 4364 \nQ 2349 4364 2499 4480 \nQ 2649 4596 2689 4833 \nL 3058 4833 \nQ 3027 4386 2780 4161 \nQ 2533 3936 2080 3936 \nQ 1627 3936 1380 4161 \nQ 1133 4386 1102 4833 \nz\n\" transform=\"scale(0.015625)\"/>\n       <path id=\"DejaVuSans-444\" d=\"M 947 1747 \nQ 947 1013 1173 702 \nQ 1400 391 1784 391 \nQ 2091 391 2447 916 \nL 2447 2578 \nQ 2091 3103 1784 3103 \nQ 1400 3103 1173 2792 \nQ 947 2481 947 1747 \nz\nM 2447 -1331 \nL 2447 447 \nQ 2269 153 2064 31 \nQ 1859 -91 1600 -91 \nQ 1078 -91 714 392 \nQ 350 875 350 1734 \nQ 350 2594 714 3089 \nQ 1078 3584 1600 3584 \nQ 1859 3584 2064 3465 \nQ 2269 3347 2447 3053 \nL 2447 4666 \nL 3025 4666 \nL 3025 3053 \nQ 3203 3347 3408 3465 \nQ 3613 3584 3872 3584 \nQ 4394 3584 4758 3089 \nQ 5122 2594 5122 1734 \nQ 5122 875 4758 392 \nQ 4394 -91 3872 -91 \nQ 3613 -91 3408 31 \nQ 3203 153 3025 447 \nL 3025 -1331 \nL 2447 -1331 \nz\nM 4525 1747 \nQ 4525 2481 4298 2792 \nQ 4072 3103 3688 3103 \nQ 3381 3103 3025 2578 \nL 3025 916 \nQ 3381 391 3688 391 \nQ 4072 391 4298 702 \nQ 4525 1013 4525 1747 \nz\n\" transform=\"scale(0.015625)\"/>\n       <path id=\"DejaVuSans-442\" d=\"M 188 3500 \nL 3541 3500 \nL 3541 3041 \nL 2147 3041 \nL 2147 0 \nL 1581 0 \nL 1581 3041 \nL 188 3041 \nL 188 3500 \nz\n\" transform=\"scale(0.015625)\"/>\n       <path id=\"DejaVuSans-43c\" d=\"M 581 3500 \nL 1422 3500 \nL 2416 1156 \nL 3413 3500 \nL 4247 3500 \nL 4247 0 \nL 3669 0 \nL 3669 2950 \nL 2703 672 \nL 2128 672 \nL 1159 2950 \nL 1159 0 \nL 581 0 \nL 581 3500 \nz\n\" transform=\"scale(0.015625)\"/>\n       <path id=\"DejaVuSans-20\" transform=\"scale(0.015625)\"/>\n       <path id=\"DejaVuSans-441\" d=\"M 3122 3366 \nL 3122 2828 \nQ 2878 2963 2633 3030 \nQ 2388 3097 2138 3097 \nQ 1578 3097 1268 2742 \nQ 959 2388 959 1747 \nQ 959 1106 1268 751 \nQ 1578 397 2138 397 \nQ 2388 397 2633 464 \nQ 2878 531 3122 666 \nL 3122 134 \nQ 2881 22 2623 -34 \nQ 2366 -91 2075 -91 \nQ 1284 -91 818 406 \nQ 353 903 353 1747 \nQ 353 2603 823 3093 \nQ 1294 3584 2113 3584 \nQ 2378 3584 2631 3529 \nQ 2884 3475 3122 3366 \nz\n\" transform=\"scale(0.015625)\"/>\n       <path id=\"DejaVuSans-43e\" d=\"M 1959 3097 \nQ 1497 3097 1228 2736 \nQ 959 2375 959 1747 \nQ 959 1119 1226 758 \nQ 1494 397 1959 397 \nQ 2419 397 2687 759 \nQ 2956 1122 2956 1747 \nQ 2956 2369 2687 2733 \nQ 2419 3097 1959 3097 \nz\nM 1959 3584 \nQ 2709 3584 3137 3096 \nQ 3566 2609 3566 1747 \nQ 3566 888 3137 398 \nQ 2709 -91 1959 -91 \nQ 1206 -91 779 398 \nQ 353 888 353 1747 \nQ 353 2609 779 3096 \nQ 1206 3584 1959 3584 \nz\n\" transform=\"scale(0.015625)\"/>\n       <path id=\"DejaVuSans-431\" d=\"M 1991 3584 \nQ 2741 3584 3169 3096 \nQ 3597 2609 3597 1747 \nQ 3597 888 3169 398 \nQ 2741 -91 1991 -91 \nQ 1238 -91 822 384 \nQ 406 859 384 1747 \nL 366 2463 \nQ 350 2834 350 2963 \nQ 350 3463 531 3831 \nQ 816 4409 1308 4659 \nQ 1800 4909 2625 4916 \nQ 3006 4919 3175 4972 \nL 3334 4516 \nQ 3181 4453 3041 4450 \nL 2259 4397 \nQ 1866 4369 1628 4231 \nQ 1006 3866 947 3388 \nL 925 3213 \nQ 1331 3584 1991 3584 \nz\nM 1991 3097 \nQ 1528 3097 1259 2736 \nQ 991 2375 991 1747 \nQ 991 1119 1258 758 \nQ 1525 397 1991 397 \nQ 2450 397 2719 759 \nQ 2988 1122 2988 1747 \nQ 2988 2369 2719 2733 \nQ 2450 3097 1991 3097 \nz\n\" transform=\"scale(0.015625)\"/>\n       <path id=\"DejaVuSans-44b\" d=\"M 3907 3500 \nL 4482 3500 \nL 4482 0 \nL 3907 0 \nL 3907 3500 \nz\nM 4195 3584 \nL 4195 3584 \nz\nM 2781 1038 \nQ 2781 1319 2576 1466 \nQ 2372 1613 1978 1613 \nL 1159 1613 \nL 1159 459 \nL 1978 459 \nQ 2372 459 2576 607 \nQ 2781 756 2781 1038 \nz\nM 581 3500 \nL 1159 3500 \nL 1159 2072 \nL 2003 2072 \nQ 2672 2072 3033 1817 \nQ 3394 1563 3394 1038 \nQ 3394 513 3033 256 \nQ 2672 0 2003 0 \nL 581 0 \nL 581 3500 \nz\n\" transform=\"scale(0.015625)\"/>\n       <path id=\"DejaVuSans-438\" d=\"M 3578 3500 \nL 3578 0 \nL 3006 0 \nL 3006 2809 \nL 1319 0 \nL 581 0 \nL 581 3500 \nL 1153 3500 \nL 1153 697 \nL 2838 3500 \nL 3578 3500 \nz\n\" transform=\"scale(0.015625)\"/>\n      </defs>\n      <use xlink:href=\"#DejaVuSans-41b\"/>\n      <use xlink:href=\"#DejaVuSans-430\" x=\"75.195312\"/>\n      <use xlink:href=\"#DejaVuSans-439\" x=\"136.474609\"/>\n      <use xlink:href=\"#DejaVuSans-444\" x=\"201.464844\"/>\n      <use xlink:href=\"#DejaVuSans-442\" x=\"286.962891\"/>\n      <use xlink:href=\"#DejaVuSans-430\" x=\"345.214844\"/>\n      <use xlink:href=\"#DejaVuSans-439\" x=\"406.494141\"/>\n      <use xlink:href=\"#DejaVuSans-43c\" x=\"471.484375\"/>\n      <use xlink:href=\"#DejaVuSans-20\" x=\"546.923828\"/>\n      <use xlink:href=\"#DejaVuSans-441\" x=\"578.710938\"/>\n      <use xlink:href=\"#DejaVuSans-43e\" x=\"633.691406\"/>\n      <use xlink:href=\"#DejaVuSans-431\" x=\"694.873047\"/>\n      <use xlink:href=\"#DejaVuSans-44b\" x=\"756.542969\"/>\n      <use xlink:href=\"#DejaVuSans-442\" x=\"835.498047\"/>\n      <use xlink:href=\"#DejaVuSans-438\" x=\"893.75\"/>\n      <use xlink:href=\"#DejaVuSans-439\" x=\"958.740234\"/>\n     </g>\n    </g>\n   </g>\n   <g id=\"matplotlib.axis_2\">\n    <g id=\"ytick_1\">\n     <g id=\"line2d_9\">\n      <path d=\"M 7.2 167.3375 \nL 565.2 167.3375 \n\" clip-path=\"url(#pc767710f1a)\" style=\"fill: none; stroke: #cccccc; stroke-linecap: round\"/>\n     </g>\n    </g>\n   </g>\n   <g id=\"patch_3\">\n    <path d=\"M 32.563636 56.4575 \nL 32.563636 278.2175 \nL 213.732468 278.2175 \nL 213.732468 56.4575 \nL 32.563636 56.4575 \nz\n\" clip-path=\"url(#pc767710f1a)\" style=\"fill: #5875a4; stroke: #4c4c4c; stroke-linejoin: miter\"/>\n   </g>\n   <g id=\"line2d_10\">\n    <path d=\"M 32.563636 167.3375 \nL 32.563636 167.3375 \n\" clip-path=\"url(#pc767710f1a)\" style=\"fill: none; stroke: #4c4c4c\"/>\n   </g>\n   <g id=\"line2d_11\">\n    <path d=\"M 213.732468 167.3375 \nL 467.368831 167.3375 \n\" clip-path=\"url(#pc767710f1a)\" style=\"fill: none; stroke: #4c4c4c\"/>\n   </g>\n   <g id=\"line2d_12\">\n    <path d=\"M 32.563636 111.8975 \nL 32.563636 222.7775 \n\" clip-path=\"url(#pc767710f1a)\" style=\"fill: none; stroke: #4c4c4c; stroke-linecap: round\"/>\n   </g>\n   <g id=\"line2d_13\">\n    <path d=\"M 467.368831 111.8975 \nL 467.368831 222.7775 \n\" clip-path=\"url(#pc767710f1a)\" style=\"fill: none; stroke: #4c4c4c; stroke-linecap: round\"/>\n   </g>\n   <g id=\"line2d_14\">\n    <defs>\n     <path id=\"m8b1d8f0ebd\" d=\"M 0 3 \nC 0.795609 3 1.55874 2.683901 2.12132 2.12132 \nC 2.683901 1.55874 3 0.795609 3 0 \nC 3 -0.795609 2.683901 -1.55874 2.12132 -2.12132 \nC 1.55874 -2.683901 0.795609 -3 0 -3 \nC -0.795609 -3 -1.55874 -2.683901 -2.12132 -2.12132 \nC -2.683901 -1.55874 -3 -0.795609 -3 0 \nC -3 0.795609 -2.683901 1.55874 -2.12132 2.12132 \nC -1.55874 2.683901 -0.795609 3 0 3 \nz\n\" style=\"stroke: #4c4c4c\"/>\n    </defs>\n    <g clip-path=\"url(#pc767710f1a)\">\n     <use xlink:href=\"#m8b1d8f0ebd\" x=\"503.602597\" y=\"167.3375\" style=\"fill-opacity: 0; stroke: #4c4c4c\"/>\n     <use xlink:href=\"#m8b1d8f0ebd\" x=\"503.602597\" y=\"167.3375\" style=\"fill-opacity: 0; stroke: #4c4c4c\"/>\n     <use xlink:href=\"#m8b1d8f0ebd\" x=\"503.602597\" y=\"167.3375\" style=\"fill-opacity: 0; stroke: #4c4c4c\"/>\n     <use xlink:href=\"#m8b1d8f0ebd\" x=\"503.602597\" y=\"167.3375\" style=\"fill-opacity: 0; stroke: #4c4c4c\"/>\n     <use xlink:href=\"#m8b1d8f0ebd\" x=\"503.602597\" y=\"167.3375\" style=\"fill-opacity: 0; stroke: #4c4c4c\"/>\n     <use xlink:href=\"#m8b1d8f0ebd\" x=\"503.602597\" y=\"167.3375\" style=\"fill-opacity: 0; stroke: #4c4c4c\"/>\n     <use xlink:href=\"#m8b1d8f0ebd\" x=\"503.602597\" y=\"167.3375\" style=\"fill-opacity: 0; stroke: #4c4c4c\"/>\n     <use xlink:href=\"#m8b1d8f0ebd\" x=\"539.836364\" y=\"167.3375\" style=\"fill-opacity: 0; stroke: #4c4c4c\"/>\n     <use xlink:href=\"#m8b1d8f0ebd\" x=\"539.836364\" y=\"167.3375\" style=\"fill-opacity: 0; stroke: #4c4c4c\"/>\n     <use xlink:href=\"#m8b1d8f0ebd\" x=\"539.836364\" y=\"167.3375\" style=\"fill-opacity: 0; stroke: #4c4c4c\"/>\n     <use xlink:href=\"#m8b1d8f0ebd\" x=\"539.836364\" y=\"167.3375\" style=\"fill-opacity: 0; stroke: #4c4c4c\"/>\n     <use xlink:href=\"#m8b1d8f0ebd\" x=\"539.836364\" y=\"167.3375\" style=\"fill-opacity: 0; stroke: #4c4c4c\"/>\n     <use xlink:href=\"#m8b1d8f0ebd\" x=\"539.836364\" y=\"167.3375\" style=\"fill-opacity: 0; stroke: #4c4c4c\"/>\n     <use xlink:href=\"#m8b1d8f0ebd\" x=\"539.836364\" y=\"167.3375\" style=\"fill-opacity: 0; stroke: #4c4c4c\"/>\n     <use xlink:href=\"#m8b1d8f0ebd\" x=\"503.602597\" y=\"167.3375\" style=\"fill-opacity: 0; stroke: #4c4c4c\"/>\n     <use xlink:href=\"#m8b1d8f0ebd\" x=\"503.602597\" y=\"167.3375\" style=\"fill-opacity: 0; stroke: #4c4c4c\"/>\n     <use xlink:href=\"#m8b1d8f0ebd\" x=\"503.602597\" y=\"167.3375\" style=\"fill-opacity: 0; stroke: #4c4c4c\"/>\n     <use xlink:href=\"#m8b1d8f0ebd\" x=\"503.602597\" y=\"167.3375\" style=\"fill-opacity: 0; stroke: #4c4c4c\"/>\n     <use xlink:href=\"#m8b1d8f0ebd\" x=\"503.602597\" y=\"167.3375\" style=\"fill-opacity: 0; stroke: #4c4c4c\"/>\n     <use xlink:href=\"#m8b1d8f0ebd\" x=\"503.602597\" y=\"167.3375\" style=\"fill-opacity: 0; stroke: #4c4c4c\"/>\n     <use xlink:href=\"#m8b1d8f0ebd\" x=\"503.602597\" y=\"167.3375\" style=\"fill-opacity: 0; stroke: #4c4c4c\"/>\n     <use xlink:href=\"#m8b1d8f0ebd\" x=\"503.602597\" y=\"167.3375\" style=\"fill-opacity: 0; stroke: #4c4c4c\"/>\n     <use xlink:href=\"#m8b1d8f0ebd\" x=\"539.836364\" y=\"167.3375\" style=\"fill-opacity: 0; stroke: #4c4c4c\"/>\n     <use xlink:href=\"#m8b1d8f0ebd\" x=\"539.836364\" y=\"167.3375\" style=\"fill-opacity: 0; stroke: #4c4c4c\"/>\n     <use xlink:href=\"#m8b1d8f0ebd\" x=\"539.836364\" y=\"167.3375\" style=\"fill-opacity: 0; stroke: #4c4c4c\"/>\n     <use xlink:href=\"#m8b1d8f0ebd\" x=\"539.836364\" y=\"167.3375\" style=\"fill-opacity: 0; stroke: #4c4c4c\"/>\n     <use xlink:href=\"#m8b1d8f0ebd\" x=\"539.836364\" y=\"167.3375\" style=\"fill-opacity: 0; stroke: #4c4c4c\"/>\n     <use xlink:href=\"#m8b1d8f0ebd\" x=\"539.836364\" y=\"167.3375\" style=\"fill-opacity: 0; stroke: #4c4c4c\"/>\n     <use xlink:href=\"#m8b1d8f0ebd\" x=\"539.836364\" y=\"167.3375\" style=\"fill-opacity: 0; stroke: #4c4c4c\"/>\n     <use xlink:href=\"#m8b1d8f0ebd\" x=\"539.836364\" y=\"167.3375\" style=\"fill-opacity: 0; stroke: #4c4c4c\"/>\n     <use xlink:href=\"#m8b1d8f0ebd\" x=\"539.836364\" y=\"167.3375\" style=\"fill-opacity: 0; stroke: #4c4c4c\"/>\n     <use xlink:href=\"#m8b1d8f0ebd\" x=\"503.602597\" y=\"167.3375\" style=\"fill-opacity: 0; stroke: #4c4c4c\"/>\n     <use xlink:href=\"#m8b1d8f0ebd\" x=\"503.602597\" y=\"167.3375\" style=\"fill-opacity: 0; stroke: #4c4c4c\"/>\n     <use xlink:href=\"#m8b1d8f0ebd\" x=\"503.602597\" y=\"167.3375\" style=\"fill-opacity: 0; stroke: #4c4c4c\"/>\n     <use xlink:href=\"#m8b1d8f0ebd\" x=\"539.836364\" y=\"167.3375\" style=\"fill-opacity: 0; stroke: #4c4c4c\"/>\n     <use xlink:href=\"#m8b1d8f0ebd\" x=\"539.836364\" y=\"167.3375\" style=\"fill-opacity: 0; stroke: #4c4c4c\"/>\n     <use xlink:href=\"#m8b1d8f0ebd\" x=\"539.836364\" y=\"167.3375\" style=\"fill-opacity: 0; stroke: #4c4c4c\"/>\n     <use xlink:href=\"#m8b1d8f0ebd\" x=\"539.836364\" y=\"167.3375\" style=\"fill-opacity: 0; stroke: #4c4c4c\"/>\n     <use xlink:href=\"#m8b1d8f0ebd\" x=\"503.602597\" y=\"167.3375\" style=\"fill-opacity: 0; stroke: #4c4c4c\"/>\n     <use xlink:href=\"#m8b1d8f0ebd\" x=\"539.836364\" y=\"167.3375\" style=\"fill-opacity: 0; stroke: #4c4c4c\"/>\n     <use xlink:href=\"#m8b1d8f0ebd\" x=\"503.602597\" y=\"167.3375\" style=\"fill-opacity: 0; stroke: #4c4c4c\"/>\n     <use xlink:href=\"#m8b1d8f0ebd\" x=\"539.836364\" y=\"167.3375\" style=\"fill-opacity: 0; stroke: #4c4c4c\"/>\n     <use xlink:href=\"#m8b1d8f0ebd\" x=\"539.836364\" y=\"167.3375\" style=\"fill-opacity: 0; stroke: #4c4c4c\"/>\n     <use xlink:href=\"#m8b1d8f0ebd\" x=\"539.836364\" y=\"167.3375\" style=\"fill-opacity: 0; stroke: #4c4c4c\"/>\n     <use xlink:href=\"#m8b1d8f0ebd\" x=\"539.836364\" y=\"167.3375\" style=\"fill-opacity: 0; stroke: #4c4c4c\"/>\n     <use xlink:href=\"#m8b1d8f0ebd\" x=\"539.836364\" y=\"167.3375\" style=\"fill-opacity: 0; stroke: #4c4c4c\"/>\n     <use xlink:href=\"#m8b1d8f0ebd\" x=\"539.836364\" y=\"167.3375\" style=\"fill-opacity: 0; stroke: #4c4c4c\"/>\n     <use xlink:href=\"#m8b1d8f0ebd\" x=\"539.836364\" y=\"167.3375\" style=\"fill-opacity: 0; stroke: #4c4c4c\"/>\n     <use xlink:href=\"#m8b1d8f0ebd\" x=\"539.836364\" y=\"167.3375\" style=\"fill-opacity: 0; stroke: #4c4c4c\"/>\n     <use xlink:href=\"#m8b1d8f0ebd\" x=\"539.836364\" y=\"167.3375\" style=\"fill-opacity: 0; stroke: #4c4c4c\"/>\n     <use xlink:href=\"#m8b1d8f0ebd\" x=\"539.836364\" y=\"167.3375\" style=\"fill-opacity: 0; stroke: #4c4c4c\"/>\n     <use xlink:href=\"#m8b1d8f0ebd\" x=\"503.602597\" y=\"167.3375\" style=\"fill-opacity: 0; stroke: #4c4c4c\"/>\n     <use xlink:href=\"#m8b1d8f0ebd\" x=\"503.602597\" y=\"167.3375\" style=\"fill-opacity: 0; stroke: #4c4c4c\"/>\n     <use xlink:href=\"#m8b1d8f0ebd\" x=\"503.602597\" y=\"167.3375\" style=\"fill-opacity: 0; stroke: #4c4c4c\"/>\n     <use xlink:href=\"#m8b1d8f0ebd\" x=\"539.836364\" y=\"167.3375\" style=\"fill-opacity: 0; stroke: #4c4c4c\"/>\n     <use xlink:href=\"#m8b1d8f0ebd\" x=\"539.836364\" y=\"167.3375\" style=\"fill-opacity: 0; stroke: #4c4c4c\"/>\n     <use xlink:href=\"#m8b1d8f0ebd\" x=\"539.836364\" y=\"167.3375\" style=\"fill-opacity: 0; stroke: #4c4c4c\"/>\n     <use xlink:href=\"#m8b1d8f0ebd\" x=\"503.602597\" y=\"167.3375\" style=\"fill-opacity: 0; stroke: #4c4c4c\"/>\n     <use xlink:href=\"#m8b1d8f0ebd\" x=\"503.602597\" y=\"167.3375\" style=\"fill-opacity: 0; stroke: #4c4c4c\"/>\n     <use xlink:href=\"#m8b1d8f0ebd\" x=\"503.602597\" y=\"167.3375\" style=\"fill-opacity: 0; stroke: #4c4c4c\"/>\n     <use xlink:href=\"#m8b1d8f0ebd\" x=\"503.602597\" y=\"167.3375\" style=\"fill-opacity: 0; stroke: #4c4c4c\"/>\n     <use xlink:href=\"#m8b1d8f0ebd\" x=\"503.602597\" y=\"167.3375\" style=\"fill-opacity: 0; stroke: #4c4c4c\"/>\n     <use xlink:href=\"#m8b1d8f0ebd\" x=\"503.602597\" y=\"167.3375\" style=\"fill-opacity: 0; stroke: #4c4c4c\"/>\n     <use xlink:href=\"#m8b1d8f0ebd\" x=\"503.602597\" y=\"167.3375\" style=\"fill-opacity: 0; stroke: #4c4c4c\"/>\n     <use xlink:href=\"#m8b1d8f0ebd\" x=\"539.836364\" y=\"167.3375\" style=\"fill-opacity: 0; stroke: #4c4c4c\"/>\n     <use xlink:href=\"#m8b1d8f0ebd\" x=\"539.836364\" y=\"167.3375\" style=\"fill-opacity: 0; stroke: #4c4c4c\"/>\n     <use xlink:href=\"#m8b1d8f0ebd\" x=\"539.836364\" y=\"167.3375\" style=\"fill-opacity: 0; stroke: #4c4c4c\"/>\n     <use xlink:href=\"#m8b1d8f0ebd\" x=\"539.836364\" y=\"167.3375\" style=\"fill-opacity: 0; stroke: #4c4c4c\"/>\n     <use xlink:href=\"#m8b1d8f0ebd\" x=\"539.836364\" y=\"167.3375\" style=\"fill-opacity: 0; stroke: #4c4c4c\"/>\n     <use xlink:href=\"#m8b1d8f0ebd\" x=\"503.602597\" y=\"167.3375\" style=\"fill-opacity: 0; stroke: #4c4c4c\"/>\n     <use xlink:href=\"#m8b1d8f0ebd\" x=\"503.602597\" y=\"167.3375\" style=\"fill-opacity: 0; stroke: #4c4c4c\"/>\n     <use xlink:href=\"#m8b1d8f0ebd\" x=\"503.602597\" y=\"167.3375\" style=\"fill-opacity: 0; stroke: #4c4c4c\"/>\n     <use xlink:href=\"#m8b1d8f0ebd\" x=\"503.602597\" y=\"167.3375\" style=\"fill-opacity: 0; stroke: #4c4c4c\"/>\n     <use xlink:href=\"#m8b1d8f0ebd\" x=\"503.602597\" y=\"167.3375\" style=\"fill-opacity: 0; stroke: #4c4c4c\"/>\n     <use xlink:href=\"#m8b1d8f0ebd\" x=\"503.602597\" y=\"167.3375\" style=\"fill-opacity: 0; stroke: #4c4c4c\"/>\n     <use xlink:href=\"#m8b1d8f0ebd\" x=\"503.602597\" y=\"167.3375\" style=\"fill-opacity: 0; stroke: #4c4c4c\"/>\n     <use xlink:href=\"#m8b1d8f0ebd\" x=\"503.602597\" y=\"167.3375\" style=\"fill-opacity: 0; stroke: #4c4c4c\"/>\n     <use xlink:href=\"#m8b1d8f0ebd\" x=\"503.602597\" y=\"167.3375\" style=\"fill-opacity: 0; stroke: #4c4c4c\"/>\n     <use xlink:href=\"#m8b1d8f0ebd\" x=\"539.836364\" y=\"167.3375\" style=\"fill-opacity: 0; stroke: #4c4c4c\"/>\n     <use xlink:href=\"#m8b1d8f0ebd\" x=\"539.836364\" y=\"167.3375\" style=\"fill-opacity: 0; stroke: #4c4c4c\"/>\n     <use xlink:href=\"#m8b1d8f0ebd\" x=\"539.836364\" y=\"167.3375\" style=\"fill-opacity: 0; stroke: #4c4c4c\"/>\n     <use xlink:href=\"#m8b1d8f0ebd\" x=\"503.602597\" y=\"167.3375\" style=\"fill-opacity: 0; stroke: #4c4c4c\"/>\n     <use xlink:href=\"#m8b1d8f0ebd\" x=\"503.602597\" y=\"167.3375\" style=\"fill-opacity: 0; stroke: #4c4c4c\"/>\n     <use xlink:href=\"#m8b1d8f0ebd\" x=\"503.602597\" y=\"167.3375\" style=\"fill-opacity: 0; stroke: #4c4c4c\"/>\n     <use xlink:href=\"#m8b1d8f0ebd\" x=\"503.602597\" y=\"167.3375\" style=\"fill-opacity: 0; stroke: #4c4c4c\"/>\n     <use xlink:href=\"#m8b1d8f0ebd\" x=\"503.602597\" y=\"167.3375\" style=\"fill-opacity: 0; stroke: #4c4c4c\"/>\n     <use xlink:href=\"#m8b1d8f0ebd\" x=\"503.602597\" y=\"167.3375\" style=\"fill-opacity: 0; stroke: #4c4c4c\"/>\n     <use xlink:href=\"#m8b1d8f0ebd\" x=\"503.602597\" y=\"167.3375\" style=\"fill-opacity: 0; stroke: #4c4c4c\"/>\n     <use xlink:href=\"#m8b1d8f0ebd\" x=\"503.602597\" y=\"167.3375\" style=\"fill-opacity: 0; stroke: #4c4c4c\"/>\n     <use xlink:href=\"#m8b1d8f0ebd\" x=\"503.602597\" y=\"167.3375\" style=\"fill-opacity: 0; stroke: #4c4c4c\"/>\n     <use xlink:href=\"#m8b1d8f0ebd\" x=\"539.836364\" y=\"167.3375\" style=\"fill-opacity: 0; stroke: #4c4c4c\"/>\n     <use xlink:href=\"#m8b1d8f0ebd\" x=\"539.836364\" y=\"167.3375\" style=\"fill-opacity: 0; stroke: #4c4c4c\"/>\n     <use xlink:href=\"#m8b1d8f0ebd\" x=\"539.836364\" y=\"167.3375\" style=\"fill-opacity: 0; stroke: #4c4c4c\"/>\n     <use xlink:href=\"#m8b1d8f0ebd\" x=\"539.836364\" y=\"167.3375\" style=\"fill-opacity: 0; stroke: #4c4c4c\"/>\n     <use xlink:href=\"#m8b1d8f0ebd\" x=\"539.836364\" y=\"167.3375\" style=\"fill-opacity: 0; stroke: #4c4c4c\"/>\n     <use xlink:href=\"#m8b1d8f0ebd\" x=\"503.602597\" y=\"167.3375\" style=\"fill-opacity: 0; stroke: #4c4c4c\"/>\n     <use xlink:href=\"#m8b1d8f0ebd\" x=\"503.602597\" y=\"167.3375\" style=\"fill-opacity: 0; stroke: #4c4c4c\"/>\n     <use xlink:href=\"#m8b1d8f0ebd\" x=\"539.836364\" y=\"167.3375\" style=\"fill-opacity: 0; stroke: #4c4c4c\"/>\n     <use xlink:href=\"#m8b1d8f0ebd\" x=\"503.602597\" y=\"167.3375\" style=\"fill-opacity: 0; stroke: #4c4c4c\"/>\n     <use xlink:href=\"#m8b1d8f0ebd\" x=\"503.602597\" y=\"167.3375\" style=\"fill-opacity: 0; stroke: #4c4c4c\"/>\n     <use xlink:href=\"#m8b1d8f0ebd\" x=\"503.602597\" y=\"167.3375\" style=\"fill-opacity: 0; stroke: #4c4c4c\"/>\n     <use xlink:href=\"#m8b1d8f0ebd\" x=\"539.836364\" y=\"167.3375\" style=\"fill-opacity: 0; stroke: #4c4c4c\"/>\n     <use xlink:href=\"#m8b1d8f0ebd\" x=\"539.836364\" y=\"167.3375\" style=\"fill-opacity: 0; stroke: #4c4c4c\"/>\n     <use xlink:href=\"#m8b1d8f0ebd\" x=\"539.836364\" y=\"167.3375\" style=\"fill-opacity: 0; stroke: #4c4c4c\"/>\n     <use xlink:href=\"#m8b1d8f0ebd\" x=\"539.836364\" y=\"167.3375\" style=\"fill-opacity: 0; stroke: #4c4c4c\"/>\n     <use xlink:href=\"#m8b1d8f0ebd\" x=\"539.836364\" y=\"167.3375\" style=\"fill-opacity: 0; stroke: #4c4c4c\"/>\n     <use xlink:href=\"#m8b1d8f0ebd\" x=\"539.836364\" y=\"167.3375\" style=\"fill-opacity: 0; stroke: #4c4c4c\"/>\n     <use xlink:href=\"#m8b1d8f0ebd\" x=\"503.602597\" y=\"167.3375\" style=\"fill-opacity: 0; stroke: #4c4c4c\"/>\n     <use xlink:href=\"#m8b1d8f0ebd\" x=\"503.602597\" y=\"167.3375\" style=\"fill-opacity: 0; stroke: #4c4c4c\"/>\n     <use xlink:href=\"#m8b1d8f0ebd\" x=\"503.602597\" y=\"167.3375\" style=\"fill-opacity: 0; stroke: #4c4c4c\"/>\n     <use xlink:href=\"#m8b1d8f0ebd\" x=\"503.602597\" y=\"167.3375\" style=\"fill-opacity: 0; stroke: #4c4c4c\"/>\n     <use xlink:href=\"#m8b1d8f0ebd\" x=\"539.836364\" y=\"167.3375\" style=\"fill-opacity: 0; stroke: #4c4c4c\"/>\n     <use xlink:href=\"#m8b1d8f0ebd\" x=\"539.836364\" y=\"167.3375\" style=\"fill-opacity: 0; stroke: #4c4c4c\"/>\n     <use xlink:href=\"#m8b1d8f0ebd\" x=\"539.836364\" y=\"167.3375\" style=\"fill-opacity: 0; stroke: #4c4c4c\"/>\n     <use xlink:href=\"#m8b1d8f0ebd\" x=\"503.602597\" y=\"167.3375\" style=\"fill-opacity: 0; stroke: #4c4c4c\"/>\n     <use xlink:href=\"#m8b1d8f0ebd\" x=\"503.602597\" y=\"167.3375\" style=\"fill-opacity: 0; stroke: #4c4c4c\"/>\n     <use xlink:href=\"#m8b1d8f0ebd\" x=\"503.602597\" y=\"167.3375\" style=\"fill-opacity: 0; stroke: #4c4c4c\"/>\n     <use xlink:href=\"#m8b1d8f0ebd\" x=\"539.836364\" y=\"167.3375\" style=\"fill-opacity: 0; stroke: #4c4c4c\"/>\n     <use xlink:href=\"#m8b1d8f0ebd\" x=\"539.836364\" y=\"167.3375\" style=\"fill-opacity: 0; stroke: #4c4c4c\"/>\n     <use xlink:href=\"#m8b1d8f0ebd\" x=\"539.836364\" y=\"167.3375\" style=\"fill-opacity: 0; stroke: #4c4c4c\"/>\n     <use xlink:href=\"#m8b1d8f0ebd\" x=\"539.836364\" y=\"167.3375\" style=\"fill-opacity: 0; stroke: #4c4c4c\"/>\n     <use xlink:href=\"#m8b1d8f0ebd\" x=\"539.836364\" y=\"167.3375\" style=\"fill-opacity: 0; stroke: #4c4c4c\"/>\n     <use xlink:href=\"#m8b1d8f0ebd\" x=\"539.836364\" y=\"167.3375\" style=\"fill-opacity: 0; stroke: #4c4c4c\"/>\n     <use xlink:href=\"#m8b1d8f0ebd\" x=\"539.836364\" y=\"167.3375\" style=\"fill-opacity: 0; stroke: #4c4c4c\"/>\n     <use xlink:href=\"#m8b1d8f0ebd\" x=\"539.836364\" y=\"167.3375\" style=\"fill-opacity: 0; stroke: #4c4c4c\"/>\n     <use xlink:href=\"#m8b1d8f0ebd\" x=\"539.836364\" y=\"167.3375\" style=\"fill-opacity: 0; stroke: #4c4c4c\"/>\n     <use xlink:href=\"#m8b1d8f0ebd\" x=\"539.836364\" y=\"167.3375\" style=\"fill-opacity: 0; stroke: #4c4c4c\"/>\n     <use xlink:href=\"#m8b1d8f0ebd\" x=\"539.836364\" y=\"167.3375\" style=\"fill-opacity: 0; stroke: #4c4c4c\"/>\n     <use xlink:href=\"#m8b1d8f0ebd\" x=\"503.602597\" y=\"167.3375\" style=\"fill-opacity: 0; stroke: #4c4c4c\"/>\n     <use xlink:href=\"#m8b1d8f0ebd\" x=\"503.602597\" y=\"167.3375\" style=\"fill-opacity: 0; stroke: #4c4c4c\"/>\n     <use xlink:href=\"#m8b1d8f0ebd\" x=\"503.602597\" y=\"167.3375\" style=\"fill-opacity: 0; stroke: #4c4c4c\"/>\n     <use xlink:href=\"#m8b1d8f0ebd\" x=\"503.602597\" y=\"167.3375\" style=\"fill-opacity: 0; stroke: #4c4c4c\"/>\n     <use xlink:href=\"#m8b1d8f0ebd\" x=\"503.602597\" y=\"167.3375\" style=\"fill-opacity: 0; stroke: #4c4c4c\"/>\n     <use xlink:href=\"#m8b1d8f0ebd\" x=\"503.602597\" y=\"167.3375\" style=\"fill-opacity: 0; stroke: #4c4c4c\"/>\n     <use xlink:href=\"#m8b1d8f0ebd\" x=\"503.602597\" y=\"167.3375\" style=\"fill-opacity: 0; stroke: #4c4c4c\"/>\n     <use xlink:href=\"#m8b1d8f0ebd\" x=\"503.602597\" y=\"167.3375\" style=\"fill-opacity: 0; stroke: #4c4c4c\"/>\n     <use xlink:href=\"#m8b1d8f0ebd\" x=\"539.836364\" y=\"167.3375\" style=\"fill-opacity: 0; stroke: #4c4c4c\"/>\n     <use xlink:href=\"#m8b1d8f0ebd\" x=\"539.836364\" y=\"167.3375\" style=\"fill-opacity: 0; stroke: #4c4c4c\"/>\n     <use xlink:href=\"#m8b1d8f0ebd\" x=\"539.836364\" y=\"167.3375\" style=\"fill-opacity: 0; stroke: #4c4c4c\"/>\n     <use xlink:href=\"#m8b1d8f0ebd\" x=\"503.602597\" y=\"167.3375\" style=\"fill-opacity: 0; stroke: #4c4c4c\"/>\n     <use xlink:href=\"#m8b1d8f0ebd\" x=\"503.602597\" y=\"167.3375\" style=\"fill-opacity: 0; stroke: #4c4c4c\"/>\n     <use xlink:href=\"#m8b1d8f0ebd\" x=\"539.836364\" y=\"167.3375\" style=\"fill-opacity: 0; stroke: #4c4c4c\"/>\n     <use xlink:href=\"#m8b1d8f0ebd\" x=\"539.836364\" y=\"167.3375\" style=\"fill-opacity: 0; stroke: #4c4c4c\"/>\n     <use xlink:href=\"#m8b1d8f0ebd\" x=\"539.836364\" y=\"167.3375\" style=\"fill-opacity: 0; stroke: #4c4c4c\"/>\n     <use xlink:href=\"#m8b1d8f0ebd\" x=\"539.836364\" y=\"167.3375\" style=\"fill-opacity: 0; stroke: #4c4c4c\"/>\n     <use xlink:href=\"#m8b1d8f0ebd\" x=\"503.602597\" y=\"167.3375\" style=\"fill-opacity: 0; stroke: #4c4c4c\"/>\n     <use xlink:href=\"#m8b1d8f0ebd\" x=\"503.602597\" y=\"167.3375\" style=\"fill-opacity: 0; stroke: #4c4c4c\"/>\n     <use xlink:href=\"#m8b1d8f0ebd\" x=\"539.836364\" y=\"167.3375\" style=\"fill-opacity: 0; stroke: #4c4c4c\"/>\n     <use xlink:href=\"#m8b1d8f0ebd\" x=\"503.602597\" y=\"167.3375\" style=\"fill-opacity: 0; stroke: #4c4c4c\"/>\n     <use xlink:href=\"#m8b1d8f0ebd\" x=\"503.602597\" y=\"167.3375\" style=\"fill-opacity: 0; stroke: #4c4c4c\"/>\n     <use xlink:href=\"#m8b1d8f0ebd\" x=\"539.836364\" y=\"167.3375\" style=\"fill-opacity: 0; stroke: #4c4c4c\"/>\n     <use xlink:href=\"#m8b1d8f0ebd\" x=\"539.836364\" y=\"167.3375\" style=\"fill-opacity: 0; stroke: #4c4c4c\"/>\n     <use xlink:href=\"#m8b1d8f0ebd\" x=\"539.836364\" y=\"167.3375\" style=\"fill-opacity: 0; stroke: #4c4c4c\"/>\n     <use xlink:href=\"#m8b1d8f0ebd\" x=\"539.836364\" y=\"167.3375\" style=\"fill-opacity: 0; stroke: #4c4c4c\"/>\n     <use xlink:href=\"#m8b1d8f0ebd\" x=\"503.602597\" y=\"167.3375\" style=\"fill-opacity: 0; stroke: #4c4c4c\"/>\n     <use xlink:href=\"#m8b1d8f0ebd\" x=\"503.602597\" y=\"167.3375\" style=\"fill-opacity: 0; stroke: #4c4c4c\"/>\n     <use xlink:href=\"#m8b1d8f0ebd\" x=\"503.602597\" y=\"167.3375\" style=\"fill-opacity: 0; stroke: #4c4c4c\"/>\n     <use xlink:href=\"#m8b1d8f0ebd\" x=\"539.836364\" y=\"167.3375\" style=\"fill-opacity: 0; stroke: #4c4c4c\"/>\n     <use xlink:href=\"#m8b1d8f0ebd\" x=\"539.836364\" y=\"167.3375\" style=\"fill-opacity: 0; stroke: #4c4c4c\"/>\n     <use xlink:href=\"#m8b1d8f0ebd\" x=\"539.836364\" y=\"167.3375\" style=\"fill-opacity: 0; stroke: #4c4c4c\"/>\n     <use xlink:href=\"#m8b1d8f0ebd\" x=\"539.836364\" y=\"167.3375\" style=\"fill-opacity: 0; stroke: #4c4c4c\"/>\n     <use xlink:href=\"#m8b1d8f0ebd\" x=\"503.602597\" y=\"167.3375\" style=\"fill-opacity: 0; stroke: #4c4c4c\"/>\n     <use xlink:href=\"#m8b1d8f0ebd\" x=\"503.602597\" y=\"167.3375\" style=\"fill-opacity: 0; stroke: #4c4c4c\"/>\n     <use xlink:href=\"#m8b1d8f0ebd\" x=\"539.836364\" y=\"167.3375\" style=\"fill-opacity: 0; stroke: #4c4c4c\"/>\n     <use xlink:href=\"#m8b1d8f0ebd\" x=\"539.836364\" y=\"167.3375\" style=\"fill-opacity: 0; stroke: #4c4c4c\"/>\n     <use xlink:href=\"#m8b1d8f0ebd\" x=\"503.602597\" y=\"167.3375\" style=\"fill-opacity: 0; stroke: #4c4c4c\"/>\n     <use xlink:href=\"#m8b1d8f0ebd\" x=\"503.602597\" y=\"167.3375\" style=\"fill-opacity: 0; stroke: #4c4c4c\"/>\n     <use xlink:href=\"#m8b1d8f0ebd\" x=\"539.836364\" y=\"167.3375\" style=\"fill-opacity: 0; stroke: #4c4c4c\"/>\n     <use xlink:href=\"#m8b1d8f0ebd\" x=\"539.836364\" y=\"167.3375\" style=\"fill-opacity: 0; stroke: #4c4c4c\"/>\n     <use xlink:href=\"#m8b1d8f0ebd\" x=\"539.836364\" y=\"167.3375\" style=\"fill-opacity: 0; stroke: #4c4c4c\"/>\n     <use xlink:href=\"#m8b1d8f0ebd\" x=\"539.836364\" y=\"167.3375\" style=\"fill-opacity: 0; stroke: #4c4c4c\"/>\n     <use xlink:href=\"#m8b1d8f0ebd\" x=\"539.836364\" y=\"167.3375\" style=\"fill-opacity: 0; stroke: #4c4c4c\"/>\n     <use xlink:href=\"#m8b1d8f0ebd\" x=\"539.836364\" y=\"167.3375\" style=\"fill-opacity: 0; stroke: #4c4c4c\"/>\n     <use xlink:href=\"#m8b1d8f0ebd\" x=\"539.836364\" y=\"167.3375\" style=\"fill-opacity: 0; stroke: #4c4c4c\"/>\n     <use xlink:href=\"#m8b1d8f0ebd\" x=\"503.602597\" y=\"167.3375\" style=\"fill-opacity: 0; stroke: #4c4c4c\"/>\n     <use xlink:href=\"#m8b1d8f0ebd\" x=\"503.602597\" y=\"167.3375\" style=\"fill-opacity: 0; stroke: #4c4c4c\"/>\n     <use xlink:href=\"#m8b1d8f0ebd\" x=\"503.602597\" y=\"167.3375\" style=\"fill-opacity: 0; stroke: #4c4c4c\"/>\n     <use xlink:href=\"#m8b1d8f0ebd\" x=\"503.602597\" y=\"167.3375\" style=\"fill-opacity: 0; stroke: #4c4c4c\"/>\n     <use xlink:href=\"#m8b1d8f0ebd\" x=\"503.602597\" y=\"167.3375\" style=\"fill-opacity: 0; stroke: #4c4c4c\"/>\n     <use xlink:href=\"#m8b1d8f0ebd\" x=\"539.836364\" y=\"167.3375\" style=\"fill-opacity: 0; stroke: #4c4c4c\"/>\n     <use xlink:href=\"#m8b1d8f0ebd\" x=\"539.836364\" y=\"167.3375\" style=\"fill-opacity: 0; stroke: #4c4c4c\"/>\n     <use xlink:href=\"#m8b1d8f0ebd\" x=\"539.836364\" y=\"167.3375\" style=\"fill-opacity: 0; stroke: #4c4c4c\"/>\n     <use xlink:href=\"#m8b1d8f0ebd\" x=\"503.602597\" y=\"167.3375\" style=\"fill-opacity: 0; stroke: #4c4c4c\"/>\n     <use xlink:href=\"#m8b1d8f0ebd\" x=\"503.602597\" y=\"167.3375\" style=\"fill-opacity: 0; stroke: #4c4c4c\"/>\n     <use xlink:href=\"#m8b1d8f0ebd\" x=\"539.836364\" y=\"167.3375\" style=\"fill-opacity: 0; stroke: #4c4c4c\"/>\n     <use xlink:href=\"#m8b1d8f0ebd\" x=\"539.836364\" y=\"167.3375\" style=\"fill-opacity: 0; stroke: #4c4c4c\"/>\n     <use xlink:href=\"#m8b1d8f0ebd\" x=\"539.836364\" y=\"167.3375\" style=\"fill-opacity: 0; stroke: #4c4c4c\"/>\n     <use xlink:href=\"#m8b1d8f0ebd\" x=\"539.836364\" y=\"167.3375\" style=\"fill-opacity: 0; stroke: #4c4c4c\"/>\n     <use xlink:href=\"#m8b1d8f0ebd\" x=\"539.836364\" y=\"167.3375\" style=\"fill-opacity: 0; stroke: #4c4c4c\"/>\n     <use xlink:href=\"#m8b1d8f0ebd\" x=\"503.602597\" y=\"167.3375\" style=\"fill-opacity: 0; stroke: #4c4c4c\"/>\n     <use xlink:href=\"#m8b1d8f0ebd\" x=\"503.602597\" y=\"167.3375\" style=\"fill-opacity: 0; stroke: #4c4c4c\"/>\n     <use xlink:href=\"#m8b1d8f0ebd\" x=\"503.602597\" y=\"167.3375\" style=\"fill-opacity: 0; stroke: #4c4c4c\"/>\n     <use xlink:href=\"#m8b1d8f0ebd\" x=\"503.602597\" y=\"167.3375\" style=\"fill-opacity: 0; stroke: #4c4c4c\"/>\n     <use xlink:href=\"#m8b1d8f0ebd\" x=\"503.602597\" y=\"167.3375\" style=\"fill-opacity: 0; stroke: #4c4c4c\"/>\n     <use xlink:href=\"#m8b1d8f0ebd\" x=\"503.602597\" y=\"167.3375\" style=\"fill-opacity: 0; stroke: #4c4c4c\"/>\n     <use xlink:href=\"#m8b1d8f0ebd\" x=\"539.836364\" y=\"167.3375\" style=\"fill-opacity: 0; stroke: #4c4c4c\"/>\n     <use xlink:href=\"#m8b1d8f0ebd\" x=\"539.836364\" y=\"167.3375\" style=\"fill-opacity: 0; stroke: #4c4c4c\"/>\n     <use xlink:href=\"#m8b1d8f0ebd\" x=\"539.836364\" y=\"167.3375\" style=\"fill-opacity: 0; stroke: #4c4c4c\"/>\n     <use xlink:href=\"#m8b1d8f0ebd\" x=\"539.836364\" y=\"167.3375\" style=\"fill-opacity: 0; stroke: #4c4c4c\"/>\n     <use xlink:href=\"#m8b1d8f0ebd\" x=\"503.602597\" y=\"167.3375\" style=\"fill-opacity: 0; stroke: #4c4c4c\"/>\n     <use xlink:href=\"#m8b1d8f0ebd\" x=\"503.602597\" y=\"167.3375\" style=\"fill-opacity: 0; stroke: #4c4c4c\"/>\n     <use xlink:href=\"#m8b1d8f0ebd\" x=\"503.602597\" y=\"167.3375\" style=\"fill-opacity: 0; stroke: #4c4c4c\"/>\n     <use xlink:href=\"#m8b1d8f0ebd\" x=\"539.836364\" y=\"167.3375\" style=\"fill-opacity: 0; stroke: #4c4c4c\"/>\n     <use xlink:href=\"#m8b1d8f0ebd\" x=\"539.836364\" y=\"167.3375\" style=\"fill-opacity: 0; stroke: #4c4c4c\"/>\n     <use xlink:href=\"#m8b1d8f0ebd\" x=\"539.836364\" y=\"167.3375\" style=\"fill-opacity: 0; stroke: #4c4c4c\"/>\n     <use xlink:href=\"#m8b1d8f0ebd\" x=\"503.602597\" y=\"167.3375\" style=\"fill-opacity: 0; stroke: #4c4c4c\"/>\n     <use xlink:href=\"#m8b1d8f0ebd\" x=\"503.602597\" y=\"167.3375\" style=\"fill-opacity: 0; stroke: #4c4c4c\"/>\n     <use xlink:href=\"#m8b1d8f0ebd\" x=\"503.602597\" y=\"167.3375\" style=\"fill-opacity: 0; stroke: #4c4c4c\"/>\n     <use xlink:href=\"#m8b1d8f0ebd\" x=\"539.836364\" y=\"167.3375\" style=\"fill-opacity: 0; stroke: #4c4c4c\"/>\n     <use xlink:href=\"#m8b1d8f0ebd\" x=\"539.836364\" y=\"167.3375\" style=\"fill-opacity: 0; stroke: #4c4c4c\"/>\n     <use xlink:href=\"#m8b1d8f0ebd\" x=\"503.602597\" y=\"167.3375\" style=\"fill-opacity: 0; stroke: #4c4c4c\"/>\n     <use xlink:href=\"#m8b1d8f0ebd\" x=\"503.602597\" y=\"167.3375\" style=\"fill-opacity: 0; stroke: #4c4c4c\"/>\n     <use xlink:href=\"#m8b1d8f0ebd\" x=\"503.602597\" y=\"167.3375\" style=\"fill-opacity: 0; stroke: #4c4c4c\"/>\n     <use xlink:href=\"#m8b1d8f0ebd\" x=\"539.836364\" y=\"167.3375\" style=\"fill-opacity: 0; stroke: #4c4c4c\"/>\n     <use xlink:href=\"#m8b1d8f0ebd\" x=\"539.836364\" y=\"167.3375\" style=\"fill-opacity: 0; stroke: #4c4c4c\"/>\n     <use xlink:href=\"#m8b1d8f0ebd\" x=\"539.836364\" y=\"167.3375\" style=\"fill-opacity: 0; stroke: #4c4c4c\"/>\n     <use xlink:href=\"#m8b1d8f0ebd\" x=\"539.836364\" y=\"167.3375\" style=\"fill-opacity: 0; stroke: #4c4c4c\"/>\n     <use xlink:href=\"#m8b1d8f0ebd\" x=\"503.602597\" y=\"167.3375\" style=\"fill-opacity: 0; stroke: #4c4c4c\"/>\n     <use xlink:href=\"#m8b1d8f0ebd\" x=\"503.602597\" y=\"167.3375\" style=\"fill-opacity: 0; stroke: #4c4c4c\"/>\n     <use xlink:href=\"#m8b1d8f0ebd\" x=\"503.602597\" y=\"167.3375\" style=\"fill-opacity: 0; stroke: #4c4c4c\"/>\n     <use xlink:href=\"#m8b1d8f0ebd\" x=\"503.602597\" y=\"167.3375\" style=\"fill-opacity: 0; stroke: #4c4c4c\"/>\n     <use xlink:href=\"#m8b1d8f0ebd\" x=\"503.602597\" y=\"167.3375\" style=\"fill-opacity: 0; stroke: #4c4c4c\"/>\n     <use xlink:href=\"#m8b1d8f0ebd\" x=\"503.602597\" y=\"167.3375\" style=\"fill-opacity: 0; stroke: #4c4c4c\"/>\n     <use xlink:href=\"#m8b1d8f0ebd\" x=\"503.602597\" y=\"167.3375\" style=\"fill-opacity: 0; stroke: #4c4c4c\"/>\n     <use xlink:href=\"#m8b1d8f0ebd\" x=\"503.602597\" y=\"167.3375\" style=\"fill-opacity: 0; stroke: #4c4c4c\"/>\n     <use xlink:href=\"#m8b1d8f0ebd\" x=\"503.602597\" y=\"167.3375\" style=\"fill-opacity: 0; stroke: #4c4c4c\"/>\n     <use xlink:href=\"#m8b1d8f0ebd\" x=\"539.836364\" y=\"167.3375\" style=\"fill-opacity: 0; stroke: #4c4c4c\"/>\n     <use xlink:href=\"#m8b1d8f0ebd\" x=\"503.602597\" y=\"167.3375\" style=\"fill-opacity: 0; stroke: #4c4c4c\"/>\n     <use xlink:href=\"#m8b1d8f0ebd\" x=\"539.836364\" y=\"167.3375\" style=\"fill-opacity: 0; stroke: #4c4c4c\"/>\n     <use xlink:href=\"#m8b1d8f0ebd\" x=\"539.836364\" y=\"167.3375\" style=\"fill-opacity: 0; stroke: #4c4c4c\"/>\n     <use xlink:href=\"#m8b1d8f0ebd\" x=\"539.836364\" y=\"167.3375\" style=\"fill-opacity: 0; stroke: #4c4c4c\"/>\n     <use xlink:href=\"#m8b1d8f0ebd\" x=\"539.836364\" y=\"167.3375\" style=\"fill-opacity: 0; stroke: #4c4c4c\"/>\n     <use xlink:href=\"#m8b1d8f0ebd\" x=\"539.836364\" y=\"167.3375\" style=\"fill-opacity: 0; stroke: #4c4c4c\"/>\n     <use xlink:href=\"#m8b1d8f0ebd\" x=\"539.836364\" y=\"167.3375\" style=\"fill-opacity: 0; stroke: #4c4c4c\"/>\n     <use xlink:href=\"#m8b1d8f0ebd\" x=\"503.602597\" y=\"167.3375\" style=\"fill-opacity: 0; stroke: #4c4c4c\"/>\n     <use xlink:href=\"#m8b1d8f0ebd\" x=\"503.602597\" y=\"167.3375\" style=\"fill-opacity: 0; stroke: #4c4c4c\"/>\n     <use xlink:href=\"#m8b1d8f0ebd\" x=\"503.602597\" y=\"167.3375\" style=\"fill-opacity: 0; stroke: #4c4c4c\"/>\n     <use xlink:href=\"#m8b1d8f0ebd\" x=\"503.602597\" y=\"167.3375\" style=\"fill-opacity: 0; stroke: #4c4c4c\"/>\n     <use xlink:href=\"#m8b1d8f0ebd\" x=\"503.602597\" y=\"167.3375\" style=\"fill-opacity: 0; stroke: #4c4c4c\"/>\n     <use xlink:href=\"#m8b1d8f0ebd\" x=\"503.602597\" y=\"167.3375\" style=\"fill-opacity: 0; stroke: #4c4c4c\"/>\n     <use xlink:href=\"#m8b1d8f0ebd\" x=\"503.602597\" y=\"167.3375\" style=\"fill-opacity: 0; stroke: #4c4c4c\"/>\n     <use xlink:href=\"#m8b1d8f0ebd\" x=\"503.602597\" y=\"167.3375\" style=\"fill-opacity: 0; stroke: #4c4c4c\"/>\n     <use xlink:href=\"#m8b1d8f0ebd\" x=\"503.602597\" y=\"167.3375\" style=\"fill-opacity: 0; stroke: #4c4c4c\"/>\n     <use xlink:href=\"#m8b1d8f0ebd\" x=\"503.602597\" y=\"167.3375\" style=\"fill-opacity: 0; stroke: #4c4c4c\"/>\n     <use xlink:href=\"#m8b1d8f0ebd\" x=\"539.836364\" y=\"167.3375\" style=\"fill-opacity: 0; stroke: #4c4c4c\"/>\n     <use xlink:href=\"#m8b1d8f0ebd\" x=\"539.836364\" y=\"167.3375\" style=\"fill-opacity: 0; stroke: #4c4c4c\"/>\n     <use xlink:href=\"#m8b1d8f0ebd\" x=\"539.836364\" y=\"167.3375\" style=\"fill-opacity: 0; stroke: #4c4c4c\"/>\n     <use xlink:href=\"#m8b1d8f0ebd\" x=\"539.836364\" y=\"167.3375\" style=\"fill-opacity: 0; stroke: #4c4c4c\"/>\n     <use xlink:href=\"#m8b1d8f0ebd\" x=\"539.836364\" y=\"167.3375\" style=\"fill-opacity: 0; stroke: #4c4c4c\"/>\n     <use xlink:href=\"#m8b1d8f0ebd\" x=\"503.602597\" y=\"167.3375\" style=\"fill-opacity: 0; stroke: #4c4c4c\"/>\n     <use xlink:href=\"#m8b1d8f0ebd\" x=\"503.602597\" y=\"167.3375\" style=\"fill-opacity: 0; stroke: #4c4c4c\"/>\n     <use xlink:href=\"#m8b1d8f0ebd\" x=\"503.602597\" y=\"167.3375\" style=\"fill-opacity: 0; stroke: #4c4c4c\"/>\n     <use xlink:href=\"#m8b1d8f0ebd\" x=\"539.836364\" y=\"167.3375\" style=\"fill-opacity: 0; stroke: #4c4c4c\"/>\n     <use xlink:href=\"#m8b1d8f0ebd\" x=\"539.836364\" y=\"167.3375\" style=\"fill-opacity: 0; stroke: #4c4c4c\"/>\n     <use xlink:href=\"#m8b1d8f0ebd\" x=\"503.602597\" y=\"167.3375\" style=\"fill-opacity: 0; stroke: #4c4c4c\"/>\n     <use xlink:href=\"#m8b1d8f0ebd\" x=\"503.602597\" y=\"167.3375\" style=\"fill-opacity: 0; stroke: #4c4c4c\"/>\n     <use xlink:href=\"#m8b1d8f0ebd\" x=\"503.602597\" y=\"167.3375\" style=\"fill-opacity: 0; stroke: #4c4c4c\"/>\n     <use xlink:href=\"#m8b1d8f0ebd\" x=\"503.602597\" y=\"167.3375\" style=\"fill-opacity: 0; stroke: #4c4c4c\"/>\n     <use xlink:href=\"#m8b1d8f0ebd\" x=\"503.602597\" y=\"167.3375\" style=\"fill-opacity: 0; stroke: #4c4c4c\"/>\n     <use xlink:href=\"#m8b1d8f0ebd\" x=\"503.602597\" y=\"167.3375\" style=\"fill-opacity: 0; stroke: #4c4c4c\"/>\n     <use xlink:href=\"#m8b1d8f0ebd\" x=\"539.836364\" y=\"167.3375\" style=\"fill-opacity: 0; stroke: #4c4c4c\"/>\n     <use xlink:href=\"#m8b1d8f0ebd\" x=\"539.836364\" y=\"167.3375\" style=\"fill-opacity: 0; stroke: #4c4c4c\"/>\n     <use xlink:href=\"#m8b1d8f0ebd\" x=\"539.836364\" y=\"167.3375\" style=\"fill-opacity: 0; stroke: #4c4c4c\"/>\n     <use xlink:href=\"#m8b1d8f0ebd\" x=\"503.602597\" y=\"167.3375\" style=\"fill-opacity: 0; stroke: #4c4c4c\"/>\n     <use xlink:href=\"#m8b1d8f0ebd\" x=\"503.602597\" y=\"167.3375\" style=\"fill-opacity: 0; stroke: #4c4c4c\"/>\n     <use xlink:href=\"#m8b1d8f0ebd\" x=\"503.602597\" y=\"167.3375\" style=\"fill-opacity: 0; stroke: #4c4c4c\"/>\n     <use xlink:href=\"#m8b1d8f0ebd\" x=\"503.602597\" y=\"167.3375\" style=\"fill-opacity: 0; stroke: #4c4c4c\"/>\n     <use xlink:href=\"#m8b1d8f0ebd\" x=\"503.602597\" y=\"167.3375\" style=\"fill-opacity: 0; stroke: #4c4c4c\"/>\n     <use xlink:href=\"#m8b1d8f0ebd\" x=\"503.602597\" y=\"167.3375\" style=\"fill-opacity: 0; stroke: #4c4c4c\"/>\n     <use xlink:href=\"#m8b1d8f0ebd\" x=\"503.602597\" y=\"167.3375\" style=\"fill-opacity: 0; stroke: #4c4c4c\"/>\n     <use xlink:href=\"#m8b1d8f0ebd\" x=\"539.836364\" y=\"167.3375\" style=\"fill-opacity: 0; stroke: #4c4c4c\"/>\n     <use xlink:href=\"#m8b1d8f0ebd\" x=\"539.836364\" y=\"167.3375\" style=\"fill-opacity: 0; stroke: #4c4c4c\"/>\n     <use xlink:href=\"#m8b1d8f0ebd\" x=\"503.602597\" y=\"167.3375\" style=\"fill-opacity: 0; stroke: #4c4c4c\"/>\n     <use xlink:href=\"#m8b1d8f0ebd\" x=\"503.602597\" y=\"167.3375\" style=\"fill-opacity: 0; stroke: #4c4c4c\"/>\n     <use xlink:href=\"#m8b1d8f0ebd\" x=\"503.602597\" y=\"167.3375\" style=\"fill-opacity: 0; stroke: #4c4c4c\"/>\n     <use xlink:href=\"#m8b1d8f0ebd\" x=\"539.836364\" y=\"167.3375\" style=\"fill-opacity: 0; stroke: #4c4c4c\"/>\n     <use xlink:href=\"#m8b1d8f0ebd\" x=\"539.836364\" y=\"167.3375\" style=\"fill-opacity: 0; stroke: #4c4c4c\"/>\n     <use xlink:href=\"#m8b1d8f0ebd\" x=\"539.836364\" y=\"167.3375\" style=\"fill-opacity: 0; stroke: #4c4c4c\"/>\n     <use xlink:href=\"#m8b1d8f0ebd\" x=\"539.836364\" y=\"167.3375\" style=\"fill-opacity: 0; stroke: #4c4c4c\"/>\n     <use xlink:href=\"#m8b1d8f0ebd\" x=\"539.836364\" y=\"167.3375\" style=\"fill-opacity: 0; stroke: #4c4c4c\"/>\n     <use xlink:href=\"#m8b1d8f0ebd\" x=\"539.836364\" y=\"167.3375\" style=\"fill-opacity: 0; stroke: #4c4c4c\"/>\n     <use xlink:href=\"#m8b1d8f0ebd\" x=\"539.836364\" y=\"167.3375\" style=\"fill-opacity: 0; stroke: #4c4c4c\"/>\n     <use xlink:href=\"#m8b1d8f0ebd\" x=\"539.836364\" y=\"167.3375\" style=\"fill-opacity: 0; stroke: #4c4c4c\"/>\n     <use xlink:href=\"#m8b1d8f0ebd\" x=\"539.836364\" y=\"167.3375\" style=\"fill-opacity: 0; stroke: #4c4c4c\"/>\n     <use xlink:href=\"#m8b1d8f0ebd\" x=\"539.836364\" y=\"167.3375\" style=\"fill-opacity: 0; stroke: #4c4c4c\"/>\n     <use xlink:href=\"#m8b1d8f0ebd\" x=\"539.836364\" y=\"167.3375\" style=\"fill-opacity: 0; stroke: #4c4c4c\"/>\n     <use xlink:href=\"#m8b1d8f0ebd\" x=\"539.836364\" y=\"167.3375\" style=\"fill-opacity: 0; stroke: #4c4c4c\"/>\n     <use xlink:href=\"#m8b1d8f0ebd\" x=\"503.602597\" y=\"167.3375\" style=\"fill-opacity: 0; stroke: #4c4c4c\"/>\n     <use xlink:href=\"#m8b1d8f0ebd\" x=\"503.602597\" y=\"167.3375\" style=\"fill-opacity: 0; stroke: #4c4c4c\"/>\n     <use xlink:href=\"#m8b1d8f0ebd\" x=\"503.602597\" y=\"167.3375\" style=\"fill-opacity: 0; stroke: #4c4c4c\"/>\n     <use xlink:href=\"#m8b1d8f0ebd\" x=\"539.836364\" y=\"167.3375\" style=\"fill-opacity: 0; stroke: #4c4c4c\"/>\n     <use xlink:href=\"#m8b1d8f0ebd\" x=\"539.836364\" y=\"167.3375\" style=\"fill-opacity: 0; stroke: #4c4c4c\"/>\n     <use xlink:href=\"#m8b1d8f0ebd\" x=\"503.602597\" y=\"167.3375\" style=\"fill-opacity: 0; stroke: #4c4c4c\"/>\n     <use xlink:href=\"#m8b1d8f0ebd\" x=\"503.602597\" y=\"167.3375\" style=\"fill-opacity: 0; stroke: #4c4c4c\"/>\n     <use xlink:href=\"#m8b1d8f0ebd\" x=\"503.602597\" y=\"167.3375\" style=\"fill-opacity: 0; stroke: #4c4c4c\"/>\n     <use xlink:href=\"#m8b1d8f0ebd\" x=\"539.836364\" y=\"167.3375\" style=\"fill-opacity: 0; stroke: #4c4c4c\"/>\n     <use xlink:href=\"#m8b1d8f0ebd\" x=\"539.836364\" y=\"167.3375\" style=\"fill-opacity: 0; stroke: #4c4c4c\"/>\n     <use xlink:href=\"#m8b1d8f0ebd\" x=\"503.602597\" y=\"167.3375\" style=\"fill-opacity: 0; stroke: #4c4c4c\"/>\n     <use xlink:href=\"#m8b1d8f0ebd\" x=\"503.602597\" y=\"167.3375\" style=\"fill-opacity: 0; stroke: #4c4c4c\"/>\n     <use xlink:href=\"#m8b1d8f0ebd\" x=\"503.602597\" y=\"167.3375\" style=\"fill-opacity: 0; stroke: #4c4c4c\"/>\n     <use xlink:href=\"#m8b1d8f0ebd\" x=\"539.836364\" y=\"167.3375\" style=\"fill-opacity: 0; stroke: #4c4c4c\"/>\n     <use xlink:href=\"#m8b1d8f0ebd\" x=\"503.602597\" y=\"167.3375\" style=\"fill-opacity: 0; stroke: #4c4c4c\"/>\n     <use xlink:href=\"#m8b1d8f0ebd\" x=\"503.602597\" y=\"167.3375\" style=\"fill-opacity: 0; stroke: #4c4c4c\"/>\n     <use xlink:href=\"#m8b1d8f0ebd\" x=\"539.836364\" y=\"167.3375\" style=\"fill-opacity: 0; stroke: #4c4c4c\"/>\n     <use xlink:href=\"#m8b1d8f0ebd\" x=\"539.836364\" y=\"167.3375\" style=\"fill-opacity: 0; stroke: #4c4c4c\"/>\n     <use xlink:href=\"#m8b1d8f0ebd\" x=\"539.836364\" y=\"167.3375\" style=\"fill-opacity: 0; stroke: #4c4c4c\"/>\n     <use xlink:href=\"#m8b1d8f0ebd\" x=\"539.836364\" y=\"167.3375\" style=\"fill-opacity: 0; stroke: #4c4c4c\"/>\n     <use xlink:href=\"#m8b1d8f0ebd\" x=\"539.836364\" y=\"167.3375\" style=\"fill-opacity: 0; stroke: #4c4c4c\"/>\n     <use xlink:href=\"#m8b1d8f0ebd\" x=\"503.602597\" y=\"167.3375\" style=\"fill-opacity: 0; stroke: #4c4c4c\"/>\n     <use xlink:href=\"#m8b1d8f0ebd\" x=\"503.602597\" y=\"167.3375\" style=\"fill-opacity: 0; stroke: #4c4c4c\"/>\n     <use xlink:href=\"#m8b1d8f0ebd\" x=\"503.602597\" y=\"167.3375\" style=\"fill-opacity: 0; stroke: #4c4c4c\"/>\n     <use xlink:href=\"#m8b1d8f0ebd\" x=\"539.836364\" y=\"167.3375\" style=\"fill-opacity: 0; stroke: #4c4c4c\"/>\n     <use xlink:href=\"#m8b1d8f0ebd\" x=\"539.836364\" y=\"167.3375\" style=\"fill-opacity: 0; stroke: #4c4c4c\"/>\n     <use xlink:href=\"#m8b1d8f0ebd\" x=\"539.836364\" y=\"167.3375\" style=\"fill-opacity: 0; stroke: #4c4c4c\"/>\n     <use xlink:href=\"#m8b1d8f0ebd\" x=\"539.836364\" y=\"167.3375\" style=\"fill-opacity: 0; stroke: #4c4c4c\"/>\n     <use xlink:href=\"#m8b1d8f0ebd\" x=\"503.602597\" y=\"167.3375\" style=\"fill-opacity: 0; stroke: #4c4c4c\"/>\n     <use xlink:href=\"#m8b1d8f0ebd\" x=\"503.602597\" y=\"167.3375\" style=\"fill-opacity: 0; stroke: #4c4c4c\"/>\n     <use xlink:href=\"#m8b1d8f0ebd\" x=\"503.602597\" y=\"167.3375\" style=\"fill-opacity: 0; stroke: #4c4c4c\"/>\n     <use xlink:href=\"#m8b1d8f0ebd\" x=\"503.602597\" y=\"167.3375\" style=\"fill-opacity: 0; stroke: #4c4c4c\"/>\n     <use xlink:href=\"#m8b1d8f0ebd\" x=\"503.602597\" y=\"167.3375\" style=\"fill-opacity: 0; stroke: #4c4c4c\"/>\n     <use xlink:href=\"#m8b1d8f0ebd\" x=\"503.602597\" y=\"167.3375\" style=\"fill-opacity: 0; stroke: #4c4c4c\"/>\n     <use xlink:href=\"#m8b1d8f0ebd\" x=\"503.602597\" y=\"167.3375\" style=\"fill-opacity: 0; stroke: #4c4c4c\"/>\n     <use xlink:href=\"#m8b1d8f0ebd\" x=\"503.602597\" y=\"167.3375\" style=\"fill-opacity: 0; stroke: #4c4c4c\"/>\n     <use xlink:href=\"#m8b1d8f0ebd\" x=\"503.602597\" y=\"167.3375\" style=\"fill-opacity: 0; stroke: #4c4c4c\"/>\n     <use xlink:href=\"#m8b1d8f0ebd\" x=\"503.602597\" y=\"167.3375\" style=\"fill-opacity: 0; stroke: #4c4c4c\"/>\n     <use xlink:href=\"#m8b1d8f0ebd\" x=\"503.602597\" y=\"167.3375\" style=\"fill-opacity: 0; stroke: #4c4c4c\"/>\n     <use xlink:href=\"#m8b1d8f0ebd\" x=\"503.602597\" y=\"167.3375\" style=\"fill-opacity: 0; stroke: #4c4c4c\"/>\n     <use xlink:href=\"#m8b1d8f0ebd\" x=\"503.602597\" y=\"167.3375\" style=\"fill-opacity: 0; stroke: #4c4c4c\"/>\n     <use xlink:href=\"#m8b1d8f0ebd\" x=\"503.602597\" y=\"167.3375\" style=\"fill-opacity: 0; stroke: #4c4c4c\"/>\n     <use xlink:href=\"#m8b1d8f0ebd\" x=\"503.602597\" y=\"167.3375\" style=\"fill-opacity: 0; stroke: #4c4c4c\"/>\n     <use xlink:href=\"#m8b1d8f0ebd\" x=\"503.602597\" y=\"167.3375\" style=\"fill-opacity: 0; stroke: #4c4c4c\"/>\n     <use xlink:href=\"#m8b1d8f0ebd\" x=\"503.602597\" y=\"167.3375\" style=\"fill-opacity: 0; stroke: #4c4c4c\"/>\n     <use xlink:href=\"#m8b1d8f0ebd\" x=\"503.602597\" y=\"167.3375\" style=\"fill-opacity: 0; stroke: #4c4c4c\"/>\n     <use xlink:href=\"#m8b1d8f0ebd\" x=\"503.602597\" y=\"167.3375\" style=\"fill-opacity: 0; stroke: #4c4c4c\"/>\n     <use xlink:href=\"#m8b1d8f0ebd\" x=\"503.602597\" y=\"167.3375\" style=\"fill-opacity: 0; stroke: #4c4c4c\"/>\n     <use xlink:href=\"#m8b1d8f0ebd\" x=\"503.602597\" y=\"167.3375\" style=\"fill-opacity: 0; stroke: #4c4c4c\"/>\n     <use xlink:href=\"#m8b1d8f0ebd\" x=\"503.602597\" y=\"167.3375\" style=\"fill-opacity: 0; stroke: #4c4c4c\"/>\n     <use xlink:href=\"#m8b1d8f0ebd\" x=\"503.602597\" y=\"167.3375\" style=\"fill-opacity: 0; stroke: #4c4c4c\"/>\n     <use xlink:href=\"#m8b1d8f0ebd\" x=\"503.602597\" y=\"167.3375\" style=\"fill-opacity: 0; stroke: #4c4c4c\"/>\n     <use xlink:href=\"#m8b1d8f0ebd\" x=\"503.602597\" y=\"167.3375\" style=\"fill-opacity: 0; stroke: #4c4c4c\"/>\n     <use xlink:href=\"#m8b1d8f0ebd\" x=\"503.602597\" y=\"167.3375\" style=\"fill-opacity: 0; stroke: #4c4c4c\"/>\n     <use xlink:href=\"#m8b1d8f0ebd\" x=\"503.602597\" y=\"167.3375\" style=\"fill-opacity: 0; stroke: #4c4c4c\"/>\n     <use xlink:href=\"#m8b1d8f0ebd\" x=\"503.602597\" y=\"167.3375\" style=\"fill-opacity: 0; stroke: #4c4c4c\"/>\n     <use xlink:href=\"#m8b1d8f0ebd\" x=\"503.602597\" y=\"167.3375\" style=\"fill-opacity: 0; stroke: #4c4c4c\"/>\n     <use xlink:href=\"#m8b1d8f0ebd\" x=\"539.836364\" y=\"167.3375\" style=\"fill-opacity: 0; stroke: #4c4c4c\"/>\n     <use xlink:href=\"#m8b1d8f0ebd\" x=\"539.836364\" y=\"167.3375\" style=\"fill-opacity: 0; stroke: #4c4c4c\"/>\n     <use xlink:href=\"#m8b1d8f0ebd\" x=\"539.836364\" y=\"167.3375\" style=\"fill-opacity: 0; stroke: #4c4c4c\"/>\n     <use xlink:href=\"#m8b1d8f0ebd\" x=\"539.836364\" y=\"167.3375\" style=\"fill-opacity: 0; stroke: #4c4c4c\"/>\n     <use xlink:href=\"#m8b1d8f0ebd\" x=\"503.602597\" y=\"167.3375\" style=\"fill-opacity: 0; stroke: #4c4c4c\"/>\n     <use xlink:href=\"#m8b1d8f0ebd\" x=\"539.836364\" y=\"167.3375\" style=\"fill-opacity: 0; stroke: #4c4c4c\"/>\n     <use xlink:href=\"#m8b1d8f0ebd\" x=\"539.836364\" y=\"167.3375\" style=\"fill-opacity: 0; stroke: #4c4c4c\"/>\n     <use xlink:href=\"#m8b1d8f0ebd\" x=\"539.836364\" y=\"167.3375\" style=\"fill-opacity: 0; stroke: #4c4c4c\"/>\n     <use xlink:href=\"#m8b1d8f0ebd\" x=\"539.836364\" y=\"167.3375\" style=\"fill-opacity: 0; stroke: #4c4c4c\"/>\n     <use xlink:href=\"#m8b1d8f0ebd\" x=\"503.602597\" y=\"167.3375\" style=\"fill-opacity: 0; stroke: #4c4c4c\"/>\n     <use xlink:href=\"#m8b1d8f0ebd\" x=\"503.602597\" y=\"167.3375\" style=\"fill-opacity: 0; stroke: #4c4c4c\"/>\n     <use xlink:href=\"#m8b1d8f0ebd\" x=\"503.602597\" y=\"167.3375\" style=\"fill-opacity: 0; stroke: #4c4c4c\"/>\n     <use xlink:href=\"#m8b1d8f0ebd\" x=\"503.602597\" y=\"167.3375\" style=\"fill-opacity: 0; stroke: #4c4c4c\"/>\n     <use xlink:href=\"#m8b1d8f0ebd\" x=\"503.602597\" y=\"167.3375\" style=\"fill-opacity: 0; stroke: #4c4c4c\"/>\n     <use xlink:href=\"#m8b1d8f0ebd\" x=\"503.602597\" y=\"167.3375\" style=\"fill-opacity: 0; stroke: #4c4c4c\"/>\n     <use xlink:href=\"#m8b1d8f0ebd\" x=\"503.602597\" y=\"167.3375\" style=\"fill-opacity: 0; stroke: #4c4c4c\"/>\n     <use xlink:href=\"#m8b1d8f0ebd\" x=\"539.836364\" y=\"167.3375\" style=\"fill-opacity: 0; stroke: #4c4c4c\"/>\n     <use xlink:href=\"#m8b1d8f0ebd\" x=\"503.602597\" y=\"167.3375\" style=\"fill-opacity: 0; stroke: #4c4c4c\"/>\n     <use xlink:href=\"#m8b1d8f0ebd\" x=\"503.602597\" y=\"167.3375\" style=\"fill-opacity: 0; stroke: #4c4c4c\"/>\n     <use xlink:href=\"#m8b1d8f0ebd\" x=\"503.602597\" y=\"167.3375\" style=\"fill-opacity: 0; stroke: #4c4c4c\"/>\n     <use xlink:href=\"#m8b1d8f0ebd\" x=\"539.836364\" y=\"167.3375\" style=\"fill-opacity: 0; stroke: #4c4c4c\"/>\n     <use xlink:href=\"#m8b1d8f0ebd\" x=\"539.836364\" y=\"167.3375\" style=\"fill-opacity: 0; stroke: #4c4c4c\"/>\n     <use xlink:href=\"#m8b1d8f0ebd\" x=\"503.602597\" y=\"167.3375\" style=\"fill-opacity: 0; stroke: #4c4c4c\"/>\n     <use xlink:href=\"#m8b1d8f0ebd\" x=\"503.602597\" y=\"167.3375\" style=\"fill-opacity: 0; stroke: #4c4c4c\"/>\n     <use xlink:href=\"#m8b1d8f0ebd\" x=\"503.602597\" y=\"167.3375\" style=\"fill-opacity: 0; stroke: #4c4c4c\"/>\n     <use xlink:href=\"#m8b1d8f0ebd\" x=\"503.602597\" y=\"167.3375\" style=\"fill-opacity: 0; stroke: #4c4c4c\"/>\n     <use xlink:href=\"#m8b1d8f0ebd\" x=\"539.836364\" y=\"167.3375\" style=\"fill-opacity: 0; stroke: #4c4c4c\"/>\n     <use xlink:href=\"#m8b1d8f0ebd\" x=\"539.836364\" y=\"167.3375\" style=\"fill-opacity: 0; stroke: #4c4c4c\"/>\n     <use xlink:href=\"#m8b1d8f0ebd\" x=\"539.836364\" y=\"167.3375\" style=\"fill-opacity: 0; stroke: #4c4c4c\"/>\n     <use xlink:href=\"#m8b1d8f0ebd\" x=\"539.836364\" y=\"167.3375\" style=\"fill-opacity: 0; stroke: #4c4c4c\"/>\n     <use xlink:href=\"#m8b1d8f0ebd\" x=\"539.836364\" y=\"167.3375\" style=\"fill-opacity: 0; stroke: #4c4c4c\"/>\n     <use xlink:href=\"#m8b1d8f0ebd\" x=\"503.602597\" y=\"167.3375\" style=\"fill-opacity: 0; stroke: #4c4c4c\"/>\n     <use xlink:href=\"#m8b1d8f0ebd\" x=\"503.602597\" y=\"167.3375\" style=\"fill-opacity: 0; stroke: #4c4c4c\"/>\n     <use xlink:href=\"#m8b1d8f0ebd\" x=\"539.836364\" y=\"167.3375\" style=\"fill-opacity: 0; stroke: #4c4c4c\"/>\n     <use xlink:href=\"#m8b1d8f0ebd\" x=\"539.836364\" y=\"167.3375\" style=\"fill-opacity: 0; stroke: #4c4c4c\"/>\n     <use xlink:href=\"#m8b1d8f0ebd\" x=\"503.602597\" y=\"167.3375\" style=\"fill-opacity: 0; stroke: #4c4c4c\"/>\n     <use xlink:href=\"#m8b1d8f0ebd\" x=\"503.602597\" y=\"167.3375\" style=\"fill-opacity: 0; stroke: #4c4c4c\"/>\n     <use xlink:href=\"#m8b1d8f0ebd\" x=\"503.602597\" y=\"167.3375\" style=\"fill-opacity: 0; stroke: #4c4c4c\"/>\n     <use xlink:href=\"#m8b1d8f0ebd\" x=\"539.836364\" y=\"167.3375\" style=\"fill-opacity: 0; stroke: #4c4c4c\"/>\n     <use xlink:href=\"#m8b1d8f0ebd\" x=\"539.836364\" y=\"167.3375\" style=\"fill-opacity: 0; stroke: #4c4c4c\"/>\n     <use xlink:href=\"#m8b1d8f0ebd\" x=\"539.836364\" y=\"167.3375\" style=\"fill-opacity: 0; stroke: #4c4c4c\"/>\n     <use xlink:href=\"#m8b1d8f0ebd\" x=\"539.836364\" y=\"167.3375\" style=\"fill-opacity: 0; stroke: #4c4c4c\"/>\n     <use xlink:href=\"#m8b1d8f0ebd\" x=\"503.602597\" y=\"167.3375\" style=\"fill-opacity: 0; stroke: #4c4c4c\"/>\n     <use xlink:href=\"#m8b1d8f0ebd\" x=\"503.602597\" y=\"167.3375\" style=\"fill-opacity: 0; stroke: #4c4c4c\"/>\n     <use xlink:href=\"#m8b1d8f0ebd\" x=\"539.836364\" y=\"167.3375\" style=\"fill-opacity: 0; stroke: #4c4c4c\"/>\n     <use xlink:href=\"#m8b1d8f0ebd\" x=\"539.836364\" y=\"167.3375\" style=\"fill-opacity: 0; stroke: #4c4c4c\"/>\n     <use xlink:href=\"#m8b1d8f0ebd\" x=\"539.836364\" y=\"167.3375\" style=\"fill-opacity: 0; stroke: #4c4c4c\"/>\n     <use xlink:href=\"#m8b1d8f0ebd\" x=\"539.836364\" y=\"167.3375\" style=\"fill-opacity: 0; stroke: #4c4c4c\"/>\n     <use xlink:href=\"#m8b1d8f0ebd\" x=\"503.602597\" y=\"167.3375\" style=\"fill-opacity: 0; stroke: #4c4c4c\"/>\n     <use xlink:href=\"#m8b1d8f0ebd\" x=\"503.602597\" y=\"167.3375\" style=\"fill-opacity: 0; stroke: #4c4c4c\"/>\n     <use xlink:href=\"#m8b1d8f0ebd\" x=\"503.602597\" y=\"167.3375\" style=\"fill-opacity: 0; stroke: #4c4c4c\"/>\n     <use xlink:href=\"#m8b1d8f0ebd\" x=\"503.602597\" y=\"167.3375\" style=\"fill-opacity: 0; stroke: #4c4c4c\"/>\n     <use xlink:href=\"#m8b1d8f0ebd\" x=\"503.602597\" y=\"167.3375\" style=\"fill-opacity: 0; stroke: #4c4c4c\"/>\n    </g>\n   </g>\n   <g id=\"line2d_15\">\n    <path d=\"M 105.031169 56.4575 \nL 105.031169 278.2175 \n\" clip-path=\"url(#pc767710f1a)\" style=\"fill: none; stroke: #4c4c4c\"/>\n   </g>\n   <g id=\"patch_4\">\n    <path d=\"M 7.2 305.9375 \nL 7.2 28.7375 \n\" style=\"fill: none; stroke: #cccccc; stroke-width: 1.25; stroke-linejoin: miter; stroke-linecap: square\"/>\n   </g>\n   <g id=\"patch_5\">\n    <path d=\"M 565.2 305.9375 \nL 565.2 28.7375 \n\" style=\"fill: none; stroke: #cccccc; stroke-width: 1.25; stroke-linejoin: miter; stroke-linecap: square\"/>\n   </g>\n   <g id=\"patch_6\">\n    <path d=\"M 7.2 305.9375 \nL 565.2 305.9375 \n\" style=\"fill: none; stroke: #cccccc; stroke-width: 1.25; stroke-linejoin: miter; stroke-linecap: square\"/>\n   </g>\n   <g id=\"patch_7\">\n    <path d=\"M 7.2 28.7375 \nL 565.2 28.7375 \n\" style=\"fill: none; stroke: #cccccc; stroke-width: 1.25; stroke-linejoin: miter; stroke-linecap: square\"/>\n   </g>\n   <g id=\"text_10\">\n    <!-- Боксплот возраста событий по дням -->\n    <g style=\"fill: #262626\" transform=\"translate(92.66875 22.7375) scale(0.2 -0.2)\">\n     <defs>\n      <path id=\"DejaVuSans-411\" d=\"M 3272 1372 \nQ 3272 1806 3026 2017 \nQ 2781 2228 2272 2228 \nL 1259 2228 \nL 1259 519 \nL 2272 519 \nQ 2781 519 3026 730 \nQ 3272 941 3272 1372 \nz\nM 3609 4666 \nL 3609 4147 \nL 1259 4147 \nL 1259 2747 \nL 2303 2747 \nQ 3088 2747 3513 2406 \nQ 3938 2066 3938 1372 \nQ 3938 681 3527 340 \nQ 3116 0 2303 0 \nL 628 0 \nL 628 4666 \nL 3609 4666 \nz\n\" transform=\"scale(0.015625)\"/>\n      <path id=\"DejaVuSans-43a\" d=\"M 581 3500 \nL 1153 3500 \nL 1153 1856 \nL 2775 3500 \nL 3481 3500 \nL 2144 2147 \nL 3653 0 \nL 3009 0 \nL 1769 1766 \nL 1153 1141 \nL 1153 0 \nL 581 0 \nL 581 3500 \nz\n\" transform=\"scale(0.015625)\"/>\n      <path id=\"DejaVuSans-43f\" d=\"M 3603 3500 \nL 3603 0 \nL 3025 0 \nL 3025 3041 \nL 1159 3041 \nL 1159 0 \nL 581 0 \nL 581 3500 \nL 3603 3500 \nz\n\" transform=\"scale(0.015625)\"/>\n      <path id=\"DejaVuSans-43b\" d=\"M 238 0 \nL 238 478 \nQ 806 566 981 959 \nQ 1194 1513 1194 2928 \nL 1194 3500 \nL 3559 3500 \nL 3559 0 \nL 2984 0 \nL 2984 3041 \nL 1769 3041 \nL 1769 2694 \nQ 1769 1344 1494 738 \nQ 1200 91 238 0 \nz\n\" transform=\"scale(0.015625)\"/>\n      <path id=\"DejaVuSans-432\" d=\"M 1156 1613 \nL 1156 459 \nL 1975 459 \nQ 2369 459 2575 607 \nQ 2781 756 2781 1038 \nQ 2781 1319 2575 1466 \nQ 2369 1613 1975 1613 \nL 1156 1613 \nz\nM 1156 3041 \nL 1156 2072 \nL 1913 2072 \nQ 2238 2072 2444 2201 \nQ 2650 2331 2650 2563 \nQ 2650 2794 2444 2917 \nQ 2238 3041 1913 3041 \nL 1156 3041 \nz\nM 581 3500 \nL 1950 3500 \nQ 2566 3500 2897 3275 \nQ 3228 3050 3228 2634 \nQ 3228 2313 3059 2123 \nQ 2891 1934 2559 1888 \nQ 2956 1813 3175 1575 \nQ 3394 1338 3394 981 \nQ 3394 513 3033 256 \nQ 2672 0 2003 0 \nL 581 0 \nL 581 3500 \nz\n\" transform=\"scale(0.015625)\"/>\n      <path id=\"DejaVuSans-437\" d=\"M 2206 1888 \nQ 2594 1813 2809 1584 \nQ 3025 1356 3025 1019 \nQ 3025 478 2622 193 \nQ 2219 -91 1475 -91 \nQ 1225 -91 961 -47 \nQ 697 -3 416 84 \nL 416 619 \nQ 638 503 903 445 \nQ 1169 388 1459 388 \nQ 1931 388 2195 563 \nQ 2459 738 2459 1019 \nQ 2459 1294 2225 1461 \nQ 1991 1628 1563 1628 \nL 1100 1628 \nL 1100 2103 \nL 1584 2103 \nQ 1947 2103 2158 2242 \nQ 2369 2381 2369 2600 \nQ 2369 2800 2151 2944 \nQ 1934 3088 1563 3088 \nQ 1341 3088 1089 3047 \nQ 838 3006 534 2916 \nL 534 3438 \nQ 841 3513 1106 3550 \nQ 1372 3588 1609 3588 \nQ 2222 3588 2576 3342 \nQ 2931 3097 2931 2656 \nQ 2931 2366 2743 2164 \nQ 2556 1963 2206 1888 \nz\n\" transform=\"scale(0.015625)\"/>\n      <path id=\"DejaVuSans-440\" d=\"M 1159 525 \nL 1159 -1331 \nL 581 -1331 \nL 581 3500 \nL 1159 3500 \nL 1159 2969 \nQ 1341 3281 1617 3432 \nQ 1894 3584 2278 3584 \nQ 2916 3584 3314 3078 \nQ 3713 2572 3713 1747 \nQ 3713 922 3314 415 \nQ 2916 -91 2278 -91 \nQ 1894 -91 1617 61 \nQ 1341 213 1159 525 \nz\nM 3116 1747 \nQ 3116 2381 2855 2742 \nQ 2594 3103 2138 3103 \nQ 1681 3103 1420 2742 \nQ 1159 2381 1159 1747 \nQ 1159 1113 1420 752 \nQ 1681 391 2138 391 \nQ 2594 391 2855 752 \nQ 3116 1113 3116 1747 \nz\n\" transform=\"scale(0.015625)\"/>\n      <path id=\"DejaVuSans-434\" d=\"M 1384 459 \nL 3053 459 \nL 3053 3041 \nL 1844 3041 \nL 1844 2603 \nQ 1844 1316 1475 628 \nL 1384 459 \nz\nM 550 459 \nQ 834 584 959 850 \nQ 1266 1509 1266 2838 \nL 1266 3500 \nL 3631 3500 \nL 3631 459 \nL 4091 459 \nL 4091 -884 \nL 3631 -884 \nL 3631 0 \nL 794 0 \nL 794 -884 \nL 334 -884 \nL 334 459 \nL 550 459 \nz\n\" transform=\"scale(0.015625)\"/>\n      <path id=\"DejaVuSans-43d\" d=\"M 581 3500 \nL 1159 3500 \nL 1159 2072 \nL 3025 2072 \nL 3025 3500 \nL 3603 3500 \nL 3603 0 \nL 3025 0 \nL 3025 1613 \nL 1159 1613 \nL 1159 0 \nL 581 0 \nL 581 3500 \nz\n\" transform=\"scale(0.015625)\"/>\n      <path id=\"DejaVuSans-44f\" d=\"M 1181 2491 \nQ 1181 2231 1381 2084 \nQ 1581 1938 1953 1938 \nL 2728 1938 \nL 2728 3041 \nL 1953 3041 \nQ 1581 3041 1381 2897 \nQ 1181 2753 1181 2491 \nz\nM 363 0 \nL 1431 1534 \nQ 1069 1616 828 1830 \nQ 588 2044 588 2491 \nQ 588 2997 923 3248 \nQ 1259 3500 1938 3500 \nL 3306 3500 \nL 3306 0 \nL 2728 0 \nL 2728 1478 \nL 2013 1478 \nL 981 0 \nL 363 0 \nz\n\" transform=\"scale(0.015625)\"/>\n     </defs>\n     <use xlink:href=\"#DejaVuSans-411\"/>\n     <use xlink:href=\"#DejaVuSans-43e\" x=\"68.603516\"/>\n     <use xlink:href=\"#DejaVuSans-43a\" x=\"129.785156\"/>\n     <use xlink:href=\"#DejaVuSans-441\" x=\"190.185547\"/>\n     <use xlink:href=\"#DejaVuSans-43f\" x=\"245.166016\"/>\n     <use xlink:href=\"#DejaVuSans-43b\" x=\"310.546875\"/>\n     <use xlink:href=\"#DejaVuSans-43e\" x=\"374.462891\"/>\n     <use xlink:href=\"#DejaVuSans-442\" x=\"435.644531\"/>\n     <use xlink:href=\"#DejaVuSans-20\" x=\"493.896484\"/>\n     <use xlink:href=\"#DejaVuSans-432\" x=\"525.683594\"/>\n     <use xlink:href=\"#DejaVuSans-43e\" x=\"584.619141\"/>\n     <use xlink:href=\"#DejaVuSans-437\" x=\"645.800781\"/>\n     <use xlink:href=\"#DejaVuSans-440\" x=\"698.974609\"/>\n     <use xlink:href=\"#DejaVuSans-430\" x=\"762.451172\"/>\n     <use xlink:href=\"#DejaVuSans-441\" x=\"823.730469\"/>\n     <use xlink:href=\"#DejaVuSans-442\" x=\"878.710938\"/>\n     <use xlink:href=\"#DejaVuSans-430\" x=\"936.962891\"/>\n     <use xlink:href=\"#DejaVuSans-20\" x=\"998.242188\"/>\n     <use xlink:href=\"#DejaVuSans-441\" x=\"1030.029297\"/>\n     <use xlink:href=\"#DejaVuSans-43e\" x=\"1085.009766\"/>\n     <use xlink:href=\"#DejaVuSans-431\" x=\"1146.191406\"/>\n     <use xlink:href=\"#DejaVuSans-44b\" x=\"1207.861328\"/>\n     <use xlink:href=\"#DejaVuSans-442\" x=\"1286.816406\"/>\n     <use xlink:href=\"#DejaVuSans-438\" x=\"1345.068359\"/>\n     <use xlink:href=\"#DejaVuSans-439\" x=\"1410.058594\"/>\n     <use xlink:href=\"#DejaVuSans-20\" x=\"1475.048828\"/>\n     <use xlink:href=\"#DejaVuSans-43f\" x=\"1506.835938\"/>\n     <use xlink:href=\"#DejaVuSans-43e\" x=\"1572.216797\"/>\n     <use xlink:href=\"#DejaVuSans-20\" x=\"1633.398438\"/>\n     <use xlink:href=\"#DejaVuSans-434\" x=\"1665.185547\"/>\n     <use xlink:href=\"#DejaVuSans-43d\" x=\"1734.326172\"/>\n     <use xlink:href=\"#DejaVuSans-44f\" x=\"1799.707031\"/>\n     <use xlink:href=\"#DejaVuSans-43c\" x=\"1859.863281\"/>\n    </g>\n   </g>\n  </g>\n </g>\n <defs>\n  <clipPath id=\"pc767710f1a\">\n   <rect x=\"7.2\" y=\"28.7375\" width=\"558\" height=\"277.2\"/>\n  </clipPath>\n </defs>\n</svg>\n"
          },
          "metadata": {}
        }
      ],
      "source": [
        "sns.boxplot(x=df['lifetime'], data=df)\n",
        "plt.grid(True)\n",
        "plt.title('Боксплот возраста событий по дням', fontsize=20)\n",
        "plt.xlabel('Лайфтайм событий', fontsize=15)\n",
        "plt.show();"
      ]
    },
    {
      "cell_type": "code",
      "execution_count": 49,
      "metadata": {
        "id": "z9PKBrOQ83p9",
        "outputId": "308305ef-1324-47b3-d54f-3f51af71b8ab",
        "colab": {
          "base_uri": "https://localhost:8080/"
        }
      },
      "outputs": [
        {
          "output_type": "execute_result",
          "data": {
            "text/plain": [
              "10.0"
            ]
          },
          "metadata": {},
          "execution_count": 49
        }
      ],
      "source": [
        "df['lifetime'].quantile(0.95)"
      ]
    },
    {
      "cell_type": "markdown",
      "metadata": {
        "id": "ZcWwCOTG83p9"
      },
      "source": [
        "##### Вывод\n",
        "По распределению и ящику с усами видно, что абсолютное большинство действий совершается до `12` лайфтайма, `95-ый` перцентиль равный 10му лайфтайму говорит о том, что 95% данных меньше или равно лайфтайму равному `10`, поэтому, можем сделать вывод, что можем игнорировать требование ТЗ про `14` лайфтайм. То есть, пользователю не обязательно жить `14` дней, у них есть возможность пройти ее раньше, поэтому, удалять пользователей, которые не прожили `14` дней мы не будем"
      ]
    },
    {
      "cell_type": "markdown",
      "metadata": {
        "id": "O4mpou7r83p9"
      },
      "source": [
        "### 3.6 Оценка влияния маркетингового события и динамики количества событий в группах теста по дням"
      ]
    },
    {
      "cell_type": "code",
      "execution_count": 50,
      "metadata": {
        "id": "VxOcHKjJ83p9"
      },
      "outputs": [],
      "source": [
        "# добавим столбец с чистой датой маретинг события\n",
        "df['event_date'] =pd.to_datetime(df['event_dt']).dt.date"
      ]
    },
    {
      "cell_type": "code",
      "execution_count": 51,
      "metadata": {
        "id": "cNOTl8cc83p9",
        "outputId": "dbd4a075-8057-47a8-8645-c4b0e5fb3f06",
        "colab": {
          "base_uri": "https://localhost:8080/",
          "height": 770
        }
      },
      "outputs": [
        {
          "output_type": "execute_result",
          "data": {
            "text/plain": [
              "    event_date  count_events_a  count_events_b\n",
              "0   2020-12-07  263             315           \n",
              "1   2020-12-08  283             207           \n",
              "2   2020-12-09  331             289           \n",
              "3   2020-12-10  294             218           \n",
              "4   2020-12-11  309             137           \n",
              "5   2020-12-12  319             169           \n",
              "6   2020-12-13  273             122           \n",
              "7   2020-12-14  880             227           \n",
              "8   2020-12-15  915             187           \n",
              "9   2020-12-16  870             322           \n",
              "10  2020-12-17  1046            230           \n",
              "11  2020-12-18  1085            224           \n",
              "12  2020-12-19  1262            235           \n",
              "13  2020-12-20  1298            273           \n",
              "14  2020-12-21  1690            358           \n",
              "15  2020-12-22  1095            145           \n",
              "16  2020-12-23  829             143           \n",
              "17  2020-12-24  708             103           \n",
              "18  2020-12-25  528             70            \n",
              "19  2020-12-26  471             53            \n",
              "20  2020-12-27  451             62            \n",
              "21  2020-12-28  389             58            \n",
              "22  2020-12-29  262             36            "
            ],
            "text/html": [
              "\n",
              "  <div id=\"df-fb478fe4-bbf5-48f6-83ce-b6510a0aeef9\" class=\"colab-df-container\">\n",
              "    <div>\n",
              "<style scoped>\n",
              "    .dataframe tbody tr th:only-of-type {\n",
              "        vertical-align: middle;\n",
              "    }\n",
              "\n",
              "    .dataframe tbody tr th {\n",
              "        vertical-align: top;\n",
              "    }\n",
              "\n",
              "    .dataframe thead th {\n",
              "        text-align: right;\n",
              "    }\n",
              "</style>\n",
              "<table border=\"1\" class=\"dataframe\">\n",
              "  <thead>\n",
              "    <tr style=\"text-align: right;\">\n",
              "      <th></th>\n",
              "      <th>event_date</th>\n",
              "      <th>count_events_a</th>\n",
              "      <th>count_events_b</th>\n",
              "    </tr>\n",
              "  </thead>\n",
              "  <tbody>\n",
              "    <tr>\n",
              "      <th>0</th>\n",
              "      <td>2020-12-07</td>\n",
              "      <td>263</td>\n",
              "      <td>315</td>\n",
              "    </tr>\n",
              "    <tr>\n",
              "      <th>1</th>\n",
              "      <td>2020-12-08</td>\n",
              "      <td>283</td>\n",
              "      <td>207</td>\n",
              "    </tr>\n",
              "    <tr>\n",
              "      <th>2</th>\n",
              "      <td>2020-12-09</td>\n",
              "      <td>331</td>\n",
              "      <td>289</td>\n",
              "    </tr>\n",
              "    <tr>\n",
              "      <th>3</th>\n",
              "      <td>2020-12-10</td>\n",
              "      <td>294</td>\n",
              "      <td>218</td>\n",
              "    </tr>\n",
              "    <tr>\n",
              "      <th>4</th>\n",
              "      <td>2020-12-11</td>\n",
              "      <td>309</td>\n",
              "      <td>137</td>\n",
              "    </tr>\n",
              "    <tr>\n",
              "      <th>5</th>\n",
              "      <td>2020-12-12</td>\n",
              "      <td>319</td>\n",
              "      <td>169</td>\n",
              "    </tr>\n",
              "    <tr>\n",
              "      <th>6</th>\n",
              "      <td>2020-12-13</td>\n",
              "      <td>273</td>\n",
              "      <td>122</td>\n",
              "    </tr>\n",
              "    <tr>\n",
              "      <th>7</th>\n",
              "      <td>2020-12-14</td>\n",
              "      <td>880</td>\n",
              "      <td>227</td>\n",
              "    </tr>\n",
              "    <tr>\n",
              "      <th>8</th>\n",
              "      <td>2020-12-15</td>\n",
              "      <td>915</td>\n",
              "      <td>187</td>\n",
              "    </tr>\n",
              "    <tr>\n",
              "      <th>9</th>\n",
              "      <td>2020-12-16</td>\n",
              "      <td>870</td>\n",
              "      <td>322</td>\n",
              "    </tr>\n",
              "    <tr>\n",
              "      <th>10</th>\n",
              "      <td>2020-12-17</td>\n",
              "      <td>1046</td>\n",
              "      <td>230</td>\n",
              "    </tr>\n",
              "    <tr>\n",
              "      <th>11</th>\n",
              "      <td>2020-12-18</td>\n",
              "      <td>1085</td>\n",
              "      <td>224</td>\n",
              "    </tr>\n",
              "    <tr>\n",
              "      <th>12</th>\n",
              "      <td>2020-12-19</td>\n",
              "      <td>1262</td>\n",
              "      <td>235</td>\n",
              "    </tr>\n",
              "    <tr>\n",
              "      <th>13</th>\n",
              "      <td>2020-12-20</td>\n",
              "      <td>1298</td>\n",
              "      <td>273</td>\n",
              "    </tr>\n",
              "    <tr>\n",
              "      <th>14</th>\n",
              "      <td>2020-12-21</td>\n",
              "      <td>1690</td>\n",
              "      <td>358</td>\n",
              "    </tr>\n",
              "    <tr>\n",
              "      <th>15</th>\n",
              "      <td>2020-12-22</td>\n",
              "      <td>1095</td>\n",
              "      <td>145</td>\n",
              "    </tr>\n",
              "    <tr>\n",
              "      <th>16</th>\n",
              "      <td>2020-12-23</td>\n",
              "      <td>829</td>\n",
              "      <td>143</td>\n",
              "    </tr>\n",
              "    <tr>\n",
              "      <th>17</th>\n",
              "      <td>2020-12-24</td>\n",
              "      <td>708</td>\n",
              "      <td>103</td>\n",
              "    </tr>\n",
              "    <tr>\n",
              "      <th>18</th>\n",
              "      <td>2020-12-25</td>\n",
              "      <td>528</td>\n",
              "      <td>70</td>\n",
              "    </tr>\n",
              "    <tr>\n",
              "      <th>19</th>\n",
              "      <td>2020-12-26</td>\n",
              "      <td>471</td>\n",
              "      <td>53</td>\n",
              "    </tr>\n",
              "    <tr>\n",
              "      <th>20</th>\n",
              "      <td>2020-12-27</td>\n",
              "      <td>451</td>\n",
              "      <td>62</td>\n",
              "    </tr>\n",
              "    <tr>\n",
              "      <th>21</th>\n",
              "      <td>2020-12-28</td>\n",
              "      <td>389</td>\n",
              "      <td>58</td>\n",
              "    </tr>\n",
              "    <tr>\n",
              "      <th>22</th>\n",
              "      <td>2020-12-29</td>\n",
              "      <td>262</td>\n",
              "      <td>36</td>\n",
              "    </tr>\n",
              "  </tbody>\n",
              "</table>\n",
              "</div>\n",
              "    <div class=\"colab-df-buttons\">\n",
              "\n",
              "  <div class=\"colab-df-container\">\n",
              "    <button class=\"colab-df-convert\" onclick=\"convertToInteractive('df-fb478fe4-bbf5-48f6-83ce-b6510a0aeef9')\"\n",
              "            title=\"Convert this dataframe to an interactive table.\"\n",
              "            style=\"display:none;\">\n",
              "\n",
              "  <svg xmlns=\"http://www.w3.org/2000/svg\" height=\"24px\" viewBox=\"0 -960 960 960\">\n",
              "    <path d=\"M120-120v-720h720v720H120Zm60-500h600v-160H180v160Zm220 220h160v-160H400v160Zm0 220h160v-160H400v160ZM180-400h160v-160H180v160Zm440 0h160v-160H620v160ZM180-180h160v-160H180v160Zm440 0h160v-160H620v160Z\"/>\n",
              "  </svg>\n",
              "    </button>\n",
              "\n",
              "  <style>\n",
              "    .colab-df-container {\n",
              "      display:flex;\n",
              "      gap: 12px;\n",
              "    }\n",
              "\n",
              "    .colab-df-convert {\n",
              "      background-color: #E8F0FE;\n",
              "      border: none;\n",
              "      border-radius: 50%;\n",
              "      cursor: pointer;\n",
              "      display: none;\n",
              "      fill: #1967D2;\n",
              "      height: 32px;\n",
              "      padding: 0 0 0 0;\n",
              "      width: 32px;\n",
              "    }\n",
              "\n",
              "    .colab-df-convert:hover {\n",
              "      background-color: #E2EBFA;\n",
              "      box-shadow: 0px 1px 2px rgba(60, 64, 67, 0.3), 0px 1px 3px 1px rgba(60, 64, 67, 0.15);\n",
              "      fill: #174EA6;\n",
              "    }\n",
              "\n",
              "    .colab-df-buttons div {\n",
              "      margin-bottom: 4px;\n",
              "    }\n",
              "\n",
              "    [theme=dark] .colab-df-convert {\n",
              "      background-color: #3B4455;\n",
              "      fill: #D2E3FC;\n",
              "    }\n",
              "\n",
              "    [theme=dark] .colab-df-convert:hover {\n",
              "      background-color: #434B5C;\n",
              "      box-shadow: 0px 1px 3px 1px rgba(0, 0, 0, 0.15);\n",
              "      filter: drop-shadow(0px 1px 2px rgba(0, 0, 0, 0.3));\n",
              "      fill: #FFFFFF;\n",
              "    }\n",
              "  </style>\n",
              "\n",
              "    <script>\n",
              "      const buttonEl =\n",
              "        document.querySelector('#df-fb478fe4-bbf5-48f6-83ce-b6510a0aeef9 button.colab-df-convert');\n",
              "      buttonEl.style.display =\n",
              "        google.colab.kernel.accessAllowed ? 'block' : 'none';\n",
              "\n",
              "      async function convertToInteractive(key) {\n",
              "        const element = document.querySelector('#df-fb478fe4-bbf5-48f6-83ce-b6510a0aeef9');\n",
              "        const dataTable =\n",
              "          await google.colab.kernel.invokeFunction('convertToInteractive',\n",
              "                                                    [key], {});\n",
              "        if (!dataTable) return;\n",
              "\n",
              "        const docLinkHtml = 'Like what you see? Visit the ' +\n",
              "          '<a target=\"_blank\" href=https://colab.research.google.com/notebooks/data_table.ipynb>data table notebook</a>'\n",
              "          + ' to learn more about interactive tables.';\n",
              "        element.innerHTML = '';\n",
              "        dataTable['output_type'] = 'display_data';\n",
              "        await google.colab.output.renderOutput(dataTable, element);\n",
              "        const docLink = document.createElement('div');\n",
              "        docLink.innerHTML = docLinkHtml;\n",
              "        element.appendChild(docLink);\n",
              "      }\n",
              "    </script>\n",
              "  </div>\n",
              "\n",
              "\n",
              "<div id=\"df-9db30352-91f5-45c3-9afc-7019fc74857d\">\n",
              "  <button class=\"colab-df-quickchart\" onclick=\"quickchart('df-9db30352-91f5-45c3-9afc-7019fc74857d')\"\n",
              "            title=\"Suggest charts\"\n",
              "            style=\"display:none;\">\n",
              "\n",
              "<svg xmlns=\"http://www.w3.org/2000/svg\" height=\"24px\"viewBox=\"0 0 24 24\"\n",
              "     width=\"24px\">\n",
              "    <g>\n",
              "        <path d=\"M19 3H5c-1.1 0-2 .9-2 2v14c0 1.1.9 2 2 2h14c1.1 0 2-.9 2-2V5c0-1.1-.9-2-2-2zM9 17H7v-7h2v7zm4 0h-2V7h2v10zm4 0h-2v-4h2v4z\"/>\n",
              "    </g>\n",
              "</svg>\n",
              "  </button>\n",
              "\n",
              "<style>\n",
              "  .colab-df-quickchart {\n",
              "      --bg-color: #E8F0FE;\n",
              "      --fill-color: #1967D2;\n",
              "      --hover-bg-color: #E2EBFA;\n",
              "      --hover-fill-color: #174EA6;\n",
              "      --disabled-fill-color: #AAA;\n",
              "      --disabled-bg-color: #DDD;\n",
              "  }\n",
              "\n",
              "  [theme=dark] .colab-df-quickchart {\n",
              "      --bg-color: #3B4455;\n",
              "      --fill-color: #D2E3FC;\n",
              "      --hover-bg-color: #434B5C;\n",
              "      --hover-fill-color: #FFFFFF;\n",
              "      --disabled-bg-color: #3B4455;\n",
              "      --disabled-fill-color: #666;\n",
              "  }\n",
              "\n",
              "  .colab-df-quickchart {\n",
              "    background-color: var(--bg-color);\n",
              "    border: none;\n",
              "    border-radius: 50%;\n",
              "    cursor: pointer;\n",
              "    display: none;\n",
              "    fill: var(--fill-color);\n",
              "    height: 32px;\n",
              "    padding: 0;\n",
              "    width: 32px;\n",
              "  }\n",
              "\n",
              "  .colab-df-quickchart:hover {\n",
              "    background-color: var(--hover-bg-color);\n",
              "    box-shadow: 0 1px 2px rgba(60, 64, 67, 0.3), 0 1px 3px 1px rgba(60, 64, 67, 0.15);\n",
              "    fill: var(--button-hover-fill-color);\n",
              "  }\n",
              "\n",
              "  .colab-df-quickchart-complete:disabled,\n",
              "  .colab-df-quickchart-complete:disabled:hover {\n",
              "    background-color: var(--disabled-bg-color);\n",
              "    fill: var(--disabled-fill-color);\n",
              "    box-shadow: none;\n",
              "  }\n",
              "\n",
              "  .colab-df-spinner {\n",
              "    border: 2px solid var(--fill-color);\n",
              "    border-color: transparent;\n",
              "    border-bottom-color: var(--fill-color);\n",
              "    animation:\n",
              "      spin 1s steps(1) infinite;\n",
              "  }\n",
              "\n",
              "  @keyframes spin {\n",
              "    0% {\n",
              "      border-color: transparent;\n",
              "      border-bottom-color: var(--fill-color);\n",
              "      border-left-color: var(--fill-color);\n",
              "    }\n",
              "    20% {\n",
              "      border-color: transparent;\n",
              "      border-left-color: var(--fill-color);\n",
              "      border-top-color: var(--fill-color);\n",
              "    }\n",
              "    30% {\n",
              "      border-color: transparent;\n",
              "      border-left-color: var(--fill-color);\n",
              "      border-top-color: var(--fill-color);\n",
              "      border-right-color: var(--fill-color);\n",
              "    }\n",
              "    40% {\n",
              "      border-color: transparent;\n",
              "      border-right-color: var(--fill-color);\n",
              "      border-top-color: var(--fill-color);\n",
              "    }\n",
              "    60% {\n",
              "      border-color: transparent;\n",
              "      border-right-color: var(--fill-color);\n",
              "    }\n",
              "    80% {\n",
              "      border-color: transparent;\n",
              "      border-right-color: var(--fill-color);\n",
              "      border-bottom-color: var(--fill-color);\n",
              "    }\n",
              "    90% {\n",
              "      border-color: transparent;\n",
              "      border-bottom-color: var(--fill-color);\n",
              "    }\n",
              "  }\n",
              "</style>\n",
              "\n",
              "  <script>\n",
              "    async function quickchart(key) {\n",
              "      const quickchartButtonEl =\n",
              "        document.querySelector('#' + key + ' button');\n",
              "      quickchartButtonEl.disabled = true;  // To prevent multiple clicks.\n",
              "      quickchartButtonEl.classList.add('colab-df-spinner');\n",
              "      try {\n",
              "        const charts = await google.colab.kernel.invokeFunction(\n",
              "            'suggestCharts', [key], {});\n",
              "      } catch (error) {\n",
              "        console.error('Error during call to suggestCharts:', error);\n",
              "      }\n",
              "      quickchartButtonEl.classList.remove('colab-df-spinner');\n",
              "      quickchartButtonEl.classList.add('colab-df-quickchart-complete');\n",
              "    }\n",
              "    (() => {\n",
              "      let quickchartButtonEl =\n",
              "        document.querySelector('#df-9db30352-91f5-45c3-9afc-7019fc74857d button');\n",
              "      quickchartButtonEl.style.display =\n",
              "        google.colab.kernel.accessAllowed ? 'block' : 'none';\n",
              "    })();\n",
              "  </script>\n",
              "</div>\n",
              "    </div>\n",
              "  </div>\n"
            ],
            "application/vnd.google.colaboratory.intrinsic+json": {
              "type": "dataframe",
              "variable_name": "temp_table",
              "summary": "{\n  \"name\": \"temp_table\",\n  \"rows\": 23,\n  \"fields\": [\n    {\n      \"column\": \"event_date\",\n      \"properties\": {\n        \"dtype\": \"date\",\n        \"min\": \"2020-12-07\",\n        \"max\": \"2020-12-29\",\n        \"num_unique_values\": 23,\n        \"samples\": [\n          \"2020-12-22\",\n          \"2020-12-16\",\n          \"2020-12-07\"\n        ],\n        \"semantic_type\": \"\",\n        \"description\": \"\"\n      }\n    },\n    {\n      \"column\": \"count_events_a\",\n      \"properties\": {\n        \"dtype\": \"number\",\n        \"std\": 414,\n        \"min\": 262,\n        \"max\": 1690,\n        \"num_unique_values\": 23,\n        \"samples\": [\n          1095,\n          870,\n          263\n        ],\n        \"semantic_type\": \"\",\n        \"description\": \"\"\n      }\n    },\n    {\n      \"column\": \"count_events_b\",\n      \"properties\": {\n        \"dtype\": \"number\",\n        \"std\": 93,\n        \"min\": 36,\n        \"max\": 358,\n        \"num_unique_values\": 23,\n        \"samples\": [\n          145,\n          322,\n          315\n        ],\n        \"semantic_type\": \"\",\n        \"description\": \"\"\n      }\n    }\n  ]\n}"
            }
          },
          "metadata": {},
          "execution_count": 51
        }
      ],
      "source": [
        "# построим таблицу с разбитием на группы\n",
        "temp_table_a = df[(df['group'] == 'A')].groupby(['event_date'])['user_id'].agg('count').reset_index().rename(columns={'user_id': 'count_events_a'})\n",
        "temp_table_b = df[(df['group'] == 'B')].groupby(['event_date'])['user_id'].agg('count').reset_index().rename(columns={'user_id': 'count_events_b'})\n",
        "temp_table = temp_table_a.merge(temp_table_b, on='event_date', how='outer')\n",
        "temp_table"
      ]
    },
    {
      "cell_type": "code",
      "execution_count": 52,
      "metadata": {
        "id": "LKZUvjfb83p9",
        "outputId": "bf407e54-ed6a-4c65-c23c-48015f8e42e5",
        "colab": {
          "base_uri": "https://localhost:8080/",
          "height": 717
        }
      },
      "outputs": [
        {
          "output_type": "display_data",
          "data": {
            "text/html": [
              "<html>\n",
              "<head><meta charset=\"utf-8\" /></head>\n",
              "<body>\n",
              "    <div>            <script src=\"https://cdnjs.cloudflare.com/ajax/libs/mathjax/2.7.5/MathJax.js?config=TeX-AMS-MML_SVG\"></script><script type=\"text/javascript\">if (window.MathJax && window.MathJax.Hub && window.MathJax.Hub.Config) {window.MathJax.Hub.Config({SVG: {font: \"STIX-Web\"}});}</script>                <script type=\"text/javascript\">window.PlotlyConfig = {MathJaxConfig: 'local'};</script>\n",
              "        <script charset=\"utf-8\" src=\"https://cdn.plot.ly/plotly-2.24.1.min.js\"></script>                <div id=\"d659fb83-1898-4257-89f4-0de3c4e7a405\" class=\"plotly-graph-div\" style=\"height:700px; width:950px;\"></div>            <script type=\"text/javascript\">                                    window.PLOTLYENV=window.PLOTLYENV || {};                                    if (document.getElementById(\"d659fb83-1898-4257-89f4-0de3c4e7a405\")) {                    Plotly.newPlot(                        \"d659fb83-1898-4257-89f4-0de3c4e7a405\",                        [{\"name\":\"\\u0413\\u0440\\u0443\\u043f\\u043f\\u0430 A\",\"x\":[\"2020-12-07\",\"2020-12-08\",\"2020-12-09\",\"2020-12-10\",\"2020-12-11\",\"2020-12-12\",\"2020-12-13\",\"2020-12-14\",\"2020-12-15\",\"2020-12-16\",\"2020-12-17\",\"2020-12-18\",\"2020-12-19\",\"2020-12-20\",\"2020-12-21\",\"2020-12-22\",\"2020-12-23\",\"2020-12-24\",\"2020-12-25\",\"2020-12-26\",\"2020-12-27\",\"2020-12-28\",\"2020-12-29\"],\"y\":[263,283,331,294,309,319,273,880,915,870,1046,1085,1262,1298,1690,1095,829,708,528,471,451,389,262],\"type\":\"bar\"},{\"name\":\"\\u0413\\u0440\\u0443\\u043f\\u043f\\u0430 B\",\"x\":[\"2020-12-07\",\"2020-12-08\",\"2020-12-09\",\"2020-12-10\",\"2020-12-11\",\"2020-12-12\",\"2020-12-13\",\"2020-12-14\",\"2020-12-15\",\"2020-12-16\",\"2020-12-17\",\"2020-12-18\",\"2020-12-19\",\"2020-12-20\",\"2020-12-21\",\"2020-12-22\",\"2020-12-23\",\"2020-12-24\",\"2020-12-25\",\"2020-12-26\",\"2020-12-27\",\"2020-12-28\",\"2020-12-29\"],\"y\":[315,207,289,218,137,169,122,227,187,322,230,224,235,273,358,145,143,103,70,53,62,58,36],\"type\":\"bar\"}],                        {\"template\":{\"data\":{\"histogram2dcontour\":[{\"type\":\"histogram2dcontour\",\"colorbar\":{\"outlinewidth\":0,\"ticks\":\"\"},\"colorscale\":[[0.0,\"#0d0887\"],[0.1111111111111111,\"#46039f\"],[0.2222222222222222,\"#7201a8\"],[0.3333333333333333,\"#9c179e\"],[0.4444444444444444,\"#bd3786\"],[0.5555555555555556,\"#d8576b\"],[0.6666666666666666,\"#ed7953\"],[0.7777777777777778,\"#fb9f3a\"],[0.8888888888888888,\"#fdca26\"],[1.0,\"#f0f921\"]]}],\"choropleth\":[{\"type\":\"choropleth\",\"colorbar\":{\"outlinewidth\":0,\"ticks\":\"\"}}],\"histogram2d\":[{\"type\":\"histogram2d\",\"colorbar\":{\"outlinewidth\":0,\"ticks\":\"\"},\"colorscale\":[[0.0,\"#0d0887\"],[0.1111111111111111,\"#46039f\"],[0.2222222222222222,\"#7201a8\"],[0.3333333333333333,\"#9c179e\"],[0.4444444444444444,\"#bd3786\"],[0.5555555555555556,\"#d8576b\"],[0.6666666666666666,\"#ed7953\"],[0.7777777777777778,\"#fb9f3a\"],[0.8888888888888888,\"#fdca26\"],[1.0,\"#f0f921\"]]}],\"heatmap\":[{\"type\":\"heatmap\",\"colorbar\":{\"outlinewidth\":0,\"ticks\":\"\"},\"colorscale\":[[0.0,\"#0d0887\"],[0.1111111111111111,\"#46039f\"],[0.2222222222222222,\"#7201a8\"],[0.3333333333333333,\"#9c179e\"],[0.4444444444444444,\"#bd3786\"],[0.5555555555555556,\"#d8576b\"],[0.6666666666666666,\"#ed7953\"],[0.7777777777777778,\"#fb9f3a\"],[0.8888888888888888,\"#fdca26\"],[1.0,\"#f0f921\"]]}],\"heatmapgl\":[{\"type\":\"heatmapgl\",\"colorbar\":{\"outlinewidth\":0,\"ticks\":\"\"},\"colorscale\":[[0.0,\"#0d0887\"],[0.1111111111111111,\"#46039f\"],[0.2222222222222222,\"#7201a8\"],[0.3333333333333333,\"#9c179e\"],[0.4444444444444444,\"#bd3786\"],[0.5555555555555556,\"#d8576b\"],[0.6666666666666666,\"#ed7953\"],[0.7777777777777778,\"#fb9f3a\"],[0.8888888888888888,\"#fdca26\"],[1.0,\"#f0f921\"]]}],\"contourcarpet\":[{\"type\":\"contourcarpet\",\"colorbar\":{\"outlinewidth\":0,\"ticks\":\"\"}}],\"contour\":[{\"type\":\"contour\",\"colorbar\":{\"outlinewidth\":0,\"ticks\":\"\"},\"colorscale\":[[0.0,\"#0d0887\"],[0.1111111111111111,\"#46039f\"],[0.2222222222222222,\"#7201a8\"],[0.3333333333333333,\"#9c179e\"],[0.4444444444444444,\"#bd3786\"],[0.5555555555555556,\"#d8576b\"],[0.6666666666666666,\"#ed7953\"],[0.7777777777777778,\"#fb9f3a\"],[0.8888888888888888,\"#fdca26\"],[1.0,\"#f0f921\"]]}],\"surface\":[{\"type\":\"surface\",\"colorbar\":{\"outlinewidth\":0,\"ticks\":\"\"},\"colorscale\":[[0.0,\"#0d0887\"],[0.1111111111111111,\"#46039f\"],[0.2222222222222222,\"#7201a8\"],[0.3333333333333333,\"#9c179e\"],[0.4444444444444444,\"#bd3786\"],[0.5555555555555556,\"#d8576b\"],[0.6666666666666666,\"#ed7953\"],[0.7777777777777778,\"#fb9f3a\"],[0.8888888888888888,\"#fdca26\"],[1.0,\"#f0f921\"]]}],\"mesh3d\":[{\"type\":\"mesh3d\",\"colorbar\":{\"outlinewidth\":0,\"ticks\":\"\"}}],\"scatter\":[{\"fillpattern\":{\"fillmode\":\"overlay\",\"size\":10,\"solidity\":0.2},\"type\":\"scatter\"}],\"parcoords\":[{\"type\":\"parcoords\",\"line\":{\"colorbar\":{\"outlinewidth\":0,\"ticks\":\"\"}}}],\"scatterpolargl\":[{\"type\":\"scatterpolargl\",\"marker\":{\"colorbar\":{\"outlinewidth\":0,\"ticks\":\"\"}}}],\"bar\":[{\"error_x\":{\"color\":\"#2a3f5f\"},\"error_y\":{\"color\":\"#2a3f5f\"},\"marker\":{\"line\":{\"color\":\"#E5ECF6\",\"width\":0.5},\"pattern\":{\"fillmode\":\"overlay\",\"size\":10,\"solidity\":0.2}},\"type\":\"bar\"}],\"scattergeo\":[{\"type\":\"scattergeo\",\"marker\":{\"colorbar\":{\"outlinewidth\":0,\"ticks\":\"\"}}}],\"scatterpolar\":[{\"type\":\"scatterpolar\",\"marker\":{\"colorbar\":{\"outlinewidth\":0,\"ticks\":\"\"}}}],\"histogram\":[{\"marker\":{\"pattern\":{\"fillmode\":\"overlay\",\"size\":10,\"solidity\":0.2}},\"type\":\"histogram\"}],\"scattergl\":[{\"type\":\"scattergl\",\"marker\":{\"colorbar\":{\"outlinewidth\":0,\"ticks\":\"\"}}}],\"scatter3d\":[{\"type\":\"scatter3d\",\"line\":{\"colorbar\":{\"outlinewidth\":0,\"ticks\":\"\"}},\"marker\":{\"colorbar\":{\"outlinewidth\":0,\"ticks\":\"\"}}}],\"scattermapbox\":[{\"type\":\"scattermapbox\",\"marker\":{\"colorbar\":{\"outlinewidth\":0,\"ticks\":\"\"}}}],\"scatterternary\":[{\"type\":\"scatterternary\",\"marker\":{\"colorbar\":{\"outlinewidth\":0,\"ticks\":\"\"}}}],\"scattercarpet\":[{\"type\":\"scattercarpet\",\"marker\":{\"colorbar\":{\"outlinewidth\":0,\"ticks\":\"\"}}}],\"carpet\":[{\"aaxis\":{\"endlinecolor\":\"#2a3f5f\",\"gridcolor\":\"white\",\"linecolor\":\"white\",\"minorgridcolor\":\"white\",\"startlinecolor\":\"#2a3f5f\"},\"baxis\":{\"endlinecolor\":\"#2a3f5f\",\"gridcolor\":\"white\",\"linecolor\":\"white\",\"minorgridcolor\":\"white\",\"startlinecolor\":\"#2a3f5f\"},\"type\":\"carpet\"}],\"table\":[{\"cells\":{\"fill\":{\"color\":\"#EBF0F8\"},\"line\":{\"color\":\"white\"}},\"header\":{\"fill\":{\"color\":\"#C8D4E3\"},\"line\":{\"color\":\"white\"}},\"type\":\"table\"}],\"barpolar\":[{\"marker\":{\"line\":{\"color\":\"#E5ECF6\",\"width\":0.5},\"pattern\":{\"fillmode\":\"overlay\",\"size\":10,\"solidity\":0.2}},\"type\":\"barpolar\"}],\"pie\":[{\"automargin\":true,\"type\":\"pie\"}]},\"layout\":{\"autotypenumbers\":\"strict\",\"colorway\":[\"#636efa\",\"#EF553B\",\"#00cc96\",\"#ab63fa\",\"#FFA15A\",\"#19d3f3\",\"#FF6692\",\"#B6E880\",\"#FF97FF\",\"#FECB52\"],\"font\":{\"color\":\"#2a3f5f\"},\"hovermode\":\"closest\",\"hoverlabel\":{\"align\":\"left\"},\"paper_bgcolor\":\"white\",\"plot_bgcolor\":\"#E5ECF6\",\"polar\":{\"bgcolor\":\"#E5ECF6\",\"angularaxis\":{\"gridcolor\":\"white\",\"linecolor\":\"white\",\"ticks\":\"\"},\"radialaxis\":{\"gridcolor\":\"white\",\"linecolor\":\"white\",\"ticks\":\"\"}},\"ternary\":{\"bgcolor\":\"#E5ECF6\",\"aaxis\":{\"gridcolor\":\"white\",\"linecolor\":\"white\",\"ticks\":\"\"},\"baxis\":{\"gridcolor\":\"white\",\"linecolor\":\"white\",\"ticks\":\"\"},\"caxis\":{\"gridcolor\":\"white\",\"linecolor\":\"white\",\"ticks\":\"\"}},\"coloraxis\":{\"colorbar\":{\"outlinewidth\":0,\"ticks\":\"\"}},\"colorscale\":{\"sequential\":[[0.0,\"#0d0887\"],[0.1111111111111111,\"#46039f\"],[0.2222222222222222,\"#7201a8\"],[0.3333333333333333,\"#9c179e\"],[0.4444444444444444,\"#bd3786\"],[0.5555555555555556,\"#d8576b\"],[0.6666666666666666,\"#ed7953\"],[0.7777777777777778,\"#fb9f3a\"],[0.8888888888888888,\"#fdca26\"],[1.0,\"#f0f921\"]],\"sequentialminus\":[[0.0,\"#0d0887\"],[0.1111111111111111,\"#46039f\"],[0.2222222222222222,\"#7201a8\"],[0.3333333333333333,\"#9c179e\"],[0.4444444444444444,\"#bd3786\"],[0.5555555555555556,\"#d8576b\"],[0.6666666666666666,\"#ed7953\"],[0.7777777777777778,\"#fb9f3a\"],[0.8888888888888888,\"#fdca26\"],[1.0,\"#f0f921\"]],\"diverging\":[[0,\"#8e0152\"],[0.1,\"#c51b7d\"],[0.2,\"#de77ae\"],[0.3,\"#f1b6da\"],[0.4,\"#fde0ef\"],[0.5,\"#f7f7f7\"],[0.6,\"#e6f5d0\"],[0.7,\"#b8e186\"],[0.8,\"#7fbc41\"],[0.9,\"#4d9221\"],[1,\"#276419\"]]},\"xaxis\":{\"gridcolor\":\"white\",\"linecolor\":\"white\",\"ticks\":\"\",\"title\":{\"standoff\":15},\"zerolinecolor\":\"white\",\"automargin\":true,\"zerolinewidth\":2},\"yaxis\":{\"gridcolor\":\"white\",\"linecolor\":\"white\",\"ticks\":\"\",\"title\":{\"standoff\":15},\"zerolinecolor\":\"white\",\"automargin\":true,\"zerolinewidth\":2},\"scene\":{\"xaxis\":{\"backgroundcolor\":\"#E5ECF6\",\"gridcolor\":\"white\",\"linecolor\":\"white\",\"showbackground\":true,\"ticks\":\"\",\"zerolinecolor\":\"white\",\"gridwidth\":2},\"yaxis\":{\"backgroundcolor\":\"#E5ECF6\",\"gridcolor\":\"white\",\"linecolor\":\"white\",\"showbackground\":true,\"ticks\":\"\",\"zerolinecolor\":\"white\",\"gridwidth\":2},\"zaxis\":{\"backgroundcolor\":\"#E5ECF6\",\"gridcolor\":\"white\",\"linecolor\":\"white\",\"showbackground\":true,\"ticks\":\"\",\"zerolinecolor\":\"white\",\"gridwidth\":2}},\"shapedefaults\":{\"line\":{\"color\":\"#2a3f5f\"}},\"annotationdefaults\":{\"arrowcolor\":\"#2a3f5f\",\"arrowhead\":0,\"arrowwidth\":1},\"geo\":{\"bgcolor\":\"white\",\"landcolor\":\"#E5ECF6\",\"subunitcolor\":\"white\",\"showland\":true,\"showlakes\":true,\"lakecolor\":\"white\"},\"title\":{\"x\":0.05},\"mapbox\":{\"style\":\"light\"}}},\"barmode\":\"group\",\"title\":{\"text\":\"\\u0420\\u0430\\u0441\\u043f\\u0440\\u0435\\u0434\\u0435\\u043b\\u0435\\u043d\\u0438\\u0435 \\u0441\\u043e\\u0431\\u044b\\u0442\\u0438\\u0439 \\u043f\\u043e \\u0434\\u043d\\u044f\\u043c \\u043f\\u043e \\u0433\\u0440\\u0443\\u043f\\u043f\\u0430\\u043c\"},\"width\":950,\"height\":700,\"xaxis\":{\"title\":{\"text\":\"\\u0414\\u0430\\u0442\\u0430\"}},\"yaxis\":{\"title\":{\"text\":\"\\u041a\\u043e\\u043b\\u0438\\u0447\\u0435\\u0441\\u0442\\u0432\\u043e \\u0441\\u043e\\u0431\\u044b\\u0442\\u0438\\u0439\"}},\"shapes\":[{\"fillcolor\":\"red\",\"line\":{\"width\":0},\"opacity\":0.25,\"type\":\"rect\",\"x0\":\"2020-12-25\",\"x1\":\"2021-01-03\",\"xref\":\"x\",\"y0\":0,\"y1\":1,\"yref\":\"y domain\"}],\"annotations\":[{\"showarrow\":false,\"text\":\"Christmas&New Year Promo\",\"x\":\"2021-01-03\",\"xanchor\":\"right\",\"xref\":\"x\",\"y\":1,\"yanchor\":\"top\",\"yref\":\"y domain\"}]},                        {\"responsive\": true}                    ).then(function(){\n",
              "                            \n",
              "var gd = document.getElementById('d659fb83-1898-4257-89f4-0de3c4e7a405');\n",
              "var x = new MutationObserver(function (mutations, observer) {{\n",
              "        var display = window.getComputedStyle(gd).display;\n",
              "        if (!display || display === 'none') {{\n",
              "            console.log([gd, 'removed!']);\n",
              "            Plotly.purge(gd);\n",
              "            observer.disconnect();\n",
              "        }}\n",
              "}});\n",
              "\n",
              "// Listen for the removal of the full notebook cells\n",
              "var notebookContainer = gd.closest('#notebook-container');\n",
              "if (notebookContainer) {{\n",
              "    x.observe(notebookContainer, {childList: true});\n",
              "}}\n",
              "\n",
              "// Listen for the clearing of the current output cell\n",
              "var outputEl = gd.closest('.output');\n",
              "if (outputEl) {{\n",
              "    x.observe(outputEl, {childList: true});\n",
              "}}\n",
              "\n",
              "                        })                };                            </script>        </div>\n",
              "</body>\n",
              "</html>"
            ]
          },
          "metadata": {}
        }
      ],
      "source": [
        "#построим таблицу распределения кол-ва событий\n",
        "fig= go.Figure(data=[\n",
        "    go.Bar(name='Группа A', x=temp_table['event_date'], y=temp_table['count_events_a']),\n",
        "    go.Bar(name='Группа B', x=temp_table['event_date'], y=temp_table['count_events_b'])\n",
        "])\n",
        "fig.update_layout(barmode='group',\n",
        "                  title='Распределение событий по дням по группам',\n",
        "                  width=950,\n",
        "                  height=700,\n",
        "                  xaxis_title='Дата',\n",
        "                  yaxis_title='Количество событий')\n",
        "fig.add_vrect(x0='2020-12-25', x1='2021-01-03',\n",
        "              annotation_text=\"Christmas&New Year Promo\", annotation_position=\"top right\",\n",
        "              fillcolor=\"red\", opacity=0.25, line_width=0)\n",
        "\n",
        "fig.show()"
      ]
    },
    {
      "cell_type": "markdown",
      "metadata": {
        "id": "crFmE4Tg83p-"
      },
      "source": [
        "Видно, что в дни проведения акции активность пользователей уже пошла на спад, можно разглядеть тенденцию и так, но в силу того, что группы распределились не равномерно, то добавим в таблицу абсолютное значение совершенных событий в дату ко всем событиям в группе и построим этот же график снова:"
      ]
    },
    {
      "cell_type": "code",
      "execution_count": 53,
      "metadata": {
        "id": "ioz5Fuw083p-"
      },
      "outputs": [],
      "source": [
        "# добавим долевое отношение\n",
        "temp_table['ratio_a'] = temp_table['count_events_a'] / sum(temp_table['count_events_a'])*100\n",
        "temp_table['ratio_b'] = temp_table['count_events_b'] / sum(temp_table['count_events_b'])*100\n"
      ]
    },
    {
      "cell_type": "code",
      "execution_count": 54,
      "metadata": {
        "id": "5NrP73qw83p-",
        "outputId": "66405d28-102a-41aa-d9db-b3ee8e4a3ec4",
        "colab": {
          "base_uri": "https://localhost:8080/",
          "height": 206
        }
      },
      "outputs": [
        {
          "output_type": "execute_result",
          "data": {
            "text/plain": [
              "   event_date  count_events_a  count_events_b  ratio_a  ratio_b\n",
              "0  2020-12-07  263             315            1.66     7.53    \n",
              "1  2020-12-08  283             207            1.79     4.95    \n",
              "2  2020-12-09  331             289            2.09     6.91    \n",
              "3  2020-12-10  294             218            1.85     5.21    \n",
              "4  2020-12-11  309             137            1.95     3.28    "
            ],
            "text/html": [
              "\n",
              "  <div id=\"df-e8276de8-05ab-4a60-b51a-5d5307ca3ed1\" class=\"colab-df-container\">\n",
              "    <div>\n",
              "<style scoped>\n",
              "    .dataframe tbody tr th:only-of-type {\n",
              "        vertical-align: middle;\n",
              "    }\n",
              "\n",
              "    .dataframe tbody tr th {\n",
              "        vertical-align: top;\n",
              "    }\n",
              "\n",
              "    .dataframe thead th {\n",
              "        text-align: right;\n",
              "    }\n",
              "</style>\n",
              "<table border=\"1\" class=\"dataframe\">\n",
              "  <thead>\n",
              "    <tr style=\"text-align: right;\">\n",
              "      <th></th>\n",
              "      <th>event_date</th>\n",
              "      <th>count_events_a</th>\n",
              "      <th>count_events_b</th>\n",
              "      <th>ratio_a</th>\n",
              "      <th>ratio_b</th>\n",
              "    </tr>\n",
              "  </thead>\n",
              "  <tbody>\n",
              "    <tr>\n",
              "      <th>0</th>\n",
              "      <td>2020-12-07</td>\n",
              "      <td>263</td>\n",
              "      <td>315</td>\n",
              "      <td>1.66</td>\n",
              "      <td>7.53</td>\n",
              "    </tr>\n",
              "    <tr>\n",
              "      <th>1</th>\n",
              "      <td>2020-12-08</td>\n",
              "      <td>283</td>\n",
              "      <td>207</td>\n",
              "      <td>1.79</td>\n",
              "      <td>4.95</td>\n",
              "    </tr>\n",
              "    <tr>\n",
              "      <th>2</th>\n",
              "      <td>2020-12-09</td>\n",
              "      <td>331</td>\n",
              "      <td>289</td>\n",
              "      <td>2.09</td>\n",
              "      <td>6.91</td>\n",
              "    </tr>\n",
              "    <tr>\n",
              "      <th>3</th>\n",
              "      <td>2020-12-10</td>\n",
              "      <td>294</td>\n",
              "      <td>218</td>\n",
              "      <td>1.85</td>\n",
              "      <td>5.21</td>\n",
              "    </tr>\n",
              "    <tr>\n",
              "      <th>4</th>\n",
              "      <td>2020-12-11</td>\n",
              "      <td>309</td>\n",
              "      <td>137</td>\n",
              "      <td>1.95</td>\n",
              "      <td>3.28</td>\n",
              "    </tr>\n",
              "  </tbody>\n",
              "</table>\n",
              "</div>\n",
              "    <div class=\"colab-df-buttons\">\n",
              "\n",
              "  <div class=\"colab-df-container\">\n",
              "    <button class=\"colab-df-convert\" onclick=\"convertToInteractive('df-e8276de8-05ab-4a60-b51a-5d5307ca3ed1')\"\n",
              "            title=\"Convert this dataframe to an interactive table.\"\n",
              "            style=\"display:none;\">\n",
              "\n",
              "  <svg xmlns=\"http://www.w3.org/2000/svg\" height=\"24px\" viewBox=\"0 -960 960 960\">\n",
              "    <path d=\"M120-120v-720h720v720H120Zm60-500h600v-160H180v160Zm220 220h160v-160H400v160Zm0 220h160v-160H400v160ZM180-400h160v-160H180v160Zm440 0h160v-160H620v160ZM180-180h160v-160H180v160Zm440 0h160v-160H620v160Z\"/>\n",
              "  </svg>\n",
              "    </button>\n",
              "\n",
              "  <style>\n",
              "    .colab-df-container {\n",
              "      display:flex;\n",
              "      gap: 12px;\n",
              "    }\n",
              "\n",
              "    .colab-df-convert {\n",
              "      background-color: #E8F0FE;\n",
              "      border: none;\n",
              "      border-radius: 50%;\n",
              "      cursor: pointer;\n",
              "      display: none;\n",
              "      fill: #1967D2;\n",
              "      height: 32px;\n",
              "      padding: 0 0 0 0;\n",
              "      width: 32px;\n",
              "    }\n",
              "\n",
              "    .colab-df-convert:hover {\n",
              "      background-color: #E2EBFA;\n",
              "      box-shadow: 0px 1px 2px rgba(60, 64, 67, 0.3), 0px 1px 3px 1px rgba(60, 64, 67, 0.15);\n",
              "      fill: #174EA6;\n",
              "    }\n",
              "\n",
              "    .colab-df-buttons div {\n",
              "      margin-bottom: 4px;\n",
              "    }\n",
              "\n",
              "    [theme=dark] .colab-df-convert {\n",
              "      background-color: #3B4455;\n",
              "      fill: #D2E3FC;\n",
              "    }\n",
              "\n",
              "    [theme=dark] .colab-df-convert:hover {\n",
              "      background-color: #434B5C;\n",
              "      box-shadow: 0px 1px 3px 1px rgba(0, 0, 0, 0.15);\n",
              "      filter: drop-shadow(0px 1px 2px rgba(0, 0, 0, 0.3));\n",
              "      fill: #FFFFFF;\n",
              "    }\n",
              "  </style>\n",
              "\n",
              "    <script>\n",
              "      const buttonEl =\n",
              "        document.querySelector('#df-e8276de8-05ab-4a60-b51a-5d5307ca3ed1 button.colab-df-convert');\n",
              "      buttonEl.style.display =\n",
              "        google.colab.kernel.accessAllowed ? 'block' : 'none';\n",
              "\n",
              "      async function convertToInteractive(key) {\n",
              "        const element = document.querySelector('#df-e8276de8-05ab-4a60-b51a-5d5307ca3ed1');\n",
              "        const dataTable =\n",
              "          await google.colab.kernel.invokeFunction('convertToInteractive',\n",
              "                                                    [key], {});\n",
              "        if (!dataTable) return;\n",
              "\n",
              "        const docLinkHtml = 'Like what you see? Visit the ' +\n",
              "          '<a target=\"_blank\" href=https://colab.research.google.com/notebooks/data_table.ipynb>data table notebook</a>'\n",
              "          + ' to learn more about interactive tables.';\n",
              "        element.innerHTML = '';\n",
              "        dataTable['output_type'] = 'display_data';\n",
              "        await google.colab.output.renderOutput(dataTable, element);\n",
              "        const docLink = document.createElement('div');\n",
              "        docLink.innerHTML = docLinkHtml;\n",
              "        element.appendChild(docLink);\n",
              "      }\n",
              "    </script>\n",
              "  </div>\n",
              "\n",
              "\n",
              "<div id=\"df-8c1c75da-9546-48fe-9d35-f82d1537d8dd\">\n",
              "  <button class=\"colab-df-quickchart\" onclick=\"quickchart('df-8c1c75da-9546-48fe-9d35-f82d1537d8dd')\"\n",
              "            title=\"Suggest charts\"\n",
              "            style=\"display:none;\">\n",
              "\n",
              "<svg xmlns=\"http://www.w3.org/2000/svg\" height=\"24px\"viewBox=\"0 0 24 24\"\n",
              "     width=\"24px\">\n",
              "    <g>\n",
              "        <path d=\"M19 3H5c-1.1 0-2 .9-2 2v14c0 1.1.9 2 2 2h14c1.1 0 2-.9 2-2V5c0-1.1-.9-2-2-2zM9 17H7v-7h2v7zm4 0h-2V7h2v10zm4 0h-2v-4h2v4z\"/>\n",
              "    </g>\n",
              "</svg>\n",
              "  </button>\n",
              "\n",
              "<style>\n",
              "  .colab-df-quickchart {\n",
              "      --bg-color: #E8F0FE;\n",
              "      --fill-color: #1967D2;\n",
              "      --hover-bg-color: #E2EBFA;\n",
              "      --hover-fill-color: #174EA6;\n",
              "      --disabled-fill-color: #AAA;\n",
              "      --disabled-bg-color: #DDD;\n",
              "  }\n",
              "\n",
              "  [theme=dark] .colab-df-quickchart {\n",
              "      --bg-color: #3B4455;\n",
              "      --fill-color: #D2E3FC;\n",
              "      --hover-bg-color: #434B5C;\n",
              "      --hover-fill-color: #FFFFFF;\n",
              "      --disabled-bg-color: #3B4455;\n",
              "      --disabled-fill-color: #666;\n",
              "  }\n",
              "\n",
              "  .colab-df-quickchart {\n",
              "    background-color: var(--bg-color);\n",
              "    border: none;\n",
              "    border-radius: 50%;\n",
              "    cursor: pointer;\n",
              "    display: none;\n",
              "    fill: var(--fill-color);\n",
              "    height: 32px;\n",
              "    padding: 0;\n",
              "    width: 32px;\n",
              "  }\n",
              "\n",
              "  .colab-df-quickchart:hover {\n",
              "    background-color: var(--hover-bg-color);\n",
              "    box-shadow: 0 1px 2px rgba(60, 64, 67, 0.3), 0 1px 3px 1px rgba(60, 64, 67, 0.15);\n",
              "    fill: var(--button-hover-fill-color);\n",
              "  }\n",
              "\n",
              "  .colab-df-quickchart-complete:disabled,\n",
              "  .colab-df-quickchart-complete:disabled:hover {\n",
              "    background-color: var(--disabled-bg-color);\n",
              "    fill: var(--disabled-fill-color);\n",
              "    box-shadow: none;\n",
              "  }\n",
              "\n",
              "  .colab-df-spinner {\n",
              "    border: 2px solid var(--fill-color);\n",
              "    border-color: transparent;\n",
              "    border-bottom-color: var(--fill-color);\n",
              "    animation:\n",
              "      spin 1s steps(1) infinite;\n",
              "  }\n",
              "\n",
              "  @keyframes spin {\n",
              "    0% {\n",
              "      border-color: transparent;\n",
              "      border-bottom-color: var(--fill-color);\n",
              "      border-left-color: var(--fill-color);\n",
              "    }\n",
              "    20% {\n",
              "      border-color: transparent;\n",
              "      border-left-color: var(--fill-color);\n",
              "      border-top-color: var(--fill-color);\n",
              "    }\n",
              "    30% {\n",
              "      border-color: transparent;\n",
              "      border-left-color: var(--fill-color);\n",
              "      border-top-color: var(--fill-color);\n",
              "      border-right-color: var(--fill-color);\n",
              "    }\n",
              "    40% {\n",
              "      border-color: transparent;\n",
              "      border-right-color: var(--fill-color);\n",
              "      border-top-color: var(--fill-color);\n",
              "    }\n",
              "    60% {\n",
              "      border-color: transparent;\n",
              "      border-right-color: var(--fill-color);\n",
              "    }\n",
              "    80% {\n",
              "      border-color: transparent;\n",
              "      border-right-color: var(--fill-color);\n",
              "      border-bottom-color: var(--fill-color);\n",
              "    }\n",
              "    90% {\n",
              "      border-color: transparent;\n",
              "      border-bottom-color: var(--fill-color);\n",
              "    }\n",
              "  }\n",
              "</style>\n",
              "\n",
              "  <script>\n",
              "    async function quickchart(key) {\n",
              "      const quickchartButtonEl =\n",
              "        document.querySelector('#' + key + ' button');\n",
              "      quickchartButtonEl.disabled = true;  // To prevent multiple clicks.\n",
              "      quickchartButtonEl.classList.add('colab-df-spinner');\n",
              "      try {\n",
              "        const charts = await google.colab.kernel.invokeFunction(\n",
              "            'suggestCharts', [key], {});\n",
              "      } catch (error) {\n",
              "        console.error('Error during call to suggestCharts:', error);\n",
              "      }\n",
              "      quickchartButtonEl.classList.remove('colab-df-spinner');\n",
              "      quickchartButtonEl.classList.add('colab-df-quickchart-complete');\n",
              "    }\n",
              "    (() => {\n",
              "      let quickchartButtonEl =\n",
              "        document.querySelector('#df-8c1c75da-9546-48fe-9d35-f82d1537d8dd button');\n",
              "      quickchartButtonEl.style.display =\n",
              "        google.colab.kernel.accessAllowed ? 'block' : 'none';\n",
              "    })();\n",
              "  </script>\n",
              "</div>\n",
              "    </div>\n",
              "  </div>\n"
            ],
            "application/vnd.google.colaboratory.intrinsic+json": {
              "type": "dataframe",
              "variable_name": "temp_table",
              "summary": "{\n  \"name\": \"temp_table\",\n  \"rows\": 23,\n  \"fields\": [\n    {\n      \"column\": \"event_date\",\n      \"properties\": {\n        \"dtype\": \"date\",\n        \"min\": \"2020-12-07\",\n        \"max\": \"2020-12-29\",\n        \"num_unique_values\": 23,\n        \"samples\": [\n          \"2020-12-22\",\n          \"2020-12-16\",\n          \"2020-12-07\"\n        ],\n        \"semantic_type\": \"\",\n        \"description\": \"\"\n      }\n    },\n    {\n      \"column\": \"count_events_a\",\n      \"properties\": {\n        \"dtype\": \"number\",\n        \"std\": 414,\n        \"min\": 262,\n        \"max\": 1690,\n        \"num_unique_values\": 23,\n        \"samples\": [\n          1095,\n          870,\n          263\n        ],\n        \"semantic_type\": \"\",\n        \"description\": \"\"\n      }\n    },\n    {\n      \"column\": \"count_events_b\",\n      \"properties\": {\n        \"dtype\": \"number\",\n        \"std\": 93,\n        \"min\": 36,\n        \"max\": 358,\n        \"num_unique_values\": 23,\n        \"samples\": [\n          145,\n          322,\n          315\n        ],\n        \"semantic_type\": \"\",\n        \"description\": \"\"\n      }\n    },\n    {\n      \"column\": \"ratio_a\",\n      \"properties\": {\n        \"dtype\": \"number\",\n        \"std\": 2.6142988291596643,\n        \"min\": 1.6528925619834711,\n        \"max\": 10.661787899817046,\n        \"num_unique_values\": 23,\n        \"samples\": [\n          6.908081509053056,\n          5.488612705822977,\n          1.6592013122200493\n        ],\n        \"semantic_type\": \"\",\n        \"description\": \"\"\n      }\n    },\n    {\n      \"column\": \"ratio_b\",\n      \"properties\": {\n        \"dtype\": \"number\",\n        \"std\": 2.2451821741984244,\n        \"min\": 0.8606263447286636,\n        \"max\": 8.558450872579488,\n        \"num_unique_values\": 23,\n        \"samples\": [\n          3.4664116662682285,\n          7.697824527850824,\n          7.530480516375807\n        ],\n        \"semantic_type\": \"\",\n        \"description\": \"\"\n      }\n    }\n  ]\n}"
            }
          },
          "metadata": {},
          "execution_count": 54
        }
      ],
      "source": [
        "temp_table.head()"
      ]
    },
    {
      "cell_type": "code",
      "execution_count": 55,
      "metadata": {
        "id": "4Ja65i1K83p-",
        "outputId": "5564290c-1c24-4b6b-af90-71c9e3ce6dd6",
        "colab": {
          "base_uri": "https://localhost:8080/",
          "height": 717
        }
      },
      "outputs": [
        {
          "output_type": "display_data",
          "data": {
            "text/html": [
              "<html>\n",
              "<head><meta charset=\"utf-8\" /></head>\n",
              "<body>\n",
              "    <div>            <script src=\"https://cdnjs.cloudflare.com/ajax/libs/mathjax/2.7.5/MathJax.js?config=TeX-AMS-MML_SVG\"></script><script type=\"text/javascript\">if (window.MathJax && window.MathJax.Hub && window.MathJax.Hub.Config) {window.MathJax.Hub.Config({SVG: {font: \"STIX-Web\"}});}</script>                <script type=\"text/javascript\">window.PlotlyConfig = {MathJaxConfig: 'local'};</script>\n",
              "        <script charset=\"utf-8\" src=\"https://cdn.plot.ly/plotly-2.24.1.min.js\"></script>                <div id=\"e14c8a6b-897f-4567-a997-bc0f2b33f28a\" class=\"plotly-graph-div\" style=\"height:700px; width:950px;\"></div>            <script type=\"text/javascript\">                                    window.PLOTLYENV=window.PLOTLYENV || {};                                    if (document.getElementById(\"e14c8a6b-897f-4567-a997-bc0f2b33f28a\")) {                    Plotly.newPlot(                        \"e14c8a6b-897f-4567-a997-bc0f2b33f28a\",                        [{\"name\":\"\\u0413\\u0440\\u0443\\u043f\\u043f\\u0430 A\",\"x\":[\"2020-12-07\",\"2020-12-08\",\"2020-12-09\",\"2020-12-10\",\"2020-12-11\",\"2020-12-12\",\"2020-12-13\",\"2020-12-14\",\"2020-12-15\",\"2020-12-16\",\"2020-12-17\",\"2020-12-18\",\"2020-12-19\",\"2020-12-20\",\"2020-12-21\",\"2020-12-22\",\"2020-12-23\",\"2020-12-24\",\"2020-12-25\",\"2020-12-26\",\"2020-12-27\",\"2020-12-28\",\"2020-12-29\"],\"y\":[1.6592013122200493,1.785376316951612,2.0881963283073626,1.8547725695539714,1.9494038231026432,2.012491325468425,1.7222888145858306,5.551700208188757,5.772506466468993,5.488612705822977,6.598952747460728,6.844994006687275,7.961642798561605,8.188757807078417,10.661787899817046,6.908081509053056,5.229953946123273,4.466595167497319,3.3310201249132545,2.971421361428301,2.8452463566967383,2.454103842028894,1.6528925619834711],\"type\":\"bar\"},{\"name\":\"\\u0413\\u0440\\u0443\\u043f\\u043f\\u0430 B\",\"x\":[\"2020-12-07\",\"2020-12-08\",\"2020-12-09\",\"2020-12-10\",\"2020-12-11\",\"2020-12-12\",\"2020-12-13\",\"2020-12-14\",\"2020-12-15\",\"2020-12-16\",\"2020-12-17\",\"2020-12-18\",\"2020-12-19\",\"2020-12-20\",\"2020-12-21\",\"2020-12-22\",\"2020-12-23\",\"2020-12-24\",\"2020-12-25\",\"2020-12-26\",\"2020-12-27\",\"2020-12-28\",\"2020-12-29\"],\"y\":[7.530480516375807,4.948601482189816,6.908917045182883,5.2115706430791295,3.2751613674396363,4.040162562754005,2.916567057136027,5.426727229261296,4.4704757351183355,7.697824527850824,5.498446091322018,5.355008367200574,5.617977528089887,6.5264164475256985,8.558450872579488,3.4664116662682285,3.418599091561081,2.462347597418121,1.6734401147501792,1.2670332297394216,1.4821898159215874,1.3865646665072915,0.8606263447286636],\"type\":\"bar\"}],                        {\"template\":{\"data\":{\"histogram2dcontour\":[{\"type\":\"histogram2dcontour\",\"colorbar\":{\"outlinewidth\":0,\"ticks\":\"\"},\"colorscale\":[[0.0,\"#0d0887\"],[0.1111111111111111,\"#46039f\"],[0.2222222222222222,\"#7201a8\"],[0.3333333333333333,\"#9c179e\"],[0.4444444444444444,\"#bd3786\"],[0.5555555555555556,\"#d8576b\"],[0.6666666666666666,\"#ed7953\"],[0.7777777777777778,\"#fb9f3a\"],[0.8888888888888888,\"#fdca26\"],[1.0,\"#f0f921\"]]}],\"choropleth\":[{\"type\":\"choropleth\",\"colorbar\":{\"outlinewidth\":0,\"ticks\":\"\"}}],\"histogram2d\":[{\"type\":\"histogram2d\",\"colorbar\":{\"outlinewidth\":0,\"ticks\":\"\"},\"colorscale\":[[0.0,\"#0d0887\"],[0.1111111111111111,\"#46039f\"],[0.2222222222222222,\"#7201a8\"],[0.3333333333333333,\"#9c179e\"],[0.4444444444444444,\"#bd3786\"],[0.5555555555555556,\"#d8576b\"],[0.6666666666666666,\"#ed7953\"],[0.7777777777777778,\"#fb9f3a\"],[0.8888888888888888,\"#fdca26\"],[1.0,\"#f0f921\"]]}],\"heatmap\":[{\"type\":\"heatmap\",\"colorbar\":{\"outlinewidth\":0,\"ticks\":\"\"},\"colorscale\":[[0.0,\"#0d0887\"],[0.1111111111111111,\"#46039f\"],[0.2222222222222222,\"#7201a8\"],[0.3333333333333333,\"#9c179e\"],[0.4444444444444444,\"#bd3786\"],[0.5555555555555556,\"#d8576b\"],[0.6666666666666666,\"#ed7953\"],[0.7777777777777778,\"#fb9f3a\"],[0.8888888888888888,\"#fdca26\"],[1.0,\"#f0f921\"]]}],\"heatmapgl\":[{\"type\":\"heatmapgl\",\"colorbar\":{\"outlinewidth\":0,\"ticks\":\"\"},\"colorscale\":[[0.0,\"#0d0887\"],[0.1111111111111111,\"#46039f\"],[0.2222222222222222,\"#7201a8\"],[0.3333333333333333,\"#9c179e\"],[0.4444444444444444,\"#bd3786\"],[0.5555555555555556,\"#d8576b\"],[0.6666666666666666,\"#ed7953\"],[0.7777777777777778,\"#fb9f3a\"],[0.8888888888888888,\"#fdca26\"],[1.0,\"#f0f921\"]]}],\"contourcarpet\":[{\"type\":\"contourcarpet\",\"colorbar\":{\"outlinewidth\":0,\"ticks\":\"\"}}],\"contour\":[{\"type\":\"contour\",\"colorbar\":{\"outlinewidth\":0,\"ticks\":\"\"},\"colorscale\":[[0.0,\"#0d0887\"],[0.1111111111111111,\"#46039f\"],[0.2222222222222222,\"#7201a8\"],[0.3333333333333333,\"#9c179e\"],[0.4444444444444444,\"#bd3786\"],[0.5555555555555556,\"#d8576b\"],[0.6666666666666666,\"#ed7953\"],[0.7777777777777778,\"#fb9f3a\"],[0.8888888888888888,\"#fdca26\"],[1.0,\"#f0f921\"]]}],\"surface\":[{\"type\":\"surface\",\"colorbar\":{\"outlinewidth\":0,\"ticks\":\"\"},\"colorscale\":[[0.0,\"#0d0887\"],[0.1111111111111111,\"#46039f\"],[0.2222222222222222,\"#7201a8\"],[0.3333333333333333,\"#9c179e\"],[0.4444444444444444,\"#bd3786\"],[0.5555555555555556,\"#d8576b\"],[0.6666666666666666,\"#ed7953\"],[0.7777777777777778,\"#fb9f3a\"],[0.8888888888888888,\"#fdca26\"],[1.0,\"#f0f921\"]]}],\"mesh3d\":[{\"type\":\"mesh3d\",\"colorbar\":{\"outlinewidth\":0,\"ticks\":\"\"}}],\"scatter\":[{\"fillpattern\":{\"fillmode\":\"overlay\",\"size\":10,\"solidity\":0.2},\"type\":\"scatter\"}],\"parcoords\":[{\"type\":\"parcoords\",\"line\":{\"colorbar\":{\"outlinewidth\":0,\"ticks\":\"\"}}}],\"scatterpolargl\":[{\"type\":\"scatterpolargl\",\"marker\":{\"colorbar\":{\"outlinewidth\":0,\"ticks\":\"\"}}}],\"bar\":[{\"error_x\":{\"color\":\"#2a3f5f\"},\"error_y\":{\"color\":\"#2a3f5f\"},\"marker\":{\"line\":{\"color\":\"#E5ECF6\",\"width\":0.5},\"pattern\":{\"fillmode\":\"overlay\",\"size\":10,\"solidity\":0.2}},\"type\":\"bar\"}],\"scattergeo\":[{\"type\":\"scattergeo\",\"marker\":{\"colorbar\":{\"outlinewidth\":0,\"ticks\":\"\"}}}],\"scatterpolar\":[{\"type\":\"scatterpolar\",\"marker\":{\"colorbar\":{\"outlinewidth\":0,\"ticks\":\"\"}}}],\"histogram\":[{\"marker\":{\"pattern\":{\"fillmode\":\"overlay\",\"size\":10,\"solidity\":0.2}},\"type\":\"histogram\"}],\"scattergl\":[{\"type\":\"scattergl\",\"marker\":{\"colorbar\":{\"outlinewidth\":0,\"ticks\":\"\"}}}],\"scatter3d\":[{\"type\":\"scatter3d\",\"line\":{\"colorbar\":{\"outlinewidth\":0,\"ticks\":\"\"}},\"marker\":{\"colorbar\":{\"outlinewidth\":0,\"ticks\":\"\"}}}],\"scattermapbox\":[{\"type\":\"scattermapbox\",\"marker\":{\"colorbar\":{\"outlinewidth\":0,\"ticks\":\"\"}}}],\"scatterternary\":[{\"type\":\"scatterternary\",\"marker\":{\"colorbar\":{\"outlinewidth\":0,\"ticks\":\"\"}}}],\"scattercarpet\":[{\"type\":\"scattercarpet\",\"marker\":{\"colorbar\":{\"outlinewidth\":0,\"ticks\":\"\"}}}],\"carpet\":[{\"aaxis\":{\"endlinecolor\":\"#2a3f5f\",\"gridcolor\":\"white\",\"linecolor\":\"white\",\"minorgridcolor\":\"white\",\"startlinecolor\":\"#2a3f5f\"},\"baxis\":{\"endlinecolor\":\"#2a3f5f\",\"gridcolor\":\"white\",\"linecolor\":\"white\",\"minorgridcolor\":\"white\",\"startlinecolor\":\"#2a3f5f\"},\"type\":\"carpet\"}],\"table\":[{\"cells\":{\"fill\":{\"color\":\"#EBF0F8\"},\"line\":{\"color\":\"white\"}},\"header\":{\"fill\":{\"color\":\"#C8D4E3\"},\"line\":{\"color\":\"white\"}},\"type\":\"table\"}],\"barpolar\":[{\"marker\":{\"line\":{\"color\":\"#E5ECF6\",\"width\":0.5},\"pattern\":{\"fillmode\":\"overlay\",\"size\":10,\"solidity\":0.2}},\"type\":\"barpolar\"}],\"pie\":[{\"automargin\":true,\"type\":\"pie\"}]},\"layout\":{\"autotypenumbers\":\"strict\",\"colorway\":[\"#636efa\",\"#EF553B\",\"#00cc96\",\"#ab63fa\",\"#FFA15A\",\"#19d3f3\",\"#FF6692\",\"#B6E880\",\"#FF97FF\",\"#FECB52\"],\"font\":{\"color\":\"#2a3f5f\"},\"hovermode\":\"closest\",\"hoverlabel\":{\"align\":\"left\"},\"paper_bgcolor\":\"white\",\"plot_bgcolor\":\"#E5ECF6\",\"polar\":{\"bgcolor\":\"#E5ECF6\",\"angularaxis\":{\"gridcolor\":\"white\",\"linecolor\":\"white\",\"ticks\":\"\"},\"radialaxis\":{\"gridcolor\":\"white\",\"linecolor\":\"white\",\"ticks\":\"\"}},\"ternary\":{\"bgcolor\":\"#E5ECF6\",\"aaxis\":{\"gridcolor\":\"white\",\"linecolor\":\"white\",\"ticks\":\"\"},\"baxis\":{\"gridcolor\":\"white\",\"linecolor\":\"white\",\"ticks\":\"\"},\"caxis\":{\"gridcolor\":\"white\",\"linecolor\":\"white\",\"ticks\":\"\"}},\"coloraxis\":{\"colorbar\":{\"outlinewidth\":0,\"ticks\":\"\"}},\"colorscale\":{\"sequential\":[[0.0,\"#0d0887\"],[0.1111111111111111,\"#46039f\"],[0.2222222222222222,\"#7201a8\"],[0.3333333333333333,\"#9c179e\"],[0.4444444444444444,\"#bd3786\"],[0.5555555555555556,\"#d8576b\"],[0.6666666666666666,\"#ed7953\"],[0.7777777777777778,\"#fb9f3a\"],[0.8888888888888888,\"#fdca26\"],[1.0,\"#f0f921\"]],\"sequentialminus\":[[0.0,\"#0d0887\"],[0.1111111111111111,\"#46039f\"],[0.2222222222222222,\"#7201a8\"],[0.3333333333333333,\"#9c179e\"],[0.4444444444444444,\"#bd3786\"],[0.5555555555555556,\"#d8576b\"],[0.6666666666666666,\"#ed7953\"],[0.7777777777777778,\"#fb9f3a\"],[0.8888888888888888,\"#fdca26\"],[1.0,\"#f0f921\"]],\"diverging\":[[0,\"#8e0152\"],[0.1,\"#c51b7d\"],[0.2,\"#de77ae\"],[0.3,\"#f1b6da\"],[0.4,\"#fde0ef\"],[0.5,\"#f7f7f7\"],[0.6,\"#e6f5d0\"],[0.7,\"#b8e186\"],[0.8,\"#7fbc41\"],[0.9,\"#4d9221\"],[1,\"#276419\"]]},\"xaxis\":{\"gridcolor\":\"white\",\"linecolor\":\"white\",\"ticks\":\"\",\"title\":{\"standoff\":15},\"zerolinecolor\":\"white\",\"automargin\":true,\"zerolinewidth\":2},\"yaxis\":{\"gridcolor\":\"white\",\"linecolor\":\"white\",\"ticks\":\"\",\"title\":{\"standoff\":15},\"zerolinecolor\":\"white\",\"automargin\":true,\"zerolinewidth\":2},\"scene\":{\"xaxis\":{\"backgroundcolor\":\"#E5ECF6\",\"gridcolor\":\"white\",\"linecolor\":\"white\",\"showbackground\":true,\"ticks\":\"\",\"zerolinecolor\":\"white\",\"gridwidth\":2},\"yaxis\":{\"backgroundcolor\":\"#E5ECF6\",\"gridcolor\":\"white\",\"linecolor\":\"white\",\"showbackground\":true,\"ticks\":\"\",\"zerolinecolor\":\"white\",\"gridwidth\":2},\"zaxis\":{\"backgroundcolor\":\"#E5ECF6\",\"gridcolor\":\"white\",\"linecolor\":\"white\",\"showbackground\":true,\"ticks\":\"\",\"zerolinecolor\":\"white\",\"gridwidth\":2}},\"shapedefaults\":{\"line\":{\"color\":\"#2a3f5f\"}},\"annotationdefaults\":{\"arrowcolor\":\"#2a3f5f\",\"arrowhead\":0,\"arrowwidth\":1},\"geo\":{\"bgcolor\":\"white\",\"landcolor\":\"#E5ECF6\",\"subunitcolor\":\"white\",\"showland\":true,\"showlakes\":true,\"lakecolor\":\"white\"},\"title\":{\"x\":0.05},\"mapbox\":{\"style\":\"light\"}}},\"barmode\":\"group\",\"title\":{\"text\":\"\\u0414\\u043e\\u043b\\u044f \\u0441\\u043e\\u0431\\u044b\\u0442\\u0438\\u0439 \\u043f\\u043e \\u0434\\u043d\\u044f\\u043c \\u043f\\u043e \\u0433\\u0440\\u0443\\u043f\\u043f\\u0430\\u043c \\u0432 \\u0434\\u043e\\u043b\\u044f\\u0445\"},\"width\":950,\"height\":700,\"xaxis\":{\"title\":{\"text\":\"\\u0414\\u0430\\u0442\\u0430\"}},\"yaxis\":{\"title\":{\"text\":\"\\u0414\\u043e\\u043b\\u044f \\u043e\\u0442 \\u0441\\u0432\\u043e\\u0435\\u0439 \\u0433\\u0440\\u0443\\u043f\\u043f\\u044b, %\"}},\"shapes\":[{\"fillcolor\":\"red\",\"line\":{\"width\":0},\"opacity\":0.25,\"type\":\"rect\",\"x0\":\"2020-12-25\",\"x1\":\"2021-01-03\",\"xref\":\"x\",\"y0\":0,\"y1\":1,\"yref\":\"y domain\"}],\"annotations\":[{\"showarrow\":false,\"text\":\"Christmas&New Year Promo\",\"x\":\"2021-01-03\",\"xanchor\":\"right\",\"xref\":\"x\",\"y\":1,\"yanchor\":\"top\",\"yref\":\"y domain\"}]},                        {\"responsive\": true}                    ).then(function(){\n",
              "                            \n",
              "var gd = document.getElementById('e14c8a6b-897f-4567-a997-bc0f2b33f28a');\n",
              "var x = new MutationObserver(function (mutations, observer) {{\n",
              "        var display = window.getComputedStyle(gd).display;\n",
              "        if (!display || display === 'none') {{\n",
              "            console.log([gd, 'removed!']);\n",
              "            Plotly.purge(gd);\n",
              "            observer.disconnect();\n",
              "        }}\n",
              "}});\n",
              "\n",
              "// Listen for the removal of the full notebook cells\n",
              "var notebookContainer = gd.closest('#notebook-container');\n",
              "if (notebookContainer) {{\n",
              "    x.observe(notebookContainer, {childList: true});\n",
              "}}\n",
              "\n",
              "// Listen for the clearing of the current output cell\n",
              "var outputEl = gd.closest('.output');\n",
              "if (outputEl) {{\n",
              "    x.observe(outputEl, {childList: true});\n",
              "}}\n",
              "\n",
              "                        })                };                            </script>        </div>\n",
              "</body>\n",
              "</html>"
            ]
          },
          "metadata": {}
        }
      ],
      "source": [
        "fig = go.Figure(data=[\n",
        "    go.Bar(name='Группа A', x=temp_table['event_date'], y=temp_table['ratio_a']),\n",
        "    go.Bar(name='Группа B', x=temp_table['event_date'], y=temp_table['ratio_b'])\n",
        "])\n",
        "fig.update_layout(barmode='group',\n",
        "                  title='Доля событий по дням по группам в долях',\n",
        "                  width=950,\n",
        "                  height=700,\n",
        "                  xaxis_title='Дата',\n",
        "                  yaxis_title='Доля от своей группы, %')\n",
        "\n",
        "fig.add_vrect(x0='2020-12-25', x1='2021-01-03',\n",
        "              annotation_text=\"Christmas&New Year Promo\", annotation_position=\"top right\",\n",
        "              fillcolor=\"red\", opacity=0.25, line_width=0)\n",
        "fig.show()"
      ]
    },
    {
      "cell_type": "markdown",
      "metadata": {
        "id": "IK5bemBc83p-"
      },
      "source": [
        "#### Вывод\n",
        "Теперь можно быть на 100% уверенным, что в даты проведения маркетингового события наблюдался спад активности. Но, ко всему прочему, мы теперь можем сделать вывод, что у группы B наблюдается два пика активности, в начале и в середине теста, когда у группы A пик активности был только в середине теста"
      ]
    },
    {
      "cell_type": "markdown",
      "metadata": {
        "id": "Jy6x8eL183p-"
      },
      "source": [
        "\n",
        "<div id=\"1\" >\n",
        "\n",
        "\n",
        "\n",
        " - [Назад](#div_id1)"
      ]
    },
    {
      "cell_type": "markdown",
      "metadata": {
        "id": "YWdKIP2j83p_"
      },
      "source": [
        "### 3.7 Ожидаемый эффект: за 14 дней с момента регистрации в системе пользователи покажут улучшение каждой метрики не менее, чем на 5 процентных пунктов:\n",
        "* конверсии в просмотр карточек товаров — событие product_page\n",
        "* просмотры корзины — product_cart\n",
        "* покупки — purchase .\n",
        "\n",
        "\n",
        " Построим простую продуктовую воронку для сценария [`sign_up` - `login` - `product_page` - `product_cart` - `purchase`]"
      ]
    },
    {
      "cell_type": "code",
      "execution_count": 56,
      "metadata": {
        "id": "W8lE4PSR83p_",
        "outputId": "783fc196-6846-4016-e41b-aa1e91c772d4",
        "colab": {
          "base_uri": "https://localhost:8080/",
          "height": 206
        }
      },
      "outputs": [
        {
          "output_type": "execute_result",
          "data": {
            "text/plain": [
              "           step  user_count group\n",
              "0  sign_up       2279        A   \n",
              "1  login         2279        A   \n",
              "2  product_page  1476        A   \n",
              "3  product_cart  686         A   \n",
              "4  purchase      734         A   "
            ],
            "text/html": [
              "\n",
              "  <div id=\"df-5c885cd5-21f4-4692-b844-340e9b5b98e8\" class=\"colab-df-container\">\n",
              "    <div>\n",
              "<style scoped>\n",
              "    .dataframe tbody tr th:only-of-type {\n",
              "        vertical-align: middle;\n",
              "    }\n",
              "\n",
              "    .dataframe tbody tr th {\n",
              "        vertical-align: top;\n",
              "    }\n",
              "\n",
              "    .dataframe thead th {\n",
              "        text-align: right;\n",
              "    }\n",
              "</style>\n",
              "<table border=\"1\" class=\"dataframe\">\n",
              "  <thead>\n",
              "    <tr style=\"text-align: right;\">\n",
              "      <th></th>\n",
              "      <th>step</th>\n",
              "      <th>user_count</th>\n",
              "      <th>group</th>\n",
              "    </tr>\n",
              "  </thead>\n",
              "  <tbody>\n",
              "    <tr>\n",
              "      <th>0</th>\n",
              "      <td>sign_up</td>\n",
              "      <td>2279</td>\n",
              "      <td>A</td>\n",
              "    </tr>\n",
              "    <tr>\n",
              "      <th>1</th>\n",
              "      <td>login</td>\n",
              "      <td>2279</td>\n",
              "      <td>A</td>\n",
              "    </tr>\n",
              "    <tr>\n",
              "      <th>2</th>\n",
              "      <td>product_page</td>\n",
              "      <td>1476</td>\n",
              "      <td>A</td>\n",
              "    </tr>\n",
              "    <tr>\n",
              "      <th>3</th>\n",
              "      <td>product_cart</td>\n",
              "      <td>686</td>\n",
              "      <td>A</td>\n",
              "    </tr>\n",
              "    <tr>\n",
              "      <th>4</th>\n",
              "      <td>purchase</td>\n",
              "      <td>734</td>\n",
              "      <td>A</td>\n",
              "    </tr>\n",
              "  </tbody>\n",
              "</table>\n",
              "</div>\n",
              "    <div class=\"colab-df-buttons\">\n",
              "\n",
              "  <div class=\"colab-df-container\">\n",
              "    <button class=\"colab-df-convert\" onclick=\"convertToInteractive('df-5c885cd5-21f4-4692-b844-340e9b5b98e8')\"\n",
              "            title=\"Convert this dataframe to an interactive table.\"\n",
              "            style=\"display:none;\">\n",
              "\n",
              "  <svg xmlns=\"http://www.w3.org/2000/svg\" height=\"24px\" viewBox=\"0 -960 960 960\">\n",
              "    <path d=\"M120-120v-720h720v720H120Zm60-500h600v-160H180v160Zm220 220h160v-160H400v160Zm0 220h160v-160H400v160ZM180-400h160v-160H180v160Zm440 0h160v-160H620v160ZM180-180h160v-160H180v160Zm440 0h160v-160H620v160Z\"/>\n",
              "  </svg>\n",
              "    </button>\n",
              "\n",
              "  <style>\n",
              "    .colab-df-container {\n",
              "      display:flex;\n",
              "      gap: 12px;\n",
              "    }\n",
              "\n",
              "    .colab-df-convert {\n",
              "      background-color: #E8F0FE;\n",
              "      border: none;\n",
              "      border-radius: 50%;\n",
              "      cursor: pointer;\n",
              "      display: none;\n",
              "      fill: #1967D2;\n",
              "      height: 32px;\n",
              "      padding: 0 0 0 0;\n",
              "      width: 32px;\n",
              "    }\n",
              "\n",
              "    .colab-df-convert:hover {\n",
              "      background-color: #E2EBFA;\n",
              "      box-shadow: 0px 1px 2px rgba(60, 64, 67, 0.3), 0px 1px 3px 1px rgba(60, 64, 67, 0.15);\n",
              "      fill: #174EA6;\n",
              "    }\n",
              "\n",
              "    .colab-df-buttons div {\n",
              "      margin-bottom: 4px;\n",
              "    }\n",
              "\n",
              "    [theme=dark] .colab-df-convert {\n",
              "      background-color: #3B4455;\n",
              "      fill: #D2E3FC;\n",
              "    }\n",
              "\n",
              "    [theme=dark] .colab-df-convert:hover {\n",
              "      background-color: #434B5C;\n",
              "      box-shadow: 0px 1px 3px 1px rgba(0, 0, 0, 0.15);\n",
              "      filter: drop-shadow(0px 1px 2px rgba(0, 0, 0, 0.3));\n",
              "      fill: #FFFFFF;\n",
              "    }\n",
              "  </style>\n",
              "\n",
              "    <script>\n",
              "      const buttonEl =\n",
              "        document.querySelector('#df-5c885cd5-21f4-4692-b844-340e9b5b98e8 button.colab-df-convert');\n",
              "      buttonEl.style.display =\n",
              "        google.colab.kernel.accessAllowed ? 'block' : 'none';\n",
              "\n",
              "      async function convertToInteractive(key) {\n",
              "        const element = document.querySelector('#df-5c885cd5-21f4-4692-b844-340e9b5b98e8');\n",
              "        const dataTable =\n",
              "          await google.colab.kernel.invokeFunction('convertToInteractive',\n",
              "                                                    [key], {});\n",
              "        if (!dataTable) return;\n",
              "\n",
              "        const docLinkHtml = 'Like what you see? Visit the ' +\n",
              "          '<a target=\"_blank\" href=https://colab.research.google.com/notebooks/data_table.ipynb>data table notebook</a>'\n",
              "          + ' to learn more about interactive tables.';\n",
              "        element.innerHTML = '';\n",
              "        dataTable['output_type'] = 'display_data';\n",
              "        await google.colab.output.renderOutput(dataTable, element);\n",
              "        const docLink = document.createElement('div');\n",
              "        docLink.innerHTML = docLinkHtml;\n",
              "        element.appendChild(docLink);\n",
              "      }\n",
              "    </script>\n",
              "  </div>\n",
              "\n",
              "\n",
              "<div id=\"df-ccbbfc0f-f8c5-42e2-9c7b-cbaa8c72f253\">\n",
              "  <button class=\"colab-df-quickchart\" onclick=\"quickchart('df-ccbbfc0f-f8c5-42e2-9c7b-cbaa8c72f253')\"\n",
              "            title=\"Suggest charts\"\n",
              "            style=\"display:none;\">\n",
              "\n",
              "<svg xmlns=\"http://www.w3.org/2000/svg\" height=\"24px\"viewBox=\"0 0 24 24\"\n",
              "     width=\"24px\">\n",
              "    <g>\n",
              "        <path d=\"M19 3H5c-1.1 0-2 .9-2 2v14c0 1.1.9 2 2 2h14c1.1 0 2-.9 2-2V5c0-1.1-.9-2-2-2zM9 17H7v-7h2v7zm4 0h-2V7h2v10zm4 0h-2v-4h2v4z\"/>\n",
              "    </g>\n",
              "</svg>\n",
              "  </button>\n",
              "\n",
              "<style>\n",
              "  .colab-df-quickchart {\n",
              "      --bg-color: #E8F0FE;\n",
              "      --fill-color: #1967D2;\n",
              "      --hover-bg-color: #E2EBFA;\n",
              "      --hover-fill-color: #174EA6;\n",
              "      --disabled-fill-color: #AAA;\n",
              "      --disabled-bg-color: #DDD;\n",
              "  }\n",
              "\n",
              "  [theme=dark] .colab-df-quickchart {\n",
              "      --bg-color: #3B4455;\n",
              "      --fill-color: #D2E3FC;\n",
              "      --hover-bg-color: #434B5C;\n",
              "      --hover-fill-color: #FFFFFF;\n",
              "      --disabled-bg-color: #3B4455;\n",
              "      --disabled-fill-color: #666;\n",
              "  }\n",
              "\n",
              "  .colab-df-quickchart {\n",
              "    background-color: var(--bg-color);\n",
              "    border: none;\n",
              "    border-radius: 50%;\n",
              "    cursor: pointer;\n",
              "    display: none;\n",
              "    fill: var(--fill-color);\n",
              "    height: 32px;\n",
              "    padding: 0;\n",
              "    width: 32px;\n",
              "  }\n",
              "\n",
              "  .colab-df-quickchart:hover {\n",
              "    background-color: var(--hover-bg-color);\n",
              "    box-shadow: 0 1px 2px rgba(60, 64, 67, 0.3), 0 1px 3px 1px rgba(60, 64, 67, 0.15);\n",
              "    fill: var(--button-hover-fill-color);\n",
              "  }\n",
              "\n",
              "  .colab-df-quickchart-complete:disabled,\n",
              "  .colab-df-quickchart-complete:disabled:hover {\n",
              "    background-color: var(--disabled-bg-color);\n",
              "    fill: var(--disabled-fill-color);\n",
              "    box-shadow: none;\n",
              "  }\n",
              "\n",
              "  .colab-df-spinner {\n",
              "    border: 2px solid var(--fill-color);\n",
              "    border-color: transparent;\n",
              "    border-bottom-color: var(--fill-color);\n",
              "    animation:\n",
              "      spin 1s steps(1) infinite;\n",
              "  }\n",
              "\n",
              "  @keyframes spin {\n",
              "    0% {\n",
              "      border-color: transparent;\n",
              "      border-bottom-color: var(--fill-color);\n",
              "      border-left-color: var(--fill-color);\n",
              "    }\n",
              "    20% {\n",
              "      border-color: transparent;\n",
              "      border-left-color: var(--fill-color);\n",
              "      border-top-color: var(--fill-color);\n",
              "    }\n",
              "    30% {\n",
              "      border-color: transparent;\n",
              "      border-left-color: var(--fill-color);\n",
              "      border-top-color: var(--fill-color);\n",
              "      border-right-color: var(--fill-color);\n",
              "    }\n",
              "    40% {\n",
              "      border-color: transparent;\n",
              "      border-right-color: var(--fill-color);\n",
              "      border-top-color: var(--fill-color);\n",
              "    }\n",
              "    60% {\n",
              "      border-color: transparent;\n",
              "      border-right-color: var(--fill-color);\n",
              "    }\n",
              "    80% {\n",
              "      border-color: transparent;\n",
              "      border-right-color: var(--fill-color);\n",
              "      border-bottom-color: var(--fill-color);\n",
              "    }\n",
              "    90% {\n",
              "      border-color: transparent;\n",
              "      border-bottom-color: var(--fill-color);\n",
              "    }\n",
              "  }\n",
              "</style>\n",
              "\n",
              "  <script>\n",
              "    async function quickchart(key) {\n",
              "      const quickchartButtonEl =\n",
              "        document.querySelector('#' + key + ' button');\n",
              "      quickchartButtonEl.disabled = true;  // To prevent multiple clicks.\n",
              "      quickchartButtonEl.classList.add('colab-df-spinner');\n",
              "      try {\n",
              "        const charts = await google.colab.kernel.invokeFunction(\n",
              "            'suggestCharts', [key], {});\n",
              "      } catch (error) {\n",
              "        console.error('Error during call to suggestCharts:', error);\n",
              "      }\n",
              "      quickchartButtonEl.classList.remove('colab-df-spinner');\n",
              "      quickchartButtonEl.classList.add('colab-df-quickchart-complete');\n",
              "    }\n",
              "    (() => {\n",
              "      let quickchartButtonEl =\n",
              "        document.querySelector('#df-ccbbfc0f-f8c5-42e2-9c7b-cbaa8c72f253 button');\n",
              "      quickchartButtonEl.style.display =\n",
              "        google.colab.kernel.accessAllowed ? 'block' : 'none';\n",
              "    })();\n",
              "  </script>\n",
              "</div>\n",
              "    </div>\n",
              "  </div>\n"
            ],
            "application/vnd.google.colaboratory.intrinsic+json": {
              "type": "dataframe",
              "variable_name": "users_count_a",
              "summary": "{\n  \"name\": \"users_count_a\",\n  \"rows\": 5,\n  \"fields\": [\n    {\n      \"column\": \"step\",\n      \"properties\": {\n        \"dtype\": \"string\",\n        \"num_unique_values\": 5,\n        \"samples\": [\n          \"login\",\n          \"purchase\",\n          \"product_page\"\n        ],\n        \"semantic_type\": \"\",\n        \"description\": \"\"\n      }\n    },\n    {\n      \"column\": \"user_count\",\n      \"properties\": {\n        \"dtype\": \"number\",\n        \"std\": 784,\n        \"min\": 686,\n        \"max\": 2279,\n        \"num_unique_values\": 4,\n        \"samples\": [\n          1476,\n          734,\n          2279\n        ],\n        \"semantic_type\": \"\",\n        \"description\": \"\"\n      }\n    },\n    {\n      \"column\": \"group\",\n      \"properties\": {\n        \"dtype\": \"category\",\n        \"num_unique_values\": 1,\n        \"samples\": [\n          \"A\"\n        ],\n        \"semantic_type\": \"\",\n        \"description\": \"\"\n      }\n    }\n  ]\n}"
            }
          },
          "metadata": {},
          "execution_count": 56
        }
      ],
      "source": [
        "# собираем воронку пользователей группы А\n",
        "users_count_a = df[df['group'] == \"A\"].groupby('event_name').agg({'user_id': 'nunique'}).sort_values(by='user_id', ascending=False).rename(columns={'user_id': 'user_count'})\n",
        "first_step = pd.DataFrame(data = {'user_count': [df[df['group'] == 'A']['user_id'].unique().shape[0]]},\n",
        "                          index=(['sign_up']))\n",
        "users_count_a = pd.concat([users_count_a, first_step])\n",
        "\n",
        "\n",
        "new_index = ['sign_up', 'login', 'product_page', 'product_cart', 'purchase']\n",
        "users_count_a = users_count_a.reindex(new_index)\n",
        "users_count_a['group'] = 'A'\n",
        "users_count_a = users_count_a.reset_index().rename(columns={'index':'step'})\n",
        "users_count_a"
      ]
    },
    {
      "cell_type": "code",
      "execution_count": 57,
      "metadata": {
        "id": "nEeJWksk83p_",
        "outputId": "d8780b53-8253-4b65-e552-638cee61d62c",
        "colab": {
          "base_uri": "https://localhost:8080/",
          "height": 206
        }
      },
      "outputs": [
        {
          "output_type": "execute_result",
          "data": {
            "text/plain": [
              "           step  user_count group\n",
              "0  sign_up       771         B   \n",
              "1  login         770         B   \n",
              "2  product_page  429         B   \n",
              "3  product_cart  214         B   \n",
              "4  purchase      219         B   "
            ],
            "text/html": [
              "\n",
              "  <div id=\"df-fadcfabb-9b3a-40b7-99e6-780c68bdb2a1\" class=\"colab-df-container\">\n",
              "    <div>\n",
              "<style scoped>\n",
              "    .dataframe tbody tr th:only-of-type {\n",
              "        vertical-align: middle;\n",
              "    }\n",
              "\n",
              "    .dataframe tbody tr th {\n",
              "        vertical-align: top;\n",
              "    }\n",
              "\n",
              "    .dataframe thead th {\n",
              "        text-align: right;\n",
              "    }\n",
              "</style>\n",
              "<table border=\"1\" class=\"dataframe\">\n",
              "  <thead>\n",
              "    <tr style=\"text-align: right;\">\n",
              "      <th></th>\n",
              "      <th>step</th>\n",
              "      <th>user_count</th>\n",
              "      <th>group</th>\n",
              "    </tr>\n",
              "  </thead>\n",
              "  <tbody>\n",
              "    <tr>\n",
              "      <th>0</th>\n",
              "      <td>sign_up</td>\n",
              "      <td>771</td>\n",
              "      <td>B</td>\n",
              "    </tr>\n",
              "    <tr>\n",
              "      <th>1</th>\n",
              "      <td>login</td>\n",
              "      <td>770</td>\n",
              "      <td>B</td>\n",
              "    </tr>\n",
              "    <tr>\n",
              "      <th>2</th>\n",
              "      <td>product_page</td>\n",
              "      <td>429</td>\n",
              "      <td>B</td>\n",
              "    </tr>\n",
              "    <tr>\n",
              "      <th>3</th>\n",
              "      <td>product_cart</td>\n",
              "      <td>214</td>\n",
              "      <td>B</td>\n",
              "    </tr>\n",
              "    <tr>\n",
              "      <th>4</th>\n",
              "      <td>purchase</td>\n",
              "      <td>219</td>\n",
              "      <td>B</td>\n",
              "    </tr>\n",
              "  </tbody>\n",
              "</table>\n",
              "</div>\n",
              "    <div class=\"colab-df-buttons\">\n",
              "\n",
              "  <div class=\"colab-df-container\">\n",
              "    <button class=\"colab-df-convert\" onclick=\"convertToInteractive('df-fadcfabb-9b3a-40b7-99e6-780c68bdb2a1')\"\n",
              "            title=\"Convert this dataframe to an interactive table.\"\n",
              "            style=\"display:none;\">\n",
              "\n",
              "  <svg xmlns=\"http://www.w3.org/2000/svg\" height=\"24px\" viewBox=\"0 -960 960 960\">\n",
              "    <path d=\"M120-120v-720h720v720H120Zm60-500h600v-160H180v160Zm220 220h160v-160H400v160Zm0 220h160v-160H400v160ZM180-400h160v-160H180v160Zm440 0h160v-160H620v160ZM180-180h160v-160H180v160Zm440 0h160v-160H620v160Z\"/>\n",
              "  </svg>\n",
              "    </button>\n",
              "\n",
              "  <style>\n",
              "    .colab-df-container {\n",
              "      display:flex;\n",
              "      gap: 12px;\n",
              "    }\n",
              "\n",
              "    .colab-df-convert {\n",
              "      background-color: #E8F0FE;\n",
              "      border: none;\n",
              "      border-radius: 50%;\n",
              "      cursor: pointer;\n",
              "      display: none;\n",
              "      fill: #1967D2;\n",
              "      height: 32px;\n",
              "      padding: 0 0 0 0;\n",
              "      width: 32px;\n",
              "    }\n",
              "\n",
              "    .colab-df-convert:hover {\n",
              "      background-color: #E2EBFA;\n",
              "      box-shadow: 0px 1px 2px rgba(60, 64, 67, 0.3), 0px 1px 3px 1px rgba(60, 64, 67, 0.15);\n",
              "      fill: #174EA6;\n",
              "    }\n",
              "\n",
              "    .colab-df-buttons div {\n",
              "      margin-bottom: 4px;\n",
              "    }\n",
              "\n",
              "    [theme=dark] .colab-df-convert {\n",
              "      background-color: #3B4455;\n",
              "      fill: #D2E3FC;\n",
              "    }\n",
              "\n",
              "    [theme=dark] .colab-df-convert:hover {\n",
              "      background-color: #434B5C;\n",
              "      box-shadow: 0px 1px 3px 1px rgba(0, 0, 0, 0.15);\n",
              "      filter: drop-shadow(0px 1px 2px rgba(0, 0, 0, 0.3));\n",
              "      fill: #FFFFFF;\n",
              "    }\n",
              "  </style>\n",
              "\n",
              "    <script>\n",
              "      const buttonEl =\n",
              "        document.querySelector('#df-fadcfabb-9b3a-40b7-99e6-780c68bdb2a1 button.colab-df-convert');\n",
              "      buttonEl.style.display =\n",
              "        google.colab.kernel.accessAllowed ? 'block' : 'none';\n",
              "\n",
              "      async function convertToInteractive(key) {\n",
              "        const element = document.querySelector('#df-fadcfabb-9b3a-40b7-99e6-780c68bdb2a1');\n",
              "        const dataTable =\n",
              "          await google.colab.kernel.invokeFunction('convertToInteractive',\n",
              "                                                    [key], {});\n",
              "        if (!dataTable) return;\n",
              "\n",
              "        const docLinkHtml = 'Like what you see? Visit the ' +\n",
              "          '<a target=\"_blank\" href=https://colab.research.google.com/notebooks/data_table.ipynb>data table notebook</a>'\n",
              "          + ' to learn more about interactive tables.';\n",
              "        element.innerHTML = '';\n",
              "        dataTable['output_type'] = 'display_data';\n",
              "        await google.colab.output.renderOutput(dataTable, element);\n",
              "        const docLink = document.createElement('div');\n",
              "        docLink.innerHTML = docLinkHtml;\n",
              "        element.appendChild(docLink);\n",
              "      }\n",
              "    </script>\n",
              "  </div>\n",
              "\n",
              "\n",
              "<div id=\"df-2d56c7cd-785f-46a2-8f13-f13141aa1374\">\n",
              "  <button class=\"colab-df-quickchart\" onclick=\"quickchart('df-2d56c7cd-785f-46a2-8f13-f13141aa1374')\"\n",
              "            title=\"Suggest charts\"\n",
              "            style=\"display:none;\">\n",
              "\n",
              "<svg xmlns=\"http://www.w3.org/2000/svg\" height=\"24px\"viewBox=\"0 0 24 24\"\n",
              "     width=\"24px\">\n",
              "    <g>\n",
              "        <path d=\"M19 3H5c-1.1 0-2 .9-2 2v14c0 1.1.9 2 2 2h14c1.1 0 2-.9 2-2V5c0-1.1-.9-2-2-2zM9 17H7v-7h2v7zm4 0h-2V7h2v10zm4 0h-2v-4h2v4z\"/>\n",
              "    </g>\n",
              "</svg>\n",
              "  </button>\n",
              "\n",
              "<style>\n",
              "  .colab-df-quickchart {\n",
              "      --bg-color: #E8F0FE;\n",
              "      --fill-color: #1967D2;\n",
              "      --hover-bg-color: #E2EBFA;\n",
              "      --hover-fill-color: #174EA6;\n",
              "      --disabled-fill-color: #AAA;\n",
              "      --disabled-bg-color: #DDD;\n",
              "  }\n",
              "\n",
              "  [theme=dark] .colab-df-quickchart {\n",
              "      --bg-color: #3B4455;\n",
              "      --fill-color: #D2E3FC;\n",
              "      --hover-bg-color: #434B5C;\n",
              "      --hover-fill-color: #FFFFFF;\n",
              "      --disabled-bg-color: #3B4455;\n",
              "      --disabled-fill-color: #666;\n",
              "  }\n",
              "\n",
              "  .colab-df-quickchart {\n",
              "    background-color: var(--bg-color);\n",
              "    border: none;\n",
              "    border-radius: 50%;\n",
              "    cursor: pointer;\n",
              "    display: none;\n",
              "    fill: var(--fill-color);\n",
              "    height: 32px;\n",
              "    padding: 0;\n",
              "    width: 32px;\n",
              "  }\n",
              "\n",
              "  .colab-df-quickchart:hover {\n",
              "    background-color: var(--hover-bg-color);\n",
              "    box-shadow: 0 1px 2px rgba(60, 64, 67, 0.3), 0 1px 3px 1px rgba(60, 64, 67, 0.15);\n",
              "    fill: var(--button-hover-fill-color);\n",
              "  }\n",
              "\n",
              "  .colab-df-quickchart-complete:disabled,\n",
              "  .colab-df-quickchart-complete:disabled:hover {\n",
              "    background-color: var(--disabled-bg-color);\n",
              "    fill: var(--disabled-fill-color);\n",
              "    box-shadow: none;\n",
              "  }\n",
              "\n",
              "  .colab-df-spinner {\n",
              "    border: 2px solid var(--fill-color);\n",
              "    border-color: transparent;\n",
              "    border-bottom-color: var(--fill-color);\n",
              "    animation:\n",
              "      spin 1s steps(1) infinite;\n",
              "  }\n",
              "\n",
              "  @keyframes spin {\n",
              "    0% {\n",
              "      border-color: transparent;\n",
              "      border-bottom-color: var(--fill-color);\n",
              "      border-left-color: var(--fill-color);\n",
              "    }\n",
              "    20% {\n",
              "      border-color: transparent;\n",
              "      border-left-color: var(--fill-color);\n",
              "      border-top-color: var(--fill-color);\n",
              "    }\n",
              "    30% {\n",
              "      border-color: transparent;\n",
              "      border-left-color: var(--fill-color);\n",
              "      border-top-color: var(--fill-color);\n",
              "      border-right-color: var(--fill-color);\n",
              "    }\n",
              "    40% {\n",
              "      border-color: transparent;\n",
              "      border-right-color: var(--fill-color);\n",
              "      border-top-color: var(--fill-color);\n",
              "    }\n",
              "    60% {\n",
              "      border-color: transparent;\n",
              "      border-right-color: var(--fill-color);\n",
              "    }\n",
              "    80% {\n",
              "      border-color: transparent;\n",
              "      border-right-color: var(--fill-color);\n",
              "      border-bottom-color: var(--fill-color);\n",
              "    }\n",
              "    90% {\n",
              "      border-color: transparent;\n",
              "      border-bottom-color: var(--fill-color);\n",
              "    }\n",
              "  }\n",
              "</style>\n",
              "\n",
              "  <script>\n",
              "    async function quickchart(key) {\n",
              "      const quickchartButtonEl =\n",
              "        document.querySelector('#' + key + ' button');\n",
              "      quickchartButtonEl.disabled = true;  // To prevent multiple clicks.\n",
              "      quickchartButtonEl.classList.add('colab-df-spinner');\n",
              "      try {\n",
              "        const charts = await google.colab.kernel.invokeFunction(\n",
              "            'suggestCharts', [key], {});\n",
              "      } catch (error) {\n",
              "        console.error('Error during call to suggestCharts:', error);\n",
              "      }\n",
              "      quickchartButtonEl.classList.remove('colab-df-spinner');\n",
              "      quickchartButtonEl.classList.add('colab-df-quickchart-complete');\n",
              "    }\n",
              "    (() => {\n",
              "      let quickchartButtonEl =\n",
              "        document.querySelector('#df-2d56c7cd-785f-46a2-8f13-f13141aa1374 button');\n",
              "      quickchartButtonEl.style.display =\n",
              "        google.colab.kernel.accessAllowed ? 'block' : 'none';\n",
              "    })();\n",
              "  </script>\n",
              "</div>\n",
              "    </div>\n",
              "  </div>\n"
            ],
            "application/vnd.google.colaboratory.intrinsic+json": {
              "type": "dataframe",
              "variable_name": "users_count_b",
              "summary": "{\n  \"name\": \"users_count_b\",\n  \"rows\": 5,\n  \"fields\": [\n    {\n      \"column\": \"step\",\n      \"properties\": {\n        \"dtype\": \"string\",\n        \"num_unique_values\": 5,\n        \"samples\": [\n          \"login\",\n          \"purchase\",\n          \"product_page\"\n        ],\n        \"semantic_type\": \"\",\n        \"description\": \"\"\n      }\n    },\n    {\n      \"column\": \"user_count\",\n      \"properties\": {\n        \"dtype\": \"number\",\n        \"std\": 278,\n        \"min\": 214,\n        \"max\": 771,\n        \"num_unique_values\": 5,\n        \"samples\": [\n          770,\n          219,\n          429\n        ],\n        \"semantic_type\": \"\",\n        \"description\": \"\"\n      }\n    },\n    {\n      \"column\": \"group\",\n      \"properties\": {\n        \"dtype\": \"category\",\n        \"num_unique_values\": 1,\n        \"samples\": [\n          \"B\"\n        ],\n        \"semantic_type\": \"\",\n        \"description\": \"\"\n      }\n    }\n  ]\n}"
            }
          },
          "metadata": {},
          "execution_count": 57
        }
      ],
      "source": [
        "# собираем воронку пользователей группы В\n",
        "users_count_b = df[df['group'] == \"B\"].groupby('event_name').agg({'user_id': 'nunique'}).sort_values(by='user_id', ascending=False).rename(columns={'user_id': 'user_count'})\n",
        "first_step = pd.DataFrame(data = {'user_count': [df[df['group'] == 'B']['user_id'].unique().shape[0]]},\n",
        "                          index=(['sign_up']))\n",
        "users_count_b = pd.concat([users_count_b, first_step])\n",
        "\n",
        "\n",
        "new_index = ['sign_up', 'login', 'product_page', 'product_cart', 'purchase']\n",
        "users_count_b = users_count_b.reindex(new_index)\n",
        "users_count_b['group'] = 'B'\n",
        "users_count_b = users_count_b.reset_index().rename(columns={'index':'step'})\n",
        "users_count_b"
      ]
    },
    {
      "cell_type": "code",
      "execution_count": 58,
      "metadata": {
        "id": "ljsUC1Si83p_",
        "outputId": "f8f631d6-25e5-4e53-8f4f-e476f31df3b9",
        "colab": {
          "base_uri": "https://localhost:8080/",
          "height": 542
        }
      },
      "outputs": [
        {
          "output_type": "display_data",
          "data": {
            "text/html": [
              "<html>\n",
              "<head><meta charset=\"utf-8\" /></head>\n",
              "<body>\n",
              "    <div>            <script src=\"https://cdnjs.cloudflare.com/ajax/libs/mathjax/2.7.5/MathJax.js?config=TeX-AMS-MML_SVG\"></script><script type=\"text/javascript\">if (window.MathJax && window.MathJax.Hub && window.MathJax.Hub.Config) {window.MathJax.Hub.Config({SVG: {font: \"STIX-Web\"}});}</script>                <script type=\"text/javascript\">window.PlotlyConfig = {MathJaxConfig: 'local'};</script>\n",
              "        <script charset=\"utf-8\" src=\"https://cdn.plot.ly/plotly-2.24.1.min.js\"></script>                <div id=\"5cd5d2ab-27e2-491d-acc8-24e589971cd4\" class=\"plotly-graph-div\" style=\"height:525px; width:100%;\"></div>            <script type=\"text/javascript\">                                    window.PLOTLYENV=window.PLOTLYENV || {};                                    if (document.getElementById(\"5cd5d2ab-27e2-491d-acc8-24e589971cd4\")) {                    Plotly.newPlot(                        \"5cd5d2ab-27e2-491d-acc8-24e589971cd4\",                        [{\"name\":\"\\u0413\\u0440\\u0443\\u043f\\u043f\\u0430 \\u0410\",\"textinfo\":\"value+percent initial\",\"x\":[2279,2279,1476,686,734],\"y\":[\"sign_up\",\"login\",\"product_page\",\"product_cart\",\"purchase\"],\"type\":\"funnel\"},{\"name\":\"\\u0413\\u0440\\u0443\\u043f\\u043f\\u0430 B\",\"orientation\":\"h\",\"textinfo\":\"value+percent initial\",\"textposition\":\"inside\",\"x\":[771,770,429,214,219],\"y\":[\"sign_up\",\"login\",\"product_page\",\"product_cart\",\"purchase\"],\"type\":\"funnel\"}],                        {\"template\":{\"data\":{\"histogram2dcontour\":[{\"type\":\"histogram2dcontour\",\"colorbar\":{\"outlinewidth\":0,\"ticks\":\"\"},\"colorscale\":[[0.0,\"#0d0887\"],[0.1111111111111111,\"#46039f\"],[0.2222222222222222,\"#7201a8\"],[0.3333333333333333,\"#9c179e\"],[0.4444444444444444,\"#bd3786\"],[0.5555555555555556,\"#d8576b\"],[0.6666666666666666,\"#ed7953\"],[0.7777777777777778,\"#fb9f3a\"],[0.8888888888888888,\"#fdca26\"],[1.0,\"#f0f921\"]]}],\"choropleth\":[{\"type\":\"choropleth\",\"colorbar\":{\"outlinewidth\":0,\"ticks\":\"\"}}],\"histogram2d\":[{\"type\":\"histogram2d\",\"colorbar\":{\"outlinewidth\":0,\"ticks\":\"\"},\"colorscale\":[[0.0,\"#0d0887\"],[0.1111111111111111,\"#46039f\"],[0.2222222222222222,\"#7201a8\"],[0.3333333333333333,\"#9c179e\"],[0.4444444444444444,\"#bd3786\"],[0.5555555555555556,\"#d8576b\"],[0.6666666666666666,\"#ed7953\"],[0.7777777777777778,\"#fb9f3a\"],[0.8888888888888888,\"#fdca26\"],[1.0,\"#f0f921\"]]}],\"heatmap\":[{\"type\":\"heatmap\",\"colorbar\":{\"outlinewidth\":0,\"ticks\":\"\"},\"colorscale\":[[0.0,\"#0d0887\"],[0.1111111111111111,\"#46039f\"],[0.2222222222222222,\"#7201a8\"],[0.3333333333333333,\"#9c179e\"],[0.4444444444444444,\"#bd3786\"],[0.5555555555555556,\"#d8576b\"],[0.6666666666666666,\"#ed7953\"],[0.7777777777777778,\"#fb9f3a\"],[0.8888888888888888,\"#fdca26\"],[1.0,\"#f0f921\"]]}],\"heatmapgl\":[{\"type\":\"heatmapgl\",\"colorbar\":{\"outlinewidth\":0,\"ticks\":\"\"},\"colorscale\":[[0.0,\"#0d0887\"],[0.1111111111111111,\"#46039f\"],[0.2222222222222222,\"#7201a8\"],[0.3333333333333333,\"#9c179e\"],[0.4444444444444444,\"#bd3786\"],[0.5555555555555556,\"#d8576b\"],[0.6666666666666666,\"#ed7953\"],[0.7777777777777778,\"#fb9f3a\"],[0.8888888888888888,\"#fdca26\"],[1.0,\"#f0f921\"]]}],\"contourcarpet\":[{\"type\":\"contourcarpet\",\"colorbar\":{\"outlinewidth\":0,\"ticks\":\"\"}}],\"contour\":[{\"type\":\"contour\",\"colorbar\":{\"outlinewidth\":0,\"ticks\":\"\"},\"colorscale\":[[0.0,\"#0d0887\"],[0.1111111111111111,\"#46039f\"],[0.2222222222222222,\"#7201a8\"],[0.3333333333333333,\"#9c179e\"],[0.4444444444444444,\"#bd3786\"],[0.5555555555555556,\"#d8576b\"],[0.6666666666666666,\"#ed7953\"],[0.7777777777777778,\"#fb9f3a\"],[0.8888888888888888,\"#fdca26\"],[1.0,\"#f0f921\"]]}],\"surface\":[{\"type\":\"surface\",\"colorbar\":{\"outlinewidth\":0,\"ticks\":\"\"},\"colorscale\":[[0.0,\"#0d0887\"],[0.1111111111111111,\"#46039f\"],[0.2222222222222222,\"#7201a8\"],[0.3333333333333333,\"#9c179e\"],[0.4444444444444444,\"#bd3786\"],[0.5555555555555556,\"#d8576b\"],[0.6666666666666666,\"#ed7953\"],[0.7777777777777778,\"#fb9f3a\"],[0.8888888888888888,\"#fdca26\"],[1.0,\"#f0f921\"]]}],\"mesh3d\":[{\"type\":\"mesh3d\",\"colorbar\":{\"outlinewidth\":0,\"ticks\":\"\"}}],\"scatter\":[{\"fillpattern\":{\"fillmode\":\"overlay\",\"size\":10,\"solidity\":0.2},\"type\":\"scatter\"}],\"parcoords\":[{\"type\":\"parcoords\",\"line\":{\"colorbar\":{\"outlinewidth\":0,\"ticks\":\"\"}}}],\"scatterpolargl\":[{\"type\":\"scatterpolargl\",\"marker\":{\"colorbar\":{\"outlinewidth\":0,\"ticks\":\"\"}}}],\"bar\":[{\"error_x\":{\"color\":\"#2a3f5f\"},\"error_y\":{\"color\":\"#2a3f5f\"},\"marker\":{\"line\":{\"color\":\"#E5ECF6\",\"width\":0.5},\"pattern\":{\"fillmode\":\"overlay\",\"size\":10,\"solidity\":0.2}},\"type\":\"bar\"}],\"scattergeo\":[{\"type\":\"scattergeo\",\"marker\":{\"colorbar\":{\"outlinewidth\":0,\"ticks\":\"\"}}}],\"scatterpolar\":[{\"type\":\"scatterpolar\",\"marker\":{\"colorbar\":{\"outlinewidth\":0,\"ticks\":\"\"}}}],\"histogram\":[{\"marker\":{\"pattern\":{\"fillmode\":\"overlay\",\"size\":10,\"solidity\":0.2}},\"type\":\"histogram\"}],\"scattergl\":[{\"type\":\"scattergl\",\"marker\":{\"colorbar\":{\"outlinewidth\":0,\"ticks\":\"\"}}}],\"scatter3d\":[{\"type\":\"scatter3d\",\"line\":{\"colorbar\":{\"outlinewidth\":0,\"ticks\":\"\"}},\"marker\":{\"colorbar\":{\"outlinewidth\":0,\"ticks\":\"\"}}}],\"scattermapbox\":[{\"type\":\"scattermapbox\",\"marker\":{\"colorbar\":{\"outlinewidth\":0,\"ticks\":\"\"}}}],\"scatterternary\":[{\"type\":\"scatterternary\",\"marker\":{\"colorbar\":{\"outlinewidth\":0,\"ticks\":\"\"}}}],\"scattercarpet\":[{\"type\":\"scattercarpet\",\"marker\":{\"colorbar\":{\"outlinewidth\":0,\"ticks\":\"\"}}}],\"carpet\":[{\"aaxis\":{\"endlinecolor\":\"#2a3f5f\",\"gridcolor\":\"white\",\"linecolor\":\"white\",\"minorgridcolor\":\"white\",\"startlinecolor\":\"#2a3f5f\"},\"baxis\":{\"endlinecolor\":\"#2a3f5f\",\"gridcolor\":\"white\",\"linecolor\":\"white\",\"minorgridcolor\":\"white\",\"startlinecolor\":\"#2a3f5f\"},\"type\":\"carpet\"}],\"table\":[{\"cells\":{\"fill\":{\"color\":\"#EBF0F8\"},\"line\":{\"color\":\"white\"}},\"header\":{\"fill\":{\"color\":\"#C8D4E3\"},\"line\":{\"color\":\"white\"}},\"type\":\"table\"}],\"barpolar\":[{\"marker\":{\"line\":{\"color\":\"#E5ECF6\",\"width\":0.5},\"pattern\":{\"fillmode\":\"overlay\",\"size\":10,\"solidity\":0.2}},\"type\":\"barpolar\"}],\"pie\":[{\"automargin\":true,\"type\":\"pie\"}]},\"layout\":{\"autotypenumbers\":\"strict\",\"colorway\":[\"#636efa\",\"#EF553B\",\"#00cc96\",\"#ab63fa\",\"#FFA15A\",\"#19d3f3\",\"#FF6692\",\"#B6E880\",\"#FF97FF\",\"#FECB52\"],\"font\":{\"color\":\"#2a3f5f\"},\"hovermode\":\"closest\",\"hoverlabel\":{\"align\":\"left\"},\"paper_bgcolor\":\"white\",\"plot_bgcolor\":\"#E5ECF6\",\"polar\":{\"bgcolor\":\"#E5ECF6\",\"angularaxis\":{\"gridcolor\":\"white\",\"linecolor\":\"white\",\"ticks\":\"\"},\"radialaxis\":{\"gridcolor\":\"white\",\"linecolor\":\"white\",\"ticks\":\"\"}},\"ternary\":{\"bgcolor\":\"#E5ECF6\",\"aaxis\":{\"gridcolor\":\"white\",\"linecolor\":\"white\",\"ticks\":\"\"},\"baxis\":{\"gridcolor\":\"white\",\"linecolor\":\"white\",\"ticks\":\"\"},\"caxis\":{\"gridcolor\":\"white\",\"linecolor\":\"white\",\"ticks\":\"\"}},\"coloraxis\":{\"colorbar\":{\"outlinewidth\":0,\"ticks\":\"\"}},\"colorscale\":{\"sequential\":[[0.0,\"#0d0887\"],[0.1111111111111111,\"#46039f\"],[0.2222222222222222,\"#7201a8\"],[0.3333333333333333,\"#9c179e\"],[0.4444444444444444,\"#bd3786\"],[0.5555555555555556,\"#d8576b\"],[0.6666666666666666,\"#ed7953\"],[0.7777777777777778,\"#fb9f3a\"],[0.8888888888888888,\"#fdca26\"],[1.0,\"#f0f921\"]],\"sequentialminus\":[[0.0,\"#0d0887\"],[0.1111111111111111,\"#46039f\"],[0.2222222222222222,\"#7201a8\"],[0.3333333333333333,\"#9c179e\"],[0.4444444444444444,\"#bd3786\"],[0.5555555555555556,\"#d8576b\"],[0.6666666666666666,\"#ed7953\"],[0.7777777777777778,\"#fb9f3a\"],[0.8888888888888888,\"#fdca26\"],[1.0,\"#f0f921\"]],\"diverging\":[[0,\"#8e0152\"],[0.1,\"#c51b7d\"],[0.2,\"#de77ae\"],[0.3,\"#f1b6da\"],[0.4,\"#fde0ef\"],[0.5,\"#f7f7f7\"],[0.6,\"#e6f5d0\"],[0.7,\"#b8e186\"],[0.8,\"#7fbc41\"],[0.9,\"#4d9221\"],[1,\"#276419\"]]},\"xaxis\":{\"gridcolor\":\"white\",\"linecolor\":\"white\",\"ticks\":\"\",\"title\":{\"standoff\":15},\"zerolinecolor\":\"white\",\"automargin\":true,\"zerolinewidth\":2},\"yaxis\":{\"gridcolor\":\"white\",\"linecolor\":\"white\",\"ticks\":\"\",\"title\":{\"standoff\":15},\"zerolinecolor\":\"white\",\"automargin\":true,\"zerolinewidth\":2},\"scene\":{\"xaxis\":{\"backgroundcolor\":\"#E5ECF6\",\"gridcolor\":\"white\",\"linecolor\":\"white\",\"showbackground\":true,\"ticks\":\"\",\"zerolinecolor\":\"white\",\"gridwidth\":2},\"yaxis\":{\"backgroundcolor\":\"#E5ECF6\",\"gridcolor\":\"white\",\"linecolor\":\"white\",\"showbackground\":true,\"ticks\":\"\",\"zerolinecolor\":\"white\",\"gridwidth\":2},\"zaxis\":{\"backgroundcolor\":\"#E5ECF6\",\"gridcolor\":\"white\",\"linecolor\":\"white\",\"showbackground\":true,\"ticks\":\"\",\"zerolinecolor\":\"white\",\"gridwidth\":2}},\"shapedefaults\":{\"line\":{\"color\":\"#2a3f5f\"}},\"annotationdefaults\":{\"arrowcolor\":\"#2a3f5f\",\"arrowhead\":0,\"arrowwidth\":1},\"geo\":{\"bgcolor\":\"white\",\"landcolor\":\"#E5ECF6\",\"subunitcolor\":\"white\",\"showland\":true,\"showlakes\":true,\"lakecolor\":\"white\"},\"title\":{\"x\":0.05},\"mapbox\":{\"style\":\"light\"}}},\"title\":{\"text\":\"\\u0412\\u043e\\u0440\\u043e\\u043d\\u043a\\u0430 `sign_up`-`login`-`product_page`-`product_cart`-`purchase`\",\"x\":0.5}},                        {\"responsive\": true}                    ).then(function(){\n",
              "                            \n",
              "var gd = document.getElementById('5cd5d2ab-27e2-491d-acc8-24e589971cd4');\n",
              "var x = new MutationObserver(function (mutations, observer) {{\n",
              "        var display = window.getComputedStyle(gd).display;\n",
              "        if (!display || display === 'none') {{\n",
              "            console.log([gd, 'removed!']);\n",
              "            Plotly.purge(gd);\n",
              "            observer.disconnect();\n",
              "        }}\n",
              "}});\n",
              "\n",
              "// Listen for the removal of the full notebook cells\n",
              "var notebookContainer = gd.closest('#notebook-container');\n",
              "if (notebookContainer) {{\n",
              "    x.observe(notebookContainer, {childList: true});\n",
              "}}\n",
              "\n",
              "// Listen for the clearing of the current output cell\n",
              "var outputEl = gd.closest('.output');\n",
              "if (outputEl) {{\n",
              "    x.observe(outputEl, {childList: true});\n",
              "}}\n",
              "\n",
              "                        })                };                            </script>        </div>\n",
              "</body>\n",
              "</html>"
            ]
          },
          "metadata": {}
        }
      ],
      "source": [
        "fig = go.Figure()\n",
        "fig.update_layout(title='Воронка `sign_up`-`login`-`product_page`-`product_cart`-`purchase`', title_x=0.5)\n",
        "fig.add_trace(go.Funnel(\n",
        "    name = 'Группа А',\n",
        "    y = users_count_a['step'],\n",
        "    x = users_count_a['user_count'],\n",
        "    textinfo = \"value+percent initial\"))\n",
        "\n",
        "fig.add_trace(go.Funnel(\n",
        "    name = 'Группа B',\n",
        "    orientation = \"h\",\n",
        "    y =  users_count_b['step'],\n",
        "    x = users_count_b['user_count'],\n",
        "    textposition = \"inside\",\n",
        "    textinfo = \"value+percent initial\"))\n",
        "\n",
        "fig.show()"
      ]
    },
    {
      "cell_type": "markdown",
      "metadata": {
        "id": "M21YqFZx83p_"
      },
      "source": [
        "#### Вывод\n",
        "\n",
        "Ожидаемый эффект изменения конверсии в продуктовой воронке экспериментальной группы по сравнению с контрольной не сбылся, конверсия, по интересующим нас этапам, на каждом шаге, в экспериментальной группе стала хуже, чем в контрольной"
      ]
    },
    {
      "cell_type": "markdown",
      "metadata": {
        "id": "FsXLBljh83p_"
      },
      "source": [
        "### Общий вывод\n",
        "Проведя проверку на соответствие данных техническому заданию можно сделать выводы:\n",
        "* Данные предоставлены не за весь срок проведения АБ теста\n",
        "* Во время проведения АБ теста проходило маркетинговое событие, которое, могло повлиять на данные, но, изучив активность пользователей, мы решили, что маркетинговое событие не повлияло на пользователей\n",
        "* Согласно ТЗ нам нужны были пользователи из EU и, исключительно, новые пользователи. В датафрейме участников теста были старые пользователи. Проверку на пользователей из других регионов мы не делали, заранее исключив таких пользователей\n",
        "* В датафрейме участников теста присутствовало пересечение пользователей по двум разным тестам, также пересекались пользователи по группам в рамках нужного теста. Данные почистили, пользователей из нашего теста, которые попали в контрольную группу конкурирующего теста сохранили, всех остальных удалили. Стоит отметить, что доля \"грязных\" очень велика - порядка `25%`\n",
        "* Часть пользователей, участвовавших в тесте, после регистрации не совершила ни одного действия и их доля также велика - `29%` контрольной группы и `68%` экспериментальной\n",
        "* Согласно ТЗ нас интересовали пользователи, которые не были старше `14` дней, поэтому, мы удалили все события, лайфтайм которых был больше `14`\n",
        "* По итогу, после всех операций по очистки данных у нас осталось `2279` уникальных пользователя контрольной группы и `771` уникальных пользователя экспериментальной группы\n",
        "* Ожидаемый эффект: за `14` дней с момента регистрации в системе пользователи покажут улучшение каждой метрики не менее, чем на `5` процентных пунктов не сбылся, конверсия экспериментальной группы хуже контрольной на всех этапах воронки\n",
        "* Ожидаемое количество участников теста: `15% `новых пользователей из региона `EU` - сбылось\n",
        "\n",
        "* Представьте развернутый вывод о соответствии теста требованиям технического задания и возможности получения достоверных результатов АБ-теста, исходя из базового показателя конверсии в 50%.\n",
        "    - Калькулятор размера выборки: [http://www.evanmiller.org/ab-testing/sample-size.html] определяет минимальны размер выборки для определения относительного различия между группами теста в `3%`, при базовой конверсии `50%`, мощности теста в `80%` и уровне значимости в `5%`  - `17440` наблюдений для каждой группы. Получается, что изначально тест был проведен с нарушениями. Достоверных результатов АБ-теста получить невозможно(`я тут так плаваю, не знаю правильно ли посчитал`)\n",
        "\n",
        "\n",
        "    "
      ]
    },
    {
      "cell_type": "markdown",
      "metadata": {
        "id": "PT_zgx4b83p_"
      },
      "source": [
        "- Калькулятор размера выборки: [https://www.evanmiller.org/ab-testing/sample-size.html] определяет минимальны размер выборки для определения относительного различия между группами теста в `5 процентных пунктов`, при базовой конверсии `50%`, мощности теста в `80%` и уровне значимости в `5%`  - `1567` наблюдений для каждой группы. Получается, что изначально тест был проведен с нарушениями. Группа `B` изначально сильно меньше минимального размера выборки, а группа `A`  на определенном этапе воронки тоже становится меньше минимального размера выборки. Достоверных результатов АБ-теста получить невозможно"
      ]
    },
    {
      "cell_type": "markdown",
      "metadata": {
        "id": "G6MtuQm383qA"
      },
      "source": [
        "## Шаг 4. Исследовательский анализ данных"
      ]
    },
    {
      "cell_type": "markdown",
      "metadata": {
        "id": "OtSvhPgP83qA"
      },
      "source": [
        "### 4.1 Распределение количества событий на пользователя в разрезе групп теста: постройте гистограмму распределения этой величины в разрезе групп и сравните её средние значения между собой у групп теста;"
      ]
    },
    {
      "cell_type": "code",
      "execution_count": 59,
      "metadata": {
        "id": "KT4yayWG83qA",
        "outputId": "76233d3d-6da3-4e28-ff62-ad63952538a9",
        "colab": {
          "base_uri": "https://localhost:8080/",
          "height": 206
        }
      },
      "outputs": [
        {
          "output_type": "execute_result",
          "data": {
            "text/plain": [
              "            user_id  events_count\n",
              "0  0010A1C096941592  12          \n",
              "1  00341D8401F0F665  2           \n",
              "2  003DF44D7589BBD4  15          \n",
              "3  00505E15A9D81546  5           \n",
              "4  005E096DBD379BCF  4           "
            ],
            "text/html": [
              "\n",
              "  <div id=\"df-3b40dfe2-4296-43e2-b704-362f1df724b5\" class=\"colab-df-container\">\n",
              "    <div>\n",
              "<style scoped>\n",
              "    .dataframe tbody tr th:only-of-type {\n",
              "        vertical-align: middle;\n",
              "    }\n",
              "\n",
              "    .dataframe tbody tr th {\n",
              "        vertical-align: top;\n",
              "    }\n",
              "\n",
              "    .dataframe thead th {\n",
              "        text-align: right;\n",
              "    }\n",
              "</style>\n",
              "<table border=\"1\" class=\"dataframe\">\n",
              "  <thead>\n",
              "    <tr style=\"text-align: right;\">\n",
              "      <th></th>\n",
              "      <th>user_id</th>\n",
              "      <th>events_count</th>\n",
              "    </tr>\n",
              "  </thead>\n",
              "  <tbody>\n",
              "    <tr>\n",
              "      <th>0</th>\n",
              "      <td>0010A1C096941592</td>\n",
              "      <td>12</td>\n",
              "    </tr>\n",
              "    <tr>\n",
              "      <th>1</th>\n",
              "      <td>00341D8401F0F665</td>\n",
              "      <td>2</td>\n",
              "    </tr>\n",
              "    <tr>\n",
              "      <th>2</th>\n",
              "      <td>003DF44D7589BBD4</td>\n",
              "      <td>15</td>\n",
              "    </tr>\n",
              "    <tr>\n",
              "      <th>3</th>\n",
              "      <td>00505E15A9D81546</td>\n",
              "      <td>5</td>\n",
              "    </tr>\n",
              "    <tr>\n",
              "      <th>4</th>\n",
              "      <td>005E096DBD379BCF</td>\n",
              "      <td>4</td>\n",
              "    </tr>\n",
              "  </tbody>\n",
              "</table>\n",
              "</div>\n",
              "    <div class=\"colab-df-buttons\">\n",
              "\n",
              "  <div class=\"colab-df-container\">\n",
              "    <button class=\"colab-df-convert\" onclick=\"convertToInteractive('df-3b40dfe2-4296-43e2-b704-362f1df724b5')\"\n",
              "            title=\"Convert this dataframe to an interactive table.\"\n",
              "            style=\"display:none;\">\n",
              "\n",
              "  <svg xmlns=\"http://www.w3.org/2000/svg\" height=\"24px\" viewBox=\"0 -960 960 960\">\n",
              "    <path d=\"M120-120v-720h720v720H120Zm60-500h600v-160H180v160Zm220 220h160v-160H400v160Zm0 220h160v-160H400v160ZM180-400h160v-160H180v160Zm440 0h160v-160H620v160ZM180-180h160v-160H180v160Zm440 0h160v-160H620v160Z\"/>\n",
              "  </svg>\n",
              "    </button>\n",
              "\n",
              "  <style>\n",
              "    .colab-df-container {\n",
              "      display:flex;\n",
              "      gap: 12px;\n",
              "    }\n",
              "\n",
              "    .colab-df-convert {\n",
              "      background-color: #E8F0FE;\n",
              "      border: none;\n",
              "      border-radius: 50%;\n",
              "      cursor: pointer;\n",
              "      display: none;\n",
              "      fill: #1967D2;\n",
              "      height: 32px;\n",
              "      padding: 0 0 0 0;\n",
              "      width: 32px;\n",
              "    }\n",
              "\n",
              "    .colab-df-convert:hover {\n",
              "      background-color: #E2EBFA;\n",
              "      box-shadow: 0px 1px 2px rgba(60, 64, 67, 0.3), 0px 1px 3px 1px rgba(60, 64, 67, 0.15);\n",
              "      fill: #174EA6;\n",
              "    }\n",
              "\n",
              "    .colab-df-buttons div {\n",
              "      margin-bottom: 4px;\n",
              "    }\n",
              "\n",
              "    [theme=dark] .colab-df-convert {\n",
              "      background-color: #3B4455;\n",
              "      fill: #D2E3FC;\n",
              "    }\n",
              "\n",
              "    [theme=dark] .colab-df-convert:hover {\n",
              "      background-color: #434B5C;\n",
              "      box-shadow: 0px 1px 3px 1px rgba(0, 0, 0, 0.15);\n",
              "      filter: drop-shadow(0px 1px 2px rgba(0, 0, 0, 0.3));\n",
              "      fill: #FFFFFF;\n",
              "    }\n",
              "  </style>\n",
              "\n",
              "    <script>\n",
              "      const buttonEl =\n",
              "        document.querySelector('#df-3b40dfe2-4296-43e2-b704-362f1df724b5 button.colab-df-convert');\n",
              "      buttonEl.style.display =\n",
              "        google.colab.kernel.accessAllowed ? 'block' : 'none';\n",
              "\n",
              "      async function convertToInteractive(key) {\n",
              "        const element = document.querySelector('#df-3b40dfe2-4296-43e2-b704-362f1df724b5');\n",
              "        const dataTable =\n",
              "          await google.colab.kernel.invokeFunction('convertToInteractive',\n",
              "                                                    [key], {});\n",
              "        if (!dataTable) return;\n",
              "\n",
              "        const docLinkHtml = 'Like what you see? Visit the ' +\n",
              "          '<a target=\"_blank\" href=https://colab.research.google.com/notebooks/data_table.ipynb>data table notebook</a>'\n",
              "          + ' to learn more about interactive tables.';\n",
              "        element.innerHTML = '';\n",
              "        dataTable['output_type'] = 'display_data';\n",
              "        await google.colab.output.renderOutput(dataTable, element);\n",
              "        const docLink = document.createElement('div');\n",
              "        docLink.innerHTML = docLinkHtml;\n",
              "        element.appendChild(docLink);\n",
              "      }\n",
              "    </script>\n",
              "  </div>\n",
              "\n",
              "\n",
              "<div id=\"df-1b385d8f-3429-4f87-8567-bf4f5508909d\">\n",
              "  <button class=\"colab-df-quickchart\" onclick=\"quickchart('df-1b385d8f-3429-4f87-8567-bf4f5508909d')\"\n",
              "            title=\"Suggest charts\"\n",
              "            style=\"display:none;\">\n",
              "\n",
              "<svg xmlns=\"http://www.w3.org/2000/svg\" height=\"24px\"viewBox=\"0 0 24 24\"\n",
              "     width=\"24px\">\n",
              "    <g>\n",
              "        <path d=\"M19 3H5c-1.1 0-2 .9-2 2v14c0 1.1.9 2 2 2h14c1.1 0 2-.9 2-2V5c0-1.1-.9-2-2-2zM9 17H7v-7h2v7zm4 0h-2V7h2v10zm4 0h-2v-4h2v4z\"/>\n",
              "    </g>\n",
              "</svg>\n",
              "  </button>\n",
              "\n",
              "<style>\n",
              "  .colab-df-quickchart {\n",
              "      --bg-color: #E8F0FE;\n",
              "      --fill-color: #1967D2;\n",
              "      --hover-bg-color: #E2EBFA;\n",
              "      --hover-fill-color: #174EA6;\n",
              "      --disabled-fill-color: #AAA;\n",
              "      --disabled-bg-color: #DDD;\n",
              "  }\n",
              "\n",
              "  [theme=dark] .colab-df-quickchart {\n",
              "      --bg-color: #3B4455;\n",
              "      --fill-color: #D2E3FC;\n",
              "      --hover-bg-color: #434B5C;\n",
              "      --hover-fill-color: #FFFFFF;\n",
              "      --disabled-bg-color: #3B4455;\n",
              "      --disabled-fill-color: #666;\n",
              "  }\n",
              "\n",
              "  .colab-df-quickchart {\n",
              "    background-color: var(--bg-color);\n",
              "    border: none;\n",
              "    border-radius: 50%;\n",
              "    cursor: pointer;\n",
              "    display: none;\n",
              "    fill: var(--fill-color);\n",
              "    height: 32px;\n",
              "    padding: 0;\n",
              "    width: 32px;\n",
              "  }\n",
              "\n",
              "  .colab-df-quickchart:hover {\n",
              "    background-color: var(--hover-bg-color);\n",
              "    box-shadow: 0 1px 2px rgba(60, 64, 67, 0.3), 0 1px 3px 1px rgba(60, 64, 67, 0.15);\n",
              "    fill: var(--button-hover-fill-color);\n",
              "  }\n",
              "\n",
              "  .colab-df-quickchart-complete:disabled,\n",
              "  .colab-df-quickchart-complete:disabled:hover {\n",
              "    background-color: var(--disabled-bg-color);\n",
              "    fill: var(--disabled-fill-color);\n",
              "    box-shadow: none;\n",
              "  }\n",
              "\n",
              "  .colab-df-spinner {\n",
              "    border: 2px solid var(--fill-color);\n",
              "    border-color: transparent;\n",
              "    border-bottom-color: var(--fill-color);\n",
              "    animation:\n",
              "      spin 1s steps(1) infinite;\n",
              "  }\n",
              "\n",
              "  @keyframes spin {\n",
              "    0% {\n",
              "      border-color: transparent;\n",
              "      border-bottom-color: var(--fill-color);\n",
              "      border-left-color: var(--fill-color);\n",
              "    }\n",
              "    20% {\n",
              "      border-color: transparent;\n",
              "      border-left-color: var(--fill-color);\n",
              "      border-top-color: var(--fill-color);\n",
              "    }\n",
              "    30% {\n",
              "      border-color: transparent;\n",
              "      border-left-color: var(--fill-color);\n",
              "      border-top-color: var(--fill-color);\n",
              "      border-right-color: var(--fill-color);\n",
              "    }\n",
              "    40% {\n",
              "      border-color: transparent;\n",
              "      border-right-color: var(--fill-color);\n",
              "      border-top-color: var(--fill-color);\n",
              "    }\n",
              "    60% {\n",
              "      border-color: transparent;\n",
              "      border-right-color: var(--fill-color);\n",
              "    }\n",
              "    80% {\n",
              "      border-color: transparent;\n",
              "      border-right-color: var(--fill-color);\n",
              "      border-bottom-color: var(--fill-color);\n",
              "    }\n",
              "    90% {\n",
              "      border-color: transparent;\n",
              "      border-bottom-color: var(--fill-color);\n",
              "    }\n",
              "  }\n",
              "</style>\n",
              "\n",
              "  <script>\n",
              "    async function quickchart(key) {\n",
              "      const quickchartButtonEl =\n",
              "        document.querySelector('#' + key + ' button');\n",
              "      quickchartButtonEl.disabled = true;  // To prevent multiple clicks.\n",
              "      quickchartButtonEl.classList.add('colab-df-spinner');\n",
              "      try {\n",
              "        const charts = await google.colab.kernel.invokeFunction(\n",
              "            'suggestCharts', [key], {});\n",
              "      } catch (error) {\n",
              "        console.error('Error during call to suggestCharts:', error);\n",
              "      }\n",
              "      quickchartButtonEl.classList.remove('colab-df-spinner');\n",
              "      quickchartButtonEl.classList.add('colab-df-quickchart-complete');\n",
              "    }\n",
              "    (() => {\n",
              "      let quickchartButtonEl =\n",
              "        document.querySelector('#df-1b385d8f-3429-4f87-8567-bf4f5508909d button');\n",
              "      quickchartButtonEl.style.display =\n",
              "        google.colab.kernel.accessAllowed ? 'block' : 'none';\n",
              "    })();\n",
              "  </script>\n",
              "</div>\n",
              "    </div>\n",
              "  </div>\n"
            ],
            "application/vnd.google.colaboratory.intrinsic+json": {
              "type": "dataframe",
              "variable_name": "events_count_table",
              "summary": "{\n  \"name\": \"events_count_table\",\n  \"rows\": 3050,\n  \"fields\": [\n    {\n      \"column\": \"user_id\",\n      \"properties\": {\n        \"dtype\": \"string\",\n        \"num_unique_values\": 3050,\n        \"samples\": [\n          \"81B2CFB5C79627DD\",\n          \"C56A31CE1C750E9B\",\n          \"A5D8C583CD59B97A\"\n        ],\n        \"semantic_type\": \"\",\n        \"description\": \"\"\n      }\n    },\n    {\n      \"column\": \"events_count\",\n      \"properties\": {\n        \"dtype\": \"number\",\n        \"std\": 3,\n        \"min\": 1,\n        \"max\": 24,\n        \"num_unique_values\": 20,\n        \"samples\": [\n          12,\n          21,\n          18\n        ],\n        \"semantic_type\": \"\",\n        \"description\": \"\"\n      }\n    }\n  ]\n}"
            }
          },
          "metadata": {},
          "execution_count": 59
        }
      ],
      "source": [
        "#посчитаем для каждого юзера сколько дейсвтий он совершил\n",
        "events_count_table = df.groupby(['user_id'])['event_name'].agg('count').reset_index().rename(columns={'event_name': 'events_count'})\n",
        "events_count_table.head()"
      ]
    },
    {
      "cell_type": "code",
      "execution_count": 60,
      "metadata": {
        "id": "7eTGzKaL83qA",
        "outputId": "c5a60609-efc8-4e9e-846d-fbf8170d17b7",
        "colab": {
          "base_uri": "https://localhost:8080/",
          "height": 206
        }
      },
      "outputs": [
        {
          "output_type": "execute_result",
          "data": {
            "text/plain": [
              "            user_id first_date region   device group                  ab_test  \\\n",
              "0  D72A72121175D8BE 2020-12-07  EU     PC       A     recommender_system_test   \n",
              "1  D72A72121175D8BE 2020-12-07  EU     PC       A     recommender_system_test   \n",
              "2  DD4352CDCF8C3D57 2020-12-07  EU     Android  B     recommender_system_test   \n",
              "3  DD4352CDCF8C3D57 2020-12-07  EU     Android  B     recommender_system_test   \n",
              "4  DD4352CDCF8C3D57 2020-12-07  EU     Android  B     recommender_system_test   \n",
              "\n",
              "             event_dt    event_name  details  lifetime  event_date  \\\n",
              "0 2020-12-07 21:52:10  product_page NaN       0         2020-12-07   \n",
              "1 2020-12-07 21:52:07  login        NaN       0         2020-12-07   \n",
              "2 2020-12-07 15:32:54  product_page NaN       0         2020-12-07   \n",
              "3 2020-12-08 08:29:31  product_page NaN       1         2020-12-08   \n",
              "4 2020-12-10 18:18:27  product_page NaN       3         2020-12-10   \n",
              "\n",
              "   events_count  \n",
              "0  2             \n",
              "1  2             \n",
              "2  10            \n",
              "3  10            \n",
              "4  10            "
            ],
            "text/html": [
              "\n",
              "  <div id=\"df-7f78b0f4-c7aa-4b78-97a7-dcecc8a85646\" class=\"colab-df-container\">\n",
              "    <div>\n",
              "<style scoped>\n",
              "    .dataframe tbody tr th:only-of-type {\n",
              "        vertical-align: middle;\n",
              "    }\n",
              "\n",
              "    .dataframe tbody tr th {\n",
              "        vertical-align: top;\n",
              "    }\n",
              "\n",
              "    .dataframe thead th {\n",
              "        text-align: right;\n",
              "    }\n",
              "</style>\n",
              "<table border=\"1\" class=\"dataframe\">\n",
              "  <thead>\n",
              "    <tr style=\"text-align: right;\">\n",
              "      <th></th>\n",
              "      <th>user_id</th>\n",
              "      <th>first_date</th>\n",
              "      <th>region</th>\n",
              "      <th>device</th>\n",
              "      <th>group</th>\n",
              "      <th>ab_test</th>\n",
              "      <th>event_dt</th>\n",
              "      <th>event_name</th>\n",
              "      <th>details</th>\n",
              "      <th>lifetime</th>\n",
              "      <th>event_date</th>\n",
              "      <th>events_count</th>\n",
              "    </tr>\n",
              "  </thead>\n",
              "  <tbody>\n",
              "    <tr>\n",
              "      <th>0</th>\n",
              "      <td>D72A72121175D8BE</td>\n",
              "      <td>2020-12-07</td>\n",
              "      <td>EU</td>\n",
              "      <td>PC</td>\n",
              "      <td>A</td>\n",
              "      <td>recommender_system_test</td>\n",
              "      <td>2020-12-07 21:52:10</td>\n",
              "      <td>product_page</td>\n",
              "      <td>NaN</td>\n",
              "      <td>0</td>\n",
              "      <td>2020-12-07</td>\n",
              "      <td>2</td>\n",
              "    </tr>\n",
              "    <tr>\n",
              "      <th>1</th>\n",
              "      <td>D72A72121175D8BE</td>\n",
              "      <td>2020-12-07</td>\n",
              "      <td>EU</td>\n",
              "      <td>PC</td>\n",
              "      <td>A</td>\n",
              "      <td>recommender_system_test</td>\n",
              "      <td>2020-12-07 21:52:07</td>\n",
              "      <td>login</td>\n",
              "      <td>NaN</td>\n",
              "      <td>0</td>\n",
              "      <td>2020-12-07</td>\n",
              "      <td>2</td>\n",
              "    </tr>\n",
              "    <tr>\n",
              "      <th>2</th>\n",
              "      <td>DD4352CDCF8C3D57</td>\n",
              "      <td>2020-12-07</td>\n",
              "      <td>EU</td>\n",
              "      <td>Android</td>\n",
              "      <td>B</td>\n",
              "      <td>recommender_system_test</td>\n",
              "      <td>2020-12-07 15:32:54</td>\n",
              "      <td>product_page</td>\n",
              "      <td>NaN</td>\n",
              "      <td>0</td>\n",
              "      <td>2020-12-07</td>\n",
              "      <td>10</td>\n",
              "    </tr>\n",
              "    <tr>\n",
              "      <th>3</th>\n",
              "      <td>DD4352CDCF8C3D57</td>\n",
              "      <td>2020-12-07</td>\n",
              "      <td>EU</td>\n",
              "      <td>Android</td>\n",
              "      <td>B</td>\n",
              "      <td>recommender_system_test</td>\n",
              "      <td>2020-12-08 08:29:31</td>\n",
              "      <td>product_page</td>\n",
              "      <td>NaN</td>\n",
              "      <td>1</td>\n",
              "      <td>2020-12-08</td>\n",
              "      <td>10</td>\n",
              "    </tr>\n",
              "    <tr>\n",
              "      <th>4</th>\n",
              "      <td>DD4352CDCF8C3D57</td>\n",
              "      <td>2020-12-07</td>\n",
              "      <td>EU</td>\n",
              "      <td>Android</td>\n",
              "      <td>B</td>\n",
              "      <td>recommender_system_test</td>\n",
              "      <td>2020-12-10 18:18:27</td>\n",
              "      <td>product_page</td>\n",
              "      <td>NaN</td>\n",
              "      <td>3</td>\n",
              "      <td>2020-12-10</td>\n",
              "      <td>10</td>\n",
              "    </tr>\n",
              "  </tbody>\n",
              "</table>\n",
              "</div>\n",
              "    <div class=\"colab-df-buttons\">\n",
              "\n",
              "  <div class=\"colab-df-container\">\n",
              "    <button class=\"colab-df-convert\" onclick=\"convertToInteractive('df-7f78b0f4-c7aa-4b78-97a7-dcecc8a85646')\"\n",
              "            title=\"Convert this dataframe to an interactive table.\"\n",
              "            style=\"display:none;\">\n",
              "\n",
              "  <svg xmlns=\"http://www.w3.org/2000/svg\" height=\"24px\" viewBox=\"0 -960 960 960\">\n",
              "    <path d=\"M120-120v-720h720v720H120Zm60-500h600v-160H180v160Zm220 220h160v-160H400v160Zm0 220h160v-160H400v160ZM180-400h160v-160H180v160Zm440 0h160v-160H620v160ZM180-180h160v-160H180v160Zm440 0h160v-160H620v160Z\"/>\n",
              "  </svg>\n",
              "    </button>\n",
              "\n",
              "  <style>\n",
              "    .colab-df-container {\n",
              "      display:flex;\n",
              "      gap: 12px;\n",
              "    }\n",
              "\n",
              "    .colab-df-convert {\n",
              "      background-color: #E8F0FE;\n",
              "      border: none;\n",
              "      border-radius: 50%;\n",
              "      cursor: pointer;\n",
              "      display: none;\n",
              "      fill: #1967D2;\n",
              "      height: 32px;\n",
              "      padding: 0 0 0 0;\n",
              "      width: 32px;\n",
              "    }\n",
              "\n",
              "    .colab-df-convert:hover {\n",
              "      background-color: #E2EBFA;\n",
              "      box-shadow: 0px 1px 2px rgba(60, 64, 67, 0.3), 0px 1px 3px 1px rgba(60, 64, 67, 0.15);\n",
              "      fill: #174EA6;\n",
              "    }\n",
              "\n",
              "    .colab-df-buttons div {\n",
              "      margin-bottom: 4px;\n",
              "    }\n",
              "\n",
              "    [theme=dark] .colab-df-convert {\n",
              "      background-color: #3B4455;\n",
              "      fill: #D2E3FC;\n",
              "    }\n",
              "\n",
              "    [theme=dark] .colab-df-convert:hover {\n",
              "      background-color: #434B5C;\n",
              "      box-shadow: 0px 1px 3px 1px rgba(0, 0, 0, 0.15);\n",
              "      filter: drop-shadow(0px 1px 2px rgba(0, 0, 0, 0.3));\n",
              "      fill: #FFFFFF;\n",
              "    }\n",
              "  </style>\n",
              "\n",
              "    <script>\n",
              "      const buttonEl =\n",
              "        document.querySelector('#df-7f78b0f4-c7aa-4b78-97a7-dcecc8a85646 button.colab-df-convert');\n",
              "      buttonEl.style.display =\n",
              "        google.colab.kernel.accessAllowed ? 'block' : 'none';\n",
              "\n",
              "      async function convertToInteractive(key) {\n",
              "        const element = document.querySelector('#df-7f78b0f4-c7aa-4b78-97a7-dcecc8a85646');\n",
              "        const dataTable =\n",
              "          await google.colab.kernel.invokeFunction('convertToInteractive',\n",
              "                                                    [key], {});\n",
              "        if (!dataTable) return;\n",
              "\n",
              "        const docLinkHtml = 'Like what you see? Visit the ' +\n",
              "          '<a target=\"_blank\" href=https://colab.research.google.com/notebooks/data_table.ipynb>data table notebook</a>'\n",
              "          + ' to learn more about interactive tables.';\n",
              "        element.innerHTML = '';\n",
              "        dataTable['output_type'] = 'display_data';\n",
              "        await google.colab.output.renderOutput(dataTable, element);\n",
              "        const docLink = document.createElement('div');\n",
              "        docLink.innerHTML = docLinkHtml;\n",
              "        element.appendChild(docLink);\n",
              "      }\n",
              "    </script>\n",
              "  </div>\n",
              "\n",
              "\n",
              "<div id=\"df-df20fc17-efeb-4594-90b4-cfabb7cdcd00\">\n",
              "  <button class=\"colab-df-quickchart\" onclick=\"quickchart('df-df20fc17-efeb-4594-90b4-cfabb7cdcd00')\"\n",
              "            title=\"Suggest charts\"\n",
              "            style=\"display:none;\">\n",
              "\n",
              "<svg xmlns=\"http://www.w3.org/2000/svg\" height=\"24px\"viewBox=\"0 0 24 24\"\n",
              "     width=\"24px\">\n",
              "    <g>\n",
              "        <path d=\"M19 3H5c-1.1 0-2 .9-2 2v14c0 1.1.9 2 2 2h14c1.1 0 2-.9 2-2V5c0-1.1-.9-2-2-2zM9 17H7v-7h2v7zm4 0h-2V7h2v10zm4 0h-2v-4h2v4z\"/>\n",
              "    </g>\n",
              "</svg>\n",
              "  </button>\n",
              "\n",
              "<style>\n",
              "  .colab-df-quickchart {\n",
              "      --bg-color: #E8F0FE;\n",
              "      --fill-color: #1967D2;\n",
              "      --hover-bg-color: #E2EBFA;\n",
              "      --hover-fill-color: #174EA6;\n",
              "      --disabled-fill-color: #AAA;\n",
              "      --disabled-bg-color: #DDD;\n",
              "  }\n",
              "\n",
              "  [theme=dark] .colab-df-quickchart {\n",
              "      --bg-color: #3B4455;\n",
              "      --fill-color: #D2E3FC;\n",
              "      --hover-bg-color: #434B5C;\n",
              "      --hover-fill-color: #FFFFFF;\n",
              "      --disabled-bg-color: #3B4455;\n",
              "      --disabled-fill-color: #666;\n",
              "  }\n",
              "\n",
              "  .colab-df-quickchart {\n",
              "    background-color: var(--bg-color);\n",
              "    border: none;\n",
              "    border-radius: 50%;\n",
              "    cursor: pointer;\n",
              "    display: none;\n",
              "    fill: var(--fill-color);\n",
              "    height: 32px;\n",
              "    padding: 0;\n",
              "    width: 32px;\n",
              "  }\n",
              "\n",
              "  .colab-df-quickchart:hover {\n",
              "    background-color: var(--hover-bg-color);\n",
              "    box-shadow: 0 1px 2px rgba(60, 64, 67, 0.3), 0 1px 3px 1px rgba(60, 64, 67, 0.15);\n",
              "    fill: var(--button-hover-fill-color);\n",
              "  }\n",
              "\n",
              "  .colab-df-quickchart-complete:disabled,\n",
              "  .colab-df-quickchart-complete:disabled:hover {\n",
              "    background-color: var(--disabled-bg-color);\n",
              "    fill: var(--disabled-fill-color);\n",
              "    box-shadow: none;\n",
              "  }\n",
              "\n",
              "  .colab-df-spinner {\n",
              "    border: 2px solid var(--fill-color);\n",
              "    border-color: transparent;\n",
              "    border-bottom-color: var(--fill-color);\n",
              "    animation:\n",
              "      spin 1s steps(1) infinite;\n",
              "  }\n",
              "\n",
              "  @keyframes spin {\n",
              "    0% {\n",
              "      border-color: transparent;\n",
              "      border-bottom-color: var(--fill-color);\n",
              "      border-left-color: var(--fill-color);\n",
              "    }\n",
              "    20% {\n",
              "      border-color: transparent;\n",
              "      border-left-color: var(--fill-color);\n",
              "      border-top-color: var(--fill-color);\n",
              "    }\n",
              "    30% {\n",
              "      border-color: transparent;\n",
              "      border-left-color: var(--fill-color);\n",
              "      border-top-color: var(--fill-color);\n",
              "      border-right-color: var(--fill-color);\n",
              "    }\n",
              "    40% {\n",
              "      border-color: transparent;\n",
              "      border-right-color: var(--fill-color);\n",
              "      border-top-color: var(--fill-color);\n",
              "    }\n",
              "    60% {\n",
              "      border-color: transparent;\n",
              "      border-right-color: var(--fill-color);\n",
              "    }\n",
              "    80% {\n",
              "      border-color: transparent;\n",
              "      border-right-color: var(--fill-color);\n",
              "      border-bottom-color: var(--fill-color);\n",
              "    }\n",
              "    90% {\n",
              "      border-color: transparent;\n",
              "      border-bottom-color: var(--fill-color);\n",
              "    }\n",
              "  }\n",
              "</style>\n",
              "\n",
              "  <script>\n",
              "    async function quickchart(key) {\n",
              "      const quickchartButtonEl =\n",
              "        document.querySelector('#' + key + ' button');\n",
              "      quickchartButtonEl.disabled = true;  // To prevent multiple clicks.\n",
              "      quickchartButtonEl.classList.add('colab-df-spinner');\n",
              "      try {\n",
              "        const charts = await google.colab.kernel.invokeFunction(\n",
              "            'suggestCharts', [key], {});\n",
              "      } catch (error) {\n",
              "        console.error('Error during call to suggestCharts:', error);\n",
              "      }\n",
              "      quickchartButtonEl.classList.remove('colab-df-spinner');\n",
              "      quickchartButtonEl.classList.add('colab-df-quickchart-complete');\n",
              "    }\n",
              "    (() => {\n",
              "      let quickchartButtonEl =\n",
              "        document.querySelector('#df-df20fc17-efeb-4594-90b4-cfabb7cdcd00 button');\n",
              "      quickchartButtonEl.style.display =\n",
              "        google.colab.kernel.accessAllowed ? 'block' : 'none';\n",
              "    })();\n",
              "  </script>\n",
              "</div>\n",
              "    </div>\n",
              "  </div>\n"
            ],
            "application/vnd.google.colaboratory.intrinsic+json": {
              "type": "dataframe",
              "variable_name": "df",
              "summary": "{\n  \"name\": \"df\",\n  \"rows\": 20034,\n  \"fields\": [\n    {\n      \"column\": \"user_id\",\n      \"properties\": {\n        \"dtype\": \"category\",\n        \"num_unique_values\": 3050,\n        \"samples\": [\n          \"5CCC6E85E7245565\",\n          \"427C5593BE58CA0A\",\n          \"903B7FB3C9AB7B72\"\n        ],\n        \"semantic_type\": \"\",\n        \"description\": \"\"\n      }\n    },\n    {\n      \"column\": \"first_date\",\n      \"properties\": {\n        \"dtype\": \"date\",\n        \"min\": \"2020-12-07 00:00:00\",\n        \"max\": \"2020-12-21 00:00:00\",\n        \"num_unique_values\": 15,\n        \"samples\": [\n          \"2020-12-11 00:00:00\",\n          \"2020-12-12 00:00:00\",\n          \"2020-12-07 00:00:00\"\n        ],\n        \"semantic_type\": \"\",\n        \"description\": \"\"\n      }\n    },\n    {\n      \"column\": \"region\",\n      \"properties\": {\n        \"dtype\": \"category\",\n        \"num_unique_values\": 1,\n        \"samples\": [\n          \"EU\"\n        ],\n        \"semantic_type\": \"\",\n        \"description\": \"\"\n      }\n    },\n    {\n      \"column\": \"device\",\n      \"properties\": {\n        \"dtype\": \"category\",\n        \"num_unique_values\": 4,\n        \"samples\": [\n          \"Android\"\n        ],\n        \"semantic_type\": \"\",\n        \"description\": \"\"\n      }\n    },\n    {\n      \"column\": \"group\",\n      \"properties\": {\n        \"dtype\": \"category\",\n        \"num_unique_values\": 2,\n        \"samples\": [\n          \"B\"\n        ],\n        \"semantic_type\": \"\",\n        \"description\": \"\"\n      }\n    },\n    {\n      \"column\": \"ab_test\",\n      \"properties\": {\n        \"dtype\": \"category\",\n        \"num_unique_values\": 1,\n        \"samples\": [\n          \"recommender_system_test\"\n        ],\n        \"semantic_type\": \"\",\n        \"description\": \"\"\n      }\n    },\n    {\n      \"column\": \"event_dt\",\n      \"properties\": {\n        \"dtype\": \"date\",\n        \"min\": \"2020-12-07 00:05:57\",\n        \"max\": \"2020-12-29 23:38:29\",\n        \"num_unique_values\": 13373,\n        \"samples\": [\n          \"2020-12-18 08:17:47\"\n        ],\n        \"semantic_type\": \"\",\n        \"description\": \"\"\n      }\n    },\n    {\n      \"column\": \"event_name\",\n      \"properties\": {\n        \"dtype\": \"category\",\n        \"num_unique_values\": 4,\n        \"samples\": [\n          \"login\"\n        ],\n        \"semantic_type\": \"\",\n        \"description\": \"\"\n      }\n    },\n    {\n      \"column\": \"details\",\n      \"properties\": {\n        \"dtype\": \"number\",\n        \"std\": 69.70593581035678,\n        \"min\": 4.99,\n        \"max\": 499.99,\n        \"num_unique_values\": 4,\n        \"samples\": [\n          99.99\n        ],\n        \"semantic_type\": \"\",\n        \"description\": \"\"\n      }\n    },\n    {\n      \"column\": \"lifetime\",\n      \"properties\": {\n        \"dtype\": \"number\",\n        \"std\": 3,\n        \"min\": 0,\n        \"max\": 14,\n        \"num_unique_values\": 15,\n        \"samples\": [\n          10\n        ],\n        \"semantic_type\": \"\",\n        \"description\": \"\"\n      }\n    },\n    {\n      \"column\": \"event_date\",\n      \"properties\": {\n        \"dtype\": \"date\",\n        \"min\": \"2020-12-07\",\n        \"max\": \"2020-12-29\",\n        \"num_unique_values\": 23,\n        \"samples\": [\n          \"2020-12-25\"\n        ],\n        \"semantic_type\": \"\",\n        \"description\": \"\"\n      }\n    },\n    {\n      \"column\": \"events_count\",\n      \"properties\": {\n        \"dtype\": \"number\",\n        \"std\": 4,\n        \"min\": 1,\n        \"max\": 24,\n        \"num_unique_values\": 20,\n        \"samples\": [\n          2\n        ],\n        \"semantic_type\": \"\",\n        \"description\": \"\"\n      }\n    }\n  ]\n}"
            }
          },
          "metadata": {},
          "execution_count": 60
        }
      ],
      "source": [
        "# добавим новый стобец в дафтрейм\n",
        "df = df.merge(events_count_table, on='user_id')\n",
        "df.head()"
      ]
    },
    {
      "cell_type": "code",
      "execution_count": 61,
      "metadata": {
        "id": "Sd7VSrW883qA",
        "outputId": "971a7363-74e3-446d-8e7b-843b141d9642",
        "colab": {
          "base_uri": "https://localhost:8080/",
          "height": 206
        }
      },
      "outputs": [
        {
          "output_type": "execute_result",
          "data": {
            "text/plain": [
              "   events_count group  user_id\n",
              "0  1             A     28     \n",
              "1  1             B     20     \n",
              "2  2             A     173    \n",
              "3  2             B     102    \n",
              "4  3             A     204    "
            ],
            "text/html": [
              "\n",
              "  <div id=\"df-03fbb82a-006d-40db-afd0-1be24b8eb02f\" class=\"colab-df-container\">\n",
              "    <div>\n",
              "<style scoped>\n",
              "    .dataframe tbody tr th:only-of-type {\n",
              "        vertical-align: middle;\n",
              "    }\n",
              "\n",
              "    .dataframe tbody tr th {\n",
              "        vertical-align: top;\n",
              "    }\n",
              "\n",
              "    .dataframe thead th {\n",
              "        text-align: right;\n",
              "    }\n",
              "</style>\n",
              "<table border=\"1\" class=\"dataframe\">\n",
              "  <thead>\n",
              "    <tr style=\"text-align: right;\">\n",
              "      <th></th>\n",
              "      <th>events_count</th>\n",
              "      <th>group</th>\n",
              "      <th>user_id</th>\n",
              "    </tr>\n",
              "  </thead>\n",
              "  <tbody>\n",
              "    <tr>\n",
              "      <th>0</th>\n",
              "      <td>1</td>\n",
              "      <td>A</td>\n",
              "      <td>28</td>\n",
              "    </tr>\n",
              "    <tr>\n",
              "      <th>1</th>\n",
              "      <td>1</td>\n",
              "      <td>B</td>\n",
              "      <td>20</td>\n",
              "    </tr>\n",
              "    <tr>\n",
              "      <th>2</th>\n",
              "      <td>2</td>\n",
              "      <td>A</td>\n",
              "      <td>173</td>\n",
              "    </tr>\n",
              "    <tr>\n",
              "      <th>3</th>\n",
              "      <td>2</td>\n",
              "      <td>B</td>\n",
              "      <td>102</td>\n",
              "    </tr>\n",
              "    <tr>\n",
              "      <th>4</th>\n",
              "      <td>3</td>\n",
              "      <td>A</td>\n",
              "      <td>204</td>\n",
              "    </tr>\n",
              "  </tbody>\n",
              "</table>\n",
              "</div>\n",
              "    <div class=\"colab-df-buttons\">\n",
              "\n",
              "  <div class=\"colab-df-container\">\n",
              "    <button class=\"colab-df-convert\" onclick=\"convertToInteractive('df-03fbb82a-006d-40db-afd0-1be24b8eb02f')\"\n",
              "            title=\"Convert this dataframe to an interactive table.\"\n",
              "            style=\"display:none;\">\n",
              "\n",
              "  <svg xmlns=\"http://www.w3.org/2000/svg\" height=\"24px\" viewBox=\"0 -960 960 960\">\n",
              "    <path d=\"M120-120v-720h720v720H120Zm60-500h600v-160H180v160Zm220 220h160v-160H400v160Zm0 220h160v-160H400v160ZM180-400h160v-160H180v160Zm440 0h160v-160H620v160ZM180-180h160v-160H180v160Zm440 0h160v-160H620v160Z\"/>\n",
              "  </svg>\n",
              "    </button>\n",
              "\n",
              "  <style>\n",
              "    .colab-df-container {\n",
              "      display:flex;\n",
              "      gap: 12px;\n",
              "    }\n",
              "\n",
              "    .colab-df-convert {\n",
              "      background-color: #E8F0FE;\n",
              "      border: none;\n",
              "      border-radius: 50%;\n",
              "      cursor: pointer;\n",
              "      display: none;\n",
              "      fill: #1967D2;\n",
              "      height: 32px;\n",
              "      padding: 0 0 0 0;\n",
              "      width: 32px;\n",
              "    }\n",
              "\n",
              "    .colab-df-convert:hover {\n",
              "      background-color: #E2EBFA;\n",
              "      box-shadow: 0px 1px 2px rgba(60, 64, 67, 0.3), 0px 1px 3px 1px rgba(60, 64, 67, 0.15);\n",
              "      fill: #174EA6;\n",
              "    }\n",
              "\n",
              "    .colab-df-buttons div {\n",
              "      margin-bottom: 4px;\n",
              "    }\n",
              "\n",
              "    [theme=dark] .colab-df-convert {\n",
              "      background-color: #3B4455;\n",
              "      fill: #D2E3FC;\n",
              "    }\n",
              "\n",
              "    [theme=dark] .colab-df-convert:hover {\n",
              "      background-color: #434B5C;\n",
              "      box-shadow: 0px 1px 3px 1px rgba(0, 0, 0, 0.15);\n",
              "      filter: drop-shadow(0px 1px 2px rgba(0, 0, 0, 0.3));\n",
              "      fill: #FFFFFF;\n",
              "    }\n",
              "  </style>\n",
              "\n",
              "    <script>\n",
              "      const buttonEl =\n",
              "        document.querySelector('#df-03fbb82a-006d-40db-afd0-1be24b8eb02f button.colab-df-convert');\n",
              "      buttonEl.style.display =\n",
              "        google.colab.kernel.accessAllowed ? 'block' : 'none';\n",
              "\n",
              "      async function convertToInteractive(key) {\n",
              "        const element = document.querySelector('#df-03fbb82a-006d-40db-afd0-1be24b8eb02f');\n",
              "        const dataTable =\n",
              "          await google.colab.kernel.invokeFunction('convertToInteractive',\n",
              "                                                    [key], {});\n",
              "        if (!dataTable) return;\n",
              "\n",
              "        const docLinkHtml = 'Like what you see? Visit the ' +\n",
              "          '<a target=\"_blank\" href=https://colab.research.google.com/notebooks/data_table.ipynb>data table notebook</a>'\n",
              "          + ' to learn more about interactive tables.';\n",
              "        element.innerHTML = '';\n",
              "        dataTable['output_type'] = 'display_data';\n",
              "        await google.colab.output.renderOutput(dataTable, element);\n",
              "        const docLink = document.createElement('div');\n",
              "        docLink.innerHTML = docLinkHtml;\n",
              "        element.appendChild(docLink);\n",
              "      }\n",
              "    </script>\n",
              "  </div>\n",
              "\n",
              "\n",
              "<div id=\"df-3dc2d856-b9ae-4036-bf77-db62353c4036\">\n",
              "  <button class=\"colab-df-quickchart\" onclick=\"quickchart('df-3dc2d856-b9ae-4036-bf77-db62353c4036')\"\n",
              "            title=\"Suggest charts\"\n",
              "            style=\"display:none;\">\n",
              "\n",
              "<svg xmlns=\"http://www.w3.org/2000/svg\" height=\"24px\"viewBox=\"0 0 24 24\"\n",
              "     width=\"24px\">\n",
              "    <g>\n",
              "        <path d=\"M19 3H5c-1.1 0-2 .9-2 2v14c0 1.1.9 2 2 2h14c1.1 0 2-.9 2-2V5c0-1.1-.9-2-2-2zM9 17H7v-7h2v7zm4 0h-2V7h2v10zm4 0h-2v-4h2v4z\"/>\n",
              "    </g>\n",
              "</svg>\n",
              "  </button>\n",
              "\n",
              "<style>\n",
              "  .colab-df-quickchart {\n",
              "      --bg-color: #E8F0FE;\n",
              "      --fill-color: #1967D2;\n",
              "      --hover-bg-color: #E2EBFA;\n",
              "      --hover-fill-color: #174EA6;\n",
              "      --disabled-fill-color: #AAA;\n",
              "      --disabled-bg-color: #DDD;\n",
              "  }\n",
              "\n",
              "  [theme=dark] .colab-df-quickchart {\n",
              "      --bg-color: #3B4455;\n",
              "      --fill-color: #D2E3FC;\n",
              "      --hover-bg-color: #434B5C;\n",
              "      --hover-fill-color: #FFFFFF;\n",
              "      --disabled-bg-color: #3B4455;\n",
              "      --disabled-fill-color: #666;\n",
              "  }\n",
              "\n",
              "  .colab-df-quickchart {\n",
              "    background-color: var(--bg-color);\n",
              "    border: none;\n",
              "    border-radius: 50%;\n",
              "    cursor: pointer;\n",
              "    display: none;\n",
              "    fill: var(--fill-color);\n",
              "    height: 32px;\n",
              "    padding: 0;\n",
              "    width: 32px;\n",
              "  }\n",
              "\n",
              "  .colab-df-quickchart:hover {\n",
              "    background-color: var(--hover-bg-color);\n",
              "    box-shadow: 0 1px 2px rgba(60, 64, 67, 0.3), 0 1px 3px 1px rgba(60, 64, 67, 0.15);\n",
              "    fill: var(--button-hover-fill-color);\n",
              "  }\n",
              "\n",
              "  .colab-df-quickchart-complete:disabled,\n",
              "  .colab-df-quickchart-complete:disabled:hover {\n",
              "    background-color: var(--disabled-bg-color);\n",
              "    fill: var(--disabled-fill-color);\n",
              "    box-shadow: none;\n",
              "  }\n",
              "\n",
              "  .colab-df-spinner {\n",
              "    border: 2px solid var(--fill-color);\n",
              "    border-color: transparent;\n",
              "    border-bottom-color: var(--fill-color);\n",
              "    animation:\n",
              "      spin 1s steps(1) infinite;\n",
              "  }\n",
              "\n",
              "  @keyframes spin {\n",
              "    0% {\n",
              "      border-color: transparent;\n",
              "      border-bottom-color: var(--fill-color);\n",
              "      border-left-color: var(--fill-color);\n",
              "    }\n",
              "    20% {\n",
              "      border-color: transparent;\n",
              "      border-left-color: var(--fill-color);\n",
              "      border-top-color: var(--fill-color);\n",
              "    }\n",
              "    30% {\n",
              "      border-color: transparent;\n",
              "      border-left-color: var(--fill-color);\n",
              "      border-top-color: var(--fill-color);\n",
              "      border-right-color: var(--fill-color);\n",
              "    }\n",
              "    40% {\n",
              "      border-color: transparent;\n",
              "      border-right-color: var(--fill-color);\n",
              "      border-top-color: var(--fill-color);\n",
              "    }\n",
              "    60% {\n",
              "      border-color: transparent;\n",
              "      border-right-color: var(--fill-color);\n",
              "    }\n",
              "    80% {\n",
              "      border-color: transparent;\n",
              "      border-right-color: var(--fill-color);\n",
              "      border-bottom-color: var(--fill-color);\n",
              "    }\n",
              "    90% {\n",
              "      border-color: transparent;\n",
              "      border-bottom-color: var(--fill-color);\n",
              "    }\n",
              "  }\n",
              "</style>\n",
              "\n",
              "  <script>\n",
              "    async function quickchart(key) {\n",
              "      const quickchartButtonEl =\n",
              "        document.querySelector('#' + key + ' button');\n",
              "      quickchartButtonEl.disabled = true;  // To prevent multiple clicks.\n",
              "      quickchartButtonEl.classList.add('colab-df-spinner');\n",
              "      try {\n",
              "        const charts = await google.colab.kernel.invokeFunction(\n",
              "            'suggestCharts', [key], {});\n",
              "      } catch (error) {\n",
              "        console.error('Error during call to suggestCharts:', error);\n",
              "      }\n",
              "      quickchartButtonEl.classList.remove('colab-df-spinner');\n",
              "      quickchartButtonEl.classList.add('colab-df-quickchart-complete');\n",
              "    }\n",
              "    (() => {\n",
              "      let quickchartButtonEl =\n",
              "        document.querySelector('#df-3dc2d856-b9ae-4036-bf77-db62353c4036 button');\n",
              "      quickchartButtonEl.style.display =\n",
              "        google.colab.kernel.accessAllowed ? 'block' : 'none';\n",
              "    })();\n",
              "  </script>\n",
              "</div>\n",
              "    </div>\n",
              "  </div>\n"
            ],
            "application/vnd.google.colaboratory.intrinsic+json": {
              "type": "dataframe",
              "variable_name": "temp_table",
              "summary": "{\n  \"name\": \"temp_table\",\n  \"rows\": 39,\n  \"fields\": [\n    {\n      \"column\": \"events_count\",\n      \"properties\": {\n        \"dtype\": \"number\",\n        \"std\": 6,\n        \"min\": 1,\n        \"max\": 24,\n        \"num_unique_values\": 20,\n        \"samples\": [\n          1,\n          20,\n          16\n        ],\n        \"semantic_type\": \"\",\n        \"description\": \"\"\n      }\n    },\n    {\n      \"column\": \"group\",\n      \"properties\": {\n        \"dtype\": \"category\",\n        \"num_unique_values\": 2,\n        \"samples\": [\n          \"B\",\n          \"A\"\n        ],\n        \"semantic_type\": \"\",\n        \"description\": \"\"\n      }\n    },\n    {\n      \"column\": \"user_id\",\n      \"properties\": {\n        \"dtype\": \"number\",\n        \"std\": 115,\n        \"min\": 1,\n        \"max\": 497,\n        \"num_unique_values\": 27,\n        \"samples\": [\n          36,\n          5\n        ],\n        \"semantic_type\": \"\",\n        \"description\": \"\"\n      }\n    }\n  ]\n}"
            }
          },
          "metadata": {},
          "execution_count": 61
        }
      ],
      "source": [
        "# соберем табличку для графика\n",
        "temp_table = df.drop_duplicates(subset=['user_id', 'events_count']).groupby(['events_count', 'group'])['user_id'].count().reset_index()\n",
        "temp_table.head()"
      ]
    },
    {
      "cell_type": "code",
      "execution_count": 62,
      "metadata": {
        "id": "EU_rEnsA83qB",
        "outputId": "c641785b-e074-491e-ecb9-86d9d410d552",
        "colab": {
          "base_uri": "https://localhost:8080/",
          "height": 717
        }
      },
      "outputs": [
        {
          "output_type": "display_data",
          "data": {
            "text/html": [
              "<html>\n",
              "<head><meta charset=\"utf-8\" /></head>\n",
              "<body>\n",
              "    <div>            <script src=\"https://cdnjs.cloudflare.com/ajax/libs/mathjax/2.7.5/MathJax.js?config=TeX-AMS-MML_SVG\"></script><script type=\"text/javascript\">if (window.MathJax && window.MathJax.Hub && window.MathJax.Hub.Config) {window.MathJax.Hub.Config({SVG: {font: \"STIX-Web\"}});}</script>                <script type=\"text/javascript\">window.PlotlyConfig = {MathJaxConfig: 'local'};</script>\n",
              "        <script charset=\"utf-8\" src=\"https://cdn.plot.ly/plotly-2.24.1.min.js\"></script>                <div id=\"a077a6b3-4679-4288-bd2a-f4639594d3fd\" class=\"plotly-graph-div\" style=\"height:700px; width:950px;\"></div>            <script type=\"text/javascript\">                                    window.PLOTLYENV=window.PLOTLYENV || {};                                    if (document.getElementById(\"a077a6b3-4679-4288-bd2a-f4639594d3fd\")) {                    Plotly.newPlot(                        \"a077a6b3-4679-4288-bd2a-f4639594d3fd\",                        [{\"name\":\"\\u0413\\u0440\\u0443\\u043f\\u043f\\u0430 A\",\"x\":[1,2,3,4,5,6,7,8,9,10,11,12,13,14,15,16,18,20,21,24],\"y\":[28,173,204,384,36,497,1,280,229,78,2,216,1,10,68,31,17,20,2,2],\"type\":\"bar\"},{\"name\":\"\\u0413\\u0440\\u0443\\u043f\\u043f\\u0430 B\",\"x\":[1,2,3,4,5,6,7,8,9,10,11,12,13,14,15,16,20,21,24],\"y\":[20,102,119,159,19,158,5,61,60,19,2,33,1,1,4,1,4,1,2],\"type\":\"bar\"}],                        {\"template\":{\"data\":{\"histogram2dcontour\":[{\"type\":\"histogram2dcontour\",\"colorbar\":{\"outlinewidth\":0,\"ticks\":\"\"},\"colorscale\":[[0.0,\"#0d0887\"],[0.1111111111111111,\"#46039f\"],[0.2222222222222222,\"#7201a8\"],[0.3333333333333333,\"#9c179e\"],[0.4444444444444444,\"#bd3786\"],[0.5555555555555556,\"#d8576b\"],[0.6666666666666666,\"#ed7953\"],[0.7777777777777778,\"#fb9f3a\"],[0.8888888888888888,\"#fdca26\"],[1.0,\"#f0f921\"]]}],\"choropleth\":[{\"type\":\"choropleth\",\"colorbar\":{\"outlinewidth\":0,\"ticks\":\"\"}}],\"histogram2d\":[{\"type\":\"histogram2d\",\"colorbar\":{\"outlinewidth\":0,\"ticks\":\"\"},\"colorscale\":[[0.0,\"#0d0887\"],[0.1111111111111111,\"#46039f\"],[0.2222222222222222,\"#7201a8\"],[0.3333333333333333,\"#9c179e\"],[0.4444444444444444,\"#bd3786\"],[0.5555555555555556,\"#d8576b\"],[0.6666666666666666,\"#ed7953\"],[0.7777777777777778,\"#fb9f3a\"],[0.8888888888888888,\"#fdca26\"],[1.0,\"#f0f921\"]]}],\"heatmap\":[{\"type\":\"heatmap\",\"colorbar\":{\"outlinewidth\":0,\"ticks\":\"\"},\"colorscale\":[[0.0,\"#0d0887\"],[0.1111111111111111,\"#46039f\"],[0.2222222222222222,\"#7201a8\"],[0.3333333333333333,\"#9c179e\"],[0.4444444444444444,\"#bd3786\"],[0.5555555555555556,\"#d8576b\"],[0.6666666666666666,\"#ed7953\"],[0.7777777777777778,\"#fb9f3a\"],[0.8888888888888888,\"#fdca26\"],[1.0,\"#f0f921\"]]}],\"heatmapgl\":[{\"type\":\"heatmapgl\",\"colorbar\":{\"outlinewidth\":0,\"ticks\":\"\"},\"colorscale\":[[0.0,\"#0d0887\"],[0.1111111111111111,\"#46039f\"],[0.2222222222222222,\"#7201a8\"],[0.3333333333333333,\"#9c179e\"],[0.4444444444444444,\"#bd3786\"],[0.5555555555555556,\"#d8576b\"],[0.6666666666666666,\"#ed7953\"],[0.7777777777777778,\"#fb9f3a\"],[0.8888888888888888,\"#fdca26\"],[1.0,\"#f0f921\"]]}],\"contourcarpet\":[{\"type\":\"contourcarpet\",\"colorbar\":{\"outlinewidth\":0,\"ticks\":\"\"}}],\"contour\":[{\"type\":\"contour\",\"colorbar\":{\"outlinewidth\":0,\"ticks\":\"\"},\"colorscale\":[[0.0,\"#0d0887\"],[0.1111111111111111,\"#46039f\"],[0.2222222222222222,\"#7201a8\"],[0.3333333333333333,\"#9c179e\"],[0.4444444444444444,\"#bd3786\"],[0.5555555555555556,\"#d8576b\"],[0.6666666666666666,\"#ed7953\"],[0.7777777777777778,\"#fb9f3a\"],[0.8888888888888888,\"#fdca26\"],[1.0,\"#f0f921\"]]}],\"surface\":[{\"type\":\"surface\",\"colorbar\":{\"outlinewidth\":0,\"ticks\":\"\"},\"colorscale\":[[0.0,\"#0d0887\"],[0.1111111111111111,\"#46039f\"],[0.2222222222222222,\"#7201a8\"],[0.3333333333333333,\"#9c179e\"],[0.4444444444444444,\"#bd3786\"],[0.5555555555555556,\"#d8576b\"],[0.6666666666666666,\"#ed7953\"],[0.7777777777777778,\"#fb9f3a\"],[0.8888888888888888,\"#fdca26\"],[1.0,\"#f0f921\"]]}],\"mesh3d\":[{\"type\":\"mesh3d\",\"colorbar\":{\"outlinewidth\":0,\"ticks\":\"\"}}],\"scatter\":[{\"fillpattern\":{\"fillmode\":\"overlay\",\"size\":10,\"solidity\":0.2},\"type\":\"scatter\"}],\"parcoords\":[{\"type\":\"parcoords\",\"line\":{\"colorbar\":{\"outlinewidth\":0,\"ticks\":\"\"}}}],\"scatterpolargl\":[{\"type\":\"scatterpolargl\",\"marker\":{\"colorbar\":{\"outlinewidth\":0,\"ticks\":\"\"}}}],\"bar\":[{\"error_x\":{\"color\":\"#2a3f5f\"},\"error_y\":{\"color\":\"#2a3f5f\"},\"marker\":{\"line\":{\"color\":\"#E5ECF6\",\"width\":0.5},\"pattern\":{\"fillmode\":\"overlay\",\"size\":10,\"solidity\":0.2}},\"type\":\"bar\"}],\"scattergeo\":[{\"type\":\"scattergeo\",\"marker\":{\"colorbar\":{\"outlinewidth\":0,\"ticks\":\"\"}}}],\"scatterpolar\":[{\"type\":\"scatterpolar\",\"marker\":{\"colorbar\":{\"outlinewidth\":0,\"ticks\":\"\"}}}],\"histogram\":[{\"marker\":{\"pattern\":{\"fillmode\":\"overlay\",\"size\":10,\"solidity\":0.2}},\"type\":\"histogram\"}],\"scattergl\":[{\"type\":\"scattergl\",\"marker\":{\"colorbar\":{\"outlinewidth\":0,\"ticks\":\"\"}}}],\"scatter3d\":[{\"type\":\"scatter3d\",\"line\":{\"colorbar\":{\"outlinewidth\":0,\"ticks\":\"\"}},\"marker\":{\"colorbar\":{\"outlinewidth\":0,\"ticks\":\"\"}}}],\"scattermapbox\":[{\"type\":\"scattermapbox\",\"marker\":{\"colorbar\":{\"outlinewidth\":0,\"ticks\":\"\"}}}],\"scatterternary\":[{\"type\":\"scatterternary\",\"marker\":{\"colorbar\":{\"outlinewidth\":0,\"ticks\":\"\"}}}],\"scattercarpet\":[{\"type\":\"scattercarpet\",\"marker\":{\"colorbar\":{\"outlinewidth\":0,\"ticks\":\"\"}}}],\"carpet\":[{\"aaxis\":{\"endlinecolor\":\"#2a3f5f\",\"gridcolor\":\"white\",\"linecolor\":\"white\",\"minorgridcolor\":\"white\",\"startlinecolor\":\"#2a3f5f\"},\"baxis\":{\"endlinecolor\":\"#2a3f5f\",\"gridcolor\":\"white\",\"linecolor\":\"white\",\"minorgridcolor\":\"white\",\"startlinecolor\":\"#2a3f5f\"},\"type\":\"carpet\"}],\"table\":[{\"cells\":{\"fill\":{\"color\":\"#EBF0F8\"},\"line\":{\"color\":\"white\"}},\"header\":{\"fill\":{\"color\":\"#C8D4E3\"},\"line\":{\"color\":\"white\"}},\"type\":\"table\"}],\"barpolar\":[{\"marker\":{\"line\":{\"color\":\"#E5ECF6\",\"width\":0.5},\"pattern\":{\"fillmode\":\"overlay\",\"size\":10,\"solidity\":0.2}},\"type\":\"barpolar\"}],\"pie\":[{\"automargin\":true,\"type\":\"pie\"}]},\"layout\":{\"autotypenumbers\":\"strict\",\"colorway\":[\"#636efa\",\"#EF553B\",\"#00cc96\",\"#ab63fa\",\"#FFA15A\",\"#19d3f3\",\"#FF6692\",\"#B6E880\",\"#FF97FF\",\"#FECB52\"],\"font\":{\"color\":\"#2a3f5f\"},\"hovermode\":\"closest\",\"hoverlabel\":{\"align\":\"left\"},\"paper_bgcolor\":\"white\",\"plot_bgcolor\":\"#E5ECF6\",\"polar\":{\"bgcolor\":\"#E5ECF6\",\"angularaxis\":{\"gridcolor\":\"white\",\"linecolor\":\"white\",\"ticks\":\"\"},\"radialaxis\":{\"gridcolor\":\"white\",\"linecolor\":\"white\",\"ticks\":\"\"}},\"ternary\":{\"bgcolor\":\"#E5ECF6\",\"aaxis\":{\"gridcolor\":\"white\",\"linecolor\":\"white\",\"ticks\":\"\"},\"baxis\":{\"gridcolor\":\"white\",\"linecolor\":\"white\",\"ticks\":\"\"},\"caxis\":{\"gridcolor\":\"white\",\"linecolor\":\"white\",\"ticks\":\"\"}},\"coloraxis\":{\"colorbar\":{\"outlinewidth\":0,\"ticks\":\"\"}},\"colorscale\":{\"sequential\":[[0.0,\"#0d0887\"],[0.1111111111111111,\"#46039f\"],[0.2222222222222222,\"#7201a8\"],[0.3333333333333333,\"#9c179e\"],[0.4444444444444444,\"#bd3786\"],[0.5555555555555556,\"#d8576b\"],[0.6666666666666666,\"#ed7953\"],[0.7777777777777778,\"#fb9f3a\"],[0.8888888888888888,\"#fdca26\"],[1.0,\"#f0f921\"]],\"sequentialminus\":[[0.0,\"#0d0887\"],[0.1111111111111111,\"#46039f\"],[0.2222222222222222,\"#7201a8\"],[0.3333333333333333,\"#9c179e\"],[0.4444444444444444,\"#bd3786\"],[0.5555555555555556,\"#d8576b\"],[0.6666666666666666,\"#ed7953\"],[0.7777777777777778,\"#fb9f3a\"],[0.8888888888888888,\"#fdca26\"],[1.0,\"#f0f921\"]],\"diverging\":[[0,\"#8e0152\"],[0.1,\"#c51b7d\"],[0.2,\"#de77ae\"],[0.3,\"#f1b6da\"],[0.4,\"#fde0ef\"],[0.5,\"#f7f7f7\"],[0.6,\"#e6f5d0\"],[0.7,\"#b8e186\"],[0.8,\"#7fbc41\"],[0.9,\"#4d9221\"],[1,\"#276419\"]]},\"xaxis\":{\"gridcolor\":\"white\",\"linecolor\":\"white\",\"ticks\":\"\",\"title\":{\"standoff\":15},\"zerolinecolor\":\"white\",\"automargin\":true,\"zerolinewidth\":2},\"yaxis\":{\"gridcolor\":\"white\",\"linecolor\":\"white\",\"ticks\":\"\",\"title\":{\"standoff\":15},\"zerolinecolor\":\"white\",\"automargin\":true,\"zerolinewidth\":2},\"scene\":{\"xaxis\":{\"backgroundcolor\":\"#E5ECF6\",\"gridcolor\":\"white\",\"linecolor\":\"white\",\"showbackground\":true,\"ticks\":\"\",\"zerolinecolor\":\"white\",\"gridwidth\":2},\"yaxis\":{\"backgroundcolor\":\"#E5ECF6\",\"gridcolor\":\"white\",\"linecolor\":\"white\",\"showbackground\":true,\"ticks\":\"\",\"zerolinecolor\":\"white\",\"gridwidth\":2},\"zaxis\":{\"backgroundcolor\":\"#E5ECF6\",\"gridcolor\":\"white\",\"linecolor\":\"white\",\"showbackground\":true,\"ticks\":\"\",\"zerolinecolor\":\"white\",\"gridwidth\":2}},\"shapedefaults\":{\"line\":{\"color\":\"#2a3f5f\"}},\"annotationdefaults\":{\"arrowcolor\":\"#2a3f5f\",\"arrowhead\":0,\"arrowwidth\":1},\"geo\":{\"bgcolor\":\"white\",\"landcolor\":\"#E5ECF6\",\"subunitcolor\":\"white\",\"showland\":true,\"showlakes\":true,\"lakecolor\":\"white\"},\"title\":{\"x\":0.05},\"mapbox\":{\"style\":\"light\"}}},\"barmode\":\"group\",\"title\":{\"text\":\"\\u0420\\u0430\\u0441\\u043f\\u0440\\u0435\\u0434\\u0435\\u043b\\u0435\\u043d\\u0438\\u0435 \\u043a\\u043e\\u043b\\u0438\\u0447\\u0435\\u0441\\u0442\\u0432\\u0430 \\u0441\\u043e\\u0431\\u044b\\u0442\\u0438\\u0439 \\u043d\\u0430 \\u043f\\u043e\\u043b\\u044c\\u0437\\u043e\\u0432\\u0430\\u0442\\u0435\\u043b\\u044f \\u0432 \\u0440\\u0430\\u0437\\u0440\\u0435\\u0437\\u0435 \\u0433\\u0440\\u0443\\u043f\\u043f \\u0442\\u0435\\u0441\\u0442\\u0430\"},\"width\":950,\"height\":700,\"xaxis\":{\"title\":{\"text\":\"\\u041a\\u043e\\u043b\\u0438\\u0447\\u0435\\u0441\\u0442\\u0432\\u043e \\u0441\\u043e\\u0431\\u044b\\u0442\\u0438\\u0439 \\u043d\\u0430 \\u043f\\u043e\\u043b\\u044c\\u0437\\u043e\\u0432\\u0430\\u0442\\u0435\\u043b\\u044f\"}},\"yaxis\":{\"title\":{\"text\":\"\\u041a\\u043e\\u043b\\u0438\\u0447\\u0435\\u0441\\u0442\\u0432\\u043e \\u043f\\u043e\\u043b\\u044c\\u0437\\u043e\\u0432\\u0430\\u0442\\u0435\\u043b\\u0435\\u0439\"}}},                        {\"responsive\": true}                    ).then(function(){\n",
              "                            \n",
              "var gd = document.getElementById('a077a6b3-4679-4288-bd2a-f4639594d3fd');\n",
              "var x = new MutationObserver(function (mutations, observer) {{\n",
              "        var display = window.getComputedStyle(gd).display;\n",
              "        if (!display || display === 'none') {{\n",
              "            console.log([gd, 'removed!']);\n",
              "            Plotly.purge(gd);\n",
              "            observer.disconnect();\n",
              "        }}\n",
              "}});\n",
              "\n",
              "// Listen for the removal of the full notebook cells\n",
              "var notebookContainer = gd.closest('#notebook-container');\n",
              "if (notebookContainer) {{\n",
              "    x.observe(notebookContainer, {childList: true});\n",
              "}}\n",
              "\n",
              "// Listen for the clearing of the current output cell\n",
              "var outputEl = gd.closest('.output');\n",
              "if (outputEl) {{\n",
              "    x.observe(outputEl, {childList: true});\n",
              "}}\n",
              "\n",
              "                        })                };                            </script>        </div>\n",
              "</body>\n",
              "</html>"
            ]
          },
          "metadata": {}
        }
      ],
      "source": [
        "fig = go.Figure(data=[\n",
        "    go.Bar(name='Группа A', x=temp_table[temp_table['group']=='A']['events_count'], y=temp_table[temp_table['group']=='A']['user_id']),\n",
        "    go.Bar(name='Группа B', x=temp_table[temp_table['group']=='B']['events_count'], y=temp_table[temp_table['group']=='B']['user_id'])\n",
        "])\n",
        "fig.update_layout(barmode='group',\n",
        "                  title='Распределение количества событий на пользователя в разрезе групп теста',\n",
        "                  width=950,\n",
        "                  height=700,\n",
        "                  xaxis_title='Количество событий на пользователя',\n",
        "                  yaxis_title='Количество пользователей')\n",
        "\n",
        "fig.show()"
      ]
    },
    {
      "cell_type": "code",
      "execution_count": 63,
      "metadata": {
        "id": "AhBCaCc083qB",
        "outputId": "2bd3a713-06f0-4270-c03f-2738c48bd6dd",
        "colab": {
          "base_uri": "https://localhost:8080/",
          "height": 143
        }
      },
      "outputs": [
        {
          "output_type": "execute_result",
          "data": {
            "text/plain": [
              "        count  mean  std  min  25%  50%  75%   max\n",
              "group                                             \n",
              "A     2279.00 6.96  3.85 1.00 4.00 6.00 9.00 24.00\n",
              "B     771.00  5.43  3.25 1.00 3.00 4.00 7.00 24.00"
            ],
            "text/html": [
              "\n",
              "  <div id=\"df-91135c89-7d23-474f-b1cf-947947546482\" class=\"colab-df-container\">\n",
              "    <div>\n",
              "<style scoped>\n",
              "    .dataframe tbody tr th:only-of-type {\n",
              "        vertical-align: middle;\n",
              "    }\n",
              "\n",
              "    .dataframe tbody tr th {\n",
              "        vertical-align: top;\n",
              "    }\n",
              "\n",
              "    .dataframe thead th {\n",
              "        text-align: right;\n",
              "    }\n",
              "</style>\n",
              "<table border=\"1\" class=\"dataframe\">\n",
              "  <thead>\n",
              "    <tr style=\"text-align: right;\">\n",
              "      <th></th>\n",
              "      <th>count</th>\n",
              "      <th>mean</th>\n",
              "      <th>std</th>\n",
              "      <th>min</th>\n",
              "      <th>25%</th>\n",
              "      <th>50%</th>\n",
              "      <th>75%</th>\n",
              "      <th>max</th>\n",
              "    </tr>\n",
              "    <tr>\n",
              "      <th>group</th>\n",
              "      <th></th>\n",
              "      <th></th>\n",
              "      <th></th>\n",
              "      <th></th>\n",
              "      <th></th>\n",
              "      <th></th>\n",
              "      <th></th>\n",
              "      <th></th>\n",
              "    </tr>\n",
              "  </thead>\n",
              "  <tbody>\n",
              "    <tr>\n",
              "      <th>A</th>\n",
              "      <td>2279.00</td>\n",
              "      <td>6.96</td>\n",
              "      <td>3.85</td>\n",
              "      <td>1.00</td>\n",
              "      <td>4.00</td>\n",
              "      <td>6.00</td>\n",
              "      <td>9.00</td>\n",
              "      <td>24.00</td>\n",
              "    </tr>\n",
              "    <tr>\n",
              "      <th>B</th>\n",
              "      <td>771.00</td>\n",
              "      <td>5.43</td>\n",
              "      <td>3.25</td>\n",
              "      <td>1.00</td>\n",
              "      <td>3.00</td>\n",
              "      <td>4.00</td>\n",
              "      <td>7.00</td>\n",
              "      <td>24.00</td>\n",
              "    </tr>\n",
              "  </tbody>\n",
              "</table>\n",
              "</div>\n",
              "    <div class=\"colab-df-buttons\">\n",
              "\n",
              "  <div class=\"colab-df-container\">\n",
              "    <button class=\"colab-df-convert\" onclick=\"convertToInteractive('df-91135c89-7d23-474f-b1cf-947947546482')\"\n",
              "            title=\"Convert this dataframe to an interactive table.\"\n",
              "            style=\"display:none;\">\n",
              "\n",
              "  <svg xmlns=\"http://www.w3.org/2000/svg\" height=\"24px\" viewBox=\"0 -960 960 960\">\n",
              "    <path d=\"M120-120v-720h720v720H120Zm60-500h600v-160H180v160Zm220 220h160v-160H400v160Zm0 220h160v-160H400v160ZM180-400h160v-160H180v160Zm440 0h160v-160H620v160ZM180-180h160v-160H180v160Zm440 0h160v-160H620v160Z\"/>\n",
              "  </svg>\n",
              "    </button>\n",
              "\n",
              "  <style>\n",
              "    .colab-df-container {\n",
              "      display:flex;\n",
              "      gap: 12px;\n",
              "    }\n",
              "\n",
              "    .colab-df-convert {\n",
              "      background-color: #E8F0FE;\n",
              "      border: none;\n",
              "      border-radius: 50%;\n",
              "      cursor: pointer;\n",
              "      display: none;\n",
              "      fill: #1967D2;\n",
              "      height: 32px;\n",
              "      padding: 0 0 0 0;\n",
              "      width: 32px;\n",
              "    }\n",
              "\n",
              "    .colab-df-convert:hover {\n",
              "      background-color: #E2EBFA;\n",
              "      box-shadow: 0px 1px 2px rgba(60, 64, 67, 0.3), 0px 1px 3px 1px rgba(60, 64, 67, 0.15);\n",
              "      fill: #174EA6;\n",
              "    }\n",
              "\n",
              "    .colab-df-buttons div {\n",
              "      margin-bottom: 4px;\n",
              "    }\n",
              "\n",
              "    [theme=dark] .colab-df-convert {\n",
              "      background-color: #3B4455;\n",
              "      fill: #D2E3FC;\n",
              "    }\n",
              "\n",
              "    [theme=dark] .colab-df-convert:hover {\n",
              "      background-color: #434B5C;\n",
              "      box-shadow: 0px 1px 3px 1px rgba(0, 0, 0, 0.15);\n",
              "      filter: drop-shadow(0px 1px 2px rgba(0, 0, 0, 0.3));\n",
              "      fill: #FFFFFF;\n",
              "    }\n",
              "  </style>\n",
              "\n",
              "    <script>\n",
              "      const buttonEl =\n",
              "        document.querySelector('#df-91135c89-7d23-474f-b1cf-947947546482 button.colab-df-convert');\n",
              "      buttonEl.style.display =\n",
              "        google.colab.kernel.accessAllowed ? 'block' : 'none';\n",
              "\n",
              "      async function convertToInteractive(key) {\n",
              "        const element = document.querySelector('#df-91135c89-7d23-474f-b1cf-947947546482');\n",
              "        const dataTable =\n",
              "          await google.colab.kernel.invokeFunction('convertToInteractive',\n",
              "                                                    [key], {});\n",
              "        if (!dataTable) return;\n",
              "\n",
              "        const docLinkHtml = 'Like what you see? Visit the ' +\n",
              "          '<a target=\"_blank\" href=https://colab.research.google.com/notebooks/data_table.ipynb>data table notebook</a>'\n",
              "          + ' to learn more about interactive tables.';\n",
              "        element.innerHTML = '';\n",
              "        dataTable['output_type'] = 'display_data';\n",
              "        await google.colab.output.renderOutput(dataTable, element);\n",
              "        const docLink = document.createElement('div');\n",
              "        docLink.innerHTML = docLinkHtml;\n",
              "        element.appendChild(docLink);\n",
              "      }\n",
              "    </script>\n",
              "  </div>\n",
              "\n",
              "\n",
              "<div id=\"df-39e5b5d9-22d0-41f6-b673-e75981d90e2b\">\n",
              "  <button class=\"colab-df-quickchart\" onclick=\"quickchart('df-39e5b5d9-22d0-41f6-b673-e75981d90e2b')\"\n",
              "            title=\"Suggest charts\"\n",
              "            style=\"display:none;\">\n",
              "\n",
              "<svg xmlns=\"http://www.w3.org/2000/svg\" height=\"24px\"viewBox=\"0 0 24 24\"\n",
              "     width=\"24px\">\n",
              "    <g>\n",
              "        <path d=\"M19 3H5c-1.1 0-2 .9-2 2v14c0 1.1.9 2 2 2h14c1.1 0 2-.9 2-2V5c0-1.1-.9-2-2-2zM9 17H7v-7h2v7zm4 0h-2V7h2v10zm4 0h-2v-4h2v4z\"/>\n",
              "    </g>\n",
              "</svg>\n",
              "  </button>\n",
              "\n",
              "<style>\n",
              "  .colab-df-quickchart {\n",
              "      --bg-color: #E8F0FE;\n",
              "      --fill-color: #1967D2;\n",
              "      --hover-bg-color: #E2EBFA;\n",
              "      --hover-fill-color: #174EA6;\n",
              "      --disabled-fill-color: #AAA;\n",
              "      --disabled-bg-color: #DDD;\n",
              "  }\n",
              "\n",
              "  [theme=dark] .colab-df-quickchart {\n",
              "      --bg-color: #3B4455;\n",
              "      --fill-color: #D2E3FC;\n",
              "      --hover-bg-color: #434B5C;\n",
              "      --hover-fill-color: #FFFFFF;\n",
              "      --disabled-bg-color: #3B4455;\n",
              "      --disabled-fill-color: #666;\n",
              "  }\n",
              "\n",
              "  .colab-df-quickchart {\n",
              "    background-color: var(--bg-color);\n",
              "    border: none;\n",
              "    border-radius: 50%;\n",
              "    cursor: pointer;\n",
              "    display: none;\n",
              "    fill: var(--fill-color);\n",
              "    height: 32px;\n",
              "    padding: 0;\n",
              "    width: 32px;\n",
              "  }\n",
              "\n",
              "  .colab-df-quickchart:hover {\n",
              "    background-color: var(--hover-bg-color);\n",
              "    box-shadow: 0 1px 2px rgba(60, 64, 67, 0.3), 0 1px 3px 1px rgba(60, 64, 67, 0.15);\n",
              "    fill: var(--button-hover-fill-color);\n",
              "  }\n",
              "\n",
              "  .colab-df-quickchart-complete:disabled,\n",
              "  .colab-df-quickchart-complete:disabled:hover {\n",
              "    background-color: var(--disabled-bg-color);\n",
              "    fill: var(--disabled-fill-color);\n",
              "    box-shadow: none;\n",
              "  }\n",
              "\n",
              "  .colab-df-spinner {\n",
              "    border: 2px solid var(--fill-color);\n",
              "    border-color: transparent;\n",
              "    border-bottom-color: var(--fill-color);\n",
              "    animation:\n",
              "      spin 1s steps(1) infinite;\n",
              "  }\n",
              "\n",
              "  @keyframes spin {\n",
              "    0% {\n",
              "      border-color: transparent;\n",
              "      border-bottom-color: var(--fill-color);\n",
              "      border-left-color: var(--fill-color);\n",
              "    }\n",
              "    20% {\n",
              "      border-color: transparent;\n",
              "      border-left-color: var(--fill-color);\n",
              "      border-top-color: var(--fill-color);\n",
              "    }\n",
              "    30% {\n",
              "      border-color: transparent;\n",
              "      border-left-color: var(--fill-color);\n",
              "      border-top-color: var(--fill-color);\n",
              "      border-right-color: var(--fill-color);\n",
              "    }\n",
              "    40% {\n",
              "      border-color: transparent;\n",
              "      border-right-color: var(--fill-color);\n",
              "      border-top-color: var(--fill-color);\n",
              "    }\n",
              "    60% {\n",
              "      border-color: transparent;\n",
              "      border-right-color: var(--fill-color);\n",
              "    }\n",
              "    80% {\n",
              "      border-color: transparent;\n",
              "      border-right-color: var(--fill-color);\n",
              "      border-bottom-color: var(--fill-color);\n",
              "    }\n",
              "    90% {\n",
              "      border-color: transparent;\n",
              "      border-bottom-color: var(--fill-color);\n",
              "    }\n",
              "  }\n",
              "</style>\n",
              "\n",
              "  <script>\n",
              "    async function quickchart(key) {\n",
              "      const quickchartButtonEl =\n",
              "        document.querySelector('#' + key + ' button');\n",
              "      quickchartButtonEl.disabled = true;  // To prevent multiple clicks.\n",
              "      quickchartButtonEl.classList.add('colab-df-spinner');\n",
              "      try {\n",
              "        const charts = await google.colab.kernel.invokeFunction(\n",
              "            'suggestCharts', [key], {});\n",
              "      } catch (error) {\n",
              "        console.error('Error during call to suggestCharts:', error);\n",
              "      }\n",
              "      quickchartButtonEl.classList.remove('colab-df-spinner');\n",
              "      quickchartButtonEl.classList.add('colab-df-quickchart-complete');\n",
              "    }\n",
              "    (() => {\n",
              "      let quickchartButtonEl =\n",
              "        document.querySelector('#df-39e5b5d9-22d0-41f6-b673-e75981d90e2b button');\n",
              "      quickchartButtonEl.style.display =\n",
              "        google.colab.kernel.accessAllowed ? 'block' : 'none';\n",
              "    })();\n",
              "  </script>\n",
              "</div>\n",
              "    </div>\n",
              "  </div>\n"
            ],
            "application/vnd.google.colaboratory.intrinsic+json": {
              "type": "dataframe",
              "summary": "{\n  \"name\": \"df\",\n  \"rows\": 2,\n  \"fields\": [\n    {\n      \"column\": \"group\",\n      \"properties\": {\n        \"dtype\": \"string\",\n        \"num_unique_values\": 2,\n        \"samples\": [\n          \"B\",\n          \"A\"\n        ],\n        \"semantic_type\": \"\",\n        \"description\": \"\"\n      }\n    },\n    {\n      \"column\": \"count\",\n      \"properties\": {\n        \"dtype\": \"number\",\n        \"std\": 1066.3170260293136,\n        \"min\": 771.0,\n        \"max\": 2279.0,\n        \"num_unique_values\": 2,\n        \"samples\": [\n          771.0,\n          2279.0\n        ],\n        \"semantic_type\": \"\",\n        \"description\": \"\"\n      }\n    },\n    {\n      \"column\": \"mean\",\n      \"properties\": {\n        \"dtype\": \"number\",\n        \"std\": 1.0817475083580101,\n        \"min\": 5.4254215304798965,\n        \"max\": 6.9552435278630975,\n        \"num_unique_values\": 2,\n        \"samples\": [\n          5.4254215304798965,\n          6.9552435278630975\n        ],\n        \"semantic_type\": \"\",\n        \"description\": \"\"\n      }\n    },\n    {\n      \"column\": \"std\",\n      \"properties\": {\n        \"dtype\": \"number\",\n        \"std\": 0.42692900371170306,\n        \"min\": 3.2490681457285233,\n        \"max\": 3.852836932948047,\n        \"num_unique_values\": 2,\n        \"samples\": [\n          3.2490681457285233,\n          3.852836932948047\n        ],\n        \"semantic_type\": \"\",\n        \"description\": \"\"\n      }\n    },\n    {\n      \"column\": \"min\",\n      \"properties\": {\n        \"dtype\": \"number\",\n        \"std\": 0.0,\n        \"min\": 1.0,\n        \"max\": 1.0,\n        \"num_unique_values\": 1,\n        \"samples\": [\n          1.0\n        ],\n        \"semantic_type\": \"\",\n        \"description\": \"\"\n      }\n    },\n    {\n      \"column\": \"25%\",\n      \"properties\": {\n        \"dtype\": \"number\",\n        \"std\": 0.7071067811865476,\n        \"min\": 3.0,\n        \"max\": 4.0,\n        \"num_unique_values\": 2,\n        \"samples\": [\n          3.0\n        ],\n        \"semantic_type\": \"\",\n        \"description\": \"\"\n      }\n    },\n    {\n      \"column\": \"50%\",\n      \"properties\": {\n        \"dtype\": \"number\",\n        \"std\": 1.4142135623730951,\n        \"min\": 4.0,\n        \"max\": 6.0,\n        \"num_unique_values\": 2,\n        \"samples\": [\n          4.0\n        ],\n        \"semantic_type\": \"\",\n        \"description\": \"\"\n      }\n    },\n    {\n      \"column\": \"75%\",\n      \"properties\": {\n        \"dtype\": \"number\",\n        \"std\": 1.4142135623730951,\n        \"min\": 7.0,\n        \"max\": 9.0,\n        \"num_unique_values\": 2,\n        \"samples\": [\n          7.0\n        ],\n        \"semantic_type\": \"\",\n        \"description\": \"\"\n      }\n    },\n    {\n      \"column\": \"max\",\n      \"properties\": {\n        \"dtype\": \"number\",\n        \"std\": 0.0,\n        \"min\": 24.0,\n        \"max\": 24.0,\n        \"num_unique_values\": 1,\n        \"samples\": [\n          24.0\n        ],\n        \"semantic_type\": \"\",\n        \"description\": \"\"\n      }\n    }\n  ]\n}"
            }
          },
          "metadata": {},
          "execution_count": 63
        }
      ],
      "source": [
        "df.drop_duplicates(subset=['user_id', 'events_count']).groupby('group')['events_count'].describe()"
      ]
    },
    {
      "cell_type": "markdown",
      "metadata": {
        "id": "7uKFyaJ483qB"
      },
      "source": [
        "#### Вывод\n",
        "Пользователи группы А совершают больше действий, чем пользователи группы B, при чем, среднеарифметический и медианный показатель разнится почти в полтора раза"
      ]
    },
    {
      "cell_type": "markdown",
      "metadata": {
        "id": "0S5GPe1g83qB"
      },
      "source": [
        "### 4.2 Динамика количества событий в группах теста по дням: изучите распределение числа событий по дням и сравните динамику групп теста между собой."
      ]
    },
    {
      "cell_type": "markdown",
      "metadata": {
        "id": "DMMOZrLj83qB"
      },
      "source": [
        "<div id=\"div_id1\">\n",
        "\n",
        "\n",
        "- Этот блок описан в пункте 3.6 [⬆ тут](#1)"
      ]
    },
    {
      "cell_type": "markdown",
      "metadata": {
        "id": "auz-Jtfu83qB"
      },
      "source": [
        "### 4.3 Оценка динамики регистрации"
      ]
    },
    {
      "cell_type": "code",
      "execution_count": 64,
      "metadata": {
        "id": "brxXIg5J83qC",
        "outputId": "c2f79410-3148-4a96-def8-a6ee618aa6fd",
        "colab": {
          "base_uri": "https://localhost:8080/",
          "height": 519
        }
      },
      "outputs": [
        {
          "output_type": "execute_result",
          "data": {
            "text/plain": [
              "   first_date  count_user_a  count_user_b\n",
              "0  2020-12-07  794           987         \n",
              "1  2020-12-08  525           188         \n",
              "2  2020-12-09  471           374         \n",
              "3  2020-12-10  253           129         \n",
              "4  2020-12-11  443           63          \n",
              "5  2020-12-12  273           220         \n",
              "6  2020-12-13  205           36          \n",
              "7  2020-12-14  2539          301         \n",
              "8  2020-12-15  1396          123         \n",
              "9  2020-12-16  1047          612         \n",
              "10 2020-12-17  1307          136         \n",
              "11 2020-12-18  1432          220         \n",
              "12 2020-12-19  1358          164         \n",
              "13 2020-12-20  1531          269         \n",
              "14 2020-12-21  2277          361         "
            ],
            "text/html": [
              "\n",
              "  <div id=\"df-94ac9f46-d25a-4417-920e-89a2567867d1\" class=\"colab-df-container\">\n",
              "    <div>\n",
              "<style scoped>\n",
              "    .dataframe tbody tr th:only-of-type {\n",
              "        vertical-align: middle;\n",
              "    }\n",
              "\n",
              "    .dataframe tbody tr th {\n",
              "        vertical-align: top;\n",
              "    }\n",
              "\n",
              "    .dataframe thead th {\n",
              "        text-align: right;\n",
              "    }\n",
              "</style>\n",
              "<table border=\"1\" class=\"dataframe\">\n",
              "  <thead>\n",
              "    <tr style=\"text-align: right;\">\n",
              "      <th></th>\n",
              "      <th>first_date</th>\n",
              "      <th>count_user_a</th>\n",
              "      <th>count_user_b</th>\n",
              "    </tr>\n",
              "  </thead>\n",
              "  <tbody>\n",
              "    <tr>\n",
              "      <th>0</th>\n",
              "      <td>2020-12-07</td>\n",
              "      <td>794</td>\n",
              "      <td>987</td>\n",
              "    </tr>\n",
              "    <tr>\n",
              "      <th>1</th>\n",
              "      <td>2020-12-08</td>\n",
              "      <td>525</td>\n",
              "      <td>188</td>\n",
              "    </tr>\n",
              "    <tr>\n",
              "      <th>2</th>\n",
              "      <td>2020-12-09</td>\n",
              "      <td>471</td>\n",
              "      <td>374</td>\n",
              "    </tr>\n",
              "    <tr>\n",
              "      <th>3</th>\n",
              "      <td>2020-12-10</td>\n",
              "      <td>253</td>\n",
              "      <td>129</td>\n",
              "    </tr>\n",
              "    <tr>\n",
              "      <th>4</th>\n",
              "      <td>2020-12-11</td>\n",
              "      <td>443</td>\n",
              "      <td>63</td>\n",
              "    </tr>\n",
              "    <tr>\n",
              "      <th>5</th>\n",
              "      <td>2020-12-12</td>\n",
              "      <td>273</td>\n",
              "      <td>220</td>\n",
              "    </tr>\n",
              "    <tr>\n",
              "      <th>6</th>\n",
              "      <td>2020-12-13</td>\n",
              "      <td>205</td>\n",
              "      <td>36</td>\n",
              "    </tr>\n",
              "    <tr>\n",
              "      <th>7</th>\n",
              "      <td>2020-12-14</td>\n",
              "      <td>2539</td>\n",
              "      <td>301</td>\n",
              "    </tr>\n",
              "    <tr>\n",
              "      <th>8</th>\n",
              "      <td>2020-12-15</td>\n",
              "      <td>1396</td>\n",
              "      <td>123</td>\n",
              "    </tr>\n",
              "    <tr>\n",
              "      <th>9</th>\n",
              "      <td>2020-12-16</td>\n",
              "      <td>1047</td>\n",
              "      <td>612</td>\n",
              "    </tr>\n",
              "    <tr>\n",
              "      <th>10</th>\n",
              "      <td>2020-12-17</td>\n",
              "      <td>1307</td>\n",
              "      <td>136</td>\n",
              "    </tr>\n",
              "    <tr>\n",
              "      <th>11</th>\n",
              "      <td>2020-12-18</td>\n",
              "      <td>1432</td>\n",
              "      <td>220</td>\n",
              "    </tr>\n",
              "    <tr>\n",
              "      <th>12</th>\n",
              "      <td>2020-12-19</td>\n",
              "      <td>1358</td>\n",
              "      <td>164</td>\n",
              "    </tr>\n",
              "    <tr>\n",
              "      <th>13</th>\n",
              "      <td>2020-12-20</td>\n",
              "      <td>1531</td>\n",
              "      <td>269</td>\n",
              "    </tr>\n",
              "    <tr>\n",
              "      <th>14</th>\n",
              "      <td>2020-12-21</td>\n",
              "      <td>2277</td>\n",
              "      <td>361</td>\n",
              "    </tr>\n",
              "  </tbody>\n",
              "</table>\n",
              "</div>\n",
              "    <div class=\"colab-df-buttons\">\n",
              "\n",
              "  <div class=\"colab-df-container\">\n",
              "    <button class=\"colab-df-convert\" onclick=\"convertToInteractive('df-94ac9f46-d25a-4417-920e-89a2567867d1')\"\n",
              "            title=\"Convert this dataframe to an interactive table.\"\n",
              "            style=\"display:none;\">\n",
              "\n",
              "  <svg xmlns=\"http://www.w3.org/2000/svg\" height=\"24px\" viewBox=\"0 -960 960 960\">\n",
              "    <path d=\"M120-120v-720h720v720H120Zm60-500h600v-160H180v160Zm220 220h160v-160H400v160Zm0 220h160v-160H400v160ZM180-400h160v-160H180v160Zm440 0h160v-160H620v160ZM180-180h160v-160H180v160Zm440 0h160v-160H620v160Z\"/>\n",
              "  </svg>\n",
              "    </button>\n",
              "\n",
              "  <style>\n",
              "    .colab-df-container {\n",
              "      display:flex;\n",
              "      gap: 12px;\n",
              "    }\n",
              "\n",
              "    .colab-df-convert {\n",
              "      background-color: #E8F0FE;\n",
              "      border: none;\n",
              "      border-radius: 50%;\n",
              "      cursor: pointer;\n",
              "      display: none;\n",
              "      fill: #1967D2;\n",
              "      height: 32px;\n",
              "      padding: 0 0 0 0;\n",
              "      width: 32px;\n",
              "    }\n",
              "\n",
              "    .colab-df-convert:hover {\n",
              "      background-color: #E2EBFA;\n",
              "      box-shadow: 0px 1px 2px rgba(60, 64, 67, 0.3), 0px 1px 3px 1px rgba(60, 64, 67, 0.15);\n",
              "      fill: #174EA6;\n",
              "    }\n",
              "\n",
              "    .colab-df-buttons div {\n",
              "      margin-bottom: 4px;\n",
              "    }\n",
              "\n",
              "    [theme=dark] .colab-df-convert {\n",
              "      background-color: #3B4455;\n",
              "      fill: #D2E3FC;\n",
              "    }\n",
              "\n",
              "    [theme=dark] .colab-df-convert:hover {\n",
              "      background-color: #434B5C;\n",
              "      box-shadow: 0px 1px 3px 1px rgba(0, 0, 0, 0.15);\n",
              "      filter: drop-shadow(0px 1px 2px rgba(0, 0, 0, 0.3));\n",
              "      fill: #FFFFFF;\n",
              "    }\n",
              "  </style>\n",
              "\n",
              "    <script>\n",
              "      const buttonEl =\n",
              "        document.querySelector('#df-94ac9f46-d25a-4417-920e-89a2567867d1 button.colab-df-convert');\n",
              "      buttonEl.style.display =\n",
              "        google.colab.kernel.accessAllowed ? 'block' : 'none';\n",
              "\n",
              "      async function convertToInteractive(key) {\n",
              "        const element = document.querySelector('#df-94ac9f46-d25a-4417-920e-89a2567867d1');\n",
              "        const dataTable =\n",
              "          await google.colab.kernel.invokeFunction('convertToInteractive',\n",
              "                                                    [key], {});\n",
              "        if (!dataTable) return;\n",
              "\n",
              "        const docLinkHtml = 'Like what you see? Visit the ' +\n",
              "          '<a target=\"_blank\" href=https://colab.research.google.com/notebooks/data_table.ipynb>data table notebook</a>'\n",
              "          + ' to learn more about interactive tables.';\n",
              "        element.innerHTML = '';\n",
              "        dataTable['output_type'] = 'display_data';\n",
              "        await google.colab.output.renderOutput(dataTable, element);\n",
              "        const docLink = document.createElement('div');\n",
              "        docLink.innerHTML = docLinkHtml;\n",
              "        element.appendChild(docLink);\n",
              "      }\n",
              "    </script>\n",
              "  </div>\n",
              "\n",
              "\n",
              "<div id=\"df-364f04fd-a48a-494f-855a-29803c01b4e5\">\n",
              "  <button class=\"colab-df-quickchart\" onclick=\"quickchart('df-364f04fd-a48a-494f-855a-29803c01b4e5')\"\n",
              "            title=\"Suggest charts\"\n",
              "            style=\"display:none;\">\n",
              "\n",
              "<svg xmlns=\"http://www.w3.org/2000/svg\" height=\"24px\"viewBox=\"0 0 24 24\"\n",
              "     width=\"24px\">\n",
              "    <g>\n",
              "        <path d=\"M19 3H5c-1.1 0-2 .9-2 2v14c0 1.1.9 2 2 2h14c1.1 0 2-.9 2-2V5c0-1.1-.9-2-2-2zM9 17H7v-7h2v7zm4 0h-2V7h2v10zm4 0h-2v-4h2v4z\"/>\n",
              "    </g>\n",
              "</svg>\n",
              "  </button>\n",
              "\n",
              "<style>\n",
              "  .colab-df-quickchart {\n",
              "      --bg-color: #E8F0FE;\n",
              "      --fill-color: #1967D2;\n",
              "      --hover-bg-color: #E2EBFA;\n",
              "      --hover-fill-color: #174EA6;\n",
              "      --disabled-fill-color: #AAA;\n",
              "      --disabled-bg-color: #DDD;\n",
              "  }\n",
              "\n",
              "  [theme=dark] .colab-df-quickchart {\n",
              "      --bg-color: #3B4455;\n",
              "      --fill-color: #D2E3FC;\n",
              "      --hover-bg-color: #434B5C;\n",
              "      --hover-fill-color: #FFFFFF;\n",
              "      --disabled-bg-color: #3B4455;\n",
              "      --disabled-fill-color: #666;\n",
              "  }\n",
              "\n",
              "  .colab-df-quickchart {\n",
              "    background-color: var(--bg-color);\n",
              "    border: none;\n",
              "    border-radius: 50%;\n",
              "    cursor: pointer;\n",
              "    display: none;\n",
              "    fill: var(--fill-color);\n",
              "    height: 32px;\n",
              "    padding: 0;\n",
              "    width: 32px;\n",
              "  }\n",
              "\n",
              "  .colab-df-quickchart:hover {\n",
              "    background-color: var(--hover-bg-color);\n",
              "    box-shadow: 0 1px 2px rgba(60, 64, 67, 0.3), 0 1px 3px 1px rgba(60, 64, 67, 0.15);\n",
              "    fill: var(--button-hover-fill-color);\n",
              "  }\n",
              "\n",
              "  .colab-df-quickchart-complete:disabled,\n",
              "  .colab-df-quickchart-complete:disabled:hover {\n",
              "    background-color: var(--disabled-bg-color);\n",
              "    fill: var(--disabled-fill-color);\n",
              "    box-shadow: none;\n",
              "  }\n",
              "\n",
              "  .colab-df-spinner {\n",
              "    border: 2px solid var(--fill-color);\n",
              "    border-color: transparent;\n",
              "    border-bottom-color: var(--fill-color);\n",
              "    animation:\n",
              "      spin 1s steps(1) infinite;\n",
              "  }\n",
              "\n",
              "  @keyframes spin {\n",
              "    0% {\n",
              "      border-color: transparent;\n",
              "      border-bottom-color: var(--fill-color);\n",
              "      border-left-color: var(--fill-color);\n",
              "    }\n",
              "    20% {\n",
              "      border-color: transparent;\n",
              "      border-left-color: var(--fill-color);\n",
              "      border-top-color: var(--fill-color);\n",
              "    }\n",
              "    30% {\n",
              "      border-color: transparent;\n",
              "      border-left-color: var(--fill-color);\n",
              "      border-top-color: var(--fill-color);\n",
              "      border-right-color: var(--fill-color);\n",
              "    }\n",
              "    40% {\n",
              "      border-color: transparent;\n",
              "      border-right-color: var(--fill-color);\n",
              "      border-top-color: var(--fill-color);\n",
              "    }\n",
              "    60% {\n",
              "      border-color: transparent;\n",
              "      border-right-color: var(--fill-color);\n",
              "    }\n",
              "    80% {\n",
              "      border-color: transparent;\n",
              "      border-right-color: var(--fill-color);\n",
              "      border-bottom-color: var(--fill-color);\n",
              "    }\n",
              "    90% {\n",
              "      border-color: transparent;\n",
              "      border-bottom-color: var(--fill-color);\n",
              "    }\n",
              "  }\n",
              "</style>\n",
              "\n",
              "  <script>\n",
              "    async function quickchart(key) {\n",
              "      const quickchartButtonEl =\n",
              "        document.querySelector('#' + key + ' button');\n",
              "      quickchartButtonEl.disabled = true;  // To prevent multiple clicks.\n",
              "      quickchartButtonEl.classList.add('colab-df-spinner');\n",
              "      try {\n",
              "        const charts = await google.colab.kernel.invokeFunction(\n",
              "            'suggestCharts', [key], {});\n",
              "      } catch (error) {\n",
              "        console.error('Error during call to suggestCharts:', error);\n",
              "      }\n",
              "      quickchartButtonEl.classList.remove('colab-df-spinner');\n",
              "      quickchartButtonEl.classList.add('colab-df-quickchart-complete');\n",
              "    }\n",
              "    (() => {\n",
              "      let quickchartButtonEl =\n",
              "        document.querySelector('#df-364f04fd-a48a-494f-855a-29803c01b4e5 button');\n",
              "      quickchartButtonEl.style.display =\n",
              "        google.colab.kernel.accessAllowed ? 'block' : 'none';\n",
              "    })();\n",
              "  </script>\n",
              "</div>\n",
              "    </div>\n",
              "  </div>\n"
            ],
            "application/vnd.google.colaboratory.intrinsic+json": {
              "type": "dataframe",
              "variable_name": "temp_table",
              "summary": "{\n  \"name\": \"temp_table\",\n  \"rows\": 15,\n  \"fields\": [\n    {\n      \"column\": \"first_date\",\n      \"properties\": {\n        \"dtype\": \"date\",\n        \"min\": \"2020-12-07 00:00:00\",\n        \"max\": \"2020-12-21 00:00:00\",\n        \"num_unique_values\": 15,\n        \"samples\": [\n          \"2020-12-16 00:00:00\",\n          \"2020-12-18 00:00:00\",\n          \"2020-12-07 00:00:00\"\n        ],\n        \"semantic_type\": \"\",\n        \"description\": \"\"\n      }\n    },\n    {\n      \"column\": \"count_user_a\",\n      \"properties\": {\n        \"dtype\": \"number\",\n        \"std\": 725,\n        \"min\": 205,\n        \"max\": 2539,\n        \"num_unique_values\": 15,\n        \"samples\": [\n          1047,\n          1432,\n          794\n        ],\n        \"semantic_type\": \"\",\n        \"description\": \"\"\n      }\n    },\n    {\n      \"column\": \"count_user_b\",\n      \"properties\": {\n        \"dtype\": \"number\",\n        \"std\": 243,\n        \"min\": 36,\n        \"max\": 987,\n        \"num_unique_values\": 14,\n        \"samples\": [\n          612,\n          164,\n          987\n        ],\n        \"semantic_type\": \"\",\n        \"description\": \"\"\n      }\n    }\n  ]\n}"
            }
          },
          "metadata": {},
          "execution_count": 64
        }
      ],
      "source": [
        "# разобьем на группы\n",
        "temp_table_a = df[(df['group'] == 'A')].groupby(['first_date'])['user_id'].agg('count').reset_index().rename(columns={'user_id': 'count_user_a'})\n",
        "temp_table_b = df[(df['group'] == 'B')].groupby(['first_date'])['user_id'].agg('count').reset_index().rename(columns={'user_id': 'count_user_b'})\n",
        "temp_table = temp_table_a.merge(temp_table_b, on='first_date', how='outer')\n",
        "temp_table"
      ]
    },
    {
      "cell_type": "code",
      "execution_count": 65,
      "metadata": {
        "id": "rEh7A9NA83qC",
        "outputId": "f26ce6c1-c59f-4b5b-9af9-ecc5e3f481db",
        "colab": {
          "base_uri": "https://localhost:8080/",
          "height": 717
        }
      },
      "outputs": [
        {
          "output_type": "display_data",
          "data": {
            "text/html": [
              "<html>\n",
              "<head><meta charset=\"utf-8\" /></head>\n",
              "<body>\n",
              "    <div>            <script src=\"https://cdnjs.cloudflare.com/ajax/libs/mathjax/2.7.5/MathJax.js?config=TeX-AMS-MML_SVG\"></script><script type=\"text/javascript\">if (window.MathJax && window.MathJax.Hub && window.MathJax.Hub.Config) {window.MathJax.Hub.Config({SVG: {font: \"STIX-Web\"}});}</script>                <script type=\"text/javascript\">window.PlotlyConfig = {MathJaxConfig: 'local'};</script>\n",
              "        <script charset=\"utf-8\" src=\"https://cdn.plot.ly/plotly-2.24.1.min.js\"></script>                <div id=\"448c3001-5e65-4dfe-be50-8499c190a7dc\" class=\"plotly-graph-div\" style=\"height:700px; width:950px;\"></div>            <script type=\"text/javascript\">                                    window.PLOTLYENV=window.PLOTLYENV || {};                                    if (document.getElementById(\"448c3001-5e65-4dfe-be50-8499c190a7dc\")) {                    Plotly.newPlot(                        \"448c3001-5e65-4dfe-be50-8499c190a7dc\",                        [{\"name\":\"\\u0413\\u0440\\u0443\\u043f\\u043f\\u0430 A\",\"x\":[\"2020-12-07T00:00:00\",\"2020-12-08T00:00:00\",\"2020-12-09T00:00:00\",\"2020-12-10T00:00:00\",\"2020-12-11T00:00:00\",\"2020-12-12T00:00:00\",\"2020-12-13T00:00:00\",\"2020-12-14T00:00:00\",\"2020-12-15T00:00:00\",\"2020-12-16T00:00:00\",\"2020-12-17T00:00:00\",\"2020-12-18T00:00:00\",\"2020-12-19T00:00:00\",\"2020-12-20T00:00:00\",\"2020-12-21T00:00:00\"],\"y\":[794,525,471,253,443,273,205,2539,1396,1047,1307,1432,1358,1531,2277],\"type\":\"bar\"},{\"name\":\"\\u0413\\u0440\\u0443\\u043f\\u043f\\u0430 B\",\"x\":[\"2020-12-07T00:00:00\",\"2020-12-08T00:00:00\",\"2020-12-09T00:00:00\",\"2020-12-10T00:00:00\",\"2020-12-11T00:00:00\",\"2020-12-12T00:00:00\",\"2020-12-13T00:00:00\",\"2020-12-14T00:00:00\",\"2020-12-15T00:00:00\",\"2020-12-16T00:00:00\",\"2020-12-17T00:00:00\",\"2020-12-18T00:00:00\",\"2020-12-19T00:00:00\",\"2020-12-20T00:00:00\",\"2020-12-21T00:00:00\"],\"y\":[987,188,374,129,63,220,36,301,123,612,136,220,164,269,361],\"type\":\"bar\"}],                        {\"template\":{\"data\":{\"histogram2dcontour\":[{\"type\":\"histogram2dcontour\",\"colorbar\":{\"outlinewidth\":0,\"ticks\":\"\"},\"colorscale\":[[0.0,\"#0d0887\"],[0.1111111111111111,\"#46039f\"],[0.2222222222222222,\"#7201a8\"],[0.3333333333333333,\"#9c179e\"],[0.4444444444444444,\"#bd3786\"],[0.5555555555555556,\"#d8576b\"],[0.6666666666666666,\"#ed7953\"],[0.7777777777777778,\"#fb9f3a\"],[0.8888888888888888,\"#fdca26\"],[1.0,\"#f0f921\"]]}],\"choropleth\":[{\"type\":\"choropleth\",\"colorbar\":{\"outlinewidth\":0,\"ticks\":\"\"}}],\"histogram2d\":[{\"type\":\"histogram2d\",\"colorbar\":{\"outlinewidth\":0,\"ticks\":\"\"},\"colorscale\":[[0.0,\"#0d0887\"],[0.1111111111111111,\"#46039f\"],[0.2222222222222222,\"#7201a8\"],[0.3333333333333333,\"#9c179e\"],[0.4444444444444444,\"#bd3786\"],[0.5555555555555556,\"#d8576b\"],[0.6666666666666666,\"#ed7953\"],[0.7777777777777778,\"#fb9f3a\"],[0.8888888888888888,\"#fdca26\"],[1.0,\"#f0f921\"]]}],\"heatmap\":[{\"type\":\"heatmap\",\"colorbar\":{\"outlinewidth\":0,\"ticks\":\"\"},\"colorscale\":[[0.0,\"#0d0887\"],[0.1111111111111111,\"#46039f\"],[0.2222222222222222,\"#7201a8\"],[0.3333333333333333,\"#9c179e\"],[0.4444444444444444,\"#bd3786\"],[0.5555555555555556,\"#d8576b\"],[0.6666666666666666,\"#ed7953\"],[0.7777777777777778,\"#fb9f3a\"],[0.8888888888888888,\"#fdca26\"],[1.0,\"#f0f921\"]]}],\"heatmapgl\":[{\"type\":\"heatmapgl\",\"colorbar\":{\"outlinewidth\":0,\"ticks\":\"\"},\"colorscale\":[[0.0,\"#0d0887\"],[0.1111111111111111,\"#46039f\"],[0.2222222222222222,\"#7201a8\"],[0.3333333333333333,\"#9c179e\"],[0.4444444444444444,\"#bd3786\"],[0.5555555555555556,\"#d8576b\"],[0.6666666666666666,\"#ed7953\"],[0.7777777777777778,\"#fb9f3a\"],[0.8888888888888888,\"#fdca26\"],[1.0,\"#f0f921\"]]}],\"contourcarpet\":[{\"type\":\"contourcarpet\",\"colorbar\":{\"outlinewidth\":0,\"ticks\":\"\"}}],\"contour\":[{\"type\":\"contour\",\"colorbar\":{\"outlinewidth\":0,\"ticks\":\"\"},\"colorscale\":[[0.0,\"#0d0887\"],[0.1111111111111111,\"#46039f\"],[0.2222222222222222,\"#7201a8\"],[0.3333333333333333,\"#9c179e\"],[0.4444444444444444,\"#bd3786\"],[0.5555555555555556,\"#d8576b\"],[0.6666666666666666,\"#ed7953\"],[0.7777777777777778,\"#fb9f3a\"],[0.8888888888888888,\"#fdca26\"],[1.0,\"#f0f921\"]]}],\"surface\":[{\"type\":\"surface\",\"colorbar\":{\"outlinewidth\":0,\"ticks\":\"\"},\"colorscale\":[[0.0,\"#0d0887\"],[0.1111111111111111,\"#46039f\"],[0.2222222222222222,\"#7201a8\"],[0.3333333333333333,\"#9c179e\"],[0.4444444444444444,\"#bd3786\"],[0.5555555555555556,\"#d8576b\"],[0.6666666666666666,\"#ed7953\"],[0.7777777777777778,\"#fb9f3a\"],[0.8888888888888888,\"#fdca26\"],[1.0,\"#f0f921\"]]}],\"mesh3d\":[{\"type\":\"mesh3d\",\"colorbar\":{\"outlinewidth\":0,\"ticks\":\"\"}}],\"scatter\":[{\"fillpattern\":{\"fillmode\":\"overlay\",\"size\":10,\"solidity\":0.2},\"type\":\"scatter\"}],\"parcoords\":[{\"type\":\"parcoords\",\"line\":{\"colorbar\":{\"outlinewidth\":0,\"ticks\":\"\"}}}],\"scatterpolargl\":[{\"type\":\"scatterpolargl\",\"marker\":{\"colorbar\":{\"outlinewidth\":0,\"ticks\":\"\"}}}],\"bar\":[{\"error_x\":{\"color\":\"#2a3f5f\"},\"error_y\":{\"color\":\"#2a3f5f\"},\"marker\":{\"line\":{\"color\":\"#E5ECF6\",\"width\":0.5},\"pattern\":{\"fillmode\":\"overlay\",\"size\":10,\"solidity\":0.2}},\"type\":\"bar\"}],\"scattergeo\":[{\"type\":\"scattergeo\",\"marker\":{\"colorbar\":{\"outlinewidth\":0,\"ticks\":\"\"}}}],\"scatterpolar\":[{\"type\":\"scatterpolar\",\"marker\":{\"colorbar\":{\"outlinewidth\":0,\"ticks\":\"\"}}}],\"histogram\":[{\"marker\":{\"pattern\":{\"fillmode\":\"overlay\",\"size\":10,\"solidity\":0.2}},\"type\":\"histogram\"}],\"scattergl\":[{\"type\":\"scattergl\",\"marker\":{\"colorbar\":{\"outlinewidth\":0,\"ticks\":\"\"}}}],\"scatter3d\":[{\"type\":\"scatter3d\",\"line\":{\"colorbar\":{\"outlinewidth\":0,\"ticks\":\"\"}},\"marker\":{\"colorbar\":{\"outlinewidth\":0,\"ticks\":\"\"}}}],\"scattermapbox\":[{\"type\":\"scattermapbox\",\"marker\":{\"colorbar\":{\"outlinewidth\":0,\"ticks\":\"\"}}}],\"scatterternary\":[{\"type\":\"scatterternary\",\"marker\":{\"colorbar\":{\"outlinewidth\":0,\"ticks\":\"\"}}}],\"scattercarpet\":[{\"type\":\"scattercarpet\",\"marker\":{\"colorbar\":{\"outlinewidth\":0,\"ticks\":\"\"}}}],\"carpet\":[{\"aaxis\":{\"endlinecolor\":\"#2a3f5f\",\"gridcolor\":\"white\",\"linecolor\":\"white\",\"minorgridcolor\":\"white\",\"startlinecolor\":\"#2a3f5f\"},\"baxis\":{\"endlinecolor\":\"#2a3f5f\",\"gridcolor\":\"white\",\"linecolor\":\"white\",\"minorgridcolor\":\"white\",\"startlinecolor\":\"#2a3f5f\"},\"type\":\"carpet\"}],\"table\":[{\"cells\":{\"fill\":{\"color\":\"#EBF0F8\"},\"line\":{\"color\":\"white\"}},\"header\":{\"fill\":{\"color\":\"#C8D4E3\"},\"line\":{\"color\":\"white\"}},\"type\":\"table\"}],\"barpolar\":[{\"marker\":{\"line\":{\"color\":\"#E5ECF6\",\"width\":0.5},\"pattern\":{\"fillmode\":\"overlay\",\"size\":10,\"solidity\":0.2}},\"type\":\"barpolar\"}],\"pie\":[{\"automargin\":true,\"type\":\"pie\"}]},\"layout\":{\"autotypenumbers\":\"strict\",\"colorway\":[\"#636efa\",\"#EF553B\",\"#00cc96\",\"#ab63fa\",\"#FFA15A\",\"#19d3f3\",\"#FF6692\",\"#B6E880\",\"#FF97FF\",\"#FECB52\"],\"font\":{\"color\":\"#2a3f5f\"},\"hovermode\":\"closest\",\"hoverlabel\":{\"align\":\"left\"},\"paper_bgcolor\":\"white\",\"plot_bgcolor\":\"#E5ECF6\",\"polar\":{\"bgcolor\":\"#E5ECF6\",\"angularaxis\":{\"gridcolor\":\"white\",\"linecolor\":\"white\",\"ticks\":\"\"},\"radialaxis\":{\"gridcolor\":\"white\",\"linecolor\":\"white\",\"ticks\":\"\"}},\"ternary\":{\"bgcolor\":\"#E5ECF6\",\"aaxis\":{\"gridcolor\":\"white\",\"linecolor\":\"white\",\"ticks\":\"\"},\"baxis\":{\"gridcolor\":\"white\",\"linecolor\":\"white\",\"ticks\":\"\"},\"caxis\":{\"gridcolor\":\"white\",\"linecolor\":\"white\",\"ticks\":\"\"}},\"coloraxis\":{\"colorbar\":{\"outlinewidth\":0,\"ticks\":\"\"}},\"colorscale\":{\"sequential\":[[0.0,\"#0d0887\"],[0.1111111111111111,\"#46039f\"],[0.2222222222222222,\"#7201a8\"],[0.3333333333333333,\"#9c179e\"],[0.4444444444444444,\"#bd3786\"],[0.5555555555555556,\"#d8576b\"],[0.6666666666666666,\"#ed7953\"],[0.7777777777777778,\"#fb9f3a\"],[0.8888888888888888,\"#fdca26\"],[1.0,\"#f0f921\"]],\"sequentialminus\":[[0.0,\"#0d0887\"],[0.1111111111111111,\"#46039f\"],[0.2222222222222222,\"#7201a8\"],[0.3333333333333333,\"#9c179e\"],[0.4444444444444444,\"#bd3786\"],[0.5555555555555556,\"#d8576b\"],[0.6666666666666666,\"#ed7953\"],[0.7777777777777778,\"#fb9f3a\"],[0.8888888888888888,\"#fdca26\"],[1.0,\"#f0f921\"]],\"diverging\":[[0,\"#8e0152\"],[0.1,\"#c51b7d\"],[0.2,\"#de77ae\"],[0.3,\"#f1b6da\"],[0.4,\"#fde0ef\"],[0.5,\"#f7f7f7\"],[0.6,\"#e6f5d0\"],[0.7,\"#b8e186\"],[0.8,\"#7fbc41\"],[0.9,\"#4d9221\"],[1,\"#276419\"]]},\"xaxis\":{\"gridcolor\":\"white\",\"linecolor\":\"white\",\"ticks\":\"\",\"title\":{\"standoff\":15},\"zerolinecolor\":\"white\",\"automargin\":true,\"zerolinewidth\":2},\"yaxis\":{\"gridcolor\":\"white\",\"linecolor\":\"white\",\"ticks\":\"\",\"title\":{\"standoff\":15},\"zerolinecolor\":\"white\",\"automargin\":true,\"zerolinewidth\":2},\"scene\":{\"xaxis\":{\"backgroundcolor\":\"#E5ECF6\",\"gridcolor\":\"white\",\"linecolor\":\"white\",\"showbackground\":true,\"ticks\":\"\",\"zerolinecolor\":\"white\",\"gridwidth\":2},\"yaxis\":{\"backgroundcolor\":\"#E5ECF6\",\"gridcolor\":\"white\",\"linecolor\":\"white\",\"showbackground\":true,\"ticks\":\"\",\"zerolinecolor\":\"white\",\"gridwidth\":2},\"zaxis\":{\"backgroundcolor\":\"#E5ECF6\",\"gridcolor\":\"white\",\"linecolor\":\"white\",\"showbackground\":true,\"ticks\":\"\",\"zerolinecolor\":\"white\",\"gridwidth\":2}},\"shapedefaults\":{\"line\":{\"color\":\"#2a3f5f\"}},\"annotationdefaults\":{\"arrowcolor\":\"#2a3f5f\",\"arrowhead\":0,\"arrowwidth\":1},\"geo\":{\"bgcolor\":\"white\",\"landcolor\":\"#E5ECF6\",\"subunitcolor\":\"white\",\"showland\":true,\"showlakes\":true,\"lakecolor\":\"white\"},\"title\":{\"x\":0.05},\"mapbox\":{\"style\":\"light\"}}},\"barmode\":\"group\",\"title\":{\"text\":\"\\u0420\\u0430\\u0441\\u043f\\u0440\\u0435\\u0434\\u0435\\u043b\\u0435\\u043d\\u0438\\u0435 \\u0440\\u0435\\u0433\\u0438\\u0441\\u0442\\u0440\\u0430\\u0446\\u0438\\u0439 \\u043f\\u043e\\u043b\\u044c\\u0437\\u043e\\u0432\\u0430\\u0442\\u0435\\u043b\\u0435\\u0439 \\u0431\\u0435\\u0437 \\u0434\\u0435\\u0439\\u0441\\u0442\\u0432\\u0438\\u0439 \\u043f\\u043e \\u0434\\u043d\\u044f\\u043c \\u043f\\u043e \\u0433\\u0440\\u0443\\u043f\\u043f\\u0430\\u043c\"},\"width\":950,\"height\":700,\"xaxis\":{\"title\":{\"text\":\"\\u0414\\u0430\\u0442\\u0430\"}},\"yaxis\":{\"title\":{\"text\":\"\\u041a\\u043e\\u043b\\u0438\\u0447\\u0435\\u0441\\u0442\\u0432\\u043e \\u0440\\u0435\\u0433\\u0438\\u0441\\u0442\\u0440\\u0430\\u0446\\u0438\\u0439\"}}},                        {\"responsive\": true}                    ).then(function(){\n",
              "                            \n",
              "var gd = document.getElementById('448c3001-5e65-4dfe-be50-8499c190a7dc');\n",
              "var x = new MutationObserver(function (mutations, observer) {{\n",
              "        var display = window.getComputedStyle(gd).display;\n",
              "        if (!display || display === 'none') {{\n",
              "            console.log([gd, 'removed!']);\n",
              "            Plotly.purge(gd);\n",
              "            observer.disconnect();\n",
              "        }}\n",
              "}});\n",
              "\n",
              "// Listen for the removal of the full notebook cells\n",
              "var notebookContainer = gd.closest('#notebook-container');\n",
              "if (notebookContainer) {{\n",
              "    x.observe(notebookContainer, {childList: true});\n",
              "}}\n",
              "\n",
              "// Listen for the clearing of the current output cell\n",
              "var outputEl = gd.closest('.output');\n",
              "if (outputEl) {{\n",
              "    x.observe(outputEl, {childList: true});\n",
              "}}\n",
              "\n",
              "                        })                };                            </script>        </div>\n",
              "</body>\n",
              "</html>"
            ]
          },
          "metadata": {}
        }
      ],
      "source": [
        "fig = go.Figure(data=[\n",
        "    go.Bar(name='Группа A', x=temp_table['first_date'], y=temp_table['count_user_a']),\n",
        "    go.Bar(name='Группа B', x=temp_table['first_date'], y=temp_table['count_user_b'])\n",
        "])\n",
        "fig.update_layout(barmode='group',\n",
        "                  title='Распределение регистраций пользователей без действий по дням по группам',\n",
        "                  width=950,\n",
        "                  height=700,\n",
        "                  xaxis_title='Дата',\n",
        "                  yaxis_title='Количество регистраций')\n",
        "fig.show()"
      ]
    },
    {
      "cell_type": "markdown",
      "metadata": {
        "id": "9nKkyrve83qD"
      },
      "source": [
        "На мой взгляд, по этому графику трудно оценить динамику, нужно смотреть в абсолютном отношении:"
      ]
    },
    {
      "cell_type": "code",
      "execution_count": 66,
      "metadata": {
        "id": "rDdoKVRH83qD"
      },
      "outputs": [],
      "source": [
        "# добавим долевое отношение\n",
        "temp_table['ratio_a'] = temp_table['count_user_a'] / sum(temp_table['count_user_a'])*100\n",
        "temp_table['ratio_b'] = temp_table['count_user_b'] / sum(temp_table['count_user_b'])*100"
      ]
    },
    {
      "cell_type": "code",
      "execution_count": 67,
      "metadata": {
        "id": "mesqGz3y83qD",
        "outputId": "212e929d-87fe-4228-a3f7-c44107e202e5",
        "colab": {
          "base_uri": "https://localhost:8080/",
          "height": 717
        }
      },
      "outputs": [
        {
          "output_type": "display_data",
          "data": {
            "text/html": [
              "<html>\n",
              "<head><meta charset=\"utf-8\" /></head>\n",
              "<body>\n",
              "    <div>            <script src=\"https://cdnjs.cloudflare.com/ajax/libs/mathjax/2.7.5/MathJax.js?config=TeX-AMS-MML_SVG\"></script><script type=\"text/javascript\">if (window.MathJax && window.MathJax.Hub && window.MathJax.Hub.Config) {window.MathJax.Hub.Config({SVG: {font: \"STIX-Web\"}});}</script>                <script type=\"text/javascript\">window.PlotlyConfig = {MathJaxConfig: 'local'};</script>\n",
              "        <script charset=\"utf-8\" src=\"https://cdn.plot.ly/plotly-2.24.1.min.js\"></script>                <div id=\"e34fd90d-6d9a-4e3a-bdc6-dcd8eec374f2\" class=\"plotly-graph-div\" style=\"height:700px; width:950px;\"></div>            <script type=\"text/javascript\">                                    window.PLOTLYENV=window.PLOTLYENV || {};                                    if (document.getElementById(\"e34fd90d-6d9a-4e3a-bdc6-dcd8eec374f2\")) {                    Plotly.newPlot(                        \"e34fd90d-6d9a-4e3a-bdc6-dcd8eec374f2\",                        [{\"name\":\"\\u0413\\u0440\\u0443\\u043f\\u043f\\u0430 A\",\"x\":[\"2020-12-07T00:00:00\",\"2020-12-08T00:00:00\",\"2020-12-09T00:00:00\",\"2020-12-10T00:00:00\",\"2020-12-11T00:00:00\",\"2020-12-12T00:00:00\",\"2020-12-13T00:00:00\",\"2020-12-14T00:00:00\",\"2020-12-15T00:00:00\",\"2020-12-16T00:00:00\",\"2020-12-17T00:00:00\",\"2020-12-18T00:00:00\",\"2020-12-19T00:00:00\",\"2020-12-20T00:00:00\",\"2020-12-21T00:00:00\"],\"y\":[5.009147687843038,3.31209387420352,2.971421361428301,1.5961138098542678,2.7947763548041133,1.7222888145858306,1.2932937984985176,16.01791685067188,8.807015330263075,6.605261497697307,8.24553655920762,9.034130338779887,8.567282821273107,9.658696612201123,14.36502428868841],\"type\":\"bar\"},{\"name\":\"\\u0413\\u0440\\u0443\\u043f\\u043f\\u0430 B\",\"x\":[\"2020-12-07T00:00:00\",\"2020-12-08T00:00:00\",\"2020-12-09T00:00:00\",\"2020-12-10T00:00:00\",\"2020-12-11T00:00:00\",\"2020-12-12T00:00:00\",\"2020-12-13T00:00:00\",\"2020-12-14T00:00:00\",\"2020-12-15T00:00:00\",\"2020-12-16T00:00:00\",\"2020-12-17T00:00:00\",\"2020-12-18T00:00:00\",\"2020-12-19T00:00:00\",\"2020-12-20T00:00:00\",\"2020-12-21T00:00:00\"],\"y\":[23.595505617977526,4.49438202247191,8.940951470236671,3.0839110686110445,1.5060961032751614,5.259383217786278,0.8606263447286636,7.19579249342577,2.9404733444896007,14.630647860387283,3.2512550800860627,5.259383217786278,3.920631125986134,6.430791298111403,8.63016973464021],\"type\":\"bar\"}],                        {\"template\":{\"data\":{\"histogram2dcontour\":[{\"type\":\"histogram2dcontour\",\"colorbar\":{\"outlinewidth\":0,\"ticks\":\"\"},\"colorscale\":[[0.0,\"#0d0887\"],[0.1111111111111111,\"#46039f\"],[0.2222222222222222,\"#7201a8\"],[0.3333333333333333,\"#9c179e\"],[0.4444444444444444,\"#bd3786\"],[0.5555555555555556,\"#d8576b\"],[0.6666666666666666,\"#ed7953\"],[0.7777777777777778,\"#fb9f3a\"],[0.8888888888888888,\"#fdca26\"],[1.0,\"#f0f921\"]]}],\"choropleth\":[{\"type\":\"choropleth\",\"colorbar\":{\"outlinewidth\":0,\"ticks\":\"\"}}],\"histogram2d\":[{\"type\":\"histogram2d\",\"colorbar\":{\"outlinewidth\":0,\"ticks\":\"\"},\"colorscale\":[[0.0,\"#0d0887\"],[0.1111111111111111,\"#46039f\"],[0.2222222222222222,\"#7201a8\"],[0.3333333333333333,\"#9c179e\"],[0.4444444444444444,\"#bd3786\"],[0.5555555555555556,\"#d8576b\"],[0.6666666666666666,\"#ed7953\"],[0.7777777777777778,\"#fb9f3a\"],[0.8888888888888888,\"#fdca26\"],[1.0,\"#f0f921\"]]}],\"heatmap\":[{\"type\":\"heatmap\",\"colorbar\":{\"outlinewidth\":0,\"ticks\":\"\"},\"colorscale\":[[0.0,\"#0d0887\"],[0.1111111111111111,\"#46039f\"],[0.2222222222222222,\"#7201a8\"],[0.3333333333333333,\"#9c179e\"],[0.4444444444444444,\"#bd3786\"],[0.5555555555555556,\"#d8576b\"],[0.6666666666666666,\"#ed7953\"],[0.7777777777777778,\"#fb9f3a\"],[0.8888888888888888,\"#fdca26\"],[1.0,\"#f0f921\"]]}],\"heatmapgl\":[{\"type\":\"heatmapgl\",\"colorbar\":{\"outlinewidth\":0,\"ticks\":\"\"},\"colorscale\":[[0.0,\"#0d0887\"],[0.1111111111111111,\"#46039f\"],[0.2222222222222222,\"#7201a8\"],[0.3333333333333333,\"#9c179e\"],[0.4444444444444444,\"#bd3786\"],[0.5555555555555556,\"#d8576b\"],[0.6666666666666666,\"#ed7953\"],[0.7777777777777778,\"#fb9f3a\"],[0.8888888888888888,\"#fdca26\"],[1.0,\"#f0f921\"]]}],\"contourcarpet\":[{\"type\":\"contourcarpet\",\"colorbar\":{\"outlinewidth\":0,\"ticks\":\"\"}}],\"contour\":[{\"type\":\"contour\",\"colorbar\":{\"outlinewidth\":0,\"ticks\":\"\"},\"colorscale\":[[0.0,\"#0d0887\"],[0.1111111111111111,\"#46039f\"],[0.2222222222222222,\"#7201a8\"],[0.3333333333333333,\"#9c179e\"],[0.4444444444444444,\"#bd3786\"],[0.5555555555555556,\"#d8576b\"],[0.6666666666666666,\"#ed7953\"],[0.7777777777777778,\"#fb9f3a\"],[0.8888888888888888,\"#fdca26\"],[1.0,\"#f0f921\"]]}],\"surface\":[{\"type\":\"surface\",\"colorbar\":{\"outlinewidth\":0,\"ticks\":\"\"},\"colorscale\":[[0.0,\"#0d0887\"],[0.1111111111111111,\"#46039f\"],[0.2222222222222222,\"#7201a8\"],[0.3333333333333333,\"#9c179e\"],[0.4444444444444444,\"#bd3786\"],[0.5555555555555556,\"#d8576b\"],[0.6666666666666666,\"#ed7953\"],[0.7777777777777778,\"#fb9f3a\"],[0.8888888888888888,\"#fdca26\"],[1.0,\"#f0f921\"]]}],\"mesh3d\":[{\"type\":\"mesh3d\",\"colorbar\":{\"outlinewidth\":0,\"ticks\":\"\"}}],\"scatter\":[{\"fillpattern\":{\"fillmode\":\"overlay\",\"size\":10,\"solidity\":0.2},\"type\":\"scatter\"}],\"parcoords\":[{\"type\":\"parcoords\",\"line\":{\"colorbar\":{\"outlinewidth\":0,\"ticks\":\"\"}}}],\"scatterpolargl\":[{\"type\":\"scatterpolargl\",\"marker\":{\"colorbar\":{\"outlinewidth\":0,\"ticks\":\"\"}}}],\"bar\":[{\"error_x\":{\"color\":\"#2a3f5f\"},\"error_y\":{\"color\":\"#2a3f5f\"},\"marker\":{\"line\":{\"color\":\"#E5ECF6\",\"width\":0.5},\"pattern\":{\"fillmode\":\"overlay\",\"size\":10,\"solidity\":0.2}},\"type\":\"bar\"}],\"scattergeo\":[{\"type\":\"scattergeo\",\"marker\":{\"colorbar\":{\"outlinewidth\":0,\"ticks\":\"\"}}}],\"scatterpolar\":[{\"type\":\"scatterpolar\",\"marker\":{\"colorbar\":{\"outlinewidth\":0,\"ticks\":\"\"}}}],\"histogram\":[{\"marker\":{\"pattern\":{\"fillmode\":\"overlay\",\"size\":10,\"solidity\":0.2}},\"type\":\"histogram\"}],\"scattergl\":[{\"type\":\"scattergl\",\"marker\":{\"colorbar\":{\"outlinewidth\":0,\"ticks\":\"\"}}}],\"scatter3d\":[{\"type\":\"scatter3d\",\"line\":{\"colorbar\":{\"outlinewidth\":0,\"ticks\":\"\"}},\"marker\":{\"colorbar\":{\"outlinewidth\":0,\"ticks\":\"\"}}}],\"scattermapbox\":[{\"type\":\"scattermapbox\",\"marker\":{\"colorbar\":{\"outlinewidth\":0,\"ticks\":\"\"}}}],\"scatterternary\":[{\"type\":\"scatterternary\",\"marker\":{\"colorbar\":{\"outlinewidth\":0,\"ticks\":\"\"}}}],\"scattercarpet\":[{\"type\":\"scattercarpet\",\"marker\":{\"colorbar\":{\"outlinewidth\":0,\"ticks\":\"\"}}}],\"carpet\":[{\"aaxis\":{\"endlinecolor\":\"#2a3f5f\",\"gridcolor\":\"white\",\"linecolor\":\"white\",\"minorgridcolor\":\"white\",\"startlinecolor\":\"#2a3f5f\"},\"baxis\":{\"endlinecolor\":\"#2a3f5f\",\"gridcolor\":\"white\",\"linecolor\":\"white\",\"minorgridcolor\":\"white\",\"startlinecolor\":\"#2a3f5f\"},\"type\":\"carpet\"}],\"table\":[{\"cells\":{\"fill\":{\"color\":\"#EBF0F8\"},\"line\":{\"color\":\"white\"}},\"header\":{\"fill\":{\"color\":\"#C8D4E3\"},\"line\":{\"color\":\"white\"}},\"type\":\"table\"}],\"barpolar\":[{\"marker\":{\"line\":{\"color\":\"#E5ECF6\",\"width\":0.5},\"pattern\":{\"fillmode\":\"overlay\",\"size\":10,\"solidity\":0.2}},\"type\":\"barpolar\"}],\"pie\":[{\"automargin\":true,\"type\":\"pie\"}]},\"layout\":{\"autotypenumbers\":\"strict\",\"colorway\":[\"#636efa\",\"#EF553B\",\"#00cc96\",\"#ab63fa\",\"#FFA15A\",\"#19d3f3\",\"#FF6692\",\"#B6E880\",\"#FF97FF\",\"#FECB52\"],\"font\":{\"color\":\"#2a3f5f\"},\"hovermode\":\"closest\",\"hoverlabel\":{\"align\":\"left\"},\"paper_bgcolor\":\"white\",\"plot_bgcolor\":\"#E5ECF6\",\"polar\":{\"bgcolor\":\"#E5ECF6\",\"angularaxis\":{\"gridcolor\":\"white\",\"linecolor\":\"white\",\"ticks\":\"\"},\"radialaxis\":{\"gridcolor\":\"white\",\"linecolor\":\"white\",\"ticks\":\"\"}},\"ternary\":{\"bgcolor\":\"#E5ECF6\",\"aaxis\":{\"gridcolor\":\"white\",\"linecolor\":\"white\",\"ticks\":\"\"},\"baxis\":{\"gridcolor\":\"white\",\"linecolor\":\"white\",\"ticks\":\"\"},\"caxis\":{\"gridcolor\":\"white\",\"linecolor\":\"white\",\"ticks\":\"\"}},\"coloraxis\":{\"colorbar\":{\"outlinewidth\":0,\"ticks\":\"\"}},\"colorscale\":{\"sequential\":[[0.0,\"#0d0887\"],[0.1111111111111111,\"#46039f\"],[0.2222222222222222,\"#7201a8\"],[0.3333333333333333,\"#9c179e\"],[0.4444444444444444,\"#bd3786\"],[0.5555555555555556,\"#d8576b\"],[0.6666666666666666,\"#ed7953\"],[0.7777777777777778,\"#fb9f3a\"],[0.8888888888888888,\"#fdca26\"],[1.0,\"#f0f921\"]],\"sequentialminus\":[[0.0,\"#0d0887\"],[0.1111111111111111,\"#46039f\"],[0.2222222222222222,\"#7201a8\"],[0.3333333333333333,\"#9c179e\"],[0.4444444444444444,\"#bd3786\"],[0.5555555555555556,\"#d8576b\"],[0.6666666666666666,\"#ed7953\"],[0.7777777777777778,\"#fb9f3a\"],[0.8888888888888888,\"#fdca26\"],[1.0,\"#f0f921\"]],\"diverging\":[[0,\"#8e0152\"],[0.1,\"#c51b7d\"],[0.2,\"#de77ae\"],[0.3,\"#f1b6da\"],[0.4,\"#fde0ef\"],[0.5,\"#f7f7f7\"],[0.6,\"#e6f5d0\"],[0.7,\"#b8e186\"],[0.8,\"#7fbc41\"],[0.9,\"#4d9221\"],[1,\"#276419\"]]},\"xaxis\":{\"gridcolor\":\"white\",\"linecolor\":\"white\",\"ticks\":\"\",\"title\":{\"standoff\":15},\"zerolinecolor\":\"white\",\"automargin\":true,\"zerolinewidth\":2},\"yaxis\":{\"gridcolor\":\"white\",\"linecolor\":\"white\",\"ticks\":\"\",\"title\":{\"standoff\":15},\"zerolinecolor\":\"white\",\"automargin\":true,\"zerolinewidth\":2},\"scene\":{\"xaxis\":{\"backgroundcolor\":\"#E5ECF6\",\"gridcolor\":\"white\",\"linecolor\":\"white\",\"showbackground\":true,\"ticks\":\"\",\"zerolinecolor\":\"white\",\"gridwidth\":2},\"yaxis\":{\"backgroundcolor\":\"#E5ECF6\",\"gridcolor\":\"white\",\"linecolor\":\"white\",\"showbackground\":true,\"ticks\":\"\",\"zerolinecolor\":\"white\",\"gridwidth\":2},\"zaxis\":{\"backgroundcolor\":\"#E5ECF6\",\"gridcolor\":\"white\",\"linecolor\":\"white\",\"showbackground\":true,\"ticks\":\"\",\"zerolinecolor\":\"white\",\"gridwidth\":2}},\"shapedefaults\":{\"line\":{\"color\":\"#2a3f5f\"}},\"annotationdefaults\":{\"arrowcolor\":\"#2a3f5f\",\"arrowhead\":0,\"arrowwidth\":1},\"geo\":{\"bgcolor\":\"white\",\"landcolor\":\"#E5ECF6\",\"subunitcolor\":\"white\",\"showland\":true,\"showlakes\":true,\"lakecolor\":\"white\"},\"title\":{\"x\":0.05},\"mapbox\":{\"style\":\"light\"}}},\"barmode\":\"group\",\"title\":{\"text\":\"\\u0420\\u0430\\u0441\\u043f\\u0440\\u0435\\u0434\\u0435\\u043b\\u0435\\u043d\\u0438\\u0435 \\u0440\\u0435\\u0433\\u0438\\u0441\\u0442\\u0440\\u0430\\u0446\\u0438\\u0439 \\u043f\\u043e\\u043b\\u044c\\u0437\\u043e\\u0432\\u0430\\u0442\\u0435\\u043b\\u0435\\u0439 \\u043f\\u043e \\u0434\\u043d\\u044f\\u043c \\u043f\\u043e \\u0433\\u0440\\u0443\\u043f\\u043f\\u0430\\u043c \\u0432 \\u0434\\u043e\\u043b\\u044f\\u0445\"},\"width\":950,\"height\":700,\"xaxis\":{\"title\":{\"text\":\"\\u0414\\u0430\\u0442\\u0430\"}},\"yaxis\":{\"title\":{\"text\":\"\\u0414\\u043e\\u043b\\u044f \\u043e\\u0442 \\u0441\\u0432\\u043e\\u0435\\u0439 \\u0433\\u0440\\u0443\\u043f\\u043f\\u044b, %\"}}},                        {\"responsive\": true}                    ).then(function(){\n",
              "                            \n",
              "var gd = document.getElementById('e34fd90d-6d9a-4e3a-bdc6-dcd8eec374f2');\n",
              "var x = new MutationObserver(function (mutations, observer) {{\n",
              "        var display = window.getComputedStyle(gd).display;\n",
              "        if (!display || display === 'none') {{\n",
              "            console.log([gd, 'removed!']);\n",
              "            Plotly.purge(gd);\n",
              "            observer.disconnect();\n",
              "        }}\n",
              "}});\n",
              "\n",
              "// Listen for the removal of the full notebook cells\n",
              "var notebookContainer = gd.closest('#notebook-container');\n",
              "if (notebookContainer) {{\n",
              "    x.observe(notebookContainer, {childList: true});\n",
              "}}\n",
              "\n",
              "// Listen for the clearing of the current output cell\n",
              "var outputEl = gd.closest('.output');\n",
              "if (outputEl) {{\n",
              "    x.observe(outputEl, {childList: true});\n",
              "}}\n",
              "\n",
              "                        })                };                            </script>        </div>\n",
              "</body>\n",
              "</html>"
            ]
          },
          "metadata": {}
        }
      ],
      "source": [
        "fig = go.Figure(data=[\n",
        "    go.Bar(name='Группа A', x=temp_table['first_date'], y=temp_table['ratio_a']),\n",
        "    go.Bar(name='Группа B', x=temp_table['first_date'], y=temp_table['ratio_b'])\n",
        "])\n",
        "fig.update_layout(barmode='group',\n",
        "                  title='Распределение регистраций пользователей по дням по группам в долях',\n",
        "                  width=950,\n",
        "                  height=700,\n",
        "                  xaxis_title='Дата',\n",
        "                  yaxis_title='Доля от своей группы, %')\n",
        "fig.show()"
      ]
    },
    {
      "cell_type": "markdown",
      "metadata": {
        "id": "WbVB9x7_83qD"
      },
      "source": [
        "##### Вывод\n",
        "По распределению по долям видно, что в первые дни теста пришла весомая доля пользователей их группы `B`, а пользователи группы `А` зарегистрировались уже во второй половине теста"
      ]
    },
    {
      "cell_type": "markdown",
      "metadata": {
        "id": "7X8dKWmU83qE"
      },
      "source": [
        "### Общий вывод по блоку\n",
        "\n",
        "Проведя исследовательский анализ данных, изучив распределения событий, динамику событий, динамику регистрации пользователей можно сделать вывод, что:\n",
        "* данные распределены не равномерно\n",
        "* набор пользователей проводился в разные дни\n",
        "* среднеарифметические и медианные показатели количества событий на пользователя у группы `A` в полтора раза больше, чем у группы `B`\n",
        "\n"
      ]
    },
    {
      "cell_type": "markdown",
      "metadata": {
        "id": "5BHKBljJ83qE"
      },
      "source": [
        "## Шаг 5. Проведите оценку результатов A/B-тестирования:\n",
        "Проверьте статистическую разницу долей z-критерием. Что можно сказать про результаты A/B-тестирования? Был ли достигнут ожидаемый эффект в изменении конверсии?\n",
        "\n",
        "Проверим статистическую разницу долей z-критерием на каждом этапе воронки, кропе `sign_up`\n",
        "Нулевая гипотеза (H0): конверсия в следующий этап воронки у группа `А` и у группы `B` - одинаковые\n",
        "\n",
        "Альтернативная гипотеза (H1): конверсия в следующий этап воронки у группа `А` и у группы `B` - разные"
      ]
    },
    {
      "cell_type": "code",
      "execution_count": 68,
      "metadata": {
        "id": "wPjGQhnD83qE"
      },
      "outputs": [],
      "source": [
        "def z_test(successesA, successesB, trialsA, trialsB, alpha=0.05):\n",
        "    p1 = successesA / trialsA\n",
        "    p2 = successesB / trialsB\n",
        "\n",
        "    p_combined = (successesA + successesB) / (trialsA + trialsB)\n",
        "    difference = p1 - p2\n",
        "\n",
        "    z_value = difference / mth.sqrt(p_combined * (1 - p_combined) * (1/trialsA + 1/trialsB))\n",
        "    distr = st.norm(0, 1)\n",
        "    p_value = (1 - distr.cdf(abs(z_value))) * 2\n",
        "    print('p-значение: ', p_value)\n",
        "\n",
        "    if (p_value < alpha):\n",
        "        display('Отвергаем нулевую гипотезу, между выборками есть статистически значимые различия')\n",
        "    else:\n",
        "        display('Не получилось отвергнуть нулевую гипотезу, статистически значимых различий в выборках нет')"
      ]
    },
    {
      "cell_type": "code",
      "execution_count": 69,
      "metadata": {
        "id": "FGumHNxO83qE",
        "outputId": "73510827-1e6b-4c3f-d230-e786884ddb79",
        "colab": {
          "base_uri": "https://localhost:8080/",
          "height": 87
        }
      },
      "outputs": [
        {
          "output_type": "stream",
          "name": "stdout",
          "text": [
            "p-значение:  0.08551328290029048\n"
          ]
        },
        {
          "output_type": "display_data",
          "data": {
            "text/plain": [
              "'Не получилось отвергнуть нулевую гипотезу, статистически значимых различий в выборках нет'"
            ],
            "application/vnd.google.colaboratory.intrinsic+json": {
              "type": "string"
            }
          },
          "metadata": {}
        },
        {
          "output_type": "stream",
          "name": "stdout",
          "text": [
            "Конверсия в этап login воронки группы пользователей А: 100.00%\n",
            "Конверсия в этап login воронки группы пользователей B: 99.87%\n"
          ]
        }
      ],
      "source": [
        "#login\n",
        "\n",
        "z_test(successesA=df[(df['group']=='A') & (df['event_name']=='login')]['user_id'].unique().shape[0],\n",
        "       successesB=df[(df['group']=='B') & (df['event_name']=='login')]['user_id'].unique().shape[0],\n",
        "       trialsA=df[df['group']=='A']['user_id'].unique().shape[0],\n",
        "       trialsB=df[df['group']=='B']['user_id'].unique().shape[0],\n",
        "       alpha=0.05)\n",
        "\n",
        "print('Конверсия в этап login воронки группы пользователей А: {:.2f}%'.format(\n",
        "    df[(df['group']=='A') & (df['event_name']=='login')]['user_id'].unique().shape[0] /\n",
        "    df[df['group']=='A']['user_id'].unique().shape[0]*100))\n",
        "\n",
        "print('Конверсия в этап login воронки группы пользователей B: {:.2f}%'.format(\n",
        "    df[(df['group']=='B') & (df['event_name']=='login')]['user_id'].unique().shape[0] /\n",
        "    df[df['group']=='B']['user_id'].unique().shape[0]*100))"
      ]
    },
    {
      "cell_type": "code",
      "execution_count": 70,
      "metadata": {
        "id": "rTXcM3La83qE",
        "outputId": "b68adcf2-f835-413c-8ab1-6a9591ae9e71",
        "colab": {
          "base_uri": "https://localhost:8080/",
          "height": 87
        }
      },
      "outputs": [
        {
          "output_type": "stream",
          "name": "stdout",
          "text": [
            "p-значение:  6.120730626113513e-06\n"
          ]
        },
        {
          "output_type": "display_data",
          "data": {
            "text/plain": [
              "'Отвергаем нулевую гипотезу, между выборками есть статистически значимые различия'"
            ],
            "application/vnd.google.colaboratory.intrinsic+json": {
              "type": "string"
            }
          },
          "metadata": {}
        },
        {
          "output_type": "stream",
          "name": "stdout",
          "text": [
            "Конверсия в этап product_page воронки группы пользователей А: 64.77%\n",
            "Конверсия в этап product_page воронки группы пользователей B: 55.64%\n"
          ]
        }
      ],
      "source": [
        "#product_page\n",
        "\n",
        "z_test(successesA=df[(df['group']=='A') & (df['event_name']=='product_page')]['user_id'].unique().shape[0],\n",
        "       successesB=df[(df['group']=='B') & (df['event_name']=='product_page')]['user_id'].unique().shape[0],\n",
        "       trialsA=df[df['group']=='A']['user_id'].unique().shape[0],\n",
        "       trialsB=df[df['group']=='B']['user_id'].unique().shape[0],\n",
        "       alpha=0.05)\n",
        "\n",
        "print('Конверсия в этап product_page воронки группы пользователей А: {:.2f}%'.format(\n",
        "    df[(df['group']=='A') & (df['event_name']=='product_page')]['user_id'].unique().shape[0] /\n",
        "    df[df['group']=='A']['user_id'].unique().shape[0]*100))\n",
        "\n",
        "print('Конверсия в этап product_page воронки группы пользователей B: {:.2f}%'.format(\n",
        "    df[(df['group']=='B') & (df['event_name']=='product_page')]['user_id'].unique().shape[0] /\n",
        "    df[df['group']=='B']['user_id'].unique().shape[0]*100))"
      ]
    },
    {
      "cell_type": "code",
      "execution_count": 71,
      "metadata": {
        "id": "khu27RXS83qE",
        "outputId": "5d53d072-d9bd-4d53-d220-23103dcfdb4a",
        "colab": {
          "base_uri": "https://localhost:8080/",
          "height": 87
        }
      },
      "outputs": [
        {
          "output_type": "stream",
          "name": "stdout",
          "text": [
            "p-значение:  0.21721122664962245\n"
          ]
        },
        {
          "output_type": "display_data",
          "data": {
            "text/plain": [
              "'Не получилось отвергнуть нулевую гипотезу, статистически значимых различий в выборках нет'"
            ],
            "application/vnd.google.colaboratory.intrinsic+json": {
              "type": "string"
            }
          },
          "metadata": {}
        },
        {
          "output_type": "stream",
          "name": "stdout",
          "text": [
            "Конверсия в этап product_cart воронки группы пользователей А: 30.10%\n",
            "Конверсия в этап product_cart воронки группы пользователей B: 27.76%\n"
          ]
        }
      ],
      "source": [
        "#product_cart\n",
        "z_test(successesA=df[(df['group']=='A') & (df['event_name']=='product_cart')]['user_id'].unique().shape[0],\n",
        "       successesB=df[(df['group']=='B') & (df['event_name']=='product_cart')]['user_id'].unique().shape[0],\n",
        "       trialsA=df[df['group']=='A']['user_id'].unique().shape[0],\n",
        "       trialsB=df[df['group']=='B']['user_id'].unique().shape[0],\n",
        "       alpha=0.05)\n",
        "\n",
        "print('Конверсия в этап product_cart воронки группы пользователей А: {:.2f}%'.format(\n",
        "    df[(df['group']=='A') & (df['event_name']=='product_cart')]['user_id'].unique().shape[0] /\n",
        "    df[df['group']=='A']['user_id'].unique().shape[0]*100))\n",
        "\n",
        "print('Конверсия в этап product_cart воронки группы пользователей B: {:.2f}%'.format(\n",
        "    df[(df['group']=='B') & (df['event_name']=='product_cart')]['user_id'].unique().shape[0] /\n",
        "    df[df['group']=='B']['user_id'].unique().shape[0]*100))"
      ]
    },
    {
      "cell_type": "code",
      "execution_count": 72,
      "metadata": {
        "id": "z2aHsGaC83qE",
        "outputId": "23076509-9ef1-457b-9588-36dfc2a08511",
        "colab": {
          "base_uri": "https://localhost:8080/",
          "height": 87
        }
      },
      "outputs": [
        {
          "output_type": "stream",
          "name": "stdout",
          "text": [
            "p-значение:  0.048942596376941205\n"
          ]
        },
        {
          "output_type": "display_data",
          "data": {
            "text/plain": [
              "'Отвергаем нулевую гипотезу, между выборками есть статистически значимые различия'"
            ],
            "application/vnd.google.colaboratory.intrinsic+json": {
              "type": "string"
            }
          },
          "metadata": {}
        },
        {
          "output_type": "stream",
          "name": "stdout",
          "text": [
            "Конверсия в этап purchase воронки группы пользователей А: 32.21%\n",
            "Конверсия в этап purchase воронки группы пользователей B: 28.40%\n"
          ]
        }
      ],
      "source": [
        "#purchase\n",
        "z_test(successesA=df[(df['group']=='A') & (df['event_name']=='purchase')]['user_id'].unique().shape[0],\n",
        "       successesB=df[(df['group']=='B') & (df['event_name']=='purchase')]['user_id'].unique().shape[0],\n",
        "       trialsA=df[df['group']=='A']['user_id'].unique().shape[0],\n",
        "       trialsB=df[df['group']=='B']['user_id'].unique().shape[0],\n",
        "       alpha=0.05)\n",
        "\n",
        "print('Конверсия в этап purchase воронки группы пользователей А: {:.2f}%'.format(\n",
        "    df[(df['group']=='A') & (df['event_name']=='purchase')]['user_id'].unique().shape[0] /\n",
        "    df[df['group']=='A']['user_id'].unique().shape[0]*100))\n",
        "\n",
        "print('Конверсия в этап purchase воронки группы пользователей B: {:.2f}%'.format(\n",
        "    df[(df['group']=='B') & (df['event_name']=='purchase')]['user_id'].unique().shape[0] /\n",
        "    df[df['group']=='B']['user_id'].unique().shape[0]*100))"
      ]
    },
    {
      "cell_type": "markdown",
      "metadata": {
        "id": "mBR3PNZO83qF"
      },
      "source": [
        "## Вывод\n",
        "По итогу, проведя проверку на соответствие данных техническому заданию, исследовательский анализ данных и оценку результатов АБ тестирования можно сделать выводы, что тест был проведен с нарушениями:\n",
        "\n",
        "* даты набора участников для теста в разные группы распределен неравномерно\n",
        "\n",
        "* группы разные по количеству участников\n",
        "* в датафрейме участников были перемешаны новые и старые пользователи\n",
        "* в даты проведения теста проходило маркетинговое событие, которое могло повлиять на результаты\n",
        "* большая доля пользователей не совершило ни одного действия, наблюдается сдвиг в одну из групп\n",
        "* данные для оценки результатов не соответствуют периоду, в который проходил тест\n",
        "* по факту очистки данных у нас осталось `2279` уникальных пользователя контрольной группы и `771` уникальных пользователя экспериментальной группы\n",
        "* стоит отметить, что ожидаемое количество участников теста: `15% `новых пользователей из региона `EU` - сбылось\n",
        "* при этом, ожидаемый эффект: за 14 дней с момента регистрации в системе пользователи покажут улучшение каждой метрики не менее, чем на 5 процентных пунктов не сбылся, конверсия экспериментальной группы хуже контрольной на всех этапах воронки, но учитывая все нарушения при проведении теста и неполноты данных при оценке результатов АБ тестирования - сделать 100% выводы о том, что `recommender_system_test` увеличивает или уменьшает конверсию `нельзя`\n",
        "* нет разницы в выборках только на этапе `product_cart`, отсутствие  различий на этапе `login` возможно, обусловлено тем, что удалялись пользователи без действий\n",
        "\n",
        "Все эти выводы наводят на мысль, что для того, чтобы вынести какой-то вердикт `recommender_system_test` нужно провести тест заново, избегая все допущенные ошибки раннее.\n"
      ]
    }
  ],
  "metadata": {
    "ExecuteTimeLog": [
      {
        "duration": 1461,
        "start_time": "2023-10-12T06:16:48.736Z"
      },
      {
        "duration": 1422,
        "start_time": "2023-10-12T06:16:50.199Z"
      },
      {
        "duration": 5,
        "start_time": "2023-10-12T06:16:51.622Z"
      },
      {
        "duration": 59,
        "start_time": "2023-10-12T06:16:51.630Z"
      },
      {
        "duration": 120,
        "start_time": "2023-10-12T06:16:51.691Z"
      },
      {
        "duration": 62,
        "start_time": "2023-10-12T06:16:51.813Z"
      },
      {
        "duration": 85,
        "start_time": "2023-10-12T06:16:51.877Z"
      },
      {
        "duration": 136,
        "start_time": "2023-10-12T06:16:51.963Z"
      },
      {
        "duration": 16,
        "start_time": "2023-10-12T06:16:52.101Z"
      },
      {
        "duration": 93,
        "start_time": "2023-10-12T06:16:52.120Z"
      },
      {
        "duration": 5,
        "start_time": "2023-10-12T06:16:52.215Z"
      },
      {
        "duration": 43,
        "start_time": "2023-10-12T06:16:52.221Z"
      },
      {
        "duration": 17,
        "start_time": "2023-10-12T06:16:52.268Z"
      },
      {
        "duration": 121,
        "start_time": "2023-10-12T06:16:52.287Z"
      },
      {
        "duration": 87,
        "start_time": "2023-10-12T06:16:52.410Z"
      },
      {
        "duration": 43,
        "start_time": "2023-10-12T06:16:52.499Z"
      },
      {
        "duration": 26,
        "start_time": "2023-10-12T06:16:52.543Z"
      },
      {
        "duration": 45,
        "start_time": "2023-10-12T06:16:52.571Z"
      },
      {
        "duration": 20,
        "start_time": "2023-10-12T06:16:52.617Z"
      },
      {
        "duration": 60,
        "start_time": "2023-10-12T06:16:52.639Z"
      },
      {
        "duration": 23,
        "start_time": "2023-10-12T06:16:52.701Z"
      },
      {
        "duration": 51,
        "start_time": "2023-10-12T06:16:52.726Z"
      },
      {
        "duration": 15,
        "start_time": "2023-10-12T06:16:52.778Z"
      },
      {
        "duration": 20,
        "start_time": "2023-10-12T06:16:52.794Z"
      },
      {
        "duration": 44,
        "start_time": "2023-10-12T06:16:52.815Z"
      },
      {
        "duration": 14,
        "start_time": "2023-10-12T06:16:52.861Z"
      },
      {
        "duration": 47,
        "start_time": "2023-10-12T06:16:52.876Z"
      },
      {
        "duration": 14,
        "start_time": "2023-10-12T06:16:52.927Z"
      },
      {
        "duration": 34,
        "start_time": "2023-10-12T06:16:52.942Z"
      },
      {
        "duration": 20,
        "start_time": "2023-10-12T06:16:52.977Z"
      },
      {
        "duration": 52,
        "start_time": "2023-10-12T06:16:52.999Z"
      },
      {
        "duration": 43,
        "start_time": "2023-10-12T06:16:53.052Z"
      },
      {
        "duration": 46,
        "start_time": "2023-10-12T06:16:53.097Z"
      },
      {
        "duration": 149,
        "start_time": "2023-10-12T06:16:53.145Z"
      },
      {
        "duration": 12,
        "start_time": "2023-10-12T06:16:53.296Z"
      },
      {
        "duration": 78,
        "start_time": "2023-10-12T06:16:53.309Z"
      },
      {
        "duration": 540,
        "start_time": "2023-10-12T06:16:53.388Z"
      },
      {
        "duration": 27,
        "start_time": "2023-10-12T06:16:53.930Z"
      },
      {
        "duration": 331,
        "start_time": "2023-10-12T06:16:53.958Z"
      },
      {
        "duration": 25,
        "start_time": "2023-10-12T06:16:54.291Z"
      },
      {
        "duration": 31,
        "start_time": "2023-10-12T06:16:54.318Z"
      },
      {
        "duration": 10,
        "start_time": "2023-10-12T06:16:54.353Z"
      },
      {
        "duration": 41,
        "start_time": "2023-10-12T06:16:54.370Z"
      },
      {
        "duration": 3,
        "start_time": "2023-10-12T06:16:54.413Z"
      },
      {
        "duration": 15,
        "start_time": "2023-10-12T06:16:54.418Z"
      },
      {
        "duration": 27,
        "start_time": "2023-10-12T06:16:54.434Z"
      },
      {
        "duration": 130,
        "start_time": "2023-10-12T06:16:54.463Z"
      },
      {
        "duration": 206,
        "start_time": "2023-10-12T06:16:54.595Z"
      },
      {
        "duration": 6,
        "start_time": "2023-10-12T06:16:54.802Z"
      },
      {
        "duration": 90,
        "start_time": "2023-10-12T06:16:54.810Z"
      },
      {
        "duration": 67,
        "start_time": "2023-10-12T06:16:54.902Z"
      },
      {
        "duration": 41,
        "start_time": "2023-10-12T06:16:54.971Z"
      },
      {
        "duration": 22,
        "start_time": "2023-10-12T06:16:55.013Z"
      },
      {
        "duration": 85,
        "start_time": "2023-10-12T06:16:55.037Z"
      },
      {
        "duration": 57,
        "start_time": "2023-10-12T06:16:55.123Z"
      },
      {
        "duration": 102,
        "start_time": "2023-10-12T06:16:55.182Z"
      },
      {
        "duration": 26,
        "start_time": "2023-10-12T06:16:55.287Z"
      },
      {
        "duration": 57,
        "start_time": "2023-10-12T06:16:55.315Z"
      },
      {
        "duration": 42,
        "start_time": "2023-10-12T06:16:55.374Z"
      },
      {
        "duration": 49,
        "start_time": "2023-10-12T06:16:55.419Z"
      },
      {
        "duration": 25,
        "start_time": "2023-10-12T06:16:55.470Z"
      },
      {
        "duration": 66,
        "start_time": "2023-10-12T06:16:55.497Z"
      },
      {
        "duration": 74,
        "start_time": "2023-10-12T06:16:55.565Z"
      },
      {
        "duration": 40,
        "start_time": "2023-10-12T06:16:55.641Z"
      },
      {
        "duration": 18,
        "start_time": "2023-10-12T06:16:55.683Z"
      },
      {
        "duration": 26,
        "start_time": "2023-10-12T06:16:55.702Z"
      },
      {
        "duration": 46,
        "start_time": "2023-10-12T06:16:55.729Z"
      },
      {
        "duration": 40,
        "start_time": "2023-10-12T06:16:55.777Z"
      },
      {
        "duration": 75,
        "start_time": "2023-10-12T06:16:55.818Z"
      },
      {
        "duration": 66,
        "start_time": "2023-10-12T06:16:55.894Z"
      },
      {
        "duration": 42,
        "start_time": "2023-10-12T06:16:55.962Z"
      },
      {
        "duration": 55,
        "start_time": "2023-10-12T06:16:56.006Z"
      },
      {
        "duration": 49,
        "start_time": "2023-10-12T06:54:06.050Z"
      },
      {
        "duration": 1527,
        "start_time": "2023-10-12T06:54:13.018Z"
      },
      {
        "duration": 1303,
        "start_time": "2023-10-12T06:54:14.547Z"
      },
      {
        "duration": 5,
        "start_time": "2023-10-12T06:54:15.852Z"
      },
      {
        "duration": 100,
        "start_time": "2023-10-12T06:54:15.859Z"
      },
      {
        "duration": 167,
        "start_time": "2023-10-12T06:54:15.961Z"
      },
      {
        "duration": 576,
        "start_time": "2023-10-12T06:54:16.130Z"
      },
      {
        "duration": 42,
        "start_time": "2023-10-12T06:54:16.708Z"
      },
      {
        "duration": 154,
        "start_time": "2023-10-12T06:54:16.752Z"
      },
      {
        "duration": 16,
        "start_time": "2023-10-12T06:54:16.908Z"
      },
      {
        "duration": 76,
        "start_time": "2023-10-12T06:54:16.927Z"
      },
      {
        "duration": 4,
        "start_time": "2023-10-12T06:54:17.005Z"
      },
      {
        "duration": 41,
        "start_time": "2023-10-12T06:54:17.011Z"
      },
      {
        "duration": 49,
        "start_time": "2023-10-12T06:54:17.054Z"
      },
      {
        "duration": 35,
        "start_time": "2023-10-12T06:54:17.106Z"
      },
      {
        "duration": 41,
        "start_time": "2023-10-12T06:54:17.144Z"
      },
      {
        "duration": 44,
        "start_time": "2023-10-12T06:54:17.187Z"
      },
      {
        "duration": 34,
        "start_time": "2023-10-12T06:54:17.233Z"
      },
      {
        "duration": 20,
        "start_time": "2023-10-12T06:54:17.269Z"
      },
      {
        "duration": 45,
        "start_time": "2023-10-12T06:54:17.290Z"
      },
      {
        "duration": 66,
        "start_time": "2023-10-12T06:54:17.337Z"
      },
      {
        "duration": 49,
        "start_time": "2023-10-12T06:54:17.405Z"
      },
      {
        "duration": 64,
        "start_time": "2023-10-12T06:54:17.456Z"
      },
      {
        "duration": 19,
        "start_time": "2023-10-12T06:54:17.522Z"
      },
      {
        "duration": 27,
        "start_time": "2023-10-12T06:54:17.543Z"
      },
      {
        "duration": 47,
        "start_time": "2023-10-12T06:54:17.571Z"
      },
      {
        "duration": 19,
        "start_time": "2023-10-12T06:54:17.620Z"
      },
      {
        "duration": 53,
        "start_time": "2023-10-12T06:54:17.641Z"
      },
      {
        "duration": 23,
        "start_time": "2023-10-12T06:54:17.699Z"
      },
      {
        "duration": 38,
        "start_time": "2023-10-12T06:54:17.724Z"
      },
      {
        "duration": 18,
        "start_time": "2023-10-12T06:54:17.764Z"
      },
      {
        "duration": 43,
        "start_time": "2023-10-12T06:54:17.784Z"
      },
      {
        "duration": 151,
        "start_time": "2023-10-12T06:54:17.829Z"
      },
      {
        "duration": 35,
        "start_time": "2023-10-12T06:54:17.982Z"
      },
      {
        "duration": 161,
        "start_time": "2023-10-12T06:54:18.020Z"
      },
      {
        "duration": 20,
        "start_time": "2023-10-12T06:54:18.183Z"
      },
      {
        "duration": 44,
        "start_time": "2023-10-12T06:54:18.204Z"
      },
      {
        "duration": 159,
        "start_time": "2023-10-12T06:54:18.250Z"
      },
      {
        "duration": 15,
        "start_time": "2023-10-12T06:54:18.411Z"
      },
      {
        "duration": 419,
        "start_time": "2023-10-12T06:54:18.428Z"
      },
      {
        "duration": 30,
        "start_time": "2023-10-12T06:54:18.848Z"
      },
      {
        "duration": 28,
        "start_time": "2023-10-12T06:54:18.880Z"
      },
      {
        "duration": 32,
        "start_time": "2023-10-12T06:54:18.909Z"
      },
      {
        "duration": 33,
        "start_time": "2023-10-12T06:54:18.943Z"
      },
      {
        "duration": 33,
        "start_time": "2023-10-12T06:54:18.978Z"
      },
      {
        "duration": 41,
        "start_time": "2023-10-12T06:54:19.013Z"
      },
      {
        "duration": 27,
        "start_time": "2023-10-12T06:54:19.057Z"
      },
      {
        "duration": 84,
        "start_time": "2023-10-12T06:54:19.086Z"
      },
      {
        "duration": 167,
        "start_time": "2023-10-12T06:54:19.171Z"
      },
      {
        "duration": 5,
        "start_time": "2023-10-12T06:54:19.340Z"
      },
      {
        "duration": 31,
        "start_time": "2023-10-12T06:54:19.347Z"
      },
      {
        "duration": 39,
        "start_time": "2023-10-12T06:54:19.380Z"
      },
      {
        "duration": 25,
        "start_time": "2023-10-12T06:54:19.421Z"
      },
      {
        "duration": 6,
        "start_time": "2023-10-12T06:54:19.449Z"
      },
      {
        "duration": 20,
        "start_time": "2023-10-12T06:54:19.457Z"
      },
      {
        "duration": 39,
        "start_time": "2023-10-12T06:54:19.479Z"
      },
      {
        "duration": 36,
        "start_time": "2023-10-12T06:54:19.519Z"
      },
      {
        "duration": 24,
        "start_time": "2023-10-12T06:54:19.557Z"
      },
      {
        "duration": 31,
        "start_time": "2023-10-12T06:54:19.582Z"
      },
      {
        "duration": 26,
        "start_time": "2023-10-12T06:54:19.615Z"
      },
      {
        "duration": 26,
        "start_time": "2023-10-12T06:54:19.643Z"
      },
      {
        "duration": 31,
        "start_time": "2023-10-12T06:54:19.671Z"
      },
      {
        "duration": 16,
        "start_time": "2023-10-12T06:54:19.704Z"
      },
      {
        "duration": 43,
        "start_time": "2023-10-12T06:54:19.722Z"
      },
      {
        "duration": 24,
        "start_time": "2023-10-12T06:54:19.767Z"
      },
      {
        "duration": 19,
        "start_time": "2023-10-12T06:54:19.793Z"
      },
      {
        "duration": 10,
        "start_time": "2023-10-12T06:54:19.814Z"
      },
      {
        "duration": 24,
        "start_time": "2023-10-12T06:54:19.826Z"
      },
      {
        "duration": 15,
        "start_time": "2023-10-12T06:54:19.851Z"
      },
      {
        "duration": 57,
        "start_time": "2023-10-12T06:54:19.868Z"
      },
      {
        "duration": 43,
        "start_time": "2023-10-12T06:54:19.927Z"
      },
      {
        "duration": 64,
        "start_time": "2023-10-12T06:54:19.972Z"
      },
      {
        "duration": 63,
        "start_time": "2023-10-12T06:54:20.038Z"
      },
      {
        "duration": 166,
        "start_time": "2023-10-12T07:03:08.997Z"
      },
      {
        "duration": 10,
        "start_time": "2023-10-12T07:03:10.914Z"
      },
      {
        "duration": 53,
        "start_time": "2023-10-12T07:03:11.282Z"
      },
      {
        "duration": 161,
        "start_time": "2023-10-12T07:05:07.937Z"
      },
      {
        "duration": 1497,
        "start_time": "2023-10-12T07:38:47.669Z"
      },
      {
        "duration": 1347,
        "start_time": "2023-10-12T07:38:49.169Z"
      },
      {
        "duration": 5,
        "start_time": "2023-10-12T07:38:50.518Z"
      },
      {
        "duration": 50,
        "start_time": "2023-10-12T07:38:50.525Z"
      },
      {
        "duration": 131,
        "start_time": "2023-10-12T07:38:50.577Z"
      },
      {
        "duration": 549,
        "start_time": "2023-10-12T07:38:50.710Z"
      },
      {
        "duration": 72,
        "start_time": "2023-10-12T07:38:51.261Z"
      },
      {
        "duration": 127,
        "start_time": "2023-10-12T07:38:51.335Z"
      },
      {
        "duration": 15,
        "start_time": "2023-10-12T07:38:51.464Z"
      },
      {
        "duration": 60,
        "start_time": "2023-10-12T07:38:51.501Z"
      },
      {
        "duration": 5,
        "start_time": "2023-10-12T07:38:51.562Z"
      },
      {
        "duration": 18,
        "start_time": "2023-10-12T07:38:51.569Z"
      },
      {
        "duration": 7,
        "start_time": "2023-10-12T07:38:51.601Z"
      },
      {
        "duration": 16,
        "start_time": "2023-10-12T07:38:51.610Z"
      },
      {
        "duration": 16,
        "start_time": "2023-10-12T07:38:51.628Z"
      },
      {
        "duration": 26,
        "start_time": "2023-10-12T07:38:51.646Z"
      },
      {
        "duration": 29,
        "start_time": "2023-10-12T07:38:51.675Z"
      },
      {
        "duration": 12,
        "start_time": "2023-10-12T07:38:51.707Z"
      },
      {
        "duration": 35,
        "start_time": "2023-10-12T07:38:51.721Z"
      },
      {
        "duration": 28,
        "start_time": "2023-10-12T07:38:51.758Z"
      },
      {
        "duration": 41,
        "start_time": "2023-10-12T07:38:51.787Z"
      },
      {
        "duration": 65,
        "start_time": "2023-10-12T07:38:51.829Z"
      },
      {
        "duration": 16,
        "start_time": "2023-10-12T07:38:51.896Z"
      },
      {
        "duration": 20,
        "start_time": "2023-10-12T07:38:51.914Z"
      },
      {
        "duration": 26,
        "start_time": "2023-10-12T07:38:51.935Z"
      },
      {
        "duration": 10,
        "start_time": "2023-10-12T07:38:51.962Z"
      },
      {
        "duration": 64,
        "start_time": "2023-10-12T07:38:51.973Z"
      },
      {
        "duration": 17,
        "start_time": "2023-10-12T07:38:52.043Z"
      },
      {
        "duration": 48,
        "start_time": "2023-10-12T07:38:52.062Z"
      },
      {
        "duration": 16,
        "start_time": "2023-10-12T07:38:52.112Z"
      },
      {
        "duration": 30,
        "start_time": "2023-10-12T07:38:52.130Z"
      },
      {
        "duration": 30,
        "start_time": "2023-10-12T07:38:52.163Z"
      },
      {
        "duration": 44,
        "start_time": "2023-10-12T07:38:52.195Z"
      },
      {
        "duration": 156,
        "start_time": "2023-10-12T07:38:52.241Z"
      },
      {
        "duration": 11,
        "start_time": "2023-10-12T07:38:52.399Z"
      },
      {
        "duration": 53,
        "start_time": "2023-10-12T07:38:52.412Z"
      },
      {
        "duration": 225,
        "start_time": "2023-10-12T07:38:52.467Z"
      },
      {
        "duration": 14,
        "start_time": "2023-10-12T07:38:52.694Z"
      },
      {
        "duration": 332,
        "start_time": "2023-10-12T07:38:52.710Z"
      },
      {
        "duration": 28,
        "start_time": "2023-10-12T07:38:53.043Z"
      },
      {
        "duration": 32,
        "start_time": "2023-10-12T07:38:53.073Z"
      },
      {
        "duration": 18,
        "start_time": "2023-10-12T07:38:53.106Z"
      },
      {
        "duration": 41,
        "start_time": "2023-10-12T07:38:53.126Z"
      },
      {
        "duration": 16,
        "start_time": "2023-10-12T07:38:53.168Z"
      },
      {
        "duration": 31,
        "start_time": "2023-10-12T07:38:53.186Z"
      },
      {
        "duration": 31,
        "start_time": "2023-10-12T07:38:53.219Z"
      },
      {
        "duration": 135,
        "start_time": "2023-10-12T07:38:53.252Z"
      },
      {
        "duration": 180,
        "start_time": "2023-10-12T07:38:53.389Z"
      },
      {
        "duration": 7,
        "start_time": "2023-10-12T07:38:53.571Z"
      },
      {
        "duration": 41,
        "start_time": "2023-10-12T07:38:53.580Z"
      },
      {
        "duration": 109,
        "start_time": "2023-10-12T07:38:53.623Z"
      },
      {
        "duration": 33,
        "start_time": "2023-10-12T07:38:53.735Z"
      },
      {
        "duration": 8,
        "start_time": "2023-10-12T07:38:53.770Z"
      },
      {
        "duration": 21,
        "start_time": "2023-10-12T07:38:53.780Z"
      },
      {
        "duration": 27,
        "start_time": "2023-10-12T07:38:53.802Z"
      },
      {
        "duration": 75,
        "start_time": "2023-10-12T07:38:53.831Z"
      },
      {
        "duration": 22,
        "start_time": "2023-10-12T07:38:53.909Z"
      },
      {
        "duration": 36,
        "start_time": "2023-10-12T07:38:53.934Z"
      },
      {
        "duration": 20,
        "start_time": "2023-10-12T07:38:53.972Z"
      },
      {
        "duration": 37,
        "start_time": "2023-10-12T07:38:53.994Z"
      },
      {
        "duration": 20,
        "start_time": "2023-10-12T07:38:54.034Z"
      },
      {
        "duration": 25,
        "start_time": "2023-10-12T07:38:54.056Z"
      },
      {
        "duration": 41,
        "start_time": "2023-10-12T07:38:54.083Z"
      },
      {
        "duration": 34,
        "start_time": "2023-10-12T07:38:54.126Z"
      },
      {
        "duration": 33,
        "start_time": "2023-10-12T07:38:54.162Z"
      },
      {
        "duration": 70,
        "start_time": "2023-10-12T07:38:54.196Z"
      },
      {
        "duration": 44,
        "start_time": "2023-10-12T07:38:54.268Z"
      },
      {
        "duration": 80,
        "start_time": "2023-10-12T07:38:54.314Z"
      },
      {
        "duration": 81,
        "start_time": "2023-10-12T07:38:54.396Z"
      },
      {
        "duration": 47,
        "start_time": "2023-10-12T07:38:54.479Z"
      },
      {
        "duration": 76,
        "start_time": "2023-10-12T07:38:54.529Z"
      },
      {
        "duration": 52,
        "start_time": "2023-10-12T07:38:54.608Z"
      },
      {
        "duration": 1528,
        "start_time": "2023-10-12T07:41:00.957Z"
      },
      {
        "duration": 1174,
        "start_time": "2023-10-12T07:41:02.487Z"
      },
      {
        "duration": 6,
        "start_time": "2023-10-12T07:41:03.662Z"
      },
      {
        "duration": 76,
        "start_time": "2023-10-12T07:41:03.671Z"
      },
      {
        "duration": 118,
        "start_time": "2023-10-12T07:41:03.749Z"
      },
      {
        "duration": 598,
        "start_time": "2023-10-12T07:41:03.868Z"
      },
      {
        "duration": 56,
        "start_time": "2023-10-12T07:41:04.468Z"
      },
      {
        "duration": 157,
        "start_time": "2023-10-12T07:41:04.526Z"
      },
      {
        "duration": 133,
        "start_time": "2023-10-12T07:41:04.686Z"
      },
      {
        "duration": 67,
        "start_time": "2023-10-12T07:41:04.823Z"
      },
      {
        "duration": 5,
        "start_time": "2023-10-12T07:41:04.892Z"
      },
      {
        "duration": 21,
        "start_time": "2023-10-12T07:41:04.902Z"
      },
      {
        "duration": 151,
        "start_time": "2023-10-12T07:41:04.925Z"
      },
      {
        "duration": 105,
        "start_time": "2023-10-12T07:41:05.077Z"
      },
      {
        "duration": 59,
        "start_time": "2023-10-12T07:41:05.184Z"
      },
      {
        "duration": 50,
        "start_time": "2023-10-12T07:41:05.245Z"
      },
      {
        "duration": 42,
        "start_time": "2023-10-12T07:41:05.297Z"
      },
      {
        "duration": 37,
        "start_time": "2023-10-12T07:41:05.341Z"
      },
      {
        "duration": 85,
        "start_time": "2023-10-12T07:41:05.380Z"
      },
      {
        "duration": 103,
        "start_time": "2023-10-12T07:41:05.467Z"
      },
      {
        "duration": 132,
        "start_time": "2023-10-12T07:41:05.572Z"
      },
      {
        "duration": 88,
        "start_time": "2023-10-12T07:41:05.706Z"
      },
      {
        "duration": 18,
        "start_time": "2023-10-12T07:41:05.796Z"
      },
      {
        "duration": 42,
        "start_time": "2023-10-12T07:41:05.817Z"
      },
      {
        "duration": 35,
        "start_time": "2023-10-12T07:41:05.862Z"
      },
      {
        "duration": 12,
        "start_time": "2023-10-12T07:41:05.900Z"
      },
      {
        "duration": 54,
        "start_time": "2023-10-12T07:41:05.914Z"
      },
      {
        "duration": 15,
        "start_time": "2023-10-12T07:41:05.973Z"
      },
      {
        "duration": 55,
        "start_time": "2023-10-12T07:41:05.989Z"
      },
      {
        "duration": 16,
        "start_time": "2023-10-12T07:41:06.046Z"
      },
      {
        "duration": 169,
        "start_time": "2023-10-12T07:41:06.064Z"
      },
      {
        "duration": 150,
        "start_time": "2023-10-12T07:41:06.235Z"
      },
      {
        "duration": 31,
        "start_time": "2023-10-12T07:41:06.387Z"
      },
      {
        "duration": 158,
        "start_time": "2023-10-12T07:41:06.420Z"
      },
      {
        "duration": 22,
        "start_time": "2023-10-12T07:41:06.580Z"
      },
      {
        "duration": 28,
        "start_time": "2023-10-12T07:41:06.604Z"
      },
      {
        "duration": 184,
        "start_time": "2023-10-12T07:41:06.634Z"
      },
      {
        "duration": 16,
        "start_time": "2023-10-12T07:41:06.820Z"
      },
      {
        "duration": 392,
        "start_time": "2023-10-12T07:41:06.838Z"
      },
      {
        "duration": 26,
        "start_time": "2023-10-12T07:41:07.232Z"
      },
      {
        "duration": 19,
        "start_time": "2023-10-12T07:41:07.259Z"
      },
      {
        "duration": 30,
        "start_time": "2023-10-12T07:41:07.279Z"
      },
      {
        "duration": 42,
        "start_time": "2023-10-12T07:41:07.311Z"
      },
      {
        "duration": 24,
        "start_time": "2023-10-12T07:41:07.355Z"
      },
      {
        "duration": 40,
        "start_time": "2023-10-12T07:41:07.381Z"
      },
      {
        "duration": 23,
        "start_time": "2023-10-12T07:41:07.422Z"
      },
      {
        "duration": 57,
        "start_time": "2023-10-12T07:41:07.447Z"
      },
      {
        "duration": 401,
        "start_time": "2023-10-12T07:41:07.506Z"
      },
      {
        "duration": 0,
        "start_time": "2023-10-12T07:41:07.909Z"
      },
      {
        "duration": 0,
        "start_time": "2023-10-12T07:41:07.910Z"
      },
      {
        "duration": 0,
        "start_time": "2023-10-12T07:41:07.911Z"
      },
      {
        "duration": 0,
        "start_time": "2023-10-12T07:41:07.912Z"
      },
      {
        "duration": 0,
        "start_time": "2023-10-12T07:41:07.913Z"
      },
      {
        "duration": 0,
        "start_time": "2023-10-12T07:41:07.914Z"
      },
      {
        "duration": 0,
        "start_time": "2023-10-12T07:41:07.916Z"
      },
      {
        "duration": 0,
        "start_time": "2023-10-12T07:41:07.917Z"
      },
      {
        "duration": 0,
        "start_time": "2023-10-12T07:41:07.918Z"
      },
      {
        "duration": 0,
        "start_time": "2023-10-12T07:41:07.919Z"
      },
      {
        "duration": 0,
        "start_time": "2023-10-12T07:41:07.920Z"
      },
      {
        "duration": 0,
        "start_time": "2023-10-12T07:41:07.921Z"
      },
      {
        "duration": 0,
        "start_time": "2023-10-12T07:41:07.922Z"
      },
      {
        "duration": 0,
        "start_time": "2023-10-12T07:41:07.923Z"
      },
      {
        "duration": 0,
        "start_time": "2023-10-12T07:41:07.924Z"
      },
      {
        "duration": 0,
        "start_time": "2023-10-12T07:41:07.926Z"
      },
      {
        "duration": 0,
        "start_time": "2023-10-12T07:41:07.928Z"
      },
      {
        "duration": 0,
        "start_time": "2023-10-12T07:41:07.929Z"
      },
      {
        "duration": 0,
        "start_time": "2023-10-12T07:41:07.930Z"
      },
      {
        "duration": 1,
        "start_time": "2023-10-12T07:41:07.931Z"
      },
      {
        "duration": 0,
        "start_time": "2023-10-12T07:41:07.933Z"
      },
      {
        "duration": 0,
        "start_time": "2023-10-12T07:41:07.933Z"
      },
      {
        "duration": 0,
        "start_time": "2023-10-12T07:41:07.934Z"
      },
      {
        "duration": 0,
        "start_time": "2023-10-12T07:41:07.936Z"
      },
      {
        "duration": 1354,
        "start_time": "2023-10-12T07:41:36.968Z"
      },
      {
        "duration": 2004,
        "start_time": "2023-10-12T07:41:38.325Z"
      },
      {
        "duration": 5,
        "start_time": "2023-10-12T07:41:40.331Z"
      },
      {
        "duration": 154,
        "start_time": "2023-10-12T07:41:40.338Z"
      },
      {
        "duration": 116,
        "start_time": "2023-10-12T07:41:40.494Z"
      },
      {
        "duration": 545,
        "start_time": "2023-10-12T07:41:40.612Z"
      },
      {
        "duration": 63,
        "start_time": "2023-10-12T07:41:41.159Z"
      },
      {
        "duration": 127,
        "start_time": "2023-10-12T07:41:41.224Z"
      },
      {
        "duration": 17,
        "start_time": "2023-10-12T07:41:41.352Z"
      },
      {
        "duration": 88,
        "start_time": "2023-10-12T07:41:41.372Z"
      },
      {
        "duration": 6,
        "start_time": "2023-10-12T07:41:41.462Z"
      },
      {
        "duration": 36,
        "start_time": "2023-10-12T07:41:41.471Z"
      },
      {
        "duration": 34,
        "start_time": "2023-10-12T07:41:41.509Z"
      },
      {
        "duration": 25,
        "start_time": "2023-10-12T07:41:41.545Z"
      },
      {
        "duration": 25,
        "start_time": "2023-10-12T07:41:41.572Z"
      },
      {
        "duration": 19,
        "start_time": "2023-10-12T07:41:41.599Z"
      },
      {
        "duration": 14,
        "start_time": "2023-10-12T07:41:41.620Z"
      },
      {
        "duration": 18,
        "start_time": "2023-10-12T07:41:41.635Z"
      },
      {
        "duration": 25,
        "start_time": "2023-10-12T07:41:41.654Z"
      },
      {
        "duration": 29,
        "start_time": "2023-10-12T07:41:41.681Z"
      },
      {
        "duration": 19,
        "start_time": "2023-10-12T07:41:41.712Z"
      },
      {
        "duration": 45,
        "start_time": "2023-10-12T07:41:41.732Z"
      },
      {
        "duration": 34,
        "start_time": "2023-10-12T07:41:41.780Z"
      },
      {
        "duration": 21,
        "start_time": "2023-10-12T07:41:41.815Z"
      },
      {
        "duration": 23,
        "start_time": "2023-10-12T07:41:41.838Z"
      },
      {
        "duration": 39,
        "start_time": "2023-10-12T07:41:41.863Z"
      },
      {
        "duration": 36,
        "start_time": "2023-10-12T07:41:41.904Z"
      },
      {
        "duration": 14,
        "start_time": "2023-10-12T07:41:41.945Z"
      },
      {
        "duration": 64,
        "start_time": "2023-10-12T07:41:41.961Z"
      },
      {
        "duration": 18,
        "start_time": "2023-10-12T07:41:42.028Z"
      },
      {
        "duration": 19,
        "start_time": "2023-10-12T07:41:42.048Z"
      },
      {
        "duration": 39,
        "start_time": "2023-10-12T07:41:42.069Z"
      },
      {
        "duration": 20,
        "start_time": "2023-10-12T07:41:42.110Z"
      },
      {
        "duration": 154,
        "start_time": "2023-10-12T07:41:42.132Z"
      },
      {
        "duration": 17,
        "start_time": "2023-10-12T07:41:42.288Z"
      },
      {
        "duration": 44,
        "start_time": "2023-10-12T07:41:42.307Z"
      },
      {
        "duration": 205,
        "start_time": "2023-10-12T07:41:42.353Z"
      },
      {
        "duration": 15,
        "start_time": "2023-10-12T07:41:42.560Z"
      },
      {
        "duration": 287,
        "start_time": "2023-10-12T07:41:42.577Z"
      },
      {
        "duration": 0,
        "start_time": "2023-10-12T07:41:42.867Z"
      },
      {
        "duration": 0,
        "start_time": "2023-10-12T07:41:42.868Z"
      },
      {
        "duration": 0,
        "start_time": "2023-10-12T07:41:42.869Z"
      },
      {
        "duration": 0,
        "start_time": "2023-10-12T07:41:42.871Z"
      },
      {
        "duration": 0,
        "start_time": "2023-10-12T07:41:42.872Z"
      },
      {
        "duration": 0,
        "start_time": "2023-10-12T07:41:42.874Z"
      },
      {
        "duration": 0,
        "start_time": "2023-10-12T07:41:42.875Z"
      },
      {
        "duration": 0,
        "start_time": "2023-10-12T07:41:42.876Z"
      },
      {
        "duration": 0,
        "start_time": "2023-10-12T07:41:42.878Z"
      },
      {
        "duration": 0,
        "start_time": "2023-10-12T07:41:42.879Z"
      },
      {
        "duration": 0,
        "start_time": "2023-10-12T07:41:42.880Z"
      },
      {
        "duration": 0,
        "start_time": "2023-10-12T07:41:42.881Z"
      },
      {
        "duration": 0,
        "start_time": "2023-10-12T07:41:42.901Z"
      },
      {
        "duration": 0,
        "start_time": "2023-10-12T07:41:42.903Z"
      },
      {
        "duration": 0,
        "start_time": "2023-10-12T07:41:42.904Z"
      },
      {
        "duration": 0,
        "start_time": "2023-10-12T07:41:42.905Z"
      },
      {
        "duration": 0,
        "start_time": "2023-10-12T07:41:42.906Z"
      },
      {
        "duration": 0,
        "start_time": "2023-10-12T07:41:42.907Z"
      },
      {
        "duration": 0,
        "start_time": "2023-10-12T07:41:42.908Z"
      },
      {
        "duration": 0,
        "start_time": "2023-10-12T07:41:42.909Z"
      },
      {
        "duration": 0,
        "start_time": "2023-10-12T07:41:42.910Z"
      },
      {
        "duration": 0,
        "start_time": "2023-10-12T07:41:42.911Z"
      },
      {
        "duration": 0,
        "start_time": "2023-10-12T07:41:42.912Z"
      },
      {
        "duration": 0,
        "start_time": "2023-10-12T07:41:42.913Z"
      },
      {
        "duration": 0,
        "start_time": "2023-10-12T07:41:42.914Z"
      },
      {
        "duration": 0,
        "start_time": "2023-10-12T07:41:42.915Z"
      },
      {
        "duration": 0,
        "start_time": "2023-10-12T07:41:42.916Z"
      },
      {
        "duration": 0,
        "start_time": "2023-10-12T07:41:42.917Z"
      },
      {
        "duration": 0,
        "start_time": "2023-10-12T07:41:42.918Z"
      },
      {
        "duration": 0,
        "start_time": "2023-10-12T07:41:42.919Z"
      },
      {
        "duration": 0,
        "start_time": "2023-10-12T07:41:42.920Z"
      },
      {
        "duration": 0,
        "start_time": "2023-10-12T07:41:42.921Z"
      },
      {
        "duration": 0,
        "start_time": "2023-10-12T07:41:42.923Z"
      },
      {
        "duration": 1409,
        "start_time": "2023-10-12T07:42:06.433Z"
      },
      {
        "duration": 1097,
        "start_time": "2023-10-12T07:42:07.844Z"
      },
      {
        "duration": 7,
        "start_time": "2023-10-12T07:42:08.943Z"
      },
      {
        "duration": 635,
        "start_time": "2023-10-12T07:42:08.952Z"
      },
      {
        "duration": 130,
        "start_time": "2023-10-12T07:42:09.589Z"
      },
      {
        "duration": 591,
        "start_time": "2023-10-12T07:42:09.721Z"
      },
      {
        "duration": 43,
        "start_time": "2023-10-12T07:42:10.313Z"
      },
      {
        "duration": 179,
        "start_time": "2023-10-12T07:42:10.359Z"
      },
      {
        "duration": 22,
        "start_time": "2023-10-12T07:42:10.540Z"
      },
      {
        "duration": 79,
        "start_time": "2023-10-12T07:42:10.565Z"
      },
      {
        "duration": 6,
        "start_time": "2023-10-12T07:42:10.645Z"
      },
      {
        "duration": 30,
        "start_time": "2023-10-12T07:42:10.652Z"
      },
      {
        "duration": 19,
        "start_time": "2023-10-12T07:42:10.684Z"
      },
      {
        "duration": 18,
        "start_time": "2023-10-12T07:42:10.705Z"
      },
      {
        "duration": 20,
        "start_time": "2023-10-12T07:42:10.725Z"
      },
      {
        "duration": 62,
        "start_time": "2023-10-12T07:42:10.747Z"
      },
      {
        "duration": 20,
        "start_time": "2023-10-12T07:42:10.811Z"
      },
      {
        "duration": 25,
        "start_time": "2023-10-12T07:42:10.833Z"
      },
      {
        "duration": 52,
        "start_time": "2023-10-12T07:42:10.860Z"
      },
      {
        "duration": 56,
        "start_time": "2023-10-12T07:42:10.914Z"
      },
      {
        "duration": 44,
        "start_time": "2023-10-12T07:42:10.972Z"
      },
      {
        "duration": 79,
        "start_time": "2023-10-12T07:42:11.018Z"
      },
      {
        "duration": 17,
        "start_time": "2023-10-12T07:42:11.099Z"
      },
      {
        "duration": 29,
        "start_time": "2023-10-12T07:42:11.117Z"
      },
      {
        "duration": 45,
        "start_time": "2023-10-12T07:42:11.148Z"
      },
      {
        "duration": 16,
        "start_time": "2023-10-12T07:42:11.194Z"
      },
      {
        "duration": 51,
        "start_time": "2023-10-12T07:42:11.212Z"
      },
      {
        "duration": 18,
        "start_time": "2023-10-12T07:42:11.267Z"
      },
      {
        "duration": 32,
        "start_time": "2023-10-12T07:42:11.287Z"
      },
      {
        "duration": 20,
        "start_time": "2023-10-12T07:42:11.321Z"
      },
      {
        "duration": 36,
        "start_time": "2023-10-12T07:42:11.343Z"
      },
      {
        "duration": 40,
        "start_time": "2023-10-12T07:42:11.381Z"
      },
      {
        "duration": 55,
        "start_time": "2023-10-12T07:42:11.423Z"
      },
      {
        "duration": 165,
        "start_time": "2023-10-12T07:42:11.480Z"
      },
      {
        "duration": 11,
        "start_time": "2023-10-12T07:42:11.647Z"
      },
      {
        "duration": 57,
        "start_time": "2023-10-12T07:42:11.660Z"
      },
      {
        "duration": 157,
        "start_time": "2023-10-12T07:42:11.719Z"
      },
      {
        "duration": 25,
        "start_time": "2023-10-12T07:42:11.878Z"
      },
      {
        "duration": 374,
        "start_time": "2023-10-12T07:42:11.905Z"
      },
      {
        "duration": 156,
        "start_time": "2023-10-12T07:42:12.280Z"
      },
      {
        "duration": 1036,
        "start_time": "2023-10-12T07:42:12.438Z"
      },
      {
        "duration": 92,
        "start_time": "2023-10-12T07:42:13.477Z"
      },
      {
        "duration": 33,
        "start_time": "2023-10-12T07:42:13.571Z"
      },
      {
        "duration": 5,
        "start_time": "2023-10-12T07:42:13.606Z"
      },
      {
        "duration": 19,
        "start_time": "2023-10-12T07:42:13.613Z"
      },
      {
        "duration": 34,
        "start_time": "2023-10-12T07:42:13.633Z"
      },
      {
        "duration": 181,
        "start_time": "2023-10-12T07:42:13.669Z"
      },
      {
        "duration": 208,
        "start_time": "2023-10-12T07:42:13.852Z"
      },
      {
        "duration": 8,
        "start_time": "2023-10-12T07:42:14.062Z"
      },
      {
        "duration": 57,
        "start_time": "2023-10-12T07:42:14.072Z"
      },
      {
        "duration": 51,
        "start_time": "2023-10-12T07:42:14.131Z"
      },
      {
        "duration": 31,
        "start_time": "2023-10-12T07:42:14.183Z"
      },
      {
        "duration": 32,
        "start_time": "2023-10-12T07:42:14.216Z"
      },
      {
        "duration": 50,
        "start_time": "2023-10-12T07:42:14.250Z"
      },
      {
        "duration": 51,
        "start_time": "2023-10-12T07:42:14.303Z"
      },
      {
        "duration": 66,
        "start_time": "2023-10-12T07:42:14.356Z"
      },
      {
        "duration": 24,
        "start_time": "2023-10-12T07:42:14.424Z"
      },
      {
        "duration": 47,
        "start_time": "2023-10-12T07:42:14.449Z"
      },
      {
        "duration": 55,
        "start_time": "2023-10-12T07:42:14.498Z"
      },
      {
        "duration": 63,
        "start_time": "2023-10-12T07:42:14.555Z"
      },
      {
        "duration": 26,
        "start_time": "2023-10-12T07:42:14.620Z"
      },
      {
        "duration": 22,
        "start_time": "2023-10-12T07:42:14.648Z"
      },
      {
        "duration": 79,
        "start_time": "2023-10-12T07:42:14.673Z"
      },
      {
        "duration": 42,
        "start_time": "2023-10-12T07:42:14.754Z"
      },
      {
        "duration": 23,
        "start_time": "2023-10-12T07:42:14.798Z"
      },
      {
        "duration": 17,
        "start_time": "2023-10-12T07:42:14.824Z"
      },
      {
        "duration": 44,
        "start_time": "2023-10-12T07:42:14.844Z"
      },
      {
        "duration": 18,
        "start_time": "2023-10-12T07:42:14.890Z"
      },
      {
        "duration": 243,
        "start_time": "2023-10-12T07:42:14.911Z"
      },
      {
        "duration": 0,
        "start_time": "2023-10-12T07:42:15.156Z"
      },
      {
        "duration": 0,
        "start_time": "2023-10-12T07:42:15.158Z"
      },
      {
        "duration": 0,
        "start_time": "2023-10-12T07:42:15.160Z"
      },
      {
        "duration": 1364,
        "start_time": "2023-10-12T07:42:56.902Z"
      },
      {
        "duration": 1124,
        "start_time": "2023-10-12T07:42:58.267Z"
      },
      {
        "duration": 5,
        "start_time": "2023-10-12T07:42:59.393Z"
      },
      {
        "duration": 238,
        "start_time": "2023-10-12T07:42:59.399Z"
      },
      {
        "duration": 126,
        "start_time": "2023-10-12T07:42:59.639Z"
      },
      {
        "duration": 560,
        "start_time": "2023-10-12T07:42:59.767Z"
      },
      {
        "duration": 41,
        "start_time": "2023-10-12T07:43:00.329Z"
      },
      {
        "duration": 762,
        "start_time": "2023-10-12T07:43:00.372Z"
      },
      {
        "duration": 147,
        "start_time": "2023-10-12T07:43:01.136Z"
      },
      {
        "duration": 187,
        "start_time": "2023-10-12T07:43:01.287Z"
      },
      {
        "duration": 148,
        "start_time": "2023-10-12T07:43:01.475Z"
      },
      {
        "duration": 341,
        "start_time": "2023-10-12T07:43:01.625Z"
      },
      {
        "duration": 821,
        "start_time": "2023-10-12T07:43:01.968Z"
      },
      {
        "duration": 240,
        "start_time": "2023-10-12T07:43:02.791Z"
      },
      {
        "duration": 64,
        "start_time": "2023-10-12T07:43:03.034Z"
      },
      {
        "duration": 74,
        "start_time": "2023-10-12T07:43:03.100Z"
      },
      {
        "duration": 23,
        "start_time": "2023-10-12T07:43:03.177Z"
      },
      {
        "duration": 78,
        "start_time": "2023-10-12T07:43:03.202Z"
      },
      {
        "duration": 82,
        "start_time": "2023-10-12T07:43:03.282Z"
      },
      {
        "duration": 25,
        "start_time": "2023-10-12T07:43:03.366Z"
      },
      {
        "duration": 64,
        "start_time": "2023-10-12T07:43:03.393Z"
      },
      {
        "duration": 71,
        "start_time": "2023-10-12T07:43:03.460Z"
      },
      {
        "duration": 19,
        "start_time": "2023-10-12T07:43:03.533Z"
      },
      {
        "duration": 21,
        "start_time": "2023-10-12T07:43:03.554Z"
      },
      {
        "duration": 43,
        "start_time": "2023-10-12T07:43:03.578Z"
      },
      {
        "duration": 10,
        "start_time": "2023-10-12T07:43:03.622Z"
      },
      {
        "duration": 55,
        "start_time": "2023-10-12T07:43:03.634Z"
      },
      {
        "duration": 19,
        "start_time": "2023-10-12T07:43:03.693Z"
      },
      {
        "duration": 39,
        "start_time": "2023-10-12T07:43:03.713Z"
      },
      {
        "duration": 26,
        "start_time": "2023-10-12T07:43:03.754Z"
      },
      {
        "duration": 29,
        "start_time": "2023-10-12T07:43:03.782Z"
      },
      {
        "duration": 38,
        "start_time": "2023-10-12T07:43:03.813Z"
      },
      {
        "duration": 37,
        "start_time": "2023-10-12T07:43:03.854Z"
      },
      {
        "duration": 161,
        "start_time": "2023-10-12T07:43:03.893Z"
      },
      {
        "duration": 13,
        "start_time": "2023-10-12T07:43:04.056Z"
      },
      {
        "duration": 68,
        "start_time": "2023-10-12T07:43:04.072Z"
      },
      {
        "duration": 139,
        "start_time": "2023-10-12T07:43:04.142Z"
      },
      {
        "duration": 0,
        "start_time": "2023-10-12T07:43:04.283Z"
      },
      {
        "duration": 0,
        "start_time": "2023-10-12T07:43:04.285Z"
      },
      {
        "duration": 0,
        "start_time": "2023-10-12T07:43:04.286Z"
      },
      {
        "duration": 0,
        "start_time": "2023-10-12T07:43:04.288Z"
      },
      {
        "duration": 0,
        "start_time": "2023-10-12T07:43:04.289Z"
      },
      {
        "duration": 0,
        "start_time": "2023-10-12T07:43:04.290Z"
      },
      {
        "duration": 0,
        "start_time": "2023-10-12T07:43:04.291Z"
      },
      {
        "duration": 0,
        "start_time": "2023-10-12T07:43:04.292Z"
      },
      {
        "duration": 0,
        "start_time": "2023-10-12T07:43:04.302Z"
      },
      {
        "duration": 0,
        "start_time": "2023-10-12T07:43:04.305Z"
      },
      {
        "duration": 0,
        "start_time": "2023-10-12T07:43:04.306Z"
      },
      {
        "duration": 0,
        "start_time": "2023-10-12T07:43:04.308Z"
      },
      {
        "duration": 0,
        "start_time": "2023-10-12T07:43:04.309Z"
      },
      {
        "duration": 0,
        "start_time": "2023-10-12T07:43:04.311Z"
      },
      {
        "duration": 0,
        "start_time": "2023-10-12T07:43:04.312Z"
      },
      {
        "duration": 0,
        "start_time": "2023-10-12T07:43:04.314Z"
      },
      {
        "duration": 0,
        "start_time": "2023-10-12T07:43:04.315Z"
      },
      {
        "duration": 0,
        "start_time": "2023-10-12T07:43:04.317Z"
      },
      {
        "duration": 0,
        "start_time": "2023-10-12T07:43:04.318Z"
      },
      {
        "duration": 0,
        "start_time": "2023-10-12T07:43:04.319Z"
      },
      {
        "duration": 0,
        "start_time": "2023-10-12T07:43:04.320Z"
      },
      {
        "duration": 0,
        "start_time": "2023-10-12T07:43:04.322Z"
      },
      {
        "duration": 1,
        "start_time": "2023-10-12T07:43:04.323Z"
      },
      {
        "duration": 0,
        "start_time": "2023-10-12T07:43:04.325Z"
      },
      {
        "duration": 0,
        "start_time": "2023-10-12T07:43:04.326Z"
      },
      {
        "duration": 0,
        "start_time": "2023-10-12T07:43:04.328Z"
      },
      {
        "duration": 0,
        "start_time": "2023-10-12T07:43:04.330Z"
      },
      {
        "duration": 0,
        "start_time": "2023-10-12T07:43:04.331Z"
      },
      {
        "duration": 0,
        "start_time": "2023-10-12T07:43:04.332Z"
      },
      {
        "duration": 0,
        "start_time": "2023-10-12T07:43:04.334Z"
      },
      {
        "duration": 0,
        "start_time": "2023-10-12T07:43:04.340Z"
      },
      {
        "duration": 0,
        "start_time": "2023-10-12T07:43:04.341Z"
      },
      {
        "duration": 0,
        "start_time": "2023-10-12T07:43:04.342Z"
      },
      {
        "duration": 0,
        "start_time": "2023-10-12T07:43:04.343Z"
      },
      {
        "duration": 0,
        "start_time": "2023-10-12T07:43:04.402Z"
      },
      {
        "duration": 1508,
        "start_time": "2023-10-12T07:46:22.006Z"
      },
      {
        "duration": 1293,
        "start_time": "2023-10-12T07:46:23.517Z"
      },
      {
        "duration": 6,
        "start_time": "2023-10-12T07:46:24.812Z"
      },
      {
        "duration": 63,
        "start_time": "2023-10-12T07:46:24.821Z"
      },
      {
        "duration": 134,
        "start_time": "2023-10-12T07:46:24.885Z"
      },
      {
        "duration": 600,
        "start_time": "2023-10-12T07:46:25.021Z"
      },
      {
        "duration": 47,
        "start_time": "2023-10-12T07:46:25.623Z"
      },
      {
        "duration": 150,
        "start_time": "2023-10-12T07:46:25.672Z"
      },
      {
        "duration": 17,
        "start_time": "2023-10-12T07:46:25.824Z"
      },
      {
        "duration": 92,
        "start_time": "2023-10-12T07:46:25.844Z"
      },
      {
        "duration": 6,
        "start_time": "2023-10-12T07:46:25.938Z"
      },
      {
        "duration": 10,
        "start_time": "2023-10-12T07:46:25.946Z"
      },
      {
        "duration": 8,
        "start_time": "2023-10-12T07:46:25.958Z"
      },
      {
        "duration": 43,
        "start_time": "2023-10-12T07:46:25.968Z"
      },
      {
        "duration": 62,
        "start_time": "2023-10-12T07:46:26.013Z"
      },
      {
        "duration": 26,
        "start_time": "2023-10-12T07:46:26.077Z"
      },
      {
        "duration": 34,
        "start_time": "2023-10-12T07:46:26.106Z"
      },
      {
        "duration": 56,
        "start_time": "2023-10-12T07:46:26.142Z"
      },
      {
        "duration": 56,
        "start_time": "2023-10-12T07:46:26.201Z"
      },
      {
        "duration": 29,
        "start_time": "2023-10-12T07:46:26.259Z"
      },
      {
        "duration": 15,
        "start_time": "2023-10-12T07:46:26.291Z"
      },
      {
        "duration": 38,
        "start_time": "2023-10-12T07:46:26.308Z"
      },
      {
        "duration": 19,
        "start_time": "2023-10-12T07:46:26.349Z"
      },
      {
        "duration": 46,
        "start_time": "2023-10-12T07:46:26.370Z"
      },
      {
        "duration": 25,
        "start_time": "2023-10-12T07:46:26.419Z"
      },
      {
        "duration": 10,
        "start_time": "2023-10-12T07:46:26.446Z"
      },
      {
        "duration": 83,
        "start_time": "2023-10-12T07:46:26.458Z"
      },
      {
        "duration": 18,
        "start_time": "2023-10-12T07:46:26.545Z"
      },
      {
        "duration": 43,
        "start_time": "2023-10-12T07:46:26.565Z"
      },
      {
        "duration": 16,
        "start_time": "2023-10-12T07:46:26.610Z"
      },
      {
        "duration": 38,
        "start_time": "2023-10-12T07:46:26.628Z"
      },
      {
        "duration": 50,
        "start_time": "2023-10-12T07:46:26.667Z"
      },
      {
        "duration": 38,
        "start_time": "2023-10-12T07:46:26.719Z"
      },
      {
        "duration": 178,
        "start_time": "2023-10-12T07:46:26.759Z"
      },
      {
        "duration": 14,
        "start_time": "2023-10-12T07:46:26.939Z"
      },
      {
        "duration": 71,
        "start_time": "2023-10-12T07:46:26.955Z"
      },
      {
        "duration": 181,
        "start_time": "2023-10-12T07:46:27.027Z"
      },
      {
        "duration": 22,
        "start_time": "2023-10-12T07:46:27.211Z"
      },
      {
        "duration": 344,
        "start_time": "2023-10-12T07:46:27.235Z"
      },
      {
        "duration": 39,
        "start_time": "2023-10-12T07:46:27.581Z"
      },
      {
        "duration": 19,
        "start_time": "2023-10-12T07:46:27.622Z"
      },
      {
        "duration": 60,
        "start_time": "2023-10-12T07:46:27.643Z"
      },
      {
        "duration": 28,
        "start_time": "2023-10-12T07:46:27.705Z"
      },
      {
        "duration": 30,
        "start_time": "2023-10-12T07:46:27.735Z"
      },
      {
        "duration": 44,
        "start_time": "2023-10-12T07:46:27.767Z"
      },
      {
        "duration": 71,
        "start_time": "2023-10-12T07:46:27.813Z"
      },
      {
        "duration": 156,
        "start_time": "2023-10-12T07:46:27.886Z"
      },
      {
        "duration": 169,
        "start_time": "2023-10-12T07:46:28.044Z"
      },
      {
        "duration": 6,
        "start_time": "2023-10-12T07:46:28.216Z"
      },
      {
        "duration": 32,
        "start_time": "2023-10-12T07:46:28.224Z"
      },
      {
        "duration": 48,
        "start_time": "2023-10-12T07:46:28.258Z"
      },
      {
        "duration": 59,
        "start_time": "2023-10-12T07:46:28.308Z"
      },
      {
        "duration": 49,
        "start_time": "2023-10-12T07:46:28.369Z"
      },
      {
        "duration": 50,
        "start_time": "2023-10-12T07:46:28.421Z"
      },
      {
        "duration": 34,
        "start_time": "2023-10-12T07:46:28.473Z"
      },
      {
        "duration": 162,
        "start_time": "2023-10-12T07:46:28.510Z"
      },
      {
        "duration": 24,
        "start_time": "2023-10-12T07:46:28.674Z"
      },
      {
        "duration": 47,
        "start_time": "2023-10-12T07:46:28.700Z"
      },
      {
        "duration": 38,
        "start_time": "2023-10-12T07:46:28.750Z"
      },
      {
        "duration": 34,
        "start_time": "2023-10-12T07:46:28.791Z"
      },
      {
        "duration": 23,
        "start_time": "2023-10-12T07:46:28.827Z"
      },
      {
        "duration": 87,
        "start_time": "2023-10-12T07:46:28.852Z"
      },
      {
        "duration": 51,
        "start_time": "2023-10-12T07:46:28.942Z"
      },
      {
        "duration": 34,
        "start_time": "2023-10-12T07:46:28.995Z"
      },
      {
        "duration": 24,
        "start_time": "2023-10-12T07:46:29.031Z"
      },
      {
        "duration": 55,
        "start_time": "2023-10-12T07:46:29.057Z"
      },
      {
        "duration": 37,
        "start_time": "2023-10-12T07:46:29.114Z"
      },
      {
        "duration": 27,
        "start_time": "2023-10-12T07:46:29.153Z"
      },
      {
        "duration": 204,
        "start_time": "2023-10-12T07:46:29.182Z"
      },
      {
        "duration": 0,
        "start_time": "2023-10-12T07:46:29.388Z"
      },
      {
        "duration": 0,
        "start_time": "2023-10-12T07:46:29.390Z"
      },
      {
        "duration": 0,
        "start_time": "2023-10-12T07:46:29.401Z"
      },
      {
        "duration": 1498,
        "start_time": "2023-10-12T07:50:00.082Z"
      },
      {
        "duration": 2084,
        "start_time": "2023-10-12T07:50:01.582Z"
      },
      {
        "duration": 8,
        "start_time": "2023-10-12T07:50:03.668Z"
      },
      {
        "duration": 248,
        "start_time": "2023-10-12T07:50:03.679Z"
      },
      {
        "duration": 153,
        "start_time": "2023-10-12T07:50:03.929Z"
      },
      {
        "duration": 633,
        "start_time": "2023-10-12T07:50:04.083Z"
      },
      {
        "duration": 84,
        "start_time": "2023-10-12T07:50:04.718Z"
      },
      {
        "duration": 126,
        "start_time": "2023-10-12T07:50:04.804Z"
      },
      {
        "duration": 17,
        "start_time": "2023-10-12T07:50:04.932Z"
      },
      {
        "duration": 97,
        "start_time": "2023-10-12T07:50:04.953Z"
      },
      {
        "duration": 5,
        "start_time": "2023-10-12T07:50:05.052Z"
      },
      {
        "duration": 42,
        "start_time": "2023-10-12T07:50:05.059Z"
      },
      {
        "duration": 28,
        "start_time": "2023-10-12T07:50:05.103Z"
      },
      {
        "duration": 20,
        "start_time": "2023-10-12T07:50:05.133Z"
      },
      {
        "duration": 19,
        "start_time": "2023-10-12T07:50:05.155Z"
      },
      {
        "duration": 50,
        "start_time": "2023-10-12T07:50:05.176Z"
      },
      {
        "duration": 17,
        "start_time": "2023-10-12T07:50:05.228Z"
      },
      {
        "duration": 37,
        "start_time": "2023-10-12T07:50:05.247Z"
      },
      {
        "duration": 58,
        "start_time": "2023-10-12T07:50:05.286Z"
      },
      {
        "duration": 69,
        "start_time": "2023-10-12T07:50:05.346Z"
      },
      {
        "duration": 33,
        "start_time": "2023-10-12T07:50:05.417Z"
      },
      {
        "duration": 58,
        "start_time": "2023-10-12T07:50:05.451Z"
      },
      {
        "duration": 17,
        "start_time": "2023-10-12T07:50:05.511Z"
      },
      {
        "duration": 57,
        "start_time": "2023-10-12T07:50:05.530Z"
      },
      {
        "duration": 36,
        "start_time": "2023-10-12T07:50:05.589Z"
      },
      {
        "duration": 72,
        "start_time": "2023-10-12T07:50:05.627Z"
      },
      {
        "duration": 104,
        "start_time": "2023-10-12T07:50:05.701Z"
      },
      {
        "duration": 51,
        "start_time": "2023-10-12T07:50:05.809Z"
      },
      {
        "duration": 53,
        "start_time": "2023-10-12T07:50:05.862Z"
      },
      {
        "duration": 27,
        "start_time": "2023-10-12T07:50:05.917Z"
      },
      {
        "duration": 26,
        "start_time": "2023-10-12T07:50:05.946Z"
      },
      {
        "duration": 91,
        "start_time": "2023-10-12T07:50:05.974Z"
      },
      {
        "duration": 115,
        "start_time": "2023-10-12T07:50:06.067Z"
      },
      {
        "duration": 168,
        "start_time": "2023-10-12T07:50:06.183Z"
      },
      {
        "duration": 11,
        "start_time": "2023-10-12T07:50:06.353Z"
      },
      {
        "duration": 57,
        "start_time": "2023-10-12T07:50:06.366Z"
      },
      {
        "duration": 199,
        "start_time": "2023-10-12T07:50:06.425Z"
      },
      {
        "duration": 16,
        "start_time": "2023-10-12T07:50:06.626Z"
      },
      {
        "duration": 354,
        "start_time": "2023-10-12T07:50:06.644Z"
      },
      {
        "duration": 30,
        "start_time": "2023-10-12T07:50:07.001Z"
      },
      {
        "duration": 44,
        "start_time": "2023-10-12T07:50:07.033Z"
      },
      {
        "duration": 47,
        "start_time": "2023-10-12T07:50:07.079Z"
      },
      {
        "duration": 35,
        "start_time": "2023-10-12T07:50:07.128Z"
      },
      {
        "duration": 35,
        "start_time": "2023-10-12T07:50:07.166Z"
      },
      {
        "duration": 22,
        "start_time": "2023-10-12T07:50:07.202Z"
      },
      {
        "duration": 17,
        "start_time": "2023-10-12T07:50:07.226Z"
      },
      {
        "duration": 198,
        "start_time": "2023-10-12T07:50:07.245Z"
      },
      {
        "duration": 183,
        "start_time": "2023-10-12T07:50:07.445Z"
      },
      {
        "duration": 8,
        "start_time": "2023-10-12T07:50:07.630Z"
      },
      {
        "duration": 59,
        "start_time": "2023-10-12T07:50:07.640Z"
      },
      {
        "duration": 78,
        "start_time": "2023-10-12T07:50:07.701Z"
      },
      {
        "duration": 45,
        "start_time": "2023-10-12T07:50:07.782Z"
      },
      {
        "duration": 8,
        "start_time": "2023-10-12T07:50:07.829Z"
      },
      {
        "duration": 37,
        "start_time": "2023-10-12T07:50:07.839Z"
      },
      {
        "duration": 59,
        "start_time": "2023-10-12T07:50:07.878Z"
      },
      {
        "duration": 35,
        "start_time": "2023-10-12T07:50:07.939Z"
      },
      {
        "duration": 35,
        "start_time": "2023-10-12T07:50:07.976Z"
      },
      {
        "duration": 41,
        "start_time": "2023-10-12T07:50:08.013Z"
      },
      {
        "duration": 31,
        "start_time": "2023-10-12T07:50:08.057Z"
      },
      {
        "duration": 36,
        "start_time": "2023-10-12T07:50:08.090Z"
      },
      {
        "duration": 93,
        "start_time": "2023-10-12T07:50:08.128Z"
      },
      {
        "duration": 54,
        "start_time": "2023-10-12T07:50:08.223Z"
      },
      {
        "duration": 89,
        "start_time": "2023-10-12T07:50:08.280Z"
      },
      {
        "duration": 40,
        "start_time": "2023-10-12T07:50:08.371Z"
      },
      {
        "duration": 18,
        "start_time": "2023-10-12T07:50:08.414Z"
      },
      {
        "duration": 36,
        "start_time": "2023-10-12T07:50:08.435Z"
      },
      {
        "duration": 48,
        "start_time": "2023-10-12T07:50:08.474Z"
      },
      {
        "duration": 38,
        "start_time": "2023-10-12T07:50:08.524Z"
      },
      {
        "duration": 84,
        "start_time": "2023-10-12T07:50:08.563Z"
      },
      {
        "duration": 67,
        "start_time": "2023-10-12T07:50:08.649Z"
      },
      {
        "duration": 50,
        "start_time": "2023-10-12T07:50:08.718Z"
      },
      {
        "duration": 76,
        "start_time": "2023-10-12T07:50:08.770Z"
      },
      {
        "duration": 1481,
        "start_time": "2023-10-12T07:55:07.893Z"
      },
      {
        "duration": 1458,
        "start_time": "2023-10-12T07:55:09.377Z"
      },
      {
        "duration": 5,
        "start_time": "2023-10-12T07:55:10.837Z"
      },
      {
        "duration": 104,
        "start_time": "2023-10-12T07:55:10.844Z"
      },
      {
        "duration": 227,
        "start_time": "2023-10-12T07:55:11.001Z"
      },
      {
        "duration": 1394,
        "start_time": "2023-10-12T07:55:11.230Z"
      },
      {
        "duration": 110,
        "start_time": "2023-10-12T07:55:12.626Z"
      },
      {
        "duration": 133,
        "start_time": "2023-10-12T07:55:12.738Z"
      },
      {
        "duration": 31,
        "start_time": "2023-10-12T07:55:12.873Z"
      },
      {
        "duration": 60,
        "start_time": "2023-10-12T07:55:12.908Z"
      },
      {
        "duration": 5,
        "start_time": "2023-10-12T07:55:12.970Z"
      },
      {
        "duration": 41,
        "start_time": "2023-10-12T07:55:12.977Z"
      },
      {
        "duration": 7,
        "start_time": "2023-10-12T07:55:13.020Z"
      },
      {
        "duration": 10,
        "start_time": "2023-10-12T07:55:13.029Z"
      },
      {
        "duration": 18,
        "start_time": "2023-10-12T07:55:13.041Z"
      },
      {
        "duration": 30,
        "start_time": "2023-10-12T07:55:13.061Z"
      },
      {
        "duration": 28,
        "start_time": "2023-10-12T07:55:13.092Z"
      },
      {
        "duration": 13,
        "start_time": "2023-10-12T07:55:13.122Z"
      },
      {
        "duration": 21,
        "start_time": "2023-10-12T07:55:13.137Z"
      },
      {
        "duration": 41,
        "start_time": "2023-10-12T07:55:13.160Z"
      },
      {
        "duration": 16,
        "start_time": "2023-10-12T07:55:13.209Z"
      },
      {
        "duration": 53,
        "start_time": "2023-10-12T07:55:13.227Z"
      },
      {
        "duration": 37,
        "start_time": "2023-10-12T07:55:13.282Z"
      },
      {
        "duration": 23,
        "start_time": "2023-10-12T07:55:13.321Z"
      },
      {
        "duration": 138,
        "start_time": "2023-10-12T07:55:13.347Z"
      },
      {
        "duration": 24,
        "start_time": "2023-10-12T07:55:13.487Z"
      },
      {
        "duration": 34,
        "start_time": "2023-10-12T07:55:13.518Z"
      },
      {
        "duration": 17,
        "start_time": "2023-10-12T07:55:13.557Z"
      },
      {
        "duration": 41,
        "start_time": "2023-10-12T07:55:13.576Z"
      },
      {
        "duration": 16,
        "start_time": "2023-10-12T07:55:13.619Z"
      },
      {
        "duration": 16,
        "start_time": "2023-10-12T07:55:13.637Z"
      },
      {
        "duration": 50,
        "start_time": "2023-10-12T07:55:13.654Z"
      },
      {
        "duration": 79,
        "start_time": "2023-10-12T07:55:13.707Z"
      },
      {
        "duration": 207,
        "start_time": "2023-10-12T07:55:13.788Z"
      },
      {
        "duration": 23,
        "start_time": "2023-10-12T07:55:14.001Z"
      },
      {
        "duration": 43,
        "start_time": "2023-10-12T07:55:14.026Z"
      },
      {
        "duration": 188,
        "start_time": "2023-10-12T07:55:14.071Z"
      },
      {
        "duration": 21,
        "start_time": "2023-10-12T07:55:14.261Z"
      },
      {
        "duration": 366,
        "start_time": "2023-10-12T07:55:14.283Z"
      },
      {
        "duration": 30,
        "start_time": "2023-10-12T07:55:14.651Z"
      },
      {
        "duration": 45,
        "start_time": "2023-10-12T07:55:14.684Z"
      },
      {
        "duration": 45,
        "start_time": "2023-10-12T07:55:14.731Z"
      },
      {
        "duration": 28,
        "start_time": "2023-10-12T07:55:14.778Z"
      },
      {
        "duration": 23,
        "start_time": "2023-10-12T07:55:14.808Z"
      },
      {
        "duration": 51,
        "start_time": "2023-10-12T07:55:14.833Z"
      },
      {
        "duration": 33,
        "start_time": "2023-10-12T07:55:14.886Z"
      },
      {
        "duration": 150,
        "start_time": "2023-10-12T07:55:14.921Z"
      },
      {
        "duration": 287,
        "start_time": "2023-10-12T07:55:15.073Z"
      },
      {
        "duration": 10,
        "start_time": "2023-10-12T07:55:15.362Z"
      },
      {
        "duration": 52,
        "start_time": "2023-10-12T07:55:15.374Z"
      },
      {
        "duration": 35,
        "start_time": "2023-10-12T07:55:15.428Z"
      },
      {
        "duration": 55,
        "start_time": "2023-10-12T07:55:15.466Z"
      },
      {
        "duration": 7,
        "start_time": "2023-10-12T07:55:15.523Z"
      },
      {
        "duration": 20,
        "start_time": "2023-10-12T07:55:15.532Z"
      },
      {
        "duration": 31,
        "start_time": "2023-10-12T07:55:15.554Z"
      },
      {
        "duration": 78,
        "start_time": "2023-10-12T07:55:15.587Z"
      },
      {
        "duration": 30,
        "start_time": "2023-10-12T07:55:15.667Z"
      },
      {
        "duration": 25,
        "start_time": "2023-10-12T07:55:15.699Z"
      },
      {
        "duration": 15,
        "start_time": "2023-10-12T07:55:15.726Z"
      },
      {
        "duration": 104,
        "start_time": "2023-10-12T07:55:15.743Z"
      },
      {
        "duration": 20,
        "start_time": "2023-10-12T07:55:15.849Z"
      },
      {
        "duration": 23,
        "start_time": "2023-10-12T07:55:15.871Z"
      },
      {
        "duration": 46,
        "start_time": "2023-10-12T07:55:15.897Z"
      },
      {
        "duration": 28,
        "start_time": "2023-10-12T07:55:15.945Z"
      },
      {
        "duration": 68,
        "start_time": "2023-10-12T07:55:15.975Z"
      },
      {
        "duration": 16,
        "start_time": "2023-10-12T07:55:16.046Z"
      },
      {
        "duration": 71,
        "start_time": "2023-10-12T07:55:16.064Z"
      },
      {
        "duration": 17,
        "start_time": "2023-10-12T07:55:16.137Z"
      },
      {
        "duration": 90,
        "start_time": "2023-10-12T07:55:16.156Z"
      },
      {
        "duration": 85,
        "start_time": "2023-10-12T07:55:16.249Z"
      },
      {
        "duration": 70,
        "start_time": "2023-10-12T07:55:16.336Z"
      },
      {
        "duration": 56,
        "start_time": "2023-10-12T07:55:16.411Z"
      },
      {
        "duration": 1296,
        "start_time": "2023-10-12T14:14:22.134Z"
      },
      {
        "duration": 2923,
        "start_time": "2023-10-12T14:14:23.432Z"
      },
      {
        "duration": 5,
        "start_time": "2023-10-12T14:14:26.357Z"
      },
      {
        "duration": 67,
        "start_time": "2023-10-12T14:14:26.364Z"
      },
      {
        "duration": 107,
        "start_time": "2023-10-12T14:14:26.433Z"
      },
      {
        "duration": 493,
        "start_time": "2023-10-12T14:14:26.542Z"
      },
      {
        "duration": 38,
        "start_time": "2023-10-12T14:14:27.037Z"
      },
      {
        "duration": 130,
        "start_time": "2023-10-12T14:14:27.077Z"
      },
      {
        "duration": 14,
        "start_time": "2023-10-12T14:14:27.208Z"
      },
      {
        "duration": 60,
        "start_time": "2023-10-12T14:14:27.224Z"
      },
      {
        "duration": 5,
        "start_time": "2023-10-12T14:14:27.286Z"
      },
      {
        "duration": 236,
        "start_time": "2023-10-12T14:14:27.307Z"
      },
      {
        "duration": 24,
        "start_time": "2023-10-12T14:14:27.545Z"
      },
      {
        "duration": 25,
        "start_time": "2023-10-12T14:14:27.571Z"
      },
      {
        "duration": 33,
        "start_time": "2023-10-12T14:14:27.597Z"
      },
      {
        "duration": 26,
        "start_time": "2023-10-12T14:14:27.632Z"
      },
      {
        "duration": 11,
        "start_time": "2023-10-12T14:14:27.659Z"
      },
      {
        "duration": 15,
        "start_time": "2023-10-12T14:14:27.671Z"
      },
      {
        "duration": 22,
        "start_time": "2023-10-12T14:14:27.688Z"
      },
      {
        "duration": 41,
        "start_time": "2023-10-12T14:14:27.712Z"
      },
      {
        "duration": 27,
        "start_time": "2023-10-12T14:14:27.754Z"
      },
      {
        "duration": 51,
        "start_time": "2023-10-12T14:14:27.782Z"
      },
      {
        "duration": 14,
        "start_time": "2023-10-12T14:14:27.835Z"
      },
      {
        "duration": 27,
        "start_time": "2023-10-12T14:14:27.850Z"
      },
      {
        "duration": 29,
        "start_time": "2023-10-12T14:14:27.879Z"
      },
      {
        "duration": 16,
        "start_time": "2023-10-12T14:14:27.910Z"
      },
      {
        "duration": 111,
        "start_time": "2023-10-12T14:14:27.927Z"
      },
      {
        "duration": 43,
        "start_time": "2023-10-12T14:14:28.042Z"
      },
      {
        "duration": 37,
        "start_time": "2023-10-12T14:14:28.086Z"
      },
      {
        "duration": 12,
        "start_time": "2023-10-12T14:14:28.125Z"
      },
      {
        "duration": 21,
        "start_time": "2023-10-12T14:14:28.138Z"
      },
      {
        "duration": 50,
        "start_time": "2023-10-12T14:14:28.160Z"
      },
      {
        "duration": 23,
        "start_time": "2023-10-12T14:14:28.211Z"
      },
      {
        "duration": 130,
        "start_time": "2023-10-12T14:14:28.235Z"
      },
      {
        "duration": 11,
        "start_time": "2023-10-12T14:14:28.367Z"
      },
      {
        "duration": 47,
        "start_time": "2023-10-12T14:14:28.379Z"
      },
      {
        "duration": 714,
        "start_time": "2023-10-12T14:14:28.427Z"
      },
      {
        "duration": 14,
        "start_time": "2023-10-12T14:14:29.142Z"
      },
      {
        "duration": 321,
        "start_time": "2023-10-12T14:14:29.157Z"
      },
      {
        "duration": 23,
        "start_time": "2023-10-12T14:14:29.479Z"
      },
      {
        "duration": 15,
        "start_time": "2023-10-12T14:14:29.503Z"
      },
      {
        "duration": 28,
        "start_time": "2023-10-12T14:14:29.519Z"
      },
      {
        "duration": 29,
        "start_time": "2023-10-12T14:14:29.548Z"
      },
      {
        "duration": 35,
        "start_time": "2023-10-12T14:14:29.579Z"
      },
      {
        "duration": 27,
        "start_time": "2023-10-12T14:14:29.615Z"
      },
      {
        "duration": 24,
        "start_time": "2023-10-12T14:14:29.643Z"
      },
      {
        "duration": 160,
        "start_time": "2023-10-12T14:14:29.669Z"
      },
      {
        "duration": 145,
        "start_time": "2023-10-12T14:14:29.831Z"
      },
      {
        "duration": 5,
        "start_time": "2023-10-12T14:14:29.978Z"
      },
      {
        "duration": 85,
        "start_time": "2023-10-12T14:14:29.985Z"
      },
      {
        "duration": 101,
        "start_time": "2023-10-12T14:14:30.072Z"
      },
      {
        "duration": 45,
        "start_time": "2023-10-12T14:14:30.175Z"
      },
      {
        "duration": 31,
        "start_time": "2023-10-12T14:14:30.221Z"
      },
      {
        "duration": 66,
        "start_time": "2023-10-12T14:14:30.254Z"
      },
      {
        "duration": 79,
        "start_time": "2023-10-12T14:14:30.322Z"
      },
      {
        "duration": 82,
        "start_time": "2023-10-12T14:14:30.402Z"
      },
      {
        "duration": 38,
        "start_time": "2023-10-12T14:14:30.485Z"
      },
      {
        "duration": 59,
        "start_time": "2023-10-12T14:14:30.524Z"
      },
      {
        "duration": 43,
        "start_time": "2023-10-12T14:14:30.584Z"
      },
      {
        "duration": 76,
        "start_time": "2023-10-12T14:14:30.629Z"
      },
      {
        "duration": 46,
        "start_time": "2023-10-12T14:14:30.706Z"
      },
      {
        "duration": 80,
        "start_time": "2023-10-12T14:14:30.753Z"
      },
      {
        "duration": 68,
        "start_time": "2023-10-12T14:14:30.835Z"
      },
      {
        "duration": 344,
        "start_time": "2023-10-12T14:14:30.905Z"
      },
      {
        "duration": 152,
        "start_time": "2023-10-12T14:14:31.251Z"
      },
      {
        "duration": 196,
        "start_time": "2023-10-12T14:14:31.405Z"
      },
      {
        "duration": 69,
        "start_time": "2023-10-12T14:14:31.602Z"
      },
      {
        "duration": 147,
        "start_time": "2023-10-12T14:14:31.672Z"
      },
      {
        "duration": 215,
        "start_time": "2023-10-12T14:14:31.821Z"
      },
      {
        "duration": 48,
        "start_time": "2023-10-12T14:14:32.038Z"
      },
      {
        "duration": 71,
        "start_time": "2023-10-12T14:14:32.087Z"
      },
      {
        "duration": 69,
        "start_time": "2023-10-12T14:14:32.160Z"
      },
      {
        "duration": 1561,
        "start_time": "2024-02-28T14:44:11.474Z"
      },
      {
        "duration": 2744,
        "start_time": "2024-02-28T14:44:13.037Z"
      },
      {
        "duration": 6,
        "start_time": "2024-02-28T14:44:15.782Z"
      },
      {
        "duration": 62,
        "start_time": "2024-02-28T14:44:15.790Z"
      },
      {
        "duration": 101,
        "start_time": "2024-02-28T14:44:15.854Z"
      },
      {
        "duration": 549,
        "start_time": "2024-02-28T14:44:15.956Z"
      },
      {
        "duration": 75,
        "start_time": "2024-02-28T14:44:16.507Z"
      },
      {
        "duration": 121,
        "start_time": "2024-02-28T14:44:16.584Z"
      },
      {
        "duration": 16,
        "start_time": "2024-02-28T14:44:16.707Z"
      },
      {
        "duration": 77,
        "start_time": "2024-02-28T14:44:16.725Z"
      },
      {
        "duration": 5,
        "start_time": "2024-02-28T14:44:16.804Z"
      },
      {
        "duration": 14,
        "start_time": "2024-02-28T14:44:16.810Z"
      },
      {
        "duration": 26,
        "start_time": "2024-02-28T14:44:16.825Z"
      },
      {
        "duration": 17,
        "start_time": "2024-02-28T14:44:16.853Z"
      },
      {
        "duration": 41,
        "start_time": "2024-02-28T14:44:16.871Z"
      },
      {
        "duration": 45,
        "start_time": "2024-02-28T14:44:16.914Z"
      },
      {
        "duration": 24,
        "start_time": "2024-02-28T14:44:16.961Z"
      },
      {
        "duration": 38,
        "start_time": "2024-02-28T14:44:16.986Z"
      },
      {
        "duration": 20,
        "start_time": "2024-02-28T14:44:17.026Z"
      },
      {
        "duration": 24,
        "start_time": "2024-02-28T14:44:17.048Z"
      },
      {
        "duration": 24,
        "start_time": "2024-02-28T14:44:17.074Z"
      },
      {
        "duration": 64,
        "start_time": "2024-02-28T14:44:17.100Z"
      },
      {
        "duration": 22,
        "start_time": "2024-02-28T14:44:17.165Z"
      },
      {
        "duration": 31,
        "start_time": "2024-02-28T14:44:17.189Z"
      },
      {
        "duration": 67,
        "start_time": "2024-02-28T14:44:17.222Z"
      },
      {
        "duration": 60,
        "start_time": "2024-02-28T14:44:17.290Z"
      },
      {
        "duration": 31,
        "start_time": "2024-02-28T14:44:17.352Z"
      },
      {
        "duration": 15,
        "start_time": "2024-02-28T14:44:17.386Z"
      },
      {
        "duration": 31,
        "start_time": "2024-02-28T14:44:17.403Z"
      },
      {
        "duration": 15,
        "start_time": "2024-02-28T14:44:17.435Z"
      },
      {
        "duration": 36,
        "start_time": "2024-02-28T14:44:17.451Z"
      },
      {
        "duration": 28,
        "start_time": "2024-02-28T14:44:17.488Z"
      },
      {
        "duration": 28,
        "start_time": "2024-02-28T14:44:17.518Z"
      },
      {
        "duration": 127,
        "start_time": "2024-02-28T14:44:17.548Z"
      },
      {
        "duration": 14,
        "start_time": "2024-02-28T14:44:17.676Z"
      },
      {
        "duration": 26,
        "start_time": "2024-02-28T14:44:17.691Z"
      },
      {
        "duration": 185,
        "start_time": "2024-02-28T14:44:17.718Z"
      },
      {
        "duration": 13,
        "start_time": "2024-02-28T14:44:17.904Z"
      },
      {
        "duration": 380,
        "start_time": "2024-02-28T14:44:17.919Z"
      },
      {
        "duration": 25,
        "start_time": "2024-02-28T14:44:18.301Z"
      },
      {
        "duration": 38,
        "start_time": "2024-02-28T14:44:18.328Z"
      },
      {
        "duration": 12,
        "start_time": "2024-02-28T14:44:18.367Z"
      },
      {
        "duration": 19,
        "start_time": "2024-02-28T14:44:18.381Z"
      },
      {
        "duration": 3,
        "start_time": "2024-02-28T14:44:18.402Z"
      },
      {
        "duration": 19,
        "start_time": "2024-02-28T14:44:18.406Z"
      },
      {
        "duration": 23,
        "start_time": "2024-02-28T14:44:18.426Z"
      },
      {
        "duration": 59,
        "start_time": "2024-02-28T14:44:18.450Z"
      },
      {
        "duration": 180,
        "start_time": "2024-02-28T14:44:18.511Z"
      },
      {
        "duration": 6,
        "start_time": "2024-02-28T14:44:18.692Z"
      },
      {
        "duration": 34,
        "start_time": "2024-02-28T14:44:18.700Z"
      },
      {
        "duration": 34,
        "start_time": "2024-02-28T14:44:18.736Z"
      },
      {
        "duration": 30,
        "start_time": "2024-02-28T14:44:18.772Z"
      },
      {
        "duration": 6,
        "start_time": "2024-02-28T14:44:18.803Z"
      },
      {
        "duration": 12,
        "start_time": "2024-02-28T14:44:18.810Z"
      },
      {
        "duration": 29,
        "start_time": "2024-02-28T14:44:18.823Z"
      },
      {
        "duration": 53,
        "start_time": "2024-02-28T14:44:18.854Z"
      },
      {
        "duration": 21,
        "start_time": "2024-02-28T14:44:18.909Z"
      },
      {
        "duration": 15,
        "start_time": "2024-02-28T14:44:18.932Z"
      },
      {
        "duration": 45,
        "start_time": "2024-02-28T14:44:18.948Z"
      },
      {
        "duration": 30,
        "start_time": "2024-02-28T14:44:18.995Z"
      },
      {
        "duration": 18,
        "start_time": "2024-02-28T14:44:19.026Z"
      },
      {
        "duration": 45,
        "start_time": "2024-02-28T14:44:19.046Z"
      },
      {
        "duration": 25,
        "start_time": "2024-02-28T14:44:19.093Z"
      },
      {
        "duration": 23,
        "start_time": "2024-02-28T14:44:19.120Z"
      },
      {
        "duration": 13,
        "start_time": "2024-02-28T14:44:19.144Z"
      },
      {
        "duration": 6,
        "start_time": "2024-02-28T14:44:19.179Z"
      },
      {
        "duration": 15,
        "start_time": "2024-02-28T14:44:19.187Z"
      },
      {
        "duration": 9,
        "start_time": "2024-02-28T14:44:19.203Z"
      },
      {
        "duration": 67,
        "start_time": "2024-02-28T14:44:19.214Z"
      },
      {
        "duration": 41,
        "start_time": "2024-02-28T14:44:19.283Z"
      },
      {
        "duration": 59,
        "start_time": "2024-02-28T14:44:19.326Z"
      },
      {
        "duration": 38,
        "start_time": "2024-02-28T14:44:19.386Z"
      },
      {
        "duration": 1260,
        "start_time": "2024-03-22T14:32:21.410Z"
      },
      {
        "duration": 1634,
        "start_time": "2024-03-22T14:32:22.672Z"
      },
      {
        "duration": 5,
        "start_time": "2024-03-22T14:32:24.307Z"
      },
      {
        "duration": 35,
        "start_time": "2024-03-22T14:32:24.314Z"
      },
      {
        "duration": 84,
        "start_time": "2024-03-22T14:32:24.351Z"
      },
      {
        "duration": 470,
        "start_time": "2024-03-22T14:32:24.436Z"
      },
      {
        "duration": 37,
        "start_time": "2024-03-22T14:32:24.907Z"
      },
      {
        "duration": 125,
        "start_time": "2024-03-22T14:32:24.965Z"
      },
      {
        "duration": 15,
        "start_time": "2024-03-22T14:32:25.092Z"
      },
      {
        "duration": 71,
        "start_time": "2024-03-22T14:32:25.109Z"
      },
      {
        "duration": 5,
        "start_time": "2024-03-22T14:32:25.182Z"
      },
      {
        "duration": 22,
        "start_time": "2024-03-22T14:32:25.189Z"
      },
      {
        "duration": 10,
        "start_time": "2024-03-22T14:32:25.213Z"
      },
      {
        "duration": 11,
        "start_time": "2024-03-22T14:32:25.224Z"
      },
      {
        "duration": 29,
        "start_time": "2024-03-22T14:32:25.236Z"
      },
      {
        "duration": 20,
        "start_time": "2024-03-22T14:32:25.267Z"
      },
      {
        "duration": 12,
        "start_time": "2024-03-22T14:32:25.289Z"
      },
      {
        "duration": 7,
        "start_time": "2024-03-22T14:32:25.303Z"
      },
      {
        "duration": 20,
        "start_time": "2024-03-22T14:32:25.312Z"
      },
      {
        "duration": 46,
        "start_time": "2024-03-22T14:32:25.333Z"
      },
      {
        "duration": 10,
        "start_time": "2024-03-22T14:32:25.380Z"
      },
      {
        "duration": 32,
        "start_time": "2024-03-22T14:32:25.392Z"
      },
      {
        "duration": 14,
        "start_time": "2024-03-22T14:32:25.426Z"
      },
      {
        "duration": 40,
        "start_time": "2024-03-22T14:32:25.441Z"
      },
      {
        "duration": 19,
        "start_time": "2024-03-22T14:32:25.484Z"
      },
      {
        "duration": 8,
        "start_time": "2024-03-22T14:32:25.504Z"
      },
      {
        "duration": 53,
        "start_time": "2024-03-22T14:32:25.514Z"
      },
      {
        "duration": 13,
        "start_time": "2024-03-22T14:32:25.571Z"
      },
      {
        "duration": 21,
        "start_time": "2024-03-22T14:32:25.585Z"
      },
      {
        "duration": 11,
        "start_time": "2024-03-22T14:32:25.608Z"
      },
      {
        "duration": 44,
        "start_time": "2024-03-22T14:32:25.621Z"
      },
      {
        "duration": 11,
        "start_time": "2024-03-22T14:32:25.667Z"
      },
      {
        "duration": 12,
        "start_time": "2024-03-22T14:32:25.680Z"
      },
      {
        "duration": 142,
        "start_time": "2024-03-22T14:32:25.694Z"
      },
      {
        "duration": 10,
        "start_time": "2024-03-22T14:32:25.837Z"
      },
      {
        "duration": 36,
        "start_time": "2024-03-22T14:32:25.848Z"
      },
      {
        "duration": 159,
        "start_time": "2024-03-22T14:32:25.886Z"
      },
      {
        "duration": 12,
        "start_time": "2024-03-22T14:32:26.046Z"
      },
      {
        "duration": 263,
        "start_time": "2024-03-22T14:32:26.059Z"
      },
      {
        "duration": 24,
        "start_time": "2024-03-22T14:32:26.324Z"
      },
      {
        "duration": 26,
        "start_time": "2024-03-22T14:32:26.349Z"
      },
      {
        "duration": 30,
        "start_time": "2024-03-22T14:32:26.376Z"
      },
      {
        "duration": 51,
        "start_time": "2024-03-22T14:32:26.408Z"
      },
      {
        "duration": 3,
        "start_time": "2024-03-22T14:32:26.461Z"
      },
      {
        "duration": 12,
        "start_time": "2024-03-22T14:32:26.465Z"
      },
      {
        "duration": 29,
        "start_time": "2024-03-22T14:32:26.479Z"
      },
      {
        "duration": 123,
        "start_time": "2024-03-22T14:32:26.510Z"
      },
      {
        "duration": 161,
        "start_time": "2024-03-22T14:32:26.635Z"
      },
      {
        "duration": 5,
        "start_time": "2024-03-22T14:32:26.797Z"
      },
      {
        "duration": 21,
        "start_time": "2024-03-22T14:32:26.804Z"
      },
      {
        "duration": 40,
        "start_time": "2024-03-22T14:32:26.826Z"
      },
      {
        "duration": 22,
        "start_time": "2024-03-22T14:32:26.867Z"
      },
      {
        "duration": 5,
        "start_time": "2024-03-22T14:32:26.890Z"
      },
      {
        "duration": 15,
        "start_time": "2024-03-22T14:32:26.897Z"
      },
      {
        "duration": 20,
        "start_time": "2024-03-22T14:32:26.914Z"
      },
      {
        "duration": 50,
        "start_time": "2024-03-22T14:32:26.935Z"
      },
      {
        "duration": 20,
        "start_time": "2024-03-22T14:32:26.986Z"
      },
      {
        "duration": 13,
        "start_time": "2024-03-22T14:32:27.008Z"
      },
      {
        "duration": 15,
        "start_time": "2024-03-22T14:32:27.022Z"
      },
      {
        "duration": 48,
        "start_time": "2024-03-22T14:32:27.038Z"
      },
      {
        "duration": 15,
        "start_time": "2024-03-22T14:32:27.088Z"
      },
      {
        "duration": 14,
        "start_time": "2024-03-22T14:32:27.105Z"
      },
      {
        "duration": 52,
        "start_time": "2024-03-22T14:32:27.120Z"
      },
      {
        "duration": 20,
        "start_time": "2024-03-22T14:32:27.173Z"
      },
      {
        "duration": 14,
        "start_time": "2024-03-22T14:32:27.195Z"
      },
      {
        "duration": 6,
        "start_time": "2024-03-22T14:32:27.210Z"
      },
      {
        "duration": 15,
        "start_time": "2024-03-22T14:32:27.217Z"
      },
      {
        "duration": 32,
        "start_time": "2024-03-22T14:32:27.233Z"
      },
      {
        "duration": 38,
        "start_time": "2024-03-22T14:32:27.267Z"
      },
      {
        "duration": 59,
        "start_time": "2024-03-22T14:32:27.307Z"
      },
      {
        "duration": 35,
        "start_time": "2024-03-22T14:32:27.367Z"
      },
      {
        "duration": 33,
        "start_time": "2024-03-22T14:32:27.404Z"
      }
    ],
    "kernelspec": {
      "display_name": "Python 3 (ipykernel)",
      "language": "python",
      "name": "python3"
    },
    "language_info": {
      "codemirror_mode": {
        "name": "ipython",
        "version": 3
      },
      "file_extension": ".py",
      "mimetype": "text/x-python",
      "name": "python",
      "nbconvert_exporter": "python",
      "pygments_lexer": "ipython3",
      "version": "3.9.5"
    },
    "toc": {
      "base_numbering": 1,
      "nav_menu": {},
      "number_sections": true,
      "sideBar": true,
      "skip_h1_title": true,
      "title_cell": "Table of Contents",
      "title_sidebar": "Contents",
      "toc_cell": false,
      "toc_position": {
        "height": "calc(100% - 180px)",
        "left": "10px",
        "top": "150px",
        "width": "319.875px"
      },
      "toc_section_display": true,
      "toc_window_display": true
    },
    "colab": {
      "provenance": []
    }
  },
  "nbformat": 4,
  "nbformat_minor": 0
}