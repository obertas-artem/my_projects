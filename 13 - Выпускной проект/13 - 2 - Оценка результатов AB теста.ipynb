{
 "cells": [
  {
   "cell_type": "markdown",
   "metadata": {},
   "source": [
    "# Проект по А/B-тестированию"
   ]
  },
  {
   "cell_type": "markdown",
   "metadata": {},
   "source": [
    "## Постановка задачи\n",
    "Ваша задача — провести оценку результатов A/B-теста. В вашем распоряжении есть датасет с действиями пользователей, техническое задание и несколько вспомогательных датасетов. \n",
    "\n",
    "Оцените корректность проведения теста и проанализируйте его результаты. Чтобы оценить корректность проведения теста:\n",
    "* удостоверьтесь, что нет пересечений с конкурирующим тестом и нет пользователей, участвующих в двух группах теста одновременно;\n",
    "* проверьте равномерность распределения пользователей по тестовым группам и правильность их формирования.\n",
    "\n",
    "\n",
    "Подробнее об этом мы рассказываем в разделе «Как выполнить задание» в конце урока."
   ]
  },
  {
   "cell_type": "markdown",
   "metadata": {},
   "source": [
    "## Техническое задание\n",
    "* Название теста: `recommender_system_test` ;\n",
    "* Группы: `А (контрольная)`, `B (новая платёжная воронка)`;\n",
    "* Дата запуска: `2020-12-07`;\n",
    "* Дата остановки набора новых пользователей: `2020-12-21`;\n",
    "* Дата остановки: `2021-01-04`;\n",
    "* Ожидаемое количество участников теста: `15% `новых пользователей из региона `EU`;\n",
    "* Назначение теста: тестирование изменений, связанных с внедрением улучшенной рекомендательной системы;\n",
    "* Ожидаемый эффект: за `14 дней` с момента регистрации в системе пользователи покажут улучшение каждой метрики не менее, чем на `5 процентных пунктов`:\n",
    "    * конверсии в просмотр карточек товаров — событие `product_page`\n",
    "    * просмотры корзины — `product_cart`\n",
    "    * покупки — `purchase`."
   ]
  },
  {
   "cell_type": "markdown",
   "metadata": {},
   "source": [
    "## Описание данных\n",
    "\n",
    "`/datasets/ab_project_marketing_events.csv` — календарь маркетинговых событий на 2020 год; Структура файла:\n",
    "* `name` — название маркетингового события;\n",
    "* `regions` — регионы, в которых будет проводиться рекламная кампания;\n",
    "* `start_dt` — дата начала кампании;\n",
    "* `finish_dt` — дата завершения кампании.\n",
    "\n",
    "\n",
    "`/datasets/final_ab_new_users.csv` — все пользователи, зарегистрировавшиеся в интернет-магазине в период с 7 по 21 декабря 2020 года; Структура файла:\n",
    "- `user_id` — идентификатор пользователя;\n",
    "- `first_date` — дата регистрации;\n",
    "- `region` — регион пользователя;\n",
    "- `device` — устройство, с которого происходила регистрация.\n",
    "\n",
    "\n",
    "`/datasets/final_ab_events.csv` — все события новых пользователей в период с 7 декабря 2020 по 4 января 2021 года; Структура файла:\n",
    "- `user_id` — идентификатор пользователя;\n",
    "- `event_dt` — дата и время события;\n",
    "- `event_name` — тип события;\n",
    "- `details` — дополнительные данные о событии. Например, для покупок, purchase , в этом поле хранится стоимость покупки в долларах.\n",
    "\n",
    "`/datasets/final_ab_participants.csv` — таблица участников тестов. Структура файла:\n",
    "- `user_id` — идентификатор пользователя;\n",
    "- `ab_test` — название теста;\n",
    "- `group` — группа пользователя."
   ]
  },
  {
   "cell_type": "markdown",
   "metadata": {},
   "source": [
    "## Декомпозиция\n",
    "\n",
    "Цели исследования - провести оценку результатов A/B-теста. Чтобы оценить корректность проведения теста:\n",
    "\n",
    "- удостоверьтесь, что нет пересечений с конкурирующим тестом и нет пользователей, участвующих в двух группах теста одновременно;\n",
    "- проверьте равномерность распределения пользователей по тестовым группам и правильность их формирования.\n",
    "\n",
    "1) Загрузка и знакомство с данными\n",
    "\n",
    "2. Предобработка данных\n",
    "* 1) Преобразование типов данных\n",
    "* 2) Пропуски\n",
    "\n",
    "\n",
    "3) Оцените корректность проведения теста\n",
    "* 1) Проверка на соответствие данных требованиям технического задания. \n",
    "* 2) Проверка времени проведения теста. (Убедитесь, что оно не совпадает с маркетинговыми и другими активностями.)\n",
    "* 3) Проверка на аудиторию теста (Удостоверьтесь, что нет пересечений с конкурирующим тестом и нет пользователей, участвующих в двух группах теста одновременно. Проверьте равномерность распределения по тестовым группам и правильность их формирования.)\n",
    "\n",
    "4) Исследовательский анализ данных\n",
    "- 1) Количество событий на пользователя одинаково распределены в выборках?\n",
    "- 2) Как число событий в выборках распределено по дням?\n",
    "- 3) Как меняется конверсия в воронке в выборках на разных этапах?\n",
    "\n",
    "\n",
    "\n",
    "5) Оцените результаты A/B-тестирования\n",
    "- 1) Что можно сказать про результаты A/В-тестирования?\n",
    "- 2) Проверьте статистическую разницу долей z-критерием.\n",
    "\n",
    "\n",
    "6) Опишите выводы по этапу исследовательского анализа данных и по проведённой оценке результатов A/B-тестирования. Сделайте общее заключение о корректности проведения теста."
   ]
  },
  {
   "cell_type": "markdown",
   "metadata": {},
   "source": [
    "## Импорт библиотек и настроек"
   ]
  },
  {
   "cell_type": "code",
   "execution_count": 1,
   "metadata": {},
   "outputs": [],
   "source": [
    "import warnings\n",
    "warnings.simplefilter('ignore')\n",
    "\n",
    "\n",
    "import pandas as pd\n",
    "import matplotlib.pyplot as plt\n",
    "import seaborn as sns\n",
    "import plotly.express as px\n",
    "import plotly.graph_objects as go\n",
    "from pylab import rcParams\n",
    "import math as mth\n",
    "import scipy.stats as st\n",
    "\n",
    "\n",
    "%config InlineBackend.figure_format = 'svg'\n",
    "sns.set_theme(style='whitegrid')\n",
    "\n",
    "\n",
    "pd.set_option(\"display.max_rows\", None)\n",
    "pd.set_option('display.max_colwidth', 0)\n",
    "pd.options.display.float_format = '{:.2f}'.format\n",
    "\n",
    "\n",
    "%matplotlib inline\n",
    "rcParams['figure.figsize'] =10, 5"
   ]
  },
  {
   "cell_type": "markdown",
   "metadata": {},
   "source": [
    "## Шаг 1. Загрузка и знакомство с данными"
   ]
  },
  {
   "cell_type": "code",
   "execution_count": 2,
   "metadata": {},
   "outputs": [],
   "source": [
    "df_marketing_events = pd.read_csv('https://code.s3.yandex.net/datasets/ab_project_marketing_events.csv')\n",
    "df_new_users = pd.read_csv('https://code.s3.yandex.net/datasets/final_ab_new_users.csv')\n",
    "df_events = pd.read_csv('https://code.s3.yandex.net/datasets/final_ab_events.csv')\n",
    "df_participants = pd.read_csv('https://code.s3.yandex.net/datasets/final_ab_participants.csv')"
   ]
  },
  {
   "cell_type": "code",
   "execution_count": 3,
   "metadata": {},
   "outputs": [],
   "source": [
    "#Напишем функцию, чтобы быстро познакомиться с данными:\n",
    "def df_first_glance(df):\n",
    "    print('Пять рандомных строк:')\n",
    "    display(df.sample(5))\n",
    "    print('\\n')\n",
    "    print('Информация по датафрейму:')\n",
    "    display(df.info())\n",
    "    display('Колличество очевидных дубликатов равно: {:}'.format(df.duplicated().sum()))\n",
    "    print('\\n')\n",
    "    display('Таблица с пропусками:')\n",
    "    display(\n",
    "    pd.concat(\n",
    "    [df.isna().sum().to_frame().rename(columns = {0:'Количество пропусков'}),\n",
    "    round((df.isna().mean().to_frame()*100).rename(columns = {0:'Процент пропусков'}), 2),\n",
    "    df.dtypes.to_frame().rename(columns = {0:'Тип данных'})], axis=1))"
   ]
  },
  {
   "cell_type": "code",
   "execution_count": 4,
   "metadata": {},
   "outputs": [
    {
     "name": "stdout",
     "output_type": "stream",
     "text": [
      "Пять рандомных строк:\n"
     ]
    },
    {
     "data": {
      "text/html": [
       "<div>\n",
       "<style scoped>\n",
       "    .dataframe tbody tr th:only-of-type {\n",
       "        vertical-align: middle;\n",
       "    }\n",
       "\n",
       "    .dataframe tbody tr th {\n",
       "        vertical-align: top;\n",
       "    }\n",
       "\n",
       "    .dataframe thead th {\n",
       "        text-align: right;\n",
       "    }\n",
       "</style>\n",
       "<table border=\"1\" class=\"dataframe\">\n",
       "  <thead>\n",
       "    <tr style=\"text-align: right;\">\n",
       "      <th></th>\n",
       "      <th>name</th>\n",
       "      <th>regions</th>\n",
       "      <th>start_dt</th>\n",
       "      <th>finish_dt</th>\n",
       "    </tr>\n",
       "  </thead>\n",
       "  <tbody>\n",
       "    <tr>\n",
       "      <th>11</th>\n",
       "      <td>Dragon Boat Festival Giveaway</td>\n",
       "      <td>APAC</td>\n",
       "      <td>2020-06-25</td>\n",
       "      <td>2020-07-01</td>\n",
       "    </tr>\n",
       "    <tr>\n",
       "      <th>4</th>\n",
       "      <td>4th of July Promo</td>\n",
       "      <td>N.America</td>\n",
       "      <td>2020-07-04</td>\n",
       "      <td>2020-07-11</td>\n",
       "    </tr>\n",
       "    <tr>\n",
       "      <th>8</th>\n",
       "      <td>International Women's Day Promo</td>\n",
       "      <td>EU, CIS, APAC</td>\n",
       "      <td>2020-03-08</td>\n",
       "      <td>2020-03-10</td>\n",
       "    </tr>\n",
       "    <tr>\n",
       "      <th>7</th>\n",
       "      <td>Labor day (May 1st) Ads Campaign</td>\n",
       "      <td>EU, CIS, APAC</td>\n",
       "      <td>2020-05-01</td>\n",
       "      <td>2020-05-03</td>\n",
       "    </tr>\n",
       "    <tr>\n",
       "      <th>13</th>\n",
       "      <td>Chinese Moon Festival</td>\n",
       "      <td>APAC</td>\n",
       "      <td>2020-10-01</td>\n",
       "      <td>2020-10-07</td>\n",
       "    </tr>\n",
       "  </tbody>\n",
       "</table>\n",
       "</div>"
      ],
      "text/plain": [
       "                                name        regions    start_dt   finish_dt\n",
       "11  Dragon Boat Festival Giveaway     APAC           2020-06-25  2020-07-01\n",
       "4   4th of July Promo                 N.America      2020-07-04  2020-07-11\n",
       "8   International Women's Day Promo   EU, CIS, APAC  2020-03-08  2020-03-10\n",
       "7   Labor day (May 1st) Ads Campaign  EU, CIS, APAC  2020-05-01  2020-05-03\n",
       "13  Chinese Moon Festival             APAC           2020-10-01  2020-10-07"
      ]
     },
     "metadata": {},
     "output_type": "display_data"
    },
    {
     "name": "stdout",
     "output_type": "stream",
     "text": [
      "\n",
      "\n",
      "Информация по датафрейму:\n",
      "<class 'pandas.core.frame.DataFrame'>\n",
      "RangeIndex: 14 entries, 0 to 13\n",
      "Data columns (total 4 columns):\n",
      " #   Column     Non-Null Count  Dtype \n",
      "---  ------     --------------  ----- \n",
      " 0   name       14 non-null     object\n",
      " 1   regions    14 non-null     object\n",
      " 2   start_dt   14 non-null     object\n",
      " 3   finish_dt  14 non-null     object\n",
      "dtypes: object(4)\n",
      "memory usage: 576.0+ bytes\n"
     ]
    },
    {
     "data": {
      "text/plain": [
       "None"
      ]
     },
     "metadata": {},
     "output_type": "display_data"
    },
    {
     "data": {
      "text/plain": [
       "'Колличество очевидных дубликатов равно: 0'"
      ]
     },
     "metadata": {},
     "output_type": "display_data"
    },
    {
     "name": "stdout",
     "output_type": "stream",
     "text": [
      "\n",
      "\n"
     ]
    },
    {
     "data": {
      "text/plain": [
       "'Таблица с пропусками:'"
      ]
     },
     "metadata": {},
     "output_type": "display_data"
    },
    {
     "data": {
      "text/html": [
       "<div>\n",
       "<style scoped>\n",
       "    .dataframe tbody tr th:only-of-type {\n",
       "        vertical-align: middle;\n",
       "    }\n",
       "\n",
       "    .dataframe tbody tr th {\n",
       "        vertical-align: top;\n",
       "    }\n",
       "\n",
       "    .dataframe thead th {\n",
       "        text-align: right;\n",
       "    }\n",
       "</style>\n",
       "<table border=\"1\" class=\"dataframe\">\n",
       "  <thead>\n",
       "    <tr style=\"text-align: right;\">\n",
       "      <th></th>\n",
       "      <th>Количество пропусков</th>\n",
       "      <th>Процент пропусков</th>\n",
       "      <th>Тип данных</th>\n",
       "    </tr>\n",
       "  </thead>\n",
       "  <tbody>\n",
       "    <tr>\n",
       "      <th>name</th>\n",
       "      <td>0</td>\n",
       "      <td>0.00</td>\n",
       "      <td>object</td>\n",
       "    </tr>\n",
       "    <tr>\n",
       "      <th>regions</th>\n",
       "      <td>0</td>\n",
       "      <td>0.00</td>\n",
       "      <td>object</td>\n",
       "    </tr>\n",
       "    <tr>\n",
       "      <th>start_dt</th>\n",
       "      <td>0</td>\n",
       "      <td>0.00</td>\n",
       "      <td>object</td>\n",
       "    </tr>\n",
       "    <tr>\n",
       "      <th>finish_dt</th>\n",
       "      <td>0</td>\n",
       "      <td>0.00</td>\n",
       "      <td>object</td>\n",
       "    </tr>\n",
       "  </tbody>\n",
       "</table>\n",
       "</div>"
      ],
      "text/plain": [
       "           Количество пропусков  Процент пропусков Тип данных\n",
       "name       0                    0.00                object   \n",
       "regions    0                    0.00                object   \n",
       "start_dt   0                    0.00                object   \n",
       "finish_dt  0                    0.00                object   "
      ]
     },
     "metadata": {},
     "output_type": "display_data"
    }
   ],
   "source": [
    "#первый датафрейм\n",
    "df_first_glance(df_marketing_events)"
   ]
  },
  {
   "cell_type": "code",
   "execution_count": 5,
   "metadata": {},
   "outputs": [
    {
     "name": "stdout",
     "output_type": "stream",
     "text": [
      "Пять рандомных строк:\n"
     ]
    },
    {
     "data": {
      "text/html": [
       "<div>\n",
       "<style scoped>\n",
       "    .dataframe tbody tr th:only-of-type {\n",
       "        vertical-align: middle;\n",
       "    }\n",
       "\n",
       "    .dataframe tbody tr th {\n",
       "        vertical-align: top;\n",
       "    }\n",
       "\n",
       "    .dataframe thead th {\n",
       "        text-align: right;\n",
       "    }\n",
       "</style>\n",
       "<table border=\"1\" class=\"dataframe\">\n",
       "  <thead>\n",
       "    <tr style=\"text-align: right;\">\n",
       "      <th></th>\n",
       "      <th>user_id</th>\n",
       "      <th>first_date</th>\n",
       "      <th>region</th>\n",
       "      <th>device</th>\n",
       "    </tr>\n",
       "  </thead>\n",
       "  <tbody>\n",
       "    <tr>\n",
       "      <th>8603</th>\n",
       "      <td>1E1BDC0A82CE24E2</td>\n",
       "      <td>2020-12-14</td>\n",
       "      <td>EU</td>\n",
       "      <td>iPhone</td>\n",
       "    </tr>\n",
       "    <tr>\n",
       "      <th>2483</th>\n",
       "      <td>7FC626669C07C393</td>\n",
       "      <td>2020-12-07</td>\n",
       "      <td>EU</td>\n",
       "      <td>iPhone</td>\n",
       "    </tr>\n",
       "    <tr>\n",
       "      <th>42348</th>\n",
       "      <td>8FA915CDB5994BDC</td>\n",
       "      <td>2020-12-18</td>\n",
       "      <td>EU</td>\n",
       "      <td>Android</td>\n",
       "    </tr>\n",
       "    <tr>\n",
       "      <th>22967</th>\n",
       "      <td>5543CE8C1906370E</td>\n",
       "      <td>2020-12-15</td>\n",
       "      <td>CIS</td>\n",
       "      <td>iPhone</td>\n",
       "    </tr>\n",
       "    <tr>\n",
       "      <th>19065</th>\n",
       "      <td>B8513F94FE8ADB43</td>\n",
       "      <td>2020-12-08</td>\n",
       "      <td>EU</td>\n",
       "      <td>Android</td>\n",
       "    </tr>\n",
       "  </tbody>\n",
       "</table>\n",
       "</div>"
      ],
      "text/plain": [
       "                user_id  first_date region   device\n",
       "8603   1E1BDC0A82CE24E2  2020-12-14  EU     iPhone \n",
       "2483   7FC626669C07C393  2020-12-07  EU     iPhone \n",
       "42348  8FA915CDB5994BDC  2020-12-18  EU     Android\n",
       "22967  5543CE8C1906370E  2020-12-15  CIS    iPhone \n",
       "19065  B8513F94FE8ADB43  2020-12-08  EU     Android"
      ]
     },
     "metadata": {},
     "output_type": "display_data"
    },
    {
     "name": "stdout",
     "output_type": "stream",
     "text": [
      "\n",
      "\n",
      "Информация по датафрейму:\n",
      "<class 'pandas.core.frame.DataFrame'>\n",
      "RangeIndex: 61733 entries, 0 to 61732\n",
      "Data columns (total 4 columns):\n",
      " #   Column      Non-Null Count  Dtype \n",
      "---  ------      --------------  ----- \n",
      " 0   user_id     61733 non-null  object\n",
      " 1   first_date  61733 non-null  object\n",
      " 2   region      61733 non-null  object\n",
      " 3   device      61733 non-null  object\n",
      "dtypes: object(4)\n",
      "memory usage: 1.9+ MB\n"
     ]
    },
    {
     "data": {
      "text/plain": [
       "None"
      ]
     },
     "metadata": {},
     "output_type": "display_data"
    },
    {
     "data": {
      "text/plain": [
       "'Колличество очевидных дубликатов равно: 0'"
      ]
     },
     "metadata": {},
     "output_type": "display_data"
    },
    {
     "name": "stdout",
     "output_type": "stream",
     "text": [
      "\n",
      "\n"
     ]
    },
    {
     "data": {
      "text/plain": [
       "'Таблица с пропусками:'"
      ]
     },
     "metadata": {},
     "output_type": "display_data"
    },
    {
     "data": {
      "text/html": [
       "<div>\n",
       "<style scoped>\n",
       "    .dataframe tbody tr th:only-of-type {\n",
       "        vertical-align: middle;\n",
       "    }\n",
       "\n",
       "    .dataframe tbody tr th {\n",
       "        vertical-align: top;\n",
       "    }\n",
       "\n",
       "    .dataframe thead th {\n",
       "        text-align: right;\n",
       "    }\n",
       "</style>\n",
       "<table border=\"1\" class=\"dataframe\">\n",
       "  <thead>\n",
       "    <tr style=\"text-align: right;\">\n",
       "      <th></th>\n",
       "      <th>Количество пропусков</th>\n",
       "      <th>Процент пропусков</th>\n",
       "      <th>Тип данных</th>\n",
       "    </tr>\n",
       "  </thead>\n",
       "  <tbody>\n",
       "    <tr>\n",
       "      <th>user_id</th>\n",
       "      <td>0</td>\n",
       "      <td>0.00</td>\n",
       "      <td>object</td>\n",
       "    </tr>\n",
       "    <tr>\n",
       "      <th>first_date</th>\n",
       "      <td>0</td>\n",
       "      <td>0.00</td>\n",
       "      <td>object</td>\n",
       "    </tr>\n",
       "    <tr>\n",
       "      <th>region</th>\n",
       "      <td>0</td>\n",
       "      <td>0.00</td>\n",
       "      <td>object</td>\n",
       "    </tr>\n",
       "    <tr>\n",
       "      <th>device</th>\n",
       "      <td>0</td>\n",
       "      <td>0.00</td>\n",
       "      <td>object</td>\n",
       "    </tr>\n",
       "  </tbody>\n",
       "</table>\n",
       "</div>"
      ],
      "text/plain": [
       "            Количество пропусков  Процент пропусков Тип данных\n",
       "user_id     0                    0.00                object   \n",
       "first_date  0                    0.00                object   \n",
       "region      0                    0.00                object   \n",
       "device      0                    0.00                object   "
      ]
     },
     "metadata": {},
     "output_type": "display_data"
    }
   ],
   "source": [
    "# второй датафрейм\n",
    "df_first_glance(df_new_users)"
   ]
  },
  {
   "cell_type": "code",
   "execution_count": 6,
   "metadata": {},
   "outputs": [
    {
     "name": "stdout",
     "output_type": "stream",
     "text": [
      "Пять рандомных строк:\n"
     ]
    },
    {
     "data": {
      "text/html": [
       "<div>\n",
       "<style scoped>\n",
       "    .dataframe tbody tr th:only-of-type {\n",
       "        vertical-align: middle;\n",
       "    }\n",
       "\n",
       "    .dataframe tbody tr th {\n",
       "        vertical-align: top;\n",
       "    }\n",
       "\n",
       "    .dataframe thead th {\n",
       "        text-align: right;\n",
       "    }\n",
       "</style>\n",
       "<table border=\"1\" class=\"dataframe\">\n",
       "  <thead>\n",
       "    <tr style=\"text-align: right;\">\n",
       "      <th></th>\n",
       "      <th>user_id</th>\n",
       "      <th>event_dt</th>\n",
       "      <th>event_name</th>\n",
       "      <th>details</th>\n",
       "    </tr>\n",
       "  </thead>\n",
       "  <tbody>\n",
       "    <tr>\n",
       "      <th>323915</th>\n",
       "      <td>01D15C6A66DD7F55</td>\n",
       "      <td>2020-12-16 17:30:44</td>\n",
       "      <td>login</td>\n",
       "      <td>NaN</td>\n",
       "    </tr>\n",
       "    <tr>\n",
       "      <th>69711</th>\n",
       "      <td>4ACB15B104C482DD</td>\n",
       "      <td>2020-12-10 01:15:04</td>\n",
       "      <td>product_cart</td>\n",
       "      <td>NaN</td>\n",
       "    </tr>\n",
       "    <tr>\n",
       "      <th>147827</th>\n",
       "      <td>AAFB42F48563B90D</td>\n",
       "      <td>2020-12-12 01:02:01</td>\n",
       "      <td>product_page</td>\n",
       "      <td>NaN</td>\n",
       "    </tr>\n",
       "    <tr>\n",
       "      <th>410140</th>\n",
       "      <td>9F86ACBB923AC867</td>\n",
       "      <td>2020-12-24 10:06:57</td>\n",
       "      <td>login</td>\n",
       "      <td>NaN</td>\n",
       "    </tr>\n",
       "    <tr>\n",
       "      <th>298412</th>\n",
       "      <td>88EEB8C6C37A0521</td>\n",
       "      <td>2020-12-14 23:58:21</td>\n",
       "      <td>login</td>\n",
       "      <td>NaN</td>\n",
       "    </tr>\n",
       "  </tbody>\n",
       "</table>\n",
       "</div>"
      ],
      "text/plain": [
       "                 user_id             event_dt    event_name  details\n",
       "323915  01D15C6A66DD7F55  2020-12-16 17:30:44  login        NaN     \n",
       "69711   4ACB15B104C482DD  2020-12-10 01:15:04  product_cart NaN     \n",
       "147827  AAFB42F48563B90D  2020-12-12 01:02:01  product_page NaN     \n",
       "410140  9F86ACBB923AC867  2020-12-24 10:06:57  login        NaN     \n",
       "298412  88EEB8C6C37A0521  2020-12-14 23:58:21  login        NaN     "
      ]
     },
     "metadata": {},
     "output_type": "display_data"
    },
    {
     "name": "stdout",
     "output_type": "stream",
     "text": [
      "\n",
      "\n",
      "Информация по датафрейму:\n",
      "<class 'pandas.core.frame.DataFrame'>\n",
      "RangeIndex: 440317 entries, 0 to 440316\n",
      "Data columns (total 4 columns):\n",
      " #   Column      Non-Null Count   Dtype  \n",
      "---  ------      --------------   -----  \n",
      " 0   user_id     440317 non-null  object \n",
      " 1   event_dt    440317 non-null  object \n",
      " 2   event_name  440317 non-null  object \n",
      " 3   details     62740 non-null   float64\n",
      "dtypes: float64(1), object(3)\n",
      "memory usage: 13.4+ MB\n"
     ]
    },
    {
     "data": {
      "text/plain": [
       "None"
      ]
     },
     "metadata": {},
     "output_type": "display_data"
    },
    {
     "data": {
      "text/plain": [
       "'Колличество очевидных дубликатов равно: 0'"
      ]
     },
     "metadata": {},
     "output_type": "display_data"
    },
    {
     "name": "stdout",
     "output_type": "stream",
     "text": [
      "\n",
      "\n"
     ]
    },
    {
     "data": {
      "text/plain": [
       "'Таблица с пропусками:'"
      ]
     },
     "metadata": {},
     "output_type": "display_data"
    },
    {
     "data": {
      "text/html": [
       "<div>\n",
       "<style scoped>\n",
       "    .dataframe tbody tr th:only-of-type {\n",
       "        vertical-align: middle;\n",
       "    }\n",
       "\n",
       "    .dataframe tbody tr th {\n",
       "        vertical-align: top;\n",
       "    }\n",
       "\n",
       "    .dataframe thead th {\n",
       "        text-align: right;\n",
       "    }\n",
       "</style>\n",
       "<table border=\"1\" class=\"dataframe\">\n",
       "  <thead>\n",
       "    <tr style=\"text-align: right;\">\n",
       "      <th></th>\n",
       "      <th>Количество пропусков</th>\n",
       "      <th>Процент пропусков</th>\n",
       "      <th>Тип данных</th>\n",
       "    </tr>\n",
       "  </thead>\n",
       "  <tbody>\n",
       "    <tr>\n",
       "      <th>user_id</th>\n",
       "      <td>0</td>\n",
       "      <td>0.00</td>\n",
       "      <td>object</td>\n",
       "    </tr>\n",
       "    <tr>\n",
       "      <th>event_dt</th>\n",
       "      <td>0</td>\n",
       "      <td>0.00</td>\n",
       "      <td>object</td>\n",
       "    </tr>\n",
       "    <tr>\n",
       "      <th>event_name</th>\n",
       "      <td>0</td>\n",
       "      <td>0.00</td>\n",
       "      <td>object</td>\n",
       "    </tr>\n",
       "    <tr>\n",
       "      <th>details</th>\n",
       "      <td>377577</td>\n",
       "      <td>85.75</td>\n",
       "      <td>float64</td>\n",
       "    </tr>\n",
       "  </tbody>\n",
       "</table>\n",
       "</div>"
      ],
      "text/plain": [
       "            Количество пропусков  Процент пропусков Тип данных\n",
       "user_id     0                    0.00                object   \n",
       "event_dt    0                    0.00                object   \n",
       "event_name  0                    0.00                object   \n",
       "details     377577               85.75               float64  "
      ]
     },
     "metadata": {},
     "output_type": "display_data"
    }
   ],
   "source": [
    "# третий датафрейм\n",
    "df_first_glance(df_events)"
   ]
  },
  {
   "cell_type": "code",
   "execution_count": 7,
   "metadata": {},
   "outputs": [
    {
     "name": "stdout",
     "output_type": "stream",
     "text": [
      "Пять рандомных строк:\n"
     ]
    },
    {
     "data": {
      "text/html": [
       "<div>\n",
       "<style scoped>\n",
       "    .dataframe tbody tr th:only-of-type {\n",
       "        vertical-align: middle;\n",
       "    }\n",
       "\n",
       "    .dataframe tbody tr th {\n",
       "        vertical-align: top;\n",
       "    }\n",
       "\n",
       "    .dataframe thead th {\n",
       "        text-align: right;\n",
       "    }\n",
       "</style>\n",
       "<table border=\"1\" class=\"dataframe\">\n",
       "  <thead>\n",
       "    <tr style=\"text-align: right;\">\n",
       "      <th></th>\n",
       "      <th>user_id</th>\n",
       "      <th>group</th>\n",
       "      <th>ab_test</th>\n",
       "    </tr>\n",
       "  </thead>\n",
       "  <tbody>\n",
       "    <tr>\n",
       "      <th>1767</th>\n",
       "      <td>B76BA09B212F7634</td>\n",
       "      <td>B</td>\n",
       "      <td>recommender_system_test</td>\n",
       "    </tr>\n",
       "    <tr>\n",
       "      <th>1968</th>\n",
       "      <td>90A51063E6E0F79D</td>\n",
       "      <td>B</td>\n",
       "      <td>recommender_system_test</td>\n",
       "    </tr>\n",
       "    <tr>\n",
       "      <th>15077</th>\n",
       "      <td>0225732DCD0EDEED</td>\n",
       "      <td>B</td>\n",
       "      <td>interface_eu_test</td>\n",
       "    </tr>\n",
       "    <tr>\n",
       "      <th>6191</th>\n",
       "      <td>CC7E8C8A0D2EEEAD</td>\n",
       "      <td>B</td>\n",
       "      <td>recommender_system_test</td>\n",
       "    </tr>\n",
       "    <tr>\n",
       "      <th>5314</th>\n",
       "      <td>50AA33C3098BDDE2</td>\n",
       "      <td>A</td>\n",
       "      <td>recommender_system_test</td>\n",
       "    </tr>\n",
       "  </tbody>\n",
       "</table>\n",
       "</div>"
      ],
      "text/plain": [
       "                user_id group                  ab_test\n",
       "1767   B76BA09B212F7634  B     recommender_system_test\n",
       "1968   90A51063E6E0F79D  B     recommender_system_test\n",
       "15077  0225732DCD0EDEED  B     interface_eu_test      \n",
       "6191   CC7E8C8A0D2EEEAD  B     recommender_system_test\n",
       "5314   50AA33C3098BDDE2  A     recommender_system_test"
      ]
     },
     "metadata": {},
     "output_type": "display_data"
    },
    {
     "name": "stdout",
     "output_type": "stream",
     "text": [
      "\n",
      "\n",
      "Информация по датафрейму:\n",
      "<class 'pandas.core.frame.DataFrame'>\n",
      "RangeIndex: 18268 entries, 0 to 18267\n",
      "Data columns (total 3 columns):\n",
      " #   Column   Non-Null Count  Dtype \n",
      "---  ------   --------------  ----- \n",
      " 0   user_id  18268 non-null  object\n",
      " 1   group    18268 non-null  object\n",
      " 2   ab_test  18268 non-null  object\n",
      "dtypes: object(3)\n",
      "memory usage: 428.3+ KB\n"
     ]
    },
    {
     "data": {
      "text/plain": [
       "None"
      ]
     },
     "metadata": {},
     "output_type": "display_data"
    },
    {
     "data": {
      "text/plain": [
       "'Колличество очевидных дубликатов равно: 0'"
      ]
     },
     "metadata": {},
     "output_type": "display_data"
    },
    {
     "name": "stdout",
     "output_type": "stream",
     "text": [
      "\n",
      "\n"
     ]
    },
    {
     "data": {
      "text/plain": [
       "'Таблица с пропусками:'"
      ]
     },
     "metadata": {},
     "output_type": "display_data"
    },
    {
     "data": {
      "text/html": [
       "<div>\n",
       "<style scoped>\n",
       "    .dataframe tbody tr th:only-of-type {\n",
       "        vertical-align: middle;\n",
       "    }\n",
       "\n",
       "    .dataframe tbody tr th {\n",
       "        vertical-align: top;\n",
       "    }\n",
       "\n",
       "    .dataframe thead th {\n",
       "        text-align: right;\n",
       "    }\n",
       "</style>\n",
       "<table border=\"1\" class=\"dataframe\">\n",
       "  <thead>\n",
       "    <tr style=\"text-align: right;\">\n",
       "      <th></th>\n",
       "      <th>Количество пропусков</th>\n",
       "      <th>Процент пропусков</th>\n",
       "      <th>Тип данных</th>\n",
       "    </tr>\n",
       "  </thead>\n",
       "  <tbody>\n",
       "    <tr>\n",
       "      <th>user_id</th>\n",
       "      <td>0</td>\n",
       "      <td>0.00</td>\n",
       "      <td>object</td>\n",
       "    </tr>\n",
       "    <tr>\n",
       "      <th>group</th>\n",
       "      <td>0</td>\n",
       "      <td>0.00</td>\n",
       "      <td>object</td>\n",
       "    </tr>\n",
       "    <tr>\n",
       "      <th>ab_test</th>\n",
       "      <td>0</td>\n",
       "      <td>0.00</td>\n",
       "      <td>object</td>\n",
       "    </tr>\n",
       "  </tbody>\n",
       "</table>\n",
       "</div>"
      ],
      "text/plain": [
       "         Количество пропусков  Процент пропусков Тип данных\n",
       "user_id  0                    0.00                object   \n",
       "group    0                    0.00                object   \n",
       "ab_test  0                    0.00                object   "
      ]
     },
     "metadata": {},
     "output_type": "display_data"
    }
   ],
   "source": [
    "# четвертый датафрейм\n",
    "\n",
    "df_first_glance(df_participants)"
   ]
  },
  {
   "cell_type": "markdown",
   "metadata": {},
   "source": [
    "### Резюмируем \n",
    "* Во всех датафреймах нужно поменять тип данных в столбцах, отвечающих за время \n",
    "* Ни в одном датафрейме нет явных дубликатов\n",
    "* В датафрейме `df_events` большая доля пропусков - `85.75%`"
   ]
  },
  {
   "cell_type": "markdown",
   "metadata": {},
   "source": [
    "## Шаг 2. Предобработка данных"
   ]
  },
  {
   "cell_type": "markdown",
   "metadata": {},
   "source": [
    "### 2.1 Преобразование типов данных"
   ]
  },
  {
   "cell_type": "code",
   "execution_count": 8,
   "metadata": {},
   "outputs": [],
   "source": [
    "# поменяем тип данных, отвечающих за время\n",
    "df_events['event_dt'] = pd.to_datetime(df_events['event_dt'], format='%Y-%m-%d %H:%M:%S')\n",
    "df_new_users['first_date'] = pd.to_datetime(df_new_users['first_date'], format='%Y-%m-%d')\n",
    "df_marketing_events['start_dt'] = pd.to_datetime(df_marketing_events['start_dt'], format='%Y-%m-%d')\n",
    "df_marketing_events['finish_dt'] = pd.to_datetime(df_marketing_events['finish_dt'], format='%Y-%m-%d')\n"
   ]
  },
  {
   "cell_type": "markdown",
   "metadata": {},
   "source": [
    "### 2.2 Изучение пропусков в датафрейме `final_ab_events`"
   ]
  },
  {
   "cell_type": "code",
   "execution_count": 9,
   "metadata": {},
   "outputs": [
    {
     "data": {
      "text/plain": [
       "purchase    62740\n",
       "Name: event_name, dtype: int64"
      ]
     },
     "execution_count": 9,
     "metadata": {},
     "output_type": "execute_result"
    }
   ],
   "source": [
    "#согласно Тех Заданию, в столбце `details` хранятся дополнительыне сведения о событиях, например, покупки, посмотрим поближе на события \n",
    "#в которых в `details` нет пропусков\n",
    "df_events[df_events['details'].isna() == False]['event_name'].value_counts()\n"
   ]
  },
  {
   "cell_type": "code",
   "execution_count": 10,
   "metadata": {},
   "outputs": [
    {
     "data": {
      "text/plain": [
       "login           189552\n",
       "product_page    125563\n",
       "product_cart    62462 \n",
       "Name: event_name, dtype: int64"
      ]
     },
     "execution_count": 10,
     "metadata": {},
     "output_type": "execute_result"
    }
   ],
   "source": [
    "# а теперь наоборот \n",
    "df_events[df_events['details'].isna() == True]['event_name'].value_counts()"
   ]
  },
  {
   "cell_type": "markdown",
   "metadata": {},
   "source": [
    "### Вывод\n",
    "Теперь можно сделать вывод, что пропуски `df_events['details']` не критичны для дальнейшего анализа, все события, где есть информации в столбце `details` отвечают за стоимость покупки, такого же события с пропуском в датафрейме нет"
   ]
  },
  {
   "cell_type": "markdown",
   "metadata": {},
   "source": [
    "## Шаг 3. Оценика корректности проведения теста"
   ]
  },
  {
   "cell_type": "markdown",
   "metadata": {},
   "source": [
    "### 3.1 Проверка на тех задание\n",
    "#### 3.1.1 Проверка дат\n",
    "Согласно ТЗ даты запуска теста:\n",
    "* Дата запуска: `2020-12-07`;\n",
    "* Дата остановки набора новых пользователей: `2020-12-21`;\n",
    "* Дата остановки: `2021-01-04`;\n",
    "\n",
    "Поэтому \n",
    "* проверим, что в датафрейме(`df_new_users`) новых пользователей лежат пользователи, с даты запуска: `2020-12-07` по дату остановки набора новых пользователей: `2020-12-21` \n",
    "* проверим, что в датафрейме(`df_events`) событий лежат данные с даты запуска теста: `2020-12-07` по дату остановки теста: `2021-01-04`\n",
    "* посмотрим, не проводились ли какие-то маркетинговые события параллельно с нашим \n",
    "\n"
   ]
  },
  {
   "cell_type": "code",
   "execution_count": 11,
   "metadata": {},
   "outputs": [
    {
     "name": "stdout",
     "output_type": "stream",
     "text": [
      "Самая ранняя дата в df_new_users: 2020-12-07 00:00:00\n",
      "Самая поздняя дата в df_new_users: 2020-12-23 00:00:00\n"
     ]
    }
   ],
   "source": [
    "print('Самая ранняя дата в df_new_users:', df_new_users['first_date'].min())\n",
    "print('Самая поздняя дата в df_new_users:', df_new_users['first_date'].max())"
   ]
  },
  {
   "cell_type": "code",
   "execution_count": 12,
   "metadata": {},
   "outputs": [
    {
     "name": "stdout",
     "output_type": "stream",
     "text": [
      "Размер датасета до изменений: 61733\n",
      "Размер датасета после изменений: 56470\n"
     ]
    }
   ],
   "source": [
    "#так как в датафрейме есть строки, выходящие за сроки набора новых пользователей, то обрежем датафрейм\n",
    "print('Размер датасета до изменений:', df_new_users.shape[0])\n",
    "df_new_users = df_new_users[df_new_users['first_date'] <= '2020-12-21']\n",
    "print('Размер датасета после изменений:', df_new_users.shape[0])"
   ]
  },
  {
   "cell_type": "code",
   "execution_count": 13,
   "metadata": {},
   "outputs": [
    {
     "name": "stdout",
     "output_type": "stream",
     "text": [
      "Самая ранняя дата в df_events: 2020-12-07 00:00:33\n",
      "Самая поздняя дата в df_events: 2020-12-30 23:36:33\n"
     ]
    }
   ],
   "source": [
    "#Сделаем тоже самое для датафрейма событий\n",
    "print('Самая ранняя дата в df_events:', df_events['event_dt'].min())\n",
    "print('Самая поздняя дата в df_events:', df_events['event_dt'].max())"
   ]
  },
  {
   "cell_type": "markdown",
   "metadata": {},
   "source": [
    "##### Вывод \n",
    "Данные по датафрейму новых пользователей привели к требованиям ТЗ, данные по датафрейму событий привести к данным ТЗ нет возможности, так как данные не полные."
   ]
  },
  {
   "cell_type": "markdown",
   "metadata": {},
   "source": [
    "#### 3.1.2 Проверка на маркетинговые события"
   ]
  },
  {
   "cell_type": "code",
   "execution_count": 14,
   "metadata": {},
   "outputs": [
    {
     "data": {
      "text/html": [
       "<div>\n",
       "<style scoped>\n",
       "    .dataframe tbody tr th:only-of-type {\n",
       "        vertical-align: middle;\n",
       "    }\n",
       "\n",
       "    .dataframe tbody tr th {\n",
       "        vertical-align: top;\n",
       "    }\n",
       "\n",
       "    .dataframe thead th {\n",
       "        text-align: right;\n",
       "    }\n",
       "</style>\n",
       "<table border=\"1\" class=\"dataframe\">\n",
       "  <thead>\n",
       "    <tr style=\"text-align: right;\">\n",
       "      <th></th>\n",
       "      <th>name</th>\n",
       "      <th>regions</th>\n",
       "      <th>start_dt</th>\n",
       "      <th>finish_dt</th>\n",
       "    </tr>\n",
       "  </thead>\n",
       "  <tbody>\n",
       "    <tr>\n",
       "      <th>0</th>\n",
       "      <td>Christmas&amp;New Year Promo</td>\n",
       "      <td>EU, N.America</td>\n",
       "      <td>2020-12-25</td>\n",
       "      <td>2021-01-03</td>\n",
       "    </tr>\n",
       "    <tr>\n",
       "      <th>10</th>\n",
       "      <td>CIS New Year Gift Lottery</td>\n",
       "      <td>CIS</td>\n",
       "      <td>2020-12-30</td>\n",
       "      <td>2021-01-07</td>\n",
       "    </tr>\n",
       "  </tbody>\n",
       "</table>\n",
       "</div>"
      ],
      "text/plain": [
       "                         name        regions   start_dt  finish_dt\n",
       "0   Christmas&New Year Promo   EU, N.America 2020-12-25 2021-01-03\n",
       "10  CIS New Year Gift Lottery  CIS           2020-12-30 2021-01-07"
      ]
     },
     "execution_count": 14,
     "metadata": {},
     "output_type": "execute_result"
    }
   ],
   "source": [
    "#посмотрим на маркетинговые события, дата старта `2020-12-07`, дата финиша `2021-01-04`\n",
    "df_marketing_events[((df_marketing_events['start_dt']<='2021-01-04') & (df_marketing_events['finish_dt']>='2020-12-07'))]"
   ]
  },
  {
   "cell_type": "code",
   "execution_count": 15,
   "metadata": {},
   "outputs": [
    {
     "data": {
      "text/html": [
       "<div>\n",
       "<style scoped>\n",
       "    .dataframe tbody tr th:only-of-type {\n",
       "        vertical-align: middle;\n",
       "    }\n",
       "\n",
       "    .dataframe tbody tr th {\n",
       "        vertical-align: top;\n",
       "    }\n",
       "\n",
       "    .dataframe thead th {\n",
       "        text-align: right;\n",
       "    }\n",
       "</style>\n",
       "<table border=\"1\" class=\"dataframe\">\n",
       "  <thead>\n",
       "    <tr style=\"text-align: right;\">\n",
       "      <th></th>\n",
       "      <th>name</th>\n",
       "      <th>regions</th>\n",
       "      <th>start_dt</th>\n",
       "      <th>finish_dt</th>\n",
       "    </tr>\n",
       "  </thead>\n",
       "  <tbody>\n",
       "    <tr>\n",
       "      <th>0</th>\n",
       "      <td>Christmas&amp;New Year Promo</td>\n",
       "      <td>EU, N.America</td>\n",
       "      <td>2020-12-25</td>\n",
       "      <td>2021-01-03</td>\n",
       "    </tr>\n",
       "  </tbody>\n",
       "</table>\n",
       "</div>"
      ],
      "text/plain": [
       "                       name        regions   start_dt  finish_dt\n",
       "0  Christmas&New Year Promo  EU, N.America 2020-12-25 2021-01-03"
      ]
     },
     "execution_count": 15,
     "metadata": {},
     "output_type": "execute_result"
    }
   ],
   "source": [
    "df_marketing_events[((df_marketing_events['start_dt']<='2021-01-04') & (df_marketing_events['finish_dt']>='2020-12-07') & (df_marketing_events['regions'].str.find('EU') != -1))]"
   ]
  },
  {
   "cell_type": "markdown",
   "metadata": {},
   "source": [
    "##### Вывод \n",
    "Во время проведения теста проходило маркетинговое событие `\tChristmas&New Year Promo`, его влияние оценим чуть позже"
   ]
  },
  {
   "cell_type": "markdown",
   "metadata": {},
   "source": [
    "#### 3.1.3 Проверка на наличие нужного теста `recommender_system_test`"
   ]
  },
  {
   "cell_type": "code",
   "execution_count": 16,
   "metadata": {},
   "outputs": [
    {
     "data": {
      "text/html": [
       "<div>\n",
       "<style scoped>\n",
       "    .dataframe tbody tr th:only-of-type {\n",
       "        vertical-align: middle;\n",
       "    }\n",
       "\n",
       "    .dataframe tbody tr th {\n",
       "        vertical-align: top;\n",
       "    }\n",
       "\n",
       "    .dataframe thead th {\n",
       "        text-align: right;\n",
       "    }\n",
       "</style>\n",
       "<table border=\"1\" class=\"dataframe\">\n",
       "  <thead>\n",
       "    <tr style=\"text-align: right;\">\n",
       "      <th></th>\n",
       "      <th></th>\n",
       "      <th>user_id</th>\n",
       "    </tr>\n",
       "    <tr>\n",
       "      <th>ab_test</th>\n",
       "      <th>group</th>\n",
       "      <th></th>\n",
       "    </tr>\n",
       "  </thead>\n",
       "  <tbody>\n",
       "    <tr>\n",
       "      <th rowspan=\"2\" valign=\"top\">interface_eu_test</th>\n",
       "      <th>A</th>\n",
       "      <td>5831</td>\n",
       "    </tr>\n",
       "    <tr>\n",
       "      <th>B</th>\n",
       "      <td>5736</td>\n",
       "    </tr>\n",
       "    <tr>\n",
       "      <th rowspan=\"2\" valign=\"top\">recommender_system_test</th>\n",
       "      <th>A</th>\n",
       "      <td>3824</td>\n",
       "    </tr>\n",
       "    <tr>\n",
       "      <th>B</th>\n",
       "      <td>2877</td>\n",
       "    </tr>\n",
       "  </tbody>\n",
       "</table>\n",
       "</div>"
      ],
      "text/plain": [
       "                               user_id\n",
       "ab_test                 group         \n",
       "interface_eu_test       A      5831   \n",
       "                        B      5736   \n",
       "recommender_system_test A      3824   \n",
       "                        B      2877   "
      ]
     },
     "execution_count": 16,
     "metadata": {},
     "output_type": "execute_result"
    }
   ],
   "source": [
    "df_participants.groupby(['ab_test', 'group']).count()"
   ]
  },
  {
   "cell_type": "markdown",
   "metadata": {},
   "source": [
    "##### Вывод \n",
    "В данных есть информация о нужном нам  `recommender_system_test` тесте, также в датафрейме есть данные о другом тесте `interface_eu_test`, в обоих тестах есть две группы, `A`- контрольная, `B` - экспериментальная. Название нужного нам теста соответствует назначению теста - тестирование изменений, связанных с внедрением улучшенной рекомендательной системы"
   ]
  },
  {
   "cell_type": "markdown",
   "metadata": {},
   "source": [
    "### 3.2 Проверка доли участников из EU региона\n",
    "\n",
    "Ожидаемое количество участников теста: 15% новых пользователей из\n",
    "региона EU;"
   ]
  },
  {
   "cell_type": "code",
   "execution_count": 17,
   "metadata": {},
   "outputs": [
    {
     "name": "stdout",
     "output_type": "stream",
     "text": [
      "Строк до изменений: 56470\n",
      "Строк после изменений: 42340\n"
     ]
    }
   ],
   "source": [
    "# оставляем только регион европа\n",
    "print('Строк до изменений:',df_new_users.shape[0])\n",
    "df_new_users = df_new_users[df_new_users['region'] == 'EU']\n",
    "print('Строк после изменений:',df_new_users.shape[0])"
   ]
  },
  {
   "cell_type": "code",
   "execution_count": 18,
   "metadata": {},
   "outputs": [
    {
     "data": {
      "text/plain": [
       "6701"
      ]
     },
     "execution_count": 18,
     "metadata": {},
     "output_type": "execute_result"
    }
   ],
   "source": [
    "# выделим юзер айди пользователей теста 'recommender_system_test'\n",
    "user_list = df_participants[df_participants['ab_test'] == 'recommender_system_test']['user_id']\n",
    "# посмотрим, сколько всего пользователей, попало в тест recommender_system_test\n",
    "user_list.shape[0]"
   ]
  },
  {
   "cell_type": "code",
   "execution_count": 19,
   "metadata": {},
   "outputs": [
    {
     "name": "stdout",
     "output_type": "stream",
     "text": [
      "<class 'pandas.core.frame.DataFrame'>\n",
      "RangeIndex: 18268 entries, 0 to 18267\n",
      "Data columns (total 3 columns):\n",
      " #   Column   Non-Null Count  Dtype \n",
      "---  ------   --------------  ----- \n",
      " 0   user_id  18268 non-null  object\n",
      " 1   group    18268 non-null  object\n",
      " 2   ab_test  18268 non-null  object\n",
      "dtypes: object(3)\n",
      "memory usage: 428.3+ KB\n"
     ]
    }
   ],
   "source": [
    "df_participants.info()\n"
   ]
  },
  {
   "cell_type": "code",
   "execution_count": 20,
   "metadata": {},
   "outputs": [
    {
     "name": "stdout",
     "output_type": "stream",
     "text": [
      "<class 'pandas.core.frame.DataFrame'>\n",
      "Int64Index: 6351 entries, 0 to 61715\n",
      "Data columns (total 4 columns):\n",
      " #   Column      Non-Null Count  Dtype         \n",
      "---  ------      --------------  -----         \n",
      " 0   user_id     6351 non-null   object        \n",
      " 1   first_date  6351 non-null   datetime64[ns]\n",
      " 2   region      6351 non-null   object        \n",
      " 3   device      6351 non-null   object        \n",
      "dtypes: datetime64[ns](1), object(3)\n",
      "memory usage: 248.1+ KB\n"
     ]
    }
   ],
   "source": [
    "#посмотрим на этих пользователей в датафрейме новых пользотвалей\n",
    "df_new_users[df_new_users['user_id'].isin(user_list)].info()"
   ]
  },
  {
   "cell_type": "code",
   "execution_count": 21,
   "metadata": {},
   "outputs": [
    {
     "data": {
      "text/plain": [
       "350"
      ]
     },
     "execution_count": 21,
     "metadata": {},
     "output_type": "execute_result"
    }
   ],
   "source": [
    "#что-то не сходится, посмотрим, сколько пользователей, попавших в тест не попадает в датафрейм новых пользователей:\n",
    "list_id = set(user_list) - set(df_new_users[df_new_users['user_id'].isin(user_list)]['user_id'])\n",
    "len(list_id)"
   ]
  },
  {
   "cell_type": "markdown",
   "metadata": {},
   "source": [
    "Похоже, что 350 старых пользователей попали в тест, чтобы правильно посчитать долю участников теста из EU региона, и, чтобы вытащить из теста старых пользователей, то объединим датафреймы методом left, к `df_new_users` будем добавлять `df_participants`"
   ]
  },
  {
   "cell_type": "code",
   "execution_count": 22,
   "metadata": {},
   "outputs": [
    {
     "data": {
      "text/html": [
       "<div>\n",
       "<style scoped>\n",
       "    .dataframe tbody tr th:only-of-type {\n",
       "        vertical-align: middle;\n",
       "    }\n",
       "\n",
       "    .dataframe tbody tr th {\n",
       "        vertical-align: top;\n",
       "    }\n",
       "\n",
       "    .dataframe thead th {\n",
       "        text-align: right;\n",
       "    }\n",
       "</style>\n",
       "<table border=\"1\" class=\"dataframe\">\n",
       "  <thead>\n",
       "    <tr style=\"text-align: right;\">\n",
       "      <th></th>\n",
       "      <th>user_id</th>\n",
       "      <th>first_date</th>\n",
       "      <th>region</th>\n",
       "      <th>device</th>\n",
       "      <th>group</th>\n",
       "      <th>ab_test</th>\n",
       "    </tr>\n",
       "  </thead>\n",
       "  <tbody>\n",
       "    <tr>\n",
       "      <th>0</th>\n",
       "      <td>D72A72121175D8BE</td>\n",
       "      <td>2020-12-07</td>\n",
       "      <td>EU</td>\n",
       "      <td>PC</td>\n",
       "      <td>A</td>\n",
       "      <td>recommender_system_test</td>\n",
       "    </tr>\n",
       "    <tr>\n",
       "      <th>1</th>\n",
       "      <td>2E1BF1D4C37EA01F</td>\n",
       "      <td>2020-12-07</td>\n",
       "      <td>EU</td>\n",
       "      <td>PC</td>\n",
       "      <td>A</td>\n",
       "      <td>interface_eu_test</td>\n",
       "    </tr>\n",
       "    <tr>\n",
       "      <th>2</th>\n",
       "      <td>50734A22C0C63768</td>\n",
       "      <td>2020-12-07</td>\n",
       "      <td>EU</td>\n",
       "      <td>iPhone</td>\n",
       "      <td>B</td>\n",
       "      <td>interface_eu_test</td>\n",
       "    </tr>\n",
       "    <tr>\n",
       "      <th>3</th>\n",
       "      <td>8942E64218C9A1ED</td>\n",
       "      <td>2020-12-07</td>\n",
       "      <td>EU</td>\n",
       "      <td>PC</td>\n",
       "      <td>NaN</td>\n",
       "      <td>NaN</td>\n",
       "    </tr>\n",
       "    <tr>\n",
       "      <th>4</th>\n",
       "      <td>FFCEA1179C253104</td>\n",
       "      <td>2020-12-07</td>\n",
       "      <td>EU</td>\n",
       "      <td>Android</td>\n",
       "      <td>NaN</td>\n",
       "      <td>NaN</td>\n",
       "    </tr>\n",
       "  </tbody>\n",
       "</table>\n",
       "</div>"
      ],
      "text/plain": [
       "            user_id first_date region   device group                  ab_test\n",
       "0  D72A72121175D8BE 2020-12-07  EU     PC       A     recommender_system_test\n",
       "1  2E1BF1D4C37EA01F 2020-12-07  EU     PC       A     interface_eu_test      \n",
       "2  50734A22C0C63768 2020-12-07  EU     iPhone   B     interface_eu_test      \n",
       "3  8942E64218C9A1ED 2020-12-07  EU     PC       NaN   NaN                    \n",
       "4  FFCEA1179C253104 2020-12-07  EU     Android  NaN   NaN                    "
      ]
     },
     "execution_count": 22,
     "metadata": {},
     "output_type": "execute_result"
    }
   ],
   "source": [
    "temp_df = df_new_users.merge(df_participants, on='user_id', how='left')\n",
    "temp_df.head()"
   ]
  },
  {
   "cell_type": "code",
   "execution_count": 23,
   "metadata": {},
   "outputs": [
    {
     "name": "stdout",
     "output_type": "stream",
     "text": [
      "Доля пользователей из EU региона: 15.00%\n"
     ]
    }
   ],
   "source": [
    "# посчитаем долю ЕУ\n",
    "print('Доля пользователей из EU региона: {:.2f}%'.format(\n",
    "    temp_df[temp_df['ab_test'] == 'recommender_system_test'].shape[0] / temp_df['user_id'].unique().shape[0]*100))"
   ]
  },
  {
   "cell_type": "code",
   "execution_count": 24,
   "metadata": {},
   "outputs": [
    {
     "name": "stdout",
     "output_type": "stream",
     "text": [
      "<class 'pandas.core.frame.DataFrame'>\n",
      "Int64Index: 43942 entries, 0 to 43941\n",
      "Data columns (total 6 columns):\n",
      " #   Column      Non-Null Count  Dtype         \n",
      "---  ------      --------------  -----         \n",
      " 0   user_id     43942 non-null  object        \n",
      " 1   first_date  43942 non-null  datetime64[ns]\n",
      " 2   region      43942 non-null  object        \n",
      " 3   device      43942 non-null  object        \n",
      " 4   group       16916 non-null  object        \n",
      " 5   ab_test     16916 non-null  object        \n",
      "dtypes: datetime64[ns](1), object(5)\n",
      "memory usage: 2.3+ MB\n"
     ]
    }
   ],
   "source": [
    "temp_df.info()"
   ]
  },
  {
   "cell_type": "code",
   "execution_count": 25,
   "metadata": {},
   "outputs": [
    {
     "data": {
      "text/html": [
       "<div>\n",
       "<style scoped>\n",
       "    .dataframe tbody tr th:only-of-type {\n",
       "        vertical-align: middle;\n",
       "    }\n",
       "\n",
       "    .dataframe tbody tr th {\n",
       "        vertical-align: top;\n",
       "    }\n",
       "\n",
       "    .dataframe thead th {\n",
       "        text-align: right;\n",
       "    }\n",
       "</style>\n",
       "<table border=\"1\" class=\"dataframe\">\n",
       "  <thead>\n",
       "    <tr style=\"text-align: right;\">\n",
       "      <th></th>\n",
       "      <th>user_id</th>\n",
       "      <th>first_date</th>\n",
       "      <th>region</th>\n",
       "      <th>device</th>\n",
       "      <th>group</th>\n",
       "      <th>ab_test</th>\n",
       "    </tr>\n",
       "  </thead>\n",
       "  <tbody>\n",
       "    <tr>\n",
       "      <th>7</th>\n",
       "      <td>E6DE857AFBDC6102</td>\n",
       "      <td>2020-12-07</td>\n",
       "      <td>EU</td>\n",
       "      <td>PC</td>\n",
       "      <td>B</td>\n",
       "      <td>recommender_system_test</td>\n",
       "    </tr>\n",
       "    <tr>\n",
       "      <th>8</th>\n",
       "      <td>E6DE857AFBDC6102</td>\n",
       "      <td>2020-12-07</td>\n",
       "      <td>EU</td>\n",
       "      <td>PC</td>\n",
       "      <td>B</td>\n",
       "      <td>interface_eu_test</td>\n",
       "    </tr>\n",
       "    <tr>\n",
       "      <th>14</th>\n",
       "      <td>DD4352CDCF8C3D57</td>\n",
       "      <td>2020-12-07</td>\n",
       "      <td>EU</td>\n",
       "      <td>Android</td>\n",
       "      <td>B</td>\n",
       "      <td>recommender_system_test</td>\n",
       "    </tr>\n",
       "    <tr>\n",
       "      <th>15</th>\n",
       "      <td>DD4352CDCF8C3D57</td>\n",
       "      <td>2020-12-07</td>\n",
       "      <td>EU</td>\n",
       "      <td>Android</td>\n",
       "      <td>A</td>\n",
       "      <td>interface_eu_test</td>\n",
       "    </tr>\n",
       "    <tr>\n",
       "      <th>150</th>\n",
       "      <td>7779596AE52635A8</td>\n",
       "      <td>2020-12-07</td>\n",
       "      <td>EU</td>\n",
       "      <td>iPhone</td>\n",
       "      <td>B</td>\n",
       "      <td>recommender_system_test</td>\n",
       "    </tr>\n",
       "    <tr>\n",
       "      <th>151</th>\n",
       "      <td>7779596AE52635A8</td>\n",
       "      <td>2020-12-07</td>\n",
       "      <td>EU</td>\n",
       "      <td>iPhone</td>\n",
       "      <td>A</td>\n",
       "      <td>interface_eu_test</td>\n",
       "    </tr>\n",
       "    <tr>\n",
       "      <th>159</th>\n",
       "      <td>6A581C74EF4D5F44</td>\n",
       "      <td>2020-12-07</td>\n",
       "      <td>EU</td>\n",
       "      <td>iPhone</td>\n",
       "      <td>B</td>\n",
       "      <td>recommender_system_test</td>\n",
       "    </tr>\n",
       "    <tr>\n",
       "      <th>160</th>\n",
       "      <td>6A581C74EF4D5F44</td>\n",
       "      <td>2020-12-07</td>\n",
       "      <td>EU</td>\n",
       "      <td>iPhone</td>\n",
       "      <td>A</td>\n",
       "      <td>interface_eu_test</td>\n",
       "    </tr>\n",
       "    <tr>\n",
       "      <th>168</th>\n",
       "      <td>2B06EB547B7AAD08</td>\n",
       "      <td>2020-12-07</td>\n",
       "      <td>EU</td>\n",
       "      <td>PC</td>\n",
       "      <td>A</td>\n",
       "      <td>recommender_system_test</td>\n",
       "    </tr>\n",
       "    <tr>\n",
       "      <th>169</th>\n",
       "      <td>2B06EB547B7AAD08</td>\n",
       "      <td>2020-12-07</td>\n",
       "      <td>EU</td>\n",
       "      <td>PC</td>\n",
       "      <td>A</td>\n",
       "      <td>interface_eu_test</td>\n",
       "    </tr>\n",
       "  </tbody>\n",
       "</table>\n",
       "</div>"
      ],
      "text/plain": [
       "              user_id first_date region   device group  \\\n",
       "7    E6DE857AFBDC6102 2020-12-07  EU     PC       B      \n",
       "8    E6DE857AFBDC6102 2020-12-07  EU     PC       B      \n",
       "14   DD4352CDCF8C3D57 2020-12-07  EU     Android  B      \n",
       "15   DD4352CDCF8C3D57 2020-12-07  EU     Android  A      \n",
       "150  7779596AE52635A8 2020-12-07  EU     iPhone   B      \n",
       "151  7779596AE52635A8 2020-12-07  EU     iPhone   A      \n",
       "159  6A581C74EF4D5F44 2020-12-07  EU     iPhone   B      \n",
       "160  6A581C74EF4D5F44 2020-12-07  EU     iPhone   A      \n",
       "168  2B06EB547B7AAD08 2020-12-07  EU     PC       A      \n",
       "169  2B06EB547B7AAD08 2020-12-07  EU     PC       A      \n",
       "\n",
       "                     ab_test  \n",
       "7    recommender_system_test  \n",
       "8    interface_eu_test        \n",
       "14   recommender_system_test  \n",
       "15   interface_eu_test        \n",
       "150  recommender_system_test  \n",
       "151  interface_eu_test        \n",
       "159  recommender_system_test  \n",
       "160  interface_eu_test        \n",
       "168  recommender_system_test  \n",
       "169  interface_eu_test        "
      ]
     },
     "execution_count": 25,
     "metadata": {},
     "output_type": "execute_result"
    }
   ],
   "source": [
    "# похоже, что в объединенный датафрем попало больше чем ожидалось, появились дубликаты, посмотрим на них\n",
    "temp_df[temp_df.duplicated(subset='user_id', keep=False) == True].head(10)"
   ]
  },
  {
   "cell_type": "markdown",
   "metadata": {},
   "source": [
    "#### Вывод\n",
    "Убедились, что доля пользователей, попавших в тест, согласно ТЗ, равна `15%` среди новых пользователей из `EU`, исключили старых пользователей, которые могли попасть в тест и выяснили, что некоторые пользователи попали в несколько тестов одновременно"
   ]
  },
  {
   "cell_type": "markdown",
   "metadata": {},
   "source": [
    "### 3.3 Проверка на пересечение пользователей в двух тестах\n",
    "Для начала отбросим всех пользователей, которые вообще не попали в тесты:"
   ]
  },
  {
   "cell_type": "code",
   "execution_count": 26,
   "metadata": {},
   "outputs": [
    {
     "name": "stdout",
     "output_type": "stream",
     "text": [
      "Датафрейм до преобразований: 43942\n",
      "Датафрейм после преобразований: 16916\n"
     ]
    }
   ],
   "source": [
    "print('Датафрейм до преобразований:', temp_df.shape[0])\n",
    "temp_df = temp_df[temp_df['ab_test'].isna()==False]\n",
    "print('Датафрейм после преобразований:', temp_df.shape[0])"
   ]
  },
  {
   "cell_type": "code",
   "execution_count": 27,
   "metadata": {},
   "outputs": [
    {
     "data": {
      "text/html": [
       "<div>\n",
       "<style scoped>\n",
       "    .dataframe tbody tr th:only-of-type {\n",
       "        vertical-align: middle;\n",
       "    }\n",
       "\n",
       "    .dataframe tbody tr th {\n",
       "        vertical-align: top;\n",
       "    }\n",
       "\n",
       "    .dataframe thead th {\n",
       "        text-align: right;\n",
       "    }\n",
       "</style>\n",
       "<table border=\"1\" class=\"dataframe\">\n",
       "  <thead>\n",
       "    <tr style=\"text-align: right;\">\n",
       "      <th></th>\n",
       "      <th>ab_test</th>\n",
       "      <th>user_count</th>\n",
       "      <th>user_both_test</th>\n",
       "      <th>ratio</th>\n",
       "    </tr>\n",
       "  </thead>\n",
       "  <tbody>\n",
       "    <tr>\n",
       "      <th>0</th>\n",
       "      <td>interface_eu_test</td>\n",
       "      <td>10565</td>\n",
       "      <td>1602</td>\n",
       "      <td>15.16</td>\n",
       "    </tr>\n",
       "    <tr>\n",
       "      <th>1</th>\n",
       "      <td>recommender_system_test</td>\n",
       "      <td>6351</td>\n",
       "      <td>1602</td>\n",
       "      <td>25.22</td>\n",
       "    </tr>\n",
       "  </tbody>\n",
       "</table>\n",
       "</div>"
      ],
      "text/plain": [
       "                   ab_test  user_count  user_both_test  ratio\n",
       "0  interface_eu_test        10565       1602           15.16 \n",
       "1  recommender_system_test  6351        1602           25.22 "
      ]
     },
     "execution_count": 27,
     "metadata": {},
     "output_type": "execute_result"
    }
   ],
   "source": [
    " #посмотрим  сколько  пользователей попали в оба теста\n",
    "both_test_user_list = set(temp_df[temp_df['ab_test']=='interface_eu_test']['user_id']) & set(temp_df[temp_df['ab_test']=='recommender_system_test']['user_id'])\n",
    "\n",
    "both_test = temp_df.groupby(['ab_test'])['user_id'].count().reset_index().rename(columns={'user_id': 'user_count'}).merge(\n",
    "    temp_df[temp_df['user_id'].isin(both_test_user_list)].groupby(['ab_test'])['user_id'].count().reset_index(), on='ab_test').rename(columns={'user_id':'user_both_test'})\n",
    " \n",
    "both_test['ratio'] = round(both_test['user_both_test'] / both_test['user_count'] * 100, 2)\n",
    "both_test"
   ]
  },
  {
   "cell_type": "markdown",
   "metadata": {},
   "source": [
    "Чуть больше 25% участников теста `recommender_system_test` попали в тест `interface_eu_test`, доля очень весомая и просто так удалить их мы не можем. Зная, что контрольная группа не видит изменений, то попробуем сохранить пользователей, которые из теста `recommender_system_test` попали в группу `A` теста `interface_eu_test`:"
   ]
  },
  {
   "cell_type": "code",
   "execution_count": 28,
   "metadata": {},
   "outputs": [
    {
     "data": {
      "text/html": [
       "<div>\n",
       "<style scoped>\n",
       "    .dataframe tbody tr th:only-of-type {\n",
       "        vertical-align: middle;\n",
       "    }\n",
       "\n",
       "    .dataframe tbody tr th {\n",
       "        vertical-align: top;\n",
       "    }\n",
       "\n",
       "    .dataframe thead th {\n",
       "        text-align: right;\n",
       "    }\n",
       "</style>\n",
       "<table border=\"1\" class=\"dataframe\">\n",
       "  <thead>\n",
       "    <tr style=\"text-align: right;\">\n",
       "      <th></th>\n",
       "      <th>ab_test</th>\n",
       "      <th>group</th>\n",
       "      <th>user_id</th>\n",
       "    </tr>\n",
       "  </thead>\n",
       "  <tbody>\n",
       "    <tr>\n",
       "      <th>0</th>\n",
       "      <td>interface_eu_test</td>\n",
       "      <td>A</td>\n",
       "      <td>5342</td>\n",
       "    </tr>\n",
       "    <tr>\n",
       "      <th>1</th>\n",
       "      <td>interface_eu_test</td>\n",
       "      <td>B</td>\n",
       "      <td>5223</td>\n",
       "    </tr>\n",
       "    <tr>\n",
       "      <th>2</th>\n",
       "      <td>recommender_system_test</td>\n",
       "      <td>A</td>\n",
       "      <td>3634</td>\n",
       "    </tr>\n",
       "    <tr>\n",
       "      <th>3</th>\n",
       "      <td>recommender_system_test</td>\n",
       "      <td>B</td>\n",
       "      <td>2717</td>\n",
       "    </tr>\n",
       "  </tbody>\n",
       "</table>\n",
       "</div>"
      ],
      "text/plain": [
       "                   ab_test group  user_id\n",
       "0  interface_eu_test        A     5342   \n",
       "1  interface_eu_test        B     5223   \n",
       "2  recommender_system_test  A     3634   \n",
       "3  recommender_system_test  B     2717   "
      ]
     },
     "execution_count": 28,
     "metadata": {},
     "output_type": "execute_result"
    }
   ],
   "source": [
    "#помсотрим как пользователи распределились по тестам и группам\n",
    "temp_df.groupby(['ab_test', 'group'])['user_id'].count().reset_index()"
   ]
  },
  {
   "cell_type": "code",
   "execution_count": 29,
   "metadata": {},
   "outputs": [
    {
     "data": {
      "text/html": [
       "<div>\n",
       "<style scoped>\n",
       "    .dataframe tbody tr th:only-of-type {\n",
       "        vertical-align: middle;\n",
       "    }\n",
       "\n",
       "    .dataframe tbody tr th {\n",
       "        vertical-align: top;\n",
       "    }\n",
       "\n",
       "    .dataframe thead th {\n",
       "        text-align: right;\n",
       "    }\n",
       "</style>\n",
       "<table border=\"1\" class=\"dataframe\">\n",
       "  <thead>\n",
       "    <tr style=\"text-align: right;\">\n",
       "      <th></th>\n",
       "      <th>ab_test</th>\n",
       "      <th>group</th>\n",
       "      <th>user_id</th>\n",
       "    </tr>\n",
       "  </thead>\n",
       "  <tbody>\n",
       "    <tr>\n",
       "      <th>0</th>\n",
       "      <td>interface_eu_test</td>\n",
       "      <td>A</td>\n",
       "      <td>819</td>\n",
       "    </tr>\n",
       "    <tr>\n",
       "      <th>1</th>\n",
       "      <td>interface_eu_test</td>\n",
       "      <td>B</td>\n",
       "      <td>783</td>\n",
       "    </tr>\n",
       "    <tr>\n",
       "      <th>2</th>\n",
       "      <td>recommender_system_test</td>\n",
       "      <td>A</td>\n",
       "      <td>921</td>\n",
       "    </tr>\n",
       "    <tr>\n",
       "      <th>3</th>\n",
       "      <td>recommender_system_test</td>\n",
       "      <td>B</td>\n",
       "      <td>681</td>\n",
       "    </tr>\n",
       "  </tbody>\n",
       "</table>\n",
       "</div>"
      ],
      "text/plain": [
       "                   ab_test group  user_id\n",
       "0  interface_eu_test        A     819    \n",
       "1  interface_eu_test        B     783    \n",
       "2  recommender_system_test  A     921    \n",
       "3  recommender_system_test  B     681    "
      ]
     },
     "execution_count": 29,
     "metadata": {},
     "output_type": "execute_result"
    }
   ],
   "source": [
    "#посмотрим  сколько  пользователей попали в оба теста\n",
    "both_test_user_list = set(temp_df[temp_df['ab_test']=='interface_eu_test']['user_id']) & set(temp_df[temp_df['ab_test']=='recommender_system_test']['user_id'])\n",
    "temp_df[temp_df['user_id'].isin(both_test_user_list)].groupby(['ab_test', 'group'])['user_id'].count().reset_index()\n"
   ]
  },
  {
   "cell_type": "markdown",
   "metadata": {},
   "source": [
    "Выделим пользователей, которые из теста `recommender_system_test` попали в группу `A` теста `interface_eu_test`:"
   ]
  },
  {
   "cell_type": "code",
   "execution_count": 30,
   "metadata": {},
   "outputs": [
    {
     "data": {
      "text/plain": [
       "819"
      ]
     },
     "execution_count": 30,
     "metadata": {},
     "output_type": "execute_result"
    }
   ],
   "source": [
    "important_users = set(temp_df[temp_df['ab_test']=='recommender_system_test']['user_id'])  & set(temp_df[(temp_df['ab_test']=='interface_eu_test') & (temp_df['group']=='A')]['user_id'])\n",
    "len(important_users)"
   ]
  },
  {
   "cell_type": "markdown",
   "metadata": {},
   "source": [
    "Теперь мы можем удалить пользователей, которые попали в оба теста, оставив только тех, кто попал в оба теста, но в конкурирующем тесте был в группе А"
   ]
  },
  {
   "cell_type": "code",
   "execution_count": 31,
   "metadata": {},
   "outputs": [
    {
     "name": "stdout",
     "output_type": "stream",
     "text": [
      "Датафрейм до преобразований: 16916\n",
      "Промежуточный итог: 15350\n",
      "Датафрейм после преобразований: 5568\n"
     ]
    }
   ],
   "source": [
    "print('Датафрейм до преобразований:', temp_df.shape[0])\n",
    "#удалаем тех кто попал и туда и туда\n",
    "temp_df = temp_df[~temp_df['user_id'].isin(both_test_user_list - important_users)]\n",
    "print('Промежуточный итог:', temp_df.shape[0])\n",
    "#оставляем только участников нашего теста `recommender_system_test`\n",
    "temp_df = temp_df[temp_df['ab_test'] == 'recommender_system_test']\n",
    "print('Датафрейм после преобразований:', temp_df.shape[0])"
   ]
  },
  {
   "cell_type": "code",
   "execution_count": 32,
   "metadata": {},
   "outputs": [
    {
     "data": {
      "text/html": [
       "<div>\n",
       "<style scoped>\n",
       "    .dataframe tbody tr th:only-of-type {\n",
       "        vertical-align: middle;\n",
       "    }\n",
       "\n",
       "    .dataframe tbody tr th {\n",
       "        vertical-align: top;\n",
       "    }\n",
       "\n",
       "    .dataframe thead th {\n",
       "        text-align: right;\n",
       "    }\n",
       "</style>\n",
       "<table border=\"1\" class=\"dataframe\">\n",
       "  <thead>\n",
       "    <tr style=\"text-align: right;\">\n",
       "      <th></th>\n",
       "      <th>ab_test</th>\n",
       "      <th>group</th>\n",
       "      <th>user_id</th>\n",
       "    </tr>\n",
       "  </thead>\n",
       "  <tbody>\n",
       "    <tr>\n",
       "      <th>0</th>\n",
       "      <td>recommender_system_test</td>\n",
       "      <td>A</td>\n",
       "      <td>3195</td>\n",
       "    </tr>\n",
       "    <tr>\n",
       "      <th>1</th>\n",
       "      <td>recommender_system_test</td>\n",
       "      <td>B</td>\n",
       "      <td>2373</td>\n",
       "    </tr>\n",
       "  </tbody>\n",
       "</table>\n",
       "</div>"
      ],
      "text/plain": [
       "                   ab_test group  user_id\n",
       "0  recommender_system_test  A     3195   \n",
       "1  recommender_system_test  B     2373   "
      ]
     },
     "execution_count": 32,
     "metadata": {},
     "output_type": "execute_result"
    }
   ],
   "source": [
    "#Что вышло?\n",
    "temp_df.groupby(['ab_test', 'group'])['user_id'].count().reset_index()"
   ]
  },
  {
   "cell_type": "markdown",
   "metadata": {},
   "source": [
    "#### Вывод \n",
    "Группы распределились не очень равномерно, посмотрим, нет ли пересечения в рамках нашего теста между двух групп"
   ]
  },
  {
   "cell_type": "markdown",
   "metadata": {},
   "source": [
    "### 3.4 Проверка на пересечение пользователей в рамках одного теста между двух групп\n"
   ]
  },
  {
   "cell_type": "code",
   "execution_count": 33,
   "metadata": {},
   "outputs": [
    {
     "data": {
      "text/html": [
       "<div>\n",
       "<style scoped>\n",
       "    .dataframe tbody tr th:only-of-type {\n",
       "        vertical-align: middle;\n",
       "    }\n",
       "\n",
       "    .dataframe tbody tr th {\n",
       "        vertical-align: top;\n",
       "    }\n",
       "\n",
       "    .dataframe thead th {\n",
       "        text-align: right;\n",
       "    }\n",
       "</style>\n",
       "<table border=\"1\" class=\"dataframe\">\n",
       "  <thead>\n",
       "    <tr style=\"text-align: right;\">\n",
       "      <th></th>\n",
       "      <th>user_id</th>\n",
       "      <th>group</th>\n",
       "    </tr>\n",
       "  </thead>\n",
       "  <tbody>\n",
       "    <tr>\n",
       "      <th>0</th>\n",
       "      <td>000ABE35EE11412F</td>\n",
       "      <td>1</td>\n",
       "    </tr>\n",
       "    <tr>\n",
       "      <th>3709</th>\n",
       "      <td>AA5A1803D3FA76B4</td>\n",
       "      <td>1</td>\n",
       "    </tr>\n",
       "    <tr>\n",
       "      <th>3717</th>\n",
       "      <td>AAB4D11666ADB943</td>\n",
       "      <td>1</td>\n",
       "    </tr>\n",
       "    <tr>\n",
       "      <th>3716</th>\n",
       "      <td>AAAD427C944878B9</td>\n",
       "      <td>1</td>\n",
       "    </tr>\n",
       "    <tr>\n",
       "      <th>3715</th>\n",
       "      <td>AAA7DF27B5BD4FBA</td>\n",
       "      <td>1</td>\n",
       "    </tr>\n",
       "  </tbody>\n",
       "</table>\n",
       "</div>"
      ],
      "text/plain": [
       "               user_id  group\n",
       "0     000ABE35EE11412F  1    \n",
       "3709  AA5A1803D3FA76B4  1    \n",
       "3717  AAB4D11666ADB943  1    \n",
       "3716  AAAD427C944878B9  1    \n",
       "3715  AAA7DF27B5BD4FBA  1    "
      ]
     },
     "execution_count": 33,
     "metadata": {},
     "output_type": "execute_result"
    }
   ],
   "source": [
    "temp_df.groupby('user_id')['group'].count().reset_index().sort_values(by='group', ascending=False).head()"
   ]
  },
  {
   "cell_type": "markdown",
   "metadata": {},
   "source": [
    "#### Вывод\n",
    "В нашем датафрейме не осталось пользователей с пересечением, можно считать, что данные чистые и готовы к дальнейшему анализу"
   ]
  },
  {
   "cell_type": "markdown",
   "metadata": {},
   "source": [
    "### 3.5 Подготовка данных\n",
    "Объединим датафреймы в один общий датафрейм, для удобства работы, присоединять будем левым способом, так как левый датафрейм предварительно очищен, а также мы исключаем возможность случайно потерять информацию по пользователям, у которых не было событий"
   ]
  },
  {
   "cell_type": "code",
   "execution_count": 34,
   "metadata": {},
   "outputs": [
    {
     "name": "stdout",
     "output_type": "stream",
     "text": [
      "<class 'pandas.core.frame.DataFrame'>\n",
      "Int64Index: 23082 entries, 0 to 23081\n",
      "Data columns (total 9 columns):\n",
      " #   Column      Non-Null Count  Dtype         \n",
      "---  ------      --------------  -----         \n",
      " 0   user_id     23082 non-null  object        \n",
      " 1   first_date  23082 non-null  datetime64[ns]\n",
      " 2   region      23082 non-null  object        \n",
      " 3   device      23082 non-null  object        \n",
      " 4   group       23082 non-null  object        \n",
      " 5   ab_test     23082 non-null  object        \n",
      " 6   event_dt    20564 non-null  datetime64[ns]\n",
      " 7   event_name  20564 non-null  object        \n",
      " 8   details     2804 non-null   float64       \n",
      "dtypes: datetime64[ns](2), float64(1), object(6)\n",
      "memory usage: 1.8+ MB\n"
     ]
    }
   ],
   "source": [
    "df = temp_df.merge(df_events, on='user_id', how='left')\n",
    "df.info()"
   ]
  },
  {
   "cell_type": "code",
   "execution_count": 35,
   "metadata": {},
   "outputs": [
    {
     "data": {
      "text/html": [
       "<div>\n",
       "<style scoped>\n",
       "    .dataframe tbody tr th:only-of-type {\n",
       "        vertical-align: middle;\n",
       "    }\n",
       "\n",
       "    .dataframe tbody tr th {\n",
       "        vertical-align: top;\n",
       "    }\n",
       "\n",
       "    .dataframe thead th {\n",
       "        text-align: right;\n",
       "    }\n",
       "</style>\n",
       "<table border=\"1\" class=\"dataframe\">\n",
       "  <thead>\n",
       "    <tr style=\"text-align: right;\">\n",
       "      <th></th>\n",
       "      <th>user_id</th>\n",
       "      <th>first_date</th>\n",
       "      <th>region</th>\n",
       "      <th>device</th>\n",
       "      <th>group</th>\n",
       "      <th>ab_test</th>\n",
       "      <th>event_dt</th>\n",
       "      <th>event_name</th>\n",
       "      <th>details</th>\n",
       "    </tr>\n",
       "  </thead>\n",
       "  <tbody>\n",
       "    <tr>\n",
       "      <th>0</th>\n",
       "      <td>D72A72121175D8BE</td>\n",
       "      <td>2020-12-07</td>\n",
       "      <td>EU</td>\n",
       "      <td>PC</td>\n",
       "      <td>A</td>\n",
       "      <td>recommender_system_test</td>\n",
       "      <td>2020-12-07 21:52:10</td>\n",
       "      <td>product_page</td>\n",
       "      <td>NaN</td>\n",
       "    </tr>\n",
       "    <tr>\n",
       "      <th>1</th>\n",
       "      <td>D72A72121175D8BE</td>\n",
       "      <td>2020-12-07</td>\n",
       "      <td>EU</td>\n",
       "      <td>PC</td>\n",
       "      <td>A</td>\n",
       "      <td>recommender_system_test</td>\n",
       "      <td>2020-12-07 21:52:07</td>\n",
       "      <td>login</td>\n",
       "      <td>NaN</td>\n",
       "    </tr>\n",
       "    <tr>\n",
       "      <th>2</th>\n",
       "      <td>DD4352CDCF8C3D57</td>\n",
       "      <td>2020-12-07</td>\n",
       "      <td>EU</td>\n",
       "      <td>Android</td>\n",
       "      <td>B</td>\n",
       "      <td>recommender_system_test</td>\n",
       "      <td>2020-12-07 15:32:54</td>\n",
       "      <td>product_page</td>\n",
       "      <td>NaN</td>\n",
       "    </tr>\n",
       "    <tr>\n",
       "      <th>3</th>\n",
       "      <td>DD4352CDCF8C3D57</td>\n",
       "      <td>2020-12-07</td>\n",
       "      <td>EU</td>\n",
       "      <td>Android</td>\n",
       "      <td>B</td>\n",
       "      <td>recommender_system_test</td>\n",
       "      <td>2020-12-08 08:29:31</td>\n",
       "      <td>product_page</td>\n",
       "      <td>NaN</td>\n",
       "    </tr>\n",
       "    <tr>\n",
       "      <th>4</th>\n",
       "      <td>DD4352CDCF8C3D57</td>\n",
       "      <td>2020-12-07</td>\n",
       "      <td>EU</td>\n",
       "      <td>Android</td>\n",
       "      <td>B</td>\n",
       "      <td>recommender_system_test</td>\n",
       "      <td>2020-12-10 18:18:27</td>\n",
       "      <td>product_page</td>\n",
       "      <td>NaN</td>\n",
       "    </tr>\n",
       "  </tbody>\n",
       "</table>\n",
       "</div>"
      ],
      "text/plain": [
       "            user_id first_date region   device group                  ab_test  \\\n",
       "0  D72A72121175D8BE 2020-12-07  EU     PC       A     recommender_system_test   \n",
       "1  D72A72121175D8BE 2020-12-07  EU     PC       A     recommender_system_test   \n",
       "2  DD4352CDCF8C3D57 2020-12-07  EU     Android  B     recommender_system_test   \n",
       "3  DD4352CDCF8C3D57 2020-12-07  EU     Android  B     recommender_system_test   \n",
       "4  DD4352CDCF8C3D57 2020-12-07  EU     Android  B     recommender_system_test   \n",
       "\n",
       "             event_dt    event_name  details  \n",
       "0 2020-12-07 21:52:10  product_page NaN       \n",
       "1 2020-12-07 21:52:07  login        NaN       \n",
       "2 2020-12-07 15:32:54  product_page NaN       \n",
       "3 2020-12-08 08:29:31  product_page NaN       \n",
       "4 2020-12-10 18:18:27  product_page NaN       "
      ]
     },
     "execution_count": 35,
     "metadata": {},
     "output_type": "execute_result"
    }
   ],
   "source": [
    "df.head()"
   ]
  },
  {
   "cell_type": "markdown",
   "metadata": {},
   "source": [
    "#### 3.5.1 Анализ пользователей без действий"
   ]
  },
  {
   "cell_type": "code",
   "execution_count": 36,
   "metadata": {},
   "outputs": [
    {
     "data": {
      "text/html": [
       "<div>\n",
       "<style scoped>\n",
       "    .dataframe tbody tr th:only-of-type {\n",
       "        vertical-align: middle;\n",
       "    }\n",
       "\n",
       "    .dataframe tbody tr th {\n",
       "        vertical-align: top;\n",
       "    }\n",
       "\n",
       "    .dataframe thead th {\n",
       "        text-align: right;\n",
       "    }\n",
       "</style>\n",
       "<table border=\"1\" class=\"dataframe\">\n",
       "  <thead>\n",
       "    <tr style=\"text-align: right;\">\n",
       "      <th></th>\n",
       "      <th>group</th>\n",
       "      <th>total_users</th>\n",
       "      <th>users_no_action</th>\n",
       "      <th>ratio</th>\n",
       "    </tr>\n",
       "  </thead>\n",
       "  <tbody>\n",
       "    <tr>\n",
       "      <th>0</th>\n",
       "      <td>A</td>\n",
       "      <td>3195</td>\n",
       "      <td>916</td>\n",
       "      <td>0.29</td>\n",
       "    </tr>\n",
       "    <tr>\n",
       "      <th>1</th>\n",
       "      <td>B</td>\n",
       "      <td>2373</td>\n",
       "      <td>1602</td>\n",
       "      <td>0.68</td>\n",
       "    </tr>\n",
       "  </tbody>\n",
       "</table>\n",
       "</div>"
      ],
      "text/plain": [
       "  group  total_users  users_no_action  ratio\n",
       "0  A     3195         916             0.29  \n",
       "1  B     2373         1602            0.68  "
      ]
     },
     "execution_count": 36,
     "metadata": {},
     "output_type": "execute_result"
    }
   ],
   "source": [
    "temp_table = df.groupby('group').agg({'user_id':'nunique'}).reset_index().rename(columns={'user_id':'total_users'}).merge(\n",
    "    df[df['event_name'].isna()].groupby('group').agg({'user_id':'nunique'}).reset_index().rename(columns={'user_id': 'users_no_action'}), on='group'\n",
    ")\n",
    "\n",
    "temp_table['ratio'] = round(temp_table['users_no_action'] / temp_table['total_users'], 2)\n",
    "temp_table"
   ]
  },
  {
   "cell_type": "code",
   "execution_count": 37,
   "metadata": {},
   "outputs": [
    {
     "data": {
      "application/vnd.plotly.v1+json": {
       "config": {
        "plotlyServerURL": "https://plot.ly"
       },
       "data": [
        {
         "name": "Всего пользователей в группе",
         "type": "bar",
         "x": [
          "A",
          "B"
         ],
         "y": [
          3195,
          2373
         ]
        },
        {
         "name": "Пользователей без действий",
         "type": "bar",
         "x": [
          "A",
          "B"
         ],
         "y": [
          916,
          1602
         ]
        }
       ],
       "layout": {
        "barmode": "group",
        "height": 700,
        "template": {
         "data": {
          "bar": [
           {
            "error_x": {
             "color": "#2a3f5f"
            },
            "error_y": {
             "color": "#2a3f5f"
            },
            "marker": {
             "line": {
              "color": "#E5ECF6",
              "width": 0.5
             },
             "pattern": {
              "fillmode": "overlay",
              "size": 10,
              "solidity": 0.2
             }
            },
            "type": "bar"
           }
          ],
          "barpolar": [
           {
            "marker": {
             "line": {
              "color": "#E5ECF6",
              "width": 0.5
             },
             "pattern": {
              "fillmode": "overlay",
              "size": 10,
              "solidity": 0.2
             }
            },
            "type": "barpolar"
           }
          ],
          "carpet": [
           {
            "aaxis": {
             "endlinecolor": "#2a3f5f",
             "gridcolor": "white",
             "linecolor": "white",
             "minorgridcolor": "white",
             "startlinecolor": "#2a3f5f"
            },
            "baxis": {
             "endlinecolor": "#2a3f5f",
             "gridcolor": "white",
             "linecolor": "white",
             "minorgridcolor": "white",
             "startlinecolor": "#2a3f5f"
            },
            "type": "carpet"
           }
          ],
          "choropleth": [
           {
            "colorbar": {
             "outlinewidth": 0,
             "ticks": ""
            },
            "type": "choropleth"
           }
          ],
          "contour": [
           {
            "colorbar": {
             "outlinewidth": 0,
             "ticks": ""
            },
            "colorscale": [
             [
              0,
              "#0d0887"
             ],
             [
              0.1111111111111111,
              "#46039f"
             ],
             [
              0.2222222222222222,
              "#7201a8"
             ],
             [
              0.3333333333333333,
              "#9c179e"
             ],
             [
              0.4444444444444444,
              "#bd3786"
             ],
             [
              0.5555555555555556,
              "#d8576b"
             ],
             [
              0.6666666666666666,
              "#ed7953"
             ],
             [
              0.7777777777777778,
              "#fb9f3a"
             ],
             [
              0.8888888888888888,
              "#fdca26"
             ],
             [
              1,
              "#f0f921"
             ]
            ],
            "type": "contour"
           }
          ],
          "contourcarpet": [
           {
            "colorbar": {
             "outlinewidth": 0,
             "ticks": ""
            },
            "type": "contourcarpet"
           }
          ],
          "heatmap": [
           {
            "colorbar": {
             "outlinewidth": 0,
             "ticks": ""
            },
            "colorscale": [
             [
              0,
              "#0d0887"
             ],
             [
              0.1111111111111111,
              "#46039f"
             ],
             [
              0.2222222222222222,
              "#7201a8"
             ],
             [
              0.3333333333333333,
              "#9c179e"
             ],
             [
              0.4444444444444444,
              "#bd3786"
             ],
             [
              0.5555555555555556,
              "#d8576b"
             ],
             [
              0.6666666666666666,
              "#ed7953"
             ],
             [
              0.7777777777777778,
              "#fb9f3a"
             ],
             [
              0.8888888888888888,
              "#fdca26"
             ],
             [
              1,
              "#f0f921"
             ]
            ],
            "type": "heatmap"
           }
          ],
          "heatmapgl": [
           {
            "colorbar": {
             "outlinewidth": 0,
             "ticks": ""
            },
            "colorscale": [
             [
              0,
              "#0d0887"
             ],
             [
              0.1111111111111111,
              "#46039f"
             ],
             [
              0.2222222222222222,
              "#7201a8"
             ],
             [
              0.3333333333333333,
              "#9c179e"
             ],
             [
              0.4444444444444444,
              "#bd3786"
             ],
             [
              0.5555555555555556,
              "#d8576b"
             ],
             [
              0.6666666666666666,
              "#ed7953"
             ],
             [
              0.7777777777777778,
              "#fb9f3a"
             ],
             [
              0.8888888888888888,
              "#fdca26"
             ],
             [
              1,
              "#f0f921"
             ]
            ],
            "type": "heatmapgl"
           }
          ],
          "histogram": [
           {
            "marker": {
             "pattern": {
              "fillmode": "overlay",
              "size": 10,
              "solidity": 0.2
             }
            },
            "type": "histogram"
           }
          ],
          "histogram2d": [
           {
            "colorbar": {
             "outlinewidth": 0,
             "ticks": ""
            },
            "colorscale": [
             [
              0,
              "#0d0887"
             ],
             [
              0.1111111111111111,
              "#46039f"
             ],
             [
              0.2222222222222222,
              "#7201a8"
             ],
             [
              0.3333333333333333,
              "#9c179e"
             ],
             [
              0.4444444444444444,
              "#bd3786"
             ],
             [
              0.5555555555555556,
              "#d8576b"
             ],
             [
              0.6666666666666666,
              "#ed7953"
             ],
             [
              0.7777777777777778,
              "#fb9f3a"
             ],
             [
              0.8888888888888888,
              "#fdca26"
             ],
             [
              1,
              "#f0f921"
             ]
            ],
            "type": "histogram2d"
           }
          ],
          "histogram2dcontour": [
           {
            "colorbar": {
             "outlinewidth": 0,
             "ticks": ""
            },
            "colorscale": [
             [
              0,
              "#0d0887"
             ],
             [
              0.1111111111111111,
              "#46039f"
             ],
             [
              0.2222222222222222,
              "#7201a8"
             ],
             [
              0.3333333333333333,
              "#9c179e"
             ],
             [
              0.4444444444444444,
              "#bd3786"
             ],
             [
              0.5555555555555556,
              "#d8576b"
             ],
             [
              0.6666666666666666,
              "#ed7953"
             ],
             [
              0.7777777777777778,
              "#fb9f3a"
             ],
             [
              0.8888888888888888,
              "#fdca26"
             ],
             [
              1,
              "#f0f921"
             ]
            ],
            "type": "histogram2dcontour"
           }
          ],
          "mesh3d": [
           {
            "colorbar": {
             "outlinewidth": 0,
             "ticks": ""
            },
            "type": "mesh3d"
           }
          ],
          "parcoords": [
           {
            "line": {
             "colorbar": {
              "outlinewidth": 0,
              "ticks": ""
             }
            },
            "type": "parcoords"
           }
          ],
          "pie": [
           {
            "automargin": true,
            "type": "pie"
           }
          ],
          "scatter": [
           {
            "fillpattern": {
             "fillmode": "overlay",
             "size": 10,
             "solidity": 0.2
            },
            "type": "scatter"
           }
          ],
          "scatter3d": [
           {
            "line": {
             "colorbar": {
              "outlinewidth": 0,
              "ticks": ""
             }
            },
            "marker": {
             "colorbar": {
              "outlinewidth": 0,
              "ticks": ""
             }
            },
            "type": "scatter3d"
           }
          ],
          "scattercarpet": [
           {
            "marker": {
             "colorbar": {
              "outlinewidth": 0,
              "ticks": ""
             }
            },
            "type": "scattercarpet"
           }
          ],
          "scattergeo": [
           {
            "marker": {
             "colorbar": {
              "outlinewidth": 0,
              "ticks": ""
             }
            },
            "type": "scattergeo"
           }
          ],
          "scattergl": [
           {
            "marker": {
             "colorbar": {
              "outlinewidth": 0,
              "ticks": ""
             }
            },
            "type": "scattergl"
           }
          ],
          "scattermapbox": [
           {
            "marker": {
             "colorbar": {
              "outlinewidth": 0,
              "ticks": ""
             }
            },
            "type": "scattermapbox"
           }
          ],
          "scatterpolar": [
           {
            "marker": {
             "colorbar": {
              "outlinewidth": 0,
              "ticks": ""
             }
            },
            "type": "scatterpolar"
           }
          ],
          "scatterpolargl": [
           {
            "marker": {
             "colorbar": {
              "outlinewidth": 0,
              "ticks": ""
             }
            },
            "type": "scatterpolargl"
           }
          ],
          "scatterternary": [
           {
            "marker": {
             "colorbar": {
              "outlinewidth": 0,
              "ticks": ""
             }
            },
            "type": "scatterternary"
           }
          ],
          "surface": [
           {
            "colorbar": {
             "outlinewidth": 0,
             "ticks": ""
            },
            "colorscale": [
             [
              0,
              "#0d0887"
             ],
             [
              0.1111111111111111,
              "#46039f"
             ],
             [
              0.2222222222222222,
              "#7201a8"
             ],
             [
              0.3333333333333333,
              "#9c179e"
             ],
             [
              0.4444444444444444,
              "#bd3786"
             ],
             [
              0.5555555555555556,
              "#d8576b"
             ],
             [
              0.6666666666666666,
              "#ed7953"
             ],
             [
              0.7777777777777778,
              "#fb9f3a"
             ],
             [
              0.8888888888888888,
              "#fdca26"
             ],
             [
              1,
              "#f0f921"
             ]
            ],
            "type": "surface"
           }
          ],
          "table": [
           {
            "cells": {
             "fill": {
              "color": "#EBF0F8"
             },
             "line": {
              "color": "white"
             }
            },
            "header": {
             "fill": {
              "color": "#C8D4E3"
             },
             "line": {
              "color": "white"
             }
            },
            "type": "table"
           }
          ]
         },
         "layout": {
          "annotationdefaults": {
           "arrowcolor": "#2a3f5f",
           "arrowhead": 0,
           "arrowwidth": 1
          },
          "autotypenumbers": "strict",
          "coloraxis": {
           "colorbar": {
            "outlinewidth": 0,
            "ticks": ""
           }
          },
          "colorscale": {
           "diverging": [
            [
             0,
             "#8e0152"
            ],
            [
             0.1,
             "#c51b7d"
            ],
            [
             0.2,
             "#de77ae"
            ],
            [
             0.3,
             "#f1b6da"
            ],
            [
             0.4,
             "#fde0ef"
            ],
            [
             0.5,
             "#f7f7f7"
            ],
            [
             0.6,
             "#e6f5d0"
            ],
            [
             0.7,
             "#b8e186"
            ],
            [
             0.8,
             "#7fbc41"
            ],
            [
             0.9,
             "#4d9221"
            ],
            [
             1,
             "#276419"
            ]
           ],
           "sequential": [
            [
             0,
             "#0d0887"
            ],
            [
             0.1111111111111111,
             "#46039f"
            ],
            [
             0.2222222222222222,
             "#7201a8"
            ],
            [
             0.3333333333333333,
             "#9c179e"
            ],
            [
             0.4444444444444444,
             "#bd3786"
            ],
            [
             0.5555555555555556,
             "#d8576b"
            ],
            [
             0.6666666666666666,
             "#ed7953"
            ],
            [
             0.7777777777777778,
             "#fb9f3a"
            ],
            [
             0.8888888888888888,
             "#fdca26"
            ],
            [
             1,
             "#f0f921"
            ]
           ],
           "sequentialminus": [
            [
             0,
             "#0d0887"
            ],
            [
             0.1111111111111111,
             "#46039f"
            ],
            [
             0.2222222222222222,
             "#7201a8"
            ],
            [
             0.3333333333333333,
             "#9c179e"
            ],
            [
             0.4444444444444444,
             "#bd3786"
            ],
            [
             0.5555555555555556,
             "#d8576b"
            ],
            [
             0.6666666666666666,
             "#ed7953"
            ],
            [
             0.7777777777777778,
             "#fb9f3a"
            ],
            [
             0.8888888888888888,
             "#fdca26"
            ],
            [
             1,
             "#f0f921"
            ]
           ]
          },
          "colorway": [
           "#636efa",
           "#EF553B",
           "#00cc96",
           "#ab63fa",
           "#FFA15A",
           "#19d3f3",
           "#FF6692",
           "#B6E880",
           "#FF97FF",
           "#FECB52"
          ],
          "font": {
           "color": "#2a3f5f"
          },
          "geo": {
           "bgcolor": "white",
           "lakecolor": "white",
           "landcolor": "#E5ECF6",
           "showlakes": true,
           "showland": true,
           "subunitcolor": "white"
          },
          "hoverlabel": {
           "align": "left"
          },
          "hovermode": "closest",
          "mapbox": {
           "style": "light"
          },
          "paper_bgcolor": "white",
          "plot_bgcolor": "#E5ECF6",
          "polar": {
           "angularaxis": {
            "gridcolor": "white",
            "linecolor": "white",
            "ticks": ""
           },
           "bgcolor": "#E5ECF6",
           "radialaxis": {
            "gridcolor": "white",
            "linecolor": "white",
            "ticks": ""
           }
          },
          "scene": {
           "xaxis": {
            "backgroundcolor": "#E5ECF6",
            "gridcolor": "white",
            "gridwidth": 2,
            "linecolor": "white",
            "showbackground": true,
            "ticks": "",
            "zerolinecolor": "white"
           },
           "yaxis": {
            "backgroundcolor": "#E5ECF6",
            "gridcolor": "white",
            "gridwidth": 2,
            "linecolor": "white",
            "showbackground": true,
            "ticks": "",
            "zerolinecolor": "white"
           },
           "zaxis": {
            "backgroundcolor": "#E5ECF6",
            "gridcolor": "white",
            "gridwidth": 2,
            "linecolor": "white",
            "showbackground": true,
            "ticks": "",
            "zerolinecolor": "white"
           }
          },
          "shapedefaults": {
           "line": {
            "color": "#2a3f5f"
           }
          },
          "ternary": {
           "aaxis": {
            "gridcolor": "white",
            "linecolor": "white",
            "ticks": ""
           },
           "baxis": {
            "gridcolor": "white",
            "linecolor": "white",
            "ticks": ""
           },
           "bgcolor": "#E5ECF6",
           "caxis": {
            "gridcolor": "white",
            "linecolor": "white",
            "ticks": ""
           }
          },
          "title": {
           "x": 0.05
          },
          "xaxis": {
           "automargin": true,
           "gridcolor": "white",
           "linecolor": "white",
           "ticks": "",
           "title": {
            "standoff": 15
           },
           "zerolinecolor": "white",
           "zerolinewidth": 2
          },
          "yaxis": {
           "automargin": true,
           "gridcolor": "white",
           "linecolor": "white",
           "ticks": "",
           "title": {
            "standoff": 15
           },
           "zerolinecolor": "white",
           "zerolinewidth": 2
          }
         }
        },
        "title": {
         "text": "Отношение всех пользователей и пользователей без действий по группам"
        },
        "width": 950,
        "xaxis": {
         "title": {
          "text": "Группа"
         }
        },
        "yaxis": {
         "title": {
          "text": "Количество пользователей"
         }
        }
       }
      }
     },
     "metadata": {},
     "output_type": "display_data"
    }
   ],
   "source": [
    "fig = go.Figure(data=[\n",
    "    go.Bar(name='Всего пользователей в группе', x=temp_table['group'], y=temp_table['total_users']),\n",
    "    go.Bar(name='Пользователей без действий', x=temp_table['group'], y=temp_table['users_no_action'])\n",
    "])\n",
    "fig.update_layout(barmode='group',\n",
    "                  title='Отношение всех пользователей и пользователей без действий по группам',\n",
    "                  width=950,\n",
    "                  height=700,\n",
    "                  xaxis_title='Группа',\n",
    "                  yaxis_title='Количество пользователей')\n",
    "fig.show()"
   ]
  },
  {
   "cell_type": "markdown",
   "metadata": {},
   "source": [
    "`68%` пользователей от группы `B` не совершали действий и `29%` пользователей от группы `A` не совершали действий, доли очень большие, посмотрим, как распределены пользователи по датам регистрации:"
   ]
  },
  {
   "cell_type": "code",
   "execution_count": 38,
   "metadata": {},
   "outputs": [
    {
     "data": {
      "text/html": [
       "<div>\n",
       "<style scoped>\n",
       "    .dataframe tbody tr th:only-of-type {\n",
       "        vertical-align: middle;\n",
       "    }\n",
       "\n",
       "    .dataframe tbody tr th {\n",
       "        vertical-align: top;\n",
       "    }\n",
       "\n",
       "    .dataframe thead th {\n",
       "        text-align: right;\n",
       "    }\n",
       "</style>\n",
       "<table border=\"1\" class=\"dataframe\">\n",
       "  <thead>\n",
       "    <tr style=\"text-align: right;\">\n",
       "      <th></th>\n",
       "      <th>first_date</th>\n",
       "      <th>count_user</th>\n",
       "    </tr>\n",
       "  </thead>\n",
       "  <tbody>\n",
       "    <tr>\n",
       "      <th>0</th>\n",
       "      <td>2020-12-07</td>\n",
       "      <td>245</td>\n",
       "    </tr>\n",
       "    <tr>\n",
       "      <th>1</th>\n",
       "      <td>2020-12-08</td>\n",
       "      <td>171</td>\n",
       "    </tr>\n",
       "    <tr>\n",
       "      <th>2</th>\n",
       "      <td>2020-12-09</td>\n",
       "      <td>75</td>\n",
       "    </tr>\n",
       "    <tr>\n",
       "      <th>3</th>\n",
       "      <td>2020-12-10</td>\n",
       "      <td>242</td>\n",
       "    </tr>\n",
       "    <tr>\n",
       "      <th>4</th>\n",
       "      <td>2020-12-11</td>\n",
       "      <td>139</td>\n",
       "    </tr>\n",
       "    <tr>\n",
       "      <th>5</th>\n",
       "      <td>2020-12-12</td>\n",
       "      <td>314</td>\n",
       "    </tr>\n",
       "    <tr>\n",
       "      <th>6</th>\n",
       "      <td>2020-12-13</td>\n",
       "      <td>434</td>\n",
       "    </tr>\n",
       "    <tr>\n",
       "      <th>7</th>\n",
       "      <td>2020-12-14</td>\n",
       "      <td>169</td>\n",
       "    </tr>\n",
       "    <tr>\n",
       "      <th>8</th>\n",
       "      <td>2020-12-15</td>\n",
       "      <td>95</td>\n",
       "    </tr>\n",
       "    <tr>\n",
       "      <th>9</th>\n",
       "      <td>2020-12-16</td>\n",
       "      <td>16</td>\n",
       "    </tr>\n",
       "    <tr>\n",
       "      <th>10</th>\n",
       "      <td>2020-12-17</td>\n",
       "      <td>89</td>\n",
       "    </tr>\n",
       "    <tr>\n",
       "      <th>11</th>\n",
       "      <td>2020-12-18</td>\n",
       "      <td>105</td>\n",
       "    </tr>\n",
       "    <tr>\n",
       "      <th>12</th>\n",
       "      <td>2020-12-19</td>\n",
       "      <td>120</td>\n",
       "    </tr>\n",
       "    <tr>\n",
       "      <th>13</th>\n",
       "      <td>2020-12-20</td>\n",
       "      <td>129</td>\n",
       "    </tr>\n",
       "    <tr>\n",
       "      <th>14</th>\n",
       "      <td>2020-12-21</td>\n",
       "      <td>175</td>\n",
       "    </tr>\n",
       "  </tbody>\n",
       "</table>\n",
       "</div>"
      ],
      "text/plain": [
       "   first_date  count_user\n",
       "0  2020-12-07  245       \n",
       "1  2020-12-08  171       \n",
       "2  2020-12-09  75        \n",
       "3  2020-12-10  242       \n",
       "4  2020-12-11  139       \n",
       "5  2020-12-12  314       \n",
       "6  2020-12-13  434       \n",
       "7  2020-12-14  169       \n",
       "8  2020-12-15  95        \n",
       "9  2020-12-16  16        \n",
       "10 2020-12-17  89        \n",
       "11 2020-12-18  105       \n",
       "12 2020-12-19  120       \n",
       "13 2020-12-20  129       \n",
       "14 2020-12-21  175       "
      ]
     },
     "execution_count": 38,
     "metadata": {},
     "output_type": "execute_result"
    }
   ],
   "source": [
    "temp_table = df[df['event_name'].isna()].groupby(['first_date'])['user_id'].agg('count').reset_index().rename(columns={'user_id': 'count_user'})\n",
    "temp_table"
   ]
  },
  {
   "cell_type": "code",
   "execution_count": 39,
   "metadata": {},
   "outputs": [
    {
     "data": {
      "application/vnd.plotly.v1+json": {
       "config": {
        "plotlyServerURL": "https://plot.ly"
       },
       "data": [
        {
         "alignmentgroup": "True",
         "cliponaxis": false,
         "hovertemplate": "first_date=%{x}<br>Количество пользователей=%{y}<extra></extra>",
         "legendgroup": "",
         "marker": {
          "color": "#636efa",
          "pattern": {
           "shape": ""
          }
         },
         "name": "",
         "offsetgroup": "",
         "orientation": "v",
         "showlegend": false,
         "textangle": 0,
         "textfont": {
          "size": 14
         },
         "textposition": "outside",
         "type": "bar",
         "x": [
          "2020-12-07T00:00:00",
          "2020-12-08T00:00:00",
          "2020-12-09T00:00:00",
          "2020-12-10T00:00:00",
          "2020-12-11T00:00:00",
          "2020-12-12T00:00:00",
          "2020-12-13T00:00:00",
          "2020-12-14T00:00:00",
          "2020-12-15T00:00:00",
          "2020-12-16T00:00:00",
          "2020-12-17T00:00:00",
          "2020-12-18T00:00:00",
          "2020-12-19T00:00:00",
          "2020-12-20T00:00:00",
          "2020-12-21T00:00:00"
         ],
         "xaxis": "x",
         "y": [
          245,
          171,
          75,
          242,
          139,
          314,
          434,
          169,
          95,
          16,
          89,
          105,
          120,
          129,
          175
         ],
         "yaxis": "y"
        }
       ],
       "layout": {
        "barmode": "relative",
        "font": {
         "size": 15
        },
        "height": 700,
        "legend": {
         "font": {
          "size": 15
         },
         "tracegroupgap": 0
        },
        "template": {
         "data": {
          "bar": [
           {
            "error_x": {
             "color": "#2a3f5f"
            },
            "error_y": {
             "color": "#2a3f5f"
            },
            "marker": {
             "line": {
              "color": "#E5ECF6",
              "width": 0.5
             },
             "pattern": {
              "fillmode": "overlay",
              "size": 10,
              "solidity": 0.2
             }
            },
            "type": "bar"
           }
          ],
          "barpolar": [
           {
            "marker": {
             "line": {
              "color": "#E5ECF6",
              "width": 0.5
             },
             "pattern": {
              "fillmode": "overlay",
              "size": 10,
              "solidity": 0.2
             }
            },
            "type": "barpolar"
           }
          ],
          "carpet": [
           {
            "aaxis": {
             "endlinecolor": "#2a3f5f",
             "gridcolor": "white",
             "linecolor": "white",
             "minorgridcolor": "white",
             "startlinecolor": "#2a3f5f"
            },
            "baxis": {
             "endlinecolor": "#2a3f5f",
             "gridcolor": "white",
             "linecolor": "white",
             "minorgridcolor": "white",
             "startlinecolor": "#2a3f5f"
            },
            "type": "carpet"
           }
          ],
          "choropleth": [
           {
            "colorbar": {
             "outlinewidth": 0,
             "ticks": ""
            },
            "type": "choropleth"
           }
          ],
          "contour": [
           {
            "colorbar": {
             "outlinewidth": 0,
             "ticks": ""
            },
            "colorscale": [
             [
              0,
              "#0d0887"
             ],
             [
              0.1111111111111111,
              "#46039f"
             ],
             [
              0.2222222222222222,
              "#7201a8"
             ],
             [
              0.3333333333333333,
              "#9c179e"
             ],
             [
              0.4444444444444444,
              "#bd3786"
             ],
             [
              0.5555555555555556,
              "#d8576b"
             ],
             [
              0.6666666666666666,
              "#ed7953"
             ],
             [
              0.7777777777777778,
              "#fb9f3a"
             ],
             [
              0.8888888888888888,
              "#fdca26"
             ],
             [
              1,
              "#f0f921"
             ]
            ],
            "type": "contour"
           }
          ],
          "contourcarpet": [
           {
            "colorbar": {
             "outlinewidth": 0,
             "ticks": ""
            },
            "type": "contourcarpet"
           }
          ],
          "heatmap": [
           {
            "colorbar": {
             "outlinewidth": 0,
             "ticks": ""
            },
            "colorscale": [
             [
              0,
              "#0d0887"
             ],
             [
              0.1111111111111111,
              "#46039f"
             ],
             [
              0.2222222222222222,
              "#7201a8"
             ],
             [
              0.3333333333333333,
              "#9c179e"
             ],
             [
              0.4444444444444444,
              "#bd3786"
             ],
             [
              0.5555555555555556,
              "#d8576b"
             ],
             [
              0.6666666666666666,
              "#ed7953"
             ],
             [
              0.7777777777777778,
              "#fb9f3a"
             ],
             [
              0.8888888888888888,
              "#fdca26"
             ],
             [
              1,
              "#f0f921"
             ]
            ],
            "type": "heatmap"
           }
          ],
          "heatmapgl": [
           {
            "colorbar": {
             "outlinewidth": 0,
             "ticks": ""
            },
            "colorscale": [
             [
              0,
              "#0d0887"
             ],
             [
              0.1111111111111111,
              "#46039f"
             ],
             [
              0.2222222222222222,
              "#7201a8"
             ],
             [
              0.3333333333333333,
              "#9c179e"
             ],
             [
              0.4444444444444444,
              "#bd3786"
             ],
             [
              0.5555555555555556,
              "#d8576b"
             ],
             [
              0.6666666666666666,
              "#ed7953"
             ],
             [
              0.7777777777777778,
              "#fb9f3a"
             ],
             [
              0.8888888888888888,
              "#fdca26"
             ],
             [
              1,
              "#f0f921"
             ]
            ],
            "type": "heatmapgl"
           }
          ],
          "histogram": [
           {
            "marker": {
             "pattern": {
              "fillmode": "overlay",
              "size": 10,
              "solidity": 0.2
             }
            },
            "type": "histogram"
           }
          ],
          "histogram2d": [
           {
            "colorbar": {
             "outlinewidth": 0,
             "ticks": ""
            },
            "colorscale": [
             [
              0,
              "#0d0887"
             ],
             [
              0.1111111111111111,
              "#46039f"
             ],
             [
              0.2222222222222222,
              "#7201a8"
             ],
             [
              0.3333333333333333,
              "#9c179e"
             ],
             [
              0.4444444444444444,
              "#bd3786"
             ],
             [
              0.5555555555555556,
              "#d8576b"
             ],
             [
              0.6666666666666666,
              "#ed7953"
             ],
             [
              0.7777777777777778,
              "#fb9f3a"
             ],
             [
              0.8888888888888888,
              "#fdca26"
             ],
             [
              1,
              "#f0f921"
             ]
            ],
            "type": "histogram2d"
           }
          ],
          "histogram2dcontour": [
           {
            "colorbar": {
             "outlinewidth": 0,
             "ticks": ""
            },
            "colorscale": [
             [
              0,
              "#0d0887"
             ],
             [
              0.1111111111111111,
              "#46039f"
             ],
             [
              0.2222222222222222,
              "#7201a8"
             ],
             [
              0.3333333333333333,
              "#9c179e"
             ],
             [
              0.4444444444444444,
              "#bd3786"
             ],
             [
              0.5555555555555556,
              "#d8576b"
             ],
             [
              0.6666666666666666,
              "#ed7953"
             ],
             [
              0.7777777777777778,
              "#fb9f3a"
             ],
             [
              0.8888888888888888,
              "#fdca26"
             ],
             [
              1,
              "#f0f921"
             ]
            ],
            "type": "histogram2dcontour"
           }
          ],
          "mesh3d": [
           {
            "colorbar": {
             "outlinewidth": 0,
             "ticks": ""
            },
            "type": "mesh3d"
           }
          ],
          "parcoords": [
           {
            "line": {
             "colorbar": {
              "outlinewidth": 0,
              "ticks": ""
             }
            },
            "type": "parcoords"
           }
          ],
          "pie": [
           {
            "automargin": true,
            "type": "pie"
           }
          ],
          "scatter": [
           {
            "fillpattern": {
             "fillmode": "overlay",
             "size": 10,
             "solidity": 0.2
            },
            "type": "scatter"
           }
          ],
          "scatter3d": [
           {
            "line": {
             "colorbar": {
              "outlinewidth": 0,
              "ticks": ""
             }
            },
            "marker": {
             "colorbar": {
              "outlinewidth": 0,
              "ticks": ""
             }
            },
            "type": "scatter3d"
           }
          ],
          "scattercarpet": [
           {
            "marker": {
             "colorbar": {
              "outlinewidth": 0,
              "ticks": ""
             }
            },
            "type": "scattercarpet"
           }
          ],
          "scattergeo": [
           {
            "marker": {
             "colorbar": {
              "outlinewidth": 0,
              "ticks": ""
             }
            },
            "type": "scattergeo"
           }
          ],
          "scattergl": [
           {
            "marker": {
             "colorbar": {
              "outlinewidth": 0,
              "ticks": ""
             }
            },
            "type": "scattergl"
           }
          ],
          "scattermapbox": [
           {
            "marker": {
             "colorbar": {
              "outlinewidth": 0,
              "ticks": ""
             }
            },
            "type": "scattermapbox"
           }
          ],
          "scatterpolar": [
           {
            "marker": {
             "colorbar": {
              "outlinewidth": 0,
              "ticks": ""
             }
            },
            "type": "scatterpolar"
           }
          ],
          "scatterpolargl": [
           {
            "marker": {
             "colorbar": {
              "outlinewidth": 0,
              "ticks": ""
             }
            },
            "type": "scatterpolargl"
           }
          ],
          "scatterternary": [
           {
            "marker": {
             "colorbar": {
              "outlinewidth": 0,
              "ticks": ""
             }
            },
            "type": "scatterternary"
           }
          ],
          "surface": [
           {
            "colorbar": {
             "outlinewidth": 0,
             "ticks": ""
            },
            "colorscale": [
             [
              0,
              "#0d0887"
             ],
             [
              0.1111111111111111,
              "#46039f"
             ],
             [
              0.2222222222222222,
              "#7201a8"
             ],
             [
              0.3333333333333333,
              "#9c179e"
             ],
             [
              0.4444444444444444,
              "#bd3786"
             ],
             [
              0.5555555555555556,
              "#d8576b"
             ],
             [
              0.6666666666666666,
              "#ed7953"
             ],
             [
              0.7777777777777778,
              "#fb9f3a"
             ],
             [
              0.8888888888888888,
              "#fdca26"
             ],
             [
              1,
              "#f0f921"
             ]
            ],
            "type": "surface"
           }
          ],
          "table": [
           {
            "cells": {
             "fill": {
              "color": "#EBF0F8"
             },
             "line": {
              "color": "white"
             }
            },
            "header": {
             "fill": {
              "color": "#C8D4E3"
             },
             "line": {
              "color": "white"
             }
            },
            "type": "table"
           }
          ]
         },
         "layout": {
          "annotationdefaults": {
           "arrowcolor": "#2a3f5f",
           "arrowhead": 0,
           "arrowwidth": 1
          },
          "autotypenumbers": "strict",
          "coloraxis": {
           "colorbar": {
            "outlinewidth": 0,
            "ticks": ""
           }
          },
          "colorscale": {
           "diverging": [
            [
             0,
             "#8e0152"
            ],
            [
             0.1,
             "#c51b7d"
            ],
            [
             0.2,
             "#de77ae"
            ],
            [
             0.3,
             "#f1b6da"
            ],
            [
             0.4,
             "#fde0ef"
            ],
            [
             0.5,
             "#f7f7f7"
            ],
            [
             0.6,
             "#e6f5d0"
            ],
            [
             0.7,
             "#b8e186"
            ],
            [
             0.8,
             "#7fbc41"
            ],
            [
             0.9,
             "#4d9221"
            ],
            [
             1,
             "#276419"
            ]
           ],
           "sequential": [
            [
             0,
             "#0d0887"
            ],
            [
             0.1111111111111111,
             "#46039f"
            ],
            [
             0.2222222222222222,
             "#7201a8"
            ],
            [
             0.3333333333333333,
             "#9c179e"
            ],
            [
             0.4444444444444444,
             "#bd3786"
            ],
            [
             0.5555555555555556,
             "#d8576b"
            ],
            [
             0.6666666666666666,
             "#ed7953"
            ],
            [
             0.7777777777777778,
             "#fb9f3a"
            ],
            [
             0.8888888888888888,
             "#fdca26"
            ],
            [
             1,
             "#f0f921"
            ]
           ],
           "sequentialminus": [
            [
             0,
             "#0d0887"
            ],
            [
             0.1111111111111111,
             "#46039f"
            ],
            [
             0.2222222222222222,
             "#7201a8"
            ],
            [
             0.3333333333333333,
             "#9c179e"
            ],
            [
             0.4444444444444444,
             "#bd3786"
            ],
            [
             0.5555555555555556,
             "#d8576b"
            ],
            [
             0.6666666666666666,
             "#ed7953"
            ],
            [
             0.7777777777777778,
             "#fb9f3a"
            ],
            [
             0.8888888888888888,
             "#fdca26"
            ],
            [
             1,
             "#f0f921"
            ]
           ]
          },
          "colorway": [
           "#636efa",
           "#EF553B",
           "#00cc96",
           "#ab63fa",
           "#FFA15A",
           "#19d3f3",
           "#FF6692",
           "#B6E880",
           "#FF97FF",
           "#FECB52"
          ],
          "font": {
           "color": "#2a3f5f"
          },
          "geo": {
           "bgcolor": "white",
           "lakecolor": "white",
           "landcolor": "#E5ECF6",
           "showlakes": true,
           "showland": true,
           "subunitcolor": "white"
          },
          "hoverlabel": {
           "align": "left"
          },
          "hovermode": "closest",
          "mapbox": {
           "style": "light"
          },
          "paper_bgcolor": "white",
          "plot_bgcolor": "#E5ECF6",
          "polar": {
           "angularaxis": {
            "gridcolor": "white",
            "linecolor": "white",
            "ticks": ""
           },
           "bgcolor": "#E5ECF6",
           "radialaxis": {
            "gridcolor": "white",
            "linecolor": "white",
            "ticks": ""
           }
          },
          "scene": {
           "xaxis": {
            "backgroundcolor": "#E5ECF6",
            "gridcolor": "white",
            "gridwidth": 2,
            "linecolor": "white",
            "showbackground": true,
            "ticks": "",
            "zerolinecolor": "white"
           },
           "yaxis": {
            "backgroundcolor": "#E5ECF6",
            "gridcolor": "white",
            "gridwidth": 2,
            "linecolor": "white",
            "showbackground": true,
            "ticks": "",
            "zerolinecolor": "white"
           },
           "zaxis": {
            "backgroundcolor": "#E5ECF6",
            "gridcolor": "white",
            "gridwidth": 2,
            "linecolor": "white",
            "showbackground": true,
            "ticks": "",
            "zerolinecolor": "white"
           }
          },
          "shapedefaults": {
           "line": {
            "color": "#2a3f5f"
           }
          },
          "ternary": {
           "aaxis": {
            "gridcolor": "white",
            "linecolor": "white",
            "ticks": ""
           },
           "baxis": {
            "gridcolor": "white",
            "linecolor": "white",
            "ticks": ""
           },
           "bgcolor": "#E5ECF6",
           "caxis": {
            "gridcolor": "white",
            "linecolor": "white",
            "ticks": ""
           }
          },
          "title": {
           "x": 0.05
          },
          "xaxis": {
           "automargin": true,
           "gridcolor": "white",
           "linecolor": "white",
           "ticks": "",
           "title": {
            "standoff": 15
           },
           "zerolinecolor": "white",
           "zerolinewidth": 2
          },
          "yaxis": {
           "automargin": true,
           "gridcolor": "white",
           "linecolor": "white",
           "ticks": "",
           "title": {
            "standoff": 15
           },
           "zerolinecolor": "white",
           "zerolinewidth": 2
          }
         }
        },
        "title": {
         "font": {
          "size": 20
         },
         "text": "Распределение регистраций пользователей без действий по дням",
         "x": 0.5
        },
        "width": 950,
        "xaxis": {
         "anchor": "y",
         "domain": [
          0,
          1
         ],
         "title": {
          "text": "first_date"
         }
        },
        "yaxis": {
         "anchor": "x",
         "domain": [
          0,
          1
         ],
         "title": {
          "text": "Количество пользователей"
         }
        }
       }
      }
     },
     "metadata": {},
     "output_type": "display_data"
    }
   ],
   "source": [
    "fig = px.bar(temp_table, x=\"first_date\", y=\"count_user\",\n",
    "             title=\"Распределение регистраций пользователей без действий по дням\",\n",
    "             labels={\n",
    "                     'count_user': 'Количество пользователей',\n",
    "                     'dt': 'Дата'},\n",
    "             width= 950, height=700)\n",
    "fig.update_traces(textfont_size=14, textangle=0, textposition=\"outside\", cliponaxis=False)\n",
    "fig.update_layout(title_x=0.5, title=dict(font=dict(size=20)),\n",
    "                               legend=dict(font=dict(size=15)),\n",
    "                               font=dict(size=15))\n",
    "fig.show()"
   ]
  },
  {
   "cell_type": "code",
   "execution_count": 40,
   "metadata": {},
   "outputs": [
    {
     "data": {
      "text/html": [
       "<div>\n",
       "<style scoped>\n",
       "    .dataframe tbody tr th:only-of-type {\n",
       "        vertical-align: middle;\n",
       "    }\n",
       "\n",
       "    .dataframe tbody tr th {\n",
       "        vertical-align: top;\n",
       "    }\n",
       "\n",
       "    .dataframe thead th {\n",
       "        text-align: right;\n",
       "    }\n",
       "</style>\n",
       "<table border=\"1\" class=\"dataframe\">\n",
       "  <thead>\n",
       "    <tr style=\"text-align: right;\">\n",
       "      <th></th>\n",
       "      <th>first_date</th>\n",
       "      <th>count_user_a</th>\n",
       "      <th>count_user_b</th>\n",
       "    </tr>\n",
       "  </thead>\n",
       "  <tbody>\n",
       "    <tr>\n",
       "      <th>0</th>\n",
       "      <td>2020-12-07</td>\n",
       "      <td>175.00</td>\n",
       "      <td>70</td>\n",
       "    </tr>\n",
       "    <tr>\n",
       "      <th>1</th>\n",
       "      <td>2020-12-08</td>\n",
       "      <td>83.00</td>\n",
       "      <td>88</td>\n",
       "    </tr>\n",
       "    <tr>\n",
       "      <th>2</th>\n",
       "      <td>2020-12-09</td>\n",
       "      <td>53.00</td>\n",
       "      <td>22</td>\n",
       "    </tr>\n",
       "    <tr>\n",
       "      <th>3</th>\n",
       "      <td>2020-12-10</td>\n",
       "      <td>110.00</td>\n",
       "      <td>132</td>\n",
       "    </tr>\n",
       "    <tr>\n",
       "      <th>4</th>\n",
       "      <td>2020-12-11</td>\n",
       "      <td>60.00</td>\n",
       "      <td>79</td>\n",
       "    </tr>\n",
       "    <tr>\n",
       "      <th>5</th>\n",
       "      <td>2020-12-12</td>\n",
       "      <td>187.00</td>\n",
       "      <td>127</td>\n",
       "    </tr>\n",
       "    <tr>\n",
       "      <th>6</th>\n",
       "      <td>2020-12-13</td>\n",
       "      <td>248.00</td>\n",
       "      <td>186</td>\n",
       "    </tr>\n",
       "    <tr>\n",
       "      <th>7</th>\n",
       "      <td>2020-12-14</td>\n",
       "      <td>NaN</td>\n",
       "      <td>169</td>\n",
       "    </tr>\n",
       "    <tr>\n",
       "      <th>8</th>\n",
       "      <td>2020-12-15</td>\n",
       "      <td>NaN</td>\n",
       "      <td>95</td>\n",
       "    </tr>\n",
       "    <tr>\n",
       "      <th>9</th>\n",
       "      <td>2020-12-16</td>\n",
       "      <td>NaN</td>\n",
       "      <td>16</td>\n",
       "    </tr>\n",
       "    <tr>\n",
       "      <th>10</th>\n",
       "      <td>2020-12-17</td>\n",
       "      <td>NaN</td>\n",
       "      <td>89</td>\n",
       "    </tr>\n",
       "    <tr>\n",
       "      <th>11</th>\n",
       "      <td>2020-12-18</td>\n",
       "      <td>NaN</td>\n",
       "      <td>105</td>\n",
       "    </tr>\n",
       "    <tr>\n",
       "      <th>12</th>\n",
       "      <td>2020-12-19</td>\n",
       "      <td>NaN</td>\n",
       "      <td>120</td>\n",
       "    </tr>\n",
       "    <tr>\n",
       "      <th>13</th>\n",
       "      <td>2020-12-20</td>\n",
       "      <td>NaN</td>\n",
       "      <td>129</td>\n",
       "    </tr>\n",
       "    <tr>\n",
       "      <th>14</th>\n",
       "      <td>2020-12-21</td>\n",
       "      <td>NaN</td>\n",
       "      <td>175</td>\n",
       "    </tr>\n",
       "  </tbody>\n",
       "</table>\n",
       "</div>"
      ],
      "text/plain": [
       "   first_date  count_user_a  count_user_b\n",
       "0  2020-12-07 175.00         70          \n",
       "1  2020-12-08 83.00          88          \n",
       "2  2020-12-09 53.00          22          \n",
       "3  2020-12-10 110.00         132         \n",
       "4  2020-12-11 60.00          79          \n",
       "5  2020-12-12 187.00         127         \n",
       "6  2020-12-13 248.00         186         \n",
       "7  2020-12-14 NaN            169         \n",
       "8  2020-12-15 NaN            95          \n",
       "9  2020-12-16 NaN            16          \n",
       "10 2020-12-17 NaN            89          \n",
       "11 2020-12-18 NaN            105         \n",
       "12 2020-12-19 NaN            120         \n",
       "13 2020-12-20 NaN            129         \n",
       "14 2020-12-21 NaN            175         "
      ]
     },
     "execution_count": 40,
     "metadata": {},
     "output_type": "execute_result"
    }
   ],
   "source": [
    "# разобьем на группы \n",
    "temp_table_a = df[(df['event_name'].isna()) & (df['group'] == 'A')].groupby(['first_date'])['user_id'].agg('count').reset_index().rename(columns={'user_id': 'count_user_a'})\n",
    "temp_table_b = df[(df['event_name'].isna()) & (df['group'] == 'B')].groupby(['first_date'])['user_id'].agg('count').reset_index().rename(columns={'user_id': 'count_user_b'})\n",
    "temp_table = temp_table_a.merge(temp_table_b, on='first_date', how='outer')\n",
    "temp_table"
   ]
  },
  {
   "cell_type": "code",
   "execution_count": 41,
   "metadata": {},
   "outputs": [
    {
     "data": {
      "application/vnd.plotly.v1+json": {
       "config": {
        "plotlyServerURL": "https://plot.ly"
       },
       "data": [
        {
         "name": "Группа A",
         "type": "bar",
         "x": [
          "2020-12-07T00:00:00",
          "2020-12-08T00:00:00",
          "2020-12-09T00:00:00",
          "2020-12-10T00:00:00",
          "2020-12-11T00:00:00",
          "2020-12-12T00:00:00",
          "2020-12-13T00:00:00",
          "2020-12-14T00:00:00",
          "2020-12-15T00:00:00",
          "2020-12-16T00:00:00",
          "2020-12-17T00:00:00",
          "2020-12-18T00:00:00",
          "2020-12-19T00:00:00",
          "2020-12-20T00:00:00",
          "2020-12-21T00:00:00"
         ],
         "y": [
          175,
          83,
          53,
          110,
          60,
          187,
          248,
          null,
          null,
          null,
          null,
          null,
          null,
          null,
          null
         ]
        },
        {
         "name": "Группа B",
         "type": "bar",
         "x": [
          "2020-12-07T00:00:00",
          "2020-12-08T00:00:00",
          "2020-12-09T00:00:00",
          "2020-12-10T00:00:00",
          "2020-12-11T00:00:00",
          "2020-12-12T00:00:00",
          "2020-12-13T00:00:00",
          "2020-12-14T00:00:00",
          "2020-12-15T00:00:00",
          "2020-12-16T00:00:00",
          "2020-12-17T00:00:00",
          "2020-12-18T00:00:00",
          "2020-12-19T00:00:00",
          "2020-12-20T00:00:00",
          "2020-12-21T00:00:00"
         ],
         "y": [
          70,
          88,
          22,
          132,
          79,
          127,
          186,
          169,
          95,
          16,
          89,
          105,
          120,
          129,
          175
         ]
        }
       ],
       "layout": {
        "barmode": "group",
        "height": 700,
        "template": {
         "data": {
          "bar": [
           {
            "error_x": {
             "color": "#2a3f5f"
            },
            "error_y": {
             "color": "#2a3f5f"
            },
            "marker": {
             "line": {
              "color": "#E5ECF6",
              "width": 0.5
             },
             "pattern": {
              "fillmode": "overlay",
              "size": 10,
              "solidity": 0.2
             }
            },
            "type": "bar"
           }
          ],
          "barpolar": [
           {
            "marker": {
             "line": {
              "color": "#E5ECF6",
              "width": 0.5
             },
             "pattern": {
              "fillmode": "overlay",
              "size": 10,
              "solidity": 0.2
             }
            },
            "type": "barpolar"
           }
          ],
          "carpet": [
           {
            "aaxis": {
             "endlinecolor": "#2a3f5f",
             "gridcolor": "white",
             "linecolor": "white",
             "minorgridcolor": "white",
             "startlinecolor": "#2a3f5f"
            },
            "baxis": {
             "endlinecolor": "#2a3f5f",
             "gridcolor": "white",
             "linecolor": "white",
             "minorgridcolor": "white",
             "startlinecolor": "#2a3f5f"
            },
            "type": "carpet"
           }
          ],
          "choropleth": [
           {
            "colorbar": {
             "outlinewidth": 0,
             "ticks": ""
            },
            "type": "choropleth"
           }
          ],
          "contour": [
           {
            "colorbar": {
             "outlinewidth": 0,
             "ticks": ""
            },
            "colorscale": [
             [
              0,
              "#0d0887"
             ],
             [
              0.1111111111111111,
              "#46039f"
             ],
             [
              0.2222222222222222,
              "#7201a8"
             ],
             [
              0.3333333333333333,
              "#9c179e"
             ],
             [
              0.4444444444444444,
              "#bd3786"
             ],
             [
              0.5555555555555556,
              "#d8576b"
             ],
             [
              0.6666666666666666,
              "#ed7953"
             ],
             [
              0.7777777777777778,
              "#fb9f3a"
             ],
             [
              0.8888888888888888,
              "#fdca26"
             ],
             [
              1,
              "#f0f921"
             ]
            ],
            "type": "contour"
           }
          ],
          "contourcarpet": [
           {
            "colorbar": {
             "outlinewidth": 0,
             "ticks": ""
            },
            "type": "contourcarpet"
           }
          ],
          "heatmap": [
           {
            "colorbar": {
             "outlinewidth": 0,
             "ticks": ""
            },
            "colorscale": [
             [
              0,
              "#0d0887"
             ],
             [
              0.1111111111111111,
              "#46039f"
             ],
             [
              0.2222222222222222,
              "#7201a8"
             ],
             [
              0.3333333333333333,
              "#9c179e"
             ],
             [
              0.4444444444444444,
              "#bd3786"
             ],
             [
              0.5555555555555556,
              "#d8576b"
             ],
             [
              0.6666666666666666,
              "#ed7953"
             ],
             [
              0.7777777777777778,
              "#fb9f3a"
             ],
             [
              0.8888888888888888,
              "#fdca26"
             ],
             [
              1,
              "#f0f921"
             ]
            ],
            "type": "heatmap"
           }
          ],
          "heatmapgl": [
           {
            "colorbar": {
             "outlinewidth": 0,
             "ticks": ""
            },
            "colorscale": [
             [
              0,
              "#0d0887"
             ],
             [
              0.1111111111111111,
              "#46039f"
             ],
             [
              0.2222222222222222,
              "#7201a8"
             ],
             [
              0.3333333333333333,
              "#9c179e"
             ],
             [
              0.4444444444444444,
              "#bd3786"
             ],
             [
              0.5555555555555556,
              "#d8576b"
             ],
             [
              0.6666666666666666,
              "#ed7953"
             ],
             [
              0.7777777777777778,
              "#fb9f3a"
             ],
             [
              0.8888888888888888,
              "#fdca26"
             ],
             [
              1,
              "#f0f921"
             ]
            ],
            "type": "heatmapgl"
           }
          ],
          "histogram": [
           {
            "marker": {
             "pattern": {
              "fillmode": "overlay",
              "size": 10,
              "solidity": 0.2
             }
            },
            "type": "histogram"
           }
          ],
          "histogram2d": [
           {
            "colorbar": {
             "outlinewidth": 0,
             "ticks": ""
            },
            "colorscale": [
             [
              0,
              "#0d0887"
             ],
             [
              0.1111111111111111,
              "#46039f"
             ],
             [
              0.2222222222222222,
              "#7201a8"
             ],
             [
              0.3333333333333333,
              "#9c179e"
             ],
             [
              0.4444444444444444,
              "#bd3786"
             ],
             [
              0.5555555555555556,
              "#d8576b"
             ],
             [
              0.6666666666666666,
              "#ed7953"
             ],
             [
              0.7777777777777778,
              "#fb9f3a"
             ],
             [
              0.8888888888888888,
              "#fdca26"
             ],
             [
              1,
              "#f0f921"
             ]
            ],
            "type": "histogram2d"
           }
          ],
          "histogram2dcontour": [
           {
            "colorbar": {
             "outlinewidth": 0,
             "ticks": ""
            },
            "colorscale": [
             [
              0,
              "#0d0887"
             ],
             [
              0.1111111111111111,
              "#46039f"
             ],
             [
              0.2222222222222222,
              "#7201a8"
             ],
             [
              0.3333333333333333,
              "#9c179e"
             ],
             [
              0.4444444444444444,
              "#bd3786"
             ],
             [
              0.5555555555555556,
              "#d8576b"
             ],
             [
              0.6666666666666666,
              "#ed7953"
             ],
             [
              0.7777777777777778,
              "#fb9f3a"
             ],
             [
              0.8888888888888888,
              "#fdca26"
             ],
             [
              1,
              "#f0f921"
             ]
            ],
            "type": "histogram2dcontour"
           }
          ],
          "mesh3d": [
           {
            "colorbar": {
             "outlinewidth": 0,
             "ticks": ""
            },
            "type": "mesh3d"
           }
          ],
          "parcoords": [
           {
            "line": {
             "colorbar": {
              "outlinewidth": 0,
              "ticks": ""
             }
            },
            "type": "parcoords"
           }
          ],
          "pie": [
           {
            "automargin": true,
            "type": "pie"
           }
          ],
          "scatter": [
           {
            "fillpattern": {
             "fillmode": "overlay",
             "size": 10,
             "solidity": 0.2
            },
            "type": "scatter"
           }
          ],
          "scatter3d": [
           {
            "line": {
             "colorbar": {
              "outlinewidth": 0,
              "ticks": ""
             }
            },
            "marker": {
             "colorbar": {
              "outlinewidth": 0,
              "ticks": ""
             }
            },
            "type": "scatter3d"
           }
          ],
          "scattercarpet": [
           {
            "marker": {
             "colorbar": {
              "outlinewidth": 0,
              "ticks": ""
             }
            },
            "type": "scattercarpet"
           }
          ],
          "scattergeo": [
           {
            "marker": {
             "colorbar": {
              "outlinewidth": 0,
              "ticks": ""
             }
            },
            "type": "scattergeo"
           }
          ],
          "scattergl": [
           {
            "marker": {
             "colorbar": {
              "outlinewidth": 0,
              "ticks": ""
             }
            },
            "type": "scattergl"
           }
          ],
          "scattermapbox": [
           {
            "marker": {
             "colorbar": {
              "outlinewidth": 0,
              "ticks": ""
             }
            },
            "type": "scattermapbox"
           }
          ],
          "scatterpolar": [
           {
            "marker": {
             "colorbar": {
              "outlinewidth": 0,
              "ticks": ""
             }
            },
            "type": "scatterpolar"
           }
          ],
          "scatterpolargl": [
           {
            "marker": {
             "colorbar": {
              "outlinewidth": 0,
              "ticks": ""
             }
            },
            "type": "scatterpolargl"
           }
          ],
          "scatterternary": [
           {
            "marker": {
             "colorbar": {
              "outlinewidth": 0,
              "ticks": ""
             }
            },
            "type": "scatterternary"
           }
          ],
          "surface": [
           {
            "colorbar": {
             "outlinewidth": 0,
             "ticks": ""
            },
            "colorscale": [
             [
              0,
              "#0d0887"
             ],
             [
              0.1111111111111111,
              "#46039f"
             ],
             [
              0.2222222222222222,
              "#7201a8"
             ],
             [
              0.3333333333333333,
              "#9c179e"
             ],
             [
              0.4444444444444444,
              "#bd3786"
             ],
             [
              0.5555555555555556,
              "#d8576b"
             ],
             [
              0.6666666666666666,
              "#ed7953"
             ],
             [
              0.7777777777777778,
              "#fb9f3a"
             ],
             [
              0.8888888888888888,
              "#fdca26"
             ],
             [
              1,
              "#f0f921"
             ]
            ],
            "type": "surface"
           }
          ],
          "table": [
           {
            "cells": {
             "fill": {
              "color": "#EBF0F8"
             },
             "line": {
              "color": "white"
             }
            },
            "header": {
             "fill": {
              "color": "#C8D4E3"
             },
             "line": {
              "color": "white"
             }
            },
            "type": "table"
           }
          ]
         },
         "layout": {
          "annotationdefaults": {
           "arrowcolor": "#2a3f5f",
           "arrowhead": 0,
           "arrowwidth": 1
          },
          "autotypenumbers": "strict",
          "coloraxis": {
           "colorbar": {
            "outlinewidth": 0,
            "ticks": ""
           }
          },
          "colorscale": {
           "diverging": [
            [
             0,
             "#8e0152"
            ],
            [
             0.1,
             "#c51b7d"
            ],
            [
             0.2,
             "#de77ae"
            ],
            [
             0.3,
             "#f1b6da"
            ],
            [
             0.4,
             "#fde0ef"
            ],
            [
             0.5,
             "#f7f7f7"
            ],
            [
             0.6,
             "#e6f5d0"
            ],
            [
             0.7,
             "#b8e186"
            ],
            [
             0.8,
             "#7fbc41"
            ],
            [
             0.9,
             "#4d9221"
            ],
            [
             1,
             "#276419"
            ]
           ],
           "sequential": [
            [
             0,
             "#0d0887"
            ],
            [
             0.1111111111111111,
             "#46039f"
            ],
            [
             0.2222222222222222,
             "#7201a8"
            ],
            [
             0.3333333333333333,
             "#9c179e"
            ],
            [
             0.4444444444444444,
             "#bd3786"
            ],
            [
             0.5555555555555556,
             "#d8576b"
            ],
            [
             0.6666666666666666,
             "#ed7953"
            ],
            [
             0.7777777777777778,
             "#fb9f3a"
            ],
            [
             0.8888888888888888,
             "#fdca26"
            ],
            [
             1,
             "#f0f921"
            ]
           ],
           "sequentialminus": [
            [
             0,
             "#0d0887"
            ],
            [
             0.1111111111111111,
             "#46039f"
            ],
            [
             0.2222222222222222,
             "#7201a8"
            ],
            [
             0.3333333333333333,
             "#9c179e"
            ],
            [
             0.4444444444444444,
             "#bd3786"
            ],
            [
             0.5555555555555556,
             "#d8576b"
            ],
            [
             0.6666666666666666,
             "#ed7953"
            ],
            [
             0.7777777777777778,
             "#fb9f3a"
            ],
            [
             0.8888888888888888,
             "#fdca26"
            ],
            [
             1,
             "#f0f921"
            ]
           ]
          },
          "colorway": [
           "#636efa",
           "#EF553B",
           "#00cc96",
           "#ab63fa",
           "#FFA15A",
           "#19d3f3",
           "#FF6692",
           "#B6E880",
           "#FF97FF",
           "#FECB52"
          ],
          "font": {
           "color": "#2a3f5f"
          },
          "geo": {
           "bgcolor": "white",
           "lakecolor": "white",
           "landcolor": "#E5ECF6",
           "showlakes": true,
           "showland": true,
           "subunitcolor": "white"
          },
          "hoverlabel": {
           "align": "left"
          },
          "hovermode": "closest",
          "mapbox": {
           "style": "light"
          },
          "paper_bgcolor": "white",
          "plot_bgcolor": "#E5ECF6",
          "polar": {
           "angularaxis": {
            "gridcolor": "white",
            "linecolor": "white",
            "ticks": ""
           },
           "bgcolor": "#E5ECF6",
           "radialaxis": {
            "gridcolor": "white",
            "linecolor": "white",
            "ticks": ""
           }
          },
          "scene": {
           "xaxis": {
            "backgroundcolor": "#E5ECF6",
            "gridcolor": "white",
            "gridwidth": 2,
            "linecolor": "white",
            "showbackground": true,
            "ticks": "",
            "zerolinecolor": "white"
           },
           "yaxis": {
            "backgroundcolor": "#E5ECF6",
            "gridcolor": "white",
            "gridwidth": 2,
            "linecolor": "white",
            "showbackground": true,
            "ticks": "",
            "zerolinecolor": "white"
           },
           "zaxis": {
            "backgroundcolor": "#E5ECF6",
            "gridcolor": "white",
            "gridwidth": 2,
            "linecolor": "white",
            "showbackground": true,
            "ticks": "",
            "zerolinecolor": "white"
           }
          },
          "shapedefaults": {
           "line": {
            "color": "#2a3f5f"
           }
          },
          "ternary": {
           "aaxis": {
            "gridcolor": "white",
            "linecolor": "white",
            "ticks": ""
           },
           "baxis": {
            "gridcolor": "white",
            "linecolor": "white",
            "ticks": ""
           },
           "bgcolor": "#E5ECF6",
           "caxis": {
            "gridcolor": "white",
            "linecolor": "white",
            "ticks": ""
           }
          },
          "title": {
           "x": 0.05
          },
          "xaxis": {
           "automargin": true,
           "gridcolor": "white",
           "linecolor": "white",
           "ticks": "",
           "title": {
            "standoff": 15
           },
           "zerolinecolor": "white",
           "zerolinewidth": 2
          },
          "yaxis": {
           "automargin": true,
           "gridcolor": "white",
           "linecolor": "white",
           "ticks": "",
           "title": {
            "standoff": 15
           },
           "zerolinecolor": "white",
           "zerolinewidth": 2
          }
         }
        },
        "title": {
         "text": "Распределение регистраций пользователей без действий по дням по группам"
        },
        "width": 950,
        "xaxis": {
         "title": {
          "text": "Дата"
         }
        },
        "yaxis": {
         "title": {
          "text": "Количество пользователей"
         }
        }
       }
      }
     },
     "metadata": {},
     "output_type": "display_data"
    }
   ],
   "source": [
    "fig = go.Figure(data=[\n",
    "    go.Bar(name='Группа A', x=temp_table['first_date'], y=temp_table['count_user_a']),\n",
    "    go.Bar(name='Группа B', x=temp_table['first_date'], y=temp_table['count_user_b'])\n",
    "])\n",
    "fig.update_layout(barmode='group',\n",
    "                  title='Распределение регистраций пользователей без действий по дням по группам',\n",
    "                  width=950,\n",
    "                  height=700,\n",
    "                  xaxis_title='Дата',\n",
    "                  yaxis_title='Количество пользователей')\n",
    "fig.show()"
   ]
  },
  {
   "cell_type": "markdown",
   "metadata": {},
   "source": [
    "##### Вывод\n",
    "Пользователей, которые не совершали действия в группе А набирали с `2020-12-07` до `2020-12-13`, а пользователей, которые не совершали действий в группе B набирали с `2020-12-07` до `2020-12-21`. Пока не знаю как интерпретировать данные, возможно, какой-то инсайт откроется на исследовательском анализе данных. Пока удалим этих пользователей \n",
    "\n",
    "\n",
    "\n"
   ]
  },
  {
   "cell_type": "code",
   "execution_count": 42,
   "metadata": {},
   "outputs": [
    {
     "name": "stdout",
     "output_type": "stream",
     "text": [
      "Датафрейм до преобразований: 23082\n",
      "Датафрейм после преобразований: 20564\n"
     ]
    }
   ],
   "source": [
    "print('Датафрейм до преобразований:', df.shape[0])\n",
    "df = df[df['event_dt'].isna()==False]\n",
    "print('Датафрейм после преобразований:', df.shape[0])"
   ]
  },
  {
   "cell_type": "markdown",
   "metadata": {},
   "source": [
    "#### 3.5.2 Проставляем лайфтайм и удаляем лишнее, согласно ТЗ"
   ]
  },
  {
   "cell_type": "code",
   "execution_count": 43,
   "metadata": {},
   "outputs": [
    {
     "name": "stdout",
     "output_type": "stream",
     "text": [
      "Датафрейм до преобразований: 20564\n",
      "Датафрейм после преобразований: 20034\n"
     ]
    }
   ],
   "source": [
    "#Теперь, согласно требованию в тз, нам нужно отказаться от событий, которые старше 14 дней, для этого рассчитаем лайфтайм:\n",
    "df['lifetime'] = df['event_dt'] - df['first_date']\n",
    "#df['lifetime'] = pd.to_datetime(df['lifetime'])\n",
    "df['lifetime'] = df['lifetime'].dt.days\n",
    "print('Датафрейм до преобразований:', df.shape[0])\n",
    "df = df[df['lifetime']<=14]\n",
    "print('Датафрейм после преобразований:', df.shape[0])"
   ]
  },
  {
   "cell_type": "code",
   "execution_count": 44,
   "metadata": {},
   "outputs": [
    {
     "name": "stdout",
     "output_type": "stream",
     "text": [
      "Датафрейм после преобразований: 20034\n"
     ]
    }
   ],
   "source": [
    "print('Датафрейм после преобразований:', df.shape[0])"
   ]
  },
  {
   "cell_type": "code",
   "execution_count": 45,
   "metadata": {},
   "outputs": [
    {
     "data": {
      "text/html": [
       "<div>\n",
       "<style scoped>\n",
       "    .dataframe tbody tr th:only-of-type {\n",
       "        vertical-align: middle;\n",
       "    }\n",
       "\n",
       "    .dataframe tbody tr th {\n",
       "        vertical-align: top;\n",
       "    }\n",
       "\n",
       "    .dataframe thead th {\n",
       "        text-align: right;\n",
       "    }\n",
       "</style>\n",
       "<table border=\"1\" class=\"dataframe\">\n",
       "  <thead>\n",
       "    <tr style=\"text-align: right;\">\n",
       "      <th></th>\n",
       "      <th>user_id</th>\n",
       "      <th>first_date</th>\n",
       "      <th>region</th>\n",
       "      <th>device</th>\n",
       "      <th>group</th>\n",
       "      <th>ab_test</th>\n",
       "      <th>event_dt</th>\n",
       "      <th>event_name</th>\n",
       "      <th>details</th>\n",
       "      <th>lifetime</th>\n",
       "    </tr>\n",
       "  </thead>\n",
       "  <tbody>\n",
       "    <tr>\n",
       "      <th>0</th>\n",
       "      <td>D72A72121175D8BE</td>\n",
       "      <td>2020-12-07</td>\n",
       "      <td>EU</td>\n",
       "      <td>PC</td>\n",
       "      <td>A</td>\n",
       "      <td>recommender_system_test</td>\n",
       "      <td>2020-12-07 21:52:10</td>\n",
       "      <td>product_page</td>\n",
       "      <td>NaN</td>\n",
       "      <td>0</td>\n",
       "    </tr>\n",
       "    <tr>\n",
       "      <th>1</th>\n",
       "      <td>D72A72121175D8BE</td>\n",
       "      <td>2020-12-07</td>\n",
       "      <td>EU</td>\n",
       "      <td>PC</td>\n",
       "      <td>A</td>\n",
       "      <td>recommender_system_test</td>\n",
       "      <td>2020-12-07 21:52:07</td>\n",
       "      <td>login</td>\n",
       "      <td>NaN</td>\n",
       "      <td>0</td>\n",
       "    </tr>\n",
       "    <tr>\n",
       "      <th>2</th>\n",
       "      <td>DD4352CDCF8C3D57</td>\n",
       "      <td>2020-12-07</td>\n",
       "      <td>EU</td>\n",
       "      <td>Android</td>\n",
       "      <td>B</td>\n",
       "      <td>recommender_system_test</td>\n",
       "      <td>2020-12-07 15:32:54</td>\n",
       "      <td>product_page</td>\n",
       "      <td>NaN</td>\n",
       "      <td>0</td>\n",
       "    </tr>\n",
       "    <tr>\n",
       "      <th>3</th>\n",
       "      <td>DD4352CDCF8C3D57</td>\n",
       "      <td>2020-12-07</td>\n",
       "      <td>EU</td>\n",
       "      <td>Android</td>\n",
       "      <td>B</td>\n",
       "      <td>recommender_system_test</td>\n",
       "      <td>2020-12-08 08:29:31</td>\n",
       "      <td>product_page</td>\n",
       "      <td>NaN</td>\n",
       "      <td>1</td>\n",
       "    </tr>\n",
       "    <tr>\n",
       "      <th>4</th>\n",
       "      <td>DD4352CDCF8C3D57</td>\n",
       "      <td>2020-12-07</td>\n",
       "      <td>EU</td>\n",
       "      <td>Android</td>\n",
       "      <td>B</td>\n",
       "      <td>recommender_system_test</td>\n",
       "      <td>2020-12-10 18:18:27</td>\n",
       "      <td>product_page</td>\n",
       "      <td>NaN</td>\n",
       "      <td>3</td>\n",
       "    </tr>\n",
       "  </tbody>\n",
       "</table>\n",
       "</div>"
      ],
      "text/plain": [
       "            user_id first_date region   device group                  ab_test  \\\n",
       "0  D72A72121175D8BE 2020-12-07  EU     PC       A     recommender_system_test   \n",
       "1  D72A72121175D8BE 2020-12-07  EU     PC       A     recommender_system_test   \n",
       "2  DD4352CDCF8C3D57 2020-12-07  EU     Android  B     recommender_system_test   \n",
       "3  DD4352CDCF8C3D57 2020-12-07  EU     Android  B     recommender_system_test   \n",
       "4  DD4352CDCF8C3D57 2020-12-07  EU     Android  B     recommender_system_test   \n",
       "\n",
       "             event_dt    event_name  details  lifetime  \n",
       "0 2020-12-07 21:52:10  product_page NaN       0         \n",
       "1 2020-12-07 21:52:07  login        NaN       0         \n",
       "2 2020-12-07 15:32:54  product_page NaN       0         \n",
       "3 2020-12-08 08:29:31  product_page NaN       1         \n",
       "4 2020-12-10 18:18:27  product_page NaN       3         "
      ]
     },
     "execution_count": 45,
     "metadata": {},
     "output_type": "execute_result"
    }
   ],
   "source": [
    "df.head()"
   ]
  },
  {
   "cell_type": "code",
   "execution_count": 46,
   "metadata": {},
   "outputs": [
    {
     "data": {
      "text/html": [
       "<div>\n",
       "<style scoped>\n",
       "    .dataframe tbody tr th:only-of-type {\n",
       "        vertical-align: middle;\n",
       "    }\n",
       "\n",
       "    .dataframe tbody tr th {\n",
       "        vertical-align: top;\n",
       "    }\n",
       "\n",
       "    .dataframe thead th {\n",
       "        text-align: right;\n",
       "    }\n",
       "</style>\n",
       "<table border=\"1\" class=\"dataframe\">\n",
       "  <thead>\n",
       "    <tr style=\"text-align: right;\">\n",
       "      <th></th>\n",
       "      <th>lifetime</th>\n",
       "      <th>count_event</th>\n",
       "    </tr>\n",
       "  </thead>\n",
       "  <tbody>\n",
       "    <tr>\n",
       "      <th>0</th>\n",
       "      <td>0</td>\n",
       "      <td>6769</td>\n",
       "    </tr>\n",
       "    <tr>\n",
       "      <th>1</th>\n",
       "      <td>1</td>\n",
       "      <td>3162</td>\n",
       "    </tr>\n",
       "    <tr>\n",
       "      <th>2</th>\n",
       "      <td>2</td>\n",
       "      <td>2138</td>\n",
       "    </tr>\n",
       "    <tr>\n",
       "      <th>3</th>\n",
       "      <td>3</td>\n",
       "      <td>1520</td>\n",
       "    </tr>\n",
       "    <tr>\n",
       "      <th>4</th>\n",
       "      <td>4</td>\n",
       "      <td>1239</td>\n",
       "    </tr>\n",
       "    <tr>\n",
       "      <th>5</th>\n",
       "      <td>5</td>\n",
       "      <td>992</td>\n",
       "    </tr>\n",
       "    <tr>\n",
       "      <th>6</th>\n",
       "      <td>6</td>\n",
       "      <td>865</td>\n",
       "    </tr>\n",
       "    <tr>\n",
       "      <th>7</th>\n",
       "      <td>7</td>\n",
       "      <td>813</td>\n",
       "    </tr>\n",
       "    <tr>\n",
       "      <th>8</th>\n",
       "      <td>8</td>\n",
       "      <td>634</td>\n",
       "    </tr>\n",
       "    <tr>\n",
       "      <th>9</th>\n",
       "      <td>9</td>\n",
       "      <td>516</td>\n",
       "    </tr>\n",
       "    <tr>\n",
       "      <th>10</th>\n",
       "      <td>10</td>\n",
       "      <td>431</td>\n",
       "    </tr>\n",
       "    <tr>\n",
       "      <th>11</th>\n",
       "      <td>11</td>\n",
       "      <td>275</td>\n",
       "    </tr>\n",
       "    <tr>\n",
       "      <th>12</th>\n",
       "      <td>12</td>\n",
       "      <td>283</td>\n",
       "    </tr>\n",
       "    <tr>\n",
       "      <th>13</th>\n",
       "      <td>13</td>\n",
       "      <td>212</td>\n",
       "    </tr>\n",
       "    <tr>\n",
       "      <th>14</th>\n",
       "      <td>14</td>\n",
       "      <td>185</td>\n",
       "    </tr>\n",
       "  </tbody>\n",
       "</table>\n",
       "</div>"
      ],
      "text/plain": [
       "    lifetime  count_event\n",
       "0   0         6769       \n",
       "1   1         3162       \n",
       "2   2         2138       \n",
       "3   3         1520       \n",
       "4   4         1239       \n",
       "5   5         992        \n",
       "6   6         865        \n",
       "7   7         813        \n",
       "8   8         634        \n",
       "9   9         516        \n",
       "10  10        431        \n",
       "11  11        275        \n",
       "12  12        283        \n",
       "13  13        212        \n",
       "14  14        185        "
      ]
     },
     "execution_count": 46,
     "metadata": {},
     "output_type": "execute_result"
    }
   ],
   "source": [
    "#Построим график распределения возраста событий \n",
    "temp_table = df.groupby(['lifetime'])['event_dt'].agg('count').reset_index().rename(columns={'event_dt': 'count_event'})\n",
    "temp_table\n",
    "\n"
   ]
  },
  {
   "cell_type": "code",
   "execution_count": 47,
   "metadata": {},
   "outputs": [
    {
     "data": {
      "application/vnd.plotly.v1+json": {
       "config": {
        "plotlyServerURL": "https://plot.ly"
       },
       "data": [
        {
         "alignmentgroup": "True",
         "cliponaxis": false,
         "hovertemplate": "Лайфтайм событий=%{x}<br>Количество событий в день=%{y}<extra></extra>",
         "legendgroup": "",
         "marker": {
          "color": "#636efa",
          "pattern": {
           "shape": ""
          }
         },
         "name": "",
         "offsetgroup": "",
         "orientation": "v",
         "showlegend": false,
         "textangle": 0,
         "textfont": {
          "size": 14
         },
         "textposition": "outside",
         "type": "bar",
         "x": [
          0,
          1,
          2,
          3,
          4,
          5,
          6,
          7,
          8,
          9,
          10,
          11,
          12,
          13,
          14
         ],
         "xaxis": "x",
         "y": [
          6769,
          3162,
          2138,
          1520,
          1239,
          992,
          865,
          813,
          634,
          516,
          431,
          275,
          283,
          212,
          185
         ],
         "yaxis": "y"
        }
       ],
       "layout": {
        "barmode": "relative",
        "font": {
         "size": 15
        },
        "height": 700,
        "legend": {
         "font": {
          "size": 15
         },
         "tracegroupgap": 0
        },
        "template": {
         "data": {
          "bar": [
           {
            "error_x": {
             "color": "#2a3f5f"
            },
            "error_y": {
             "color": "#2a3f5f"
            },
            "marker": {
             "line": {
              "color": "#E5ECF6",
              "width": 0.5
             },
             "pattern": {
              "fillmode": "overlay",
              "size": 10,
              "solidity": 0.2
             }
            },
            "type": "bar"
           }
          ],
          "barpolar": [
           {
            "marker": {
             "line": {
              "color": "#E5ECF6",
              "width": 0.5
             },
             "pattern": {
              "fillmode": "overlay",
              "size": 10,
              "solidity": 0.2
             }
            },
            "type": "barpolar"
           }
          ],
          "carpet": [
           {
            "aaxis": {
             "endlinecolor": "#2a3f5f",
             "gridcolor": "white",
             "linecolor": "white",
             "minorgridcolor": "white",
             "startlinecolor": "#2a3f5f"
            },
            "baxis": {
             "endlinecolor": "#2a3f5f",
             "gridcolor": "white",
             "linecolor": "white",
             "minorgridcolor": "white",
             "startlinecolor": "#2a3f5f"
            },
            "type": "carpet"
           }
          ],
          "choropleth": [
           {
            "colorbar": {
             "outlinewidth": 0,
             "ticks": ""
            },
            "type": "choropleth"
           }
          ],
          "contour": [
           {
            "colorbar": {
             "outlinewidth": 0,
             "ticks": ""
            },
            "colorscale": [
             [
              0,
              "#0d0887"
             ],
             [
              0.1111111111111111,
              "#46039f"
             ],
             [
              0.2222222222222222,
              "#7201a8"
             ],
             [
              0.3333333333333333,
              "#9c179e"
             ],
             [
              0.4444444444444444,
              "#bd3786"
             ],
             [
              0.5555555555555556,
              "#d8576b"
             ],
             [
              0.6666666666666666,
              "#ed7953"
             ],
             [
              0.7777777777777778,
              "#fb9f3a"
             ],
             [
              0.8888888888888888,
              "#fdca26"
             ],
             [
              1,
              "#f0f921"
             ]
            ],
            "type": "contour"
           }
          ],
          "contourcarpet": [
           {
            "colorbar": {
             "outlinewidth": 0,
             "ticks": ""
            },
            "type": "contourcarpet"
           }
          ],
          "heatmap": [
           {
            "colorbar": {
             "outlinewidth": 0,
             "ticks": ""
            },
            "colorscale": [
             [
              0,
              "#0d0887"
             ],
             [
              0.1111111111111111,
              "#46039f"
             ],
             [
              0.2222222222222222,
              "#7201a8"
             ],
             [
              0.3333333333333333,
              "#9c179e"
             ],
             [
              0.4444444444444444,
              "#bd3786"
             ],
             [
              0.5555555555555556,
              "#d8576b"
             ],
             [
              0.6666666666666666,
              "#ed7953"
             ],
             [
              0.7777777777777778,
              "#fb9f3a"
             ],
             [
              0.8888888888888888,
              "#fdca26"
             ],
             [
              1,
              "#f0f921"
             ]
            ],
            "type": "heatmap"
           }
          ],
          "heatmapgl": [
           {
            "colorbar": {
             "outlinewidth": 0,
             "ticks": ""
            },
            "colorscale": [
             [
              0,
              "#0d0887"
             ],
             [
              0.1111111111111111,
              "#46039f"
             ],
             [
              0.2222222222222222,
              "#7201a8"
             ],
             [
              0.3333333333333333,
              "#9c179e"
             ],
             [
              0.4444444444444444,
              "#bd3786"
             ],
             [
              0.5555555555555556,
              "#d8576b"
             ],
             [
              0.6666666666666666,
              "#ed7953"
             ],
             [
              0.7777777777777778,
              "#fb9f3a"
             ],
             [
              0.8888888888888888,
              "#fdca26"
             ],
             [
              1,
              "#f0f921"
             ]
            ],
            "type": "heatmapgl"
           }
          ],
          "histogram": [
           {
            "marker": {
             "pattern": {
              "fillmode": "overlay",
              "size": 10,
              "solidity": 0.2
             }
            },
            "type": "histogram"
           }
          ],
          "histogram2d": [
           {
            "colorbar": {
             "outlinewidth": 0,
             "ticks": ""
            },
            "colorscale": [
             [
              0,
              "#0d0887"
             ],
             [
              0.1111111111111111,
              "#46039f"
             ],
             [
              0.2222222222222222,
              "#7201a8"
             ],
             [
              0.3333333333333333,
              "#9c179e"
             ],
             [
              0.4444444444444444,
              "#bd3786"
             ],
             [
              0.5555555555555556,
              "#d8576b"
             ],
             [
              0.6666666666666666,
              "#ed7953"
             ],
             [
              0.7777777777777778,
              "#fb9f3a"
             ],
             [
              0.8888888888888888,
              "#fdca26"
             ],
             [
              1,
              "#f0f921"
             ]
            ],
            "type": "histogram2d"
           }
          ],
          "histogram2dcontour": [
           {
            "colorbar": {
             "outlinewidth": 0,
             "ticks": ""
            },
            "colorscale": [
             [
              0,
              "#0d0887"
             ],
             [
              0.1111111111111111,
              "#46039f"
             ],
             [
              0.2222222222222222,
              "#7201a8"
             ],
             [
              0.3333333333333333,
              "#9c179e"
             ],
             [
              0.4444444444444444,
              "#bd3786"
             ],
             [
              0.5555555555555556,
              "#d8576b"
             ],
             [
              0.6666666666666666,
              "#ed7953"
             ],
             [
              0.7777777777777778,
              "#fb9f3a"
             ],
             [
              0.8888888888888888,
              "#fdca26"
             ],
             [
              1,
              "#f0f921"
             ]
            ],
            "type": "histogram2dcontour"
           }
          ],
          "mesh3d": [
           {
            "colorbar": {
             "outlinewidth": 0,
             "ticks": ""
            },
            "type": "mesh3d"
           }
          ],
          "parcoords": [
           {
            "line": {
             "colorbar": {
              "outlinewidth": 0,
              "ticks": ""
             }
            },
            "type": "parcoords"
           }
          ],
          "pie": [
           {
            "automargin": true,
            "type": "pie"
           }
          ],
          "scatter": [
           {
            "fillpattern": {
             "fillmode": "overlay",
             "size": 10,
             "solidity": 0.2
            },
            "type": "scatter"
           }
          ],
          "scatter3d": [
           {
            "line": {
             "colorbar": {
              "outlinewidth": 0,
              "ticks": ""
             }
            },
            "marker": {
             "colorbar": {
              "outlinewidth": 0,
              "ticks": ""
             }
            },
            "type": "scatter3d"
           }
          ],
          "scattercarpet": [
           {
            "marker": {
             "colorbar": {
              "outlinewidth": 0,
              "ticks": ""
             }
            },
            "type": "scattercarpet"
           }
          ],
          "scattergeo": [
           {
            "marker": {
             "colorbar": {
              "outlinewidth": 0,
              "ticks": ""
             }
            },
            "type": "scattergeo"
           }
          ],
          "scattergl": [
           {
            "marker": {
             "colorbar": {
              "outlinewidth": 0,
              "ticks": ""
             }
            },
            "type": "scattergl"
           }
          ],
          "scattermapbox": [
           {
            "marker": {
             "colorbar": {
              "outlinewidth": 0,
              "ticks": ""
             }
            },
            "type": "scattermapbox"
           }
          ],
          "scatterpolar": [
           {
            "marker": {
             "colorbar": {
              "outlinewidth": 0,
              "ticks": ""
             }
            },
            "type": "scatterpolar"
           }
          ],
          "scatterpolargl": [
           {
            "marker": {
             "colorbar": {
              "outlinewidth": 0,
              "ticks": ""
             }
            },
            "type": "scatterpolargl"
           }
          ],
          "scatterternary": [
           {
            "marker": {
             "colorbar": {
              "outlinewidth": 0,
              "ticks": ""
             }
            },
            "type": "scatterternary"
           }
          ],
          "surface": [
           {
            "colorbar": {
             "outlinewidth": 0,
             "ticks": ""
            },
            "colorscale": [
             [
              0,
              "#0d0887"
             ],
             [
              0.1111111111111111,
              "#46039f"
             ],
             [
              0.2222222222222222,
              "#7201a8"
             ],
             [
              0.3333333333333333,
              "#9c179e"
             ],
             [
              0.4444444444444444,
              "#bd3786"
             ],
             [
              0.5555555555555556,
              "#d8576b"
             ],
             [
              0.6666666666666666,
              "#ed7953"
             ],
             [
              0.7777777777777778,
              "#fb9f3a"
             ],
             [
              0.8888888888888888,
              "#fdca26"
             ],
             [
              1,
              "#f0f921"
             ]
            ],
            "type": "surface"
           }
          ],
          "table": [
           {
            "cells": {
             "fill": {
              "color": "#EBF0F8"
             },
             "line": {
              "color": "white"
             }
            },
            "header": {
             "fill": {
              "color": "#C8D4E3"
             },
             "line": {
              "color": "white"
             }
            },
            "type": "table"
           }
          ]
         },
         "layout": {
          "annotationdefaults": {
           "arrowcolor": "#2a3f5f",
           "arrowhead": 0,
           "arrowwidth": 1
          },
          "autotypenumbers": "strict",
          "coloraxis": {
           "colorbar": {
            "outlinewidth": 0,
            "ticks": ""
           }
          },
          "colorscale": {
           "diverging": [
            [
             0,
             "#8e0152"
            ],
            [
             0.1,
             "#c51b7d"
            ],
            [
             0.2,
             "#de77ae"
            ],
            [
             0.3,
             "#f1b6da"
            ],
            [
             0.4,
             "#fde0ef"
            ],
            [
             0.5,
             "#f7f7f7"
            ],
            [
             0.6,
             "#e6f5d0"
            ],
            [
             0.7,
             "#b8e186"
            ],
            [
             0.8,
             "#7fbc41"
            ],
            [
             0.9,
             "#4d9221"
            ],
            [
             1,
             "#276419"
            ]
           ],
           "sequential": [
            [
             0,
             "#0d0887"
            ],
            [
             0.1111111111111111,
             "#46039f"
            ],
            [
             0.2222222222222222,
             "#7201a8"
            ],
            [
             0.3333333333333333,
             "#9c179e"
            ],
            [
             0.4444444444444444,
             "#bd3786"
            ],
            [
             0.5555555555555556,
             "#d8576b"
            ],
            [
             0.6666666666666666,
             "#ed7953"
            ],
            [
             0.7777777777777778,
             "#fb9f3a"
            ],
            [
             0.8888888888888888,
             "#fdca26"
            ],
            [
             1,
             "#f0f921"
            ]
           ],
           "sequentialminus": [
            [
             0,
             "#0d0887"
            ],
            [
             0.1111111111111111,
             "#46039f"
            ],
            [
             0.2222222222222222,
             "#7201a8"
            ],
            [
             0.3333333333333333,
             "#9c179e"
            ],
            [
             0.4444444444444444,
             "#bd3786"
            ],
            [
             0.5555555555555556,
             "#d8576b"
            ],
            [
             0.6666666666666666,
             "#ed7953"
            ],
            [
             0.7777777777777778,
             "#fb9f3a"
            ],
            [
             0.8888888888888888,
             "#fdca26"
            ],
            [
             1,
             "#f0f921"
            ]
           ]
          },
          "colorway": [
           "#636efa",
           "#EF553B",
           "#00cc96",
           "#ab63fa",
           "#FFA15A",
           "#19d3f3",
           "#FF6692",
           "#B6E880",
           "#FF97FF",
           "#FECB52"
          ],
          "font": {
           "color": "#2a3f5f"
          },
          "geo": {
           "bgcolor": "white",
           "lakecolor": "white",
           "landcolor": "#E5ECF6",
           "showlakes": true,
           "showland": true,
           "subunitcolor": "white"
          },
          "hoverlabel": {
           "align": "left"
          },
          "hovermode": "closest",
          "mapbox": {
           "style": "light"
          },
          "paper_bgcolor": "white",
          "plot_bgcolor": "#E5ECF6",
          "polar": {
           "angularaxis": {
            "gridcolor": "white",
            "linecolor": "white",
            "ticks": ""
           },
           "bgcolor": "#E5ECF6",
           "radialaxis": {
            "gridcolor": "white",
            "linecolor": "white",
            "ticks": ""
           }
          },
          "scene": {
           "xaxis": {
            "backgroundcolor": "#E5ECF6",
            "gridcolor": "white",
            "gridwidth": 2,
            "linecolor": "white",
            "showbackground": true,
            "ticks": "",
            "zerolinecolor": "white"
           },
           "yaxis": {
            "backgroundcolor": "#E5ECF6",
            "gridcolor": "white",
            "gridwidth": 2,
            "linecolor": "white",
            "showbackground": true,
            "ticks": "",
            "zerolinecolor": "white"
           },
           "zaxis": {
            "backgroundcolor": "#E5ECF6",
            "gridcolor": "white",
            "gridwidth": 2,
            "linecolor": "white",
            "showbackground": true,
            "ticks": "",
            "zerolinecolor": "white"
           }
          },
          "shapedefaults": {
           "line": {
            "color": "#2a3f5f"
           }
          },
          "ternary": {
           "aaxis": {
            "gridcolor": "white",
            "linecolor": "white",
            "ticks": ""
           },
           "baxis": {
            "gridcolor": "white",
            "linecolor": "white",
            "ticks": ""
           },
           "bgcolor": "#E5ECF6",
           "caxis": {
            "gridcolor": "white",
            "linecolor": "white",
            "ticks": ""
           }
          },
          "title": {
           "x": 0.05
          },
          "xaxis": {
           "automargin": true,
           "gridcolor": "white",
           "linecolor": "white",
           "ticks": "",
           "title": {
            "standoff": 15
           },
           "zerolinecolor": "white",
           "zerolinewidth": 2
          },
          "yaxis": {
           "automargin": true,
           "gridcolor": "white",
           "linecolor": "white",
           "ticks": "",
           "title": {
            "standoff": 15
           },
           "zerolinecolor": "white",
           "zerolinewidth": 2
          }
         }
        },
        "title": {
         "font": {
          "size": 20
         },
         "text": "Распределение возраста событий по дням",
         "x": 0.5
        },
        "width": 950,
        "xaxis": {
         "anchor": "y",
         "domain": [
          0,
          1
         ],
         "title": {
          "text": "Лайфтайм событий"
         }
        },
        "yaxis": {
         "anchor": "x",
         "domain": [
          0,
          1
         ],
         "title": {
          "text": "Количество событий в день"
         }
        }
       }
      }
     },
     "metadata": {},
     "output_type": "display_data"
    }
   ],
   "source": [
    "fig = px.bar(temp_table, x=\"lifetime\", y=\"count_event\",\n",
    "             title=\"Распределение возраста событий по дням\",\n",
    "             labels={\n",
    "                     'count_event': 'Количество событий в день',\n",
    "                     'lifetime': 'Лайфтайм событий'},\n",
    "             width= 950, height=700)\n",
    "fig.update_traces(textfont_size=14, textangle=0, textposition=\"outside\", cliponaxis=False)\n",
    "fig.update_layout(title_x=0.5, title=dict(font=dict(size=20)),\n",
    "                               legend=dict(font=dict(size=15)),\n",
    "                               font=dict(size=15))\n",
    "fig.show()"
   ]
  },
  {
   "cell_type": "code",
   "execution_count": 48,
   "metadata": {},
   "outputs": [
    {
     "data": {
      "image/svg+xml": [
       "<?xml version=\"1.0\" encoding=\"utf-8\" standalone=\"no\"?>\n",
       "<!DOCTYPE svg PUBLIC \"-//W3C//DTD SVG 1.1//EN\"\n",
       "  \"http://www.w3.org/Graphics/SVG/1.1/DTD/svg11.dtd\">\n",
       "<svg xmlns:xlink=\"http://www.w3.org/1999/xlink\" width=\"572.4pt\" height=\"349.795pt\" viewBox=\"0 0 572.4 349.795\" xmlns=\"http://www.w3.org/2000/svg\" version=\"1.1\">\n",
       " <metadata>\n",
       "  <rdf:RDF xmlns:dc=\"http://purl.org/dc/elements/1.1/\" xmlns:cc=\"http://creativecommons.org/ns#\" xmlns:rdf=\"http://www.w3.org/1999/02/22-rdf-syntax-ns#\">\n",
       "   <cc:Work>\n",
       "    <dc:type rdf:resource=\"http://purl.org/dc/dcmitype/StillImage\"/>\n",
       "    <dc:date>2024-03-13T15:56:33.853039</dc:date>\n",
       "    <dc:format>image/svg+xml</dc:format>\n",
       "    <dc:creator>\n",
       "     <cc:Agent>\n",
       "      <dc:title>Matplotlib v3.7.1, https://matplotlib.org/</dc:title>\n",
       "     </cc:Agent>\n",
       "    </dc:creator>\n",
       "   </cc:Work>\n",
       "  </rdf:RDF>\n",
       " </metadata>\n",
       " <defs>\n",
       "  <style type=\"text/css\">*{stroke-linejoin: round; stroke-linecap: butt}</style>\n",
       " </defs>\n",
       " <g id=\"figure_1\">\n",
       "  <g id=\"patch_1\">\n",
       "   <path d=\"M 0 349.795 \n",
       "L 572.4 349.795 \n",
       "L 572.4 0 \n",
       "L 0 0 \n",
       "z\n",
       "\" style=\"fill: #ffffff\"/>\n",
       "  </g>\n",
       "  <g id=\"axes_1\">\n",
       "   <g id=\"patch_2\">\n",
       "    <path d=\"M 7.2 305.059375 \n",
       "L 565.2 305.059375 \n",
       "L 565.2 27.859375 \n",
       "L 7.2 27.859375 \n",
       "z\n",
       "\" style=\"fill: #ffffff\"/>\n",
       "   </g>\n",
       "   <g id=\"matplotlib.axis_1\">\n",
       "    <g id=\"xtick_1\">\n",
       "     <g id=\"line2d_1\">\n",
       "      <path d=\"M 32.563636 305.059375 \n",
       "L 32.563636 27.859375 \n",
       "\" clip-path=\"url(#p2b08401355)\" style=\"fill: none; stroke: #cccccc; stroke-linecap: round\"/>\n",
       "     </g>\n",
       "     <g id=\"text_1\">\n",
       "      <!-- 0 -->\n",
       "      <g style=\"fill: #262626\" transform=\"translate(29.505121 322.432969) scale(0.11 -0.11)\">\n",
       "       <defs>\n",
       "        <path id=\"ArialMT-30\" d=\"M 266 2259 \n",
       "Q 266 3072 433 3567 \n",
       "Q 600 4063 929 4331 \n",
       "Q 1259 4600 1759 4600 \n",
       "Q 2128 4600 2406 4451 \n",
       "Q 2684 4303 2865 4023 \n",
       "Q 3047 3744 3150 3342 \n",
       "Q 3253 2941 3253 2259 \n",
       "Q 3253 1453 3087 958 \n",
       "Q 2922 463 2592 192 \n",
       "Q 2263 -78 1759 -78 \n",
       "Q 1097 -78 719 397 \n",
       "Q 266 969 266 2259 \n",
       "z\n",
       "M 844 2259 \n",
       "Q 844 1131 1108 757 \n",
       "Q 1372 384 1759 384 \n",
       "Q 2147 384 2411 759 \n",
       "Q 2675 1134 2675 2259 \n",
       "Q 2675 3391 2411 3762 \n",
       "Q 2147 4134 1753 4134 \n",
       "Q 1366 4134 1134 3806 \n",
       "Q 844 3388 844 2259 \n",
       "z\n",
       "\" transform=\"scale(0.015625)\"/>\n",
       "       </defs>\n",
       "       <use xlink:href=\"#ArialMT-30\"/>\n",
       "      </g>\n",
       "     </g>\n",
       "    </g>\n",
       "    <g id=\"xtick_2\">\n",
       "     <g id=\"line2d_2\">\n",
       "      <path d=\"M 105.031169 305.059375 \n",
       "L 105.031169 27.859375 \n",
       "\" clip-path=\"url(#p2b08401355)\" style=\"fill: none; stroke: #cccccc; stroke-linecap: round\"/>\n",
       "     </g>\n",
       "     <g id=\"text_2\">\n",
       "      <!-- 2 -->\n",
       "      <g style=\"fill: #262626\" transform=\"translate(101.972653 322.432969) scale(0.11 -0.11)\">\n",
       "       <defs>\n",
       "        <path id=\"ArialMT-32\" d=\"M 3222 541 \n",
       "L 3222 0 \n",
       "L 194 0 \n",
       "Q 188 203 259 391 \n",
       "Q 375 700 629 1000 \n",
       "Q 884 1300 1366 1694 \n",
       "Q 2113 2306 2375 2664 \n",
       "Q 2638 3022 2638 3341 \n",
       "Q 2638 3675 2398 3904 \n",
       "Q 2159 4134 1775 4134 \n",
       "Q 1369 4134 1125 3890 \n",
       "Q 881 3647 878 3216 \n",
       "L 300 3275 \n",
       "Q 359 3922 746 4261 \n",
       "Q 1134 4600 1788 4600 \n",
       "Q 2447 4600 2831 4234 \n",
       "Q 3216 3869 3216 3328 \n",
       "Q 3216 3053 3103 2787 \n",
       "Q 2991 2522 2730 2228 \n",
       "Q 2469 1934 1863 1422 \n",
       "Q 1356 997 1212 845 \n",
       "Q 1069 694 975 541 \n",
       "L 3222 541 \n",
       "z\n",
       "\" transform=\"scale(0.015625)\"/>\n",
       "       </defs>\n",
       "       <use xlink:href=\"#ArialMT-32\"/>\n",
       "      </g>\n",
       "     </g>\n",
       "    </g>\n",
       "    <g id=\"xtick_3\">\n",
       "     <g id=\"line2d_3\">\n",
       "      <path d=\"M 177.498701 305.059375 \n",
       "L 177.498701 27.859375 \n",
       "\" clip-path=\"url(#p2b08401355)\" style=\"fill: none; stroke: #cccccc; stroke-linecap: round\"/>\n",
       "     </g>\n",
       "     <g id=\"text_3\">\n",
       "      <!-- 4 -->\n",
       "      <g style=\"fill: #262626\" transform=\"translate(174.440186 322.432969) scale(0.11 -0.11)\">\n",
       "       <defs>\n",
       "        <path id=\"ArialMT-34\" d=\"M 2069 0 \n",
       "L 2069 1097 \n",
       "L 81 1097 \n",
       "L 81 1613 \n",
       "L 2172 4581 \n",
       "L 2631 4581 \n",
       "L 2631 1613 \n",
       "L 3250 1613 \n",
       "L 3250 1097 \n",
       "L 2631 1097 \n",
       "L 2631 0 \n",
       "L 2069 0 \n",
       "z\n",
       "M 2069 1613 \n",
       "L 2069 3678 \n",
       "L 634 1613 \n",
       "L 2069 1613 \n",
       "z\n",
       "\" transform=\"scale(0.015625)\"/>\n",
       "       </defs>\n",
       "       <use xlink:href=\"#ArialMT-34\"/>\n",
       "      </g>\n",
       "     </g>\n",
       "    </g>\n",
       "    <g id=\"xtick_4\">\n",
       "     <g id=\"line2d_4\">\n",
       "      <path d=\"M 249.966234 305.059375 \n",
       "L 249.966234 27.859375 \n",
       "\" clip-path=\"url(#p2b08401355)\" style=\"fill: none; stroke: #cccccc; stroke-linecap: round\"/>\n",
       "     </g>\n",
       "     <g id=\"text_4\">\n",
       "      <!-- 6 -->\n",
       "      <g style=\"fill: #262626\" transform=\"translate(246.907718 322.432969) scale(0.11 -0.11)\">\n",
       "       <defs>\n",
       "        <path id=\"ArialMT-36\" d=\"M 3184 3459 \n",
       "L 2625 3416 \n",
       "Q 2550 3747 2413 3897 \n",
       "Q 2184 4138 1850 4138 \n",
       "Q 1581 4138 1378 3988 \n",
       "Q 1113 3794 959 3422 \n",
       "Q 806 3050 800 2363 \n",
       "Q 1003 2672 1297 2822 \n",
       "Q 1591 2972 1913 2972 \n",
       "Q 2475 2972 2870 2558 \n",
       "Q 3266 2144 3266 1488 \n",
       "Q 3266 1056 3080 686 \n",
       "Q 2894 316 2569 119 \n",
       "Q 2244 -78 1831 -78 \n",
       "Q 1128 -78 684 439 \n",
       "Q 241 956 241 2144 \n",
       "Q 241 3472 731 4075 \n",
       "Q 1159 4600 1884 4600 \n",
       "Q 2425 4600 2770 4297 \n",
       "Q 3116 3994 3184 3459 \n",
       "z\n",
       "M 888 1484 \n",
       "Q 888 1194 1011 928 \n",
       "Q 1134 663 1356 523 \n",
       "Q 1578 384 1822 384 \n",
       "Q 2178 384 2434 671 \n",
       "Q 2691 959 2691 1453 \n",
       "Q 2691 1928 2437 2201 \n",
       "Q 2184 2475 1800 2475 \n",
       "Q 1419 2475 1153 2201 \n",
       "Q 888 1928 888 1484 \n",
       "z\n",
       "\" transform=\"scale(0.015625)\"/>\n",
       "       </defs>\n",
       "       <use xlink:href=\"#ArialMT-36\"/>\n",
       "      </g>\n",
       "     </g>\n",
       "    </g>\n",
       "    <g id=\"xtick_5\">\n",
       "     <g id=\"line2d_5\">\n",
       "      <path d=\"M 322.433766 305.059375 \n",
       "L 322.433766 27.859375 \n",
       "\" clip-path=\"url(#p2b08401355)\" style=\"fill: none; stroke: #cccccc; stroke-linecap: round\"/>\n",
       "     </g>\n",
       "     <g id=\"text_5\">\n",
       "      <!-- 8 -->\n",
       "      <g style=\"fill: #262626\" transform=\"translate(319.375251 322.432969) scale(0.11 -0.11)\">\n",
       "       <defs>\n",
       "        <path id=\"ArialMT-38\" d=\"M 1131 2484 \n",
       "Q 781 2613 612 2850 \n",
       "Q 444 3088 444 3419 \n",
       "Q 444 3919 803 4259 \n",
       "Q 1163 4600 1759 4600 \n",
       "Q 2359 4600 2725 4251 \n",
       "Q 3091 3903 3091 3403 \n",
       "Q 3091 3084 2923 2848 \n",
       "Q 2756 2613 2416 2484 \n",
       "Q 2838 2347 3058 2040 \n",
       "Q 3278 1734 3278 1309 \n",
       "Q 3278 722 2862 322 \n",
       "Q 2447 -78 1769 -78 \n",
       "Q 1091 -78 675 323 \n",
       "Q 259 725 259 1325 \n",
       "Q 259 1772 486 2073 \n",
       "Q 713 2375 1131 2484 \n",
       "z\n",
       "M 1019 3438 \n",
       "Q 1019 3113 1228 2906 \n",
       "Q 1438 2700 1772 2700 \n",
       "Q 2097 2700 2305 2904 \n",
       "Q 2513 3109 2513 3406 \n",
       "Q 2513 3716 2298 3927 \n",
       "Q 2084 4138 1766 4138 \n",
       "Q 1444 4138 1231 3931 \n",
       "Q 1019 3725 1019 3438 \n",
       "z\n",
       "M 838 1322 \n",
       "Q 838 1081 952 856 \n",
       "Q 1066 631 1291 507 \n",
       "Q 1516 384 1775 384 \n",
       "Q 2178 384 2440 643 \n",
       "Q 2703 903 2703 1303 \n",
       "Q 2703 1709 2433 1975 \n",
       "Q 2163 2241 1756 2241 \n",
       "Q 1359 2241 1098 1978 \n",
       "Q 838 1716 838 1322 \n",
       "z\n",
       "\" transform=\"scale(0.015625)\"/>\n",
       "       </defs>\n",
       "       <use xlink:href=\"#ArialMT-38\"/>\n",
       "      </g>\n",
       "     </g>\n",
       "    </g>\n",
       "    <g id=\"xtick_6\">\n",
       "     <g id=\"line2d_6\">\n",
       "      <path d=\"M 394.901299 305.059375 \n",
       "L 394.901299 27.859375 \n",
       "\" clip-path=\"url(#p2b08401355)\" style=\"fill: none; stroke: #cccccc; stroke-linecap: round\"/>\n",
       "     </g>\n",
       "     <g id=\"text_6\">\n",
       "      <!-- 10 -->\n",
       "      <g style=\"fill: #262626\" transform=\"translate(388.784267 322.432969) scale(0.11 -0.11)\">\n",
       "       <defs>\n",
       "        <path id=\"ArialMT-31\" d=\"M 2384 0 \n",
       "L 1822 0 \n",
       "L 1822 3584 \n",
       "Q 1619 3391 1289 3197 \n",
       "Q 959 3003 697 2906 \n",
       "L 697 3450 \n",
       "Q 1169 3672 1522 3987 \n",
       "Q 1875 4303 2022 4600 \n",
       "L 2384 4600 \n",
       "L 2384 0 \n",
       "z\n",
       "\" transform=\"scale(0.015625)\"/>\n",
       "       </defs>\n",
       "       <use xlink:href=\"#ArialMT-31\"/>\n",
       "       <use xlink:href=\"#ArialMT-30\" x=\"55.615234\"/>\n",
       "      </g>\n",
       "     </g>\n",
       "    </g>\n",
       "    <g id=\"xtick_7\">\n",
       "     <g id=\"line2d_7\">\n",
       "      <path d=\"M 467.368831 305.059375 \n",
       "L 467.368831 27.859375 \n",
       "\" clip-path=\"url(#p2b08401355)\" style=\"fill: none; stroke: #cccccc; stroke-linecap: round\"/>\n",
       "     </g>\n",
       "     <g id=\"text_7\">\n",
       "      <!-- 12 -->\n",
       "      <g style=\"fill: #262626\" transform=\"translate(461.2518 322.432969) scale(0.11 -0.11)\">\n",
       "       <use xlink:href=\"#ArialMT-31\"/>\n",
       "       <use xlink:href=\"#ArialMT-32\" x=\"55.615234\"/>\n",
       "      </g>\n",
       "     </g>\n",
       "    </g>\n",
       "    <g id=\"xtick_8\">\n",
       "     <g id=\"line2d_8\">\n",
       "      <path d=\"M 539.836364 305.059375 \n",
       "L 539.836364 27.859375 \n",
       "\" clip-path=\"url(#p2b08401355)\" style=\"fill: none; stroke: #cccccc; stroke-linecap: round\"/>\n",
       "     </g>\n",
       "     <g id=\"text_8\">\n",
       "      <!-- 14 -->\n",
       "      <g style=\"fill: #262626\" transform=\"translate(533.719332 322.432969) scale(0.11 -0.11)\">\n",
       "       <use xlink:href=\"#ArialMT-31\"/>\n",
       "       <use xlink:href=\"#ArialMT-34\" x=\"55.615234\"/>\n",
       "      </g>\n",
       "     </g>\n",
       "    </g>\n",
       "    <g id=\"text_9\">\n",
       "     <!-- Лайфтайм событий -->\n",
       "     <g style=\"fill: #262626\" transform=\"translate(218.459766 339.61375) scale(0.15 -0.15)\">\n",
       "      <defs>\n",
       "       <path id=\"ArialMT-41b\" d=\"M 828 4581 \n",
       "L 3697 4581 \n",
       "L 3697 0 \n",
       "L 3091 0 \n",
       "L 3091 4041 \n",
       "L 1434 4041 \n",
       "L 1434 1681 \n",
       "Q 1434 963 1367 628 \n",
       "Q 1300 294 1084 108 \n",
       "Q 869 -78 538 -78 \n",
       "Q 338 -78 56 -3 \n",
       "L 159 534 \n",
       "Q 309 472 416 472 \n",
       "Q 622 472 725 626 \n",
       "Q 828 781 828 1356 \n",
       "L 828 4581 \n",
       "z\n",
       "\" transform=\"scale(0.015625)\"/>\n",
       "       <path id=\"ArialMT-430\" d=\"M 2588 409 \n",
       "Q 2275 144 1986 34 \n",
       "Q 1697 -75 1366 -75 \n",
       "Q 819 -75 525 192 \n",
       "Q 231 459 231 875 \n",
       "Q 231 1119 342 1320 \n",
       "Q 453 1522 633 1644 \n",
       "Q 813 1766 1038 1828 \n",
       "Q 1203 1872 1538 1913 \n",
       "Q 2219 1994 2541 2106 \n",
       "Q 2544 2222 2544 2253 \n",
       "Q 2544 2597 2384 2738 \n",
       "Q 2169 2928 1744 2928 \n",
       "Q 1347 2928 1158 2789 \n",
       "Q 969 2650 878 2297 \n",
       "L 328 2372 \n",
       "Q 403 2725 575 2942 \n",
       "Q 747 3159 1072 3276 \n",
       "Q 1397 3394 1825 3394 \n",
       "Q 2250 3394 2515 3294 \n",
       "Q 2781 3194 2906 3042 \n",
       "Q 3031 2891 3081 2659 \n",
       "Q 3109 2516 3109 2141 \n",
       "L 3109 1391 \n",
       "Q 3109 606 3145 398 \n",
       "Q 3181 191 3288 0 \n",
       "L 2700 0 \n",
       "Q 2613 175 2588 409 \n",
       "z\n",
       "M 2541 1666 \n",
       "Q 2234 1541 1622 1453 \n",
       "Q 1275 1403 1131 1340 \n",
       "Q 988 1278 909 1158 \n",
       "Q 831 1038 831 891 \n",
       "Q 831 666 1001 516 \n",
       "Q 1172 366 1500 366 \n",
       "Q 1825 366 2078 508 \n",
       "Q 2331 650 2450 897 \n",
       "Q 2541 1088 2541 1459 \n",
       "L 2541 1666 \n",
       "z\n",
       "\" transform=\"scale(0.015625)\"/>\n",
       "       <path id=\"ArialMT-439\" d=\"M 422 3319 \n",
       "L 984 3319 \n",
       "L 984 788 \n",
       "L 2544 3319 \n",
       "L 3150 3319 \n",
       "L 3150 0 \n",
       "L 2588 0 \n",
       "L 2588 2516 \n",
       "L 1028 0 \n",
       "L 422 0 \n",
       "L 422 3319 \n",
       "z\n",
       "M 2374 4575 \n",
       "L 2759 4575 \n",
       "Q 2712 4184 2473 3975 \n",
       "Q 2234 3766 1837 3766 \n",
       "Q 1437 3766 1198 3973 \n",
       "Q 959 4181 912 4575 \n",
       "L 1296 4575 \n",
       "Q 1340 4363 1469 4258 \n",
       "Q 1599 4153 1818 4153 \n",
       "Q 2071 4153 2201 4254 \n",
       "Q 2331 4356 2374 4575 \n",
       "z\n",
       "\" transform=\"scale(0.015625)\"/>\n",
       "       <path id=\"ArialMT-444\" d=\"M 2353 4581 \n",
       "L 2916 4581 \n",
       "L 2916 2997 \n",
       "Q 3091 3197 3300 3295 \n",
       "Q 3509 3394 3750 3394 \n",
       "Q 4341 3394 4686 2901 \n",
       "Q 5031 2409 5031 1663 \n",
       "Q 5031 884 4659 404 \n",
       "Q 4288 -75 3734 -75 \n",
       "Q 3553 -75 3365 -18 \n",
       "Q 3178 38 2916 288 \n",
       "L 2916 -1272 \n",
       "L 2353 -1272 \n",
       "L 2353 288 \n",
       "Q 2184 106 1979 15 \n",
       "Q 1775 -75 1538 -75 \n",
       "Q 1016 -75 625 383 \n",
       "Q 234 841 234 1694 \n",
       "Q 234 2416 587 2905 \n",
       "Q 941 3394 1538 3394 \n",
       "Q 1788 3394 1991 3295 \n",
       "Q 2194 3197 2353 2997 \n",
       "L 2353 4581 \n",
       "z\n",
       "M 2913 1647 \n",
       "Q 2913 897 3119 639 \n",
       "Q 3325 381 3634 381 \n",
       "Q 3978 381 4220 698 \n",
       "Q 4463 1016 4463 1684 \n",
       "Q 4463 2316 4239 2625 \n",
       "Q 4016 2934 3666 2934 \n",
       "Q 3291 2934 3102 2612 \n",
       "Q 2913 2291 2913 1647 \n",
       "z\n",
       "M 806 1709 \n",
       "Q 806 1006 1042 697 \n",
       "Q 1278 388 1628 388 \n",
       "Q 1994 388 2175 695 \n",
       "Q 2356 1003 2356 1619 \n",
       "Q 2356 2275 2165 2603 \n",
       "Q 1975 2931 1591 2931 \n",
       "Q 1244 2931 1025 2611 \n",
       "Q 806 2291 806 1709 \n",
       "z\n",
       "\" transform=\"scale(0.015625)\"/>\n",
       "       <path id=\"ArialMT-442\" d=\"M 119 3319 \n",
       "L 2816 3319 \n",
       "L 2816 2853 \n",
       "L 1747 2853 \n",
       "L 1747 0 \n",
       "L 1188 0 \n",
       "L 1188 2853 \n",
       "L 119 2853 \n",
       "L 119 3319 \n",
       "z\n",
       "\" transform=\"scale(0.015625)\"/>\n",
       "       <path id=\"ArialMT-43c\" d=\"M 438 3319 \n",
       "L 1313 3319 \n",
       "L 2184 663 \n",
       "L 3153 3319 \n",
       "L 3963 3319 \n",
       "L 3963 0 \n",
       "L 3400 0 \n",
       "L 3400 2672 \n",
       "L 2419 0 \n",
       "L 1916 0 \n",
       "L 988 2800 \n",
       "L 988 0 \n",
       "L 438 0 \n",
       "L 438 3319 \n",
       "z\n",
       "\" transform=\"scale(0.015625)\"/>\n",
       "       <path id=\"ArialMT-20\" transform=\"scale(0.015625)\"/>\n",
       "       <path id=\"ArialMT-441\" d=\"M 2588 1216 \n",
       "L 3141 1144 \n",
       "Q 3050 572 2676 248 \n",
       "Q 2303 -75 1759 -75 \n",
       "Q 1078 -75 664 370 \n",
       "Q 250 816 250 1647 \n",
       "Q 250 2184 428 2587 \n",
       "Q 606 2991 970 3192 \n",
       "Q 1334 3394 1763 3394 \n",
       "Q 2303 3394 2647 3120 \n",
       "Q 2991 2847 3088 2344 \n",
       "L 2541 2259 \n",
       "Q 2463 2594 2264 2762 \n",
       "Q 2066 2931 1784 2931 \n",
       "Q 1359 2931 1093 2626 \n",
       "Q 828 2322 828 1663 \n",
       "Q 828 994 1084 691 \n",
       "Q 1341 388 1753 388 \n",
       "Q 2084 388 2306 591 \n",
       "Q 2528 794 2588 1216 \n",
       "z\n",
       "\" transform=\"scale(0.015625)\"/>\n",
       "       <path id=\"ArialMT-43e\" d=\"M 213 1659 \n",
       "Q 213 2581 725 3025 \n",
       "Q 1153 3394 1769 3394 \n",
       "Q 2453 3394 2887 2945 \n",
       "Q 3322 2497 3322 1706 \n",
       "Q 3322 1066 3130 698 \n",
       "Q 2938 331 2570 128 \n",
       "Q 2203 -75 1769 -75 \n",
       "Q 1072 -75 642 372 \n",
       "Q 213 819 213 1659 \n",
       "z\n",
       "M 791 1659 \n",
       "Q 791 1022 1069 705 \n",
       "Q 1347 388 1769 388 \n",
       "Q 2188 388 2466 706 \n",
       "Q 2744 1025 2744 1678 \n",
       "Q 2744 2294 2464 2611 \n",
       "Q 2184 2928 1769 2928 \n",
       "Q 1347 2928 1069 2612 \n",
       "Q 791 2297 791 1659 \n",
       "z\n",
       "\" transform=\"scale(0.015625)\"/>\n",
       "       <path id=\"ArialMT-431\" d=\"M 2853 4691 \n",
       "L 3350 4684 \n",
       "Q 3316 4350 3202 4219 \n",
       "Q 3088 4088 2908 4050 \n",
       "Q 2728 4013 2203 4013 \n",
       "Q 1506 4013 1253 3878 \n",
       "Q 1000 3744 889 3448 \n",
       "Q 778 3153 766 2688 \n",
       "Q 978 3003 1262 3161 \n",
       "Q 1547 3319 1903 3319 \n",
       "Q 2556 3319 2984 2870 \n",
       "Q 3413 2422 3413 1656 \n",
       "Q 3413 1075 3197 703 \n",
       "Q 2981 331 2686 128 \n",
       "Q 2391 -75 1881 -75 \n",
       "Q 1291 -75 962 195 \n",
       "Q 634 466 459 887 \n",
       "Q 284 1309 284 2356 \n",
       "Q 284 3672 729 4128 \n",
       "Q 1175 4584 2100 4584 \n",
       "Q 2675 4584 2753 4603 \n",
       "Q 2831 4622 2853 4691 \n",
       "z\n",
       "M 2825 1672 \n",
       "Q 2825 2191 2579 2522 \n",
       "Q 2334 2853 1888 2853 \n",
       "Q 1422 2853 1169 2503 \n",
       "Q 916 2153 916 1569 \n",
       "Q 916 991 1195 684 \n",
       "Q 1475 378 1884 378 \n",
       "Q 2303 378 2564 733 \n",
       "Q 2825 1088 2825 1672 \n",
       "z\n",
       "\" transform=\"scale(0.015625)\"/>\n",
       "       <path id=\"ArialMT-44b\" d=\"M 3581 3319 \n",
       "L 4144 3319 \n",
       "L 4144 0 \n",
       "L 3581 0 \n",
       "L 3581 3319 \n",
       "z\n",
       "M 434 3319 \n",
       "L 997 3319 \n",
       "L 997 2022 \n",
       "L 1709 2022 \n",
       "Q 2406 2022 2782 1751 \n",
       "Q 3159 1481 3159 1006 \n",
       "Q 3159 591 2845 295 \n",
       "Q 2531 0 1841 0 \n",
       "L 434 0 \n",
       "L 434 3319 \n",
       "z\n",
       "M 997 463 \n",
       "L 1588 463 \n",
       "Q 2122 463 2350 594 \n",
       "Q 2578 725 2578 1003 \n",
       "Q 2578 1219 2409 1387 \n",
       "Q 2241 1556 1663 1556 \n",
       "L 997 1556 \n",
       "L 997 463 \n",
       "z\n",
       "\" transform=\"scale(0.015625)\"/>\n",
       "       <path id=\"ArialMT-438\" d=\"M 422 3319 \n",
       "L 984 3319 \n",
       "L 984 788 \n",
       "L 2544 3319 \n",
       "L 3150 3319 \n",
       "L 3150 0 \n",
       "L 2588 0 \n",
       "L 2588 2516 \n",
       "L 1028 0 \n",
       "L 422 0 \n",
       "L 422 3319 \n",
       "z\n",
       "\" transform=\"scale(0.015625)\"/>\n",
       "      </defs>\n",
       "      <use xlink:href=\"#ArialMT-41b\"/>\n",
       "      <use xlink:href=\"#ArialMT-430\" x=\"65.625\"/>\n",
       "      <use xlink:href=\"#ArialMT-439\" x=\"121.240234\"/>\n",
       "      <use xlink:href=\"#ArialMT-444\" x=\"177.099609\"/>\n",
       "      <use xlink:href=\"#ArialMT-442\" x=\"257.125\"/>\n",
       "      <use xlink:href=\"#ArialMT-430\" x=\"301.800781\"/>\n",
       "      <use xlink:href=\"#ArialMT-439\" x=\"357.416016\"/>\n",
       "      <use xlink:href=\"#ArialMT-43c\" x=\"413.275391\"/>\n",
       "      <use xlink:href=\"#ArialMT-20\" x=\"482.025391\"/>\n",
       "      <use xlink:href=\"#ArialMT-441\" x=\"509.808594\"/>\n",
       "      <use xlink:href=\"#ArialMT-43e\" x=\"560.933594\"/>\n",
       "      <use xlink:href=\"#ArialMT-431\" x=\"616.548828\"/>\n",
       "      <use xlink:href=\"#ArialMT-44b\" x=\"673.824219\"/>\n",
       "      <use xlink:href=\"#ArialMT-442\" x=\"745.699219\"/>\n",
       "      <use xlink:href=\"#ArialMT-438\" x=\"791.5\"/>\n",
       "      <use xlink:href=\"#ArialMT-439\" x=\"847.359375\"/>\n",
       "     </g>\n",
       "    </g>\n",
       "   </g>\n",
       "   <g id=\"matplotlib.axis_2\">\n",
       "    <g id=\"ytick_1\">\n",
       "     <g id=\"line2d_9\">\n",
       "      <path d=\"M 7.2 166.459375 \n",
       "L 565.2 166.459375 \n",
       "\" clip-path=\"url(#p2b08401355)\" style=\"fill: none; stroke: #cccccc; stroke-linecap: round\"/>\n",
       "     </g>\n",
       "    </g>\n",
       "   </g>\n",
       "   <g id=\"patch_3\">\n",
       "    <path d=\"M 32.563636 55.579375 \n",
       "L 32.563636 277.339375 \n",
       "L 213.732468 277.339375 \n",
       "L 213.732468 55.579375 \n",
       "L 32.563636 55.579375 \n",
       "z\n",
       "\" clip-path=\"url(#p2b08401355)\" style=\"fill: #5875a4; stroke: #4c4c4c; stroke-width: 1.5; stroke-linejoin: miter\"/>\n",
       "   </g>\n",
       "   <g id=\"line2d_10\">\n",
       "    <path d=\"M 32.563636 166.459375 \n",
       "L 32.563636 166.459375 \n",
       "\" clip-path=\"url(#p2b08401355)\" style=\"fill: none; stroke: #4c4c4c; stroke-width: 1.5; stroke-linecap: round\"/>\n",
       "   </g>\n",
       "   <g id=\"line2d_11\">\n",
       "    <path d=\"M 213.732468 166.459375 \n",
       "L 467.368831 166.459375 \n",
       "\" clip-path=\"url(#p2b08401355)\" style=\"fill: none; stroke: #4c4c4c; stroke-width: 1.5; stroke-linecap: round\"/>\n",
       "   </g>\n",
       "   <g id=\"line2d_12\">\n",
       "    <path d=\"M 32.563636 111.019375 \n",
       "L 32.563636 221.899375 \n",
       "\" clip-path=\"url(#p2b08401355)\" style=\"fill: none; stroke: #4c4c4c; stroke-width: 1.5; stroke-linecap: round\"/>\n",
       "   </g>\n",
       "   <g id=\"line2d_13\">\n",
       "    <path d=\"M 467.368831 111.019375 \n",
       "L 467.368831 221.899375 \n",
       "\" clip-path=\"url(#p2b08401355)\" style=\"fill: none; stroke: #4c4c4c; stroke-width: 1.5; stroke-linecap: round\"/>\n",
       "   </g>\n",
       "   <g id=\"line2d_14\">\n",
       "    <defs>\n",
       "     <path id=\"m9dd2e97fe9\" d=\"M 0 3.535534 \n",
       "L 2.12132 0 \n",
       "L 0 -3.535534 \n",
       "L -2.12132 0 \n",
       "z\n",
       "\" style=\"stroke: #4c4c4c; stroke-linejoin: miter\"/>\n",
       "    </defs>\n",
       "    <g clip-path=\"url(#p2b08401355)\">\n",
       "     <use xlink:href=\"#m9dd2e97fe9\" x=\"503.602597\" y=\"166.459375\" style=\"fill: #4c4c4c; stroke: #4c4c4c; stroke-linejoin: miter\"/>\n",
       "     <use xlink:href=\"#m9dd2e97fe9\" x=\"503.602597\" y=\"166.459375\" style=\"fill: #4c4c4c; stroke: #4c4c4c; stroke-linejoin: miter\"/>\n",
       "     <use xlink:href=\"#m9dd2e97fe9\" x=\"503.602597\" y=\"166.459375\" style=\"fill: #4c4c4c; stroke: #4c4c4c; stroke-linejoin: miter\"/>\n",
       "     <use xlink:href=\"#m9dd2e97fe9\" x=\"503.602597\" y=\"166.459375\" style=\"fill: #4c4c4c; stroke: #4c4c4c; stroke-linejoin: miter\"/>\n",
       "     <use xlink:href=\"#m9dd2e97fe9\" x=\"503.602597\" y=\"166.459375\" style=\"fill: #4c4c4c; stroke: #4c4c4c; stroke-linejoin: miter\"/>\n",
       "     <use xlink:href=\"#m9dd2e97fe9\" x=\"503.602597\" y=\"166.459375\" style=\"fill: #4c4c4c; stroke: #4c4c4c; stroke-linejoin: miter\"/>\n",
       "     <use xlink:href=\"#m9dd2e97fe9\" x=\"503.602597\" y=\"166.459375\" style=\"fill: #4c4c4c; stroke: #4c4c4c; stroke-linejoin: miter\"/>\n",
       "     <use xlink:href=\"#m9dd2e97fe9\" x=\"539.836364\" y=\"166.459375\" style=\"fill: #4c4c4c; stroke: #4c4c4c; stroke-linejoin: miter\"/>\n",
       "     <use xlink:href=\"#m9dd2e97fe9\" x=\"539.836364\" y=\"166.459375\" style=\"fill: #4c4c4c; stroke: #4c4c4c; stroke-linejoin: miter\"/>\n",
       "     <use xlink:href=\"#m9dd2e97fe9\" x=\"539.836364\" y=\"166.459375\" style=\"fill: #4c4c4c; stroke: #4c4c4c; stroke-linejoin: miter\"/>\n",
       "     <use xlink:href=\"#m9dd2e97fe9\" x=\"539.836364\" y=\"166.459375\" style=\"fill: #4c4c4c; stroke: #4c4c4c; stroke-linejoin: miter\"/>\n",
       "     <use xlink:href=\"#m9dd2e97fe9\" x=\"539.836364\" y=\"166.459375\" style=\"fill: #4c4c4c; stroke: #4c4c4c; stroke-linejoin: miter\"/>\n",
       "     <use xlink:href=\"#m9dd2e97fe9\" x=\"539.836364\" y=\"166.459375\" style=\"fill: #4c4c4c; stroke: #4c4c4c; stroke-linejoin: miter\"/>\n",
       "     <use xlink:href=\"#m9dd2e97fe9\" x=\"539.836364\" y=\"166.459375\" style=\"fill: #4c4c4c; stroke: #4c4c4c; stroke-linejoin: miter\"/>\n",
       "     <use xlink:href=\"#m9dd2e97fe9\" x=\"503.602597\" y=\"166.459375\" style=\"fill: #4c4c4c; stroke: #4c4c4c; stroke-linejoin: miter\"/>\n",
       "     <use xlink:href=\"#m9dd2e97fe9\" x=\"503.602597\" y=\"166.459375\" style=\"fill: #4c4c4c; stroke: #4c4c4c; stroke-linejoin: miter\"/>\n",
       "     <use xlink:href=\"#m9dd2e97fe9\" x=\"503.602597\" y=\"166.459375\" style=\"fill: #4c4c4c; stroke: #4c4c4c; stroke-linejoin: miter\"/>\n",
       "     <use xlink:href=\"#m9dd2e97fe9\" x=\"503.602597\" y=\"166.459375\" style=\"fill: #4c4c4c; stroke: #4c4c4c; stroke-linejoin: miter\"/>\n",
       "     <use xlink:href=\"#m9dd2e97fe9\" x=\"503.602597\" y=\"166.459375\" style=\"fill: #4c4c4c; stroke: #4c4c4c; stroke-linejoin: miter\"/>\n",
       "     <use xlink:href=\"#m9dd2e97fe9\" x=\"503.602597\" y=\"166.459375\" style=\"fill: #4c4c4c; stroke: #4c4c4c; stroke-linejoin: miter\"/>\n",
       "     <use xlink:href=\"#m9dd2e97fe9\" x=\"503.602597\" y=\"166.459375\" style=\"fill: #4c4c4c; stroke: #4c4c4c; stroke-linejoin: miter\"/>\n",
       "     <use xlink:href=\"#m9dd2e97fe9\" x=\"503.602597\" y=\"166.459375\" style=\"fill: #4c4c4c; stroke: #4c4c4c; stroke-linejoin: miter\"/>\n",
       "     <use xlink:href=\"#m9dd2e97fe9\" x=\"539.836364\" y=\"166.459375\" style=\"fill: #4c4c4c; stroke: #4c4c4c; stroke-linejoin: miter\"/>\n",
       "     <use xlink:href=\"#m9dd2e97fe9\" x=\"539.836364\" y=\"166.459375\" style=\"fill: #4c4c4c; stroke: #4c4c4c; stroke-linejoin: miter\"/>\n",
       "     <use xlink:href=\"#m9dd2e97fe9\" x=\"539.836364\" y=\"166.459375\" style=\"fill: #4c4c4c; stroke: #4c4c4c; stroke-linejoin: miter\"/>\n",
       "     <use xlink:href=\"#m9dd2e97fe9\" x=\"539.836364\" y=\"166.459375\" style=\"fill: #4c4c4c; stroke: #4c4c4c; stroke-linejoin: miter\"/>\n",
       "     <use xlink:href=\"#m9dd2e97fe9\" x=\"539.836364\" y=\"166.459375\" style=\"fill: #4c4c4c; stroke: #4c4c4c; stroke-linejoin: miter\"/>\n",
       "     <use xlink:href=\"#m9dd2e97fe9\" x=\"539.836364\" y=\"166.459375\" style=\"fill: #4c4c4c; stroke: #4c4c4c; stroke-linejoin: miter\"/>\n",
       "     <use xlink:href=\"#m9dd2e97fe9\" x=\"539.836364\" y=\"166.459375\" style=\"fill: #4c4c4c; stroke: #4c4c4c; stroke-linejoin: miter\"/>\n",
       "     <use xlink:href=\"#m9dd2e97fe9\" x=\"539.836364\" y=\"166.459375\" style=\"fill: #4c4c4c; stroke: #4c4c4c; stroke-linejoin: miter\"/>\n",
       "     <use xlink:href=\"#m9dd2e97fe9\" x=\"539.836364\" y=\"166.459375\" style=\"fill: #4c4c4c; stroke: #4c4c4c; stroke-linejoin: miter\"/>\n",
       "     <use xlink:href=\"#m9dd2e97fe9\" x=\"503.602597\" y=\"166.459375\" style=\"fill: #4c4c4c; stroke: #4c4c4c; stroke-linejoin: miter\"/>\n",
       "     <use xlink:href=\"#m9dd2e97fe9\" x=\"503.602597\" y=\"166.459375\" style=\"fill: #4c4c4c; stroke: #4c4c4c; stroke-linejoin: miter\"/>\n",
       "     <use xlink:href=\"#m9dd2e97fe9\" x=\"503.602597\" y=\"166.459375\" style=\"fill: #4c4c4c; stroke: #4c4c4c; stroke-linejoin: miter\"/>\n",
       "     <use xlink:href=\"#m9dd2e97fe9\" x=\"539.836364\" y=\"166.459375\" style=\"fill: #4c4c4c; stroke: #4c4c4c; stroke-linejoin: miter\"/>\n",
       "     <use xlink:href=\"#m9dd2e97fe9\" x=\"539.836364\" y=\"166.459375\" style=\"fill: #4c4c4c; stroke: #4c4c4c; stroke-linejoin: miter\"/>\n",
       "     <use xlink:href=\"#m9dd2e97fe9\" x=\"539.836364\" y=\"166.459375\" style=\"fill: #4c4c4c; stroke: #4c4c4c; stroke-linejoin: miter\"/>\n",
       "     <use xlink:href=\"#m9dd2e97fe9\" x=\"539.836364\" y=\"166.459375\" style=\"fill: #4c4c4c; stroke: #4c4c4c; stroke-linejoin: miter\"/>\n",
       "     <use xlink:href=\"#m9dd2e97fe9\" x=\"503.602597\" y=\"166.459375\" style=\"fill: #4c4c4c; stroke: #4c4c4c; stroke-linejoin: miter\"/>\n",
       "     <use xlink:href=\"#m9dd2e97fe9\" x=\"539.836364\" y=\"166.459375\" style=\"fill: #4c4c4c; stroke: #4c4c4c; stroke-linejoin: miter\"/>\n",
       "     <use xlink:href=\"#m9dd2e97fe9\" x=\"503.602597\" y=\"166.459375\" style=\"fill: #4c4c4c; stroke: #4c4c4c; stroke-linejoin: miter\"/>\n",
       "     <use xlink:href=\"#m9dd2e97fe9\" x=\"539.836364\" y=\"166.459375\" style=\"fill: #4c4c4c; stroke: #4c4c4c; stroke-linejoin: miter\"/>\n",
       "     <use xlink:href=\"#m9dd2e97fe9\" x=\"539.836364\" y=\"166.459375\" style=\"fill: #4c4c4c; stroke: #4c4c4c; stroke-linejoin: miter\"/>\n",
       "     <use xlink:href=\"#m9dd2e97fe9\" x=\"539.836364\" y=\"166.459375\" style=\"fill: #4c4c4c; stroke: #4c4c4c; stroke-linejoin: miter\"/>\n",
       "     <use xlink:href=\"#m9dd2e97fe9\" x=\"539.836364\" y=\"166.459375\" style=\"fill: #4c4c4c; stroke: #4c4c4c; stroke-linejoin: miter\"/>\n",
       "     <use xlink:href=\"#m9dd2e97fe9\" x=\"539.836364\" y=\"166.459375\" style=\"fill: #4c4c4c; stroke: #4c4c4c; stroke-linejoin: miter\"/>\n",
       "     <use xlink:href=\"#m9dd2e97fe9\" x=\"539.836364\" y=\"166.459375\" style=\"fill: #4c4c4c; stroke: #4c4c4c; stroke-linejoin: miter\"/>\n",
       "     <use xlink:href=\"#m9dd2e97fe9\" x=\"539.836364\" y=\"166.459375\" style=\"fill: #4c4c4c; stroke: #4c4c4c; stroke-linejoin: miter\"/>\n",
       "     <use xlink:href=\"#m9dd2e97fe9\" x=\"539.836364\" y=\"166.459375\" style=\"fill: #4c4c4c; stroke: #4c4c4c; stroke-linejoin: miter\"/>\n",
       "     <use xlink:href=\"#m9dd2e97fe9\" x=\"539.836364\" y=\"166.459375\" style=\"fill: #4c4c4c; stroke: #4c4c4c; stroke-linejoin: miter\"/>\n",
       "     <use xlink:href=\"#m9dd2e97fe9\" x=\"539.836364\" y=\"166.459375\" style=\"fill: #4c4c4c; stroke: #4c4c4c; stroke-linejoin: miter\"/>\n",
       "     <use xlink:href=\"#m9dd2e97fe9\" x=\"503.602597\" y=\"166.459375\" style=\"fill: #4c4c4c; stroke: #4c4c4c; stroke-linejoin: miter\"/>\n",
       "     <use xlink:href=\"#m9dd2e97fe9\" x=\"503.602597\" y=\"166.459375\" style=\"fill: #4c4c4c; stroke: #4c4c4c; stroke-linejoin: miter\"/>\n",
       "     <use xlink:href=\"#m9dd2e97fe9\" x=\"503.602597\" y=\"166.459375\" style=\"fill: #4c4c4c; stroke: #4c4c4c; stroke-linejoin: miter\"/>\n",
       "     <use xlink:href=\"#m9dd2e97fe9\" x=\"539.836364\" y=\"166.459375\" style=\"fill: #4c4c4c; stroke: #4c4c4c; stroke-linejoin: miter\"/>\n",
       "     <use xlink:href=\"#m9dd2e97fe9\" x=\"539.836364\" y=\"166.459375\" style=\"fill: #4c4c4c; stroke: #4c4c4c; stroke-linejoin: miter\"/>\n",
       "     <use xlink:href=\"#m9dd2e97fe9\" x=\"539.836364\" y=\"166.459375\" style=\"fill: #4c4c4c; stroke: #4c4c4c; stroke-linejoin: miter\"/>\n",
       "     <use xlink:href=\"#m9dd2e97fe9\" x=\"503.602597\" y=\"166.459375\" style=\"fill: #4c4c4c; stroke: #4c4c4c; stroke-linejoin: miter\"/>\n",
       "     <use xlink:href=\"#m9dd2e97fe9\" x=\"503.602597\" y=\"166.459375\" style=\"fill: #4c4c4c; stroke: #4c4c4c; stroke-linejoin: miter\"/>\n",
       "     <use xlink:href=\"#m9dd2e97fe9\" x=\"503.602597\" y=\"166.459375\" style=\"fill: #4c4c4c; stroke: #4c4c4c; stroke-linejoin: miter\"/>\n",
       "     <use xlink:href=\"#m9dd2e97fe9\" x=\"503.602597\" y=\"166.459375\" style=\"fill: #4c4c4c; stroke: #4c4c4c; stroke-linejoin: miter\"/>\n",
       "     <use xlink:href=\"#m9dd2e97fe9\" x=\"503.602597\" y=\"166.459375\" style=\"fill: #4c4c4c; stroke: #4c4c4c; stroke-linejoin: miter\"/>\n",
       "     <use xlink:href=\"#m9dd2e97fe9\" x=\"503.602597\" y=\"166.459375\" style=\"fill: #4c4c4c; stroke: #4c4c4c; stroke-linejoin: miter\"/>\n",
       "     <use xlink:href=\"#m9dd2e97fe9\" x=\"503.602597\" y=\"166.459375\" style=\"fill: #4c4c4c; stroke: #4c4c4c; stroke-linejoin: miter\"/>\n",
       "     <use xlink:href=\"#m9dd2e97fe9\" x=\"539.836364\" y=\"166.459375\" style=\"fill: #4c4c4c; stroke: #4c4c4c; stroke-linejoin: miter\"/>\n",
       "     <use xlink:href=\"#m9dd2e97fe9\" x=\"539.836364\" y=\"166.459375\" style=\"fill: #4c4c4c; stroke: #4c4c4c; stroke-linejoin: miter\"/>\n",
       "     <use xlink:href=\"#m9dd2e97fe9\" x=\"539.836364\" y=\"166.459375\" style=\"fill: #4c4c4c; stroke: #4c4c4c; stroke-linejoin: miter\"/>\n",
       "     <use xlink:href=\"#m9dd2e97fe9\" x=\"539.836364\" y=\"166.459375\" style=\"fill: #4c4c4c; stroke: #4c4c4c; stroke-linejoin: miter\"/>\n",
       "     <use xlink:href=\"#m9dd2e97fe9\" x=\"539.836364\" y=\"166.459375\" style=\"fill: #4c4c4c; stroke: #4c4c4c; stroke-linejoin: miter\"/>\n",
       "     <use xlink:href=\"#m9dd2e97fe9\" x=\"503.602597\" y=\"166.459375\" style=\"fill: #4c4c4c; stroke: #4c4c4c; stroke-linejoin: miter\"/>\n",
       "     <use xlink:href=\"#m9dd2e97fe9\" x=\"503.602597\" y=\"166.459375\" style=\"fill: #4c4c4c; stroke: #4c4c4c; stroke-linejoin: miter\"/>\n",
       "     <use xlink:href=\"#m9dd2e97fe9\" x=\"503.602597\" y=\"166.459375\" style=\"fill: #4c4c4c; stroke: #4c4c4c; stroke-linejoin: miter\"/>\n",
       "     <use xlink:href=\"#m9dd2e97fe9\" x=\"503.602597\" y=\"166.459375\" style=\"fill: #4c4c4c; stroke: #4c4c4c; stroke-linejoin: miter\"/>\n",
       "     <use xlink:href=\"#m9dd2e97fe9\" x=\"503.602597\" y=\"166.459375\" style=\"fill: #4c4c4c; stroke: #4c4c4c; stroke-linejoin: miter\"/>\n",
       "     <use xlink:href=\"#m9dd2e97fe9\" x=\"503.602597\" y=\"166.459375\" style=\"fill: #4c4c4c; stroke: #4c4c4c; stroke-linejoin: miter\"/>\n",
       "     <use xlink:href=\"#m9dd2e97fe9\" x=\"503.602597\" y=\"166.459375\" style=\"fill: #4c4c4c; stroke: #4c4c4c; stroke-linejoin: miter\"/>\n",
       "     <use xlink:href=\"#m9dd2e97fe9\" x=\"503.602597\" y=\"166.459375\" style=\"fill: #4c4c4c; stroke: #4c4c4c; stroke-linejoin: miter\"/>\n",
       "     <use xlink:href=\"#m9dd2e97fe9\" x=\"503.602597\" y=\"166.459375\" style=\"fill: #4c4c4c; stroke: #4c4c4c; stroke-linejoin: miter\"/>\n",
       "     <use xlink:href=\"#m9dd2e97fe9\" x=\"539.836364\" y=\"166.459375\" style=\"fill: #4c4c4c; stroke: #4c4c4c; stroke-linejoin: miter\"/>\n",
       "     <use xlink:href=\"#m9dd2e97fe9\" x=\"539.836364\" y=\"166.459375\" style=\"fill: #4c4c4c; stroke: #4c4c4c; stroke-linejoin: miter\"/>\n",
       "     <use xlink:href=\"#m9dd2e97fe9\" x=\"539.836364\" y=\"166.459375\" style=\"fill: #4c4c4c; stroke: #4c4c4c; stroke-linejoin: miter\"/>\n",
       "     <use xlink:href=\"#m9dd2e97fe9\" x=\"503.602597\" y=\"166.459375\" style=\"fill: #4c4c4c; stroke: #4c4c4c; stroke-linejoin: miter\"/>\n",
       "     <use xlink:href=\"#m9dd2e97fe9\" x=\"503.602597\" y=\"166.459375\" style=\"fill: #4c4c4c; stroke: #4c4c4c; stroke-linejoin: miter\"/>\n",
       "     <use xlink:href=\"#m9dd2e97fe9\" x=\"503.602597\" y=\"166.459375\" style=\"fill: #4c4c4c; stroke: #4c4c4c; stroke-linejoin: miter\"/>\n",
       "     <use xlink:href=\"#m9dd2e97fe9\" x=\"503.602597\" y=\"166.459375\" style=\"fill: #4c4c4c; stroke: #4c4c4c; stroke-linejoin: miter\"/>\n",
       "     <use xlink:href=\"#m9dd2e97fe9\" x=\"503.602597\" y=\"166.459375\" style=\"fill: #4c4c4c; stroke: #4c4c4c; stroke-linejoin: miter\"/>\n",
       "     <use xlink:href=\"#m9dd2e97fe9\" x=\"503.602597\" y=\"166.459375\" style=\"fill: #4c4c4c; stroke: #4c4c4c; stroke-linejoin: miter\"/>\n",
       "     <use xlink:href=\"#m9dd2e97fe9\" x=\"503.602597\" y=\"166.459375\" style=\"fill: #4c4c4c; stroke: #4c4c4c; stroke-linejoin: miter\"/>\n",
       "     <use xlink:href=\"#m9dd2e97fe9\" x=\"503.602597\" y=\"166.459375\" style=\"fill: #4c4c4c; stroke: #4c4c4c; stroke-linejoin: miter\"/>\n",
       "     <use xlink:href=\"#m9dd2e97fe9\" x=\"503.602597\" y=\"166.459375\" style=\"fill: #4c4c4c; stroke: #4c4c4c; stroke-linejoin: miter\"/>\n",
       "     <use xlink:href=\"#m9dd2e97fe9\" x=\"539.836364\" y=\"166.459375\" style=\"fill: #4c4c4c; stroke: #4c4c4c; stroke-linejoin: miter\"/>\n",
       "     <use xlink:href=\"#m9dd2e97fe9\" x=\"539.836364\" y=\"166.459375\" style=\"fill: #4c4c4c; stroke: #4c4c4c; stroke-linejoin: miter\"/>\n",
       "     <use xlink:href=\"#m9dd2e97fe9\" x=\"539.836364\" y=\"166.459375\" style=\"fill: #4c4c4c; stroke: #4c4c4c; stroke-linejoin: miter\"/>\n",
       "     <use xlink:href=\"#m9dd2e97fe9\" x=\"539.836364\" y=\"166.459375\" style=\"fill: #4c4c4c; stroke: #4c4c4c; stroke-linejoin: miter\"/>\n",
       "     <use xlink:href=\"#m9dd2e97fe9\" x=\"539.836364\" y=\"166.459375\" style=\"fill: #4c4c4c; stroke: #4c4c4c; stroke-linejoin: miter\"/>\n",
       "     <use xlink:href=\"#m9dd2e97fe9\" x=\"503.602597\" y=\"166.459375\" style=\"fill: #4c4c4c; stroke: #4c4c4c; stroke-linejoin: miter\"/>\n",
       "     <use xlink:href=\"#m9dd2e97fe9\" x=\"503.602597\" y=\"166.459375\" style=\"fill: #4c4c4c; stroke: #4c4c4c; stroke-linejoin: miter\"/>\n",
       "     <use xlink:href=\"#m9dd2e97fe9\" x=\"539.836364\" y=\"166.459375\" style=\"fill: #4c4c4c; stroke: #4c4c4c; stroke-linejoin: miter\"/>\n",
       "     <use xlink:href=\"#m9dd2e97fe9\" x=\"503.602597\" y=\"166.459375\" style=\"fill: #4c4c4c; stroke: #4c4c4c; stroke-linejoin: miter\"/>\n",
       "     <use xlink:href=\"#m9dd2e97fe9\" x=\"503.602597\" y=\"166.459375\" style=\"fill: #4c4c4c; stroke: #4c4c4c; stroke-linejoin: miter\"/>\n",
       "     <use xlink:href=\"#m9dd2e97fe9\" x=\"503.602597\" y=\"166.459375\" style=\"fill: #4c4c4c; stroke: #4c4c4c; stroke-linejoin: miter\"/>\n",
       "     <use xlink:href=\"#m9dd2e97fe9\" x=\"539.836364\" y=\"166.459375\" style=\"fill: #4c4c4c; stroke: #4c4c4c; stroke-linejoin: miter\"/>\n",
       "     <use xlink:href=\"#m9dd2e97fe9\" x=\"539.836364\" y=\"166.459375\" style=\"fill: #4c4c4c; stroke: #4c4c4c; stroke-linejoin: miter\"/>\n",
       "     <use xlink:href=\"#m9dd2e97fe9\" x=\"539.836364\" y=\"166.459375\" style=\"fill: #4c4c4c; stroke: #4c4c4c; stroke-linejoin: miter\"/>\n",
       "     <use xlink:href=\"#m9dd2e97fe9\" x=\"539.836364\" y=\"166.459375\" style=\"fill: #4c4c4c; stroke: #4c4c4c; stroke-linejoin: miter\"/>\n",
       "     <use xlink:href=\"#m9dd2e97fe9\" x=\"539.836364\" y=\"166.459375\" style=\"fill: #4c4c4c; stroke: #4c4c4c; stroke-linejoin: miter\"/>\n",
       "     <use xlink:href=\"#m9dd2e97fe9\" x=\"539.836364\" y=\"166.459375\" style=\"fill: #4c4c4c; stroke: #4c4c4c; stroke-linejoin: miter\"/>\n",
       "     <use xlink:href=\"#m9dd2e97fe9\" x=\"503.602597\" y=\"166.459375\" style=\"fill: #4c4c4c; stroke: #4c4c4c; stroke-linejoin: miter\"/>\n",
       "     <use xlink:href=\"#m9dd2e97fe9\" x=\"503.602597\" y=\"166.459375\" style=\"fill: #4c4c4c; stroke: #4c4c4c; stroke-linejoin: miter\"/>\n",
       "     <use xlink:href=\"#m9dd2e97fe9\" x=\"503.602597\" y=\"166.459375\" style=\"fill: #4c4c4c; stroke: #4c4c4c; stroke-linejoin: miter\"/>\n",
       "     <use xlink:href=\"#m9dd2e97fe9\" x=\"503.602597\" y=\"166.459375\" style=\"fill: #4c4c4c; stroke: #4c4c4c; stroke-linejoin: miter\"/>\n",
       "     <use xlink:href=\"#m9dd2e97fe9\" x=\"539.836364\" y=\"166.459375\" style=\"fill: #4c4c4c; stroke: #4c4c4c; stroke-linejoin: miter\"/>\n",
       "     <use xlink:href=\"#m9dd2e97fe9\" x=\"539.836364\" y=\"166.459375\" style=\"fill: #4c4c4c; stroke: #4c4c4c; stroke-linejoin: miter\"/>\n",
       "     <use xlink:href=\"#m9dd2e97fe9\" x=\"539.836364\" y=\"166.459375\" style=\"fill: #4c4c4c; stroke: #4c4c4c; stroke-linejoin: miter\"/>\n",
       "     <use xlink:href=\"#m9dd2e97fe9\" x=\"503.602597\" y=\"166.459375\" style=\"fill: #4c4c4c; stroke: #4c4c4c; stroke-linejoin: miter\"/>\n",
       "     <use xlink:href=\"#m9dd2e97fe9\" x=\"503.602597\" y=\"166.459375\" style=\"fill: #4c4c4c; stroke: #4c4c4c; stroke-linejoin: miter\"/>\n",
       "     <use xlink:href=\"#m9dd2e97fe9\" x=\"503.602597\" y=\"166.459375\" style=\"fill: #4c4c4c; stroke: #4c4c4c; stroke-linejoin: miter\"/>\n",
       "     <use xlink:href=\"#m9dd2e97fe9\" x=\"539.836364\" y=\"166.459375\" style=\"fill: #4c4c4c; stroke: #4c4c4c; stroke-linejoin: miter\"/>\n",
       "     <use xlink:href=\"#m9dd2e97fe9\" x=\"539.836364\" y=\"166.459375\" style=\"fill: #4c4c4c; stroke: #4c4c4c; stroke-linejoin: miter\"/>\n",
       "     <use xlink:href=\"#m9dd2e97fe9\" x=\"539.836364\" y=\"166.459375\" style=\"fill: #4c4c4c; stroke: #4c4c4c; stroke-linejoin: miter\"/>\n",
       "     <use xlink:href=\"#m9dd2e97fe9\" x=\"539.836364\" y=\"166.459375\" style=\"fill: #4c4c4c; stroke: #4c4c4c; stroke-linejoin: miter\"/>\n",
       "     <use xlink:href=\"#m9dd2e97fe9\" x=\"539.836364\" y=\"166.459375\" style=\"fill: #4c4c4c; stroke: #4c4c4c; stroke-linejoin: miter\"/>\n",
       "     <use xlink:href=\"#m9dd2e97fe9\" x=\"539.836364\" y=\"166.459375\" style=\"fill: #4c4c4c; stroke: #4c4c4c; stroke-linejoin: miter\"/>\n",
       "     <use xlink:href=\"#m9dd2e97fe9\" x=\"539.836364\" y=\"166.459375\" style=\"fill: #4c4c4c; stroke: #4c4c4c; stroke-linejoin: miter\"/>\n",
       "     <use xlink:href=\"#m9dd2e97fe9\" x=\"539.836364\" y=\"166.459375\" style=\"fill: #4c4c4c; stroke: #4c4c4c; stroke-linejoin: miter\"/>\n",
       "     <use xlink:href=\"#m9dd2e97fe9\" x=\"539.836364\" y=\"166.459375\" style=\"fill: #4c4c4c; stroke: #4c4c4c; stroke-linejoin: miter\"/>\n",
       "     <use xlink:href=\"#m9dd2e97fe9\" x=\"539.836364\" y=\"166.459375\" style=\"fill: #4c4c4c; stroke: #4c4c4c; stroke-linejoin: miter\"/>\n",
       "     <use xlink:href=\"#m9dd2e97fe9\" x=\"539.836364\" y=\"166.459375\" style=\"fill: #4c4c4c; stroke: #4c4c4c; stroke-linejoin: miter\"/>\n",
       "     <use xlink:href=\"#m9dd2e97fe9\" x=\"503.602597\" y=\"166.459375\" style=\"fill: #4c4c4c; stroke: #4c4c4c; stroke-linejoin: miter\"/>\n",
       "     <use xlink:href=\"#m9dd2e97fe9\" x=\"503.602597\" y=\"166.459375\" style=\"fill: #4c4c4c; stroke: #4c4c4c; stroke-linejoin: miter\"/>\n",
       "     <use xlink:href=\"#m9dd2e97fe9\" x=\"503.602597\" y=\"166.459375\" style=\"fill: #4c4c4c; stroke: #4c4c4c; stroke-linejoin: miter\"/>\n",
       "     <use xlink:href=\"#m9dd2e97fe9\" x=\"503.602597\" y=\"166.459375\" style=\"fill: #4c4c4c; stroke: #4c4c4c; stroke-linejoin: miter\"/>\n",
       "     <use xlink:href=\"#m9dd2e97fe9\" x=\"503.602597\" y=\"166.459375\" style=\"fill: #4c4c4c; stroke: #4c4c4c; stroke-linejoin: miter\"/>\n",
       "     <use xlink:href=\"#m9dd2e97fe9\" x=\"503.602597\" y=\"166.459375\" style=\"fill: #4c4c4c; stroke: #4c4c4c; stroke-linejoin: miter\"/>\n",
       "     <use xlink:href=\"#m9dd2e97fe9\" x=\"503.602597\" y=\"166.459375\" style=\"fill: #4c4c4c; stroke: #4c4c4c; stroke-linejoin: miter\"/>\n",
       "     <use xlink:href=\"#m9dd2e97fe9\" x=\"503.602597\" y=\"166.459375\" style=\"fill: #4c4c4c; stroke: #4c4c4c; stroke-linejoin: miter\"/>\n",
       "     <use xlink:href=\"#m9dd2e97fe9\" x=\"539.836364\" y=\"166.459375\" style=\"fill: #4c4c4c; stroke: #4c4c4c; stroke-linejoin: miter\"/>\n",
       "     <use xlink:href=\"#m9dd2e97fe9\" x=\"539.836364\" y=\"166.459375\" style=\"fill: #4c4c4c; stroke: #4c4c4c; stroke-linejoin: miter\"/>\n",
       "     <use xlink:href=\"#m9dd2e97fe9\" x=\"539.836364\" y=\"166.459375\" style=\"fill: #4c4c4c; stroke: #4c4c4c; stroke-linejoin: miter\"/>\n",
       "     <use xlink:href=\"#m9dd2e97fe9\" x=\"503.602597\" y=\"166.459375\" style=\"fill: #4c4c4c; stroke: #4c4c4c; stroke-linejoin: miter\"/>\n",
       "     <use xlink:href=\"#m9dd2e97fe9\" x=\"503.602597\" y=\"166.459375\" style=\"fill: #4c4c4c; stroke: #4c4c4c; stroke-linejoin: miter\"/>\n",
       "     <use xlink:href=\"#m9dd2e97fe9\" x=\"539.836364\" y=\"166.459375\" style=\"fill: #4c4c4c; stroke: #4c4c4c; stroke-linejoin: miter\"/>\n",
       "     <use xlink:href=\"#m9dd2e97fe9\" x=\"539.836364\" y=\"166.459375\" style=\"fill: #4c4c4c; stroke: #4c4c4c; stroke-linejoin: miter\"/>\n",
       "     <use xlink:href=\"#m9dd2e97fe9\" x=\"539.836364\" y=\"166.459375\" style=\"fill: #4c4c4c; stroke: #4c4c4c; stroke-linejoin: miter\"/>\n",
       "     <use xlink:href=\"#m9dd2e97fe9\" x=\"539.836364\" y=\"166.459375\" style=\"fill: #4c4c4c; stroke: #4c4c4c; stroke-linejoin: miter\"/>\n",
       "     <use xlink:href=\"#m9dd2e97fe9\" x=\"503.602597\" y=\"166.459375\" style=\"fill: #4c4c4c; stroke: #4c4c4c; stroke-linejoin: miter\"/>\n",
       "     <use xlink:href=\"#m9dd2e97fe9\" x=\"503.602597\" y=\"166.459375\" style=\"fill: #4c4c4c; stroke: #4c4c4c; stroke-linejoin: miter\"/>\n",
       "     <use xlink:href=\"#m9dd2e97fe9\" x=\"539.836364\" y=\"166.459375\" style=\"fill: #4c4c4c; stroke: #4c4c4c; stroke-linejoin: miter\"/>\n",
       "     <use xlink:href=\"#m9dd2e97fe9\" x=\"503.602597\" y=\"166.459375\" style=\"fill: #4c4c4c; stroke: #4c4c4c; stroke-linejoin: miter\"/>\n",
       "     <use xlink:href=\"#m9dd2e97fe9\" x=\"503.602597\" y=\"166.459375\" style=\"fill: #4c4c4c; stroke: #4c4c4c; stroke-linejoin: miter\"/>\n",
       "     <use xlink:href=\"#m9dd2e97fe9\" x=\"539.836364\" y=\"166.459375\" style=\"fill: #4c4c4c; stroke: #4c4c4c; stroke-linejoin: miter\"/>\n",
       "     <use xlink:href=\"#m9dd2e97fe9\" x=\"539.836364\" y=\"166.459375\" style=\"fill: #4c4c4c; stroke: #4c4c4c; stroke-linejoin: miter\"/>\n",
       "     <use xlink:href=\"#m9dd2e97fe9\" x=\"539.836364\" y=\"166.459375\" style=\"fill: #4c4c4c; stroke: #4c4c4c; stroke-linejoin: miter\"/>\n",
       "     <use xlink:href=\"#m9dd2e97fe9\" x=\"539.836364\" y=\"166.459375\" style=\"fill: #4c4c4c; stroke: #4c4c4c; stroke-linejoin: miter\"/>\n",
       "     <use xlink:href=\"#m9dd2e97fe9\" x=\"503.602597\" y=\"166.459375\" style=\"fill: #4c4c4c; stroke: #4c4c4c; stroke-linejoin: miter\"/>\n",
       "     <use xlink:href=\"#m9dd2e97fe9\" x=\"503.602597\" y=\"166.459375\" style=\"fill: #4c4c4c; stroke: #4c4c4c; stroke-linejoin: miter\"/>\n",
       "     <use xlink:href=\"#m9dd2e97fe9\" x=\"503.602597\" y=\"166.459375\" style=\"fill: #4c4c4c; stroke: #4c4c4c; stroke-linejoin: miter\"/>\n",
       "     <use xlink:href=\"#m9dd2e97fe9\" x=\"539.836364\" y=\"166.459375\" style=\"fill: #4c4c4c; stroke: #4c4c4c; stroke-linejoin: miter\"/>\n",
       "     <use xlink:href=\"#m9dd2e97fe9\" x=\"539.836364\" y=\"166.459375\" style=\"fill: #4c4c4c; stroke: #4c4c4c; stroke-linejoin: miter\"/>\n",
       "     <use xlink:href=\"#m9dd2e97fe9\" x=\"539.836364\" y=\"166.459375\" style=\"fill: #4c4c4c; stroke: #4c4c4c; stroke-linejoin: miter\"/>\n",
       "     <use xlink:href=\"#m9dd2e97fe9\" x=\"539.836364\" y=\"166.459375\" style=\"fill: #4c4c4c; stroke: #4c4c4c; stroke-linejoin: miter\"/>\n",
       "     <use xlink:href=\"#m9dd2e97fe9\" x=\"503.602597\" y=\"166.459375\" style=\"fill: #4c4c4c; stroke: #4c4c4c; stroke-linejoin: miter\"/>\n",
       "     <use xlink:href=\"#m9dd2e97fe9\" x=\"503.602597\" y=\"166.459375\" style=\"fill: #4c4c4c; stroke: #4c4c4c; stroke-linejoin: miter\"/>\n",
       "     <use xlink:href=\"#m9dd2e97fe9\" x=\"539.836364\" y=\"166.459375\" style=\"fill: #4c4c4c; stroke: #4c4c4c; stroke-linejoin: miter\"/>\n",
       "     <use xlink:href=\"#m9dd2e97fe9\" x=\"539.836364\" y=\"166.459375\" style=\"fill: #4c4c4c; stroke: #4c4c4c; stroke-linejoin: miter\"/>\n",
       "     <use xlink:href=\"#m9dd2e97fe9\" x=\"503.602597\" y=\"166.459375\" style=\"fill: #4c4c4c; stroke: #4c4c4c; stroke-linejoin: miter\"/>\n",
       "     <use xlink:href=\"#m9dd2e97fe9\" x=\"503.602597\" y=\"166.459375\" style=\"fill: #4c4c4c; stroke: #4c4c4c; stroke-linejoin: miter\"/>\n",
       "     <use xlink:href=\"#m9dd2e97fe9\" x=\"539.836364\" y=\"166.459375\" style=\"fill: #4c4c4c; stroke: #4c4c4c; stroke-linejoin: miter\"/>\n",
       "     <use xlink:href=\"#m9dd2e97fe9\" x=\"539.836364\" y=\"166.459375\" style=\"fill: #4c4c4c; stroke: #4c4c4c; stroke-linejoin: miter\"/>\n",
       "     <use xlink:href=\"#m9dd2e97fe9\" x=\"539.836364\" y=\"166.459375\" style=\"fill: #4c4c4c; stroke: #4c4c4c; stroke-linejoin: miter\"/>\n",
       "     <use xlink:href=\"#m9dd2e97fe9\" x=\"539.836364\" y=\"166.459375\" style=\"fill: #4c4c4c; stroke: #4c4c4c; stroke-linejoin: miter\"/>\n",
       "     <use xlink:href=\"#m9dd2e97fe9\" x=\"539.836364\" y=\"166.459375\" style=\"fill: #4c4c4c; stroke: #4c4c4c; stroke-linejoin: miter\"/>\n",
       "     <use xlink:href=\"#m9dd2e97fe9\" x=\"539.836364\" y=\"166.459375\" style=\"fill: #4c4c4c; stroke: #4c4c4c; stroke-linejoin: miter\"/>\n",
       "     <use xlink:href=\"#m9dd2e97fe9\" x=\"539.836364\" y=\"166.459375\" style=\"fill: #4c4c4c; stroke: #4c4c4c; stroke-linejoin: miter\"/>\n",
       "     <use xlink:href=\"#m9dd2e97fe9\" x=\"503.602597\" y=\"166.459375\" style=\"fill: #4c4c4c; stroke: #4c4c4c; stroke-linejoin: miter\"/>\n",
       "     <use xlink:href=\"#m9dd2e97fe9\" x=\"503.602597\" y=\"166.459375\" style=\"fill: #4c4c4c; stroke: #4c4c4c; stroke-linejoin: miter\"/>\n",
       "     <use xlink:href=\"#m9dd2e97fe9\" x=\"503.602597\" y=\"166.459375\" style=\"fill: #4c4c4c; stroke: #4c4c4c; stroke-linejoin: miter\"/>\n",
       "     <use xlink:href=\"#m9dd2e97fe9\" x=\"503.602597\" y=\"166.459375\" style=\"fill: #4c4c4c; stroke: #4c4c4c; stroke-linejoin: miter\"/>\n",
       "     <use xlink:href=\"#m9dd2e97fe9\" x=\"503.602597\" y=\"166.459375\" style=\"fill: #4c4c4c; stroke: #4c4c4c; stroke-linejoin: miter\"/>\n",
       "     <use xlink:href=\"#m9dd2e97fe9\" x=\"539.836364\" y=\"166.459375\" style=\"fill: #4c4c4c; stroke: #4c4c4c; stroke-linejoin: miter\"/>\n",
       "     <use xlink:href=\"#m9dd2e97fe9\" x=\"539.836364\" y=\"166.459375\" style=\"fill: #4c4c4c; stroke: #4c4c4c; stroke-linejoin: miter\"/>\n",
       "     <use xlink:href=\"#m9dd2e97fe9\" x=\"539.836364\" y=\"166.459375\" style=\"fill: #4c4c4c; stroke: #4c4c4c; stroke-linejoin: miter\"/>\n",
       "     <use xlink:href=\"#m9dd2e97fe9\" x=\"503.602597\" y=\"166.459375\" style=\"fill: #4c4c4c; stroke: #4c4c4c; stroke-linejoin: miter\"/>\n",
       "     <use xlink:href=\"#m9dd2e97fe9\" x=\"503.602597\" y=\"166.459375\" style=\"fill: #4c4c4c; stroke: #4c4c4c; stroke-linejoin: miter\"/>\n",
       "     <use xlink:href=\"#m9dd2e97fe9\" x=\"539.836364\" y=\"166.459375\" style=\"fill: #4c4c4c; stroke: #4c4c4c; stroke-linejoin: miter\"/>\n",
       "     <use xlink:href=\"#m9dd2e97fe9\" x=\"539.836364\" y=\"166.459375\" style=\"fill: #4c4c4c; stroke: #4c4c4c; stroke-linejoin: miter\"/>\n",
       "     <use xlink:href=\"#m9dd2e97fe9\" x=\"539.836364\" y=\"166.459375\" style=\"fill: #4c4c4c; stroke: #4c4c4c; stroke-linejoin: miter\"/>\n",
       "     <use xlink:href=\"#m9dd2e97fe9\" x=\"539.836364\" y=\"166.459375\" style=\"fill: #4c4c4c; stroke: #4c4c4c; stroke-linejoin: miter\"/>\n",
       "     <use xlink:href=\"#m9dd2e97fe9\" x=\"539.836364\" y=\"166.459375\" style=\"fill: #4c4c4c; stroke: #4c4c4c; stroke-linejoin: miter\"/>\n",
       "     <use xlink:href=\"#m9dd2e97fe9\" x=\"503.602597\" y=\"166.459375\" style=\"fill: #4c4c4c; stroke: #4c4c4c; stroke-linejoin: miter\"/>\n",
       "     <use xlink:href=\"#m9dd2e97fe9\" x=\"503.602597\" y=\"166.459375\" style=\"fill: #4c4c4c; stroke: #4c4c4c; stroke-linejoin: miter\"/>\n",
       "     <use xlink:href=\"#m9dd2e97fe9\" x=\"503.602597\" y=\"166.459375\" style=\"fill: #4c4c4c; stroke: #4c4c4c; stroke-linejoin: miter\"/>\n",
       "     <use xlink:href=\"#m9dd2e97fe9\" x=\"503.602597\" y=\"166.459375\" style=\"fill: #4c4c4c; stroke: #4c4c4c; stroke-linejoin: miter\"/>\n",
       "     <use xlink:href=\"#m9dd2e97fe9\" x=\"503.602597\" y=\"166.459375\" style=\"fill: #4c4c4c; stroke: #4c4c4c; stroke-linejoin: miter\"/>\n",
       "     <use xlink:href=\"#m9dd2e97fe9\" x=\"503.602597\" y=\"166.459375\" style=\"fill: #4c4c4c; stroke: #4c4c4c; stroke-linejoin: miter\"/>\n",
       "     <use xlink:href=\"#m9dd2e97fe9\" x=\"539.836364\" y=\"166.459375\" style=\"fill: #4c4c4c; stroke: #4c4c4c; stroke-linejoin: miter\"/>\n",
       "     <use xlink:href=\"#m9dd2e97fe9\" x=\"539.836364\" y=\"166.459375\" style=\"fill: #4c4c4c; stroke: #4c4c4c; stroke-linejoin: miter\"/>\n",
       "     <use xlink:href=\"#m9dd2e97fe9\" x=\"539.836364\" y=\"166.459375\" style=\"fill: #4c4c4c; stroke: #4c4c4c; stroke-linejoin: miter\"/>\n",
       "     <use xlink:href=\"#m9dd2e97fe9\" x=\"539.836364\" y=\"166.459375\" style=\"fill: #4c4c4c; stroke: #4c4c4c; stroke-linejoin: miter\"/>\n",
       "     <use xlink:href=\"#m9dd2e97fe9\" x=\"503.602597\" y=\"166.459375\" style=\"fill: #4c4c4c; stroke: #4c4c4c; stroke-linejoin: miter\"/>\n",
       "     <use xlink:href=\"#m9dd2e97fe9\" x=\"503.602597\" y=\"166.459375\" style=\"fill: #4c4c4c; stroke: #4c4c4c; stroke-linejoin: miter\"/>\n",
       "     <use xlink:href=\"#m9dd2e97fe9\" x=\"503.602597\" y=\"166.459375\" style=\"fill: #4c4c4c; stroke: #4c4c4c; stroke-linejoin: miter\"/>\n",
       "     <use xlink:href=\"#m9dd2e97fe9\" x=\"539.836364\" y=\"166.459375\" style=\"fill: #4c4c4c; stroke: #4c4c4c; stroke-linejoin: miter\"/>\n",
       "     <use xlink:href=\"#m9dd2e97fe9\" x=\"539.836364\" y=\"166.459375\" style=\"fill: #4c4c4c; stroke: #4c4c4c; stroke-linejoin: miter\"/>\n",
       "     <use xlink:href=\"#m9dd2e97fe9\" x=\"539.836364\" y=\"166.459375\" style=\"fill: #4c4c4c; stroke: #4c4c4c; stroke-linejoin: miter\"/>\n",
       "     <use xlink:href=\"#m9dd2e97fe9\" x=\"503.602597\" y=\"166.459375\" style=\"fill: #4c4c4c; stroke: #4c4c4c; stroke-linejoin: miter\"/>\n",
       "     <use xlink:href=\"#m9dd2e97fe9\" x=\"503.602597\" y=\"166.459375\" style=\"fill: #4c4c4c; stroke: #4c4c4c; stroke-linejoin: miter\"/>\n",
       "     <use xlink:href=\"#m9dd2e97fe9\" x=\"503.602597\" y=\"166.459375\" style=\"fill: #4c4c4c; stroke: #4c4c4c; stroke-linejoin: miter\"/>\n",
       "     <use xlink:href=\"#m9dd2e97fe9\" x=\"539.836364\" y=\"166.459375\" style=\"fill: #4c4c4c; stroke: #4c4c4c; stroke-linejoin: miter\"/>\n",
       "     <use xlink:href=\"#m9dd2e97fe9\" x=\"539.836364\" y=\"166.459375\" style=\"fill: #4c4c4c; stroke: #4c4c4c; stroke-linejoin: miter\"/>\n",
       "     <use xlink:href=\"#m9dd2e97fe9\" x=\"503.602597\" y=\"166.459375\" style=\"fill: #4c4c4c; stroke: #4c4c4c; stroke-linejoin: miter\"/>\n",
       "     <use xlink:href=\"#m9dd2e97fe9\" x=\"503.602597\" y=\"166.459375\" style=\"fill: #4c4c4c; stroke: #4c4c4c; stroke-linejoin: miter\"/>\n",
       "     <use xlink:href=\"#m9dd2e97fe9\" x=\"503.602597\" y=\"166.459375\" style=\"fill: #4c4c4c; stroke: #4c4c4c; stroke-linejoin: miter\"/>\n",
       "     <use xlink:href=\"#m9dd2e97fe9\" x=\"539.836364\" y=\"166.459375\" style=\"fill: #4c4c4c; stroke: #4c4c4c; stroke-linejoin: miter\"/>\n",
       "     <use xlink:href=\"#m9dd2e97fe9\" x=\"539.836364\" y=\"166.459375\" style=\"fill: #4c4c4c; stroke: #4c4c4c; stroke-linejoin: miter\"/>\n",
       "     <use xlink:href=\"#m9dd2e97fe9\" x=\"539.836364\" y=\"166.459375\" style=\"fill: #4c4c4c; stroke: #4c4c4c; stroke-linejoin: miter\"/>\n",
       "     <use xlink:href=\"#m9dd2e97fe9\" x=\"539.836364\" y=\"166.459375\" style=\"fill: #4c4c4c; stroke: #4c4c4c; stroke-linejoin: miter\"/>\n",
       "     <use xlink:href=\"#m9dd2e97fe9\" x=\"503.602597\" y=\"166.459375\" style=\"fill: #4c4c4c; stroke: #4c4c4c; stroke-linejoin: miter\"/>\n",
       "     <use xlink:href=\"#m9dd2e97fe9\" x=\"503.602597\" y=\"166.459375\" style=\"fill: #4c4c4c; stroke: #4c4c4c; stroke-linejoin: miter\"/>\n",
       "     <use xlink:href=\"#m9dd2e97fe9\" x=\"503.602597\" y=\"166.459375\" style=\"fill: #4c4c4c; stroke: #4c4c4c; stroke-linejoin: miter\"/>\n",
       "     <use xlink:href=\"#m9dd2e97fe9\" x=\"503.602597\" y=\"166.459375\" style=\"fill: #4c4c4c; stroke: #4c4c4c; stroke-linejoin: miter\"/>\n",
       "     <use xlink:href=\"#m9dd2e97fe9\" x=\"503.602597\" y=\"166.459375\" style=\"fill: #4c4c4c; stroke: #4c4c4c; stroke-linejoin: miter\"/>\n",
       "     <use xlink:href=\"#m9dd2e97fe9\" x=\"503.602597\" y=\"166.459375\" style=\"fill: #4c4c4c; stroke: #4c4c4c; stroke-linejoin: miter\"/>\n",
       "     <use xlink:href=\"#m9dd2e97fe9\" x=\"503.602597\" y=\"166.459375\" style=\"fill: #4c4c4c; stroke: #4c4c4c; stroke-linejoin: miter\"/>\n",
       "     <use xlink:href=\"#m9dd2e97fe9\" x=\"503.602597\" y=\"166.459375\" style=\"fill: #4c4c4c; stroke: #4c4c4c; stroke-linejoin: miter\"/>\n",
       "     <use xlink:href=\"#m9dd2e97fe9\" x=\"503.602597\" y=\"166.459375\" style=\"fill: #4c4c4c; stroke: #4c4c4c; stroke-linejoin: miter\"/>\n",
       "     <use xlink:href=\"#m9dd2e97fe9\" x=\"539.836364\" y=\"166.459375\" style=\"fill: #4c4c4c; stroke: #4c4c4c; stroke-linejoin: miter\"/>\n",
       "     <use xlink:href=\"#m9dd2e97fe9\" x=\"503.602597\" y=\"166.459375\" style=\"fill: #4c4c4c; stroke: #4c4c4c; stroke-linejoin: miter\"/>\n",
       "     <use xlink:href=\"#m9dd2e97fe9\" x=\"539.836364\" y=\"166.459375\" style=\"fill: #4c4c4c; stroke: #4c4c4c; stroke-linejoin: miter\"/>\n",
       "     <use xlink:href=\"#m9dd2e97fe9\" x=\"539.836364\" y=\"166.459375\" style=\"fill: #4c4c4c; stroke: #4c4c4c; stroke-linejoin: miter\"/>\n",
       "     <use xlink:href=\"#m9dd2e97fe9\" x=\"539.836364\" y=\"166.459375\" style=\"fill: #4c4c4c; stroke: #4c4c4c; stroke-linejoin: miter\"/>\n",
       "     <use xlink:href=\"#m9dd2e97fe9\" x=\"539.836364\" y=\"166.459375\" style=\"fill: #4c4c4c; stroke: #4c4c4c; stroke-linejoin: miter\"/>\n",
       "     <use xlink:href=\"#m9dd2e97fe9\" x=\"539.836364\" y=\"166.459375\" style=\"fill: #4c4c4c; stroke: #4c4c4c; stroke-linejoin: miter\"/>\n",
       "     <use xlink:href=\"#m9dd2e97fe9\" x=\"539.836364\" y=\"166.459375\" style=\"fill: #4c4c4c; stroke: #4c4c4c; stroke-linejoin: miter\"/>\n",
       "     <use xlink:href=\"#m9dd2e97fe9\" x=\"503.602597\" y=\"166.459375\" style=\"fill: #4c4c4c; stroke: #4c4c4c; stroke-linejoin: miter\"/>\n",
       "     <use xlink:href=\"#m9dd2e97fe9\" x=\"503.602597\" y=\"166.459375\" style=\"fill: #4c4c4c; stroke: #4c4c4c; stroke-linejoin: miter\"/>\n",
       "     <use xlink:href=\"#m9dd2e97fe9\" x=\"503.602597\" y=\"166.459375\" style=\"fill: #4c4c4c; stroke: #4c4c4c; stroke-linejoin: miter\"/>\n",
       "     <use xlink:href=\"#m9dd2e97fe9\" x=\"503.602597\" y=\"166.459375\" style=\"fill: #4c4c4c; stroke: #4c4c4c; stroke-linejoin: miter\"/>\n",
       "     <use xlink:href=\"#m9dd2e97fe9\" x=\"503.602597\" y=\"166.459375\" style=\"fill: #4c4c4c; stroke: #4c4c4c; stroke-linejoin: miter\"/>\n",
       "     <use xlink:href=\"#m9dd2e97fe9\" x=\"503.602597\" y=\"166.459375\" style=\"fill: #4c4c4c; stroke: #4c4c4c; stroke-linejoin: miter\"/>\n",
       "     <use xlink:href=\"#m9dd2e97fe9\" x=\"503.602597\" y=\"166.459375\" style=\"fill: #4c4c4c; stroke: #4c4c4c; stroke-linejoin: miter\"/>\n",
       "     <use xlink:href=\"#m9dd2e97fe9\" x=\"503.602597\" y=\"166.459375\" style=\"fill: #4c4c4c; stroke: #4c4c4c; stroke-linejoin: miter\"/>\n",
       "     <use xlink:href=\"#m9dd2e97fe9\" x=\"503.602597\" y=\"166.459375\" style=\"fill: #4c4c4c; stroke: #4c4c4c; stroke-linejoin: miter\"/>\n",
       "     <use xlink:href=\"#m9dd2e97fe9\" x=\"503.602597\" y=\"166.459375\" style=\"fill: #4c4c4c; stroke: #4c4c4c; stroke-linejoin: miter\"/>\n",
       "     <use xlink:href=\"#m9dd2e97fe9\" x=\"539.836364\" y=\"166.459375\" style=\"fill: #4c4c4c; stroke: #4c4c4c; stroke-linejoin: miter\"/>\n",
       "     <use xlink:href=\"#m9dd2e97fe9\" x=\"539.836364\" y=\"166.459375\" style=\"fill: #4c4c4c; stroke: #4c4c4c; stroke-linejoin: miter\"/>\n",
       "     <use xlink:href=\"#m9dd2e97fe9\" x=\"539.836364\" y=\"166.459375\" style=\"fill: #4c4c4c; stroke: #4c4c4c; stroke-linejoin: miter\"/>\n",
       "     <use xlink:href=\"#m9dd2e97fe9\" x=\"539.836364\" y=\"166.459375\" style=\"fill: #4c4c4c; stroke: #4c4c4c; stroke-linejoin: miter\"/>\n",
       "     <use xlink:href=\"#m9dd2e97fe9\" x=\"539.836364\" y=\"166.459375\" style=\"fill: #4c4c4c; stroke: #4c4c4c; stroke-linejoin: miter\"/>\n",
       "     <use xlink:href=\"#m9dd2e97fe9\" x=\"503.602597\" y=\"166.459375\" style=\"fill: #4c4c4c; stroke: #4c4c4c; stroke-linejoin: miter\"/>\n",
       "     <use xlink:href=\"#m9dd2e97fe9\" x=\"503.602597\" y=\"166.459375\" style=\"fill: #4c4c4c; stroke: #4c4c4c; stroke-linejoin: miter\"/>\n",
       "     <use xlink:href=\"#m9dd2e97fe9\" x=\"503.602597\" y=\"166.459375\" style=\"fill: #4c4c4c; stroke: #4c4c4c; stroke-linejoin: miter\"/>\n",
       "     <use xlink:href=\"#m9dd2e97fe9\" x=\"539.836364\" y=\"166.459375\" style=\"fill: #4c4c4c; stroke: #4c4c4c; stroke-linejoin: miter\"/>\n",
       "     <use xlink:href=\"#m9dd2e97fe9\" x=\"539.836364\" y=\"166.459375\" style=\"fill: #4c4c4c; stroke: #4c4c4c; stroke-linejoin: miter\"/>\n",
       "     <use xlink:href=\"#m9dd2e97fe9\" x=\"503.602597\" y=\"166.459375\" style=\"fill: #4c4c4c; stroke: #4c4c4c; stroke-linejoin: miter\"/>\n",
       "     <use xlink:href=\"#m9dd2e97fe9\" x=\"503.602597\" y=\"166.459375\" style=\"fill: #4c4c4c; stroke: #4c4c4c; stroke-linejoin: miter\"/>\n",
       "     <use xlink:href=\"#m9dd2e97fe9\" x=\"503.602597\" y=\"166.459375\" style=\"fill: #4c4c4c; stroke: #4c4c4c; stroke-linejoin: miter\"/>\n",
       "     <use xlink:href=\"#m9dd2e97fe9\" x=\"503.602597\" y=\"166.459375\" style=\"fill: #4c4c4c; stroke: #4c4c4c; stroke-linejoin: miter\"/>\n",
       "     <use xlink:href=\"#m9dd2e97fe9\" x=\"503.602597\" y=\"166.459375\" style=\"fill: #4c4c4c; stroke: #4c4c4c; stroke-linejoin: miter\"/>\n",
       "     <use xlink:href=\"#m9dd2e97fe9\" x=\"503.602597\" y=\"166.459375\" style=\"fill: #4c4c4c; stroke: #4c4c4c; stroke-linejoin: miter\"/>\n",
       "     <use xlink:href=\"#m9dd2e97fe9\" x=\"539.836364\" y=\"166.459375\" style=\"fill: #4c4c4c; stroke: #4c4c4c; stroke-linejoin: miter\"/>\n",
       "     <use xlink:href=\"#m9dd2e97fe9\" x=\"539.836364\" y=\"166.459375\" style=\"fill: #4c4c4c; stroke: #4c4c4c; stroke-linejoin: miter\"/>\n",
       "     <use xlink:href=\"#m9dd2e97fe9\" x=\"539.836364\" y=\"166.459375\" style=\"fill: #4c4c4c; stroke: #4c4c4c; stroke-linejoin: miter\"/>\n",
       "     <use xlink:href=\"#m9dd2e97fe9\" x=\"503.602597\" y=\"166.459375\" style=\"fill: #4c4c4c; stroke: #4c4c4c; stroke-linejoin: miter\"/>\n",
       "     <use xlink:href=\"#m9dd2e97fe9\" x=\"503.602597\" y=\"166.459375\" style=\"fill: #4c4c4c; stroke: #4c4c4c; stroke-linejoin: miter\"/>\n",
       "     <use xlink:href=\"#m9dd2e97fe9\" x=\"503.602597\" y=\"166.459375\" style=\"fill: #4c4c4c; stroke: #4c4c4c; stroke-linejoin: miter\"/>\n",
       "     <use xlink:href=\"#m9dd2e97fe9\" x=\"503.602597\" y=\"166.459375\" style=\"fill: #4c4c4c; stroke: #4c4c4c; stroke-linejoin: miter\"/>\n",
       "     <use xlink:href=\"#m9dd2e97fe9\" x=\"503.602597\" y=\"166.459375\" style=\"fill: #4c4c4c; stroke: #4c4c4c; stroke-linejoin: miter\"/>\n",
       "     <use xlink:href=\"#m9dd2e97fe9\" x=\"503.602597\" y=\"166.459375\" style=\"fill: #4c4c4c; stroke: #4c4c4c; stroke-linejoin: miter\"/>\n",
       "     <use xlink:href=\"#m9dd2e97fe9\" x=\"503.602597\" y=\"166.459375\" style=\"fill: #4c4c4c; stroke: #4c4c4c; stroke-linejoin: miter\"/>\n",
       "     <use xlink:href=\"#m9dd2e97fe9\" x=\"539.836364\" y=\"166.459375\" style=\"fill: #4c4c4c; stroke: #4c4c4c; stroke-linejoin: miter\"/>\n",
       "     <use xlink:href=\"#m9dd2e97fe9\" x=\"539.836364\" y=\"166.459375\" style=\"fill: #4c4c4c; stroke: #4c4c4c; stroke-linejoin: miter\"/>\n",
       "     <use xlink:href=\"#m9dd2e97fe9\" x=\"503.602597\" y=\"166.459375\" style=\"fill: #4c4c4c; stroke: #4c4c4c; stroke-linejoin: miter\"/>\n",
       "     <use xlink:href=\"#m9dd2e97fe9\" x=\"503.602597\" y=\"166.459375\" style=\"fill: #4c4c4c; stroke: #4c4c4c; stroke-linejoin: miter\"/>\n",
       "     <use xlink:href=\"#m9dd2e97fe9\" x=\"503.602597\" y=\"166.459375\" style=\"fill: #4c4c4c; stroke: #4c4c4c; stroke-linejoin: miter\"/>\n",
       "     <use xlink:href=\"#m9dd2e97fe9\" x=\"539.836364\" y=\"166.459375\" style=\"fill: #4c4c4c; stroke: #4c4c4c; stroke-linejoin: miter\"/>\n",
       "     <use xlink:href=\"#m9dd2e97fe9\" x=\"539.836364\" y=\"166.459375\" style=\"fill: #4c4c4c; stroke: #4c4c4c; stroke-linejoin: miter\"/>\n",
       "     <use xlink:href=\"#m9dd2e97fe9\" x=\"539.836364\" y=\"166.459375\" style=\"fill: #4c4c4c; stroke: #4c4c4c; stroke-linejoin: miter\"/>\n",
       "     <use xlink:href=\"#m9dd2e97fe9\" x=\"539.836364\" y=\"166.459375\" style=\"fill: #4c4c4c; stroke: #4c4c4c; stroke-linejoin: miter\"/>\n",
       "     <use xlink:href=\"#m9dd2e97fe9\" x=\"539.836364\" y=\"166.459375\" style=\"fill: #4c4c4c; stroke: #4c4c4c; stroke-linejoin: miter\"/>\n",
       "     <use xlink:href=\"#m9dd2e97fe9\" x=\"539.836364\" y=\"166.459375\" style=\"fill: #4c4c4c; stroke: #4c4c4c; stroke-linejoin: miter\"/>\n",
       "     <use xlink:href=\"#m9dd2e97fe9\" x=\"539.836364\" y=\"166.459375\" style=\"fill: #4c4c4c; stroke: #4c4c4c; stroke-linejoin: miter\"/>\n",
       "     <use xlink:href=\"#m9dd2e97fe9\" x=\"539.836364\" y=\"166.459375\" style=\"fill: #4c4c4c; stroke: #4c4c4c; stroke-linejoin: miter\"/>\n",
       "     <use xlink:href=\"#m9dd2e97fe9\" x=\"539.836364\" y=\"166.459375\" style=\"fill: #4c4c4c; stroke: #4c4c4c; stroke-linejoin: miter\"/>\n",
       "     <use xlink:href=\"#m9dd2e97fe9\" x=\"539.836364\" y=\"166.459375\" style=\"fill: #4c4c4c; stroke: #4c4c4c; stroke-linejoin: miter\"/>\n",
       "     <use xlink:href=\"#m9dd2e97fe9\" x=\"539.836364\" y=\"166.459375\" style=\"fill: #4c4c4c; stroke: #4c4c4c; stroke-linejoin: miter\"/>\n",
       "     <use xlink:href=\"#m9dd2e97fe9\" x=\"539.836364\" y=\"166.459375\" style=\"fill: #4c4c4c; stroke: #4c4c4c; stroke-linejoin: miter\"/>\n",
       "     <use xlink:href=\"#m9dd2e97fe9\" x=\"503.602597\" y=\"166.459375\" style=\"fill: #4c4c4c; stroke: #4c4c4c; stroke-linejoin: miter\"/>\n",
       "     <use xlink:href=\"#m9dd2e97fe9\" x=\"503.602597\" y=\"166.459375\" style=\"fill: #4c4c4c; stroke: #4c4c4c; stroke-linejoin: miter\"/>\n",
       "     <use xlink:href=\"#m9dd2e97fe9\" x=\"503.602597\" y=\"166.459375\" style=\"fill: #4c4c4c; stroke: #4c4c4c; stroke-linejoin: miter\"/>\n",
       "     <use xlink:href=\"#m9dd2e97fe9\" x=\"539.836364\" y=\"166.459375\" style=\"fill: #4c4c4c; stroke: #4c4c4c; stroke-linejoin: miter\"/>\n",
       "     <use xlink:href=\"#m9dd2e97fe9\" x=\"539.836364\" y=\"166.459375\" style=\"fill: #4c4c4c; stroke: #4c4c4c; stroke-linejoin: miter\"/>\n",
       "     <use xlink:href=\"#m9dd2e97fe9\" x=\"503.602597\" y=\"166.459375\" style=\"fill: #4c4c4c; stroke: #4c4c4c; stroke-linejoin: miter\"/>\n",
       "     <use xlink:href=\"#m9dd2e97fe9\" x=\"503.602597\" y=\"166.459375\" style=\"fill: #4c4c4c; stroke: #4c4c4c; stroke-linejoin: miter\"/>\n",
       "     <use xlink:href=\"#m9dd2e97fe9\" x=\"503.602597\" y=\"166.459375\" style=\"fill: #4c4c4c; stroke: #4c4c4c; stroke-linejoin: miter\"/>\n",
       "     <use xlink:href=\"#m9dd2e97fe9\" x=\"539.836364\" y=\"166.459375\" style=\"fill: #4c4c4c; stroke: #4c4c4c; stroke-linejoin: miter\"/>\n",
       "     <use xlink:href=\"#m9dd2e97fe9\" x=\"539.836364\" y=\"166.459375\" style=\"fill: #4c4c4c; stroke: #4c4c4c; stroke-linejoin: miter\"/>\n",
       "     <use xlink:href=\"#m9dd2e97fe9\" x=\"503.602597\" y=\"166.459375\" style=\"fill: #4c4c4c; stroke: #4c4c4c; stroke-linejoin: miter\"/>\n",
       "     <use xlink:href=\"#m9dd2e97fe9\" x=\"503.602597\" y=\"166.459375\" style=\"fill: #4c4c4c; stroke: #4c4c4c; stroke-linejoin: miter\"/>\n",
       "     <use xlink:href=\"#m9dd2e97fe9\" x=\"503.602597\" y=\"166.459375\" style=\"fill: #4c4c4c; stroke: #4c4c4c; stroke-linejoin: miter\"/>\n",
       "     <use xlink:href=\"#m9dd2e97fe9\" x=\"539.836364\" y=\"166.459375\" style=\"fill: #4c4c4c; stroke: #4c4c4c; stroke-linejoin: miter\"/>\n",
       "     <use xlink:href=\"#m9dd2e97fe9\" x=\"503.602597\" y=\"166.459375\" style=\"fill: #4c4c4c; stroke: #4c4c4c; stroke-linejoin: miter\"/>\n",
       "     <use xlink:href=\"#m9dd2e97fe9\" x=\"503.602597\" y=\"166.459375\" style=\"fill: #4c4c4c; stroke: #4c4c4c; stroke-linejoin: miter\"/>\n",
       "     <use xlink:href=\"#m9dd2e97fe9\" x=\"539.836364\" y=\"166.459375\" style=\"fill: #4c4c4c; stroke: #4c4c4c; stroke-linejoin: miter\"/>\n",
       "     <use xlink:href=\"#m9dd2e97fe9\" x=\"539.836364\" y=\"166.459375\" style=\"fill: #4c4c4c; stroke: #4c4c4c; stroke-linejoin: miter\"/>\n",
       "     <use xlink:href=\"#m9dd2e97fe9\" x=\"539.836364\" y=\"166.459375\" style=\"fill: #4c4c4c; stroke: #4c4c4c; stroke-linejoin: miter\"/>\n",
       "     <use xlink:href=\"#m9dd2e97fe9\" x=\"539.836364\" y=\"166.459375\" style=\"fill: #4c4c4c; stroke: #4c4c4c; stroke-linejoin: miter\"/>\n",
       "     <use xlink:href=\"#m9dd2e97fe9\" x=\"539.836364\" y=\"166.459375\" style=\"fill: #4c4c4c; stroke: #4c4c4c; stroke-linejoin: miter\"/>\n",
       "     <use xlink:href=\"#m9dd2e97fe9\" x=\"503.602597\" y=\"166.459375\" style=\"fill: #4c4c4c; stroke: #4c4c4c; stroke-linejoin: miter\"/>\n",
       "     <use xlink:href=\"#m9dd2e97fe9\" x=\"503.602597\" y=\"166.459375\" style=\"fill: #4c4c4c; stroke: #4c4c4c; stroke-linejoin: miter\"/>\n",
       "     <use xlink:href=\"#m9dd2e97fe9\" x=\"503.602597\" y=\"166.459375\" style=\"fill: #4c4c4c; stroke: #4c4c4c; stroke-linejoin: miter\"/>\n",
       "     <use xlink:href=\"#m9dd2e97fe9\" x=\"539.836364\" y=\"166.459375\" style=\"fill: #4c4c4c; stroke: #4c4c4c; stroke-linejoin: miter\"/>\n",
       "     <use xlink:href=\"#m9dd2e97fe9\" x=\"539.836364\" y=\"166.459375\" style=\"fill: #4c4c4c; stroke: #4c4c4c; stroke-linejoin: miter\"/>\n",
       "     <use xlink:href=\"#m9dd2e97fe9\" x=\"539.836364\" y=\"166.459375\" style=\"fill: #4c4c4c; stroke: #4c4c4c; stroke-linejoin: miter\"/>\n",
       "     <use xlink:href=\"#m9dd2e97fe9\" x=\"539.836364\" y=\"166.459375\" style=\"fill: #4c4c4c; stroke: #4c4c4c; stroke-linejoin: miter\"/>\n",
       "     <use xlink:href=\"#m9dd2e97fe9\" x=\"503.602597\" y=\"166.459375\" style=\"fill: #4c4c4c; stroke: #4c4c4c; stroke-linejoin: miter\"/>\n",
       "     <use xlink:href=\"#m9dd2e97fe9\" x=\"503.602597\" y=\"166.459375\" style=\"fill: #4c4c4c; stroke: #4c4c4c; stroke-linejoin: miter\"/>\n",
       "     <use xlink:href=\"#m9dd2e97fe9\" x=\"503.602597\" y=\"166.459375\" style=\"fill: #4c4c4c; stroke: #4c4c4c; stroke-linejoin: miter\"/>\n",
       "     <use xlink:href=\"#m9dd2e97fe9\" x=\"503.602597\" y=\"166.459375\" style=\"fill: #4c4c4c; stroke: #4c4c4c; stroke-linejoin: miter\"/>\n",
       "     <use xlink:href=\"#m9dd2e97fe9\" x=\"503.602597\" y=\"166.459375\" style=\"fill: #4c4c4c; stroke: #4c4c4c; stroke-linejoin: miter\"/>\n",
       "     <use xlink:href=\"#m9dd2e97fe9\" x=\"503.602597\" y=\"166.459375\" style=\"fill: #4c4c4c; stroke: #4c4c4c; stroke-linejoin: miter\"/>\n",
       "     <use xlink:href=\"#m9dd2e97fe9\" x=\"503.602597\" y=\"166.459375\" style=\"fill: #4c4c4c; stroke: #4c4c4c; stroke-linejoin: miter\"/>\n",
       "     <use xlink:href=\"#m9dd2e97fe9\" x=\"503.602597\" y=\"166.459375\" style=\"fill: #4c4c4c; stroke: #4c4c4c; stroke-linejoin: miter\"/>\n",
       "     <use xlink:href=\"#m9dd2e97fe9\" x=\"503.602597\" y=\"166.459375\" style=\"fill: #4c4c4c; stroke: #4c4c4c; stroke-linejoin: miter\"/>\n",
       "     <use xlink:href=\"#m9dd2e97fe9\" x=\"503.602597\" y=\"166.459375\" style=\"fill: #4c4c4c; stroke: #4c4c4c; stroke-linejoin: miter\"/>\n",
       "     <use xlink:href=\"#m9dd2e97fe9\" x=\"503.602597\" y=\"166.459375\" style=\"fill: #4c4c4c; stroke: #4c4c4c; stroke-linejoin: miter\"/>\n",
       "     <use xlink:href=\"#m9dd2e97fe9\" x=\"503.602597\" y=\"166.459375\" style=\"fill: #4c4c4c; stroke: #4c4c4c; stroke-linejoin: miter\"/>\n",
       "     <use xlink:href=\"#m9dd2e97fe9\" x=\"503.602597\" y=\"166.459375\" style=\"fill: #4c4c4c; stroke: #4c4c4c; stroke-linejoin: miter\"/>\n",
       "     <use xlink:href=\"#m9dd2e97fe9\" x=\"503.602597\" y=\"166.459375\" style=\"fill: #4c4c4c; stroke: #4c4c4c; stroke-linejoin: miter\"/>\n",
       "     <use xlink:href=\"#m9dd2e97fe9\" x=\"503.602597\" y=\"166.459375\" style=\"fill: #4c4c4c; stroke: #4c4c4c; stroke-linejoin: miter\"/>\n",
       "     <use xlink:href=\"#m9dd2e97fe9\" x=\"503.602597\" y=\"166.459375\" style=\"fill: #4c4c4c; stroke: #4c4c4c; stroke-linejoin: miter\"/>\n",
       "     <use xlink:href=\"#m9dd2e97fe9\" x=\"503.602597\" y=\"166.459375\" style=\"fill: #4c4c4c; stroke: #4c4c4c; stroke-linejoin: miter\"/>\n",
       "     <use xlink:href=\"#m9dd2e97fe9\" x=\"503.602597\" y=\"166.459375\" style=\"fill: #4c4c4c; stroke: #4c4c4c; stroke-linejoin: miter\"/>\n",
       "     <use xlink:href=\"#m9dd2e97fe9\" x=\"503.602597\" y=\"166.459375\" style=\"fill: #4c4c4c; stroke: #4c4c4c; stroke-linejoin: miter\"/>\n",
       "     <use xlink:href=\"#m9dd2e97fe9\" x=\"503.602597\" y=\"166.459375\" style=\"fill: #4c4c4c; stroke: #4c4c4c; stroke-linejoin: miter\"/>\n",
       "     <use xlink:href=\"#m9dd2e97fe9\" x=\"503.602597\" y=\"166.459375\" style=\"fill: #4c4c4c; stroke: #4c4c4c; stroke-linejoin: miter\"/>\n",
       "     <use xlink:href=\"#m9dd2e97fe9\" x=\"503.602597\" y=\"166.459375\" style=\"fill: #4c4c4c; stroke: #4c4c4c; stroke-linejoin: miter\"/>\n",
       "     <use xlink:href=\"#m9dd2e97fe9\" x=\"503.602597\" y=\"166.459375\" style=\"fill: #4c4c4c; stroke: #4c4c4c; stroke-linejoin: miter\"/>\n",
       "     <use xlink:href=\"#m9dd2e97fe9\" x=\"503.602597\" y=\"166.459375\" style=\"fill: #4c4c4c; stroke: #4c4c4c; stroke-linejoin: miter\"/>\n",
       "     <use xlink:href=\"#m9dd2e97fe9\" x=\"503.602597\" y=\"166.459375\" style=\"fill: #4c4c4c; stroke: #4c4c4c; stroke-linejoin: miter\"/>\n",
       "     <use xlink:href=\"#m9dd2e97fe9\" x=\"503.602597\" y=\"166.459375\" style=\"fill: #4c4c4c; stroke: #4c4c4c; stroke-linejoin: miter\"/>\n",
       "     <use xlink:href=\"#m9dd2e97fe9\" x=\"503.602597\" y=\"166.459375\" style=\"fill: #4c4c4c; stroke: #4c4c4c; stroke-linejoin: miter\"/>\n",
       "     <use xlink:href=\"#m9dd2e97fe9\" x=\"503.602597\" y=\"166.459375\" style=\"fill: #4c4c4c; stroke: #4c4c4c; stroke-linejoin: miter\"/>\n",
       "     <use xlink:href=\"#m9dd2e97fe9\" x=\"503.602597\" y=\"166.459375\" style=\"fill: #4c4c4c; stroke: #4c4c4c; stroke-linejoin: miter\"/>\n",
       "     <use xlink:href=\"#m9dd2e97fe9\" x=\"539.836364\" y=\"166.459375\" style=\"fill: #4c4c4c; stroke: #4c4c4c; stroke-linejoin: miter\"/>\n",
       "     <use xlink:href=\"#m9dd2e97fe9\" x=\"539.836364\" y=\"166.459375\" style=\"fill: #4c4c4c; stroke: #4c4c4c; stroke-linejoin: miter\"/>\n",
       "     <use xlink:href=\"#m9dd2e97fe9\" x=\"539.836364\" y=\"166.459375\" style=\"fill: #4c4c4c; stroke: #4c4c4c; stroke-linejoin: miter\"/>\n",
       "     <use xlink:href=\"#m9dd2e97fe9\" x=\"539.836364\" y=\"166.459375\" style=\"fill: #4c4c4c; stroke: #4c4c4c; stroke-linejoin: miter\"/>\n",
       "     <use xlink:href=\"#m9dd2e97fe9\" x=\"503.602597\" y=\"166.459375\" style=\"fill: #4c4c4c; stroke: #4c4c4c; stroke-linejoin: miter\"/>\n",
       "     <use xlink:href=\"#m9dd2e97fe9\" x=\"539.836364\" y=\"166.459375\" style=\"fill: #4c4c4c; stroke: #4c4c4c; stroke-linejoin: miter\"/>\n",
       "     <use xlink:href=\"#m9dd2e97fe9\" x=\"539.836364\" y=\"166.459375\" style=\"fill: #4c4c4c; stroke: #4c4c4c; stroke-linejoin: miter\"/>\n",
       "     <use xlink:href=\"#m9dd2e97fe9\" x=\"539.836364\" y=\"166.459375\" style=\"fill: #4c4c4c; stroke: #4c4c4c; stroke-linejoin: miter\"/>\n",
       "     <use xlink:href=\"#m9dd2e97fe9\" x=\"539.836364\" y=\"166.459375\" style=\"fill: #4c4c4c; stroke: #4c4c4c; stroke-linejoin: miter\"/>\n",
       "     <use xlink:href=\"#m9dd2e97fe9\" x=\"503.602597\" y=\"166.459375\" style=\"fill: #4c4c4c; stroke: #4c4c4c; stroke-linejoin: miter\"/>\n",
       "     <use xlink:href=\"#m9dd2e97fe9\" x=\"503.602597\" y=\"166.459375\" style=\"fill: #4c4c4c; stroke: #4c4c4c; stroke-linejoin: miter\"/>\n",
       "     <use xlink:href=\"#m9dd2e97fe9\" x=\"503.602597\" y=\"166.459375\" style=\"fill: #4c4c4c; stroke: #4c4c4c; stroke-linejoin: miter\"/>\n",
       "     <use xlink:href=\"#m9dd2e97fe9\" x=\"503.602597\" y=\"166.459375\" style=\"fill: #4c4c4c; stroke: #4c4c4c; stroke-linejoin: miter\"/>\n",
       "     <use xlink:href=\"#m9dd2e97fe9\" x=\"503.602597\" y=\"166.459375\" style=\"fill: #4c4c4c; stroke: #4c4c4c; stroke-linejoin: miter\"/>\n",
       "     <use xlink:href=\"#m9dd2e97fe9\" x=\"503.602597\" y=\"166.459375\" style=\"fill: #4c4c4c; stroke: #4c4c4c; stroke-linejoin: miter\"/>\n",
       "     <use xlink:href=\"#m9dd2e97fe9\" x=\"503.602597\" y=\"166.459375\" style=\"fill: #4c4c4c; stroke: #4c4c4c; stroke-linejoin: miter\"/>\n",
       "     <use xlink:href=\"#m9dd2e97fe9\" x=\"539.836364\" y=\"166.459375\" style=\"fill: #4c4c4c; stroke: #4c4c4c; stroke-linejoin: miter\"/>\n",
       "     <use xlink:href=\"#m9dd2e97fe9\" x=\"503.602597\" y=\"166.459375\" style=\"fill: #4c4c4c; stroke: #4c4c4c; stroke-linejoin: miter\"/>\n",
       "     <use xlink:href=\"#m9dd2e97fe9\" x=\"503.602597\" y=\"166.459375\" style=\"fill: #4c4c4c; stroke: #4c4c4c; stroke-linejoin: miter\"/>\n",
       "     <use xlink:href=\"#m9dd2e97fe9\" x=\"503.602597\" y=\"166.459375\" style=\"fill: #4c4c4c; stroke: #4c4c4c; stroke-linejoin: miter\"/>\n",
       "     <use xlink:href=\"#m9dd2e97fe9\" x=\"539.836364\" y=\"166.459375\" style=\"fill: #4c4c4c; stroke: #4c4c4c; stroke-linejoin: miter\"/>\n",
       "     <use xlink:href=\"#m9dd2e97fe9\" x=\"539.836364\" y=\"166.459375\" style=\"fill: #4c4c4c; stroke: #4c4c4c; stroke-linejoin: miter\"/>\n",
       "     <use xlink:href=\"#m9dd2e97fe9\" x=\"503.602597\" y=\"166.459375\" style=\"fill: #4c4c4c; stroke: #4c4c4c; stroke-linejoin: miter\"/>\n",
       "     <use xlink:href=\"#m9dd2e97fe9\" x=\"503.602597\" y=\"166.459375\" style=\"fill: #4c4c4c; stroke: #4c4c4c; stroke-linejoin: miter\"/>\n",
       "     <use xlink:href=\"#m9dd2e97fe9\" x=\"503.602597\" y=\"166.459375\" style=\"fill: #4c4c4c; stroke: #4c4c4c; stroke-linejoin: miter\"/>\n",
       "     <use xlink:href=\"#m9dd2e97fe9\" x=\"503.602597\" y=\"166.459375\" style=\"fill: #4c4c4c; stroke: #4c4c4c; stroke-linejoin: miter\"/>\n",
       "     <use xlink:href=\"#m9dd2e97fe9\" x=\"539.836364\" y=\"166.459375\" style=\"fill: #4c4c4c; stroke: #4c4c4c; stroke-linejoin: miter\"/>\n",
       "     <use xlink:href=\"#m9dd2e97fe9\" x=\"539.836364\" y=\"166.459375\" style=\"fill: #4c4c4c; stroke: #4c4c4c; stroke-linejoin: miter\"/>\n",
       "     <use xlink:href=\"#m9dd2e97fe9\" x=\"539.836364\" y=\"166.459375\" style=\"fill: #4c4c4c; stroke: #4c4c4c; stroke-linejoin: miter\"/>\n",
       "     <use xlink:href=\"#m9dd2e97fe9\" x=\"539.836364\" y=\"166.459375\" style=\"fill: #4c4c4c; stroke: #4c4c4c; stroke-linejoin: miter\"/>\n",
       "     <use xlink:href=\"#m9dd2e97fe9\" x=\"539.836364\" y=\"166.459375\" style=\"fill: #4c4c4c; stroke: #4c4c4c; stroke-linejoin: miter\"/>\n",
       "     <use xlink:href=\"#m9dd2e97fe9\" x=\"503.602597\" y=\"166.459375\" style=\"fill: #4c4c4c; stroke: #4c4c4c; stroke-linejoin: miter\"/>\n",
       "     <use xlink:href=\"#m9dd2e97fe9\" x=\"503.602597\" y=\"166.459375\" style=\"fill: #4c4c4c; stroke: #4c4c4c; stroke-linejoin: miter\"/>\n",
       "     <use xlink:href=\"#m9dd2e97fe9\" x=\"539.836364\" y=\"166.459375\" style=\"fill: #4c4c4c; stroke: #4c4c4c; stroke-linejoin: miter\"/>\n",
       "     <use xlink:href=\"#m9dd2e97fe9\" x=\"539.836364\" y=\"166.459375\" style=\"fill: #4c4c4c; stroke: #4c4c4c; stroke-linejoin: miter\"/>\n",
       "     <use xlink:href=\"#m9dd2e97fe9\" x=\"503.602597\" y=\"166.459375\" style=\"fill: #4c4c4c; stroke: #4c4c4c; stroke-linejoin: miter\"/>\n",
       "     <use xlink:href=\"#m9dd2e97fe9\" x=\"503.602597\" y=\"166.459375\" style=\"fill: #4c4c4c; stroke: #4c4c4c; stroke-linejoin: miter\"/>\n",
       "     <use xlink:href=\"#m9dd2e97fe9\" x=\"503.602597\" y=\"166.459375\" style=\"fill: #4c4c4c; stroke: #4c4c4c; stroke-linejoin: miter\"/>\n",
       "     <use xlink:href=\"#m9dd2e97fe9\" x=\"539.836364\" y=\"166.459375\" style=\"fill: #4c4c4c; stroke: #4c4c4c; stroke-linejoin: miter\"/>\n",
       "     <use xlink:href=\"#m9dd2e97fe9\" x=\"539.836364\" y=\"166.459375\" style=\"fill: #4c4c4c; stroke: #4c4c4c; stroke-linejoin: miter\"/>\n",
       "     <use xlink:href=\"#m9dd2e97fe9\" x=\"539.836364\" y=\"166.459375\" style=\"fill: #4c4c4c; stroke: #4c4c4c; stroke-linejoin: miter\"/>\n",
       "     <use xlink:href=\"#m9dd2e97fe9\" x=\"539.836364\" y=\"166.459375\" style=\"fill: #4c4c4c; stroke: #4c4c4c; stroke-linejoin: miter\"/>\n",
       "     <use xlink:href=\"#m9dd2e97fe9\" x=\"503.602597\" y=\"166.459375\" style=\"fill: #4c4c4c; stroke: #4c4c4c; stroke-linejoin: miter\"/>\n",
       "     <use xlink:href=\"#m9dd2e97fe9\" x=\"503.602597\" y=\"166.459375\" style=\"fill: #4c4c4c; stroke: #4c4c4c; stroke-linejoin: miter\"/>\n",
       "     <use xlink:href=\"#m9dd2e97fe9\" x=\"539.836364\" y=\"166.459375\" style=\"fill: #4c4c4c; stroke: #4c4c4c; stroke-linejoin: miter\"/>\n",
       "     <use xlink:href=\"#m9dd2e97fe9\" x=\"539.836364\" y=\"166.459375\" style=\"fill: #4c4c4c; stroke: #4c4c4c; stroke-linejoin: miter\"/>\n",
       "     <use xlink:href=\"#m9dd2e97fe9\" x=\"539.836364\" y=\"166.459375\" style=\"fill: #4c4c4c; stroke: #4c4c4c; stroke-linejoin: miter\"/>\n",
       "     <use xlink:href=\"#m9dd2e97fe9\" x=\"539.836364\" y=\"166.459375\" style=\"fill: #4c4c4c; stroke: #4c4c4c; stroke-linejoin: miter\"/>\n",
       "     <use xlink:href=\"#m9dd2e97fe9\" x=\"503.602597\" y=\"166.459375\" style=\"fill: #4c4c4c; stroke: #4c4c4c; stroke-linejoin: miter\"/>\n",
       "     <use xlink:href=\"#m9dd2e97fe9\" x=\"503.602597\" y=\"166.459375\" style=\"fill: #4c4c4c; stroke: #4c4c4c; stroke-linejoin: miter\"/>\n",
       "     <use xlink:href=\"#m9dd2e97fe9\" x=\"503.602597\" y=\"166.459375\" style=\"fill: #4c4c4c; stroke: #4c4c4c; stroke-linejoin: miter\"/>\n",
       "     <use xlink:href=\"#m9dd2e97fe9\" x=\"503.602597\" y=\"166.459375\" style=\"fill: #4c4c4c; stroke: #4c4c4c; stroke-linejoin: miter\"/>\n",
       "     <use xlink:href=\"#m9dd2e97fe9\" x=\"503.602597\" y=\"166.459375\" style=\"fill: #4c4c4c; stroke: #4c4c4c; stroke-linejoin: miter\"/>\n",
       "    </g>\n",
       "   </g>\n",
       "   <g id=\"line2d_15\">\n",
       "    <path d=\"M 105.031169 55.579375 \n",
       "L 105.031169 277.339375 \n",
       "\" clip-path=\"url(#p2b08401355)\" style=\"fill: none; stroke: #4c4c4c; stroke-width: 1.5; stroke-linecap: round\"/>\n",
       "   </g>\n",
       "   <g id=\"patch_4\">\n",
       "    <path d=\"M 7.2 305.059375 \n",
       "L 7.2 27.859375 \n",
       "\" style=\"fill: none; stroke: #cccccc; stroke-width: 1.25; stroke-linejoin: miter; stroke-linecap: square\"/>\n",
       "   </g>\n",
       "   <g id=\"patch_5\">\n",
       "    <path d=\"M 565.2 305.059375 \n",
       "L 565.2 27.859375 \n",
       "\" style=\"fill: none; stroke: #cccccc; stroke-width: 1.25; stroke-linejoin: miter; stroke-linecap: square\"/>\n",
       "   </g>\n",
       "   <g id=\"patch_6\">\n",
       "    <path d=\"M 7.2 305.059375 \n",
       "L 565.2 305.059375 \n",
       "\" style=\"fill: none; stroke: #cccccc; stroke-width: 1.25; stroke-linejoin: miter; stroke-linecap: square\"/>\n",
       "   </g>\n",
       "   <g id=\"patch_7\">\n",
       "    <path d=\"M 7.2 27.859375 \n",
       "L 565.2 27.859375 \n",
       "\" style=\"fill: none; stroke: #cccccc; stroke-width: 1.25; stroke-linejoin: miter; stroke-linecap: square\"/>\n",
       "   </g>\n",
       "   <g id=\"text_10\">\n",
       "    <!-- Боксплот возраста событий по дням -->\n",
       "    <g style=\"fill: #262626\" transform=\"translate(116.851562 21.859375) scale(0.2 -0.2)\">\n",
       "     <defs>\n",
       "      <path id=\"ArialMT-411\" d=\"M 522 4581 \n",
       "L 3494 4581 \n",
       "L 3494 4041 \n",
       "L 1128 4041 \n",
       "L 1128 2628 \n",
       "L 2222 2628 \n",
       "Q 2828 2628 3186 2512 \n",
       "Q 3544 2397 3759 2076 \n",
       "Q 3975 1756 3975 1331 \n",
       "Q 3975 984 3820 682 \n",
       "Q 3666 381 3359 190 \n",
       "Q 3053 0 2316 0 \n",
       "L 522 0 \n",
       "L 522 4581 \n",
       "z\n",
       "M 1128 516 \n",
       "L 2341 516 \n",
       "Q 2831 516 3076 716 \n",
       "Q 3322 916 3322 1316 \n",
       "Q 3322 1600 3181 1790 \n",
       "Q 3041 1981 2791 2043 \n",
       "Q 2541 2106 1938 2106 \n",
       "L 1128 2106 \n",
       "L 1128 516 \n",
       "z\n",
       "\" transform=\"scale(0.015625)\"/>\n",
       "      <path id=\"ArialMT-43a\" d=\"M 419 3319 \n",
       "L 981 3319 \n",
       "L 981 1884 \n",
       "Q 1250 1884 1358 1987 \n",
       "Q 1466 2091 1675 2588 \n",
       "Q 1841 2981 1944 3106 \n",
       "Q 2047 3231 2181 3275 \n",
       "Q 2316 3319 2613 3319 \n",
       "L 2725 3319 \n",
       "L 2725 2853 \n",
       "L 2569 2856 \n",
       "Q 2347 2856 2284 2791 \n",
       "Q 2219 2722 2084 2381 \n",
       "Q 1956 2056 1850 1931 \n",
       "Q 1744 1806 1522 1703 \n",
       "Q 1884 1606 2234 1028 \n",
       "L 2850 0 \n",
       "L 2231 0 \n",
       "L 1631 1028 \n",
       "Q 1447 1338 1309 1436 \n",
       "Q 1172 1534 981 1534 \n",
       "L 981 0 \n",
       "L 419 0 \n",
       "L 419 3319 \n",
       "z\n",
       "\" transform=\"scale(0.015625)\"/>\n",
       "      <path id=\"ArialMT-43f\" d=\"M 425 3319 \n",
       "L 3044 3319 \n",
       "L 3044 0 \n",
       "L 2481 0 \n",
       "L 2481 2853 \n",
       "L 988 2853 \n",
       "L 988 0 \n",
       "L 425 0 \n",
       "L 425 3319 \n",
       "z\n",
       "\" transform=\"scale(0.015625)\"/>\n",
       "      <path id=\"ArialMT-43b\" d=\"M 697 3319 \n",
       "L 3309 3319 \n",
       "L 3309 0 \n",
       "L 2750 0 \n",
       "L 2750 2853 \n",
       "L 1259 2853 \n",
       "L 1259 1200 \n",
       "Q 1259 622 1221 437 \n",
       "Q 1184 253 1015 115 \n",
       "Q 847 -22 528 -22 \n",
       "Q 331 -22 75 3 \n",
       "L 75 472 \n",
       "L 322 472 \n",
       "Q 497 472 572 508 \n",
       "Q 647 544 672 622 \n",
       "Q 697 700 697 1131 \n",
       "L 697 3319 \n",
       "z\n",
       "\" transform=\"scale(0.015625)\"/>\n",
       "      <path id=\"ArialMT-432\" d=\"M 425 3319 \n",
       "L 1722 3319 \n",
       "Q 2200 3319 2433 3239 \n",
       "Q 2666 3159 2833 2946 \n",
       "Q 3000 2734 3000 2438 \n",
       "Q 3000 2200 2901 2023 \n",
       "Q 2803 1847 2606 1728 \n",
       "Q 2841 1650 2995 1436 \n",
       "Q 3150 1222 3150 928 \n",
       "Q 3119 456 2812 228 \n",
       "Q 2506 0 1922 0 \n",
       "L 425 0 \n",
       "L 425 3319 \n",
       "z\n",
       "M 988 1922 \n",
       "L 1588 1922 \n",
       "Q 1947 1922 2081 1959 \n",
       "Q 2216 1997 2322 2111 \n",
       "Q 2428 2225 2428 2384 \n",
       "Q 2428 2647 2242 2750 \n",
       "Q 2056 2853 1606 2853 \n",
       "L 988 2853 \n",
       "L 988 1922 \n",
       "z\n",
       "M 988 463 \n",
       "L 1728 463 \n",
       "Q 2206 463 2384 573 \n",
       "Q 2563 684 2572 956 \n",
       "Q 2572 1116 2469 1252 \n",
       "Q 2366 1388 2200 1423 \n",
       "Q 2034 1459 1669 1459 \n",
       "L 988 1459 \n",
       "L 988 463 \n",
       "z\n",
       "\" transform=\"scale(0.015625)\"/>\n",
       "      <path id=\"ArialMT-437\" d=\"M 1156 1500 \n",
       "L 1156 1941 \n",
       "Q 1513 1944 1642 1969 \n",
       "Q 1772 1994 1887 2119 \n",
       "Q 2003 2244 2003 2431 \n",
       "Q 2003 2659 1851 2795 \n",
       "Q 1700 2931 1459 2931 \n",
       "Q 984 2931 794 2372 \n",
       "L 259 2459 \n",
       "Q 509 3394 1466 3394 \n",
       "Q 1997 3394 2298 3103 \n",
       "Q 2600 2813 2600 2409 \n",
       "Q 2600 2003 2206 1763 \n",
       "Q 2456 1628 2581 1420 \n",
       "Q 2706 1213 2706 928 \n",
       "Q 2706 481 2381 203 \n",
       "Q 2056 -75 1472 -75 \n",
       "Q 338 -75 156 934 \n",
       "L 684 1047 \n",
       "Q 756 728 976 553 \n",
       "Q 1197 378 1481 378 \n",
       "Q 1766 378 1955 539 \n",
       "Q 2144 700 2144 950 \n",
       "Q 2144 1144 2025 1287 \n",
       "Q 1906 1431 1772 1467 \n",
       "Q 1638 1503 1284 1503 \n",
       "Q 1256 1503 1156 1500 \n",
       "z\n",
       "\" transform=\"scale(0.015625)\"/>\n",
       "      <path id=\"ArialMT-440\" d=\"M 422 -1272 \n",
       "L 422 3319 \n",
       "L 934 3319 \n",
       "L 934 2888 \n",
       "Q 1116 3141 1344 3267 \n",
       "Q 1572 3394 1897 3394 \n",
       "Q 2322 3394 2647 3175 \n",
       "Q 2972 2956 3137 2557 \n",
       "Q 3303 2159 3303 1684 \n",
       "Q 3303 1175 3120 767 \n",
       "Q 2938 359 2589 142 \n",
       "Q 2241 -75 1856 -75 \n",
       "Q 1575 -75 1351 44 \n",
       "Q 1128 163 984 344 \n",
       "L 984 -1272 \n",
       "L 422 -1272 \n",
       "z\n",
       "M 931 1641 \n",
       "Q 931 1000 1190 694 \n",
       "Q 1450 388 1819 388 \n",
       "Q 2194 388 2461 705 \n",
       "Q 2728 1022 2728 1688 \n",
       "Q 2728 2322 2467 2637 \n",
       "Q 2206 2953 1844 2953 \n",
       "Q 1484 2953 1207 2617 \n",
       "Q 931 2281 931 1641 \n",
       "z\n",
       "\" transform=\"scale(0.015625)\"/>\n",
       "      <path id=\"ArialMT-434\" d=\"M 866 3319 \n",
       "L 3178 3319 \n",
       "L 3178 463 \n",
       "L 3538 463 \n",
       "L 3538 -941 \n",
       "L 3075 -941 \n",
       "L 3075 0 \n",
       "L 463 0 \n",
       "L 463 -941 \n",
       "L 0 -941 \n",
       "L 0 463 \n",
       "L 297 463 \n",
       "Q 891 1269 866 3319 \n",
       "z\n",
       "M 1334 2853 \n",
       "Q 1272 1238 834 463 \n",
       "L 2619 463 \n",
       "L 2619 2853 \n",
       "L 1334 2853 \n",
       "z\n",
       "\" transform=\"scale(0.015625)\"/>\n",
       "      <path id=\"ArialMT-43d\" d=\"M 425 3319 \n",
       "L 988 3319 \n",
       "L 988 1938 \n",
       "L 2547 1938 \n",
       "L 2547 3319 \n",
       "L 3109 3319 \n",
       "L 3109 0 \n",
       "L 2547 0 \n",
       "L 2547 1472 \n",
       "L 988 1472 \n",
       "L 988 0 \n",
       "L 425 0 \n",
       "L 425 3319 \n",
       "z\n",
       "\" transform=\"scale(0.015625)\"/>\n",
       "      <path id=\"ArialMT-44f\" d=\"M 3034 3319 \n",
       "L 3034 0 \n",
       "L 2475 0 \n",
       "L 2475 1294 \n",
       "L 2150 1294 \n",
       "Q 1853 1294 1708 1217 \n",
       "Q 1563 1141 1284 725 \n",
       "L 794 0 \n",
       "L 97 0 \n",
       "L 703 894 \n",
       "Q 981 1303 1256 1356 \n",
       "Q 775 1422 542 1703 \n",
       "Q 309 1984 309 2350 \n",
       "Q 309 2781 614 3050 \n",
       "Q 919 3319 1497 3319 \n",
       "L 3034 3319 \n",
       "z\n",
       "M 2475 2853 \n",
       "L 1675 2853 \n",
       "Q 1172 2853 1026 2697 \n",
       "Q 881 2541 881 2331 \n",
       "Q 881 2034 1095 1895 \n",
       "Q 1309 1756 1853 1756 \n",
       "L 2475 1756 \n",
       "L 2475 2853 \n",
       "z\n",
       "\" transform=\"scale(0.015625)\"/>\n",
       "     </defs>\n",
       "     <use xlink:href=\"#ArialMT-411\"/>\n",
       "     <use xlink:href=\"#ArialMT-43e\" x=\"65.625\"/>\n",
       "     <use xlink:href=\"#ArialMT-43a\" x=\"121.240234\"/>\n",
       "     <use xlink:href=\"#ArialMT-441\" x=\"166.115234\"/>\n",
       "     <use xlink:href=\"#ArialMT-43f\" x=\"216.115234\"/>\n",
       "     <use xlink:href=\"#ArialMT-43b\" x=\"270.265625\"/>\n",
       "     <use xlink:href=\"#ArialMT-43e\" x=\"329.740234\"/>\n",
       "     <use xlink:href=\"#ArialMT-442\" x=\"383.105469\"/>\n",
       "     <use xlink:href=\"#ArialMT-20\" x=\"428.90625\"/>\n",
       "     <use xlink:href=\"#ArialMT-432\" x=\"456.689453\"/>\n",
       "     <use xlink:href=\"#ArialMT-43e\" x=\"508.689453\"/>\n",
       "     <use xlink:href=\"#ArialMT-437\" x=\"563.179688\"/>\n",
       "     <use xlink:href=\"#ArialMT-440\" x=\"609.029297\"/>\n",
       "     <use xlink:href=\"#ArialMT-430\" x=\"664.644531\"/>\n",
       "     <use xlink:href=\"#ArialMT-441\" x=\"720.259766\"/>\n",
       "     <use xlink:href=\"#ArialMT-442\" x=\"770.259766\"/>\n",
       "     <use xlink:href=\"#ArialMT-430\" x=\"814.935547\"/>\n",
       "     <use xlink:href=\"#ArialMT-20\" x=\"870.550781\"/>\n",
       "     <use xlink:href=\"#ArialMT-441\" x=\"898.333984\"/>\n",
       "     <use xlink:href=\"#ArialMT-43e\" x=\"949.458984\"/>\n",
       "     <use xlink:href=\"#ArialMT-431\" x=\"1005.074219\"/>\n",
       "     <use xlink:href=\"#ArialMT-44b\" x=\"1062.349609\"/>\n",
       "     <use xlink:href=\"#ArialMT-442\" x=\"1134.224609\"/>\n",
       "     <use xlink:href=\"#ArialMT-438\" x=\"1180.025391\"/>\n",
       "     <use xlink:href=\"#ArialMT-439\" x=\"1235.884766\"/>\n",
       "     <use xlink:href=\"#ArialMT-20\" x=\"1291.744141\"/>\n",
       "     <use xlink:href=\"#ArialMT-43f\" x=\"1319.527344\"/>\n",
       "     <use xlink:href=\"#ArialMT-43e\" x=\"1373.677734\"/>\n",
       "     <use xlink:href=\"#ArialMT-20\" x=\"1429.292969\"/>\n",
       "     <use xlink:href=\"#ArialMT-434\" x=\"1457.076172\"/>\n",
       "     <use xlink:href=\"#ArialMT-43d\" x=\"1515.425781\"/>\n",
       "     <use xlink:href=\"#ArialMT-44f\" x=\"1570.650391\"/>\n",
       "     <use xlink:href=\"#ArialMT-43c\" x=\"1624.800781\"/>\n",
       "    </g>\n",
       "   </g>\n",
       "  </g>\n",
       " </g>\n",
       " <defs>\n",
       "  <clipPath id=\"p2b08401355\">\n",
       "   <rect x=\"7.2\" y=\"27.859375\" width=\"558\" height=\"277.2\"/>\n",
       "  </clipPath>\n",
       " </defs>\n",
       "</svg>\n"
      ],
      "text/plain": [
       "<Figure size 1000x500 with 1 Axes>"
      ]
     },
     "metadata": {},
     "output_type": "display_data"
    }
   ],
   "source": [
    "sns.boxplot(x=df['lifetime'], data=df)\n",
    "plt.grid(True)\n",
    "plt.title('Боксплот возраста событий по дням', fontsize=20)\n",
    "plt.xlabel('Лайфтайм событий', fontsize=15)\n",
    "plt.show();"
   ]
  },
  {
   "cell_type": "code",
   "execution_count": 49,
   "metadata": {},
   "outputs": [
    {
     "data": {
      "text/plain": [
       "10.0"
      ]
     },
     "execution_count": 49,
     "metadata": {},
     "output_type": "execute_result"
    }
   ],
   "source": [
    "df['lifetime'].quantile(0.95)"
   ]
  },
  {
   "cell_type": "markdown",
   "metadata": {},
   "source": [
    "##### Вывод\n",
    "По распределению и ящику с усами видно, что абсолютное большинство действий совершается до `12` лайфтайма, `95-ый` перцентиль равный 10му лайфтайму говорит о том, что 95% данных меньше или равно лайфтайму равному `10`, поэтому, можем сделать вывод, что можем игнорировать требование ТЗ про `14` лайфтайм. То есть, пользователю не обязательно жить `14` дней, у них есть возможность пройти ее раньше, поэтому, удалять пользователей, которые не прожили `14` дней мы не будем"
   ]
  },
  {
   "cell_type": "markdown",
   "metadata": {},
   "source": [
    "### 3.6 Оценка влияния маркетингового события и динамики количества событий в группах теста по дням"
   ]
  },
  {
   "cell_type": "code",
   "execution_count": 50,
   "metadata": {},
   "outputs": [],
   "source": [
    "# добавим столбец с чистой датой маретинг события\n",
    "df['event_date'] =pd.to_datetime(df['event_dt']).dt.date"
   ]
  },
  {
   "cell_type": "code",
   "execution_count": 51,
   "metadata": {},
   "outputs": [
    {
     "data": {
      "text/html": [
       "<div>\n",
       "<style scoped>\n",
       "    .dataframe tbody tr th:only-of-type {\n",
       "        vertical-align: middle;\n",
       "    }\n",
       "\n",
       "    .dataframe tbody tr th {\n",
       "        vertical-align: top;\n",
       "    }\n",
       "\n",
       "    .dataframe thead th {\n",
       "        text-align: right;\n",
       "    }\n",
       "</style>\n",
       "<table border=\"1\" class=\"dataframe\">\n",
       "  <thead>\n",
       "    <tr style=\"text-align: right;\">\n",
       "      <th></th>\n",
       "      <th>event_date</th>\n",
       "      <th>count_events_a</th>\n",
       "      <th>count_events_b</th>\n",
       "    </tr>\n",
       "  </thead>\n",
       "  <tbody>\n",
       "    <tr>\n",
       "      <th>0</th>\n",
       "      <td>2020-12-07</td>\n",
       "      <td>263</td>\n",
       "      <td>315</td>\n",
       "    </tr>\n",
       "    <tr>\n",
       "      <th>1</th>\n",
       "      <td>2020-12-08</td>\n",
       "      <td>283</td>\n",
       "      <td>207</td>\n",
       "    </tr>\n",
       "    <tr>\n",
       "      <th>2</th>\n",
       "      <td>2020-12-09</td>\n",
       "      <td>331</td>\n",
       "      <td>289</td>\n",
       "    </tr>\n",
       "    <tr>\n",
       "      <th>3</th>\n",
       "      <td>2020-12-10</td>\n",
       "      <td>294</td>\n",
       "      <td>218</td>\n",
       "    </tr>\n",
       "    <tr>\n",
       "      <th>4</th>\n",
       "      <td>2020-12-11</td>\n",
       "      <td>309</td>\n",
       "      <td>137</td>\n",
       "    </tr>\n",
       "    <tr>\n",
       "      <th>5</th>\n",
       "      <td>2020-12-12</td>\n",
       "      <td>319</td>\n",
       "      <td>169</td>\n",
       "    </tr>\n",
       "    <tr>\n",
       "      <th>6</th>\n",
       "      <td>2020-12-13</td>\n",
       "      <td>273</td>\n",
       "      <td>122</td>\n",
       "    </tr>\n",
       "    <tr>\n",
       "      <th>7</th>\n",
       "      <td>2020-12-14</td>\n",
       "      <td>880</td>\n",
       "      <td>227</td>\n",
       "    </tr>\n",
       "    <tr>\n",
       "      <th>8</th>\n",
       "      <td>2020-12-15</td>\n",
       "      <td>915</td>\n",
       "      <td>187</td>\n",
       "    </tr>\n",
       "    <tr>\n",
       "      <th>9</th>\n",
       "      <td>2020-12-16</td>\n",
       "      <td>870</td>\n",
       "      <td>322</td>\n",
       "    </tr>\n",
       "    <tr>\n",
       "      <th>10</th>\n",
       "      <td>2020-12-17</td>\n",
       "      <td>1046</td>\n",
       "      <td>230</td>\n",
       "    </tr>\n",
       "    <tr>\n",
       "      <th>11</th>\n",
       "      <td>2020-12-18</td>\n",
       "      <td>1085</td>\n",
       "      <td>224</td>\n",
       "    </tr>\n",
       "    <tr>\n",
       "      <th>12</th>\n",
       "      <td>2020-12-19</td>\n",
       "      <td>1262</td>\n",
       "      <td>235</td>\n",
       "    </tr>\n",
       "    <tr>\n",
       "      <th>13</th>\n",
       "      <td>2020-12-20</td>\n",
       "      <td>1298</td>\n",
       "      <td>273</td>\n",
       "    </tr>\n",
       "    <tr>\n",
       "      <th>14</th>\n",
       "      <td>2020-12-21</td>\n",
       "      <td>1690</td>\n",
       "      <td>358</td>\n",
       "    </tr>\n",
       "    <tr>\n",
       "      <th>15</th>\n",
       "      <td>2020-12-22</td>\n",
       "      <td>1095</td>\n",
       "      <td>145</td>\n",
       "    </tr>\n",
       "    <tr>\n",
       "      <th>16</th>\n",
       "      <td>2020-12-23</td>\n",
       "      <td>829</td>\n",
       "      <td>143</td>\n",
       "    </tr>\n",
       "    <tr>\n",
       "      <th>17</th>\n",
       "      <td>2020-12-24</td>\n",
       "      <td>708</td>\n",
       "      <td>103</td>\n",
       "    </tr>\n",
       "    <tr>\n",
       "      <th>18</th>\n",
       "      <td>2020-12-25</td>\n",
       "      <td>528</td>\n",
       "      <td>70</td>\n",
       "    </tr>\n",
       "    <tr>\n",
       "      <th>19</th>\n",
       "      <td>2020-12-26</td>\n",
       "      <td>471</td>\n",
       "      <td>53</td>\n",
       "    </tr>\n",
       "    <tr>\n",
       "      <th>20</th>\n",
       "      <td>2020-12-27</td>\n",
       "      <td>451</td>\n",
       "      <td>62</td>\n",
       "    </tr>\n",
       "    <tr>\n",
       "      <th>21</th>\n",
       "      <td>2020-12-28</td>\n",
       "      <td>389</td>\n",
       "      <td>58</td>\n",
       "    </tr>\n",
       "    <tr>\n",
       "      <th>22</th>\n",
       "      <td>2020-12-29</td>\n",
       "      <td>262</td>\n",
       "      <td>36</td>\n",
       "    </tr>\n",
       "  </tbody>\n",
       "</table>\n",
       "</div>"
      ],
      "text/plain": [
       "    event_date  count_events_a  count_events_b\n",
       "0   2020-12-07  263             315           \n",
       "1   2020-12-08  283             207           \n",
       "2   2020-12-09  331             289           \n",
       "3   2020-12-10  294             218           \n",
       "4   2020-12-11  309             137           \n",
       "5   2020-12-12  319             169           \n",
       "6   2020-12-13  273             122           \n",
       "7   2020-12-14  880             227           \n",
       "8   2020-12-15  915             187           \n",
       "9   2020-12-16  870             322           \n",
       "10  2020-12-17  1046            230           \n",
       "11  2020-12-18  1085            224           \n",
       "12  2020-12-19  1262            235           \n",
       "13  2020-12-20  1298            273           \n",
       "14  2020-12-21  1690            358           \n",
       "15  2020-12-22  1095            145           \n",
       "16  2020-12-23  829             143           \n",
       "17  2020-12-24  708             103           \n",
       "18  2020-12-25  528             70            \n",
       "19  2020-12-26  471             53            \n",
       "20  2020-12-27  451             62            \n",
       "21  2020-12-28  389             58            \n",
       "22  2020-12-29  262             36            "
      ]
     },
     "execution_count": 51,
     "metadata": {},
     "output_type": "execute_result"
    }
   ],
   "source": [
    "# построим таблицу с разбитием на группы\n",
    "temp_table_a = df[(df['group'] == 'A')].groupby(['event_date'])['user_id'].agg('count').reset_index().rename(columns={'user_id': 'count_events_a'})\n",
    "temp_table_b = df[(df['group'] == 'B')].groupby(['event_date'])['user_id'].agg('count').reset_index().rename(columns={'user_id': 'count_events_b'})\n",
    "temp_table = temp_table_a.merge(temp_table_b, on='event_date', how='outer')\n",
    "temp_table"
   ]
  },
  {
   "cell_type": "code",
   "execution_count": 52,
   "metadata": {},
   "outputs": [
    {
     "data": {
      "application/vnd.plotly.v1+json": {
       "config": {
        "plotlyServerURL": "https://plot.ly"
       },
       "data": [
        {
         "name": "Группа A",
         "type": "bar",
         "x": [
          "2020-12-07",
          "2020-12-08",
          "2020-12-09",
          "2020-12-10",
          "2020-12-11",
          "2020-12-12",
          "2020-12-13",
          "2020-12-14",
          "2020-12-15",
          "2020-12-16",
          "2020-12-17",
          "2020-12-18",
          "2020-12-19",
          "2020-12-20",
          "2020-12-21",
          "2020-12-22",
          "2020-12-23",
          "2020-12-24",
          "2020-12-25",
          "2020-12-26",
          "2020-12-27",
          "2020-12-28",
          "2020-12-29"
         ],
         "y": [
          263,
          283,
          331,
          294,
          309,
          319,
          273,
          880,
          915,
          870,
          1046,
          1085,
          1262,
          1298,
          1690,
          1095,
          829,
          708,
          528,
          471,
          451,
          389,
          262
         ]
        },
        {
         "name": "Группа B",
         "type": "bar",
         "x": [
          "2020-12-07",
          "2020-12-08",
          "2020-12-09",
          "2020-12-10",
          "2020-12-11",
          "2020-12-12",
          "2020-12-13",
          "2020-12-14",
          "2020-12-15",
          "2020-12-16",
          "2020-12-17",
          "2020-12-18",
          "2020-12-19",
          "2020-12-20",
          "2020-12-21",
          "2020-12-22",
          "2020-12-23",
          "2020-12-24",
          "2020-12-25",
          "2020-12-26",
          "2020-12-27",
          "2020-12-28",
          "2020-12-29"
         ],
         "y": [
          315,
          207,
          289,
          218,
          137,
          169,
          122,
          227,
          187,
          322,
          230,
          224,
          235,
          273,
          358,
          145,
          143,
          103,
          70,
          53,
          62,
          58,
          36
         ]
        }
       ],
       "layout": {
        "annotations": [
         {
          "showarrow": false,
          "text": "Christmas&New Year Promo",
          "x": "2021-01-03",
          "xanchor": "right",
          "xref": "x",
          "y": 1,
          "yanchor": "top",
          "yref": "y domain"
         }
        ],
        "barmode": "group",
        "height": 700,
        "shapes": [
         {
          "fillcolor": "red",
          "line": {
           "width": 0
          },
          "opacity": 0.25,
          "type": "rect",
          "x0": "2020-12-25",
          "x1": "2021-01-03",
          "xref": "x",
          "y0": 0,
          "y1": 1,
          "yref": "y domain"
         }
        ],
        "template": {
         "data": {
          "bar": [
           {
            "error_x": {
             "color": "#2a3f5f"
            },
            "error_y": {
             "color": "#2a3f5f"
            },
            "marker": {
             "line": {
              "color": "#E5ECF6",
              "width": 0.5
             },
             "pattern": {
              "fillmode": "overlay",
              "size": 10,
              "solidity": 0.2
             }
            },
            "type": "bar"
           }
          ],
          "barpolar": [
           {
            "marker": {
             "line": {
              "color": "#E5ECF6",
              "width": 0.5
             },
             "pattern": {
              "fillmode": "overlay",
              "size": 10,
              "solidity": 0.2
             }
            },
            "type": "barpolar"
           }
          ],
          "carpet": [
           {
            "aaxis": {
             "endlinecolor": "#2a3f5f",
             "gridcolor": "white",
             "linecolor": "white",
             "minorgridcolor": "white",
             "startlinecolor": "#2a3f5f"
            },
            "baxis": {
             "endlinecolor": "#2a3f5f",
             "gridcolor": "white",
             "linecolor": "white",
             "minorgridcolor": "white",
             "startlinecolor": "#2a3f5f"
            },
            "type": "carpet"
           }
          ],
          "choropleth": [
           {
            "colorbar": {
             "outlinewidth": 0,
             "ticks": ""
            },
            "type": "choropleth"
           }
          ],
          "contour": [
           {
            "colorbar": {
             "outlinewidth": 0,
             "ticks": ""
            },
            "colorscale": [
             [
              0,
              "#0d0887"
             ],
             [
              0.1111111111111111,
              "#46039f"
             ],
             [
              0.2222222222222222,
              "#7201a8"
             ],
             [
              0.3333333333333333,
              "#9c179e"
             ],
             [
              0.4444444444444444,
              "#bd3786"
             ],
             [
              0.5555555555555556,
              "#d8576b"
             ],
             [
              0.6666666666666666,
              "#ed7953"
             ],
             [
              0.7777777777777778,
              "#fb9f3a"
             ],
             [
              0.8888888888888888,
              "#fdca26"
             ],
             [
              1,
              "#f0f921"
             ]
            ],
            "type": "contour"
           }
          ],
          "contourcarpet": [
           {
            "colorbar": {
             "outlinewidth": 0,
             "ticks": ""
            },
            "type": "contourcarpet"
           }
          ],
          "heatmap": [
           {
            "colorbar": {
             "outlinewidth": 0,
             "ticks": ""
            },
            "colorscale": [
             [
              0,
              "#0d0887"
             ],
             [
              0.1111111111111111,
              "#46039f"
             ],
             [
              0.2222222222222222,
              "#7201a8"
             ],
             [
              0.3333333333333333,
              "#9c179e"
             ],
             [
              0.4444444444444444,
              "#bd3786"
             ],
             [
              0.5555555555555556,
              "#d8576b"
             ],
             [
              0.6666666666666666,
              "#ed7953"
             ],
             [
              0.7777777777777778,
              "#fb9f3a"
             ],
             [
              0.8888888888888888,
              "#fdca26"
             ],
             [
              1,
              "#f0f921"
             ]
            ],
            "type": "heatmap"
           }
          ],
          "heatmapgl": [
           {
            "colorbar": {
             "outlinewidth": 0,
             "ticks": ""
            },
            "colorscale": [
             [
              0,
              "#0d0887"
             ],
             [
              0.1111111111111111,
              "#46039f"
             ],
             [
              0.2222222222222222,
              "#7201a8"
             ],
             [
              0.3333333333333333,
              "#9c179e"
             ],
             [
              0.4444444444444444,
              "#bd3786"
             ],
             [
              0.5555555555555556,
              "#d8576b"
             ],
             [
              0.6666666666666666,
              "#ed7953"
             ],
             [
              0.7777777777777778,
              "#fb9f3a"
             ],
             [
              0.8888888888888888,
              "#fdca26"
             ],
             [
              1,
              "#f0f921"
             ]
            ],
            "type": "heatmapgl"
           }
          ],
          "histogram": [
           {
            "marker": {
             "pattern": {
              "fillmode": "overlay",
              "size": 10,
              "solidity": 0.2
             }
            },
            "type": "histogram"
           }
          ],
          "histogram2d": [
           {
            "colorbar": {
             "outlinewidth": 0,
             "ticks": ""
            },
            "colorscale": [
             [
              0,
              "#0d0887"
             ],
             [
              0.1111111111111111,
              "#46039f"
             ],
             [
              0.2222222222222222,
              "#7201a8"
             ],
             [
              0.3333333333333333,
              "#9c179e"
             ],
             [
              0.4444444444444444,
              "#bd3786"
             ],
             [
              0.5555555555555556,
              "#d8576b"
             ],
             [
              0.6666666666666666,
              "#ed7953"
             ],
             [
              0.7777777777777778,
              "#fb9f3a"
             ],
             [
              0.8888888888888888,
              "#fdca26"
             ],
             [
              1,
              "#f0f921"
             ]
            ],
            "type": "histogram2d"
           }
          ],
          "histogram2dcontour": [
           {
            "colorbar": {
             "outlinewidth": 0,
             "ticks": ""
            },
            "colorscale": [
             [
              0,
              "#0d0887"
             ],
             [
              0.1111111111111111,
              "#46039f"
             ],
             [
              0.2222222222222222,
              "#7201a8"
             ],
             [
              0.3333333333333333,
              "#9c179e"
             ],
             [
              0.4444444444444444,
              "#bd3786"
             ],
             [
              0.5555555555555556,
              "#d8576b"
             ],
             [
              0.6666666666666666,
              "#ed7953"
             ],
             [
              0.7777777777777778,
              "#fb9f3a"
             ],
             [
              0.8888888888888888,
              "#fdca26"
             ],
             [
              1,
              "#f0f921"
             ]
            ],
            "type": "histogram2dcontour"
           }
          ],
          "mesh3d": [
           {
            "colorbar": {
             "outlinewidth": 0,
             "ticks": ""
            },
            "type": "mesh3d"
           }
          ],
          "parcoords": [
           {
            "line": {
             "colorbar": {
              "outlinewidth": 0,
              "ticks": ""
             }
            },
            "type": "parcoords"
           }
          ],
          "pie": [
           {
            "automargin": true,
            "type": "pie"
           }
          ],
          "scatter": [
           {
            "fillpattern": {
             "fillmode": "overlay",
             "size": 10,
             "solidity": 0.2
            },
            "type": "scatter"
           }
          ],
          "scatter3d": [
           {
            "line": {
             "colorbar": {
              "outlinewidth": 0,
              "ticks": ""
             }
            },
            "marker": {
             "colorbar": {
              "outlinewidth": 0,
              "ticks": ""
             }
            },
            "type": "scatter3d"
           }
          ],
          "scattercarpet": [
           {
            "marker": {
             "colorbar": {
              "outlinewidth": 0,
              "ticks": ""
             }
            },
            "type": "scattercarpet"
           }
          ],
          "scattergeo": [
           {
            "marker": {
             "colorbar": {
              "outlinewidth": 0,
              "ticks": ""
             }
            },
            "type": "scattergeo"
           }
          ],
          "scattergl": [
           {
            "marker": {
             "colorbar": {
              "outlinewidth": 0,
              "ticks": ""
             }
            },
            "type": "scattergl"
           }
          ],
          "scattermapbox": [
           {
            "marker": {
             "colorbar": {
              "outlinewidth": 0,
              "ticks": ""
             }
            },
            "type": "scattermapbox"
           }
          ],
          "scatterpolar": [
           {
            "marker": {
             "colorbar": {
              "outlinewidth": 0,
              "ticks": ""
             }
            },
            "type": "scatterpolar"
           }
          ],
          "scatterpolargl": [
           {
            "marker": {
             "colorbar": {
              "outlinewidth": 0,
              "ticks": ""
             }
            },
            "type": "scatterpolargl"
           }
          ],
          "scatterternary": [
           {
            "marker": {
             "colorbar": {
              "outlinewidth": 0,
              "ticks": ""
             }
            },
            "type": "scatterternary"
           }
          ],
          "surface": [
           {
            "colorbar": {
             "outlinewidth": 0,
             "ticks": ""
            },
            "colorscale": [
             [
              0,
              "#0d0887"
             ],
             [
              0.1111111111111111,
              "#46039f"
             ],
             [
              0.2222222222222222,
              "#7201a8"
             ],
             [
              0.3333333333333333,
              "#9c179e"
             ],
             [
              0.4444444444444444,
              "#bd3786"
             ],
             [
              0.5555555555555556,
              "#d8576b"
             ],
             [
              0.6666666666666666,
              "#ed7953"
             ],
             [
              0.7777777777777778,
              "#fb9f3a"
             ],
             [
              0.8888888888888888,
              "#fdca26"
             ],
             [
              1,
              "#f0f921"
             ]
            ],
            "type": "surface"
           }
          ],
          "table": [
           {
            "cells": {
             "fill": {
              "color": "#EBF0F8"
             },
             "line": {
              "color": "white"
             }
            },
            "header": {
             "fill": {
              "color": "#C8D4E3"
             },
             "line": {
              "color": "white"
             }
            },
            "type": "table"
           }
          ]
         },
         "layout": {
          "annotationdefaults": {
           "arrowcolor": "#2a3f5f",
           "arrowhead": 0,
           "arrowwidth": 1
          },
          "autotypenumbers": "strict",
          "coloraxis": {
           "colorbar": {
            "outlinewidth": 0,
            "ticks": ""
           }
          },
          "colorscale": {
           "diverging": [
            [
             0,
             "#8e0152"
            ],
            [
             0.1,
             "#c51b7d"
            ],
            [
             0.2,
             "#de77ae"
            ],
            [
             0.3,
             "#f1b6da"
            ],
            [
             0.4,
             "#fde0ef"
            ],
            [
             0.5,
             "#f7f7f7"
            ],
            [
             0.6,
             "#e6f5d0"
            ],
            [
             0.7,
             "#b8e186"
            ],
            [
             0.8,
             "#7fbc41"
            ],
            [
             0.9,
             "#4d9221"
            ],
            [
             1,
             "#276419"
            ]
           ],
           "sequential": [
            [
             0,
             "#0d0887"
            ],
            [
             0.1111111111111111,
             "#46039f"
            ],
            [
             0.2222222222222222,
             "#7201a8"
            ],
            [
             0.3333333333333333,
             "#9c179e"
            ],
            [
             0.4444444444444444,
             "#bd3786"
            ],
            [
             0.5555555555555556,
             "#d8576b"
            ],
            [
             0.6666666666666666,
             "#ed7953"
            ],
            [
             0.7777777777777778,
             "#fb9f3a"
            ],
            [
             0.8888888888888888,
             "#fdca26"
            ],
            [
             1,
             "#f0f921"
            ]
           ],
           "sequentialminus": [
            [
             0,
             "#0d0887"
            ],
            [
             0.1111111111111111,
             "#46039f"
            ],
            [
             0.2222222222222222,
             "#7201a8"
            ],
            [
             0.3333333333333333,
             "#9c179e"
            ],
            [
             0.4444444444444444,
             "#bd3786"
            ],
            [
             0.5555555555555556,
             "#d8576b"
            ],
            [
             0.6666666666666666,
             "#ed7953"
            ],
            [
             0.7777777777777778,
             "#fb9f3a"
            ],
            [
             0.8888888888888888,
             "#fdca26"
            ],
            [
             1,
             "#f0f921"
            ]
           ]
          },
          "colorway": [
           "#636efa",
           "#EF553B",
           "#00cc96",
           "#ab63fa",
           "#FFA15A",
           "#19d3f3",
           "#FF6692",
           "#B6E880",
           "#FF97FF",
           "#FECB52"
          ],
          "font": {
           "color": "#2a3f5f"
          },
          "geo": {
           "bgcolor": "white",
           "lakecolor": "white",
           "landcolor": "#E5ECF6",
           "showlakes": true,
           "showland": true,
           "subunitcolor": "white"
          },
          "hoverlabel": {
           "align": "left"
          },
          "hovermode": "closest",
          "mapbox": {
           "style": "light"
          },
          "paper_bgcolor": "white",
          "plot_bgcolor": "#E5ECF6",
          "polar": {
           "angularaxis": {
            "gridcolor": "white",
            "linecolor": "white",
            "ticks": ""
           },
           "bgcolor": "#E5ECF6",
           "radialaxis": {
            "gridcolor": "white",
            "linecolor": "white",
            "ticks": ""
           }
          },
          "scene": {
           "xaxis": {
            "backgroundcolor": "#E5ECF6",
            "gridcolor": "white",
            "gridwidth": 2,
            "linecolor": "white",
            "showbackground": true,
            "ticks": "",
            "zerolinecolor": "white"
           },
           "yaxis": {
            "backgroundcolor": "#E5ECF6",
            "gridcolor": "white",
            "gridwidth": 2,
            "linecolor": "white",
            "showbackground": true,
            "ticks": "",
            "zerolinecolor": "white"
           },
           "zaxis": {
            "backgroundcolor": "#E5ECF6",
            "gridcolor": "white",
            "gridwidth": 2,
            "linecolor": "white",
            "showbackground": true,
            "ticks": "",
            "zerolinecolor": "white"
           }
          },
          "shapedefaults": {
           "line": {
            "color": "#2a3f5f"
           }
          },
          "ternary": {
           "aaxis": {
            "gridcolor": "white",
            "linecolor": "white",
            "ticks": ""
           },
           "baxis": {
            "gridcolor": "white",
            "linecolor": "white",
            "ticks": ""
           },
           "bgcolor": "#E5ECF6",
           "caxis": {
            "gridcolor": "white",
            "linecolor": "white",
            "ticks": ""
           }
          },
          "title": {
           "x": 0.05
          },
          "xaxis": {
           "automargin": true,
           "gridcolor": "white",
           "linecolor": "white",
           "ticks": "",
           "title": {
            "standoff": 15
           },
           "zerolinecolor": "white",
           "zerolinewidth": 2
          },
          "yaxis": {
           "automargin": true,
           "gridcolor": "white",
           "linecolor": "white",
           "ticks": "",
           "title": {
            "standoff": 15
           },
           "zerolinecolor": "white",
           "zerolinewidth": 2
          }
         }
        },
        "title": {
         "text": "Распределение событий по дням по группам"
        },
        "width": 950,
        "xaxis": {
         "title": {
          "text": "Дата"
         }
        },
        "yaxis": {
         "title": {
          "text": "Количество событий"
         }
        }
       }
      }
     },
     "metadata": {},
     "output_type": "display_data"
    }
   ],
   "source": [
    "#построим таблицу распределения кол-ва событий\n",
    "fig= go.Figure(data=[\n",
    "    go.Bar(name='Группа A', x=temp_table['event_date'], y=temp_table['count_events_a']),\n",
    "    go.Bar(name='Группа B', x=temp_table['event_date'], y=temp_table['count_events_b'])\n",
    "])\n",
    "fig.update_layout(barmode='group',\n",
    "                  title='Распределение событий по дням по группам',\n",
    "                  width=950,\n",
    "                  height=700,\n",
    "                  xaxis_title='Дата',\n",
    "                  yaxis_title='Количество событий')\n",
    "fig.add_vrect(x0='2020-12-25', x1='2021-01-03', \n",
    "              annotation_text=\"Christmas&New Year Promo\", annotation_position=\"top right\",\n",
    "              fillcolor=\"red\", opacity=0.25, line_width=0)\n",
    "\n",
    "fig.show()"
   ]
  },
  {
   "cell_type": "markdown",
   "metadata": {},
   "source": [
    "Видно, что в дни проведения акции активность пользователей уже пошла на спад, можно разглядеть тенденцию и так, но в силу того, что группы распределились не равномерно, то добавим в таблицу абсолютное значение совершенных событий в дату ко всем событиям в группе и построим этот же график снова: "
   ]
  },
  {
   "cell_type": "code",
   "execution_count": 53,
   "metadata": {},
   "outputs": [],
   "source": [
    "# добавим долевое отношение \n",
    "temp_table['ratio_a'] = temp_table['count_events_a'] / sum(temp_table['count_events_a'])*100\n",
    "temp_table['ratio_b'] = temp_table['count_events_b'] / sum(temp_table['count_events_b'])*100\n"
   ]
  },
  {
   "cell_type": "code",
   "execution_count": 54,
   "metadata": {},
   "outputs": [
    {
     "data": {
      "text/html": [
       "<div>\n",
       "<style scoped>\n",
       "    .dataframe tbody tr th:only-of-type {\n",
       "        vertical-align: middle;\n",
       "    }\n",
       "\n",
       "    .dataframe tbody tr th {\n",
       "        vertical-align: top;\n",
       "    }\n",
       "\n",
       "    .dataframe thead th {\n",
       "        text-align: right;\n",
       "    }\n",
       "</style>\n",
       "<table border=\"1\" class=\"dataframe\">\n",
       "  <thead>\n",
       "    <tr style=\"text-align: right;\">\n",
       "      <th></th>\n",
       "      <th>event_date</th>\n",
       "      <th>count_events_a</th>\n",
       "      <th>count_events_b</th>\n",
       "      <th>ratio_a</th>\n",
       "      <th>ratio_b</th>\n",
       "    </tr>\n",
       "  </thead>\n",
       "  <tbody>\n",
       "    <tr>\n",
       "      <th>0</th>\n",
       "      <td>2020-12-07</td>\n",
       "      <td>263</td>\n",
       "      <td>315</td>\n",
       "      <td>1.66</td>\n",
       "      <td>7.53</td>\n",
       "    </tr>\n",
       "    <tr>\n",
       "      <th>1</th>\n",
       "      <td>2020-12-08</td>\n",
       "      <td>283</td>\n",
       "      <td>207</td>\n",
       "      <td>1.79</td>\n",
       "      <td>4.95</td>\n",
       "    </tr>\n",
       "    <tr>\n",
       "      <th>2</th>\n",
       "      <td>2020-12-09</td>\n",
       "      <td>331</td>\n",
       "      <td>289</td>\n",
       "      <td>2.09</td>\n",
       "      <td>6.91</td>\n",
       "    </tr>\n",
       "    <tr>\n",
       "      <th>3</th>\n",
       "      <td>2020-12-10</td>\n",
       "      <td>294</td>\n",
       "      <td>218</td>\n",
       "      <td>1.85</td>\n",
       "      <td>5.21</td>\n",
       "    </tr>\n",
       "    <tr>\n",
       "      <th>4</th>\n",
       "      <td>2020-12-11</td>\n",
       "      <td>309</td>\n",
       "      <td>137</td>\n",
       "      <td>1.95</td>\n",
       "      <td>3.28</td>\n",
       "    </tr>\n",
       "  </tbody>\n",
       "</table>\n",
       "</div>"
      ],
      "text/plain": [
       "   event_date  count_events_a  count_events_b  ratio_a  ratio_b\n",
       "0  2020-12-07  263             315            1.66     7.53    \n",
       "1  2020-12-08  283             207            1.79     4.95    \n",
       "2  2020-12-09  331             289            2.09     6.91    \n",
       "3  2020-12-10  294             218            1.85     5.21    \n",
       "4  2020-12-11  309             137            1.95     3.28    "
      ]
     },
     "execution_count": 54,
     "metadata": {},
     "output_type": "execute_result"
    }
   ],
   "source": [
    "temp_table.head()"
   ]
  },
  {
   "cell_type": "code",
   "execution_count": 55,
   "metadata": {},
   "outputs": [
    {
     "data": {
      "application/vnd.plotly.v1+json": {
       "config": {
        "plotlyServerURL": "https://plot.ly"
       },
       "data": [
        {
         "name": "Группа A",
         "type": "bar",
         "x": [
          "2020-12-07",
          "2020-12-08",
          "2020-12-09",
          "2020-12-10",
          "2020-12-11",
          "2020-12-12",
          "2020-12-13",
          "2020-12-14",
          "2020-12-15",
          "2020-12-16",
          "2020-12-17",
          "2020-12-18",
          "2020-12-19",
          "2020-12-20",
          "2020-12-21",
          "2020-12-22",
          "2020-12-23",
          "2020-12-24",
          "2020-12-25",
          "2020-12-26",
          "2020-12-27",
          "2020-12-28",
          "2020-12-29"
         ],
         "y": [
          1.6592013122200493,
          1.785376316951612,
          2.0881963283073626,
          1.8547725695539714,
          1.9494038231026432,
          2.012491325468425,
          1.7222888145858306,
          5.551700208188757,
          5.772506466468993,
          5.488612705822977,
          6.598952747460728,
          6.844994006687275,
          7.961642798561605,
          8.188757807078417,
          10.661787899817046,
          6.908081509053056,
          5.229953946123273,
          4.466595167497319,
          3.3310201249132545,
          2.971421361428301,
          2.8452463566967383,
          2.454103842028894,
          1.6528925619834711
         ]
        },
        {
         "name": "Группа B",
         "type": "bar",
         "x": [
          "2020-12-07",
          "2020-12-08",
          "2020-12-09",
          "2020-12-10",
          "2020-12-11",
          "2020-12-12",
          "2020-12-13",
          "2020-12-14",
          "2020-12-15",
          "2020-12-16",
          "2020-12-17",
          "2020-12-18",
          "2020-12-19",
          "2020-12-20",
          "2020-12-21",
          "2020-12-22",
          "2020-12-23",
          "2020-12-24",
          "2020-12-25",
          "2020-12-26",
          "2020-12-27",
          "2020-12-28",
          "2020-12-29"
         ],
         "y": [
          7.530480516375807,
          4.948601482189816,
          6.908917045182883,
          5.2115706430791295,
          3.2751613674396363,
          4.040162562754005,
          2.916567057136027,
          5.426727229261296,
          4.4704757351183355,
          7.697824527850824,
          5.498446091322018,
          5.355008367200574,
          5.617977528089887,
          6.5264164475256985,
          8.558450872579488,
          3.4664116662682285,
          3.418599091561081,
          2.462347597418121,
          1.6734401147501792,
          1.2670332297394216,
          1.4821898159215874,
          1.3865646665072915,
          0.8606263447286636
         ]
        }
       ],
       "layout": {
        "annotations": [
         {
          "showarrow": false,
          "text": "Christmas&New Year Promo",
          "x": "2021-01-03",
          "xanchor": "right",
          "xref": "x",
          "y": 1,
          "yanchor": "top",
          "yref": "y domain"
         }
        ],
        "barmode": "group",
        "height": 700,
        "shapes": [
         {
          "fillcolor": "red",
          "line": {
           "width": 0
          },
          "opacity": 0.25,
          "type": "rect",
          "x0": "2020-12-25",
          "x1": "2021-01-03",
          "xref": "x",
          "y0": 0,
          "y1": 1,
          "yref": "y domain"
         }
        ],
        "template": {
         "data": {
          "bar": [
           {
            "error_x": {
             "color": "#2a3f5f"
            },
            "error_y": {
             "color": "#2a3f5f"
            },
            "marker": {
             "line": {
              "color": "#E5ECF6",
              "width": 0.5
             },
             "pattern": {
              "fillmode": "overlay",
              "size": 10,
              "solidity": 0.2
             }
            },
            "type": "bar"
           }
          ],
          "barpolar": [
           {
            "marker": {
             "line": {
              "color": "#E5ECF6",
              "width": 0.5
             },
             "pattern": {
              "fillmode": "overlay",
              "size": 10,
              "solidity": 0.2
             }
            },
            "type": "barpolar"
           }
          ],
          "carpet": [
           {
            "aaxis": {
             "endlinecolor": "#2a3f5f",
             "gridcolor": "white",
             "linecolor": "white",
             "minorgridcolor": "white",
             "startlinecolor": "#2a3f5f"
            },
            "baxis": {
             "endlinecolor": "#2a3f5f",
             "gridcolor": "white",
             "linecolor": "white",
             "minorgridcolor": "white",
             "startlinecolor": "#2a3f5f"
            },
            "type": "carpet"
           }
          ],
          "choropleth": [
           {
            "colorbar": {
             "outlinewidth": 0,
             "ticks": ""
            },
            "type": "choropleth"
           }
          ],
          "contour": [
           {
            "colorbar": {
             "outlinewidth": 0,
             "ticks": ""
            },
            "colorscale": [
             [
              0,
              "#0d0887"
             ],
             [
              0.1111111111111111,
              "#46039f"
             ],
             [
              0.2222222222222222,
              "#7201a8"
             ],
             [
              0.3333333333333333,
              "#9c179e"
             ],
             [
              0.4444444444444444,
              "#bd3786"
             ],
             [
              0.5555555555555556,
              "#d8576b"
             ],
             [
              0.6666666666666666,
              "#ed7953"
             ],
             [
              0.7777777777777778,
              "#fb9f3a"
             ],
             [
              0.8888888888888888,
              "#fdca26"
             ],
             [
              1,
              "#f0f921"
             ]
            ],
            "type": "contour"
           }
          ],
          "contourcarpet": [
           {
            "colorbar": {
             "outlinewidth": 0,
             "ticks": ""
            },
            "type": "contourcarpet"
           }
          ],
          "heatmap": [
           {
            "colorbar": {
             "outlinewidth": 0,
             "ticks": ""
            },
            "colorscale": [
             [
              0,
              "#0d0887"
             ],
             [
              0.1111111111111111,
              "#46039f"
             ],
             [
              0.2222222222222222,
              "#7201a8"
             ],
             [
              0.3333333333333333,
              "#9c179e"
             ],
             [
              0.4444444444444444,
              "#bd3786"
             ],
             [
              0.5555555555555556,
              "#d8576b"
             ],
             [
              0.6666666666666666,
              "#ed7953"
             ],
             [
              0.7777777777777778,
              "#fb9f3a"
             ],
             [
              0.8888888888888888,
              "#fdca26"
             ],
             [
              1,
              "#f0f921"
             ]
            ],
            "type": "heatmap"
           }
          ],
          "heatmapgl": [
           {
            "colorbar": {
             "outlinewidth": 0,
             "ticks": ""
            },
            "colorscale": [
             [
              0,
              "#0d0887"
             ],
             [
              0.1111111111111111,
              "#46039f"
             ],
             [
              0.2222222222222222,
              "#7201a8"
             ],
             [
              0.3333333333333333,
              "#9c179e"
             ],
             [
              0.4444444444444444,
              "#bd3786"
             ],
             [
              0.5555555555555556,
              "#d8576b"
             ],
             [
              0.6666666666666666,
              "#ed7953"
             ],
             [
              0.7777777777777778,
              "#fb9f3a"
             ],
             [
              0.8888888888888888,
              "#fdca26"
             ],
             [
              1,
              "#f0f921"
             ]
            ],
            "type": "heatmapgl"
           }
          ],
          "histogram": [
           {
            "marker": {
             "pattern": {
              "fillmode": "overlay",
              "size": 10,
              "solidity": 0.2
             }
            },
            "type": "histogram"
           }
          ],
          "histogram2d": [
           {
            "colorbar": {
             "outlinewidth": 0,
             "ticks": ""
            },
            "colorscale": [
             [
              0,
              "#0d0887"
             ],
             [
              0.1111111111111111,
              "#46039f"
             ],
             [
              0.2222222222222222,
              "#7201a8"
             ],
             [
              0.3333333333333333,
              "#9c179e"
             ],
             [
              0.4444444444444444,
              "#bd3786"
             ],
             [
              0.5555555555555556,
              "#d8576b"
             ],
             [
              0.6666666666666666,
              "#ed7953"
             ],
             [
              0.7777777777777778,
              "#fb9f3a"
             ],
             [
              0.8888888888888888,
              "#fdca26"
             ],
             [
              1,
              "#f0f921"
             ]
            ],
            "type": "histogram2d"
           }
          ],
          "histogram2dcontour": [
           {
            "colorbar": {
             "outlinewidth": 0,
             "ticks": ""
            },
            "colorscale": [
             [
              0,
              "#0d0887"
             ],
             [
              0.1111111111111111,
              "#46039f"
             ],
             [
              0.2222222222222222,
              "#7201a8"
             ],
             [
              0.3333333333333333,
              "#9c179e"
             ],
             [
              0.4444444444444444,
              "#bd3786"
             ],
             [
              0.5555555555555556,
              "#d8576b"
             ],
             [
              0.6666666666666666,
              "#ed7953"
             ],
             [
              0.7777777777777778,
              "#fb9f3a"
             ],
             [
              0.8888888888888888,
              "#fdca26"
             ],
             [
              1,
              "#f0f921"
             ]
            ],
            "type": "histogram2dcontour"
           }
          ],
          "mesh3d": [
           {
            "colorbar": {
             "outlinewidth": 0,
             "ticks": ""
            },
            "type": "mesh3d"
           }
          ],
          "parcoords": [
           {
            "line": {
             "colorbar": {
              "outlinewidth": 0,
              "ticks": ""
             }
            },
            "type": "parcoords"
           }
          ],
          "pie": [
           {
            "automargin": true,
            "type": "pie"
           }
          ],
          "scatter": [
           {
            "fillpattern": {
             "fillmode": "overlay",
             "size": 10,
             "solidity": 0.2
            },
            "type": "scatter"
           }
          ],
          "scatter3d": [
           {
            "line": {
             "colorbar": {
              "outlinewidth": 0,
              "ticks": ""
             }
            },
            "marker": {
             "colorbar": {
              "outlinewidth": 0,
              "ticks": ""
             }
            },
            "type": "scatter3d"
           }
          ],
          "scattercarpet": [
           {
            "marker": {
             "colorbar": {
              "outlinewidth": 0,
              "ticks": ""
             }
            },
            "type": "scattercarpet"
           }
          ],
          "scattergeo": [
           {
            "marker": {
             "colorbar": {
              "outlinewidth": 0,
              "ticks": ""
             }
            },
            "type": "scattergeo"
           }
          ],
          "scattergl": [
           {
            "marker": {
             "colorbar": {
              "outlinewidth": 0,
              "ticks": ""
             }
            },
            "type": "scattergl"
           }
          ],
          "scattermapbox": [
           {
            "marker": {
             "colorbar": {
              "outlinewidth": 0,
              "ticks": ""
             }
            },
            "type": "scattermapbox"
           }
          ],
          "scatterpolar": [
           {
            "marker": {
             "colorbar": {
              "outlinewidth": 0,
              "ticks": ""
             }
            },
            "type": "scatterpolar"
           }
          ],
          "scatterpolargl": [
           {
            "marker": {
             "colorbar": {
              "outlinewidth": 0,
              "ticks": ""
             }
            },
            "type": "scatterpolargl"
           }
          ],
          "scatterternary": [
           {
            "marker": {
             "colorbar": {
              "outlinewidth": 0,
              "ticks": ""
             }
            },
            "type": "scatterternary"
           }
          ],
          "surface": [
           {
            "colorbar": {
             "outlinewidth": 0,
             "ticks": ""
            },
            "colorscale": [
             [
              0,
              "#0d0887"
             ],
             [
              0.1111111111111111,
              "#46039f"
             ],
             [
              0.2222222222222222,
              "#7201a8"
             ],
             [
              0.3333333333333333,
              "#9c179e"
             ],
             [
              0.4444444444444444,
              "#bd3786"
             ],
             [
              0.5555555555555556,
              "#d8576b"
             ],
             [
              0.6666666666666666,
              "#ed7953"
             ],
             [
              0.7777777777777778,
              "#fb9f3a"
             ],
             [
              0.8888888888888888,
              "#fdca26"
             ],
             [
              1,
              "#f0f921"
             ]
            ],
            "type": "surface"
           }
          ],
          "table": [
           {
            "cells": {
             "fill": {
              "color": "#EBF0F8"
             },
             "line": {
              "color": "white"
             }
            },
            "header": {
             "fill": {
              "color": "#C8D4E3"
             },
             "line": {
              "color": "white"
             }
            },
            "type": "table"
           }
          ]
         },
         "layout": {
          "annotationdefaults": {
           "arrowcolor": "#2a3f5f",
           "arrowhead": 0,
           "arrowwidth": 1
          },
          "autotypenumbers": "strict",
          "coloraxis": {
           "colorbar": {
            "outlinewidth": 0,
            "ticks": ""
           }
          },
          "colorscale": {
           "diverging": [
            [
             0,
             "#8e0152"
            ],
            [
             0.1,
             "#c51b7d"
            ],
            [
             0.2,
             "#de77ae"
            ],
            [
             0.3,
             "#f1b6da"
            ],
            [
             0.4,
             "#fde0ef"
            ],
            [
             0.5,
             "#f7f7f7"
            ],
            [
             0.6,
             "#e6f5d0"
            ],
            [
             0.7,
             "#b8e186"
            ],
            [
             0.8,
             "#7fbc41"
            ],
            [
             0.9,
             "#4d9221"
            ],
            [
             1,
             "#276419"
            ]
           ],
           "sequential": [
            [
             0,
             "#0d0887"
            ],
            [
             0.1111111111111111,
             "#46039f"
            ],
            [
             0.2222222222222222,
             "#7201a8"
            ],
            [
             0.3333333333333333,
             "#9c179e"
            ],
            [
             0.4444444444444444,
             "#bd3786"
            ],
            [
             0.5555555555555556,
             "#d8576b"
            ],
            [
             0.6666666666666666,
             "#ed7953"
            ],
            [
             0.7777777777777778,
             "#fb9f3a"
            ],
            [
             0.8888888888888888,
             "#fdca26"
            ],
            [
             1,
             "#f0f921"
            ]
           ],
           "sequentialminus": [
            [
             0,
             "#0d0887"
            ],
            [
             0.1111111111111111,
             "#46039f"
            ],
            [
             0.2222222222222222,
             "#7201a8"
            ],
            [
             0.3333333333333333,
             "#9c179e"
            ],
            [
             0.4444444444444444,
             "#bd3786"
            ],
            [
             0.5555555555555556,
             "#d8576b"
            ],
            [
             0.6666666666666666,
             "#ed7953"
            ],
            [
             0.7777777777777778,
             "#fb9f3a"
            ],
            [
             0.8888888888888888,
             "#fdca26"
            ],
            [
             1,
             "#f0f921"
            ]
           ]
          },
          "colorway": [
           "#636efa",
           "#EF553B",
           "#00cc96",
           "#ab63fa",
           "#FFA15A",
           "#19d3f3",
           "#FF6692",
           "#B6E880",
           "#FF97FF",
           "#FECB52"
          ],
          "font": {
           "color": "#2a3f5f"
          },
          "geo": {
           "bgcolor": "white",
           "lakecolor": "white",
           "landcolor": "#E5ECF6",
           "showlakes": true,
           "showland": true,
           "subunitcolor": "white"
          },
          "hoverlabel": {
           "align": "left"
          },
          "hovermode": "closest",
          "mapbox": {
           "style": "light"
          },
          "paper_bgcolor": "white",
          "plot_bgcolor": "#E5ECF6",
          "polar": {
           "angularaxis": {
            "gridcolor": "white",
            "linecolor": "white",
            "ticks": ""
           },
           "bgcolor": "#E5ECF6",
           "radialaxis": {
            "gridcolor": "white",
            "linecolor": "white",
            "ticks": ""
           }
          },
          "scene": {
           "xaxis": {
            "backgroundcolor": "#E5ECF6",
            "gridcolor": "white",
            "gridwidth": 2,
            "linecolor": "white",
            "showbackground": true,
            "ticks": "",
            "zerolinecolor": "white"
           },
           "yaxis": {
            "backgroundcolor": "#E5ECF6",
            "gridcolor": "white",
            "gridwidth": 2,
            "linecolor": "white",
            "showbackground": true,
            "ticks": "",
            "zerolinecolor": "white"
           },
           "zaxis": {
            "backgroundcolor": "#E5ECF6",
            "gridcolor": "white",
            "gridwidth": 2,
            "linecolor": "white",
            "showbackground": true,
            "ticks": "",
            "zerolinecolor": "white"
           }
          },
          "shapedefaults": {
           "line": {
            "color": "#2a3f5f"
           }
          },
          "ternary": {
           "aaxis": {
            "gridcolor": "white",
            "linecolor": "white",
            "ticks": ""
           },
           "baxis": {
            "gridcolor": "white",
            "linecolor": "white",
            "ticks": ""
           },
           "bgcolor": "#E5ECF6",
           "caxis": {
            "gridcolor": "white",
            "linecolor": "white",
            "ticks": ""
           }
          },
          "title": {
           "x": 0.05
          },
          "xaxis": {
           "automargin": true,
           "gridcolor": "white",
           "linecolor": "white",
           "ticks": "",
           "title": {
            "standoff": 15
           },
           "zerolinecolor": "white",
           "zerolinewidth": 2
          },
          "yaxis": {
           "automargin": true,
           "gridcolor": "white",
           "linecolor": "white",
           "ticks": "",
           "title": {
            "standoff": 15
           },
           "zerolinecolor": "white",
           "zerolinewidth": 2
          }
         }
        },
        "title": {
         "text": "Доля событий по дням по группам в долях"
        },
        "width": 950,
        "xaxis": {
         "title": {
          "text": "Дата"
         }
        },
        "yaxis": {
         "title": {
          "text": "Доля от своей группы, %"
         }
        }
       }
      }
     },
     "metadata": {},
     "output_type": "display_data"
    }
   ],
   "source": [
    "fig = go.Figure(data=[\n",
    "    go.Bar(name='Группа A', x=temp_table['event_date'], y=temp_table['ratio_a']),\n",
    "    go.Bar(name='Группа B', x=temp_table['event_date'], y=temp_table['ratio_b'])\n",
    "])\n",
    "fig.update_layout(barmode='group',\n",
    "                  title='Доля событий по дням по группам в долях',\n",
    "                  width=950,\n",
    "                  height=700,\n",
    "                  xaxis_title='Дата',\n",
    "                  yaxis_title='Доля от своей группы, %')\n",
    "\n",
    "fig.add_vrect(x0='2020-12-25', x1='2021-01-03', \n",
    "              annotation_text=\"Christmas&New Year Promo\", annotation_position=\"top right\",\n",
    "              fillcolor=\"red\", opacity=0.25, line_width=0)\n",
    "fig.show()"
   ]
  },
  {
   "cell_type": "markdown",
   "metadata": {},
   "source": [
    "#### Вывод \n",
    "Теперь можно быть на 100% уверенным, что в даты проведения маркетингового события наблюдался спад активности. Но, ко всему прочему, мы теперь можем сделать вывод, что у группы B наблюдается два пика активности, в начале и в середине теста, когда у группы A пик активности был только в середине теста"
   ]
  },
  {
   "cell_type": "markdown",
   "metadata": {},
   "source": [
    "\n",
    "<div id=\"1\" >\n",
    "\n",
    "\n",
    "\n",
    " - [Назад](#div_id1)"
   ]
  },
  {
   "cell_type": "markdown",
   "metadata": {},
   "source": [
    "### 3.7 Ожидаемый эффект: за 14 дней с момента регистрации в системе пользователи покажут улучшение каждой метрики не менее, чем на 5 процентных пунктов:\n",
    "* конверсии в просмотр карточек товаров — событие product_page\n",
    "* просмотры корзины — product_cart\n",
    "* покупки — purchase .\n",
    "\n",
    "\n",
    " Построим простую продуктовую воронку для сценария [`sign_up` - `login` - `product_page` - `product_cart` - `purchase`]"
   ]
  },
  {
   "cell_type": "code",
   "execution_count": 56,
   "metadata": {},
   "outputs": [
    {
     "data": {
      "text/html": [
       "<div>\n",
       "<style scoped>\n",
       "    .dataframe tbody tr th:only-of-type {\n",
       "        vertical-align: middle;\n",
       "    }\n",
       "\n",
       "    .dataframe tbody tr th {\n",
       "        vertical-align: top;\n",
       "    }\n",
       "\n",
       "    .dataframe thead th {\n",
       "        text-align: right;\n",
       "    }\n",
       "</style>\n",
       "<table border=\"1\" class=\"dataframe\">\n",
       "  <thead>\n",
       "    <tr style=\"text-align: right;\">\n",
       "      <th></th>\n",
       "      <th>step</th>\n",
       "      <th>user_count</th>\n",
       "      <th>group</th>\n",
       "    </tr>\n",
       "  </thead>\n",
       "  <tbody>\n",
       "    <tr>\n",
       "      <th>0</th>\n",
       "      <td>sign_up</td>\n",
       "      <td>2279</td>\n",
       "      <td>A</td>\n",
       "    </tr>\n",
       "    <tr>\n",
       "      <th>1</th>\n",
       "      <td>login</td>\n",
       "      <td>2279</td>\n",
       "      <td>A</td>\n",
       "    </tr>\n",
       "    <tr>\n",
       "      <th>2</th>\n",
       "      <td>product_page</td>\n",
       "      <td>1476</td>\n",
       "      <td>A</td>\n",
       "    </tr>\n",
       "    <tr>\n",
       "      <th>3</th>\n",
       "      <td>product_cart</td>\n",
       "      <td>686</td>\n",
       "      <td>A</td>\n",
       "    </tr>\n",
       "    <tr>\n",
       "      <th>4</th>\n",
       "      <td>purchase</td>\n",
       "      <td>734</td>\n",
       "      <td>A</td>\n",
       "    </tr>\n",
       "  </tbody>\n",
       "</table>\n",
       "</div>"
      ],
      "text/plain": [
       "           step  user_count group\n",
       "0  sign_up       2279        A   \n",
       "1  login         2279        A   \n",
       "2  product_page  1476        A   \n",
       "3  product_cart  686         A   \n",
       "4  purchase      734         A   "
      ]
     },
     "execution_count": 56,
     "metadata": {},
     "output_type": "execute_result"
    }
   ],
   "source": [
    "# собираем воронку пользователей группы А\n",
    "users_count_a = df[df['group'] == \"A\"].groupby('event_name').agg({'user_id': 'nunique'}).sort_values(by='user_id', ascending=False).rename(columns={'user_id': 'user_count'})\n",
    "first_step = pd.DataFrame(data = {'user_count': [df[df['group'] == 'A']['user_id'].unique().shape[0]]},\n",
    "                          index=(['sign_up']))\n",
    "users_count_a = pd.concat([users_count_a, first_step])\n",
    "\n",
    "\n",
    "new_index = ['sign_up', 'login', 'product_page', 'product_cart', 'purchase']\n",
    "users_count_a = users_count_a.reindex(new_index)\n",
    "users_count_a['group'] = 'A'\n",
    "users_count_a = users_count_a.reset_index().rename(columns={'index':'step'})\n",
    "users_count_a"
   ]
  },
  {
   "cell_type": "code",
   "execution_count": 57,
   "metadata": {},
   "outputs": [
    {
     "data": {
      "text/html": [
       "<div>\n",
       "<style scoped>\n",
       "    .dataframe tbody tr th:only-of-type {\n",
       "        vertical-align: middle;\n",
       "    }\n",
       "\n",
       "    .dataframe tbody tr th {\n",
       "        vertical-align: top;\n",
       "    }\n",
       "\n",
       "    .dataframe thead th {\n",
       "        text-align: right;\n",
       "    }\n",
       "</style>\n",
       "<table border=\"1\" class=\"dataframe\">\n",
       "  <thead>\n",
       "    <tr style=\"text-align: right;\">\n",
       "      <th></th>\n",
       "      <th>step</th>\n",
       "      <th>user_count</th>\n",
       "      <th>group</th>\n",
       "    </tr>\n",
       "  </thead>\n",
       "  <tbody>\n",
       "    <tr>\n",
       "      <th>0</th>\n",
       "      <td>sign_up</td>\n",
       "      <td>771</td>\n",
       "      <td>B</td>\n",
       "    </tr>\n",
       "    <tr>\n",
       "      <th>1</th>\n",
       "      <td>login</td>\n",
       "      <td>770</td>\n",
       "      <td>B</td>\n",
       "    </tr>\n",
       "    <tr>\n",
       "      <th>2</th>\n",
       "      <td>product_page</td>\n",
       "      <td>429</td>\n",
       "      <td>B</td>\n",
       "    </tr>\n",
       "    <tr>\n",
       "      <th>3</th>\n",
       "      <td>product_cart</td>\n",
       "      <td>214</td>\n",
       "      <td>B</td>\n",
       "    </tr>\n",
       "    <tr>\n",
       "      <th>4</th>\n",
       "      <td>purchase</td>\n",
       "      <td>219</td>\n",
       "      <td>B</td>\n",
       "    </tr>\n",
       "  </tbody>\n",
       "</table>\n",
       "</div>"
      ],
      "text/plain": [
       "           step  user_count group\n",
       "0  sign_up       771         B   \n",
       "1  login         770         B   \n",
       "2  product_page  429         B   \n",
       "3  product_cart  214         B   \n",
       "4  purchase      219         B   "
      ]
     },
     "execution_count": 57,
     "metadata": {},
     "output_type": "execute_result"
    }
   ],
   "source": [
    "# собираем воронку пользователей группы В\n",
    "users_count_b = df[df['group'] == \"B\"].groupby('event_name').agg({'user_id': 'nunique'}).sort_values(by='user_id', ascending=False).rename(columns={'user_id': 'user_count'})\n",
    "first_step = pd.DataFrame(data = {'user_count': [df[df['group'] == 'B']['user_id'].unique().shape[0]]},\n",
    "                          index=(['sign_up']))\n",
    "users_count_b = pd.concat([users_count_b, first_step])\n",
    "\n",
    "\n",
    "new_index = ['sign_up', 'login', 'product_page', 'product_cart', 'purchase']\n",
    "users_count_b = users_count_b.reindex(new_index)\n",
    "users_count_b['group'] = 'B'\n",
    "users_count_b = users_count_b.reset_index().rename(columns={'index':'step'})\n",
    "users_count_b"
   ]
  },
  {
   "cell_type": "code",
   "execution_count": 58,
   "metadata": {},
   "outputs": [
    {
     "data": {
      "application/vnd.plotly.v1+json": {
       "config": {
        "plotlyServerURL": "https://plot.ly"
       },
       "data": [
        {
         "name": "Группа А",
         "textinfo": "value+percent initial",
         "type": "funnel",
         "x": [
          2279,
          2279,
          1476,
          686,
          734
         ],
         "y": [
          "sign_up",
          "login",
          "product_page",
          "product_cart",
          "purchase"
         ]
        },
        {
         "name": "Группа B",
         "orientation": "h",
         "textinfo": "value+percent initial",
         "textposition": "inside",
         "type": "funnel",
         "x": [
          771,
          770,
          429,
          214,
          219
         ],
         "y": [
          "sign_up",
          "login",
          "product_page",
          "product_cart",
          "purchase"
         ]
        }
       ],
       "layout": {
        "template": {
         "data": {
          "bar": [
           {
            "error_x": {
             "color": "#2a3f5f"
            },
            "error_y": {
             "color": "#2a3f5f"
            },
            "marker": {
             "line": {
              "color": "#E5ECF6",
              "width": 0.5
             },
             "pattern": {
              "fillmode": "overlay",
              "size": 10,
              "solidity": 0.2
             }
            },
            "type": "bar"
           }
          ],
          "barpolar": [
           {
            "marker": {
             "line": {
              "color": "#E5ECF6",
              "width": 0.5
             },
             "pattern": {
              "fillmode": "overlay",
              "size": 10,
              "solidity": 0.2
             }
            },
            "type": "barpolar"
           }
          ],
          "carpet": [
           {
            "aaxis": {
             "endlinecolor": "#2a3f5f",
             "gridcolor": "white",
             "linecolor": "white",
             "minorgridcolor": "white",
             "startlinecolor": "#2a3f5f"
            },
            "baxis": {
             "endlinecolor": "#2a3f5f",
             "gridcolor": "white",
             "linecolor": "white",
             "minorgridcolor": "white",
             "startlinecolor": "#2a3f5f"
            },
            "type": "carpet"
           }
          ],
          "choropleth": [
           {
            "colorbar": {
             "outlinewidth": 0,
             "ticks": ""
            },
            "type": "choropleth"
           }
          ],
          "contour": [
           {
            "colorbar": {
             "outlinewidth": 0,
             "ticks": ""
            },
            "colorscale": [
             [
              0,
              "#0d0887"
             ],
             [
              0.1111111111111111,
              "#46039f"
             ],
             [
              0.2222222222222222,
              "#7201a8"
             ],
             [
              0.3333333333333333,
              "#9c179e"
             ],
             [
              0.4444444444444444,
              "#bd3786"
             ],
             [
              0.5555555555555556,
              "#d8576b"
             ],
             [
              0.6666666666666666,
              "#ed7953"
             ],
             [
              0.7777777777777778,
              "#fb9f3a"
             ],
             [
              0.8888888888888888,
              "#fdca26"
             ],
             [
              1,
              "#f0f921"
             ]
            ],
            "type": "contour"
           }
          ],
          "contourcarpet": [
           {
            "colorbar": {
             "outlinewidth": 0,
             "ticks": ""
            },
            "type": "contourcarpet"
           }
          ],
          "heatmap": [
           {
            "colorbar": {
             "outlinewidth": 0,
             "ticks": ""
            },
            "colorscale": [
             [
              0,
              "#0d0887"
             ],
             [
              0.1111111111111111,
              "#46039f"
             ],
             [
              0.2222222222222222,
              "#7201a8"
             ],
             [
              0.3333333333333333,
              "#9c179e"
             ],
             [
              0.4444444444444444,
              "#bd3786"
             ],
             [
              0.5555555555555556,
              "#d8576b"
             ],
             [
              0.6666666666666666,
              "#ed7953"
             ],
             [
              0.7777777777777778,
              "#fb9f3a"
             ],
             [
              0.8888888888888888,
              "#fdca26"
             ],
             [
              1,
              "#f0f921"
             ]
            ],
            "type": "heatmap"
           }
          ],
          "heatmapgl": [
           {
            "colorbar": {
             "outlinewidth": 0,
             "ticks": ""
            },
            "colorscale": [
             [
              0,
              "#0d0887"
             ],
             [
              0.1111111111111111,
              "#46039f"
             ],
             [
              0.2222222222222222,
              "#7201a8"
             ],
             [
              0.3333333333333333,
              "#9c179e"
             ],
             [
              0.4444444444444444,
              "#bd3786"
             ],
             [
              0.5555555555555556,
              "#d8576b"
             ],
             [
              0.6666666666666666,
              "#ed7953"
             ],
             [
              0.7777777777777778,
              "#fb9f3a"
             ],
             [
              0.8888888888888888,
              "#fdca26"
             ],
             [
              1,
              "#f0f921"
             ]
            ],
            "type": "heatmapgl"
           }
          ],
          "histogram": [
           {
            "marker": {
             "pattern": {
              "fillmode": "overlay",
              "size": 10,
              "solidity": 0.2
             }
            },
            "type": "histogram"
           }
          ],
          "histogram2d": [
           {
            "colorbar": {
             "outlinewidth": 0,
             "ticks": ""
            },
            "colorscale": [
             [
              0,
              "#0d0887"
             ],
             [
              0.1111111111111111,
              "#46039f"
             ],
             [
              0.2222222222222222,
              "#7201a8"
             ],
             [
              0.3333333333333333,
              "#9c179e"
             ],
             [
              0.4444444444444444,
              "#bd3786"
             ],
             [
              0.5555555555555556,
              "#d8576b"
             ],
             [
              0.6666666666666666,
              "#ed7953"
             ],
             [
              0.7777777777777778,
              "#fb9f3a"
             ],
             [
              0.8888888888888888,
              "#fdca26"
             ],
             [
              1,
              "#f0f921"
             ]
            ],
            "type": "histogram2d"
           }
          ],
          "histogram2dcontour": [
           {
            "colorbar": {
             "outlinewidth": 0,
             "ticks": ""
            },
            "colorscale": [
             [
              0,
              "#0d0887"
             ],
             [
              0.1111111111111111,
              "#46039f"
             ],
             [
              0.2222222222222222,
              "#7201a8"
             ],
             [
              0.3333333333333333,
              "#9c179e"
             ],
             [
              0.4444444444444444,
              "#bd3786"
             ],
             [
              0.5555555555555556,
              "#d8576b"
             ],
             [
              0.6666666666666666,
              "#ed7953"
             ],
             [
              0.7777777777777778,
              "#fb9f3a"
             ],
             [
              0.8888888888888888,
              "#fdca26"
             ],
             [
              1,
              "#f0f921"
             ]
            ],
            "type": "histogram2dcontour"
           }
          ],
          "mesh3d": [
           {
            "colorbar": {
             "outlinewidth": 0,
             "ticks": ""
            },
            "type": "mesh3d"
           }
          ],
          "parcoords": [
           {
            "line": {
             "colorbar": {
              "outlinewidth": 0,
              "ticks": ""
             }
            },
            "type": "parcoords"
           }
          ],
          "pie": [
           {
            "automargin": true,
            "type": "pie"
           }
          ],
          "scatter": [
           {
            "fillpattern": {
             "fillmode": "overlay",
             "size": 10,
             "solidity": 0.2
            },
            "type": "scatter"
           }
          ],
          "scatter3d": [
           {
            "line": {
             "colorbar": {
              "outlinewidth": 0,
              "ticks": ""
             }
            },
            "marker": {
             "colorbar": {
              "outlinewidth": 0,
              "ticks": ""
             }
            },
            "type": "scatter3d"
           }
          ],
          "scattercarpet": [
           {
            "marker": {
             "colorbar": {
              "outlinewidth": 0,
              "ticks": ""
             }
            },
            "type": "scattercarpet"
           }
          ],
          "scattergeo": [
           {
            "marker": {
             "colorbar": {
              "outlinewidth": 0,
              "ticks": ""
             }
            },
            "type": "scattergeo"
           }
          ],
          "scattergl": [
           {
            "marker": {
             "colorbar": {
              "outlinewidth": 0,
              "ticks": ""
             }
            },
            "type": "scattergl"
           }
          ],
          "scattermapbox": [
           {
            "marker": {
             "colorbar": {
              "outlinewidth": 0,
              "ticks": ""
             }
            },
            "type": "scattermapbox"
           }
          ],
          "scatterpolar": [
           {
            "marker": {
             "colorbar": {
              "outlinewidth": 0,
              "ticks": ""
             }
            },
            "type": "scatterpolar"
           }
          ],
          "scatterpolargl": [
           {
            "marker": {
             "colorbar": {
              "outlinewidth": 0,
              "ticks": ""
             }
            },
            "type": "scatterpolargl"
           }
          ],
          "scatterternary": [
           {
            "marker": {
             "colorbar": {
              "outlinewidth": 0,
              "ticks": ""
             }
            },
            "type": "scatterternary"
           }
          ],
          "surface": [
           {
            "colorbar": {
             "outlinewidth": 0,
             "ticks": ""
            },
            "colorscale": [
             [
              0,
              "#0d0887"
             ],
             [
              0.1111111111111111,
              "#46039f"
             ],
             [
              0.2222222222222222,
              "#7201a8"
             ],
             [
              0.3333333333333333,
              "#9c179e"
             ],
             [
              0.4444444444444444,
              "#bd3786"
             ],
             [
              0.5555555555555556,
              "#d8576b"
             ],
             [
              0.6666666666666666,
              "#ed7953"
             ],
             [
              0.7777777777777778,
              "#fb9f3a"
             ],
             [
              0.8888888888888888,
              "#fdca26"
             ],
             [
              1,
              "#f0f921"
             ]
            ],
            "type": "surface"
           }
          ],
          "table": [
           {
            "cells": {
             "fill": {
              "color": "#EBF0F8"
             },
             "line": {
              "color": "white"
             }
            },
            "header": {
             "fill": {
              "color": "#C8D4E3"
             },
             "line": {
              "color": "white"
             }
            },
            "type": "table"
           }
          ]
         },
         "layout": {
          "annotationdefaults": {
           "arrowcolor": "#2a3f5f",
           "arrowhead": 0,
           "arrowwidth": 1
          },
          "autotypenumbers": "strict",
          "coloraxis": {
           "colorbar": {
            "outlinewidth": 0,
            "ticks": ""
           }
          },
          "colorscale": {
           "diverging": [
            [
             0,
             "#8e0152"
            ],
            [
             0.1,
             "#c51b7d"
            ],
            [
             0.2,
             "#de77ae"
            ],
            [
             0.3,
             "#f1b6da"
            ],
            [
             0.4,
             "#fde0ef"
            ],
            [
             0.5,
             "#f7f7f7"
            ],
            [
             0.6,
             "#e6f5d0"
            ],
            [
             0.7,
             "#b8e186"
            ],
            [
             0.8,
             "#7fbc41"
            ],
            [
             0.9,
             "#4d9221"
            ],
            [
             1,
             "#276419"
            ]
           ],
           "sequential": [
            [
             0,
             "#0d0887"
            ],
            [
             0.1111111111111111,
             "#46039f"
            ],
            [
             0.2222222222222222,
             "#7201a8"
            ],
            [
             0.3333333333333333,
             "#9c179e"
            ],
            [
             0.4444444444444444,
             "#bd3786"
            ],
            [
             0.5555555555555556,
             "#d8576b"
            ],
            [
             0.6666666666666666,
             "#ed7953"
            ],
            [
             0.7777777777777778,
             "#fb9f3a"
            ],
            [
             0.8888888888888888,
             "#fdca26"
            ],
            [
             1,
             "#f0f921"
            ]
           ],
           "sequentialminus": [
            [
             0,
             "#0d0887"
            ],
            [
             0.1111111111111111,
             "#46039f"
            ],
            [
             0.2222222222222222,
             "#7201a8"
            ],
            [
             0.3333333333333333,
             "#9c179e"
            ],
            [
             0.4444444444444444,
             "#bd3786"
            ],
            [
             0.5555555555555556,
             "#d8576b"
            ],
            [
             0.6666666666666666,
             "#ed7953"
            ],
            [
             0.7777777777777778,
             "#fb9f3a"
            ],
            [
             0.8888888888888888,
             "#fdca26"
            ],
            [
             1,
             "#f0f921"
            ]
           ]
          },
          "colorway": [
           "#636efa",
           "#EF553B",
           "#00cc96",
           "#ab63fa",
           "#FFA15A",
           "#19d3f3",
           "#FF6692",
           "#B6E880",
           "#FF97FF",
           "#FECB52"
          ],
          "font": {
           "color": "#2a3f5f"
          },
          "geo": {
           "bgcolor": "white",
           "lakecolor": "white",
           "landcolor": "#E5ECF6",
           "showlakes": true,
           "showland": true,
           "subunitcolor": "white"
          },
          "hoverlabel": {
           "align": "left"
          },
          "hovermode": "closest",
          "mapbox": {
           "style": "light"
          },
          "paper_bgcolor": "white",
          "plot_bgcolor": "#E5ECF6",
          "polar": {
           "angularaxis": {
            "gridcolor": "white",
            "linecolor": "white",
            "ticks": ""
           },
           "bgcolor": "#E5ECF6",
           "radialaxis": {
            "gridcolor": "white",
            "linecolor": "white",
            "ticks": ""
           }
          },
          "scene": {
           "xaxis": {
            "backgroundcolor": "#E5ECF6",
            "gridcolor": "white",
            "gridwidth": 2,
            "linecolor": "white",
            "showbackground": true,
            "ticks": "",
            "zerolinecolor": "white"
           },
           "yaxis": {
            "backgroundcolor": "#E5ECF6",
            "gridcolor": "white",
            "gridwidth": 2,
            "linecolor": "white",
            "showbackground": true,
            "ticks": "",
            "zerolinecolor": "white"
           },
           "zaxis": {
            "backgroundcolor": "#E5ECF6",
            "gridcolor": "white",
            "gridwidth": 2,
            "linecolor": "white",
            "showbackground": true,
            "ticks": "",
            "zerolinecolor": "white"
           }
          },
          "shapedefaults": {
           "line": {
            "color": "#2a3f5f"
           }
          },
          "ternary": {
           "aaxis": {
            "gridcolor": "white",
            "linecolor": "white",
            "ticks": ""
           },
           "baxis": {
            "gridcolor": "white",
            "linecolor": "white",
            "ticks": ""
           },
           "bgcolor": "#E5ECF6",
           "caxis": {
            "gridcolor": "white",
            "linecolor": "white",
            "ticks": ""
           }
          },
          "title": {
           "x": 0.05
          },
          "xaxis": {
           "automargin": true,
           "gridcolor": "white",
           "linecolor": "white",
           "ticks": "",
           "title": {
            "standoff": 15
           },
           "zerolinecolor": "white",
           "zerolinewidth": 2
          },
          "yaxis": {
           "automargin": true,
           "gridcolor": "white",
           "linecolor": "white",
           "ticks": "",
           "title": {
            "standoff": 15
           },
           "zerolinecolor": "white",
           "zerolinewidth": 2
          }
         }
        },
        "title": {
         "text": "Воронка `sign_up`-`login`-`product_page`-`product_cart`-`purchase`",
         "x": 0.5
        }
       }
      }
     },
     "metadata": {},
     "output_type": "display_data"
    }
   ],
   "source": [
    "fig = go.Figure()\n",
    "fig.update_layout(title='Воронка `sign_up`-`login`-`product_page`-`product_cart`-`purchase`', title_x=0.5)\n",
    "fig.add_trace(go.Funnel(\n",
    "    name = 'Группа А',\n",
    "    y = users_count_a['step'],\n",
    "    x = users_count_a['user_count'],\n",
    "    textinfo = \"value+percent initial\"))\n",
    "\n",
    "fig.add_trace(go.Funnel(\n",
    "    name = 'Группа B',\n",
    "    orientation = \"h\",\n",
    "    y =  users_count_b['step'],\n",
    "    x = users_count_b['user_count'],\n",
    "    textposition = \"inside\",\n",
    "    textinfo = \"value+percent initial\"))\n",
    "\n",
    "fig.show()"
   ]
  },
  {
   "cell_type": "markdown",
   "metadata": {},
   "source": [
    "#### Вывод \n",
    "\n",
    "Ожидаемый эффект изменения конверсии в продуктовой воронке экспериментальной группы по сравнению с контрольной не сбылся, конверсия, по интересующим нас этапам, на каждом шаге, в экспериментальной группе стала хуже, чем в контрольной"
   ]
  },
  {
   "cell_type": "markdown",
   "metadata": {},
   "source": [
    "### Общий вывод\n",
    "Проведя проверку на соответствие данных техническому заданию можно сделать выводы:\n",
    "* Данные предоставлены не за весь срок проведения АБ теста\n",
    "* Во время проведения АБ теста проходило маркетинговое событие, которое, могло повлиять на данные, но, изучив активность пользователей, мы решили, что маркетинговое событие не повлияло на пользователей\n",
    "* Согласно ТЗ нам нужны были пользователи из EU и, исключительно, новые пользователи. В датафрейме участников теста были старые пользователи. Проверку на пользователей из других регионов мы не делали, заранее исключив таких пользователей \n",
    "* В датафрейме участников теста присутствовало пересечение пользователей по двум разным тестам, также пересекались пользователи по группам в рамках нужного теста. Данные почистили, пользователей из нашего теста, которые попали в контрольную группу конкурирующего теста сохранили, всех остальных удалили. Стоит отметить, что доля \"грязных\" очень велика - порядка `25%`\n",
    "* Часть пользователей, участвовавших в тесте, после регистрации не совершила ни одного действия и их доля также велика - `29%` контрольной группы и `68%` экспериментальной \n",
    "* Согласно ТЗ нас интересовали пользователи, которые не были старше `14` дней, поэтому, мы удалили все события, лайфтайм которых был больше `14`\n",
    "* По итогу, после всех операций по очистки данных у нас осталось `2279` уникальных пользователя контрольной группы и `771` уникальных пользователя экспериментальной группы\n",
    "* Ожидаемый эффект: за `14` дней с момента регистрации в системе пользователи покажут улучшение каждой метрики не менее, чем на `5` процентных пунктов не сбылся, конверсия экспериментальной группы хуже контрольной на всех этапах воронки\n",
    "* Ожидаемое количество участников теста: `15% `новых пользователей из региона `EU` - сбылось \n",
    "\n",
    "* Представьте развернутый вывод о соответствии теста требованиям технического задания и возможности получения достоверных результатов АБ-теста, исходя из базового показателя конверсии в 50%. \n",
    "    - Калькулятор размера выборки: [https://www.evanmiller.org/ab-testing/sample-size.html] определяет минимальны размер выборки для определения относительного различия между группами теста в `5 процентных пунктов`, при базовой конверсии `50%`, мощности теста в `80%` и уровне значимости в `5%`  - `1567` наблюдений для каждой группы. Получается, что изначально тест был проведен с нарушениями. Группа `B` изначально сильно меньше минимального размера выборки, а группа `A`  на определенном этапе воронки тоже становится меньше минимального размера выборки. Достоверных результатов АБ-теста получить невозможно\n",
    "\n",
    "\n",
    "    "
   ]
  },
  {
   "cell_type": "markdown",
   "metadata": {},
   "source": [
    "## Шаг 4. Исследовательский анализ данных"
   ]
  },
  {
   "cell_type": "markdown",
   "metadata": {},
   "source": [
    "### 4.1 Распределение количества событий на пользователя в разрезе групп теста: постройте гистограмму распределения этой величины в разрезе групп и сравните её средние значения между собой у групп теста;"
   ]
  },
  {
   "cell_type": "code",
   "execution_count": 59,
   "metadata": {},
   "outputs": [
    {
     "data": {
      "text/html": [
       "<div>\n",
       "<style scoped>\n",
       "    .dataframe tbody tr th:only-of-type {\n",
       "        vertical-align: middle;\n",
       "    }\n",
       "\n",
       "    .dataframe tbody tr th {\n",
       "        vertical-align: top;\n",
       "    }\n",
       "\n",
       "    .dataframe thead th {\n",
       "        text-align: right;\n",
       "    }\n",
       "</style>\n",
       "<table border=\"1\" class=\"dataframe\">\n",
       "  <thead>\n",
       "    <tr style=\"text-align: right;\">\n",
       "      <th></th>\n",
       "      <th>user_id</th>\n",
       "      <th>events_count</th>\n",
       "    </tr>\n",
       "  </thead>\n",
       "  <tbody>\n",
       "    <tr>\n",
       "      <th>0</th>\n",
       "      <td>0010A1C096941592</td>\n",
       "      <td>12</td>\n",
       "    </tr>\n",
       "    <tr>\n",
       "      <th>1</th>\n",
       "      <td>00341D8401F0F665</td>\n",
       "      <td>2</td>\n",
       "    </tr>\n",
       "    <tr>\n",
       "      <th>2</th>\n",
       "      <td>003DF44D7589BBD4</td>\n",
       "      <td>15</td>\n",
       "    </tr>\n",
       "    <tr>\n",
       "      <th>3</th>\n",
       "      <td>00505E15A9D81546</td>\n",
       "      <td>5</td>\n",
       "    </tr>\n",
       "    <tr>\n",
       "      <th>4</th>\n",
       "      <td>005E096DBD379BCF</td>\n",
       "      <td>4</td>\n",
       "    </tr>\n",
       "  </tbody>\n",
       "</table>\n",
       "</div>"
      ],
      "text/plain": [
       "            user_id  events_count\n",
       "0  0010A1C096941592  12          \n",
       "1  00341D8401F0F665  2           \n",
       "2  003DF44D7589BBD4  15          \n",
       "3  00505E15A9D81546  5           \n",
       "4  005E096DBD379BCF  4           "
      ]
     },
     "execution_count": 59,
     "metadata": {},
     "output_type": "execute_result"
    }
   ],
   "source": [
    "#посчитаем для каждого юзера сколько дейсвтий он совершил\n",
    "events_count_table = df.groupby(['user_id'])['event_name'].agg('count').reset_index().rename(columns={'event_name': 'events_count'})\n",
    "events_count_table.head()"
   ]
  },
  {
   "cell_type": "code",
   "execution_count": 60,
   "metadata": {},
   "outputs": [
    {
     "data": {
      "text/html": [
       "<div>\n",
       "<style scoped>\n",
       "    .dataframe tbody tr th:only-of-type {\n",
       "        vertical-align: middle;\n",
       "    }\n",
       "\n",
       "    .dataframe tbody tr th {\n",
       "        vertical-align: top;\n",
       "    }\n",
       "\n",
       "    .dataframe thead th {\n",
       "        text-align: right;\n",
       "    }\n",
       "</style>\n",
       "<table border=\"1\" class=\"dataframe\">\n",
       "  <thead>\n",
       "    <tr style=\"text-align: right;\">\n",
       "      <th></th>\n",
       "      <th>user_id</th>\n",
       "      <th>first_date</th>\n",
       "      <th>region</th>\n",
       "      <th>device</th>\n",
       "      <th>group</th>\n",
       "      <th>ab_test</th>\n",
       "      <th>event_dt</th>\n",
       "      <th>event_name</th>\n",
       "      <th>details</th>\n",
       "      <th>lifetime</th>\n",
       "      <th>event_date</th>\n",
       "      <th>events_count</th>\n",
       "    </tr>\n",
       "  </thead>\n",
       "  <tbody>\n",
       "    <tr>\n",
       "      <th>0</th>\n",
       "      <td>D72A72121175D8BE</td>\n",
       "      <td>2020-12-07</td>\n",
       "      <td>EU</td>\n",
       "      <td>PC</td>\n",
       "      <td>A</td>\n",
       "      <td>recommender_system_test</td>\n",
       "      <td>2020-12-07 21:52:10</td>\n",
       "      <td>product_page</td>\n",
       "      <td>NaN</td>\n",
       "      <td>0</td>\n",
       "      <td>2020-12-07</td>\n",
       "      <td>2</td>\n",
       "    </tr>\n",
       "    <tr>\n",
       "      <th>1</th>\n",
       "      <td>D72A72121175D8BE</td>\n",
       "      <td>2020-12-07</td>\n",
       "      <td>EU</td>\n",
       "      <td>PC</td>\n",
       "      <td>A</td>\n",
       "      <td>recommender_system_test</td>\n",
       "      <td>2020-12-07 21:52:07</td>\n",
       "      <td>login</td>\n",
       "      <td>NaN</td>\n",
       "      <td>0</td>\n",
       "      <td>2020-12-07</td>\n",
       "      <td>2</td>\n",
       "    </tr>\n",
       "    <tr>\n",
       "      <th>2</th>\n",
       "      <td>DD4352CDCF8C3D57</td>\n",
       "      <td>2020-12-07</td>\n",
       "      <td>EU</td>\n",
       "      <td>Android</td>\n",
       "      <td>B</td>\n",
       "      <td>recommender_system_test</td>\n",
       "      <td>2020-12-07 15:32:54</td>\n",
       "      <td>product_page</td>\n",
       "      <td>NaN</td>\n",
       "      <td>0</td>\n",
       "      <td>2020-12-07</td>\n",
       "      <td>10</td>\n",
       "    </tr>\n",
       "    <tr>\n",
       "      <th>3</th>\n",
       "      <td>DD4352CDCF8C3D57</td>\n",
       "      <td>2020-12-07</td>\n",
       "      <td>EU</td>\n",
       "      <td>Android</td>\n",
       "      <td>B</td>\n",
       "      <td>recommender_system_test</td>\n",
       "      <td>2020-12-08 08:29:31</td>\n",
       "      <td>product_page</td>\n",
       "      <td>NaN</td>\n",
       "      <td>1</td>\n",
       "      <td>2020-12-08</td>\n",
       "      <td>10</td>\n",
       "    </tr>\n",
       "    <tr>\n",
       "      <th>4</th>\n",
       "      <td>DD4352CDCF8C3D57</td>\n",
       "      <td>2020-12-07</td>\n",
       "      <td>EU</td>\n",
       "      <td>Android</td>\n",
       "      <td>B</td>\n",
       "      <td>recommender_system_test</td>\n",
       "      <td>2020-12-10 18:18:27</td>\n",
       "      <td>product_page</td>\n",
       "      <td>NaN</td>\n",
       "      <td>3</td>\n",
       "      <td>2020-12-10</td>\n",
       "      <td>10</td>\n",
       "    </tr>\n",
       "  </tbody>\n",
       "</table>\n",
       "</div>"
      ],
      "text/plain": [
       "            user_id first_date region   device group                  ab_test  \\\n",
       "0  D72A72121175D8BE 2020-12-07  EU     PC       A     recommender_system_test   \n",
       "1  D72A72121175D8BE 2020-12-07  EU     PC       A     recommender_system_test   \n",
       "2  DD4352CDCF8C3D57 2020-12-07  EU     Android  B     recommender_system_test   \n",
       "3  DD4352CDCF8C3D57 2020-12-07  EU     Android  B     recommender_system_test   \n",
       "4  DD4352CDCF8C3D57 2020-12-07  EU     Android  B     recommender_system_test   \n",
       "\n",
       "             event_dt    event_name  details  lifetime  event_date  \\\n",
       "0 2020-12-07 21:52:10  product_page NaN       0         2020-12-07   \n",
       "1 2020-12-07 21:52:07  login        NaN       0         2020-12-07   \n",
       "2 2020-12-07 15:32:54  product_page NaN       0         2020-12-07   \n",
       "3 2020-12-08 08:29:31  product_page NaN       1         2020-12-08   \n",
       "4 2020-12-10 18:18:27  product_page NaN       3         2020-12-10   \n",
       "\n",
       "   events_count  \n",
       "0  2             \n",
       "1  2             \n",
       "2  10            \n",
       "3  10            \n",
       "4  10            "
      ]
     },
     "execution_count": 60,
     "metadata": {},
     "output_type": "execute_result"
    }
   ],
   "source": [
    "# добавим новый стобец в дафтрейм\n",
    "df = df.merge(events_count_table, on='user_id')\n",
    "df.head()"
   ]
  },
  {
   "cell_type": "code",
   "execution_count": 61,
   "metadata": {},
   "outputs": [
    {
     "data": {
      "text/html": [
       "<div>\n",
       "<style scoped>\n",
       "    .dataframe tbody tr th:only-of-type {\n",
       "        vertical-align: middle;\n",
       "    }\n",
       "\n",
       "    .dataframe tbody tr th {\n",
       "        vertical-align: top;\n",
       "    }\n",
       "\n",
       "    .dataframe thead th {\n",
       "        text-align: right;\n",
       "    }\n",
       "</style>\n",
       "<table border=\"1\" class=\"dataframe\">\n",
       "  <thead>\n",
       "    <tr style=\"text-align: right;\">\n",
       "      <th></th>\n",
       "      <th>events_count</th>\n",
       "      <th>group</th>\n",
       "      <th>user_id</th>\n",
       "    </tr>\n",
       "  </thead>\n",
       "  <tbody>\n",
       "    <tr>\n",
       "      <th>0</th>\n",
       "      <td>1</td>\n",
       "      <td>A</td>\n",
       "      <td>28</td>\n",
       "    </tr>\n",
       "    <tr>\n",
       "      <th>1</th>\n",
       "      <td>1</td>\n",
       "      <td>B</td>\n",
       "      <td>20</td>\n",
       "    </tr>\n",
       "    <tr>\n",
       "      <th>2</th>\n",
       "      <td>2</td>\n",
       "      <td>A</td>\n",
       "      <td>173</td>\n",
       "    </tr>\n",
       "    <tr>\n",
       "      <th>3</th>\n",
       "      <td>2</td>\n",
       "      <td>B</td>\n",
       "      <td>102</td>\n",
       "    </tr>\n",
       "    <tr>\n",
       "      <th>4</th>\n",
       "      <td>3</td>\n",
       "      <td>A</td>\n",
       "      <td>204</td>\n",
       "    </tr>\n",
       "  </tbody>\n",
       "</table>\n",
       "</div>"
      ],
      "text/plain": [
       "   events_count group  user_id\n",
       "0  1             A     28     \n",
       "1  1             B     20     \n",
       "2  2             A     173    \n",
       "3  2             B     102    \n",
       "4  3             A     204    "
      ]
     },
     "execution_count": 61,
     "metadata": {},
     "output_type": "execute_result"
    }
   ],
   "source": [
    "# соберем табличку для графика\n",
    "temp_table = df.drop_duplicates(subset=['user_id', 'events_count']).groupby(['events_count', 'group'])['user_id'].count().reset_index()\n",
    "temp_table.head()"
   ]
  },
  {
   "cell_type": "code",
   "execution_count": 62,
   "metadata": {},
   "outputs": [
    {
     "data": {
      "application/vnd.plotly.v1+json": {
       "config": {
        "plotlyServerURL": "https://plot.ly"
       },
       "data": [
        {
         "name": "Группа A",
         "type": "bar",
         "x": [
          1,
          2,
          3,
          4,
          5,
          6,
          7,
          8,
          9,
          10,
          11,
          12,
          13,
          14,
          15,
          16,
          18,
          20,
          21,
          24
         ],
         "y": [
          28,
          173,
          204,
          384,
          36,
          497,
          1,
          280,
          229,
          78,
          2,
          216,
          1,
          10,
          68,
          31,
          17,
          20,
          2,
          2
         ]
        },
        {
         "name": "Группа B",
         "type": "bar",
         "x": [
          1,
          2,
          3,
          4,
          5,
          6,
          7,
          8,
          9,
          10,
          11,
          12,
          13,
          14,
          15,
          16,
          20,
          21,
          24
         ],
         "y": [
          20,
          102,
          119,
          159,
          19,
          158,
          5,
          61,
          60,
          19,
          2,
          33,
          1,
          1,
          4,
          1,
          4,
          1,
          2
         ]
        }
       ],
       "layout": {
        "barmode": "group",
        "height": 700,
        "template": {
         "data": {
          "bar": [
           {
            "error_x": {
             "color": "#2a3f5f"
            },
            "error_y": {
             "color": "#2a3f5f"
            },
            "marker": {
             "line": {
              "color": "#E5ECF6",
              "width": 0.5
             },
             "pattern": {
              "fillmode": "overlay",
              "size": 10,
              "solidity": 0.2
             }
            },
            "type": "bar"
           }
          ],
          "barpolar": [
           {
            "marker": {
             "line": {
              "color": "#E5ECF6",
              "width": 0.5
             },
             "pattern": {
              "fillmode": "overlay",
              "size": 10,
              "solidity": 0.2
             }
            },
            "type": "barpolar"
           }
          ],
          "carpet": [
           {
            "aaxis": {
             "endlinecolor": "#2a3f5f",
             "gridcolor": "white",
             "linecolor": "white",
             "minorgridcolor": "white",
             "startlinecolor": "#2a3f5f"
            },
            "baxis": {
             "endlinecolor": "#2a3f5f",
             "gridcolor": "white",
             "linecolor": "white",
             "minorgridcolor": "white",
             "startlinecolor": "#2a3f5f"
            },
            "type": "carpet"
           }
          ],
          "choropleth": [
           {
            "colorbar": {
             "outlinewidth": 0,
             "ticks": ""
            },
            "type": "choropleth"
           }
          ],
          "contour": [
           {
            "colorbar": {
             "outlinewidth": 0,
             "ticks": ""
            },
            "colorscale": [
             [
              0,
              "#0d0887"
             ],
             [
              0.1111111111111111,
              "#46039f"
             ],
             [
              0.2222222222222222,
              "#7201a8"
             ],
             [
              0.3333333333333333,
              "#9c179e"
             ],
             [
              0.4444444444444444,
              "#bd3786"
             ],
             [
              0.5555555555555556,
              "#d8576b"
             ],
             [
              0.6666666666666666,
              "#ed7953"
             ],
             [
              0.7777777777777778,
              "#fb9f3a"
             ],
             [
              0.8888888888888888,
              "#fdca26"
             ],
             [
              1,
              "#f0f921"
             ]
            ],
            "type": "contour"
           }
          ],
          "contourcarpet": [
           {
            "colorbar": {
             "outlinewidth": 0,
             "ticks": ""
            },
            "type": "contourcarpet"
           }
          ],
          "heatmap": [
           {
            "colorbar": {
             "outlinewidth": 0,
             "ticks": ""
            },
            "colorscale": [
             [
              0,
              "#0d0887"
             ],
             [
              0.1111111111111111,
              "#46039f"
             ],
             [
              0.2222222222222222,
              "#7201a8"
             ],
             [
              0.3333333333333333,
              "#9c179e"
             ],
             [
              0.4444444444444444,
              "#bd3786"
             ],
             [
              0.5555555555555556,
              "#d8576b"
             ],
             [
              0.6666666666666666,
              "#ed7953"
             ],
             [
              0.7777777777777778,
              "#fb9f3a"
             ],
             [
              0.8888888888888888,
              "#fdca26"
             ],
             [
              1,
              "#f0f921"
             ]
            ],
            "type": "heatmap"
           }
          ],
          "heatmapgl": [
           {
            "colorbar": {
             "outlinewidth": 0,
             "ticks": ""
            },
            "colorscale": [
             [
              0,
              "#0d0887"
             ],
             [
              0.1111111111111111,
              "#46039f"
             ],
             [
              0.2222222222222222,
              "#7201a8"
             ],
             [
              0.3333333333333333,
              "#9c179e"
             ],
             [
              0.4444444444444444,
              "#bd3786"
             ],
             [
              0.5555555555555556,
              "#d8576b"
             ],
             [
              0.6666666666666666,
              "#ed7953"
             ],
             [
              0.7777777777777778,
              "#fb9f3a"
             ],
             [
              0.8888888888888888,
              "#fdca26"
             ],
             [
              1,
              "#f0f921"
             ]
            ],
            "type": "heatmapgl"
           }
          ],
          "histogram": [
           {
            "marker": {
             "pattern": {
              "fillmode": "overlay",
              "size": 10,
              "solidity": 0.2
             }
            },
            "type": "histogram"
           }
          ],
          "histogram2d": [
           {
            "colorbar": {
             "outlinewidth": 0,
             "ticks": ""
            },
            "colorscale": [
             [
              0,
              "#0d0887"
             ],
             [
              0.1111111111111111,
              "#46039f"
             ],
             [
              0.2222222222222222,
              "#7201a8"
             ],
             [
              0.3333333333333333,
              "#9c179e"
             ],
             [
              0.4444444444444444,
              "#bd3786"
             ],
             [
              0.5555555555555556,
              "#d8576b"
             ],
             [
              0.6666666666666666,
              "#ed7953"
             ],
             [
              0.7777777777777778,
              "#fb9f3a"
             ],
             [
              0.8888888888888888,
              "#fdca26"
             ],
             [
              1,
              "#f0f921"
             ]
            ],
            "type": "histogram2d"
           }
          ],
          "histogram2dcontour": [
           {
            "colorbar": {
             "outlinewidth": 0,
             "ticks": ""
            },
            "colorscale": [
             [
              0,
              "#0d0887"
             ],
             [
              0.1111111111111111,
              "#46039f"
             ],
             [
              0.2222222222222222,
              "#7201a8"
             ],
             [
              0.3333333333333333,
              "#9c179e"
             ],
             [
              0.4444444444444444,
              "#bd3786"
             ],
             [
              0.5555555555555556,
              "#d8576b"
             ],
             [
              0.6666666666666666,
              "#ed7953"
             ],
             [
              0.7777777777777778,
              "#fb9f3a"
             ],
             [
              0.8888888888888888,
              "#fdca26"
             ],
             [
              1,
              "#f0f921"
             ]
            ],
            "type": "histogram2dcontour"
           }
          ],
          "mesh3d": [
           {
            "colorbar": {
             "outlinewidth": 0,
             "ticks": ""
            },
            "type": "mesh3d"
           }
          ],
          "parcoords": [
           {
            "line": {
             "colorbar": {
              "outlinewidth": 0,
              "ticks": ""
             }
            },
            "type": "parcoords"
           }
          ],
          "pie": [
           {
            "automargin": true,
            "type": "pie"
           }
          ],
          "scatter": [
           {
            "fillpattern": {
             "fillmode": "overlay",
             "size": 10,
             "solidity": 0.2
            },
            "type": "scatter"
           }
          ],
          "scatter3d": [
           {
            "line": {
             "colorbar": {
              "outlinewidth": 0,
              "ticks": ""
             }
            },
            "marker": {
             "colorbar": {
              "outlinewidth": 0,
              "ticks": ""
             }
            },
            "type": "scatter3d"
           }
          ],
          "scattercarpet": [
           {
            "marker": {
             "colorbar": {
              "outlinewidth": 0,
              "ticks": ""
             }
            },
            "type": "scattercarpet"
           }
          ],
          "scattergeo": [
           {
            "marker": {
             "colorbar": {
              "outlinewidth": 0,
              "ticks": ""
             }
            },
            "type": "scattergeo"
           }
          ],
          "scattergl": [
           {
            "marker": {
             "colorbar": {
              "outlinewidth": 0,
              "ticks": ""
             }
            },
            "type": "scattergl"
           }
          ],
          "scattermapbox": [
           {
            "marker": {
             "colorbar": {
              "outlinewidth": 0,
              "ticks": ""
             }
            },
            "type": "scattermapbox"
           }
          ],
          "scatterpolar": [
           {
            "marker": {
             "colorbar": {
              "outlinewidth": 0,
              "ticks": ""
             }
            },
            "type": "scatterpolar"
           }
          ],
          "scatterpolargl": [
           {
            "marker": {
             "colorbar": {
              "outlinewidth": 0,
              "ticks": ""
             }
            },
            "type": "scatterpolargl"
           }
          ],
          "scatterternary": [
           {
            "marker": {
             "colorbar": {
              "outlinewidth": 0,
              "ticks": ""
             }
            },
            "type": "scatterternary"
           }
          ],
          "surface": [
           {
            "colorbar": {
             "outlinewidth": 0,
             "ticks": ""
            },
            "colorscale": [
             [
              0,
              "#0d0887"
             ],
             [
              0.1111111111111111,
              "#46039f"
             ],
             [
              0.2222222222222222,
              "#7201a8"
             ],
             [
              0.3333333333333333,
              "#9c179e"
             ],
             [
              0.4444444444444444,
              "#bd3786"
             ],
             [
              0.5555555555555556,
              "#d8576b"
             ],
             [
              0.6666666666666666,
              "#ed7953"
             ],
             [
              0.7777777777777778,
              "#fb9f3a"
             ],
             [
              0.8888888888888888,
              "#fdca26"
             ],
             [
              1,
              "#f0f921"
             ]
            ],
            "type": "surface"
           }
          ],
          "table": [
           {
            "cells": {
             "fill": {
              "color": "#EBF0F8"
             },
             "line": {
              "color": "white"
             }
            },
            "header": {
             "fill": {
              "color": "#C8D4E3"
             },
             "line": {
              "color": "white"
             }
            },
            "type": "table"
           }
          ]
         },
         "layout": {
          "annotationdefaults": {
           "arrowcolor": "#2a3f5f",
           "arrowhead": 0,
           "arrowwidth": 1
          },
          "autotypenumbers": "strict",
          "coloraxis": {
           "colorbar": {
            "outlinewidth": 0,
            "ticks": ""
           }
          },
          "colorscale": {
           "diverging": [
            [
             0,
             "#8e0152"
            ],
            [
             0.1,
             "#c51b7d"
            ],
            [
             0.2,
             "#de77ae"
            ],
            [
             0.3,
             "#f1b6da"
            ],
            [
             0.4,
             "#fde0ef"
            ],
            [
             0.5,
             "#f7f7f7"
            ],
            [
             0.6,
             "#e6f5d0"
            ],
            [
             0.7,
             "#b8e186"
            ],
            [
             0.8,
             "#7fbc41"
            ],
            [
             0.9,
             "#4d9221"
            ],
            [
             1,
             "#276419"
            ]
           ],
           "sequential": [
            [
             0,
             "#0d0887"
            ],
            [
             0.1111111111111111,
             "#46039f"
            ],
            [
             0.2222222222222222,
             "#7201a8"
            ],
            [
             0.3333333333333333,
             "#9c179e"
            ],
            [
             0.4444444444444444,
             "#bd3786"
            ],
            [
             0.5555555555555556,
             "#d8576b"
            ],
            [
             0.6666666666666666,
             "#ed7953"
            ],
            [
             0.7777777777777778,
             "#fb9f3a"
            ],
            [
             0.8888888888888888,
             "#fdca26"
            ],
            [
             1,
             "#f0f921"
            ]
           ],
           "sequentialminus": [
            [
             0,
             "#0d0887"
            ],
            [
             0.1111111111111111,
             "#46039f"
            ],
            [
             0.2222222222222222,
             "#7201a8"
            ],
            [
             0.3333333333333333,
             "#9c179e"
            ],
            [
             0.4444444444444444,
             "#bd3786"
            ],
            [
             0.5555555555555556,
             "#d8576b"
            ],
            [
             0.6666666666666666,
             "#ed7953"
            ],
            [
             0.7777777777777778,
             "#fb9f3a"
            ],
            [
             0.8888888888888888,
             "#fdca26"
            ],
            [
             1,
             "#f0f921"
            ]
           ]
          },
          "colorway": [
           "#636efa",
           "#EF553B",
           "#00cc96",
           "#ab63fa",
           "#FFA15A",
           "#19d3f3",
           "#FF6692",
           "#B6E880",
           "#FF97FF",
           "#FECB52"
          ],
          "font": {
           "color": "#2a3f5f"
          },
          "geo": {
           "bgcolor": "white",
           "lakecolor": "white",
           "landcolor": "#E5ECF6",
           "showlakes": true,
           "showland": true,
           "subunitcolor": "white"
          },
          "hoverlabel": {
           "align": "left"
          },
          "hovermode": "closest",
          "mapbox": {
           "style": "light"
          },
          "paper_bgcolor": "white",
          "plot_bgcolor": "#E5ECF6",
          "polar": {
           "angularaxis": {
            "gridcolor": "white",
            "linecolor": "white",
            "ticks": ""
           },
           "bgcolor": "#E5ECF6",
           "radialaxis": {
            "gridcolor": "white",
            "linecolor": "white",
            "ticks": ""
           }
          },
          "scene": {
           "xaxis": {
            "backgroundcolor": "#E5ECF6",
            "gridcolor": "white",
            "gridwidth": 2,
            "linecolor": "white",
            "showbackground": true,
            "ticks": "",
            "zerolinecolor": "white"
           },
           "yaxis": {
            "backgroundcolor": "#E5ECF6",
            "gridcolor": "white",
            "gridwidth": 2,
            "linecolor": "white",
            "showbackground": true,
            "ticks": "",
            "zerolinecolor": "white"
           },
           "zaxis": {
            "backgroundcolor": "#E5ECF6",
            "gridcolor": "white",
            "gridwidth": 2,
            "linecolor": "white",
            "showbackground": true,
            "ticks": "",
            "zerolinecolor": "white"
           }
          },
          "shapedefaults": {
           "line": {
            "color": "#2a3f5f"
           }
          },
          "ternary": {
           "aaxis": {
            "gridcolor": "white",
            "linecolor": "white",
            "ticks": ""
           },
           "baxis": {
            "gridcolor": "white",
            "linecolor": "white",
            "ticks": ""
           },
           "bgcolor": "#E5ECF6",
           "caxis": {
            "gridcolor": "white",
            "linecolor": "white",
            "ticks": ""
           }
          },
          "title": {
           "x": 0.05
          },
          "xaxis": {
           "automargin": true,
           "gridcolor": "white",
           "linecolor": "white",
           "ticks": "",
           "title": {
            "standoff": 15
           },
           "zerolinecolor": "white",
           "zerolinewidth": 2
          },
          "yaxis": {
           "automargin": true,
           "gridcolor": "white",
           "linecolor": "white",
           "ticks": "",
           "title": {
            "standoff": 15
           },
           "zerolinecolor": "white",
           "zerolinewidth": 2
          }
         }
        },
        "title": {
         "text": "Распределение количества событий на пользователя в разрезе групп теста"
        },
        "width": 950,
        "xaxis": {
         "title": {
          "text": "Количество событий на пользователя"
         }
        },
        "yaxis": {
         "title": {
          "text": "Количество пользователей"
         }
        }
       }
      }
     },
     "metadata": {},
     "output_type": "display_data"
    }
   ],
   "source": [
    "fig = go.Figure(data=[\n",
    "    go.Bar(name='Группа A', x=temp_table[temp_table['group']=='A']['events_count'], y=temp_table[temp_table['group']=='A']['user_id']),\n",
    "    go.Bar(name='Группа B', x=temp_table[temp_table['group']=='B']['events_count'], y=temp_table[temp_table['group']=='B']['user_id'])\n",
    "])\n",
    "fig.update_layout(barmode='group',\n",
    "                  title='Распределение количества событий на пользователя в разрезе групп теста',\n",
    "                  width=950,\n",
    "                  height=700,\n",
    "                  xaxis_title='Количество событий на пользователя',\n",
    "                  yaxis_title='Количество пользователей')\n",
    "\n",
    "fig.show()"
   ]
  },
  {
   "cell_type": "code",
   "execution_count": 63,
   "metadata": {},
   "outputs": [
    {
     "data": {
      "text/html": [
       "<div>\n",
       "<style scoped>\n",
       "    .dataframe tbody tr th:only-of-type {\n",
       "        vertical-align: middle;\n",
       "    }\n",
       "\n",
       "    .dataframe tbody tr th {\n",
       "        vertical-align: top;\n",
       "    }\n",
       "\n",
       "    .dataframe thead th {\n",
       "        text-align: right;\n",
       "    }\n",
       "</style>\n",
       "<table border=\"1\" class=\"dataframe\">\n",
       "  <thead>\n",
       "    <tr style=\"text-align: right;\">\n",
       "      <th></th>\n",
       "      <th>count</th>\n",
       "      <th>mean</th>\n",
       "      <th>std</th>\n",
       "      <th>min</th>\n",
       "      <th>25%</th>\n",
       "      <th>50%</th>\n",
       "      <th>75%</th>\n",
       "      <th>max</th>\n",
       "    </tr>\n",
       "    <tr>\n",
       "      <th>group</th>\n",
       "      <th></th>\n",
       "      <th></th>\n",
       "      <th></th>\n",
       "      <th></th>\n",
       "      <th></th>\n",
       "      <th></th>\n",
       "      <th></th>\n",
       "      <th></th>\n",
       "    </tr>\n",
       "  </thead>\n",
       "  <tbody>\n",
       "    <tr>\n",
       "      <th>A</th>\n",
       "      <td>2279.00</td>\n",
       "      <td>6.96</td>\n",
       "      <td>3.85</td>\n",
       "      <td>1.00</td>\n",
       "      <td>4.00</td>\n",
       "      <td>6.00</td>\n",
       "      <td>9.00</td>\n",
       "      <td>24.00</td>\n",
       "    </tr>\n",
       "    <tr>\n",
       "      <th>B</th>\n",
       "      <td>771.00</td>\n",
       "      <td>5.43</td>\n",
       "      <td>3.25</td>\n",
       "      <td>1.00</td>\n",
       "      <td>3.00</td>\n",
       "      <td>4.00</td>\n",
       "      <td>7.00</td>\n",
       "      <td>24.00</td>\n",
       "    </tr>\n",
       "  </tbody>\n",
       "</table>\n",
       "</div>"
      ],
      "text/plain": [
       "        count  mean  std  min  25%  50%  75%   max\n",
       "group                                             \n",
       "A     2279.00 6.96  3.85 1.00 4.00 6.00 9.00 24.00\n",
       "B     771.00  5.43  3.25 1.00 3.00 4.00 7.00 24.00"
      ]
     },
     "execution_count": 63,
     "metadata": {},
     "output_type": "execute_result"
    }
   ],
   "source": [
    "df.drop_duplicates(subset=['user_id', 'events_count']).groupby('group')['events_count'].describe()"
   ]
  },
  {
   "cell_type": "markdown",
   "metadata": {},
   "source": [
    "#### Вывод \n",
    "Пользователи группы А совершают больше действий, чем пользователи группы B, при чем, среднеарифметический и медианный показатель разнится почти в полтора раза"
   ]
  },
  {
   "cell_type": "markdown",
   "metadata": {},
   "source": [
    "### 4.2 Динамика количества событий в группах теста по дням: изучите распределение числа событий по дням и сравните динамику групп теста между собой."
   ]
  },
  {
   "cell_type": "markdown",
   "metadata": {},
   "source": [
    "<div id=\"div_id1\">\n",
    "\n",
    "\n",
    "- Этот блок описан в пункте 3.6 [⬆ тут](#1)"
   ]
  },
  {
   "cell_type": "markdown",
   "metadata": {},
   "source": [
    "### 4.3 Оценка динамики регистрации"
   ]
  },
  {
   "cell_type": "code",
   "execution_count": 64,
   "metadata": {},
   "outputs": [
    {
     "data": {
      "text/html": [
       "<div>\n",
       "<style scoped>\n",
       "    .dataframe tbody tr th:only-of-type {\n",
       "        vertical-align: middle;\n",
       "    }\n",
       "\n",
       "    .dataframe tbody tr th {\n",
       "        vertical-align: top;\n",
       "    }\n",
       "\n",
       "    .dataframe thead th {\n",
       "        text-align: right;\n",
       "    }\n",
       "</style>\n",
       "<table border=\"1\" class=\"dataframe\">\n",
       "  <thead>\n",
       "    <tr style=\"text-align: right;\">\n",
       "      <th></th>\n",
       "      <th>first_date</th>\n",
       "      <th>count_user_a</th>\n",
       "      <th>count_user_b</th>\n",
       "    </tr>\n",
       "  </thead>\n",
       "  <tbody>\n",
       "    <tr>\n",
       "      <th>0</th>\n",
       "      <td>2020-12-07</td>\n",
       "      <td>794</td>\n",
       "      <td>987</td>\n",
       "    </tr>\n",
       "    <tr>\n",
       "      <th>1</th>\n",
       "      <td>2020-12-08</td>\n",
       "      <td>525</td>\n",
       "      <td>188</td>\n",
       "    </tr>\n",
       "    <tr>\n",
       "      <th>2</th>\n",
       "      <td>2020-12-09</td>\n",
       "      <td>471</td>\n",
       "      <td>374</td>\n",
       "    </tr>\n",
       "    <tr>\n",
       "      <th>3</th>\n",
       "      <td>2020-12-10</td>\n",
       "      <td>253</td>\n",
       "      <td>129</td>\n",
       "    </tr>\n",
       "    <tr>\n",
       "      <th>4</th>\n",
       "      <td>2020-12-11</td>\n",
       "      <td>443</td>\n",
       "      <td>63</td>\n",
       "    </tr>\n",
       "    <tr>\n",
       "      <th>5</th>\n",
       "      <td>2020-12-12</td>\n",
       "      <td>273</td>\n",
       "      <td>220</td>\n",
       "    </tr>\n",
       "    <tr>\n",
       "      <th>6</th>\n",
       "      <td>2020-12-13</td>\n",
       "      <td>205</td>\n",
       "      <td>36</td>\n",
       "    </tr>\n",
       "    <tr>\n",
       "      <th>7</th>\n",
       "      <td>2020-12-14</td>\n",
       "      <td>2539</td>\n",
       "      <td>301</td>\n",
       "    </tr>\n",
       "    <tr>\n",
       "      <th>8</th>\n",
       "      <td>2020-12-15</td>\n",
       "      <td>1396</td>\n",
       "      <td>123</td>\n",
       "    </tr>\n",
       "    <tr>\n",
       "      <th>9</th>\n",
       "      <td>2020-12-16</td>\n",
       "      <td>1047</td>\n",
       "      <td>612</td>\n",
       "    </tr>\n",
       "    <tr>\n",
       "      <th>10</th>\n",
       "      <td>2020-12-17</td>\n",
       "      <td>1307</td>\n",
       "      <td>136</td>\n",
       "    </tr>\n",
       "    <tr>\n",
       "      <th>11</th>\n",
       "      <td>2020-12-18</td>\n",
       "      <td>1432</td>\n",
       "      <td>220</td>\n",
       "    </tr>\n",
       "    <tr>\n",
       "      <th>12</th>\n",
       "      <td>2020-12-19</td>\n",
       "      <td>1358</td>\n",
       "      <td>164</td>\n",
       "    </tr>\n",
       "    <tr>\n",
       "      <th>13</th>\n",
       "      <td>2020-12-20</td>\n",
       "      <td>1531</td>\n",
       "      <td>269</td>\n",
       "    </tr>\n",
       "    <tr>\n",
       "      <th>14</th>\n",
       "      <td>2020-12-21</td>\n",
       "      <td>2277</td>\n",
       "      <td>361</td>\n",
       "    </tr>\n",
       "  </tbody>\n",
       "</table>\n",
       "</div>"
      ],
      "text/plain": [
       "   first_date  count_user_a  count_user_b\n",
       "0  2020-12-07  794           987         \n",
       "1  2020-12-08  525           188         \n",
       "2  2020-12-09  471           374         \n",
       "3  2020-12-10  253           129         \n",
       "4  2020-12-11  443           63          \n",
       "5  2020-12-12  273           220         \n",
       "6  2020-12-13  205           36          \n",
       "7  2020-12-14  2539          301         \n",
       "8  2020-12-15  1396          123         \n",
       "9  2020-12-16  1047          612         \n",
       "10 2020-12-17  1307          136         \n",
       "11 2020-12-18  1432          220         \n",
       "12 2020-12-19  1358          164         \n",
       "13 2020-12-20  1531          269         \n",
       "14 2020-12-21  2277          361         "
      ]
     },
     "execution_count": 64,
     "metadata": {},
     "output_type": "execute_result"
    }
   ],
   "source": [
    "# разобьем на группы \n",
    "temp_table_a = df[(df['group'] == 'A')].groupby(['first_date'])['user_id'].agg('count').reset_index().rename(columns={'user_id': 'count_user_a'})\n",
    "temp_table_b = df[(df['group'] == 'B')].groupby(['first_date'])['user_id'].agg('count').reset_index().rename(columns={'user_id': 'count_user_b'})\n",
    "temp_table = temp_table_a.merge(temp_table_b, on='first_date', how='outer')\n",
    "temp_table"
   ]
  },
  {
   "cell_type": "code",
   "execution_count": 65,
   "metadata": {},
   "outputs": [
    {
     "data": {
      "application/vnd.plotly.v1+json": {
       "config": {
        "plotlyServerURL": "https://plot.ly"
       },
       "data": [
        {
         "name": "Группа A",
         "type": "bar",
         "x": [
          "2020-12-07T00:00:00",
          "2020-12-08T00:00:00",
          "2020-12-09T00:00:00",
          "2020-12-10T00:00:00",
          "2020-12-11T00:00:00",
          "2020-12-12T00:00:00",
          "2020-12-13T00:00:00",
          "2020-12-14T00:00:00",
          "2020-12-15T00:00:00",
          "2020-12-16T00:00:00",
          "2020-12-17T00:00:00",
          "2020-12-18T00:00:00",
          "2020-12-19T00:00:00",
          "2020-12-20T00:00:00",
          "2020-12-21T00:00:00"
         ],
         "y": [
          794,
          525,
          471,
          253,
          443,
          273,
          205,
          2539,
          1396,
          1047,
          1307,
          1432,
          1358,
          1531,
          2277
         ]
        },
        {
         "name": "Группа B",
         "type": "bar",
         "x": [
          "2020-12-07T00:00:00",
          "2020-12-08T00:00:00",
          "2020-12-09T00:00:00",
          "2020-12-10T00:00:00",
          "2020-12-11T00:00:00",
          "2020-12-12T00:00:00",
          "2020-12-13T00:00:00",
          "2020-12-14T00:00:00",
          "2020-12-15T00:00:00",
          "2020-12-16T00:00:00",
          "2020-12-17T00:00:00",
          "2020-12-18T00:00:00",
          "2020-12-19T00:00:00",
          "2020-12-20T00:00:00",
          "2020-12-21T00:00:00"
         ],
         "y": [
          987,
          188,
          374,
          129,
          63,
          220,
          36,
          301,
          123,
          612,
          136,
          220,
          164,
          269,
          361
         ]
        }
       ],
       "layout": {
        "barmode": "group",
        "height": 700,
        "template": {
         "data": {
          "bar": [
           {
            "error_x": {
             "color": "#2a3f5f"
            },
            "error_y": {
             "color": "#2a3f5f"
            },
            "marker": {
             "line": {
              "color": "#E5ECF6",
              "width": 0.5
             },
             "pattern": {
              "fillmode": "overlay",
              "size": 10,
              "solidity": 0.2
             }
            },
            "type": "bar"
           }
          ],
          "barpolar": [
           {
            "marker": {
             "line": {
              "color": "#E5ECF6",
              "width": 0.5
             },
             "pattern": {
              "fillmode": "overlay",
              "size": 10,
              "solidity": 0.2
             }
            },
            "type": "barpolar"
           }
          ],
          "carpet": [
           {
            "aaxis": {
             "endlinecolor": "#2a3f5f",
             "gridcolor": "white",
             "linecolor": "white",
             "minorgridcolor": "white",
             "startlinecolor": "#2a3f5f"
            },
            "baxis": {
             "endlinecolor": "#2a3f5f",
             "gridcolor": "white",
             "linecolor": "white",
             "minorgridcolor": "white",
             "startlinecolor": "#2a3f5f"
            },
            "type": "carpet"
           }
          ],
          "choropleth": [
           {
            "colorbar": {
             "outlinewidth": 0,
             "ticks": ""
            },
            "type": "choropleth"
           }
          ],
          "contour": [
           {
            "colorbar": {
             "outlinewidth": 0,
             "ticks": ""
            },
            "colorscale": [
             [
              0,
              "#0d0887"
             ],
             [
              0.1111111111111111,
              "#46039f"
             ],
             [
              0.2222222222222222,
              "#7201a8"
             ],
             [
              0.3333333333333333,
              "#9c179e"
             ],
             [
              0.4444444444444444,
              "#bd3786"
             ],
             [
              0.5555555555555556,
              "#d8576b"
             ],
             [
              0.6666666666666666,
              "#ed7953"
             ],
             [
              0.7777777777777778,
              "#fb9f3a"
             ],
             [
              0.8888888888888888,
              "#fdca26"
             ],
             [
              1,
              "#f0f921"
             ]
            ],
            "type": "contour"
           }
          ],
          "contourcarpet": [
           {
            "colorbar": {
             "outlinewidth": 0,
             "ticks": ""
            },
            "type": "contourcarpet"
           }
          ],
          "heatmap": [
           {
            "colorbar": {
             "outlinewidth": 0,
             "ticks": ""
            },
            "colorscale": [
             [
              0,
              "#0d0887"
             ],
             [
              0.1111111111111111,
              "#46039f"
             ],
             [
              0.2222222222222222,
              "#7201a8"
             ],
             [
              0.3333333333333333,
              "#9c179e"
             ],
             [
              0.4444444444444444,
              "#bd3786"
             ],
             [
              0.5555555555555556,
              "#d8576b"
             ],
             [
              0.6666666666666666,
              "#ed7953"
             ],
             [
              0.7777777777777778,
              "#fb9f3a"
             ],
             [
              0.8888888888888888,
              "#fdca26"
             ],
             [
              1,
              "#f0f921"
             ]
            ],
            "type": "heatmap"
           }
          ],
          "heatmapgl": [
           {
            "colorbar": {
             "outlinewidth": 0,
             "ticks": ""
            },
            "colorscale": [
             [
              0,
              "#0d0887"
             ],
             [
              0.1111111111111111,
              "#46039f"
             ],
             [
              0.2222222222222222,
              "#7201a8"
             ],
             [
              0.3333333333333333,
              "#9c179e"
             ],
             [
              0.4444444444444444,
              "#bd3786"
             ],
             [
              0.5555555555555556,
              "#d8576b"
             ],
             [
              0.6666666666666666,
              "#ed7953"
             ],
             [
              0.7777777777777778,
              "#fb9f3a"
             ],
             [
              0.8888888888888888,
              "#fdca26"
             ],
             [
              1,
              "#f0f921"
             ]
            ],
            "type": "heatmapgl"
           }
          ],
          "histogram": [
           {
            "marker": {
             "pattern": {
              "fillmode": "overlay",
              "size": 10,
              "solidity": 0.2
             }
            },
            "type": "histogram"
           }
          ],
          "histogram2d": [
           {
            "colorbar": {
             "outlinewidth": 0,
             "ticks": ""
            },
            "colorscale": [
             [
              0,
              "#0d0887"
             ],
             [
              0.1111111111111111,
              "#46039f"
             ],
             [
              0.2222222222222222,
              "#7201a8"
             ],
             [
              0.3333333333333333,
              "#9c179e"
             ],
             [
              0.4444444444444444,
              "#bd3786"
             ],
             [
              0.5555555555555556,
              "#d8576b"
             ],
             [
              0.6666666666666666,
              "#ed7953"
             ],
             [
              0.7777777777777778,
              "#fb9f3a"
             ],
             [
              0.8888888888888888,
              "#fdca26"
             ],
             [
              1,
              "#f0f921"
             ]
            ],
            "type": "histogram2d"
           }
          ],
          "histogram2dcontour": [
           {
            "colorbar": {
             "outlinewidth": 0,
             "ticks": ""
            },
            "colorscale": [
             [
              0,
              "#0d0887"
             ],
             [
              0.1111111111111111,
              "#46039f"
             ],
             [
              0.2222222222222222,
              "#7201a8"
             ],
             [
              0.3333333333333333,
              "#9c179e"
             ],
             [
              0.4444444444444444,
              "#bd3786"
             ],
             [
              0.5555555555555556,
              "#d8576b"
             ],
             [
              0.6666666666666666,
              "#ed7953"
             ],
             [
              0.7777777777777778,
              "#fb9f3a"
             ],
             [
              0.8888888888888888,
              "#fdca26"
             ],
             [
              1,
              "#f0f921"
             ]
            ],
            "type": "histogram2dcontour"
           }
          ],
          "mesh3d": [
           {
            "colorbar": {
             "outlinewidth": 0,
             "ticks": ""
            },
            "type": "mesh3d"
           }
          ],
          "parcoords": [
           {
            "line": {
             "colorbar": {
              "outlinewidth": 0,
              "ticks": ""
             }
            },
            "type": "parcoords"
           }
          ],
          "pie": [
           {
            "automargin": true,
            "type": "pie"
           }
          ],
          "scatter": [
           {
            "fillpattern": {
             "fillmode": "overlay",
             "size": 10,
             "solidity": 0.2
            },
            "type": "scatter"
           }
          ],
          "scatter3d": [
           {
            "line": {
             "colorbar": {
              "outlinewidth": 0,
              "ticks": ""
             }
            },
            "marker": {
             "colorbar": {
              "outlinewidth": 0,
              "ticks": ""
             }
            },
            "type": "scatter3d"
           }
          ],
          "scattercarpet": [
           {
            "marker": {
             "colorbar": {
              "outlinewidth": 0,
              "ticks": ""
             }
            },
            "type": "scattercarpet"
           }
          ],
          "scattergeo": [
           {
            "marker": {
             "colorbar": {
              "outlinewidth": 0,
              "ticks": ""
             }
            },
            "type": "scattergeo"
           }
          ],
          "scattergl": [
           {
            "marker": {
             "colorbar": {
              "outlinewidth": 0,
              "ticks": ""
             }
            },
            "type": "scattergl"
           }
          ],
          "scattermapbox": [
           {
            "marker": {
             "colorbar": {
              "outlinewidth": 0,
              "ticks": ""
             }
            },
            "type": "scattermapbox"
           }
          ],
          "scatterpolar": [
           {
            "marker": {
             "colorbar": {
              "outlinewidth": 0,
              "ticks": ""
             }
            },
            "type": "scatterpolar"
           }
          ],
          "scatterpolargl": [
           {
            "marker": {
             "colorbar": {
              "outlinewidth": 0,
              "ticks": ""
             }
            },
            "type": "scatterpolargl"
           }
          ],
          "scatterternary": [
           {
            "marker": {
             "colorbar": {
              "outlinewidth": 0,
              "ticks": ""
             }
            },
            "type": "scatterternary"
           }
          ],
          "surface": [
           {
            "colorbar": {
             "outlinewidth": 0,
             "ticks": ""
            },
            "colorscale": [
             [
              0,
              "#0d0887"
             ],
             [
              0.1111111111111111,
              "#46039f"
             ],
             [
              0.2222222222222222,
              "#7201a8"
             ],
             [
              0.3333333333333333,
              "#9c179e"
             ],
             [
              0.4444444444444444,
              "#bd3786"
             ],
             [
              0.5555555555555556,
              "#d8576b"
             ],
             [
              0.6666666666666666,
              "#ed7953"
             ],
             [
              0.7777777777777778,
              "#fb9f3a"
             ],
             [
              0.8888888888888888,
              "#fdca26"
             ],
             [
              1,
              "#f0f921"
             ]
            ],
            "type": "surface"
           }
          ],
          "table": [
           {
            "cells": {
             "fill": {
              "color": "#EBF0F8"
             },
             "line": {
              "color": "white"
             }
            },
            "header": {
             "fill": {
              "color": "#C8D4E3"
             },
             "line": {
              "color": "white"
             }
            },
            "type": "table"
           }
          ]
         },
         "layout": {
          "annotationdefaults": {
           "arrowcolor": "#2a3f5f",
           "arrowhead": 0,
           "arrowwidth": 1
          },
          "autotypenumbers": "strict",
          "coloraxis": {
           "colorbar": {
            "outlinewidth": 0,
            "ticks": ""
           }
          },
          "colorscale": {
           "diverging": [
            [
             0,
             "#8e0152"
            ],
            [
             0.1,
             "#c51b7d"
            ],
            [
             0.2,
             "#de77ae"
            ],
            [
             0.3,
             "#f1b6da"
            ],
            [
             0.4,
             "#fde0ef"
            ],
            [
             0.5,
             "#f7f7f7"
            ],
            [
             0.6,
             "#e6f5d0"
            ],
            [
             0.7,
             "#b8e186"
            ],
            [
             0.8,
             "#7fbc41"
            ],
            [
             0.9,
             "#4d9221"
            ],
            [
             1,
             "#276419"
            ]
           ],
           "sequential": [
            [
             0,
             "#0d0887"
            ],
            [
             0.1111111111111111,
             "#46039f"
            ],
            [
             0.2222222222222222,
             "#7201a8"
            ],
            [
             0.3333333333333333,
             "#9c179e"
            ],
            [
             0.4444444444444444,
             "#bd3786"
            ],
            [
             0.5555555555555556,
             "#d8576b"
            ],
            [
             0.6666666666666666,
             "#ed7953"
            ],
            [
             0.7777777777777778,
             "#fb9f3a"
            ],
            [
             0.8888888888888888,
             "#fdca26"
            ],
            [
             1,
             "#f0f921"
            ]
           ],
           "sequentialminus": [
            [
             0,
             "#0d0887"
            ],
            [
             0.1111111111111111,
             "#46039f"
            ],
            [
             0.2222222222222222,
             "#7201a8"
            ],
            [
             0.3333333333333333,
             "#9c179e"
            ],
            [
             0.4444444444444444,
             "#bd3786"
            ],
            [
             0.5555555555555556,
             "#d8576b"
            ],
            [
             0.6666666666666666,
             "#ed7953"
            ],
            [
             0.7777777777777778,
             "#fb9f3a"
            ],
            [
             0.8888888888888888,
             "#fdca26"
            ],
            [
             1,
             "#f0f921"
            ]
           ]
          },
          "colorway": [
           "#636efa",
           "#EF553B",
           "#00cc96",
           "#ab63fa",
           "#FFA15A",
           "#19d3f3",
           "#FF6692",
           "#B6E880",
           "#FF97FF",
           "#FECB52"
          ],
          "font": {
           "color": "#2a3f5f"
          },
          "geo": {
           "bgcolor": "white",
           "lakecolor": "white",
           "landcolor": "#E5ECF6",
           "showlakes": true,
           "showland": true,
           "subunitcolor": "white"
          },
          "hoverlabel": {
           "align": "left"
          },
          "hovermode": "closest",
          "mapbox": {
           "style": "light"
          },
          "paper_bgcolor": "white",
          "plot_bgcolor": "#E5ECF6",
          "polar": {
           "angularaxis": {
            "gridcolor": "white",
            "linecolor": "white",
            "ticks": ""
           },
           "bgcolor": "#E5ECF6",
           "radialaxis": {
            "gridcolor": "white",
            "linecolor": "white",
            "ticks": ""
           }
          },
          "scene": {
           "xaxis": {
            "backgroundcolor": "#E5ECF6",
            "gridcolor": "white",
            "gridwidth": 2,
            "linecolor": "white",
            "showbackground": true,
            "ticks": "",
            "zerolinecolor": "white"
           },
           "yaxis": {
            "backgroundcolor": "#E5ECF6",
            "gridcolor": "white",
            "gridwidth": 2,
            "linecolor": "white",
            "showbackground": true,
            "ticks": "",
            "zerolinecolor": "white"
           },
           "zaxis": {
            "backgroundcolor": "#E5ECF6",
            "gridcolor": "white",
            "gridwidth": 2,
            "linecolor": "white",
            "showbackground": true,
            "ticks": "",
            "zerolinecolor": "white"
           }
          },
          "shapedefaults": {
           "line": {
            "color": "#2a3f5f"
           }
          },
          "ternary": {
           "aaxis": {
            "gridcolor": "white",
            "linecolor": "white",
            "ticks": ""
           },
           "baxis": {
            "gridcolor": "white",
            "linecolor": "white",
            "ticks": ""
           },
           "bgcolor": "#E5ECF6",
           "caxis": {
            "gridcolor": "white",
            "linecolor": "white",
            "ticks": ""
           }
          },
          "title": {
           "x": 0.05
          },
          "xaxis": {
           "automargin": true,
           "gridcolor": "white",
           "linecolor": "white",
           "ticks": "",
           "title": {
            "standoff": 15
           },
           "zerolinecolor": "white",
           "zerolinewidth": 2
          },
          "yaxis": {
           "automargin": true,
           "gridcolor": "white",
           "linecolor": "white",
           "ticks": "",
           "title": {
            "standoff": 15
           },
           "zerolinecolor": "white",
           "zerolinewidth": 2
          }
         }
        },
        "title": {
         "text": "Распределение регистраций пользователей без действий по дням по группам"
        },
        "width": 950,
        "xaxis": {
         "title": {
          "text": "Дата"
         }
        },
        "yaxis": {
         "title": {
          "text": "Количество регистраций"
         }
        }
       }
      }
     },
     "metadata": {},
     "output_type": "display_data"
    }
   ],
   "source": [
    "fig = go.Figure(data=[\n",
    "    go.Bar(name='Группа A', x=temp_table['first_date'], y=temp_table['count_user_a']),\n",
    "    go.Bar(name='Группа B', x=temp_table['first_date'], y=temp_table['count_user_b'])\n",
    "])\n",
    "fig.update_layout(barmode='group',\n",
    "                  title='Распределение регистраций пользователей без действий по дням по группам',\n",
    "                  width=950,\n",
    "                  height=700,\n",
    "                  xaxis_title='Дата',\n",
    "                  yaxis_title='Количество регистраций')\n",
    "fig.show()"
   ]
  },
  {
   "cell_type": "markdown",
   "metadata": {},
   "source": [
    "На мой взгляд, по этому графику трудно оценить динамику, нужно смотреть в абсолютном отношении:"
   ]
  },
  {
   "cell_type": "code",
   "execution_count": 66,
   "metadata": {},
   "outputs": [],
   "source": [
    "# добавим долевое отношение \n",
    "temp_table['ratio_a'] = temp_table['count_user_a'] / sum(temp_table['count_user_a'])*100\n",
    "temp_table['ratio_b'] = temp_table['count_user_b'] / sum(temp_table['count_user_b'])*100"
   ]
  },
  {
   "cell_type": "code",
   "execution_count": 67,
   "metadata": {},
   "outputs": [
    {
     "data": {
      "application/vnd.plotly.v1+json": {
       "config": {
        "plotlyServerURL": "https://plot.ly"
       },
       "data": [
        {
         "name": "Группа A",
         "type": "bar",
         "x": [
          "2020-12-07T00:00:00",
          "2020-12-08T00:00:00",
          "2020-12-09T00:00:00",
          "2020-12-10T00:00:00",
          "2020-12-11T00:00:00",
          "2020-12-12T00:00:00",
          "2020-12-13T00:00:00",
          "2020-12-14T00:00:00",
          "2020-12-15T00:00:00",
          "2020-12-16T00:00:00",
          "2020-12-17T00:00:00",
          "2020-12-18T00:00:00",
          "2020-12-19T00:00:00",
          "2020-12-20T00:00:00",
          "2020-12-21T00:00:00"
         ],
         "y": [
          5.009147687843038,
          3.31209387420352,
          2.971421361428301,
          1.5961138098542678,
          2.7947763548041133,
          1.7222888145858306,
          1.2932937984985176,
          16.01791685067188,
          8.807015330263075,
          6.605261497697307,
          8.24553655920762,
          9.034130338779887,
          8.567282821273107,
          9.658696612201123,
          14.36502428868841
         ]
        },
        {
         "name": "Группа B",
         "type": "bar",
         "x": [
          "2020-12-07T00:00:00",
          "2020-12-08T00:00:00",
          "2020-12-09T00:00:00",
          "2020-12-10T00:00:00",
          "2020-12-11T00:00:00",
          "2020-12-12T00:00:00",
          "2020-12-13T00:00:00",
          "2020-12-14T00:00:00",
          "2020-12-15T00:00:00",
          "2020-12-16T00:00:00",
          "2020-12-17T00:00:00",
          "2020-12-18T00:00:00",
          "2020-12-19T00:00:00",
          "2020-12-20T00:00:00",
          "2020-12-21T00:00:00"
         ],
         "y": [
          23.595505617977526,
          4.49438202247191,
          8.940951470236671,
          3.0839110686110445,
          1.5060961032751614,
          5.259383217786278,
          0.8606263447286636,
          7.19579249342577,
          2.9404733444896007,
          14.630647860387283,
          3.2512550800860627,
          5.259383217786278,
          3.920631125986134,
          6.430791298111403,
          8.63016973464021
         ]
        }
       ],
       "layout": {
        "barmode": "group",
        "height": 700,
        "template": {
         "data": {
          "bar": [
           {
            "error_x": {
             "color": "#2a3f5f"
            },
            "error_y": {
             "color": "#2a3f5f"
            },
            "marker": {
             "line": {
              "color": "#E5ECF6",
              "width": 0.5
             },
             "pattern": {
              "fillmode": "overlay",
              "size": 10,
              "solidity": 0.2
             }
            },
            "type": "bar"
           }
          ],
          "barpolar": [
           {
            "marker": {
             "line": {
              "color": "#E5ECF6",
              "width": 0.5
             },
             "pattern": {
              "fillmode": "overlay",
              "size": 10,
              "solidity": 0.2
             }
            },
            "type": "barpolar"
           }
          ],
          "carpet": [
           {
            "aaxis": {
             "endlinecolor": "#2a3f5f",
             "gridcolor": "white",
             "linecolor": "white",
             "minorgridcolor": "white",
             "startlinecolor": "#2a3f5f"
            },
            "baxis": {
             "endlinecolor": "#2a3f5f",
             "gridcolor": "white",
             "linecolor": "white",
             "minorgridcolor": "white",
             "startlinecolor": "#2a3f5f"
            },
            "type": "carpet"
           }
          ],
          "choropleth": [
           {
            "colorbar": {
             "outlinewidth": 0,
             "ticks": ""
            },
            "type": "choropleth"
           }
          ],
          "contour": [
           {
            "colorbar": {
             "outlinewidth": 0,
             "ticks": ""
            },
            "colorscale": [
             [
              0,
              "#0d0887"
             ],
             [
              0.1111111111111111,
              "#46039f"
             ],
             [
              0.2222222222222222,
              "#7201a8"
             ],
             [
              0.3333333333333333,
              "#9c179e"
             ],
             [
              0.4444444444444444,
              "#bd3786"
             ],
             [
              0.5555555555555556,
              "#d8576b"
             ],
             [
              0.6666666666666666,
              "#ed7953"
             ],
             [
              0.7777777777777778,
              "#fb9f3a"
             ],
             [
              0.8888888888888888,
              "#fdca26"
             ],
             [
              1,
              "#f0f921"
             ]
            ],
            "type": "contour"
           }
          ],
          "contourcarpet": [
           {
            "colorbar": {
             "outlinewidth": 0,
             "ticks": ""
            },
            "type": "contourcarpet"
           }
          ],
          "heatmap": [
           {
            "colorbar": {
             "outlinewidth": 0,
             "ticks": ""
            },
            "colorscale": [
             [
              0,
              "#0d0887"
             ],
             [
              0.1111111111111111,
              "#46039f"
             ],
             [
              0.2222222222222222,
              "#7201a8"
             ],
             [
              0.3333333333333333,
              "#9c179e"
             ],
             [
              0.4444444444444444,
              "#bd3786"
             ],
             [
              0.5555555555555556,
              "#d8576b"
             ],
             [
              0.6666666666666666,
              "#ed7953"
             ],
             [
              0.7777777777777778,
              "#fb9f3a"
             ],
             [
              0.8888888888888888,
              "#fdca26"
             ],
             [
              1,
              "#f0f921"
             ]
            ],
            "type": "heatmap"
           }
          ],
          "heatmapgl": [
           {
            "colorbar": {
             "outlinewidth": 0,
             "ticks": ""
            },
            "colorscale": [
             [
              0,
              "#0d0887"
             ],
             [
              0.1111111111111111,
              "#46039f"
             ],
             [
              0.2222222222222222,
              "#7201a8"
             ],
             [
              0.3333333333333333,
              "#9c179e"
             ],
             [
              0.4444444444444444,
              "#bd3786"
             ],
             [
              0.5555555555555556,
              "#d8576b"
             ],
             [
              0.6666666666666666,
              "#ed7953"
             ],
             [
              0.7777777777777778,
              "#fb9f3a"
             ],
             [
              0.8888888888888888,
              "#fdca26"
             ],
             [
              1,
              "#f0f921"
             ]
            ],
            "type": "heatmapgl"
           }
          ],
          "histogram": [
           {
            "marker": {
             "pattern": {
              "fillmode": "overlay",
              "size": 10,
              "solidity": 0.2
             }
            },
            "type": "histogram"
           }
          ],
          "histogram2d": [
           {
            "colorbar": {
             "outlinewidth": 0,
             "ticks": ""
            },
            "colorscale": [
             [
              0,
              "#0d0887"
             ],
             [
              0.1111111111111111,
              "#46039f"
             ],
             [
              0.2222222222222222,
              "#7201a8"
             ],
             [
              0.3333333333333333,
              "#9c179e"
             ],
             [
              0.4444444444444444,
              "#bd3786"
             ],
             [
              0.5555555555555556,
              "#d8576b"
             ],
             [
              0.6666666666666666,
              "#ed7953"
             ],
             [
              0.7777777777777778,
              "#fb9f3a"
             ],
             [
              0.8888888888888888,
              "#fdca26"
             ],
             [
              1,
              "#f0f921"
             ]
            ],
            "type": "histogram2d"
           }
          ],
          "histogram2dcontour": [
           {
            "colorbar": {
             "outlinewidth": 0,
             "ticks": ""
            },
            "colorscale": [
             [
              0,
              "#0d0887"
             ],
             [
              0.1111111111111111,
              "#46039f"
             ],
             [
              0.2222222222222222,
              "#7201a8"
             ],
             [
              0.3333333333333333,
              "#9c179e"
             ],
             [
              0.4444444444444444,
              "#bd3786"
             ],
             [
              0.5555555555555556,
              "#d8576b"
             ],
             [
              0.6666666666666666,
              "#ed7953"
             ],
             [
              0.7777777777777778,
              "#fb9f3a"
             ],
             [
              0.8888888888888888,
              "#fdca26"
             ],
             [
              1,
              "#f0f921"
             ]
            ],
            "type": "histogram2dcontour"
           }
          ],
          "mesh3d": [
           {
            "colorbar": {
             "outlinewidth": 0,
             "ticks": ""
            },
            "type": "mesh3d"
           }
          ],
          "parcoords": [
           {
            "line": {
             "colorbar": {
              "outlinewidth": 0,
              "ticks": ""
             }
            },
            "type": "parcoords"
           }
          ],
          "pie": [
           {
            "automargin": true,
            "type": "pie"
           }
          ],
          "scatter": [
           {
            "fillpattern": {
             "fillmode": "overlay",
             "size": 10,
             "solidity": 0.2
            },
            "type": "scatter"
           }
          ],
          "scatter3d": [
           {
            "line": {
             "colorbar": {
              "outlinewidth": 0,
              "ticks": ""
             }
            },
            "marker": {
             "colorbar": {
              "outlinewidth": 0,
              "ticks": ""
             }
            },
            "type": "scatter3d"
           }
          ],
          "scattercarpet": [
           {
            "marker": {
             "colorbar": {
              "outlinewidth": 0,
              "ticks": ""
             }
            },
            "type": "scattercarpet"
           }
          ],
          "scattergeo": [
           {
            "marker": {
             "colorbar": {
              "outlinewidth": 0,
              "ticks": ""
             }
            },
            "type": "scattergeo"
           }
          ],
          "scattergl": [
           {
            "marker": {
             "colorbar": {
              "outlinewidth": 0,
              "ticks": ""
             }
            },
            "type": "scattergl"
           }
          ],
          "scattermapbox": [
           {
            "marker": {
             "colorbar": {
              "outlinewidth": 0,
              "ticks": ""
             }
            },
            "type": "scattermapbox"
           }
          ],
          "scatterpolar": [
           {
            "marker": {
             "colorbar": {
              "outlinewidth": 0,
              "ticks": ""
             }
            },
            "type": "scatterpolar"
           }
          ],
          "scatterpolargl": [
           {
            "marker": {
             "colorbar": {
              "outlinewidth": 0,
              "ticks": ""
             }
            },
            "type": "scatterpolargl"
           }
          ],
          "scatterternary": [
           {
            "marker": {
             "colorbar": {
              "outlinewidth": 0,
              "ticks": ""
             }
            },
            "type": "scatterternary"
           }
          ],
          "surface": [
           {
            "colorbar": {
             "outlinewidth": 0,
             "ticks": ""
            },
            "colorscale": [
             [
              0,
              "#0d0887"
             ],
             [
              0.1111111111111111,
              "#46039f"
             ],
             [
              0.2222222222222222,
              "#7201a8"
             ],
             [
              0.3333333333333333,
              "#9c179e"
             ],
             [
              0.4444444444444444,
              "#bd3786"
             ],
             [
              0.5555555555555556,
              "#d8576b"
             ],
             [
              0.6666666666666666,
              "#ed7953"
             ],
             [
              0.7777777777777778,
              "#fb9f3a"
             ],
             [
              0.8888888888888888,
              "#fdca26"
             ],
             [
              1,
              "#f0f921"
             ]
            ],
            "type": "surface"
           }
          ],
          "table": [
           {
            "cells": {
             "fill": {
              "color": "#EBF0F8"
             },
             "line": {
              "color": "white"
             }
            },
            "header": {
             "fill": {
              "color": "#C8D4E3"
             },
             "line": {
              "color": "white"
             }
            },
            "type": "table"
           }
          ]
         },
         "layout": {
          "annotationdefaults": {
           "arrowcolor": "#2a3f5f",
           "arrowhead": 0,
           "arrowwidth": 1
          },
          "autotypenumbers": "strict",
          "coloraxis": {
           "colorbar": {
            "outlinewidth": 0,
            "ticks": ""
           }
          },
          "colorscale": {
           "diverging": [
            [
             0,
             "#8e0152"
            ],
            [
             0.1,
             "#c51b7d"
            ],
            [
             0.2,
             "#de77ae"
            ],
            [
             0.3,
             "#f1b6da"
            ],
            [
             0.4,
             "#fde0ef"
            ],
            [
             0.5,
             "#f7f7f7"
            ],
            [
             0.6,
             "#e6f5d0"
            ],
            [
             0.7,
             "#b8e186"
            ],
            [
             0.8,
             "#7fbc41"
            ],
            [
             0.9,
             "#4d9221"
            ],
            [
             1,
             "#276419"
            ]
           ],
           "sequential": [
            [
             0,
             "#0d0887"
            ],
            [
             0.1111111111111111,
             "#46039f"
            ],
            [
             0.2222222222222222,
             "#7201a8"
            ],
            [
             0.3333333333333333,
             "#9c179e"
            ],
            [
             0.4444444444444444,
             "#bd3786"
            ],
            [
             0.5555555555555556,
             "#d8576b"
            ],
            [
             0.6666666666666666,
             "#ed7953"
            ],
            [
             0.7777777777777778,
             "#fb9f3a"
            ],
            [
             0.8888888888888888,
             "#fdca26"
            ],
            [
             1,
             "#f0f921"
            ]
           ],
           "sequentialminus": [
            [
             0,
             "#0d0887"
            ],
            [
             0.1111111111111111,
             "#46039f"
            ],
            [
             0.2222222222222222,
             "#7201a8"
            ],
            [
             0.3333333333333333,
             "#9c179e"
            ],
            [
             0.4444444444444444,
             "#bd3786"
            ],
            [
             0.5555555555555556,
             "#d8576b"
            ],
            [
             0.6666666666666666,
             "#ed7953"
            ],
            [
             0.7777777777777778,
             "#fb9f3a"
            ],
            [
             0.8888888888888888,
             "#fdca26"
            ],
            [
             1,
             "#f0f921"
            ]
           ]
          },
          "colorway": [
           "#636efa",
           "#EF553B",
           "#00cc96",
           "#ab63fa",
           "#FFA15A",
           "#19d3f3",
           "#FF6692",
           "#B6E880",
           "#FF97FF",
           "#FECB52"
          ],
          "font": {
           "color": "#2a3f5f"
          },
          "geo": {
           "bgcolor": "white",
           "lakecolor": "white",
           "landcolor": "#E5ECF6",
           "showlakes": true,
           "showland": true,
           "subunitcolor": "white"
          },
          "hoverlabel": {
           "align": "left"
          },
          "hovermode": "closest",
          "mapbox": {
           "style": "light"
          },
          "paper_bgcolor": "white",
          "plot_bgcolor": "#E5ECF6",
          "polar": {
           "angularaxis": {
            "gridcolor": "white",
            "linecolor": "white",
            "ticks": ""
           },
           "bgcolor": "#E5ECF6",
           "radialaxis": {
            "gridcolor": "white",
            "linecolor": "white",
            "ticks": ""
           }
          },
          "scene": {
           "xaxis": {
            "backgroundcolor": "#E5ECF6",
            "gridcolor": "white",
            "gridwidth": 2,
            "linecolor": "white",
            "showbackground": true,
            "ticks": "",
            "zerolinecolor": "white"
           },
           "yaxis": {
            "backgroundcolor": "#E5ECF6",
            "gridcolor": "white",
            "gridwidth": 2,
            "linecolor": "white",
            "showbackground": true,
            "ticks": "",
            "zerolinecolor": "white"
           },
           "zaxis": {
            "backgroundcolor": "#E5ECF6",
            "gridcolor": "white",
            "gridwidth": 2,
            "linecolor": "white",
            "showbackground": true,
            "ticks": "",
            "zerolinecolor": "white"
           }
          },
          "shapedefaults": {
           "line": {
            "color": "#2a3f5f"
           }
          },
          "ternary": {
           "aaxis": {
            "gridcolor": "white",
            "linecolor": "white",
            "ticks": ""
           },
           "baxis": {
            "gridcolor": "white",
            "linecolor": "white",
            "ticks": ""
           },
           "bgcolor": "#E5ECF6",
           "caxis": {
            "gridcolor": "white",
            "linecolor": "white",
            "ticks": ""
           }
          },
          "title": {
           "x": 0.05
          },
          "xaxis": {
           "automargin": true,
           "gridcolor": "white",
           "linecolor": "white",
           "ticks": "",
           "title": {
            "standoff": 15
           },
           "zerolinecolor": "white",
           "zerolinewidth": 2
          },
          "yaxis": {
           "automargin": true,
           "gridcolor": "white",
           "linecolor": "white",
           "ticks": "",
           "title": {
            "standoff": 15
           },
           "zerolinecolor": "white",
           "zerolinewidth": 2
          }
         }
        },
        "title": {
         "text": "Распределение регистраций пользователей по дням по группам в долях"
        },
        "width": 950,
        "xaxis": {
         "title": {
          "text": "Дата"
         }
        },
        "yaxis": {
         "title": {
          "text": "Доля от своей группы, %"
         }
        }
       }
      }
     },
     "metadata": {},
     "output_type": "display_data"
    }
   ],
   "source": [
    "fig = go.Figure(data=[\n",
    "    go.Bar(name='Группа A', x=temp_table['first_date'], y=temp_table['ratio_a']),\n",
    "    go.Bar(name='Группа B', x=temp_table['first_date'], y=temp_table['ratio_b'])\n",
    "])\n",
    "fig.update_layout(barmode='group',\n",
    "                  title='Распределение регистраций пользователей по дням по группам в долях',\n",
    "                  width=950,\n",
    "                  height=700,\n",
    "                  xaxis_title='Дата',\n",
    "                  yaxis_title='Доля от своей группы, %')\n",
    "fig.show()"
   ]
  },
  {
   "cell_type": "markdown",
   "metadata": {},
   "source": [
    "##### Вывод \n",
    "По распределению по долям видно, что в первые дни теста пришла весомая доля пользователей их группы `B`, а пользователи группы `А` зарегистрировались уже во второй половине теста"
   ]
  },
  {
   "cell_type": "markdown",
   "metadata": {},
   "source": [
    "### Общий вывод по блоку\n",
    "\n",
    "Проведя исследовательский анализ данных, изучив распределения событий, динамику событий, динамику регистрации пользователей можно сделать вывод, что: \n",
    "* данные распределены не равномерно \n",
    "* набор пользователей проводился в разные дни\n",
    "* среднеарифметические и медианные показатели количества событий на пользователя у группы `A` в полтора раза больше, чем у группы `B`\n",
    "\n"
   ]
  },
  {
   "cell_type": "markdown",
   "metadata": {},
   "source": [
    "## Шаг 5. Проведите оценку результатов A/B-тестирования:\n",
    "Проверьте статистическую разницу долей z-критерием. Что можно сказать про результаты A/B-тестирования? Был ли достигнут ожидаемый эффект в изменении конверсии?\n",
    "\n",
    "Проверим статистическую разницу долей z-критерием на каждом этапе воронки, кропе `sign_up`\n",
    "Нулевая гипотеза (H0): конверсия в следующий этап воронки у группа `А` и у группы `B` - одинаковые\n",
    "\n",
    "Альтернативная гипотеза (H1): конверсия в следующий этап воронки у группа `А` и у группы `B` - разные"
   ]
  },
  {
   "cell_type": "code",
   "execution_count": 68,
   "metadata": {},
   "outputs": [],
   "source": [
    "def z_test(successesA, successesB, trialsA, trialsB, alpha=0.05):\n",
    "    p1 = successesA / trialsA\n",
    "    p2 = successesB / trialsB\n",
    "\n",
    "    p_combined = (successesA + successesB) / (trialsA + trialsB)\n",
    "    difference = p1 - p2\n",
    "\n",
    "    z_value = difference / mth.sqrt(p_combined * (1 - p_combined) * (1/trialsA + 1/trialsB))\n",
    "    distr = st.norm(0, 1)\n",
    "    p_value = (1 - distr.cdf(abs(z_value))) * 2\n",
    "    print('p-значение: ', p_value)\n",
    "\n",
    "    if (p_value < alpha):\n",
    "        display('Отвергаем нулевую гипотезу, между выборками есть статистически значимые различия')\n",
    "    else:\n",
    "        display('Не получилось отвергнуть нулевую гипотезу, статистически значимых различий в выборках нет')"
   ]
  },
  {
   "cell_type": "code",
   "execution_count": 69,
   "metadata": {},
   "outputs": [
    {
     "name": "stdout",
     "output_type": "stream",
     "text": [
      "p-значение:  0.08551328290029048\n"
     ]
    },
    {
     "data": {
      "text/plain": [
       "'Не получилось отвергнуть нулевую гипотезу, статистически значимых различий в выборках нет'"
      ]
     },
     "metadata": {},
     "output_type": "display_data"
    },
    {
     "name": "stdout",
     "output_type": "stream",
     "text": [
      "Конверсия в этап login воронки группы пользователей А: 100.00%\n",
      "Конверсия в этап login воронки группы пользователей B: 99.87%\n"
     ]
    }
   ],
   "source": [
    "#login\n",
    "\n",
    "z_test(successesA=df[(df['group']=='A') & (df['event_name']=='login')]['user_id'].unique().shape[0],\n",
    "       successesB=df[(df['group']=='B') & (df['event_name']=='login')]['user_id'].unique().shape[0],\n",
    "       trialsA=df[df['group']=='A']['user_id'].unique().shape[0], \n",
    "       trialsB=df[df['group']=='B']['user_id'].unique().shape[0], \n",
    "       alpha=0.05)\n",
    "\n",
    "print('Конверсия в этап login воронки группы пользователей А: {:.2f}%'.format(\n",
    "    df[(df['group']=='A') & (df['event_name']=='login')]['user_id'].unique().shape[0] / \n",
    "    df[df['group']=='A']['user_id'].unique().shape[0]*100))\n",
    "\n",
    "print('Конверсия в этап login воронки группы пользователей B: {:.2f}%'.format(\n",
    "    df[(df['group']=='B') & (df['event_name']=='login')]['user_id'].unique().shape[0] /\n",
    "    df[df['group']=='B']['user_id'].unique().shape[0]*100))"
   ]
  },
  {
   "cell_type": "code",
   "execution_count": 70,
   "metadata": {},
   "outputs": [
    {
     "name": "stdout",
     "output_type": "stream",
     "text": [
      "p-значение:  6.120730626113513e-06\n"
     ]
    },
    {
     "data": {
      "text/plain": [
       "'Отвергаем нулевую гипотезу, между выборками есть статистически значимые различия'"
      ]
     },
     "metadata": {},
     "output_type": "display_data"
    },
    {
     "name": "stdout",
     "output_type": "stream",
     "text": [
      "Конверсия в этап product_page воронки группы пользователей А: 64.77%\n",
      "Конверсия в этап product_page воронки группы пользователей B: 55.64%\n"
     ]
    }
   ],
   "source": [
    "#product_page\n",
    "\n",
    "z_test(successesA=df[(df['group']=='A') & (df['event_name']=='product_page')]['user_id'].unique().shape[0],\n",
    "       successesB=df[(df['group']=='B') & (df['event_name']=='product_page')]['user_id'].unique().shape[0],\n",
    "       trialsA=df[df['group']=='A']['user_id'].unique().shape[0], \n",
    "       trialsB=df[df['group']=='B']['user_id'].unique().shape[0], \n",
    "       alpha=0.05)\n",
    "\n",
    "print('Конверсия в этап product_page воронки группы пользователей А: {:.2f}%'.format(\n",
    "    df[(df['group']=='A') & (df['event_name']=='product_page')]['user_id'].unique().shape[0] / \n",
    "    df[df['group']=='A']['user_id'].unique().shape[0]*100))\n",
    "\n",
    "print('Конверсия в этап product_page воронки группы пользователей B: {:.2f}%'.format(\n",
    "    df[(df['group']=='B') & (df['event_name']=='product_page')]['user_id'].unique().shape[0] /\n",
    "    df[df['group']=='B']['user_id'].unique().shape[0]*100))"
   ]
  },
  {
   "cell_type": "code",
   "execution_count": 71,
   "metadata": {},
   "outputs": [
    {
     "name": "stdout",
     "output_type": "stream",
     "text": [
      "p-значение:  0.21721122664962245\n"
     ]
    },
    {
     "data": {
      "text/plain": [
       "'Не получилось отвергнуть нулевую гипотезу, статистически значимых различий в выборках нет'"
      ]
     },
     "metadata": {},
     "output_type": "display_data"
    },
    {
     "name": "stdout",
     "output_type": "stream",
     "text": [
      "Конверсия в этап product_cart воронки группы пользователей А: 30.10%\n",
      "Конверсия в этап product_cart воронки группы пользователей B: 27.76%\n"
     ]
    }
   ],
   "source": [
    "#product_cart\n",
    "z_test(successesA=df[(df['group']=='A') & (df['event_name']=='product_cart')]['user_id'].unique().shape[0],\n",
    "       successesB=df[(df['group']=='B') & (df['event_name']=='product_cart')]['user_id'].unique().shape[0],\n",
    "       trialsA=df[df['group']=='A']['user_id'].unique().shape[0], \n",
    "       trialsB=df[df['group']=='B']['user_id'].unique().shape[0], \n",
    "       alpha=0.05)\n",
    "\n",
    "print('Конверсия в этап product_cart воронки группы пользователей А: {:.2f}%'.format(\n",
    "    df[(df['group']=='A') & (df['event_name']=='product_cart')]['user_id'].unique().shape[0] / \n",
    "    df[df['group']=='A']['user_id'].unique().shape[0]*100))\n",
    "\n",
    "print('Конверсия в этап product_cart воронки группы пользователей B: {:.2f}%'.format(\n",
    "    df[(df['group']=='B') & (df['event_name']=='product_cart')]['user_id'].unique().shape[0] /\n",
    "    df[df['group']=='B']['user_id'].unique().shape[0]*100))"
   ]
  },
  {
   "cell_type": "code",
   "execution_count": 72,
   "metadata": {},
   "outputs": [
    {
     "name": "stdout",
     "output_type": "stream",
     "text": [
      "p-значение:  0.048942596376941205\n"
     ]
    },
    {
     "data": {
      "text/plain": [
       "'Отвергаем нулевую гипотезу, между выборками есть статистически значимые различия'"
      ]
     },
     "metadata": {},
     "output_type": "display_data"
    },
    {
     "name": "stdout",
     "output_type": "stream",
     "text": [
      "Конверсия в этап purchase воронки группы пользователей А: 32.21%\n",
      "Конверсия в этап purchase воронки группы пользователей B: 28.40%\n"
     ]
    }
   ],
   "source": [
    "#purchase\n",
    "z_test(successesA=df[(df['group']=='A') & (df['event_name']=='purchase')]['user_id'].unique().shape[0],\n",
    "       successesB=df[(df['group']=='B') & (df['event_name']=='purchase')]['user_id'].unique().shape[0],\n",
    "       trialsA=df[df['group']=='A']['user_id'].unique().shape[0], \n",
    "       trialsB=df[df['group']=='B']['user_id'].unique().shape[0], \n",
    "       alpha=0.05)\n",
    "\n",
    "print('Конверсия в этап purchase воронки группы пользователей А: {:.2f}%'.format(\n",
    "    df[(df['group']=='A') & (df['event_name']=='purchase')]['user_id'].unique().shape[0] / \n",
    "    df[df['group']=='A']['user_id'].unique().shape[0]*100))\n",
    "\n",
    "print('Конверсия в этап purchase воронки группы пользователей B: {:.2f}%'.format(\n",
    "    df[(df['group']=='B') & (df['event_name']=='purchase')]['user_id'].unique().shape[0] /\n",
    "    df[df['group']=='B']['user_id'].unique().shape[0]*100))"
   ]
  },
  {
   "cell_type": "markdown",
   "metadata": {},
   "source": [
    "## Вывод\n",
    "По итогу, проведя проверку на соответствие данных техническому заданию, исследовательский анализ данных и оценку результатов АБ тестирования можно сделать выводы, что тест был проведен с нарушениями:\n",
    "\n",
    "* даты набора участников для теста в разные группы распределен неравномерно \n",
    "\n",
    "* группы разные по количеству участников \n",
    "* в датафрейме участников были перемешаны новые и старые пользователи \n",
    "* в даты проведения теста проходило маркетинговое событие, которое могло повлиять на результаты\n",
    "* большая доля пользователей не совершило ни одного действия, наблюдается сдвиг в одну из групп\n",
    "* данные для оценки результатов не соответствуют периоду, в который проходил тест\n",
    "* по факту очистки данных у нас осталось `2279` уникальных пользователя контрольной группы и `771` уникальных пользователя экспериментальной группы\n",
    "* стоит отметить, что ожидаемое количество участников теста: `15% `новых пользователей из региона `EU` - сбылось \n",
    "* при этом, ожидаемый эффект: за 14 дней с момента регистрации в системе пользователи покажут улучшение каждой метрики не менее, чем на 5 процентных пунктов не сбылся, конверсия экспериментальной группы хуже контрольной на всех этапах воронки, но учитывая все нарушения при проведении теста и неполноты данных при оценке результатов АБ тестирования - сделать 100% выводы о том, что `recommender_system_test` увеличивает или уменьшает конверсию `нельзя`\n",
    "* нет разницы в выборках только на этапе `product_cart`, отсутствие  различий на этапе `login` возможно, обусловлено тем, что удалялись пользователи без действий\n",
    "\n",
    "Все эти выводы наводят на мысль, что для того, чтобы вынести какой-то вердикт `recommender_system_test` нужно провести тест заново, избегая все допущенные ошибки раннее.\n"
   ]
  }
 ],
 "metadata": {
  "ExecuteTimeLog": [
   {
    "duration": 1461,
    "start_time": "2023-10-12T06:16:48.736Z"
   },
   {
    "duration": 1422,
    "start_time": "2023-10-12T06:16:50.199Z"
   },
   {
    "duration": 5,
    "start_time": "2023-10-12T06:16:51.622Z"
   },
   {
    "duration": 59,
    "start_time": "2023-10-12T06:16:51.630Z"
   },
   {
    "duration": 120,
    "start_time": "2023-10-12T06:16:51.691Z"
   },
   {
    "duration": 62,
    "start_time": "2023-10-12T06:16:51.813Z"
   },
   {
    "duration": 85,
    "start_time": "2023-10-12T06:16:51.877Z"
   },
   {
    "duration": 136,
    "start_time": "2023-10-12T06:16:51.963Z"
   },
   {
    "duration": 16,
    "start_time": "2023-10-12T06:16:52.101Z"
   },
   {
    "duration": 93,
    "start_time": "2023-10-12T06:16:52.120Z"
   },
   {
    "duration": 5,
    "start_time": "2023-10-12T06:16:52.215Z"
   },
   {
    "duration": 43,
    "start_time": "2023-10-12T06:16:52.221Z"
   },
   {
    "duration": 17,
    "start_time": "2023-10-12T06:16:52.268Z"
   },
   {
    "duration": 121,
    "start_time": "2023-10-12T06:16:52.287Z"
   },
   {
    "duration": 87,
    "start_time": "2023-10-12T06:16:52.410Z"
   },
   {
    "duration": 43,
    "start_time": "2023-10-12T06:16:52.499Z"
   },
   {
    "duration": 26,
    "start_time": "2023-10-12T06:16:52.543Z"
   },
   {
    "duration": 45,
    "start_time": "2023-10-12T06:16:52.571Z"
   },
   {
    "duration": 20,
    "start_time": "2023-10-12T06:16:52.617Z"
   },
   {
    "duration": 60,
    "start_time": "2023-10-12T06:16:52.639Z"
   },
   {
    "duration": 23,
    "start_time": "2023-10-12T06:16:52.701Z"
   },
   {
    "duration": 51,
    "start_time": "2023-10-12T06:16:52.726Z"
   },
   {
    "duration": 15,
    "start_time": "2023-10-12T06:16:52.778Z"
   },
   {
    "duration": 20,
    "start_time": "2023-10-12T06:16:52.794Z"
   },
   {
    "duration": 44,
    "start_time": "2023-10-12T06:16:52.815Z"
   },
   {
    "duration": 14,
    "start_time": "2023-10-12T06:16:52.861Z"
   },
   {
    "duration": 47,
    "start_time": "2023-10-12T06:16:52.876Z"
   },
   {
    "duration": 14,
    "start_time": "2023-10-12T06:16:52.927Z"
   },
   {
    "duration": 34,
    "start_time": "2023-10-12T06:16:52.942Z"
   },
   {
    "duration": 20,
    "start_time": "2023-10-12T06:16:52.977Z"
   },
   {
    "duration": 52,
    "start_time": "2023-10-12T06:16:52.999Z"
   },
   {
    "duration": 43,
    "start_time": "2023-10-12T06:16:53.052Z"
   },
   {
    "duration": 46,
    "start_time": "2023-10-12T06:16:53.097Z"
   },
   {
    "duration": 149,
    "start_time": "2023-10-12T06:16:53.145Z"
   },
   {
    "duration": 12,
    "start_time": "2023-10-12T06:16:53.296Z"
   },
   {
    "duration": 78,
    "start_time": "2023-10-12T06:16:53.309Z"
   },
   {
    "duration": 540,
    "start_time": "2023-10-12T06:16:53.388Z"
   },
   {
    "duration": 27,
    "start_time": "2023-10-12T06:16:53.930Z"
   },
   {
    "duration": 331,
    "start_time": "2023-10-12T06:16:53.958Z"
   },
   {
    "duration": 25,
    "start_time": "2023-10-12T06:16:54.291Z"
   },
   {
    "duration": 31,
    "start_time": "2023-10-12T06:16:54.318Z"
   },
   {
    "duration": 10,
    "start_time": "2023-10-12T06:16:54.353Z"
   },
   {
    "duration": 41,
    "start_time": "2023-10-12T06:16:54.370Z"
   },
   {
    "duration": 3,
    "start_time": "2023-10-12T06:16:54.413Z"
   },
   {
    "duration": 15,
    "start_time": "2023-10-12T06:16:54.418Z"
   },
   {
    "duration": 27,
    "start_time": "2023-10-12T06:16:54.434Z"
   },
   {
    "duration": 130,
    "start_time": "2023-10-12T06:16:54.463Z"
   },
   {
    "duration": 206,
    "start_time": "2023-10-12T06:16:54.595Z"
   },
   {
    "duration": 6,
    "start_time": "2023-10-12T06:16:54.802Z"
   },
   {
    "duration": 90,
    "start_time": "2023-10-12T06:16:54.810Z"
   },
   {
    "duration": 67,
    "start_time": "2023-10-12T06:16:54.902Z"
   },
   {
    "duration": 41,
    "start_time": "2023-10-12T06:16:54.971Z"
   },
   {
    "duration": 22,
    "start_time": "2023-10-12T06:16:55.013Z"
   },
   {
    "duration": 85,
    "start_time": "2023-10-12T06:16:55.037Z"
   },
   {
    "duration": 57,
    "start_time": "2023-10-12T06:16:55.123Z"
   },
   {
    "duration": 102,
    "start_time": "2023-10-12T06:16:55.182Z"
   },
   {
    "duration": 26,
    "start_time": "2023-10-12T06:16:55.287Z"
   },
   {
    "duration": 57,
    "start_time": "2023-10-12T06:16:55.315Z"
   },
   {
    "duration": 42,
    "start_time": "2023-10-12T06:16:55.374Z"
   },
   {
    "duration": 49,
    "start_time": "2023-10-12T06:16:55.419Z"
   },
   {
    "duration": 25,
    "start_time": "2023-10-12T06:16:55.470Z"
   },
   {
    "duration": 66,
    "start_time": "2023-10-12T06:16:55.497Z"
   },
   {
    "duration": 74,
    "start_time": "2023-10-12T06:16:55.565Z"
   },
   {
    "duration": 40,
    "start_time": "2023-10-12T06:16:55.641Z"
   },
   {
    "duration": 18,
    "start_time": "2023-10-12T06:16:55.683Z"
   },
   {
    "duration": 26,
    "start_time": "2023-10-12T06:16:55.702Z"
   },
   {
    "duration": 46,
    "start_time": "2023-10-12T06:16:55.729Z"
   },
   {
    "duration": 40,
    "start_time": "2023-10-12T06:16:55.777Z"
   },
   {
    "duration": 75,
    "start_time": "2023-10-12T06:16:55.818Z"
   },
   {
    "duration": 66,
    "start_time": "2023-10-12T06:16:55.894Z"
   },
   {
    "duration": 42,
    "start_time": "2023-10-12T06:16:55.962Z"
   },
   {
    "duration": 55,
    "start_time": "2023-10-12T06:16:56.006Z"
   },
   {
    "duration": 49,
    "start_time": "2023-10-12T06:54:06.050Z"
   },
   {
    "duration": 1527,
    "start_time": "2023-10-12T06:54:13.018Z"
   },
   {
    "duration": 1303,
    "start_time": "2023-10-12T06:54:14.547Z"
   },
   {
    "duration": 5,
    "start_time": "2023-10-12T06:54:15.852Z"
   },
   {
    "duration": 100,
    "start_time": "2023-10-12T06:54:15.859Z"
   },
   {
    "duration": 167,
    "start_time": "2023-10-12T06:54:15.961Z"
   },
   {
    "duration": 576,
    "start_time": "2023-10-12T06:54:16.130Z"
   },
   {
    "duration": 42,
    "start_time": "2023-10-12T06:54:16.708Z"
   },
   {
    "duration": 154,
    "start_time": "2023-10-12T06:54:16.752Z"
   },
   {
    "duration": 16,
    "start_time": "2023-10-12T06:54:16.908Z"
   },
   {
    "duration": 76,
    "start_time": "2023-10-12T06:54:16.927Z"
   },
   {
    "duration": 4,
    "start_time": "2023-10-12T06:54:17.005Z"
   },
   {
    "duration": 41,
    "start_time": "2023-10-12T06:54:17.011Z"
   },
   {
    "duration": 49,
    "start_time": "2023-10-12T06:54:17.054Z"
   },
   {
    "duration": 35,
    "start_time": "2023-10-12T06:54:17.106Z"
   },
   {
    "duration": 41,
    "start_time": "2023-10-12T06:54:17.144Z"
   },
   {
    "duration": 44,
    "start_time": "2023-10-12T06:54:17.187Z"
   },
   {
    "duration": 34,
    "start_time": "2023-10-12T06:54:17.233Z"
   },
   {
    "duration": 20,
    "start_time": "2023-10-12T06:54:17.269Z"
   },
   {
    "duration": 45,
    "start_time": "2023-10-12T06:54:17.290Z"
   },
   {
    "duration": 66,
    "start_time": "2023-10-12T06:54:17.337Z"
   },
   {
    "duration": 49,
    "start_time": "2023-10-12T06:54:17.405Z"
   },
   {
    "duration": 64,
    "start_time": "2023-10-12T06:54:17.456Z"
   },
   {
    "duration": 19,
    "start_time": "2023-10-12T06:54:17.522Z"
   },
   {
    "duration": 27,
    "start_time": "2023-10-12T06:54:17.543Z"
   },
   {
    "duration": 47,
    "start_time": "2023-10-12T06:54:17.571Z"
   },
   {
    "duration": 19,
    "start_time": "2023-10-12T06:54:17.620Z"
   },
   {
    "duration": 53,
    "start_time": "2023-10-12T06:54:17.641Z"
   },
   {
    "duration": 23,
    "start_time": "2023-10-12T06:54:17.699Z"
   },
   {
    "duration": 38,
    "start_time": "2023-10-12T06:54:17.724Z"
   },
   {
    "duration": 18,
    "start_time": "2023-10-12T06:54:17.764Z"
   },
   {
    "duration": 43,
    "start_time": "2023-10-12T06:54:17.784Z"
   },
   {
    "duration": 151,
    "start_time": "2023-10-12T06:54:17.829Z"
   },
   {
    "duration": 35,
    "start_time": "2023-10-12T06:54:17.982Z"
   },
   {
    "duration": 161,
    "start_time": "2023-10-12T06:54:18.020Z"
   },
   {
    "duration": 20,
    "start_time": "2023-10-12T06:54:18.183Z"
   },
   {
    "duration": 44,
    "start_time": "2023-10-12T06:54:18.204Z"
   },
   {
    "duration": 159,
    "start_time": "2023-10-12T06:54:18.250Z"
   },
   {
    "duration": 15,
    "start_time": "2023-10-12T06:54:18.411Z"
   },
   {
    "duration": 419,
    "start_time": "2023-10-12T06:54:18.428Z"
   },
   {
    "duration": 30,
    "start_time": "2023-10-12T06:54:18.848Z"
   },
   {
    "duration": 28,
    "start_time": "2023-10-12T06:54:18.880Z"
   },
   {
    "duration": 32,
    "start_time": "2023-10-12T06:54:18.909Z"
   },
   {
    "duration": 33,
    "start_time": "2023-10-12T06:54:18.943Z"
   },
   {
    "duration": 33,
    "start_time": "2023-10-12T06:54:18.978Z"
   },
   {
    "duration": 41,
    "start_time": "2023-10-12T06:54:19.013Z"
   },
   {
    "duration": 27,
    "start_time": "2023-10-12T06:54:19.057Z"
   },
   {
    "duration": 84,
    "start_time": "2023-10-12T06:54:19.086Z"
   },
   {
    "duration": 167,
    "start_time": "2023-10-12T06:54:19.171Z"
   },
   {
    "duration": 5,
    "start_time": "2023-10-12T06:54:19.340Z"
   },
   {
    "duration": 31,
    "start_time": "2023-10-12T06:54:19.347Z"
   },
   {
    "duration": 39,
    "start_time": "2023-10-12T06:54:19.380Z"
   },
   {
    "duration": 25,
    "start_time": "2023-10-12T06:54:19.421Z"
   },
   {
    "duration": 6,
    "start_time": "2023-10-12T06:54:19.449Z"
   },
   {
    "duration": 20,
    "start_time": "2023-10-12T06:54:19.457Z"
   },
   {
    "duration": 39,
    "start_time": "2023-10-12T06:54:19.479Z"
   },
   {
    "duration": 36,
    "start_time": "2023-10-12T06:54:19.519Z"
   },
   {
    "duration": 24,
    "start_time": "2023-10-12T06:54:19.557Z"
   },
   {
    "duration": 31,
    "start_time": "2023-10-12T06:54:19.582Z"
   },
   {
    "duration": 26,
    "start_time": "2023-10-12T06:54:19.615Z"
   },
   {
    "duration": 26,
    "start_time": "2023-10-12T06:54:19.643Z"
   },
   {
    "duration": 31,
    "start_time": "2023-10-12T06:54:19.671Z"
   },
   {
    "duration": 16,
    "start_time": "2023-10-12T06:54:19.704Z"
   },
   {
    "duration": 43,
    "start_time": "2023-10-12T06:54:19.722Z"
   },
   {
    "duration": 24,
    "start_time": "2023-10-12T06:54:19.767Z"
   },
   {
    "duration": 19,
    "start_time": "2023-10-12T06:54:19.793Z"
   },
   {
    "duration": 10,
    "start_time": "2023-10-12T06:54:19.814Z"
   },
   {
    "duration": 24,
    "start_time": "2023-10-12T06:54:19.826Z"
   },
   {
    "duration": 15,
    "start_time": "2023-10-12T06:54:19.851Z"
   },
   {
    "duration": 57,
    "start_time": "2023-10-12T06:54:19.868Z"
   },
   {
    "duration": 43,
    "start_time": "2023-10-12T06:54:19.927Z"
   },
   {
    "duration": 64,
    "start_time": "2023-10-12T06:54:19.972Z"
   },
   {
    "duration": 63,
    "start_time": "2023-10-12T06:54:20.038Z"
   },
   {
    "duration": 166,
    "start_time": "2023-10-12T07:03:08.997Z"
   },
   {
    "duration": 10,
    "start_time": "2023-10-12T07:03:10.914Z"
   },
   {
    "duration": 53,
    "start_time": "2023-10-12T07:03:11.282Z"
   },
   {
    "duration": 161,
    "start_time": "2023-10-12T07:05:07.937Z"
   },
   {
    "duration": 1497,
    "start_time": "2023-10-12T07:38:47.669Z"
   },
   {
    "duration": 1347,
    "start_time": "2023-10-12T07:38:49.169Z"
   },
   {
    "duration": 5,
    "start_time": "2023-10-12T07:38:50.518Z"
   },
   {
    "duration": 50,
    "start_time": "2023-10-12T07:38:50.525Z"
   },
   {
    "duration": 131,
    "start_time": "2023-10-12T07:38:50.577Z"
   },
   {
    "duration": 549,
    "start_time": "2023-10-12T07:38:50.710Z"
   },
   {
    "duration": 72,
    "start_time": "2023-10-12T07:38:51.261Z"
   },
   {
    "duration": 127,
    "start_time": "2023-10-12T07:38:51.335Z"
   },
   {
    "duration": 15,
    "start_time": "2023-10-12T07:38:51.464Z"
   },
   {
    "duration": 60,
    "start_time": "2023-10-12T07:38:51.501Z"
   },
   {
    "duration": 5,
    "start_time": "2023-10-12T07:38:51.562Z"
   },
   {
    "duration": 18,
    "start_time": "2023-10-12T07:38:51.569Z"
   },
   {
    "duration": 7,
    "start_time": "2023-10-12T07:38:51.601Z"
   },
   {
    "duration": 16,
    "start_time": "2023-10-12T07:38:51.610Z"
   },
   {
    "duration": 16,
    "start_time": "2023-10-12T07:38:51.628Z"
   },
   {
    "duration": 26,
    "start_time": "2023-10-12T07:38:51.646Z"
   },
   {
    "duration": 29,
    "start_time": "2023-10-12T07:38:51.675Z"
   },
   {
    "duration": 12,
    "start_time": "2023-10-12T07:38:51.707Z"
   },
   {
    "duration": 35,
    "start_time": "2023-10-12T07:38:51.721Z"
   },
   {
    "duration": 28,
    "start_time": "2023-10-12T07:38:51.758Z"
   },
   {
    "duration": 41,
    "start_time": "2023-10-12T07:38:51.787Z"
   },
   {
    "duration": 65,
    "start_time": "2023-10-12T07:38:51.829Z"
   },
   {
    "duration": 16,
    "start_time": "2023-10-12T07:38:51.896Z"
   },
   {
    "duration": 20,
    "start_time": "2023-10-12T07:38:51.914Z"
   },
   {
    "duration": 26,
    "start_time": "2023-10-12T07:38:51.935Z"
   },
   {
    "duration": 10,
    "start_time": "2023-10-12T07:38:51.962Z"
   },
   {
    "duration": 64,
    "start_time": "2023-10-12T07:38:51.973Z"
   },
   {
    "duration": 17,
    "start_time": "2023-10-12T07:38:52.043Z"
   },
   {
    "duration": 48,
    "start_time": "2023-10-12T07:38:52.062Z"
   },
   {
    "duration": 16,
    "start_time": "2023-10-12T07:38:52.112Z"
   },
   {
    "duration": 30,
    "start_time": "2023-10-12T07:38:52.130Z"
   },
   {
    "duration": 30,
    "start_time": "2023-10-12T07:38:52.163Z"
   },
   {
    "duration": 44,
    "start_time": "2023-10-12T07:38:52.195Z"
   },
   {
    "duration": 156,
    "start_time": "2023-10-12T07:38:52.241Z"
   },
   {
    "duration": 11,
    "start_time": "2023-10-12T07:38:52.399Z"
   },
   {
    "duration": 53,
    "start_time": "2023-10-12T07:38:52.412Z"
   },
   {
    "duration": 225,
    "start_time": "2023-10-12T07:38:52.467Z"
   },
   {
    "duration": 14,
    "start_time": "2023-10-12T07:38:52.694Z"
   },
   {
    "duration": 332,
    "start_time": "2023-10-12T07:38:52.710Z"
   },
   {
    "duration": 28,
    "start_time": "2023-10-12T07:38:53.043Z"
   },
   {
    "duration": 32,
    "start_time": "2023-10-12T07:38:53.073Z"
   },
   {
    "duration": 18,
    "start_time": "2023-10-12T07:38:53.106Z"
   },
   {
    "duration": 41,
    "start_time": "2023-10-12T07:38:53.126Z"
   },
   {
    "duration": 16,
    "start_time": "2023-10-12T07:38:53.168Z"
   },
   {
    "duration": 31,
    "start_time": "2023-10-12T07:38:53.186Z"
   },
   {
    "duration": 31,
    "start_time": "2023-10-12T07:38:53.219Z"
   },
   {
    "duration": 135,
    "start_time": "2023-10-12T07:38:53.252Z"
   },
   {
    "duration": 180,
    "start_time": "2023-10-12T07:38:53.389Z"
   },
   {
    "duration": 7,
    "start_time": "2023-10-12T07:38:53.571Z"
   },
   {
    "duration": 41,
    "start_time": "2023-10-12T07:38:53.580Z"
   },
   {
    "duration": 109,
    "start_time": "2023-10-12T07:38:53.623Z"
   },
   {
    "duration": 33,
    "start_time": "2023-10-12T07:38:53.735Z"
   },
   {
    "duration": 8,
    "start_time": "2023-10-12T07:38:53.770Z"
   },
   {
    "duration": 21,
    "start_time": "2023-10-12T07:38:53.780Z"
   },
   {
    "duration": 27,
    "start_time": "2023-10-12T07:38:53.802Z"
   },
   {
    "duration": 75,
    "start_time": "2023-10-12T07:38:53.831Z"
   },
   {
    "duration": 22,
    "start_time": "2023-10-12T07:38:53.909Z"
   },
   {
    "duration": 36,
    "start_time": "2023-10-12T07:38:53.934Z"
   },
   {
    "duration": 20,
    "start_time": "2023-10-12T07:38:53.972Z"
   },
   {
    "duration": 37,
    "start_time": "2023-10-12T07:38:53.994Z"
   },
   {
    "duration": 20,
    "start_time": "2023-10-12T07:38:54.034Z"
   },
   {
    "duration": 25,
    "start_time": "2023-10-12T07:38:54.056Z"
   },
   {
    "duration": 41,
    "start_time": "2023-10-12T07:38:54.083Z"
   },
   {
    "duration": 34,
    "start_time": "2023-10-12T07:38:54.126Z"
   },
   {
    "duration": 33,
    "start_time": "2023-10-12T07:38:54.162Z"
   },
   {
    "duration": 70,
    "start_time": "2023-10-12T07:38:54.196Z"
   },
   {
    "duration": 44,
    "start_time": "2023-10-12T07:38:54.268Z"
   },
   {
    "duration": 80,
    "start_time": "2023-10-12T07:38:54.314Z"
   },
   {
    "duration": 81,
    "start_time": "2023-10-12T07:38:54.396Z"
   },
   {
    "duration": 47,
    "start_time": "2023-10-12T07:38:54.479Z"
   },
   {
    "duration": 76,
    "start_time": "2023-10-12T07:38:54.529Z"
   },
   {
    "duration": 52,
    "start_time": "2023-10-12T07:38:54.608Z"
   },
   {
    "duration": 1528,
    "start_time": "2023-10-12T07:41:00.957Z"
   },
   {
    "duration": 1174,
    "start_time": "2023-10-12T07:41:02.487Z"
   },
   {
    "duration": 6,
    "start_time": "2023-10-12T07:41:03.662Z"
   },
   {
    "duration": 76,
    "start_time": "2023-10-12T07:41:03.671Z"
   },
   {
    "duration": 118,
    "start_time": "2023-10-12T07:41:03.749Z"
   },
   {
    "duration": 598,
    "start_time": "2023-10-12T07:41:03.868Z"
   },
   {
    "duration": 56,
    "start_time": "2023-10-12T07:41:04.468Z"
   },
   {
    "duration": 157,
    "start_time": "2023-10-12T07:41:04.526Z"
   },
   {
    "duration": 133,
    "start_time": "2023-10-12T07:41:04.686Z"
   },
   {
    "duration": 67,
    "start_time": "2023-10-12T07:41:04.823Z"
   },
   {
    "duration": 5,
    "start_time": "2023-10-12T07:41:04.892Z"
   },
   {
    "duration": 21,
    "start_time": "2023-10-12T07:41:04.902Z"
   },
   {
    "duration": 151,
    "start_time": "2023-10-12T07:41:04.925Z"
   },
   {
    "duration": 105,
    "start_time": "2023-10-12T07:41:05.077Z"
   },
   {
    "duration": 59,
    "start_time": "2023-10-12T07:41:05.184Z"
   },
   {
    "duration": 50,
    "start_time": "2023-10-12T07:41:05.245Z"
   },
   {
    "duration": 42,
    "start_time": "2023-10-12T07:41:05.297Z"
   },
   {
    "duration": 37,
    "start_time": "2023-10-12T07:41:05.341Z"
   },
   {
    "duration": 85,
    "start_time": "2023-10-12T07:41:05.380Z"
   },
   {
    "duration": 103,
    "start_time": "2023-10-12T07:41:05.467Z"
   },
   {
    "duration": 132,
    "start_time": "2023-10-12T07:41:05.572Z"
   },
   {
    "duration": 88,
    "start_time": "2023-10-12T07:41:05.706Z"
   },
   {
    "duration": 18,
    "start_time": "2023-10-12T07:41:05.796Z"
   },
   {
    "duration": 42,
    "start_time": "2023-10-12T07:41:05.817Z"
   },
   {
    "duration": 35,
    "start_time": "2023-10-12T07:41:05.862Z"
   },
   {
    "duration": 12,
    "start_time": "2023-10-12T07:41:05.900Z"
   },
   {
    "duration": 54,
    "start_time": "2023-10-12T07:41:05.914Z"
   },
   {
    "duration": 15,
    "start_time": "2023-10-12T07:41:05.973Z"
   },
   {
    "duration": 55,
    "start_time": "2023-10-12T07:41:05.989Z"
   },
   {
    "duration": 16,
    "start_time": "2023-10-12T07:41:06.046Z"
   },
   {
    "duration": 169,
    "start_time": "2023-10-12T07:41:06.064Z"
   },
   {
    "duration": 150,
    "start_time": "2023-10-12T07:41:06.235Z"
   },
   {
    "duration": 31,
    "start_time": "2023-10-12T07:41:06.387Z"
   },
   {
    "duration": 158,
    "start_time": "2023-10-12T07:41:06.420Z"
   },
   {
    "duration": 22,
    "start_time": "2023-10-12T07:41:06.580Z"
   },
   {
    "duration": 28,
    "start_time": "2023-10-12T07:41:06.604Z"
   },
   {
    "duration": 184,
    "start_time": "2023-10-12T07:41:06.634Z"
   },
   {
    "duration": 16,
    "start_time": "2023-10-12T07:41:06.820Z"
   },
   {
    "duration": 392,
    "start_time": "2023-10-12T07:41:06.838Z"
   },
   {
    "duration": 26,
    "start_time": "2023-10-12T07:41:07.232Z"
   },
   {
    "duration": 19,
    "start_time": "2023-10-12T07:41:07.259Z"
   },
   {
    "duration": 30,
    "start_time": "2023-10-12T07:41:07.279Z"
   },
   {
    "duration": 42,
    "start_time": "2023-10-12T07:41:07.311Z"
   },
   {
    "duration": 24,
    "start_time": "2023-10-12T07:41:07.355Z"
   },
   {
    "duration": 40,
    "start_time": "2023-10-12T07:41:07.381Z"
   },
   {
    "duration": 23,
    "start_time": "2023-10-12T07:41:07.422Z"
   },
   {
    "duration": 57,
    "start_time": "2023-10-12T07:41:07.447Z"
   },
   {
    "duration": 401,
    "start_time": "2023-10-12T07:41:07.506Z"
   },
   {
    "duration": 0,
    "start_time": "2023-10-12T07:41:07.909Z"
   },
   {
    "duration": 0,
    "start_time": "2023-10-12T07:41:07.910Z"
   },
   {
    "duration": 0,
    "start_time": "2023-10-12T07:41:07.911Z"
   },
   {
    "duration": 0,
    "start_time": "2023-10-12T07:41:07.912Z"
   },
   {
    "duration": 0,
    "start_time": "2023-10-12T07:41:07.913Z"
   },
   {
    "duration": 0,
    "start_time": "2023-10-12T07:41:07.914Z"
   },
   {
    "duration": 0,
    "start_time": "2023-10-12T07:41:07.916Z"
   },
   {
    "duration": 0,
    "start_time": "2023-10-12T07:41:07.917Z"
   },
   {
    "duration": 0,
    "start_time": "2023-10-12T07:41:07.918Z"
   },
   {
    "duration": 0,
    "start_time": "2023-10-12T07:41:07.919Z"
   },
   {
    "duration": 0,
    "start_time": "2023-10-12T07:41:07.920Z"
   },
   {
    "duration": 0,
    "start_time": "2023-10-12T07:41:07.921Z"
   },
   {
    "duration": 0,
    "start_time": "2023-10-12T07:41:07.922Z"
   },
   {
    "duration": 0,
    "start_time": "2023-10-12T07:41:07.923Z"
   },
   {
    "duration": 0,
    "start_time": "2023-10-12T07:41:07.924Z"
   },
   {
    "duration": 0,
    "start_time": "2023-10-12T07:41:07.926Z"
   },
   {
    "duration": 0,
    "start_time": "2023-10-12T07:41:07.928Z"
   },
   {
    "duration": 0,
    "start_time": "2023-10-12T07:41:07.929Z"
   },
   {
    "duration": 0,
    "start_time": "2023-10-12T07:41:07.930Z"
   },
   {
    "duration": 1,
    "start_time": "2023-10-12T07:41:07.931Z"
   },
   {
    "duration": 0,
    "start_time": "2023-10-12T07:41:07.933Z"
   },
   {
    "duration": 0,
    "start_time": "2023-10-12T07:41:07.933Z"
   },
   {
    "duration": 0,
    "start_time": "2023-10-12T07:41:07.934Z"
   },
   {
    "duration": 0,
    "start_time": "2023-10-12T07:41:07.936Z"
   },
   {
    "duration": 1354,
    "start_time": "2023-10-12T07:41:36.968Z"
   },
   {
    "duration": 2004,
    "start_time": "2023-10-12T07:41:38.325Z"
   },
   {
    "duration": 5,
    "start_time": "2023-10-12T07:41:40.331Z"
   },
   {
    "duration": 154,
    "start_time": "2023-10-12T07:41:40.338Z"
   },
   {
    "duration": 116,
    "start_time": "2023-10-12T07:41:40.494Z"
   },
   {
    "duration": 545,
    "start_time": "2023-10-12T07:41:40.612Z"
   },
   {
    "duration": 63,
    "start_time": "2023-10-12T07:41:41.159Z"
   },
   {
    "duration": 127,
    "start_time": "2023-10-12T07:41:41.224Z"
   },
   {
    "duration": 17,
    "start_time": "2023-10-12T07:41:41.352Z"
   },
   {
    "duration": 88,
    "start_time": "2023-10-12T07:41:41.372Z"
   },
   {
    "duration": 6,
    "start_time": "2023-10-12T07:41:41.462Z"
   },
   {
    "duration": 36,
    "start_time": "2023-10-12T07:41:41.471Z"
   },
   {
    "duration": 34,
    "start_time": "2023-10-12T07:41:41.509Z"
   },
   {
    "duration": 25,
    "start_time": "2023-10-12T07:41:41.545Z"
   },
   {
    "duration": 25,
    "start_time": "2023-10-12T07:41:41.572Z"
   },
   {
    "duration": 19,
    "start_time": "2023-10-12T07:41:41.599Z"
   },
   {
    "duration": 14,
    "start_time": "2023-10-12T07:41:41.620Z"
   },
   {
    "duration": 18,
    "start_time": "2023-10-12T07:41:41.635Z"
   },
   {
    "duration": 25,
    "start_time": "2023-10-12T07:41:41.654Z"
   },
   {
    "duration": 29,
    "start_time": "2023-10-12T07:41:41.681Z"
   },
   {
    "duration": 19,
    "start_time": "2023-10-12T07:41:41.712Z"
   },
   {
    "duration": 45,
    "start_time": "2023-10-12T07:41:41.732Z"
   },
   {
    "duration": 34,
    "start_time": "2023-10-12T07:41:41.780Z"
   },
   {
    "duration": 21,
    "start_time": "2023-10-12T07:41:41.815Z"
   },
   {
    "duration": 23,
    "start_time": "2023-10-12T07:41:41.838Z"
   },
   {
    "duration": 39,
    "start_time": "2023-10-12T07:41:41.863Z"
   },
   {
    "duration": 36,
    "start_time": "2023-10-12T07:41:41.904Z"
   },
   {
    "duration": 14,
    "start_time": "2023-10-12T07:41:41.945Z"
   },
   {
    "duration": 64,
    "start_time": "2023-10-12T07:41:41.961Z"
   },
   {
    "duration": 18,
    "start_time": "2023-10-12T07:41:42.028Z"
   },
   {
    "duration": 19,
    "start_time": "2023-10-12T07:41:42.048Z"
   },
   {
    "duration": 39,
    "start_time": "2023-10-12T07:41:42.069Z"
   },
   {
    "duration": 20,
    "start_time": "2023-10-12T07:41:42.110Z"
   },
   {
    "duration": 154,
    "start_time": "2023-10-12T07:41:42.132Z"
   },
   {
    "duration": 17,
    "start_time": "2023-10-12T07:41:42.288Z"
   },
   {
    "duration": 44,
    "start_time": "2023-10-12T07:41:42.307Z"
   },
   {
    "duration": 205,
    "start_time": "2023-10-12T07:41:42.353Z"
   },
   {
    "duration": 15,
    "start_time": "2023-10-12T07:41:42.560Z"
   },
   {
    "duration": 287,
    "start_time": "2023-10-12T07:41:42.577Z"
   },
   {
    "duration": 0,
    "start_time": "2023-10-12T07:41:42.867Z"
   },
   {
    "duration": 0,
    "start_time": "2023-10-12T07:41:42.868Z"
   },
   {
    "duration": 0,
    "start_time": "2023-10-12T07:41:42.869Z"
   },
   {
    "duration": 0,
    "start_time": "2023-10-12T07:41:42.871Z"
   },
   {
    "duration": 0,
    "start_time": "2023-10-12T07:41:42.872Z"
   },
   {
    "duration": 0,
    "start_time": "2023-10-12T07:41:42.874Z"
   },
   {
    "duration": 0,
    "start_time": "2023-10-12T07:41:42.875Z"
   },
   {
    "duration": 0,
    "start_time": "2023-10-12T07:41:42.876Z"
   },
   {
    "duration": 0,
    "start_time": "2023-10-12T07:41:42.878Z"
   },
   {
    "duration": 0,
    "start_time": "2023-10-12T07:41:42.879Z"
   },
   {
    "duration": 0,
    "start_time": "2023-10-12T07:41:42.880Z"
   },
   {
    "duration": 0,
    "start_time": "2023-10-12T07:41:42.881Z"
   },
   {
    "duration": 0,
    "start_time": "2023-10-12T07:41:42.901Z"
   },
   {
    "duration": 0,
    "start_time": "2023-10-12T07:41:42.903Z"
   },
   {
    "duration": 0,
    "start_time": "2023-10-12T07:41:42.904Z"
   },
   {
    "duration": 0,
    "start_time": "2023-10-12T07:41:42.905Z"
   },
   {
    "duration": 0,
    "start_time": "2023-10-12T07:41:42.906Z"
   },
   {
    "duration": 0,
    "start_time": "2023-10-12T07:41:42.907Z"
   },
   {
    "duration": 0,
    "start_time": "2023-10-12T07:41:42.908Z"
   },
   {
    "duration": 0,
    "start_time": "2023-10-12T07:41:42.909Z"
   },
   {
    "duration": 0,
    "start_time": "2023-10-12T07:41:42.910Z"
   },
   {
    "duration": 0,
    "start_time": "2023-10-12T07:41:42.911Z"
   },
   {
    "duration": 0,
    "start_time": "2023-10-12T07:41:42.912Z"
   },
   {
    "duration": 0,
    "start_time": "2023-10-12T07:41:42.913Z"
   },
   {
    "duration": 0,
    "start_time": "2023-10-12T07:41:42.914Z"
   },
   {
    "duration": 0,
    "start_time": "2023-10-12T07:41:42.915Z"
   },
   {
    "duration": 0,
    "start_time": "2023-10-12T07:41:42.916Z"
   },
   {
    "duration": 0,
    "start_time": "2023-10-12T07:41:42.917Z"
   },
   {
    "duration": 0,
    "start_time": "2023-10-12T07:41:42.918Z"
   },
   {
    "duration": 0,
    "start_time": "2023-10-12T07:41:42.919Z"
   },
   {
    "duration": 0,
    "start_time": "2023-10-12T07:41:42.920Z"
   },
   {
    "duration": 0,
    "start_time": "2023-10-12T07:41:42.921Z"
   },
   {
    "duration": 0,
    "start_time": "2023-10-12T07:41:42.923Z"
   },
   {
    "duration": 1409,
    "start_time": "2023-10-12T07:42:06.433Z"
   },
   {
    "duration": 1097,
    "start_time": "2023-10-12T07:42:07.844Z"
   },
   {
    "duration": 7,
    "start_time": "2023-10-12T07:42:08.943Z"
   },
   {
    "duration": 635,
    "start_time": "2023-10-12T07:42:08.952Z"
   },
   {
    "duration": 130,
    "start_time": "2023-10-12T07:42:09.589Z"
   },
   {
    "duration": 591,
    "start_time": "2023-10-12T07:42:09.721Z"
   },
   {
    "duration": 43,
    "start_time": "2023-10-12T07:42:10.313Z"
   },
   {
    "duration": 179,
    "start_time": "2023-10-12T07:42:10.359Z"
   },
   {
    "duration": 22,
    "start_time": "2023-10-12T07:42:10.540Z"
   },
   {
    "duration": 79,
    "start_time": "2023-10-12T07:42:10.565Z"
   },
   {
    "duration": 6,
    "start_time": "2023-10-12T07:42:10.645Z"
   },
   {
    "duration": 30,
    "start_time": "2023-10-12T07:42:10.652Z"
   },
   {
    "duration": 19,
    "start_time": "2023-10-12T07:42:10.684Z"
   },
   {
    "duration": 18,
    "start_time": "2023-10-12T07:42:10.705Z"
   },
   {
    "duration": 20,
    "start_time": "2023-10-12T07:42:10.725Z"
   },
   {
    "duration": 62,
    "start_time": "2023-10-12T07:42:10.747Z"
   },
   {
    "duration": 20,
    "start_time": "2023-10-12T07:42:10.811Z"
   },
   {
    "duration": 25,
    "start_time": "2023-10-12T07:42:10.833Z"
   },
   {
    "duration": 52,
    "start_time": "2023-10-12T07:42:10.860Z"
   },
   {
    "duration": 56,
    "start_time": "2023-10-12T07:42:10.914Z"
   },
   {
    "duration": 44,
    "start_time": "2023-10-12T07:42:10.972Z"
   },
   {
    "duration": 79,
    "start_time": "2023-10-12T07:42:11.018Z"
   },
   {
    "duration": 17,
    "start_time": "2023-10-12T07:42:11.099Z"
   },
   {
    "duration": 29,
    "start_time": "2023-10-12T07:42:11.117Z"
   },
   {
    "duration": 45,
    "start_time": "2023-10-12T07:42:11.148Z"
   },
   {
    "duration": 16,
    "start_time": "2023-10-12T07:42:11.194Z"
   },
   {
    "duration": 51,
    "start_time": "2023-10-12T07:42:11.212Z"
   },
   {
    "duration": 18,
    "start_time": "2023-10-12T07:42:11.267Z"
   },
   {
    "duration": 32,
    "start_time": "2023-10-12T07:42:11.287Z"
   },
   {
    "duration": 20,
    "start_time": "2023-10-12T07:42:11.321Z"
   },
   {
    "duration": 36,
    "start_time": "2023-10-12T07:42:11.343Z"
   },
   {
    "duration": 40,
    "start_time": "2023-10-12T07:42:11.381Z"
   },
   {
    "duration": 55,
    "start_time": "2023-10-12T07:42:11.423Z"
   },
   {
    "duration": 165,
    "start_time": "2023-10-12T07:42:11.480Z"
   },
   {
    "duration": 11,
    "start_time": "2023-10-12T07:42:11.647Z"
   },
   {
    "duration": 57,
    "start_time": "2023-10-12T07:42:11.660Z"
   },
   {
    "duration": 157,
    "start_time": "2023-10-12T07:42:11.719Z"
   },
   {
    "duration": 25,
    "start_time": "2023-10-12T07:42:11.878Z"
   },
   {
    "duration": 374,
    "start_time": "2023-10-12T07:42:11.905Z"
   },
   {
    "duration": 156,
    "start_time": "2023-10-12T07:42:12.280Z"
   },
   {
    "duration": 1036,
    "start_time": "2023-10-12T07:42:12.438Z"
   },
   {
    "duration": 92,
    "start_time": "2023-10-12T07:42:13.477Z"
   },
   {
    "duration": 33,
    "start_time": "2023-10-12T07:42:13.571Z"
   },
   {
    "duration": 5,
    "start_time": "2023-10-12T07:42:13.606Z"
   },
   {
    "duration": 19,
    "start_time": "2023-10-12T07:42:13.613Z"
   },
   {
    "duration": 34,
    "start_time": "2023-10-12T07:42:13.633Z"
   },
   {
    "duration": 181,
    "start_time": "2023-10-12T07:42:13.669Z"
   },
   {
    "duration": 208,
    "start_time": "2023-10-12T07:42:13.852Z"
   },
   {
    "duration": 8,
    "start_time": "2023-10-12T07:42:14.062Z"
   },
   {
    "duration": 57,
    "start_time": "2023-10-12T07:42:14.072Z"
   },
   {
    "duration": 51,
    "start_time": "2023-10-12T07:42:14.131Z"
   },
   {
    "duration": 31,
    "start_time": "2023-10-12T07:42:14.183Z"
   },
   {
    "duration": 32,
    "start_time": "2023-10-12T07:42:14.216Z"
   },
   {
    "duration": 50,
    "start_time": "2023-10-12T07:42:14.250Z"
   },
   {
    "duration": 51,
    "start_time": "2023-10-12T07:42:14.303Z"
   },
   {
    "duration": 66,
    "start_time": "2023-10-12T07:42:14.356Z"
   },
   {
    "duration": 24,
    "start_time": "2023-10-12T07:42:14.424Z"
   },
   {
    "duration": 47,
    "start_time": "2023-10-12T07:42:14.449Z"
   },
   {
    "duration": 55,
    "start_time": "2023-10-12T07:42:14.498Z"
   },
   {
    "duration": 63,
    "start_time": "2023-10-12T07:42:14.555Z"
   },
   {
    "duration": 26,
    "start_time": "2023-10-12T07:42:14.620Z"
   },
   {
    "duration": 22,
    "start_time": "2023-10-12T07:42:14.648Z"
   },
   {
    "duration": 79,
    "start_time": "2023-10-12T07:42:14.673Z"
   },
   {
    "duration": 42,
    "start_time": "2023-10-12T07:42:14.754Z"
   },
   {
    "duration": 23,
    "start_time": "2023-10-12T07:42:14.798Z"
   },
   {
    "duration": 17,
    "start_time": "2023-10-12T07:42:14.824Z"
   },
   {
    "duration": 44,
    "start_time": "2023-10-12T07:42:14.844Z"
   },
   {
    "duration": 18,
    "start_time": "2023-10-12T07:42:14.890Z"
   },
   {
    "duration": 243,
    "start_time": "2023-10-12T07:42:14.911Z"
   },
   {
    "duration": 0,
    "start_time": "2023-10-12T07:42:15.156Z"
   },
   {
    "duration": 0,
    "start_time": "2023-10-12T07:42:15.158Z"
   },
   {
    "duration": 0,
    "start_time": "2023-10-12T07:42:15.160Z"
   },
   {
    "duration": 1364,
    "start_time": "2023-10-12T07:42:56.902Z"
   },
   {
    "duration": 1124,
    "start_time": "2023-10-12T07:42:58.267Z"
   },
   {
    "duration": 5,
    "start_time": "2023-10-12T07:42:59.393Z"
   },
   {
    "duration": 238,
    "start_time": "2023-10-12T07:42:59.399Z"
   },
   {
    "duration": 126,
    "start_time": "2023-10-12T07:42:59.639Z"
   },
   {
    "duration": 560,
    "start_time": "2023-10-12T07:42:59.767Z"
   },
   {
    "duration": 41,
    "start_time": "2023-10-12T07:43:00.329Z"
   },
   {
    "duration": 762,
    "start_time": "2023-10-12T07:43:00.372Z"
   },
   {
    "duration": 147,
    "start_time": "2023-10-12T07:43:01.136Z"
   },
   {
    "duration": 187,
    "start_time": "2023-10-12T07:43:01.287Z"
   },
   {
    "duration": 148,
    "start_time": "2023-10-12T07:43:01.475Z"
   },
   {
    "duration": 341,
    "start_time": "2023-10-12T07:43:01.625Z"
   },
   {
    "duration": 821,
    "start_time": "2023-10-12T07:43:01.968Z"
   },
   {
    "duration": 240,
    "start_time": "2023-10-12T07:43:02.791Z"
   },
   {
    "duration": 64,
    "start_time": "2023-10-12T07:43:03.034Z"
   },
   {
    "duration": 74,
    "start_time": "2023-10-12T07:43:03.100Z"
   },
   {
    "duration": 23,
    "start_time": "2023-10-12T07:43:03.177Z"
   },
   {
    "duration": 78,
    "start_time": "2023-10-12T07:43:03.202Z"
   },
   {
    "duration": 82,
    "start_time": "2023-10-12T07:43:03.282Z"
   },
   {
    "duration": 25,
    "start_time": "2023-10-12T07:43:03.366Z"
   },
   {
    "duration": 64,
    "start_time": "2023-10-12T07:43:03.393Z"
   },
   {
    "duration": 71,
    "start_time": "2023-10-12T07:43:03.460Z"
   },
   {
    "duration": 19,
    "start_time": "2023-10-12T07:43:03.533Z"
   },
   {
    "duration": 21,
    "start_time": "2023-10-12T07:43:03.554Z"
   },
   {
    "duration": 43,
    "start_time": "2023-10-12T07:43:03.578Z"
   },
   {
    "duration": 10,
    "start_time": "2023-10-12T07:43:03.622Z"
   },
   {
    "duration": 55,
    "start_time": "2023-10-12T07:43:03.634Z"
   },
   {
    "duration": 19,
    "start_time": "2023-10-12T07:43:03.693Z"
   },
   {
    "duration": 39,
    "start_time": "2023-10-12T07:43:03.713Z"
   },
   {
    "duration": 26,
    "start_time": "2023-10-12T07:43:03.754Z"
   },
   {
    "duration": 29,
    "start_time": "2023-10-12T07:43:03.782Z"
   },
   {
    "duration": 38,
    "start_time": "2023-10-12T07:43:03.813Z"
   },
   {
    "duration": 37,
    "start_time": "2023-10-12T07:43:03.854Z"
   },
   {
    "duration": 161,
    "start_time": "2023-10-12T07:43:03.893Z"
   },
   {
    "duration": 13,
    "start_time": "2023-10-12T07:43:04.056Z"
   },
   {
    "duration": 68,
    "start_time": "2023-10-12T07:43:04.072Z"
   },
   {
    "duration": 139,
    "start_time": "2023-10-12T07:43:04.142Z"
   },
   {
    "duration": 0,
    "start_time": "2023-10-12T07:43:04.283Z"
   },
   {
    "duration": 0,
    "start_time": "2023-10-12T07:43:04.285Z"
   },
   {
    "duration": 0,
    "start_time": "2023-10-12T07:43:04.286Z"
   },
   {
    "duration": 0,
    "start_time": "2023-10-12T07:43:04.288Z"
   },
   {
    "duration": 0,
    "start_time": "2023-10-12T07:43:04.289Z"
   },
   {
    "duration": 0,
    "start_time": "2023-10-12T07:43:04.290Z"
   },
   {
    "duration": 0,
    "start_time": "2023-10-12T07:43:04.291Z"
   },
   {
    "duration": 0,
    "start_time": "2023-10-12T07:43:04.292Z"
   },
   {
    "duration": 0,
    "start_time": "2023-10-12T07:43:04.302Z"
   },
   {
    "duration": 0,
    "start_time": "2023-10-12T07:43:04.305Z"
   },
   {
    "duration": 0,
    "start_time": "2023-10-12T07:43:04.306Z"
   },
   {
    "duration": 0,
    "start_time": "2023-10-12T07:43:04.308Z"
   },
   {
    "duration": 0,
    "start_time": "2023-10-12T07:43:04.309Z"
   },
   {
    "duration": 0,
    "start_time": "2023-10-12T07:43:04.311Z"
   },
   {
    "duration": 0,
    "start_time": "2023-10-12T07:43:04.312Z"
   },
   {
    "duration": 0,
    "start_time": "2023-10-12T07:43:04.314Z"
   },
   {
    "duration": 0,
    "start_time": "2023-10-12T07:43:04.315Z"
   },
   {
    "duration": 0,
    "start_time": "2023-10-12T07:43:04.317Z"
   },
   {
    "duration": 0,
    "start_time": "2023-10-12T07:43:04.318Z"
   },
   {
    "duration": 0,
    "start_time": "2023-10-12T07:43:04.319Z"
   },
   {
    "duration": 0,
    "start_time": "2023-10-12T07:43:04.320Z"
   },
   {
    "duration": 0,
    "start_time": "2023-10-12T07:43:04.322Z"
   },
   {
    "duration": 1,
    "start_time": "2023-10-12T07:43:04.323Z"
   },
   {
    "duration": 0,
    "start_time": "2023-10-12T07:43:04.325Z"
   },
   {
    "duration": 0,
    "start_time": "2023-10-12T07:43:04.326Z"
   },
   {
    "duration": 0,
    "start_time": "2023-10-12T07:43:04.328Z"
   },
   {
    "duration": 0,
    "start_time": "2023-10-12T07:43:04.330Z"
   },
   {
    "duration": 0,
    "start_time": "2023-10-12T07:43:04.331Z"
   },
   {
    "duration": 0,
    "start_time": "2023-10-12T07:43:04.332Z"
   },
   {
    "duration": 0,
    "start_time": "2023-10-12T07:43:04.334Z"
   },
   {
    "duration": 0,
    "start_time": "2023-10-12T07:43:04.340Z"
   },
   {
    "duration": 0,
    "start_time": "2023-10-12T07:43:04.341Z"
   },
   {
    "duration": 0,
    "start_time": "2023-10-12T07:43:04.342Z"
   },
   {
    "duration": 0,
    "start_time": "2023-10-12T07:43:04.343Z"
   },
   {
    "duration": 0,
    "start_time": "2023-10-12T07:43:04.402Z"
   },
   {
    "duration": 1508,
    "start_time": "2023-10-12T07:46:22.006Z"
   },
   {
    "duration": 1293,
    "start_time": "2023-10-12T07:46:23.517Z"
   },
   {
    "duration": 6,
    "start_time": "2023-10-12T07:46:24.812Z"
   },
   {
    "duration": 63,
    "start_time": "2023-10-12T07:46:24.821Z"
   },
   {
    "duration": 134,
    "start_time": "2023-10-12T07:46:24.885Z"
   },
   {
    "duration": 600,
    "start_time": "2023-10-12T07:46:25.021Z"
   },
   {
    "duration": 47,
    "start_time": "2023-10-12T07:46:25.623Z"
   },
   {
    "duration": 150,
    "start_time": "2023-10-12T07:46:25.672Z"
   },
   {
    "duration": 17,
    "start_time": "2023-10-12T07:46:25.824Z"
   },
   {
    "duration": 92,
    "start_time": "2023-10-12T07:46:25.844Z"
   },
   {
    "duration": 6,
    "start_time": "2023-10-12T07:46:25.938Z"
   },
   {
    "duration": 10,
    "start_time": "2023-10-12T07:46:25.946Z"
   },
   {
    "duration": 8,
    "start_time": "2023-10-12T07:46:25.958Z"
   },
   {
    "duration": 43,
    "start_time": "2023-10-12T07:46:25.968Z"
   },
   {
    "duration": 62,
    "start_time": "2023-10-12T07:46:26.013Z"
   },
   {
    "duration": 26,
    "start_time": "2023-10-12T07:46:26.077Z"
   },
   {
    "duration": 34,
    "start_time": "2023-10-12T07:46:26.106Z"
   },
   {
    "duration": 56,
    "start_time": "2023-10-12T07:46:26.142Z"
   },
   {
    "duration": 56,
    "start_time": "2023-10-12T07:46:26.201Z"
   },
   {
    "duration": 29,
    "start_time": "2023-10-12T07:46:26.259Z"
   },
   {
    "duration": 15,
    "start_time": "2023-10-12T07:46:26.291Z"
   },
   {
    "duration": 38,
    "start_time": "2023-10-12T07:46:26.308Z"
   },
   {
    "duration": 19,
    "start_time": "2023-10-12T07:46:26.349Z"
   },
   {
    "duration": 46,
    "start_time": "2023-10-12T07:46:26.370Z"
   },
   {
    "duration": 25,
    "start_time": "2023-10-12T07:46:26.419Z"
   },
   {
    "duration": 10,
    "start_time": "2023-10-12T07:46:26.446Z"
   },
   {
    "duration": 83,
    "start_time": "2023-10-12T07:46:26.458Z"
   },
   {
    "duration": 18,
    "start_time": "2023-10-12T07:46:26.545Z"
   },
   {
    "duration": 43,
    "start_time": "2023-10-12T07:46:26.565Z"
   },
   {
    "duration": 16,
    "start_time": "2023-10-12T07:46:26.610Z"
   },
   {
    "duration": 38,
    "start_time": "2023-10-12T07:46:26.628Z"
   },
   {
    "duration": 50,
    "start_time": "2023-10-12T07:46:26.667Z"
   },
   {
    "duration": 38,
    "start_time": "2023-10-12T07:46:26.719Z"
   },
   {
    "duration": 178,
    "start_time": "2023-10-12T07:46:26.759Z"
   },
   {
    "duration": 14,
    "start_time": "2023-10-12T07:46:26.939Z"
   },
   {
    "duration": 71,
    "start_time": "2023-10-12T07:46:26.955Z"
   },
   {
    "duration": 181,
    "start_time": "2023-10-12T07:46:27.027Z"
   },
   {
    "duration": 22,
    "start_time": "2023-10-12T07:46:27.211Z"
   },
   {
    "duration": 344,
    "start_time": "2023-10-12T07:46:27.235Z"
   },
   {
    "duration": 39,
    "start_time": "2023-10-12T07:46:27.581Z"
   },
   {
    "duration": 19,
    "start_time": "2023-10-12T07:46:27.622Z"
   },
   {
    "duration": 60,
    "start_time": "2023-10-12T07:46:27.643Z"
   },
   {
    "duration": 28,
    "start_time": "2023-10-12T07:46:27.705Z"
   },
   {
    "duration": 30,
    "start_time": "2023-10-12T07:46:27.735Z"
   },
   {
    "duration": 44,
    "start_time": "2023-10-12T07:46:27.767Z"
   },
   {
    "duration": 71,
    "start_time": "2023-10-12T07:46:27.813Z"
   },
   {
    "duration": 156,
    "start_time": "2023-10-12T07:46:27.886Z"
   },
   {
    "duration": 169,
    "start_time": "2023-10-12T07:46:28.044Z"
   },
   {
    "duration": 6,
    "start_time": "2023-10-12T07:46:28.216Z"
   },
   {
    "duration": 32,
    "start_time": "2023-10-12T07:46:28.224Z"
   },
   {
    "duration": 48,
    "start_time": "2023-10-12T07:46:28.258Z"
   },
   {
    "duration": 59,
    "start_time": "2023-10-12T07:46:28.308Z"
   },
   {
    "duration": 49,
    "start_time": "2023-10-12T07:46:28.369Z"
   },
   {
    "duration": 50,
    "start_time": "2023-10-12T07:46:28.421Z"
   },
   {
    "duration": 34,
    "start_time": "2023-10-12T07:46:28.473Z"
   },
   {
    "duration": 162,
    "start_time": "2023-10-12T07:46:28.510Z"
   },
   {
    "duration": 24,
    "start_time": "2023-10-12T07:46:28.674Z"
   },
   {
    "duration": 47,
    "start_time": "2023-10-12T07:46:28.700Z"
   },
   {
    "duration": 38,
    "start_time": "2023-10-12T07:46:28.750Z"
   },
   {
    "duration": 34,
    "start_time": "2023-10-12T07:46:28.791Z"
   },
   {
    "duration": 23,
    "start_time": "2023-10-12T07:46:28.827Z"
   },
   {
    "duration": 87,
    "start_time": "2023-10-12T07:46:28.852Z"
   },
   {
    "duration": 51,
    "start_time": "2023-10-12T07:46:28.942Z"
   },
   {
    "duration": 34,
    "start_time": "2023-10-12T07:46:28.995Z"
   },
   {
    "duration": 24,
    "start_time": "2023-10-12T07:46:29.031Z"
   },
   {
    "duration": 55,
    "start_time": "2023-10-12T07:46:29.057Z"
   },
   {
    "duration": 37,
    "start_time": "2023-10-12T07:46:29.114Z"
   },
   {
    "duration": 27,
    "start_time": "2023-10-12T07:46:29.153Z"
   },
   {
    "duration": 204,
    "start_time": "2023-10-12T07:46:29.182Z"
   },
   {
    "duration": 0,
    "start_time": "2023-10-12T07:46:29.388Z"
   },
   {
    "duration": 0,
    "start_time": "2023-10-12T07:46:29.390Z"
   },
   {
    "duration": 0,
    "start_time": "2023-10-12T07:46:29.401Z"
   },
   {
    "duration": 1498,
    "start_time": "2023-10-12T07:50:00.082Z"
   },
   {
    "duration": 2084,
    "start_time": "2023-10-12T07:50:01.582Z"
   },
   {
    "duration": 8,
    "start_time": "2023-10-12T07:50:03.668Z"
   },
   {
    "duration": 248,
    "start_time": "2023-10-12T07:50:03.679Z"
   },
   {
    "duration": 153,
    "start_time": "2023-10-12T07:50:03.929Z"
   },
   {
    "duration": 633,
    "start_time": "2023-10-12T07:50:04.083Z"
   },
   {
    "duration": 84,
    "start_time": "2023-10-12T07:50:04.718Z"
   },
   {
    "duration": 126,
    "start_time": "2023-10-12T07:50:04.804Z"
   },
   {
    "duration": 17,
    "start_time": "2023-10-12T07:50:04.932Z"
   },
   {
    "duration": 97,
    "start_time": "2023-10-12T07:50:04.953Z"
   },
   {
    "duration": 5,
    "start_time": "2023-10-12T07:50:05.052Z"
   },
   {
    "duration": 42,
    "start_time": "2023-10-12T07:50:05.059Z"
   },
   {
    "duration": 28,
    "start_time": "2023-10-12T07:50:05.103Z"
   },
   {
    "duration": 20,
    "start_time": "2023-10-12T07:50:05.133Z"
   },
   {
    "duration": 19,
    "start_time": "2023-10-12T07:50:05.155Z"
   },
   {
    "duration": 50,
    "start_time": "2023-10-12T07:50:05.176Z"
   },
   {
    "duration": 17,
    "start_time": "2023-10-12T07:50:05.228Z"
   },
   {
    "duration": 37,
    "start_time": "2023-10-12T07:50:05.247Z"
   },
   {
    "duration": 58,
    "start_time": "2023-10-12T07:50:05.286Z"
   },
   {
    "duration": 69,
    "start_time": "2023-10-12T07:50:05.346Z"
   },
   {
    "duration": 33,
    "start_time": "2023-10-12T07:50:05.417Z"
   },
   {
    "duration": 58,
    "start_time": "2023-10-12T07:50:05.451Z"
   },
   {
    "duration": 17,
    "start_time": "2023-10-12T07:50:05.511Z"
   },
   {
    "duration": 57,
    "start_time": "2023-10-12T07:50:05.530Z"
   },
   {
    "duration": 36,
    "start_time": "2023-10-12T07:50:05.589Z"
   },
   {
    "duration": 72,
    "start_time": "2023-10-12T07:50:05.627Z"
   },
   {
    "duration": 104,
    "start_time": "2023-10-12T07:50:05.701Z"
   },
   {
    "duration": 51,
    "start_time": "2023-10-12T07:50:05.809Z"
   },
   {
    "duration": 53,
    "start_time": "2023-10-12T07:50:05.862Z"
   },
   {
    "duration": 27,
    "start_time": "2023-10-12T07:50:05.917Z"
   },
   {
    "duration": 26,
    "start_time": "2023-10-12T07:50:05.946Z"
   },
   {
    "duration": 91,
    "start_time": "2023-10-12T07:50:05.974Z"
   },
   {
    "duration": 115,
    "start_time": "2023-10-12T07:50:06.067Z"
   },
   {
    "duration": 168,
    "start_time": "2023-10-12T07:50:06.183Z"
   },
   {
    "duration": 11,
    "start_time": "2023-10-12T07:50:06.353Z"
   },
   {
    "duration": 57,
    "start_time": "2023-10-12T07:50:06.366Z"
   },
   {
    "duration": 199,
    "start_time": "2023-10-12T07:50:06.425Z"
   },
   {
    "duration": 16,
    "start_time": "2023-10-12T07:50:06.626Z"
   },
   {
    "duration": 354,
    "start_time": "2023-10-12T07:50:06.644Z"
   },
   {
    "duration": 30,
    "start_time": "2023-10-12T07:50:07.001Z"
   },
   {
    "duration": 44,
    "start_time": "2023-10-12T07:50:07.033Z"
   },
   {
    "duration": 47,
    "start_time": "2023-10-12T07:50:07.079Z"
   },
   {
    "duration": 35,
    "start_time": "2023-10-12T07:50:07.128Z"
   },
   {
    "duration": 35,
    "start_time": "2023-10-12T07:50:07.166Z"
   },
   {
    "duration": 22,
    "start_time": "2023-10-12T07:50:07.202Z"
   },
   {
    "duration": 17,
    "start_time": "2023-10-12T07:50:07.226Z"
   },
   {
    "duration": 198,
    "start_time": "2023-10-12T07:50:07.245Z"
   },
   {
    "duration": 183,
    "start_time": "2023-10-12T07:50:07.445Z"
   },
   {
    "duration": 8,
    "start_time": "2023-10-12T07:50:07.630Z"
   },
   {
    "duration": 59,
    "start_time": "2023-10-12T07:50:07.640Z"
   },
   {
    "duration": 78,
    "start_time": "2023-10-12T07:50:07.701Z"
   },
   {
    "duration": 45,
    "start_time": "2023-10-12T07:50:07.782Z"
   },
   {
    "duration": 8,
    "start_time": "2023-10-12T07:50:07.829Z"
   },
   {
    "duration": 37,
    "start_time": "2023-10-12T07:50:07.839Z"
   },
   {
    "duration": 59,
    "start_time": "2023-10-12T07:50:07.878Z"
   },
   {
    "duration": 35,
    "start_time": "2023-10-12T07:50:07.939Z"
   },
   {
    "duration": 35,
    "start_time": "2023-10-12T07:50:07.976Z"
   },
   {
    "duration": 41,
    "start_time": "2023-10-12T07:50:08.013Z"
   },
   {
    "duration": 31,
    "start_time": "2023-10-12T07:50:08.057Z"
   },
   {
    "duration": 36,
    "start_time": "2023-10-12T07:50:08.090Z"
   },
   {
    "duration": 93,
    "start_time": "2023-10-12T07:50:08.128Z"
   },
   {
    "duration": 54,
    "start_time": "2023-10-12T07:50:08.223Z"
   },
   {
    "duration": 89,
    "start_time": "2023-10-12T07:50:08.280Z"
   },
   {
    "duration": 40,
    "start_time": "2023-10-12T07:50:08.371Z"
   },
   {
    "duration": 18,
    "start_time": "2023-10-12T07:50:08.414Z"
   },
   {
    "duration": 36,
    "start_time": "2023-10-12T07:50:08.435Z"
   },
   {
    "duration": 48,
    "start_time": "2023-10-12T07:50:08.474Z"
   },
   {
    "duration": 38,
    "start_time": "2023-10-12T07:50:08.524Z"
   },
   {
    "duration": 84,
    "start_time": "2023-10-12T07:50:08.563Z"
   },
   {
    "duration": 67,
    "start_time": "2023-10-12T07:50:08.649Z"
   },
   {
    "duration": 50,
    "start_time": "2023-10-12T07:50:08.718Z"
   },
   {
    "duration": 76,
    "start_time": "2023-10-12T07:50:08.770Z"
   },
   {
    "duration": 1481,
    "start_time": "2023-10-12T07:55:07.893Z"
   },
   {
    "duration": 1458,
    "start_time": "2023-10-12T07:55:09.377Z"
   },
   {
    "duration": 5,
    "start_time": "2023-10-12T07:55:10.837Z"
   },
   {
    "duration": 104,
    "start_time": "2023-10-12T07:55:10.844Z"
   },
   {
    "duration": 227,
    "start_time": "2023-10-12T07:55:11.001Z"
   },
   {
    "duration": 1394,
    "start_time": "2023-10-12T07:55:11.230Z"
   },
   {
    "duration": 110,
    "start_time": "2023-10-12T07:55:12.626Z"
   },
   {
    "duration": 133,
    "start_time": "2023-10-12T07:55:12.738Z"
   },
   {
    "duration": 31,
    "start_time": "2023-10-12T07:55:12.873Z"
   },
   {
    "duration": 60,
    "start_time": "2023-10-12T07:55:12.908Z"
   },
   {
    "duration": 5,
    "start_time": "2023-10-12T07:55:12.970Z"
   },
   {
    "duration": 41,
    "start_time": "2023-10-12T07:55:12.977Z"
   },
   {
    "duration": 7,
    "start_time": "2023-10-12T07:55:13.020Z"
   },
   {
    "duration": 10,
    "start_time": "2023-10-12T07:55:13.029Z"
   },
   {
    "duration": 18,
    "start_time": "2023-10-12T07:55:13.041Z"
   },
   {
    "duration": 30,
    "start_time": "2023-10-12T07:55:13.061Z"
   },
   {
    "duration": 28,
    "start_time": "2023-10-12T07:55:13.092Z"
   },
   {
    "duration": 13,
    "start_time": "2023-10-12T07:55:13.122Z"
   },
   {
    "duration": 21,
    "start_time": "2023-10-12T07:55:13.137Z"
   },
   {
    "duration": 41,
    "start_time": "2023-10-12T07:55:13.160Z"
   },
   {
    "duration": 16,
    "start_time": "2023-10-12T07:55:13.209Z"
   },
   {
    "duration": 53,
    "start_time": "2023-10-12T07:55:13.227Z"
   },
   {
    "duration": 37,
    "start_time": "2023-10-12T07:55:13.282Z"
   },
   {
    "duration": 23,
    "start_time": "2023-10-12T07:55:13.321Z"
   },
   {
    "duration": 138,
    "start_time": "2023-10-12T07:55:13.347Z"
   },
   {
    "duration": 24,
    "start_time": "2023-10-12T07:55:13.487Z"
   },
   {
    "duration": 34,
    "start_time": "2023-10-12T07:55:13.518Z"
   },
   {
    "duration": 17,
    "start_time": "2023-10-12T07:55:13.557Z"
   },
   {
    "duration": 41,
    "start_time": "2023-10-12T07:55:13.576Z"
   },
   {
    "duration": 16,
    "start_time": "2023-10-12T07:55:13.619Z"
   },
   {
    "duration": 16,
    "start_time": "2023-10-12T07:55:13.637Z"
   },
   {
    "duration": 50,
    "start_time": "2023-10-12T07:55:13.654Z"
   },
   {
    "duration": 79,
    "start_time": "2023-10-12T07:55:13.707Z"
   },
   {
    "duration": 207,
    "start_time": "2023-10-12T07:55:13.788Z"
   },
   {
    "duration": 23,
    "start_time": "2023-10-12T07:55:14.001Z"
   },
   {
    "duration": 43,
    "start_time": "2023-10-12T07:55:14.026Z"
   },
   {
    "duration": 188,
    "start_time": "2023-10-12T07:55:14.071Z"
   },
   {
    "duration": 21,
    "start_time": "2023-10-12T07:55:14.261Z"
   },
   {
    "duration": 366,
    "start_time": "2023-10-12T07:55:14.283Z"
   },
   {
    "duration": 30,
    "start_time": "2023-10-12T07:55:14.651Z"
   },
   {
    "duration": 45,
    "start_time": "2023-10-12T07:55:14.684Z"
   },
   {
    "duration": 45,
    "start_time": "2023-10-12T07:55:14.731Z"
   },
   {
    "duration": 28,
    "start_time": "2023-10-12T07:55:14.778Z"
   },
   {
    "duration": 23,
    "start_time": "2023-10-12T07:55:14.808Z"
   },
   {
    "duration": 51,
    "start_time": "2023-10-12T07:55:14.833Z"
   },
   {
    "duration": 33,
    "start_time": "2023-10-12T07:55:14.886Z"
   },
   {
    "duration": 150,
    "start_time": "2023-10-12T07:55:14.921Z"
   },
   {
    "duration": 287,
    "start_time": "2023-10-12T07:55:15.073Z"
   },
   {
    "duration": 10,
    "start_time": "2023-10-12T07:55:15.362Z"
   },
   {
    "duration": 52,
    "start_time": "2023-10-12T07:55:15.374Z"
   },
   {
    "duration": 35,
    "start_time": "2023-10-12T07:55:15.428Z"
   },
   {
    "duration": 55,
    "start_time": "2023-10-12T07:55:15.466Z"
   },
   {
    "duration": 7,
    "start_time": "2023-10-12T07:55:15.523Z"
   },
   {
    "duration": 20,
    "start_time": "2023-10-12T07:55:15.532Z"
   },
   {
    "duration": 31,
    "start_time": "2023-10-12T07:55:15.554Z"
   },
   {
    "duration": 78,
    "start_time": "2023-10-12T07:55:15.587Z"
   },
   {
    "duration": 30,
    "start_time": "2023-10-12T07:55:15.667Z"
   },
   {
    "duration": 25,
    "start_time": "2023-10-12T07:55:15.699Z"
   },
   {
    "duration": 15,
    "start_time": "2023-10-12T07:55:15.726Z"
   },
   {
    "duration": 104,
    "start_time": "2023-10-12T07:55:15.743Z"
   },
   {
    "duration": 20,
    "start_time": "2023-10-12T07:55:15.849Z"
   },
   {
    "duration": 23,
    "start_time": "2023-10-12T07:55:15.871Z"
   },
   {
    "duration": 46,
    "start_time": "2023-10-12T07:55:15.897Z"
   },
   {
    "duration": 28,
    "start_time": "2023-10-12T07:55:15.945Z"
   },
   {
    "duration": 68,
    "start_time": "2023-10-12T07:55:15.975Z"
   },
   {
    "duration": 16,
    "start_time": "2023-10-12T07:55:16.046Z"
   },
   {
    "duration": 71,
    "start_time": "2023-10-12T07:55:16.064Z"
   },
   {
    "duration": 17,
    "start_time": "2023-10-12T07:55:16.137Z"
   },
   {
    "duration": 90,
    "start_time": "2023-10-12T07:55:16.156Z"
   },
   {
    "duration": 85,
    "start_time": "2023-10-12T07:55:16.249Z"
   },
   {
    "duration": 70,
    "start_time": "2023-10-12T07:55:16.336Z"
   },
   {
    "duration": 56,
    "start_time": "2023-10-12T07:55:16.411Z"
   },
   {
    "duration": 1296,
    "start_time": "2023-10-12T14:14:22.134Z"
   },
   {
    "duration": 2923,
    "start_time": "2023-10-12T14:14:23.432Z"
   },
   {
    "duration": 5,
    "start_time": "2023-10-12T14:14:26.357Z"
   },
   {
    "duration": 67,
    "start_time": "2023-10-12T14:14:26.364Z"
   },
   {
    "duration": 107,
    "start_time": "2023-10-12T14:14:26.433Z"
   },
   {
    "duration": 493,
    "start_time": "2023-10-12T14:14:26.542Z"
   },
   {
    "duration": 38,
    "start_time": "2023-10-12T14:14:27.037Z"
   },
   {
    "duration": 130,
    "start_time": "2023-10-12T14:14:27.077Z"
   },
   {
    "duration": 14,
    "start_time": "2023-10-12T14:14:27.208Z"
   },
   {
    "duration": 60,
    "start_time": "2023-10-12T14:14:27.224Z"
   },
   {
    "duration": 5,
    "start_time": "2023-10-12T14:14:27.286Z"
   },
   {
    "duration": 236,
    "start_time": "2023-10-12T14:14:27.307Z"
   },
   {
    "duration": 24,
    "start_time": "2023-10-12T14:14:27.545Z"
   },
   {
    "duration": 25,
    "start_time": "2023-10-12T14:14:27.571Z"
   },
   {
    "duration": 33,
    "start_time": "2023-10-12T14:14:27.597Z"
   },
   {
    "duration": 26,
    "start_time": "2023-10-12T14:14:27.632Z"
   },
   {
    "duration": 11,
    "start_time": "2023-10-12T14:14:27.659Z"
   },
   {
    "duration": 15,
    "start_time": "2023-10-12T14:14:27.671Z"
   },
   {
    "duration": 22,
    "start_time": "2023-10-12T14:14:27.688Z"
   },
   {
    "duration": 41,
    "start_time": "2023-10-12T14:14:27.712Z"
   },
   {
    "duration": 27,
    "start_time": "2023-10-12T14:14:27.754Z"
   },
   {
    "duration": 51,
    "start_time": "2023-10-12T14:14:27.782Z"
   },
   {
    "duration": 14,
    "start_time": "2023-10-12T14:14:27.835Z"
   },
   {
    "duration": 27,
    "start_time": "2023-10-12T14:14:27.850Z"
   },
   {
    "duration": 29,
    "start_time": "2023-10-12T14:14:27.879Z"
   },
   {
    "duration": 16,
    "start_time": "2023-10-12T14:14:27.910Z"
   },
   {
    "duration": 111,
    "start_time": "2023-10-12T14:14:27.927Z"
   },
   {
    "duration": 43,
    "start_time": "2023-10-12T14:14:28.042Z"
   },
   {
    "duration": 37,
    "start_time": "2023-10-12T14:14:28.086Z"
   },
   {
    "duration": 12,
    "start_time": "2023-10-12T14:14:28.125Z"
   },
   {
    "duration": 21,
    "start_time": "2023-10-12T14:14:28.138Z"
   },
   {
    "duration": 50,
    "start_time": "2023-10-12T14:14:28.160Z"
   },
   {
    "duration": 23,
    "start_time": "2023-10-12T14:14:28.211Z"
   },
   {
    "duration": 130,
    "start_time": "2023-10-12T14:14:28.235Z"
   },
   {
    "duration": 11,
    "start_time": "2023-10-12T14:14:28.367Z"
   },
   {
    "duration": 47,
    "start_time": "2023-10-12T14:14:28.379Z"
   },
   {
    "duration": 714,
    "start_time": "2023-10-12T14:14:28.427Z"
   },
   {
    "duration": 14,
    "start_time": "2023-10-12T14:14:29.142Z"
   },
   {
    "duration": 321,
    "start_time": "2023-10-12T14:14:29.157Z"
   },
   {
    "duration": 23,
    "start_time": "2023-10-12T14:14:29.479Z"
   },
   {
    "duration": 15,
    "start_time": "2023-10-12T14:14:29.503Z"
   },
   {
    "duration": 28,
    "start_time": "2023-10-12T14:14:29.519Z"
   },
   {
    "duration": 29,
    "start_time": "2023-10-12T14:14:29.548Z"
   },
   {
    "duration": 35,
    "start_time": "2023-10-12T14:14:29.579Z"
   },
   {
    "duration": 27,
    "start_time": "2023-10-12T14:14:29.615Z"
   },
   {
    "duration": 24,
    "start_time": "2023-10-12T14:14:29.643Z"
   },
   {
    "duration": 160,
    "start_time": "2023-10-12T14:14:29.669Z"
   },
   {
    "duration": 145,
    "start_time": "2023-10-12T14:14:29.831Z"
   },
   {
    "duration": 5,
    "start_time": "2023-10-12T14:14:29.978Z"
   },
   {
    "duration": 85,
    "start_time": "2023-10-12T14:14:29.985Z"
   },
   {
    "duration": 101,
    "start_time": "2023-10-12T14:14:30.072Z"
   },
   {
    "duration": 45,
    "start_time": "2023-10-12T14:14:30.175Z"
   },
   {
    "duration": 31,
    "start_time": "2023-10-12T14:14:30.221Z"
   },
   {
    "duration": 66,
    "start_time": "2023-10-12T14:14:30.254Z"
   },
   {
    "duration": 79,
    "start_time": "2023-10-12T14:14:30.322Z"
   },
   {
    "duration": 82,
    "start_time": "2023-10-12T14:14:30.402Z"
   },
   {
    "duration": 38,
    "start_time": "2023-10-12T14:14:30.485Z"
   },
   {
    "duration": 59,
    "start_time": "2023-10-12T14:14:30.524Z"
   },
   {
    "duration": 43,
    "start_time": "2023-10-12T14:14:30.584Z"
   },
   {
    "duration": 76,
    "start_time": "2023-10-12T14:14:30.629Z"
   },
   {
    "duration": 46,
    "start_time": "2023-10-12T14:14:30.706Z"
   },
   {
    "duration": 80,
    "start_time": "2023-10-12T14:14:30.753Z"
   },
   {
    "duration": 68,
    "start_time": "2023-10-12T14:14:30.835Z"
   },
   {
    "duration": 344,
    "start_time": "2023-10-12T14:14:30.905Z"
   },
   {
    "duration": 152,
    "start_time": "2023-10-12T14:14:31.251Z"
   },
   {
    "duration": 196,
    "start_time": "2023-10-12T14:14:31.405Z"
   },
   {
    "duration": 69,
    "start_time": "2023-10-12T14:14:31.602Z"
   },
   {
    "duration": 147,
    "start_time": "2023-10-12T14:14:31.672Z"
   },
   {
    "duration": 215,
    "start_time": "2023-10-12T14:14:31.821Z"
   },
   {
    "duration": 48,
    "start_time": "2023-10-12T14:14:32.038Z"
   },
   {
    "duration": 71,
    "start_time": "2023-10-12T14:14:32.087Z"
   },
   {
    "duration": 69,
    "start_time": "2023-10-12T14:14:32.160Z"
   }
  ],
  "kernelspec": {
   "display_name": "Python 3 (ipykernel)",
   "language": "python",
   "name": "python3"
  },
  "language_info": {
   "codemirror_mode": {
    "name": "ipython",
    "version": 3
   },
   "file_extension": ".py",
   "mimetype": "text/x-python",
   "name": "python",
   "nbconvert_exporter": "python",
   "pygments_lexer": "ipython3",
   "version": "3.10.10"
  },
  "toc": {
   "base_numbering": 1,
   "nav_menu": {},
   "number_sections": true,
   "sideBar": true,
   "skip_h1_title": true,
   "title_cell": "Table of Contents",
   "title_sidebar": "Contents",
   "toc_cell": false,
   "toc_position": {
    "height": "calc(100% - 180px)",
    "left": "10px",
    "top": "150px",
    "width": "319.878px"
   },
   "toc_section_display": true,
   "toc_window_display": true
  }
 },
 "nbformat": 4,
 "nbformat_minor": 2
}
