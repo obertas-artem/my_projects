{
 "cells": [
  {
   "cell_type": "markdown",
   "metadata": {},
   "source": [
    "# Онлайн библиотека, SQL проект"
   ]
  },
  {
   "cell_type": "markdown",
   "metadata": {},
   "source": [
    "## Описание данных и задание SQL\n",
    "\n",
    "Коронавирус застал мир врасплох, изменив привычный порядок вещей. В свободное время жители городов больше не выходят на улицу, не посещают кафе и торговые центры. Зато стало больше времени для книг. Это заметили стартаперы — и бросились создавать приложения для тех, кто любит читать.\n",
    "\n",
    "Ваша компания решила быть на волне и купила крупный сервис для чтения книг по подписке. Ваша первая задача как аналитика — проанализировать базу данных.\n",
    "В ней — информация о книгах, издательствах, авторах, а также пользовательские обзоры книг. Эти данные помогут сформулировать ценностное предложение для нового продукта.\n",
    "\n",
    "\n",
    "\n",
    "Таблица `books` содержит данные о книгах:\n",
    "- `book_id` — идентификатор книги;\n",
    "- `author_id` — идентификатор автора;\n",
    "- `title` — название книги;\n",
    "- `num_pages` — количество страниц;\n",
    "- `publication_date` — дата публикации книги;\n",
    "- `publisher_id` — идентификатор издателя.\n",
    "\n",
    "\n",
    "Таблица `authors` cодержит данные об авторах:\n",
    "- `author_id` — идентификатор автора;\n",
    "- `author` — имя автора.\n",
    "\n",
    "\n",
    "Таблица `publishers` cодержит данные об издательствах:\n",
    "- `publisher_id` — идентификатор издательства;\n",
    "- `publisher` — название издательства;\n",
    "\n",
    "Таблица `ratings` cодержит данные о пользовательских оценках книг:\n",
    "- `rating_id` — идентификатор оценки;\n",
    "- `book_id` — идентификатор книги;\n",
    "- `username` — имя пользователя, оставившего оценку;\n",
    "- `rating` — оценка книги.\n",
    "\n",
    "Таблица `reviews` cодержит данные о пользовательских обзорах на книги:\n",
    "- `review_id` — идентификатор обзора;\n",
    "- `book_id` — идентификатор книги;\n",
    "- `username` — имя пользователя, написавшего обзор;\n",
    "- `text` — текст обзора."
   ]
  },
  {
   "cell_type": "markdown",
   "metadata": {},
   "source": [
    "## Как выполнить задание?\n",
    "* Опишите цели исследования;\n",
    "* Исследуйте таблицы — выведите первые строки, посчитайте количество стро в каждой таблице;\n",
    "* Сделайте по одному SQL-запросу для решения каждого задания;\n",
    "* Выведите результат каждого запроса в тетрадке;\n",
    "* Опишите выводы по каждой из решённых задач."
   ]
  },
  {
   "cell_type": "markdown",
   "metadata": {},
   "source": [
    "## Цели исследования: \n",
    "\n",
    "Проанализировать базу данных онлайн библиотеки, ознакомиться с данными и выполнить sql-запросы для формирования целостного представления о сервисе. Сформировать  ценностное предложение для нового продукта.\n"
   ]
  },
  {
   "cell_type": "code",
   "execution_count": 1,
   "metadata": {},
   "outputs": [],
   "source": [
    "# импортируем библиотеки\n",
    "import pandas as pd\n",
    "import sqlalchemy as sa"
   ]
  },
  {
   "cell_type": "code",
   "execution_count": 2,
   "metadata": {},
   "outputs": [],
   "source": [
    "# устанавливаем параметры\n",
    "db_config = {\n",
    "            'user': 'praktikum_student', # имя пользователя\n",
    "            'pwd': 'Sdf4$2;d-d30pp', # пароль\n",
    "            'host': 'rc1b-wcoijxj3yxfsf3fs.mdb.yandexcloud.net',\n",
    "            'port': 6432, # порт подключения\n",
    "            'db': 'data-analyst-final-project-db' # название базы данных\n",
    "            }\n",
    "connection_string = 'postgresql://{user}:{pwd}@{host}:{port}/{db}'.format(**db_config)\n",
    "\n",
    "# сохраняем коннектор\n",
    "engine = sa.create_engine(connection_string, connect_args={'sslmode':'require'})"
   ]
  },
  {
   "cell_type": "code",
   "execution_count": 3,
   "metadata": {},
   "outputs": [],
   "source": [
    "# чтобы выполнить SQL-запрос, пишем функцию с использованием Pandas\n",
    "def get_sql_data(query:str, engine:sa.engine.base.Engine=engine) -> pd.DataFrame:\n",
    "    '''Открываем соединение, получаем данные из sql, закрываем соединение'''\n",
    "    with engine.connect() as con:\n",
    "        return pd.read_sql(sql=sa.text(query), con = con)"
   ]
  },
  {
   "cell_type": "markdown",
   "metadata": {},
   "source": [
    "## Задания\n",
    "\n",
    "1) Посчитайте, сколько книг вышло после 1 января 2000 года;\n",
    "2) Для каждой книги посчитайте количество обзоров и среднюю оценку;\n",
    "3) Определите издательство, которое выпустило наибольшее число книг толще 50 страниц — так вы исключите из анализа брошюры;\n",
    "4) Определите автора с самой высокой средней оценкой книг — учитывайте только книги с 50 и более оценками;\n",
    "5) Посчитайте среднее количество обзоров от пользователей, которые поставили больше 48 оценок.\n"
   ]
  },
  {
   "cell_type": "markdown",
   "metadata": {},
   "source": [
    "## Знакомство с данными"
   ]
  },
  {
   "cell_type": "code",
   "execution_count": 4,
   "metadata": {},
   "outputs": [
    {
     "data": {
      "text/html": [
       "<div>\n",
       "<style scoped>\n",
       "    .dataframe tbody tr th:only-of-type {\n",
       "        vertical-align: middle;\n",
       "    }\n",
       "\n",
       "    .dataframe tbody tr th {\n",
       "        vertical-align: top;\n",
       "    }\n",
       "\n",
       "    .dataframe thead th {\n",
       "        text-align: right;\n",
       "    }\n",
       "</style>\n",
       "<table border=\"1\" class=\"dataframe\">\n",
       "  <thead>\n",
       "    <tr style=\"text-align: right;\">\n",
       "      <th></th>\n",
       "      <th>book_id</th>\n",
       "      <th>author_id</th>\n",
       "      <th>title</th>\n",
       "      <th>num_pages</th>\n",
       "      <th>publication_date</th>\n",
       "      <th>publisher_id</th>\n",
       "    </tr>\n",
       "  </thead>\n",
       "  <tbody>\n",
       "    <tr>\n",
       "      <th>0</th>\n",
       "      <td>1</td>\n",
       "      <td>546</td>\n",
       "      <td>'Salem's Lot</td>\n",
       "      <td>594</td>\n",
       "      <td>2005-11-01</td>\n",
       "      <td>93</td>\n",
       "    </tr>\n",
       "    <tr>\n",
       "      <th>1</th>\n",
       "      <td>2</td>\n",
       "      <td>465</td>\n",
       "      <td>1 000 Places to See Before You Die</td>\n",
       "      <td>992</td>\n",
       "      <td>2003-05-22</td>\n",
       "      <td>336</td>\n",
       "    </tr>\n",
       "    <tr>\n",
       "      <th>2</th>\n",
       "      <td>3</td>\n",
       "      <td>407</td>\n",
       "      <td>13 Little Blue Envelopes (Little Blue Envelope...</td>\n",
       "      <td>322</td>\n",
       "      <td>2010-12-21</td>\n",
       "      <td>135</td>\n",
       "    </tr>\n",
       "    <tr>\n",
       "      <th>3</th>\n",
       "      <td>4</td>\n",
       "      <td>82</td>\n",
       "      <td>1491: New Revelations of the Americas Before C...</td>\n",
       "      <td>541</td>\n",
       "      <td>2006-10-10</td>\n",
       "      <td>309</td>\n",
       "    </tr>\n",
       "    <tr>\n",
       "      <th>4</th>\n",
       "      <td>5</td>\n",
       "      <td>125</td>\n",
       "      <td>1776</td>\n",
       "      <td>386</td>\n",
       "      <td>2006-07-04</td>\n",
       "      <td>268</td>\n",
       "    </tr>\n",
       "  </tbody>\n",
       "</table>\n",
       "</div>"
      ],
      "text/plain": [
       "   book_id  author_id                                              title  \\\n",
       "0        1        546                                       'Salem's Lot   \n",
       "1        2        465                 1 000 Places to See Before You Die   \n",
       "2        3        407  13 Little Blue Envelopes (Little Blue Envelope...   \n",
       "3        4         82  1491: New Revelations of the Americas Before C...   \n",
       "4        5        125                                               1776   \n",
       "\n",
       "   num_pages publication_date  publisher_id  \n",
       "0        594       2005-11-01            93  \n",
       "1        992       2003-05-22           336  \n",
       "2        322       2010-12-21           135  \n",
       "3        541       2006-10-10           309  \n",
       "4        386       2006-07-04           268  "
      ]
     },
     "execution_count": 4,
     "metadata": {},
     "output_type": "execute_result"
    }
   ],
   "source": [
    "# первые 5 строчк таблицы boooks\n",
    "query = '''\n",
    "            SELECT * \n",
    "            FROM books \n",
    "            LIMIT 5\n",
    "        '''\n",
    "get_sql_data(query)"
   ]
  },
  {
   "cell_type": "code",
   "execution_count": 5,
   "metadata": {},
   "outputs": [
    {
     "data": {
      "text/html": [
       "<div>\n",
       "<style scoped>\n",
       "    .dataframe tbody tr th:only-of-type {\n",
       "        vertical-align: middle;\n",
       "    }\n",
       "\n",
       "    .dataframe tbody tr th {\n",
       "        vertical-align: top;\n",
       "    }\n",
       "\n",
       "    .dataframe thead th {\n",
       "        text-align: right;\n",
       "    }\n",
       "</style>\n",
       "<table border=\"1\" class=\"dataframe\">\n",
       "  <thead>\n",
       "    <tr style=\"text-align: right;\">\n",
       "      <th></th>\n",
       "      <th>author_id</th>\n",
       "      <th>author</th>\n",
       "    </tr>\n",
       "  </thead>\n",
       "  <tbody>\n",
       "    <tr>\n",
       "      <th>0</th>\n",
       "      <td>1</td>\n",
       "      <td>A.S. Byatt</td>\n",
       "    </tr>\n",
       "    <tr>\n",
       "      <th>1</th>\n",
       "      <td>2</td>\n",
       "      <td>Aesop/Laura Harris/Laura Gibbs</td>\n",
       "    </tr>\n",
       "    <tr>\n",
       "      <th>2</th>\n",
       "      <td>3</td>\n",
       "      <td>Agatha Christie</td>\n",
       "    </tr>\n",
       "    <tr>\n",
       "      <th>3</th>\n",
       "      <td>4</td>\n",
       "      <td>Alan Brennert</td>\n",
       "    </tr>\n",
       "    <tr>\n",
       "      <th>4</th>\n",
       "      <td>5</td>\n",
       "      <td>Alan Moore/David   Lloyd</td>\n",
       "    </tr>\n",
       "  </tbody>\n",
       "</table>\n",
       "</div>"
      ],
      "text/plain": [
       "   author_id                          author\n",
       "0          1                      A.S. Byatt\n",
       "1          2  Aesop/Laura Harris/Laura Gibbs\n",
       "2          3                 Agatha Christie\n",
       "3          4                   Alan Brennert\n",
       "4          5        Alan Moore/David   Lloyd"
      ]
     },
     "execution_count": 5,
     "metadata": {},
     "output_type": "execute_result"
    }
   ],
   "source": [
    "# первые 5 строчк таблицы authors\n",
    "query = '''  \n",
    "            SELECT * \n",
    "            FROM authors \n",
    "            LIMIT 5\n",
    "        '''\n",
    "get_sql_data(query)"
   ]
  },
  {
   "cell_type": "code",
   "execution_count": 6,
   "metadata": {},
   "outputs": [
    {
     "data": {
      "text/html": [
       "<div>\n",
       "<style scoped>\n",
       "    .dataframe tbody tr th:only-of-type {\n",
       "        vertical-align: middle;\n",
       "    }\n",
       "\n",
       "    .dataframe tbody tr th {\n",
       "        vertical-align: top;\n",
       "    }\n",
       "\n",
       "    .dataframe thead th {\n",
       "        text-align: right;\n",
       "    }\n",
       "</style>\n",
       "<table border=\"1\" class=\"dataframe\">\n",
       "  <thead>\n",
       "    <tr style=\"text-align: right;\">\n",
       "      <th></th>\n",
       "      <th>rating_id</th>\n",
       "      <th>book_id</th>\n",
       "      <th>username</th>\n",
       "      <th>rating</th>\n",
       "    </tr>\n",
       "  </thead>\n",
       "  <tbody>\n",
       "    <tr>\n",
       "      <th>0</th>\n",
       "      <td>1</td>\n",
       "      <td>1</td>\n",
       "      <td>ryanfranco</td>\n",
       "      <td>4</td>\n",
       "    </tr>\n",
       "    <tr>\n",
       "      <th>1</th>\n",
       "      <td>2</td>\n",
       "      <td>1</td>\n",
       "      <td>grantpatricia</td>\n",
       "      <td>2</td>\n",
       "    </tr>\n",
       "    <tr>\n",
       "      <th>2</th>\n",
       "      <td>3</td>\n",
       "      <td>1</td>\n",
       "      <td>brandtandrea</td>\n",
       "      <td>5</td>\n",
       "    </tr>\n",
       "    <tr>\n",
       "      <th>3</th>\n",
       "      <td>4</td>\n",
       "      <td>2</td>\n",
       "      <td>lorichen</td>\n",
       "      <td>3</td>\n",
       "    </tr>\n",
       "    <tr>\n",
       "      <th>4</th>\n",
       "      <td>5</td>\n",
       "      <td>2</td>\n",
       "      <td>mariokeller</td>\n",
       "      <td>2</td>\n",
       "    </tr>\n",
       "  </tbody>\n",
       "</table>\n",
       "</div>"
      ],
      "text/plain": [
       "   rating_id  book_id       username  rating\n",
       "0          1        1     ryanfranco       4\n",
       "1          2        1  grantpatricia       2\n",
       "2          3        1   brandtandrea       5\n",
       "3          4        2       lorichen       3\n",
       "4          5        2    mariokeller       2"
      ]
     },
     "execution_count": 6,
     "metadata": {},
     "output_type": "execute_result"
    }
   ],
   "source": [
    "# первые 5 строчк таблицы ratings\n",
    "query = ''' \n",
    "            SELECT * \n",
    "            FROM ratings \n",
    "            LIMIT 5\n",
    "        '''\n",
    "get_sql_data(query)"
   ]
  },
  {
   "cell_type": "code",
   "execution_count": 7,
   "metadata": {},
   "outputs": [
    {
     "data": {
      "text/html": [
       "<div>\n",
       "<style scoped>\n",
       "    .dataframe tbody tr th:only-of-type {\n",
       "        vertical-align: middle;\n",
       "    }\n",
       "\n",
       "    .dataframe tbody tr th {\n",
       "        vertical-align: top;\n",
       "    }\n",
       "\n",
       "    .dataframe thead th {\n",
       "        text-align: right;\n",
       "    }\n",
       "</style>\n",
       "<table border=\"1\" class=\"dataframe\">\n",
       "  <thead>\n",
       "    <tr style=\"text-align: right;\">\n",
       "      <th></th>\n",
       "      <th>review_id</th>\n",
       "      <th>book_id</th>\n",
       "      <th>username</th>\n",
       "      <th>text</th>\n",
       "    </tr>\n",
       "  </thead>\n",
       "  <tbody>\n",
       "    <tr>\n",
       "      <th>0</th>\n",
       "      <td>1</td>\n",
       "      <td>1</td>\n",
       "      <td>brandtandrea</td>\n",
       "      <td>Mention society tell send professor analysis. ...</td>\n",
       "    </tr>\n",
       "    <tr>\n",
       "      <th>1</th>\n",
       "      <td>2</td>\n",
       "      <td>1</td>\n",
       "      <td>ryanfranco</td>\n",
       "      <td>Foot glass pretty audience hit themselves. Amo...</td>\n",
       "    </tr>\n",
       "    <tr>\n",
       "      <th>2</th>\n",
       "      <td>3</td>\n",
       "      <td>2</td>\n",
       "      <td>lorichen</td>\n",
       "      <td>Listen treat keep worry. Miss husband tax but ...</td>\n",
       "    </tr>\n",
       "    <tr>\n",
       "      <th>3</th>\n",
       "      <td>4</td>\n",
       "      <td>3</td>\n",
       "      <td>johnsonamanda</td>\n",
       "      <td>Finally month interesting blue could nature cu...</td>\n",
       "    </tr>\n",
       "    <tr>\n",
       "      <th>4</th>\n",
       "      <td>5</td>\n",
       "      <td>3</td>\n",
       "      <td>scotttamara</td>\n",
       "      <td>Nation purpose heavy give wait song will. List...</td>\n",
       "    </tr>\n",
       "  </tbody>\n",
       "</table>\n",
       "</div>"
      ],
      "text/plain": [
       "   review_id  book_id       username  \\\n",
       "0          1        1   brandtandrea   \n",
       "1          2        1     ryanfranco   \n",
       "2          3        2       lorichen   \n",
       "3          4        3  johnsonamanda   \n",
       "4          5        3    scotttamara   \n",
       "\n",
       "                                                text  \n",
       "0  Mention society tell send professor analysis. ...  \n",
       "1  Foot glass pretty audience hit themselves. Amo...  \n",
       "2  Listen treat keep worry. Miss husband tax but ...  \n",
       "3  Finally month interesting blue could nature cu...  \n",
       "4  Nation purpose heavy give wait song will. List...  "
      ]
     },
     "execution_count": 7,
     "metadata": {},
     "output_type": "execute_result"
    }
   ],
   "source": [
    "# первые 5 строчк таблицы reviews\n",
    "query = '''\n",
    "            SELECT * \n",
    "            FROM reviews \n",
    "            LIMIT 5\n",
    "        '''\n",
    "get_sql_data(query)"
   ]
  },
  {
   "cell_type": "code",
   "execution_count": 8,
   "metadata": {},
   "outputs": [
    {
     "data": {
      "text/html": [
       "<div>\n",
       "<style scoped>\n",
       "    .dataframe tbody tr th:only-of-type {\n",
       "        vertical-align: middle;\n",
       "    }\n",
       "\n",
       "    .dataframe tbody tr th {\n",
       "        vertical-align: top;\n",
       "    }\n",
       "\n",
       "    .dataframe thead th {\n",
       "        text-align: right;\n",
       "    }\n",
       "</style>\n",
       "<table border=\"1\" class=\"dataframe\">\n",
       "  <thead>\n",
       "    <tr style=\"text-align: right;\">\n",
       "      <th></th>\n",
       "      <th>publisher_id</th>\n",
       "      <th>publisher</th>\n",
       "    </tr>\n",
       "  </thead>\n",
       "  <tbody>\n",
       "    <tr>\n",
       "      <th>0</th>\n",
       "      <td>1</td>\n",
       "      <td>Ace</td>\n",
       "    </tr>\n",
       "    <tr>\n",
       "      <th>1</th>\n",
       "      <td>2</td>\n",
       "      <td>Ace Book</td>\n",
       "    </tr>\n",
       "    <tr>\n",
       "      <th>2</th>\n",
       "      <td>3</td>\n",
       "      <td>Ace Books</td>\n",
       "    </tr>\n",
       "    <tr>\n",
       "      <th>3</th>\n",
       "      <td>4</td>\n",
       "      <td>Ace Hardcover</td>\n",
       "    </tr>\n",
       "    <tr>\n",
       "      <th>4</th>\n",
       "      <td>5</td>\n",
       "      <td>Addison Wesley Publishing Company</td>\n",
       "    </tr>\n",
       "  </tbody>\n",
       "</table>\n",
       "</div>"
      ],
      "text/plain": [
       "   publisher_id                          publisher\n",
       "0             1                                Ace\n",
       "1             2                           Ace Book\n",
       "2             3                          Ace Books\n",
       "3             4                      Ace Hardcover\n",
       "4             5  Addison Wesley Publishing Company"
      ]
     },
     "execution_count": 8,
     "metadata": {},
     "output_type": "execute_result"
    }
   ],
   "source": [
    "# первые 5 строчк таблицы publishers\n",
    "query = ''' \n",
    "            SELECT * \n",
    "            FROM publishers \n",
    "            LIMIT 5\n",
    "        '''\n",
    "get_sql_data(query)"
   ]
  },
  {
   "cell_type": "markdown",
   "metadata": {},
   "source": [
    "## Выполнение заданий"
   ]
  },
  {
   "cell_type": "markdown",
   "metadata": {},
   "source": [
    "### Задание 1. Посчитайте, сколько книг вышло после 1 января 2000 года;"
   ]
  },
  {
   "cell_type": "code",
   "execution_count": 9,
   "metadata": {},
   "outputs": [
    {
     "data": {
      "text/html": [
       "<div>\n",
       "<style scoped>\n",
       "    .dataframe tbody tr th:only-of-type {\n",
       "        vertical-align: middle;\n",
       "    }\n",
       "\n",
       "    .dataframe tbody tr th {\n",
       "        vertical-align: top;\n",
       "    }\n",
       "\n",
       "    .dataframe thead th {\n",
       "        text-align: right;\n",
       "    }\n",
       "</style>\n",
       "<table border=\"1\" class=\"dataframe\">\n",
       "  <thead>\n",
       "    <tr style=\"text-align: right;\">\n",
       "      <th></th>\n",
       "      <th>count</th>\n",
       "    </tr>\n",
       "  </thead>\n",
       "  <tbody>\n",
       "    <tr>\n",
       "      <th>0</th>\n",
       "      <td>819</td>\n",
       "    </tr>\n",
       "  </tbody>\n",
       "</table>\n",
       "</div>"
      ],
      "text/plain": [
       "   count\n",
       "0    819"
      ]
     },
     "execution_count": 9,
     "metadata": {},
     "output_type": "execute_result"
    }
   ],
   "source": [
    "# первые 5 строчк таблицы boooks\n",
    "query = '''\n",
    "                SELECT COUNT(book_id) \n",
    "                FROM books \n",
    "                WHERE publication_date > '2000-01-01'\n",
    "        '''\n",
    "get_sql_data(query)"
   ]
  },
  {
   "cell_type": "markdown",
   "metadata": {},
   "source": [
    "### Вывод \n",
    "\n",
    "После 1 января 2000 года, согласно данным из базы данных, вышло `819` книг"
   ]
  },
  {
   "cell_type": "markdown",
   "metadata": {},
   "source": [
    "### Задание 2. Для каждой книги посчитайте количество обзоров и среднюю оценку;"
   ]
  },
  {
   "cell_type": "code",
   "execution_count": 10,
   "metadata": {},
   "outputs": [
    {
     "data": {
      "text/html": [
       "<div>\n",
       "<style scoped>\n",
       "    .dataframe tbody tr th:only-of-type {\n",
       "        vertical-align: middle;\n",
       "    }\n",
       "\n",
       "    .dataframe tbody tr th {\n",
       "        vertical-align: top;\n",
       "    }\n",
       "\n",
       "    .dataframe thead th {\n",
       "        text-align: right;\n",
       "    }\n",
       "</style>\n",
       "<table border=\"1\" class=\"dataframe\">\n",
       "  <thead>\n",
       "    <tr style=\"text-align: right;\">\n",
       "      <th></th>\n",
       "      <th>book_id</th>\n",
       "      <th>title</th>\n",
       "      <th>avg_rating</th>\n",
       "      <th>review_count</th>\n",
       "    </tr>\n",
       "  </thead>\n",
       "  <tbody>\n",
       "    <tr>\n",
       "      <th>0</th>\n",
       "      <td>948</td>\n",
       "      <td>Twilight (Twilight  #1)</td>\n",
       "      <td>3.66</td>\n",
       "      <td>7</td>\n",
       "    </tr>\n",
       "    <tr>\n",
       "      <th>1</th>\n",
       "      <td>963</td>\n",
       "      <td>Water for Elephants</td>\n",
       "      <td>3.98</td>\n",
       "      <td>6</td>\n",
       "    </tr>\n",
       "    <tr>\n",
       "      <th>2</th>\n",
       "      <td>734</td>\n",
       "      <td>The Glass Castle</td>\n",
       "      <td>4.21</td>\n",
       "      <td>6</td>\n",
       "    </tr>\n",
       "    <tr>\n",
       "      <th>3</th>\n",
       "      <td>302</td>\n",
       "      <td>Harry Potter and the Prisoner of Azkaban (Harr...</td>\n",
       "      <td>4.41</td>\n",
       "      <td>6</td>\n",
       "    </tr>\n",
       "    <tr>\n",
       "      <th>4</th>\n",
       "      <td>695</td>\n",
       "      <td>The Curious Incident of the Dog in the Night-Time</td>\n",
       "      <td>4.08</td>\n",
       "      <td>6</td>\n",
       "    </tr>\n",
       "    <tr>\n",
       "      <th>...</th>\n",
       "      <td>...</td>\n",
       "      <td>...</td>\n",
       "      <td>...</td>\n",
       "      <td>...</td>\n",
       "    </tr>\n",
       "    <tr>\n",
       "      <th>995</th>\n",
       "      <td>83</td>\n",
       "      <td>Anne Rice's The Vampire Lestat: A Graphic Novel</td>\n",
       "      <td>3.67</td>\n",
       "      <td>0</td>\n",
       "    </tr>\n",
       "    <tr>\n",
       "      <th>996</th>\n",
       "      <td>808</td>\n",
       "      <td>The Natural Way to Draw</td>\n",
       "      <td>3.00</td>\n",
       "      <td>0</td>\n",
       "    </tr>\n",
       "    <tr>\n",
       "      <th>997</th>\n",
       "      <td>672</td>\n",
       "      <td>The Cat in the Hat and Other Dr. Seuss Favorites</td>\n",
       "      <td>5.00</td>\n",
       "      <td>0</td>\n",
       "    </tr>\n",
       "    <tr>\n",
       "      <th>998</th>\n",
       "      <td>221</td>\n",
       "      <td>Essential Tales and Poems</td>\n",
       "      <td>4.00</td>\n",
       "      <td>0</td>\n",
       "    </tr>\n",
       "    <tr>\n",
       "      <th>999</th>\n",
       "      <td>191</td>\n",
       "      <td>Disney's Beauty and the Beast (A Little Golden...</td>\n",
       "      <td>4.00</td>\n",
       "      <td>0</td>\n",
       "    </tr>\n",
       "  </tbody>\n",
       "</table>\n",
       "<p>1000 rows × 4 columns</p>\n",
       "</div>"
      ],
      "text/plain": [
       "     book_id                                              title  avg_rating  \\\n",
       "0        948                            Twilight (Twilight  #1)        3.66   \n",
       "1        963                                Water for Elephants        3.98   \n",
       "2        734                                   The Glass Castle        4.21   \n",
       "3        302  Harry Potter and the Prisoner of Azkaban (Harr...        4.41   \n",
       "4        695  The Curious Incident of the Dog in the Night-Time        4.08   \n",
       "..       ...                                                ...         ...   \n",
       "995       83    Anne Rice's The Vampire Lestat: A Graphic Novel        3.67   \n",
       "996      808                            The Natural Way to Draw        3.00   \n",
       "997      672   The Cat in the Hat and Other Dr. Seuss Favorites        5.00   \n",
       "998      221                          Essential Tales and Poems        4.00   \n",
       "999      191  Disney's Beauty and the Beast (A Little Golden...        4.00   \n",
       "\n",
       "     review_count  \n",
       "0               7  \n",
       "1               6  \n",
       "2               6  \n",
       "3               6  \n",
       "4               6  \n",
       "..            ...  \n",
       "995             0  \n",
       "996             0  \n",
       "997             0  \n",
       "998             0  \n",
       "999             0  \n",
       "\n",
       "[1000 rows x 4 columns]"
      ]
     },
     "execution_count": 10,
     "metadata": {},
     "output_type": "execute_result"
    }
   ],
   "source": [
    "query = '''\n",
    "              SELECT b.book_id,\n",
    "                     b.title,\n",
    "                     ROUND (AVG(rtng.rating), 2) AS avg_rating,\n",
    "                     COUNT(DISTINCT rvws.review_id) AS review_count\n",
    "              FROM books AS b\n",
    "              LEFT JOIN reviews AS rvws ON b.book_id = rvws.book_id\n",
    "              LEFT JOIN ratings AS rtng ON b.book_id = rtng.book_id\n",
    "              GROUP BY b.book_id\n",
    "              ORDER BY review_count DESC\n",
    "        '''\n",
    "get_sql_data(query)"
   ]
  },
  {
   "cell_type": "markdown",
   "metadata": {},
   "source": [
    "### Вывод\n",
    "\n",
    "В базе данных максимально количество отзывов на одну книгу - `7`, книга - `Twilight (Twilight #1)`, так же, в базе данных наблюдаются книги без отзывов"
   ]
  },
  {
   "cell_type": "markdown",
   "metadata": {},
   "source": [
    "### Задание 3. Определите издательство, которое выпустило наибольшее число книг толще 50 страниц — так вы исключите из анализа брошюры;"
   ]
  },
  {
   "cell_type": "code",
   "execution_count": 11,
   "metadata": {},
   "outputs": [
    {
     "data": {
      "text/html": [
       "<div>\n",
       "<style scoped>\n",
       "    .dataframe tbody tr th:only-of-type {\n",
       "        vertical-align: middle;\n",
       "    }\n",
       "\n",
       "    .dataframe tbody tr th {\n",
       "        vertical-align: top;\n",
       "    }\n",
       "\n",
       "    .dataframe thead th {\n",
       "        text-align: right;\n",
       "    }\n",
       "</style>\n",
       "<table border=\"1\" class=\"dataframe\">\n",
       "  <thead>\n",
       "    <tr style=\"text-align: right;\">\n",
       "      <th></th>\n",
       "      <th>count</th>\n",
       "      <th>publisher</th>\n",
       "    </tr>\n",
       "  </thead>\n",
       "  <tbody>\n",
       "    <tr>\n",
       "      <th>0</th>\n",
       "      <td>42</td>\n",
       "      <td>Penguin Books</td>\n",
       "    </tr>\n",
       "  </tbody>\n",
       "</table>\n",
       "</div>"
      ],
      "text/plain": [
       "   count      publisher\n",
       "0     42  Penguin Books"
      ]
     },
     "execution_count": 11,
     "metadata": {},
     "output_type": "execute_result"
    }
   ],
   "source": [
    "query = '''\n",
    "            \n",
    "              \n",
    "            WITH\n",
    "            b as (\n",
    "                SELECT publisher_id,\n",
    "                        book_id,\n",
    "                        num_pages\n",
    "                FROM books\n",
    "                WHERE num_pages > 50),\n",
    "            p as (\n",
    "                SELECT *\n",
    "                FROM publishers\n",
    "            )\n",
    "            SELECT COUNT(b.book_id),\n",
    "                    p.publisher\n",
    "            FROM b\n",
    "            LEFT JOIN p ON b.publisher_id = p.publisher_id\n",
    "            GROUP BY p.publisher\n",
    "            ORDER BY count DESC\n",
    "            LIMIT 1\n",
    "            \n",
    "\n",
    "        '''\n",
    "get_sql_data(query)"
   ]
  },
  {
   "cell_type": "markdown",
   "metadata": {},
   "source": [
    "### Вывод\n",
    "\n",
    "Согласно данным из базы данных, больше всего издательств, толще `50` страниц, было у издательства `Penguin Books`"
   ]
  },
  {
   "cell_type": "markdown",
   "metadata": {},
   "source": [
    "### Задание 4. Определите автора с самой высокой средней оценкой книг — учитывайте только книги с 50 и более оценками;"
   ]
  },
  {
   "cell_type": "code",
   "execution_count": 12,
   "metadata": {},
   "outputs": [
    {
     "data": {
      "text/html": [
       "<div>\n",
       "<style scoped>\n",
       "    .dataframe tbody tr th:only-of-type {\n",
       "        vertical-align: middle;\n",
       "    }\n",
       "\n",
       "    .dataframe tbody tr th {\n",
       "        vertical-align: top;\n",
       "    }\n",
       "\n",
       "    .dataframe thead th {\n",
       "        text-align: right;\n",
       "    }\n",
       "</style>\n",
       "<table border=\"1\" class=\"dataframe\">\n",
       "  <thead>\n",
       "    <tr style=\"text-align: right;\">\n",
       "      <th></th>\n",
       "      <th>total_avg</th>\n",
       "      <th>author</th>\n",
       "    </tr>\n",
       "  </thead>\n",
       "  <tbody>\n",
       "    <tr>\n",
       "      <th>0</th>\n",
       "      <td>4.28</td>\n",
       "      <td>J.K. Rowling/Mary GrandPré</td>\n",
       "    </tr>\n",
       "  </tbody>\n",
       "</table>\n",
       "</div>"
      ],
      "text/plain": [
       "   total_avg                      author\n",
       "0       4.28  J.K. Rowling/Mary GrandPré"
      ]
     },
     "execution_count": 12,
     "metadata": {},
     "output_type": "execute_result"
    }
   ],
   "source": [
    "query = '''\n",
    "        WITH\n",
    "            r AS (  \n",
    "                    SELECT book_id,\n",
    "                    COUNT(rating_id) as cnt_rating,\n",
    "                    AVG(rating) as avg_rating\n",
    "                    FROM ratings\n",
    "                    GROUP BY book_id\n",
    "                    HAVING  COUNT(rating_id) >= 50),\n",
    "            b AS (\n",
    "                    SELECT book_id,\n",
    "                            author_id\n",
    "                    FROM books), \n",
    "            a AS (\n",
    "                    SELECT author_id,\n",
    "                            author\n",
    "                    FROM authors)\n",
    "\n",
    "            SELECT ROUND(AVG(r.avg_rating), 2) as total_avg,\n",
    "                    a.author\n",
    "            FROM r\n",
    "            LEFT JOIN b ON r.book_id = b.book_id\n",
    "            LEFT JOIN a ON b.author_id = a.author_id\n",
    "            GROUP BY a.author\n",
    "            ORDER BY total_avg DESC\n",
    "            LIMIT 1;\n",
    "                \n",
    "        '''\n",
    "get_sql_data(query)"
   ]
  },
  {
   "cell_type": "markdown",
   "metadata": {},
   "source": [
    "### Вывод\n",
    "Данные из базы данных говорят, что самый высоко оцениваемый автор, среди авторов, книги которых набрали `50` и более оценок является `J.K. Rowling/Mary GrandPré`"
   ]
  },
  {
   "cell_type": "markdown",
   "metadata": {},
   "source": [
    "### Задание 5. Посчитайте среднее количество обзоров от пользователей, которые поставили больше 48 оценок."
   ]
  },
  {
   "cell_type": "code",
   "execution_count": 13,
   "metadata": {},
   "outputs": [
    {
     "data": {
      "text/html": [
       "<div>\n",
       "<style scoped>\n",
       "    .dataframe tbody tr th:only-of-type {\n",
       "        vertical-align: middle;\n",
       "    }\n",
       "\n",
       "    .dataframe tbody tr th {\n",
       "        vertical-align: top;\n",
       "    }\n",
       "\n",
       "    .dataframe thead th {\n",
       "        text-align: right;\n",
       "    }\n",
       "</style>\n",
       "<table border=\"1\" class=\"dataframe\">\n",
       "  <thead>\n",
       "    <tr style=\"text-align: right;\">\n",
       "      <th></th>\n",
       "      <th>average_reviews</th>\n",
       "    </tr>\n",
       "  </thead>\n",
       "  <tbody>\n",
       "    <tr>\n",
       "      <th>0</th>\n",
       "      <td>24.0</td>\n",
       "    </tr>\n",
       "  </tbody>\n",
       "</table>\n",
       "</div>"
      ],
      "text/plain": [
       "   average_reviews\n",
       "0             24.0"
      ]
     },
     "execution_count": 13,
     "metadata": {},
     "output_type": "execute_result"
    }
   ],
   "source": [
    "query = '''\n",
    "            \n",
    "        SELECT AVG(f.cnt_review) AS average_reviews\n",
    "        FROM (\n",
    "            WITH \n",
    "            rtng AS (\n",
    "                SELECT DISTINCT username, \n",
    "                       COUNT(rating) as cnt_rating\n",
    "                FROM ratings\n",
    "                GROUP BY username\n",
    "                HAVING COUNT(rating) > 48\n",
    "            ),\n",
    "            rvws AS (\n",
    "                SELECT DISTINCT username, \n",
    "                       COUNT(review_id) as cnt_review\n",
    "                FROM reviews\n",
    "                GROUP BY username\n",
    "            )\n",
    "            \n",
    "            SELECT *\n",
    "            FROM rtng\n",
    "            LEFT JOIN rvws ON rtng.username = rvws.username) as f\n",
    "\n",
    "        '''\n",
    "get_sql_data(query)"
   ]
  },
  {
   "cell_type": "markdown",
   "metadata": {},
   "source": [
    "### Вывод\n",
    "В базе данных сервиса хранится информация, согласно которой, активные пользователи, поставившие больше `48` оценок, в среднем делают `24` обзора"
   ]
  },
  {
   "cell_type": "markdown",
   "metadata": {},
   "source": [
    "## Итоговый вывод\n",
    "\n",
    "Проанализировав базу данных крупной онлайн библиотеки по чтению книг, мы, как аналитики, можем сделать следующие выводы:\n",
    "\n",
    "   * в нашей базе данных наблюдается `819` книг, вышедших в 21 веке\n",
    "    \n",
    "   * на первый взгляд, пользователи не очень охотно оставляют обзоры, так, очевидно, бестселлер своего времени, `Twilight (Twilight #1)` собрал всего 7 обзоров. А некоторые книги и вовсе не имеют обзоров.\n",
    "    \n",
    "   * Самое продуктивное издательство - `Penguin Books`, на его счету выпущено `42` книги, толще `50` страниц\n",
    "    \n",
    "   * Самый высоко оцениваемый автор - `J.K. Rowling/Mary GrandPré`, средняя оценка `4.28`\n",
    "    \n",
    "   * В приложении есть активные пользователи, которые поставили больше 48 оценок и их среднее количество оставляемых обзоров - `24`\n",
    "   * Так же стоит отметить, что в данные в базе, на первый взгляд, чистые, названия таблиц и столбцов и их тип данных совпадает с предоставленной er-диаграммой"
   ]
  }
 ],
 "metadata": {
  "ExecuteTimeLog": [
   {
    "duration": 518,
    "start_time": "2023-10-13T04:03:14.421Z"
   },
   {
    "duration": 13420,
    "start_time": "2023-10-13T04:03:14.941Z"
   },
   {
    "duration": 4,
    "start_time": "2023-10-13T04:03:28.362Z"
   },
   {
    "duration": 268,
    "start_time": "2023-10-13T04:03:28.367Z"
   },
   {
    "duration": 54,
    "start_time": "2023-10-13T04:03:28.637Z"
   },
   {
    "duration": 56,
    "start_time": "2023-10-13T04:03:28.692Z"
   },
   {
    "duration": 57,
    "start_time": "2023-10-13T04:03:28.749Z"
   },
   {
    "duration": 52,
    "start_time": "2023-10-13T04:03:28.808Z"
   },
   {
    "duration": 54,
    "start_time": "2023-10-13T04:03:28.862Z"
   },
   {
    "duration": 94,
    "start_time": "2023-10-13T04:03:28.919Z"
   },
   {
    "duration": 55,
    "start_time": "2023-10-13T04:03:29.015Z"
   },
   {
    "duration": 55,
    "start_time": "2023-10-13T04:03:29.072Z"
   },
   {
    "duration": 56,
    "start_time": "2023-10-13T04:03:29.129Z"
   },
   {
    "duration": 57,
    "start_time": "2023-10-13T04:07:48.991Z"
   },
   {
    "duration": 56,
    "start_time": "2023-10-13T04:07:51.971Z"
   },
   {
    "duration": 55,
    "start_time": "2023-10-13T04:08:03.918Z"
   },
   {
    "duration": 124,
    "start_time": "2023-10-13T04:08:06.078Z"
   },
   {
    "duration": 55,
    "start_time": "2023-10-13T04:08:08.305Z"
   },
   {
    "duration": 548,
    "start_time": "2023-10-13T05:07:42.981Z"
   },
   {
    "duration": 10495,
    "start_time": "2023-10-13T05:07:43.530Z"
   },
   {
    "duration": 3,
    "start_time": "2023-10-13T05:07:54.027Z"
   },
   {
    "duration": 255,
    "start_time": "2023-10-13T05:07:54.031Z"
   },
   {
    "duration": 54,
    "start_time": "2023-10-13T05:07:54.288Z"
   },
   {
    "duration": 55,
    "start_time": "2023-10-13T05:07:54.343Z"
   },
   {
    "duration": 55,
    "start_time": "2023-10-13T05:07:54.399Z"
   },
   {
    "duration": 53,
    "start_time": "2023-10-13T05:07:54.456Z"
   },
   {
    "duration": 54,
    "start_time": "2023-10-13T05:07:54.510Z"
   },
   {
    "duration": 95,
    "start_time": "2023-10-13T05:07:54.566Z"
   },
   {
    "duration": 55,
    "start_time": "2023-10-13T05:07:54.662Z"
   },
   {
    "duration": 57,
    "start_time": "2023-10-13T05:07:54.718Z"
   },
   {
    "duration": 57,
    "start_time": "2023-10-13T05:07:54.777Z"
   },
   {
    "duration": 57,
    "start_time": "2023-10-13T05:09:01.497Z"
   },
   {
    "duration": 58,
    "start_time": "2023-10-13T05:09:26.197Z"
   },
   {
    "duration": 59,
    "start_time": "2023-10-13T05:10:37.525Z"
   },
   {
    "duration": 58,
    "start_time": "2023-10-13T05:11:36.861Z"
   },
   {
    "duration": 58,
    "start_time": "2023-10-13T05:11:59.089Z"
   },
   {
    "duration": 56,
    "start_time": "2023-10-13T05:12:05.548Z"
   },
   {
    "duration": 54,
    "start_time": "2023-10-13T05:12:11.174Z"
   },
   {
    "duration": 525,
    "start_time": "2023-10-13T05:14:25.568Z"
   },
   {
    "duration": 14664,
    "start_time": "2023-10-13T05:14:26.095Z"
   },
   {
    "duration": 3,
    "start_time": "2023-10-13T05:14:40.761Z"
   },
   {
    "duration": 284,
    "start_time": "2023-10-13T05:14:40.765Z"
   },
   {
    "duration": 53,
    "start_time": "2023-10-13T05:14:41.050Z"
   },
   {
    "duration": 53,
    "start_time": "2023-10-13T05:14:41.104Z"
   },
   {
    "duration": 54,
    "start_time": "2023-10-13T05:14:41.158Z"
   },
   {
    "duration": 54,
    "start_time": "2023-10-13T05:14:41.213Z"
   },
   {
    "duration": 53,
    "start_time": "2023-10-13T05:14:41.269Z"
   },
   {
    "duration": 94,
    "start_time": "2023-10-13T05:14:41.325Z"
   },
   {
    "duration": 57,
    "start_time": "2023-10-13T05:14:41.421Z"
   },
   {
    "duration": 55,
    "start_time": "2023-10-13T05:14:41.479Z"
   },
   {
    "duration": 56,
    "start_time": "2023-10-13T05:14:41.535Z"
   },
   {
    "duration": 58,
    "start_time": "2023-10-13T05:14:41.593Z"
   },
   {
    "duration": 58,
    "start_time": "2023-10-13T05:14:41.653Z"
   },
   {
    "duration": 59,
    "start_time": "2023-10-13T05:25:57.127Z"
   },
   {
    "duration": 553,
    "start_time": "2023-10-13T15:37:25.508Z"
   },
   {
    "duration": 9998,
    "start_time": "2023-10-13T15:37:26.063Z"
   },
   {
    "duration": 4,
    "start_time": "2023-10-13T15:37:36.062Z"
   },
   {
    "duration": 310,
    "start_time": "2023-10-13T15:37:36.069Z"
   },
   {
    "duration": 53,
    "start_time": "2023-10-13T15:37:36.381Z"
   },
   {
    "duration": 52,
    "start_time": "2023-10-13T15:37:36.436Z"
   },
   {
    "duration": 55,
    "start_time": "2023-10-13T15:37:36.490Z"
   },
   {
    "duration": 53,
    "start_time": "2023-10-13T15:37:36.547Z"
   },
   {
    "duration": 52,
    "start_time": "2023-10-13T15:37:36.602Z"
   },
   {
    "duration": 117,
    "start_time": "2023-10-13T15:37:36.657Z"
   },
   {
    "duration": 53,
    "start_time": "2023-10-13T15:37:36.776Z"
   },
   {
    "duration": 53,
    "start_time": "2023-10-13T15:37:36.831Z"
   },
   {
    "duration": 55,
    "start_time": "2023-10-13T15:37:36.886Z"
   },
   {
    "duration": 56,
    "start_time": "2023-10-13T15:37:36.942Z"
   },
   {
    "duration": 55,
    "start_time": "2023-10-13T15:37:37.000Z"
   }
  ],
  "kernelspec": {
   "display_name": "Python 3 (ipykernel)",
   "language": "python",
   "name": "python3"
  },
  "language_info": {
   "codemirror_mode": {
    "name": "ipython",
    "version": 3
   },
   "file_extension": ".py",
   "mimetype": "text/x-python",
   "name": "python",
   "nbconvert_exporter": "python",
   "pygments_lexer": "ipython3",
   "version": "3.10.10"
  },
  "toc": {
   "base_numbering": 1,
   "nav_menu": {},
   "number_sections": true,
   "sideBar": true,
   "skip_h1_title": true,
   "title_cell": "Table of Contents",
   "title_sidebar": "Contents",
   "toc_cell": false,
   "toc_position": {
    "height": "calc(100% - 180px)",
    "left": "10px",
    "top": "150px",
    "width": "397.995px"
   },
   "toc_section_display": true,
   "toc_window_display": true
  }
 },
 "nbformat": 4,
 "nbformat_minor": 2
}
